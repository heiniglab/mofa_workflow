{
 "cells": [
  {
   "cell_type": "code",
   "execution_count": 1,
   "id": "11006ac8-6902-4835-a5a4-e91d2c4bb172",
   "metadata": {
    "tags": []
   },
   "outputs": [],
   "source": [
    "### Script to set initial values, reset or updates values within configuration files"
   ]
  },
  {
   "cell_type": "markdown",
   "id": "cc453b90-fcbd-4190-9e9d-2adb8b4c9979",
   "metadata": {
    "tags": []
   },
   "source": [
    "#############################################\n",
    "# Prerequisites - Load Libraries"
   ]
  },
  {
   "cell_type": "code",
   "execution_count": 2,
   "id": "6d9be918-2526-45a7-af05-7ed78cbb814c",
   "metadata": {},
   "outputs": [],
   "source": [
    "source('MS1_Functions.r')"
   ]
  },
  {
   "cell_type": "code",
   "execution_count": 3,
   "id": "86f6c1bb-6d6b-425b-9309-084434dba680",
   "metadata": {
    "tags": []
   },
   "outputs": [
    {
     "data": {
      "text/html": [
       "\n",
       "    <style>\n",
       "    .popup {\n",
       "      position: fixed;\n",
       "      top: 10px;\n",
       "      right: 20px;\n",
       "      background-color: #B5DC78;\n",
       "      border: 1px solid #ccc;\n",
       "      padding: 20px;\n",
       "      border-radius: 10px;\n",
       "      box-shadow: 0px 0px 10px rgba(0, 0, 0, 0.1);\n",
       "      display: none; /* Initially hidden */\n",
       "      z-index: 9999; /* Ensure it's on top of other content */\n",
       "      width: 300px; /* Set width of the popup */\n",
       "    }\n",
       "\n",
       "    .popup.show {\n",
       "      display: block; /* Show when .show class is added */\n",
       "    }\n",
       "    </style>\n",
       "\n",
       "    <script>\n",
       "    // Function to show the popup\n",
       "    function showPopup(message) {\n",
       "      var popup = document.getElementById(\"global-popup\");\n",
       "      if (!popup) {\n",
       "        // Inject the popup into the top-level body element if it doesn't exist\n",
       "        popup = document.createElement(\"div\");\n",
       "        popup.id = \"global-popup\";\n",
       "        popup.className = \"popup\";\n",
       "        document.body.appendChild(popup);\n",
       "      }\n",
       "      popup.innerHTML = message;\n",
       "      popup.classList.add(\"show\");\n",
       "\n",
       "      // Automatically hide the popup after 10 seconds (10000 milliseconds)\n",
       "      setTimeout(function(){\n",
       "        popup.classList.remove(\"show\");\n",
       "      }, 10000); // Adjust the time interval as needed\n",
       "    }\n",
       "\n",
       "    // Call the function to show the popup immediately with the provided message\n",
       "    showPopup(\"00_Configuration_Update: Execution Started\");\n",
       "    </script>\n",
       "    "
      ]
     },
     "metadata": {},
     "output_type": "display_data"
    }
   ],
   "source": [
    "### Notify about start of execution\n",
    "popup_function_pos('00_Configuration_Update: Execution Started')"
   ]
  },
  {
   "cell_type": "code",
   "execution_count": 4,
   "id": "28c81249-780b-4cc4-ad33-9efe9d9e183e",
   "metadata": {
    "collapsed": true,
    "jupyter": {
     "outputs_hidden": true
    },
    "tags": []
   },
   "outputs": [
    {
     "name": "stdout",
     "output_type": "stream",
     "text": [
      "[1] \"/opt/conda/envs/mofa_analysis/lib/R/library\"\n"
     ]
    },
    {
     "name": "stderr",
     "output_type": "stream",
     "text": [
      "\n",
      "Attaching package: 'SeuratObject'\n",
      "\n",
      "\n",
      "The following objects are masked from 'package:base':\n",
      "\n",
      "    intersect, t\n",
      "\n",
      "\n",
      "\n",
      "Attaching package: 'dplyr'\n",
      "\n",
      "\n",
      "The following objects are masked from 'package:data.table':\n",
      "\n",
      "    between, first, last\n",
      "\n",
      "\n",
      "The following objects are masked from 'package:stats':\n",
      "\n",
      "    filter, lag\n",
      "\n",
      "\n",
      "The following objects are masked from 'package:base':\n",
      "\n",
      "    intersect, setdiff, setequal, union\n",
      "\n",
      "\n",
      "-- \u001b[1mAttaching core tidyverse packages\u001b[22m ------------------------------------------------ tidyverse 2.0.0 --\n",
      "\u001b[32mv\u001b[39m \u001b[34mforcats  \u001b[39m 1.0.0     \u001b[32mv\u001b[39m \u001b[34mreadr    \u001b[39m 2.1.4\n",
      "\u001b[32mv\u001b[39m \u001b[34mggplot2  \u001b[39m 3.5.1     \u001b[32mv\u001b[39m \u001b[34mtibble   \u001b[39m 3.2.1\n",
      "\u001b[32mv\u001b[39m \u001b[34mlubridate\u001b[39m 1.9.3     \u001b[32mv\u001b[39m \u001b[34mtidyr    \u001b[39m 1.3.1\n",
      "\u001b[32mv\u001b[39m \u001b[34mpurrr    \u001b[39m 1.0.2     \n",
      "-- \u001b[1mConflicts\u001b[22m ------------------------------------------------------------------ tidyverse_conflicts() --\n",
      "\u001b[31mx\u001b[39m \u001b[34mdplyr\u001b[39m::\u001b[32mbetween()\u001b[39m     masks \u001b[34mdata.table\u001b[39m::between()\n",
      "\u001b[31mx\u001b[39m \u001b[34mdplyr\u001b[39m::\u001b[32mfilter()\u001b[39m      masks \u001b[34mstats\u001b[39m::filter()\n",
      "\u001b[31mx\u001b[39m \u001b[34mdplyr\u001b[39m::\u001b[32mfirst()\u001b[39m       masks \u001b[34mdata.table\u001b[39m::first()\n",
      "\u001b[31mx\u001b[39m \u001b[34mlubridate\u001b[39m::\u001b[32mhour()\u001b[39m    masks \u001b[34mdata.table\u001b[39m::hour()\n",
      "\u001b[31mx\u001b[39m \u001b[34mlubridate\u001b[39m::\u001b[32misoweek()\u001b[39m masks \u001b[34mdata.table\u001b[39m::isoweek()\n",
      "\u001b[31mx\u001b[39m \u001b[34mdplyr\u001b[39m::\u001b[32mlag()\u001b[39m         masks \u001b[34mstats\u001b[39m::lag()\n",
      "\u001b[31mx\u001b[39m \u001b[34mdplyr\u001b[39m::\u001b[32mlast()\u001b[39m        masks \u001b[34mdata.table\u001b[39m::last()\n",
      "\u001b[31mx\u001b[39m \u001b[34mlubridate\u001b[39m::\u001b[32mmday()\u001b[39m    masks \u001b[34mdata.table\u001b[39m::mday()\n",
      "\u001b[31mx\u001b[39m \u001b[34mlubridate\u001b[39m::\u001b[32mminute()\u001b[39m  masks \u001b[34mdata.table\u001b[39m::minute()\n",
      "\u001b[31mx\u001b[39m \u001b[34mlubridate\u001b[39m::\u001b[32mmonth()\u001b[39m   masks \u001b[34mdata.table\u001b[39m::month()\n",
      "\u001b[31mx\u001b[39m \u001b[34mlubridate\u001b[39m::\u001b[32mquarter()\u001b[39m masks \u001b[34mdata.table\u001b[39m::quarter()\n",
      "\u001b[31mx\u001b[39m \u001b[34mlubridate\u001b[39m::\u001b[32msecond()\u001b[39m  masks \u001b[34mdata.table\u001b[39m::second()\n",
      "\u001b[31mx\u001b[39m \u001b[34mpurrr\u001b[39m::\u001b[32mtranspose()\u001b[39m   masks \u001b[34mdata.table\u001b[39m::transpose()\n",
      "\u001b[31mx\u001b[39m \u001b[34mlubridate\u001b[39m::\u001b[32mwday()\u001b[39m    masks \u001b[34mdata.table\u001b[39m::wday()\n",
      "\u001b[31mx\u001b[39m \u001b[34mlubridate\u001b[39m::\u001b[32mweek()\u001b[39m    masks \u001b[34mdata.table\u001b[39m::week()\n",
      "\u001b[31mx\u001b[39m \u001b[34mlubridate\u001b[39m::\u001b[32myday()\u001b[39m    masks \u001b[34mdata.table\u001b[39m::yday()\n",
      "\u001b[31mx\u001b[39m \u001b[34mlubridate\u001b[39m::\u001b[32myear()\u001b[39m    masks \u001b[34mdata.table\u001b[39m::year()\n",
      "\u001b[36mi\u001b[39m Use the conflicted package (\u001b[3m\u001b[34m<http://conflicted.r-lib.org/>\u001b[39m\u001b[23m) to force all conflicts to become errors\n",
      "\n",
      "Attaching package: 'reshape2'\n",
      "\n",
      "\n",
      "The following object is masked from 'package:tidyr':\n",
      "\n",
      "    smiths\n",
      "\n",
      "\n",
      "The following objects are masked from 'package:data.table':\n",
      "\n",
      "    dcast, melt\n",
      "\n",
      "\n",
      "Loading required package: lattice\n",
      "\n",
      "\n",
      "Attaching package: 'caret'\n",
      "\n",
      "\n",
      "The following object is masked from 'package:purrr':\n",
      "\n",
      "    lift\n",
      "\n",
      "\n",
      "\n",
      "Attaching package: 'gridExtra'\n",
      "\n",
      "\n",
      "The following object is masked from 'package:dplyr':\n",
      "\n",
      "    combine\n",
      "\n",
      "\n",
      "\n",
      "Attaching package: 'scales'\n",
      "\n",
      "\n",
      "The following object is masked from 'package:purrr':\n",
      "\n",
      "    discard\n",
      "\n",
      "\n",
      "The following object is masked from 'package:readr':\n",
      "\n",
      "    col_factor\n",
      "\n",
      "\n",
      "\n",
      "Attaching package: 'ggraph'\n",
      "\n",
      "\n",
      "The following object is masked from 'package:sp':\n",
      "\n",
      "    geometry\n",
      "\n",
      "\n",
      "corrplot 0.92 loaded\n",
      "\n",
      "\n",
      "Attaching package: 'MOFA2'\n",
      "\n",
      "\n",
      "The following object is masked from 'package:stats':\n",
      "\n",
      "    predict\n",
      "\n",
      "\n",
      "Loading required package: S4Vectors\n",
      "\n",
      "Loading required package: stats4\n",
      "\n",
      "Loading required package: BiocGenerics\n",
      "\n",
      "\n",
      "Attaching package: 'BiocGenerics'\n",
      "\n",
      "\n",
      "The following object is masked from 'package:gridExtra':\n",
      "\n",
      "    combine\n",
      "\n",
      "\n",
      "The following objects are masked from 'package:lubridate':\n",
      "\n",
      "    intersect, setdiff, union\n",
      "\n",
      "\n",
      "The following objects are masked from 'package:dplyr':\n",
      "\n",
      "    combine, intersect, setdiff, union\n",
      "\n",
      "\n",
      "The following object is masked from 'package:SeuratObject':\n",
      "\n",
      "    intersect\n",
      "\n",
      "\n",
      "The following objects are masked from 'package:stats':\n",
      "\n",
      "    IQR, mad, sd, var, xtabs\n",
      "\n",
      "\n",
      "The following objects are masked from 'package:base':\n",
      "\n",
      "    Filter, Find, Map, Position, Reduce, anyDuplicated, aperm, append,\n",
      "    as.data.frame, basename, cbind, colnames, dirname, do.call,\n",
      "    duplicated, eval, evalq, get, grep, grepl, intersect, is.unsorted,\n",
      "    lapply, mapply, match, mget, order, paste, pmax, pmax.int, pmin,\n",
      "    pmin.int, rank, rbind, rownames, sapply, setdiff, sort, table,\n",
      "    tapply, union, unique, unsplit, which.max, which.min\n",
      "\n",
      "\n",
      "\n",
      "Attaching package: 'S4Vectors'\n",
      "\n",
      "\n",
      "The following objects are masked from 'package:lubridate':\n",
      "\n",
      "    second, second<-\n",
      "\n",
      "\n",
      "The following object is masked from 'package:tidyr':\n",
      "\n",
      "    expand\n",
      "\n",
      "\n",
      "The following objects are masked from 'package:dplyr':\n",
      "\n",
      "    first, rename\n",
      "\n",
      "\n",
      "The following objects are masked from 'package:data.table':\n",
      "\n",
      "    first, second\n",
      "\n",
      "\n",
      "The following object is masked from 'package:utils':\n",
      "\n",
      "    findMatches\n",
      "\n",
      "\n",
      "The following objects are masked from 'package:base':\n",
      "\n",
      "    I, expand.grid, unname\n",
      "\n",
      "\n",
      "Loading required package: IRanges\n",
      "\n",
      "\n",
      "Attaching package: 'IRanges'\n",
      "\n",
      "\n",
      "The following object is masked from 'package:lubridate':\n",
      "\n",
      "    %within%\n",
      "\n",
      "\n",
      "The following object is masked from 'package:purrr':\n",
      "\n",
      "    reduce\n",
      "\n",
      "\n",
      "The following objects are masked from 'package:dplyr':\n",
      "\n",
      "    collapse, desc, slice\n",
      "\n",
      "\n",
      "The following object is masked from 'package:data.table':\n",
      "\n",
      "    shift\n",
      "\n",
      "\n",
      "The following object is masked from 'package:sp':\n",
      "\n",
      "    %over%\n",
      "\n",
      "\n",
      "Loading required package: GenomicRanges\n",
      "\n",
      "Loading required package: GenomeInfoDb\n",
      "\n",
      "Loading required package: SummarizedExperiment\n",
      "\n",
      "Loading required package: MatrixGenerics\n",
      "\n",
      "Loading required package: matrixStats\n",
      "\n",
      "\n",
      "Attaching package: 'matrixStats'\n",
      "\n",
      "\n",
      "The following object is masked from 'package:dplyr':\n",
      "\n",
      "    count\n",
      "\n",
      "\n",
      "\n",
      "Attaching package: 'MatrixGenerics'\n",
      "\n",
      "\n",
      "The following objects are masked from 'package:matrixStats':\n",
      "\n",
      "    colAlls, colAnyNAs, colAnys, colAvgsPerRowSet, colCollapse,\n",
      "    colCounts, colCummaxs, colCummins, colCumprods, colCumsums,\n",
      "    colDiffs, colIQRDiffs, colIQRs, colLogSumExps, colMadDiffs,\n",
      "    colMads, colMaxs, colMeans2, colMedians, colMins, colOrderStats,\n",
      "    colProds, colQuantiles, colRanges, colRanks, colSdDiffs, colSds,\n",
      "    colSums2, colTabulates, colVarDiffs, colVars, colWeightedMads,\n",
      "    colWeightedMeans, colWeightedMedians, colWeightedSds,\n",
      "    colWeightedVars, rowAlls, rowAnyNAs, rowAnys, rowAvgsPerColSet,\n",
      "    rowCollapse, rowCounts, rowCummaxs, rowCummins, rowCumprods,\n",
      "    rowCumsums, rowDiffs, rowIQRDiffs, rowIQRs, rowLogSumExps,\n",
      "    rowMadDiffs, rowMads, rowMaxs, rowMeans2, rowMedians, rowMins,\n",
      "    rowOrderStats, rowProds, rowQuantiles, rowRanges, rowRanks,\n",
      "    rowSdDiffs, rowSds, rowSums2, rowTabulates, rowVarDiffs, rowVars,\n",
      "    rowWeightedMads, rowWeightedMeans, rowWeightedMedians,\n",
      "    rowWeightedSds, rowWeightedVars\n",
      "\n",
      "\n",
      "Loading required package: Biobase\n",
      "\n",
      "Welcome to Bioconductor\n",
      "\n",
      "    Vignettes contain introductory material; view with\n",
      "    'browseVignettes()'. To cite Bioconductor, see\n",
      "    'citation(\"Biobase\")', and for packages 'citation(\"pkgname\")'.\n",
      "\n",
      "\n",
      "\n",
      "Attaching package: 'Biobase'\n",
      "\n",
      "\n",
      "The following object is masked from 'package:MatrixGenerics':\n",
      "\n",
      "    rowMedians\n",
      "\n",
      "\n",
      "The following objects are masked from 'package:matrixStats':\n",
      "\n",
      "    anyMissing, rowMedians\n",
      "\n",
      "\n",
      "\n",
      "Attaching package: 'SummarizedExperiment'\n",
      "\n",
      "\n",
      "The following object is masked from 'package:Seurat':\n",
      "\n",
      "    Assays\n",
      "\n",
      "\n",
      "The following object is masked from 'package:SeuratObject':\n",
      "\n",
      "    Assays\n",
      "\n",
      "\n"
     ]
    }
   ],
   "source": [
    "source('MS0_Libraries.r')"
   ]
  },
  {
   "cell_type": "code",
   "execution_count": 5,
   "id": "415df3d3-f739-4487-a5eb-0f93360345d7",
   "metadata": {},
   "outputs": [
    {
     "name": "stderr",
     "output_type": "stream",
     "text": [
      "Warning message:\n",
      "\"\u001b[1m\u001b[22mThe `size` argument of `element_line()` is deprecated as of ggplot2 3.4.0.\n",
      "\u001b[36mi\u001b[39m Please use the `linewidth` argument instead.\"\n"
     ]
    }
   ],
   "source": [
    "source('MS2_Plot_Config.r')"
   ]
  },
  {
   "cell_type": "markdown",
   "id": "b8c67b06-bb34-4043-9374-bceff7808b5b",
   "metadata": {
    "tags": []
   },
   "source": [
    "###############################################\n",
    "# Preqrequisites Configurations & Parameters"
   ]
  },
  {
   "cell_type": "code",
   "execution_count": 6,
   "id": "cc3c6d54-2ef4-4e22-921c-0505600f92ed",
   "metadata": {},
   "outputs": [],
   "source": [
    "### Load the parameters that are set via the configuration files"
   ]
  },
  {
   "cell_type": "code",
   "execution_count": 7,
   "id": "1ae97657-1c48-4110-9f6b-4a99783ce6a8",
   "metadata": {},
   "outputs": [
    {
     "name": "stderr",
     "output_type": "stream",
     "text": [
      "Warning message in read.table(file = file, header = header, sep = sep, quote = quote, :\n",
      "\"incomplete final line found by readTableHeader on 'configurations/Data_Configs.csv'\"\n"
     ]
    }
   ],
   "source": [
    "### Load configurations file\n",
    "global_configs = read.csv('configurations/Data_Configs.csv', sep = ',')"
   ]
  },
  {
   "cell_type": "code",
   "execution_count": 8,
   "id": "7851f9a0-fd9e-48fb-ba40-0afb0b8a1714",
   "metadata": {},
   "outputs": [
    {
     "data": {
      "text/html": [
       "<table class=\"dataframe\">\n",
       "<caption>A data.frame: 3 x 2</caption>\n",
       "<thead>\n",
       "\t<tr><th></th><th scope=col>parameter</th><th scope=col>value</th></tr>\n",
       "\t<tr><th></th><th scope=col>&lt;chr&gt;</th><th scope=col>&lt;chr&gt;</th></tr>\n",
       "</thead>\n",
       "<tbody>\n",
       "\t<tr><th scope=row>1</th><td>data_path         </td><td>/home/icb/corinna.losert/projects/mofa_workflow/input_data/ </td></tr>\n",
       "\t<tr><th scope=row>2</th><td>result_path       </td><td>/home/icb/corinna.losert/projects/mofa_workflow/result_data/</td></tr>\n",
       "\t<tr><th scope=row>3</th><td>configuration_name</td><td>MI_v1                                                       </td></tr>\n",
       "</tbody>\n",
       "</table>\n"
      ],
      "text/latex": [
       "A data.frame: 3 x 2\n",
       "\\begin{tabular}{r|ll}\n",
       "  & parameter & value\\\\\n",
       "  & <chr> & <chr>\\\\\n",
       "\\hline\n",
       "\t1 & data\\_path          & /home/icb/corinna.losert/projects/mofa\\_workflow/input\\_data/ \\\\\n",
       "\t2 & result\\_path        & /home/icb/corinna.losert/projects/mofa\\_workflow/result\\_data/\\\\\n",
       "\t3 & configuration\\_name & MI\\_v1                                                       \\\\\n",
       "\\end{tabular}\n"
      ],
      "text/markdown": [
       "\n",
       "A data.frame: 3 x 2\n",
       "\n",
       "| <!--/--> | parameter &lt;chr&gt; | value &lt;chr&gt; |\n",
       "|---|---|---|\n",
       "| 1 | data_path          | /home/icb/corinna.losert/projects/mofa_workflow/input_data/  |\n",
       "| 2 | result_path        | /home/icb/corinna.losert/projects/mofa_workflow/result_data/ |\n",
       "| 3 | configuration_name | MI_v1                                                        |\n",
       "\n"
      ],
      "text/plain": [
       "  parameter         \n",
       "1 data_path         \n",
       "2 result_path       \n",
       "3 configuration_name\n",
       "  value                                                       \n",
       "1 /home/icb/corinna.losert/projects/mofa_workflow/input_data/ \n",
       "2 /home/icb/corinna.losert/projects/mofa_workflow/result_data/\n",
       "3 MI_v1                                                       "
      ]
     },
     "metadata": {},
     "output_type": "display_data"
    }
   ],
   "source": [
    "head(global_configs,3)"
   ]
  },
  {
   "cell_type": "code",
   "execution_count": 9,
   "id": "51fd5170-f89e-494d-b5be-eb6f4f650379",
   "metadata": {
    "tags": []
   },
   "outputs": [],
   "source": [
    "### Path to the data to be used within the analysis"
   ]
  },
  {
   "cell_type": "code",
   "execution_count": 10,
   "id": "f989fd60-d780-4e2a-a5c1-e1860addd557",
   "metadata": {},
   "outputs": [],
   "source": [
    "data_path = global_configs$value[global_configs$parameter == 'data_path']"
   ]
  },
  {
   "cell_type": "code",
   "execution_count": 11,
   "id": "d3afe8ed-045b-4544-89fd-e82e6e8a7610",
   "metadata": {},
   "outputs": [
    {
     "data": {
      "text/html": [
       "'/home/icb/corinna.losert/projects/mofa_workflow/input_data/'"
      ],
      "text/latex": [
       "'/home/icb/corinna.losert/projects/mofa\\_workflow/input\\_data/'"
      ],
      "text/markdown": [
       "'/home/icb/corinna.losert/projects/mofa_workflow/input_data/'"
      ],
      "text/plain": [
       "[1] \"/home/icb/corinna.losert/projects/mofa_workflow/input_data/\""
      ]
     },
     "metadata": {},
     "output_type": "display_data"
    }
   ],
   "source": [
    "data_path"
   ]
  },
  {
   "cell_type": "code",
   "execution_count": 12,
   "id": "421bd6a9-a6d6-49c7-8d0f-e75d5ad9fe51",
   "metadata": {
    "tags": []
   },
   "outputs": [],
   "source": [
    "### Path to the folder where results of the analysis will be stored"
   ]
  },
  {
   "cell_type": "code",
   "execution_count": 13,
   "id": "f844651d-f46d-4e9f-b1ce-573661dc8490",
   "metadata": {},
   "outputs": [],
   "source": [
    "result_path = global_configs$value[global_configs$parameter == 'result_path']"
   ]
  },
  {
   "cell_type": "code",
   "execution_count": 14,
   "id": "78ab7393-5499-4ed2-b39a-33aee274ef6c",
   "metadata": {},
   "outputs": [
    {
     "data": {
      "text/html": [
       "'/home/icb/corinna.losert/projects/mofa_workflow/result_data/'"
      ],
      "text/latex": [
       "'/home/icb/corinna.losert/projects/mofa\\_workflow/result\\_data/'"
      ],
      "text/markdown": [
       "'/home/icb/corinna.losert/projects/mofa_workflow/result_data/'"
      ],
      "text/plain": [
       "[1] \"/home/icb/corinna.losert/projects/mofa_workflow/result_data/\""
      ]
     },
     "metadata": {},
     "output_type": "display_data"
    }
   ],
   "source": [
    "result_path"
   ]
  },
  {
   "cell_type": "code",
   "execution_count": 15,
   "id": "21d843fb-5ec9-4403-b267-7dca5fcc56ba",
   "metadata": {
    "tags": []
   },
   "outputs": [],
   "source": [
    "### Default configuration name added to all configuration files; can also be adjusted per configuration file"
   ]
  },
  {
   "cell_type": "code",
   "execution_count": 16,
   "id": "137b00e3-7259-4f2e-883b-1c0dfcd34a90",
   "metadata": {
    "tags": []
   },
   "outputs": [],
   "source": [
    "configuration_name = global_configs$value[global_configs$parameter == 'configuration_name']"
   ]
  },
  {
   "cell_type": "code",
   "execution_count": 17,
   "id": "31268a46-e258-41ab-b0a0-24e0cedfb015",
   "metadata": {
    "tags": []
   },
   "outputs": [
    {
     "data": {
      "text/html": [
       "'MI_v1'"
      ],
      "text/latex": [
       "'MI\\_v1'"
      ],
      "text/markdown": [
       "'MI_v1'"
      ],
      "text/plain": [
       "[1] \"MI_v1\""
      ]
     },
     "metadata": {},
     "output_type": "display_data"
    }
   ],
   "source": [
    "configuration_name"
   ]
  },
  {
   "cell_type": "markdown",
   "id": "37556595-108c-486c-8c15-1718640fe2e7",
   "metadata": {},
   "source": [
    "# Adjust values in existing configuration files"
   ]
  },
  {
   "cell_type": "code",
   "execution_count": 18,
   "id": "5ed500a2-9bfa-47b0-a50b-03368804fdfa",
   "metadata": {
    "tags": []
   },
   "outputs": [],
   "source": [
    "### List files in input data folder"
   ]
  },
  {
   "cell_type": "code",
   "execution_count": 19,
   "id": "aad5cfd7-46a7-4c27-9609-01ef15ab517a",
   "metadata": {
    "tags": []
   },
   "outputs": [],
   "source": [
    "available_files = list.files(data_path)"
   ]
  },
  {
   "cell_type": "code",
   "execution_count": 20,
   "id": "0c407fbb-2a60-4bc4-a602-e8bc7357ec33",
   "metadata": {
    "tags": []
   },
   "outputs": [
    {
     "data": {
      "text/html": [
       "<style>\n",
       ".list-inline {list-style: none; margin:0; padding: 0}\n",
       ".list-inline>li {display: inline-block}\n",
       ".list-inline>li:not(:last-child)::after {content: \"\\00b7\"; padding: 0 .5ex}\n",
       "</style>\n",
       "<ol class=list-inline><li>'Prepared_Clinical_Data.csv'</li><li>'Prepared_Cytokine_Data.csv'</li><li>'Prepared_Neutrophil_Data.csv'</li><li>'Prepared_Pathway_Data.csv'</li><li>'Prepared_Proteomic_Data.csv'</li><li>'Prepared_Sample_Meta_Data.csv'</li><li>'Prepared_sc_Data.h5ad'</li></ol>\n"
      ],
      "text/latex": [
       "\\begin{enumerate*}\n",
       "\\item 'Prepared\\_Clinical\\_Data.csv'\n",
       "\\item 'Prepared\\_Cytokine\\_Data.csv'\n",
       "\\item 'Prepared\\_Neutrophil\\_Data.csv'\n",
       "\\item 'Prepared\\_Pathway\\_Data.csv'\n",
       "\\item 'Prepared\\_Proteomic\\_Data.csv'\n",
       "\\item 'Prepared\\_Sample\\_Meta\\_Data.csv'\n",
       "\\item 'Prepared\\_sc\\_Data.h5ad'\n",
       "\\end{enumerate*}\n"
      ],
      "text/markdown": [
       "1. 'Prepared_Clinical_Data.csv'\n",
       "2. 'Prepared_Cytokine_Data.csv'\n",
       "3. 'Prepared_Neutrophil_Data.csv'\n",
       "4. 'Prepared_Pathway_Data.csv'\n",
       "5. 'Prepared_Proteomic_Data.csv'\n",
       "6. 'Prepared_Sample_Meta_Data.csv'\n",
       "7. 'Prepared_sc_Data.h5ad'\n",
       "\n",
       "\n"
      ],
      "text/plain": [
       "[1] \"Prepared_Clinical_Data.csv\"    \"Prepared_Cytokine_Data.csv\"   \n",
       "[3] \"Prepared_Neutrophil_Data.csv\"  \"Prepared_Pathway_Data.csv\"    \n",
       "[5] \"Prepared_Proteomic_Data.csv\"   \"Prepared_Sample_Meta_Data.csv\"\n",
       "[7] \"Prepared_sc_Data.h5ad\"        "
      ]
     },
     "metadata": {},
     "output_type": "display_data"
    }
   ],
   "source": [
    "available_files"
   ]
  },
  {
   "cell_type": "code",
   "execution_count": 21,
   "id": "18a0e170-53cf-448f-a945-1765adc090a9",
   "metadata": {
    "tags": []
   },
   "outputs": [],
   "source": [
    "### Keep only 'h5ad' or '.csv' files"
   ]
  },
  {
   "cell_type": "code",
   "execution_count": 22,
   "id": "b1755092-40e1-412b-86d7-5c29404a4df9",
   "metadata": {
    "tags": []
   },
   "outputs": [],
   "source": [
    "available_files = available_files[!is.na(str_extract(available_files, '.h5ad|.csv'))] "
   ]
  },
  {
   "cell_type": "code",
   "execution_count": 23,
   "id": "ea121c0a-cd3a-48f7-ac75-2c792229237c",
   "metadata": {
    "tags": []
   },
   "outputs": [
    {
     "data": {
      "text/html": [
       "<style>\n",
       ".list-inline {list-style: none; margin:0; padding: 0}\n",
       ".list-inline>li {display: inline-block}\n",
       ".list-inline>li:not(:last-child)::after {content: \"\\00b7\"; padding: 0 .5ex}\n",
       "</style>\n",
       "<ol class=list-inline><li>'Prepared_Clinical_Data.csv'</li><li>'Prepared_Cytokine_Data.csv'</li><li>'Prepared_Neutrophil_Data.csv'</li><li>'Prepared_Pathway_Data.csv'</li><li>'Prepared_Proteomic_Data.csv'</li><li>'Prepared_Sample_Meta_Data.csv'</li><li>'Prepared_sc_Data.h5ad'</li></ol>\n"
      ],
      "text/latex": [
       "\\begin{enumerate*}\n",
       "\\item 'Prepared\\_Clinical\\_Data.csv'\n",
       "\\item 'Prepared\\_Cytokine\\_Data.csv'\n",
       "\\item 'Prepared\\_Neutrophil\\_Data.csv'\n",
       "\\item 'Prepared\\_Pathway\\_Data.csv'\n",
       "\\item 'Prepared\\_Proteomic\\_Data.csv'\n",
       "\\item 'Prepared\\_Sample\\_Meta\\_Data.csv'\n",
       "\\item 'Prepared\\_sc\\_Data.h5ad'\n",
       "\\end{enumerate*}\n"
      ],
      "text/markdown": [
       "1. 'Prepared_Clinical_Data.csv'\n",
       "2. 'Prepared_Cytokine_Data.csv'\n",
       "3. 'Prepared_Neutrophil_Data.csv'\n",
       "4. 'Prepared_Pathway_Data.csv'\n",
       "5. 'Prepared_Proteomic_Data.csv'\n",
       "6. 'Prepared_Sample_Meta_Data.csv'\n",
       "7. 'Prepared_sc_Data.h5ad'\n",
       "\n",
       "\n"
      ],
      "text/plain": [
       "[1] \"Prepared_Clinical_Data.csv\"    \"Prepared_Cytokine_Data.csv\"   \n",
       "[3] \"Prepared_Neutrophil_Data.csv\"  \"Prepared_Pathway_Data.csv\"    \n",
       "[5] \"Prepared_Proteomic_Data.csv\"   \"Prepared_Sample_Meta_Data.csv\"\n",
       "[7] \"Prepared_sc_Data.h5ad\"        "
      ]
     },
     "metadata": {},
     "output_type": "display_data"
    }
   ],
   "source": [
    "available_files"
   ]
  },
  {
   "cell_type": "markdown",
   "id": "3b6a4fec-cf77-4598-aef4-285e4edb45a8",
   "metadata": {},
   "source": [
    "## 01_Pre_Processing_SC_Data"
   ]
  },
  {
   "cell_type": "code",
   "execution_count": 24,
   "id": "49064d89-c847-4fe0-9081-d1305af7ee81",
   "metadata": {
    "tags": []
   },
   "outputs": [],
   "source": [
    "### Add names of sc dataset to '01_Pre_Processing_SC_Dataset' (all h5ad datasets)\n",
    "if(sum( !is.na(str_extract(available_files, '.h5ad'))) >=1){\n",
    "    data = data.frame('data_name' = str_replace(available_files[!is.na(str_extract(available_files, '.h5ad'))], '.h5ad|.csv', ''))\n",
    "    write.csv(data, 'configurations/01_Pre_Processing_SC_Data.csv', row.names = FALSE)\n",
    "                      }"
   ]
  },
  {
   "cell_type": "markdown",
   "id": "36ca1856-179b-4299-8061-6fb0f2acbba9",
   "metadata": {},
   "source": [
    "## 02_Pre_Processing_Configs_SC"
   ]
  },
  {
   "cell_type": "code",
   "execution_count": 25,
   "id": "3995b3ef-a328-4181-b915-d1895e3915ea",
   "metadata": {
    "tags": []
   },
   "outputs": [],
   "source": [
    "configs02_sc = data.frame(\n",
    "    configuration_name = configuration_name,\n",
    "    data_name = str_replace(available_files[!is.na(str_extract(available_files, '.h5ad'))], '.h5ad|.csv', ''),\n",
    "    data_type = str_extract(available_files[!is.na(str_extract(available_files, '.h5ad'))], '.h5ad|.csv'),\n",
    "    cell_expr_thres1 = '50;10',\n",
    "    cell_expr_thres2 = '40;20',\n",
    "    cell_type_exclusion = ''\n",
    ")\n",
    "    "
   ]
  },
  {
   "cell_type": "code",
   "execution_count": 26,
   "id": "2a6771d5-0382-4b4e-b3d9-5b8c588b0f05",
   "metadata": {
    "tags": []
   },
   "outputs": [
    {
     "data": {
      "text/html": [
       "<table class=\"dataframe\">\n",
       "<caption>A data.frame: 1 x 6</caption>\n",
       "<thead>\n",
       "\t<tr><th scope=col>configuration_name</th><th scope=col>data_name</th><th scope=col>data_type</th><th scope=col>cell_expr_thres1</th><th scope=col>cell_expr_thres2</th><th scope=col>cell_type_exclusion</th></tr>\n",
       "\t<tr><th scope=col>&lt;chr&gt;</th><th scope=col>&lt;chr&gt;</th><th scope=col>&lt;chr&gt;</th><th scope=col>&lt;chr&gt;</th><th scope=col>&lt;chr&gt;</th><th scope=col>&lt;chr&gt;</th></tr>\n",
       "</thead>\n",
       "<tbody>\n",
       "\t<tr><td>MI_v1</td><td>Prepared_sc_Data</td><td>.h5ad</td><td>50;10</td><td>40;20</td><td></td></tr>\n",
       "</tbody>\n",
       "</table>\n"
      ],
      "text/latex": [
       "A data.frame: 1 x 6\n",
       "\\begin{tabular}{llllll}\n",
       " configuration\\_name & data\\_name & data\\_type & cell\\_expr\\_thres1 & cell\\_expr\\_thres2 & cell\\_type\\_exclusion\\\\\n",
       " <chr> & <chr> & <chr> & <chr> & <chr> & <chr>\\\\\n",
       "\\hline\n",
       "\t MI\\_v1 & Prepared\\_sc\\_Data & .h5ad & 50;10 & 40;20 & \\\\\n",
       "\\end{tabular}\n"
      ],
      "text/markdown": [
       "\n",
       "A data.frame: 1 x 6\n",
       "\n",
       "| configuration_name &lt;chr&gt; | data_name &lt;chr&gt; | data_type &lt;chr&gt; | cell_expr_thres1 &lt;chr&gt; | cell_expr_thres2 &lt;chr&gt; | cell_type_exclusion &lt;chr&gt; |\n",
       "|---|---|---|---|---|---|\n",
       "| MI_v1 | Prepared_sc_Data | .h5ad | 50;10 | 40;20 | <!----> |\n",
       "\n"
      ],
      "text/plain": [
       "  configuration_name data_name        data_type cell_expr_thres1\n",
       "1 MI_v1              Prepared_sc_Data .h5ad     50;10           \n",
       "  cell_expr_thres2 cell_type_exclusion\n",
       "1 40;20                               "
      ]
     },
     "metadata": {},
     "output_type": "display_data"
    }
   ],
   "source": [
    "configs02_sc"
   ]
  },
  {
   "cell_type": "code",
   "execution_count": 27,
   "id": "89006794-2b0e-400b-8d50-801437538e58",
   "metadata": {
    "tags": []
   },
   "outputs": [],
   "source": [
    "write.csv(configs02_sc, 'configurations/02_Pre_Processing_Configs_SC.csv', row.names = FALSE)"
   ]
  },
  {
   "cell_type": "code",
   "execution_count": null,
   "id": "1fa77536-c618-4224-8ed9-e592b549bc4a",
   "metadata": {},
   "outputs": [],
   "source": []
  },
  {
   "cell_type": "markdown",
   "id": "085f39a7-2fc2-4666-ba08-16325c3801fb",
   "metadata": {},
   "source": [
    "## 02_Pre_Processing_Configs"
   ]
  },
  {
   "cell_type": "code",
   "execution_count": 28,
   "id": "f849b3dd-c83d-473c-ab10-98a498b65496",
   "metadata": {
    "tags": []
   },
   "outputs": [],
   "source": [
    "### Add names of other datasets to '02_Pre_Processing_Configs'"
   ]
  },
  {
   "cell_type": "code",
   "execution_count": 29,
   "id": "bc5a876e-be72-488f-9575-61fd0dd41509",
   "metadata": {
    "tags": []
   },
   "outputs": [],
   "source": [
    "configs02 = data.frame(\n",
    "    configuration_name = configuration_name,\n",
    "    data_name = str_replace(available_files, '.h5ad|.csv', ''),\n",
    "    file_type = str_extract(available_files, '.h5ad|.csv'),\n",
    "    data_type = '',\n",
    "    remove_sample_ids = '',\n",
    "    sample_filtering_thres = 1,\n",
    "    feature_filtering_thres = 0.05,\n",
    "    library_adjustment = FALSE,\n",
    "    log_transformation = TRUE,\n",
    "    variable_genes_filtering = 1,\n",
    "    quantile_normalization_samples = FALSE,\n",
    "    ribosomal_mitochondrial_gene_filtering = FALSE,\n",
    "    feature_wise_quantile_normalization = TRUE)\n",
    "    \n",
    "    \n",
    "    \n",
    "    \n",
    "    \n",
    "    "
   ]
  },
  {
   "cell_type": "code",
   "execution_count": 30,
   "id": "45460ec8-bd46-4175-b371-64d393f103b9",
   "metadata": {
    "tags": []
   },
   "outputs": [
    {
     "data": {
      "text/html": [
       "<table class=\"dataframe\">\n",
       "<caption>A data.frame: 7 x 13</caption>\n",
       "<thead>\n",
       "\t<tr><th scope=col>configuration_name</th><th scope=col>data_name</th><th scope=col>file_type</th><th scope=col>data_type</th><th scope=col>remove_sample_ids</th><th scope=col>sample_filtering_thres</th><th scope=col>feature_filtering_thres</th><th scope=col>library_adjustment</th><th scope=col>log_transformation</th><th scope=col>variable_genes_filtering</th><th scope=col>quantile_normalization_samples</th><th scope=col>ribosomal_mitochondrial_gene_filtering</th><th scope=col>feature_wise_quantile_normalization</th></tr>\n",
       "\t<tr><th scope=col>&lt;chr&gt;</th><th scope=col>&lt;chr&gt;</th><th scope=col>&lt;chr&gt;</th><th scope=col>&lt;chr&gt;</th><th scope=col>&lt;chr&gt;</th><th scope=col>&lt;dbl&gt;</th><th scope=col>&lt;dbl&gt;</th><th scope=col>&lt;lgl&gt;</th><th scope=col>&lt;lgl&gt;</th><th scope=col>&lt;dbl&gt;</th><th scope=col>&lt;lgl&gt;</th><th scope=col>&lt;lgl&gt;</th><th scope=col>&lt;lgl&gt;</th></tr>\n",
       "</thead>\n",
       "<tbody>\n",
       "\t<tr><td>MI_v1</td><td>Prepared_Clinical_Data   </td><td>.csv </td><td></td><td></td><td>1</td><td>0.05</td><td>FALSE</td><td>TRUE</td><td>1</td><td>FALSE</td><td>FALSE</td><td>TRUE</td></tr>\n",
       "\t<tr><td>MI_v1</td><td>Prepared_Cytokine_Data   </td><td>.csv </td><td></td><td></td><td>1</td><td>0.05</td><td>FALSE</td><td>TRUE</td><td>1</td><td>FALSE</td><td>FALSE</td><td>TRUE</td></tr>\n",
       "\t<tr><td>MI_v1</td><td>Prepared_Neutrophil_Data </td><td>.csv </td><td></td><td></td><td>1</td><td>0.05</td><td>FALSE</td><td>TRUE</td><td>1</td><td>FALSE</td><td>FALSE</td><td>TRUE</td></tr>\n",
       "\t<tr><td>MI_v1</td><td>Prepared_Pathway_Data    </td><td>.csv </td><td></td><td></td><td>1</td><td>0.05</td><td>FALSE</td><td>TRUE</td><td>1</td><td>FALSE</td><td>FALSE</td><td>TRUE</td></tr>\n",
       "\t<tr><td>MI_v1</td><td>Prepared_Proteomic_Data  </td><td>.csv </td><td></td><td></td><td>1</td><td>0.05</td><td>FALSE</td><td>TRUE</td><td>1</td><td>FALSE</td><td>FALSE</td><td>TRUE</td></tr>\n",
       "\t<tr><td>MI_v1</td><td>Prepared_Sample_Meta_Data</td><td>.csv </td><td></td><td></td><td>1</td><td>0.05</td><td>FALSE</td><td>TRUE</td><td>1</td><td>FALSE</td><td>FALSE</td><td>TRUE</td></tr>\n",
       "\t<tr><td>MI_v1</td><td>Prepared_sc_Data         </td><td>.h5ad</td><td></td><td></td><td>1</td><td>0.05</td><td>FALSE</td><td>TRUE</td><td>1</td><td>FALSE</td><td>FALSE</td><td>TRUE</td></tr>\n",
       "</tbody>\n",
       "</table>\n"
      ],
      "text/latex": [
       "A data.frame: 7 x 13\n",
       "\\begin{tabular}{lllllllllllll}\n",
       " configuration\\_name & data\\_name & file\\_type & data\\_type & remove\\_sample\\_ids & sample\\_filtering\\_thres & feature\\_filtering\\_thres & library\\_adjustment & log\\_transformation & variable\\_genes\\_filtering & quantile\\_normalization\\_samples & ribosomal\\_mitochondrial\\_gene\\_filtering & feature\\_wise\\_quantile\\_normalization\\\\\n",
       " <chr> & <chr> & <chr> & <chr> & <chr> & <dbl> & <dbl> & <lgl> & <lgl> & <dbl> & <lgl> & <lgl> & <lgl>\\\\\n",
       "\\hline\n",
       "\t MI\\_v1 & Prepared\\_Clinical\\_Data    & .csv  &  &  & 1 & 0.05 & FALSE & TRUE & 1 & FALSE & FALSE & TRUE\\\\\n",
       "\t MI\\_v1 & Prepared\\_Cytokine\\_Data    & .csv  &  &  & 1 & 0.05 & FALSE & TRUE & 1 & FALSE & FALSE & TRUE\\\\\n",
       "\t MI\\_v1 & Prepared\\_Neutrophil\\_Data  & .csv  &  &  & 1 & 0.05 & FALSE & TRUE & 1 & FALSE & FALSE & TRUE\\\\\n",
       "\t MI\\_v1 & Prepared\\_Pathway\\_Data     & .csv  &  &  & 1 & 0.05 & FALSE & TRUE & 1 & FALSE & FALSE & TRUE\\\\\n",
       "\t MI\\_v1 & Prepared\\_Proteomic\\_Data   & .csv  &  &  & 1 & 0.05 & FALSE & TRUE & 1 & FALSE & FALSE & TRUE\\\\\n",
       "\t MI\\_v1 & Prepared\\_Sample\\_Meta\\_Data & .csv  &  &  & 1 & 0.05 & FALSE & TRUE & 1 & FALSE & FALSE & TRUE\\\\\n",
       "\t MI\\_v1 & Prepared\\_sc\\_Data          & .h5ad &  &  & 1 & 0.05 & FALSE & TRUE & 1 & FALSE & FALSE & TRUE\\\\\n",
       "\\end{tabular}\n"
      ],
      "text/markdown": [
       "\n",
       "A data.frame: 7 x 13\n",
       "\n",
       "| configuration_name &lt;chr&gt; | data_name &lt;chr&gt; | file_type &lt;chr&gt; | data_type &lt;chr&gt; | remove_sample_ids &lt;chr&gt; | sample_filtering_thres &lt;dbl&gt; | feature_filtering_thres &lt;dbl&gt; | library_adjustment &lt;lgl&gt; | log_transformation &lt;lgl&gt; | variable_genes_filtering &lt;dbl&gt; | quantile_normalization_samples &lt;lgl&gt; | ribosomal_mitochondrial_gene_filtering &lt;lgl&gt; | feature_wise_quantile_normalization &lt;lgl&gt; |\n",
       "|---|---|---|---|---|---|---|---|---|---|---|---|---|\n",
       "| MI_v1 | Prepared_Clinical_Data    | .csv  | <!----> | <!----> | 1 | 0.05 | FALSE | TRUE | 1 | FALSE | FALSE | TRUE |\n",
       "| MI_v1 | Prepared_Cytokine_Data    | .csv  | <!----> | <!----> | 1 | 0.05 | FALSE | TRUE | 1 | FALSE | FALSE | TRUE |\n",
       "| MI_v1 | Prepared_Neutrophil_Data  | .csv  | <!----> | <!----> | 1 | 0.05 | FALSE | TRUE | 1 | FALSE | FALSE | TRUE |\n",
       "| MI_v1 | Prepared_Pathway_Data     | .csv  | <!----> | <!----> | 1 | 0.05 | FALSE | TRUE | 1 | FALSE | FALSE | TRUE |\n",
       "| MI_v1 | Prepared_Proteomic_Data   | .csv  | <!----> | <!----> | 1 | 0.05 | FALSE | TRUE | 1 | FALSE | FALSE | TRUE |\n",
       "| MI_v1 | Prepared_Sample_Meta_Data | .csv  | <!----> | <!----> | 1 | 0.05 | FALSE | TRUE | 1 | FALSE | FALSE | TRUE |\n",
       "| MI_v1 | Prepared_sc_Data          | .h5ad | <!----> | <!----> | 1 | 0.05 | FALSE | TRUE | 1 | FALSE | FALSE | TRUE |\n",
       "\n"
      ],
      "text/plain": [
       "  configuration_name data_name                 file_type data_type\n",
       "1 MI_v1              Prepared_Clinical_Data    .csv               \n",
       "2 MI_v1              Prepared_Cytokine_Data    .csv               \n",
       "3 MI_v1              Prepared_Neutrophil_Data  .csv               \n",
       "4 MI_v1              Prepared_Pathway_Data     .csv               \n",
       "5 MI_v1              Prepared_Proteomic_Data   .csv               \n",
       "6 MI_v1              Prepared_Sample_Meta_Data .csv               \n",
       "7 MI_v1              Prepared_sc_Data          .h5ad              \n",
       "  remove_sample_ids sample_filtering_thres feature_filtering_thres\n",
       "1                   1                      0.05                   \n",
       "2                   1                      0.05                   \n",
       "3                   1                      0.05                   \n",
       "4                   1                      0.05                   \n",
       "5                   1                      0.05                   \n",
       "6                   1                      0.05                   \n",
       "7                   1                      0.05                   \n",
       "  library_adjustment log_transformation variable_genes_filtering\n",
       "1 FALSE              TRUE               1                       \n",
       "2 FALSE              TRUE               1                       \n",
       "3 FALSE              TRUE               1                       \n",
       "4 FALSE              TRUE               1                       \n",
       "5 FALSE              TRUE               1                       \n",
       "6 FALSE              TRUE               1                       \n",
       "7 FALSE              TRUE               1                       \n",
       "  quantile_normalization_samples ribosomal_mitochondrial_gene_filtering\n",
       "1 FALSE                          FALSE                                 \n",
       "2 FALSE                          FALSE                                 \n",
       "3 FALSE                          FALSE                                 \n",
       "4 FALSE                          FALSE                                 \n",
       "5 FALSE                          FALSE                                 \n",
       "6 FALSE                          FALSE                                 \n",
       "7 FALSE                          FALSE                                 \n",
       "  feature_wise_quantile_normalization\n",
       "1 TRUE                               \n",
       "2 TRUE                               \n",
       "3 TRUE                               \n",
       "4 TRUE                               \n",
       "5 TRUE                               \n",
       "6 TRUE                               \n",
       "7 TRUE                               "
      ]
     },
     "metadata": {},
     "output_type": "display_data"
    }
   ],
   "source": [
    "configs02"
   ]
  },
  {
   "cell_type": "code",
   "execution_count": 31,
   "id": "e0c768cf-f2b6-4473-8ae2-7c4993589408",
   "metadata": {
    "tags": []
   },
   "outputs": [],
   "source": [
    "write.csv(configs02, 'configurations/02_Pre_Processing_Configs.csv', row.names = FALSE)"
   ]
  },
  {
   "cell_type": "markdown",
   "id": "b21ce7c3-b400-4618-acf9-1efee72a3086",
   "metadata": {},
   "source": [
    "## 03_MOFA_Configs"
   ]
  },
  {
   "cell_type": "code",
   "execution_count": 32,
   "id": "f71d4790-747c-4600-b329-56fbb631def2",
   "metadata": {
    "tags": []
   },
   "outputs": [],
   "source": [
    "### Adjust 03 MOFA configs"
   ]
  },
  {
   "cell_type": "code",
   "execution_count": 33,
   "id": "bd412044-f658-49ad-815a-f7b41bfa1fc6",
   "metadata": {
    "tags": []
   },
   "outputs": [],
   "source": [
    "configs03 = data.frame(\n",
    "    configuration_name = configuration_name,\n",
    "    mofa_result_name = paste0(configuration_name, '_MOFA'),\n",
    "    amount_of_factors = 10,\n",
    "    weighting_of_views = FALSE,\n",
    "    scale_views = TRUE)\n",
    "    "
   ]
  },
  {
   "cell_type": "code",
   "execution_count": 34,
   "id": "6a7ac21d-521d-4e80-8aad-5b30c2d55e30",
   "metadata": {
    "tags": []
   },
   "outputs": [
    {
     "data": {
      "text/html": [
       "<table class=\"dataframe\">\n",
       "<caption>A data.frame: 1 x 5</caption>\n",
       "<thead>\n",
       "\t<tr><th scope=col>configuration_name</th><th scope=col>mofa_result_name</th><th scope=col>amount_of_factors</th><th scope=col>weighting_of_views</th><th scope=col>scale_views</th></tr>\n",
       "\t<tr><th scope=col>&lt;chr&gt;</th><th scope=col>&lt;chr&gt;</th><th scope=col>&lt;dbl&gt;</th><th scope=col>&lt;lgl&gt;</th><th scope=col>&lt;lgl&gt;</th></tr>\n",
       "</thead>\n",
       "<tbody>\n",
       "\t<tr><td>MI_v1</td><td>MI_v1_MOFA</td><td>10</td><td>FALSE</td><td>TRUE</td></tr>\n",
       "</tbody>\n",
       "</table>\n"
      ],
      "text/latex": [
       "A data.frame: 1 x 5\n",
       "\\begin{tabular}{lllll}\n",
       " configuration\\_name & mofa\\_result\\_name & amount\\_of\\_factors & weighting\\_of\\_views & scale\\_views\\\\\n",
       " <chr> & <chr> & <dbl> & <lgl> & <lgl>\\\\\n",
       "\\hline\n",
       "\t MI\\_v1 & MI\\_v1\\_MOFA & 10 & FALSE & TRUE\\\\\n",
       "\\end{tabular}\n"
      ],
      "text/markdown": [
       "\n",
       "A data.frame: 1 x 5\n",
       "\n",
       "| configuration_name &lt;chr&gt; | mofa_result_name &lt;chr&gt; | amount_of_factors &lt;dbl&gt; | weighting_of_views &lt;lgl&gt; | scale_views &lt;lgl&gt; |\n",
       "|---|---|---|---|---|\n",
       "| MI_v1 | MI_v1_MOFA | 10 | FALSE | TRUE |\n",
       "\n"
      ],
      "text/plain": [
       "  configuration_name mofa_result_name amount_of_factors weighting_of_views\n",
       "1 MI_v1              MI_v1_MOFA       10                FALSE             \n",
       "  scale_views\n",
       "1 TRUE       "
      ]
     },
     "metadata": {},
     "output_type": "display_data"
    }
   ],
   "source": [
    "configs03"
   ]
  },
  {
   "cell_type": "code",
   "execution_count": 35,
   "id": "f420fa8f-f5fc-4bf9-b257-ddb3cd92c940",
   "metadata": {
    "tags": []
   },
   "outputs": [],
   "source": [
    "write.csv(configs03, 'configurations/03_MOFA_Configs.csv', row.names = FALSE)"
   ]
  },
  {
   "cell_type": "markdown",
   "id": "b64deb31-fdf0-4890-80fd-cfd1932d1a9e",
   "metadata": {},
   "source": [
    "## 04_Factor_Analysis_Configs"
   ]
  },
  {
   "cell_type": "code",
   "execution_count": 36,
   "id": "2e48ccbd-daf6-4ee3-b915-73140b68ba4c",
   "metadata": {
    "tags": []
   },
   "outputs": [],
   "source": [
    "### Adjust 04 Factor Analysis"
   ]
  },
  {
   "cell_type": "code",
   "execution_count": 37,
   "id": "a5b76f5d-6398-4c9c-9891-7833311b03ce",
   "metadata": {
    "tags": []
   },
   "outputs": [],
   "source": [
    "configs04 = data.frame(\n",
    "    configuration_name = configuration_name,\n",
    "    mofa_result_name = paste0(configuration_name, '_MOFA'),\n",
    "    relevant_factors = c(\"Factor1,Factor2,Factor3,Factor4,Factor5,Factor6\"),\n",
    "    numeric_covariates = '',\n",
    "    categorical_covariates = '',\n",
    "    top_variable_thres  = 0.005)"
   ]
  },
  {
   "cell_type": "code",
   "execution_count": 38,
   "id": "d680ddf3-cfa8-4ebb-9c78-a3886c8f056b",
   "metadata": {
    "tags": []
   },
   "outputs": [
    {
     "data": {
      "text/html": [
       "<table class=\"dataframe\">\n",
       "<caption>A data.frame: 1 x 6</caption>\n",
       "<thead>\n",
       "\t<tr><th scope=col>configuration_name</th><th scope=col>mofa_result_name</th><th scope=col>relevant_factors</th><th scope=col>numeric_covariates</th><th scope=col>categorical_covariates</th><th scope=col>top_variable_thres</th></tr>\n",
       "\t<tr><th scope=col>&lt;chr&gt;</th><th scope=col>&lt;chr&gt;</th><th scope=col>&lt;chr&gt;</th><th scope=col>&lt;chr&gt;</th><th scope=col>&lt;chr&gt;</th><th scope=col>&lt;dbl&gt;</th></tr>\n",
       "</thead>\n",
       "<tbody>\n",
       "\t<tr><td>MI_v1</td><td>MI_v1_MOFA</td><td>Factor1,Factor2,Factor3,Factor4,Factor5,Factor6</td><td></td><td></td><td>0.005</td></tr>\n",
       "</tbody>\n",
       "</table>\n"
      ],
      "text/latex": [
       "A data.frame: 1 x 6\n",
       "\\begin{tabular}{llllll}\n",
       " configuration\\_name & mofa\\_result\\_name & relevant\\_factors & numeric\\_covariates & categorical\\_covariates & top\\_variable\\_thres\\\\\n",
       " <chr> & <chr> & <chr> & <chr> & <chr> & <dbl>\\\\\n",
       "\\hline\n",
       "\t MI\\_v1 & MI\\_v1\\_MOFA & Factor1,Factor2,Factor3,Factor4,Factor5,Factor6 &  &  & 0.005\\\\\n",
       "\\end{tabular}\n"
      ],
      "text/markdown": [
       "\n",
       "A data.frame: 1 x 6\n",
       "\n",
       "| configuration_name &lt;chr&gt; | mofa_result_name &lt;chr&gt; | relevant_factors &lt;chr&gt; | numeric_covariates &lt;chr&gt; | categorical_covariates &lt;chr&gt; | top_variable_thres &lt;dbl&gt; |\n",
       "|---|---|---|---|---|---|\n",
       "| MI_v1 | MI_v1_MOFA | Factor1,Factor2,Factor3,Factor4,Factor5,Factor6 | <!----> | <!----> | 0.005 |\n",
       "\n"
      ],
      "text/plain": [
       "  configuration_name mofa_result_name\n",
       "1 MI_v1              MI_v1_MOFA      \n",
       "  relevant_factors                                numeric_covariates\n",
       "1 Factor1,Factor2,Factor3,Factor4,Factor5,Factor6                   \n",
       "  categorical_covariates top_variable_thres\n",
       "1                        0.005             "
      ]
     },
     "metadata": {},
     "output_type": "display_data"
    }
   ],
   "source": [
    "configs04"
   ]
  },
  {
   "cell_type": "code",
   "execution_count": 39,
   "id": "452d9b36-5274-48d7-807e-6a9e9545f268",
   "metadata": {
    "tags": []
   },
   "outputs": [],
   "source": [
    "write.csv(configs04, 'configurations/04_Factor_Analysis_Configs.csv', row.names = FALSE)"
   ]
  },
  {
   "cell_type": "markdown",
   "id": "e05368c4-b0f4-44d4-995c-40bb95fb9465",
   "metadata": {},
   "source": [
    "## 05_Feature_Analysis_Configs"
   ]
  },
  {
   "cell_type": "code",
   "execution_count": 40,
   "id": "5a1cf8fc-7c2f-4fcd-acf0-b9fbf4df0d52",
   "metadata": {
    "tags": []
   },
   "outputs": [],
   "source": [
    "### Adjust 05 Feature Analysis Configs"
   ]
  },
  {
   "cell_type": "code",
   "execution_count": 41,
   "id": "09910a57-b493-4235-baa1-93832bb00a3a",
   "metadata": {
    "tags": []
   },
   "outputs": [],
   "source": [
    "configs05 = data.frame(\n",
    "    configuration_name = configuration_name,\n",
    "    mofa_result_name = paste0(configuration_name, '_MOFA'),\n",
    "    factor = 'Factor1',\n",
    "    top_variable_thres = 0.005,\n",
    "    faceting_variable = '',\n",
    "    type = '',\n",
    "    plot_width =8.07 ,\n",
    "    plot_height = 5)\n",
    "    "
   ]
  },
  {
   "cell_type": "code",
   "execution_count": 42,
   "id": "5b86df52-2ceb-4e2d-8786-98c95268f6f9",
   "metadata": {
    "tags": []
   },
   "outputs": [],
   "source": [
    "write.csv(configs05, 'configurations/05_Feature_Analysis_Configs.csv', row.names = FALSE)"
   ]
  },
  {
   "cell_type": "markdown",
   "id": "76298f31-3bce-41a9-ba09-cc5c9d3f16c9",
   "metadata": {},
   "source": [
    "## 06_Pathway_Configs"
   ]
  },
  {
   "cell_type": "code",
   "execution_count": 43,
   "id": "59fc059d-a5e7-4403-9864-fcdb90e31981",
   "metadata": {
    "tags": []
   },
   "outputs": [],
   "source": [
    "### Adjust 06 Pathway Analysis Configs"
   ]
  },
  {
   "cell_type": "code",
   "execution_count": 44,
   "id": "3477f0f0-06ea-43aa-9bfa-170e57564784",
   "metadata": {
    "tags": []
   },
   "outputs": [],
   "source": [
    "configs06 = data.frame(\n",
    "    mofa_result_name = paste0(configuration_name, '_MOFA'),\n",
    "    factor_set = '1',\n",
    "    coverage_par = 0.2,\n",
    "    types = '',\n",
    "    coverage_plot  = 0.5,\n",
    "    p_value_plot = 0.05,\n",
    "    max_pathways_plot = 8,\n",
    "    enrichment_plot = 'positive',\n",
    "    top_features_plot = 0.125,\n",
    "    pathway_selection = '')"
   ]
  },
  {
   "cell_type": "code",
   "execution_count": 45,
   "id": "a0673934-4b5c-4603-be51-b95136a5a7e1",
   "metadata": {
    "tags": []
   },
   "outputs": [
    {
     "data": {
      "text/html": [
       "<table class=\"dataframe\">\n",
       "<caption>A data.frame: 1 x 10</caption>\n",
       "<thead>\n",
       "\t<tr><th scope=col>mofa_result_name</th><th scope=col>factor_set</th><th scope=col>coverage_par</th><th scope=col>types</th><th scope=col>coverage_plot</th><th scope=col>p_value_plot</th><th scope=col>max_pathways_plot</th><th scope=col>enrichment_plot</th><th scope=col>top_features_plot</th><th scope=col>pathway_selection</th></tr>\n",
       "\t<tr><th scope=col>&lt;chr&gt;</th><th scope=col>&lt;chr&gt;</th><th scope=col>&lt;dbl&gt;</th><th scope=col>&lt;chr&gt;</th><th scope=col>&lt;dbl&gt;</th><th scope=col>&lt;dbl&gt;</th><th scope=col>&lt;dbl&gt;</th><th scope=col>&lt;chr&gt;</th><th scope=col>&lt;dbl&gt;</th><th scope=col>&lt;chr&gt;</th></tr>\n",
       "</thead>\n",
       "<tbody>\n",
       "\t<tr><td>MI_v1_MOFA</td><td>1</td><td>0.2</td><td></td><td>0.5</td><td>0.05</td><td>8</td><td>positive</td><td>0.125</td><td></td></tr>\n",
       "</tbody>\n",
       "</table>\n"
      ],
      "text/latex": [
       "A data.frame: 1 x 10\n",
       "\\begin{tabular}{llllllllll}\n",
       " mofa\\_result\\_name & factor\\_set & coverage\\_par & types & coverage\\_plot & p\\_value\\_plot & max\\_pathways\\_plot & enrichment\\_plot & top\\_features\\_plot & pathway\\_selection\\\\\n",
       " <chr> & <chr> & <dbl> & <chr> & <dbl> & <dbl> & <dbl> & <chr> & <dbl> & <chr>\\\\\n",
       "\\hline\n",
       "\t MI\\_v1\\_MOFA & 1 & 0.2 &  & 0.5 & 0.05 & 8 & positive & 0.125 & \\\\\n",
       "\\end{tabular}\n"
      ],
      "text/markdown": [
       "\n",
       "A data.frame: 1 x 10\n",
       "\n",
       "| mofa_result_name &lt;chr&gt; | factor_set &lt;chr&gt; | coverage_par &lt;dbl&gt; | types &lt;chr&gt; | coverage_plot &lt;dbl&gt; | p_value_plot &lt;dbl&gt; | max_pathways_plot &lt;dbl&gt; | enrichment_plot &lt;chr&gt; | top_features_plot &lt;dbl&gt; | pathway_selection &lt;chr&gt; |\n",
       "|---|---|---|---|---|---|---|---|---|---|\n",
       "| MI_v1_MOFA | 1 | 0.2 | <!----> | 0.5 | 0.05 | 8 | positive | 0.125 | <!----> |\n",
       "\n"
      ],
      "text/plain": [
       "  mofa_result_name factor_set coverage_par types coverage_plot p_value_plot\n",
       "1 MI_v1_MOFA       1          0.2                0.5           0.05        \n",
       "  max_pathways_plot enrichment_plot top_features_plot pathway_selection\n",
       "1 8                 positive        0.125                              "
      ]
     },
     "metadata": {},
     "output_type": "display_data"
    }
   ],
   "source": [
    "configs06"
   ]
  },
  {
   "cell_type": "code",
   "execution_count": 46,
   "id": "e2fe97cb-b887-4921-ae4f-f9e17dc948e5",
   "metadata": {
    "tags": []
   },
   "outputs": [],
   "source": [
    "write.csv(configs06, 'configurations/06_Pathway_Configs.csv', row.names = FALSE)"
   ]
  },
  {
   "cell_type": "markdown",
   "id": "f0bee00d-7816-4c68-89a3-30502a3f9f54",
   "metadata": {},
   "source": [
    "## 07_Comparison_Configs"
   ]
  },
  {
   "cell_type": "code",
   "execution_count": 47,
   "id": "ed145d8d-d997-4d78-8d72-a23deba31b41",
   "metadata": {
    "tags": []
   },
   "outputs": [],
   "source": [
    "## Adjust 07 comparison configs file"
   ]
  },
  {
   "cell_type": "code",
   "execution_count": 48,
   "id": "1db717d2-89a6-44e8-bbc5-ecbc5bff6003",
   "metadata": {
    "tags": []
   },
   "outputs": [],
   "source": [
    "configs07 = data.frame(\n",
    "    mofa_result_name = paste0(configuration_name, '_MOFA'),\n",
    "    compare_factors = 'Factor1,Factor2,Factor3')"
   ]
  },
  {
   "cell_type": "code",
   "execution_count": 49,
   "id": "8c55598e-1adb-4f3c-8126-1e45aa087269",
   "metadata": {
    "tags": []
   },
   "outputs": [
    {
     "data": {
      "text/html": [
       "<table class=\"dataframe\">\n",
       "<caption>A data.frame: 1 x 2</caption>\n",
       "<thead>\n",
       "\t<tr><th scope=col>mofa_result_name</th><th scope=col>compare_factors</th></tr>\n",
       "\t<tr><th scope=col>&lt;chr&gt;</th><th scope=col>&lt;chr&gt;</th></tr>\n",
       "</thead>\n",
       "<tbody>\n",
       "\t<tr><td>MI_v1_MOFA</td><td>Factor1,Factor2,Factor3</td></tr>\n",
       "</tbody>\n",
       "</table>\n"
      ],
      "text/latex": [
       "A data.frame: 1 x 2\n",
       "\\begin{tabular}{ll}\n",
       " mofa\\_result\\_name & compare\\_factors\\\\\n",
       " <chr> & <chr>\\\\\n",
       "\\hline\n",
       "\t MI\\_v1\\_MOFA & Factor1,Factor2,Factor3\\\\\n",
       "\\end{tabular}\n"
      ],
      "text/markdown": [
       "\n",
       "A data.frame: 1 x 2\n",
       "\n",
       "| mofa_result_name &lt;chr&gt; | compare_factors &lt;chr&gt; |\n",
       "|---|---|\n",
       "| MI_v1_MOFA | Factor1,Factor2,Factor3 |\n",
       "\n"
      ],
      "text/plain": [
       "  mofa_result_name compare_factors        \n",
       "1 MI_v1_MOFA       Factor1,Factor2,Factor3"
      ]
     },
     "metadata": {},
     "output_type": "display_data"
    }
   ],
   "source": [
    "configs07"
   ]
  },
  {
   "cell_type": "code",
   "execution_count": 50,
   "id": "416db26f-15c2-455b-8995-3ce87d1820d0",
   "metadata": {
    "tags": []
   },
   "outputs": [
    {
     "data": {
      "text/html": [
       "\n",
       "    <style>\n",
       "    .popup {\n",
       "      position: fixed;\n",
       "      top: 10px;\n",
       "      right: 20px;\n",
       "      background-color: #B5DC78;\n",
       "      border: 1px solid #ccc;\n",
       "      padding: 20px;\n",
       "      border-radius: 10px;\n",
       "      box-shadow: 0px 0px 10px rgba(0, 0, 0, 0.1);\n",
       "      display: none; /* Initially hidden */\n",
       "      z-index: 9999; /* Ensure it's on top of other content */\n",
       "      width: 300px; /* Set width of the popup */\n",
       "    }\n",
       "\n",
       "    .popup.show {\n",
       "      display: block; /* Show when .show class is added */\n",
       "    }\n",
       "    </style>\n",
       "\n",
       "    <script>\n",
       "    // Function to show the popup\n",
       "    function showPopup(message) {\n",
       "      var popup = document.getElementById(\"global-popup\");\n",
       "      if (!popup) {\n",
       "        // Inject the popup into the top-level body element if it doesn't exist\n",
       "        popup = document.createElement(\"div\");\n",
       "        popup.id = \"global-popup\";\n",
       "        popup.className = \"popup\";\n",
       "        document.body.appendChild(popup);\n",
       "      }\n",
       "      popup.innerHTML = message;\n",
       "      popup.classList.add(\"show\");\n",
       "\n",
       "      // Automatically hide the popup after 10 seconds (10000 milliseconds)\n",
       "      setTimeout(function(){\n",
       "        popup.classList.remove(\"show\");\n",
       "      }, 10000); // Adjust the time interval as needed\n",
       "    }\n",
       "\n",
       "    // Call the function to show the popup immediately with the provided message\n",
       "    showPopup(\"00_Configuration_Update: Execution Finished\");\n",
       "    </script>\n",
       "    "
      ]
     },
     "metadata": {},
     "output_type": "display_data"
    }
   ],
   "source": [
    "write.csv(configs07, 'configurations/07_Comparison_Configs.csv', row.names = FALSE)\n",
    "\n",
    "### Notify that exeuction finished successfully\n",
    "\n",
    "popup_function_pos('00_Configuration_Update: Execution Finished')"
   ]
  },
  {
   "cell_type": "code",
   "execution_count": 51,
   "id": "2650cda8-4165-4fa5-b787-5c5c21f7fe5e",
   "metadata": {},
   "outputs": [
    {
     "data": {
      "text/html": [
       "\n",
       "    <style>\n",
       "    .popup {\n",
       "      position: fixed;\n",
       "      top: 10px;\n",
       "      right: 20px;\n",
       "      background-color: #E7E7E7;\n",
       "      border: 1px solid #ccc;\n",
       "      padding: 20px;\n",
       "      border-radius: 10px;\n",
       "      box-shadow: 0px 0px 10px rgba(0, 0, 0, 0.1);\n",
       "      display: none; /* Initially hidden */\n",
       "      z-index: 9999; /* Ensure it's on top of other content */\n",
       "      width: 300px; /* Set width of the popup */\n",
       "    }\n",
       "\n",
       "    .popup.show {\n",
       "      display: block; /* Show when .show class is added */\n",
       "    }\n",
       "    </style>\n",
       "\n",
       "    <script>\n",
       "    // Function to show the popup\n",
       "    function showPopup(message) {\n",
       "      var popup = document.getElementById(\"global-popup\");\n",
       "      if (!popup) {\n",
       "        // Inject the popup into the top-level body element if it doesn't exist\n",
       "        popup = document.createElement(\"div\");\n",
       "        popup.id = \"global-popup\";\n",
       "        popup.className = \"popup\";\n",
       "        document.body.appendChild(popup);\n",
       "      }\n",
       "      popup.innerHTML = message;\n",
       "      popup.classList.add(\"show\");\n",
       "\n",
       "      // Automatically hide the popup after 10 seconds (10000 milliseconds)\n",
       "      setTimeout(function(){\n",
       "        popup.classList.remove(\"show\");\n",
       "      }, 10000); // Adjust the time interval as needed\n",
       "    }\n",
       "\n",
       "    // Call the function to show the popup immediately with the provided message\n",
       "    showPopup(\"00_Configuration_Update\");\n",
       "    </script>\n",
       "    "
      ]
     },
     "metadata": {},
     "output_type": "display_data"
    }
   ],
   "source": [
    "Sys.sleep(20)\n",
    "popup_function_info('00_Configuration_Update')"
   ]
  }
 ],
 "metadata": {
  "kernelspec": {
   "display_name": "R",
   "language": "R",
   "name": "ir"
  },
  "language_info": {
   "codemirror_mode": "r",
   "file_extension": ".r",
   "mimetype": "text/x-r-source",
   "name": "R",
   "pygments_lexer": "r",
   "version": "4.3.2"
  }
 },
 "nbformat": 4,
 "nbformat_minor": 5
}
