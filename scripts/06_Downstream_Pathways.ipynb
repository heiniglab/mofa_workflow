{
 "cells": [
  {
   "cell_type": "code",
   "execution_count": 889,
   "id": "d182c426-4d95-4dee-a099-cd923e9437d7",
   "metadata": {},
   "outputs": [],
   "source": [
    "### Script for Pathway enrichment analysis on MOFA results; requires a prepared pathway set input dataset"
   ]
  },
  {
   "cell_type": "markdown",
   "id": "213d69de-4705-4a6e-9387-b1a3413172eb",
   "metadata": {
    "tags": []
   },
   "source": [
    "#############################################\n",
    "# Prerequisites - Load Libraries"
   ]
  },
  {
   "cell_type": "code",
   "execution_count": 890,
   "id": "49f265d4-5df8-446f-ad65-4a49276593b0",
   "metadata": {
    "tags": []
   },
   "outputs": [
    {
     "name": "stderr",
     "output_type": "stream",
     "text": [
      "Warning message in read.table(file = file, header = header, sep = sep, quote = quote, :\n",
      "“incomplete final line found by readTableHeader on '../conda_environment/Environment_Configs.csv'”\n"
     ]
    },
    {
     "name": "stdout",
     "output_type": "stream",
     "text": [
      "[1] \"/home/icb/corinna.losert/miniconda3/envs/mofa_analysis//lib/R/library\"\n"
     ]
    }
   ],
   "source": [
    "source('MS0_Libraries.r')"
   ]
  },
  {
   "cell_type": "code",
   "execution_count": 891,
   "id": "ab19cd2b-a715-46d7-ab96-834040cc5018",
   "metadata": {
    "tags": []
   },
   "outputs": [],
   "source": [
    "source('MS2_Plot_Config.r')"
   ]
  },
  {
   "cell_type": "code",
   "execution_count": 892,
   "id": "f0a37ca6-9dd3-48e3-b4f8-e13ce1f4a24b",
   "metadata": {},
   "outputs": [],
   "source": [
    "source('MS1_Functions.r')"
   ]
  },
  {
   "cell_type": "markdown",
   "id": "9d409d14-a693-4722-9648-4b6bacb4b74a",
   "metadata": {
    "tags": []
   },
   "source": [
    "###############################################\n",
    "# Preqrequisites Configurations & Parameters"
   ]
  },
  {
   "cell_type": "code",
   "execution_count": 893,
   "id": "0646d771-c83e-4ee0-b20f-215e30f5ea35",
   "metadata": {},
   "outputs": [],
   "source": [
    "### Load the parameters that are set via the configuration files"
   ]
  },
  {
   "cell_type": "code",
   "execution_count": 894,
   "id": "578861cf-62ac-49a2-aaa6-0c91e751416b",
   "metadata": {},
   "outputs": [
    {
     "name": "stderr",
     "output_type": "stream",
     "text": [
      "Warning message in read.table(file = file, header = header, sep = sep, quote = quote, :\n",
      "“incomplete final line found by readTableHeader on 'configurations/Data_Configs.csv'”\n"
     ]
    }
   ],
   "source": [
    "### Load configurations file\n",
    "global_configs = read.csv('configurations/Data_Configs.csv', sep = ',')"
   ]
  },
  {
   "cell_type": "code",
   "execution_count": 895,
   "id": "1306e099-a83f-40ce-8ea6-7fe702c88747",
   "metadata": {},
   "outputs": [
    {
     "data": {
      "text/html": [
       "<table class=\"dataframe\">\n",
       "<caption>A data.frame: 2 × 2</caption>\n",
       "<thead>\n",
       "\t<tr><th></th><th scope=col>parameter</th><th scope=col>value</th></tr>\n",
       "\t<tr><th></th><th scope=col>&lt;chr&gt;</th><th scope=col>&lt;chr&gt;</th></tr>\n",
       "</thead>\n",
       "<tbody>\n",
       "\t<tr><th scope=row>1</th><td>data_path  </td><td>/lustre/groups/epigenereg01/workspace/projects/jove/example_data/   </td></tr>\n",
       "\t<tr><th scope=row>2</th><td>result_path</td><td>/lustre/groups/epigenereg01/workspace/projects/jove/example_results/</td></tr>\n",
       "</tbody>\n",
       "</table>\n"
      ],
      "text/latex": [
       "A data.frame: 2 × 2\n",
       "\\begin{tabular}{r|ll}\n",
       "  & parameter & value\\\\\n",
       "  & <chr> & <chr>\\\\\n",
       "\\hline\n",
       "\t1 & data\\_path   & /lustre/groups/epigenereg01/workspace/projects/jove/example\\_data/   \\\\\n",
       "\t2 & result\\_path & /lustre/groups/epigenereg01/workspace/projects/jove/example\\_results/\\\\\n",
       "\\end{tabular}\n"
      ],
      "text/markdown": [
       "\n",
       "A data.frame: 2 × 2\n",
       "\n",
       "| <!--/--> | parameter &lt;chr&gt; | value &lt;chr&gt; |\n",
       "|---|---|---|\n",
       "| 1 | data_path   | /lustre/groups/epigenereg01/workspace/projects/jove/example_data/    |\n",
       "| 2 | result_path | /lustre/groups/epigenereg01/workspace/projects/jove/example_results/ |\n",
       "\n"
      ],
      "text/plain": [
       "  parameter  \n",
       "1 data_path  \n",
       "2 result_path\n",
       "  value                                                               \n",
       "1 /lustre/groups/epigenereg01/workspace/projects/jove/example_data/   \n",
       "2 /lustre/groups/epigenereg01/workspace/projects/jove/example_results/"
      ]
     },
     "metadata": {},
     "output_type": "display_data"
    }
   ],
   "source": [
    "head(global_configs,2)"
   ]
  },
  {
   "cell_type": "code",
   "execution_count": 896,
   "id": "c1b570bb-26f4-4ba8-87ea-e4976278240b",
   "metadata": {},
   "outputs": [],
   "source": [
    "data_path = global_configs$value[global_configs$parameter == 'data_path']"
   ]
  },
  {
   "cell_type": "code",
   "execution_count": 897,
   "id": "b212cfcc-0368-442f-ab1e-54127c0d8654",
   "metadata": {},
   "outputs": [
    {
     "data": {
      "text/html": [
       "'/lustre/groups/epigenereg01/workspace/projects/jove/example_data/'"
      ],
      "text/latex": [
       "'/lustre/groups/epigenereg01/workspace/projects/jove/example\\_data/'"
      ],
      "text/markdown": [
       "'/lustre/groups/epigenereg01/workspace/projects/jove/example_data/'"
      ],
      "text/plain": [
       "[1] \"/lustre/groups/epigenereg01/workspace/projects/jove/example_data/\""
      ]
     },
     "metadata": {},
     "output_type": "display_data"
    }
   ],
   "source": [
    "data_path"
   ]
  },
  {
   "cell_type": "code",
   "execution_count": 898,
   "id": "e96fa55c-83ba-464d-9a8b-2e4c584c519f",
   "metadata": {},
   "outputs": [],
   "source": [
    "result_path = global_configs$value[global_configs$parameter == 'result_path']"
   ]
  },
  {
   "cell_type": "code",
   "execution_count": 899,
   "id": "7350f322-c30d-4bb9-8bc8-88b7df9df57e",
   "metadata": {},
   "outputs": [
    {
     "data": {
      "text/html": [
       "'/lustre/groups/epigenereg01/workspace/projects/jove/example_results/'"
      ],
      "text/latex": [
       "'/lustre/groups/epigenereg01/workspace/projects/jove/example\\_results/'"
      ],
      "text/markdown": [
       "'/lustre/groups/epigenereg01/workspace/projects/jove/example_results/'"
      ],
      "text/plain": [
       "[1] \"/lustre/groups/epigenereg01/workspace/projects/jove/example_results/\""
      ]
     },
     "metadata": {},
     "output_type": "display_data"
    }
   ],
   "source": [
    "result_path"
   ]
  },
  {
   "cell_type": "code",
   "execution_count": 900,
   "id": "0929af17-aae4-4f1a-aa23-d9a7d4afa033",
   "metadata": {},
   "outputs": [],
   "source": [
    "### Load the configuration for the pathway enrichment from the config file"
   ]
  },
  {
   "cell_type": "code",
   "execution_count": 901,
   "id": "02e6bb78-83e9-47cf-8288-5c93e30ea7aa",
   "metadata": {},
   "outputs": [
    {
     "name": "stderr",
     "output_type": "stream",
     "text": [
      "Warning message in read.table(file = file, header = header, sep = sep, quote = quote, :\n",
      "“incomplete final line found by readTableHeader on 'configurations/06_Pathway_Configs.csv'”\n"
     ]
    }
   ],
   "source": [
    "pathway_configs = read.csv('configurations/06_Pathway_Configs.csv', sep = ',')"
   ]
  },
  {
   "cell_type": "code",
   "execution_count": 902,
   "id": "f9f4ee34-34a3-4a18-8954-47a920fd6e98",
   "metadata": {},
   "outputs": [
    {
     "data": {
      "text/html": [
       "<table class=\"dataframe\">\n",
       "<caption>A data.frame: 1 × 10</caption>\n",
       "<thead>\n",
       "\t<tr><th></th><th scope=col>mofa_result_name</th><th scope=col>factor_set</th><th scope=col>coverage_par</th><th scope=col>types</th><th scope=col>coverage_plot</th><th scope=col>p_value_plot</th><th scope=col>max_pathways_plot</th><th scope=col>enrichment_plot</th><th scope=col>top_features_plot</th><th scope=col>pathway_selection</th></tr>\n",
       "\t<tr><th></th><th scope=col>&lt;chr&gt;</th><th scope=col>&lt;chr&gt;</th><th scope=col>&lt;dbl&gt;</th><th scope=col>&lt;chr&gt;</th><th scope=col>&lt;dbl&gt;</th><th scope=col>&lt;dbl&gt;</th><th scope=col>&lt;int&gt;</th><th scope=col>&lt;chr&gt;</th><th scope=col>&lt;dbl&gt;</th><th scope=col>&lt;lgl&gt;</th></tr>\n",
       "</thead>\n",
       "<tbody>\n",
       "\t<tr><th scope=row>1</th><td>MI_v1_MOFA</td><td>1,2,3</td><td>0.2</td><td>myeloid.cell,mural.cell,fibroblast.of.cardiac.tissue,mast.cell,lymphocyte,endothelial.cell,cardiac.neuron,cardiac.muscle.cell,adipocyte</td><td>0.5</td><td>0.05</td><td>8</td><td>negative</td><td>0.125</td><td>NA</td></tr>\n",
       "</tbody>\n",
       "</table>\n"
      ],
      "text/latex": [
       "A data.frame: 1 × 10\n",
       "\\begin{tabular}{r|llllllllll}\n",
       "  & mofa\\_result\\_name & factor\\_set & coverage\\_par & types & coverage\\_plot & p\\_value\\_plot & max\\_pathways\\_plot & enrichment\\_plot & top\\_features\\_plot & pathway\\_selection\\\\\n",
       "  & <chr> & <chr> & <dbl> & <chr> & <dbl> & <dbl> & <int> & <chr> & <dbl> & <lgl>\\\\\n",
       "\\hline\n",
       "\t1 & MI\\_v1\\_MOFA & 1,2,3 & 0.2 & myeloid.cell,mural.cell,fibroblast.of.cardiac.tissue,mast.cell,lymphocyte,endothelial.cell,cardiac.neuron,cardiac.muscle.cell,adipocyte & 0.5 & 0.05 & 8 & negative & 0.125 & NA\\\\\n",
       "\\end{tabular}\n"
      ],
      "text/markdown": [
       "\n",
       "A data.frame: 1 × 10\n",
       "\n",
       "| <!--/--> | mofa_result_name &lt;chr&gt; | factor_set &lt;chr&gt; | coverage_par &lt;dbl&gt; | types &lt;chr&gt; | coverage_plot &lt;dbl&gt; | p_value_plot &lt;dbl&gt; | max_pathways_plot &lt;int&gt; | enrichment_plot &lt;chr&gt; | top_features_plot &lt;dbl&gt; | pathway_selection &lt;lgl&gt; |\n",
       "|---|---|---|---|---|---|---|---|---|---|---|\n",
       "| 1 | MI_v1_MOFA | 1,2,3 | 0.2 | myeloid.cell,mural.cell,fibroblast.of.cardiac.tissue,mast.cell,lymphocyte,endothelial.cell,cardiac.neuron,cardiac.muscle.cell,adipocyte | 0.5 | 0.05 | 8 | negative | 0.125 | NA |\n",
       "\n"
      ],
      "text/plain": [
       "  mofa_result_name factor_set coverage_par\n",
       "1 MI_v1_MOFA       1,2,3      0.2         \n",
       "  types                                                                                                                                  \n",
       "1 myeloid.cell,mural.cell,fibroblast.of.cardiac.tissue,mast.cell,lymphocyte,endothelial.cell,cardiac.neuron,cardiac.muscle.cell,adipocyte\n",
       "  coverage_plot p_value_plot max_pathways_plot enrichment_plot\n",
       "1 0.5           0.05         8                 negative       \n",
       "  top_features_plot pathway_selection\n",
       "1 0.125             NA               "
      ]
     },
     "metadata": {},
     "output_type": "display_data"
    }
   ],
   "source": [
    "head(pathway_configs)"
   ]
  },
  {
   "cell_type": "code",
   "execution_count": 903,
   "id": "e9d50356-f21f-4410-839e-8d3a160dd8ed",
   "metadata": {},
   "outputs": [],
   "source": [
    "### Generate the result data directory if it does not exist yet\n",
    "if(!file.exists(paste0(result_path, '06_results'))){\n",
    "    dir.create(file.path(paste0(result_path, '06_results')))\n",
    "    }"
   ]
  },
  {
   "cell_type": "markdown",
   "id": "47a498a2-73ff-4bed-9a9b-cd911f61db70",
   "metadata": {},
   "source": [
    "# Define parameters "
   ]
  },
  {
   "cell_type": "code",
   "execution_count": 904,
   "id": "88b6e1e4-1015-46ed-a9f5-d89e4225d8b7",
   "metadata": {},
   "outputs": [],
   "source": [
    "### Save values from loaded config file in variables"
   ]
  },
  {
   "cell_type": "code",
   "execution_count": 905,
   "id": "864b5b1e-4f82-4f00-8481-7639a9ba85fa",
   "metadata": {},
   "outputs": [],
   "source": [
    "## For the calculation of the pathway enrichment"
   ]
  },
  {
   "cell_type": "code",
   "execution_count": 906,
   "id": "df558a43-5a61-44a0-baae-bf28e9ec100c",
   "metadata": {},
   "outputs": [],
   "source": [
    "mofa_name = pathway_configs$mofa_result_name[1]   # mofa results that should be used"
   ]
  },
  {
   "cell_type": "code",
   "execution_count": 907,
   "id": "4e086640-cbd1-4541-b5da-99b3f355a328",
   "metadata": {},
   "outputs": [],
   "source": [
    "factor_set = as.numeric(unlist(str_split(pathway_configs$factor_set[1], ',')))  # factors for which enrichment analysis should be executed"
   ]
  },
  {
   "cell_type": "code",
   "execution_count": 908,
   "id": "a0e2a3f1-001a-4e4c-b8ed-cb86127b3571",
   "metadata": {},
   "outputs": [],
   "source": [
    "coverage_par = pathway_configs$coverage_par[1] # coverage parameter: how many of the genes of a pathway need to be included in the MOFA feature set for testing this pathway for enrichment"
   ]
  },
  {
   "cell_type": "code",
   "execution_count": 909,
   "id": "4f1ca639-8ab9-49dc-82df-1d7a0c5f68ef",
   "metadata": {},
   "outputs": [],
   "source": [
    "views_set = unlist(str_split( pathway_configs$types[1], ','))  # extract the views for which a view-specific pathway enrichment analysis should be executed"
   ]
  },
  {
   "cell_type": "code",
   "execution_count": 910,
   "id": "cfade333-33ee-4f75-b4c8-71e11c2a37fb",
   "metadata": {},
   "outputs": [
    {
     "data": {
      "text/html": [
       "<style>\n",
       ".list-inline {list-style: none; margin:0; padding: 0}\n",
       ".list-inline>li {display: inline-block}\n",
       ".list-inline>li:not(:last-child)::after {content: \"\\00b7\"; padding: 0 .5ex}\n",
       "</style>\n",
       "<ol class=list-inline><li>'myeloid.cell'</li><li>'mural.cell'</li><li>'fibroblast.of.cardiac.tissue'</li><li>'mast.cell'</li><li>'lymphocyte'</li><li>'endothelial.cell'</li><li>'cardiac.neuron'</li><li>'cardiac.muscle.cell'</li><li>'adipocyte'</li></ol>\n"
      ],
      "text/latex": [
       "\\begin{enumerate*}\n",
       "\\item 'myeloid.cell'\n",
       "\\item 'mural.cell'\n",
       "\\item 'fibroblast.of.cardiac.tissue'\n",
       "\\item 'mast.cell'\n",
       "\\item 'lymphocyte'\n",
       "\\item 'endothelial.cell'\n",
       "\\item 'cardiac.neuron'\n",
       "\\item 'cardiac.muscle.cell'\n",
       "\\item 'adipocyte'\n",
       "\\end{enumerate*}\n"
      ],
      "text/markdown": [
       "1. 'myeloid.cell'\n",
       "2. 'mural.cell'\n",
       "3. 'fibroblast.of.cardiac.tissue'\n",
       "4. 'mast.cell'\n",
       "5. 'lymphocyte'\n",
       "6. 'endothelial.cell'\n",
       "7. 'cardiac.neuron'\n",
       "8. 'cardiac.muscle.cell'\n",
       "9. 'adipocyte'\n",
       "\n",
       "\n"
      ],
      "text/plain": [
       "[1] \"myeloid.cell\"                 \"mural.cell\"                  \n",
       "[3] \"fibroblast.of.cardiac.tissue\" \"mast.cell\"                   \n",
       "[5] \"lymphocyte\"                   \"endothelial.cell\"            \n",
       "[7] \"cardiac.neuron\"               \"cardiac.muscle.cell\"         \n",
       "[9] \"adipocyte\"                   "
      ]
     },
     "metadata": {},
     "output_type": "display_data"
    }
   ],
   "source": [
    "views_set"
   ]
  },
  {
   "cell_type": "code",
   "execution_count": 911,
   "id": "d48078ce-671e-416b-b7c5-757f7372d3da",
   "metadata": {},
   "outputs": [],
   "source": [
    "## Parameters for the visualization of pathways"
   ]
  },
  {
   "cell_type": "code",
   "execution_count": 912,
   "id": "bd3201a4-3fea-487c-9e1b-a05ab8859c45",
   "metadata": {},
   "outputs": [],
   "source": [
    "### Select pathways based on thresholds (like coverage, p-value, direction of enrichment)\n",
    "coverage_par = pathway_configs$coverage_plot[1]\n",
    "p_value_cutoff_plot =pathway_configs$p_value_plot[1]\n",
    "max_pathways =pathway_configs$max_pathways_plot[1]\n",
    "select_enrichment = pathway_configs$enrichment_plot[1]\n",
    "\n",
    "### Alternative: select pathways based on their specified names\n",
    "pathway_selection_var =pathway_configs$pathway_selection[1]"
   ]
  },
  {
   "cell_type": "code",
   "execution_count": 913,
   "id": "d9298328-bdd3-4991-bb2b-966a20ccde78",
   "metadata": {},
   "outputs": [
    {
     "data": {
      "text/html": [
       "&lt;NA&gt;"
      ],
      "text/latex": [
       "<NA>"
      ],
      "text/markdown": [
       "&lt;NA&gt;"
      ],
      "text/plain": [
       "[1] NA"
      ]
     },
     "metadata": {},
     "output_type": "display_data"
    }
   ],
   "source": [
    "pathway_selection_var"
   ]
  },
  {
   "cell_type": "code",
   "execution_count": 914,
   "id": "7af39745-7dbc-4dce-a760-ed2d72e3976f",
   "metadata": {},
   "outputs": [],
   "source": [
    "### For visualization define which genes should be ploted (need to be among the top x% of features for the Factor)\n",
    "top_var_thres =pathway_configs$top_features_plot[1] # choose threshold of top x % of features of MOFA factor to take into account"
   ]
  },
  {
   "cell_type": "code",
   "execution_count": 915,
   "id": "35f43524-b597-4952-a2d5-6756148d9379",
   "metadata": {},
   "outputs": [],
   "source": [
    "## Fixed parameters (may be modified here)"
   ]
  },
  {
   "cell_type": "code",
   "execution_count": 916,
   "id": "979816d7-fed6-4aa4-ab1a-ff84fd5831ce",
   "metadata": {},
   "outputs": [],
   "source": [
    "## For enrichment calculation\n",
    "use_statistic = \"rank.sum\" # which statistic to use to calcuate the enrichment; alternatives: mean.diff, rank.sum\n",
    "use_test = 'parametric'  # which test to use to test the enrichment; alternatives: permutation, parametric, \"cor.adj.parametric\"\n",
    "p_val_cutoff = 0.05\n",
    "min_size = 5"
   ]
  },
  {
   "cell_type": "code",
   "execution_count": null,
   "id": "cfe4b50c-9602-40ac-a886-a2058dd80c5c",
   "metadata": {},
   "outputs": [],
   "source": []
  },
  {
   "cell_type": "markdown",
   "id": "43e2937f-4e6d-4e90-99f2-2f7c370f9639",
   "metadata": {
    "tags": []
   },
   "source": [
    "# Load Data "
   ]
  },
  {
   "cell_type": "markdown",
   "id": "9c532318-cf55-47b9-ba16-31b10391ff6a",
   "metadata": {},
   "source": [
    "## Model Data"
   ]
  },
  {
   "cell_type": "code",
   "execution_count": 917,
   "id": "54bbc68f-377a-4058-b5da-57ae261a1b47",
   "metadata": {},
   "outputs": [],
   "source": [
    "### Load the trained MOFA Model"
   ]
  },
  {
   "cell_type": "code",
   "execution_count": 918,
   "id": "f0aeb981-5cd3-4e0d-a9a4-574335dcebd9",
   "metadata": {},
   "outputs": [],
   "source": [
    "model_name =  paste0(\"03_MOFA_MODEL_\", mofa_name,'.hdf5')"
   ]
  },
  {
   "cell_type": "code",
   "execution_count": 919,
   "id": "21486773-c9a7-41bd-a933-f01ac207b731",
   "metadata": {},
   "outputs": [],
   "source": [
    "outfile = file.path( paste0(result_path, '/03_results/',  model_name) )"
   ]
  },
  {
   "cell_type": "code",
   "execution_count": 920,
   "id": "f7d86d16-52a8-425b-9855-794259a4b4ea",
   "metadata": {},
   "outputs": [
    {
     "data": {
      "text/html": [
       "'/lustre/groups/epigenereg01/workspace/projects/jove/example_results//03_results/03_MOFA_MODEL_MI_v1_MOFA.hdf5'"
      ],
      "text/latex": [
       "'/lustre/groups/epigenereg01/workspace/projects/jove/example\\_results//03\\_results/03\\_MOFA\\_MODEL\\_MI\\_v1\\_MOFA.hdf5'"
      ],
      "text/markdown": [
       "'/lustre/groups/epigenereg01/workspace/projects/jove/example_results//03_results/03_MOFA_MODEL_MI_v1_MOFA.hdf5'"
      ],
      "text/plain": [
       "[1] \"/lustre/groups/epigenereg01/workspace/projects/jove/example_results//03_results/03_MOFA_MODEL_MI_v1_MOFA.hdf5\""
      ]
     },
     "metadata": {},
     "output_type": "display_data"
    }
   ],
   "source": [
    "outfile"
   ]
  },
  {
   "cell_type": "code",
   "execution_count": 921,
   "id": "8f2d4649-8f0c-416a-a211-c47fa63a7e41",
   "metadata": {
    "tags": []
   },
   "outputs": [
    {
     "name": "stderr",
     "output_type": "stream",
     "text": [
      "Loading data...\n",
      "\n",
      "Loading expectations for 2 nodes...\n",
      "\n",
      "Loading model options...\n",
      "\n",
      "Loading training options and statistics...\n",
      "\n",
      "Assigning names to the different dimensions...\n",
      "\n",
      "Re-ordering factors by their variance explained...\n",
      "\n",
      "Doing quality control...\n",
      "\n",
      "Checking views names...\n",
      "\n",
      "Checking groups names...\n",
      "\n",
      "Checking samples names...\n",
      "\n",
      "Checking features names...\n",
      "\n",
      "Checking dimensions...\n",
      "\n",
      "Checking there are no features with complete missing values...\n",
      "\n",
      "Checking sample covariates...\n",
      "\n",
      "Checking expectations...\n",
      "\n",
      "Checking for intercept factors...\n",
      "\n",
      "Warning message in .quality_control(object, verbose = verbose):\n",
      "“Factor(s) 2, 8 are strongly correlated with the total number of expressed features for at least one of your omics. Such factors appear when there are differences in the total 'levels' between your samples, *sometimes* because of poor normalisation in the preprocessing steps.\n",
      "”\n",
      "Checking for highly correlated factors...\n",
      "\n"
     ]
    }
   ],
   "source": [
    "model <- load_model(outfile, verbose = TRUE)"
   ]
  },
  {
   "cell_type": "markdown",
   "id": "70373296-fe48-46b9-9e5f-c0530518eff8",
   "metadata": {
    "tags": []
   },
   "source": [
    "## Pathways"
   ]
  },
  {
   "cell_type": "code",
   "execution_count": 922,
   "id": "79033415-1285-4e75-8e7b-c8aea802be82",
   "metadata": {},
   "outputs": [],
   "source": [
    "### Load the pre-defined pathway set( needs to include the columns:\n",
    "# ID (unique identifier of the pathway)\n",
    "# gene : gene-symbol of the gene belonging to the pathway (will be matched to the MOFA features)\n",
    "# pathway_name: a textual description of the pathway "
   ]
  },
  {
   "cell_type": "code",
   "execution_count": 923,
   "id": "35a71ce1-443b-4dda-8187-85c79c0e4f4f",
   "metadata": {},
   "outputs": [],
   "source": [
    "pathways =  read.csv(paste0(data_path, 'Prepared_Pathway_Data.csv'))\n",
    "pathways$X = NULL"
   ]
  },
  {
   "cell_type": "code",
   "execution_count": 924,
   "id": "991b2cc4-e6cb-495c-8d52-75666f967096",
   "metadata": {},
   "outputs": [
    {
     "data": {
      "text/html": [
       "<table class=\"dataframe\">\n",
       "<caption>A data.frame: 2 × 3</caption>\n",
       "<thead>\n",
       "\t<tr><th></th><th scope=col>ID</th><th scope=col>gene</th><th scope=col>pathway_name</th></tr>\n",
       "\t<tr><th></th><th scope=col>&lt;chr&gt;</th><th scope=col>&lt;chr&gt;</th><th scope=col>&lt;chr&gt;</th></tr>\n",
       "</thead>\n",
       "<tbody>\n",
       "\t<tr><th scope=row>1</th><td>R-HSA-1059683</td><td>JAK1 </td><td>Interleukin-6 signaling</td></tr>\n",
       "\t<tr><th scope=row>2</th><td>R-HSA-1059683</td><td>STAT1</td><td>Interleukin-6 signaling</td></tr>\n",
       "</tbody>\n",
       "</table>\n"
      ],
      "text/latex": [
       "A data.frame: 2 × 3\n",
       "\\begin{tabular}{r|lll}\n",
       "  & ID & gene & pathway\\_name\\\\\n",
       "  & <chr> & <chr> & <chr>\\\\\n",
       "\\hline\n",
       "\t1 & R-HSA-1059683 & JAK1  & Interleukin-6 signaling\\\\\n",
       "\t2 & R-HSA-1059683 & STAT1 & Interleukin-6 signaling\\\\\n",
       "\\end{tabular}\n"
      ],
      "text/markdown": [
       "\n",
       "A data.frame: 2 × 3\n",
       "\n",
       "| <!--/--> | ID &lt;chr&gt; | gene &lt;chr&gt; | pathway_name &lt;chr&gt; |\n",
       "|---|---|---|---|\n",
       "| 1 | R-HSA-1059683 | JAK1  | Interleukin-6 signaling |\n",
       "| 2 | R-HSA-1059683 | STAT1 | Interleukin-6 signaling |\n",
       "\n"
      ],
      "text/plain": [
       "  ID            gene  pathway_name           \n",
       "1 R-HSA-1059683 JAK1  Interleukin-6 signaling\n",
       "2 R-HSA-1059683 STAT1 Interleukin-6 signaling"
      ]
     },
     "metadata": {},
     "output_type": "display_data"
    }
   ],
   "source": [
    "head(pathways,2)"
   ]
  },
  {
   "cell_type": "markdown",
   "id": "46e3576c-af99-4c04-9b7b-35c06c7db34c",
   "metadata": {},
   "source": [
    "# Prepare model data"
   ]
  },
  {
   "cell_type": "markdown",
   "id": "c3f2a67b-a604-43cd-8231-a8fedd53e0ee",
   "metadata": {},
   "source": [
    "## Extract the weights from the model"
   ]
  },
  {
   "cell_type": "code",
   "execution_count": 925,
   "id": "80d0de5e-6d7b-4edf-baf4-26f9681fd65c",
   "metadata": {},
   "outputs": [],
   "source": [
    "### Get the feature weights from the model and prepare the format"
   ]
  },
  {
   "cell_type": "code",
   "execution_count": 926,
   "id": "7fb063ef-e664-4c8d-bfd2-70287c7c3911",
   "metadata": {},
   "outputs": [
    {
     "data": {
      "text/html": [
       "<table class=\"dataframe\">\n",
       "<caption>A data.frame: 6 × 14</caption>\n",
       "<thead>\n",
       "\t<tr><th></th><th scope=col>Factor1</th><th scope=col>Factor2</th><th scope=col>Factor3</th><th scope=col>Factor4</th><th scope=col>Factor5</th><th scope=col>Factor6</th><th scope=col>Factor7</th><th scope=col>Factor8</th><th scope=col>Factor9</th><th scope=col>Factor10</th><th scope=col>type</th><th scope=col>variable_name</th><th scope=col>view</th><th scope=col>gene</th></tr>\n",
       "\t<tr><th></th><th scope=col>&lt;dbl&gt;</th><th scope=col>&lt;dbl&gt;</th><th scope=col>&lt;dbl&gt;</th><th scope=col>&lt;dbl&gt;</th><th scope=col>&lt;dbl&gt;</th><th scope=col>&lt;dbl&gt;</th><th scope=col>&lt;dbl&gt;</th><th scope=col>&lt;dbl&gt;</th><th scope=col>&lt;dbl&gt;</th><th scope=col>&lt;dbl&gt;</th><th scope=col>&lt;chr&gt;</th><th scope=col>&lt;chr&gt;</th><th scope=col>&lt;chr&gt;</th><th scope=col>&lt;chr&gt;</th></tr>\n",
       "</thead>\n",
       "<tbody>\n",
       "\t<tr><th scope=row>adipocyte__ABI1</th><td>-0.16729734</td><td>-0.0212781961</td><td> 0.04680285</td><td>-0.016812213</td><td> 0.030347374</td><td> 0.203569526</td><td>-0.16049232</td><td>-0.3918164</td><td>-0.006508904</td><td>-0.002958227</td><td>adipocyte</td><td>adipocyte__ABI1</td><td>adipocyte</td><td>ABI1</td></tr>\n",
       "\t<tr><th scope=row>adipocyte__ABI2</th><td> 0.04293374</td><td> 0.0002131761</td><td>-0.08831489</td><td>-0.019120189</td><td>-0.004198510</td><td>-0.001043558</td><td>-0.13235444</td><td>-1.6351764</td><td> 0.113636161</td><td> 0.004678130</td><td>adipocyte</td><td>adipocyte__ABI2</td><td>adipocyte</td><td>ABI2</td></tr>\n",
       "\t<tr><th scope=row>adipocyte__ABL1</th><td> 0.09751513</td><td>-0.0630781553</td><td>-0.05471721</td><td> 0.028032557</td><td> 0.008731156</td><td> 0.010634944</td><td> 0.23650912</td><td>-0.9663811</td><td>-0.030435844</td><td> 0.003306451</td><td>adipocyte</td><td>adipocyte__ABL1</td><td>adipocyte</td><td>ABL1</td></tr>\n",
       "\t<tr><th scope=row>adipocyte__ABL2</th><td> 0.05848752</td><td> 0.1293690713</td><td>-0.02835816</td><td>-0.007998253</td><td> 0.002762416</td><td>-0.054200865</td><td>-0.08235982</td><td>-1.1974129</td><td> 0.038830668</td><td>-0.033597339</td><td>adipocyte</td><td>adipocyte__ABL2</td><td>adipocyte</td><td>ABL2</td></tr>\n",
       "\t<tr><th scope=row>adipocyte__ACLY</th><td> 0.27296034</td><td> 0.0323241477</td><td>-0.12582902</td><td>-0.004415822</td><td> 0.019717190</td><td>-0.256614723</td><td>-0.02932352</td><td>-1.4521545</td><td>-0.072279904</td><td> 0.002201647</td><td>adipocyte</td><td>adipocyte__ACLY</td><td>adipocyte</td><td>ACLY</td></tr>\n",
       "\t<tr><th scope=row>adipocyte__ACTB</th><td> 0.14216662</td><td> 0.1760970278</td><td> 0.27535008</td><td> 0.008460503</td><td>-0.024404793</td><td>-0.015245490</td><td>-0.19601077</td><td>-0.8561824</td><td> 0.015738270</td><td> 0.014856187</td><td>adipocyte</td><td>adipocyte__ACTB</td><td>adipocyte</td><td>ACTB</td></tr>\n",
       "</tbody>\n",
       "</table>\n"
      ],
      "text/latex": [
       "A data.frame: 6 × 14\n",
       "\\begin{tabular}{r|llllllllllllll}\n",
       "  & Factor1 & Factor2 & Factor3 & Factor4 & Factor5 & Factor6 & Factor7 & Factor8 & Factor9 & Factor10 & type & variable\\_name & view & gene\\\\\n",
       "  & <dbl> & <dbl> & <dbl> & <dbl> & <dbl> & <dbl> & <dbl> & <dbl> & <dbl> & <dbl> & <chr> & <chr> & <chr> & <chr>\\\\\n",
       "\\hline\n",
       "\tadipocyte\\_\\_ABI1 & -0.16729734 & -0.0212781961 &  0.04680285 & -0.016812213 &  0.030347374 &  0.203569526 & -0.16049232 & -0.3918164 & -0.006508904 & -0.002958227 & adipocyte & adipocyte\\_\\_ABI1 & adipocyte & ABI1\\\\\n",
       "\tadipocyte\\_\\_ABI2 &  0.04293374 &  0.0002131761 & -0.08831489 & -0.019120189 & -0.004198510 & -0.001043558 & -0.13235444 & -1.6351764 &  0.113636161 &  0.004678130 & adipocyte & adipocyte\\_\\_ABI2 & adipocyte & ABI2\\\\\n",
       "\tadipocyte\\_\\_ABL1 &  0.09751513 & -0.0630781553 & -0.05471721 &  0.028032557 &  0.008731156 &  0.010634944 &  0.23650912 & -0.9663811 & -0.030435844 &  0.003306451 & adipocyte & adipocyte\\_\\_ABL1 & adipocyte & ABL1\\\\\n",
       "\tadipocyte\\_\\_ABL2 &  0.05848752 &  0.1293690713 & -0.02835816 & -0.007998253 &  0.002762416 & -0.054200865 & -0.08235982 & -1.1974129 &  0.038830668 & -0.033597339 & adipocyte & adipocyte\\_\\_ABL2 & adipocyte & ABL2\\\\\n",
       "\tadipocyte\\_\\_ACLY &  0.27296034 &  0.0323241477 & -0.12582902 & -0.004415822 &  0.019717190 & -0.256614723 & -0.02932352 & -1.4521545 & -0.072279904 &  0.002201647 & adipocyte & adipocyte\\_\\_ACLY & adipocyte & ACLY\\\\\n",
       "\tadipocyte\\_\\_ACTB &  0.14216662 &  0.1760970278 &  0.27535008 &  0.008460503 & -0.024404793 & -0.015245490 & -0.19601077 & -0.8561824 &  0.015738270 &  0.014856187 & adipocyte & adipocyte\\_\\_ACTB & adipocyte & ACTB\\\\\n",
       "\\end{tabular}\n"
      ],
      "text/markdown": [
       "\n",
       "A data.frame: 6 × 14\n",
       "\n",
       "| <!--/--> | Factor1 &lt;dbl&gt; | Factor2 &lt;dbl&gt; | Factor3 &lt;dbl&gt; | Factor4 &lt;dbl&gt; | Factor5 &lt;dbl&gt; | Factor6 &lt;dbl&gt; | Factor7 &lt;dbl&gt; | Factor8 &lt;dbl&gt; | Factor9 &lt;dbl&gt; | Factor10 &lt;dbl&gt; | type &lt;chr&gt; | variable_name &lt;chr&gt; | view &lt;chr&gt; | gene &lt;chr&gt; |\n",
       "|---|---|---|---|---|---|---|---|---|---|---|---|---|---|---|\n",
       "| adipocyte__ABI1 | -0.16729734 | -0.0212781961 |  0.04680285 | -0.016812213 |  0.030347374 |  0.203569526 | -0.16049232 | -0.3918164 | -0.006508904 | -0.002958227 | adipocyte | adipocyte__ABI1 | adipocyte | ABI1 |\n",
       "| adipocyte__ABI2 |  0.04293374 |  0.0002131761 | -0.08831489 | -0.019120189 | -0.004198510 | -0.001043558 | -0.13235444 | -1.6351764 |  0.113636161 |  0.004678130 | adipocyte | adipocyte__ABI2 | adipocyte | ABI2 |\n",
       "| adipocyte__ABL1 |  0.09751513 | -0.0630781553 | -0.05471721 |  0.028032557 |  0.008731156 |  0.010634944 |  0.23650912 | -0.9663811 | -0.030435844 |  0.003306451 | adipocyte | adipocyte__ABL1 | adipocyte | ABL1 |\n",
       "| adipocyte__ABL2 |  0.05848752 |  0.1293690713 | -0.02835816 | -0.007998253 |  0.002762416 | -0.054200865 | -0.08235982 | -1.1974129 |  0.038830668 | -0.033597339 | adipocyte | adipocyte__ABL2 | adipocyte | ABL2 |\n",
       "| adipocyte__ACLY |  0.27296034 |  0.0323241477 | -0.12582902 | -0.004415822 |  0.019717190 | -0.256614723 | -0.02932352 | -1.4521545 | -0.072279904 |  0.002201647 | adipocyte | adipocyte__ACLY | adipocyte | ACLY |\n",
       "| adipocyte__ACTB |  0.14216662 |  0.1760970278 |  0.27535008 |  0.008460503 | -0.024404793 | -0.015245490 | -0.19601077 | -0.8561824 |  0.015738270 |  0.014856187 | adipocyte | adipocyte__ACTB | adipocyte | ACTB |\n",
       "\n"
      ],
      "text/plain": [
       "                Factor1     Factor2       Factor3     Factor4      Factor5     \n",
       "adipocyte__ABI1 -0.16729734 -0.0212781961  0.04680285 -0.016812213  0.030347374\n",
       "adipocyte__ABI2  0.04293374  0.0002131761 -0.08831489 -0.019120189 -0.004198510\n",
       "adipocyte__ABL1  0.09751513 -0.0630781553 -0.05471721  0.028032557  0.008731156\n",
       "adipocyte__ABL2  0.05848752  0.1293690713 -0.02835816 -0.007998253  0.002762416\n",
       "adipocyte__ACLY  0.27296034  0.0323241477 -0.12582902 -0.004415822  0.019717190\n",
       "adipocyte__ACTB  0.14216662  0.1760970278  0.27535008  0.008460503 -0.024404793\n",
       "                Factor6      Factor7     Factor8    Factor9      Factor10    \n",
       "adipocyte__ABI1  0.203569526 -0.16049232 -0.3918164 -0.006508904 -0.002958227\n",
       "adipocyte__ABI2 -0.001043558 -0.13235444 -1.6351764  0.113636161  0.004678130\n",
       "adipocyte__ABL1  0.010634944  0.23650912 -0.9663811 -0.030435844  0.003306451\n",
       "adipocyte__ABL2 -0.054200865 -0.08235982 -1.1974129  0.038830668 -0.033597339\n",
       "adipocyte__ACLY -0.256614723 -0.02932352 -1.4521545 -0.072279904  0.002201647\n",
       "adipocyte__ACTB -0.015245490 -0.19601077 -0.8561824  0.015738270  0.014856187\n",
       "                type      variable_name   view      gene\n",
       "adipocyte__ABI1 adipocyte adipocyte__ABI1 adipocyte ABI1\n",
       "adipocyte__ABI2 adipocyte adipocyte__ABI2 adipocyte ABI2\n",
       "adipocyte__ABL1 adipocyte adipocyte__ABL1 adipocyte ABL1\n",
       "adipocyte__ABL2 adipocyte adipocyte__ABL2 adipocyte ABL2\n",
       "adipocyte__ACLY adipocyte adipocyte__ACLY adipocyte ACLY\n",
       "adipocyte__ACTB adipocyte adipocyte__ACTB adipocyte ACTB"
      ]
     },
     "metadata": {},
     "output_type": "display_data"
    }
   ],
   "source": [
    "weights = get_weights(model, views = \"all\", factors = \"all\")\n",
    "weight_data = data.frame()\n",
    "for (i in names(weights)){\n",
    "    data = data.frame(weights[[i]])\n",
    "    data$type = i\n",
    "    weight_data = rbind(weight_data,data)\n",
    "}\n",
    "weight_data$variable_name = rownames(weight_data)\n",
    "weight_data$view <- weight_data$type \n",
    "weight_data$gene = sapply(strsplit(weight_data$variable_name, \"_\"), \"[\", 3)\n",
    "head(weight_data)"
   ]
  },
  {
   "cell_type": "code",
   "execution_count": 927,
   "id": "11afe383-a846-4e74-9b96-af6bd0043b15",
   "metadata": {},
   "outputs": [],
   "source": [
    "## Transform to long format"
   ]
  },
  {
   "cell_type": "code",
   "execution_count": 928,
   "id": "d7769bc7-2dab-43b3-ab1d-ca7943e1afc7",
   "metadata": {},
   "outputs": [
    {
     "name": "stderr",
     "output_type": "stream",
     "text": [
      "Using type, variable_name, view, gene as id variables\n",
      "\n"
     ]
    }
   ],
   "source": [
    "feature_weights_long = melt(weight_data)"
   ]
  },
  {
   "cell_type": "code",
   "execution_count": 929,
   "id": "2f2f453f-0550-47c6-9cde-12498561987d",
   "metadata": {},
   "outputs": [
    {
     "data": {
      "text/html": [
       "<table class=\"dataframe\">\n",
       "<caption>A data.frame: 2 × 6</caption>\n",
       "<thead>\n",
       "\t<tr><th></th><th scope=col>type</th><th scope=col>variable_name</th><th scope=col>view</th><th scope=col>gene</th><th scope=col>variable</th><th scope=col>value</th></tr>\n",
       "\t<tr><th></th><th scope=col>&lt;chr&gt;</th><th scope=col>&lt;chr&gt;</th><th scope=col>&lt;chr&gt;</th><th scope=col>&lt;chr&gt;</th><th scope=col>&lt;fct&gt;</th><th scope=col>&lt;dbl&gt;</th></tr>\n",
       "</thead>\n",
       "<tbody>\n",
       "\t<tr><th scope=row>1</th><td>adipocyte</td><td>adipocyte__ABI1</td><td>adipocyte</td><td>ABI1</td><td>Factor1</td><td>-0.16729734</td></tr>\n",
       "\t<tr><th scope=row>2</th><td>adipocyte</td><td>adipocyte__ABI2</td><td>adipocyte</td><td>ABI2</td><td>Factor1</td><td> 0.04293374</td></tr>\n",
       "</tbody>\n",
       "</table>\n"
      ],
      "text/latex": [
       "A data.frame: 2 × 6\n",
       "\\begin{tabular}{r|llllll}\n",
       "  & type & variable\\_name & view & gene & variable & value\\\\\n",
       "  & <chr> & <chr> & <chr> & <chr> & <fct> & <dbl>\\\\\n",
       "\\hline\n",
       "\t1 & adipocyte & adipocyte\\_\\_ABI1 & adipocyte & ABI1 & Factor1 & -0.16729734\\\\\n",
       "\t2 & adipocyte & adipocyte\\_\\_ABI2 & adipocyte & ABI2 & Factor1 &  0.04293374\\\\\n",
       "\\end{tabular}\n"
      ],
      "text/markdown": [
       "\n",
       "A data.frame: 2 × 6\n",
       "\n",
       "| <!--/--> | type &lt;chr&gt; | variable_name &lt;chr&gt; | view &lt;chr&gt; | gene &lt;chr&gt; | variable &lt;fct&gt; | value &lt;dbl&gt; |\n",
       "|---|---|---|---|---|---|---|\n",
       "| 1 | adipocyte | adipocyte__ABI1 | adipocyte | ABI1 | Factor1 | -0.16729734 |\n",
       "| 2 | adipocyte | adipocyte__ABI2 | adipocyte | ABI2 | Factor1 |  0.04293374 |\n",
       "\n"
      ],
      "text/plain": [
       "  type      variable_name   view      gene variable value      \n",
       "1 adipocyte adipocyte__ABI1 adipocyte ABI1 Factor1  -0.16729734\n",
       "2 adipocyte adipocyte__ABI2 adipocyte ABI2 Factor1   0.04293374"
      ]
     },
     "metadata": {},
     "output_type": "display_data"
    }
   ],
   "source": [
    "head(feature_weights_long,2)"
   ]
  },
  {
   "cell_type": "markdown",
   "id": "051807fc-3e5b-4262-977a-70739f505aff",
   "metadata": {},
   "source": [
    "## Adjust feature names in the model"
   ]
  },
  {
   "cell_type": "code",
   "execution_count": 930,
   "id": "3b1a46c8-9942-431f-b042-d6c9a886e993",
   "metadata": {},
   "outputs": [],
   "source": [
    "### Feature names should map to the genes in the pathway set (therefore the view component is  removed)"
   ]
  },
  {
   "cell_type": "code",
   "execution_count": 931,
   "id": "50d2a2a2-7e4c-4eb6-89c4-653ded4e69b1",
   "metadata": {},
   "outputs": [
    {
     "data": {
      "text/html": [
       "<style>\n",
       ".list-inline {list-style: none; margin:0; padding: 0}\n",
       ".list-inline>li {display: inline-block}\n",
       ".list-inline>li:not(:last-child)::after {content: \"\\00b7\"; padding: 0 .5ex}\n",
       "</style>\n",
       "<ol class=list-inline><li>'adipocyte__ABI1'</li><li>'adipocyte__ABI2'</li><li>'adipocyte__ABL1'</li><li>'adipocyte__ABL2'</li><li>'adipocyte__ACLY'</li><li>'adipocyte__ACTB'</li></ol>\n"
      ],
      "text/latex": [
       "\\begin{enumerate*}\n",
       "\\item 'adipocyte\\_\\_ABI1'\n",
       "\\item 'adipocyte\\_\\_ABI2'\n",
       "\\item 'adipocyte\\_\\_ABL1'\n",
       "\\item 'adipocyte\\_\\_ABL2'\n",
       "\\item 'adipocyte\\_\\_ACLY'\n",
       "\\item 'adipocyte\\_\\_ACTB'\n",
       "\\end{enumerate*}\n"
      ],
      "text/markdown": [
       "1. 'adipocyte__ABI1'\n",
       "2. 'adipocyte__ABI2'\n",
       "3. 'adipocyte__ABL1'\n",
       "4. 'adipocyte__ABL2'\n",
       "5. 'adipocyte__ACLY'\n",
       "6. 'adipocyte__ACTB'\n",
       "\n",
       "\n"
      ],
      "text/plain": [
       "[1] \"adipocyte__ABI1\" \"adipocyte__ABI2\" \"adipocyte__ABL1\" \"adipocyte__ABL2\"\n",
       "[5] \"adipocyte__ACLY\" \"adipocyte__ACTB\""
      ]
     },
     "metadata": {},
     "output_type": "display_data"
    }
   ],
   "source": [
    "head(features_names(model)[[1]] )"
   ]
  },
  {
   "cell_type": "code",
   "execution_count": 932,
   "id": "790decbc-1976-4fce-b491-5c80b4eca02b",
   "metadata": {},
   "outputs": [],
   "source": [
    "model_conc = model ## save original model for later\n",
    "for(i in names(features_names(model))){   \n",
    "        features_names(model)[[i]] = with(feature_weights_long, gene[match(features_names(model)[[i]], variable_name)])\n",
    "    }"
   ]
  },
  {
   "cell_type": "code",
   "execution_count": 933,
   "id": "7ce46cdd-57a2-474e-8164-2d43494d9d88",
   "metadata": {},
   "outputs": [
    {
     "data": {
      "text/html": [
       "<style>\n",
       ".list-inline {list-style: none; margin:0; padding: 0}\n",
       ".list-inline>li {display: inline-block}\n",
       ".list-inline>li:not(:last-child)::after {content: \"\\00b7\"; padding: 0 .5ex}\n",
       "</style>\n",
       "<ol class=list-inline><li>'ABI1'</li><li>'ABI2'</li><li>'ABL1'</li><li>'ABL2'</li><li>'ACLY'</li><li>'ACTB'</li></ol>\n"
      ],
      "text/latex": [
       "\\begin{enumerate*}\n",
       "\\item 'ABI1'\n",
       "\\item 'ABI2'\n",
       "\\item 'ABL1'\n",
       "\\item 'ABL2'\n",
       "\\item 'ACLY'\n",
       "\\item 'ACTB'\n",
       "\\end{enumerate*}\n"
      ],
      "text/markdown": [
       "1. 'ABI1'\n",
       "2. 'ABI2'\n",
       "3. 'ABL1'\n",
       "4. 'ABL2'\n",
       "5. 'ACLY'\n",
       "6. 'ACTB'\n",
       "\n",
       "\n"
      ],
      "text/plain": [
       "[1] \"ABI1\" \"ABI2\" \"ABL1\" \"ABL2\" \"ACLY\" \"ACTB\""
      ]
     },
     "metadata": {},
     "output_type": "display_data"
    }
   ],
   "source": [
    "head(features_names(model)[[1]] )"
   ]
  },
  {
   "cell_type": "markdown",
   "id": "68f118e7-c714-4e92-9b4a-bb00c10008e5",
   "metadata": {},
   "source": [
    "## Create a MOFA model for the overall enrichment analysis across views"
   ]
  },
  {
   "cell_type": "code",
   "execution_count": 934,
   "id": "e16a1da5-3d8c-4045-9be0-676bdad5d9d1",
   "metadata": {},
   "outputs": [],
   "source": [
    "# We need a model that has features of all views concatenated in a single view"
   ]
  },
  {
   "cell_type": "code",
   "execution_count": 935,
   "id": "cae7d861-6003-4ec4-91e2-c1eed7a851be",
   "metadata": {},
   "outputs": [],
   "source": [
    "views <- names(features_names(model_conc))\n",
    "tmp <- sapply(views, function(view) model_conc@intercepts[[view]]$group1)\n",
    "names(tmp) <- NULL  \n",
    "model_conc@intercepts[['complete']]$group1 = unlist(tmp)\n",
    "model_conc@expectations$W[['complete']] = do.call(rbind, lapply(views, function(view) model_conc@expectations$W[[view]]))\n",
    "model_conc@features_metadata = rbind(model_conc@features_metadata, \n",
    "                                     data.frame(feature = model_conc@features_metadata$feature, view=\"complete\"))\n",
    "model_conc@dimensions$D['complete'] = sum(model_conc@dimensions$D)\n",
    "model_conc@data[['complete']]$group1 = do.call(rbind, lapply(views, function(view) model_conc@data[[view]]$group1))\n",
    "model_conc@data_options$views = c(model_conc@data_options$views , 'complete')\n",
    "model_conc@model_options$likelihoods['complete'] = 'gaussian'\n",
    "model_conc@dimensions$M = length(views) + 1\n",
    "\n",
    "model_conc@cache$variance_explained$r2_total$group1['complete'] = mean(model_conc@cache$variance_explained$r2_total$group1)\n",
    "model_conc@cache$variance_explained$r2_per_factor$group1 = cbind(model@cache$variance_explained$r2_per_factor$group1, data.frame('complete' = rowMeans(model_conc@cache$variance_explained$r2_per_factor$group1)))"
   ]
  },
  {
   "cell_type": "code",
   "execution_count": 936,
   "id": "62640a96-f3c2-47ae-98a1-75d58c0a0285",
   "metadata": {},
   "outputs": [
    {
     "data": {
      "text/plain": [
       "Trained MOFA with the following characteristics: \n",
       " Number of views: 10 \n",
       " Views names: adipocyte cardiac.muscle.cell cardiac.neuron endothelial.cell fibroblast.of.cardiac.tissue lymphocyte mast.cell mural.cell myeloid.cell complete \n",
       " Number of features (per view): 414 368 162 166 243 170 99 112 331 2065 \n",
       " Number of groups: 1 \n",
       " Groups names: group1 \n",
       " Number of samples (per group): 53 \n",
       " Number of factors: 10 \n"
      ]
     },
     "metadata": {},
     "output_type": "display_data"
    }
   ],
   "source": [
    "model_conc"
   ]
  },
  {
   "cell_type": "code",
   "execution_count": null,
   "id": "9b2766b1-3128-45b2-9719-6d883a46d729",
   "metadata": {},
   "outputs": [],
   "source": []
  },
  {
   "cell_type": "markdown",
   "id": "fa56b7a6-ed4d-47e8-9efa-cc660d8e25ae",
   "metadata": {},
   "source": [
    "# Prepare pathway data"
   ]
  },
  {
   "cell_type": "code",
   "execution_count": 937,
   "id": "03649331-a544-4e1d-be63-43461a7300eb",
   "metadata": {},
   "outputs": [],
   "source": [
    "### Prepare the pathway data to use for the enrichment"
   ]
  },
  {
   "cell_type": "code",
   "execution_count": 938,
   "id": "1f307813-471a-4643-aac5-88f9f1a5d5fc",
   "metadata": {},
   "outputs": [
    {
     "data": {
      "text/html": [
       "<table class=\"dataframe\">\n",
       "<caption>A data.frame: 2 × 3</caption>\n",
       "<thead>\n",
       "\t<tr><th></th><th scope=col>ID</th><th scope=col>gene</th><th scope=col>pathway_name</th></tr>\n",
       "\t<tr><th></th><th scope=col>&lt;chr&gt;</th><th scope=col>&lt;chr&gt;</th><th scope=col>&lt;chr&gt;</th></tr>\n",
       "</thead>\n",
       "<tbody>\n",
       "\t<tr><th scope=row>1</th><td>R-HSA-1059683</td><td>JAK1 </td><td>Interleukin-6 signaling</td></tr>\n",
       "\t<tr><th scope=row>2</th><td>R-HSA-1059683</td><td>STAT1</td><td>Interleukin-6 signaling</td></tr>\n",
       "</tbody>\n",
       "</table>\n"
      ],
      "text/latex": [
       "A data.frame: 2 × 3\n",
       "\\begin{tabular}{r|lll}\n",
       "  & ID & gene & pathway\\_name\\\\\n",
       "  & <chr> & <chr> & <chr>\\\\\n",
       "\\hline\n",
       "\t1 & R-HSA-1059683 & JAK1  & Interleukin-6 signaling\\\\\n",
       "\t2 & R-HSA-1059683 & STAT1 & Interleukin-6 signaling\\\\\n",
       "\\end{tabular}\n"
      ],
      "text/markdown": [
       "\n",
       "A data.frame: 2 × 3\n",
       "\n",
       "| <!--/--> | ID &lt;chr&gt; | gene &lt;chr&gt; | pathway_name &lt;chr&gt; |\n",
       "|---|---|---|---|\n",
       "| 1 | R-HSA-1059683 | JAK1  | Interleukin-6 signaling |\n",
       "| 2 | R-HSA-1059683 | STAT1 | Interleukin-6 signaling |\n",
       "\n"
      ],
      "text/plain": [
       "  ID            gene  pathway_name           \n",
       "1 R-HSA-1059683 JAK1  Interleukin-6 signaling\n",
       "2 R-HSA-1059683 STAT1 Interleukin-6 signaling"
      ]
     },
     "metadata": {},
     "output_type": "display_data"
    }
   ],
   "source": [
    "head(pathways,2)"
   ]
  },
  {
   "cell_type": "markdown",
   "id": "80fe97f2-6c73-441a-bcb7-74ea08223baa",
   "metadata": {},
   "source": [
    "## Filter pathways out based on coverage"
   ]
  },
  {
   "cell_type": "code",
   "execution_count": 939,
   "id": "6d4a622f-bdfc-4868-a36a-3dedd09c143c",
   "metadata": {},
   "outputs": [],
   "source": [
    "## get all features included in the MOFA model\n",
    "mofa_genes = data.frame(gene = unique(feature_weights_long$gene), is_feature = 1)"
   ]
  },
  {
   "cell_type": "code",
   "execution_count": 940,
   "id": "1b52630c-66cb-4d1f-a7d4-a323a0130f17",
   "metadata": {},
   "outputs": [
    {
     "data": {
      "text/html": [
       "<table class=\"dataframe\">\n",
       "<caption>A data.frame: 2 × 2</caption>\n",
       "<thead>\n",
       "\t<tr><th></th><th scope=col>gene</th><th scope=col>is_feature</th></tr>\n",
       "\t<tr><th></th><th scope=col>&lt;chr&gt;</th><th scope=col>&lt;dbl&gt;</th></tr>\n",
       "</thead>\n",
       "<tbody>\n",
       "\t<tr><th scope=row>1</th><td>ABI1</td><td>1</td></tr>\n",
       "\t<tr><th scope=row>2</th><td>ABI2</td><td>1</td></tr>\n",
       "</tbody>\n",
       "</table>\n"
      ],
      "text/latex": [
       "A data.frame: 2 × 2\n",
       "\\begin{tabular}{r|ll}\n",
       "  & gene & is\\_feature\\\\\n",
       "  & <chr> & <dbl>\\\\\n",
       "\\hline\n",
       "\t1 & ABI1 & 1\\\\\n",
       "\t2 & ABI2 & 1\\\\\n",
       "\\end{tabular}\n"
      ],
      "text/markdown": [
       "\n",
       "A data.frame: 2 × 2\n",
       "\n",
       "| <!--/--> | gene &lt;chr&gt; | is_feature &lt;dbl&gt; |\n",
       "|---|---|---|\n",
       "| 1 | ABI1 | 1 |\n",
       "| 2 | ABI2 | 1 |\n",
       "\n"
      ],
      "text/plain": [
       "  gene is_feature\n",
       "1 ABI1 1         \n",
       "2 ABI2 1         "
      ]
     },
     "metadata": {},
     "output_type": "display_data"
    }
   ],
   "source": [
    "head(mofa_genes,2)"
   ]
  },
  {
   "cell_type": "code",
   "execution_count": 941,
   "id": "d5a1ffd9-1884-4885-8994-1e0bc28fc8ef",
   "metadata": {},
   "outputs": [],
   "source": [
    "### Merge features within mofa model to pathways\n",
    "feature_set = merge(pathways, mofa_genes, all.x = TRUE)  "
   ]
  },
  {
   "cell_type": "code",
   "execution_count": 942,
   "id": "eb6f38e6-336f-4ac1-8fae-ab70f6672ea7",
   "metadata": {},
   "outputs": [
    {
     "data": {
      "text/html": [
       "<table class=\"dataframe\">\n",
       "<caption>A data.frame: 2 × 4</caption>\n",
       "<thead>\n",
       "\t<tr><th></th><th scope=col>gene</th><th scope=col>ID</th><th scope=col>pathway_name</th><th scope=col>is_feature</th></tr>\n",
       "\t<tr><th></th><th scope=col>&lt;chr&gt;</th><th scope=col>&lt;chr&gt;</th><th scope=col>&lt;chr&gt;</th><th scope=col>&lt;dbl&gt;</th></tr>\n",
       "</thead>\n",
       "<tbody>\n",
       "\t<tr><th scope=row>1</th><td>A1BG</td><td>R-HSA-168249</td><td>Innate Immune System</td><td>NA</td></tr>\n",
       "\t<tr><th scope=row>2</th><td>A1BG</td><td>R-HSA-168256</td><td>Immune System       </td><td>NA</td></tr>\n",
       "</tbody>\n",
       "</table>\n"
      ],
      "text/latex": [
       "A data.frame: 2 × 4\n",
       "\\begin{tabular}{r|llll}\n",
       "  & gene & ID & pathway\\_name & is\\_feature\\\\\n",
       "  & <chr> & <chr> & <chr> & <dbl>\\\\\n",
       "\\hline\n",
       "\t1 & A1BG & R-HSA-168249 & Innate Immune System & NA\\\\\n",
       "\t2 & A1BG & R-HSA-168256 & Immune System        & NA\\\\\n",
       "\\end{tabular}\n"
      ],
      "text/markdown": [
       "\n",
       "A data.frame: 2 × 4\n",
       "\n",
       "| <!--/--> | gene &lt;chr&gt; | ID &lt;chr&gt; | pathway_name &lt;chr&gt; | is_feature &lt;dbl&gt; |\n",
       "|---|---|---|---|---|\n",
       "| 1 | A1BG | R-HSA-168249 | Innate Immune System | NA |\n",
       "| 2 | A1BG | R-HSA-168256 | Immune System        | NA |\n",
       "\n"
      ],
      "text/plain": [
       "  gene ID           pathway_name         is_feature\n",
       "1 A1BG R-HSA-168249 Innate Immune System NA        \n",
       "2 A1BG R-HSA-168256 Immune System        NA        "
      ]
     },
     "metadata": {},
     "output_type": "display_data"
    }
   ],
   "source": [
    "head(feature_set,2)"
   ]
  },
  {
   "cell_type": "code",
   "execution_count": 943,
   "id": "1b48c474-4c44-40d7-bc4a-f781e4f050e1",
   "metadata": {},
   "outputs": [
    {
     "name": "stderr",
     "output_type": "stream",
     "text": [
      "\u001b[1m\u001b[22m`summarise()` has grouped output by 'ID'. You can override using the `.groups`\n",
      "argument.\n",
      "\u001b[1m\u001b[22m`summarise()` has grouped output by 'ID'. You can override using the `.groups`\n",
      "argument.\n"
     ]
    },
    {
     "data": {
      "text/html": [
       "151"
      ],
      "text/latex": [
       "151"
      ],
      "text/markdown": [
       "151"
      ],
      "text/plain": [
       "[1] 151"
      ]
     },
     "metadata": {},
     "output_type": "display_data"
    }
   ],
   "source": [
    "### Remove pathways for which we have not a high amount of genes in our data (coverage_par)\n",
    "filter = feature_set %>% group_by(ID, pathway_name) %>% summarise(gene_amount = n(),matched_amount = sum(!is.na(is_feature)),  coverage = sum(!is.na(is_feature)) / n()) %>% filter(coverage >=  coverage_par)\n",
    "\n",
    "### Get the pathways that have been filtered out because of to low coverage\n",
    "filtered_pathways = feature_set %>% group_by(ID, pathway_name) %>% summarise(gene_amount = n(),matched_amount = sum(!is.na(is_feature)),  coverage = sum(!is.na(is_feature)) / n()) %>% filter(coverage <  coverage_par)\n",
    "nrow(filtered_pathways)  # amount of pathways that have een filtred out"
   ]
  },
  {
   "cell_type": "code",
   "execution_count": 944,
   "id": "9bf88e3a-aa32-4e33-aa23-6442f9fdff1d",
   "metadata": {
    "tags": []
   },
   "outputs": [
    {
     "data": {
      "text/html": [
       "<table class=\"dataframe\">\n",
       "<caption>A grouped_df: 2 × 5</caption>\n",
       "<thead>\n",
       "\t<tr><th scope=col>ID</th><th scope=col>pathway_name</th><th scope=col>gene_amount</th><th scope=col>matched_amount</th><th scope=col>coverage</th></tr>\n",
       "\t<tr><th scope=col>&lt;chr&gt;</th><th scope=col>&lt;chr&gt;</th><th scope=col>&lt;int&gt;</th><th scope=col>&lt;int&gt;</th><th scope=col>&lt;dbl&gt;</th></tr>\n",
       "</thead>\n",
       "<tbody>\n",
       "\t<tr><td>R-HSA-1059683</td><td>Interleukin-6 signaling     </td><td>15</td><td>9</td><td>0.6000000</td></tr>\n",
       "\t<tr><td>R-HSA-1169092</td><td>Activation of RAS in B cells</td><td> 7</td><td>4</td><td>0.5714286</td></tr>\n",
       "</tbody>\n",
       "</table>\n"
      ],
      "text/latex": [
       "A grouped\\_df: 2 × 5\n",
       "\\begin{tabular}{lllll}\n",
       " ID & pathway\\_name & gene\\_amount & matched\\_amount & coverage\\\\\n",
       " <chr> & <chr> & <int> & <int> & <dbl>\\\\\n",
       "\\hline\n",
       "\t R-HSA-1059683 & Interleukin-6 signaling      & 15 & 9 & 0.6000000\\\\\n",
       "\t R-HSA-1169092 & Activation of RAS in B cells &  7 & 4 & 0.5714286\\\\\n",
       "\\end{tabular}\n"
      ],
      "text/markdown": [
       "\n",
       "A grouped_df: 2 × 5\n",
       "\n",
       "| ID &lt;chr&gt; | pathway_name &lt;chr&gt; | gene_amount &lt;int&gt; | matched_amount &lt;int&gt; | coverage &lt;dbl&gt; |\n",
       "|---|---|---|---|---|\n",
       "| R-HSA-1059683 | Interleukin-6 signaling      | 15 | 9 | 0.6000000 |\n",
       "| R-HSA-1169092 | Activation of RAS in B cells |  7 | 4 | 0.5714286 |\n",
       "\n"
      ],
      "text/plain": [
       "  ID            pathway_name                 gene_amount matched_amount\n",
       "1 R-HSA-1059683 Interleukin-6 signaling      15          9             \n",
       "2 R-HSA-1169092 Activation of RAS in B cells  7          4             \n",
       "  coverage \n",
       "1 0.6000000\n",
       "2 0.5714286"
      ]
     },
     "metadata": {},
     "output_type": "display_data"
    }
   ],
   "source": [
    "head(filter,2)"
   ]
  },
  {
   "cell_type": "code",
   "execution_count": 945,
   "id": "75d6214a-da9e-45c2-be09-5fb2bfcb12e1",
   "metadata": {
    "tags": []
   },
   "outputs": [],
   "source": [
    "feature_set = merge(feature_set, filter)"
   ]
  },
  {
   "cell_type": "code",
   "execution_count": 946,
   "id": "e8d5e187-ecc3-4f86-97f4-d86afa5888af",
   "metadata": {},
   "outputs": [
    {
     "data": {
      "text/html": [
       "<table class=\"dataframe\">\n",
       "<caption>A grouped_df: 15 × 5</caption>\n",
       "<thead>\n",
       "\t<tr><th scope=col>ID</th><th scope=col>pathway_name</th><th scope=col>gene_amount</th><th scope=col>matched_amount</th><th scope=col>coverage</th></tr>\n",
       "\t<tr><th scope=col>&lt;chr&gt;</th><th scope=col>&lt;chr&gt;</th><th scope=col>&lt;int&gt;</th><th scope=col>&lt;int&gt;</th><th scope=col>&lt;dbl&gt;</th></tr>\n",
       "</thead>\n",
       "<tbody>\n",
       "\t<tr><td>R-HSA-1168372</td><td>Downstream signaling events of B Cell Receptor (BCR)        </td><td>101</td><td> 40</td><td>0.3960396</td></tr>\n",
       "\t<tr><td>R-HSA-1169091</td><td>Activation of NF-kappaB in B cells                          </td><td> 73</td><td> 26</td><td>0.3561644</td></tr>\n",
       "\t<tr><td>R-HSA-1169408</td><td>ISG15 antiviral mechanism                                   </td><td> 72</td><td> 31</td><td>0.4305556</td></tr>\n",
       "\t<tr><td>R-HSA-1169410</td><td>Antiviral mechanism by IFN-stimulated genes                 </td><td> 80</td><td> 32</td><td>0.4000000</td></tr>\n",
       "\t<tr><td>R-HSA-1170546</td><td>Prolactin receptor signaling                                </td><td> 21</td><td> 10</td><td>0.4761905</td></tr>\n",
       "\t<tr><td>R-HSA-1222556</td><td>ROS and RNS production in phagocytes                        </td><td> 36</td><td> 10</td><td>0.2777778</td></tr>\n",
       "\t<tr><td>R-HSA-1236974</td><td>ER-Phagosome pathway                                        </td><td>100</td><td> 22</td><td>0.2200000</td></tr>\n",
       "\t<tr><td>R-HSA-1236975</td><td>Antigen processing-Cross presentation                       </td><td>164</td><td> 44</td><td>0.2682927</td></tr>\n",
       "\t<tr><td>R-HSA-1236977</td><td>Endosomal/Vacuolar pathway                                  </td><td> 11</td><td>  4</td><td>0.3636364</td></tr>\n",
       "\t<tr><td>R-HSA-1236978</td><td>Cross-presentation of soluble exogenous antigens (endosomes)</td><td> 53</td><td> 15</td><td>0.2830189</td></tr>\n",
       "\t<tr><td>R-HSA-1266695</td><td>Interleukin-7 signaling                                     </td><td> 63</td><td> 15</td><td>0.2380952</td></tr>\n",
       "\t<tr><td>R-HSA-1280215</td><td>Cytokine Signaling in Immune system                         </td><td>824</td><td>267</td><td>0.3240291</td></tr>\n",
       "\t<tr><td>R-HSA-1280218</td><td>Adaptive Immune System                                      </td><td>877</td><td>326</td><td>0.3717218</td></tr>\n",
       "\t<tr><td>R-HSA-1461957</td><td>Beta defensins                                              </td><td> 40</td><td>  1</td><td>0.0250000</td></tr>\n",
       "\t<tr><td>R-HSA-1461973</td><td>Defensins                                                   </td><td> 50</td><td>  2</td><td>0.0400000</td></tr>\n",
       "</tbody>\n",
       "</table>\n"
      ],
      "text/latex": [
       "A grouped\\_df: 15 × 5\n",
       "\\begin{tabular}{lllll}\n",
       " ID & pathway\\_name & gene\\_amount & matched\\_amount & coverage\\\\\n",
       " <chr> & <chr> & <int> & <int> & <dbl>\\\\\n",
       "\\hline\n",
       "\t R-HSA-1168372 & Downstream signaling events of B Cell Receptor (BCR)         & 101 &  40 & 0.3960396\\\\\n",
       "\t R-HSA-1169091 & Activation of NF-kappaB in B cells                           &  73 &  26 & 0.3561644\\\\\n",
       "\t R-HSA-1169408 & ISG15 antiviral mechanism                                    &  72 &  31 & 0.4305556\\\\\n",
       "\t R-HSA-1169410 & Antiviral mechanism by IFN-stimulated genes                  &  80 &  32 & 0.4000000\\\\\n",
       "\t R-HSA-1170546 & Prolactin receptor signaling                                 &  21 &  10 & 0.4761905\\\\\n",
       "\t R-HSA-1222556 & ROS and RNS production in phagocytes                         &  36 &  10 & 0.2777778\\\\\n",
       "\t R-HSA-1236974 & ER-Phagosome pathway                                         & 100 &  22 & 0.2200000\\\\\n",
       "\t R-HSA-1236975 & Antigen processing-Cross presentation                        & 164 &  44 & 0.2682927\\\\\n",
       "\t R-HSA-1236977 & Endosomal/Vacuolar pathway                                   &  11 &   4 & 0.3636364\\\\\n",
       "\t R-HSA-1236978 & Cross-presentation of soluble exogenous antigens (endosomes) &  53 &  15 & 0.2830189\\\\\n",
       "\t R-HSA-1266695 & Interleukin-7 signaling                                      &  63 &  15 & 0.2380952\\\\\n",
       "\t R-HSA-1280215 & Cytokine Signaling in Immune system                          & 824 & 267 & 0.3240291\\\\\n",
       "\t R-HSA-1280218 & Adaptive Immune System                                       & 877 & 326 & 0.3717218\\\\\n",
       "\t R-HSA-1461957 & Beta defensins                                               &  40 &   1 & 0.0250000\\\\\n",
       "\t R-HSA-1461973 & Defensins                                                    &  50 &   2 & 0.0400000\\\\\n",
       "\\end{tabular}\n"
      ],
      "text/markdown": [
       "\n",
       "A grouped_df: 15 × 5\n",
       "\n",
       "| ID &lt;chr&gt; | pathway_name &lt;chr&gt; | gene_amount &lt;int&gt; | matched_amount &lt;int&gt; | coverage &lt;dbl&gt; |\n",
       "|---|---|---|---|---|\n",
       "| R-HSA-1168372 | Downstream signaling events of B Cell Receptor (BCR)         | 101 |  40 | 0.3960396 |\n",
       "| R-HSA-1169091 | Activation of NF-kappaB in B cells                           |  73 |  26 | 0.3561644 |\n",
       "| R-HSA-1169408 | ISG15 antiviral mechanism                                    |  72 |  31 | 0.4305556 |\n",
       "| R-HSA-1169410 | Antiviral mechanism by IFN-stimulated genes                  |  80 |  32 | 0.4000000 |\n",
       "| R-HSA-1170546 | Prolactin receptor signaling                                 |  21 |  10 | 0.4761905 |\n",
       "| R-HSA-1222556 | ROS and RNS production in phagocytes                         |  36 |  10 | 0.2777778 |\n",
       "| R-HSA-1236974 | ER-Phagosome pathway                                         | 100 |  22 | 0.2200000 |\n",
       "| R-HSA-1236975 | Antigen processing-Cross presentation                        | 164 |  44 | 0.2682927 |\n",
       "| R-HSA-1236977 | Endosomal/Vacuolar pathway                                   |  11 |   4 | 0.3636364 |\n",
       "| R-HSA-1236978 | Cross-presentation of soluble exogenous antigens (endosomes) |  53 |  15 | 0.2830189 |\n",
       "| R-HSA-1266695 | Interleukin-7 signaling                                      |  63 |  15 | 0.2380952 |\n",
       "| R-HSA-1280215 | Cytokine Signaling in Immune system                          | 824 | 267 | 0.3240291 |\n",
       "| R-HSA-1280218 | Adaptive Immune System                                       | 877 | 326 | 0.3717218 |\n",
       "| R-HSA-1461957 | Beta defensins                                               |  40 |   1 | 0.0250000 |\n",
       "| R-HSA-1461973 | Defensins                                                    |  50 |   2 | 0.0400000 |\n",
       "\n"
      ],
      "text/plain": [
       "   ID            pathway_name                                                \n",
       "1  R-HSA-1168372 Downstream signaling events of B Cell Receptor (BCR)        \n",
       "2  R-HSA-1169091 Activation of NF-kappaB in B cells                          \n",
       "3  R-HSA-1169408 ISG15 antiviral mechanism                                   \n",
       "4  R-HSA-1169410 Antiviral mechanism by IFN-stimulated genes                 \n",
       "5  R-HSA-1170546 Prolactin receptor signaling                                \n",
       "6  R-HSA-1222556 ROS and RNS production in phagocytes                        \n",
       "7  R-HSA-1236974 ER-Phagosome pathway                                        \n",
       "8  R-HSA-1236975 Antigen processing-Cross presentation                       \n",
       "9  R-HSA-1236977 Endosomal/Vacuolar pathway                                  \n",
       "10 R-HSA-1236978 Cross-presentation of soluble exogenous antigens (endosomes)\n",
       "11 R-HSA-1266695 Interleukin-7 signaling                                     \n",
       "12 R-HSA-1280215 Cytokine Signaling in Immune system                         \n",
       "13 R-HSA-1280218 Adaptive Immune System                                      \n",
       "14 R-HSA-1461957 Beta defensins                                              \n",
       "15 R-HSA-1461973 Defensins                                                   \n",
       "   gene_amount matched_amount coverage \n",
       "1  101          40            0.3960396\n",
       "2   73          26            0.3561644\n",
       "3   72          31            0.4305556\n",
       "4   80          32            0.4000000\n",
       "5   21          10            0.4761905\n",
       "6   36          10            0.2777778\n",
       "7  100          22            0.2200000\n",
       "8  164          44            0.2682927\n",
       "9   11           4            0.3636364\n",
       "10  53          15            0.2830189\n",
       "11  63          15            0.2380952\n",
       "12 824         267            0.3240291\n",
       "13 877         326            0.3717218\n",
       "14  40           1            0.0250000\n",
       "15  50           2            0.0400000"
      ]
     },
     "metadata": {},
     "output_type": "display_data"
    }
   ],
   "source": [
    "# Overview pathways that have been excluded from testing due to low amount of matching genes\n",
    "head(filtered_pathways,15) "
   ]
  },
  {
   "cell_type": "code",
   "execution_count": 947,
   "id": "c3014e7c-342a-451e-94de-853f50acd626",
   "metadata": {},
   "outputs": [],
   "source": [
    "### Remove NA entries for not mapped genes in feature set"
   ]
  },
  {
   "cell_type": "code",
   "execution_count": 948,
   "id": "146410de-7428-47e2-bd55-49f0b98ff3bf",
   "metadata": {},
   "outputs": [
    {
     "data": {
      "text/html": [
       "<table class=\"dataframe\">\n",
       "<caption>A data.frame: 2 × 7</caption>\n",
       "<thead>\n",
       "\t<tr><th></th><th scope=col>ID</th><th scope=col>pathway_name</th><th scope=col>gene</th><th scope=col>is_feature</th><th scope=col>gene_amount</th><th scope=col>matched_amount</th><th scope=col>coverage</th></tr>\n",
       "\t<tr><th></th><th scope=col>&lt;chr&gt;</th><th scope=col>&lt;chr&gt;</th><th scope=col>&lt;chr&gt;</th><th scope=col>&lt;dbl&gt;</th><th scope=col>&lt;int&gt;</th><th scope=col>&lt;int&gt;</th><th scope=col>&lt;dbl&gt;</th></tr>\n",
       "</thead>\n",
       "<tbody>\n",
       "\t<tr><th scope=row>1</th><td>R-HSA-1059683</td><td>Interleukin-6 signaling</td><td>CBL </td><td>1</td><td>15</td><td>9</td><td>0.6</td></tr>\n",
       "\t<tr><th scope=row>2</th><td>R-HSA-1059683</td><td>Interleukin-6 signaling</td><td>JAK2</td><td>1</td><td>15</td><td>9</td><td>0.6</td></tr>\n",
       "</tbody>\n",
       "</table>\n"
      ],
      "text/latex": [
       "A data.frame: 2 × 7\n",
       "\\begin{tabular}{r|lllllll}\n",
       "  & ID & pathway\\_name & gene & is\\_feature & gene\\_amount & matched\\_amount & coverage\\\\\n",
       "  & <chr> & <chr> & <chr> & <dbl> & <int> & <int> & <dbl>\\\\\n",
       "\\hline\n",
       "\t1 & R-HSA-1059683 & Interleukin-6 signaling & CBL  & 1 & 15 & 9 & 0.6\\\\\n",
       "\t2 & R-HSA-1059683 & Interleukin-6 signaling & JAK2 & 1 & 15 & 9 & 0.6\\\\\n",
       "\\end{tabular}\n"
      ],
      "text/markdown": [
       "\n",
       "A data.frame: 2 × 7\n",
       "\n",
       "| <!--/--> | ID &lt;chr&gt; | pathway_name &lt;chr&gt; | gene &lt;chr&gt; | is_feature &lt;dbl&gt; | gene_amount &lt;int&gt; | matched_amount &lt;int&gt; | coverage &lt;dbl&gt; |\n",
       "|---|---|---|---|---|---|---|---|\n",
       "| 1 | R-HSA-1059683 | Interleukin-6 signaling | CBL  | 1 | 15 | 9 | 0.6 |\n",
       "| 2 | R-HSA-1059683 | Interleukin-6 signaling | JAK2 | 1 | 15 | 9 | 0.6 |\n",
       "\n"
      ],
      "text/plain": [
       "  ID            pathway_name            gene is_feature gene_amount\n",
       "1 R-HSA-1059683 Interleukin-6 signaling CBL  1          15         \n",
       "2 R-HSA-1059683 Interleukin-6 signaling JAK2 1          15         \n",
       "  matched_amount coverage\n",
       "1 9              0.6     \n",
       "2 9              0.6     "
      ]
     },
     "metadata": {},
     "output_type": "display_data"
    }
   ],
   "source": [
    "head(feature_set,2)"
   ]
  },
  {
   "cell_type": "code",
   "execution_count": 949,
   "id": "b2adb74e-debb-4cb3-850e-c68f395b1660",
   "metadata": {},
   "outputs": [],
   "source": [
    "feature_set = feature_set[!is.na(feature_set$is_feature),]"
   ]
  },
  {
   "cell_type": "code",
   "execution_count": 950,
   "id": "1df77c8e-4ca0-417b-82ed-596f4da1f27b",
   "metadata": {},
   "outputs": [
    {
     "data": {
      "text/html": [
       "713"
      ],
      "text/latex": [
       "713"
      ],
      "text/markdown": [
       "713"
      ],
      "text/plain": [
       "[1] 713"
      ]
     },
     "metadata": {},
     "output_type": "display_data"
    }
   ],
   "source": [
    "nrow(feature_set)"
   ]
  },
  {
   "cell_type": "code",
   "execution_count": 951,
   "id": "9ae60ad7-c0d2-4d23-92bb-2728d0aea93d",
   "metadata": {},
   "outputs": [
    {
     "data": {
      "text/html": [
       "<table class=\"dataframe\">\n",
       "<caption>A data.frame: 2 × 7</caption>\n",
       "<thead>\n",
       "\t<tr><th></th><th scope=col>ID</th><th scope=col>pathway_name</th><th scope=col>gene</th><th scope=col>is_feature</th><th scope=col>gene_amount</th><th scope=col>matched_amount</th><th scope=col>coverage</th></tr>\n",
       "\t<tr><th></th><th scope=col>&lt;chr&gt;</th><th scope=col>&lt;chr&gt;</th><th scope=col>&lt;chr&gt;</th><th scope=col>&lt;dbl&gt;</th><th scope=col>&lt;int&gt;</th><th scope=col>&lt;int&gt;</th><th scope=col>&lt;dbl&gt;</th></tr>\n",
       "</thead>\n",
       "<tbody>\n",
       "\t<tr><th scope=row>1</th><td>R-HSA-1059683</td><td>Interleukin-6 signaling</td><td>CBL </td><td>1</td><td>15</td><td>9</td><td>0.6</td></tr>\n",
       "\t<tr><th scope=row>2</th><td>R-HSA-1059683</td><td>Interleukin-6 signaling</td><td>JAK2</td><td>1</td><td>15</td><td>9</td><td>0.6</td></tr>\n",
       "</tbody>\n",
       "</table>\n"
      ],
      "text/latex": [
       "A data.frame: 2 × 7\n",
       "\\begin{tabular}{r|lllllll}\n",
       "  & ID & pathway\\_name & gene & is\\_feature & gene\\_amount & matched\\_amount & coverage\\\\\n",
       "  & <chr> & <chr> & <chr> & <dbl> & <int> & <int> & <dbl>\\\\\n",
       "\\hline\n",
       "\t1 & R-HSA-1059683 & Interleukin-6 signaling & CBL  & 1 & 15 & 9 & 0.6\\\\\n",
       "\t2 & R-HSA-1059683 & Interleukin-6 signaling & JAK2 & 1 & 15 & 9 & 0.6\\\\\n",
       "\\end{tabular}\n"
      ],
      "text/markdown": [
       "\n",
       "A data.frame: 2 × 7\n",
       "\n",
       "| <!--/--> | ID &lt;chr&gt; | pathway_name &lt;chr&gt; | gene &lt;chr&gt; | is_feature &lt;dbl&gt; | gene_amount &lt;int&gt; | matched_amount &lt;int&gt; | coverage &lt;dbl&gt; |\n",
       "|---|---|---|---|---|---|---|---|\n",
       "| 1 | R-HSA-1059683 | Interleukin-6 signaling | CBL  | 1 | 15 | 9 | 0.6 |\n",
       "| 2 | R-HSA-1059683 | Interleukin-6 signaling | JAK2 | 1 | 15 | 9 | 0.6 |\n",
       "\n"
      ],
      "text/plain": [
       "  ID            pathway_name            gene is_feature gene_amount\n",
       "1 R-HSA-1059683 Interleukin-6 signaling CBL  1          15         \n",
       "2 R-HSA-1059683 Interleukin-6 signaling JAK2 1          15         \n",
       "  matched_amount coverage\n",
       "1 9              0.6     \n",
       "2 9              0.6     "
      ]
     },
     "metadata": {},
     "output_type": "display_data"
    }
   ],
   "source": [
    "head(feature_set,2)"
   ]
  },
  {
   "cell_type": "code",
   "execution_count": 952,
   "id": "2c07ab49-dfd9-4f6f-861a-cbfc8364fcd3",
   "metadata": {},
   "outputs": [],
   "source": [
    "### Save coverage for later usage\n",
    "coverage_info = unique(feature_set[,c('ID', 'pathway_name', 'coverage')])"
   ]
  },
  {
   "cell_type": "code",
   "execution_count": null,
   "id": "98400d4f-3ec8-40df-8c4d-dc74bda48e73",
   "metadata": {},
   "outputs": [],
   "source": []
  },
  {
   "cell_type": "code",
   "execution_count": 953,
   "id": "b0b1ae77-74ea-4c54-ae66-50743120a01e",
   "metadata": {},
   "outputs": [],
   "source": [
    "### Get genes that are not mapped / and add a not mapped pathway to use them in the background later\n",
    "# (this is for including all features that are in the MOFA model in the enrichment analysis, either as belonging to a pathway or only being part of the background set)"
   ]
  },
  {
   "cell_type": "code",
   "execution_count": 954,
   "id": "935abc0f-9ee2-4d15-a711-7267c98e3847",
   "metadata": {},
   "outputs": [],
   "source": [
    "non_pathway_genes = unique(mofa_genes$gene[!mofa_genes$gene %in% unique(feature_set$gene)])"
   ]
  },
  {
   "cell_type": "code",
   "execution_count": 955,
   "id": "db769bb8-f36e-4b66-ada1-823c6943c6d6",
   "metadata": {},
   "outputs": [],
   "source": [
    "add_pathway = data.frame(ID = 'Background', pathway_name = 'Background', gene = non_pathway_genes, \n",
    "                         is_feature = 1, gene_amount = length(non_pathway_genes), matched_amount =  length(non_pathway_genes),\n",
    "                         coverage = 1)"
   ]
  },
  {
   "cell_type": "code",
   "execution_count": 956,
   "id": "3dcaf535-ee54-4a3c-b9fa-91e6639e6ddd",
   "metadata": {},
   "outputs": [],
   "source": [
    "feature_set = rbind(feature_set, add_pathway)"
   ]
  },
  {
   "cell_type": "code",
   "execution_count": null,
   "id": "4c29eae3-ba43-4960-82ae-3ce710d83414",
   "metadata": {},
   "outputs": [],
   "source": []
  },
  {
   "cell_type": "markdown",
   "id": "1e7e623b-f046-47c8-ba44-76e2503c7abc",
   "metadata": {},
   "source": [
    "## Transform to binary matrix format"
   ]
  },
  {
   "cell_type": "code",
   "execution_count": 957,
   "id": "944ca9ca-db06-4709-a318-13a92d652527",
   "metadata": {},
   "outputs": [],
   "source": [
    "### Transform the pathway feature set to a binary matrix format (1 indicating that a certain feature belongs to the pathway; 0 that it does not)"
   ]
  },
  {
   "cell_type": "code",
   "execution_count": 958,
   "id": "1ac2c0be-f5ae-40d7-a5c0-8471f76921aa",
   "metadata": {},
   "outputs": [
    {
     "data": {
      "text/html": [
       "<table class=\"dataframe\">\n",
       "<caption>A data.frame: 2 × 7</caption>\n",
       "<thead>\n",
       "\t<tr><th></th><th scope=col>ID</th><th scope=col>pathway_name</th><th scope=col>gene</th><th scope=col>is_feature</th><th scope=col>gene_amount</th><th scope=col>matched_amount</th><th scope=col>coverage</th></tr>\n",
       "\t<tr><th></th><th scope=col>&lt;chr&gt;</th><th scope=col>&lt;chr&gt;</th><th scope=col>&lt;chr&gt;</th><th scope=col>&lt;dbl&gt;</th><th scope=col>&lt;int&gt;</th><th scope=col>&lt;int&gt;</th><th scope=col>&lt;dbl&gt;</th></tr>\n",
       "</thead>\n",
       "<tbody>\n",
       "\t<tr><th scope=row>1</th><td>R-HSA-1059683</td><td>Interleukin-6 signaling</td><td>CBL </td><td>1</td><td>15</td><td>9</td><td>0.6</td></tr>\n",
       "\t<tr><th scope=row>2</th><td>R-HSA-1059683</td><td>Interleukin-6 signaling</td><td>JAK2</td><td>1</td><td>15</td><td>9</td><td>0.6</td></tr>\n",
       "</tbody>\n",
       "</table>\n"
      ],
      "text/latex": [
       "A data.frame: 2 × 7\n",
       "\\begin{tabular}{r|lllllll}\n",
       "  & ID & pathway\\_name & gene & is\\_feature & gene\\_amount & matched\\_amount & coverage\\\\\n",
       "  & <chr> & <chr> & <chr> & <dbl> & <int> & <int> & <dbl>\\\\\n",
       "\\hline\n",
       "\t1 & R-HSA-1059683 & Interleukin-6 signaling & CBL  & 1 & 15 & 9 & 0.6\\\\\n",
       "\t2 & R-HSA-1059683 & Interleukin-6 signaling & JAK2 & 1 & 15 & 9 & 0.6\\\\\n",
       "\\end{tabular}\n"
      ],
      "text/markdown": [
       "\n",
       "A data.frame: 2 × 7\n",
       "\n",
       "| <!--/--> | ID &lt;chr&gt; | pathway_name &lt;chr&gt; | gene &lt;chr&gt; | is_feature &lt;dbl&gt; | gene_amount &lt;int&gt; | matched_amount &lt;int&gt; | coverage &lt;dbl&gt; |\n",
       "|---|---|---|---|---|---|---|---|\n",
       "| 1 | R-HSA-1059683 | Interleukin-6 signaling | CBL  | 1 | 15 | 9 | 0.6 |\n",
       "| 2 | R-HSA-1059683 | Interleukin-6 signaling | JAK2 | 1 | 15 | 9 | 0.6 |\n",
       "\n"
      ],
      "text/plain": [
       "  ID            pathway_name            gene is_feature gene_amount\n",
       "1 R-HSA-1059683 Interleukin-6 signaling CBL  1          15         \n",
       "2 R-HSA-1059683 Interleukin-6 signaling JAK2 1          15         \n",
       "  matched_amount coverage\n",
       "1 9              0.6     \n",
       "2 9              0.6     "
      ]
     },
     "metadata": {},
     "output_type": "display_data"
    }
   ],
   "source": [
    "head(feature_set,2)"
   ]
  },
  {
   "cell_type": "code",
   "execution_count": 959,
   "id": "d7b37e6d-f59f-42fe-b287-2c7760bb147b",
   "metadata": {},
   "outputs": [],
   "source": [
    "feature_set$pathway_id = paste0(feature_set$ID, '_', feature_set$pathway_name)"
   ]
  },
  {
   "cell_type": "code",
   "execution_count": 960,
   "id": "3a65c879-1c8b-4483-bf6f-867d6c41529f",
   "metadata": {},
   "outputs": [],
   "source": [
    "feature_set$value = 1"
   ]
  },
  {
   "cell_type": "code",
   "execution_count": 961,
   "id": "422b00a6-56c2-4702-8785-b585a9bc2cec",
   "metadata": {},
   "outputs": [],
   "source": [
    "### Adjust names for overall approach (concatenate gene names with cell-types and match to pathways)"
   ]
  },
  {
   "cell_type": "code",
   "execution_count": 962,
   "id": "93eb6290-2d0a-49fe-b1f5-fc14e79b5219",
   "metadata": {},
   "outputs": [],
   "source": [
    "feature_weights_long_mapped_join = unique(feature_weights_long[,c('gene', 'variable_name')])"
   ]
  },
  {
   "cell_type": "code",
   "execution_count": 963,
   "id": "db7b5b36-c929-4cfc-9c07-2cb89b2c6fd8",
   "metadata": {},
   "outputs": [
    {
     "data": {
      "text/html": [
       "<table class=\"dataframe\">\n",
       "<caption>A data.frame: 2 × 2</caption>\n",
       "<thead>\n",
       "\t<tr><th></th><th scope=col>gene</th><th scope=col>variable_name</th></tr>\n",
       "\t<tr><th></th><th scope=col>&lt;chr&gt;</th><th scope=col>&lt;chr&gt;</th></tr>\n",
       "</thead>\n",
       "<tbody>\n",
       "\t<tr><th scope=row>1</th><td>ABI1</td><td>adipocyte__ABI1</td></tr>\n",
       "\t<tr><th scope=row>2</th><td>ABI2</td><td>adipocyte__ABI2</td></tr>\n",
       "</tbody>\n",
       "</table>\n"
      ],
      "text/latex": [
       "A data.frame: 2 × 2\n",
       "\\begin{tabular}{r|ll}\n",
       "  & gene & variable\\_name\\\\\n",
       "  & <chr> & <chr>\\\\\n",
       "\\hline\n",
       "\t1 & ABI1 & adipocyte\\_\\_ABI1\\\\\n",
       "\t2 & ABI2 & adipocyte\\_\\_ABI2\\\\\n",
       "\\end{tabular}\n"
      ],
      "text/markdown": [
       "\n",
       "A data.frame: 2 × 2\n",
       "\n",
       "| <!--/--> | gene &lt;chr&gt; | variable_name &lt;chr&gt; |\n",
       "|---|---|---|\n",
       "| 1 | ABI1 | adipocyte__ABI1 |\n",
       "| 2 | ABI2 | adipocyte__ABI2 |\n",
       "\n"
      ],
      "text/plain": [
       "  gene variable_name  \n",
       "1 ABI1 adipocyte__ABI1\n",
       "2 ABI2 adipocyte__ABI2"
      ]
     },
     "metadata": {},
     "output_type": "display_data"
    }
   ],
   "source": [
    "head(feature_weights_long_mapped_join,2)"
   ]
  },
  {
   "cell_type": "code",
   "execution_count": 964,
   "id": "c3341be4-994f-4090-8b67-4a8f6623dfb5",
   "metadata": {},
   "outputs": [],
   "source": [
    "feature_set_all = merge(feature_set, feature_weights_long_mapped_join, by.x = 'gene', by.y = 'gene')"
   ]
  },
  {
   "cell_type": "code",
   "execution_count": 965,
   "id": "115be6a6-de7c-4f86-8d37-67399d5038e1",
   "metadata": {},
   "outputs": [
    {
     "data": {
      "text/html": [
       "3916"
      ],
      "text/latex": [
       "3916"
      ],
      "text/markdown": [
       "3916"
      ],
      "text/plain": [
       "[1] 3916"
      ]
     },
     "metadata": {},
     "output_type": "display_data"
    }
   ],
   "source": [
    "nrow(feature_set_all)"
   ]
  },
  {
   "cell_type": "code",
   "execution_count": 966,
   "id": "d2685fc3-48d5-48bd-8d44-2748496d3750",
   "metadata": {},
   "outputs": [],
   "source": [
    "### Binarize feature set to use in type-specific enrichment"
   ]
  },
  {
   "cell_type": "code",
   "execution_count": 967,
   "id": "b0dd4fff-470c-498d-95dd-c71acccb7ecf",
   "metadata": {},
   "outputs": [],
   "source": [
    "## Based on gene-name for overall enrichment\n",
    "\n",
    "feature_set = unique(feature_set[,c('pathway_id', 'gene', 'value')]) %>% dcast(pathway_id ~ gene, value.var = 'value')\n",
    "feature_set[is.na(feature_set)]= 0"
   ]
  },
  {
   "cell_type": "code",
   "execution_count": 968,
   "id": "44e7a0cc-99c6-4f31-be40-41854ea44927",
   "metadata": {},
   "outputs": [
    {
     "data": {
      "text/html": [
       "<table class=\"dataframe\">\n",
       "<caption>A data.frame: 2 × 652</caption>\n",
       "<thead>\n",
       "\t<tr><th></th><th scope=col>pathway_id</th><th scope=col>ABI1</th><th scope=col>ABI2</th><th scope=col>ABL1</th><th scope=col>ABL2</th><th scope=col>ACLY</th><th scope=col>ACTB</th><th scope=col>ACTG1</th><th scope=col>ACTR10</th><th scope=col>ACTR2</th><th scope=col>⋯</th><th scope=col>WWP1</th><th scope=col>XAF1</th><th scope=col>XRCC5</th><th scope=col>XRCC6</th><th scope=col>YES1</th><th scope=col>YWHAZ</th><th scope=col>ZBTB16</th><th scope=col>ZEB1</th><th scope=col>ZNRF1</th><th scope=col>ZNRF2</th></tr>\n",
       "\t<tr><th></th><th scope=col>&lt;chr&gt;</th><th scope=col>&lt;dbl&gt;</th><th scope=col>&lt;dbl&gt;</th><th scope=col>&lt;dbl&gt;</th><th scope=col>&lt;dbl&gt;</th><th scope=col>&lt;dbl&gt;</th><th scope=col>&lt;dbl&gt;</th><th scope=col>&lt;dbl&gt;</th><th scope=col>&lt;dbl&gt;</th><th scope=col>&lt;dbl&gt;</th><th scope=col>⋯</th><th scope=col>&lt;dbl&gt;</th><th scope=col>&lt;dbl&gt;</th><th scope=col>&lt;dbl&gt;</th><th scope=col>&lt;dbl&gt;</th><th scope=col>&lt;dbl&gt;</th><th scope=col>&lt;dbl&gt;</th><th scope=col>&lt;dbl&gt;</th><th scope=col>&lt;dbl&gt;</th><th scope=col>&lt;dbl&gt;</th><th scope=col>&lt;dbl&gt;</th></tr>\n",
       "</thead>\n",
       "<tbody>\n",
       "\t<tr><th scope=row>1</th><td>Background_Background                </td><td>0</td><td>0</td><td>0</td><td>0</td><td>1</td><td>0</td><td>0</td><td>1</td><td>0</td><td>⋯</td><td>1</td><td>1</td><td>1</td><td>1</td><td>0</td><td>0</td><td>1</td><td>1</td><td>1</td><td>1</td></tr>\n",
       "\t<tr><th scope=row>2</th><td>R-HSA-1059683_Interleukin-6 signaling</td><td>0</td><td>0</td><td>0</td><td>0</td><td>0</td><td>0</td><td>0</td><td>0</td><td>0</td><td>⋯</td><td>0</td><td>0</td><td>0</td><td>0</td><td>0</td><td>0</td><td>0</td><td>0</td><td>0</td><td>0</td></tr>\n",
       "</tbody>\n",
       "</table>\n"
      ],
      "text/latex": [
       "A data.frame: 2 × 652\n",
       "\\begin{tabular}{r|lllllllllllllllllllll}\n",
       "  & pathway\\_id & ABI1 & ABI2 & ABL1 & ABL2 & ACLY & ACTB & ACTG1 & ACTR10 & ACTR2 & ⋯ & WWP1 & XAF1 & XRCC5 & XRCC6 & YES1 & YWHAZ & ZBTB16 & ZEB1 & ZNRF1 & ZNRF2\\\\\n",
       "  & <chr> & <dbl> & <dbl> & <dbl> & <dbl> & <dbl> & <dbl> & <dbl> & <dbl> & <dbl> & ⋯ & <dbl> & <dbl> & <dbl> & <dbl> & <dbl> & <dbl> & <dbl> & <dbl> & <dbl> & <dbl>\\\\\n",
       "\\hline\n",
       "\t1 & Background\\_Background                 & 0 & 0 & 0 & 0 & 1 & 0 & 0 & 1 & 0 & ⋯ & 1 & 1 & 1 & 1 & 0 & 0 & 1 & 1 & 1 & 1\\\\\n",
       "\t2 & R-HSA-1059683\\_Interleukin-6 signaling & 0 & 0 & 0 & 0 & 0 & 0 & 0 & 0 & 0 & ⋯ & 0 & 0 & 0 & 0 & 0 & 0 & 0 & 0 & 0 & 0\\\\\n",
       "\\end{tabular}\n"
      ],
      "text/markdown": [
       "\n",
       "A data.frame: 2 × 652\n",
       "\n",
       "| <!--/--> | pathway_id &lt;chr&gt; | ABI1 &lt;dbl&gt; | ABI2 &lt;dbl&gt; | ABL1 &lt;dbl&gt; | ABL2 &lt;dbl&gt; | ACLY &lt;dbl&gt; | ACTB &lt;dbl&gt; | ACTG1 &lt;dbl&gt; | ACTR10 &lt;dbl&gt; | ACTR2 &lt;dbl&gt; | ⋯ ⋯ | WWP1 &lt;dbl&gt; | XAF1 &lt;dbl&gt; | XRCC5 &lt;dbl&gt; | XRCC6 &lt;dbl&gt; | YES1 &lt;dbl&gt; | YWHAZ &lt;dbl&gt; | ZBTB16 &lt;dbl&gt; | ZEB1 &lt;dbl&gt; | ZNRF1 &lt;dbl&gt; | ZNRF2 &lt;dbl&gt; |\n",
       "|---|---|---|---|---|---|---|---|---|---|---|---|---|---|---|---|---|---|---|---|---|---|\n",
       "| 1 | Background_Background                 | 0 | 0 | 0 | 0 | 1 | 0 | 0 | 1 | 0 | ⋯ | 1 | 1 | 1 | 1 | 0 | 0 | 1 | 1 | 1 | 1 |\n",
       "| 2 | R-HSA-1059683_Interleukin-6 signaling | 0 | 0 | 0 | 0 | 0 | 0 | 0 | 0 | 0 | ⋯ | 0 | 0 | 0 | 0 | 0 | 0 | 0 | 0 | 0 | 0 |\n",
       "\n"
      ],
      "text/plain": [
       "  pathway_id                            ABI1 ABI2 ABL1 ABL2 ACLY ACTB ACTG1\n",
       "1 Background_Background                 0    0    0    0    1    0    0    \n",
       "2 R-HSA-1059683_Interleukin-6 signaling 0    0    0    0    0    0    0    \n",
       "  ACTR10 ACTR2 ⋯ WWP1 XAF1 XRCC5 XRCC6 YES1 YWHAZ ZBTB16 ZEB1 ZNRF1 ZNRF2\n",
       "1 1      0     ⋯ 1    1    1     1     0    0     1      1    1     1    \n",
       "2 0      0     ⋯ 0    0    0     0     0    0     0      0    0     0    "
      ]
     },
     "metadata": {},
     "output_type": "display_data"
    }
   ],
   "source": [
    "head(feature_set,2)"
   ]
  },
  {
   "cell_type": "code",
   "execution_count": 969,
   "id": "c3acbc39-84e9-4970-bb45-65f954bf6c6d",
   "metadata": {},
   "outputs": [],
   "source": [
    "### Binarize feature set to use in overall enrichment"
   ]
  },
  {
   "cell_type": "code",
   "execution_count": 970,
   "id": "0e9efb5b-139e-447a-b68a-16c6a227e6ab",
   "metadata": {},
   "outputs": [],
   "source": [
    "feature_set_all = unique(feature_set_all[,c('pathway_id', 'variable_name', 'value')]) %>% dcast(pathway_id ~ variable_name, value.var = 'value')\n",
    "feature_set_all[is.na(feature_set_all)] = 0"
   ]
  },
  {
   "cell_type": "code",
   "execution_count": 971,
   "id": "d0cb106a-277c-406b-a503-083733148b77",
   "metadata": {},
   "outputs": [
    {
     "data": {
      "text/html": [
       "<table class=\"dataframe\">\n",
       "<caption>A data.frame: 2 × 2066</caption>\n",
       "<thead>\n",
       "\t<tr><th></th><th scope=col>pathway_id</th><th scope=col>adipocyte__ABI1</th><th scope=col>adipocyte__ABI2</th><th scope=col>adipocyte__ABL1</th><th scope=col>adipocyte__ABL2</th><th scope=col>adipocyte__ACLY</th><th scope=col>adipocyte__ACTB</th><th scope=col>adipocyte__ACTG1</th><th scope=col>adipocyte__ACTR10</th><th scope=col>adipocyte__ACTR2</th><th scope=col>⋯</th><th scope=col>myeloid.cell__VAV3</th><th scope=col>myeloid.cell__VPS35L</th><th scope=col>myeloid.cell__WASF2</th><th scope=col>myeloid.cell__WIPF1</th><th scope=col>myeloid.cell__WSB1</th><th scope=col>myeloid.cell__WWP1</th><th scope=col>myeloid.cell__XRCC5</th><th scope=col>myeloid.cell__YWHAZ</th><th scope=col>myeloid.cell__ZBTB16</th><th scope=col>myeloid.cell__ZNRF2</th></tr>\n",
       "\t<tr><th></th><th scope=col>&lt;chr&gt;</th><th scope=col>&lt;dbl&gt;</th><th scope=col>&lt;dbl&gt;</th><th scope=col>&lt;dbl&gt;</th><th scope=col>&lt;dbl&gt;</th><th scope=col>&lt;dbl&gt;</th><th scope=col>&lt;dbl&gt;</th><th scope=col>&lt;dbl&gt;</th><th scope=col>&lt;dbl&gt;</th><th scope=col>&lt;dbl&gt;</th><th scope=col>⋯</th><th scope=col>&lt;dbl&gt;</th><th scope=col>&lt;dbl&gt;</th><th scope=col>&lt;dbl&gt;</th><th scope=col>&lt;dbl&gt;</th><th scope=col>&lt;dbl&gt;</th><th scope=col>&lt;dbl&gt;</th><th scope=col>&lt;dbl&gt;</th><th scope=col>&lt;dbl&gt;</th><th scope=col>&lt;dbl&gt;</th><th scope=col>&lt;dbl&gt;</th></tr>\n",
       "</thead>\n",
       "<tbody>\n",
       "\t<tr><th scope=row>1</th><td>Background_Background                </td><td>0</td><td>0</td><td>0</td><td>0</td><td>1</td><td>0</td><td>0</td><td>1</td><td>0</td><td>⋯</td><td>0</td><td>1</td><td>0</td><td>0</td><td>1</td><td>1</td><td>1</td><td>0</td><td>1</td><td>1</td></tr>\n",
       "\t<tr><th scope=row>2</th><td>R-HSA-1059683_Interleukin-6 signaling</td><td>0</td><td>0</td><td>0</td><td>0</td><td>0</td><td>0</td><td>0</td><td>0</td><td>0</td><td>⋯</td><td>0</td><td>0</td><td>0</td><td>0</td><td>0</td><td>0</td><td>0</td><td>0</td><td>0</td><td>0</td></tr>\n",
       "</tbody>\n",
       "</table>\n"
      ],
      "text/latex": [
       "A data.frame: 2 × 2066\n",
       "\\begin{tabular}{r|lllllllllllllllllllll}\n",
       "  & pathway\\_id & adipocyte\\_\\_ABI1 & adipocyte\\_\\_ABI2 & adipocyte\\_\\_ABL1 & adipocyte\\_\\_ABL2 & adipocyte\\_\\_ACLY & adipocyte\\_\\_ACTB & adipocyte\\_\\_ACTG1 & adipocyte\\_\\_ACTR10 & adipocyte\\_\\_ACTR2 & ⋯ & myeloid.cell\\_\\_VAV3 & myeloid.cell\\_\\_VPS35L & myeloid.cell\\_\\_WASF2 & myeloid.cell\\_\\_WIPF1 & myeloid.cell\\_\\_WSB1 & myeloid.cell\\_\\_WWP1 & myeloid.cell\\_\\_XRCC5 & myeloid.cell\\_\\_YWHAZ & myeloid.cell\\_\\_ZBTB16 & myeloid.cell\\_\\_ZNRF2\\\\\n",
       "  & <chr> & <dbl> & <dbl> & <dbl> & <dbl> & <dbl> & <dbl> & <dbl> & <dbl> & <dbl> & ⋯ & <dbl> & <dbl> & <dbl> & <dbl> & <dbl> & <dbl> & <dbl> & <dbl> & <dbl> & <dbl>\\\\\n",
       "\\hline\n",
       "\t1 & Background\\_Background                 & 0 & 0 & 0 & 0 & 1 & 0 & 0 & 1 & 0 & ⋯ & 0 & 1 & 0 & 0 & 1 & 1 & 1 & 0 & 1 & 1\\\\\n",
       "\t2 & R-HSA-1059683\\_Interleukin-6 signaling & 0 & 0 & 0 & 0 & 0 & 0 & 0 & 0 & 0 & ⋯ & 0 & 0 & 0 & 0 & 0 & 0 & 0 & 0 & 0 & 0\\\\\n",
       "\\end{tabular}\n"
      ],
      "text/markdown": [
       "\n",
       "A data.frame: 2 × 2066\n",
       "\n",
       "| <!--/--> | pathway_id &lt;chr&gt; | adipocyte__ABI1 &lt;dbl&gt; | adipocyte__ABI2 &lt;dbl&gt; | adipocyte__ABL1 &lt;dbl&gt; | adipocyte__ABL2 &lt;dbl&gt; | adipocyte__ACLY &lt;dbl&gt; | adipocyte__ACTB &lt;dbl&gt; | adipocyte__ACTG1 &lt;dbl&gt; | adipocyte__ACTR10 &lt;dbl&gt; | adipocyte__ACTR2 &lt;dbl&gt; | ⋯ ⋯ | myeloid.cell__VAV3 &lt;dbl&gt; | myeloid.cell__VPS35L &lt;dbl&gt; | myeloid.cell__WASF2 &lt;dbl&gt; | myeloid.cell__WIPF1 &lt;dbl&gt; | myeloid.cell__WSB1 &lt;dbl&gt; | myeloid.cell__WWP1 &lt;dbl&gt; | myeloid.cell__XRCC5 &lt;dbl&gt; | myeloid.cell__YWHAZ &lt;dbl&gt; | myeloid.cell__ZBTB16 &lt;dbl&gt; | myeloid.cell__ZNRF2 &lt;dbl&gt; |\n",
       "|---|---|---|---|---|---|---|---|---|---|---|---|---|---|---|---|---|---|---|---|---|---|\n",
       "| 1 | Background_Background                 | 0 | 0 | 0 | 0 | 1 | 0 | 0 | 1 | 0 | ⋯ | 0 | 1 | 0 | 0 | 1 | 1 | 1 | 0 | 1 | 1 |\n",
       "| 2 | R-HSA-1059683_Interleukin-6 signaling | 0 | 0 | 0 | 0 | 0 | 0 | 0 | 0 | 0 | ⋯ | 0 | 0 | 0 | 0 | 0 | 0 | 0 | 0 | 0 | 0 |\n",
       "\n"
      ],
      "text/plain": [
       "  pathway_id                            adipocyte__ABI1 adipocyte__ABI2\n",
       "1 Background_Background                 0               0              \n",
       "2 R-HSA-1059683_Interleukin-6 signaling 0               0              \n",
       "  adipocyte__ABL1 adipocyte__ABL2 adipocyte__ACLY adipocyte__ACTB\n",
       "1 0               0               1               0              \n",
       "2 0               0               0               0              \n",
       "  adipocyte__ACTG1 adipocyte__ACTR10 adipocyte__ACTR2 ⋯ myeloid.cell__VAV3\n",
       "1 0                1                 0                ⋯ 0                 \n",
       "2 0                0                 0                ⋯ 0                 \n",
       "  myeloid.cell__VPS35L myeloid.cell__WASF2 myeloid.cell__WIPF1\n",
       "1 1                    0                   0                  \n",
       "2 0                    0                   0                  \n",
       "  myeloid.cell__WSB1 myeloid.cell__WWP1 myeloid.cell__XRCC5 myeloid.cell__YWHAZ\n",
       "1 1                  1                  1                   0                  \n",
       "2 0                  0                  0                   0                  \n",
       "  myeloid.cell__ZBTB16 myeloid.cell__ZNRF2\n",
       "1 1                    1                  \n",
       "2 0                    0                  "
      ]
     },
     "metadata": {},
     "output_type": "display_data"
    }
   ],
   "source": [
    "head(feature_set_all,2) # feature set containing only genes"
   ]
  },
  {
   "cell_type": "code",
   "execution_count": 972,
   "id": "8c8d9a42-ccc8-4808-b69a-e48aa709dc96",
   "metadata": {},
   "outputs": [],
   "source": [
    "## Adjust rownames and convert to matrix"
   ]
  },
  {
   "cell_type": "code",
   "execution_count": 973,
   "id": "acc820d1-c4aa-4bd3-ae85-f9cbad2b661c",
   "metadata": {},
   "outputs": [],
   "source": [
    "rownames(feature_set) = feature_set$pathway_id\n",
    "rownames(feature_set_all) = feature_set_all$pathway_id"
   ]
  },
  {
   "cell_type": "code",
   "execution_count": 974,
   "id": "d838e256-c0ab-4b74-b1aa-59eb6a73b406",
   "metadata": {},
   "outputs": [],
   "source": [
    "feature_set$pathway_id = NULL\n",
    "feature_set_all$pathway_id = NULL"
   ]
  },
  {
   "cell_type": "code",
   "execution_count": 975,
   "id": "14fc0d5b-efb1-4c51-badc-1dc2325cd883",
   "metadata": {},
   "outputs": [],
   "source": [
    "feature_set = as.matrix(feature_set)\n",
    "feature_set_all = as.matrix(feature_set_all)"
   ]
  },
  {
   "cell_type": "markdown",
   "id": "fb6a3235-87fc-4125-a940-0b24214ccef6",
   "metadata": {},
   "source": [
    "# Run pathway enrichment"
   ]
  },
  {
   "cell_type": "markdown",
   "id": "4f98ff41-422f-4907-9340-f43b3d14b431",
   "metadata": {},
   "source": [
    "## Per View"
   ]
  },
  {
   "cell_type": "code",
   "execution_count": 976,
   "id": "837a091e-ceb0-4bb9-8a8d-eb278f1de760",
   "metadata": {},
   "outputs": [],
   "source": [
    "## For each view seperately run the enrichment"
   ]
  },
  {
   "cell_type": "code",
   "execution_count": 977,
   "id": "94629b40-d098-4e87-bd71-0867486d792a",
   "metadata": {
    "tags": []
   },
   "outputs": [
    {
     "name": "stderr",
     "output_type": "stream",
     "text": [
      "Intersecting features names in the model and the gene set annotation results in a total of 331 features.\n",
      "\n",
      "\n",
      "Running feature set Enrichment Analysis with the following options...\n",
      "View: myeloid.cell \n",
      "Number of feature sets: 27 \n",
      "Set statistic: rank.sum \n",
      "Statistical test: parametric \n",
      "\n",
      "\n",
      "\n",
      "\n",
      "\n",
      "Using pathway as id variables\n",
      "\n",
      "Using pathway as id variables\n",
      "\n",
      "Intersecting features names in the model and the gene set annotation results in a total of 331 features.\n",
      "\n",
      "\n",
      "Running feature set Enrichment Analysis with the following options...\n",
      "View: myeloid.cell \n",
      "Number of feature sets: 27 \n",
      "Set statistic: rank.sum \n",
      "Statistical test: parametric \n",
      "\n",
      "\n",
      "Subsetting weights with negative sign\n",
      "\n",
      "\n",
      "\n",
      "\n",
      "Using pathway as id variables\n",
      "\n",
      "Using pathway as id variables\n",
      "\n",
      "Intersecting features names in the model and the gene set annotation results in a total of 331 features.\n",
      "\n",
      "\n",
      "Running feature set Enrichment Analysis with the following options...\n",
      "View: myeloid.cell \n",
      "Number of feature sets: 27 \n",
      "Set statistic: rank.sum \n",
      "Statistical test: parametric \n",
      "\n",
      "\n",
      "Subsetting weights with positive sign\n",
      "\n",
      "\n",
      "\n",
      "\n",
      "Using pathway as id variables\n",
      "\n",
      "Using pathway as id variables\n",
      "\n",
      "Intersecting features names in the model and the gene set annotation results in a total of 112 features.\n",
      "\n",
      "\n",
      "Running feature set Enrichment Analysis with the following options...\n",
      "View: mural.cell \n",
      "Number of feature sets: 8 \n",
      "Set statistic: rank.sum \n",
      "Statistical test: parametric \n",
      "\n",
      "\n",
      "\n",
      "\n",
      "\n",
      "Using pathway as id variables\n",
      "\n",
      "Using pathway as id variables\n",
      "\n",
      "Intersecting features names in the model and the gene set annotation results in a total of 112 features.\n",
      "\n",
      "\n",
      "Running feature set Enrichment Analysis with the following options...\n",
      "View: mural.cell \n",
      "Number of feature sets: 8 \n",
      "Set statistic: rank.sum \n",
      "Statistical test: parametric \n",
      "\n",
      "\n",
      "Subsetting weights with negative sign\n",
      "\n",
      "\n",
      "\n",
      "\n",
      "Using pathway as id variables\n",
      "\n",
      "Using pathway as id variables\n",
      "\n",
      "Intersecting features names in the model and the gene set annotation results in a total of 112 features.\n",
      "\n",
      "\n",
      "Running feature set Enrichment Analysis with the following options...\n",
      "View: mural.cell \n",
      "Number of feature sets: 8 \n",
      "Set statistic: rank.sum \n",
      "Statistical test: parametric \n",
      "\n",
      "\n",
      "Subsetting weights with positive sign\n",
      "\n",
      "\n",
      "\n",
      "\n",
      "Using pathway as id variables\n",
      "\n",
      "Using pathway as id variables\n",
      "\n",
      "Intersecting features names in the model and the gene set annotation results in a total of 243 features.\n",
      "\n",
      "\n",
      "Running feature set Enrichment Analysis with the following options...\n",
      "View: fibroblast.of.cardiac.tissue \n",
      "Number of feature sets: 21 \n",
      "Set statistic: rank.sum \n",
      "Statistical test: parametric \n",
      "\n",
      "\n",
      "\n",
      "\n",
      "\n",
      "Using pathway as id variables\n",
      "\n",
      "Using pathway as id variables\n",
      "\n",
      "Intersecting features names in the model and the gene set annotation results in a total of 243 features.\n",
      "\n",
      "\n",
      "Running feature set Enrichment Analysis with the following options...\n",
      "View: fibroblast.of.cardiac.tissue \n",
      "Number of feature sets: 21 \n",
      "Set statistic: rank.sum \n",
      "Statistical test: parametric \n",
      "\n",
      "\n",
      "Subsetting weights with negative sign\n",
      "\n",
      "\n",
      "\n",
      "\n",
      "Using pathway as id variables\n",
      "\n",
      "Using pathway as id variables\n",
      "\n",
      "Intersecting features names in the model and the gene set annotation results in a total of 243 features.\n",
      "\n",
      "\n",
      "Running feature set Enrichment Analysis with the following options...\n",
      "View: fibroblast.of.cardiac.tissue \n",
      "Number of feature sets: 21 \n",
      "Set statistic: rank.sum \n",
      "Statistical test: parametric \n",
      "\n",
      "\n",
      "Subsetting weights with positive sign\n",
      "\n",
      "\n",
      "\n",
      "\n",
      "Using pathway as id variables\n",
      "\n",
      "Using pathway as id variables\n",
      "\n",
      "Intersecting features names in the model and the gene set annotation results in a total of 99 features.\n",
      "\n",
      "\n",
      "Running feature set Enrichment Analysis with the following options...\n",
      "View: mast.cell \n",
      "Number of feature sets: 16 \n",
      "Set statistic: rank.sum \n",
      "Statistical test: parametric \n",
      "\n",
      "\n",
      "\n",
      "\n",
      "\n",
      "Using pathway as id variables\n",
      "\n",
      "Using pathway as id variables\n",
      "\n",
      "Intersecting features names in the model and the gene set annotation results in a total of 99 features.\n",
      "\n",
      "\n",
      "Running feature set Enrichment Analysis with the following options...\n",
      "View: mast.cell \n",
      "Number of feature sets: 16 \n",
      "Set statistic: rank.sum \n",
      "Statistical test: parametric \n",
      "\n",
      "\n",
      "Subsetting weights with negative sign\n",
      "\n",
      "\n",
      "\n",
      "\n",
      "Using pathway as id variables\n",
      "\n",
      "Using pathway as id variables\n",
      "\n",
      "Intersecting features names in the model and the gene set annotation results in a total of 99 features.\n",
      "\n",
      "\n",
      "Running feature set Enrichment Analysis with the following options...\n",
      "View: mast.cell \n",
      "Number of feature sets: 16 \n",
      "Set statistic: rank.sum \n",
      "Statistical test: parametric \n",
      "\n",
      "\n",
      "Subsetting weights with positive sign\n",
      "\n",
      "\n",
      "\n",
      "\n",
      "Using pathway as id variables\n",
      "\n",
      "Using pathway as id variables\n",
      "\n",
      "Intersecting features names in the model and the gene set annotation results in a total of 170 features.\n",
      "\n",
      "\n",
      "Running feature set Enrichment Analysis with the following options...\n",
      "View: lymphocyte \n",
      "Number of feature sets: 16 \n",
      "Set statistic: rank.sum \n",
      "Statistical test: parametric \n",
      "\n",
      "\n",
      "\n",
      "\n",
      "\n",
      "Using pathway as id variables\n",
      "\n",
      "Using pathway as id variables\n",
      "\n",
      "Intersecting features names in the model and the gene set annotation results in a total of 170 features.\n",
      "\n",
      "\n",
      "Running feature set Enrichment Analysis with the following options...\n",
      "View: lymphocyte \n",
      "Number of feature sets: 16 \n",
      "Set statistic: rank.sum \n",
      "Statistical test: parametric \n",
      "\n",
      "\n",
      "Subsetting weights with negative sign\n",
      "\n",
      "\n",
      "\n",
      "\n",
      "Using pathway as id variables\n",
      "\n",
      "Using pathway as id variables\n",
      "\n",
      "Intersecting features names in the model and the gene set annotation results in a total of 170 features.\n",
      "\n",
      "\n",
      "Running feature set Enrichment Analysis with the following options...\n",
      "View: lymphocyte \n",
      "Number of feature sets: 16 \n",
      "Set statistic: rank.sum \n",
      "Statistical test: parametric \n",
      "\n",
      "\n",
      "Subsetting weights with positive sign\n",
      "\n",
      "\n",
      "\n",
      "\n",
      "Using pathway as id variables\n",
      "\n",
      "Using pathway as id variables\n",
      "\n",
      "Intersecting features names in the model and the gene set annotation results in a total of 166 features.\n",
      "\n",
      "\n",
      "Running feature set Enrichment Analysis with the following options...\n",
      "View: endothelial.cell \n",
      "Number of feature sets: 12 \n",
      "Set statistic: rank.sum \n",
      "Statistical test: parametric \n",
      "\n",
      "\n",
      "\n",
      "\n",
      "\n",
      "Using pathway as id variables\n",
      "\n",
      "Using pathway as id variables\n",
      "\n",
      "Intersecting features names in the model and the gene set annotation results in a total of 166 features.\n",
      "\n",
      "\n",
      "Running feature set Enrichment Analysis with the following options...\n",
      "View: endothelial.cell \n",
      "Number of feature sets: 12 \n",
      "Set statistic: rank.sum \n",
      "Statistical test: parametric \n",
      "\n",
      "\n",
      "Subsetting weights with negative sign\n",
      "\n",
      "\n",
      "\n",
      "\n",
      "Using pathway as id variables\n",
      "\n",
      "Using pathway as id variables\n",
      "\n",
      "Intersecting features names in the model and the gene set annotation results in a total of 166 features.\n",
      "\n",
      "\n",
      "Running feature set Enrichment Analysis with the following options...\n",
      "View: endothelial.cell \n",
      "Number of feature sets: 12 \n",
      "Set statistic: rank.sum \n",
      "Statistical test: parametric \n",
      "\n",
      "\n",
      "Subsetting weights with positive sign\n",
      "\n",
      "\n",
      "\n",
      "\n",
      "Using pathway as id variables\n",
      "\n",
      "Using pathway as id variables\n",
      "\n",
      "Intersecting features names in the model and the gene set annotation results in a total of 162 features.\n",
      "\n",
      "\n",
      "Running feature set Enrichment Analysis with the following options...\n",
      "View: cardiac.neuron \n",
      "Number of feature sets: 14 \n",
      "Set statistic: rank.sum \n",
      "Statistical test: parametric \n",
      "\n",
      "\n",
      "\n",
      "\n",
      "\n",
      "Using pathway as id variables\n",
      "\n",
      "Using pathway as id variables\n",
      "\n",
      "Intersecting features names in the model and the gene set annotation results in a total of 162 features.\n",
      "\n",
      "\n",
      "Running feature set Enrichment Analysis with the following options...\n",
      "View: cardiac.neuron \n",
      "Number of feature sets: 14 \n",
      "Set statistic: rank.sum \n",
      "Statistical test: parametric \n",
      "\n",
      "\n",
      "Subsetting weights with negative sign\n",
      "\n",
      "\n",
      "\n",
      "\n",
      "Using pathway as id variables\n",
      "\n",
      "Using pathway as id variables\n",
      "\n",
      "Intersecting features names in the model and the gene set annotation results in a total of 162 features.\n",
      "\n",
      "\n",
      "Running feature set Enrichment Analysis with the following options...\n",
      "View: cardiac.neuron \n",
      "Number of feature sets: 14 \n",
      "Set statistic: rank.sum \n",
      "Statistical test: parametric \n",
      "\n",
      "\n",
      "Subsetting weights with positive sign\n",
      "\n",
      "\n",
      "\n",
      "\n",
      "Using pathway as id variables\n",
      "\n",
      "Using pathway as id variables\n",
      "\n",
      "Intersecting features names in the model and the gene set annotation results in a total of 368 features.\n",
      "\n",
      "\n",
      "Running feature set Enrichment Analysis with the following options...\n",
      "View: cardiac.muscle.cell \n",
      "Number of feature sets: 27 \n",
      "Set statistic: rank.sum \n",
      "Statistical test: parametric \n",
      "\n",
      "\n",
      "\n",
      "\n",
      "\n",
      "Using pathway as id variables\n",
      "\n",
      "Using pathway as id variables\n",
      "\n",
      "Intersecting features names in the model and the gene set annotation results in a total of 368 features.\n",
      "\n",
      "\n",
      "Running feature set Enrichment Analysis with the following options...\n",
      "View: cardiac.muscle.cell \n",
      "Number of feature sets: 27 \n",
      "Set statistic: rank.sum \n",
      "Statistical test: parametric \n",
      "\n",
      "\n",
      "Subsetting weights with negative sign\n",
      "\n",
      "\n",
      "\n",
      "\n",
      "Using pathway as id variables\n",
      "\n",
      "Using pathway as id variables\n",
      "\n",
      "Intersecting features names in the model and the gene set annotation results in a total of 368 features.\n",
      "\n",
      "\n",
      "Running feature set Enrichment Analysis with the following options...\n",
      "View: cardiac.muscle.cell \n",
      "Number of feature sets: 27 \n",
      "Set statistic: rank.sum \n",
      "Statistical test: parametric \n",
      "\n",
      "\n",
      "Subsetting weights with positive sign\n",
      "\n",
      "\n",
      "\n",
      "\n",
      "Using pathway as id variables\n",
      "\n",
      "Using pathway as id variables\n",
      "\n",
      "Intersecting features names in the model and the gene set annotation results in a total of 414 features.\n",
      "\n",
      "\n",
      "Running feature set Enrichment Analysis with the following options...\n",
      "View: adipocyte \n",
      "Number of feature sets: 29 \n",
      "Set statistic: rank.sum \n",
      "Statistical test: parametric \n",
      "\n",
      "\n",
      "\n",
      "\n",
      "\n",
      "Using pathway as id variables\n",
      "\n",
      "Using pathway as id variables\n",
      "\n",
      "Intersecting features names in the model and the gene set annotation results in a total of 414 features.\n",
      "\n",
      "\n",
      "Running feature set Enrichment Analysis with the following options...\n",
      "View: adipocyte \n",
      "Number of feature sets: 29 \n",
      "Set statistic: rank.sum \n",
      "Statistical test: parametric \n",
      "\n",
      "\n",
      "Subsetting weights with negative sign\n",
      "\n",
      "\n",
      "\n",
      "\n",
      "Using pathway as id variables\n",
      "\n",
      "Using pathway as id variables\n",
      "\n",
      "Intersecting features names in the model and the gene set annotation results in a total of 414 features.\n",
      "\n",
      "\n",
      "Running feature set Enrichment Analysis with the following options...\n",
      "View: adipocyte \n",
      "Number of feature sets: 29 \n",
      "Set statistic: rank.sum \n",
      "Statistical test: parametric \n",
      "\n",
      "\n",
      "Subsetting weights with positive sign\n",
      "\n",
      "\n",
      "\n",
      "\n",
      "Using pathway as id variables\n",
      "\n",
      "Using pathway as id variables\n",
      "\n"
     ]
    }
   ],
   "source": [
    "if(max(views_set) != ''){\n",
    "    enrichment_result_types = run_enrichment_pathway(\n",
    "        model = model, # MOFA Model\n",
    "        factor_set = factor_set, # list of factors for which to run the enrichment\n",
    "        views = views_set,\n",
    "        use_statistic = use_statistic, # which statistic to use\n",
    "        feature_set = feature_set, # Pathway Feature Set mapping; here use without type names\n",
    "        min_size = min_size, # Min size of genes within a pathway\n",
    "        use_test = use_test, # test used for calculating p-value\n",
    "        p_val_cutoff = p_val_cutoff, # p-value cutoff used\n",
    "        enrichment_result_p_val = data.frame())# dataset for saving result \n",
    "    } else{enrichment_result_types = ''}"
   ]
  },
  {
   "cell_type": "code",
   "execution_count": 978,
   "id": "ea4e8238-d4d2-4f08-aa3f-0bdd6d74d98c",
   "metadata": {
    "tags": []
   },
   "outputs": [],
   "source": [
    "# Example of the resulting enrichment table"
   ]
  },
  {
   "cell_type": "code",
   "execution_count": 979,
   "id": "0aa02f16-11fe-4b78-95cb-6518f71e2b4e",
   "metadata": {},
   "outputs": [
    {
     "data": {
      "text/html": [
       "<table class=\"dataframe\">\n",
       "<caption>A data.frame: 5 × 7</caption>\n",
       "<thead>\n",
       "\t<tr><th></th><th scope=col>pathway</th><th scope=col>variable</th><th scope=col>p</th><th scope=col>padj</th><th scope=col>view</th><th scope=col>enrichment</th><th scope=col>global_FDR</th></tr>\n",
       "\t<tr><th></th><th scope=col>&lt;chr&gt;</th><th scope=col>&lt;fct&gt;</th><th scope=col>&lt;dbl&gt;</th><th scope=col>&lt;dbl&gt;</th><th scope=col>&lt;chr&gt;</th><th scope=col>&lt;chr&gt;</th><th scope=col>&lt;dbl&gt;</th></tr>\n",
       "</thead>\n",
       "<tbody>\n",
       "\t<tr><th scope=row>1</th><td>R-HSA-1059683_Interleukin-6 signaling                         </td><td>Factor1</td><td>0.001446213</td><td>0.01952387</td><td>cardiac.muscle.cell</td><td>all     </td><td>0.5639793</td></tr>\n",
       "\t<tr><th scope=row>2</th><td>R-HSA-512988_Interleukin-3, Interleukin-5 and GM-CSF signaling</td><td>Factor1</td><td>0.001051805</td><td>0.01952387</td><td>cardiac.muscle.cell</td><td>all     </td><td>0.5639793</td></tr>\n",
       "\t<tr><th scope=row>3</th><td>R-HSA-2454202_Fc epsilon receptor (FCERI) signaling           </td><td>Factor2</td><td>0.002580297</td><td>0.02322268</td><td>myeloid.cell       </td><td>negative</td><td>0.5639793</td></tr>\n",
       "\t<tr><th scope=row>4</th><td>R-HSA-2871809_FCERI mediated Ca+2 mobilization                </td><td>Factor2</td><td>0.002016150</td><td>0.02322268</td><td>myeloid.cell       </td><td>negative</td><td>0.5639793</td></tr>\n",
       "\t<tr><th scope=row>5</th><td>R-HSA-512988_Interleukin-3, Interleukin-5 and GM-CSF signaling</td><td>Factor2</td><td>0.001258003</td><td>0.02322268</td><td>myeloid.cell       </td><td>negative</td><td>0.5639793</td></tr>\n",
       "</tbody>\n",
       "</table>\n"
      ],
      "text/latex": [
       "A data.frame: 5 × 7\n",
       "\\begin{tabular}{r|lllllll}\n",
       "  & pathway & variable & p & padj & view & enrichment & global\\_FDR\\\\\n",
       "  & <chr> & <fct> & <dbl> & <dbl> & <chr> & <chr> & <dbl>\\\\\n",
       "\\hline\n",
       "\t1 & R-HSA-1059683\\_Interleukin-6 signaling                          & Factor1 & 0.001446213 & 0.01952387 & cardiac.muscle.cell & all      & 0.5639793\\\\\n",
       "\t2 & R-HSA-512988\\_Interleukin-3, Interleukin-5 and GM-CSF signaling & Factor1 & 0.001051805 & 0.01952387 & cardiac.muscle.cell & all      & 0.5639793\\\\\n",
       "\t3 & R-HSA-2454202\\_Fc epsilon receptor (FCERI) signaling            & Factor2 & 0.002580297 & 0.02322268 & myeloid.cell        & negative & 0.5639793\\\\\n",
       "\t4 & R-HSA-2871809\\_FCERI mediated Ca+2 mobilization                 & Factor2 & 0.002016150 & 0.02322268 & myeloid.cell        & negative & 0.5639793\\\\\n",
       "\t5 & R-HSA-512988\\_Interleukin-3, Interleukin-5 and GM-CSF signaling & Factor2 & 0.001258003 & 0.02322268 & myeloid.cell        & negative & 0.5639793\\\\\n",
       "\\end{tabular}\n"
      ],
      "text/markdown": [
       "\n",
       "A data.frame: 5 × 7\n",
       "\n",
       "| <!--/--> | pathway &lt;chr&gt; | variable &lt;fct&gt; | p &lt;dbl&gt; | padj &lt;dbl&gt; | view &lt;chr&gt; | enrichment &lt;chr&gt; | global_FDR &lt;dbl&gt; |\n",
       "|---|---|---|---|---|---|---|---|\n",
       "| 1 | R-HSA-1059683_Interleukin-6 signaling                          | Factor1 | 0.001446213 | 0.01952387 | cardiac.muscle.cell | all      | 0.5639793 |\n",
       "| 2 | R-HSA-512988_Interleukin-3, Interleukin-5 and GM-CSF signaling | Factor1 | 0.001051805 | 0.01952387 | cardiac.muscle.cell | all      | 0.5639793 |\n",
       "| 3 | R-HSA-2454202_Fc epsilon receptor (FCERI) signaling            | Factor2 | 0.002580297 | 0.02322268 | myeloid.cell        | negative | 0.5639793 |\n",
       "| 4 | R-HSA-2871809_FCERI mediated Ca+2 mobilization                 | Factor2 | 0.002016150 | 0.02322268 | myeloid.cell        | negative | 0.5639793 |\n",
       "| 5 | R-HSA-512988_Interleukin-3, Interleukin-5 and GM-CSF signaling | Factor2 | 0.001258003 | 0.02322268 | myeloid.cell        | negative | 0.5639793 |\n",
       "\n"
      ],
      "text/plain": [
       "  pathway                                                        variable\n",
       "1 R-HSA-1059683_Interleukin-6 signaling                          Factor1 \n",
       "2 R-HSA-512988_Interleukin-3, Interleukin-5 and GM-CSF signaling Factor1 \n",
       "3 R-HSA-2454202_Fc epsilon receptor (FCERI) signaling            Factor2 \n",
       "4 R-HSA-2871809_FCERI mediated Ca+2 mobilization                 Factor2 \n",
       "5 R-HSA-512988_Interleukin-3, Interleukin-5 and GM-CSF signaling Factor2 \n",
       "  p           padj       view                enrichment global_FDR\n",
       "1 0.001446213 0.01952387 cardiac.muscle.cell all        0.5639793 \n",
       "2 0.001051805 0.01952387 cardiac.muscle.cell all        0.5639793 \n",
       "3 0.002580297 0.02322268 myeloid.cell        negative   0.5639793 \n",
       "4 0.002016150 0.02322268 myeloid.cell        negative   0.5639793 \n",
       "5 0.001258003 0.02322268 myeloid.cell        negative   0.5639793 "
      ]
     },
     "metadata": {},
     "output_type": "display_data"
    }
   ],
   "source": [
    "if(is.data.frame(enrichment_result_types)){\n",
    "    head(enrichment_result_types  %>% arrange(padj) ,5)}"
   ]
  },
  {
   "cell_type": "markdown",
   "id": "4abdba54-37fd-4b8a-9ec9-9d1545e7a98d",
   "metadata": {},
   "source": [
    "## Across Views"
   ]
  },
  {
   "cell_type": "code",
   "execution_count": 980,
   "id": "0f67cc10-4eb0-424f-8604-f5c40bc6dae7",
   "metadata": {},
   "outputs": [],
   "source": [
    "## Run an enrichment analysis across all the views"
   ]
  },
  {
   "cell_type": "code",
   "execution_count": 981,
   "id": "aa5ba392-04df-41d6-bbbb-5d611ff0a7a2",
   "metadata": {
    "tags": []
   },
   "outputs": [
    {
     "name": "stderr",
     "output_type": "stream",
     "text": [
      "Intersecting features names in the model and the gene set annotation results in a total of 2065 features.\n",
      "\n",
      "\n",
      "Running feature set Enrichment Analysis with the following options...\n",
      "View: complete \n",
      "Number of feature sets: 39 \n",
      "Set statistic: rank.sum \n",
      "Statistical test: parametric \n",
      "\n",
      "\n",
      "\n",
      "\n",
      "\n",
      "Using pathway as id variables\n",
      "\n",
      "Using pathway as id variables\n",
      "\n",
      "Intersecting features names in the model and the gene set annotation results in a total of 2065 features.\n",
      "\n",
      "\n",
      "Running feature set Enrichment Analysis with the following options...\n",
      "View: complete \n",
      "Number of feature sets: 39 \n",
      "Set statistic: rank.sum \n",
      "Statistical test: parametric \n",
      "\n",
      "\n",
      "Subsetting weights with negative sign\n",
      "\n",
      "\n",
      "\n",
      "\n",
      "Using pathway as id variables\n",
      "\n",
      "Using pathway as id variables\n",
      "\n",
      "Intersecting features names in the model and the gene set annotation results in a total of 2065 features.\n",
      "\n",
      "\n",
      "Running feature set Enrichment Analysis with the following options...\n",
      "View: complete \n",
      "Number of feature sets: 39 \n",
      "Set statistic: rank.sum \n",
      "Statistical test: parametric \n",
      "\n",
      "\n",
      "Subsetting weights with positive sign\n",
      "\n",
      "\n",
      "\n",
      "\n",
      "Using pathway as id variables\n",
      "\n",
      "Using pathway as id variables\n",
      "\n"
     ]
    }
   ],
   "source": [
    "enrichment_result_all = run_enrichment_pathway(\n",
    "    model = model_conc, # MOFA Model\n",
    "    views = 'complete', # dimensions for which to run\n",
    "    factor_set = factor_set, # list of factors for which to run the enrichment\n",
    "    use_statistic = use_statistic, # which statistic to use\n",
    "    feature_set = feature_set_all, # Pathway Feature Set mapping; use the concatenated one with cell-types\n",
    "    min_size = min_size, # Min size of genes within a pathway\n",
    "    use_test = use_test, # test used for calculating p-value\n",
    "    p_val_cutoff = p_val_cutoff, # p-value cutoff used\n",
    "    enrichment_result_p_val = data.frame()) # dataset for saving results"
   ]
  },
  {
   "cell_type": "code",
   "execution_count": 982,
   "id": "cc94b03a-82c3-415d-9a0c-a1c452438226",
   "metadata": {},
   "outputs": [
    {
     "data": {
      "text/html": [
       "<table class=\"dataframe\">\n",
       "<caption>A data.frame: 5 × 7</caption>\n",
       "<thead>\n",
       "\t<tr><th></th><th scope=col>pathway</th><th scope=col>variable</th><th scope=col>p</th><th scope=col>padj</th><th scope=col>view</th><th scope=col>enrichment</th><th scope=col>global_FDR</th></tr>\n",
       "\t<tr><th></th><th scope=col>&lt;chr&gt;</th><th scope=col>&lt;fct&gt;</th><th scope=col>&lt;dbl&gt;</th><th scope=col>&lt;dbl&gt;</th><th scope=col>&lt;chr&gt;</th><th scope=col>&lt;chr&gt;</th><th scope=col>&lt;dbl&gt;</th></tr>\n",
       "</thead>\n",
       "<tbody>\n",
       "\t<tr><th scope=row>1</th><td>R-HSA-877312_Regulation of IFNG signaling                     </td><td>Factor1</td><td>1.333772e-06</td><td>5.201711e-05</td><td>complete</td><td>negative</td><td>0.000468154</td></tr>\n",
       "\t<tr><th scope=row>2</th><td>R-HSA-512988_Interleukin-3, Interleukin-5 and GM-CSF signaling</td><td>Factor2</td><td>8.505212e-05</td><td>1.695328e-03</td><td>complete</td><td>negative</td><td>0.014926648</td></tr>\n",
       "\t<tr><th scope=row>3</th><td>R-HSA-2454202_Fc epsilon receptor (FCERI) signaling           </td><td>Factor2</td><td>2.139521e-04</td><td>2.781378e-03</td><td>complete</td><td>negative</td><td>0.016580690</td></tr>\n",
       "\t<tr><th scope=row>4</th><td>R-HSA-9607240_FLT3 Signaling                                  </td><td>Factor1</td><td>1.504252e-04</td><td>2.933291e-03</td><td>complete</td><td>negative</td><td>0.016580690</td></tr>\n",
       "\t<tr><th scope=row>5</th><td>R-HSA-173623_Classical antibody-mediated complement activation</td><td>Factor2</td><td>2.834306e-04</td><td>5.526897e-03</td><td>complete</td><td>positive</td><td>0.016580690</td></tr>\n",
       "</tbody>\n",
       "</table>\n"
      ],
      "text/latex": [
       "A data.frame: 5 × 7\n",
       "\\begin{tabular}{r|lllllll}\n",
       "  & pathway & variable & p & padj & view & enrichment & global\\_FDR\\\\\n",
       "  & <chr> & <fct> & <dbl> & <dbl> & <chr> & <chr> & <dbl>\\\\\n",
       "\\hline\n",
       "\t1 & R-HSA-877312\\_Regulation of IFNG signaling                      & Factor1 & 1.333772e-06 & 5.201711e-05 & complete & negative & 0.000468154\\\\\n",
       "\t2 & R-HSA-512988\\_Interleukin-3, Interleukin-5 and GM-CSF signaling & Factor2 & 8.505212e-05 & 1.695328e-03 & complete & negative & 0.014926648\\\\\n",
       "\t3 & R-HSA-2454202\\_Fc epsilon receptor (FCERI) signaling            & Factor2 & 2.139521e-04 & 2.781378e-03 & complete & negative & 0.016580690\\\\\n",
       "\t4 & R-HSA-9607240\\_FLT3 Signaling                                   & Factor1 & 1.504252e-04 & 2.933291e-03 & complete & negative & 0.016580690\\\\\n",
       "\t5 & R-HSA-173623\\_Classical antibody-mediated complement activation & Factor2 & 2.834306e-04 & 5.526897e-03 & complete & positive & 0.016580690\\\\\n",
       "\\end{tabular}\n"
      ],
      "text/markdown": [
       "\n",
       "A data.frame: 5 × 7\n",
       "\n",
       "| <!--/--> | pathway &lt;chr&gt; | variable &lt;fct&gt; | p &lt;dbl&gt; | padj &lt;dbl&gt; | view &lt;chr&gt; | enrichment &lt;chr&gt; | global_FDR &lt;dbl&gt; |\n",
       "|---|---|---|---|---|---|---|---|\n",
       "| 1 | R-HSA-877312_Regulation of IFNG signaling                      | Factor1 | 1.333772e-06 | 5.201711e-05 | complete | negative | 0.000468154 |\n",
       "| 2 | R-HSA-512988_Interleukin-3, Interleukin-5 and GM-CSF signaling | Factor2 | 8.505212e-05 | 1.695328e-03 | complete | negative | 0.014926648 |\n",
       "| 3 | R-HSA-2454202_Fc epsilon receptor (FCERI) signaling            | Factor2 | 2.139521e-04 | 2.781378e-03 | complete | negative | 0.016580690 |\n",
       "| 4 | R-HSA-9607240_FLT3 Signaling                                   | Factor1 | 1.504252e-04 | 2.933291e-03 | complete | negative | 0.016580690 |\n",
       "| 5 | R-HSA-173623_Classical antibody-mediated complement activation | Factor2 | 2.834306e-04 | 5.526897e-03 | complete | positive | 0.016580690 |\n",
       "\n"
      ],
      "text/plain": [
       "  pathway                                                        variable\n",
       "1 R-HSA-877312_Regulation of IFNG signaling                      Factor1 \n",
       "2 R-HSA-512988_Interleukin-3, Interleukin-5 and GM-CSF signaling Factor2 \n",
       "3 R-HSA-2454202_Fc epsilon receptor (FCERI) signaling            Factor2 \n",
       "4 R-HSA-9607240_FLT3 Signaling                                   Factor1 \n",
       "5 R-HSA-173623_Classical antibody-mediated complement activation Factor2 \n",
       "  p            padj         view     enrichment global_FDR \n",
       "1 1.333772e-06 5.201711e-05 complete negative   0.000468154\n",
       "2 8.505212e-05 1.695328e-03 complete negative   0.014926648\n",
       "3 2.139521e-04 2.781378e-03 complete negative   0.016580690\n",
       "4 1.504252e-04 2.933291e-03 complete negative   0.016580690\n",
       "5 2.834306e-04 5.526897e-03 complete positive   0.016580690"
      ]
     },
     "metadata": {},
     "output_type": "display_data"
    }
   ],
   "source": [
    "head(enrichment_result_all %>% arrange(padj) ,5)"
   ]
  },
  {
   "cell_type": "code",
   "execution_count": 983,
   "id": "834d67fe-fa08-4b35-975c-a786cc1ca9b7",
   "metadata": {},
   "outputs": [],
   "source": [
    "### Combine both versions and save the result"
   ]
  },
  {
   "cell_type": "code",
   "execution_count": 984,
   "id": "28d752bc-a098-49c0-9805-27c347c8b3f3",
   "metadata": {},
   "outputs": [],
   "source": [
    "if(is.data.frame(enrichment_result_types)){\n",
    "    enrichment_result = rbind(enrichment_result_all, enrichment_result_types  )\n",
    "    } else{enrichment_result = enrichment_result_all}"
   ]
  },
  {
   "cell_type": "code",
   "execution_count": 985,
   "id": "28861808-af36-4127-9145-45998c0245f0",
   "metadata": {},
   "outputs": [],
   "source": [
    "enrichment_result$ID = str_replace(enrichment_result$pathway, '_.*', '')\n",
    "enrichment_result$pathway_name = str_replace(enrichment_result$pathway, '.*_', '')"
   ]
  },
  {
   "cell_type": "code",
   "execution_count": 986,
   "id": "5a04e82f-7b76-4c02-a645-8f09bfbae1e4",
   "metadata": {},
   "outputs": [],
   "source": [
    "enrichment_result$pathway = NULL"
   ]
  },
  {
   "cell_type": "code",
   "execution_count": 987,
   "id": "d71641e7-aee8-42ef-a2f3-5d6ebcb6f950",
   "metadata": {},
   "outputs": [],
   "source": [
    "enrichment_result = merge(enrichment_result, coverage_info)"
   ]
  },
  {
   "cell_type": "code",
   "execution_count": 988,
   "id": "2cfc86d2-c727-4938-bea1-c060a1fe2a0d",
   "metadata": {},
   "outputs": [],
   "source": [
    "write.csv(enrichment_result, paste0(result_path, '/06_results/06_Pathway_Enrichment_' ,mofa_name, '.csv'), row.names = FALSE)"
   ]
  },
  {
   "cell_type": "markdown",
   "id": "18989ad9-8561-4a4f-925a-f240af0bf135",
   "metadata": {
    "tags": []
   },
   "source": [
    "# Plot interesting pathways"
   ]
  },
  {
   "cell_type": "code",
   "execution_count": 989,
   "id": "db021067-197b-4722-95d1-d843eec949dc",
   "metadata": {},
   "outputs": [],
   "source": [
    "## Plot a subset of the enriched pathways (based on the parameters of the config file)"
   ]
  },
  {
   "cell_type": "code",
   "execution_count": 990,
   "id": "b5368308-dbd7-4ae4-a3b1-c820f4aa80d9",
   "metadata": {},
   "outputs": [
    {
     "data": {
      "text/html": [
       "&lt;NA&gt;"
      ],
      "text/latex": [
       "<NA>"
      ],
      "text/markdown": [
       "&lt;NA&gt;"
      ],
      "text/plain": [
       "[1] NA"
      ]
     },
     "metadata": {},
     "output_type": "display_data"
    }
   ],
   "source": [
    "pathway_selection_var  # specifies whether a specific pathway has been selected in the config file"
   ]
  },
  {
   "cell_type": "code",
   "execution_count": 991,
   "id": "d4453f1c-0d3a-4144-9ea5-63d5ee2caa05",
   "metadata": {},
   "outputs": [],
   "source": [
    "# specifies whether pathways will be displayed based on p-value and coverage thresholds specified in the config file\n",
    "# or specifically selected pathways will be shown\n",
    "if(pathway_selection_var == '' | is.na(pathway_selection_var) ){\n",
    "    pathways_selection = enrichment_result[\n",
    "        (enrichment_result$coverage > coverage_par) & \n",
    "        (enrichment_result$enrichment == select_enrichment) &\n",
    "        (enrichment_result$global_FDR < p_value_cutoff_plot),] %>%  arrange(padj) %>% group_by(variable) %>% top_n(max_pathways, -padj)\n",
    "    } else{ pathways_selection = enrichment_result[enrichment_result$pathway_name %in% unlist(str_split(pathway_selection_var, ',')),]}"
   ]
  },
  {
   "cell_type": "code",
   "execution_count": 992,
   "id": "52240082-f9a6-4f30-9369-305fe4e42216",
   "metadata": {},
   "outputs": [],
   "source": [
    "## Select the genes of the pathway that have the highest weights on the selected factor"
   ]
  },
  {
   "cell_type": "code",
   "execution_count": 993,
   "id": "118e7e91-7958-48e7-8107-e90963416b52",
   "metadata": {},
   "outputs": [
    {
     "name": "stderr",
     "output_type": "stream",
     "text": [
      "\u001b[1m\u001b[22mSelecting by value\n",
      "\u001b[1m\u001b[22mSelecting by value\n"
     ]
    },
    {
     "data": {
      "text/html": [
       "<table class=\"dataframe\">\n",
       "<caption>A grouped_df: 2 × 7</caption>\n",
       "<thead>\n",
       "\t<tr><th scope=col>type</th><th scope=col>variable_name</th><th scope=col>view</th><th scope=col>gene</th><th scope=col>variable</th><th scope=col>factor_value</th><th scope=col>factor_value_direction</th></tr>\n",
       "\t<tr><th scope=col>&lt;chr&gt;</th><th scope=col>&lt;chr&gt;</th><th scope=col>&lt;chr&gt;</th><th scope=col>&lt;chr&gt;</th><th scope=col>&lt;fct&gt;</th><th scope=col>&lt;dbl&gt;</th><th scope=col>&lt;chr&gt;</th></tr>\n",
       "</thead>\n",
       "<tbody>\n",
       "\t<tr><td>myeloid.cell       </td><td>myeloid.cell__ATP8B4      </td><td>myeloid.cell       </td><td>ATP8B4</td><td>Factor1</td><td>0.6472803</td><td>positive</td></tr>\n",
       "\t<tr><td>cardiac.muscle.cell</td><td>cardiac.muscle.cell__YWHAZ</td><td>cardiac.muscle.cell</td><td>YWHAZ </td><td>Factor1</td><td>0.6431828</td><td>positive</td></tr>\n",
       "</tbody>\n",
       "</table>\n"
      ],
      "text/latex": [
       "A grouped\\_df: 2 × 7\n",
       "\\begin{tabular}{lllllll}\n",
       " type & variable\\_name & view & gene & variable & factor\\_value & factor\\_value\\_direction\\\\\n",
       " <chr> & <chr> & <chr> & <chr> & <fct> & <dbl> & <chr>\\\\\n",
       "\\hline\n",
       "\t myeloid.cell        & myeloid.cell\\_\\_ATP8B4       & myeloid.cell        & ATP8B4 & Factor1 & 0.6472803 & positive\\\\\n",
       "\t cardiac.muscle.cell & cardiac.muscle.cell\\_\\_YWHAZ & cardiac.muscle.cell & YWHAZ  & Factor1 & 0.6431828 & positive\\\\\n",
       "\\end{tabular}\n"
      ],
      "text/markdown": [
       "\n",
       "A grouped_df: 2 × 7\n",
       "\n",
       "| type &lt;chr&gt; | variable_name &lt;chr&gt; | view &lt;chr&gt; | gene &lt;chr&gt; | variable &lt;fct&gt; | factor_value &lt;dbl&gt; | factor_value_direction &lt;chr&gt; |\n",
       "|---|---|---|---|---|---|---|\n",
       "| myeloid.cell        | myeloid.cell__ATP8B4       | myeloid.cell        | ATP8B4 | Factor1 | 0.6472803 | positive |\n",
       "| cardiac.muscle.cell | cardiac.muscle.cell__YWHAZ | cardiac.muscle.cell | YWHAZ  | Factor1 | 0.6431828 | positive |\n",
       "\n"
      ],
      "text/plain": [
       "  type                variable_name              view                gene  \n",
       "1 myeloid.cell        myeloid.cell__ATP8B4       myeloid.cell        ATP8B4\n",
       "2 cardiac.muscle.cell cardiac.muscle.cell__YWHAZ cardiac.muscle.cell YWHAZ \n",
       "  variable factor_value factor_value_direction\n",
       "1 Factor1  0.6472803    positive              \n",
       "2 Factor1  0.6431828    positive              "
      ]
     },
     "metadata": {},
     "output_type": "display_data"
    }
   ],
   "source": [
    "### Get involved genes\n",
    "\n",
    "## Define gene-set to merge\n",
    "geneset_oi_pos_per_factor = feature_weights_long %>% group_by(variable) %>% arrange( desc(value),  .by_group = TRUE)  %>% top_frac(as.numeric(top_var_thres))\n",
    "geneset_oi_pos_per_factor$direction = 'positive'\n",
    "geneset_oi_neg_per_factor = feature_weights_long %>% group_by(variable) %>% arrange(desc(value),  .by_group = TRUE)  %>% top_frac(-as.numeric(top_var_thres))\n",
    "geneset_oi_neg_per_factor$direction = 'negative'\n",
    "geneset_oi = rbind(geneset_oi_pos_per_factor, geneset_oi_neg_per_factor)\n",
    "\n",
    "colnames(geneset_oi) = c('type', 'variable_name','view',  'gene', 'variable', 'factor_value', 'factor_value_direction')\n",
    "head(geneset_oi,2)"
   ]
  },
  {
   "cell_type": "code",
   "execution_count": 994,
   "id": "94b59daf-1d0d-4e9e-a73d-57c9adc85806",
   "metadata": {},
   "outputs": [],
   "source": [
    "### Merge genes belongig to pathway to enriched pathway sets\n",
    "\n",
    "pathways_vis_genes = merge(pathways_selection, pathways) %>% mutate(pvalue=p, view_text=view, cluster=view, name=pathway_name) %>% dplyr::select(-view)"
   ]
  },
  {
   "cell_type": "code",
   "execution_count": 995,
   "id": "650d5395-8fd7-4292-81be-0b20b80f2f13",
   "metadata": {},
   "outputs": [],
   "source": [
    "### Add the feature weights to the corresponding genes from geneset_oi"
   ]
  },
  {
   "cell_type": "code",
   "execution_count": 996,
   "id": "54521e2f-8f1e-4323-b191-06b708358ccc",
   "metadata": {},
   "outputs": [],
   "source": [
    "pathways_vis_genes = merge(pathways_vis_genes, geneset_oi, by.x = c('gene', 'variable'), by.y = c('gene','variable' ))"
   ]
  },
  {
   "cell_type": "code",
   "execution_count": 997,
   "id": "a7e99cc4-7b0d-4a22-9d77-6aa9efb7896f",
   "metadata": {},
   "outputs": [
    {
     "name": "stderr",
     "output_type": "stream",
     "text": [
      "\u001b[1m\u001b[22m`summarise()` has grouped output by 'gene', 'variable', 'pathway_name', 'ID', 'name',\n",
      "'cluster'. You can override using the `.groups` argument.\n"
     ]
    }
   ],
   "source": [
    "### Summarise to get max/ mean factor value of each gene per pathway (remove cell-cluster/view/type dimension)  --> tBD max or mean (for max --> absolute value?)\n",
    "\n",
    "pathways_vis_genes_summarized = pathways_vis_genes %>% group_by(gene ,variable,  pathway_name, ID, name, cluster ,view) %>% summarise(factor_value = mean(factor_value), enrichment_type = paste0(unique(enrichment), collapse = '&'), pvalue = min(pvalue))"
   ]
  },
  {
   "cell_type": "code",
   "execution_count": 998,
   "id": "2e5894a5-a557-49cf-9583-92697e679b73",
   "metadata": {},
   "outputs": [
    {
     "data": {
      "text/html": [
       "<table class=\"dataframe\">\n",
       "<caption>A grouped_df: 2 × 10</caption>\n",
       "<thead>\n",
       "\t<tr><th scope=col>gene</th><th scope=col>variable</th><th scope=col>pathway_name</th><th scope=col>ID</th><th scope=col>name</th><th scope=col>cluster</th><th scope=col>view</th><th scope=col>factor_value</th><th scope=col>enrichment_type</th><th scope=col>pvalue</th></tr>\n",
       "\t<tr><th scope=col>&lt;chr&gt;</th><th scope=col>&lt;fct&gt;</th><th scope=col>&lt;chr&gt;</th><th scope=col>&lt;chr&gt;</th><th scope=col>&lt;chr&gt;</th><th scope=col>&lt;chr&gt;</th><th scope=col>&lt;chr&gt;</th><th scope=col>&lt;dbl&gt;</th><th scope=col>&lt;chr&gt;</th><th scope=col>&lt;dbl&gt;</th></tr>\n",
       "</thead>\n",
       "<tbody>\n",
       "\t<tr><td>ABL2</td><td>Factor1</td><td>FLT3 Signaling</td><td>R-HSA-9607240</td><td>FLT3 Signaling</td><td>complete</td><td>cardiac.neuron</td><td>0.4184974</td><td>negative</td><td>0.0001504252</td></tr>\n",
       "\t<tr><td>ABL2</td><td>Factor1</td><td>FLT3 Signaling</td><td>R-HSA-9607240</td><td>FLT3 Signaling</td><td>complete</td><td>myeloid.cell  </td><td>0.4747316</td><td>negative</td><td>0.0001504252</td></tr>\n",
       "</tbody>\n",
       "</table>\n"
      ],
      "text/latex": [
       "A grouped\\_df: 2 × 10\n",
       "\\begin{tabular}{llllllllll}\n",
       " gene & variable & pathway\\_name & ID & name & cluster & view & factor\\_value & enrichment\\_type & pvalue\\\\\n",
       " <chr> & <fct> & <chr> & <chr> & <chr> & <chr> & <chr> & <dbl> & <chr> & <dbl>\\\\\n",
       "\\hline\n",
       "\t ABL2 & Factor1 & FLT3 Signaling & R-HSA-9607240 & FLT3 Signaling & complete & cardiac.neuron & 0.4184974 & negative & 0.0001504252\\\\\n",
       "\t ABL2 & Factor1 & FLT3 Signaling & R-HSA-9607240 & FLT3 Signaling & complete & myeloid.cell   & 0.4747316 & negative & 0.0001504252\\\\\n",
       "\\end{tabular}\n"
      ],
      "text/markdown": [
       "\n",
       "A grouped_df: 2 × 10\n",
       "\n",
       "| gene &lt;chr&gt; | variable &lt;fct&gt; | pathway_name &lt;chr&gt; | ID &lt;chr&gt; | name &lt;chr&gt; | cluster &lt;chr&gt; | view &lt;chr&gt; | factor_value &lt;dbl&gt; | enrichment_type &lt;chr&gt; | pvalue &lt;dbl&gt; |\n",
       "|---|---|---|---|---|---|---|---|---|---|\n",
       "| ABL2 | Factor1 | FLT3 Signaling | R-HSA-9607240 | FLT3 Signaling | complete | cardiac.neuron | 0.4184974 | negative | 0.0001504252 |\n",
       "| ABL2 | Factor1 | FLT3 Signaling | R-HSA-9607240 | FLT3 Signaling | complete | myeloid.cell   | 0.4747316 | negative | 0.0001504252 |\n",
       "\n"
      ],
      "text/plain": [
       "  gene variable pathway_name   ID            name           cluster \n",
       "1 ABL2 Factor1  FLT3 Signaling R-HSA-9607240 FLT3 Signaling complete\n",
       "2 ABL2 Factor1  FLT3 Signaling R-HSA-9607240 FLT3 Signaling complete\n",
       "  view           factor_value enrichment_type pvalue      \n",
       "1 cardiac.neuron 0.4184974    negative        0.0001504252\n",
       "2 myeloid.cell   0.4747316    negative        0.0001504252"
      ]
     },
     "metadata": {},
     "output_type": "display_data"
    }
   ],
   "source": [
    "head(pathways_vis_genes_summarized,2)"
   ]
  },
  {
   "cell_type": "code",
   "execution_count": 999,
   "id": "3f7fad8f-f5a4-4e8c-a59c-807e28e38565",
   "metadata": {},
   "outputs": [],
   "source": [
    "### Plot the pathways with summarized gene values"
   ]
  },
  {
   "cell_type": "code",
   "execution_count": 1000,
   "id": "893814e5-9298-46d6-988f-61eeec026525",
   "metadata": {},
   "outputs": [],
   "source": [
    "pathways_sum_plot = list()"
   ]
  },
  {
   "cell_type": "code",
   "execution_count": 1001,
   "id": "c9ac9527-78c9-48b2-8ef3-fd8ac1ee2ad7",
   "metadata": {},
   "outputs": [],
   "source": [
    "for(i in unique(pathways_vis_genes_summarized$variable)){\n",
    "\n",
    "    xlabel = xlab('Gene') \n",
    "    ylabel = ylab('Pathway')\n",
    "    \n",
    "    pathways_sum_plot[[i]] = ggplot(pathways_vis_genes_summarized[pathways_vis_genes_summarized$variable == i,], aes(gene,  pathway_name, fill= factor_value)) + \n",
    "        plot_config_heatmap + \n",
    "        geom_tile() + \n",
    "        scale_fill_gradient2(low = \"#1D2ED8\", mid = \"white\", high = \"#D8911D\", midpoint = 0)  + \n",
    "        scale_x_discrete(position = \"top\") +\n",
    "        theme(axis.text.x = element_text(angle = 90), axis.title.x = element_blank(), axis.text.y = element_text(hjust = 0, vjust = 0.5)) +\n",
    "        xlabel +\n",
    "        ylabel +  scale_y_discrete(labels = label_wrap(50))+\n",
    "        ggtitle(paste0(i, ' values of pathway genes (top ', top_var_thres  * 2 *100, '% of features)'))\n",
    "    }"
   ]
  },
  {
   "cell_type": "code",
   "execution_count": 1002,
   "id": "7a75f244-225e-42fb-8458-004fb24e6f75",
   "metadata": {},
   "outputs": [],
   "source": [
    "options(repr.plot.width=20, repr.plot.height=10)\n",
    "#pathways_sum_plot[[i]] +  scale_y_discrete(labels = label_wrap(25))"
   ]
  },
  {
   "cell_type": "code",
   "execution_count": 1003,
   "id": "bc8fa8ea-db7e-41cc-80f1-33a034235a66",
   "metadata": {},
   "outputs": [],
   "source": [
    "## Plot factor values for all genes"
   ]
  },
  {
   "cell_type": "code",
   "execution_count": 1004,
   "id": "11cccb41-8fe5-4217-9558-a3186731b3bf",
   "metadata": {},
   "outputs": [],
   "source": [
    "pathways_detail_plot = list()"
   ]
  },
  {
   "cell_type": "code",
   "execution_count": 1005,
   "id": "e4afadd0-7b99-4e29-8042-5d4c8c71b948",
   "metadata": {},
   "outputs": [],
   "source": [
    "### Visualized the exact factor values of the genes\n",
    "for(i in unique(pathways_vis_genes$variable)){\n",
    "    # Specific Text Descriptions:\n",
    "    xlabel = xlab('Gene') \n",
    "    ylabel = ylab('View')\n",
    "\n",
    "    plot_data_cluster = unique(pathways_vis_genes[pathways_vis_genes$variable == i,c('gene', 'variable', 'type','view',  'variable_name', 'factor_value', 'factor_value_direction')])\n",
    "\n",
    "    pathways_detail_plot[[i]] = ggplot(plot_data_cluster, aes(gene,  view, fill= factor_value)) + \n",
    "        plot_config_heatmap + \n",
    "        geom_tile() + \n",
    "        scale_fill_gradient2(low = \"#1D2ED8\", mid = \"white\", high =\"#D8911D\", midpoint = 0)  + \n",
    "        scale_x_discrete(position = \"top\") +\n",
    "        theme(axis.text.x = element_text(angle = 90)) +\n",
    "        xlabel +\n",
    "        ylabel\n",
    "}"
   ]
  },
  {
   "cell_type": "code",
   "execution_count": 1006,
   "id": "eb692dd3-fc2f-420b-b3a1-198964530e2b",
   "metadata": {},
   "outputs": [],
   "source": [
    "#pathways_detail_plot[[i]]"
   ]
  },
  {
   "cell_type": "code",
   "execution_count": 1007,
   "id": "babfbb17-7380-42ba-84c7-a7ab2ef35a3b",
   "metadata": {},
   "outputs": [],
   "source": [
    "### Combine plot and save"
   ]
  },
  {
   "cell_type": "code",
   "execution_count": 1008,
   "id": "b1d8db71-8f27-4a31-baa0-6111ccf1e551",
   "metadata": {},
   "outputs": [],
   "source": [
    "combined_plot = list()"
   ]
  },
  {
   "cell_type": "code",
   "execution_count": 1009,
   "id": "bd4a76d8-c89a-496d-96ef-5377d60862a4",
   "metadata": {},
   "outputs": [],
   "source": [
    "for(i in 1:length(pathways_detail_plot)){\n",
    "    combined_plot[[i]] = ggarrange(pathways_sum_plot[[i]],\n",
    "              pathways_detail_plot[[i]] + theme(axis.text.x = element_blank(), axis.title.x =element_blank()), align = 'v', ncol = 1)\n",
    "}"
   ]
  },
  {
   "cell_type": "code",
   "execution_count": 1010,
   "id": "29a27873-76c0-4219-be95-0e3a52f88bbf",
   "metadata": {},
   "outputs": [],
   "source": [
    "#combined_plot[[i]]"
   ]
  },
  {
   "cell_type": "code",
   "execution_count": 1011,
   "id": "274e7e24-a024-4b5e-b5b3-49b4ed912d8d",
   "metadata": {},
   "outputs": [],
   "source": [
    "## Save the plot"
   ]
  },
  {
   "cell_type": "code",
   "execution_count": 1012,
   "id": "d0d6a79b-f80c-461c-803e-b15ee5eb821d",
   "metadata": {},
   "outputs": [],
   "source": [
    "figure_name = paste0( \"FIG06_Pathways_and_Genes\")"
   ]
  },
  {
   "cell_type": "code",
   "execution_count": 1013,
   "id": "665879d0-eba1-4902-980e-40ffa9da88d5",
   "metadata": {},
   "outputs": [],
   "source": [
    "# Sizes of the plot\n",
    "width_par = 8.07\n",
    "height_par = 4"
   ]
  },
  {
   "cell_type": "code",
   "execution_count": 1014,
   "id": "b067c7a7-213e-4606-9dbd-298d37670d89",
   "metadata": {},
   "outputs": [
    {
     "data": {
      "text/html": [
       "<strong>png:</strong> 2"
      ],
      "text/latex": [
       "\\textbf{png:} 2"
      ],
      "text/markdown": [
       "**png:** 2"
      ],
      "text/plain": [
       "png \n",
       "  2 "
      ]
     },
     "metadata": {},
     "output_type": "display_data"
    }
   ],
   "source": [
    "pdf(paste0('figures/06_figures/', figure_name, '_',   mofa_name, '.pdf'), width =width_par, height =height_par)\n",
    "\n",
    "for(j in 1:length(combined_plot)){\n",
    "        print( combined_plot[[j]])\n",
    "        }\n",
    "dev.off()   \n"
   ]
  },
  {
   "cell_type": "code",
   "execution_count": null,
   "id": "ca14ac62-5f47-4fde-ad71-f36d1cbb6832",
   "metadata": {},
   "outputs": [],
   "source": []
  },
  {
   "cell_type": "code",
   "execution_count": null,
   "id": "337a3db7-43f2-49ff-8f5f-c6f9209c84c6",
   "metadata": {},
   "outputs": [],
   "source": []
  }
 ],
 "metadata": {
  "kernelspec": {
   "display_name": "R",
   "language": "R",
   "name": "ir"
  },
  "language_info": {
   "codemirror_mode": "r",
   "file_extension": ".r",
   "mimetype": "text/x-r-source",
   "name": "R",
   "pygments_lexer": "r",
   "version": "4.3.2"
  },
  "toc-autonumbering": true
 },
 "nbformat": 4,
 "nbformat_minor": 5
}
