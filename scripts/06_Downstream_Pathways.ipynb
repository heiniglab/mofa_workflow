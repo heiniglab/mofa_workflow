{
 "cells": [
  {
   "cell_type": "code",
   "execution_count": 561,
   "id": "d182c426-4d95-4dee-a099-cd923e9437d7",
   "metadata": {},
   "outputs": [],
   "source": [
    "### Script for Pathway enrichment analysis on MOFA results; requires a prepared pathway set input dataset"
   ]
  },
  {
   "cell_type": "markdown",
   "id": "213d69de-4705-4a6e-9387-b1a3413172eb",
   "metadata": {
    "tags": []
   },
   "source": [
    "#############################################\n",
    "# Prerequisites - Load Libraries"
   ]
  },
  {
   "cell_type": "code",
   "execution_count": 562,
   "id": "f0a37ca6-9dd3-48e3-b4f8-e13ce1f4a24b",
   "metadata": {},
   "outputs": [],
   "source": [
    "source('MS1_Functions.r')"
   ]
  },
  {
   "cell_type": "code",
   "execution_count": 563,
   "id": "73d3f390-c33b-45ed-b0cf-52c952c3f311",
   "metadata": {
    "tags": []
   },
   "outputs": [
    {
     "data": {
      "text/html": [
       "\n",
       "    <style>\n",
       "    .popup {\n",
       "      position: fixed;\n",
       "      top: 10px;\n",
       "      right: 20px;\n",
       "      background-color: #B5DC78;\n",
       "      border: 1px solid #ccc;\n",
       "      padding: 20px;\n",
       "      border-radius: 10px;\n",
       "      box-shadow: 0px 0px 10px rgba(0, 0, 0, 0.1);\n",
       "      display: none; /* Initially hidden */\n",
       "      z-index: 9999; /* Ensure it's on top of other content */\n",
       "      width: 300px; /* Set width of the popup */\n",
       "    }\n",
       "\n",
       "    .popup.show {\n",
       "      display: block; /* Show when .show class is added */\n",
       "    }\n",
       "    </style>\n",
       "\n",
       "    <script>\n",
       "    // Function to show the popup\n",
       "    function showPopup(message) {\n",
       "      var popup = document.getElementById(\"global-popup\");\n",
       "      if (!popup) {\n",
       "        // Inject the popup into the top-level body element if it doesn't exist\n",
       "        popup = document.createElement(\"div\");\n",
       "        popup.id = \"global-popup\";\n",
       "        popup.className = \"popup\";\n",
       "        document.body.appendChild(popup);\n",
       "      }\n",
       "      popup.innerHTML = message;\n",
       "      popup.classList.add(\"show\");\n",
       "\n",
       "      // Automatically hide the popup after 10 seconds (10000 milliseconds)\n",
       "      setTimeout(function(){\n",
       "        popup.classList.remove(\"show\");\n",
       "      }, 10000); // Adjust the time interval as needed\n",
       "    }\n",
       "\n",
       "    // Call the function to show the popup immediately with the provided message\n",
       "    showPopup(\"06_Downstream_Pathways: Execution Started\");\n",
       "    </script>\n",
       "    "
      ]
     },
     "metadata": {},
     "output_type": "display_data"
    }
   ],
   "source": [
    "### Inform about execution start\n",
    "popup_function_pos('06_Downstream_Pathways: Execution Started')"
   ]
  },
  {
   "cell_type": "code",
   "execution_count": 564,
   "id": "49f265d4-5df8-446f-ad65-4a49276593b0",
   "metadata": {
    "tags": []
   },
   "outputs": [
    {
     "name": "stdout",
     "output_type": "stream",
     "text": [
      "[1] \"/opt/conda/envs/mofa_analysis/lib/R/library\"\n"
     ]
    }
   ],
   "source": [
    "source('MS0_Libraries.r')"
   ]
  },
  {
   "cell_type": "code",
   "execution_count": 565,
   "id": "ab19cd2b-a715-46d7-ab96-834040cc5018",
   "metadata": {
    "tags": []
   },
   "outputs": [],
   "source": [
    "source('MS2_Plot_Config.r')"
   ]
  },
  {
   "cell_type": "markdown",
   "id": "9d409d14-a693-4722-9648-4b6bacb4b74a",
   "metadata": {
    "tags": []
   },
   "source": [
    "###############################################\n",
    "# Preqrequisites Configurations & Parameters"
   ]
  },
  {
   "cell_type": "code",
   "execution_count": 566,
   "id": "0646d771-c83e-4ee0-b20f-215e30f5ea35",
   "metadata": {},
   "outputs": [],
   "source": [
    "### Load the parameters that are set via the configuration files"
   ]
  },
  {
   "cell_type": "code",
   "execution_count": 567,
   "id": "578861cf-62ac-49a2-aaa6-0c91e751416b",
   "metadata": {},
   "outputs": [
    {
     "name": "stderr",
     "output_type": "stream",
     "text": [
      "Warning message in read.table(file = file, header = header, sep = sep, quote = quote, :\n",
      "\"incomplete final line found by readTableHeader on 'configurations/Data_Configs.csv'\"\n"
     ]
    }
   ],
   "source": [
    "### Load configurations file\n",
    "global_configs = read.csv('configurations/Data_Configs.csv', sep = ',')"
   ]
  },
  {
   "cell_type": "code",
   "execution_count": 568,
   "id": "1306e099-a83f-40ce-8ea6-7fe702c88747",
   "metadata": {},
   "outputs": [
    {
     "data": {
      "text/html": [
       "<table class=\"dataframe\">\n",
       "<caption>A data.frame: 2 x 2</caption>\n",
       "<thead>\n",
       "\t<tr><th></th><th scope=col>parameter</th><th scope=col>value</th></tr>\n",
       "\t<tr><th></th><th scope=col>&lt;chr&gt;</th><th scope=col>&lt;chr&gt;</th></tr>\n",
       "</thead>\n",
       "<tbody>\n",
       "\t<tr><th scope=row>1</th><td>data_path  </td><td>/home/icb/corinna.losert/projects/mofa_workflow/input_data/ </td></tr>\n",
       "\t<tr><th scope=row>2</th><td>result_path</td><td>/home/icb/corinna.losert/projects/mofa_workflow/result_data/</td></tr>\n",
       "</tbody>\n",
       "</table>\n"
      ],
      "text/latex": [
       "A data.frame: 2 x 2\n",
       "\\begin{tabular}{r|ll}\n",
       "  & parameter & value\\\\\n",
       "  & <chr> & <chr>\\\\\n",
       "\\hline\n",
       "\t1 & data\\_path   & /home/icb/corinna.losert/projects/mofa\\_workflow/input\\_data/ \\\\\n",
       "\t2 & result\\_path & /home/icb/corinna.losert/projects/mofa\\_workflow/result\\_data/\\\\\n",
       "\\end{tabular}\n"
      ],
      "text/markdown": [
       "\n",
       "A data.frame: 2 x 2\n",
       "\n",
       "| <!--/--> | parameter &lt;chr&gt; | value &lt;chr&gt; |\n",
       "|---|---|---|\n",
       "| 1 | data_path   | /home/icb/corinna.losert/projects/mofa_workflow/input_data/  |\n",
       "| 2 | result_path | /home/icb/corinna.losert/projects/mofa_workflow/result_data/ |\n",
       "\n"
      ],
      "text/plain": [
       "  parameter   value                                                       \n",
       "1 data_path   /home/icb/corinna.losert/projects/mofa_workflow/input_data/ \n",
       "2 result_path /home/icb/corinna.losert/projects/mofa_workflow/result_data/"
      ]
     },
     "metadata": {},
     "output_type": "display_data"
    }
   ],
   "source": [
    "head(global_configs,2)"
   ]
  },
  {
   "cell_type": "code",
   "execution_count": 569,
   "id": "c1b570bb-26f4-4ba8-87ea-e4976278240b",
   "metadata": {},
   "outputs": [],
   "source": [
    "data_path = global_configs$value[global_configs$parameter == 'data_path']"
   ]
  },
  {
   "cell_type": "code",
   "execution_count": 570,
   "id": "b212cfcc-0368-442f-ab1e-54127c0d8654",
   "metadata": {},
   "outputs": [
    {
     "data": {
      "text/html": [
       "'/home/icb/corinna.losert/projects/mofa_workflow/input_data/'"
      ],
      "text/latex": [
       "'/home/icb/corinna.losert/projects/mofa\\_workflow/input\\_data/'"
      ],
      "text/markdown": [
       "'/home/icb/corinna.losert/projects/mofa_workflow/input_data/'"
      ],
      "text/plain": [
       "[1] \"/home/icb/corinna.losert/projects/mofa_workflow/input_data/\""
      ]
     },
     "metadata": {},
     "output_type": "display_data"
    }
   ],
   "source": [
    "data_path"
   ]
  },
  {
   "cell_type": "code",
   "execution_count": 571,
   "id": "e96fa55c-83ba-464d-9a8b-2e4c584c519f",
   "metadata": {},
   "outputs": [],
   "source": [
    "result_path = global_configs$value[global_configs$parameter == 'result_path']"
   ]
  },
  {
   "cell_type": "code",
   "execution_count": 572,
   "id": "7350f322-c30d-4bb9-8bc8-88b7df9df57e",
   "metadata": {},
   "outputs": [
    {
     "data": {
      "text/html": [
       "'/home/icb/corinna.losert/projects/mofa_workflow/result_data/'"
      ],
      "text/latex": [
       "'/home/icb/corinna.losert/projects/mofa\\_workflow/result\\_data/'"
      ],
      "text/markdown": [
       "'/home/icb/corinna.losert/projects/mofa_workflow/result_data/'"
      ],
      "text/plain": [
       "[1] \"/home/icb/corinna.losert/projects/mofa_workflow/result_data/\""
      ]
     },
     "metadata": {},
     "output_type": "display_data"
    }
   ],
   "source": [
    "result_path"
   ]
  },
  {
   "cell_type": "code",
   "execution_count": 573,
   "id": "0929af17-aae4-4f1a-aa23-d9a7d4afa033",
   "metadata": {},
   "outputs": [],
   "source": [
    "### Load the configuration for the pathway enrichment from the config file"
   ]
  },
  {
   "cell_type": "code",
   "execution_count": 574,
   "id": "02e6bb78-83e9-47cf-8288-5c93e30ea7aa",
   "metadata": {},
   "outputs": [
    {
     "name": "stderr",
     "output_type": "stream",
     "text": [
      "Warning message in read.table(file = file, header = header, sep = sep, quote = quote, :\n",
      "\"incomplete final line found by readTableHeader on 'configurations/06_Pathway_Configs.csv'\"\n"
     ]
    }
   ],
   "source": [
    "pathway_configs = read.csv('configurations/06_Pathway_Configs.csv', sep = ',')\n",
    "pathway_configs = pathway_configs[pathway_configs$mofa_result_name != '',]"
   ]
  },
  {
   "cell_type": "code",
   "execution_count": 575,
   "id": "f9f4ee34-34a3-4a18-8954-47a920fd6e98",
   "metadata": {},
   "outputs": [
    {
     "data": {
      "text/html": [
       "<table class=\"dataframe\">\n",
       "<caption>A data.frame: 1 x 10</caption>\n",
       "<thead>\n",
       "\t<tr><th></th><th scope=col>mofa_result_name</th><th scope=col>factor_set</th><th scope=col>coverage_par</th><th scope=col>types</th><th scope=col>coverage_plot</th><th scope=col>p_value_plot</th><th scope=col>max_pathways_plot</th><th scope=col>enrichment_plot</th><th scope=col>top_features_plot</th><th scope=col>pathway_selection</th></tr>\n",
       "\t<tr><th></th><th scope=col>&lt;chr&gt;</th><th scope=col>&lt;chr&gt;</th><th scope=col>&lt;dbl&gt;</th><th scope=col>&lt;chr&gt;</th><th scope=col>&lt;dbl&gt;</th><th scope=col>&lt;dbl&gt;</th><th scope=col>&lt;int&gt;</th><th scope=col>&lt;chr&gt;</th><th scope=col>&lt;dbl&gt;</th><th scope=col>&lt;lgl&gt;</th></tr>\n",
       "</thead>\n",
       "<tbody>\n",
       "\t<tr><th scope=row>1</th><td>MI_v1_MOFA</td><td>1,2,3,4,5</td><td>0.2</td><td>B.cell,CD16.Mono,CD4.CTL,CD4.Naive,CD4.TCM,CD4.TEM,cDC2,gdT,neutrophil,NK,Treg</td><td>0.5</td><td>0.05</td><td>8</td><td>positive</td><td>0.125</td><td>NA</td></tr>\n",
       "</tbody>\n",
       "</table>\n"
      ],
      "text/latex": [
       "A data.frame: 1 x 10\n",
       "\\begin{tabular}{r|llllllllll}\n",
       "  & mofa\\_result\\_name & factor\\_set & coverage\\_par & types & coverage\\_plot & p\\_value\\_plot & max\\_pathways\\_plot & enrichment\\_plot & top\\_features\\_plot & pathway\\_selection\\\\\n",
       "  & <chr> & <chr> & <dbl> & <chr> & <dbl> & <dbl> & <int> & <chr> & <dbl> & <lgl>\\\\\n",
       "\\hline\n",
       "\t1 & MI\\_v1\\_MOFA & 1,2,3,4,5 & 0.2 & B.cell,CD16.Mono,CD4.CTL,CD4.Naive,CD4.TCM,CD4.TEM,cDC2,gdT,neutrophil,NK,Treg & 0.5 & 0.05 & 8 & positive & 0.125 & NA\\\\\n",
       "\\end{tabular}\n"
      ],
      "text/markdown": [
       "\n",
       "A data.frame: 1 x 10\n",
       "\n",
       "| <!--/--> | mofa_result_name &lt;chr&gt; | factor_set &lt;chr&gt; | coverage_par &lt;dbl&gt; | types &lt;chr&gt; | coverage_plot &lt;dbl&gt; | p_value_plot &lt;dbl&gt; | max_pathways_plot &lt;int&gt; | enrichment_plot &lt;chr&gt; | top_features_plot &lt;dbl&gt; | pathway_selection &lt;lgl&gt; |\n",
       "|---|---|---|---|---|---|---|---|---|---|---|\n",
       "| 1 | MI_v1_MOFA | 1,2,3,4,5 | 0.2 | B.cell,CD16.Mono,CD4.CTL,CD4.Naive,CD4.TCM,CD4.TEM,cDC2,gdT,neutrophil,NK,Treg | 0.5 | 0.05 | 8 | positive | 0.125 | NA |\n",
       "\n"
      ],
      "text/plain": [
       "  mofa_result_name factor_set coverage_par\n",
       "1 MI_v1_MOFA       1,2,3,4,5  0.2         \n",
       "  types                                                                         \n",
       "1 B.cell,CD16.Mono,CD4.CTL,CD4.Naive,CD4.TCM,CD4.TEM,cDC2,gdT,neutrophil,NK,Treg\n",
       "  coverage_plot p_value_plot max_pathways_plot enrichment_plot\n",
       "1 0.5           0.05         8                 positive       \n",
       "  top_features_plot pathway_selection\n",
       "1 0.125             NA               "
      ]
     },
     "metadata": {},
     "output_type": "display_data"
    }
   ],
   "source": [
    "head(pathway_configs)"
   ]
  },
  {
   "cell_type": "code",
   "execution_count": 576,
   "id": "e9d50356-f21f-4410-839e-8d3a160dd8ed",
   "metadata": {},
   "outputs": [],
   "source": [
    "### Generate the result data directory if it does not exist yet\n",
    "if(!file.exists(paste0(result_path, '06_results'))){\n",
    "    dir.create(file.path(paste0(result_path, '06_results')))\n",
    "    }"
   ]
  },
  {
   "cell_type": "markdown",
   "id": "47a498a2-73ff-4bed-9a9b-cd911f61db70",
   "metadata": {},
   "source": [
    "# Define parameters "
   ]
  },
  {
   "cell_type": "code",
   "execution_count": 577,
   "id": "88b6e1e4-1015-46ed-a9f5-d89e4225d8b7",
   "metadata": {},
   "outputs": [],
   "source": [
    "### Save values from loaded config file in variables"
   ]
  },
  {
   "cell_type": "code",
   "execution_count": 578,
   "id": "864b5b1e-4f82-4f00-8481-7639a9ba85fa",
   "metadata": {},
   "outputs": [],
   "source": [
    "## For the calculation of the pathway enrichment"
   ]
  },
  {
   "cell_type": "code",
   "execution_count": 579,
   "id": "df558a43-5a61-44a0-baae-bf28e9ec100c",
   "metadata": {},
   "outputs": [],
   "source": [
    "mofa_name = pathway_configs$mofa_result_name[1]   # mofa results that should be used"
   ]
  },
  {
   "cell_type": "code",
   "execution_count": 580,
   "id": "4e086640-cbd1-4541-b5da-99b3f355a328",
   "metadata": {},
   "outputs": [],
   "source": [
    "factor_set = as.numeric(unlist(str_split(pathway_configs$factor_set[1], ',')))  # factors for which enrichment analysis should be executed"
   ]
  },
  {
   "cell_type": "code",
   "execution_count": 581,
   "id": "acec94c4-9424-4df5-989d-75187dd850e5",
   "metadata": {
    "tags": []
   },
   "outputs": [
    {
     "data": {
      "text/html": [
       "<style>\n",
       ".list-inline {list-style: none; margin:0; padding: 0}\n",
       ".list-inline>li {display: inline-block}\n",
       ".list-inline>li:not(:last-child)::after {content: \"\\00b7\"; padding: 0 .5ex}\n",
       "</style>\n",
       "<ol class=list-inline><li>1</li><li>2</li><li>3</li><li>4</li><li>5</li></ol>\n"
      ],
      "text/latex": [
       "\\begin{enumerate*}\n",
       "\\item 1\n",
       "\\item 2\n",
       "\\item 3\n",
       "\\item 4\n",
       "\\item 5\n",
       "\\end{enumerate*}\n"
      ],
      "text/markdown": [
       "1. 1\n",
       "2. 2\n",
       "3. 3\n",
       "4. 4\n",
       "5. 5\n",
       "\n",
       "\n"
      ],
      "text/plain": [
       "[1] 1 2 3 4 5"
      ]
     },
     "metadata": {},
     "output_type": "display_data"
    }
   ],
   "source": [
    "factor_set"
   ]
  },
  {
   "cell_type": "code",
   "execution_count": 582,
   "id": "6929e569-d693-4dd9-96e4-49ce04eff003",
   "metadata": {
    "tags": []
   },
   "outputs": [
    {
     "data": {
      "text/html": [
       "5"
      ],
      "text/latex": [
       "5"
      ],
      "text/markdown": [
       "5"
      ],
      "text/plain": [
       "[1] 5"
      ]
     },
     "metadata": {},
     "output_type": "display_data"
    }
   ],
   "source": [
    "length(factor_set)"
   ]
  },
  {
   "cell_type": "code",
   "execution_count": 583,
   "id": "9000d760-5ce2-4dc8-b818-3995bfe8d4ba",
   "metadata": {
    "tags": []
   },
   "outputs": [],
   "source": [
    "### Factor set needs to be at least first to factors if factor-set only one factor does not work"
   ]
  },
  {
   "cell_type": "code",
   "execution_count": 584,
   "id": "3a9af7b1-bbdd-41ab-b3a5-a100cfdfa693",
   "metadata": {
    "tags": []
   },
   "outputs": [],
   "source": [
    "if(length(factor_set) <= 1){\n",
    "    if(factor_set <= 1){\n",
    "        factor_set = c(1,2)}\n",
    "    }\n",
    "if(length(factor_set) <= 1){\n",
    "    if(factor_set > 1){\n",
    "        factor_set = 1:factor_set\n",
    "        }\n",
    "    }"
   ]
  },
  {
   "cell_type": "code",
   "execution_count": 585,
   "id": "4cd27b06-2d1c-4ef3-a385-239fe596d8f4",
   "metadata": {
    "tags": []
   },
   "outputs": [
    {
     "data": {
      "text/html": [
       "<style>\n",
       ".list-inline {list-style: none; margin:0; padding: 0}\n",
       ".list-inline>li {display: inline-block}\n",
       ".list-inline>li:not(:last-child)::after {content: \"\\00b7\"; padding: 0 .5ex}\n",
       "</style>\n",
       "<ol class=list-inline><li>1</li><li>2</li><li>3</li><li>4</li><li>5</li></ol>\n"
      ],
      "text/latex": [
       "\\begin{enumerate*}\n",
       "\\item 1\n",
       "\\item 2\n",
       "\\item 3\n",
       "\\item 4\n",
       "\\item 5\n",
       "\\end{enumerate*}\n"
      ],
      "text/markdown": [
       "1. 1\n",
       "2. 2\n",
       "3. 3\n",
       "4. 4\n",
       "5. 5\n",
       "\n",
       "\n"
      ],
      "text/plain": [
       "[1] 1 2 3 4 5"
      ]
     },
     "metadata": {},
     "output_type": "display_data"
    }
   ],
   "source": [
    "factor_set"
   ]
  },
  {
   "cell_type": "code",
   "execution_count": null,
   "id": "78b572ae-5f3d-48cf-887e-bcafb76f2f33",
   "metadata": {},
   "outputs": [],
   "source": []
  },
  {
   "cell_type": "code",
   "execution_count": 586,
   "id": "a0e2a3f1-001a-4e4c-b8ed-cb86127b3571",
   "metadata": {},
   "outputs": [],
   "source": [
    "coverage_par = pathway_configs$coverage_par[1] # coverage parameter: how many of the genes of a pathway need to be included in the MOFA feature set for testing this pathway for enrichment"
   ]
  },
  {
   "cell_type": "code",
   "execution_count": 587,
   "id": "cfe4b50c-9602-40ac-a886-a2058dd80c5c",
   "metadata": {},
   "outputs": [
    {
     "data": {
      "text/html": [
       "0.2"
      ],
      "text/latex": [
       "0.2"
      ],
      "text/markdown": [
       "0.2"
      ],
      "text/plain": [
       "[1] 0.2"
      ]
     },
     "metadata": {},
     "output_type": "display_data"
    }
   ],
   "source": [
    "coverage_par"
   ]
  },
  {
   "cell_type": "code",
   "execution_count": 588,
   "id": "4f1ca639-8ab9-49dc-82df-1d7a0c5f68ef",
   "metadata": {},
   "outputs": [],
   "source": [
    "views_set = unlist(str_split( pathway_configs$types[1], ','))  # extract the views for which a view-specific pathway enrichment analysis should be executed"
   ]
  },
  {
   "cell_type": "code",
   "execution_count": 589,
   "id": "cfade333-33ee-4f75-b4c8-71e11c2a37fb",
   "metadata": {},
   "outputs": [
    {
     "data": {
      "text/html": [
       "<style>\n",
       ".list-inline {list-style: none; margin:0; padding: 0}\n",
       ".list-inline>li {display: inline-block}\n",
       ".list-inline>li:not(:last-child)::after {content: \"\\00b7\"; padding: 0 .5ex}\n",
       "</style>\n",
       "<ol class=list-inline><li>'B.cell'</li><li>'CD16.Mono'</li><li>'CD4.CTL'</li><li>'CD4.Naive'</li><li>'CD4.TCM'</li><li>'CD4.TEM'</li><li>'cDC2'</li><li>'gdT'</li><li>'neutrophil'</li><li>'NK'</li><li>'Treg'</li></ol>\n"
      ],
      "text/latex": [
       "\\begin{enumerate*}\n",
       "\\item 'B.cell'\n",
       "\\item 'CD16.Mono'\n",
       "\\item 'CD4.CTL'\n",
       "\\item 'CD4.Naive'\n",
       "\\item 'CD4.TCM'\n",
       "\\item 'CD4.TEM'\n",
       "\\item 'cDC2'\n",
       "\\item 'gdT'\n",
       "\\item 'neutrophil'\n",
       "\\item 'NK'\n",
       "\\item 'Treg'\n",
       "\\end{enumerate*}\n"
      ],
      "text/markdown": [
       "1. 'B.cell'\n",
       "2. 'CD16.Mono'\n",
       "3. 'CD4.CTL'\n",
       "4. 'CD4.Naive'\n",
       "5. 'CD4.TCM'\n",
       "6. 'CD4.TEM'\n",
       "7. 'cDC2'\n",
       "8. 'gdT'\n",
       "9. 'neutrophil'\n",
       "10. 'NK'\n",
       "11. 'Treg'\n",
       "\n",
       "\n"
      ],
      "text/plain": [
       " [1] \"B.cell\"     \"CD16.Mono\"  \"CD4.CTL\"    \"CD4.Naive\"  \"CD4.TCM\"   \n",
       " [6] \"CD4.TEM\"    \"cDC2\"       \"gdT\"        \"neutrophil\" \"NK\"        \n",
       "[11] \"Treg\"      "
      ]
     },
     "metadata": {},
     "output_type": "display_data"
    }
   ],
   "source": [
    "views_set"
   ]
  },
  {
   "cell_type": "code",
   "execution_count": 590,
   "id": "d48078ce-671e-416b-b7c5-757f7372d3da",
   "metadata": {},
   "outputs": [],
   "source": [
    "## Parameters for the visualization of pathways"
   ]
  },
  {
   "cell_type": "code",
   "execution_count": 591,
   "id": "bd3201a4-3fea-487c-9e1b-a05ab8859c45",
   "metadata": {},
   "outputs": [],
   "source": [
    "### Select pathways based on thresholds (like coverage, p-value, direction of enrichment)\n",
    "coverage_plot = pathway_configs$coverage_plot[1]\n",
    "p_value_cutoff_plot =pathway_configs$p_value_plot[1]\n",
    "max_pathways =pathway_configs$max_pathways_plot[1]\n",
    "select_enrichment = pathway_configs$enrichment_plot[1]\n",
    "\n",
    "### Alternative: select pathways based on their specified names\n",
    "pathway_selection_var =pathway_configs$pathway_selection[1]"
   ]
  },
  {
   "cell_type": "code",
   "execution_count": 592,
   "id": "d9298328-bdd3-4991-bb2b-966a20ccde78",
   "metadata": {},
   "outputs": [
    {
     "data": {
      "text/html": [
       "&lt;NA&gt;"
      ],
      "text/latex": [
       "<NA>"
      ],
      "text/markdown": [
       "&lt;NA&gt;"
      ],
      "text/plain": [
       "[1] NA"
      ]
     },
     "metadata": {},
     "output_type": "display_data"
    }
   ],
   "source": [
    "pathway_selection_var"
   ]
  },
  {
   "cell_type": "code",
   "execution_count": 593,
   "id": "7af39745-7dbc-4dce-a760-ed2d72e3976f",
   "metadata": {},
   "outputs": [],
   "source": [
    "### For visualization define which genes should be ploted (need to be among the top x% of features for the Factor)\n",
    "top_var_thres =pathway_configs$top_features_plot[1] # choose threshold of top x % of features of MOFA factor to take into account"
   ]
  },
  {
   "cell_type": "code",
   "execution_count": 594,
   "id": "35f43524-b597-4952-a2d5-6756148d9379",
   "metadata": {},
   "outputs": [],
   "source": [
    "## Fixed parameters (may be modified here)"
   ]
  },
  {
   "cell_type": "code",
   "execution_count": 595,
   "id": "979816d7-fed6-4aa4-ab1a-ff84fd5831ce",
   "metadata": {},
   "outputs": [],
   "source": [
    "## For enrichment calculation\n",
    "use_statistic = \"rank.sum\" # which statistic to use to calcuate the enrichment; alternatives: mean.diff, rank.sum\n",
    "use_test = 'parametric'  # which test to use to test the enrichment; alternatives: permutation, parametric, \"cor.adj.parametric\"\n",
    "p_val_cutoff = 0.05\n",
    "min_size = 5"
   ]
  },
  {
   "cell_type": "markdown",
   "id": "43e2937f-4e6d-4e90-99f2-2f7c370f9639",
   "metadata": {
    "tags": []
   },
   "source": [
    "# Load Data "
   ]
  },
  {
   "cell_type": "markdown",
   "id": "9c532318-cf55-47b9-ba16-31b10391ff6a",
   "metadata": {},
   "source": [
    "## Model Data"
   ]
  },
  {
   "cell_type": "code",
   "execution_count": 596,
   "id": "54bbc68f-377a-4058-b5da-57ae261a1b47",
   "metadata": {},
   "outputs": [],
   "source": [
    "### Load the trained MOFA Model"
   ]
  },
  {
   "cell_type": "code",
   "execution_count": 597,
   "id": "f0aeb981-5cd3-4e0d-a9a4-574335dcebd9",
   "metadata": {},
   "outputs": [],
   "source": [
    "model_name =  paste0(\"03_MOFA_MODEL_\", mofa_name,'.hdf5')"
   ]
  },
  {
   "cell_type": "code",
   "execution_count": 598,
   "id": "21486773-c9a7-41bd-a933-f01ac207b731",
   "metadata": {},
   "outputs": [],
   "source": [
    "outfile = file.path( paste0(result_path, '/03_results/',  model_name) )"
   ]
  },
  {
   "cell_type": "code",
   "execution_count": 599,
   "id": "f7d86d16-52a8-425b-9855-794259a4b4ea",
   "metadata": {},
   "outputs": [
    {
     "data": {
      "text/html": [
       "'/home/icb/corinna.losert/projects/mofa_workflow/result_data//03_results/03_MOFA_MODEL_MI_v1_MOFA.hdf5'"
      ],
      "text/latex": [
       "'/home/icb/corinna.losert/projects/mofa\\_workflow/result\\_data//03\\_results/03\\_MOFA\\_MODEL\\_MI\\_v1\\_MOFA.hdf5'"
      ],
      "text/markdown": [
       "'/home/icb/corinna.losert/projects/mofa_workflow/result_data//03_results/03_MOFA_MODEL_MI_v1_MOFA.hdf5'"
      ],
      "text/plain": [
       "[1] \"/home/icb/corinna.losert/projects/mofa_workflow/result_data//03_results/03_MOFA_MODEL_MI_v1_MOFA.hdf5\""
      ]
     },
     "metadata": {},
     "output_type": "display_data"
    }
   ],
   "source": [
    "outfile"
   ]
  },
  {
   "cell_type": "code",
   "execution_count": 600,
   "id": "8f2d4649-8f0c-416a-a211-c47fa63a7e41",
   "metadata": {
    "tags": []
   },
   "outputs": [
    {
     "name": "stderr",
     "output_type": "stream",
     "text": [
      "Loading data...\n",
      "\n",
      "Loading expectations for 2 nodes...\n",
      "\n",
      "Loading model options...\n",
      "\n",
      "Loading training options and statistics...\n",
      "\n",
      "Assigning names to the different dimensions...\n",
      "\n",
      "Re-ordering factors by their variance explained...\n",
      "\n",
      "Doing quality control...\n",
      "\n",
      "Checking views names...\n",
      "\n",
      "Checking groups names...\n",
      "\n",
      "Checking samples names...\n",
      "\n",
      "Checking features names...\n",
      "\n",
      "Checking dimensions...\n",
      "\n",
      "Checking there are no features with complete missing values...\n",
      "\n",
      "Checking sample covariates...\n",
      "\n",
      "Checking expectations...\n",
      "\n",
      "Checking for intercept factors...\n",
      "\n",
      "Warning message in .quality_control(object, verbose = verbose):\n",
      "\"Factor(s) 5, 9, 18 are strongly correlated with the total number of expressed features for at least one of your omics. Such factors appear when there are differences in the total 'levels' between your samples, *sometimes* because of poor normalisation in the preprocessing steps.\n",
      "\"\n",
      "Checking for highly correlated factors...\n",
      "\n"
     ]
    },
    {
     "data": {
      "text/html": [
       "\n",
       "    <style>\n",
       "    .popup {\n",
       "      position: fixed;\n",
       "      top: 10px;\n",
       "      right: 20px;\n",
       "      background-color: #B5DC78;\n",
       "      border: 1px solid #ccc;\n",
       "      padding: 20px;\n",
       "      border-radius: 10px;\n",
       "      box-shadow: 0px 0px 10px rgba(0, 0, 0, 0.1);\n",
       "      display: none; /* Initially hidden */\n",
       "      z-index: 9999; /* Ensure it's on top of other content */\n",
       "      width: 300px; /* Set width of the popup */\n",
       "    }\n",
       "\n",
       "    .popup.show {\n",
       "      display: block; /* Show when .show class is added */\n",
       "    }\n",
       "    </style>\n",
       "\n",
       "    <script>\n",
       "    // Function to show the popup\n",
       "    function showPopup(message) {\n",
       "      var popup = document.getElementById(\"global-popup\");\n",
       "      if (!popup) {\n",
       "        // Inject the popup into the top-level body element if it doesn't exist\n",
       "        popup = document.createElement(\"div\");\n",
       "        popup.id = \"global-popup\";\n",
       "        popup.className = \"popup\";\n",
       "        document.body.appendChild(popup);\n",
       "      }\n",
       "      popup.innerHTML = message;\n",
       "      popup.classList.add(\"show\");\n",
       "\n",
       "      // Automatically hide the popup after 10 seconds (10000 milliseconds)\n",
       "      setTimeout(function(){\n",
       "        popup.classList.remove(\"show\");\n",
       "      }, 10000); // Adjust the time interval as needed\n",
       "    }\n",
       "\n",
       "    // Call the function to show the popup immediately with the provided message\n",
       "    showPopup(\"Loaded: 03_MOFA_MODEL_MI_v1_MOFA.hdf5\");\n",
       "    </script>\n",
       "    "
      ]
     },
     "metadata": {},
     "output_type": "display_data"
    }
   ],
   "source": [
    "if(file.exists(outfile)){\n",
    "    model <- load_model(outfile, verbose = TRUE)\n",
    "    popup_function_pos(paste0('Loaded: ', model_name))\n",
    "    } else {popup_function_neg(paste0('Error: ',result_path, '/03_results/ ', model_name, 'could not be loaded. Check whether the previous steps have been executed successfully')) } "
   ]
  },
  {
   "cell_type": "markdown",
   "id": "70373296-fe48-46b9-9e5f-c0530518eff8",
   "metadata": {
    "tags": []
   },
   "source": [
    "## Pathways"
   ]
  },
  {
   "cell_type": "code",
   "execution_count": 601,
   "id": "79033415-1285-4e75-8e7b-c8aea802be82",
   "metadata": {},
   "outputs": [],
   "source": [
    "### Load the pre-defined pathway set( needs to include the columns:\n",
    "# ID (unique identifier of the pathway)\n",
    "# gene : gene-symbol of the gene belonging to the pathway (will be matched to the MOFA features)\n",
    "# pathway_name: a textual description of the pathway "
   ]
  },
  {
   "cell_type": "code",
   "execution_count": 602,
   "id": "35a71ce1-443b-4dda-8187-85c79c0e4f4f",
   "metadata": {},
   "outputs": [
    {
     "data": {
      "text/html": [
       "\n",
       "    <style>\n",
       "    .popup {\n",
       "      position: fixed;\n",
       "      top: 10px;\n",
       "      right: 20px;\n",
       "      background-color: #B5DC78;\n",
       "      border: 1px solid #ccc;\n",
       "      padding: 20px;\n",
       "      border-radius: 10px;\n",
       "      box-shadow: 0px 0px 10px rgba(0, 0, 0, 0.1);\n",
       "      display: none; /* Initially hidden */\n",
       "      z-index: 9999; /* Ensure it's on top of other content */\n",
       "      width: 300px; /* Set width of the popup */\n",
       "    }\n",
       "\n",
       "    .popup.show {\n",
       "      display: block; /* Show when .show class is added */\n",
       "    }\n",
       "    </style>\n",
       "\n",
       "    <script>\n",
       "    // Function to show the popup\n",
       "    function showPopup(message) {\n",
       "      var popup = document.getElementById(\"global-popup\");\n",
       "      if (!popup) {\n",
       "        // Inject the popup into the top-level body element if it doesn't exist\n",
       "        popup = document.createElement(\"div\");\n",
       "        popup.id = \"global-popup\";\n",
       "        popup.className = \"popup\";\n",
       "        document.body.appendChild(popup);\n",
       "      }\n",
       "      popup.innerHTML = message;\n",
       "      popup.classList.add(\"show\");\n",
       "\n",
       "      // Automatically hide the popup after 10 seconds (10000 milliseconds)\n",
       "      setTimeout(function(){\n",
       "        popup.classList.remove(\"show\");\n",
       "      }, 10000); // Adjust the time interval as needed\n",
       "    }\n",
       "\n",
       "    // Call the function to show the popup immediately with the provided message\n",
       "    showPopup(\"Loaded: Prepared_Pathway_Data.csv\");\n",
       "    </script>\n",
       "    "
      ]
     },
     "metadata": {},
     "output_type": "display_data"
    }
   ],
   "source": [
    "path = paste0(data_path, 'Prepared_Pathway_Data.csv')\n",
    "if(file.exists(path)){\n",
    "    pathways =  read.csv(path)\n",
    "    pathways$X = NULL \n",
    "    popup_function_pos(paste0('Loaded: ','Prepared_Pathway_Data.csv'))\n",
    "    \n",
    "\n",
    "} else{  popup_function_neg(paste0('Error: ','Prepared_Pathway_Data.csv', ' could not be loaded. Make sure the file is included within the specified input data folder'))\n",
    "       print(paste0('Error: ','Prepared_Pathway_Data.csv', ' could not be loaded. Make sure the file is included within the specified input data folder'))\n",
    "      \n",
    "      \n",
    "      }"
   ]
  },
  {
   "cell_type": "code",
   "execution_count": 603,
   "id": "991b2cc4-e6cb-495c-8d52-75666f967096",
   "metadata": {},
   "outputs": [
    {
     "data": {
      "text/html": [
       "<table class=\"dataframe\">\n",
       "<caption>A data.frame: 2 x 3</caption>\n",
       "<thead>\n",
       "\t<tr><th></th><th scope=col>ID</th><th scope=col>gene</th><th scope=col>pathway_name</th></tr>\n",
       "\t<tr><th></th><th scope=col>&lt;chr&gt;</th><th scope=col>&lt;chr&gt;</th><th scope=col>&lt;chr&gt;</th></tr>\n",
       "</thead>\n",
       "<tbody>\n",
       "\t<tr><th scope=row>1</th><td>R-HSA-1059683</td><td>JAK1 </td><td>Interleukin-6 signaling</td></tr>\n",
       "\t<tr><th scope=row>2</th><td>R-HSA-1059683</td><td>STAT1</td><td>Interleukin-6 signaling</td></tr>\n",
       "</tbody>\n",
       "</table>\n"
      ],
      "text/latex": [
       "A data.frame: 2 x 3\n",
       "\\begin{tabular}{r|lll}\n",
       "  & ID & gene & pathway\\_name\\\\\n",
       "  & <chr> & <chr> & <chr>\\\\\n",
       "\\hline\n",
       "\t1 & R-HSA-1059683 & JAK1  & Interleukin-6 signaling\\\\\n",
       "\t2 & R-HSA-1059683 & STAT1 & Interleukin-6 signaling\\\\\n",
       "\\end{tabular}\n"
      ],
      "text/markdown": [
       "\n",
       "A data.frame: 2 x 3\n",
       "\n",
       "| <!--/--> | ID &lt;chr&gt; | gene &lt;chr&gt; | pathway_name &lt;chr&gt; |\n",
       "|---|---|---|---|\n",
       "| 1 | R-HSA-1059683 | JAK1  | Interleukin-6 signaling |\n",
       "| 2 | R-HSA-1059683 | STAT1 | Interleukin-6 signaling |\n",
       "\n"
      ],
      "text/plain": [
       "  ID            gene  pathway_name           \n",
       "1 R-HSA-1059683 JAK1  Interleukin-6 signaling\n",
       "2 R-HSA-1059683 STAT1 Interleukin-6 signaling"
      ]
     },
     "metadata": {},
     "output_type": "display_data"
    }
   ],
   "source": [
    "head(pathways,2)"
   ]
  },
  {
   "cell_type": "markdown",
   "id": "46e3576c-af99-4c04-9b7b-35c06c7db34c",
   "metadata": {},
   "source": [
    "# Prepare model data"
   ]
  },
  {
   "cell_type": "markdown",
   "id": "c3f2a67b-a604-43cd-8231-a8fedd53e0ee",
   "metadata": {},
   "source": [
    "## Extract the weights from the model"
   ]
  },
  {
   "cell_type": "code",
   "execution_count": 604,
   "id": "80d0de5e-6d7b-4edf-baf4-26f9681fd65c",
   "metadata": {},
   "outputs": [],
   "source": [
    "### Get the feature weights from the model and prepare the format"
   ]
  },
  {
   "cell_type": "code",
   "execution_count": 605,
   "id": "7fb063ef-e664-4c8d-bfd2-70287c7c3911",
   "metadata": {},
   "outputs": [
    {
     "data": {
      "text/html": [
       "<table class=\"dataframe\">\n",
       "<caption>A data.frame: 6 x 24</caption>\n",
       "<thead>\n",
       "\t<tr><th></th><th scope=col>Factor1</th><th scope=col>Factor2</th><th scope=col>Factor3</th><th scope=col>Factor4</th><th scope=col>Factor5</th><th scope=col>Factor6</th><th scope=col>Factor7</th><th scope=col>Factor8</th><th scope=col>Factor9</th><th scope=col>Factor10</th><th scope=col>...</th><th scope=col>Factor15</th><th scope=col>Factor16</th><th scope=col>Factor17</th><th scope=col>Factor18</th><th scope=col>Factor19</th><th scope=col>Factor20</th><th scope=col>type</th><th scope=col>variable_name</th><th scope=col>view</th><th scope=col>gene</th></tr>\n",
       "\t<tr><th></th><th scope=col>&lt;dbl&gt;</th><th scope=col>&lt;dbl&gt;</th><th scope=col>&lt;dbl&gt;</th><th scope=col>&lt;dbl&gt;</th><th scope=col>&lt;dbl&gt;</th><th scope=col>&lt;dbl&gt;</th><th scope=col>&lt;dbl&gt;</th><th scope=col>&lt;dbl&gt;</th><th scope=col>&lt;dbl&gt;</th><th scope=col>&lt;dbl&gt;</th><th scope=col>...</th><th scope=col>&lt;dbl&gt;</th><th scope=col>&lt;dbl&gt;</th><th scope=col>&lt;dbl&gt;</th><th scope=col>&lt;dbl&gt;</th><th scope=col>&lt;dbl&gt;</th><th scope=col>&lt;dbl&gt;</th><th scope=col>&lt;chr&gt;</th><th scope=col>&lt;chr&gt;</th><th scope=col>&lt;chr&gt;</th><th scope=col>&lt;chr&gt;</th></tr>\n",
       "</thead>\n",
       "<tbody>\n",
       "\t<tr><th scope=row>B.cell__ACTB</th><td>-0.18622572</td><td> 0.2532893</td><td> 0.16641189</td><td>-0.052115239</td><td>-0.12850895</td><td>-0.04607836</td><td>0.29499641</td><td>-0.014377703</td><td> 0.0030737847</td><td>-0.23742092</td><td>...</td><td> 0.08731972</td><td> 0.022657087</td><td>-0.013662204</td><td>0.02398114</td><td>0.25733860</td><td>-0.33695142</td><td>B.cell</td><td>B.cell__ACTB </td><td>B.cell</td><td>ACTB </td></tr>\n",
       "\t<tr><th scope=row>B.cell__ACTG1</th><td>-0.05929283</td><td>-0.0210286</td><td> 0.12941701</td><td>-0.006415541</td><td>-0.10125865</td><td>-0.02679262</td><td>0.17690643</td><td>-0.012719177</td><td>-0.0073429115</td><td> 0.05831917</td><td>...</td><td> 0.07711172</td><td> 0.065671454</td><td>-0.008466872</td><td>0.23901791</td><td>0.71884011</td><td> 0.04404755</td><td>B.cell</td><td>B.cell__ACTG1</td><td>B.cell</td><td>ACTG1</td></tr>\n",
       "\t<tr><th scope=row>B.cell__ACTR2</th><td>-0.03962156</td><td> 0.2723610</td><td> 0.07830457</td><td>-0.174129744</td><td> 0.03383196</td><td> 0.08418610</td><td>0.58085032</td><td> 0.006520657</td><td> 0.0005309017</td><td>-0.34673154</td><td>...</td><td>-0.56082421</td><td> 0.050565496</td><td>-0.009194180</td><td>0.39254573</td><td>0.33316832</td><td>-0.31498583</td><td>B.cell</td><td>B.cell__ACTR2</td><td>B.cell</td><td>ACTR2</td></tr>\n",
       "\t<tr><th scope=row>B.cell__ACTR3</th><td> 0.06087441</td><td> 0.0377486</td><td>-0.06697696</td><td>-0.317071164</td><td>-0.01804716</td><td>-0.06606528</td><td>0.01939307</td><td>-0.037956857</td><td> 0.0048412515</td><td> 0.02484377</td><td>...</td><td>-0.20704329</td><td> 0.006030756</td><td>-0.111238155</td><td>0.30912416</td><td>0.17350324</td><td> 0.19337951</td><td>B.cell</td><td>B.cell__ACTR3</td><td>B.cell</td><td>ACTR3</td></tr>\n",
       "\t<tr><th scope=row>B.cell__ADD3</th><td>-0.08900485</td><td> 0.1829813</td><td> 0.05449551</td><td>-0.208797754</td><td>-0.03130545</td><td>-0.04623831</td><td>0.07433143</td><td> 0.008030978</td><td>-0.0080186938</td><td>-0.26903606</td><td>...</td><td> 0.06001593</td><td>-0.036961132</td><td>-0.281694254</td><td>0.13583734</td><td>0.12275302</td><td> 0.08883714</td><td>B.cell</td><td>B.cell__ADD3 </td><td>B.cell</td><td>ADD3 </td></tr>\n",
       "\t<tr><th scope=row>B.cell__AES</th><td> 0.16131069</td><td>-0.1939779</td><td> 0.02168047</td><td> 0.164927176</td><td>-0.15197433</td><td> 0.16541432</td><td>0.03628287</td><td> 0.030639418</td><td>-0.0121872510</td><td>-0.25716339</td><td>...</td><td> 0.03850664</td><td> 0.052330404</td><td> 0.037598427</td><td>0.75380586</td><td>0.05670264</td><td>-0.10799185</td><td>B.cell</td><td>B.cell__AES  </td><td>B.cell</td><td>AES  </td></tr>\n",
       "</tbody>\n",
       "</table>\n"
      ],
      "text/latex": [
       "A data.frame: 6 x 24\n",
       "\\begin{tabular}{r|lllllllllllllllllllll}\n",
       "  & Factor1 & Factor2 & Factor3 & Factor4 & Factor5 & Factor6 & Factor7 & Factor8 & Factor9 & Factor10 & ... & Factor15 & Factor16 & Factor17 & Factor18 & Factor19 & Factor20 & type & variable\\_name & view & gene\\\\\n",
       "  & <dbl> & <dbl> & <dbl> & <dbl> & <dbl> & <dbl> & <dbl> & <dbl> & <dbl> & <dbl> & ... & <dbl> & <dbl> & <dbl> & <dbl> & <dbl> & <dbl> & <chr> & <chr> & <chr> & <chr>\\\\\n",
       "\\hline\n",
       "\tB.cell\\_\\_ACTB & -0.18622572 &  0.2532893 &  0.16641189 & -0.052115239 & -0.12850895 & -0.04607836 & 0.29499641 & -0.014377703 &  0.0030737847 & -0.23742092 & ... &  0.08731972 &  0.022657087 & -0.013662204 & 0.02398114 & 0.25733860 & -0.33695142 & B.cell & B.cell\\_\\_ACTB  & B.cell & ACTB \\\\\n",
       "\tB.cell\\_\\_ACTG1 & -0.05929283 & -0.0210286 &  0.12941701 & -0.006415541 & -0.10125865 & -0.02679262 & 0.17690643 & -0.012719177 & -0.0073429115 &  0.05831917 & ... &  0.07711172 &  0.065671454 & -0.008466872 & 0.23901791 & 0.71884011 &  0.04404755 & B.cell & B.cell\\_\\_ACTG1 & B.cell & ACTG1\\\\\n",
       "\tB.cell\\_\\_ACTR2 & -0.03962156 &  0.2723610 &  0.07830457 & -0.174129744 &  0.03383196 &  0.08418610 & 0.58085032 &  0.006520657 &  0.0005309017 & -0.34673154 & ... & -0.56082421 &  0.050565496 & -0.009194180 & 0.39254573 & 0.33316832 & -0.31498583 & B.cell & B.cell\\_\\_ACTR2 & B.cell & ACTR2\\\\\n",
       "\tB.cell\\_\\_ACTR3 &  0.06087441 &  0.0377486 & -0.06697696 & -0.317071164 & -0.01804716 & -0.06606528 & 0.01939307 & -0.037956857 &  0.0048412515 &  0.02484377 & ... & -0.20704329 &  0.006030756 & -0.111238155 & 0.30912416 & 0.17350324 &  0.19337951 & B.cell & B.cell\\_\\_ACTR3 & B.cell & ACTR3\\\\\n",
       "\tB.cell\\_\\_ADD3 & -0.08900485 &  0.1829813 &  0.05449551 & -0.208797754 & -0.03130545 & -0.04623831 & 0.07433143 &  0.008030978 & -0.0080186938 & -0.26903606 & ... &  0.06001593 & -0.036961132 & -0.281694254 & 0.13583734 & 0.12275302 &  0.08883714 & B.cell & B.cell\\_\\_ADD3  & B.cell & ADD3 \\\\\n",
       "\tB.cell\\_\\_AES &  0.16131069 & -0.1939779 &  0.02168047 &  0.164927176 & -0.15197433 &  0.16541432 & 0.03628287 &  0.030639418 & -0.0121872510 & -0.25716339 & ... &  0.03850664 &  0.052330404 &  0.037598427 & 0.75380586 & 0.05670264 & -0.10799185 & B.cell & B.cell\\_\\_AES   & B.cell & AES  \\\\\n",
       "\\end{tabular}\n"
      ],
      "text/markdown": [
       "\n",
       "A data.frame: 6 x 24\n",
       "\n",
       "| <!--/--> | Factor1 &lt;dbl&gt; | Factor2 &lt;dbl&gt; | Factor3 &lt;dbl&gt; | Factor4 &lt;dbl&gt; | Factor5 &lt;dbl&gt; | Factor6 &lt;dbl&gt; | Factor7 &lt;dbl&gt; | Factor8 &lt;dbl&gt; | Factor9 &lt;dbl&gt; | Factor10 &lt;dbl&gt; | ... ... | Factor15 &lt;dbl&gt; | Factor16 &lt;dbl&gt; | Factor17 &lt;dbl&gt; | Factor18 &lt;dbl&gt; | Factor19 &lt;dbl&gt; | Factor20 &lt;dbl&gt; | type &lt;chr&gt; | variable_name &lt;chr&gt; | view &lt;chr&gt; | gene &lt;chr&gt; |\n",
       "|---|---|---|---|---|---|---|---|---|---|---|---|---|---|---|---|---|---|---|---|---|---|\n",
       "| B.cell__ACTB | -0.18622572 |  0.2532893 |  0.16641189 | -0.052115239 | -0.12850895 | -0.04607836 | 0.29499641 | -0.014377703 |  0.0030737847 | -0.23742092 | ... |  0.08731972 |  0.022657087 | -0.013662204 | 0.02398114 | 0.25733860 | -0.33695142 | B.cell | B.cell__ACTB  | B.cell | ACTB  |\n",
       "| B.cell__ACTG1 | -0.05929283 | -0.0210286 |  0.12941701 | -0.006415541 | -0.10125865 | -0.02679262 | 0.17690643 | -0.012719177 | -0.0073429115 |  0.05831917 | ... |  0.07711172 |  0.065671454 | -0.008466872 | 0.23901791 | 0.71884011 |  0.04404755 | B.cell | B.cell__ACTG1 | B.cell | ACTG1 |\n",
       "| B.cell__ACTR2 | -0.03962156 |  0.2723610 |  0.07830457 | -0.174129744 |  0.03383196 |  0.08418610 | 0.58085032 |  0.006520657 |  0.0005309017 | -0.34673154 | ... | -0.56082421 |  0.050565496 | -0.009194180 | 0.39254573 | 0.33316832 | -0.31498583 | B.cell | B.cell__ACTR2 | B.cell | ACTR2 |\n",
       "| B.cell__ACTR3 |  0.06087441 |  0.0377486 | -0.06697696 | -0.317071164 | -0.01804716 | -0.06606528 | 0.01939307 | -0.037956857 |  0.0048412515 |  0.02484377 | ... | -0.20704329 |  0.006030756 | -0.111238155 | 0.30912416 | 0.17350324 |  0.19337951 | B.cell | B.cell__ACTR3 | B.cell | ACTR3 |\n",
       "| B.cell__ADD3 | -0.08900485 |  0.1829813 |  0.05449551 | -0.208797754 | -0.03130545 | -0.04623831 | 0.07433143 |  0.008030978 | -0.0080186938 | -0.26903606 | ... |  0.06001593 | -0.036961132 | -0.281694254 | 0.13583734 | 0.12275302 |  0.08883714 | B.cell | B.cell__ADD3  | B.cell | ADD3  |\n",
       "| B.cell__AES |  0.16131069 | -0.1939779 |  0.02168047 |  0.164927176 | -0.15197433 |  0.16541432 | 0.03628287 |  0.030639418 | -0.0121872510 | -0.25716339 | ... |  0.03850664 |  0.052330404 |  0.037598427 | 0.75380586 | 0.05670264 | -0.10799185 | B.cell | B.cell__AES   | B.cell | AES   |\n",
       "\n"
      ],
      "text/plain": [
       "              Factor1     Factor2    Factor3     Factor4      Factor5    \n",
       "B.cell__ACTB  -0.18622572  0.2532893  0.16641189 -0.052115239 -0.12850895\n",
       "B.cell__ACTG1 -0.05929283 -0.0210286  0.12941701 -0.006415541 -0.10125865\n",
       "B.cell__ACTR2 -0.03962156  0.2723610  0.07830457 -0.174129744  0.03383196\n",
       "B.cell__ACTR3  0.06087441  0.0377486 -0.06697696 -0.317071164 -0.01804716\n",
       "B.cell__ADD3  -0.08900485  0.1829813  0.05449551 -0.208797754 -0.03130545\n",
       "B.cell__AES    0.16131069 -0.1939779  0.02168047  0.164927176 -0.15197433\n",
       "              Factor6     Factor7    Factor8      Factor9       Factor10    ...\n",
       "B.cell__ACTB  -0.04607836 0.29499641 -0.014377703  0.0030737847 -0.23742092 ...\n",
       "B.cell__ACTG1 -0.02679262 0.17690643 -0.012719177 -0.0073429115  0.05831917 ...\n",
       "B.cell__ACTR2  0.08418610 0.58085032  0.006520657  0.0005309017 -0.34673154 ...\n",
       "B.cell__ACTR3 -0.06606528 0.01939307 -0.037956857  0.0048412515  0.02484377 ...\n",
       "B.cell__ADD3  -0.04623831 0.07433143  0.008030978 -0.0080186938 -0.26903606 ...\n",
       "B.cell__AES    0.16541432 0.03628287  0.030639418 -0.0121872510 -0.25716339 ...\n",
       "              Factor15    Factor16     Factor17     Factor18   Factor19  \n",
       "B.cell__ACTB   0.08731972  0.022657087 -0.013662204 0.02398114 0.25733860\n",
       "B.cell__ACTG1  0.07711172  0.065671454 -0.008466872 0.23901791 0.71884011\n",
       "B.cell__ACTR2 -0.56082421  0.050565496 -0.009194180 0.39254573 0.33316832\n",
       "B.cell__ACTR3 -0.20704329  0.006030756 -0.111238155 0.30912416 0.17350324\n",
       "B.cell__ADD3   0.06001593 -0.036961132 -0.281694254 0.13583734 0.12275302\n",
       "B.cell__AES    0.03850664  0.052330404  0.037598427 0.75380586 0.05670264\n",
       "              Factor20    type   variable_name view   gene \n",
       "B.cell__ACTB  -0.33695142 B.cell B.cell__ACTB  B.cell ACTB \n",
       "B.cell__ACTG1  0.04404755 B.cell B.cell__ACTG1 B.cell ACTG1\n",
       "B.cell__ACTR2 -0.31498583 B.cell B.cell__ACTR2 B.cell ACTR2\n",
       "B.cell__ACTR3  0.19337951 B.cell B.cell__ACTR3 B.cell ACTR3\n",
       "B.cell__ADD3   0.08883714 B.cell B.cell__ADD3  B.cell ADD3 \n",
       "B.cell__AES   -0.10799185 B.cell B.cell__AES   B.cell AES  "
      ]
     },
     "metadata": {},
     "output_type": "display_data"
    }
   ],
   "source": [
    "weights = get_weights(model, views = \"all\", factors = \"all\")\n",
    "weight_data = data.frame()\n",
    "for (i in names(weights)){\n",
    "    data = data.frame(weights[[i]])\n",
    "    data$type = i\n",
    "    weight_data = rbind(weight_data,data)\n",
    "}\n",
    "weight_data$variable_name = rownames(weight_data)\n",
    "weight_data$view <- weight_data$type \n",
    "weight_data$gene = sapply(strsplit(weight_data$variable_name, \"_\"), \"[\", 3)\n",
    "head(weight_data)"
   ]
  },
  {
   "cell_type": "code",
   "execution_count": 606,
   "id": "11afe383-a846-4e74-9b96-af6bd0043b15",
   "metadata": {},
   "outputs": [],
   "source": [
    "## Transform to long format"
   ]
  },
  {
   "cell_type": "code",
   "execution_count": 607,
   "id": "d7769bc7-2dab-43b3-ab1d-ca7943e1afc7",
   "metadata": {},
   "outputs": [
    {
     "name": "stderr",
     "output_type": "stream",
     "text": [
      "Using type, variable_name, view, gene as id variables\n",
      "\n"
     ]
    }
   ],
   "source": [
    "feature_weights_long = melt(weight_data)"
   ]
  },
  {
   "cell_type": "code",
   "execution_count": 608,
   "id": "2f2f453f-0550-47c6-9cde-12498561987d",
   "metadata": {},
   "outputs": [
    {
     "data": {
      "text/html": [
       "<table class=\"dataframe\">\n",
       "<caption>A data.frame: 2 x 6</caption>\n",
       "<thead>\n",
       "\t<tr><th></th><th scope=col>type</th><th scope=col>variable_name</th><th scope=col>view</th><th scope=col>gene</th><th scope=col>variable</th><th scope=col>value</th></tr>\n",
       "\t<tr><th></th><th scope=col>&lt;chr&gt;</th><th scope=col>&lt;chr&gt;</th><th scope=col>&lt;chr&gt;</th><th scope=col>&lt;chr&gt;</th><th scope=col>&lt;fct&gt;</th><th scope=col>&lt;dbl&gt;</th></tr>\n",
       "</thead>\n",
       "<tbody>\n",
       "\t<tr><th scope=row>1</th><td>B.cell</td><td>B.cell__ACTB </td><td>B.cell</td><td>ACTB </td><td>Factor1</td><td>-0.18622572</td></tr>\n",
       "\t<tr><th scope=row>2</th><td>B.cell</td><td>B.cell__ACTG1</td><td>B.cell</td><td>ACTG1</td><td>Factor1</td><td>-0.05929283</td></tr>\n",
       "</tbody>\n",
       "</table>\n"
      ],
      "text/latex": [
       "A data.frame: 2 x 6\n",
       "\\begin{tabular}{r|llllll}\n",
       "  & type & variable\\_name & view & gene & variable & value\\\\\n",
       "  & <chr> & <chr> & <chr> & <chr> & <fct> & <dbl>\\\\\n",
       "\\hline\n",
       "\t1 & B.cell & B.cell\\_\\_ACTB  & B.cell & ACTB  & Factor1 & -0.18622572\\\\\n",
       "\t2 & B.cell & B.cell\\_\\_ACTG1 & B.cell & ACTG1 & Factor1 & -0.05929283\\\\\n",
       "\\end{tabular}\n"
      ],
      "text/markdown": [
       "\n",
       "A data.frame: 2 x 6\n",
       "\n",
       "| <!--/--> | type &lt;chr&gt; | variable_name &lt;chr&gt; | view &lt;chr&gt; | gene &lt;chr&gt; | variable &lt;fct&gt; | value &lt;dbl&gt; |\n",
       "|---|---|---|---|---|---|---|\n",
       "| 1 | B.cell | B.cell__ACTB  | B.cell | ACTB  | Factor1 | -0.18622572 |\n",
       "| 2 | B.cell | B.cell__ACTG1 | B.cell | ACTG1 | Factor1 | -0.05929283 |\n",
       "\n"
      ],
      "text/plain": [
       "  type   variable_name view   gene  variable value      \n",
       "1 B.cell B.cell__ACTB  B.cell ACTB  Factor1  -0.18622572\n",
       "2 B.cell B.cell__ACTG1 B.cell ACTG1 Factor1  -0.05929283"
      ]
     },
     "metadata": {},
     "output_type": "display_data"
    }
   ],
   "source": [
    "head(feature_weights_long,2)"
   ]
  },
  {
   "cell_type": "markdown",
   "id": "051807fc-3e5b-4262-977a-70739f505aff",
   "metadata": {},
   "source": [
    "## Adjust feature names in the model"
   ]
  },
  {
   "cell_type": "code",
   "execution_count": 609,
   "id": "3b1a46c8-9942-431f-b042-d6c9a886e993",
   "metadata": {},
   "outputs": [],
   "source": [
    "### Feature names should map to the genes in the pathway set (therefore the view component is  removed)"
   ]
  },
  {
   "cell_type": "code",
   "execution_count": 610,
   "id": "50d2a2a2-7e4c-4eb6-89c4-653ded4e69b1",
   "metadata": {},
   "outputs": [
    {
     "data": {
      "text/html": [
       "<style>\n",
       ".list-inline {list-style: none; margin:0; padding: 0}\n",
       ".list-inline>li {display: inline-block}\n",
       ".list-inline>li:not(:last-child)::after {content: \"\\00b7\"; padding: 0 .5ex}\n",
       "</style>\n",
       "<ol class=list-inline><li>'B.cell__ACTB'</li><li>'B.cell__ACTG1'</li><li>'B.cell__ACTR2'</li><li>'B.cell__ACTR3'</li><li>'B.cell__ADD3'</li><li>'B.cell__AES'</li></ol>\n"
      ],
      "text/latex": [
       "\\begin{enumerate*}\n",
       "\\item 'B.cell\\_\\_ACTB'\n",
       "\\item 'B.cell\\_\\_ACTG1'\n",
       "\\item 'B.cell\\_\\_ACTR2'\n",
       "\\item 'B.cell\\_\\_ACTR3'\n",
       "\\item 'B.cell\\_\\_ADD3'\n",
       "\\item 'B.cell\\_\\_AES'\n",
       "\\end{enumerate*}\n"
      ],
      "text/markdown": [
       "1. 'B.cell__ACTB'\n",
       "2. 'B.cell__ACTG1'\n",
       "3. 'B.cell__ACTR2'\n",
       "4. 'B.cell__ACTR3'\n",
       "5. 'B.cell__ADD3'\n",
       "6. 'B.cell__AES'\n",
       "\n",
       "\n"
      ],
      "text/plain": [
       "[1] \"B.cell__ACTB\"  \"B.cell__ACTG1\" \"B.cell__ACTR2\" \"B.cell__ACTR3\"\n",
       "[5] \"B.cell__ADD3\"  \"B.cell__AES\"  "
      ]
     },
     "metadata": {},
     "output_type": "display_data"
    }
   ],
   "source": [
    "head(features_names(model)[[1]] )"
   ]
  },
  {
   "cell_type": "code",
   "execution_count": 611,
   "id": "790decbc-1976-4fce-b491-5c80b4eca02b",
   "metadata": {},
   "outputs": [],
   "source": [
    "model_conc = model ## save original model for later\n",
    "for(i in names(features_names(model))){   \n",
    "        features_names(model)[[i]] = with(feature_weights_long, gene[match(features_names(model)[[i]], variable_name)])\n",
    "    }"
   ]
  },
  {
   "cell_type": "code",
   "execution_count": 612,
   "id": "7ce46cdd-57a2-474e-8164-2d43494d9d88",
   "metadata": {},
   "outputs": [
    {
     "data": {
      "text/html": [
       "<style>\n",
       ".list-inline {list-style: none; margin:0; padding: 0}\n",
       ".list-inline>li {display: inline-block}\n",
       ".list-inline>li:not(:last-child)::after {content: \"\\00b7\"; padding: 0 .5ex}\n",
       "</style>\n",
       "<ol class=list-inline><li>'ACTB'</li><li>'ACTG1'</li><li>'ACTR2'</li><li>'ACTR3'</li><li>'ADD3'</li><li>'AES'</li></ol>\n"
      ],
      "text/latex": [
       "\\begin{enumerate*}\n",
       "\\item 'ACTB'\n",
       "\\item 'ACTG1'\n",
       "\\item 'ACTR2'\n",
       "\\item 'ACTR3'\n",
       "\\item 'ADD3'\n",
       "\\item 'AES'\n",
       "\\end{enumerate*}\n"
      ],
      "text/markdown": [
       "1. 'ACTB'\n",
       "2. 'ACTG1'\n",
       "3. 'ACTR2'\n",
       "4. 'ACTR3'\n",
       "5. 'ADD3'\n",
       "6. 'AES'\n",
       "\n",
       "\n"
      ],
      "text/plain": [
       "[1] \"ACTB\"  \"ACTG1\" \"ACTR2\" \"ACTR3\" \"ADD3\"  \"AES\"  "
      ]
     },
     "metadata": {},
     "output_type": "display_data"
    }
   ],
   "source": [
    "head(features_names(model)[[1]] )"
   ]
  },
  {
   "cell_type": "markdown",
   "id": "68f118e7-c714-4e92-9b4a-bb00c10008e5",
   "metadata": {},
   "source": [
    "## Create a MOFA model for the overall enrichment analysis across views"
   ]
  },
  {
   "cell_type": "code",
   "execution_count": 613,
   "id": "e16a1da5-3d8c-4045-9be0-676bdad5d9d1",
   "metadata": {},
   "outputs": [],
   "source": [
    "# We need a model that has features of all views concatenated in a single view"
   ]
  },
  {
   "cell_type": "code",
   "execution_count": 614,
   "id": "cae7d861-6003-4ec4-91e2-c1eed7a851be",
   "metadata": {},
   "outputs": [],
   "source": [
    "views <- names(features_names(model_conc))\n",
    "tmp <- sapply(views, function(view) model_conc@intercepts[[view]]$group1)\n",
    "names(tmp) <- NULL  \n",
    "model_conc@intercepts[['complete']]$group1 = unlist(tmp)\n",
    "model_conc@expectations$W[['complete']] = do.call(rbind, lapply(views, function(view) model_conc@expectations$W[[view]]))\n",
    "model_conc@features_metadata = rbind(model_conc@features_metadata, \n",
    "                                     data.frame(feature = model_conc@features_metadata$feature, view=\"complete\"))\n",
    "model_conc@dimensions$D['complete'] = sum(model_conc@dimensions$D)\n",
    "model_conc@data[['complete']]$group1 = do.call(rbind, lapply(views, function(view) model_conc@data[[view]]$group1))\n",
    "model_conc@data_options$views = c(model_conc@data_options$views , 'complete')\n",
    "model_conc@model_options$likelihoods['complete'] = 'gaussian'\n",
    "model_conc@dimensions$M = length(views) + 1\n",
    "\n",
    "model_conc@cache$variance_explained$r2_total$group1['complete'] = mean(model_conc@cache$variance_explained$r2_total$group1)\n",
    "model_conc@cache$variance_explained$r2_per_factor$group1 = cbind(model@cache$variance_explained$r2_per_factor$group1, data.frame('complete' = rowMeans(model_conc@cache$variance_explained$r2_per_factor$group1)))"
   ]
  },
  {
   "cell_type": "code",
   "execution_count": 615,
   "id": "62640a96-f3c2-47ae-98a1-75d58c0a0285",
   "metadata": {},
   "outputs": [
    {
     "data": {
      "text/plain": [
       "Trained MOFA with the following characteristics: \n",
       " Number of views: 18 \n",
       " Views names: B.cell CD14.Mono CD16.Mono CD4.CTL CD4.Naive CD4.TCM CD4.TEM CD8.Naive CD8.TEM NK Treg cDC2 clinical cytokine gdT neutrophil proteomic complete \n",
       " Number of features (per view): 686 1589 1059 542 473 661 737 397 570 508 364 280 4 66 218 981 490 9625 \n",
       " Number of groups: 1 \n",
       " Groups names: group1 \n",
       " Number of samples (per group): 128 \n",
       " Number of factors: 20 \n"
      ]
     },
     "metadata": {},
     "output_type": "display_data"
    }
   ],
   "source": [
    "model_conc"
   ]
  },
  {
   "cell_type": "code",
   "execution_count": null,
   "id": "9b2766b1-3128-45b2-9719-6d883a46d729",
   "metadata": {},
   "outputs": [],
   "source": []
  },
  {
   "cell_type": "markdown",
   "id": "fa56b7a6-ed4d-47e8-9efa-cc660d8e25ae",
   "metadata": {},
   "source": [
    "# Prepare pathway data"
   ]
  },
  {
   "cell_type": "code",
   "execution_count": 616,
   "id": "03649331-a544-4e1d-be63-43461a7300eb",
   "metadata": {},
   "outputs": [],
   "source": [
    "### Prepare the pathway data to use for the enrichment"
   ]
  },
  {
   "cell_type": "code",
   "execution_count": 617,
   "id": "1f307813-471a-4643-aac5-88f9f1a5d5fc",
   "metadata": {},
   "outputs": [
    {
     "data": {
      "text/html": [
       "<table class=\"dataframe\">\n",
       "<caption>A data.frame: 2 x 3</caption>\n",
       "<thead>\n",
       "\t<tr><th></th><th scope=col>ID</th><th scope=col>gene</th><th scope=col>pathway_name</th></tr>\n",
       "\t<tr><th></th><th scope=col>&lt;chr&gt;</th><th scope=col>&lt;chr&gt;</th><th scope=col>&lt;chr&gt;</th></tr>\n",
       "</thead>\n",
       "<tbody>\n",
       "\t<tr><th scope=row>1</th><td>R-HSA-1059683</td><td>JAK1 </td><td>Interleukin-6 signaling</td></tr>\n",
       "\t<tr><th scope=row>2</th><td>R-HSA-1059683</td><td>STAT1</td><td>Interleukin-6 signaling</td></tr>\n",
       "</tbody>\n",
       "</table>\n"
      ],
      "text/latex": [
       "A data.frame: 2 x 3\n",
       "\\begin{tabular}{r|lll}\n",
       "  & ID & gene & pathway\\_name\\\\\n",
       "  & <chr> & <chr> & <chr>\\\\\n",
       "\\hline\n",
       "\t1 & R-HSA-1059683 & JAK1  & Interleukin-6 signaling\\\\\n",
       "\t2 & R-HSA-1059683 & STAT1 & Interleukin-6 signaling\\\\\n",
       "\\end{tabular}\n"
      ],
      "text/markdown": [
       "\n",
       "A data.frame: 2 x 3\n",
       "\n",
       "| <!--/--> | ID &lt;chr&gt; | gene &lt;chr&gt; | pathway_name &lt;chr&gt; |\n",
       "|---|---|---|---|\n",
       "| 1 | R-HSA-1059683 | JAK1  | Interleukin-6 signaling |\n",
       "| 2 | R-HSA-1059683 | STAT1 | Interleukin-6 signaling |\n",
       "\n"
      ],
      "text/plain": [
       "  ID            gene  pathway_name           \n",
       "1 R-HSA-1059683 JAK1  Interleukin-6 signaling\n",
       "2 R-HSA-1059683 STAT1 Interleukin-6 signaling"
      ]
     },
     "metadata": {},
     "output_type": "display_data"
    }
   ],
   "source": [
    "head(pathways,2)"
   ]
  },
  {
   "cell_type": "markdown",
   "id": "80fe97f2-6c73-441a-bcb7-74ea08223baa",
   "metadata": {},
   "source": [
    "## Filter pathways out based on coverage"
   ]
  },
  {
   "cell_type": "code",
   "execution_count": 618,
   "id": "6d4a622f-bdfc-4868-a36a-3dedd09c143c",
   "metadata": {},
   "outputs": [],
   "source": [
    "## get all features included in the MOFA model\n",
    "mofa_genes = data.frame(gene = unique(feature_weights_long$gene), is_feature = 1)"
   ]
  },
  {
   "cell_type": "code",
   "execution_count": 619,
   "id": "1b52630c-66cb-4d1f-a7d4-a323a0130f17",
   "metadata": {},
   "outputs": [
    {
     "data": {
      "text/html": [
       "<table class=\"dataframe\">\n",
       "<caption>A data.frame: 2 x 2</caption>\n",
       "<thead>\n",
       "\t<tr><th></th><th scope=col>gene</th><th scope=col>is_feature</th></tr>\n",
       "\t<tr><th></th><th scope=col>&lt;chr&gt;</th><th scope=col>&lt;dbl&gt;</th></tr>\n",
       "</thead>\n",
       "<tbody>\n",
       "\t<tr><th scope=row>1</th><td>ACTB </td><td>1</td></tr>\n",
       "\t<tr><th scope=row>2</th><td>ACTG1</td><td>1</td></tr>\n",
       "</tbody>\n",
       "</table>\n"
      ],
      "text/latex": [
       "A data.frame: 2 x 2\n",
       "\\begin{tabular}{r|ll}\n",
       "  & gene & is\\_feature\\\\\n",
       "  & <chr> & <dbl>\\\\\n",
       "\\hline\n",
       "\t1 & ACTB  & 1\\\\\n",
       "\t2 & ACTG1 & 1\\\\\n",
       "\\end{tabular}\n"
      ],
      "text/markdown": [
       "\n",
       "A data.frame: 2 x 2\n",
       "\n",
       "| <!--/--> | gene &lt;chr&gt; | is_feature &lt;dbl&gt; |\n",
       "|---|---|---|\n",
       "| 1 | ACTB  | 1 |\n",
       "| 2 | ACTG1 | 1 |\n",
       "\n"
      ],
      "text/plain": [
       "  gene  is_feature\n",
       "1 ACTB  1         \n",
       "2 ACTG1 1         "
      ]
     },
     "metadata": {},
     "output_type": "display_data"
    }
   ],
   "source": [
    "head(mofa_genes,2)"
   ]
  },
  {
   "cell_type": "code",
   "execution_count": 620,
   "id": "d5a1ffd9-1884-4885-8994-1e0bc28fc8ef",
   "metadata": {},
   "outputs": [],
   "source": [
    "### Merge features within mofa model to pathways\n",
    "feature_set = merge(pathways, mofa_genes, all.x = TRUE)  "
   ]
  },
  {
   "cell_type": "code",
   "execution_count": 621,
   "id": "eb6f38e6-336f-4ac1-8fae-ab70f6672ea7",
   "metadata": {},
   "outputs": [
    {
     "data": {
      "text/html": [
       "<table class=\"dataframe\">\n",
       "<caption>A data.frame: 2 x 4</caption>\n",
       "<thead>\n",
       "\t<tr><th></th><th scope=col>gene</th><th scope=col>ID</th><th scope=col>pathway_name</th><th scope=col>is_feature</th></tr>\n",
       "\t<tr><th></th><th scope=col>&lt;chr&gt;</th><th scope=col>&lt;chr&gt;</th><th scope=col>&lt;chr&gt;</th><th scope=col>&lt;dbl&gt;</th></tr>\n",
       "</thead>\n",
       "<tbody>\n",
       "\t<tr><th scope=row>1</th><td>A1BG</td><td>R-HSA-168256 </td><td>Immune System           </td><td>1</td></tr>\n",
       "\t<tr><th scope=row>2</th><td>A1BG</td><td>R-HSA-6798695</td><td>Neutrophil degranulation</td><td>1</td></tr>\n",
       "</tbody>\n",
       "</table>\n"
      ],
      "text/latex": [
       "A data.frame: 2 x 4\n",
       "\\begin{tabular}{r|llll}\n",
       "  & gene & ID & pathway\\_name & is\\_feature\\\\\n",
       "  & <chr> & <chr> & <chr> & <dbl>\\\\\n",
       "\\hline\n",
       "\t1 & A1BG & R-HSA-168256  & Immune System            & 1\\\\\n",
       "\t2 & A1BG & R-HSA-6798695 & Neutrophil degranulation & 1\\\\\n",
       "\\end{tabular}\n"
      ],
      "text/markdown": [
       "\n",
       "A data.frame: 2 x 4\n",
       "\n",
       "| <!--/--> | gene &lt;chr&gt; | ID &lt;chr&gt; | pathway_name &lt;chr&gt; | is_feature &lt;dbl&gt; |\n",
       "|---|---|---|---|---|\n",
       "| 1 | A1BG | R-HSA-168256  | Immune System            | 1 |\n",
       "| 2 | A1BG | R-HSA-6798695 | Neutrophil degranulation | 1 |\n",
       "\n"
      ],
      "text/plain": [
       "  gene ID            pathway_name             is_feature\n",
       "1 A1BG R-HSA-168256  Immune System            1         \n",
       "2 A1BG R-HSA-6798695 Neutrophil degranulation 1         "
      ]
     },
     "metadata": {},
     "output_type": "display_data"
    }
   ],
   "source": [
    "head(feature_set,2)"
   ]
  },
  {
   "cell_type": "code",
   "execution_count": 622,
   "id": "1b48c474-4c44-40d7-bc4a-f781e4f050e1",
   "metadata": {},
   "outputs": [
    {
     "name": "stderr",
     "output_type": "stream",
     "text": [
      "\u001b[1m\u001b[22m`summarise()` has grouped output by 'ID'. You can override using the `.groups` argument.\n",
      "\u001b[1m\u001b[22m`summarise()` has grouped output by 'ID'. You can override using the `.groups` argument.\n"
     ]
    },
    {
     "data": {
      "text/html": [
       "17"
      ],
      "text/latex": [
       "17"
      ],
      "text/markdown": [
       "17"
      ],
      "text/plain": [
       "[1] 17"
      ]
     },
     "metadata": {},
     "output_type": "display_data"
    }
   ],
   "source": [
    "### Remove pathways for which we have not a high amount of genes in our data (coverage_par)\n",
    "filter = feature_set %>% group_by(ID, pathway_name) %>% summarise(gene_amount = n(),matched_amount = sum(!is.na(is_feature)),  coverage = sum(!is.na(is_feature)) / n()) %>% filter(coverage >=  coverage_par)\n",
    "\n",
    "### Get the pathways that have been filtered out because of to low coverage\n",
    "filtered_pathways = feature_set %>% group_by(ID, pathway_name) %>% summarise(gene_amount = n(),matched_amount = sum(!is.na(is_feature)),  coverage = sum(!is.na(is_feature)) / n()) %>% filter(coverage <  coverage_par)\n",
    "nrow(filtered_pathways)  # amount of pathways that have een filtred out"
   ]
  },
  {
   "cell_type": "code",
   "execution_count": 623,
   "id": "9bf88e3a-aa32-4e33-aa23-6442f9fdff1d",
   "metadata": {
    "tags": []
   },
   "outputs": [
    {
     "data": {
      "text/html": [
       "<table class=\"dataframe\">\n",
       "<caption>A grouped_df: 2 x 5</caption>\n",
       "<thead>\n",
       "\t<tr><th scope=col>ID</th><th scope=col>pathway_name</th><th scope=col>gene_amount</th><th scope=col>matched_amount</th><th scope=col>coverage</th></tr>\n",
       "\t<tr><th scope=col>&lt;chr&gt;</th><th scope=col>&lt;chr&gt;</th><th scope=col>&lt;int&gt;</th><th scope=col>&lt;int&gt;</th><th scope=col>&lt;dbl&gt;</th></tr>\n",
       "</thead>\n",
       "<tbody>\n",
       "\t<tr><td>R-HSA-1059683</td><td>Interleukin-6 signaling                             </td><td> 15</td><td>11</td><td>0.7333333</td></tr>\n",
       "\t<tr><td>R-HSA-1168372</td><td>Downstream signaling events of B Cell Receptor (BCR)</td><td>101</td><td>39</td><td>0.3861386</td></tr>\n",
       "</tbody>\n",
       "</table>\n"
      ],
      "text/latex": [
       "A grouped\\_df: 2 x 5\n",
       "\\begin{tabular}{lllll}\n",
       " ID & pathway\\_name & gene\\_amount & matched\\_amount & coverage\\\\\n",
       " <chr> & <chr> & <int> & <int> & <dbl>\\\\\n",
       "\\hline\n",
       "\t R-HSA-1059683 & Interleukin-6 signaling                              &  15 & 11 & 0.7333333\\\\\n",
       "\t R-HSA-1168372 & Downstream signaling events of B Cell Receptor (BCR) & 101 & 39 & 0.3861386\\\\\n",
       "\\end{tabular}\n"
      ],
      "text/markdown": [
       "\n",
       "A grouped_df: 2 x 5\n",
       "\n",
       "| ID &lt;chr&gt; | pathway_name &lt;chr&gt; | gene_amount &lt;int&gt; | matched_amount &lt;int&gt; | coverage &lt;dbl&gt; |\n",
       "|---|---|---|---|---|\n",
       "| R-HSA-1059683 | Interleukin-6 signaling                              |  15 | 11 | 0.7333333 |\n",
       "| R-HSA-1168372 | Downstream signaling events of B Cell Receptor (BCR) | 101 | 39 | 0.3861386 |\n",
       "\n"
      ],
      "text/plain": [
       "  ID            pathway_name                                        \n",
       "1 R-HSA-1059683 Interleukin-6 signaling                             \n",
       "2 R-HSA-1168372 Downstream signaling events of B Cell Receptor (BCR)\n",
       "  gene_amount matched_amount coverage \n",
       "1  15         11             0.7333333\n",
       "2 101         39             0.3861386"
      ]
     },
     "metadata": {},
     "output_type": "display_data"
    }
   ],
   "source": [
    "head(filter,2)"
   ]
  },
  {
   "cell_type": "code",
   "execution_count": 624,
   "id": "75d6214a-da9e-45c2-be09-5fb2bfcb12e1",
   "metadata": {
    "tags": []
   },
   "outputs": [],
   "source": [
    "feature_set = merge(feature_set, filter)"
   ]
  },
  {
   "cell_type": "code",
   "execution_count": 625,
   "id": "e8d5e187-ecc3-4f86-97f4-d86afa5888af",
   "metadata": {},
   "outputs": [
    {
     "data": {
      "text/html": [
       "<table class=\"dataframe\">\n",
       "<caption>A grouped_df: 15 x 5</caption>\n",
       "<thead>\n",
       "\t<tr><th scope=col>ID</th><th scope=col>pathway_name</th><th scope=col>gene_amount</th><th scope=col>matched_amount</th><th scope=col>coverage</th></tr>\n",
       "\t<tr><th scope=col>&lt;chr&gt;</th><th scope=col>&lt;chr&gt;</th><th scope=col>&lt;int&gt;</th><th scope=col>&lt;int&gt;</th><th scope=col>&lt;dbl&gt;</th></tr>\n",
       "</thead>\n",
       "<tbody>\n",
       "\t<tr><td>R-HSA-1170546</td><td>Prolactin receptor signaling                                                        </td><td>21</td><td>3</td><td>0.1428571</td></tr>\n",
       "\t<tr><td>R-HSA-1461957</td><td>Beta defensins                                                                      </td><td>40</td><td>2</td><td>0.0500000</td></tr>\n",
       "\t<tr><td>R-HSA-1461973</td><td>Defensins                                                                           </td><td>50</td><td>6</td><td>0.1200000</td></tr>\n",
       "\t<tr><td>R-HSA-1606322</td><td>ZBP1(DAI) mediated induction of type I IFNs                                         </td><td>24</td><td>4</td><td>0.1666667</td></tr>\n",
       "\t<tr><td>R-HSA-1606341</td><td>IRF3 mediated activation of type 1 IFN                                              </td><td> 8</td><td>0</td><td>0.0000000</td></tr>\n",
       "\t<tr><td>R-HSA-199920 </td><td>CREB phosphorylation                                                                </td><td> 7</td><td>1</td><td>0.1428571</td></tr>\n",
       "\t<tr><td>R-HSA-3248023</td><td>Regulation by TREX1                                                                 </td><td> 1</td><td>0</td><td>0.0000000</td></tr>\n",
       "\t<tr><td>R-HSA-450321 </td><td>JNK (c-Jun kinases) phosphorylation and  activation mediated by activated human TAK1</td><td>23</td><td>3</td><td>0.1304348</td></tr>\n",
       "\t<tr><td>R-HSA-5669034</td><td>TNFs bind their physiological receptors                                             </td><td>29</td><td>4</td><td>0.1379310</td></tr>\n",
       "\t<tr><td>R-HSA-8851680</td><td>Butyrophilin (BTN) family interactions                                              </td><td>12</td><td>0</td><td>0.0000000</td></tr>\n",
       "\t<tr><td>R-HSA-8983711</td><td>OAS antiviral response                                                              </td><td> 9</td><td>1</td><td>0.1111111</td></tr>\n",
       "\t<tr><td>R-HSA-9007892</td><td>Interleukin-38 signaling                                                            </td><td> 4</td><td>0</td><td>0.0000000</td></tr>\n",
       "\t<tr><td>R-HSA-9013957</td><td>TLR3-mediated TICAM1-dependent programmed cell death                                </td><td> 6</td><td>1</td><td>0.1666667</td></tr>\n",
       "\t<tr><td>R-HSA-9014826</td><td>Interleukin-36 pathway                                                              </td><td> 7</td><td>1</td><td>0.1428571</td></tr>\n",
       "\t<tr><td>R-HSA-933541 </td><td>TRAF6 mediated IRF7 activation                                                      </td><td>29</td><td>4</td><td>0.1379310</td></tr>\n",
       "</tbody>\n",
       "</table>\n"
      ],
      "text/latex": [
       "A grouped\\_df: 15 x 5\n",
       "\\begin{tabular}{lllll}\n",
       " ID & pathway\\_name & gene\\_amount & matched\\_amount & coverage\\\\\n",
       " <chr> & <chr> & <int> & <int> & <dbl>\\\\\n",
       "\\hline\n",
       "\t R-HSA-1170546 & Prolactin receptor signaling                                                         & 21 & 3 & 0.1428571\\\\\n",
       "\t R-HSA-1461957 & Beta defensins                                                                       & 40 & 2 & 0.0500000\\\\\n",
       "\t R-HSA-1461973 & Defensins                                                                            & 50 & 6 & 0.1200000\\\\\n",
       "\t R-HSA-1606322 & ZBP1(DAI) mediated induction of type I IFNs                                          & 24 & 4 & 0.1666667\\\\\n",
       "\t R-HSA-1606341 & IRF3 mediated activation of type 1 IFN                                               &  8 & 0 & 0.0000000\\\\\n",
       "\t R-HSA-199920  & CREB phosphorylation                                                                 &  7 & 1 & 0.1428571\\\\\n",
       "\t R-HSA-3248023 & Regulation by TREX1                                                                  &  1 & 0 & 0.0000000\\\\\n",
       "\t R-HSA-450321  & JNK (c-Jun kinases) phosphorylation and  activation mediated by activated human TAK1 & 23 & 3 & 0.1304348\\\\\n",
       "\t R-HSA-5669034 & TNFs bind their physiological receptors                                              & 29 & 4 & 0.1379310\\\\\n",
       "\t R-HSA-8851680 & Butyrophilin (BTN) family interactions                                               & 12 & 0 & 0.0000000\\\\\n",
       "\t R-HSA-8983711 & OAS antiviral response                                                               &  9 & 1 & 0.1111111\\\\\n",
       "\t R-HSA-9007892 & Interleukin-38 signaling                                                             &  4 & 0 & 0.0000000\\\\\n",
       "\t R-HSA-9013957 & TLR3-mediated TICAM1-dependent programmed cell death                                 &  6 & 1 & 0.1666667\\\\\n",
       "\t R-HSA-9014826 & Interleukin-36 pathway                                                               &  7 & 1 & 0.1428571\\\\\n",
       "\t R-HSA-933541  & TRAF6 mediated IRF7 activation                                                       & 29 & 4 & 0.1379310\\\\\n",
       "\\end{tabular}\n"
      ],
      "text/markdown": [
       "\n",
       "A grouped_df: 15 x 5\n",
       "\n",
       "| ID &lt;chr&gt; | pathway_name &lt;chr&gt; | gene_amount &lt;int&gt; | matched_amount &lt;int&gt; | coverage &lt;dbl&gt; |\n",
       "|---|---|---|---|---|\n",
       "| R-HSA-1170546 | Prolactin receptor signaling                                                         | 21 | 3 | 0.1428571 |\n",
       "| R-HSA-1461957 | Beta defensins                                                                       | 40 | 2 | 0.0500000 |\n",
       "| R-HSA-1461973 | Defensins                                                                            | 50 | 6 | 0.1200000 |\n",
       "| R-HSA-1606322 | ZBP1(DAI) mediated induction of type I IFNs                                          | 24 | 4 | 0.1666667 |\n",
       "| R-HSA-1606341 | IRF3 mediated activation of type 1 IFN                                               |  8 | 0 | 0.0000000 |\n",
       "| R-HSA-199920  | CREB phosphorylation                                                                 |  7 | 1 | 0.1428571 |\n",
       "| R-HSA-3248023 | Regulation by TREX1                                                                  |  1 | 0 | 0.0000000 |\n",
       "| R-HSA-450321  | JNK (c-Jun kinases) phosphorylation and  activation mediated by activated human TAK1 | 23 | 3 | 0.1304348 |\n",
       "| R-HSA-5669034 | TNFs bind their physiological receptors                                              | 29 | 4 | 0.1379310 |\n",
       "| R-HSA-8851680 | Butyrophilin (BTN) family interactions                                               | 12 | 0 | 0.0000000 |\n",
       "| R-HSA-8983711 | OAS antiviral response                                                               |  9 | 1 | 0.1111111 |\n",
       "| R-HSA-9007892 | Interleukin-38 signaling                                                             |  4 | 0 | 0.0000000 |\n",
       "| R-HSA-9013957 | TLR3-mediated TICAM1-dependent programmed cell death                                 |  6 | 1 | 0.1666667 |\n",
       "| R-HSA-9014826 | Interleukin-36 pathway                                                               |  7 | 1 | 0.1428571 |\n",
       "| R-HSA-933541  | TRAF6 mediated IRF7 activation                                                       | 29 | 4 | 0.1379310 |\n",
       "\n"
      ],
      "text/plain": [
       "   ID           \n",
       "1  R-HSA-1170546\n",
       "2  R-HSA-1461957\n",
       "3  R-HSA-1461973\n",
       "4  R-HSA-1606322\n",
       "5  R-HSA-1606341\n",
       "6  R-HSA-199920 \n",
       "7  R-HSA-3248023\n",
       "8  R-HSA-450321 \n",
       "9  R-HSA-5669034\n",
       "10 R-HSA-8851680\n",
       "11 R-HSA-8983711\n",
       "12 R-HSA-9007892\n",
       "13 R-HSA-9013957\n",
       "14 R-HSA-9014826\n",
       "15 R-HSA-933541 \n",
       "   pathway_name                                                                        \n",
       "1  Prolactin receptor signaling                                                        \n",
       "2  Beta defensins                                                                      \n",
       "3  Defensins                                                                           \n",
       "4  ZBP1(DAI) mediated induction of type I IFNs                                         \n",
       "5  IRF3 mediated activation of type 1 IFN                                              \n",
       "6  CREB phosphorylation                                                                \n",
       "7  Regulation by TREX1                                                                 \n",
       "8  JNK (c-Jun kinases) phosphorylation and  activation mediated by activated human TAK1\n",
       "9  TNFs bind their physiological receptors                                             \n",
       "10 Butyrophilin (BTN) family interactions                                              \n",
       "11 OAS antiviral response                                                              \n",
       "12 Interleukin-38 signaling                                                            \n",
       "13 TLR3-mediated TICAM1-dependent programmed cell death                                \n",
       "14 Interleukin-36 pathway                                                              \n",
       "15 TRAF6 mediated IRF7 activation                                                      \n",
       "   gene_amount matched_amount coverage \n",
       "1  21          3              0.1428571\n",
       "2  40          2              0.0500000\n",
       "3  50          6              0.1200000\n",
       "4  24          4              0.1666667\n",
       "5   8          0              0.0000000\n",
       "6   7          1              0.1428571\n",
       "7   1          0              0.0000000\n",
       "8  23          3              0.1304348\n",
       "9  29          4              0.1379310\n",
       "10 12          0              0.0000000\n",
       "11  9          1              0.1111111\n",
       "12  4          0              0.0000000\n",
       "13  6          1              0.1666667\n",
       "14  7          1              0.1428571\n",
       "15 29          4              0.1379310"
      ]
     },
     "metadata": {},
     "output_type": "display_data"
    }
   ],
   "source": [
    "# Overview pathways that have been excluded from testing due to low amount of matching genes\n",
    "head(filtered_pathways,15) "
   ]
  },
  {
   "cell_type": "code",
   "execution_count": 626,
   "id": "c3014e7c-342a-451e-94de-853f50acd626",
   "metadata": {},
   "outputs": [],
   "source": [
    "### Remove NA entries for not mapped genes in feature set"
   ]
  },
  {
   "cell_type": "code",
   "execution_count": 627,
   "id": "146410de-7428-47e2-bd55-49f0b98ff3bf",
   "metadata": {},
   "outputs": [
    {
     "data": {
      "text/html": [
       "<table class=\"dataframe\">\n",
       "<caption>A data.frame: 2 x 7</caption>\n",
       "<thead>\n",
       "\t<tr><th></th><th scope=col>ID</th><th scope=col>pathway_name</th><th scope=col>gene</th><th scope=col>is_feature</th><th scope=col>gene_amount</th><th scope=col>matched_amount</th><th scope=col>coverage</th></tr>\n",
       "\t<tr><th></th><th scope=col>&lt;chr&gt;</th><th scope=col>&lt;chr&gt;</th><th scope=col>&lt;chr&gt;</th><th scope=col>&lt;dbl&gt;</th><th scope=col>&lt;int&gt;</th><th scope=col>&lt;int&gt;</th><th scope=col>&lt;dbl&gt;</th></tr>\n",
       "</thead>\n",
       "<tbody>\n",
       "\t<tr><th scope=row>1</th><td>R-HSA-1059683</td><td>Interleukin-6 signaling</td><td>PTPN11</td><td>NA</td><td>15</td><td>11</td><td>0.7333333</td></tr>\n",
       "\t<tr><th scope=row>2</th><td>R-HSA-1059683</td><td>Interleukin-6 signaling</td><td>IL6R  </td><td> 1</td><td>15</td><td>11</td><td>0.7333333</td></tr>\n",
       "</tbody>\n",
       "</table>\n"
      ],
      "text/latex": [
       "A data.frame: 2 x 7\n",
       "\\begin{tabular}{r|lllllll}\n",
       "  & ID & pathway\\_name & gene & is\\_feature & gene\\_amount & matched\\_amount & coverage\\\\\n",
       "  & <chr> & <chr> & <chr> & <dbl> & <int> & <int> & <dbl>\\\\\n",
       "\\hline\n",
       "\t1 & R-HSA-1059683 & Interleukin-6 signaling & PTPN11 & NA & 15 & 11 & 0.7333333\\\\\n",
       "\t2 & R-HSA-1059683 & Interleukin-6 signaling & IL6R   &  1 & 15 & 11 & 0.7333333\\\\\n",
       "\\end{tabular}\n"
      ],
      "text/markdown": [
       "\n",
       "A data.frame: 2 x 7\n",
       "\n",
       "| <!--/--> | ID &lt;chr&gt; | pathway_name &lt;chr&gt; | gene &lt;chr&gt; | is_feature &lt;dbl&gt; | gene_amount &lt;int&gt; | matched_amount &lt;int&gt; | coverage &lt;dbl&gt; |\n",
       "|---|---|---|---|---|---|---|---|\n",
       "| 1 | R-HSA-1059683 | Interleukin-6 signaling | PTPN11 | NA | 15 | 11 | 0.7333333 |\n",
       "| 2 | R-HSA-1059683 | Interleukin-6 signaling | IL6R   |  1 | 15 | 11 | 0.7333333 |\n",
       "\n"
      ],
      "text/plain": [
       "  ID            pathway_name            gene   is_feature gene_amount\n",
       "1 R-HSA-1059683 Interleukin-6 signaling PTPN11 NA         15         \n",
       "2 R-HSA-1059683 Interleukin-6 signaling IL6R    1         15         \n",
       "  matched_amount coverage \n",
       "1 11             0.7333333\n",
       "2 11             0.7333333"
      ]
     },
     "metadata": {},
     "output_type": "display_data"
    }
   ],
   "source": [
    "head(feature_set,2)"
   ]
  },
  {
   "cell_type": "code",
   "execution_count": 628,
   "id": "b2adb74e-debb-4cb3-850e-c68f395b1660",
   "metadata": {},
   "outputs": [],
   "source": [
    "feature_set = feature_set[!is.na(feature_set$is_feature),]"
   ]
  },
  {
   "cell_type": "code",
   "execution_count": 629,
   "id": "1df77c8e-4ca0-417b-82ed-596f4da1f27b",
   "metadata": {},
   "outputs": [
    {
     "data": {
      "text/html": [
       "5564"
      ],
      "text/latex": [
       "5564"
      ],
      "text/markdown": [
       "5564"
      ],
      "text/plain": [
       "[1] 5564"
      ]
     },
     "metadata": {},
     "output_type": "display_data"
    }
   ],
   "source": [
    "nrow(feature_set)"
   ]
  },
  {
   "cell_type": "code",
   "execution_count": 630,
   "id": "9ae60ad7-c0d2-4d23-92bb-2728d0aea93d",
   "metadata": {},
   "outputs": [
    {
     "data": {
      "text/html": [
       "<table class=\"dataframe\">\n",
       "<caption>A data.frame: 2 x 7</caption>\n",
       "<thead>\n",
       "\t<tr><th></th><th scope=col>ID</th><th scope=col>pathway_name</th><th scope=col>gene</th><th scope=col>is_feature</th><th scope=col>gene_amount</th><th scope=col>matched_amount</th><th scope=col>coverage</th></tr>\n",
       "\t<tr><th></th><th scope=col>&lt;chr&gt;</th><th scope=col>&lt;chr&gt;</th><th scope=col>&lt;chr&gt;</th><th scope=col>&lt;dbl&gt;</th><th scope=col>&lt;int&gt;</th><th scope=col>&lt;int&gt;</th><th scope=col>&lt;dbl&gt;</th></tr>\n",
       "</thead>\n",
       "<tbody>\n",
       "\t<tr><th scope=row>2</th><td>R-HSA-1059683</td><td>Interleukin-6 signaling</td><td>IL6R</td><td>1</td><td>15</td><td>11</td><td>0.7333333</td></tr>\n",
       "\t<tr><th scope=row>3</th><td>R-HSA-1059683</td><td>Interleukin-6 signaling</td><td>JAK1</td><td>1</td><td>15</td><td>11</td><td>0.7333333</td></tr>\n",
       "</tbody>\n",
       "</table>\n"
      ],
      "text/latex": [
       "A data.frame: 2 x 7\n",
       "\\begin{tabular}{r|lllllll}\n",
       "  & ID & pathway\\_name & gene & is\\_feature & gene\\_amount & matched\\_amount & coverage\\\\\n",
       "  & <chr> & <chr> & <chr> & <dbl> & <int> & <int> & <dbl>\\\\\n",
       "\\hline\n",
       "\t2 & R-HSA-1059683 & Interleukin-6 signaling & IL6R & 1 & 15 & 11 & 0.7333333\\\\\n",
       "\t3 & R-HSA-1059683 & Interleukin-6 signaling & JAK1 & 1 & 15 & 11 & 0.7333333\\\\\n",
       "\\end{tabular}\n"
      ],
      "text/markdown": [
       "\n",
       "A data.frame: 2 x 7\n",
       "\n",
       "| <!--/--> | ID &lt;chr&gt; | pathway_name &lt;chr&gt; | gene &lt;chr&gt; | is_feature &lt;dbl&gt; | gene_amount &lt;int&gt; | matched_amount &lt;int&gt; | coverage &lt;dbl&gt; |\n",
       "|---|---|---|---|---|---|---|---|\n",
       "| 2 | R-HSA-1059683 | Interleukin-6 signaling | IL6R | 1 | 15 | 11 | 0.7333333 |\n",
       "| 3 | R-HSA-1059683 | Interleukin-6 signaling | JAK1 | 1 | 15 | 11 | 0.7333333 |\n",
       "\n"
      ],
      "text/plain": [
       "  ID            pathway_name            gene is_feature gene_amount\n",
       "2 R-HSA-1059683 Interleukin-6 signaling IL6R 1          15         \n",
       "3 R-HSA-1059683 Interleukin-6 signaling JAK1 1          15         \n",
       "  matched_amount coverage \n",
       "2 11             0.7333333\n",
       "3 11             0.7333333"
      ]
     },
     "metadata": {},
     "output_type": "display_data"
    }
   ],
   "source": [
    "head(feature_set,2)"
   ]
  },
  {
   "cell_type": "code",
   "execution_count": 631,
   "id": "2c07ab49-dfd9-4f6f-861a-cbfc8364fcd3",
   "metadata": {},
   "outputs": [],
   "source": [
    "### Save coverage for later usage\n",
    "coverage_info = unique(feature_set[,c('ID', 'pathway_name', 'coverage')])"
   ]
  },
  {
   "cell_type": "code",
   "execution_count": null,
   "id": "98400d4f-3ec8-40df-8c4d-dc74bda48e73",
   "metadata": {},
   "outputs": [],
   "source": []
  },
  {
   "cell_type": "code",
   "execution_count": 632,
   "id": "b0b1ae77-74ea-4c54-ae66-50743120a01e",
   "metadata": {},
   "outputs": [],
   "source": [
    "### Get genes that are not mapped / and add a not mapped pathway to use them in the background later\n",
    "# (this is for including all features that are in the MOFA model in the enrichment analysis, either as belonging to a pathway or only being part of the background set)"
   ]
  },
  {
   "cell_type": "code",
   "execution_count": 633,
   "id": "935abc0f-9ee2-4d15-a711-7267c98e3847",
   "metadata": {},
   "outputs": [],
   "source": [
    "non_pathway_genes = unique(mofa_genes$gene[!mofa_genes$gene %in% unique(feature_set$gene)])"
   ]
  },
  {
   "cell_type": "code",
   "execution_count": 634,
   "id": "db769bb8-f36e-4b66-ada1-823c6943c6d6",
   "metadata": {},
   "outputs": [],
   "source": [
    "add_pathway = data.frame(ID = 'Background', pathway_name = 'Background', gene = non_pathway_genes, \n",
    "                         is_feature = 1, gene_amount = length(non_pathway_genes), matched_amount =  length(non_pathway_genes),\n",
    "                         coverage = 1)"
   ]
  },
  {
   "cell_type": "code",
   "execution_count": 635,
   "id": "3dcaf535-ee54-4a3c-b9fa-91e6639e6ddd",
   "metadata": {},
   "outputs": [],
   "source": [
    "feature_set = rbind(feature_set, add_pathway)"
   ]
  },
  {
   "cell_type": "code",
   "execution_count": null,
   "id": "4c29eae3-ba43-4960-82ae-3ce710d83414",
   "metadata": {},
   "outputs": [],
   "source": []
  },
  {
   "cell_type": "markdown",
   "id": "1e7e623b-f046-47c8-ba44-76e2503c7abc",
   "metadata": {},
   "source": [
    "## Transform to binary matrix format"
   ]
  },
  {
   "cell_type": "code",
   "execution_count": 636,
   "id": "944ca9ca-db06-4709-a318-13a92d652527",
   "metadata": {},
   "outputs": [],
   "source": [
    "### Transform the pathway feature set to a binary matrix format (1 indicating that a certain feature belongs to the pathway; 0 that it does not)"
   ]
  },
  {
   "cell_type": "code",
   "execution_count": 637,
   "id": "1ac2c0be-f5ae-40d7-a5c0-8471f76921aa",
   "metadata": {},
   "outputs": [
    {
     "data": {
      "text/html": [
       "<table class=\"dataframe\">\n",
       "<caption>A data.frame: 2 x 7</caption>\n",
       "<thead>\n",
       "\t<tr><th></th><th scope=col>ID</th><th scope=col>pathway_name</th><th scope=col>gene</th><th scope=col>is_feature</th><th scope=col>gene_amount</th><th scope=col>matched_amount</th><th scope=col>coverage</th></tr>\n",
       "\t<tr><th></th><th scope=col>&lt;chr&gt;</th><th scope=col>&lt;chr&gt;</th><th scope=col>&lt;chr&gt;</th><th scope=col>&lt;dbl&gt;</th><th scope=col>&lt;int&gt;</th><th scope=col>&lt;int&gt;</th><th scope=col>&lt;dbl&gt;</th></tr>\n",
       "</thead>\n",
       "<tbody>\n",
       "\t<tr><th scope=row>2</th><td>R-HSA-1059683</td><td>Interleukin-6 signaling</td><td>IL6R</td><td>1</td><td>15</td><td>11</td><td>0.7333333</td></tr>\n",
       "\t<tr><th scope=row>3</th><td>R-HSA-1059683</td><td>Interleukin-6 signaling</td><td>JAK1</td><td>1</td><td>15</td><td>11</td><td>0.7333333</td></tr>\n",
       "</tbody>\n",
       "</table>\n"
      ],
      "text/latex": [
       "A data.frame: 2 x 7\n",
       "\\begin{tabular}{r|lllllll}\n",
       "  & ID & pathway\\_name & gene & is\\_feature & gene\\_amount & matched\\_amount & coverage\\\\\n",
       "  & <chr> & <chr> & <chr> & <dbl> & <int> & <int> & <dbl>\\\\\n",
       "\\hline\n",
       "\t2 & R-HSA-1059683 & Interleukin-6 signaling & IL6R & 1 & 15 & 11 & 0.7333333\\\\\n",
       "\t3 & R-HSA-1059683 & Interleukin-6 signaling & JAK1 & 1 & 15 & 11 & 0.7333333\\\\\n",
       "\\end{tabular}\n"
      ],
      "text/markdown": [
       "\n",
       "A data.frame: 2 x 7\n",
       "\n",
       "| <!--/--> | ID &lt;chr&gt; | pathway_name &lt;chr&gt; | gene &lt;chr&gt; | is_feature &lt;dbl&gt; | gene_amount &lt;int&gt; | matched_amount &lt;int&gt; | coverage &lt;dbl&gt; |\n",
       "|---|---|---|---|---|---|---|---|\n",
       "| 2 | R-HSA-1059683 | Interleukin-6 signaling | IL6R | 1 | 15 | 11 | 0.7333333 |\n",
       "| 3 | R-HSA-1059683 | Interleukin-6 signaling | JAK1 | 1 | 15 | 11 | 0.7333333 |\n",
       "\n"
      ],
      "text/plain": [
       "  ID            pathway_name            gene is_feature gene_amount\n",
       "2 R-HSA-1059683 Interleukin-6 signaling IL6R 1          15         \n",
       "3 R-HSA-1059683 Interleukin-6 signaling JAK1 1          15         \n",
       "  matched_amount coverage \n",
       "2 11             0.7333333\n",
       "3 11             0.7333333"
      ]
     },
     "metadata": {},
     "output_type": "display_data"
    }
   ],
   "source": [
    "head(feature_set,2)"
   ]
  },
  {
   "cell_type": "code",
   "execution_count": 638,
   "id": "d7b37e6d-f59f-42fe-b287-2c7760bb147b",
   "metadata": {},
   "outputs": [],
   "source": [
    "feature_set$pathway_id = paste0(feature_set$ID, '_', feature_set$pathway_name)"
   ]
  },
  {
   "cell_type": "code",
   "execution_count": 639,
   "id": "3a65c879-1c8b-4483-bf6f-867d6c41529f",
   "metadata": {},
   "outputs": [],
   "source": [
    "feature_set$value = 1"
   ]
  },
  {
   "cell_type": "code",
   "execution_count": 640,
   "id": "422b00a6-56c2-4702-8785-b585a9bc2cec",
   "metadata": {},
   "outputs": [],
   "source": [
    "### Adjust names for overall approach (concatenate gene names with cell-types and match to pathways)"
   ]
  },
  {
   "cell_type": "code",
   "execution_count": 641,
   "id": "93eb6290-2d0a-49fe-b1f5-fc14e79b5219",
   "metadata": {},
   "outputs": [],
   "source": [
    "feature_weights_long_mapped_join = unique(feature_weights_long[,c('gene', 'variable_name')])"
   ]
  },
  {
   "cell_type": "code",
   "execution_count": 642,
   "id": "db7b5b36-c929-4cfc-9c07-2cb89b2c6fd8",
   "metadata": {},
   "outputs": [
    {
     "data": {
      "text/html": [
       "<table class=\"dataframe\">\n",
       "<caption>A data.frame: 2 x 2</caption>\n",
       "<thead>\n",
       "\t<tr><th></th><th scope=col>gene</th><th scope=col>variable_name</th></tr>\n",
       "\t<tr><th></th><th scope=col>&lt;chr&gt;</th><th scope=col>&lt;chr&gt;</th></tr>\n",
       "</thead>\n",
       "<tbody>\n",
       "\t<tr><th scope=row>1</th><td>ACTB </td><td>B.cell__ACTB </td></tr>\n",
       "\t<tr><th scope=row>2</th><td>ACTG1</td><td>B.cell__ACTG1</td></tr>\n",
       "</tbody>\n",
       "</table>\n"
      ],
      "text/latex": [
       "A data.frame: 2 x 2\n",
       "\\begin{tabular}{r|ll}\n",
       "  & gene & variable\\_name\\\\\n",
       "  & <chr> & <chr>\\\\\n",
       "\\hline\n",
       "\t1 & ACTB  & B.cell\\_\\_ACTB \\\\\n",
       "\t2 & ACTG1 & B.cell\\_\\_ACTG1\\\\\n",
       "\\end{tabular}\n"
      ],
      "text/markdown": [
       "\n",
       "A data.frame: 2 x 2\n",
       "\n",
       "| <!--/--> | gene &lt;chr&gt; | variable_name &lt;chr&gt; |\n",
       "|---|---|---|\n",
       "| 1 | ACTB  | B.cell__ACTB  |\n",
       "| 2 | ACTG1 | B.cell__ACTG1 |\n",
       "\n"
      ],
      "text/plain": [
       "  gene  variable_name\n",
       "1 ACTB  B.cell__ACTB \n",
       "2 ACTG1 B.cell__ACTG1"
      ]
     },
     "metadata": {},
     "output_type": "display_data"
    }
   ],
   "source": [
    "head(feature_weights_long_mapped_join,2)"
   ]
  },
  {
   "cell_type": "code",
   "execution_count": 643,
   "id": "c3341be4-994f-4090-8b67-4a8f6623dfb5",
   "metadata": {},
   "outputs": [],
   "source": [
    "feature_set_all = merge(feature_set, feature_weights_long_mapped_join, by.x = 'gene', by.y = 'gene')"
   ]
  },
  {
   "cell_type": "code",
   "execution_count": 644,
   "id": "115be6a6-de7c-4f86-8d37-67399d5038e1",
   "metadata": {},
   "outputs": [
    {
     "data": {
      "text/html": [
       "31719"
      ],
      "text/latex": [
       "31719"
      ],
      "text/markdown": [
       "31719"
      ],
      "text/plain": [
       "[1] 31719"
      ]
     },
     "metadata": {},
     "output_type": "display_data"
    }
   ],
   "source": [
    "nrow(feature_set_all)"
   ]
  },
  {
   "cell_type": "code",
   "execution_count": 645,
   "id": "d2685fc3-48d5-48bd-8d44-2748496d3750",
   "metadata": {},
   "outputs": [],
   "source": [
    "### Binarize feature set to use in type-specific enrichment"
   ]
  },
  {
   "cell_type": "code",
   "execution_count": 646,
   "id": "b0dd4fff-470c-498d-95dd-c71acccb7ecf",
   "metadata": {},
   "outputs": [],
   "source": [
    "## Based on gene-name for overall enrichment\n",
    "\n",
    "feature_set = unique(feature_set[,c('pathway_id', 'gene', 'value')]) %>% dcast(pathway_id ~ gene, value.var = 'value')\n",
    "feature_set[is.na(feature_set)]= 0"
   ]
  },
  {
   "cell_type": "code",
   "execution_count": 647,
   "id": "44e7a0cc-99c6-4f31-be40-41854ea44927",
   "metadata": {},
   "outputs": [
    {
     "data": {
      "text/html": [
       "<table class=\"dataframe\">\n",
       "<caption>A data.frame: 2 x 2677</caption>\n",
       "<thead>\n",
       "\t<tr><th></th><th scope=col>pathway_id</th><th scope=col>A1BG</th><th scope=col>A2M</th><th scope=col>AAK1</th><th scope=col>AATK</th><th scope=col>ABCA7</th><th scope=col>ABHD17A</th><th scope=col>ABHD2</th><th scope=col>ABHD5</th><th scope=col>ABI1</th><th scope=col>...</th><th scope=col>ZNF467</th><th scope=col>ZNF511.PRAP1</th><th scope=col>ZNF706</th><th scope=col>ZNFX1</th><th scope=col>ZNHIT1</th><th scope=col>ZRANB2</th><th scope=col>ZSWIM6</th><th scope=col>ZYX</th><th scope=col>hCG</th><th scope=col>sCD40L</th></tr>\n",
       "\t<tr><th></th><th scope=col>&lt;chr&gt;</th><th scope=col>&lt;dbl&gt;</th><th scope=col>&lt;dbl&gt;</th><th scope=col>&lt;dbl&gt;</th><th scope=col>&lt;dbl&gt;</th><th scope=col>&lt;dbl&gt;</th><th scope=col>&lt;dbl&gt;</th><th scope=col>&lt;dbl&gt;</th><th scope=col>&lt;dbl&gt;</th><th scope=col>&lt;dbl&gt;</th><th scope=col>...</th><th scope=col>&lt;dbl&gt;</th><th scope=col>&lt;dbl&gt;</th><th scope=col>&lt;dbl&gt;</th><th scope=col>&lt;dbl&gt;</th><th scope=col>&lt;dbl&gt;</th><th scope=col>&lt;dbl&gt;</th><th scope=col>&lt;dbl&gt;</th><th scope=col>&lt;dbl&gt;</th><th scope=col>&lt;dbl&gt;</th><th scope=col>&lt;dbl&gt;</th></tr>\n",
       "</thead>\n",
       "<tbody>\n",
       "\t<tr><th scope=row>1</th><td>Background_Background                </td><td>0</td><td>1</td><td>1</td><td>1</td><td>1</td><td>1</td><td>1</td><td>1</td><td>0</td><td>...</td><td>1</td><td>1</td><td>1</td><td>1</td><td>1</td><td>1</td><td>1</td><td>1</td><td>1</td><td>1</td></tr>\n",
       "\t<tr><th scope=row>2</th><td>R-HSA-1059683_Interleukin-6 signaling</td><td>0</td><td>0</td><td>0</td><td>0</td><td>0</td><td>0</td><td>0</td><td>0</td><td>0</td><td>...</td><td>0</td><td>0</td><td>0</td><td>0</td><td>0</td><td>0</td><td>0</td><td>0</td><td>0</td><td>0</td></tr>\n",
       "</tbody>\n",
       "</table>\n"
      ],
      "text/latex": [
       "A data.frame: 2 x 2677\n",
       "\\begin{tabular}{r|lllllllllllllllllllll}\n",
       "  & pathway\\_id & A1BG & A2M & AAK1 & AATK & ABCA7 & ABHD17A & ABHD2 & ABHD5 & ABI1 & ... & ZNF467 & ZNF511.PRAP1 & ZNF706 & ZNFX1 & ZNHIT1 & ZRANB2 & ZSWIM6 & ZYX & hCG & sCD40L\\\\\n",
       "  & <chr> & <dbl> & <dbl> & <dbl> & <dbl> & <dbl> & <dbl> & <dbl> & <dbl> & <dbl> & ... & <dbl> & <dbl> & <dbl> & <dbl> & <dbl> & <dbl> & <dbl> & <dbl> & <dbl> & <dbl>\\\\\n",
       "\\hline\n",
       "\t1 & Background\\_Background                 & 0 & 1 & 1 & 1 & 1 & 1 & 1 & 1 & 0 & ... & 1 & 1 & 1 & 1 & 1 & 1 & 1 & 1 & 1 & 1\\\\\n",
       "\t2 & R-HSA-1059683\\_Interleukin-6 signaling & 0 & 0 & 0 & 0 & 0 & 0 & 0 & 0 & 0 & ... & 0 & 0 & 0 & 0 & 0 & 0 & 0 & 0 & 0 & 0\\\\\n",
       "\\end{tabular}\n"
      ],
      "text/markdown": [
       "\n",
       "A data.frame: 2 x 2677\n",
       "\n",
       "| <!--/--> | pathway_id &lt;chr&gt; | A1BG &lt;dbl&gt; | A2M &lt;dbl&gt; | AAK1 &lt;dbl&gt; | AATK &lt;dbl&gt; | ABCA7 &lt;dbl&gt; | ABHD17A &lt;dbl&gt; | ABHD2 &lt;dbl&gt; | ABHD5 &lt;dbl&gt; | ABI1 &lt;dbl&gt; | ... ... | ZNF467 &lt;dbl&gt; | ZNF511.PRAP1 &lt;dbl&gt; | ZNF706 &lt;dbl&gt; | ZNFX1 &lt;dbl&gt; | ZNHIT1 &lt;dbl&gt; | ZRANB2 &lt;dbl&gt; | ZSWIM6 &lt;dbl&gt; | ZYX &lt;dbl&gt; | hCG &lt;dbl&gt; | sCD40L &lt;dbl&gt; |\n",
       "|---|---|---|---|---|---|---|---|---|---|---|---|---|---|---|---|---|---|---|---|---|---|\n",
       "| 1 | Background_Background                 | 0 | 1 | 1 | 1 | 1 | 1 | 1 | 1 | 0 | ... | 1 | 1 | 1 | 1 | 1 | 1 | 1 | 1 | 1 | 1 |\n",
       "| 2 | R-HSA-1059683_Interleukin-6 signaling | 0 | 0 | 0 | 0 | 0 | 0 | 0 | 0 | 0 | ... | 0 | 0 | 0 | 0 | 0 | 0 | 0 | 0 | 0 | 0 |\n",
       "\n"
      ],
      "text/plain": [
       "  pathway_id                            A1BG A2M AAK1 AATK ABCA7 ABHD17A ABHD2\n",
       "1 Background_Background                 0    1   1    1    1     1       1    \n",
       "2 R-HSA-1059683_Interleukin-6 signaling 0    0   0    0    0     0       0    \n",
       "  ABHD5 ABI1 ... ZNF467 ZNF511.PRAP1 ZNF706 ZNFX1 ZNHIT1 ZRANB2 ZSWIM6 ZYX hCG\n",
       "1 1     0    ... 1      1            1      1     1      1      1      1   1  \n",
       "2 0     0    ... 0      0            0      0     0      0      0      0   0  \n",
       "  sCD40L\n",
       "1 1     \n",
       "2 0     "
      ]
     },
     "metadata": {},
     "output_type": "display_data"
    }
   ],
   "source": [
    "head(feature_set,2)"
   ]
  },
  {
   "cell_type": "code",
   "execution_count": 648,
   "id": "c3acbc39-84e9-4970-bb45-65f954bf6c6d",
   "metadata": {},
   "outputs": [],
   "source": [
    "### Binarize feature set to use in overall enrichment"
   ]
  },
  {
   "cell_type": "code",
   "execution_count": 649,
   "id": "0e9efb5b-139e-447a-b68a-16c6a227e6ab",
   "metadata": {},
   "outputs": [],
   "source": [
    "feature_set_all = unique(feature_set_all[,c('pathway_id', 'variable_name', 'value')]) %>% dcast(pathway_id ~ variable_name, value.var = 'value')\n",
    "feature_set_all[is.na(feature_set_all)] = 0"
   ]
  },
  {
   "cell_type": "code",
   "execution_count": 650,
   "id": "d0cb106a-277c-406b-a503-083733148b77",
   "metadata": {},
   "outputs": [
    {
     "data": {
      "text/html": [
       "<table class=\"dataframe\">\n",
       "<caption>A data.frame: 2 x 9626</caption>\n",
       "<thead>\n",
       "\t<tr><th></th><th scope=col>pathway_id</th><th scope=col>B.cell__ACTB</th><th scope=col>B.cell__ACTG1</th><th scope=col>B.cell__ACTR2</th><th scope=col>B.cell__ACTR3</th><th scope=col>B.cell__ADD3</th><th scope=col>B.cell__AES</th><th scope=col>B.cell__AFF3</th><th scope=col>B.cell__AHNAK</th><th scope=col>B.cell__AKAP13</th><th scope=col>...</th><th scope=col>proteomic__WWC3_Q9ULE0</th><th scope=col>proteomic__X_A0A0G2JRQ6</th><th scope=col>proteomic__X_A0A0J9YW62</th><th scope=col>proteomic__X_A0A1B0GU03</th><th scope=col>proteomic__X_A0A2R8Y7X9</th><th scope=col>proteomic__X_B4E1Z4</th><th scope=col>proteomic__X_H0YJW9</th><th scope=col>proteomic__YWHAZ_P63104</th><th scope=col>proteomic__ZNF511.PRAP1_H7BY64</th><th scope=col>proteomic__hCG_2039566_A0A0U1RR32</th></tr>\n",
       "\t<tr><th></th><th scope=col>&lt;chr&gt;</th><th scope=col>&lt;dbl&gt;</th><th scope=col>&lt;dbl&gt;</th><th scope=col>&lt;dbl&gt;</th><th scope=col>&lt;dbl&gt;</th><th scope=col>&lt;dbl&gt;</th><th scope=col>&lt;dbl&gt;</th><th scope=col>&lt;dbl&gt;</th><th scope=col>&lt;dbl&gt;</th><th scope=col>&lt;dbl&gt;</th><th scope=col>...</th><th scope=col>&lt;dbl&gt;</th><th scope=col>&lt;dbl&gt;</th><th scope=col>&lt;dbl&gt;</th><th scope=col>&lt;dbl&gt;</th><th scope=col>&lt;dbl&gt;</th><th scope=col>&lt;dbl&gt;</th><th scope=col>&lt;dbl&gt;</th><th scope=col>&lt;dbl&gt;</th><th scope=col>&lt;dbl&gt;</th><th scope=col>&lt;dbl&gt;</th></tr>\n",
       "</thead>\n",
       "<tbody>\n",
       "\t<tr><th scope=row>1</th><td>Background_Background                </td><td>0</td><td>0</td><td>0</td><td>0</td><td>1</td><td>1</td><td>1</td><td>1</td><td>1</td><td>...</td><td>1</td><td>1</td><td>1</td><td>1</td><td>1</td><td>1</td><td>1</td><td>0</td><td>1</td><td>1</td></tr>\n",
       "\t<tr><th scope=row>2</th><td>R-HSA-1059683_Interleukin-6 signaling</td><td>0</td><td>0</td><td>0</td><td>0</td><td>0</td><td>0</td><td>0</td><td>0</td><td>0</td><td>...</td><td>0</td><td>0</td><td>0</td><td>0</td><td>0</td><td>0</td><td>0</td><td>0</td><td>0</td><td>0</td></tr>\n",
       "</tbody>\n",
       "</table>\n"
      ],
      "text/latex": [
       "A data.frame: 2 x 9626\n",
       "\\begin{tabular}{r|lllllllllllllllllllll}\n",
       "  & pathway\\_id & B.cell\\_\\_ACTB & B.cell\\_\\_ACTG1 & B.cell\\_\\_ACTR2 & B.cell\\_\\_ACTR3 & B.cell\\_\\_ADD3 & B.cell\\_\\_AES & B.cell\\_\\_AFF3 & B.cell\\_\\_AHNAK & B.cell\\_\\_AKAP13 & ... & proteomic\\_\\_WWC3\\_Q9ULE0 & proteomic\\_\\_X\\_A0A0G2JRQ6 & proteomic\\_\\_X\\_A0A0J9YW62 & proteomic\\_\\_X\\_A0A1B0GU03 & proteomic\\_\\_X\\_A0A2R8Y7X9 & proteomic\\_\\_X\\_B4E1Z4 & proteomic\\_\\_X\\_H0YJW9 & proteomic\\_\\_YWHAZ\\_P63104 & proteomic\\_\\_ZNF511.PRAP1\\_H7BY64 & proteomic\\_\\_hCG\\_2039566\\_A0A0U1RR32\\\\\n",
       "  & <chr> & <dbl> & <dbl> & <dbl> & <dbl> & <dbl> & <dbl> & <dbl> & <dbl> & <dbl> & ... & <dbl> & <dbl> & <dbl> & <dbl> & <dbl> & <dbl> & <dbl> & <dbl> & <dbl> & <dbl>\\\\\n",
       "\\hline\n",
       "\t1 & Background\\_Background                 & 0 & 0 & 0 & 0 & 1 & 1 & 1 & 1 & 1 & ... & 1 & 1 & 1 & 1 & 1 & 1 & 1 & 0 & 1 & 1\\\\\n",
       "\t2 & R-HSA-1059683\\_Interleukin-6 signaling & 0 & 0 & 0 & 0 & 0 & 0 & 0 & 0 & 0 & ... & 0 & 0 & 0 & 0 & 0 & 0 & 0 & 0 & 0 & 0\\\\\n",
       "\\end{tabular}\n"
      ],
      "text/markdown": [
       "\n",
       "A data.frame: 2 x 9626\n",
       "\n",
       "| <!--/--> | pathway_id &lt;chr&gt; | B.cell__ACTB &lt;dbl&gt; | B.cell__ACTG1 &lt;dbl&gt; | B.cell__ACTR2 &lt;dbl&gt; | B.cell__ACTR3 &lt;dbl&gt; | B.cell__ADD3 &lt;dbl&gt; | B.cell__AES &lt;dbl&gt; | B.cell__AFF3 &lt;dbl&gt; | B.cell__AHNAK &lt;dbl&gt; | B.cell__AKAP13 &lt;dbl&gt; | ... ... | proteomic__WWC3_Q9ULE0 &lt;dbl&gt; | proteomic__X_A0A0G2JRQ6 &lt;dbl&gt; | proteomic__X_A0A0J9YW62 &lt;dbl&gt; | proteomic__X_A0A1B0GU03 &lt;dbl&gt; | proteomic__X_A0A2R8Y7X9 &lt;dbl&gt; | proteomic__X_B4E1Z4 &lt;dbl&gt; | proteomic__X_H0YJW9 &lt;dbl&gt; | proteomic__YWHAZ_P63104 &lt;dbl&gt; | proteomic__ZNF511.PRAP1_H7BY64 &lt;dbl&gt; | proteomic__hCG_2039566_A0A0U1RR32 &lt;dbl&gt; |\n",
       "|---|---|---|---|---|---|---|---|---|---|---|---|---|---|---|---|---|---|---|---|---|---|\n",
       "| 1 | Background_Background                 | 0 | 0 | 0 | 0 | 1 | 1 | 1 | 1 | 1 | ... | 1 | 1 | 1 | 1 | 1 | 1 | 1 | 0 | 1 | 1 |\n",
       "| 2 | R-HSA-1059683_Interleukin-6 signaling | 0 | 0 | 0 | 0 | 0 | 0 | 0 | 0 | 0 | ... | 0 | 0 | 0 | 0 | 0 | 0 | 0 | 0 | 0 | 0 |\n",
       "\n"
      ],
      "text/plain": [
       "  pathway_id                            B.cell__ACTB B.cell__ACTG1\n",
       "1 Background_Background                 0            0            \n",
       "2 R-HSA-1059683_Interleukin-6 signaling 0            0            \n",
       "  B.cell__ACTR2 B.cell__ACTR3 B.cell__ADD3 B.cell__AES B.cell__AFF3\n",
       "1 0             0             1            1           1           \n",
       "2 0             0             0            0           0           \n",
       "  B.cell__AHNAK B.cell__AKAP13 ... proteomic__WWC3_Q9ULE0\n",
       "1 1             1              ... 1                     \n",
       "2 0             0              ... 0                     \n",
       "  proteomic__X_A0A0G2JRQ6 proteomic__X_A0A0J9YW62 proteomic__X_A0A1B0GU03\n",
       "1 1                       1                       1                      \n",
       "2 0                       0                       0                      \n",
       "  proteomic__X_A0A2R8Y7X9 proteomic__X_B4E1Z4 proteomic__X_H0YJW9\n",
       "1 1                       1                   1                  \n",
       "2 0                       0                   0                  \n",
       "  proteomic__YWHAZ_P63104 proteomic__ZNF511.PRAP1_H7BY64\n",
       "1 0                       1                             \n",
       "2 0                       0                             \n",
       "  proteomic__hCG_2039566_A0A0U1RR32\n",
       "1 1                                \n",
       "2 0                                "
      ]
     },
     "metadata": {},
     "output_type": "display_data"
    }
   ],
   "source": [
    "head(feature_set_all,2) # feature set containing only genes"
   ]
  },
  {
   "cell_type": "code",
   "execution_count": 651,
   "id": "8c8d9a42-ccc8-4808-b69a-e48aa709dc96",
   "metadata": {},
   "outputs": [],
   "source": [
    "## Adjust rownames and convert to matrix"
   ]
  },
  {
   "cell_type": "code",
   "execution_count": 652,
   "id": "acc820d1-c4aa-4bd3-ae85-f9cbad2b661c",
   "metadata": {},
   "outputs": [],
   "source": [
    "rownames(feature_set) = feature_set$pathway_id\n",
    "rownames(feature_set_all) = feature_set_all$pathway_id"
   ]
  },
  {
   "cell_type": "code",
   "execution_count": 653,
   "id": "d838e256-c0ab-4b74-b1aa-59eb6a73b406",
   "metadata": {},
   "outputs": [],
   "source": [
    "feature_set$pathway_id = NULL\n",
    "feature_set_all$pathway_id = NULL"
   ]
  },
  {
   "cell_type": "code",
   "execution_count": 654,
   "id": "14fc0d5b-efb1-4c51-badc-1dc2325cd883",
   "metadata": {},
   "outputs": [],
   "source": [
    "feature_set = as.matrix(feature_set)\n",
    "feature_set_all = as.matrix(feature_set_all)"
   ]
  },
  {
   "cell_type": "markdown",
   "id": "fb6a3235-87fc-4125-a940-0b24214ccef6",
   "metadata": {},
   "source": [
    "# Run pathway enrichment"
   ]
  },
  {
   "cell_type": "markdown",
   "id": "4f98ff41-422f-4907-9340-f43b3d14b431",
   "metadata": {},
   "source": [
    "## Per View"
   ]
  },
  {
   "cell_type": "code",
   "execution_count": 655,
   "id": "e4d71242-1f24-42db-97f8-2952f7d61b80",
   "metadata": {
    "tags": []
   },
   "outputs": [],
   "source": [
    "### Filter views_set on relevant views with overlaps to pathway features"
   ]
  },
  {
   "cell_type": "code",
   "execution_count": 656,
   "id": "befd11b9-c992-4634-8710-61ececf7709d",
   "metadata": {
    "tags": []
   },
   "outputs": [
    {
     "data": {
      "text/html": [
       "<style>\n",
       ".list-inline {list-style: none; margin:0; padding: 0}\n",
       ".list-inline>li {display: inline-block}\n",
       ".list-inline>li:not(:last-child)::after {content: \"\\00b7\"; padding: 0 .5ex}\n",
       "</style>\n",
       "<ol class=list-inline><li>'B.cell'</li><li>'CD16.Mono'</li><li>'CD4.CTL'</li><li>'CD4.Naive'</li><li>'CD4.TCM'</li><li>'CD4.TEM'</li><li>'cDC2'</li><li>'gdT'</li><li>'neutrophil'</li><li>'NK'</li><li>'Treg'</li></ol>\n"
      ],
      "text/latex": [
       "\\begin{enumerate*}\n",
       "\\item 'B.cell'\n",
       "\\item 'CD16.Mono'\n",
       "\\item 'CD4.CTL'\n",
       "\\item 'CD4.Naive'\n",
       "\\item 'CD4.TCM'\n",
       "\\item 'CD4.TEM'\n",
       "\\item 'cDC2'\n",
       "\\item 'gdT'\n",
       "\\item 'neutrophil'\n",
       "\\item 'NK'\n",
       "\\item 'Treg'\n",
       "\\end{enumerate*}\n"
      ],
      "text/markdown": [
       "1. 'B.cell'\n",
       "2. 'CD16.Mono'\n",
       "3. 'CD4.CTL'\n",
       "4. 'CD4.Naive'\n",
       "5. 'CD4.TCM'\n",
       "6. 'CD4.TEM'\n",
       "7. 'cDC2'\n",
       "8. 'gdT'\n",
       "9. 'neutrophil'\n",
       "10. 'NK'\n",
       "11. 'Treg'\n",
       "\n",
       "\n"
      ],
      "text/plain": [
       " [1] \"B.cell\"     \"CD16.Mono\"  \"CD4.CTL\"    \"CD4.Naive\"  \"CD4.TCM\"   \n",
       " [6] \"CD4.TEM\"    \"cDC2\"       \"gdT\"        \"neutrophil\" \"NK\"        \n",
       "[11] \"Treg\"      "
      ]
     },
     "metadata": {},
     "output_type": "display_data"
    }
   ],
   "source": [
    "views_set"
   ]
  },
  {
   "cell_type": "code",
   "execution_count": 657,
   "id": "64d15c11-0d56-4172-bd04-91c97455a8f0",
   "metadata": {
    "tags": []
   },
   "outputs": [],
   "source": [
    "views_set = views_set[views_set %in% unique(str_replace(colnames(feature_set_all)[colSums(feature_set_all[rownames(feature_set_all) != 'Background_Background',]) > 5], '__.*', ''))]"
   ]
  },
  {
   "cell_type": "code",
   "execution_count": 658,
   "id": "72b05abb-1a2c-41c4-a5e5-41b521fc802f",
   "metadata": {},
   "outputs": [
    {
     "data": {
      "text/html": [
       "<style>\n",
       ".list-inline {list-style: none; margin:0; padding: 0}\n",
       ".list-inline>li {display: inline-block}\n",
       ".list-inline>li:not(:last-child)::after {content: \"\\00b7\"; padding: 0 .5ex}\n",
       "</style>\n",
       "<ol class=list-inline><li>'B.cell'</li><li>'CD16.Mono'</li><li>'CD4.CTL'</li><li>'CD4.Naive'</li><li>'CD4.TCM'</li><li>'CD4.TEM'</li><li>'cDC2'</li><li>'gdT'</li><li>'neutrophil'</li><li>'NK'</li><li>'Treg'</li></ol>\n"
      ],
      "text/latex": [
       "\\begin{enumerate*}\n",
       "\\item 'B.cell'\n",
       "\\item 'CD16.Mono'\n",
       "\\item 'CD4.CTL'\n",
       "\\item 'CD4.Naive'\n",
       "\\item 'CD4.TCM'\n",
       "\\item 'CD4.TEM'\n",
       "\\item 'cDC2'\n",
       "\\item 'gdT'\n",
       "\\item 'neutrophil'\n",
       "\\item 'NK'\n",
       "\\item 'Treg'\n",
       "\\end{enumerate*}\n"
      ],
      "text/markdown": [
       "1. 'B.cell'\n",
       "2. 'CD16.Mono'\n",
       "3. 'CD4.CTL'\n",
       "4. 'CD4.Naive'\n",
       "5. 'CD4.TCM'\n",
       "6. 'CD4.TEM'\n",
       "7. 'cDC2'\n",
       "8. 'gdT'\n",
       "9. 'neutrophil'\n",
       "10. 'NK'\n",
       "11. 'Treg'\n",
       "\n",
       "\n"
      ],
      "text/plain": [
       " [1] \"B.cell\"     \"CD16.Mono\"  \"CD4.CTL\"    \"CD4.Naive\"  \"CD4.TCM\"   \n",
       " [6] \"CD4.TEM\"    \"cDC2\"       \"gdT\"        \"neutrophil\" \"NK\"        \n",
       "[11] \"Treg\"      "
      ]
     },
     "metadata": {},
     "output_type": "display_data"
    }
   ],
   "source": [
    "views_set"
   ]
  },
  {
   "cell_type": "code",
   "execution_count": 659,
   "id": "837a091e-ceb0-4bb9-8a8d-eb278f1de760",
   "metadata": {},
   "outputs": [],
   "source": [
    "## For each view seperately run the enrichment"
   ]
  },
  {
   "cell_type": "code",
   "execution_count": 660,
   "id": "94629b40-d098-4e87-bd71-0867486d792a",
   "metadata": {
    "tags": []
   },
   "outputs": [
    {
     "name": "stderr",
     "output_type": "stream",
     "text": [
      "Intersecting features names in the model and the gene set annotation results in a total of 686 features.\n",
      "\n",
      "\n",
      "Running feature set Enrichment Analysis with the following options...\n",
      "View: B.cell \n",
      "Number of feature sets: 73 \n",
      "Set statistic: rank.sum \n",
      "Statistical test: parametric \n",
      "\n",
      "\n",
      "\n",
      "\n",
      "\n",
      "Using pathway as id variables\n",
      "\n",
      "Using pathway as id variables\n",
      "\n",
      "Intersecting features names in the model and the gene set annotation results in a total of 686 features.\n",
      "\n",
      "\n",
      "Running feature set Enrichment Analysis with the following options...\n",
      "View: B.cell \n",
      "Number of feature sets: 73 \n",
      "Set statistic: rank.sum \n",
      "Statistical test: parametric \n",
      "\n",
      "\n",
      "Subsetting weights with negative sign\n",
      "\n",
      "\n",
      "\n",
      "\n",
      "Using pathway as id variables\n",
      "\n",
      "Using pathway as id variables\n",
      "\n",
      "Intersecting features names in the model and the gene set annotation results in a total of 686 features.\n",
      "\n",
      "\n",
      "Running feature set Enrichment Analysis with the following options...\n",
      "View: B.cell \n",
      "Number of feature sets: 73 \n",
      "Set statistic: rank.sum \n",
      "Statistical test: parametric \n",
      "\n",
      "\n",
      "Subsetting weights with positive sign\n",
      "\n",
      "\n",
      "\n",
      "\n",
      "Using pathway as id variables\n",
      "\n",
      "Using pathway as id variables\n",
      "\n",
      "Warning message in run_enrichment(model, view = i, factors = factor_set, set.statistic = c(use_statistic), :\n",
      "\"1 features were removed because they had no variance in the data.\n",
      "\"\n",
      "Intersecting features names in the model and the gene set annotation results in a total of 1058 features.\n",
      "\n",
      "\n",
      "Running feature set Enrichment Analysis with the following options...\n",
      "View: CD16.Mono \n",
      "Number of feature sets: 95 \n",
      "Set statistic: rank.sum \n",
      "Statistical test: parametric \n",
      "\n",
      "\n",
      "\n",
      "\n",
      "\n",
      "Using pathway as id variables\n",
      "\n",
      "Using pathway as id variables\n",
      "\n",
      "Warning message in run_enrichment(model, view = i, factors = factor_set, set.statistic = c(use_statistic), :\n",
      "\"1 features were removed because they had no variance in the data.\n",
      "\"\n",
      "Intersecting features names in the model and the gene set annotation results in a total of 1058 features.\n",
      "\n",
      "\n",
      "Running feature set Enrichment Analysis with the following options...\n",
      "View: CD16.Mono \n",
      "Number of feature sets: 95 \n",
      "Set statistic: rank.sum \n",
      "Statistical test: parametric \n",
      "\n",
      "\n",
      "Subsetting weights with negative sign\n",
      "\n",
      "\n",
      "\n",
      "\n",
      "Using pathway as id variables\n",
      "\n",
      "Using pathway as id variables\n",
      "\n",
      "Warning message in run_enrichment(model, view = i, factors = factor_set, set.statistic = c(use_statistic), :\n",
      "\"1 features were removed because they had no variance in the data.\n",
      "\"\n",
      "Intersecting features names in the model and the gene set annotation results in a total of 1058 features.\n",
      "\n",
      "\n",
      "Running feature set Enrichment Analysis with the following options...\n",
      "View: CD16.Mono \n",
      "Number of feature sets: 95 \n",
      "Set statistic: rank.sum \n",
      "Statistical test: parametric \n",
      "\n",
      "\n",
      "Subsetting weights with positive sign\n",
      "\n",
      "\n",
      "\n",
      "\n",
      "Using pathway as id variables\n",
      "\n",
      "Using pathway as id variables\n",
      "\n",
      "Intersecting features names in the model and the gene set annotation results in a total of 542 features.\n",
      "\n",
      "\n",
      "Running feature set Enrichment Analysis with the following options...\n",
      "View: CD4.CTL \n",
      "Number of feature sets: 71 \n",
      "Set statistic: rank.sum \n",
      "Statistical test: parametric \n",
      "\n",
      "\n",
      "\n",
      "\n",
      "\n",
      "Using pathway as id variables\n",
      "\n",
      "Using pathway as id variables\n",
      "\n",
      "Intersecting features names in the model and the gene set annotation results in a total of 542 features.\n",
      "\n",
      "\n",
      "Running feature set Enrichment Analysis with the following options...\n",
      "View: CD4.CTL \n",
      "Number of feature sets: 71 \n",
      "Set statistic: rank.sum \n",
      "Statistical test: parametric \n",
      "\n",
      "\n",
      "Subsetting weights with negative sign\n",
      "\n",
      "\n",
      "\n",
      "\n",
      "Using pathway as id variables\n",
      "\n",
      "Using pathway as id variables\n",
      "\n",
      "Intersecting features names in the model and the gene set annotation results in a total of 542 features.\n",
      "\n",
      "\n",
      "Running feature set Enrichment Analysis with the following options...\n",
      "View: CD4.CTL \n",
      "Number of feature sets: 71 \n",
      "Set statistic: rank.sum \n",
      "Statistical test: parametric \n",
      "\n",
      "\n",
      "Subsetting weights with positive sign\n",
      "\n",
      "\n",
      "\n",
      "\n",
      "Using pathway as id variables\n",
      "\n",
      "Using pathway as id variables\n",
      "\n",
      "Warning message in run_enrichment(model, view = i, factors = factor_set, set.statistic = c(use_statistic), :\n",
      "\"1 features were removed because they had no variance in the data.\n",
      "\"\n",
      "Intersecting features names in the model and the gene set annotation results in a total of 472 features.\n",
      "\n",
      "\n",
      "Running feature set Enrichment Analysis with the following options...\n",
      "View: CD4.Naive \n",
      "Number of feature sets: 66 \n",
      "Set statistic: rank.sum \n",
      "Statistical test: parametric \n",
      "\n",
      "\n",
      "\n",
      "\n",
      "\n",
      "Using pathway as id variables\n",
      "\n",
      "Using pathway as id variables\n",
      "\n",
      "Warning message in run_enrichment(model, view = i, factors = factor_set, set.statistic = c(use_statistic), :\n",
      "\"1 features were removed because they had no variance in the data.\n",
      "\"\n",
      "Intersecting features names in the model and the gene set annotation results in a total of 472 features.\n",
      "\n",
      "\n",
      "Running feature set Enrichment Analysis with the following options...\n",
      "View: CD4.Naive \n",
      "Number of feature sets: 66 \n",
      "Set statistic: rank.sum \n",
      "Statistical test: parametric \n",
      "\n",
      "\n",
      "Subsetting weights with negative sign\n",
      "\n",
      "\n",
      "\n",
      "\n",
      "Using pathway as id variables\n",
      "\n",
      "Using pathway as id variables\n",
      "\n",
      "Warning message in run_enrichment(model, view = i, factors = factor_set, set.statistic = c(use_statistic), :\n",
      "\"1 features were removed because they had no variance in the data.\n",
      "\"\n",
      "Intersecting features names in the model and the gene set annotation results in a total of 472 features.\n",
      "\n",
      "\n",
      "Running feature set Enrichment Analysis with the following options...\n",
      "View: CD4.Naive \n",
      "Number of feature sets: 66 \n",
      "Set statistic: rank.sum \n",
      "Statistical test: parametric \n",
      "\n",
      "\n",
      "Subsetting weights with positive sign\n",
      "\n",
      "\n",
      "\n",
      "\n",
      "Using pathway as id variables\n",
      "\n",
      "Using pathway as id variables\n",
      "\n",
      "Warning message in run_enrichment(model, view = i, factors = factor_set, set.statistic = c(use_statistic), :\n",
      "\"1 features were removed because they had no variance in the data.\n",
      "\"\n",
      "Intersecting features names in the model and the gene set annotation results in a total of 660 features.\n",
      "\n",
      "\n",
      "Running feature set Enrichment Analysis with the following options...\n",
      "View: CD4.TCM \n",
      "Number of feature sets: 81 \n",
      "Set statistic: rank.sum \n",
      "Statistical test: parametric \n",
      "\n",
      "\n",
      "\n",
      "\n",
      "\n",
      "Using pathway as id variables\n",
      "\n",
      "Using pathway as id variables\n",
      "\n",
      "Warning message in run_enrichment(model, view = i, factors = factor_set, set.statistic = c(use_statistic), :\n",
      "\"1 features were removed because they had no variance in the data.\n",
      "\"\n",
      "Intersecting features names in the model and the gene set annotation results in a total of 660 features.\n",
      "\n",
      "\n",
      "Running feature set Enrichment Analysis with the following options...\n",
      "View: CD4.TCM \n",
      "Number of feature sets: 81 \n",
      "Set statistic: rank.sum \n",
      "Statistical test: parametric \n",
      "\n",
      "\n",
      "Subsetting weights with negative sign\n",
      "\n",
      "\n",
      "\n",
      "\n",
      "Using pathway as id variables\n",
      "\n",
      "Using pathway as id variables\n",
      "\n",
      "Warning message in run_enrichment(model, view = i, factors = factor_set, set.statistic = c(use_statistic), :\n",
      "\"1 features were removed because they had no variance in the data.\n",
      "\"\n",
      "Intersecting features names in the model and the gene set annotation results in a total of 660 features.\n",
      "\n",
      "\n",
      "Running feature set Enrichment Analysis with the following options...\n",
      "View: CD4.TCM \n",
      "Number of feature sets: 81 \n",
      "Set statistic: rank.sum \n",
      "Statistical test: parametric \n",
      "\n",
      "\n",
      "Subsetting weights with positive sign\n",
      "\n",
      "\n",
      "\n",
      "\n",
      "Using pathway as id variables\n",
      "\n",
      "Using pathway as id variables\n",
      "\n",
      "Warning message in run_enrichment(model, view = i, factors = factor_set, set.statistic = c(use_statistic), :\n",
      "\"1 features were removed because they had no variance in the data.\n",
      "\"\n",
      "Intersecting features names in the model and the gene set annotation results in a total of 736 features.\n",
      "\n",
      "\n",
      "Running feature set Enrichment Analysis with the following options...\n",
      "View: CD4.TEM \n",
      "Number of feature sets: 82 \n",
      "Set statistic: rank.sum \n",
      "Statistical test: parametric \n",
      "\n",
      "\n",
      "\n",
      "\n",
      "\n",
      "Using pathway as id variables\n",
      "\n",
      "Using pathway as id variables\n",
      "\n",
      "Warning message in run_enrichment(model, view = i, factors = factor_set, set.statistic = c(use_statistic), :\n",
      "\"1 features were removed because they had no variance in the data.\n",
      "\"\n",
      "Intersecting features names in the model and the gene set annotation results in a total of 736 features.\n",
      "\n",
      "\n",
      "Running feature set Enrichment Analysis with the following options...\n",
      "View: CD4.TEM \n",
      "Number of feature sets: 82 \n",
      "Set statistic: rank.sum \n",
      "Statistical test: parametric \n",
      "\n",
      "\n",
      "Subsetting weights with negative sign\n",
      "\n",
      "\n",
      "\n",
      "\n",
      "Using pathway as id variables\n",
      "\n",
      "Using pathway as id variables\n",
      "\n",
      "Warning message in run_enrichment(model, view = i, factors = factor_set, set.statistic = c(use_statistic), :\n",
      "\"1 features were removed because they had no variance in the data.\n",
      "\"\n",
      "Intersecting features names in the model and the gene set annotation results in a total of 736 features.\n",
      "\n",
      "\n",
      "Running feature set Enrichment Analysis with the following options...\n",
      "View: CD4.TEM \n",
      "Number of feature sets: 82 \n",
      "Set statistic: rank.sum \n",
      "Statistical test: parametric \n",
      "\n",
      "\n",
      "Subsetting weights with positive sign\n",
      "\n",
      "\n",
      "\n",
      "\n",
      "Using pathway as id variables\n",
      "\n",
      "Using pathway as id variables\n",
      "\n",
      "Intersecting features names in the model and the gene set annotation results in a total of 280 features.\n",
      "\n",
      "\n",
      "Running feature set Enrichment Analysis with the following options...\n",
      "View: cDC2 \n",
      "Number of feature sets: 58 \n",
      "Set statistic: rank.sum \n",
      "Statistical test: parametric \n",
      "\n",
      "\n",
      "\n",
      "\n",
      "\n",
      "Using pathway as id variables\n",
      "\n",
      "Using pathway as id variables\n",
      "\n",
      "Intersecting features names in the model and the gene set annotation results in a total of 280 features.\n",
      "\n",
      "\n",
      "Running feature set Enrichment Analysis with the following options...\n",
      "View: cDC2 \n",
      "Number of feature sets: 58 \n",
      "Set statistic: rank.sum \n",
      "Statistical test: parametric \n",
      "\n",
      "\n",
      "Subsetting weights with negative sign\n",
      "\n",
      "\n",
      "\n",
      "\n",
      "Using pathway as id variables\n",
      "\n",
      "Using pathway as id variables\n",
      "\n",
      "Intersecting features names in the model and the gene set annotation results in a total of 280 features.\n",
      "\n",
      "\n",
      "Running feature set Enrichment Analysis with the following options...\n",
      "View: cDC2 \n",
      "Number of feature sets: 58 \n",
      "Set statistic: rank.sum \n",
      "Statistical test: parametric \n",
      "\n",
      "\n",
      "Subsetting weights with positive sign\n",
      "\n",
      "\n",
      "\n",
      "\n",
      "Using pathway as id variables\n",
      "\n",
      "Using pathway as id variables\n",
      "\n",
      "Intersecting features names in the model and the gene set annotation results in a total of 218 features.\n",
      "\n",
      "\n",
      "Running feature set Enrichment Analysis with the following options...\n",
      "View: gdT \n",
      "Number of feature sets: 61 \n",
      "Set statistic: rank.sum \n",
      "Statistical test: parametric \n",
      "\n",
      "\n",
      "\n",
      "\n",
      "\n",
      "Using pathway as id variables\n",
      "\n",
      "Using pathway as id variables\n",
      "\n",
      "Intersecting features names in the model and the gene set annotation results in a total of 218 features.\n",
      "\n",
      "\n",
      "Running feature set Enrichment Analysis with the following options...\n",
      "View: gdT \n",
      "Number of feature sets: 61 \n",
      "Set statistic: rank.sum \n",
      "Statistical test: parametric \n",
      "\n",
      "\n",
      "Subsetting weights with negative sign\n",
      "\n",
      "\n",
      "\n",
      "\n",
      "Using pathway as id variables\n",
      "\n",
      "Using pathway as id variables\n",
      "\n",
      "Intersecting features names in the model and the gene set annotation results in a total of 218 features.\n",
      "\n",
      "\n",
      "Running feature set Enrichment Analysis with the following options...\n",
      "View: gdT \n",
      "Number of feature sets: 61 \n",
      "Set statistic: rank.sum \n",
      "Statistical test: parametric \n",
      "\n",
      "\n",
      "Subsetting weights with positive sign\n",
      "\n",
      "\n",
      "\n",
      "\n",
      "Using pathway as id variables\n",
      "\n",
      "Using pathway as id variables\n",
      "\n",
      "Intersecting features names in the model and the gene set annotation results in a total of 980 features.\n",
      "\n",
      "\n",
      "Running feature set Enrichment Analysis with the following options...\n",
      "View: neutrophil \n",
      "Number of feature sets: 87 \n",
      "Set statistic: rank.sum \n",
      "Statistical test: parametric \n",
      "\n",
      "\n",
      "\n",
      "\n",
      "\n",
      "Using pathway as id variables\n",
      "\n",
      "Using pathway as id variables\n",
      "\n",
      "Intersecting features names in the model and the gene set annotation results in a total of 980 features.\n",
      "\n",
      "\n",
      "Running feature set Enrichment Analysis with the following options...\n",
      "View: neutrophil \n",
      "Number of feature sets: 87 \n",
      "Set statistic: rank.sum \n",
      "Statistical test: parametric \n",
      "\n",
      "\n",
      "Subsetting weights with negative sign\n",
      "\n",
      "\n",
      "\n",
      "\n",
      "Using pathway as id variables\n",
      "\n",
      "Using pathway as id variables\n",
      "\n",
      "Intersecting features names in the model and the gene set annotation results in a total of 980 features.\n",
      "\n",
      "\n",
      "Running feature set Enrichment Analysis with the following options...\n",
      "View: neutrophil \n",
      "Number of feature sets: 87 \n",
      "Set statistic: rank.sum \n",
      "Statistical test: parametric \n",
      "\n",
      "\n",
      "Subsetting weights with positive sign\n",
      "\n",
      "\n",
      "\n",
      "\n",
      "Using pathway as id variables\n",
      "\n",
      "Using pathway as id variables\n",
      "\n",
      "Warning message in run_enrichment(model, view = i, factors = factor_set, set.statistic = c(use_statistic), :\n",
      "\"2 features were removed because they had no variance in the data.\n",
      "\"\n",
      "Intersecting features names in the model and the gene set annotation results in a total of 506 features.\n",
      "\n",
      "\n",
      "Running feature set Enrichment Analysis with the following options...\n",
      "View: NK \n",
      "Number of feature sets: 70 \n",
      "Set statistic: rank.sum \n",
      "Statistical test: parametric \n",
      "\n",
      "\n",
      "\n",
      "\n",
      "\n",
      "Using pathway as id variables\n",
      "\n",
      "Using pathway as id variables\n",
      "\n",
      "Warning message in run_enrichment(model, view = i, factors = factor_set, set.statistic = c(use_statistic), :\n",
      "\"2 features were removed because they had no variance in the data.\n",
      "\"\n",
      "Intersecting features names in the model and the gene set annotation results in a total of 506 features.\n",
      "\n",
      "\n",
      "Running feature set Enrichment Analysis with the following options...\n",
      "View: NK \n",
      "Number of feature sets: 70 \n",
      "Set statistic: rank.sum \n",
      "Statistical test: parametric \n",
      "\n",
      "\n",
      "Subsetting weights with negative sign\n",
      "\n",
      "\n",
      "\n",
      "\n",
      "Using pathway as id variables\n",
      "\n",
      "Using pathway as id variables\n",
      "\n",
      "Warning message in run_enrichment(model, view = i, factors = factor_set, set.statistic = c(use_statistic), :\n",
      "\"2 features were removed because they had no variance in the data.\n",
      "\"\n",
      "Intersecting features names in the model and the gene set annotation results in a total of 506 features.\n",
      "\n",
      "\n",
      "Running feature set Enrichment Analysis with the following options...\n",
      "View: NK \n",
      "Number of feature sets: 70 \n",
      "Set statistic: rank.sum \n",
      "Statistical test: parametric \n",
      "\n",
      "\n",
      "Subsetting weights with positive sign\n",
      "\n",
      "\n",
      "\n",
      "\n",
      "Using pathway as id variables\n",
      "\n",
      "Using pathway as id variables\n",
      "\n",
      "Intersecting features names in the model and the gene set annotation results in a total of 364 features.\n",
      "\n",
      "\n",
      "Running feature set Enrichment Analysis with the following options...\n",
      "View: Treg \n",
      "Number of feature sets: 65 \n",
      "Set statistic: rank.sum \n",
      "Statistical test: parametric \n",
      "\n",
      "\n",
      "\n",
      "\n",
      "\n",
      "Using pathway as id variables\n",
      "\n",
      "Using pathway as id variables\n",
      "\n",
      "Intersecting features names in the model and the gene set annotation results in a total of 364 features.\n",
      "\n",
      "\n",
      "Running feature set Enrichment Analysis with the following options...\n",
      "View: Treg \n",
      "Number of feature sets: 65 \n",
      "Set statistic: rank.sum \n",
      "Statistical test: parametric \n",
      "\n",
      "\n",
      "Subsetting weights with negative sign\n",
      "\n",
      "\n",
      "\n",
      "\n",
      "Using pathway as id variables\n",
      "\n",
      "Using pathway as id variables\n",
      "\n",
      "Intersecting features names in the model and the gene set annotation results in a total of 364 features.\n",
      "\n",
      "\n",
      "Running feature set Enrichment Analysis with the following options...\n",
      "View: Treg \n",
      "Number of feature sets: 65 \n",
      "Set statistic: rank.sum \n",
      "Statistical test: parametric \n",
      "\n",
      "\n",
      "Subsetting weights with positive sign\n",
      "\n",
      "\n",
      "\n",
      "\n",
      "Using pathway as id variables\n",
      "\n",
      "Using pathway as id variables\n",
      "\n"
     ]
    }
   ],
   "source": [
    "if(max(views_set) != ''){\n",
    "    enrichment_result_types = run_enrichment_pathway(\n",
    "        model = model, # MOFA Model\n",
    "        factor_set = factor_set, # list of factors for which to run the enrichment\n",
    "        views = views_set,\n",
    "        use_statistic = use_statistic, # which statistic to use\n",
    "        feature_set = feature_set, # Pathway Feature Set mapping; here use without type names\n",
    "        min_size = min_size, # Min size of genes within a pathway\n",
    "        use_test = use_test, # test used for calculating p-value\n",
    "        p_val_cutoff = p_val_cutoff, # p-value cutoff used\n",
    "        enrichment_result_p_val = data.frame())# dataset for saving result \n",
    "    } else{enrichment_result_types = ''}"
   ]
  },
  {
   "cell_type": "code",
   "execution_count": 661,
   "id": "ea4e8238-d4d2-4f08-aa3f-0bdd6d74d98c",
   "metadata": {
    "tags": []
   },
   "outputs": [],
   "source": [
    "# Example of the resulting enrichment table"
   ]
  },
  {
   "cell_type": "code",
   "execution_count": 662,
   "id": "0aa02f16-11fe-4b78-95cb-6518f71e2b4e",
   "metadata": {},
   "outputs": [
    {
     "data": {
      "text/html": [
       "<table class=\"dataframe\">\n",
       "<caption>A data.frame: 5 x 7</caption>\n",
       "<thead>\n",
       "\t<tr><th></th><th scope=col>pathway</th><th scope=col>variable</th><th scope=col>p</th><th scope=col>padj</th><th scope=col>view</th><th scope=col>enrichment</th><th scope=col>global_FDR</th></tr>\n",
       "\t<tr><th></th><th scope=col>&lt;chr&gt;</th><th scope=col>&lt;fct&gt;</th><th scope=col>&lt;dbl&gt;</th><th scope=col>&lt;dbl&gt;</th><th scope=col>&lt;chr&gt;</th><th scope=col>&lt;chr&gt;</th><th scope=col>&lt;dbl&gt;</th></tr>\n",
       "</thead>\n",
       "<tbody>\n",
       "\t<tr><th scope=row>1</th><td>R-HSA-168249_Innate Immune System               </td><td>Factor4</td><td>7.793962e-05</td><td>0.001851066</td><td>CD16.Mono</td><td>negative</td><td>0.2113847</td></tr>\n",
       "\t<tr><th scope=row>2</th><td>R-HSA-168256_Immune System                      </td><td>Factor4</td><td>5.173760e-05</td><td>0.001851066</td><td>CD16.Mono</td><td>negative</td><td>0.2113847</td></tr>\n",
       "\t<tr><th scope=row>3</th><td>R-HSA-6798695_Neutrophil degranulation          </td><td>Factor4</td><td>6.436162e-05</td><td>0.001851066</td><td>CD16.Mono</td><td>negative</td><td>0.2113847</td></tr>\n",
       "\t<tr><th scope=row>4</th><td>Background_Background                           </td><td>Factor2</td><td>8.709710e-05</td><td>0.002645071</td><td>CD4.TEM  </td><td>all     </td><td>0.2113847</td></tr>\n",
       "\t<tr><th scope=row>5</th><td>R-HSA-166016_Toll Like Receptor 4 (TLR4) Cascade</td><td>Factor2</td><td>1.522842e-04</td><td>0.002645071</td><td>CD4.TEM  </td><td>all     </td><td>0.2568186</td></tr>\n",
       "</tbody>\n",
       "</table>\n"
      ],
      "text/latex": [
       "A data.frame: 5 x 7\n",
       "\\begin{tabular}{r|lllllll}\n",
       "  & pathway & variable & p & padj & view & enrichment & global\\_FDR\\\\\n",
       "  & <chr> & <fct> & <dbl> & <dbl> & <chr> & <chr> & <dbl>\\\\\n",
       "\\hline\n",
       "\t1 & R-HSA-168249\\_Innate Immune System                & Factor4 & 7.793962e-05 & 0.001851066 & CD16.Mono & negative & 0.2113847\\\\\n",
       "\t2 & R-HSA-168256\\_Immune System                       & Factor4 & 5.173760e-05 & 0.001851066 & CD16.Mono & negative & 0.2113847\\\\\n",
       "\t3 & R-HSA-6798695\\_Neutrophil degranulation           & Factor4 & 6.436162e-05 & 0.001851066 & CD16.Mono & negative & 0.2113847\\\\\n",
       "\t4 & Background\\_Background                            & Factor2 & 8.709710e-05 & 0.002645071 & CD4.TEM   & all      & 0.2113847\\\\\n",
       "\t5 & R-HSA-166016\\_Toll Like Receptor 4 (TLR4) Cascade & Factor2 & 1.522842e-04 & 0.002645071 & CD4.TEM   & all      & 0.2568186\\\\\n",
       "\\end{tabular}\n"
      ],
      "text/markdown": [
       "\n",
       "A data.frame: 5 x 7\n",
       "\n",
       "| <!--/--> | pathway &lt;chr&gt; | variable &lt;fct&gt; | p &lt;dbl&gt; | padj &lt;dbl&gt; | view &lt;chr&gt; | enrichment &lt;chr&gt; | global_FDR &lt;dbl&gt; |\n",
       "|---|---|---|---|---|---|---|---|\n",
       "| 1 | R-HSA-168249_Innate Immune System                | Factor4 | 7.793962e-05 | 0.001851066 | CD16.Mono | negative | 0.2113847 |\n",
       "| 2 | R-HSA-168256_Immune System                       | Factor4 | 5.173760e-05 | 0.001851066 | CD16.Mono | negative | 0.2113847 |\n",
       "| 3 | R-HSA-6798695_Neutrophil degranulation           | Factor4 | 6.436162e-05 | 0.001851066 | CD16.Mono | negative | 0.2113847 |\n",
       "| 4 | Background_Background                            | Factor2 | 8.709710e-05 | 0.002645071 | CD4.TEM   | all      | 0.2113847 |\n",
       "| 5 | R-HSA-166016_Toll Like Receptor 4 (TLR4) Cascade | Factor2 | 1.522842e-04 | 0.002645071 | CD4.TEM   | all      | 0.2568186 |\n",
       "\n"
      ],
      "text/plain": [
       "  pathway                                          variable p           \n",
       "1 R-HSA-168249_Innate Immune System                Factor4  7.793962e-05\n",
       "2 R-HSA-168256_Immune System                       Factor4  5.173760e-05\n",
       "3 R-HSA-6798695_Neutrophil degranulation           Factor4  6.436162e-05\n",
       "4 Background_Background                            Factor2  8.709710e-05\n",
       "5 R-HSA-166016_Toll Like Receptor 4 (TLR4) Cascade Factor2  1.522842e-04\n",
       "  padj        view      enrichment global_FDR\n",
       "1 0.001851066 CD16.Mono negative   0.2113847 \n",
       "2 0.001851066 CD16.Mono negative   0.2113847 \n",
       "3 0.001851066 CD16.Mono negative   0.2113847 \n",
       "4 0.002645071 CD4.TEM   all        0.2113847 \n",
       "5 0.002645071 CD4.TEM   all        0.2568186 "
      ]
     },
     "metadata": {},
     "output_type": "display_data"
    }
   ],
   "source": [
    "if(is.data.frame(enrichment_result_types)){\n",
    "    head(enrichment_result_types  %>% arrange(padj) ,5)}"
   ]
  },
  {
   "cell_type": "markdown",
   "id": "4abdba54-37fd-4b8a-9ec9-9d1545e7a98d",
   "metadata": {},
   "source": [
    "## Across Views"
   ]
  },
  {
   "cell_type": "code",
   "execution_count": 663,
   "id": "0f67cc10-4eb0-424f-8604-f5c40bc6dae7",
   "metadata": {},
   "outputs": [],
   "source": [
    "## Run an enrichment analysis across all the views"
   ]
  },
  {
   "cell_type": "code",
   "execution_count": 664,
   "id": "aa5ba392-04df-41d6-bbbb-5d611ff0a7a2",
   "metadata": {
    "tags": []
   },
   "outputs": [
    {
     "name": "stderr",
     "output_type": "stream",
     "text": [
      "Warning message in run_enrichment(model, view = i, factors = factor_set, set.statistic = c(use_statistic), :\n",
      "\"7 features were removed because they had no variance in the data.\n",
      "\"\n",
      "Intersecting features names in the model and the gene set annotation results in a total of 9618 features.\n",
      "\n",
      "\n",
      "Running feature set Enrichment Analysis with the following options...\n",
      "View: complete \n",
      "Number of feature sets: 165 \n",
      "Set statistic: rank.sum \n",
      "Statistical test: parametric \n",
      "\n",
      "\n",
      "\n",
      "\n",
      "\n",
      "Using pathway as id variables\n",
      "\n",
      "Using pathway as id variables\n",
      "\n",
      "Warning message in run_enrichment(model, view = i, factors = factor_set, set.statistic = c(use_statistic), :\n",
      "\"7 features were removed because they had no variance in the data.\n",
      "\"\n",
      "Intersecting features names in the model and the gene set annotation results in a total of 9618 features.\n",
      "\n",
      "\n",
      "Running feature set Enrichment Analysis with the following options...\n",
      "View: complete \n",
      "Number of feature sets: 165 \n",
      "Set statistic: rank.sum \n",
      "Statistical test: parametric \n",
      "\n",
      "\n",
      "Subsetting weights with negative sign\n",
      "\n",
      "\n",
      "\n",
      "\n",
      "Using pathway as id variables\n",
      "\n",
      "Using pathway as id variables\n",
      "\n",
      "Warning message in run_enrichment(model, view = i, factors = factor_set, set.statistic = c(use_statistic), :\n",
      "\"7 features were removed because they had no variance in the data.\n",
      "\"\n",
      "Intersecting features names in the model and the gene set annotation results in a total of 9618 features.\n",
      "\n",
      "\n",
      "Running feature set Enrichment Analysis with the following options...\n",
      "View: complete \n",
      "Number of feature sets: 165 \n",
      "Set statistic: rank.sum \n",
      "Statistical test: parametric \n",
      "\n",
      "\n",
      "Subsetting weights with positive sign\n",
      "\n",
      "\n",
      "\n",
      "\n",
      "Using pathway as id variables\n",
      "\n",
      "Using pathway as id variables\n",
      "\n"
     ]
    }
   ],
   "source": [
    "enrichment_result_all = run_enrichment_pathway(\n",
    "    model = model_conc, # MOFA Model\n",
    "    views = 'complete', # dimensions for which to run\n",
    "    factor_set = factor_set, # list of factors for which to run the enrichment\n",
    "    use_statistic = use_statistic, # which statistic to use\n",
    "    feature_set = feature_set_all, # Pathway Feature Set mapping; use the concatenated one with cell-types\n",
    "    min_size = min_size, # Min size of genes within a pathway\n",
    "    use_test = use_test, # test used for calculating p-value\n",
    "    p_val_cutoff = p_val_cutoff, # p-value cutoff used\n",
    "    enrichment_result_p_val = data.frame()) # dataset for saving results"
   ]
  },
  {
   "cell_type": "code",
   "execution_count": 665,
   "id": "cc94b03a-82c3-415d-9a0c-a1c452438226",
   "metadata": {},
   "outputs": [
    {
     "data": {
      "text/html": [
       "<table class=\"dataframe\">\n",
       "<caption>A data.frame: 5 x 7</caption>\n",
       "<thead>\n",
       "\t<tr><th></th><th scope=col>pathway</th><th scope=col>variable</th><th scope=col>p</th><th scope=col>padj</th><th scope=col>view</th><th scope=col>enrichment</th><th scope=col>global_FDR</th></tr>\n",
       "\t<tr><th></th><th scope=col>&lt;chr&gt;</th><th scope=col>&lt;fct&gt;</th><th scope=col>&lt;dbl&gt;</th><th scope=col>&lt;dbl&gt;</th><th scope=col>&lt;chr&gt;</th><th scope=col>&lt;chr&gt;</th><th scope=col>&lt;dbl&gt;</th></tr>\n",
       "</thead>\n",
       "<tbody>\n",
       "\t<tr><th scope=row>1</th><td>R-HSA-168928_DDX58/IFIH1-mediated induction of interferon-alpha/beta      </td><td>Factor1</td><td>4.925678e-19</td><td>8.127369e-17</td><td>complete</td><td>negative</td><td>1.219105e-15</td></tr>\n",
       "\t<tr><th scope=row>2</th><td>R-HSA-1236978_Cross-presentation of soluble exogenous antigens (endosomes)</td><td>Factor1</td><td>1.084224e-16</td><td>1.788969e-14</td><td>complete</td><td>positive</td><td>1.341727e-13</td></tr>\n",
       "\t<tr><th scope=row>3</th><td>R-HSA-1169408_ISG15 antiviral mechanism                                   </td><td>Factor1</td><td>1.065902e-15</td><td>8.054560e-14</td><td>complete</td><td>negative</td><td>8.793692e-13</td></tr>\n",
       "\t<tr><th scope=row>4</th><td>R-HSA-1169410_Antiviral mechanism by IFN-stimulated genes                 </td><td>Factor1</td><td>1.464466e-15</td><td>8.054560e-14</td><td>complete</td><td>negative</td><td>8.841308e-13</td></tr>\n",
       "\t<tr><th scope=row>5</th><td>R-HSA-1222556_ROS and RNS production in phagocytes                        </td><td>Factor1</td><td>9.173615e-15</td><td>1.518779e-13</td><td>complete</td><td>positive</td><td>3.243528e-12</td></tr>\n",
       "</tbody>\n",
       "</table>\n"
      ],
      "text/latex": [
       "A data.frame: 5 x 7\n",
       "\\begin{tabular}{r|lllllll}\n",
       "  & pathway & variable & p & padj & view & enrichment & global\\_FDR\\\\\n",
       "  & <chr> & <fct> & <dbl> & <dbl> & <chr> & <chr> & <dbl>\\\\\n",
       "\\hline\n",
       "\t1 & R-HSA-168928\\_DDX58/IFIH1-mediated induction of interferon-alpha/beta       & Factor1 & 4.925678e-19 & 8.127369e-17 & complete & negative & 1.219105e-15\\\\\n",
       "\t2 & R-HSA-1236978\\_Cross-presentation of soluble exogenous antigens (endosomes) & Factor1 & 1.084224e-16 & 1.788969e-14 & complete & positive & 1.341727e-13\\\\\n",
       "\t3 & R-HSA-1169408\\_ISG15 antiviral mechanism                                    & Factor1 & 1.065902e-15 & 8.054560e-14 & complete & negative & 8.793692e-13\\\\\n",
       "\t4 & R-HSA-1169410\\_Antiviral mechanism by IFN-stimulated genes                  & Factor1 & 1.464466e-15 & 8.054560e-14 & complete & negative & 8.841308e-13\\\\\n",
       "\t5 & R-HSA-1222556\\_ROS and RNS production in phagocytes                         & Factor1 & 9.173615e-15 & 1.518779e-13 & complete & positive & 3.243528e-12\\\\\n",
       "\\end{tabular}\n"
      ],
      "text/markdown": [
       "\n",
       "A data.frame: 5 x 7\n",
       "\n",
       "| <!--/--> | pathway &lt;chr&gt; | variable &lt;fct&gt; | p &lt;dbl&gt; | padj &lt;dbl&gt; | view &lt;chr&gt; | enrichment &lt;chr&gt; | global_FDR &lt;dbl&gt; |\n",
       "|---|---|---|---|---|---|---|---|\n",
       "| 1 | R-HSA-168928_DDX58/IFIH1-mediated induction of interferon-alpha/beta       | Factor1 | 4.925678e-19 | 8.127369e-17 | complete | negative | 1.219105e-15 |\n",
       "| 2 | R-HSA-1236978_Cross-presentation of soluble exogenous antigens (endosomes) | Factor1 | 1.084224e-16 | 1.788969e-14 | complete | positive | 1.341727e-13 |\n",
       "| 3 | R-HSA-1169408_ISG15 antiviral mechanism                                    | Factor1 | 1.065902e-15 | 8.054560e-14 | complete | negative | 8.793692e-13 |\n",
       "| 4 | R-HSA-1169410_Antiviral mechanism by IFN-stimulated genes                  | Factor1 | 1.464466e-15 | 8.054560e-14 | complete | negative | 8.841308e-13 |\n",
       "| 5 | R-HSA-1222556_ROS and RNS production in phagocytes                         | Factor1 | 9.173615e-15 | 1.518779e-13 | complete | positive | 3.243528e-12 |\n",
       "\n"
      ],
      "text/plain": [
       "  pathway                                                                   \n",
       "1 R-HSA-168928_DDX58/IFIH1-mediated induction of interferon-alpha/beta      \n",
       "2 R-HSA-1236978_Cross-presentation of soluble exogenous antigens (endosomes)\n",
       "3 R-HSA-1169408_ISG15 antiviral mechanism                                   \n",
       "4 R-HSA-1169410_Antiviral mechanism by IFN-stimulated genes                 \n",
       "5 R-HSA-1222556_ROS and RNS production in phagocytes                        \n",
       "  variable p            padj         view     enrichment global_FDR  \n",
       "1 Factor1  4.925678e-19 8.127369e-17 complete negative   1.219105e-15\n",
       "2 Factor1  1.084224e-16 1.788969e-14 complete positive   1.341727e-13\n",
       "3 Factor1  1.065902e-15 8.054560e-14 complete negative   8.793692e-13\n",
       "4 Factor1  1.464466e-15 8.054560e-14 complete negative   8.841308e-13\n",
       "5 Factor1  9.173615e-15 1.518779e-13 complete positive   3.243528e-12"
      ]
     },
     "metadata": {},
     "output_type": "display_data"
    }
   ],
   "source": [
    "head(enrichment_result_all %>% arrange(padj) ,5)"
   ]
  },
  {
   "cell_type": "code",
   "execution_count": 666,
   "id": "834d67fe-fa08-4b35-975c-a786cc1ca9b7",
   "metadata": {},
   "outputs": [],
   "source": [
    "### Combine both versions and save the result"
   ]
  },
  {
   "cell_type": "code",
   "execution_count": 667,
   "id": "28d752bc-a098-49c0-9805-27c347c8b3f3",
   "metadata": {},
   "outputs": [],
   "source": [
    "if(is.data.frame(enrichment_result_types)){\n",
    "    enrichment_result = rbind(enrichment_result_all, enrichment_result_types  )\n",
    "    } else{enrichment_result = enrichment_result_all}"
   ]
  },
  {
   "cell_type": "code",
   "execution_count": 668,
   "id": "28861808-af36-4127-9145-45998c0245f0",
   "metadata": {},
   "outputs": [],
   "source": [
    "enrichment_result$ID = str_replace(enrichment_result$pathway, '_.*', '')\n",
    "enrichment_result$pathway_name = str_replace(enrichment_result$pathway, '.*_', '')"
   ]
  },
  {
   "cell_type": "code",
   "execution_count": 669,
   "id": "5a04e82f-7b76-4c02-a645-8f09bfbae1e4",
   "metadata": {},
   "outputs": [],
   "source": [
    "enrichment_result$pathway = NULL"
   ]
  },
  {
   "cell_type": "code",
   "execution_count": 670,
   "id": "d71641e7-aee8-42ef-a2f3-5d6ebcb6f950",
   "metadata": {},
   "outputs": [],
   "source": [
    "enrichment_result = merge(enrichment_result, coverage_info)"
   ]
  },
  {
   "cell_type": "code",
   "execution_count": 671,
   "id": "2cfc86d2-c727-4938-bea1-c060a1fe2a0d",
   "metadata": {},
   "outputs": [],
   "source": [
    "write.csv(enrichment_result, paste0(result_path, '/06_results/06_Pathway_Enrichment_' ,mofa_name, '.csv'), row.names = FALSE)"
   ]
  },
  {
   "cell_type": "markdown",
   "id": "18989ad9-8561-4a4f-925a-f240af0bf135",
   "metadata": {
    "tags": []
   },
   "source": [
    "# Plot interesting pathways"
   ]
  },
  {
   "cell_type": "code",
   "execution_count": 672,
   "id": "db021067-197b-4722-95d1-d843eec949dc",
   "metadata": {},
   "outputs": [],
   "source": [
    "## Plot a subset of the enriched pathways (based on the parameters of the config file)"
   ]
  },
  {
   "cell_type": "code",
   "execution_count": 673,
   "id": "b5368308-dbd7-4ae4-a3b1-c820f4aa80d9",
   "metadata": {},
   "outputs": [
    {
     "data": {
      "text/html": [
       "&lt;NA&gt;"
      ],
      "text/latex": [
       "<NA>"
      ],
      "text/markdown": [
       "&lt;NA&gt;"
      ],
      "text/plain": [
       "[1] NA"
      ]
     },
     "metadata": {},
     "output_type": "display_data"
    }
   ],
   "source": [
    "pathway_selection_var  # specifies whether a specific pathway has been selected in the config file"
   ]
  },
  {
   "cell_type": "code",
   "execution_count": 674,
   "id": "d4453f1c-0d3a-4144-9ea5-63d5ee2caa05",
   "metadata": {},
   "outputs": [],
   "source": [
    "# specifies whether pathways will be displayed based on p-value and coverage thresholds specified in the config file\n",
    "# or specifically selected pathways will be shown\n",
    "if(pathway_selection_var == '' | is.na(pathway_selection_var) ){\n",
    "    pathways_selection = enrichment_result[\n",
    "        (enrichment_result$coverage > coverage_plot) & \n",
    "        (enrichment_result$enrichment == select_enrichment) &\n",
    "        (enrichment_result$global_FDR < p_value_cutoff_plot),] %>%  arrange(padj) %>% group_by(variable) %>% top_n(max_pathways, -padj)\n",
    "    } else{ pathways_selection = enrichment_result[enrichment_result$pathway_name %in% unlist(str_split(pathway_selection_var, ',')),]}"
   ]
  },
  {
   "cell_type": "code",
   "execution_count": 675,
   "id": "52240082-f9a6-4f30-9369-305fe4e42216",
   "metadata": {},
   "outputs": [],
   "source": [
    "## Select the genes of the pathway that have the highest weights on the selected factor"
   ]
  },
  {
   "cell_type": "code",
   "execution_count": 676,
   "id": "118e7e91-7958-48e7-8107-e90963416b52",
   "metadata": {},
   "outputs": [
    {
     "name": "stderr",
     "output_type": "stream",
     "text": [
      "\u001b[1m\u001b[22mSelecting by value\n",
      "\u001b[1m\u001b[22mSelecting by value\n"
     ]
    },
    {
     "data": {
      "text/html": [
       "<table class=\"dataframe\">\n",
       "<caption>A grouped_df: 2 x 7</caption>\n",
       "<thead>\n",
       "\t<tr><th scope=col>type</th><th scope=col>variable_name</th><th scope=col>view</th><th scope=col>gene</th><th scope=col>variable</th><th scope=col>factor_value</th><th scope=col>factor_value_direction</th></tr>\n",
       "\t<tr><th scope=col>&lt;chr&gt;</th><th scope=col>&lt;chr&gt;</th><th scope=col>&lt;chr&gt;</th><th scope=col>&lt;chr&gt;</th><th scope=col>&lt;fct&gt;</th><th scope=col>&lt;dbl&gt;</th><th scope=col>&lt;chr&gt;</th></tr>\n",
       "</thead>\n",
       "<tbody>\n",
       "\t<tr><td>CD4.TCM</td><td>CD4.TCM__GMFG</td><td>CD4.TCM</td><td>GMFG</td><td>Factor1</td><td>0.5732698</td><td>positive</td></tr>\n",
       "\t<tr><td>CD4.TCM</td><td>CD4.TCM__EDF1</td><td>CD4.TCM</td><td>EDF1</td><td>Factor1</td><td>0.5378782</td><td>positive</td></tr>\n",
       "</tbody>\n",
       "</table>\n"
      ],
      "text/latex": [
       "A grouped\\_df: 2 x 7\n",
       "\\begin{tabular}{lllllll}\n",
       " type & variable\\_name & view & gene & variable & factor\\_value & factor\\_value\\_direction\\\\\n",
       " <chr> & <chr> & <chr> & <chr> & <fct> & <dbl> & <chr>\\\\\n",
       "\\hline\n",
       "\t CD4.TCM & CD4.TCM\\_\\_GMFG & CD4.TCM & GMFG & Factor1 & 0.5732698 & positive\\\\\n",
       "\t CD4.TCM & CD4.TCM\\_\\_EDF1 & CD4.TCM & EDF1 & Factor1 & 0.5378782 & positive\\\\\n",
       "\\end{tabular}\n"
      ],
      "text/markdown": [
       "\n",
       "A grouped_df: 2 x 7\n",
       "\n",
       "| type &lt;chr&gt; | variable_name &lt;chr&gt; | view &lt;chr&gt; | gene &lt;chr&gt; | variable &lt;fct&gt; | factor_value &lt;dbl&gt; | factor_value_direction &lt;chr&gt; |\n",
       "|---|---|---|---|---|---|---|\n",
       "| CD4.TCM | CD4.TCM__GMFG | CD4.TCM | GMFG | Factor1 | 0.5732698 | positive |\n",
       "| CD4.TCM | CD4.TCM__EDF1 | CD4.TCM | EDF1 | Factor1 | 0.5378782 | positive |\n",
       "\n"
      ],
      "text/plain": [
       "  type    variable_name view    gene variable factor_value\n",
       "1 CD4.TCM CD4.TCM__GMFG CD4.TCM GMFG Factor1  0.5732698   \n",
       "2 CD4.TCM CD4.TCM__EDF1 CD4.TCM EDF1 Factor1  0.5378782   \n",
       "  factor_value_direction\n",
       "1 positive              \n",
       "2 positive              "
      ]
     },
     "metadata": {},
     "output_type": "display_data"
    }
   ],
   "source": [
    "### Get involved genes\n",
    "\n",
    "## Define gene-set to merge\n",
    "geneset_oi_pos_per_factor = feature_weights_long %>% group_by(variable) %>% arrange( desc(value),  .by_group = TRUE)  %>% top_frac(as.numeric(top_var_thres))\n",
    "geneset_oi_pos_per_factor$direction = 'positive'\n",
    "geneset_oi_neg_per_factor = feature_weights_long %>% group_by(variable) %>% arrange(desc(value),  .by_group = TRUE)  %>% top_frac(-as.numeric(top_var_thres))\n",
    "geneset_oi_neg_per_factor$direction = 'negative'\n",
    "geneset_oi = rbind(geneset_oi_pos_per_factor, geneset_oi_neg_per_factor)\n",
    "\n",
    "colnames(geneset_oi) = c('type', 'variable_name','view',  'gene', 'variable', 'factor_value', 'factor_value_direction')\n",
    "head(geneset_oi,2)"
   ]
  },
  {
   "cell_type": "code",
   "execution_count": 677,
   "id": "94b59daf-1d0d-4e9e-a73d-57c9adc85806",
   "metadata": {},
   "outputs": [],
   "source": [
    "### Merge genes belongig to pathway to enriched pathway sets\n",
    "\n",
    "pathways_vis_genes = merge(pathways_selection, pathways) %>% mutate(pvalue=p, view_text=view, cluster=view, name=pathway_name) %>% dplyr::select(-view)"
   ]
  },
  {
   "cell_type": "code",
   "execution_count": 678,
   "id": "650d5395-8fd7-4292-81be-0b20b80f2f13",
   "metadata": {},
   "outputs": [],
   "source": [
    "### Add the feature weights to the corresponding genes from geneset_oi"
   ]
  },
  {
   "cell_type": "code",
   "execution_count": 679,
   "id": "54521e2f-8f1e-4323-b191-06b708358ccc",
   "metadata": {},
   "outputs": [],
   "source": [
    "pathways_vis_genes = merge(pathways_vis_genes, geneset_oi, by.x = c('gene', 'variable'), by.y = c('gene','variable' ))"
   ]
  },
  {
   "cell_type": "code",
   "execution_count": 680,
   "id": "a7e99cc4-7b0d-4a22-9d77-6aa9efb7896f",
   "metadata": {},
   "outputs": [
    {
     "name": "stderr",
     "output_type": "stream",
     "text": [
      "\u001b[1m\u001b[22m`summarise()` has grouped output by 'gene', 'variable', 'pathway_name', 'ID', 'name', 'cluster'. You can override\n",
      "using the `.groups` argument.\n"
     ]
    }
   ],
   "source": [
    "### Summarise to get max/ mean factor value of each gene per pathway (remove cell-cluster/view/type dimension)  --> tBD max or mean (for max --> absolute value?)\n",
    "\n",
    "pathways_vis_genes_summarized = pathways_vis_genes %>% group_by(gene ,variable,  pathway_name, ID, name, cluster ,view) %>% summarise(factor_value = mean(factor_value), enrichment_type = paste0(unique(enrichment), collapse = '&'), pvalue = min(pvalue))"
   ]
  },
  {
   "cell_type": "code",
   "execution_count": 681,
   "id": "2e5894a5-a557-49cf-9583-92697e679b73",
   "metadata": {},
   "outputs": [
    {
     "data": {
      "text/html": [
       "<table class=\"dataframe\">\n",
       "<caption>A grouped_df: 2 x 10</caption>\n",
       "<thead>\n",
       "\t<tr><th scope=col>gene</th><th scope=col>variable</th><th scope=col>pathway_name</th><th scope=col>ID</th><th scope=col>name</th><th scope=col>cluster</th><th scope=col>view</th><th scope=col>factor_value</th><th scope=col>enrichment_type</th><th scope=col>pvalue</th></tr>\n",
       "\t<tr><th scope=col>&lt;chr&gt;</th><th scope=col>&lt;fct&gt;</th><th scope=col>&lt;chr&gt;</th><th scope=col>&lt;chr&gt;</th><th scope=col>&lt;chr&gt;</th><th scope=col>&lt;chr&gt;</th><th scope=col>&lt;chr&gt;</th><th scope=col>&lt;dbl&gt;</th><th scope=col>&lt;chr&gt;</th><th scope=col>&lt;dbl&gt;</th></tr>\n",
       "</thead>\n",
       "<tbody>\n",
       "\t<tr><td>C3   </td><td>Factor3</td><td>Alternative complement activation</td><td>R-HSA-173736</td><td>Alternative complement activation</td><td>complete</td><td>proteomic</td><td>-0.4621188</td><td>positive</td><td>0.002495833</td></tr>\n",
       "\t<tr><td>C5AR1</td><td>Factor4</td><td>Complement cascade               </td><td>R-HSA-166658</td><td>Complement cascade               </td><td>complete</td><td>CD14.Mono</td><td> 0.2539385</td><td>positive</td><td>0.001239171</td></tr>\n",
       "</tbody>\n",
       "</table>\n"
      ],
      "text/latex": [
       "A grouped\\_df: 2 x 10\n",
       "\\begin{tabular}{llllllllll}\n",
       " gene & variable & pathway\\_name & ID & name & cluster & view & factor\\_value & enrichment\\_type & pvalue\\\\\n",
       " <chr> & <fct> & <chr> & <chr> & <chr> & <chr> & <chr> & <dbl> & <chr> & <dbl>\\\\\n",
       "\\hline\n",
       "\t C3    & Factor3 & Alternative complement activation & R-HSA-173736 & Alternative complement activation & complete & proteomic & -0.4621188 & positive & 0.002495833\\\\\n",
       "\t C5AR1 & Factor4 & Complement cascade                & R-HSA-166658 & Complement cascade                & complete & CD14.Mono &  0.2539385 & positive & 0.001239171\\\\\n",
       "\\end{tabular}\n"
      ],
      "text/markdown": [
       "\n",
       "A grouped_df: 2 x 10\n",
       "\n",
       "| gene &lt;chr&gt; | variable &lt;fct&gt; | pathway_name &lt;chr&gt; | ID &lt;chr&gt; | name &lt;chr&gt; | cluster &lt;chr&gt; | view &lt;chr&gt; | factor_value &lt;dbl&gt; | enrichment_type &lt;chr&gt; | pvalue &lt;dbl&gt; |\n",
       "|---|---|---|---|---|---|---|---|---|---|\n",
       "| C3    | Factor3 | Alternative complement activation | R-HSA-173736 | Alternative complement activation | complete | proteomic | -0.4621188 | positive | 0.002495833 |\n",
       "| C5AR1 | Factor4 | Complement cascade                | R-HSA-166658 | Complement cascade                | complete | CD14.Mono |  0.2539385 | positive | 0.001239171 |\n",
       "\n"
      ],
      "text/plain": [
       "  gene  variable pathway_name                      ID          \n",
       "1 C3    Factor3  Alternative complement activation R-HSA-173736\n",
       "2 C5AR1 Factor4  Complement cascade                R-HSA-166658\n",
       "  name                              cluster  view      factor_value\n",
       "1 Alternative complement activation complete proteomic -0.4621188  \n",
       "2 Complement cascade                complete CD14.Mono  0.2539385  \n",
       "  enrichment_type pvalue     \n",
       "1 positive        0.002495833\n",
       "2 positive        0.001239171"
      ]
     },
     "metadata": {},
     "output_type": "display_data"
    }
   ],
   "source": [
    "head(pathways_vis_genes_summarized,2)"
   ]
  },
  {
   "cell_type": "code",
   "execution_count": 682,
   "id": "3f7fad8f-f5a4-4e8c-a59c-807e28e38565",
   "metadata": {},
   "outputs": [],
   "source": [
    "### Plot the pathways with summarized gene values"
   ]
  },
  {
   "cell_type": "code",
   "execution_count": 683,
   "id": "893814e5-9298-46d6-988f-61eeec026525",
   "metadata": {},
   "outputs": [],
   "source": [
    "pathways_sum_plot = list()"
   ]
  },
  {
   "cell_type": "code",
   "execution_count": 684,
   "id": "c9ac9527-78c9-48b2-8ef3-fd8ac1ee2ad7",
   "metadata": {},
   "outputs": [],
   "source": [
    "for(i in unique(pathways_vis_genes_summarized$variable)){\n",
    "\n",
    "    xlabel = xlab('Gene') \n",
    "    ylabel = ylab('Pathway')\n",
    "    \n",
    "    pathways_sum_plot[[i]] = ggplot(pathways_vis_genes_summarized[pathways_vis_genes_summarized$variable == i,], aes(gene,  pathway_name, fill= factor_value)) + \n",
    "        plot_config_heatmap + \n",
    "        geom_tile() + \n",
    "        scale_fill_gradient2(low = \"#1D2ED8\", mid = \"white\", high = \"#D8911D\", midpoint = 0)  + \n",
    "        scale_x_discrete(position = \"top\") +\n",
    "        theme(axis.text.x = element_text(angle = 90), axis.title.x = element_blank(), axis.text.y = element_text(hjust = 0, vjust = 0.5)) +\n",
    "        xlabel +\n",
    "        ylabel +  scale_y_discrete(labels = label_wrap(50))+\n",
    "        ggtitle(paste0(i, ' values of pathway genes (top ', top_var_thres  * 2 *100, '% of features)'))\n",
    "    }"
   ]
  },
  {
   "cell_type": "code",
   "execution_count": 685,
   "id": "7a75f244-225e-42fb-8458-004fb24e6f75",
   "metadata": {},
   "outputs": [],
   "source": [
    "options(repr.plot.width=20, repr.plot.height=10)\n",
    "#pathways_sum_plot[[i]] +  scale_y_discrete(labels = label_wrap(25))"
   ]
  },
  {
   "cell_type": "code",
   "execution_count": 686,
   "id": "bc8fa8ea-db7e-41cc-80f1-33a034235a66",
   "metadata": {},
   "outputs": [],
   "source": [
    "## Plot factor values for all genes"
   ]
  },
  {
   "cell_type": "code",
   "execution_count": 687,
   "id": "11cccb41-8fe5-4217-9558-a3186731b3bf",
   "metadata": {},
   "outputs": [],
   "source": [
    "pathways_detail_plot = list()"
   ]
  },
  {
   "cell_type": "code",
   "execution_count": 688,
   "id": "e4afadd0-7b99-4e29-8042-5d4c8c71b948",
   "metadata": {},
   "outputs": [],
   "source": [
    "### Visualized the exact factor values of the genes\n",
    "for(i in unique(pathways_vis_genes$variable)){\n",
    "    # Specific Text Descriptions:\n",
    "    xlabel = xlab('Gene') \n",
    "    ylabel = ylab('View')\n",
    "\n",
    "    plot_data_cluster = unique(pathways_vis_genes[pathways_vis_genes$variable == i,c('gene', 'variable', 'type','view',  'variable_name', 'factor_value', 'factor_value_direction')])\n",
    "\n",
    "    pathways_detail_plot[[i]] = ggplot(plot_data_cluster, aes(gene,  view, fill= factor_value)) + \n",
    "        plot_config_heatmap + \n",
    "        geom_tile() + \n",
    "        scale_fill_gradient2(low = \"#1D2ED8\", mid = \"white\", high =\"#D8911D\", midpoint = 0)  + \n",
    "        scale_x_discrete(position = \"top\") +\n",
    "        theme(axis.text.x = element_text(angle = 90)) +\n",
    "        xlabel +\n",
    "        ylabel\n",
    "}"
   ]
  },
  {
   "cell_type": "code",
   "execution_count": 689,
   "id": "eb692dd3-fc2f-420b-b3a1-198964530e2b",
   "metadata": {},
   "outputs": [],
   "source": [
    "#pathways_detail_plot[[i]]"
   ]
  },
  {
   "cell_type": "code",
   "execution_count": 690,
   "id": "babfbb17-7380-42ba-84c7-a7ab2ef35a3b",
   "metadata": {},
   "outputs": [],
   "source": [
    "### Combine plot and save"
   ]
  },
  {
   "cell_type": "code",
   "execution_count": 691,
   "id": "b1d8db71-8f27-4a31-baa0-6111ccf1e551",
   "metadata": {},
   "outputs": [],
   "source": [
    "combined_plot = list()"
   ]
  },
  {
   "cell_type": "code",
   "execution_count": 692,
   "id": "bd4a76d8-c89a-496d-96ef-5377d60862a4",
   "metadata": {},
   "outputs": [],
   "source": [
    "for(i in 1:length(pathways_detail_plot)){\n",
    "    combined_plot[[i]] = ggarrange(pathways_sum_plot[[i]],\n",
    "              pathways_detail_plot[[i]] + theme(axis.text.x = element_blank(), axis.title.x =element_blank()), align = 'v', ncol = 1)\n",
    "}"
   ]
  },
  {
   "cell_type": "code",
   "execution_count": 693,
   "id": "29a27873-76c0-4219-be95-0e3a52f88bbf",
   "metadata": {},
   "outputs": [],
   "source": [
    "#combined_plot[[i]]"
   ]
  },
  {
   "cell_type": "code",
   "execution_count": 694,
   "id": "274e7e24-a024-4b5e-b5b3-49b4ed912d8d",
   "metadata": {},
   "outputs": [],
   "source": [
    "## Save the plot"
   ]
  },
  {
   "cell_type": "code",
   "execution_count": 695,
   "id": "d0d6a79b-f80c-461c-803e-b15ee5eb821d",
   "metadata": {},
   "outputs": [],
   "source": [
    "figure_name = paste0( \"FIG06_Pathways_and_Genes\")"
   ]
  },
  {
   "cell_type": "code",
   "execution_count": 696,
   "id": "665879d0-eba1-4902-980e-40ffa9da88d5",
   "metadata": {},
   "outputs": [],
   "source": [
    "# Sizes of the plot\n",
    "width_par = 8.07\n",
    "height_par = 4"
   ]
  },
  {
   "cell_type": "code",
   "execution_count": 697,
   "id": "b067c7a7-213e-4606-9dbd-298d37670d89",
   "metadata": {},
   "outputs": [
    {
     "data": {
      "text/html": [
       "<strong>png:</strong> 2"
      ],
      "text/latex": [
       "\\textbf{png:} 2"
      ],
      "text/markdown": [
       "**png:** 2"
      ],
      "text/plain": [
       "png \n",
       "  2 "
      ]
     },
     "metadata": {},
     "output_type": "display_data"
    }
   ],
   "source": [
    "pdf(paste0('figures/06_figures/', figure_name, '_',   mofa_name, '.pdf'), width =width_par, height =height_par)\n",
    "\n",
    "for(j in 1:length(combined_plot)){\n",
    "        print( combined_plot[[j]])\n",
    "        }\n",
    "dev.off()   \n"
   ]
  },
  {
   "cell_type": "code",
   "execution_count": null,
   "id": "ca14ac62-5f47-4fde-ad71-f36d1cbb6832",
   "metadata": {},
   "outputs": [],
   "source": []
  },
  {
   "cell_type": "code",
   "execution_count": 698,
   "id": "337a3db7-43f2-49ff-8f5f-c6f9209c84c6",
   "metadata": {},
   "outputs": [
    {
     "data": {
      "text/html": [
       "\n",
       "    <style>\n",
       "    .popup {\n",
       "      position: fixed;\n",
       "      top: 10px;\n",
       "      right: 20px;\n",
       "      background-color: #B5DC78;\n",
       "      border: 1px solid #ccc;\n",
       "      padding: 20px;\n",
       "      border-radius: 10px;\n",
       "      box-shadow: 0px 0px 10px rgba(0, 0, 0, 0.1);\n",
       "      display: none; /* Initially hidden */\n",
       "      z-index: 9999; /* Ensure it's on top of other content */\n",
       "      width: 300px; /* Set width of the popup */\n",
       "    }\n",
       "\n",
       "    .popup.show {\n",
       "      display: block; /* Show when .show class is added */\n",
       "    }\n",
       "    </style>\n",
       "\n",
       "    <script>\n",
       "    // Function to show the popup\n",
       "    function showPopup(message) {\n",
       "      var popup = document.getElementById(\"global-popup\");\n",
       "      if (!popup) {\n",
       "        // Inject the popup into the top-level body element if it doesn't exist\n",
       "        popup = document.createElement(\"div\");\n",
       "        popup.id = \"global-popup\";\n",
       "        popup.className = \"popup\";\n",
       "        document.body.appendChild(popup);\n",
       "      }\n",
       "      popup.innerHTML = message;\n",
       "      popup.classList.add(\"show\");\n",
       "\n",
       "      // Automatically hide the popup after 10 seconds (10000 milliseconds)\n",
       "      setTimeout(function(){\n",
       "        popup.classList.remove(\"show\");\n",
       "      }, 10000); // Adjust the time interval as needed\n",
       "    }\n",
       "\n",
       "    // Call the function to show the popup immediately with the provided message\n",
       "    showPopup(\"06_Downstream_Pathways: Execution Finished\");\n",
       "    </script>\n",
       "    "
      ]
     },
     "metadata": {},
     "output_type": "display_data"
    }
   ],
   "source": [
    "### Inform about execution finalization\n",
    "popup_function_pos('06_Downstream_Pathways: Execution Finished')"
   ]
  },
  {
   "cell_type": "code",
   "execution_count": 699,
   "id": "0214eec9-92c5-46db-8362-14f3c5d98738",
   "metadata": {},
   "outputs": [
    {
     "data": {
      "text/html": [
       "\n",
       "    <style>\n",
       "    .popup {\n",
       "      position: fixed;\n",
       "      top: 10px;\n",
       "      right: 20px;\n",
       "      background-color: #E7E7E7;\n",
       "      border: 1px solid #ccc;\n",
       "      padding: 20px;\n",
       "      border-radius: 10px;\n",
       "      box-shadow: 0px 0px 10px rgba(0, 0, 0, 0.1);\n",
       "      display: none; /* Initially hidden */\n",
       "      z-index: 9999; /* Ensure it's on top of other content */\n",
       "      width: 300px; /* Set width of the popup */\n",
       "    }\n",
       "\n",
       "    .popup.show {\n",
       "      display: block; /* Show when .show class is added */\n",
       "    }\n",
       "    </style>\n",
       "\n",
       "    <script>\n",
       "    // Function to show the popup\n",
       "    function showPopup(message) {\n",
       "      var popup = document.getElementById(\"global-popup\");\n",
       "      if (!popup) {\n",
       "        // Inject the popup into the top-level body element if it doesn't exist\n",
       "        popup = document.createElement(\"div\");\n",
       "        popup.id = \"global-popup\";\n",
       "        popup.className = \"popup\";\n",
       "        document.body.appendChild(popup);\n",
       "      }\n",
       "      popup.innerHTML = message;\n",
       "      popup.classList.add(\"show\");\n",
       "\n",
       "      // Automatically hide the popup after 10 seconds (10000 milliseconds)\n",
       "      setTimeout(function(){\n",
       "        popup.classList.remove(\"show\");\n",
       "      }, 10000); // Adjust the time interval as needed\n",
       "    }\n",
       "\n",
       "    // Call the function to show the popup immediately with the provided message\n",
       "    showPopup(\"06_Downstream_Pathways\");\n",
       "    </script>\n",
       "    "
      ]
     },
     "metadata": {},
     "output_type": "display_data"
    }
   ],
   "source": [
    "Sys.sleep(20)\n",
    "popup_function_info('06_Downstream_Pathways')"
   ]
  },
  {
   "cell_type": "code",
   "execution_count": null,
   "id": "4e6a8dca-3398-41ba-acdc-6bfba495eaee",
   "metadata": {},
   "outputs": [],
   "source": []
  }
 ],
 "metadata": {
  "kernelspec": {
   "display_name": "R",
   "language": "R",
   "name": "ir"
  },
  "language_info": {
   "codemirror_mode": "r",
   "file_extension": ".r",
   "mimetype": "text/x-r-source",
   "name": "R",
   "pygments_lexer": "r",
   "version": "4.3.2"
  },
  "toc-autonumbering": true
 },
 "nbformat": 4,
 "nbformat_minor": 5
}
