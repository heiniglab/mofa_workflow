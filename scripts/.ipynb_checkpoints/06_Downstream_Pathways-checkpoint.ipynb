{
 "cells": [
  {
   "cell_type": "code",
   "execution_count": 1,
   "id": "d182c426-4d95-4dee-a099-cd923e9437d7",
   "metadata": {},
   "outputs": [],
   "source": [
    "### Script for Pathway enrichment analysis on MOFA results\n"
   ]
  },
  {
   "cell_type": "markdown",
   "id": "213d69de-4705-4a6e-9387-b1a3413172eb",
   "metadata": {
    "tags": []
   },
   "source": [
    "#############################################\n",
    "# Prerequisites - Load Libraries"
   ]
  },
  {
   "cell_type": "code",
   "execution_count": 2,
   "id": "49f265d4-5df8-446f-ad65-4a49276593b0",
   "metadata": {
    "collapsed": true,
    "jupyter": {
     "outputs_hidden": true
    },
    "tags": []
   },
   "outputs": [
    {
     "name": "stderr",
     "output_type": "stream",
     "text": [
      "Warning message in read.table(file = file, header = header, sep = sep, quote = quote, :\n",
      "“incomplete final line found by readTableHeader on '../Global_Configs.csv'”\n"
     ]
    },
    {
     "name": "stdout",
     "output_type": "stream",
     "text": [
      "[1] \"/home/icb/corinna.losert/miniconda3/envs/jove_r//lib/R/library\"\n"
     ]
    },
    {
     "name": "stderr",
     "output_type": "stream",
     "text": [
      "‘SeuratObject’ was built with package ‘Matrix’ 1.6.3 but the current\n",
      "version is 1.6.4; it is recomended that you reinstall ‘SeuratObject’ as\n",
      "the ABI for ‘Matrix’ may have changed\n",
      "\n",
      "\n",
      "Attaching package: ‘SeuratObject’\n",
      "\n",
      "\n",
      "The following object is masked from ‘package:base’:\n",
      "\n",
      "    intersect\n",
      "\n",
      "\n",
      "Registered S3 method overwritten by 'SeuratDisk':\n",
      "  method            from  \n",
      "  as.sparse.H5Group Seurat\n",
      "\n",
      "\n",
      "Attaching package: ‘dplyr’\n",
      "\n",
      "\n",
      "The following objects are masked from ‘package:data.table’:\n",
      "\n",
      "    between, first, last\n",
      "\n",
      "\n",
      "The following objects are masked from ‘package:stats’:\n",
      "\n",
      "    filter, lag\n",
      "\n",
      "\n",
      "The following objects are masked from ‘package:base’:\n",
      "\n",
      "    intersect, setdiff, setequal, union\n",
      "\n",
      "\n",
      "── \u001b[1mAttaching core tidyverse packages\u001b[22m ───────────────────────────────────────────────────── tidyverse 2.0.0 ──\n",
      "\u001b[32m✔\u001b[39m \u001b[34mforcats  \u001b[39m 1.0.0     \u001b[32m✔\u001b[39m \u001b[34mreadr    \u001b[39m 2.1.4\n",
      "\u001b[32m✔\u001b[39m \u001b[34mggplot2  \u001b[39m 3.4.4     \u001b[32m✔\u001b[39m \u001b[34mtibble   \u001b[39m 3.2.1\n",
      "\u001b[32m✔\u001b[39m \u001b[34mlubridate\u001b[39m 1.9.3     \u001b[32m✔\u001b[39m \u001b[34mtidyr    \u001b[39m 1.3.0\n",
      "\u001b[32m✔\u001b[39m \u001b[34mpurrr    \u001b[39m 1.0.2     \n",
      "── \u001b[1mConflicts\u001b[22m ─────────────────────────────────────────────────────────────────────── tidyverse_conflicts() ──\n",
      "\u001b[31m✖\u001b[39m \u001b[34mdplyr\u001b[39m::\u001b[32mbetween()\u001b[39m     masks \u001b[34mdata.table\u001b[39m::between()\n",
      "\u001b[31m✖\u001b[39m \u001b[34mdplyr\u001b[39m::\u001b[32mfilter()\u001b[39m      masks \u001b[34mstats\u001b[39m::filter()\n",
      "\u001b[31m✖\u001b[39m \u001b[34mdplyr\u001b[39m::\u001b[32mfirst()\u001b[39m       masks \u001b[34mdata.table\u001b[39m::first()\n",
      "\u001b[31m✖\u001b[39m \u001b[34mlubridate\u001b[39m::\u001b[32mhour()\u001b[39m    masks \u001b[34mdata.table\u001b[39m::hour()\n",
      "\u001b[31m✖\u001b[39m \u001b[34mlubridate\u001b[39m::\u001b[32misoweek()\u001b[39m masks \u001b[34mdata.table\u001b[39m::isoweek()\n",
      "\u001b[31m✖\u001b[39m \u001b[34mdplyr\u001b[39m::\u001b[32mlag()\u001b[39m         masks \u001b[34mstats\u001b[39m::lag()\n",
      "\u001b[31m✖\u001b[39m \u001b[34mdplyr\u001b[39m::\u001b[32mlast()\u001b[39m        masks \u001b[34mdata.table\u001b[39m::last()\n",
      "\u001b[31m✖\u001b[39m \u001b[34mlubridate\u001b[39m::\u001b[32mmday()\u001b[39m    masks \u001b[34mdata.table\u001b[39m::mday()\n",
      "\u001b[31m✖\u001b[39m \u001b[34mlubridate\u001b[39m::\u001b[32mminute()\u001b[39m  masks \u001b[34mdata.table\u001b[39m::minute()\n",
      "\u001b[31m✖\u001b[39m \u001b[34mlubridate\u001b[39m::\u001b[32mmonth()\u001b[39m   masks \u001b[34mdata.table\u001b[39m::month()\n",
      "\u001b[31m✖\u001b[39m \u001b[34mlubridate\u001b[39m::\u001b[32mquarter()\u001b[39m masks \u001b[34mdata.table\u001b[39m::quarter()\n",
      "\u001b[31m✖\u001b[39m \u001b[34mlubridate\u001b[39m::\u001b[32msecond()\u001b[39m  masks \u001b[34mdata.table\u001b[39m::second()\n",
      "\u001b[31m✖\u001b[39m \u001b[34mpurrr\u001b[39m::\u001b[32mtranspose()\u001b[39m   masks \u001b[34mdata.table\u001b[39m::transpose()\n",
      "\u001b[31m✖\u001b[39m \u001b[34mlubridate\u001b[39m::\u001b[32mwday()\u001b[39m    masks \u001b[34mdata.table\u001b[39m::wday()\n",
      "\u001b[31m✖\u001b[39m \u001b[34mlubridate\u001b[39m::\u001b[32mweek()\u001b[39m    masks \u001b[34mdata.table\u001b[39m::week()\n",
      "\u001b[31m✖\u001b[39m \u001b[34mlubridate\u001b[39m::\u001b[32myday()\u001b[39m    masks \u001b[34mdata.table\u001b[39m::yday()\n",
      "\u001b[31m✖\u001b[39m \u001b[34mlubridate\u001b[39m::\u001b[32myear()\u001b[39m    masks \u001b[34mdata.table\u001b[39m::year()\n",
      "\u001b[36mℹ\u001b[39m Use the conflicted package (\u001b[3m\u001b[34m<http://conflicted.r-lib.org/>\u001b[39m\u001b[23m) to force all conflicts to become errors\n",
      "\n",
      "Attaching package: ‘reshape2’\n",
      "\n",
      "\n",
      "The following object is masked from ‘package:tidyr’:\n",
      "\n",
      "    smiths\n",
      "\n",
      "\n",
      "The following objects are masked from ‘package:data.table’:\n",
      "\n",
      "    dcast, melt\n",
      "\n",
      "\n",
      "Loading required package: lattice\n",
      "\n",
      "\n",
      "Attaching package: ‘caret’\n",
      "\n",
      "\n",
      "The following object is masked from ‘package:purrr’:\n",
      "\n",
      "    lift\n",
      "\n",
      "\n",
      "\n",
      "Attaching package: ‘gridExtra’\n",
      "\n",
      "\n",
      "The following object is masked from ‘package:dplyr’:\n",
      "\n",
      "    combine\n",
      "\n",
      "\n",
      "\n",
      "Attaching package: ‘scales’\n",
      "\n",
      "\n",
      "The following object is masked from ‘package:purrr’:\n",
      "\n",
      "    discard\n",
      "\n",
      "\n",
      "The following object is masked from ‘package:readr’:\n",
      "\n",
      "    col_factor\n",
      "\n",
      "\n",
      "\n",
      "Attaching package: ‘ggraph’\n",
      "\n",
      "\n",
      "The following object is masked from ‘package:sp’:\n",
      "\n",
      "    geometry\n",
      "\n",
      "\n",
      "corrplot 0.92 loaded\n",
      "\n",
      "\n",
      "Attaching package: ‘MOFA2’\n",
      "\n",
      "\n",
      "The following object is masked from ‘package:stats’:\n",
      "\n",
      "    predict\n",
      "\n",
      "\n",
      "Loading required package: S4Vectors\n",
      "\n",
      "Loading required package: stats4\n",
      "\n",
      "Loading required package: BiocGenerics\n",
      "\n",
      "\n",
      "Attaching package: ‘BiocGenerics’\n",
      "\n",
      "\n",
      "The following object is masked from ‘package:gridExtra’:\n",
      "\n",
      "    combine\n",
      "\n",
      "\n",
      "The following objects are masked from ‘package:lubridate’:\n",
      "\n",
      "    intersect, setdiff, union\n",
      "\n",
      "\n",
      "The following objects are masked from ‘package:dplyr’:\n",
      "\n",
      "    combine, intersect, setdiff, union\n",
      "\n",
      "\n",
      "The following object is masked from ‘package:SeuratObject’:\n",
      "\n",
      "    intersect\n",
      "\n",
      "\n",
      "The following objects are masked from ‘package:stats’:\n",
      "\n",
      "    IQR, mad, sd, var, xtabs\n",
      "\n",
      "\n",
      "The following objects are masked from ‘package:base’:\n",
      "\n",
      "    anyDuplicated, aperm, append, as.data.frame, basename, cbind,\n",
      "    colnames, dirname, do.call, duplicated, eval, evalq, Filter, Find,\n",
      "    get, grep, grepl, intersect, is.unsorted, lapply, Map, mapply,\n",
      "    match, mget, order, paste, pmax, pmax.int, pmin, pmin.int,\n",
      "    Position, rank, rbind, Reduce, rownames, sapply, setdiff, sort,\n",
      "    table, tapply, union, unique, unsplit, which.max, which.min\n",
      "\n",
      "\n",
      "\n",
      "Attaching package: ‘S4Vectors’\n",
      "\n",
      "\n",
      "The following objects are masked from ‘package:lubridate’:\n",
      "\n",
      "    second, second<-\n",
      "\n",
      "\n",
      "The following object is masked from ‘package:tidyr’:\n",
      "\n",
      "    expand\n",
      "\n",
      "\n",
      "The following objects are masked from ‘package:dplyr’:\n",
      "\n",
      "    first, rename\n",
      "\n",
      "\n",
      "The following objects are masked from ‘package:data.table’:\n",
      "\n",
      "    first, second\n",
      "\n",
      "\n",
      "The following object is masked from ‘package:utils’:\n",
      "\n",
      "    findMatches\n",
      "\n",
      "\n",
      "The following objects are masked from ‘package:base’:\n",
      "\n",
      "    expand.grid, I, unname\n",
      "\n",
      "\n",
      "Loading required package: IRanges\n",
      "\n",
      "\n",
      "Attaching package: ‘IRanges’\n",
      "\n",
      "\n",
      "The following object is masked from ‘package:lubridate’:\n",
      "\n",
      "    %within%\n",
      "\n",
      "\n",
      "The following object is masked from ‘package:purrr’:\n",
      "\n",
      "    reduce\n",
      "\n",
      "\n",
      "The following objects are masked from ‘package:dplyr’:\n",
      "\n",
      "    collapse, desc, slice\n",
      "\n",
      "\n",
      "The following object is masked from ‘package:data.table’:\n",
      "\n",
      "    shift\n",
      "\n",
      "\n",
      "The following object is masked from ‘package:sp’:\n",
      "\n",
      "    %over%\n",
      "\n",
      "\n",
      "Loading required package: GenomicRanges\n",
      "\n",
      "Loading required package: GenomeInfoDb\n",
      "\n",
      "Loading required package: SummarizedExperiment\n",
      "\n",
      "Loading required package: MatrixGenerics\n",
      "\n",
      "Loading required package: matrixStats\n",
      "\n",
      "\n",
      "Attaching package: ‘matrixStats’\n",
      "\n",
      "\n",
      "The following object is masked from ‘package:dplyr’:\n",
      "\n",
      "    count\n",
      "\n",
      "\n",
      "\n",
      "Attaching package: ‘MatrixGenerics’\n",
      "\n",
      "\n",
      "The following objects are masked from ‘package:matrixStats’:\n",
      "\n",
      "    colAlls, colAnyNAs, colAnys, colAvgsPerRowSet, colCollapse,\n",
      "    colCounts, colCummaxs, colCummins, colCumprods, colCumsums,\n",
      "    colDiffs, colIQRDiffs, colIQRs, colLogSumExps, colMadDiffs,\n",
      "    colMads, colMaxs, colMeans2, colMedians, colMins, colOrderStats,\n",
      "    colProds, colQuantiles, colRanges, colRanks, colSdDiffs, colSds,\n",
      "    colSums2, colTabulates, colVarDiffs, colVars, colWeightedMads,\n",
      "    colWeightedMeans, colWeightedMedians, colWeightedSds,\n",
      "    colWeightedVars, rowAlls, rowAnyNAs, rowAnys, rowAvgsPerColSet,\n",
      "    rowCollapse, rowCounts, rowCummaxs, rowCummins, rowCumprods,\n",
      "    rowCumsums, rowDiffs, rowIQRDiffs, rowIQRs, rowLogSumExps,\n",
      "    rowMadDiffs, rowMads, rowMaxs, rowMeans2, rowMedians, rowMins,\n",
      "    rowOrderStats, rowProds, rowQuantiles, rowRanges, rowRanks,\n",
      "    rowSdDiffs, rowSds, rowSums2, rowTabulates, rowVarDiffs, rowVars,\n",
      "    rowWeightedMads, rowWeightedMeans, rowWeightedMedians,\n",
      "    rowWeightedSds, rowWeightedVars\n",
      "\n",
      "\n",
      "Loading required package: Biobase\n",
      "\n",
      "Welcome to Bioconductor\n",
      "\n",
      "    Vignettes contain introductory material; view with\n",
      "    'browseVignettes()'. To cite Bioconductor, see\n",
      "    'citation(\"Biobase\")', and for packages 'citation(\"pkgname\")'.\n",
      "\n",
      "\n",
      "\n",
      "Attaching package: ‘Biobase’\n",
      "\n",
      "\n",
      "The following object is masked from ‘package:MatrixGenerics’:\n",
      "\n",
      "    rowMedians\n",
      "\n",
      "\n",
      "The following objects are masked from ‘package:matrixStats’:\n",
      "\n",
      "    anyMissing, rowMedians\n",
      "\n",
      "\n",
      "\n",
      "Attaching package: ‘SummarizedExperiment’\n",
      "\n",
      "\n",
      "The following object is masked from ‘package:Seurat’:\n",
      "\n",
      "    Assays\n",
      "\n",
      "\n",
      "The following object is masked from ‘package:SeuratObject’:\n",
      "\n",
      "    Assays\n",
      "\n",
      "\n",
      "Warning message in checkDepPackageVersion(dep_pkg = \"TMB\"):\n",
      "“Package version inconsistency detected.\n",
      "glmmTMB was built with TMB version 1.9.6\n",
      "Current TMB version is 1.9.10\n",
      "Please re-install glmmTMB from source or restore original ‘TMB’ package (see '?reinstalling' for more information)”\n",
      "Registered S3 method overwritten by 'EnvStats':\n",
      "  method         from\n",
      "  print.estimate lava\n",
      "\n"
     ]
    }
   ],
   "source": [
    "source('MS0_Libraries.r')"
   ]
  },
  {
   "cell_type": "code",
   "execution_count": 3,
   "id": "ab19cd2b-a715-46d7-ab96-834040cc5018",
   "metadata": {
    "tags": []
   },
   "outputs": [
    {
     "name": "stderr",
     "output_type": "stream",
     "text": [
      "Warning message:\n",
      "“\u001b[1m\u001b[22mThe `size` argument of `element_line()` is deprecated as of ggplot2 3.4.0.\n",
      "\u001b[36mℹ\u001b[39m Please use the `linewidth` argument instead.”\n"
     ]
    }
   ],
   "source": [
    "source('MS2_Plot_Config.r')"
   ]
  },
  {
   "cell_type": "code",
   "execution_count": 4,
   "id": "f0a37ca6-9dd3-48e3-b4f8-e13ce1f4a24b",
   "metadata": {},
   "outputs": [],
   "source": [
    "source('MS1_Functions.r')"
   ]
  },
  {
   "cell_type": "markdown",
   "id": "9d409d14-a693-4722-9648-4b6bacb4b74a",
   "metadata": {
    "tags": []
   },
   "source": [
    "###############################################\n",
    "# Preqrequisites Configurations & Parameters"
   ]
  },
  {
   "cell_type": "code",
   "execution_count": 5,
   "id": "578861cf-62ac-49a2-aaa6-0c91e751416b",
   "metadata": {},
   "outputs": [
    {
     "name": "stderr",
     "output_type": "stream",
     "text": [
      "Warning message in read.table(file = file, header = header, sep = sep, quote = quote, :\n",
      "“incomplete final line found by readTableHeader on 'configurations/Global_Configs.csv'”\n"
     ]
    }
   ],
   "source": [
    "### Load configurations file\n",
    "global_configs = read.csv('configurations/Global_Configs.csv', sep = ',')"
   ]
  },
  {
   "cell_type": "code",
   "execution_count": 6,
   "id": "1306e099-a83f-40ce-8ea6-7fe702c88747",
   "metadata": {},
   "outputs": [
    {
     "data": {
      "text/html": [
       "<table class=\"dataframe\">\n",
       "<caption>A data.frame: 2 × 3</caption>\n",
       "<thead>\n",
       "\t<tr><th></th><th scope=col>parameter</th><th scope=col>parameter.1</th><th scope=col>value</th></tr>\n",
       "\t<tr><th></th><th scope=col>&lt;chr&gt;</th><th scope=col>&lt;chr&gt;</th><th scope=col>&lt;chr&gt;</th></tr>\n",
       "</thead>\n",
       "<tbody>\n",
       "\t<tr><th scope=row>1</th><td>data_path  </td><td>data_path  </td><td>../results/data/input_data/</td></tr>\n",
       "\t<tr><th scope=row>2</th><td>result_path</td><td>result_path</td><td>../results/data/results/   </td></tr>\n",
       "</tbody>\n",
       "</table>\n"
      ],
      "text/latex": [
       "A data.frame: 2 × 3\n",
       "\\begin{tabular}{r|lll}\n",
       "  & parameter & parameter.1 & value\\\\\n",
       "  & <chr> & <chr> & <chr>\\\\\n",
       "\\hline\n",
       "\t1 & data\\_path   & data\\_path   & ../results/data/input\\_data/\\\\\n",
       "\t2 & result\\_path & result\\_path & ../results/data/results/   \\\\\n",
       "\\end{tabular}\n"
      ],
      "text/markdown": [
       "\n",
       "A data.frame: 2 × 3\n",
       "\n",
       "| <!--/--> | parameter &lt;chr&gt; | parameter.1 &lt;chr&gt; | value &lt;chr&gt; |\n",
       "|---|---|---|---|\n",
       "| 1 | data_path   | data_path   | ../results/data/input_data/ |\n",
       "| 2 | result_path | result_path | ../results/data/results/    |\n",
       "\n"
      ],
      "text/plain": [
       "  parameter   parameter.1 value                      \n",
       "1 data_path   data_path   ../results/data/input_data/\n",
       "2 result_path result_path ../results/data/results/   "
      ]
     },
     "metadata": {},
     "output_type": "display_data"
    }
   ],
   "source": [
    "head(global_configs,2)"
   ]
  },
  {
   "cell_type": "code",
   "execution_count": 7,
   "id": "c1b570bb-26f4-4ba8-87ea-e4976278240b",
   "metadata": {},
   "outputs": [],
   "source": [
    "data_path = global_configs$value[global_configs$parameter == 'data_path']"
   ]
  },
  {
   "cell_type": "code",
   "execution_count": 8,
   "id": "b212cfcc-0368-442f-ab1e-54127c0d8654",
   "metadata": {},
   "outputs": [
    {
     "data": {
      "text/html": [
       "'../results/data/input_data/'"
      ],
      "text/latex": [
       "'../results/data/input\\_data/'"
      ],
      "text/markdown": [
       "'../results/data/input_data/'"
      ],
      "text/plain": [
       "[1] \"../results/data/input_data/\""
      ]
     },
     "metadata": {},
     "output_type": "display_data"
    }
   ],
   "source": [
    "data_path"
   ]
  },
  {
   "cell_type": "code",
   "execution_count": 9,
   "id": "e96fa55c-83ba-464d-9a8b-2e4c584c519f",
   "metadata": {},
   "outputs": [],
   "source": [
    "result_path = global_configs$value[global_configs$parameter == 'result_path']"
   ]
  },
  {
   "cell_type": "code",
   "execution_count": 10,
   "id": "7350f322-c30d-4bb9-8bc8-88b7df9df57e",
   "metadata": {},
   "outputs": [
    {
     "data": {
      "text/html": [
       "'../results/data/results/'"
      ],
      "text/latex": [
       "'../results/data/results/'"
      ],
      "text/markdown": [
       "'../results/data/results/'"
      ],
      "text/plain": [
       "[1] \"../results/data/results/\""
      ]
     },
     "metadata": {},
     "output_type": "display_data"
    }
   ],
   "source": [
    "result_path"
   ]
  },
  {
   "cell_type": "code",
   "execution_count": 11,
   "id": "0929af17-aae4-4f1a-aa23-d9a7d4afa033",
   "metadata": {},
   "outputs": [],
   "source": [
    "###"
   ]
  },
  {
   "cell_type": "code",
   "execution_count": 12,
   "id": "02e6bb78-83e9-47cf-8288-5c93e30ea7aa",
   "metadata": {},
   "outputs": [
    {
     "name": "stderr",
     "output_type": "stream",
     "text": [
      "Warning message in read.table(file = file, header = header, sep = sep, quote = quote, :\n",
      "“incomplete final line found by readTableHeader on 'configurations/06_Pathway_Configs.csv'”\n"
     ]
    }
   ],
   "source": [
    "pathway_configs = read.csv('configurations/06_Pathway_Configs.csv', sep = ',')"
   ]
  },
  {
   "cell_type": "code",
   "execution_count": 13,
   "id": "f9f4ee34-34a3-4a18-8954-47a920fd6e98",
   "metadata": {},
   "outputs": [
    {
     "data": {
      "text/html": [
       "<table class=\"dataframe\">\n",
       "<caption>A data.frame: 1 × 10</caption>\n",
       "<thead>\n",
       "\t<tr><th></th><th scope=col>mofa_result_name</th><th scope=col>factor_set</th><th scope=col>coverage_par</th><th scope=col>types</th><th scope=col>coverage_plot</th><th scope=col>p_value_plot</th><th scope=col>max_pathways_plot</th><th scope=col>enrichment_plot</th><th scope=col>top_features_plot</th><th scope=col>pathway_selection</th></tr>\n",
       "\t<tr><th></th><th scope=col>&lt;chr&gt;</th><th scope=col>&lt;chr&gt;</th><th scope=col>&lt;dbl&gt;</th><th scope=col>&lt;chr&gt;</th><th scope=col>&lt;dbl&gt;</th><th scope=col>&lt;dbl&gt;</th><th scope=col>&lt;int&gt;</th><th scope=col>&lt;chr&gt;</th><th scope=col>&lt;dbl&gt;</th><th scope=col>&lt;lgl&gt;</th></tr>\n",
       "</thead>\n",
       "<tbody>\n",
       "\t<tr><th scope=row>1</th><td>config1</td><td>1,2,3,4,5</td><td>0.2</td><td>B.cell,CD16.Mono,CD4.CTL,CD4.Naive,CD4.TCM,CD4.TEM,cDC2,gdT,neutrophil,NK,Treg</td><td>0.5</td><td>0.05</td><td>8</td><td>positive</td><td>0.125</td><td>NA</td></tr>\n",
       "</tbody>\n",
       "</table>\n"
      ],
      "text/latex": [
       "A data.frame: 1 × 10\n",
       "\\begin{tabular}{r|llllllllll}\n",
       "  & mofa\\_result\\_name & factor\\_set & coverage\\_par & types & coverage\\_plot & p\\_value\\_plot & max\\_pathways\\_plot & enrichment\\_plot & top\\_features\\_plot & pathway\\_selection\\\\\n",
       "  & <chr> & <chr> & <dbl> & <chr> & <dbl> & <dbl> & <int> & <chr> & <dbl> & <lgl>\\\\\n",
       "\\hline\n",
       "\t1 & config1 & 1,2,3,4,5 & 0.2 & B.cell,CD16.Mono,CD4.CTL,CD4.Naive,CD4.TCM,CD4.TEM,cDC2,gdT,neutrophil,NK,Treg & 0.5 & 0.05 & 8 & positive & 0.125 & NA\\\\\n",
       "\\end{tabular}\n"
      ],
      "text/markdown": [
       "\n",
       "A data.frame: 1 × 10\n",
       "\n",
       "| <!--/--> | mofa_result_name &lt;chr&gt; | factor_set &lt;chr&gt; | coverage_par &lt;dbl&gt; | types &lt;chr&gt; | coverage_plot &lt;dbl&gt; | p_value_plot &lt;dbl&gt; | max_pathways_plot &lt;int&gt; | enrichment_plot &lt;chr&gt; | top_features_plot &lt;dbl&gt; | pathway_selection &lt;lgl&gt; |\n",
       "|---|---|---|---|---|---|---|---|---|---|---|\n",
       "| 1 | config1 | 1,2,3,4,5 | 0.2 | B.cell,CD16.Mono,CD4.CTL,CD4.Naive,CD4.TCM,CD4.TEM,cDC2,gdT,neutrophil,NK,Treg | 0.5 | 0.05 | 8 | positive | 0.125 | NA |\n",
       "\n"
      ],
      "text/plain": [
       "  mofa_result_name factor_set coverage_par\n",
       "1 config1          1,2,3,4,5  0.2         \n",
       "  types                                                                         \n",
       "1 B.cell,CD16.Mono,CD4.CTL,CD4.Naive,CD4.TCM,CD4.TEM,cDC2,gdT,neutrophil,NK,Treg\n",
       "  coverage_plot p_value_plot max_pathways_plot enrichment_plot\n",
       "1 0.5           0.05         8                 positive       \n",
       "  top_features_plot pathway_selection\n",
       "1 0.125             NA               "
      ]
     },
     "metadata": {},
     "output_type": "display_data"
    }
   ],
   "source": [
    "head(pathway_configs)"
   ]
  },
  {
   "cell_type": "markdown",
   "id": "47a498a2-73ff-4bed-9a9b-cd911f61db70",
   "metadata": {},
   "source": [
    "# Define parameters "
   ]
  },
  {
   "cell_type": "code",
   "execution_count": 14,
   "id": "cee901ad-739e-4409-9b63-72008da8d695",
   "metadata": {},
   "outputs": [],
   "source": [
    "## From Excel"
   ]
  },
  {
   "cell_type": "code",
   "execution_count": 15,
   "id": "864b5b1e-4f82-4f00-8481-7639a9ba85fa",
   "metadata": {},
   "outputs": [],
   "source": [
    "## for calculation"
   ]
  },
  {
   "cell_type": "code",
   "execution_count": 16,
   "id": "df558a43-5a61-44a0-baae-bf28e9ec100c",
   "metadata": {},
   "outputs": [],
   "source": [
    "mofa_name = pathway_configs$mofa_result_name[1]"
   ]
  },
  {
   "cell_type": "code",
   "execution_count": 17,
   "id": "4e086640-cbd1-4541-b5da-99b3f355a328",
   "metadata": {},
   "outputs": [],
   "source": [
    "factor_set = as.numeric(unlist(str_split(pathway_configs$factor_set[1], ',')))"
   ]
  },
  {
   "cell_type": "code",
   "execution_count": 18,
   "id": "a0e2a3f1-001a-4e4c-b8ed-cb86127b3571",
   "metadata": {},
   "outputs": [],
   "source": [
    "coverage_par = pathway_configs$coverage_par[1] # less than 20 % "
   ]
  },
  {
   "cell_type": "code",
   "execution_count": 19,
   "id": "4f1ca639-8ab9-49dc-82df-1d7a0c5f68ef",
   "metadata": {},
   "outputs": [],
   "source": [
    "views_set = unlist(str_split( pathway_configs$types[1], ','))"
   ]
  },
  {
   "cell_type": "code",
   "execution_count": 20,
   "id": "cfade333-33ee-4f75-b4c8-71e11c2a37fb",
   "metadata": {},
   "outputs": [
    {
     "data": {
      "text/html": [
       "<style>\n",
       ".list-inline {list-style: none; margin:0; padding: 0}\n",
       ".list-inline>li {display: inline-block}\n",
       ".list-inline>li:not(:last-child)::after {content: \"\\00b7\"; padding: 0 .5ex}\n",
       "</style>\n",
       "<ol class=list-inline><li>'B.cell'</li><li>'CD16.Mono'</li><li>'CD4.CTL'</li><li>'CD4.Naive'</li><li>'CD4.TCM'</li><li>'CD4.TEM'</li><li>'cDC2'</li><li>'gdT'</li><li>'neutrophil'</li><li>'NK'</li><li>'Treg'</li></ol>\n"
      ],
      "text/latex": [
       "\\begin{enumerate*}\n",
       "\\item 'B.cell'\n",
       "\\item 'CD16.Mono'\n",
       "\\item 'CD4.CTL'\n",
       "\\item 'CD4.Naive'\n",
       "\\item 'CD4.TCM'\n",
       "\\item 'CD4.TEM'\n",
       "\\item 'cDC2'\n",
       "\\item 'gdT'\n",
       "\\item 'neutrophil'\n",
       "\\item 'NK'\n",
       "\\item 'Treg'\n",
       "\\end{enumerate*}\n"
      ],
      "text/markdown": [
       "1. 'B.cell'\n",
       "2. 'CD16.Mono'\n",
       "3. 'CD4.CTL'\n",
       "4. 'CD4.Naive'\n",
       "5. 'CD4.TCM'\n",
       "6. 'CD4.TEM'\n",
       "7. 'cDC2'\n",
       "8. 'gdT'\n",
       "9. 'neutrophil'\n",
       "10. 'NK'\n",
       "11. 'Treg'\n",
       "\n",
       "\n"
      ],
      "text/plain": [
       " [1] \"B.cell\"     \"CD16.Mono\"  \"CD4.CTL\"    \"CD4.Naive\"  \"CD4.TCM\"   \n",
       " [6] \"CD4.TEM\"    \"cDC2\"       \"gdT\"        \"neutrophil\" \"NK\"        \n",
       "[11] \"Treg\"      "
      ]
     },
     "metadata": {},
     "output_type": "display_data"
    }
   ],
   "source": [
    "views_set"
   ]
  },
  {
   "cell_type": "code",
   "execution_count": null,
   "id": "d48078ce-671e-416b-b7c5-757f7372d3da",
   "metadata": {},
   "outputs": [],
   "source": []
  },
  {
   "cell_type": "code",
   "execution_count": 21,
   "id": "bd3201a4-3fea-487c-9e1b-a05ab8859c45",
   "metadata": {},
   "outputs": [],
   "source": [
    "## for visualization\n",
    "## Automatic\n",
    "coverage_par = pathway_configs$coverage_plot[1]\n",
    "p_value_cutoff_plot =pathway_configs$p_value_plot[1]\n",
    "max_pathways =pathway_configs$max_pathways_plot[1]\n",
    "select_enrichment = pathway_configs$enrichment_plot[1]\n",
    "\n",
    "## selected pathways\n",
    "pathway_selection_var =pathway_configs$pathway_selection[1]"
   ]
  },
  {
   "cell_type": "code",
   "execution_count": 22,
   "id": "d9298328-bdd3-4991-bb2b-966a20ccde78",
   "metadata": {},
   "outputs": [
    {
     "data": {
      "text/html": [
       "&lt;NA&gt;"
      ],
      "text/latex": [
       "<NA>"
      ],
      "text/markdown": [
       "&lt;NA&gt;"
      ],
      "text/plain": [
       "[1] NA"
      ]
     },
     "metadata": {},
     "output_type": "display_data"
    }
   ],
   "source": [
    "pathway_selection_var"
   ]
  },
  {
   "cell_type": "code",
   "execution_count": 23,
   "id": "7af39745-7dbc-4dce-a760-ed2d72e3976f",
   "metadata": {},
   "outputs": [],
   "source": [
    "top_var_thres =pathway_configs$top_features_plot[1] # choose threshold of top x % of features of MOFA factor to take into account"
   ]
  },
  {
   "cell_type": "code",
   "execution_count": null,
   "id": "62072a57-a0f3-41ce-8699-d9678c1acda4",
   "metadata": {},
   "outputs": [],
   "source": []
  },
  {
   "cell_type": "code",
   "execution_count": null,
   "id": "4da9d560-4ec4-40e7-9813-95e386e16db4",
   "metadata": {},
   "outputs": [],
   "source": []
  },
  {
   "cell_type": "code",
   "execution_count": 24,
   "id": "35f43524-b597-4952-a2d5-6756148d9379",
   "metadata": {},
   "outputs": [],
   "source": [
    "## Currently fixed in manuscript"
   ]
  },
  {
   "cell_type": "code",
   "execution_count": 25,
   "id": "979816d7-fed6-4aa4-ab1a-ff84fd5831ce",
   "metadata": {},
   "outputs": [],
   "source": [
    "## For enrichment calculation\n",
    "use_statistic = \"rank.sum\" # alternatives: mean.diff, rank.sum\n",
    "use_test = 'parametric'  # alternatives: permutation, parametric, \"cor.adj.parametric\"\n",
    "p_val_cutoff = 0.05\n",
    "min_size = 5"
   ]
  },
  {
   "cell_type": "code",
   "execution_count": null,
   "id": "cfe4b50c-9602-40ac-a886-a2058dd80c5c",
   "metadata": {},
   "outputs": [],
   "source": []
  },
  {
   "cell_type": "markdown",
   "id": "43e2937f-4e6d-4e90-99f2-2f7c370f9639",
   "metadata": {
    "tags": []
   },
   "source": [
    "# Load Data "
   ]
  },
  {
   "cell_type": "markdown",
   "id": "9c532318-cf55-47b9-ba16-31b10391ff6a",
   "metadata": {},
   "source": [
    "## Model Data"
   ]
  },
  {
   "cell_type": "code",
   "execution_count": 26,
   "id": "54bbc68f-377a-4058-b5da-57ae261a1b47",
   "metadata": {},
   "outputs": [],
   "source": [
    "### Model"
   ]
  },
  {
   "cell_type": "code",
   "execution_count": 27,
   "id": "f0aeb981-5cd3-4e0d-a9a4-574335dcebd9",
   "metadata": {},
   "outputs": [],
   "source": [
    "model_name =  paste0(\"03_MOFA_MODEL_\", mofa_name,'.hdf5')"
   ]
  },
  {
   "cell_type": "code",
   "execution_count": 28,
   "id": "21486773-c9a7-41bd-a933-f01ac207b731",
   "metadata": {},
   "outputs": [],
   "source": [
    "outfile = file.path( paste0(result_path, '/03_results/',  model_name) )"
   ]
  },
  {
   "cell_type": "code",
   "execution_count": 29,
   "id": "f7d86d16-52a8-425b-9855-794259a4b4ea",
   "metadata": {},
   "outputs": [
    {
     "data": {
      "text/html": [
       "'../results/data/results//03_results/03_MOFA_MODEL_config1.hdf5'"
      ],
      "text/latex": [
       "'../results/data/results//03\\_results/03\\_MOFA\\_MODEL\\_config1.hdf5'"
      ],
      "text/markdown": [
       "'../results/data/results//03_results/03_MOFA_MODEL_config1.hdf5'"
      ],
      "text/plain": [
       "[1] \"../results/data/results//03_results/03_MOFA_MODEL_config1.hdf5\""
      ]
     },
     "metadata": {},
     "output_type": "display_data"
    }
   ],
   "source": [
    "outfile"
   ]
  },
  {
   "cell_type": "code",
   "execution_count": 30,
   "id": "8f2d4649-8f0c-416a-a211-c47fa63a7e41",
   "metadata": {
    "tags": []
   },
   "outputs": [
    {
     "name": "stderr",
     "output_type": "stream",
     "text": [
      "Loading data...\n",
      "\n",
      "Loading expectations for 2 nodes...\n",
      "\n",
      "Loading model options...\n",
      "\n",
      "Loading training options and statistics...\n",
      "\n",
      "Assigning names to the different dimensions...\n",
      "\n",
      "Re-ordering factors by their variance explained...\n",
      "\n",
      "Doing quality control...\n",
      "\n",
      "Checking views names...\n",
      "\n",
      "Checking groups names...\n",
      "\n",
      "Checking samples names...\n",
      "\n",
      "Checking features names...\n",
      "\n",
      "Checking dimensions...\n",
      "\n",
      "Checking there are no features with complete missing values...\n",
      "\n",
      "Checking sample covariates...\n",
      "\n",
      "Checking expectations...\n",
      "\n",
      "Checking for intercept factors...\n",
      "\n",
      "Warning message in .quality_control(object, verbose = verbose):\n",
      "“Factor(s) 5, 9, 10, 20 are strongly correlated with the total number of expressed features for at least one of your omics. Such factors appear when there are differences in the total 'levels' between your samples, *sometimes* because of poor normalisation in the preprocessing steps.\n",
      "”\n",
      "Checking for highly correlated factors...\n",
      "\n"
     ]
    }
   ],
   "source": [
    "model <- load_model(outfile, verbose = TRUE)"
   ]
  },
  {
   "cell_type": "markdown",
   "id": "70373296-fe48-46b9-9e5f-c0530518eff8",
   "metadata": {
    "tags": []
   },
   "source": [
    "## Pathways"
   ]
  },
  {
   "cell_type": "code",
   "execution_count": 31,
   "id": "35a71ce1-443b-4dda-8187-85c79c0e4f4f",
   "metadata": {},
   "outputs": [],
   "source": [
    "pathways =  read.csv(paste0(data_path, 'Prepared_Pathway_Data.csv'))\n",
    "pathways$X = NULL"
   ]
  },
  {
   "cell_type": "code",
   "execution_count": 32,
   "id": "991b2cc4-e6cb-495c-8d52-75666f967096",
   "metadata": {},
   "outputs": [
    {
     "data": {
      "text/html": [
       "<table class=\"dataframe\">\n",
       "<caption>A data.frame: 2 × 3</caption>\n",
       "<thead>\n",
       "\t<tr><th></th><th scope=col>ID</th><th scope=col>gene</th><th scope=col>pathway_name</th></tr>\n",
       "\t<tr><th></th><th scope=col>&lt;chr&gt;</th><th scope=col>&lt;chr&gt;</th><th scope=col>&lt;chr&gt;</th></tr>\n",
       "</thead>\n",
       "<tbody>\n",
       "\t<tr><th scope=row>1</th><td>R-HSA-1059683</td><td>JAK1 </td><td>Interleukin-6 signaling</td></tr>\n",
       "\t<tr><th scope=row>2</th><td>R-HSA-1059683</td><td>STAT1</td><td>Interleukin-6 signaling</td></tr>\n",
       "</tbody>\n",
       "</table>\n"
      ],
      "text/latex": [
       "A data.frame: 2 × 3\n",
       "\\begin{tabular}{r|lll}\n",
       "  & ID & gene & pathway\\_name\\\\\n",
       "  & <chr> & <chr> & <chr>\\\\\n",
       "\\hline\n",
       "\t1 & R-HSA-1059683 & JAK1  & Interleukin-6 signaling\\\\\n",
       "\t2 & R-HSA-1059683 & STAT1 & Interleukin-6 signaling\\\\\n",
       "\\end{tabular}\n"
      ],
      "text/markdown": [
       "\n",
       "A data.frame: 2 × 3\n",
       "\n",
       "| <!--/--> | ID &lt;chr&gt; | gene &lt;chr&gt; | pathway_name &lt;chr&gt; |\n",
       "|---|---|---|---|\n",
       "| 1 | R-HSA-1059683 | JAK1  | Interleukin-6 signaling |\n",
       "| 2 | R-HSA-1059683 | STAT1 | Interleukin-6 signaling |\n",
       "\n"
      ],
      "text/plain": [
       "  ID            gene  pathway_name           \n",
       "1 R-HSA-1059683 JAK1  Interleukin-6 signaling\n",
       "2 R-HSA-1059683 STAT1 Interleukin-6 signaling"
      ]
     },
     "metadata": {},
     "output_type": "display_data"
    }
   ],
   "source": [
    "head(pathways,2)"
   ]
  },
  {
   "cell_type": "markdown",
   "id": "46e3576c-af99-4c04-9b7b-35c06c7db34c",
   "metadata": {},
   "source": [
    "# Prepare model data"
   ]
  },
  {
   "cell_type": "markdown",
   "id": "c3f2a67b-a604-43cd-8231-a8fedd53e0ee",
   "metadata": {},
   "source": [
    "## Extract the weights from the model"
   ]
  },
  {
   "cell_type": "code",
   "execution_count": 33,
   "id": "7fb063ef-e664-4c8d-bfd2-70287c7c3911",
   "metadata": {},
   "outputs": [
    {
     "data": {
      "text/html": [
       "<table class=\"dataframe\">\n",
       "<caption>A data.frame: 6 × 24</caption>\n",
       "<thead>\n",
       "\t<tr><th></th><th scope=col>Factor1</th><th scope=col>Factor2</th><th scope=col>Factor3</th><th scope=col>Factor4</th><th scope=col>Factor5</th><th scope=col>Factor6</th><th scope=col>Factor7</th><th scope=col>Factor8</th><th scope=col>Factor9</th><th scope=col>Factor10</th><th scope=col>⋯</th><th scope=col>Factor15</th><th scope=col>Factor16</th><th scope=col>Factor17</th><th scope=col>Factor18</th><th scope=col>Factor19</th><th scope=col>Factor20</th><th scope=col>type</th><th scope=col>variable_name</th><th scope=col>view</th><th scope=col>gene</th></tr>\n",
       "\t<tr><th></th><th scope=col>&lt;dbl&gt;</th><th scope=col>&lt;dbl&gt;</th><th scope=col>&lt;dbl&gt;</th><th scope=col>&lt;dbl&gt;</th><th scope=col>&lt;dbl&gt;</th><th scope=col>&lt;dbl&gt;</th><th scope=col>&lt;dbl&gt;</th><th scope=col>&lt;dbl&gt;</th><th scope=col>&lt;dbl&gt;</th><th scope=col>&lt;dbl&gt;</th><th scope=col>⋯</th><th scope=col>&lt;dbl&gt;</th><th scope=col>&lt;dbl&gt;</th><th scope=col>&lt;dbl&gt;</th><th scope=col>&lt;dbl&gt;</th><th scope=col>&lt;dbl&gt;</th><th scope=col>&lt;dbl&gt;</th><th scope=col>&lt;chr&gt;</th><th scope=col>&lt;chr&gt;</th><th scope=col>&lt;chr&gt;</th><th scope=col>&lt;chr&gt;</th></tr>\n",
       "</thead>\n",
       "<tbody>\n",
       "\t<tr><th scope=row>B.cell__ACTB</th><td>-0.21732116</td><td> 0.18824680</td><td>-0.11174294</td><td> 0.080270097</td><td>-0.06805549</td><td>-0.0421615392</td><td>-0.064257897</td><td>-0.4432788</td><td> 0.007395637</td><td> 0.034436032</td><td>⋯</td><td> 0.01741151</td><td> 0.01803296</td><td> 0.07789122</td><td> 0.03405593</td><td>-0.14379902</td><td>-0.03069997</td><td>B.cell</td><td>B.cell__ACTB </td><td>B.cell</td><td>ACTB </td></tr>\n",
       "\t<tr><th scope=row>B.cell__ACTG1</th><td>-0.03822634</td><td>-0.02855239</td><td>-0.04507595</td><td> 0.062922463</td><td>-0.05201821</td><td>-0.0592270233</td><td> 0.067477025</td><td>-0.3285550</td><td>-0.012521170</td><td> 0.030991051</td><td>⋯</td><td>-0.02331705</td><td> 0.03813000</td><td> 0.10040610</td><td> 0.10898526</td><td> 0.02983564</td><td>-0.14744236</td><td>B.cell</td><td>B.cell__ACTG1</td><td>B.cell</td><td>ACTG1</td></tr>\n",
       "\t<tr><th scope=row>B.cell__ACTR2</th><td>-0.08317667</td><td> 0.21396732</td><td>-0.16865762</td><td> 0.004320409</td><td> 0.02414656</td><td> 0.0572508350</td><td> 0.007391086</td><td>-0.2363539</td><td> 0.001659897</td><td> 0.261096179</td><td>⋯</td><td> 0.02130334</td><td> 0.02949983</td><td>-0.06087974</td><td> 0.02812659</td><td>-0.13211621</td><td>-0.17683296</td><td>B.cell</td><td>B.cell__ACTR2</td><td>B.cell</td><td>ACTR2</td></tr>\n",
       "\t<tr><th scope=row>B.cell__ACTR3</th><td> 0.07242947</td><td> 0.04114458</td><td>-0.17622976</td><td>-0.093380645</td><td>-0.02262458</td><td> 0.0004040518</td><td> 0.008664441</td><td>-0.1160945</td><td> 0.010067453</td><td> 0.024094608</td><td>⋯</td><td>-0.08647003</td><td> 0.00610388</td><td>-0.05120527</td><td> 0.05020532</td><td> 0.02533577</td><td>-0.09245851</td><td>B.cell</td><td>B.cell__ACTR3</td><td>B.cell</td><td>ACTR3</td></tr>\n",
       "\t<tr><th scope=row>B.cell__ADD3</th><td>-0.10174651</td><td> 0.14137915</td><td>-0.18193237</td><td>-0.028330170</td><td>-0.03031231</td><td>-0.0162211861</td><td>-0.005273766</td><td>-0.2519083</td><td>-0.013892147</td><td>-0.003902171</td><td>⋯</td><td>-0.11196484</td><td>-0.02243120</td><td> 0.06199035</td><td>-0.02736166</td><td> 0.04897216</td><td>-0.04420387</td><td>B.cell</td><td>B.cell__ADD3 </td><td>B.cell</td><td>ADD3 </td></tr>\n",
       "\t<tr><th scope=row>B.cell__AES</th><td> 0.18231821</td><td>-0.12558725</td><td> 0.11752542</td><td> 0.090172626</td><td>-0.06976022</td><td> 0.0765330419</td><td> 0.073054507</td><td>-0.1399591</td><td>-0.022372559</td><td>-0.010901893</td><td>⋯</td><td> 0.12049376</td><td> 0.02960805</td><td> 0.04202096</td><td> 0.02239864</td><td>-0.05132128</td><td>-0.26910231</td><td>B.cell</td><td>B.cell__AES  </td><td>B.cell</td><td>AES  </td></tr>\n",
       "</tbody>\n",
       "</table>\n"
      ],
      "text/latex": [
       "A data.frame: 6 × 24\n",
       "\\begin{tabular}{r|lllllllllllllllllllll}\n",
       "  & Factor1 & Factor2 & Factor3 & Factor4 & Factor5 & Factor6 & Factor7 & Factor8 & Factor9 & Factor10 & ⋯ & Factor15 & Factor16 & Factor17 & Factor18 & Factor19 & Factor20 & type & variable\\_name & view & gene\\\\\n",
       "  & <dbl> & <dbl> & <dbl> & <dbl> & <dbl> & <dbl> & <dbl> & <dbl> & <dbl> & <dbl> & ⋯ & <dbl> & <dbl> & <dbl> & <dbl> & <dbl> & <dbl> & <chr> & <chr> & <chr> & <chr>\\\\\n",
       "\\hline\n",
       "\tB.cell\\_\\_ACTB & -0.21732116 &  0.18824680 & -0.11174294 &  0.080270097 & -0.06805549 & -0.0421615392 & -0.064257897 & -0.4432788 &  0.007395637 &  0.034436032 & ⋯ &  0.01741151 &  0.01803296 &  0.07789122 &  0.03405593 & -0.14379902 & -0.03069997 & B.cell & B.cell\\_\\_ACTB  & B.cell & ACTB \\\\\n",
       "\tB.cell\\_\\_ACTG1 & -0.03822634 & -0.02855239 & -0.04507595 &  0.062922463 & -0.05201821 & -0.0592270233 &  0.067477025 & -0.3285550 & -0.012521170 &  0.030991051 & ⋯ & -0.02331705 &  0.03813000 &  0.10040610 &  0.10898526 &  0.02983564 & -0.14744236 & B.cell & B.cell\\_\\_ACTG1 & B.cell & ACTG1\\\\\n",
       "\tB.cell\\_\\_ACTR2 & -0.08317667 &  0.21396732 & -0.16865762 &  0.004320409 &  0.02414656 &  0.0572508350 &  0.007391086 & -0.2363539 &  0.001659897 &  0.261096179 & ⋯ &  0.02130334 &  0.02949983 & -0.06087974 &  0.02812659 & -0.13211621 & -0.17683296 & B.cell & B.cell\\_\\_ACTR2 & B.cell & ACTR2\\\\\n",
       "\tB.cell\\_\\_ACTR3 &  0.07242947 &  0.04114458 & -0.17622976 & -0.093380645 & -0.02262458 &  0.0004040518 &  0.008664441 & -0.1160945 &  0.010067453 &  0.024094608 & ⋯ & -0.08647003 &  0.00610388 & -0.05120527 &  0.05020532 &  0.02533577 & -0.09245851 & B.cell & B.cell\\_\\_ACTR3 & B.cell & ACTR3\\\\\n",
       "\tB.cell\\_\\_ADD3 & -0.10174651 &  0.14137915 & -0.18193237 & -0.028330170 & -0.03031231 & -0.0162211861 & -0.005273766 & -0.2519083 & -0.013892147 & -0.003902171 & ⋯ & -0.11196484 & -0.02243120 &  0.06199035 & -0.02736166 &  0.04897216 & -0.04420387 & B.cell & B.cell\\_\\_ADD3  & B.cell & ADD3 \\\\\n",
       "\tB.cell\\_\\_AES &  0.18231821 & -0.12558725 &  0.11752542 &  0.090172626 & -0.06976022 &  0.0765330419 &  0.073054507 & -0.1399591 & -0.022372559 & -0.010901893 & ⋯ &  0.12049376 &  0.02960805 &  0.04202096 &  0.02239864 & -0.05132128 & -0.26910231 & B.cell & B.cell\\_\\_AES   & B.cell & AES  \\\\\n",
       "\\end{tabular}\n"
      ],
      "text/markdown": [
       "\n",
       "A data.frame: 6 × 24\n",
       "\n",
       "| <!--/--> | Factor1 &lt;dbl&gt; | Factor2 &lt;dbl&gt; | Factor3 &lt;dbl&gt; | Factor4 &lt;dbl&gt; | Factor5 &lt;dbl&gt; | Factor6 &lt;dbl&gt; | Factor7 &lt;dbl&gt; | Factor8 &lt;dbl&gt; | Factor9 &lt;dbl&gt; | Factor10 &lt;dbl&gt; | ⋯ ⋯ | Factor15 &lt;dbl&gt; | Factor16 &lt;dbl&gt; | Factor17 &lt;dbl&gt; | Factor18 &lt;dbl&gt; | Factor19 &lt;dbl&gt; | Factor20 &lt;dbl&gt; | type &lt;chr&gt; | variable_name &lt;chr&gt; | view &lt;chr&gt; | gene &lt;chr&gt; |\n",
       "|---|---|---|---|---|---|---|---|---|---|---|---|---|---|---|---|---|---|---|---|---|---|\n",
       "| B.cell__ACTB | -0.21732116 |  0.18824680 | -0.11174294 |  0.080270097 | -0.06805549 | -0.0421615392 | -0.064257897 | -0.4432788 |  0.007395637 |  0.034436032 | ⋯ |  0.01741151 |  0.01803296 |  0.07789122 |  0.03405593 | -0.14379902 | -0.03069997 | B.cell | B.cell__ACTB  | B.cell | ACTB  |\n",
       "| B.cell__ACTG1 | -0.03822634 | -0.02855239 | -0.04507595 |  0.062922463 | -0.05201821 | -0.0592270233 |  0.067477025 | -0.3285550 | -0.012521170 |  0.030991051 | ⋯ | -0.02331705 |  0.03813000 |  0.10040610 |  0.10898526 |  0.02983564 | -0.14744236 | B.cell | B.cell__ACTG1 | B.cell | ACTG1 |\n",
       "| B.cell__ACTR2 | -0.08317667 |  0.21396732 | -0.16865762 |  0.004320409 |  0.02414656 |  0.0572508350 |  0.007391086 | -0.2363539 |  0.001659897 |  0.261096179 | ⋯ |  0.02130334 |  0.02949983 | -0.06087974 |  0.02812659 | -0.13211621 | -0.17683296 | B.cell | B.cell__ACTR2 | B.cell | ACTR2 |\n",
       "| B.cell__ACTR3 |  0.07242947 |  0.04114458 | -0.17622976 | -0.093380645 | -0.02262458 |  0.0004040518 |  0.008664441 | -0.1160945 |  0.010067453 |  0.024094608 | ⋯ | -0.08647003 |  0.00610388 | -0.05120527 |  0.05020532 |  0.02533577 | -0.09245851 | B.cell | B.cell__ACTR3 | B.cell | ACTR3 |\n",
       "| B.cell__ADD3 | -0.10174651 |  0.14137915 | -0.18193237 | -0.028330170 | -0.03031231 | -0.0162211861 | -0.005273766 | -0.2519083 | -0.013892147 | -0.003902171 | ⋯ | -0.11196484 | -0.02243120 |  0.06199035 | -0.02736166 |  0.04897216 | -0.04420387 | B.cell | B.cell__ADD3  | B.cell | ADD3  |\n",
       "| B.cell__AES |  0.18231821 | -0.12558725 |  0.11752542 |  0.090172626 | -0.06976022 |  0.0765330419 |  0.073054507 | -0.1399591 | -0.022372559 | -0.010901893 | ⋯ |  0.12049376 |  0.02960805 |  0.04202096 |  0.02239864 | -0.05132128 | -0.26910231 | B.cell | B.cell__AES   | B.cell | AES   |\n",
       "\n"
      ],
      "text/plain": [
       "              Factor1     Factor2     Factor3     Factor4      Factor5    \n",
       "B.cell__ACTB  -0.21732116  0.18824680 -0.11174294  0.080270097 -0.06805549\n",
       "B.cell__ACTG1 -0.03822634 -0.02855239 -0.04507595  0.062922463 -0.05201821\n",
       "B.cell__ACTR2 -0.08317667  0.21396732 -0.16865762  0.004320409  0.02414656\n",
       "B.cell__ACTR3  0.07242947  0.04114458 -0.17622976 -0.093380645 -0.02262458\n",
       "B.cell__ADD3  -0.10174651  0.14137915 -0.18193237 -0.028330170 -0.03031231\n",
       "B.cell__AES    0.18231821 -0.12558725  0.11752542  0.090172626 -0.06976022\n",
       "              Factor6       Factor7      Factor8    Factor9      Factor10     ⋯\n",
       "B.cell__ACTB  -0.0421615392 -0.064257897 -0.4432788  0.007395637  0.034436032 ⋯\n",
       "B.cell__ACTG1 -0.0592270233  0.067477025 -0.3285550 -0.012521170  0.030991051 ⋯\n",
       "B.cell__ACTR2  0.0572508350  0.007391086 -0.2363539  0.001659897  0.261096179 ⋯\n",
       "B.cell__ACTR3  0.0004040518  0.008664441 -0.1160945  0.010067453  0.024094608 ⋯\n",
       "B.cell__ADD3  -0.0162211861 -0.005273766 -0.2519083 -0.013892147 -0.003902171 ⋯\n",
       "B.cell__AES    0.0765330419  0.073054507 -0.1399591 -0.022372559 -0.010901893 ⋯\n",
       "              Factor15    Factor16    Factor17    Factor18    Factor19   \n",
       "B.cell__ACTB   0.01741151  0.01803296  0.07789122  0.03405593 -0.14379902\n",
       "B.cell__ACTG1 -0.02331705  0.03813000  0.10040610  0.10898526  0.02983564\n",
       "B.cell__ACTR2  0.02130334  0.02949983 -0.06087974  0.02812659 -0.13211621\n",
       "B.cell__ACTR3 -0.08647003  0.00610388 -0.05120527  0.05020532  0.02533577\n",
       "B.cell__ADD3  -0.11196484 -0.02243120  0.06199035 -0.02736166  0.04897216\n",
       "B.cell__AES    0.12049376  0.02960805  0.04202096  0.02239864 -0.05132128\n",
       "              Factor20    type   variable_name view   gene \n",
       "B.cell__ACTB  -0.03069997 B.cell B.cell__ACTB  B.cell ACTB \n",
       "B.cell__ACTG1 -0.14744236 B.cell B.cell__ACTG1 B.cell ACTG1\n",
       "B.cell__ACTR2 -0.17683296 B.cell B.cell__ACTR2 B.cell ACTR2\n",
       "B.cell__ACTR3 -0.09245851 B.cell B.cell__ACTR3 B.cell ACTR3\n",
       "B.cell__ADD3  -0.04420387 B.cell B.cell__ADD3  B.cell ADD3 \n",
       "B.cell__AES   -0.26910231 B.cell B.cell__AES   B.cell AES  "
      ]
     },
     "metadata": {},
     "output_type": "display_data"
    }
   ],
   "source": [
    "weights = get_weights(model, views = \"all\", factors = \"all\")\n",
    "weight_data = data.frame()\n",
    "for (i in names(weights)){\n",
    "    data = data.frame(weights[[i]])\n",
    "    data$type = i\n",
    "    weight_data = rbind(weight_data,data)\n",
    "}\n",
    "weight_data$variable_name = rownames(weight_data)\n",
    "weight_data$view <- weight_data$type \n",
    "weight_data$gene = sapply(strsplit(weight_data$variable_name, \"_\"), \"[\", 3)\n",
    "head(weight_data)"
   ]
  },
  {
   "cell_type": "code",
   "execution_count": 34,
   "id": "11afe383-a846-4e74-9b96-af6bd0043b15",
   "metadata": {},
   "outputs": [],
   "source": [
    "## Transform to long format"
   ]
  },
  {
   "cell_type": "code",
   "execution_count": 35,
   "id": "d7769bc7-2dab-43b3-ab1d-ca7943e1afc7",
   "metadata": {},
   "outputs": [
    {
     "name": "stderr",
     "output_type": "stream",
     "text": [
      "Using type, variable_name, view, gene as id variables\n",
      "\n"
     ]
    }
   ],
   "source": [
    "feature_weights_long = melt(weight_data)"
   ]
  },
  {
   "cell_type": "code",
   "execution_count": 36,
   "id": "2f2f453f-0550-47c6-9cde-12498561987d",
   "metadata": {},
   "outputs": [
    {
     "data": {
      "text/html": [
       "<table class=\"dataframe\">\n",
       "<caption>A data.frame: 2 × 6</caption>\n",
       "<thead>\n",
       "\t<tr><th></th><th scope=col>type</th><th scope=col>variable_name</th><th scope=col>view</th><th scope=col>gene</th><th scope=col>variable</th><th scope=col>value</th></tr>\n",
       "\t<tr><th></th><th scope=col>&lt;chr&gt;</th><th scope=col>&lt;chr&gt;</th><th scope=col>&lt;chr&gt;</th><th scope=col>&lt;chr&gt;</th><th scope=col>&lt;fct&gt;</th><th scope=col>&lt;dbl&gt;</th></tr>\n",
       "</thead>\n",
       "<tbody>\n",
       "\t<tr><th scope=row>1</th><td>B.cell</td><td>B.cell__ACTB </td><td>B.cell</td><td>ACTB </td><td>Factor1</td><td>-0.21732116</td></tr>\n",
       "\t<tr><th scope=row>2</th><td>B.cell</td><td>B.cell__ACTG1</td><td>B.cell</td><td>ACTG1</td><td>Factor1</td><td>-0.03822634</td></tr>\n",
       "</tbody>\n",
       "</table>\n"
      ],
      "text/latex": [
       "A data.frame: 2 × 6\n",
       "\\begin{tabular}{r|llllll}\n",
       "  & type & variable\\_name & view & gene & variable & value\\\\\n",
       "  & <chr> & <chr> & <chr> & <chr> & <fct> & <dbl>\\\\\n",
       "\\hline\n",
       "\t1 & B.cell & B.cell\\_\\_ACTB  & B.cell & ACTB  & Factor1 & -0.21732116\\\\\n",
       "\t2 & B.cell & B.cell\\_\\_ACTG1 & B.cell & ACTG1 & Factor1 & -0.03822634\\\\\n",
       "\\end{tabular}\n"
      ],
      "text/markdown": [
       "\n",
       "A data.frame: 2 × 6\n",
       "\n",
       "| <!--/--> | type &lt;chr&gt; | variable_name &lt;chr&gt; | view &lt;chr&gt; | gene &lt;chr&gt; | variable &lt;fct&gt; | value &lt;dbl&gt; |\n",
       "|---|---|---|---|---|---|---|\n",
       "| 1 | B.cell | B.cell__ACTB  | B.cell | ACTB  | Factor1 | -0.21732116 |\n",
       "| 2 | B.cell | B.cell__ACTG1 | B.cell | ACTG1 | Factor1 | -0.03822634 |\n",
       "\n"
      ],
      "text/plain": [
       "  type   variable_name view   gene  variable value      \n",
       "1 B.cell B.cell__ACTB  B.cell ACTB  Factor1  -0.21732116\n",
       "2 B.cell B.cell__ACTG1 B.cell ACTG1 Factor1  -0.03822634"
      ]
     },
     "metadata": {},
     "output_type": "display_data"
    }
   ],
   "source": [
    "head(feature_weights_long,2)"
   ]
  },
  {
   "cell_type": "markdown",
   "id": "051807fc-3e5b-4262-977a-70739f505aff",
   "metadata": {},
   "source": [
    "## Adjust feature names in the model"
   ]
  },
  {
   "cell_type": "code",
   "execution_count": 37,
   "id": "50d2a2a2-7e4c-4eb6-89c4-653ded4e69b1",
   "metadata": {},
   "outputs": [
    {
     "data": {
      "text/html": [
       "<style>\n",
       ".list-inline {list-style: none; margin:0; padding: 0}\n",
       ".list-inline>li {display: inline-block}\n",
       ".list-inline>li:not(:last-child)::after {content: \"\\00b7\"; padding: 0 .5ex}\n",
       "</style>\n",
       "<ol class=list-inline><li>'B.cell__ACTB'</li><li>'B.cell__ACTG1'</li><li>'B.cell__ACTR2'</li><li>'B.cell__ACTR3'</li><li>'B.cell__ADD3'</li><li>'B.cell__AES'</li></ol>\n"
      ],
      "text/latex": [
       "\\begin{enumerate*}\n",
       "\\item 'B.cell\\_\\_ACTB'\n",
       "\\item 'B.cell\\_\\_ACTG1'\n",
       "\\item 'B.cell\\_\\_ACTR2'\n",
       "\\item 'B.cell\\_\\_ACTR3'\n",
       "\\item 'B.cell\\_\\_ADD3'\n",
       "\\item 'B.cell\\_\\_AES'\n",
       "\\end{enumerate*}\n"
      ],
      "text/markdown": [
       "1. 'B.cell__ACTB'\n",
       "2. 'B.cell__ACTG1'\n",
       "3. 'B.cell__ACTR2'\n",
       "4. 'B.cell__ACTR3'\n",
       "5. 'B.cell__ADD3'\n",
       "6. 'B.cell__AES'\n",
       "\n",
       "\n"
      ],
      "text/plain": [
       "[1] \"B.cell__ACTB\"  \"B.cell__ACTG1\" \"B.cell__ACTR2\" \"B.cell__ACTR3\"\n",
       "[5] \"B.cell__ADD3\"  \"B.cell__AES\"  "
      ]
     },
     "metadata": {},
     "output_type": "display_data"
    }
   ],
   "source": [
    "head(features_names(model)[[1]] )"
   ]
  },
  {
   "cell_type": "code",
   "execution_count": 38,
   "id": "790decbc-1976-4fce-b491-5c80b4eca02b",
   "metadata": {},
   "outputs": [],
   "source": [
    "model_conc = model ## save original model for later\n",
    "for(i in names(features_names(model))){   \n",
    "        features_names(model)[[i]] = with(feature_weights_long, gene[match(features_names(model)[[i]], variable_name)])\n",
    "    }"
   ]
  },
  {
   "cell_type": "code",
   "execution_count": 39,
   "id": "7ce46cdd-57a2-474e-8164-2d43494d9d88",
   "metadata": {},
   "outputs": [
    {
     "data": {
      "text/html": [
       "<style>\n",
       ".list-inline {list-style: none; margin:0; padding: 0}\n",
       ".list-inline>li {display: inline-block}\n",
       ".list-inline>li:not(:last-child)::after {content: \"\\00b7\"; padding: 0 .5ex}\n",
       "</style>\n",
       "<ol class=list-inline><li>'ACTB'</li><li>'ACTG1'</li><li>'ACTR2'</li><li>'ACTR3'</li><li>'ADD3'</li><li>'AES'</li></ol>\n"
      ],
      "text/latex": [
       "\\begin{enumerate*}\n",
       "\\item 'ACTB'\n",
       "\\item 'ACTG1'\n",
       "\\item 'ACTR2'\n",
       "\\item 'ACTR3'\n",
       "\\item 'ADD3'\n",
       "\\item 'AES'\n",
       "\\end{enumerate*}\n"
      ],
      "text/markdown": [
       "1. 'ACTB'\n",
       "2. 'ACTG1'\n",
       "3. 'ACTR2'\n",
       "4. 'ACTR3'\n",
       "5. 'ADD3'\n",
       "6. 'AES'\n",
       "\n",
       "\n"
      ],
      "text/plain": [
       "[1] \"ACTB\"  \"ACTG1\" \"ACTR2\" \"ACTR3\" \"ADD3\"  \"AES\"  "
      ]
     },
     "metadata": {},
     "output_type": "display_data"
    }
   ],
   "source": [
    "head(features_names(model)[[1]] )"
   ]
  },
  {
   "cell_type": "markdown",
   "id": "68f118e7-c714-4e92-9b4a-bb00c10008e5",
   "metadata": {},
   "source": [
    "## Create a MOFA model for the overall enrichment analysis across views"
   ]
  },
  {
   "cell_type": "code",
   "execution_count": 40,
   "id": "e16a1da5-3d8c-4045-9be0-676bdad5d9d1",
   "metadata": {},
   "outputs": [],
   "source": [
    "# We need a model that has features of all views concatenated in a single view"
   ]
  },
  {
   "cell_type": "code",
   "execution_count": 41,
   "id": "cae7d861-6003-4ec4-91e2-c1eed7a851be",
   "metadata": {},
   "outputs": [],
   "source": [
    "views <- names(features_names(model_conc))\n",
    "tmp <- sapply(views, function(view) model_conc@intercepts[[view]]$group1)\n",
    "names(tmp) <- NULL  \n",
    "model_conc@intercepts[['complete']]$group1 = unlist(tmp)\n",
    "model_conc@expectations$W[['complete']] = do.call(rbind, lapply(views, function(view) model_conc@expectations$W[[view]]))\n",
    "model_conc@features_metadata = rbind(model_conc@features_metadata, \n",
    "                                     data.frame(feature = model_conc@features_metadata$feature, view=\"complete\"))\n",
    "model_conc@dimensions$D['complete'] = sum(model_conc@dimensions$D)\n",
    "model_conc@data[['complete']]$group1 = do.call(rbind, lapply(views, function(view) model_conc@data[[view]]$group1))\n",
    "model_conc@data_options$views = c(model_conc@data_options$views , 'complete')\n",
    "model_conc@model_options$likelihoods['complete'] = 'gaussian'\n",
    "model_conc@dimensions$M = length(views) + 1\n",
    "\n",
    "model_conc@cache$variance_explained$r2_total$group1['complete'] = mean(model_conc@cache$variance_explained$r2_total$group1)\n",
    "model_conc@cache$variance_explained$r2_per_factor$group1 = cbind(model@cache$variance_explained$r2_per_factor$group1, data.frame('complete' = rowMeans(model_conc@cache$variance_explained$r2_per_factor$group1)))"
   ]
  },
  {
   "cell_type": "code",
   "execution_count": 42,
   "id": "62640a96-f3c2-47ae-98a1-75d58c0a0285",
   "metadata": {},
   "outputs": [
    {
     "data": {
      "text/plain": [
       "Trained MOFA with the following characteristics: \n",
       " Number of views: 18 \n",
       " Views names: B.cell CD14.Mono CD16.Mono CD4.CTL CD4.Naive CD4.TCM CD4.TEM CD8.Naive CD8.TEM cDC2 clinical cytokine gdT neutrophil NK proteomic Treg complete \n",
       " Number of features (per view): 686 1589 1059 542 473 661 737 397 570 280 4 66 218 981 508 490 364 9625 \n",
       " Number of groups: 1 \n",
       " Groups names: group1 \n",
       " Number of samples (per group): 128 \n",
       " Number of factors: 20 \n"
      ]
     },
     "metadata": {},
     "output_type": "display_data"
    }
   ],
   "source": [
    "model_conc"
   ]
  },
  {
   "cell_type": "code",
   "execution_count": null,
   "id": "9b2766b1-3128-45b2-9719-6d883a46d729",
   "metadata": {},
   "outputs": [],
   "source": []
  },
  {
   "cell_type": "markdown",
   "id": "fa56b7a6-ed4d-47e8-9efa-cc660d8e25ae",
   "metadata": {},
   "source": [
    "# Prepare pathway data"
   ]
  },
  {
   "cell_type": "code",
   "execution_count": 43,
   "id": "1f307813-471a-4643-aac5-88f9f1a5d5fc",
   "metadata": {},
   "outputs": [
    {
     "data": {
      "text/html": [
       "<table class=\"dataframe\">\n",
       "<caption>A data.frame: 2 × 3</caption>\n",
       "<thead>\n",
       "\t<tr><th></th><th scope=col>ID</th><th scope=col>gene</th><th scope=col>pathway_name</th></tr>\n",
       "\t<tr><th></th><th scope=col>&lt;chr&gt;</th><th scope=col>&lt;chr&gt;</th><th scope=col>&lt;chr&gt;</th></tr>\n",
       "</thead>\n",
       "<tbody>\n",
       "\t<tr><th scope=row>1</th><td>R-HSA-1059683</td><td>JAK1 </td><td>Interleukin-6 signaling</td></tr>\n",
       "\t<tr><th scope=row>2</th><td>R-HSA-1059683</td><td>STAT1</td><td>Interleukin-6 signaling</td></tr>\n",
       "</tbody>\n",
       "</table>\n"
      ],
      "text/latex": [
       "A data.frame: 2 × 3\n",
       "\\begin{tabular}{r|lll}\n",
       "  & ID & gene & pathway\\_name\\\\\n",
       "  & <chr> & <chr> & <chr>\\\\\n",
       "\\hline\n",
       "\t1 & R-HSA-1059683 & JAK1  & Interleukin-6 signaling\\\\\n",
       "\t2 & R-HSA-1059683 & STAT1 & Interleukin-6 signaling\\\\\n",
       "\\end{tabular}\n"
      ],
      "text/markdown": [
       "\n",
       "A data.frame: 2 × 3\n",
       "\n",
       "| <!--/--> | ID &lt;chr&gt; | gene &lt;chr&gt; | pathway_name &lt;chr&gt; |\n",
       "|---|---|---|---|\n",
       "| 1 | R-HSA-1059683 | JAK1  | Interleukin-6 signaling |\n",
       "| 2 | R-HSA-1059683 | STAT1 | Interleukin-6 signaling |\n",
       "\n"
      ],
      "text/plain": [
       "  ID            gene  pathway_name           \n",
       "1 R-HSA-1059683 JAK1  Interleukin-6 signaling\n",
       "2 R-HSA-1059683 STAT1 Interleukin-6 signaling"
      ]
     },
     "metadata": {},
     "output_type": "display_data"
    }
   ],
   "source": [
    "head(pathways,2)"
   ]
  },
  {
   "cell_type": "markdown",
   "id": "80fe97f2-6c73-441a-bcb7-74ea08223baa",
   "metadata": {},
   "source": [
    "## Filter pathways out based on coverage"
   ]
  },
  {
   "cell_type": "code",
   "execution_count": 44,
   "id": "6d4a622f-bdfc-4868-a36a-3dedd09c143c",
   "metadata": {},
   "outputs": [],
   "source": [
    "## get MOFA input genes \n",
    "mofa_genes = data.frame(gene = unique(feature_weights_long$gene), is_feature = 1)"
   ]
  },
  {
   "cell_type": "code",
   "execution_count": 45,
   "id": "1b52630c-66cb-4d1f-a7d4-a323a0130f17",
   "metadata": {},
   "outputs": [
    {
     "data": {
      "text/html": [
       "<table class=\"dataframe\">\n",
       "<caption>A data.frame: 2 × 2</caption>\n",
       "<thead>\n",
       "\t<tr><th></th><th scope=col>gene</th><th scope=col>is_feature</th></tr>\n",
       "\t<tr><th></th><th scope=col>&lt;chr&gt;</th><th scope=col>&lt;dbl&gt;</th></tr>\n",
       "</thead>\n",
       "<tbody>\n",
       "\t<tr><th scope=row>1</th><td>ACTB </td><td>1</td></tr>\n",
       "\t<tr><th scope=row>2</th><td>ACTG1</td><td>1</td></tr>\n",
       "</tbody>\n",
       "</table>\n"
      ],
      "text/latex": [
       "A data.frame: 2 × 2\n",
       "\\begin{tabular}{r|ll}\n",
       "  & gene & is\\_feature\\\\\n",
       "  & <chr> & <dbl>\\\\\n",
       "\\hline\n",
       "\t1 & ACTB  & 1\\\\\n",
       "\t2 & ACTG1 & 1\\\\\n",
       "\\end{tabular}\n"
      ],
      "text/markdown": [
       "\n",
       "A data.frame: 2 × 2\n",
       "\n",
       "| <!--/--> | gene &lt;chr&gt; | is_feature &lt;dbl&gt; |\n",
       "|---|---|---|\n",
       "| 1 | ACTB  | 1 |\n",
       "| 2 | ACTG1 | 1 |\n",
       "\n"
      ],
      "text/plain": [
       "  gene  is_feature\n",
       "1 ACTB  1         \n",
       "2 ACTG1 1         "
      ]
     },
     "metadata": {},
     "output_type": "display_data"
    }
   ],
   "source": [
    "head(mofa_genes,2)"
   ]
  },
  {
   "cell_type": "code",
   "execution_count": 46,
   "id": "d5a1ffd9-1884-4885-8994-1e0bc28fc8ef",
   "metadata": {},
   "outputs": [],
   "source": [
    "### Merge features within mofa model to pathways\n",
    "feature_set = merge(pathways, mofa_genes, all.x = TRUE)  "
   ]
  },
  {
   "cell_type": "code",
   "execution_count": 47,
   "id": "eb6f38e6-336f-4ac1-8fae-ab70f6672ea7",
   "metadata": {},
   "outputs": [
    {
     "data": {
      "text/html": [
       "<table class=\"dataframe\">\n",
       "<caption>A data.frame: 2 × 4</caption>\n",
       "<thead>\n",
       "\t<tr><th></th><th scope=col>gene</th><th scope=col>ID</th><th scope=col>pathway_name</th><th scope=col>is_feature</th></tr>\n",
       "\t<tr><th></th><th scope=col>&lt;chr&gt;</th><th scope=col>&lt;chr&gt;</th><th scope=col>&lt;chr&gt;</th><th scope=col>&lt;dbl&gt;</th></tr>\n",
       "</thead>\n",
       "<tbody>\n",
       "\t<tr><th scope=row>1</th><td>A1BG</td><td>R-HSA-168256 </td><td>Immune System           </td><td>1</td></tr>\n",
       "\t<tr><th scope=row>2</th><td>A1BG</td><td>R-HSA-6798695</td><td>Neutrophil degranulation</td><td>1</td></tr>\n",
       "</tbody>\n",
       "</table>\n"
      ],
      "text/latex": [
       "A data.frame: 2 × 4\n",
       "\\begin{tabular}{r|llll}\n",
       "  & gene & ID & pathway\\_name & is\\_feature\\\\\n",
       "  & <chr> & <chr> & <chr> & <dbl>\\\\\n",
       "\\hline\n",
       "\t1 & A1BG & R-HSA-168256  & Immune System            & 1\\\\\n",
       "\t2 & A1BG & R-HSA-6798695 & Neutrophil degranulation & 1\\\\\n",
       "\\end{tabular}\n"
      ],
      "text/markdown": [
       "\n",
       "A data.frame: 2 × 4\n",
       "\n",
       "| <!--/--> | gene &lt;chr&gt; | ID &lt;chr&gt; | pathway_name &lt;chr&gt; | is_feature &lt;dbl&gt; |\n",
       "|---|---|---|---|---|\n",
       "| 1 | A1BG | R-HSA-168256  | Immune System            | 1 |\n",
       "| 2 | A1BG | R-HSA-6798695 | Neutrophil degranulation | 1 |\n",
       "\n"
      ],
      "text/plain": [
       "  gene ID            pathway_name             is_feature\n",
       "1 A1BG R-HSA-168256  Immune System            1         \n",
       "2 A1BG R-HSA-6798695 Neutrophil degranulation 1         "
      ]
     },
     "metadata": {},
     "output_type": "display_data"
    }
   ],
   "source": [
    "head(feature_set,2)"
   ]
  },
  {
   "cell_type": "code",
   "execution_count": 48,
   "id": "1b48c474-4c44-40d7-bc4a-f781e4f050e1",
   "metadata": {},
   "outputs": [
    {
     "name": "stderr",
     "output_type": "stream",
     "text": [
      "\u001b[1m\u001b[22m`summarise()` has grouped output by 'ID'. You can override using the `.groups` argument.\n",
      "\u001b[1m\u001b[22m`summarise()` has grouped output by 'ID'. You can override using the `.groups` argument.\n"
     ]
    },
    {
     "data": {
      "text/html": [
       "137"
      ],
      "text/latex": [
       "137"
      ],
      "text/markdown": [
       "137"
      ],
      "text/plain": [
       "[1] 137"
      ]
     },
     "metadata": {},
     "output_type": "display_data"
    }
   ],
   "source": [
    "### Remove pathways for which we have not a high amount of genes in our data (coverage_par)\n",
    "filter = feature_set %>% group_by(ID, pathway_name) %>% summarise(gene_amount = n(),matched_amount = sum(!is.na(is_feature)),  coverage = sum(!is.na(is_feature)) / n()) %>% filter(coverage >=  coverage_par)\n",
    "\n",
    "### Get the pathways that have been filtered out because of to low coverage\n",
    "filtered_pathways = feature_set %>% group_by(ID, pathway_name) %>% summarise(gene_amount = n(),matched_amount = sum(!is.na(is_feature)),  coverage = sum(!is.na(is_feature)) / n()) %>% filter(coverage <  coverage_par)\n",
    "nrow(filtered_pathways)  # amount of pathways that have een filtred out"
   ]
  },
  {
   "cell_type": "code",
   "execution_count": 49,
   "id": "75d6214a-da9e-45c2-be09-5fb2bfcb12e1",
   "metadata": {
    "tags": []
   },
   "outputs": [],
   "source": [
    "feature_set = merge(feature_set, filter)"
   ]
  },
  {
   "cell_type": "code",
   "execution_count": 50,
   "id": "e8d5e187-ecc3-4f86-97f4-d86afa5888af",
   "metadata": {},
   "outputs": [
    {
     "data": {
      "text/html": [
       "<table class=\"dataframe\">\n",
       "<caption>A grouped_df: 15 × 5</caption>\n",
       "<thead>\n",
       "\t<tr><th scope=col>ID</th><th scope=col>pathway_name</th><th scope=col>gene_amount</th><th scope=col>matched_amount</th><th scope=col>coverage</th></tr>\n",
       "\t<tr><th scope=col>&lt;chr&gt;</th><th scope=col>&lt;chr&gt;</th><th scope=col>&lt;int&gt;</th><th scope=col>&lt;int&gt;</th><th scope=col>&lt;dbl&gt;</th></tr>\n",
       "</thead>\n",
       "<tbody>\n",
       "\t<tr><td>R-HSA-1168372</td><td>Downstream signaling events of B Cell Receptor (BCR)        </td><td>101</td><td> 39</td><td>0.3861386</td></tr>\n",
       "\t<tr><td>R-HSA-1169091</td><td>Activation of NF-kappaB in B cells                          </td><td> 73</td><td> 25</td><td>0.3424658</td></tr>\n",
       "\t<tr><td>R-HSA-1169092</td><td>Activation of RAS in B cells                                </td><td>  7</td><td>  3</td><td>0.4285714</td></tr>\n",
       "\t<tr><td>R-HSA-1169408</td><td>ISG15 antiviral mechanism                                   </td><td> 72</td><td> 22</td><td>0.3055556</td></tr>\n",
       "\t<tr><td>R-HSA-1169410</td><td>Antiviral mechanism by IFN-stimulated genes                 </td><td> 80</td><td> 23</td><td>0.2875000</td></tr>\n",
       "\t<tr><td>R-HSA-1170546</td><td>Prolactin receptor signaling                                </td><td> 21</td><td>  3</td><td>0.1428571</td></tr>\n",
       "\t<tr><td>R-HSA-1222556</td><td>ROS and RNS production in phagocytes                        </td><td> 36</td><td> 16</td><td>0.4444444</td></tr>\n",
       "\t<tr><td>R-HSA-1236974</td><td>ER-Phagosome pathway                                        </td><td>100</td><td> 46</td><td>0.4600000</td></tr>\n",
       "\t<tr><td>R-HSA-1236975</td><td>Antigen processing-Cross presentation                       </td><td>164</td><td> 70</td><td>0.4268293</td></tr>\n",
       "\t<tr><td>R-HSA-1236977</td><td>Endosomal/Vacuolar pathway                                  </td><td> 11</td><td>  3</td><td>0.2727273</td></tr>\n",
       "\t<tr><td>R-HSA-1236978</td><td>Cross-presentation of soluble exogenous antigens (endosomes)</td><td> 53</td><td> 17</td><td>0.3207547</td></tr>\n",
       "\t<tr><td>R-HSA-1266695</td><td>Interleukin-7 signaling                                     </td><td> 63</td><td> 19</td><td>0.3015873</td></tr>\n",
       "\t<tr><td>R-HSA-1280215</td><td>Cytokine Signaling in Immune system                         </td><td>824</td><td>280</td><td>0.3398058</td></tr>\n",
       "\t<tr><td>R-HSA-1280218</td><td>Adaptive Immune System                                      </td><td>877</td><td>263</td><td>0.2998860</td></tr>\n",
       "\t<tr><td>R-HSA-1461957</td><td>Beta defensins                                              </td><td> 40</td><td>  2</td><td>0.0500000</td></tr>\n",
       "</tbody>\n",
       "</table>\n"
      ],
      "text/latex": [
       "A grouped\\_df: 15 × 5\n",
       "\\begin{tabular}{lllll}\n",
       " ID & pathway\\_name & gene\\_amount & matched\\_amount & coverage\\\\\n",
       " <chr> & <chr> & <int> & <int> & <dbl>\\\\\n",
       "\\hline\n",
       "\t R-HSA-1168372 & Downstream signaling events of B Cell Receptor (BCR)         & 101 &  39 & 0.3861386\\\\\n",
       "\t R-HSA-1169091 & Activation of NF-kappaB in B cells                           &  73 &  25 & 0.3424658\\\\\n",
       "\t R-HSA-1169092 & Activation of RAS in B cells                                 &   7 &   3 & 0.4285714\\\\\n",
       "\t R-HSA-1169408 & ISG15 antiviral mechanism                                    &  72 &  22 & 0.3055556\\\\\n",
       "\t R-HSA-1169410 & Antiviral mechanism by IFN-stimulated genes                  &  80 &  23 & 0.2875000\\\\\n",
       "\t R-HSA-1170546 & Prolactin receptor signaling                                 &  21 &   3 & 0.1428571\\\\\n",
       "\t R-HSA-1222556 & ROS and RNS production in phagocytes                         &  36 &  16 & 0.4444444\\\\\n",
       "\t R-HSA-1236974 & ER-Phagosome pathway                                         & 100 &  46 & 0.4600000\\\\\n",
       "\t R-HSA-1236975 & Antigen processing-Cross presentation                        & 164 &  70 & 0.4268293\\\\\n",
       "\t R-HSA-1236977 & Endosomal/Vacuolar pathway                                   &  11 &   3 & 0.2727273\\\\\n",
       "\t R-HSA-1236978 & Cross-presentation of soluble exogenous antigens (endosomes) &  53 &  17 & 0.3207547\\\\\n",
       "\t R-HSA-1266695 & Interleukin-7 signaling                                      &  63 &  19 & 0.3015873\\\\\n",
       "\t R-HSA-1280215 & Cytokine Signaling in Immune system                          & 824 & 280 & 0.3398058\\\\\n",
       "\t R-HSA-1280218 & Adaptive Immune System                                       & 877 & 263 & 0.2998860\\\\\n",
       "\t R-HSA-1461957 & Beta defensins                                               &  40 &   2 & 0.0500000\\\\\n",
       "\\end{tabular}\n"
      ],
      "text/markdown": [
       "\n",
       "A grouped_df: 15 × 5\n",
       "\n",
       "| ID &lt;chr&gt; | pathway_name &lt;chr&gt; | gene_amount &lt;int&gt; | matched_amount &lt;int&gt; | coverage &lt;dbl&gt; |\n",
       "|---|---|---|---|---|\n",
       "| R-HSA-1168372 | Downstream signaling events of B Cell Receptor (BCR)         | 101 |  39 | 0.3861386 |\n",
       "| R-HSA-1169091 | Activation of NF-kappaB in B cells                           |  73 |  25 | 0.3424658 |\n",
       "| R-HSA-1169092 | Activation of RAS in B cells                                 |   7 |   3 | 0.4285714 |\n",
       "| R-HSA-1169408 | ISG15 antiviral mechanism                                    |  72 |  22 | 0.3055556 |\n",
       "| R-HSA-1169410 | Antiviral mechanism by IFN-stimulated genes                  |  80 |  23 | 0.2875000 |\n",
       "| R-HSA-1170546 | Prolactin receptor signaling                                 |  21 |   3 | 0.1428571 |\n",
       "| R-HSA-1222556 | ROS and RNS production in phagocytes                         |  36 |  16 | 0.4444444 |\n",
       "| R-HSA-1236974 | ER-Phagosome pathway                                         | 100 |  46 | 0.4600000 |\n",
       "| R-HSA-1236975 | Antigen processing-Cross presentation                        | 164 |  70 | 0.4268293 |\n",
       "| R-HSA-1236977 | Endosomal/Vacuolar pathway                                   |  11 |   3 | 0.2727273 |\n",
       "| R-HSA-1236978 | Cross-presentation of soluble exogenous antigens (endosomes) |  53 |  17 | 0.3207547 |\n",
       "| R-HSA-1266695 | Interleukin-7 signaling                                      |  63 |  19 | 0.3015873 |\n",
       "| R-HSA-1280215 | Cytokine Signaling in Immune system                          | 824 | 280 | 0.3398058 |\n",
       "| R-HSA-1280218 | Adaptive Immune System                                       | 877 | 263 | 0.2998860 |\n",
       "| R-HSA-1461957 | Beta defensins                                               |  40 |   2 | 0.0500000 |\n",
       "\n"
      ],
      "text/plain": [
       "   ID            pathway_name                                                \n",
       "1  R-HSA-1168372 Downstream signaling events of B Cell Receptor (BCR)        \n",
       "2  R-HSA-1169091 Activation of NF-kappaB in B cells                          \n",
       "3  R-HSA-1169092 Activation of RAS in B cells                                \n",
       "4  R-HSA-1169408 ISG15 antiviral mechanism                                   \n",
       "5  R-HSA-1169410 Antiviral mechanism by IFN-stimulated genes                 \n",
       "6  R-HSA-1170546 Prolactin receptor signaling                                \n",
       "7  R-HSA-1222556 ROS and RNS production in phagocytes                        \n",
       "8  R-HSA-1236974 ER-Phagosome pathway                                        \n",
       "9  R-HSA-1236975 Antigen processing-Cross presentation                       \n",
       "10 R-HSA-1236977 Endosomal/Vacuolar pathway                                  \n",
       "11 R-HSA-1236978 Cross-presentation of soluble exogenous antigens (endosomes)\n",
       "12 R-HSA-1266695 Interleukin-7 signaling                                     \n",
       "13 R-HSA-1280215 Cytokine Signaling in Immune system                         \n",
       "14 R-HSA-1280218 Adaptive Immune System                                      \n",
       "15 R-HSA-1461957 Beta defensins                                              \n",
       "   gene_amount matched_amount coverage \n",
       "1  101          39            0.3861386\n",
       "2   73          25            0.3424658\n",
       "3    7           3            0.4285714\n",
       "4   72          22            0.3055556\n",
       "5   80          23            0.2875000\n",
       "6   21           3            0.1428571\n",
       "7   36          16            0.4444444\n",
       "8  100          46            0.4600000\n",
       "9  164          70            0.4268293\n",
       "10  11           3            0.2727273\n",
       "11  53          17            0.3207547\n",
       "12  63          19            0.3015873\n",
       "13 824         280            0.3398058\n",
       "14 877         263            0.2998860\n",
       "15  40           2            0.0500000"
      ]
     },
     "metadata": {},
     "output_type": "display_data"
    }
   ],
   "source": [
    "# Overview pathways that have been excluded from testing due to low amount of matching genes\n",
    "head(filtered_pathways,15) "
   ]
  },
  {
   "cell_type": "code",
   "execution_count": 51,
   "id": "c3014e7c-342a-451e-94de-853f50acd626",
   "metadata": {},
   "outputs": [],
   "source": [
    "### Remove NA entries for not mapped genes in feature set"
   ]
  },
  {
   "cell_type": "code",
   "execution_count": 52,
   "id": "146410de-7428-47e2-bd55-49f0b98ff3bf",
   "metadata": {},
   "outputs": [
    {
     "data": {
      "text/html": [
       "<table class=\"dataframe\">\n",
       "<caption>A data.frame: 2 × 7</caption>\n",
       "<thead>\n",
       "\t<tr><th></th><th scope=col>ID</th><th scope=col>pathway_name</th><th scope=col>gene</th><th scope=col>is_feature</th><th scope=col>gene_amount</th><th scope=col>matched_amount</th><th scope=col>coverage</th></tr>\n",
       "\t<tr><th></th><th scope=col>&lt;chr&gt;</th><th scope=col>&lt;chr&gt;</th><th scope=col>&lt;chr&gt;</th><th scope=col>&lt;dbl&gt;</th><th scope=col>&lt;int&gt;</th><th scope=col>&lt;int&gt;</th><th scope=col>&lt;dbl&gt;</th></tr>\n",
       "</thead>\n",
       "<tbody>\n",
       "\t<tr><th scope=row>1</th><td>R-HSA-1059683</td><td>Interleukin-6 signaling</td><td>CBL  </td><td>NA</td><td>15</td><td>11</td><td>0.7333333</td></tr>\n",
       "\t<tr><th scope=row>2</th><td>R-HSA-1059683</td><td>Interleukin-6 signaling</td><td>STAT1</td><td> 1</td><td>15</td><td>11</td><td>0.7333333</td></tr>\n",
       "</tbody>\n",
       "</table>\n"
      ],
      "text/latex": [
       "A data.frame: 2 × 7\n",
       "\\begin{tabular}{r|lllllll}\n",
       "  & ID & pathway\\_name & gene & is\\_feature & gene\\_amount & matched\\_amount & coverage\\\\\n",
       "  & <chr> & <chr> & <chr> & <dbl> & <int> & <int> & <dbl>\\\\\n",
       "\\hline\n",
       "\t1 & R-HSA-1059683 & Interleukin-6 signaling & CBL   & NA & 15 & 11 & 0.7333333\\\\\n",
       "\t2 & R-HSA-1059683 & Interleukin-6 signaling & STAT1 &  1 & 15 & 11 & 0.7333333\\\\\n",
       "\\end{tabular}\n"
      ],
      "text/markdown": [
       "\n",
       "A data.frame: 2 × 7\n",
       "\n",
       "| <!--/--> | ID &lt;chr&gt; | pathway_name &lt;chr&gt; | gene &lt;chr&gt; | is_feature &lt;dbl&gt; | gene_amount &lt;int&gt; | matched_amount &lt;int&gt; | coverage &lt;dbl&gt; |\n",
       "|---|---|---|---|---|---|---|---|\n",
       "| 1 | R-HSA-1059683 | Interleukin-6 signaling | CBL   | NA | 15 | 11 | 0.7333333 |\n",
       "| 2 | R-HSA-1059683 | Interleukin-6 signaling | STAT1 |  1 | 15 | 11 | 0.7333333 |\n",
       "\n"
      ],
      "text/plain": [
       "  ID            pathway_name            gene  is_feature gene_amount\n",
       "1 R-HSA-1059683 Interleukin-6 signaling CBL   NA         15         \n",
       "2 R-HSA-1059683 Interleukin-6 signaling STAT1  1         15         \n",
       "  matched_amount coverage \n",
       "1 11             0.7333333\n",
       "2 11             0.7333333"
      ]
     },
     "metadata": {},
     "output_type": "display_data"
    }
   ],
   "source": [
    "head(feature_set,2)"
   ]
  },
  {
   "cell_type": "code",
   "execution_count": 53,
   "id": "b2adb74e-debb-4cb3-850e-c68f395b1660",
   "metadata": {},
   "outputs": [],
   "source": [
    "feature_set = feature_set[!is.na(feature_set$is_feature),]"
   ]
  },
  {
   "cell_type": "code",
   "execution_count": 54,
   "id": "1df77c8e-4ca0-417b-82ed-596f4da1f27b",
   "metadata": {},
   "outputs": [
    {
     "data": {
      "text/html": [
       "1100"
      ],
      "text/latex": [
       "1100"
      ],
      "text/markdown": [
       "1100"
      ],
      "text/plain": [
       "[1] 1100"
      ]
     },
     "metadata": {},
     "output_type": "display_data"
    }
   ],
   "source": [
    "nrow(feature_set)"
   ]
  },
  {
   "cell_type": "code",
   "execution_count": 55,
   "id": "9ae60ad7-c0d2-4d23-92bb-2728d0aea93d",
   "metadata": {},
   "outputs": [
    {
     "data": {
      "text/html": [
       "<table class=\"dataframe\">\n",
       "<caption>A data.frame: 2 × 7</caption>\n",
       "<thead>\n",
       "\t<tr><th></th><th scope=col>ID</th><th scope=col>pathway_name</th><th scope=col>gene</th><th scope=col>is_feature</th><th scope=col>gene_amount</th><th scope=col>matched_amount</th><th scope=col>coverage</th></tr>\n",
       "\t<tr><th></th><th scope=col>&lt;chr&gt;</th><th scope=col>&lt;chr&gt;</th><th scope=col>&lt;chr&gt;</th><th scope=col>&lt;dbl&gt;</th><th scope=col>&lt;int&gt;</th><th scope=col>&lt;int&gt;</th><th scope=col>&lt;dbl&gt;</th></tr>\n",
       "</thead>\n",
       "<tbody>\n",
       "\t<tr><th scope=row>2</th><td>R-HSA-1059683</td><td>Interleukin-6 signaling</td><td>STAT1</td><td>1</td><td>15</td><td>11</td><td>0.7333333</td></tr>\n",
       "\t<tr><th scope=row>3</th><td>R-HSA-1059683</td><td>Interleukin-6 signaling</td><td>SOCS3</td><td>1</td><td>15</td><td>11</td><td>0.7333333</td></tr>\n",
       "</tbody>\n",
       "</table>\n"
      ],
      "text/latex": [
       "A data.frame: 2 × 7\n",
       "\\begin{tabular}{r|lllllll}\n",
       "  & ID & pathway\\_name & gene & is\\_feature & gene\\_amount & matched\\_amount & coverage\\\\\n",
       "  & <chr> & <chr> & <chr> & <dbl> & <int> & <int> & <dbl>\\\\\n",
       "\\hline\n",
       "\t2 & R-HSA-1059683 & Interleukin-6 signaling & STAT1 & 1 & 15 & 11 & 0.7333333\\\\\n",
       "\t3 & R-HSA-1059683 & Interleukin-6 signaling & SOCS3 & 1 & 15 & 11 & 0.7333333\\\\\n",
       "\\end{tabular}\n"
      ],
      "text/markdown": [
       "\n",
       "A data.frame: 2 × 7\n",
       "\n",
       "| <!--/--> | ID &lt;chr&gt; | pathway_name &lt;chr&gt; | gene &lt;chr&gt; | is_feature &lt;dbl&gt; | gene_amount &lt;int&gt; | matched_amount &lt;int&gt; | coverage &lt;dbl&gt; |\n",
       "|---|---|---|---|---|---|---|---|\n",
       "| 2 | R-HSA-1059683 | Interleukin-6 signaling | STAT1 | 1 | 15 | 11 | 0.7333333 |\n",
       "| 3 | R-HSA-1059683 | Interleukin-6 signaling | SOCS3 | 1 | 15 | 11 | 0.7333333 |\n",
       "\n"
      ],
      "text/plain": [
       "  ID            pathway_name            gene  is_feature gene_amount\n",
       "2 R-HSA-1059683 Interleukin-6 signaling STAT1 1          15         \n",
       "3 R-HSA-1059683 Interleukin-6 signaling SOCS3 1          15         \n",
       "  matched_amount coverage \n",
       "2 11             0.7333333\n",
       "3 11             0.7333333"
      ]
     },
     "metadata": {},
     "output_type": "display_data"
    }
   ],
   "source": [
    "head(feature_set,2)"
   ]
  },
  {
   "cell_type": "code",
   "execution_count": 56,
   "id": "2c07ab49-dfd9-4f6f-861a-cbfc8364fcd3",
   "metadata": {},
   "outputs": [],
   "source": [
    "### Save coverage for later usage\n",
    "coverage_info = unique(feature_set[,c('ID', 'pathway_name', 'coverage')])"
   ]
  },
  {
   "cell_type": "code",
   "execution_count": null,
   "id": "98400d4f-3ec8-40df-8c4d-dc74bda48e73",
   "metadata": {},
   "outputs": [],
   "source": []
  },
  {
   "cell_type": "code",
   "execution_count": 57,
   "id": "b0b1ae77-74ea-4c54-ae66-50743120a01e",
   "metadata": {},
   "outputs": [],
   "source": [
    "### Get genes that are not mapped / and add a not mapped pathway to use them in the background later"
   ]
  },
  {
   "cell_type": "code",
   "execution_count": 58,
   "id": "935abc0f-9ee2-4d15-a711-7267c98e3847",
   "metadata": {},
   "outputs": [],
   "source": [
    "non_pathway_genes = unique(mofa_genes$gene[!mofa_genes$gene %in% unique(feature_set$gene)])"
   ]
  },
  {
   "cell_type": "code",
   "execution_count": 59,
   "id": "db769bb8-f36e-4b66-ada1-823c6943c6d6",
   "metadata": {},
   "outputs": [],
   "source": [
    "add_pathway = data.frame(ID = 'Background', pathway_name = 'Background', gene = non_pathway_genes, \n",
    "                         is_feature = 1, gene_amount = length(non_pathway_genes), matched_amount =  length(non_pathway_genes),\n",
    "                         coverage = 1)"
   ]
  },
  {
   "cell_type": "code",
   "execution_count": 60,
   "id": "3dcaf535-ee54-4a3c-b9fa-91e6639e6ddd",
   "metadata": {},
   "outputs": [],
   "source": [
    "feature_set = rbind(feature_set, add_pathway)"
   ]
  },
  {
   "cell_type": "code",
   "execution_count": null,
   "id": "4c29eae3-ba43-4960-82ae-3ce710d83414",
   "metadata": {},
   "outputs": [],
   "source": []
  },
  {
   "cell_type": "markdown",
   "id": "1e7e623b-f046-47c8-ba44-76e2503c7abc",
   "metadata": {},
   "source": [
    "## Transform to binary matrix format"
   ]
  },
  {
   "cell_type": "code",
   "execution_count": 61,
   "id": "1ac2c0be-f5ae-40d7-a5c0-8471f76921aa",
   "metadata": {},
   "outputs": [
    {
     "data": {
      "text/html": [
       "<table class=\"dataframe\">\n",
       "<caption>A data.frame: 2 × 7</caption>\n",
       "<thead>\n",
       "\t<tr><th></th><th scope=col>ID</th><th scope=col>pathway_name</th><th scope=col>gene</th><th scope=col>is_feature</th><th scope=col>gene_amount</th><th scope=col>matched_amount</th><th scope=col>coverage</th></tr>\n",
       "\t<tr><th></th><th scope=col>&lt;chr&gt;</th><th scope=col>&lt;chr&gt;</th><th scope=col>&lt;chr&gt;</th><th scope=col>&lt;dbl&gt;</th><th scope=col>&lt;int&gt;</th><th scope=col>&lt;int&gt;</th><th scope=col>&lt;dbl&gt;</th></tr>\n",
       "</thead>\n",
       "<tbody>\n",
       "\t<tr><th scope=row>2</th><td>R-HSA-1059683</td><td>Interleukin-6 signaling</td><td>STAT1</td><td>1</td><td>15</td><td>11</td><td>0.7333333</td></tr>\n",
       "\t<tr><th scope=row>3</th><td>R-HSA-1059683</td><td>Interleukin-6 signaling</td><td>SOCS3</td><td>1</td><td>15</td><td>11</td><td>0.7333333</td></tr>\n",
       "</tbody>\n",
       "</table>\n"
      ],
      "text/latex": [
       "A data.frame: 2 × 7\n",
       "\\begin{tabular}{r|lllllll}\n",
       "  & ID & pathway\\_name & gene & is\\_feature & gene\\_amount & matched\\_amount & coverage\\\\\n",
       "  & <chr> & <chr> & <chr> & <dbl> & <int> & <int> & <dbl>\\\\\n",
       "\\hline\n",
       "\t2 & R-HSA-1059683 & Interleukin-6 signaling & STAT1 & 1 & 15 & 11 & 0.7333333\\\\\n",
       "\t3 & R-HSA-1059683 & Interleukin-6 signaling & SOCS3 & 1 & 15 & 11 & 0.7333333\\\\\n",
       "\\end{tabular}\n"
      ],
      "text/markdown": [
       "\n",
       "A data.frame: 2 × 7\n",
       "\n",
       "| <!--/--> | ID &lt;chr&gt; | pathway_name &lt;chr&gt; | gene &lt;chr&gt; | is_feature &lt;dbl&gt; | gene_amount &lt;int&gt; | matched_amount &lt;int&gt; | coverage &lt;dbl&gt; |\n",
       "|---|---|---|---|---|---|---|---|\n",
       "| 2 | R-HSA-1059683 | Interleukin-6 signaling | STAT1 | 1 | 15 | 11 | 0.7333333 |\n",
       "| 3 | R-HSA-1059683 | Interleukin-6 signaling | SOCS3 | 1 | 15 | 11 | 0.7333333 |\n",
       "\n"
      ],
      "text/plain": [
       "  ID            pathway_name            gene  is_feature gene_amount\n",
       "2 R-HSA-1059683 Interleukin-6 signaling STAT1 1          15         \n",
       "3 R-HSA-1059683 Interleukin-6 signaling SOCS3 1          15         \n",
       "  matched_amount coverage \n",
       "2 11             0.7333333\n",
       "3 11             0.7333333"
      ]
     },
     "metadata": {},
     "output_type": "display_data"
    }
   ],
   "source": [
    "head(feature_set,2)"
   ]
  },
  {
   "cell_type": "code",
   "execution_count": 62,
   "id": "d7b37e6d-f59f-42fe-b287-2c7760bb147b",
   "metadata": {},
   "outputs": [],
   "source": [
    "feature_set$pathway_id = paste0(feature_set$ID, '_', feature_set$pathway_name)"
   ]
  },
  {
   "cell_type": "code",
   "execution_count": 63,
   "id": "3a65c879-1c8b-4483-bf6f-867d6c41529f",
   "metadata": {},
   "outputs": [],
   "source": [
    "feature_set$value = 1"
   ]
  },
  {
   "cell_type": "code",
   "execution_count": 64,
   "id": "422b00a6-56c2-4702-8785-b585a9bc2cec",
   "metadata": {},
   "outputs": [],
   "source": [
    "### Adjust names for overall approach (concatenate gene names with cell-types and match to pathways)"
   ]
  },
  {
   "cell_type": "code",
   "execution_count": 65,
   "id": "93eb6290-2d0a-49fe-b1f5-fc14e79b5219",
   "metadata": {},
   "outputs": [],
   "source": [
    "feature_weights_long_mapped_join = unique(feature_weights_long[,c('gene', 'variable_name')])"
   ]
  },
  {
   "cell_type": "code",
   "execution_count": 66,
   "id": "db7b5b36-c929-4cfc-9c07-2cb89b2c6fd8",
   "metadata": {},
   "outputs": [
    {
     "data": {
      "text/html": [
       "<table class=\"dataframe\">\n",
       "<caption>A data.frame: 2 × 2</caption>\n",
       "<thead>\n",
       "\t<tr><th></th><th scope=col>gene</th><th scope=col>variable_name</th></tr>\n",
       "\t<tr><th></th><th scope=col>&lt;chr&gt;</th><th scope=col>&lt;chr&gt;</th></tr>\n",
       "</thead>\n",
       "<tbody>\n",
       "\t<tr><th scope=row>1</th><td>ACTB </td><td>B.cell__ACTB </td></tr>\n",
       "\t<tr><th scope=row>2</th><td>ACTG1</td><td>B.cell__ACTG1</td></tr>\n",
       "</tbody>\n",
       "</table>\n"
      ],
      "text/latex": [
       "A data.frame: 2 × 2\n",
       "\\begin{tabular}{r|ll}\n",
       "  & gene & variable\\_name\\\\\n",
       "  & <chr> & <chr>\\\\\n",
       "\\hline\n",
       "\t1 & ACTB  & B.cell\\_\\_ACTB \\\\\n",
       "\t2 & ACTG1 & B.cell\\_\\_ACTG1\\\\\n",
       "\\end{tabular}\n"
      ],
      "text/markdown": [
       "\n",
       "A data.frame: 2 × 2\n",
       "\n",
       "| <!--/--> | gene &lt;chr&gt; | variable_name &lt;chr&gt; |\n",
       "|---|---|---|\n",
       "| 1 | ACTB  | B.cell__ACTB  |\n",
       "| 2 | ACTG1 | B.cell__ACTG1 |\n",
       "\n"
      ],
      "text/plain": [
       "  gene  variable_name\n",
       "1 ACTB  B.cell__ACTB \n",
       "2 ACTG1 B.cell__ACTG1"
      ]
     },
     "metadata": {},
     "output_type": "display_data"
    }
   ],
   "source": [
    "head(feature_weights_long_mapped_join,2)"
   ]
  },
  {
   "cell_type": "code",
   "execution_count": 67,
   "id": "c3341be4-994f-4090-8b67-4a8f6623dfb5",
   "metadata": {},
   "outputs": [],
   "source": [
    "feature_set_all = merge(feature_set, feature_weights_long_mapped_join, by.x = 'gene', by.y = 'gene')"
   ]
  },
  {
   "cell_type": "code",
   "execution_count": 68,
   "id": "115be6a6-de7c-4f86-8d37-67399d5038e1",
   "metadata": {},
   "outputs": [
    {
     "data": {
      "text/html": [
       "12263"
      ],
      "text/latex": [
       "12263"
      ],
      "text/markdown": [
       "12263"
      ],
      "text/plain": [
       "[1] 12263"
      ]
     },
     "metadata": {},
     "output_type": "display_data"
    }
   ],
   "source": [
    "nrow(feature_set_all)"
   ]
  },
  {
   "cell_type": "code",
   "execution_count": 69,
   "id": "d2685fc3-48d5-48bd-8d44-2748496d3750",
   "metadata": {},
   "outputs": [],
   "source": [
    "### Binarize feature set to use in type-specific enrichment"
   ]
  },
  {
   "cell_type": "code",
   "execution_count": 70,
   "id": "b0dd4fff-470c-498d-95dd-c71acccb7ecf",
   "metadata": {},
   "outputs": [],
   "source": [
    "## Based on gene-name for overall enrichment\n",
    "\n",
    "feature_set = unique(feature_set[,c('pathway_id', 'gene', 'value')]) %>% dcast(pathway_id ~ gene, value.var = 'value')\n",
    "feature_set[is.na(feature_set)]= 0"
   ]
  },
  {
   "cell_type": "code",
   "execution_count": 71,
   "id": "44e7a0cc-99c6-4f31-be40-41854ea44927",
   "metadata": {},
   "outputs": [
    {
     "data": {
      "text/html": [
       "<table class=\"dataframe\">\n",
       "<caption>A data.frame: 2 × 2677</caption>\n",
       "<thead>\n",
       "\t<tr><th></th><th scope=col>pathway_id</th><th scope=col>A1BG</th><th scope=col>A2M</th><th scope=col>AAK1</th><th scope=col>AATK</th><th scope=col>ABCA7</th><th scope=col>ABHD17A</th><th scope=col>ABHD2</th><th scope=col>ABHD5</th><th scope=col>ABI1</th><th scope=col>⋯</th><th scope=col>ZNF331</th><th scope=col>ZNF385A</th><th scope=col>ZNF467</th><th scope=col>ZNF511.PRAP1</th><th scope=col>ZNF706</th><th scope=col>ZNFX1</th><th scope=col>ZNHIT1</th><th scope=col>ZRANB2</th><th scope=col>ZSWIM6</th><th scope=col>ZYX</th></tr>\n",
       "\t<tr><th></th><th scope=col>&lt;chr&gt;</th><th scope=col>&lt;dbl&gt;</th><th scope=col>&lt;dbl&gt;</th><th scope=col>&lt;dbl&gt;</th><th scope=col>&lt;dbl&gt;</th><th scope=col>&lt;dbl&gt;</th><th scope=col>&lt;dbl&gt;</th><th scope=col>&lt;dbl&gt;</th><th scope=col>&lt;dbl&gt;</th><th scope=col>&lt;dbl&gt;</th><th scope=col>⋯</th><th scope=col>&lt;dbl&gt;</th><th scope=col>&lt;dbl&gt;</th><th scope=col>&lt;dbl&gt;</th><th scope=col>&lt;dbl&gt;</th><th scope=col>&lt;dbl&gt;</th><th scope=col>&lt;dbl&gt;</th><th scope=col>&lt;dbl&gt;</th><th scope=col>&lt;dbl&gt;</th><th scope=col>&lt;dbl&gt;</th><th scope=col>&lt;dbl&gt;</th></tr>\n",
       "</thead>\n",
       "<tbody>\n",
       "\t<tr><th scope=row>1</th><td>Background_Background                </td><td>0</td><td>1</td><td>1</td><td>1</td><td>1</td><td>1</td><td>1</td><td>1</td><td>0</td><td>⋯</td><td>1</td><td>1</td><td>1</td><td>1</td><td>1</td><td>1</td><td>1</td><td>1</td><td>1</td><td>1</td></tr>\n",
       "\t<tr><th scope=row>2</th><td>R-HSA-1059683_Interleukin-6 signaling</td><td>0</td><td>0</td><td>0</td><td>0</td><td>0</td><td>0</td><td>0</td><td>0</td><td>0</td><td>⋯</td><td>0</td><td>0</td><td>0</td><td>0</td><td>0</td><td>0</td><td>0</td><td>0</td><td>0</td><td>0</td></tr>\n",
       "</tbody>\n",
       "</table>\n"
      ],
      "text/latex": [
       "A data.frame: 2 × 2677\n",
       "\\begin{tabular}{r|lllllllllllllllllllll}\n",
       "  & pathway\\_id & A1BG & A2M & AAK1 & AATK & ABCA7 & ABHD17A & ABHD2 & ABHD5 & ABI1 & ⋯ & ZNF331 & ZNF385A & ZNF467 & ZNF511.PRAP1 & ZNF706 & ZNFX1 & ZNHIT1 & ZRANB2 & ZSWIM6 & ZYX\\\\\n",
       "  & <chr> & <dbl> & <dbl> & <dbl> & <dbl> & <dbl> & <dbl> & <dbl> & <dbl> & <dbl> & ⋯ & <dbl> & <dbl> & <dbl> & <dbl> & <dbl> & <dbl> & <dbl> & <dbl> & <dbl> & <dbl>\\\\\n",
       "\\hline\n",
       "\t1 & Background\\_Background                 & 0 & 1 & 1 & 1 & 1 & 1 & 1 & 1 & 0 & ⋯ & 1 & 1 & 1 & 1 & 1 & 1 & 1 & 1 & 1 & 1\\\\\n",
       "\t2 & R-HSA-1059683\\_Interleukin-6 signaling & 0 & 0 & 0 & 0 & 0 & 0 & 0 & 0 & 0 & ⋯ & 0 & 0 & 0 & 0 & 0 & 0 & 0 & 0 & 0 & 0\\\\\n",
       "\\end{tabular}\n"
      ],
      "text/markdown": [
       "\n",
       "A data.frame: 2 × 2677\n",
       "\n",
       "| <!--/--> | pathway_id &lt;chr&gt; | A1BG &lt;dbl&gt; | A2M &lt;dbl&gt; | AAK1 &lt;dbl&gt; | AATK &lt;dbl&gt; | ABCA7 &lt;dbl&gt; | ABHD17A &lt;dbl&gt; | ABHD2 &lt;dbl&gt; | ABHD5 &lt;dbl&gt; | ABI1 &lt;dbl&gt; | ⋯ ⋯ | ZNF331 &lt;dbl&gt; | ZNF385A &lt;dbl&gt; | ZNF467 &lt;dbl&gt; | ZNF511.PRAP1 &lt;dbl&gt; | ZNF706 &lt;dbl&gt; | ZNFX1 &lt;dbl&gt; | ZNHIT1 &lt;dbl&gt; | ZRANB2 &lt;dbl&gt; | ZSWIM6 &lt;dbl&gt; | ZYX &lt;dbl&gt; |\n",
       "|---|---|---|---|---|---|---|---|---|---|---|---|---|---|---|---|---|---|---|---|---|---|\n",
       "| 1 | Background_Background                 | 0 | 1 | 1 | 1 | 1 | 1 | 1 | 1 | 0 | ⋯ | 1 | 1 | 1 | 1 | 1 | 1 | 1 | 1 | 1 | 1 |\n",
       "| 2 | R-HSA-1059683_Interleukin-6 signaling | 0 | 0 | 0 | 0 | 0 | 0 | 0 | 0 | 0 | ⋯ | 0 | 0 | 0 | 0 | 0 | 0 | 0 | 0 | 0 | 0 |\n",
       "\n"
      ],
      "text/plain": [
       "  pathway_id                            A1BG A2M AAK1 AATK ABCA7 ABHD17A ABHD2\n",
       "1 Background_Background                 0    1   1    1    1     1       1    \n",
       "2 R-HSA-1059683_Interleukin-6 signaling 0    0   0    0    0     0       0    \n",
       "  ABHD5 ABI1 ⋯ ZNF331 ZNF385A ZNF467 ZNF511.PRAP1 ZNF706 ZNFX1 ZNHIT1 ZRANB2\n",
       "1 1     0    ⋯ 1      1       1      1            1      1     1      1     \n",
       "2 0     0    ⋯ 0      0       0      0            0      0     0      0     \n",
       "  ZSWIM6 ZYX\n",
       "1 1      1  \n",
       "2 0      0  "
      ]
     },
     "metadata": {},
     "output_type": "display_data"
    }
   ],
   "source": [
    "head(feature_set,2)"
   ]
  },
  {
   "cell_type": "code",
   "execution_count": 72,
   "id": "c3acbc39-84e9-4970-bb45-65f954bf6c6d",
   "metadata": {},
   "outputs": [],
   "source": [
    "### Binarize feature set to use in overall enrichment"
   ]
  },
  {
   "cell_type": "code",
   "execution_count": 73,
   "id": "0e9efb5b-139e-447a-b68a-16c6a227e6ab",
   "metadata": {},
   "outputs": [],
   "source": [
    "feature_set_all = unique(feature_set_all[,c('pathway_id', 'variable_name', 'value')]) %>% dcast(pathway_id ~ variable_name, value.var = 'value')\n",
    "feature_set_all[is.na(feature_set_all)] = 0"
   ]
  },
  {
   "cell_type": "code",
   "execution_count": 74,
   "id": "d0cb106a-277c-406b-a503-083733148b77",
   "metadata": {},
   "outputs": [
    {
     "data": {
      "text/html": [
       "<table class=\"dataframe\">\n",
       "<caption>A data.frame: 2 × 9626</caption>\n",
       "<thead>\n",
       "\t<tr><th></th><th scope=col>pathway_id</th><th scope=col>B.cell__ACTB</th><th scope=col>B.cell__ACTG1</th><th scope=col>B.cell__ACTR2</th><th scope=col>B.cell__ACTR3</th><th scope=col>B.cell__ADD3</th><th scope=col>B.cell__AES</th><th scope=col>B.cell__AFF3</th><th scope=col>B.cell__AHNAK</th><th scope=col>B.cell__AKAP13</th><th scope=col>⋯</th><th scope=col>Treg__VIM</th><th scope=col>Treg__YBX1</th><th scope=col>Treg__YPEL5</th><th scope=col>Treg__YWHAB</th><th scope=col>Treg__YWHAZ</th><th scope=col>Treg__ZC3HAV1</th><th scope=col>Treg__ZFAS1</th><th scope=col>Treg__ZFP36</th><th scope=col>Treg__ZFP36L2</th><th scope=col>Treg__ZNF331</th></tr>\n",
       "\t<tr><th></th><th scope=col>&lt;chr&gt;</th><th scope=col>&lt;dbl&gt;</th><th scope=col>&lt;dbl&gt;</th><th scope=col>&lt;dbl&gt;</th><th scope=col>&lt;dbl&gt;</th><th scope=col>&lt;dbl&gt;</th><th scope=col>&lt;dbl&gt;</th><th scope=col>&lt;dbl&gt;</th><th scope=col>&lt;dbl&gt;</th><th scope=col>&lt;dbl&gt;</th><th scope=col>⋯</th><th scope=col>&lt;dbl&gt;</th><th scope=col>&lt;dbl&gt;</th><th scope=col>&lt;dbl&gt;</th><th scope=col>&lt;dbl&gt;</th><th scope=col>&lt;dbl&gt;</th><th scope=col>&lt;dbl&gt;</th><th scope=col>&lt;dbl&gt;</th><th scope=col>&lt;dbl&gt;</th><th scope=col>&lt;dbl&gt;</th><th scope=col>&lt;dbl&gt;</th></tr>\n",
       "</thead>\n",
       "<tbody>\n",
       "\t<tr><th scope=row>1</th><td>Background_Background                </td><td>0</td><td>0</td><td>0</td><td>0</td><td>1</td><td>1</td><td>1</td><td>1</td><td>1</td><td>⋯</td><td>0</td><td>1</td><td>0</td><td>0</td><td>0</td><td>1</td><td>1</td><td>1</td><td>1</td><td>1</td></tr>\n",
       "\t<tr><th scope=row>2</th><td>R-HSA-1059683_Interleukin-6 signaling</td><td>0</td><td>0</td><td>0</td><td>0</td><td>0</td><td>0</td><td>0</td><td>0</td><td>0</td><td>⋯</td><td>0</td><td>0</td><td>0</td><td>0</td><td>0</td><td>0</td><td>0</td><td>0</td><td>0</td><td>0</td></tr>\n",
       "</tbody>\n",
       "</table>\n"
      ],
      "text/latex": [
       "A data.frame: 2 × 9626\n",
       "\\begin{tabular}{r|lllllllllllllllllllll}\n",
       "  & pathway\\_id & B.cell\\_\\_ACTB & B.cell\\_\\_ACTG1 & B.cell\\_\\_ACTR2 & B.cell\\_\\_ACTR3 & B.cell\\_\\_ADD3 & B.cell\\_\\_AES & B.cell\\_\\_AFF3 & B.cell\\_\\_AHNAK & B.cell\\_\\_AKAP13 & ⋯ & Treg\\_\\_VIM & Treg\\_\\_YBX1 & Treg\\_\\_YPEL5 & Treg\\_\\_YWHAB & Treg\\_\\_YWHAZ & Treg\\_\\_ZC3HAV1 & Treg\\_\\_ZFAS1 & Treg\\_\\_ZFP36 & Treg\\_\\_ZFP36L2 & Treg\\_\\_ZNF331\\\\\n",
       "  & <chr> & <dbl> & <dbl> & <dbl> & <dbl> & <dbl> & <dbl> & <dbl> & <dbl> & <dbl> & ⋯ & <dbl> & <dbl> & <dbl> & <dbl> & <dbl> & <dbl> & <dbl> & <dbl> & <dbl> & <dbl>\\\\\n",
       "\\hline\n",
       "\t1 & Background\\_Background                 & 0 & 0 & 0 & 0 & 1 & 1 & 1 & 1 & 1 & ⋯ & 0 & 1 & 0 & 0 & 0 & 1 & 1 & 1 & 1 & 1\\\\\n",
       "\t2 & R-HSA-1059683\\_Interleukin-6 signaling & 0 & 0 & 0 & 0 & 0 & 0 & 0 & 0 & 0 & ⋯ & 0 & 0 & 0 & 0 & 0 & 0 & 0 & 0 & 0 & 0\\\\\n",
       "\\end{tabular}\n"
      ],
      "text/markdown": [
       "\n",
       "A data.frame: 2 × 9626\n",
       "\n",
       "| <!--/--> | pathway_id &lt;chr&gt; | B.cell__ACTB &lt;dbl&gt; | B.cell__ACTG1 &lt;dbl&gt; | B.cell__ACTR2 &lt;dbl&gt; | B.cell__ACTR3 &lt;dbl&gt; | B.cell__ADD3 &lt;dbl&gt; | B.cell__AES &lt;dbl&gt; | B.cell__AFF3 &lt;dbl&gt; | B.cell__AHNAK &lt;dbl&gt; | B.cell__AKAP13 &lt;dbl&gt; | ⋯ ⋯ | Treg__VIM &lt;dbl&gt; | Treg__YBX1 &lt;dbl&gt; | Treg__YPEL5 &lt;dbl&gt; | Treg__YWHAB &lt;dbl&gt; | Treg__YWHAZ &lt;dbl&gt; | Treg__ZC3HAV1 &lt;dbl&gt; | Treg__ZFAS1 &lt;dbl&gt; | Treg__ZFP36 &lt;dbl&gt; | Treg__ZFP36L2 &lt;dbl&gt; | Treg__ZNF331 &lt;dbl&gt; |\n",
       "|---|---|---|---|---|---|---|---|---|---|---|---|---|---|---|---|---|---|---|---|---|---|\n",
       "| 1 | Background_Background                 | 0 | 0 | 0 | 0 | 1 | 1 | 1 | 1 | 1 | ⋯ | 0 | 1 | 0 | 0 | 0 | 1 | 1 | 1 | 1 | 1 |\n",
       "| 2 | R-HSA-1059683_Interleukin-6 signaling | 0 | 0 | 0 | 0 | 0 | 0 | 0 | 0 | 0 | ⋯ | 0 | 0 | 0 | 0 | 0 | 0 | 0 | 0 | 0 | 0 |\n",
       "\n"
      ],
      "text/plain": [
       "  pathway_id                            B.cell__ACTB B.cell__ACTG1\n",
       "1 Background_Background                 0            0            \n",
       "2 R-HSA-1059683_Interleukin-6 signaling 0            0            \n",
       "  B.cell__ACTR2 B.cell__ACTR3 B.cell__ADD3 B.cell__AES B.cell__AFF3\n",
       "1 0             0             1            1           1           \n",
       "2 0             0             0            0           0           \n",
       "  B.cell__AHNAK B.cell__AKAP13 ⋯ Treg__VIM Treg__YBX1 Treg__YPEL5 Treg__YWHAB\n",
       "1 1             1              ⋯ 0         1          0           0          \n",
       "2 0             0              ⋯ 0         0          0           0          \n",
       "  Treg__YWHAZ Treg__ZC3HAV1 Treg__ZFAS1 Treg__ZFP36 Treg__ZFP36L2 Treg__ZNF331\n",
       "1 0           1             1           1           1             1           \n",
       "2 0           0             0           0           0             0           "
      ]
     },
     "metadata": {},
     "output_type": "display_data"
    }
   ],
   "source": [
    "head(feature_set_all,2) # feature set containing only genes"
   ]
  },
  {
   "cell_type": "code",
   "execution_count": 75,
   "id": "8c8d9a42-ccc8-4808-b69a-e48aa709dc96",
   "metadata": {},
   "outputs": [],
   "source": [
    "## Adjust rownames and convert to matrix"
   ]
  },
  {
   "cell_type": "code",
   "execution_count": 76,
   "id": "acc820d1-c4aa-4bd3-ae85-f9cbad2b661c",
   "metadata": {},
   "outputs": [],
   "source": [
    "rownames(feature_set) = feature_set$pathway_id\n",
    "rownames(feature_set_all) = feature_set_all$pathway_id"
   ]
  },
  {
   "cell_type": "code",
   "execution_count": 77,
   "id": "d838e256-c0ab-4b74-b1aa-59eb6a73b406",
   "metadata": {},
   "outputs": [],
   "source": [
    "feature_set$pathway_id = NULL\n",
    "feature_set_all$pathway_id = NULL"
   ]
  },
  {
   "cell_type": "code",
   "execution_count": 78,
   "id": "14fc0d5b-efb1-4c51-badc-1dc2325cd883",
   "metadata": {},
   "outputs": [],
   "source": [
    "feature_set = as.matrix(feature_set)\n",
    "feature_set_all = as.matrix(feature_set_all)"
   ]
  },
  {
   "cell_type": "markdown",
   "id": "fb6a3235-87fc-4125-a940-0b24214ccef6",
   "metadata": {},
   "source": [
    "# Run pathway enrichment"
   ]
  },
  {
   "cell_type": "markdown",
   "id": "4f98ff41-422f-4907-9340-f43b3d14b431",
   "metadata": {},
   "source": [
    "## Per View"
   ]
  },
  {
   "cell_type": "code",
   "execution_count": 79,
   "id": "94629b40-d098-4e87-bd71-0867486d792a",
   "metadata": {
    "tags": []
   },
   "outputs": [
    {
     "name": "stderr",
     "output_type": "stream",
     "text": [
      "Intersecting features names in the model and the gene set annotation results in a total of 686 features.\n",
      "\n",
      "\n",
      "Running feature set Enrichment Analysis with the following options...\n",
      "View: B.cell \n",
      "Number of feature sets: 13 \n",
      "Set statistic: rank.sum \n",
      "Statistical test: parametric \n",
      "\n",
      "\n",
      "\n",
      "\n",
      "\n",
      "Using pathway as id variables\n",
      "\n",
      "Using pathway as id variables\n",
      "\n",
      "Intersecting features names in the model and the gene set annotation results in a total of 686 features.\n",
      "\n",
      "\n",
      "Running feature set Enrichment Analysis with the following options...\n",
      "View: B.cell \n",
      "Number of feature sets: 13 \n",
      "Set statistic: rank.sum \n",
      "Statistical test: parametric \n",
      "\n",
      "\n",
      "Subsetting weights with negative sign\n",
      "\n",
      "\n",
      "\n",
      "\n",
      "Using pathway as id variables\n",
      "\n",
      "Using pathway as id variables\n",
      "\n",
      "Intersecting features names in the model and the gene set annotation results in a total of 686 features.\n",
      "\n",
      "\n",
      "Running feature set Enrichment Analysis with the following options...\n",
      "View: B.cell \n",
      "Number of feature sets: 13 \n",
      "Set statistic: rank.sum \n",
      "Statistical test: parametric \n",
      "\n",
      "\n",
      "Subsetting weights with positive sign\n",
      "\n",
      "\n",
      "\n",
      "\n",
      "Using pathway as id variables\n",
      "\n",
      "Using pathway as id variables\n",
      "\n",
      "Warning message in run_enrichment(model, view = i, factors = factor_set, set.statistic = c(use_statistic), :\n",
      "“1 features were removed because they had no variance in the data.\n",
      "”\n",
      "Intersecting features names in the model and the gene set annotation results in a total of 1058 features.\n",
      "\n",
      "\n",
      "Running feature set Enrichment Analysis with the following options...\n",
      "View: CD16.Mono \n",
      "Number of feature sets: 23 \n",
      "Set statistic: rank.sum \n",
      "Statistical test: parametric \n",
      "\n",
      "\n",
      "\n",
      "\n",
      "\n",
      "Using pathway as id variables\n",
      "\n",
      "Using pathway as id variables\n",
      "\n",
      "Warning message in run_enrichment(model, view = i, factors = factor_set, set.statistic = c(use_statistic), :\n",
      "“1 features were removed because they had no variance in the data.\n",
      "”\n",
      "Intersecting features names in the model and the gene set annotation results in a total of 1058 features.\n",
      "\n",
      "\n",
      "Running feature set Enrichment Analysis with the following options...\n",
      "View: CD16.Mono \n",
      "Number of feature sets: 23 \n",
      "Set statistic: rank.sum \n",
      "Statistical test: parametric \n",
      "\n",
      "\n",
      "Subsetting weights with negative sign\n",
      "\n",
      "\n",
      "\n",
      "\n",
      "Using pathway as id variables\n",
      "\n",
      "Using pathway as id variables\n",
      "\n",
      "Warning message in run_enrichment(model, view = i, factors = factor_set, set.statistic = c(use_statistic), :\n",
      "“1 features were removed because they had no variance in the data.\n",
      "”\n",
      "Intersecting features names in the model and the gene set annotation results in a total of 1058 features.\n",
      "\n",
      "\n",
      "Running feature set Enrichment Analysis with the following options...\n",
      "View: CD16.Mono \n",
      "Number of feature sets: 23 \n",
      "Set statistic: rank.sum \n",
      "Statistical test: parametric \n",
      "\n",
      "\n",
      "Subsetting weights with positive sign\n",
      "\n",
      "\n",
      "\n",
      "\n",
      "Using pathway as id variables\n",
      "\n",
      "Using pathway as id variables\n",
      "\n",
      "Intersecting features names in the model and the gene set annotation results in a total of 542 features.\n",
      "\n",
      "\n",
      "Running feature set Enrichment Analysis with the following options...\n",
      "View: CD4.CTL \n",
      "Number of feature sets: 11 \n",
      "Set statistic: rank.sum \n",
      "Statistical test: parametric \n",
      "\n",
      "\n",
      "\n",
      "\n",
      "\n",
      "Using pathway as id variables\n",
      "\n",
      "Using pathway as id variables\n",
      "\n",
      "Intersecting features names in the model and the gene set annotation results in a total of 542 features.\n",
      "\n",
      "\n",
      "Running feature set Enrichment Analysis with the following options...\n",
      "View: CD4.CTL \n",
      "Number of feature sets: 11 \n",
      "Set statistic: rank.sum \n",
      "Statistical test: parametric \n",
      "\n",
      "\n",
      "Subsetting weights with negative sign\n",
      "\n",
      "\n",
      "\n",
      "\n",
      "Using pathway as id variables\n",
      "\n",
      "Using pathway as id variables\n",
      "\n",
      "Intersecting features names in the model and the gene set annotation results in a total of 542 features.\n",
      "\n",
      "\n",
      "Running feature set Enrichment Analysis with the following options...\n",
      "View: CD4.CTL \n",
      "Number of feature sets: 11 \n",
      "Set statistic: rank.sum \n",
      "Statistical test: parametric \n",
      "\n",
      "\n",
      "Subsetting weights with positive sign\n",
      "\n",
      "\n",
      "\n",
      "\n",
      "Using pathway as id variables\n",
      "\n",
      "Using pathway as id variables\n",
      "\n",
      "Warning message in run_enrichment(model, view = i, factors = factor_set, set.statistic = c(use_statistic), :\n",
      "“1 features were removed because they had no variance in the data.\n",
      "”\n",
      "Intersecting features names in the model and the gene set annotation results in a total of 472 features.\n",
      "\n",
      "\n",
      "Running feature set Enrichment Analysis with the following options...\n",
      "View: CD4.Naive \n",
      "Number of feature sets: 10 \n",
      "Set statistic: rank.sum \n",
      "Statistical test: parametric \n",
      "\n",
      "\n",
      "\n",
      "\n",
      "\n",
      "Using pathway as id variables\n",
      "\n",
      "Using pathway as id variables\n",
      "\n",
      "Warning message in run_enrichment(model, view = i, factors = factor_set, set.statistic = c(use_statistic), :\n",
      "“1 features were removed because they had no variance in the data.\n",
      "”\n",
      "Intersecting features names in the model and the gene set annotation results in a total of 472 features.\n",
      "\n",
      "\n",
      "Running feature set Enrichment Analysis with the following options...\n",
      "View: CD4.Naive \n",
      "Number of feature sets: 10 \n",
      "Set statistic: rank.sum \n",
      "Statistical test: parametric \n",
      "\n",
      "\n",
      "Subsetting weights with negative sign\n",
      "\n",
      "\n",
      "\n",
      "\n",
      "Using pathway as id variables\n",
      "\n",
      "Using pathway as id variables\n",
      "\n",
      "Warning message in run_enrichment(model, view = i, factors = factor_set, set.statistic = c(use_statistic), :\n",
      "“1 features were removed because they had no variance in the data.\n",
      "”\n",
      "Intersecting features names in the model and the gene set annotation results in a total of 472 features.\n",
      "\n",
      "\n",
      "Running feature set Enrichment Analysis with the following options...\n",
      "View: CD4.Naive \n",
      "Number of feature sets: 10 \n",
      "Set statistic: rank.sum \n",
      "Statistical test: parametric \n",
      "\n",
      "\n",
      "Subsetting weights with positive sign\n",
      "\n",
      "\n",
      "\n",
      "\n",
      "Using pathway as id variables\n",
      "\n",
      "Using pathway as id variables\n",
      "\n",
      "Warning message in run_enrichment(model, view = i, factors = factor_set, set.statistic = c(use_statistic), :\n",
      "“1 features were removed because they had no variance in the data.\n",
      "”\n",
      "Intersecting features names in the model and the gene set annotation results in a total of 660 features.\n",
      "\n",
      "\n",
      "Running feature set Enrichment Analysis with the following options...\n",
      "View: CD4.TCM \n",
      "Number of feature sets: 13 \n",
      "Set statistic: rank.sum \n",
      "Statistical test: parametric \n",
      "\n",
      "\n",
      "\n",
      "\n",
      "\n",
      "Using pathway as id variables\n",
      "\n",
      "Using pathway as id variables\n",
      "\n",
      "Warning message in run_enrichment(model, view = i, factors = factor_set, set.statistic = c(use_statistic), :\n",
      "“1 features were removed because they had no variance in the data.\n",
      "”\n",
      "Intersecting features names in the model and the gene set annotation results in a total of 660 features.\n",
      "\n",
      "\n",
      "Running feature set Enrichment Analysis with the following options...\n",
      "View: CD4.TCM \n",
      "Number of feature sets: 13 \n",
      "Set statistic: rank.sum \n",
      "Statistical test: parametric \n",
      "\n",
      "\n",
      "Subsetting weights with negative sign\n",
      "\n",
      "\n",
      "\n",
      "\n",
      "Using pathway as id variables\n",
      "\n",
      "Using pathway as id variables\n",
      "\n",
      "Warning message in run_enrichment(model, view = i, factors = factor_set, set.statistic = c(use_statistic), :\n",
      "“1 features were removed because they had no variance in the data.\n",
      "”\n",
      "Intersecting features names in the model and the gene set annotation results in a total of 660 features.\n",
      "\n",
      "\n",
      "Running feature set Enrichment Analysis with the following options...\n",
      "View: CD4.TCM \n",
      "Number of feature sets: 13 \n",
      "Set statistic: rank.sum \n",
      "Statistical test: parametric \n",
      "\n",
      "\n",
      "Subsetting weights with positive sign\n",
      "\n",
      "\n",
      "\n",
      "\n",
      "Using pathway as id variables\n",
      "\n",
      "Using pathway as id variables\n",
      "\n",
      "Warning message in run_enrichment(model, view = i, factors = factor_set, set.statistic = c(use_statistic), :\n",
      "“1 features were removed because they had no variance in the data.\n",
      "”\n",
      "Intersecting features names in the model and the gene set annotation results in a total of 736 features.\n",
      "\n",
      "\n",
      "Running feature set Enrichment Analysis with the following options...\n",
      "View: CD4.TEM \n",
      "Number of feature sets: 14 \n",
      "Set statistic: rank.sum \n",
      "Statistical test: parametric \n",
      "\n",
      "\n",
      "\n",
      "\n",
      "\n",
      "Using pathway as id variables\n",
      "\n",
      "Using pathway as id variables\n",
      "\n",
      "Warning message in run_enrichment(model, view = i, factors = factor_set, set.statistic = c(use_statistic), :\n",
      "“1 features were removed because they had no variance in the data.\n",
      "”\n",
      "Intersecting features names in the model and the gene set annotation results in a total of 736 features.\n",
      "\n",
      "\n",
      "Running feature set Enrichment Analysis with the following options...\n",
      "View: CD4.TEM \n",
      "Number of feature sets: 14 \n",
      "Set statistic: rank.sum \n",
      "Statistical test: parametric \n",
      "\n",
      "\n",
      "Subsetting weights with negative sign\n",
      "\n",
      "\n",
      "\n",
      "\n",
      "Using pathway as id variables\n",
      "\n",
      "Using pathway as id variables\n",
      "\n",
      "Warning message in run_enrichment(model, view = i, factors = factor_set, set.statistic = c(use_statistic), :\n",
      "“1 features were removed because they had no variance in the data.\n",
      "”\n",
      "Intersecting features names in the model and the gene set annotation results in a total of 736 features.\n",
      "\n",
      "\n",
      "Running feature set Enrichment Analysis with the following options...\n",
      "View: CD4.TEM \n",
      "Number of feature sets: 14 \n",
      "Set statistic: rank.sum \n",
      "Statistical test: parametric \n",
      "\n",
      "\n",
      "Subsetting weights with positive sign\n",
      "\n",
      "\n",
      "\n",
      "\n",
      "Using pathway as id variables\n",
      "\n",
      "Using pathway as id variables\n",
      "\n",
      "Intersecting features names in the model and the gene set annotation results in a total of 280 features.\n",
      "\n",
      "\n",
      "Running feature set Enrichment Analysis with the following options...\n",
      "View: cDC2 \n",
      "Number of feature sets: 10 \n",
      "Set statistic: rank.sum \n",
      "Statistical test: parametric \n",
      "\n",
      "\n",
      "\n",
      "\n",
      "\n",
      "Using pathway as id variables\n",
      "\n",
      "Using pathway as id variables\n",
      "\n",
      "Intersecting features names in the model and the gene set annotation results in a total of 280 features.\n",
      "\n",
      "\n",
      "Running feature set Enrichment Analysis with the following options...\n",
      "View: cDC2 \n",
      "Number of feature sets: 10 \n",
      "Set statistic: rank.sum \n",
      "Statistical test: parametric \n",
      "\n",
      "\n",
      "Subsetting weights with negative sign\n",
      "\n",
      "\n",
      "\n",
      "\n",
      "Using pathway as id variables\n",
      "\n",
      "Using pathway as id variables\n",
      "\n",
      "Intersecting features names in the model and the gene set annotation results in a total of 280 features.\n",
      "\n",
      "\n",
      "Running feature set Enrichment Analysis with the following options...\n",
      "View: cDC2 \n",
      "Number of feature sets: 10 \n",
      "Set statistic: rank.sum \n",
      "Statistical test: parametric \n",
      "\n",
      "\n",
      "Subsetting weights with positive sign\n",
      "\n",
      "\n",
      "\n",
      "\n",
      "Using pathway as id variables\n",
      "\n",
      "Using pathway as id variables\n",
      "\n",
      "Intersecting features names in the model and the gene set annotation results in a total of 218 features.\n",
      "\n",
      "\n",
      "Running feature set Enrichment Analysis with the following options...\n",
      "View: gdT \n",
      "Number of feature sets: 8 \n",
      "Set statistic: rank.sum \n",
      "Statistical test: parametric \n",
      "\n",
      "\n",
      "\n",
      "\n",
      "\n",
      "Using pathway as id variables\n",
      "\n",
      "Using pathway as id variables\n",
      "\n",
      "Intersecting features names in the model and the gene set annotation results in a total of 218 features.\n",
      "\n",
      "\n",
      "Running feature set Enrichment Analysis with the following options...\n",
      "View: gdT \n",
      "Number of feature sets: 8 \n",
      "Set statistic: rank.sum \n",
      "Statistical test: parametric \n",
      "\n",
      "\n",
      "Subsetting weights with negative sign\n",
      "\n",
      "\n",
      "\n",
      "\n",
      "Using pathway as id variables\n",
      "\n",
      "Using pathway as id variables\n",
      "\n",
      "Intersecting features names in the model and the gene set annotation results in a total of 218 features.\n",
      "\n",
      "\n",
      "Running feature set Enrichment Analysis with the following options...\n",
      "View: gdT \n",
      "Number of feature sets: 8 \n",
      "Set statistic: rank.sum \n",
      "Statistical test: parametric \n",
      "\n",
      "\n",
      "Subsetting weights with positive sign\n",
      "\n",
      "\n",
      "\n",
      "\n",
      "Using pathway as id variables\n",
      "\n",
      "Using pathway as id variables\n",
      "\n",
      "Intersecting features names in the model and the gene set annotation results in a total of 980 features.\n",
      "\n",
      "\n",
      "Running feature set Enrichment Analysis with the following options...\n",
      "View: neutrophil \n",
      "Number of feature sets: 19 \n",
      "Set statistic: rank.sum \n",
      "Statistical test: parametric \n",
      "\n",
      "\n",
      "\n",
      "\n",
      "\n",
      "Using pathway as id variables\n",
      "\n",
      "Using pathway as id variables\n",
      "\n",
      "Intersecting features names in the model and the gene set annotation results in a total of 980 features.\n",
      "\n",
      "\n",
      "Running feature set Enrichment Analysis with the following options...\n",
      "View: neutrophil \n",
      "Number of feature sets: 19 \n",
      "Set statistic: rank.sum \n",
      "Statistical test: parametric \n",
      "\n",
      "\n",
      "Subsetting weights with negative sign\n",
      "\n",
      "\n",
      "\n",
      "\n",
      "Using pathway as id variables\n",
      "\n",
      "Using pathway as id variables\n",
      "\n",
      "Intersecting features names in the model and the gene set annotation results in a total of 980 features.\n",
      "\n",
      "\n",
      "Running feature set Enrichment Analysis with the following options...\n",
      "View: neutrophil \n",
      "Number of feature sets: 19 \n",
      "Set statistic: rank.sum \n",
      "Statistical test: parametric \n",
      "\n",
      "\n",
      "Subsetting weights with positive sign\n",
      "\n",
      "\n",
      "\n",
      "\n",
      "Using pathway as id variables\n",
      "\n",
      "Using pathway as id variables\n",
      "\n",
      "Warning message in run_enrichment(model, view = i, factors = factor_set, set.statistic = c(use_statistic), :\n",
      "“2 features were removed because they had no variance in the data.\n",
      "”\n",
      "Intersecting features names in the model and the gene set annotation results in a total of 506 features.\n",
      "\n",
      "\n",
      "Running feature set Enrichment Analysis with the following options...\n",
      "View: NK \n",
      "Number of feature sets: 13 \n",
      "Set statistic: rank.sum \n",
      "Statistical test: parametric \n",
      "\n",
      "\n",
      "\n",
      "\n",
      "\n",
      "Using pathway as id variables\n",
      "\n",
      "Using pathway as id variables\n",
      "\n",
      "Warning message in run_enrichment(model, view = i, factors = factor_set, set.statistic = c(use_statistic), :\n",
      "“2 features were removed because they had no variance in the data.\n",
      "”\n",
      "Intersecting features names in the model and the gene set annotation results in a total of 506 features.\n",
      "\n",
      "\n",
      "Running feature set Enrichment Analysis with the following options...\n",
      "View: NK \n",
      "Number of feature sets: 13 \n",
      "Set statistic: rank.sum \n",
      "Statistical test: parametric \n",
      "\n",
      "\n",
      "Subsetting weights with negative sign\n",
      "\n",
      "\n",
      "\n",
      "\n",
      "Using pathway as id variables\n",
      "\n",
      "Using pathway as id variables\n",
      "\n",
      "Warning message in run_enrichment(model, view = i, factors = factor_set, set.statistic = c(use_statistic), :\n",
      "“2 features were removed because they had no variance in the data.\n",
      "”\n",
      "Intersecting features names in the model and the gene set annotation results in a total of 506 features.\n",
      "\n",
      "\n",
      "Running feature set Enrichment Analysis with the following options...\n",
      "View: NK \n",
      "Number of feature sets: 13 \n",
      "Set statistic: rank.sum \n",
      "Statistical test: parametric \n",
      "\n",
      "\n",
      "Subsetting weights with positive sign\n",
      "\n",
      "\n",
      "\n",
      "\n",
      "Using pathway as id variables\n",
      "\n",
      "Using pathway as id variables\n",
      "\n",
      "Intersecting features names in the model and the gene set annotation results in a total of 364 features.\n",
      "\n",
      "\n",
      "Running feature set Enrichment Analysis with the following options...\n",
      "View: Treg \n",
      "Number of feature sets: 10 \n",
      "Set statistic: rank.sum \n",
      "Statistical test: parametric \n",
      "\n",
      "\n",
      "\n",
      "\n",
      "\n",
      "Using pathway as id variables\n",
      "\n",
      "Using pathway as id variables\n",
      "\n",
      "Intersecting features names in the model and the gene set annotation results in a total of 364 features.\n",
      "\n",
      "\n",
      "Running feature set Enrichment Analysis with the following options...\n",
      "View: Treg \n",
      "Number of feature sets: 10 \n",
      "Set statistic: rank.sum \n",
      "Statistical test: parametric \n",
      "\n",
      "\n",
      "Subsetting weights with negative sign\n",
      "\n",
      "\n",
      "\n",
      "\n",
      "Using pathway as id variables\n",
      "\n",
      "Using pathway as id variables\n",
      "\n",
      "Intersecting features names in the model and the gene set annotation results in a total of 364 features.\n",
      "\n",
      "\n",
      "Running feature set Enrichment Analysis with the following options...\n",
      "View: Treg \n",
      "Number of feature sets: 10 \n",
      "Set statistic: rank.sum \n",
      "Statistical test: parametric \n",
      "\n",
      "\n",
      "Subsetting weights with positive sign\n",
      "\n",
      "\n",
      "\n",
      "\n",
      "Using pathway as id variables\n",
      "\n",
      "Using pathway as id variables\n",
      "\n"
     ]
    }
   ],
   "source": [
    "if(max(views_set) != ''){\n",
    "    enrichment_result_types = run_enrichment_pathway(\n",
    "        model = model, # MOFA Model\n",
    "        factor_set = factor_set, # list of factors for which to run the enrichment\n",
    "        views = views_set,\n",
    "        use_statistic = use_statistic, # which statistic to use\n",
    "        feature_set = feature_set, # Pathway Feature Set mapping; here use without type names\n",
    "        min_size = min_size, # Min size of genes within a pathway\n",
    "        use_test = use_test, # test used for calculating p-value\n",
    "        p_val_cutoff = p_val_cutoff, # p-value cutoff used\n",
    "        enrichment_result_p_val = data.frame())# dataset for saving result \n",
    "    } else{enrichment_result_types = ''}"
   ]
  },
  {
   "cell_type": "code",
   "execution_count": 80,
   "id": "ea4e8238-d4d2-4f08-aa3f-0bdd6d74d98c",
   "metadata": {
    "tags": []
   },
   "outputs": [],
   "source": [
    "#enrichment_result_types"
   ]
  },
  {
   "cell_type": "code",
   "execution_count": 81,
   "id": "0aa02f16-11fe-4b78-95cb-6518f71e2b4e",
   "metadata": {},
   "outputs": [
    {
     "data": {
      "text/html": [
       "<table class=\"dataframe\">\n",
       "<caption>A data.frame: 5 × 7</caption>\n",
       "<thead>\n",
       "\t<tr><th></th><th scope=col>pathway</th><th scope=col>variable</th><th scope=col>p</th><th scope=col>padj</th><th scope=col>view</th><th scope=col>enrichment</th><th scope=col>global_FDR</th></tr>\n",
       "\t<tr><th></th><th scope=col>&lt;chr&gt;</th><th scope=col>&lt;fct&gt;</th><th scope=col>&lt;dbl&gt;</th><th scope=col>&lt;dbl&gt;</th><th scope=col>&lt;chr&gt;</th><th scope=col>&lt;chr&gt;</th><th scope=col>&lt;dbl&gt;</th></tr>\n",
       "</thead>\n",
       "<tbody>\n",
       "\t<tr><th scope=row>1</th><td>R-HSA-6798695_Neutrophil degranulation      </td><td>Factor3</td><td>4.815022e-06</td><td>5.537275e-05</td><td>CD16.Mono</td><td>negative</td><td>0.01040045</td></tr>\n",
       "\t<tr><th scope=row>2</th><td>Background_Background                       </td><td>Factor3</td><td>2.369775e-04</td><td>2.725241e-03</td><td>CD16.Mono</td><td>positive</td><td>0.18221496</td></tr>\n",
       "\t<tr><th scope=row>3</th><td>R-HSA-6798695_Neutrophil degranulation      </td><td>Factor3</td><td>6.553155e-04</td><td>4.259551e-03</td><td>NK       </td><td>negative</td><td>0.18221496</td></tr>\n",
       "\t<tr><th scope=row>4</th><td>R-HSA-447115_Interleukin-12 family signaling</td><td>Factor1</td><td>1.252144e-03</td><td>5.008575e-03</td><td>gdT      </td><td>all     </td><td>0.27046306</td></tr>\n",
       "\t<tr><th scope=row>5</th><td>R-HSA-9020591_Interleukin-12 signaling      </td><td>Factor1</td><td>1.252144e-03</td><td>5.008575e-03</td><td>gdT      </td><td>all     </td><td>0.27046306</td></tr>\n",
       "</tbody>\n",
       "</table>\n"
      ],
      "text/latex": [
       "A data.frame: 5 × 7\n",
       "\\begin{tabular}{r|lllllll}\n",
       "  & pathway & variable & p & padj & view & enrichment & global\\_FDR\\\\\n",
       "  & <chr> & <fct> & <dbl> & <dbl> & <chr> & <chr> & <dbl>\\\\\n",
       "\\hline\n",
       "\t1 & R-HSA-6798695\\_Neutrophil degranulation       & Factor3 & 4.815022e-06 & 5.537275e-05 & CD16.Mono & negative & 0.01040045\\\\\n",
       "\t2 & Background\\_Background                        & Factor3 & 2.369775e-04 & 2.725241e-03 & CD16.Mono & positive & 0.18221496\\\\\n",
       "\t3 & R-HSA-6798695\\_Neutrophil degranulation       & Factor3 & 6.553155e-04 & 4.259551e-03 & NK        & negative & 0.18221496\\\\\n",
       "\t4 & R-HSA-447115\\_Interleukin-12 family signaling & Factor1 & 1.252144e-03 & 5.008575e-03 & gdT       & all      & 0.27046306\\\\\n",
       "\t5 & R-HSA-9020591\\_Interleukin-12 signaling       & Factor1 & 1.252144e-03 & 5.008575e-03 & gdT       & all      & 0.27046306\\\\\n",
       "\\end{tabular}\n"
      ],
      "text/markdown": [
       "\n",
       "A data.frame: 5 × 7\n",
       "\n",
       "| <!--/--> | pathway &lt;chr&gt; | variable &lt;fct&gt; | p &lt;dbl&gt; | padj &lt;dbl&gt; | view &lt;chr&gt; | enrichment &lt;chr&gt; | global_FDR &lt;dbl&gt; |\n",
       "|---|---|---|---|---|---|---|---|\n",
       "| 1 | R-HSA-6798695_Neutrophil degranulation       | Factor3 | 4.815022e-06 | 5.537275e-05 | CD16.Mono | negative | 0.01040045 |\n",
       "| 2 | Background_Background                        | Factor3 | 2.369775e-04 | 2.725241e-03 | CD16.Mono | positive | 0.18221496 |\n",
       "| 3 | R-HSA-6798695_Neutrophil degranulation       | Factor3 | 6.553155e-04 | 4.259551e-03 | NK        | negative | 0.18221496 |\n",
       "| 4 | R-HSA-447115_Interleukin-12 family signaling | Factor1 | 1.252144e-03 | 5.008575e-03 | gdT       | all      | 0.27046306 |\n",
       "| 5 | R-HSA-9020591_Interleukin-12 signaling       | Factor1 | 1.252144e-03 | 5.008575e-03 | gdT       | all      | 0.27046306 |\n",
       "\n"
      ],
      "text/plain": [
       "  pathway                                      variable p           \n",
       "1 R-HSA-6798695_Neutrophil degranulation       Factor3  4.815022e-06\n",
       "2 Background_Background                        Factor3  2.369775e-04\n",
       "3 R-HSA-6798695_Neutrophil degranulation       Factor3  6.553155e-04\n",
       "4 R-HSA-447115_Interleukin-12 family signaling Factor1  1.252144e-03\n",
       "5 R-HSA-9020591_Interleukin-12 signaling       Factor1  1.252144e-03\n",
       "  padj         view      enrichment global_FDR\n",
       "1 5.537275e-05 CD16.Mono negative   0.01040045\n",
       "2 2.725241e-03 CD16.Mono positive   0.18221496\n",
       "3 4.259551e-03 NK        negative   0.18221496\n",
       "4 5.008575e-03 gdT       all        0.27046306\n",
       "5 5.008575e-03 gdT       all        0.27046306"
      ]
     },
     "metadata": {},
     "output_type": "display_data"
    }
   ],
   "source": [
    "if(is.data.frame(enrichment_result_types)){\n",
    "    head(enrichment_result_types  %>% arrange(padj) ,5)}"
   ]
  },
  {
   "cell_type": "markdown",
   "id": "4abdba54-37fd-4b8a-9ec9-9d1545e7a98d",
   "metadata": {},
   "source": [
    "## Across Views"
   ]
  },
  {
   "cell_type": "code",
   "execution_count": 82,
   "id": "aa5ba392-04df-41d6-bbbb-5d611ff0a7a2",
   "metadata": {
    "tags": []
   },
   "outputs": [
    {
     "name": "stderr",
     "output_type": "stream",
     "text": [
      "Warning message in run_enrichment(model, view = i, factors = factor_set, set.statistic = c(use_statistic), :\n",
      "“7 features were removed because they had no variance in the data.\n",
      "”\n",
      "Intersecting features names in the model and the gene set annotation results in a total of 9618 features.\n",
      "\n",
      "\n",
      "Running feature set Enrichment Analysis with the following options...\n",
      "View: complete \n",
      "Number of feature sets: 52 \n",
      "Set statistic: rank.sum \n",
      "Statistical test: parametric \n",
      "\n",
      "\n",
      "\n",
      "\n",
      "\n",
      "Using pathway as id variables\n",
      "\n",
      "Using pathway as id variables\n",
      "\n",
      "Warning message in run_enrichment(model, view = i, factors = factor_set, set.statistic = c(use_statistic), :\n",
      "“7 features were removed because they had no variance in the data.\n",
      "”\n",
      "Intersecting features names in the model and the gene set annotation results in a total of 9618 features.\n",
      "\n",
      "\n",
      "Running feature set Enrichment Analysis with the following options...\n",
      "View: complete \n",
      "Number of feature sets: 52 \n",
      "Set statistic: rank.sum \n",
      "Statistical test: parametric \n",
      "\n",
      "\n",
      "Subsetting weights with negative sign\n",
      "\n",
      "\n",
      "\n",
      "\n",
      "Using pathway as id variables\n",
      "\n",
      "Using pathway as id variables\n",
      "\n",
      "Warning message in run_enrichment(model, view = i, factors = factor_set, set.statistic = c(use_statistic), :\n",
      "“7 features were removed because they had no variance in the data.\n",
      "”\n",
      "Intersecting features names in the model and the gene set annotation results in a total of 9618 features.\n",
      "\n",
      "\n",
      "Running feature set Enrichment Analysis with the following options...\n",
      "View: complete \n",
      "Number of feature sets: 52 \n",
      "Set statistic: rank.sum \n",
      "Statistical test: parametric \n",
      "\n",
      "\n",
      "Subsetting weights with positive sign\n",
      "\n",
      "\n",
      "\n",
      "\n",
      "Using pathway as id variables\n",
      "\n",
      "Using pathway as id variables\n",
      "\n"
     ]
    }
   ],
   "source": [
    "enrichment_result_all = run_enrichment_pathway(\n",
    "    model = model_conc, # MOFA Model\n",
    "    views = 'complete', # dimensions for which to run\n",
    "    factor_set = factor_set, # list of factors for which to run the enrichment\n",
    "    use_statistic = use_statistic, # which statistic to use\n",
    "    feature_set = feature_set_all, # Pathway Feature Set mapping; use the concatenated one with cell-types\n",
    "    min_size = min_size, # Min size of genes within a pathway\n",
    "    use_test = use_test, # test used for calculating p-value\n",
    "    p_val_cutoff = p_val_cutoff, # p-value cutoff used\n",
    "    enrichment_result_p_val = data.frame()) # dataset for saving results"
   ]
  },
  {
   "cell_type": "code",
   "execution_count": 83,
   "id": "cc94b03a-82c3-415d-9a0c-a1c452438226",
   "metadata": {},
   "outputs": [
    {
     "data": {
      "text/html": [
       "<table class=\"dataframe\">\n",
       "<caption>A data.frame: 5 × 7</caption>\n",
       "<thead>\n",
       "\t<tr><th></th><th scope=col>pathway</th><th scope=col>variable</th><th scope=col>p</th><th scope=col>padj</th><th scope=col>view</th><th scope=col>enrichment</th><th scope=col>global_FDR</th></tr>\n",
       "\t<tr><th></th><th scope=col>&lt;chr&gt;</th><th scope=col>&lt;fct&gt;</th><th scope=col>&lt;dbl&gt;</th><th scope=col>&lt;dbl&gt;</th><th scope=col>&lt;chr&gt;</th><th scope=col>&lt;chr&gt;</th><th scope=col>&lt;dbl&gt;</th></tr>\n",
       "</thead>\n",
       "<tbody>\n",
       "\t<tr><th scope=row>1</th><td>R-HSA-5686938_Regulation of TLR by endogenous ligand                           </td><td>Factor4</td><td>1.508184e-10</td><td>7.842555e-09</td><td>complete</td><td>negative</td><td>1.176383e-07</td></tr>\n",
       "\t<tr><th scope=row>2</th><td>R-HSA-1236973_Cross-presentation of particulate exogenous antigens (phagosomes)</td><td>Factor1</td><td>7.151990e-10</td><td>3.719035e-08</td><td>complete</td><td>positive</td><td>2.365605e-07</td></tr>\n",
       "\t<tr><th scope=row>3</th><td>R-HSA-2029482_Regulation of actin dynamics for phagocytic cup formation        </td><td>Factor3</td><td>9.098481e-10</td><td>4.731210e-08</td><td>complete</td><td>negative</td><td>2.365605e-07</td></tr>\n",
       "\t<tr><th scope=row>4</th><td>R-HSA-450341_Activation of the AP-1 family of transcription factors            </td><td>Factor3</td><td>3.005445e-09</td><td>7.814157e-08</td><td>complete</td><td>negative</td><td>5.860618e-07</td></tr>\n",
       "\t<tr><th scope=row>5</th><td>R-HSA-2029480_Fcgamma receptor (FCGR) dependent phagocytosis                   </td><td>Factor3</td><td>2.228949e-08</td><td>3.863511e-07</td><td>complete</td><td>negative</td><td>3.477160e-06</td></tr>\n",
       "</tbody>\n",
       "</table>\n"
      ],
      "text/latex": [
       "A data.frame: 5 × 7\n",
       "\\begin{tabular}{r|lllllll}\n",
       "  & pathway & variable & p & padj & view & enrichment & global\\_FDR\\\\\n",
       "  & <chr> & <fct> & <dbl> & <dbl> & <chr> & <chr> & <dbl>\\\\\n",
       "\\hline\n",
       "\t1 & R-HSA-5686938\\_Regulation of TLR by endogenous ligand                            & Factor4 & 1.508184e-10 & 7.842555e-09 & complete & negative & 1.176383e-07\\\\\n",
       "\t2 & R-HSA-1236973\\_Cross-presentation of particulate exogenous antigens (phagosomes) & Factor1 & 7.151990e-10 & 3.719035e-08 & complete & positive & 2.365605e-07\\\\\n",
       "\t3 & R-HSA-2029482\\_Regulation of actin dynamics for phagocytic cup formation         & Factor3 & 9.098481e-10 & 4.731210e-08 & complete & negative & 2.365605e-07\\\\\n",
       "\t4 & R-HSA-450341\\_Activation of the AP-1 family of transcription factors             & Factor3 & 3.005445e-09 & 7.814157e-08 & complete & negative & 5.860618e-07\\\\\n",
       "\t5 & R-HSA-2029480\\_Fcgamma receptor (FCGR) dependent phagocytosis                    & Factor3 & 2.228949e-08 & 3.863511e-07 & complete & negative & 3.477160e-06\\\\\n",
       "\\end{tabular}\n"
      ],
      "text/markdown": [
       "\n",
       "A data.frame: 5 × 7\n",
       "\n",
       "| <!--/--> | pathway &lt;chr&gt; | variable &lt;fct&gt; | p &lt;dbl&gt; | padj &lt;dbl&gt; | view &lt;chr&gt; | enrichment &lt;chr&gt; | global_FDR &lt;dbl&gt; |\n",
       "|---|---|---|---|---|---|---|---|\n",
       "| 1 | R-HSA-5686938_Regulation of TLR by endogenous ligand                            | Factor4 | 1.508184e-10 | 7.842555e-09 | complete | negative | 1.176383e-07 |\n",
       "| 2 | R-HSA-1236973_Cross-presentation of particulate exogenous antigens (phagosomes) | Factor1 | 7.151990e-10 | 3.719035e-08 | complete | positive | 2.365605e-07 |\n",
       "| 3 | R-HSA-2029482_Regulation of actin dynamics for phagocytic cup formation         | Factor3 | 9.098481e-10 | 4.731210e-08 | complete | negative | 2.365605e-07 |\n",
       "| 4 | R-HSA-450341_Activation of the AP-1 family of transcription factors             | Factor3 | 3.005445e-09 | 7.814157e-08 | complete | negative | 5.860618e-07 |\n",
       "| 5 | R-HSA-2029480_Fcgamma receptor (FCGR) dependent phagocytosis                    | Factor3 | 2.228949e-08 | 3.863511e-07 | complete | negative | 3.477160e-06 |\n",
       "\n"
      ],
      "text/plain": [
       "  pathway                                                                        \n",
       "1 R-HSA-5686938_Regulation of TLR by endogenous ligand                           \n",
       "2 R-HSA-1236973_Cross-presentation of particulate exogenous antigens (phagosomes)\n",
       "3 R-HSA-2029482_Regulation of actin dynamics for phagocytic cup formation        \n",
       "4 R-HSA-450341_Activation of the AP-1 family of transcription factors            \n",
       "5 R-HSA-2029480_Fcgamma receptor (FCGR) dependent phagocytosis                   \n",
       "  variable p            padj         view     enrichment global_FDR  \n",
       "1 Factor4  1.508184e-10 7.842555e-09 complete negative   1.176383e-07\n",
       "2 Factor1  7.151990e-10 3.719035e-08 complete positive   2.365605e-07\n",
       "3 Factor3  9.098481e-10 4.731210e-08 complete negative   2.365605e-07\n",
       "4 Factor3  3.005445e-09 7.814157e-08 complete negative   5.860618e-07\n",
       "5 Factor3  2.228949e-08 3.863511e-07 complete negative   3.477160e-06"
      ]
     },
     "metadata": {},
     "output_type": "display_data"
    }
   ],
   "source": [
    "head(enrichment_result_all %>% arrange(padj) ,5)"
   ]
  },
  {
   "cell_type": "code",
   "execution_count": 84,
   "id": "834d67fe-fa08-4b35-975c-a786cc1ca9b7",
   "metadata": {},
   "outputs": [],
   "source": [
    "### Combine both versions and save the result"
   ]
  },
  {
   "cell_type": "code",
   "execution_count": 85,
   "id": "28d752bc-a098-49c0-9805-27c347c8b3f3",
   "metadata": {},
   "outputs": [],
   "source": [
    "if(is.data.frame(enrichment_result_types)){\n",
    "    enrichment_result = rbind(enrichment_result_all, enrichment_result_types  )\n",
    "    } else{enrichment_result = enrichment_result_all}"
   ]
  },
  {
   "cell_type": "code",
   "execution_count": 86,
   "id": "28861808-af36-4127-9145-45998c0245f0",
   "metadata": {},
   "outputs": [],
   "source": [
    "enrichment_result$ID = str_replace(enrichment_result$pathway, '_.*', '')\n",
    "enrichment_result$pathway_name = str_replace(enrichment_result$pathway, '.*_', '')"
   ]
  },
  {
   "cell_type": "code",
   "execution_count": 87,
   "id": "5a04e82f-7b76-4c02-a645-8f09bfbae1e4",
   "metadata": {},
   "outputs": [],
   "source": [
    "enrichment_result$pathway = NULL"
   ]
  },
  {
   "cell_type": "code",
   "execution_count": 88,
   "id": "d71641e7-aee8-42ef-a2f3-5d6ebcb6f950",
   "metadata": {},
   "outputs": [],
   "source": [
    "enrichment_result = merge(enrichment_result, coverage_info)"
   ]
  },
  {
   "cell_type": "code",
   "execution_count": 89,
   "id": "2cfc86d2-c727-4938-bea1-c060a1fe2a0d",
   "metadata": {},
   "outputs": [],
   "source": [
    "write.csv(enrichment_result, paste0(result_path, '/06_results/06_Pathway_Enrichment_' ,mofa_name, '.csv'), row.names = FALSE)"
   ]
  },
  {
   "cell_type": "markdown",
   "id": "18989ad9-8561-4a4f-925a-f240af0bf135",
   "metadata": {
    "tags": []
   },
   "source": [
    "# Plot interesting pathways"
   ]
  },
  {
   "cell_type": "code",
   "execution_count": 90,
   "id": "db021067-197b-4722-95d1-d843eec949dc",
   "metadata": {},
   "outputs": [],
   "source": [
    "## Either manual pathway selection or by statistical criteria"
   ]
  },
  {
   "cell_type": "code",
   "execution_count": 91,
   "id": "b5368308-dbd7-4ae4-a3b1-c820f4aa80d9",
   "metadata": {},
   "outputs": [
    {
     "data": {
      "text/html": [
       "&lt;NA&gt;"
      ],
      "text/latex": [
       "<NA>"
      ],
      "text/markdown": [
       "&lt;NA&gt;"
      ],
      "text/plain": [
       "[1] NA"
      ]
     },
     "metadata": {},
     "output_type": "display_data"
    }
   ],
   "source": [
    "pathway_selection_var"
   ]
  },
  {
   "cell_type": "code",
   "execution_count": 92,
   "id": "d4453f1c-0d3a-4144-9ea5-63d5ee2caa05",
   "metadata": {},
   "outputs": [],
   "source": [
    "if(pathway_selection_var == '' | is.na(pathway_selection_var) ){\n",
    "    pathways_selection = enrichment_result[\n",
    "        (enrichment_result$coverage > coverage_par) & \n",
    "        (enrichment_result$enrichment == select_enrichment) &\n",
    "        (enrichment_result$global_FDR < p_value_cutoff_plot),] %>%  arrange(padj) %>% group_by(variable) %>% top_n(max_pathways, -padj)\n",
    "    } else{ pathways_selection = enrichment_result[enrichment_result$pathway_name %in% unlist(str_split(pathway_selection_var, ',')),]}"
   ]
  },
  {
   "cell_type": "code",
   "execution_count": null,
   "id": "48932983-7fd4-4855-8fc1-aea6fe01cb94",
   "metadata": {},
   "outputs": [],
   "source": []
  },
  {
   "cell_type": "code",
   "execution_count": null,
   "id": "3218637c-9b9b-403e-ba6a-f6a76badc560",
   "metadata": {},
   "outputs": [],
   "source": []
  },
  {
   "cell_type": "code",
   "execution_count": 93,
   "id": "12b73159-f831-4cda-ad59-e99e8e07e436",
   "metadata": {},
   "outputs": [],
   "source": [
    "#pathways_selection = unique(pathways_selection$ID)   # add factor!"
   ]
  },
  {
   "cell_type": "code",
   "execution_count": 94,
   "id": "28b52d53-61d6-4b84-9857-eea067471aff",
   "metadata": {},
   "outputs": [
    {
     "data": {
      "text/html": [
       "<table class=\"dataframe\">\n",
       "<caption>A data.frame: 2 × 9</caption>\n",
       "<thead>\n",
       "\t<tr><th></th><th scope=col>ID</th><th scope=col>pathway_name</th><th scope=col>variable</th><th scope=col>p</th><th scope=col>padj</th><th scope=col>view</th><th scope=col>enrichment</th><th scope=col>global_FDR</th><th scope=col>coverage</th></tr>\n",
       "\t<tr><th></th><th scope=col>&lt;chr&gt;</th><th scope=col>&lt;chr&gt;</th><th scope=col>&lt;fct&gt;</th><th scope=col>&lt;dbl&gt;</th><th scope=col>&lt;dbl&gt;</th><th scope=col>&lt;chr&gt;</th><th scope=col>&lt;chr&gt;</th><th scope=col>&lt;dbl&gt;</th><th scope=col>&lt;dbl&gt;</th></tr>\n",
       "</thead>\n",
       "<tbody>\n",
       "\t<tr><th scope=row>1</th><td>R-HSA-1059683</td><td>Interleukin-6 signaling</td><td>Factor1</td><td>1.0000000</td><td>1.0000000</td><td>complete</td><td>positive</td><td>1</td><td>0.7333333</td></tr>\n",
       "\t<tr><th scope=row>2</th><td>R-HSA-1059683</td><td>Interleukin-6 signaling</td><td>Factor3</td><td>0.6165494</td><td>0.7286493</td><td>complete</td><td>all     </td><td>1</td><td>0.7333333</td></tr>\n",
       "</tbody>\n",
       "</table>\n"
      ],
      "text/latex": [
       "A data.frame: 2 × 9\n",
       "\\begin{tabular}{r|lllllllll}\n",
       "  & ID & pathway\\_name & variable & p & padj & view & enrichment & global\\_FDR & coverage\\\\\n",
       "  & <chr> & <chr> & <fct> & <dbl> & <dbl> & <chr> & <chr> & <dbl> & <dbl>\\\\\n",
       "\\hline\n",
       "\t1 & R-HSA-1059683 & Interleukin-6 signaling & Factor1 & 1.0000000 & 1.0000000 & complete & positive & 1 & 0.7333333\\\\\n",
       "\t2 & R-HSA-1059683 & Interleukin-6 signaling & Factor3 & 0.6165494 & 0.7286493 & complete & all      & 1 & 0.7333333\\\\\n",
       "\\end{tabular}\n"
      ],
      "text/markdown": [
       "\n",
       "A data.frame: 2 × 9\n",
       "\n",
       "| <!--/--> | ID &lt;chr&gt; | pathway_name &lt;chr&gt; | variable &lt;fct&gt; | p &lt;dbl&gt; | padj &lt;dbl&gt; | view &lt;chr&gt; | enrichment &lt;chr&gt; | global_FDR &lt;dbl&gt; | coverage &lt;dbl&gt; |\n",
       "|---|---|---|---|---|---|---|---|---|---|\n",
       "| 1 | R-HSA-1059683 | Interleukin-6 signaling | Factor1 | 1.0000000 | 1.0000000 | complete | positive | 1 | 0.7333333 |\n",
       "| 2 | R-HSA-1059683 | Interleukin-6 signaling | Factor3 | 0.6165494 | 0.7286493 | complete | all      | 1 | 0.7333333 |\n",
       "\n"
      ],
      "text/plain": [
       "  ID            pathway_name            variable p         padj      view    \n",
       "1 R-HSA-1059683 Interleukin-6 signaling Factor1  1.0000000 1.0000000 complete\n",
       "2 R-HSA-1059683 Interleukin-6 signaling Factor3  0.6165494 0.7286493 complete\n",
       "  enrichment global_FDR coverage \n",
       "1 positive   1          0.7333333\n",
       "2 all        1          0.7333333"
      ]
     },
     "metadata": {},
     "output_type": "display_data"
    }
   ],
   "source": [
    "head(enrichment_result,2)"
   ]
  },
  {
   "cell_type": "code",
   "execution_count": 95,
   "id": "52240082-f9a6-4f30-9369-305fe4e42216",
   "metadata": {},
   "outputs": [],
   "source": [
    "## Filter down top factor genes out of feature weights"
   ]
  },
  {
   "cell_type": "code",
   "execution_count": 96,
   "id": "118e7e91-7958-48e7-8107-e90963416b52",
   "metadata": {},
   "outputs": [
    {
     "name": "stderr",
     "output_type": "stream",
     "text": [
      "\u001b[1m\u001b[22mSelecting by value\n",
      "\u001b[1m\u001b[22mSelecting by value\n"
     ]
    },
    {
     "data": {
      "text/html": [
       "<table class=\"dataframe\">\n",
       "<caption>A grouped_df: 2 × 7</caption>\n",
       "<thead>\n",
       "\t<tr><th scope=col>type</th><th scope=col>variable_name</th><th scope=col>view</th><th scope=col>gene</th><th scope=col>variable</th><th scope=col>factor_value</th><th scope=col>factor_value_direction</th></tr>\n",
       "\t<tr><th scope=col>&lt;chr&gt;</th><th scope=col>&lt;chr&gt;</th><th scope=col>&lt;chr&gt;</th><th scope=col>&lt;chr&gt;</th><th scope=col>&lt;fct&gt;</th><th scope=col>&lt;dbl&gt;</th><th scope=col>&lt;chr&gt;</th></tr>\n",
       "</thead>\n",
       "<tbody>\n",
       "\t<tr><td>CD4.TCM</td><td>CD4.TCM__ERP29</td><td>CD4.TCM</td><td>ERP29</td><td>Factor1</td><td>0.548838</td><td>positive</td></tr>\n",
       "\t<tr><td>CD4.TCM</td><td>CD4.TCM__EDF1 </td><td>CD4.TCM</td><td>EDF1 </td><td>Factor1</td><td>0.534674</td><td>positive</td></tr>\n",
       "</tbody>\n",
       "</table>\n"
      ],
      "text/latex": [
       "A grouped\\_df: 2 × 7\n",
       "\\begin{tabular}{lllllll}\n",
       " type & variable\\_name & view & gene & variable & factor\\_value & factor\\_value\\_direction\\\\\n",
       " <chr> & <chr> & <chr> & <chr> & <fct> & <dbl> & <chr>\\\\\n",
       "\\hline\n",
       "\t CD4.TCM & CD4.TCM\\_\\_ERP29 & CD4.TCM & ERP29 & Factor1 & 0.548838 & positive\\\\\n",
       "\t CD4.TCM & CD4.TCM\\_\\_EDF1  & CD4.TCM & EDF1  & Factor1 & 0.534674 & positive\\\\\n",
       "\\end{tabular}\n"
      ],
      "text/markdown": [
       "\n",
       "A grouped_df: 2 × 7\n",
       "\n",
       "| type &lt;chr&gt; | variable_name &lt;chr&gt; | view &lt;chr&gt; | gene &lt;chr&gt; | variable &lt;fct&gt; | factor_value &lt;dbl&gt; | factor_value_direction &lt;chr&gt; |\n",
       "|---|---|---|---|---|---|---|\n",
       "| CD4.TCM | CD4.TCM__ERP29 | CD4.TCM | ERP29 | Factor1 | 0.548838 | positive |\n",
       "| CD4.TCM | CD4.TCM__EDF1  | CD4.TCM | EDF1  | Factor1 | 0.534674 | positive |\n",
       "\n"
      ],
      "text/plain": [
       "  type    variable_name  view    gene  variable factor_value\n",
       "1 CD4.TCM CD4.TCM__ERP29 CD4.TCM ERP29 Factor1  0.548838    \n",
       "2 CD4.TCM CD4.TCM__EDF1  CD4.TCM EDF1  Factor1  0.534674    \n",
       "  factor_value_direction\n",
       "1 positive              \n",
       "2 positive              "
      ]
     },
     "metadata": {},
     "output_type": "display_data"
    }
   ],
   "source": [
    "### Get involved genes\n",
    "\n",
    "## Define gene-set to merge\n",
    "geneset_oi_pos_per_factor = feature_weights_long %>% group_by(variable) %>% arrange( desc(value),  .by_group = TRUE)  %>% top_frac(as.numeric(top_var_thres))\n",
    "geneset_oi_pos_per_factor$direction = 'positive'\n",
    "geneset_oi_neg_per_factor = feature_weights_long %>% group_by(variable) %>% arrange(desc(value),  .by_group = TRUE)  %>% top_frac(-as.numeric(top_var_thres))\n",
    "geneset_oi_neg_per_factor$direction = 'negative'\n",
    "geneset_oi = rbind(geneset_oi_pos_per_factor, geneset_oi_neg_per_factor)\n",
    "\n",
    "colnames(geneset_oi) = c('type', 'variable_name','view',  'gene', 'variable', 'factor_value', 'factor_value_direction')\n",
    "head(geneset_oi,2)"
   ]
  },
  {
   "cell_type": "code",
   "execution_count": 97,
   "id": "94b59daf-1d0d-4e9e-a73d-57c9adc85806",
   "metadata": {},
   "outputs": [],
   "source": [
    "### Merge genes belongig to pathway to enriched pathway sets\n",
    "\n",
    "pathways_vis_genes = merge(pathways_selection, pathways) %>% mutate(pvalue=p, view_text=view, cluster=view, name=pathway_name) %>% dplyr::select(-view)"
   ]
  },
  {
   "cell_type": "code",
   "execution_count": 98,
   "id": "650d5395-8fd7-4292-81be-0b20b80f2f13",
   "metadata": {},
   "outputs": [],
   "source": [
    "### Add the feature weights to the corresponding genes from geneset_oi"
   ]
  },
  {
   "cell_type": "code",
   "execution_count": 99,
   "id": "54521e2f-8f1e-4323-b191-06b708358ccc",
   "metadata": {},
   "outputs": [],
   "source": [
    "pathways_vis_genes = merge(pathways_vis_genes, geneset_oi, by.x = c('gene', 'variable'), by.y = c('gene','variable' ))"
   ]
  },
  {
   "cell_type": "code",
   "execution_count": 100,
   "id": "a7e99cc4-7b0d-4a22-9d77-6aa9efb7896f",
   "metadata": {},
   "outputs": [
    {
     "name": "stderr",
     "output_type": "stream",
     "text": [
      "\u001b[1m\u001b[22m`summarise()` has grouped output by 'gene', 'variable', 'pathway_name', 'ID', 'name', 'cluster'. You can\n",
      "override using the `.groups` argument.\n"
     ]
    }
   ],
   "source": [
    "### Summarise to get max/ mean factor value of each gene per pathway (remove cell-cluster/view/type dimension)  --> tBD max or mean (for max --> absolute value?)\n",
    "\n",
    "pathways_vis_genes_summarized = pathways_vis_genes %>% group_by(gene ,variable,  pathway_name, ID, name, cluster ,view) %>% summarise(factor_value = mean(factor_value), enrichment_type = paste0(unique(enrichment), collapse = '&'), pvalue = min(pvalue))"
   ]
  },
  {
   "cell_type": "code",
   "execution_count": 101,
   "id": "2e5894a5-a557-49cf-9583-92697e679b73",
   "metadata": {},
   "outputs": [
    {
     "data": {
      "text/html": [
       "<table class=\"dataframe\">\n",
       "<caption>A grouped_df: 2 × 10</caption>\n",
       "<thead>\n",
       "\t<tr><th scope=col>gene</th><th scope=col>variable</th><th scope=col>pathway_name</th><th scope=col>ID</th><th scope=col>name</th><th scope=col>cluster</th><th scope=col>view</th><th scope=col>factor_value</th><th scope=col>enrichment_type</th><th scope=col>pvalue</th></tr>\n",
       "\t<tr><th scope=col>&lt;chr&gt;</th><th scope=col>&lt;fct&gt;</th><th scope=col>&lt;chr&gt;</th><th scope=col>&lt;chr&gt;</th><th scope=col>&lt;chr&gt;</th><th scope=col>&lt;chr&gt;</th><th scope=col>&lt;chr&gt;</th><th scope=col>&lt;dbl&gt;</th><th scope=col>&lt;chr&gt;</th><th scope=col>&lt;dbl&gt;</th></tr>\n",
       "</thead>\n",
       "<tbody>\n",
       "\t<tr><td>C1R</td><td>Factor3</td><td>Complement cascade              </td><td>R-HSA-166658</td><td>Complement cascade              </td><td>complete</td><td>proteomic</td><td>0.2727024</td><td>positive</td><td>4.589877e-07</td></tr>\n",
       "\t<tr><td>C1R</td><td>Factor3</td><td>Regulation of Complement cascade</td><td>R-HSA-977606</td><td>Regulation of Complement cascade</td><td>complete</td><td>proteomic</td><td>0.2727024</td><td>positive</td><td>1.137923e-06</td></tr>\n",
       "</tbody>\n",
       "</table>\n"
      ],
      "text/latex": [
       "A grouped\\_df: 2 × 10\n",
       "\\begin{tabular}{llllllllll}\n",
       " gene & variable & pathway\\_name & ID & name & cluster & view & factor\\_value & enrichment\\_type & pvalue\\\\\n",
       " <chr> & <fct> & <chr> & <chr> & <chr> & <chr> & <chr> & <dbl> & <chr> & <dbl>\\\\\n",
       "\\hline\n",
       "\t C1R & Factor3 & Complement cascade               & R-HSA-166658 & Complement cascade               & complete & proteomic & 0.2727024 & positive & 4.589877e-07\\\\\n",
       "\t C1R & Factor3 & Regulation of Complement cascade & R-HSA-977606 & Regulation of Complement cascade & complete & proteomic & 0.2727024 & positive & 1.137923e-06\\\\\n",
       "\\end{tabular}\n"
      ],
      "text/markdown": [
       "\n",
       "A grouped_df: 2 × 10\n",
       "\n",
       "| gene &lt;chr&gt; | variable &lt;fct&gt; | pathway_name &lt;chr&gt; | ID &lt;chr&gt; | name &lt;chr&gt; | cluster &lt;chr&gt; | view &lt;chr&gt; | factor_value &lt;dbl&gt; | enrichment_type &lt;chr&gt; | pvalue &lt;dbl&gt; |\n",
       "|---|---|---|---|---|---|---|---|---|---|\n",
       "| C1R | Factor3 | Complement cascade               | R-HSA-166658 | Complement cascade               | complete | proteomic | 0.2727024 | positive | 4.589877e-07 |\n",
       "| C1R | Factor3 | Regulation of Complement cascade | R-HSA-977606 | Regulation of Complement cascade | complete | proteomic | 0.2727024 | positive | 1.137923e-06 |\n",
       "\n"
      ],
      "text/plain": [
       "  gene variable pathway_name                     ID          \n",
       "1 C1R  Factor3  Complement cascade               R-HSA-166658\n",
       "2 C1R  Factor3  Regulation of Complement cascade R-HSA-977606\n",
       "  name                             cluster  view      factor_value\n",
       "1 Complement cascade               complete proteomic 0.2727024   \n",
       "2 Regulation of Complement cascade complete proteomic 0.2727024   \n",
       "  enrichment_type pvalue      \n",
       "1 positive        4.589877e-07\n",
       "2 positive        1.137923e-06"
      ]
     },
     "metadata": {},
     "output_type": "display_data"
    }
   ],
   "source": [
    "head(pathways_vis_genes_summarized,2)"
   ]
  },
  {
   "cell_type": "code",
   "execution_count": 102,
   "id": "3f7fad8f-f5a4-4e8c-a59c-807e28e38565",
   "metadata": {},
   "outputs": [],
   "source": [
    "### Plot the pathways with summarized gene values"
   ]
  },
  {
   "cell_type": "code",
   "execution_count": 103,
   "id": "893814e5-9298-46d6-988f-61eeec026525",
   "metadata": {},
   "outputs": [],
   "source": [
    "pathways_sum_plot = list()"
   ]
  },
  {
   "cell_type": "code",
   "execution_count": 104,
   "id": "c9ac9527-78c9-48b2-8ef3-fd8ac1ee2ad7",
   "metadata": {},
   "outputs": [],
   "source": [
    "for(i in unique(pathways_vis_genes_summarized$variable)){\n",
    "\n",
    "    xlabel = xlab('Gene') \n",
    "    ylabel = ylab('Pathway')\n",
    "    \n",
    "    pathways_sum_plot[[i]] = ggplot(pathways_vis_genes_summarized[pathways_vis_genes_summarized$variable == i,], aes(gene,  pathway_name, fill= factor_value)) + \n",
    "        plot_config_heatmap + \n",
    "        geom_tile() + \n",
    "        scale_fill_gradient2(low = \"#1D2ED8\", mid = \"white\", high = \"#D8911D\", midpoint = 0)  + \n",
    "        scale_x_discrete(position = \"top\") +\n",
    "        theme(axis.text.x = element_text(angle = 90), axis.title.x = element_blank(), axis.text.y = element_text(hjust = 0, vjust = 0.5)) +\n",
    "        xlabel +\n",
    "        ylabel +  scale_y_discrete(labels = label_wrap(50))+\n",
    "        ggtitle(paste0(i, ' values of pathway genes (top ', top_var_thres  * 2 *100, '% of features)'))\n",
    "    }"
   ]
  },
  {
   "cell_type": "code",
   "execution_count": 105,
   "id": "7a75f244-225e-42fb-8458-004fb24e6f75",
   "metadata": {},
   "outputs": [
    {
     "name": "stderr",
     "output_type": "stream",
     "text": [
      "\u001b[1m\u001b[22mScale for \u001b[32my\u001b[39m is already present.\n",
      "Adding another scale for \u001b[32my\u001b[39m, which will replace the existing scale.\n"
     ]
    },
    {
     "data": {
      "image/png": "[encoded data removed]",
      "text/plain": [
       "plot without title"
      ]
     },
     "metadata": {
      "image/png": {
       "height": 600,
       "width": 1200
      }
     },
     "output_type": "display_data"
    }
   ],
   "source": [
    "options(repr.plot.width=20, repr.plot.height=10)\n",
    "pathways_sum_plot[[i]] +  scale_y_discrete(labels = label_wrap(25))"
   ]
  },
  {
   "cell_type": "code",
   "execution_count": 106,
   "id": "bc8fa8ea-db7e-41cc-80f1-33a034235a66",
   "metadata": {},
   "outputs": [],
   "source": [
    "## Plot factor values for all genes"
   ]
  },
  {
   "cell_type": "code",
   "execution_count": 107,
   "id": "11cccb41-8fe5-4217-9558-a3186731b3bf",
   "metadata": {},
   "outputs": [],
   "source": [
    "pathways_detail_plot = list()"
   ]
  },
  {
   "cell_type": "code",
   "execution_count": 108,
   "id": "e4afadd0-7b99-4e29-8042-5d4c8c71b948",
   "metadata": {},
   "outputs": [],
   "source": [
    "### Visualized the exact factor values of the genes\n",
    "for(i in unique(pathways_vis_genes$variable)){\n",
    "    # Specific Text Descriptions:\n",
    "    xlabel = xlab('Gene') \n",
    "    ylabel = ylab('View')\n",
    "\n",
    "    plot_data_cluster = unique(pathways_vis_genes[pathways_vis_genes$variable == i,c('gene', 'variable', 'type','view',  'variable_name', 'factor_value', 'factor_value_direction')])\n",
    "\n",
    "    pathways_detail_plot[[i]] = ggplot(plot_data_cluster, aes(gene,  view, fill= factor_value)) + \n",
    "        plot_config_heatmap + \n",
    "        geom_tile() + \n",
    "        scale_fill_gradient2(low = \"#1D2ED8\", mid = \"white\", high =\"#D8911D\", midpoint = 0)  + \n",
    "        scale_x_discrete(position = \"top\") +\n",
    "        theme(axis.text.x = element_text(angle = 90)) +\n",
    "        xlabel +\n",
    "        ylabel\n",
    "}"
   ]
  },
  {
   "cell_type": "code",
   "execution_count": 109,
   "id": "eb692dd3-fc2f-420b-b3a1-198964530e2b",
   "metadata": {},
   "outputs": [],
   "source": [
    "#pathways_detail_plot[[i]]"
   ]
  },
  {
   "cell_type": "code",
   "execution_count": 110,
   "id": "babfbb17-7380-42ba-84c7-a7ab2ef35a3b",
   "metadata": {},
   "outputs": [],
   "source": [
    "### Combine plot and save"
   ]
  },
  {
   "cell_type": "code",
   "execution_count": 111,
   "id": "b1d8db71-8f27-4a31-baa0-6111ccf1e551",
   "metadata": {},
   "outputs": [],
   "source": [
    "combined_plot = list()"
   ]
  },
  {
   "cell_type": "code",
   "execution_count": 112,
   "id": "bd4a76d8-c89a-496d-96ef-5377d60862a4",
   "metadata": {},
   "outputs": [],
   "source": [
    "for(i in 1:length(pathways_detail_plot)){\n",
    "    combined_plot[[i]] = ggarrange(pathways_sum_plot[[i]],\n",
    "              pathways_detail_plot[[i]] + theme(axis.text.x = element_blank(), axis.title.x =element_blank()), align = 'v', ncol = 1)\n",
    "}"
   ]
  },
  {
   "cell_type": "code",
   "execution_count": 113,
   "id": "29a27873-76c0-4219-be95-0e3a52f88bbf",
   "metadata": {},
   "outputs": [],
   "source": [
    "#combined_plot[[i]]"
   ]
  },
  {
   "cell_type": "code",
   "execution_count": 114,
   "id": "274e7e24-a024-4b5e-b5b3-49b4ed912d8d",
   "metadata": {},
   "outputs": [],
   "source": [
    "## Save the plot"
   ]
  },
  {
   "cell_type": "code",
   "execution_count": 115,
   "id": "d0d6a79b-f80c-461c-803e-b15ee5eb821d",
   "metadata": {},
   "outputs": [],
   "source": [
    "figure_name = paste0( \"FIG06_Pathways_and_Genes\")"
   ]
  },
  {
   "cell_type": "code",
   "execution_count": 116,
   "id": "665879d0-eba1-4902-980e-40ffa9da88d5",
   "metadata": {},
   "outputs": [],
   "source": [
    "# Sizes of the plot\n",
    "width_par = 8.07\n",
    "height_par = 4"
   ]
  },
  {
   "cell_type": "code",
   "execution_count": 117,
   "id": "b067c7a7-213e-4606-9dbd-298d37670d89",
   "metadata": {},
   "outputs": [
    {
     "data": {
      "text/html": [
       "<strong>png:</strong> 2"
      ],
      "text/latex": [
       "\\textbf{png:} 2"
      ],
      "text/markdown": [
       "**png:** 2"
      ],
      "text/plain": [
       "png \n",
       "  2 "
      ]
     },
     "metadata": {},
     "output_type": "display_data"
    }
   ],
   "source": [
    "pdf(paste0('figures/06_figures/', figure_name, '_',   mofa_name, '.pdf'), width =width_par, height =height_par)\n",
    "\n",
    "for(j in 1:length(combined_plot)){\n",
    "        print( combined_plot[[j]])\n",
    "        }\n",
    "dev.off()   \n"
   ]
  },
  {
   "cell_type": "code",
   "execution_count": null,
   "id": "ca14ac62-5f47-4fde-ad71-f36d1cbb6832",
   "metadata": {},
   "outputs": [],
   "source": []
  },
  {
   "cell_type": "code",
   "execution_count": null,
   "id": "337a3db7-43f2-49ff-8f5f-c6f9209c84c6",
   "metadata": {},
   "outputs": [],
   "source": []
  }
 ],
 "metadata": {
  "kernelspec": {
   "display_name": "R",
   "language": "R",
   "name": "ir"
  },
  "language_info": {
   "codemirror_mode": "r",
   "file_extension": ".r",
   "mimetype": "text/x-r-source",
   "name": "R",
   "pygments_lexer": "r",
   "version": "4.3.2"
  },
  "toc-autonumbering": true
 },
 "nbformat": 4,
 "nbformat_minor": 5
}
