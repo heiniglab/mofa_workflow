{
 "cells": [
  {
   "cell_type": "code",
   "execution_count": 1,
   "id": "59deaea5-6623-4f6e-b321-a76e37e37337",
   "metadata": {
    "tags": []
   },
   "outputs": [],
   "source": [
    "## Test the Spectra Model and potential applications"
   ]
  },
  {
   "cell_type": "markdown",
   "id": "f899b113-d2aa-4847-ae28-23edfa42bcc0",
   "metadata": {},
   "source": [
    "# Prerequisites - Load Libraries"
   ]
  },
  {
   "cell_type": "code",
   "execution_count": 2,
   "id": "e7579c6b-e2be-4736-bd5a-5681d550c561",
   "metadata": {},
   "outputs": [],
   "source": [
    "import scanpy as sc"
   ]
  },
  {
   "cell_type": "code",
   "execution_count": 3,
   "id": "1ae56874-d46c-422c-9c95-7d61813b984d",
   "metadata": {},
   "outputs": [],
   "source": [
    "import anndata as  ad"
   ]
  },
  {
   "cell_type": "code",
   "execution_count": 4,
   "id": "d1bd85b4-ca34-4e5b-ab3f-8d7fca74fbf1",
   "metadata": {},
   "outputs": [],
   "source": [
    "import pandas as pd"
   ]
  },
  {
   "cell_type": "code",
   "execution_count": 5,
   "id": "bb2ef8ec-41e3-46ca-85a0-137919591812",
   "metadata": {},
   "outputs": [],
   "source": [
    "import random"
   ]
  },
  {
   "cell_type": "code",
   "execution_count": 6,
   "id": "fb71c626-8b0d-4065-b476-2702b4762353",
   "metadata": {},
   "outputs": [],
   "source": [
    "import numpy as np"
   ]
  },
  {
   "cell_type": "code",
   "execution_count": 7,
   "id": "610ef13a-c51a-432e-b9c5-45f05c76afc8",
   "metadata": {},
   "outputs": [],
   "source": [
    "import random"
   ]
  },
  {
   "cell_type": "code",
   "execution_count": 8,
   "id": "bede7dc9-4c73-4a33-bfa5-e1991f3c7936",
   "metadata": {
    "tags": []
   },
   "outputs": [],
   "source": [
    "import os"
   ]
  },
  {
   "cell_type": "code",
   "execution_count": 9,
   "id": "98e99363-bbf5-461e-884b-707f057dcb8d",
   "metadata": {},
   "outputs": [],
   "source": [
    "import decoupler as dc"
   ]
  },
  {
   "cell_type": "code",
   "execution_count": 10,
   "id": "2b3fdf8a-9edf-458a-bb51-efae6ba914c9",
   "metadata": {},
   "outputs": [
    {
     "data": {
      "text/plain": [
       "'0.8.0'"
      ]
     },
     "execution_count": 10,
     "metadata": {},
     "output_type": "execute_result"
    }
   ],
   "source": [
    "ad.__version__"
   ]
  },
  {
   "cell_type": "code",
   "execution_count": 11,
   "id": "1e89a668-7849-461f-9725-5fa5337cb045",
   "metadata": {},
   "outputs": [
    {
     "name": "stdout",
     "output_type": "stream",
     "text": [
      "1.5.3\n"
     ]
    }
   ],
   "source": [
    "print(pd.__version__)"
   ]
  },
  {
   "cell_type": "code",
   "execution_count": 12,
   "id": "df8730f1-4096-4d5c-9b11-45c2865f4f4f",
   "metadata": {},
   "outputs": [],
   "source": [
    "import scanpy as sc\n",
    "from scipy.sparse import issparse"
   ]
  },
  {
   "cell_type": "markdown",
   "id": "b4deda97-9ede-4986-a373-5f3aa2a8551a",
   "metadata": {},
   "source": [
    "# Preqrequisites Configurations & Parameters"
   ]
  },
  {
   "cell_type": "code",
   "execution_count": 13,
   "id": "395129e5-41a6-4f94-a0fd-83ac79d47d84",
   "metadata": {
    "tags": []
   },
   "outputs": [],
   "source": [
    "### Load the parameters that are set via the configuration files"
   ]
  },
  {
   "cell_type": "code",
   "execution_count": 14,
   "id": "104aa1d9-0fae-4a84-887d-fdcece40110a",
   "metadata": {
    "tags": []
   },
   "outputs": [],
   "source": [
    "### Load configurations file\n",
    "global_configs = pd.read_csv('configurations/Data_Configs.csv', sep = ',')"
   ]
  },
  {
   "cell_type": "code",
   "execution_count": 15,
   "id": "ca5c5f65-bd02-4319-9981-89dda5ad328a",
   "metadata": {
    "tags": []
   },
   "outputs": [
    {
     "data": {
      "text/html": [
       "<div>\n",
       "<style scoped>\n",
       "    .dataframe tbody tr th:only-of-type {\n",
       "        vertical-align: middle;\n",
       "    }\n",
       "\n",
       "    .dataframe tbody tr th {\n",
       "        vertical-align: top;\n",
       "    }\n",
       "\n",
       "    .dataframe thead th {\n",
       "        text-align: right;\n",
       "    }\n",
       "</style>\n",
       "<table border=\"1\" class=\"dataframe\">\n",
       "  <thead>\n",
       "    <tr style=\"text-align: right;\">\n",
       "      <th></th>\n",
       "      <th>parameter</th>\n",
       "      <th>value</th>\n",
       "    </tr>\n",
       "  </thead>\n",
       "  <tbody>\n",
       "    <tr>\n",
       "      <th>0</th>\n",
       "      <td>data_path</td>\n",
       "      <td>/lustre/groups/epigenereg01/workspace/projects...</td>\n",
       "    </tr>\n",
       "    <tr>\n",
       "      <th>1</th>\n",
       "      <td>result_path</td>\n",
       "      <td>/lustre/groups/epigenereg01/workspace/projects...</td>\n",
       "    </tr>\n",
       "  </tbody>\n",
       "</table>\n",
       "</div>"
      ],
      "text/plain": [
       "     parameter                                              value\n",
       "0    data_path  /lustre/groups/epigenereg01/workspace/projects...\n",
       "1  result_path  /lustre/groups/epigenereg01/workspace/projects..."
      ]
     },
     "execution_count": 15,
     "metadata": {},
     "output_type": "execute_result"
    }
   ],
   "source": [
    "global_configs"
   ]
  },
  {
   "cell_type": "code",
   "execution_count": 16,
   "id": "779281b6-5436-4d23-8984-8a4b9c9b3d42",
   "metadata": {
    "tags": []
   },
   "outputs": [],
   "source": [
    "data_path = global_configs['value'][global_configs['parameter'] == 'data_path']"
   ]
  },
  {
   "cell_type": "code",
   "execution_count": 17,
   "id": "b0fe4749-edfd-424f-9c9d-925930fd0a90",
   "metadata": {
    "tags": []
   },
   "outputs": [
    {
     "data": {
      "text/plain": [
       "0    /lustre/groups/epigenereg01/workspace/projects...\n",
       "Name: value, dtype: object"
      ]
     },
     "execution_count": 17,
     "metadata": {},
     "output_type": "execute_result"
    }
   ],
   "source": [
    "data_path"
   ]
  },
  {
   "cell_type": "code",
   "execution_count": 18,
   "id": "07683dc1-1aa8-4848-93a5-63bfcf73e654",
   "metadata": {
    "tags": []
   },
   "outputs": [],
   "source": [
    "result_path = global_configs['value'][global_configs['parameter'] == 'result_path']"
   ]
  },
  {
   "cell_type": "code",
   "execution_count": 19,
   "id": "84a3d9ea-02b6-4118-a309-8f94ac5c5f03",
   "metadata": {
    "tags": []
   },
   "outputs": [
    {
     "data": {
      "text/plain": [
       "1    /lustre/groups/epigenereg01/workspace/projects...\n",
       "Name: value, dtype: object"
      ]
     },
     "execution_count": 19,
     "metadata": {},
     "output_type": "execute_result"
    }
   ],
   "source": [
    "result_path"
   ]
  },
  {
   "cell_type": "code",
   "execution_count": 20,
   "id": "f99ec964-d0d2-46c9-bde0-6d484830a07d",
   "metadata": {
    "tags": []
   },
   "outputs": [],
   "source": [
    "## Loading the file containing the name of the single-cell dataset"
   ]
  },
  {
   "cell_type": "code",
   "execution_count": 21,
   "id": "b764827a-39a0-4f01-99f1-40886b31797a",
   "metadata": {
    "tags": []
   },
   "outputs": [],
   "source": [
    "sc_configs = pd.read_csv('configurations/01_Pre_Processing_SC_Data.csv', sep = ',')"
   ]
  },
  {
   "cell_type": "code",
   "execution_count": 22,
   "id": "d71d6297-3636-414c-aa45-58048b58bdb4",
   "metadata": {
    "tags": []
   },
   "outputs": [
    {
     "data": {
      "text/html": [
       "<div>\n",
       "<style scoped>\n",
       "    .dataframe tbody tr th:only-of-type {\n",
       "        vertical-align: middle;\n",
       "    }\n",
       "\n",
       "    .dataframe tbody tr th {\n",
       "        vertical-align: top;\n",
       "    }\n",
       "\n",
       "    .dataframe thead th {\n",
       "        text-align: right;\n",
       "    }\n",
       "</style>\n",
       "<table border=\"1\" class=\"dataframe\">\n",
       "  <thead>\n",
       "    <tr style=\"text-align: right;\">\n",
       "      <th></th>\n",
       "      <th>data_name</th>\n",
       "      <th>data_type</th>\n",
       "    </tr>\n",
       "  </thead>\n",
       "  <tbody>\n",
       "    <tr>\n",
       "      <th>0</th>\n",
       "      <td>dcm_acm</td>\n",
       "      <td>h5seurat</td>\n",
       "    </tr>\n",
       "  </tbody>\n",
       "</table>\n",
       "</div>"
      ],
      "text/plain": [
       "  data_name data_type\n",
       "0   dcm_acm  h5seurat"
      ]
     },
     "execution_count": 22,
     "metadata": {},
     "output_type": "execute_result"
    }
   ],
   "source": [
    "sc_configs"
   ]
  },
  {
   "cell_type": "code",
   "execution_count": 23,
   "id": "666a900e-18ca-4aab-821d-7a596e0d5a80",
   "metadata": {
    "tags": []
   },
   "outputs": [],
   "source": [
    "sc_configs = sc_configs[sc_configs['data_name'] != '']"
   ]
  },
  {
   "cell_type": "code",
   "execution_count": 24,
   "id": "ab9f9b1f-8678-47de-8a92-76bbb9c9d258",
   "metadata": {
    "tags": []
   },
   "outputs": [],
   "source": [
    "sc_dataset_names = pd.unique(sc_configs['data_name'])"
   ]
  },
  {
   "cell_type": "code",
   "execution_count": 25,
   "id": "5d15013c-a3ba-4746-846a-2d56d4ff408a",
   "metadata": {
    "tags": []
   },
   "outputs": [
    {
     "data": {
      "text/plain": [
       "array(['dcm_acm'], dtype=object)"
      ]
     },
     "execution_count": 25,
     "metadata": {},
     "output_type": "execute_result"
    }
   ],
   "source": [
    "sc_dataset_names"
   ]
  },
  {
   "cell_type": "code",
   "execution_count": 26,
   "id": "3fe6f4d8-12ae-457f-8b9c-a49f20d793cc",
   "metadata": {
    "tags": []
   },
   "outputs": [],
   "source": [
    "### Generate the result data directory if it does not exist yet\n",
    "\n",
    "if not os.path.exists(result_path[1] + '01_results'):\n",
    "    # Create the directory if it doesn't exist\n",
    "    os.makedirs(result_path[1] + '01_results')\n"
   ]
  },
  {
   "cell_type": "code",
   "execution_count": null,
   "id": "d75ee000-c61d-4a82-b325-11d794b2ec59",
   "metadata": {},
   "outputs": [],
   "source": []
  },
  {
   "cell_type": "markdown",
   "id": "8d1f4d59-4807-4327-b415-f7fa5f4436c7",
   "metadata": {},
   "source": [
    "# Load data"
   ]
  },
  {
   "cell_type": "markdown",
   "id": "d03b1130-750c-4e9a-8c46-09901168fa3e",
   "metadata": {},
   "source": [
    "## Anndata object"
   ]
  },
  {
   "cell_type": "code",
   "execution_count": 35,
   "id": "a7293363-4e6c-477d-b161-a22339476554",
   "metadata": {
    "tags": []
   },
   "outputs": [],
   "source": [
    "### Load single-cell datasets as anndata format; should contain the meta-columns: sample_id; cluster_id\n",
    "### Raw Counts should be given in default assay"
   ]
  },
  {
   "cell_type": "code",
   "execution_count": 36,
   "id": "0688e519-e3c4-4ecf-b7b0-c9d01c42083b",
   "metadata": {
    "tags": []
   },
   "outputs": [],
   "source": [
    "sc_data_list = []"
   ]
  },
  {
   "cell_type": "code",
   "execution_count": 37,
   "id": "08f4d5e4-7609-4e47-9b50-df06c87aedbe",
   "metadata": {
    "tags": []
   },
   "outputs": [
    {
     "ename": "TypeError",
     "evalue": "list indices must be integers or slices, not str",
     "output_type": "error",
     "traceback": [
      "\u001b[0;31m---------------------------------------------------------------------------\u001b[0m",
      "\u001b[0;31mTypeError\u001b[0m                                 Traceback (most recent call last)",
      "Cell \u001b[0;32mIn[37], line 6\u001b[0m\n\u001b[1;32m      4\u001b[0m adata\u001b[38;5;241m.\u001b[39mobs[\u001b[38;5;124m'\u001b[39m\u001b[38;5;124mgroup_id\u001b[39m\u001b[38;5;124m'\u001b[39m] \u001b[38;5;241m=\u001b[39m \u001b[38;5;124m'\u001b[39m\u001b[38;5;124mdummy\u001b[39m\u001b[38;5;124m'\u001b[39m\n\u001b[1;32m      5\u001b[0m adata \u001b[38;5;241m=\u001b[39m adata\u001b[38;5;241m.\u001b[39mraw\u001b[38;5;241m.\u001b[39mto_adata()\n\u001b[0;32m----> 6\u001b[0m \u001b[43msc_data_list\u001b[49m\u001b[43m[\u001b[49m\u001b[43mi\u001b[49m\u001b[43m]\u001b[49m \u001b[38;5;241m=\u001b[39m adata\n",
      "\u001b[0;31mTypeError\u001b[0m: list indices must be integers or slices, not str"
     ]
    }
   ],
   "source": [
    "for i in sc_dataset_names:\n",
    "    source_text = data_path[0] + '/' + i + '.h5ad'\n",
    "    adata = ad.read_h5ad(source_text)\n",
    "    adata.obs['group_id'] = 'dummy'\n",
    "    adata = adata.raw.to_adata()\n",
    "    sc_data_list[i] = adata"
   ]
  },
  {
   "cell_type": "code",
   "execution_count": null,
   "id": "5280b7c9-ddfc-4e5f-ad81-344d5a57e3f1",
   "metadata": {},
   "outputs": [],
   "source": []
  },
  {
   "cell_type": "code",
   "execution_count": 82,
   "id": "ccbd131e-d8d5-47e6-98a8-fa5a4ab623ea",
   "metadata": {
    "tags": []
   },
   "outputs": [],
   "source": [
    "#data_path[0] + '/' + sc_dataset_names[0] + '.h5ad'"
   ]
  },
  {
   "cell_type": "code",
   "execution_count": 27,
   "id": "0c19b5fa-6b17-4ae4-9c67-fbc60a4f4bd5",
   "metadata": {},
   "outputs": [],
   "source": [
    "adata = ad.read_h5ad(data_path[0] + '/' + sc_dataset_names[0] + '.h5ad')"
   ]
  },
  {
   "cell_type": "code",
   "execution_count": 28,
   "id": "a0a2239c-54d5-4270-b8da-339706fad10b",
   "metadata": {
    "tags": []
   },
   "outputs": [],
   "source": [
    "adata.obs['group_id'] = 'dummy'"
   ]
  },
  {
   "cell_type": "code",
   "execution_count": 29,
   "id": "1447f27a-465f-4366-be17-a1f43224db31",
   "metadata": {
    "tags": []
   },
   "outputs": [],
   "source": [
    "adata = adata.raw.to_adata()"
   ]
  },
  {
   "cell_type": "code",
   "execution_count": 30,
   "id": "3a6f0f85-1dab-4d3b-8b53-a18f072839a3",
   "metadata": {
    "tags": []
   },
   "outputs": [],
   "source": [
    "#adata.raw.X"
   ]
  },
  {
   "cell_type": "code",
   "execution_count": 31,
   "id": "0f047b5d-f0f7-4f24-b715-9e7253b63166",
   "metadata": {
    "tags": []
   },
   "outputs": [
    {
     "data": {
      "text/plain": [
       "AnnData object with n_obs × n_vars = 881081 × 33145\n",
       "    obs: 'Sample', 'donor_id', 'Region_x', 'Primary.Genetic.Diagnosis', 'n_genes', 'n_counts', 'percent_mito', 'percent_ribo', 'scrublet_score_z', 'scrublet_score_log', 'solo_score', 'cell_states', 'Assigned', 'self_reported_ethnicity_ontology_term_id', 'disease_ontology_term_id', 'cell_type_ontology_term_id', 'sex_ontology_term_id', 'assay_ontology_term_id', 'organism_ontology_term_id', 'is_primary_data', 'tissue_ontology_term_id', 'development_stage_ontology_term_id', 'suspension_type', 'tissue_type', 'cell_type', 'assay', 'disease', 'organism', 'sex', 'tissue', 'self_reported_ethnicity', 'development_stage', 'observation_joinid', 'group_id'\n",
       "    var: 'feature_name', 'feature_reference', 'feature_biotype', 'feature_length'\n",
       "    uns: 'cell_states_colors', 'cell_type_ontology_term_id_colors', 'citation', 'leiden', 'neighbors', 'pca', 'schema_reference', 'schema_version', 'title', 'umap'\n",
       "    obsm: 'X_pca', 'X_umap'"
      ]
     },
     "execution_count": 31,
     "metadata": {},
     "output_type": "execute_result"
    }
   ],
   "source": [
    "adata"
   ]
  },
  {
   "cell_type": "code",
   "execution_count": 32,
   "id": "814d08a8-91ea-4a39-9b48-e67d23f2af22",
   "metadata": {
    "tags": []
   },
   "outputs": [
    {
     "name": "stderr",
     "output_type": "stream",
     "text": [
      "/home/icb/corinna.losert/miniconda3/envs/mofa_analysis/lib/python3.9/site-packages/anndata/_core/anndata.py:895: UserWarning: \n",
      "AnnData expects .var.index to contain strings, but got values like:\n",
      "    ['MIR1302-2HG', 'FAM138A', 'OR4F5', 'ENSG00000238009.6', 'ENSG00000239945.1']\n",
      "\n",
      "    Inferred to be: categorical\n",
      "\n",
      "  names = self._prep_dim_index(names, \"var\")\n"
     ]
    }
   ],
   "source": [
    "adata.var_names = adata.var['feature_name']"
   ]
  },
  {
   "cell_type": "code",
   "execution_count": 33,
   "id": "04eeec4c-98f5-4d40-95af-805a7b0f772e",
   "metadata": {
    "tags": []
   },
   "outputs": [],
   "source": [
    "sample_data = adata.obs[['donor_id', 'disease', 'sex', 'development_stage', 'self_reported_ethnicity', 'Primary.Genetic.Diagnosis']].drop_duplicates()\n",
    "sample_data['sample_id'] = sample_data['donor_id']\n",
    "sample_data.to_csv('/lustre/groups/epigenereg01/workspace/projects/jove/example_data/Prepared_Sample_Meta_Data.csv')"
   ]
  },
  {
   "cell_type": "code",
   "execution_count": 34,
   "id": "734d92c4-fd52-483d-bb79-4c0c7c1d8dc9",
   "metadata": {
    "tags": []
   },
   "outputs": [
    {
     "data": {
      "text/plain": [
       "disease\n",
       "non-compaction cardiomyopathy                       1\n",
       "dilated cardiomyopathy                             52\n",
       "arrhythmogenic right ventricular cardiomyopathy     8\n",
       "normal                                             18\n",
       "dtype: int64"
      ]
     },
     "execution_count": 34,
     "metadata": {},
     "output_type": "execute_result"
    }
   ],
   "source": [
    "sample_data.groupby(['disease']).size()"
   ]
  },
  {
   "cell_type": "code",
   "execution_count": 35,
   "id": "4475aed4-022d-4fcd-9d60-6e250fb8cdc3",
   "metadata": {
    "tags": []
   },
   "outputs": [
    {
     "data": {
      "text/plain": [
       "disease                                          Primary.Genetic.Diagnosis\n",
       "non-compaction cardiomyopathy                    BAG3                          0\n",
       "                                                 DES                           0\n",
       "                                                 DSP                           0\n",
       "                                                 FKTN                          0\n",
       "                                                 FLNC                          0\n",
       "                                                 LMNA                          0\n",
       "                                                 PKP2                          0\n",
       "                                                 PLN                           0\n",
       "                                                 PVneg                         0\n",
       "                                                 RBM20                         0\n",
       "                                                 TNNC1                         0\n",
       "                                                 TNNT2                         0\n",
       "                                                 TPM1                          1\n",
       "                                                 TTN                           0\n",
       "                                                 control                       0\n",
       "dilated cardiomyopathy                           BAG3                          1\n",
       "                                                 DES                           2\n",
       "                                                 DSP                           2\n",
       "                                                 FKTN                          1\n",
       "                                                 FLNC                          1\n",
       "                                                 LMNA                         11\n",
       "                                                 PKP2                          0\n",
       "                                                 PLN                           2\n",
       "                                                 PVneg                         8\n",
       "                                                 RBM20                         8\n",
       "                                                 TNNC1                         2\n",
       "                                                 TNNT2                         2\n",
       "                                                 TPM1                          0\n",
       "                                                 TTN                          12\n",
       "                                                 control                       0\n",
       "arrhythmogenic right ventricular cardiomyopathy  BAG3                          0\n",
       "                                                 DES                           0\n",
       "                                                 DSP                           0\n",
       "                                                 FKTN                          0\n",
       "                                                 FLNC                          0\n",
       "                                                 LMNA                          1\n",
       "                                                 PKP2                          6\n",
       "                                                 PLN                           1\n",
       "                                                 PVneg                         0\n",
       "                                                 RBM20                         0\n",
       "                                                 TNNC1                         0\n",
       "                                                 TNNT2                         0\n",
       "                                                 TPM1                          0\n",
       "                                                 TTN                           0\n",
       "                                                 control                       0\n",
       "normal                                           BAG3                          0\n",
       "                                                 DES                           0\n",
       "                                                 DSP                           0\n",
       "                                                 FKTN                          0\n",
       "                                                 FLNC                          0\n",
       "                                                 LMNA                          0\n",
       "                                                 PKP2                          0\n",
       "                                                 PLN                           0\n",
       "                                                 PVneg                         0\n",
       "                                                 RBM20                         0\n",
       "                                                 TNNC1                         0\n",
       "                                                 TNNT2                         0\n",
       "                                                 TPM1                          0\n",
       "                                                 TTN                           0\n",
       "                                                 control                      18\n",
       "dtype: int64"
      ]
     },
     "execution_count": 35,
     "metadata": {},
     "output_type": "execute_result"
    }
   ],
   "source": [
    "sample_data.groupby(['disease', 'Primary.Genetic.Diagnosis']).size()"
   ]
  },
  {
   "cell_type": "code",
   "execution_count": 36,
   "id": "81b7c409-eb2e-430d-ac27-3588f885d29c",
   "metadata": {
    "tags": []
   },
   "outputs": [],
   "source": [
    "sampled_donors = sample_data['donor_id'][sample_data['Primary.Genetic.Diagnosis'].isin(['control', 'TTN', 'PVneg', 'LMNA', 'PKP2'])]"
   ]
  },
  {
   "cell_type": "code",
   "execution_count": 37,
   "id": "442d8cb1-9f54-4c70-b91e-d98386041d55",
   "metadata": {
    "tags": []
   },
   "outputs": [
    {
     "data": {
      "text/plain": [
       "56"
      ]
     },
     "execution_count": 37,
     "metadata": {},
     "output_type": "execute_result"
    }
   ],
   "source": [
    "len(sampled_donors)"
   ]
  },
  {
   "cell_type": "code",
   "execution_count": 38,
   "id": "d42a18a0-b5cb-4cda-a7e7-76e4213ded61",
   "metadata": {
    "tags": []
   },
   "outputs": [],
   "source": [
    "adata = adata[adata.obs['donor_id'].isin(sampled_donors)]"
   ]
  },
  {
   "cell_type": "code",
   "execution_count": 39,
   "id": "bd1eb10f-ea0a-4db7-9286-15fb898e17ea",
   "metadata": {
    "tags": []
   },
   "outputs": [],
   "source": [
    "adata = adata[adata.obs['cell_type'] != 'unknown']"
   ]
  },
  {
   "cell_type": "code",
   "execution_count": 40,
   "id": "9cfe9135-3778-4238-bd6b-2cb2ade7eba2",
   "metadata": {
    "tags": []
   },
   "outputs": [],
   "source": [
    "### choose genes from pathways"
   ]
  },
  {
   "cell_type": "code",
   "execution_count": 41,
   "id": "a3f3c970-5593-48c3-9122-9ce2e0c34098",
   "metadata": {
    "tags": []
   },
   "outputs": [],
   "source": [
    "pathways = pd.read_csv(\"/lustre/groups/epigenereg01/workspace/projects/jove/example_data/Prepared_Pathway_Data.csv\")"
   ]
  },
  {
   "cell_type": "code",
   "execution_count": 42,
   "id": "e74f4343-6c9f-4a45-81ae-d1aeec833b8a",
   "metadata": {
    "tags": []
   },
   "outputs": [],
   "source": [
    "genes = pd.unique(pathways['gene'])"
   ]
  },
  {
   "cell_type": "code",
   "execution_count": 43,
   "id": "ec392ac8-236e-4041-8057-d4795cd822d3",
   "metadata": {
    "tags": []
   },
   "outputs": [
    {
     "data": {
      "text/plain": [
       "2012"
      ]
     },
     "execution_count": 43,
     "metadata": {},
     "output_type": "execute_result"
    }
   ],
   "source": [
    "len(genes)"
   ]
  },
  {
   "cell_type": "code",
   "execution_count": 44,
   "id": "7df53db1-32e0-4d5f-9ac0-76490a6af464",
   "metadata": {
    "tags": []
   },
   "outputs": [],
   "source": [
    "random_numbers = random.sample(range(1, 33146), 5000)"
   ]
  },
  {
   "cell_type": "code",
   "execution_count": 45,
   "id": "bab84802-9899-4810-a8a5-b37823b2faca",
   "metadata": {
    "tags": []
   },
   "outputs": [],
   "source": [
    "# Convert the positions to boolean indices\n",
    "#gene_indices = np.zeros(adata.n_vars, dtype=bool)\n",
    "#gene_indices[random_numbers ] = True"
   ]
  },
  {
   "cell_type": "code",
   "execution_count": 46,
   "id": "718f5cec-6fda-4c8a-9e49-1cc6fe53a714",
   "metadata": {
    "tags": []
   },
   "outputs": [],
   "source": [
    "#gene_indices"
   ]
  },
  {
   "cell_type": "code",
   "execution_count": 47,
   "id": "9d05d258-5c10-474d-ad3d-434aa4b56f9d",
   "metadata": {
    "tags": []
   },
   "outputs": [],
   "source": [
    "adata = adata[:, adata.var_names.isin(genes)]"
   ]
  },
  {
   "cell_type": "code",
   "execution_count": 48,
   "id": "a6a57fa4-d4a5-41aa-9ee1-15e1bf2f39ae",
   "metadata": {
    "tags": []
   },
   "outputs": [],
   "source": [
    "#adata= adata[:, gene_indices]"
   ]
  },
  {
   "cell_type": "code",
   "execution_count": 49,
   "id": "a8fff276-3b92-4652-bf05-93b6f3692b18",
   "metadata": {
    "tags": []
   },
   "outputs": [
    {
     "data": {
      "text/plain": [
       "View of AnnData object with n_obs × n_vars = 635199 × 1980\n",
       "    obs: 'Sample', 'donor_id', 'Region_x', 'Primary.Genetic.Diagnosis', 'n_genes', 'n_counts', 'percent_mito', 'percent_ribo', 'scrublet_score_z', 'scrublet_score_log', 'solo_score', 'cell_states', 'Assigned', 'self_reported_ethnicity_ontology_term_id', 'disease_ontology_term_id', 'cell_type_ontology_term_id', 'sex_ontology_term_id', 'assay_ontology_term_id', 'organism_ontology_term_id', 'is_primary_data', 'tissue_ontology_term_id', 'development_stage_ontology_term_id', 'suspension_type', 'tissue_type', 'cell_type', 'assay', 'disease', 'organism', 'sex', 'tissue', 'self_reported_ethnicity', 'development_stage', 'observation_joinid', 'group_id'\n",
       "    var: 'feature_name', 'feature_reference', 'feature_biotype', 'feature_length'\n",
       "    uns: 'cell_states_colors', 'cell_type_ontology_term_id_colors', 'citation', 'leiden', 'neighbors', 'pca', 'schema_reference', 'schema_version', 'title', 'umap'\n",
       "    obsm: 'X_pca', 'X_umap'"
      ]
     },
     "execution_count": 49,
     "metadata": {},
     "output_type": "execute_result"
    }
   ],
   "source": [
    "adata"
   ]
  },
  {
   "cell_type": "code",
   "execution_count": 50,
   "id": "274ae037-d72c-430b-b81f-439ceff58373",
   "metadata": {
    "tags": []
   },
   "outputs": [
    {
     "data": {
      "text/plain": [
       "['control', 'TTN', 'LMNA', 'PKP2', 'PVneg']\n",
       "Categories (5, object): ['LMNA', 'PKP2', 'PVneg', 'TTN', 'control']"
      ]
     },
     "execution_count": 50,
     "metadata": {},
     "output_type": "execute_result"
    }
   ],
   "source": [
    "pd.unique(adata.obs['Primary.Genetic.Diagnosis'])"
   ]
  },
  {
   "cell_type": "code",
   "execution_count": 51,
   "id": "db45e684-2ed1-4a92-af2b-f6bb4dc9110c",
   "metadata": {
    "tags": []
   },
   "outputs": [
    {
     "data": {
      "text/plain": [
       "['normal', 'dilated cardiomyopathy', 'arrhythmogenic right ventricular cardiomyopathy']\n",
       "Categories (3, object): ['dilated cardiomyopathy', 'arrhythmogenic right ventricular cardiomyopathy', 'normal']"
      ]
     },
     "execution_count": 51,
     "metadata": {},
     "output_type": "execute_result"
    }
   ],
   "source": [
    "pd.unique(adata.obs['disease'])"
   ]
  },
  {
   "cell_type": "code",
   "execution_count": 52,
   "id": "4f7f620a-d686-4250-a498-cdcabebb5e61",
   "metadata": {
    "tags": []
   },
   "outputs": [
    {
     "name": "stderr",
     "output_type": "stream",
     "text": [
      "/tmp/ipykernel_2671904/2931335745.py:1: ImplicitModificationWarning: Trying to modify attribute `.obs` of view, initializing view as actual.\n",
      "  adata.obs['sample_id']  = adata.obs['donor_id']\n",
      "/home/icb/corinna.losert/miniconda3/envs/mofa_analysis/lib/python3.9/site-packages/anndata/_core/anndata.py:121: ImplicitModificationWarning: Transforming to str index.\n",
      "  warnings.warn(\"Transforming to str index.\", ImplicitModificationWarning)\n"
     ]
    }
   ],
   "source": [
    "adata.obs['sample_id']  = adata.obs['donor_id']\n",
    "adata.obs['cluster_id'] = adata.obs['cell_type']\n"
   ]
  },
  {
   "cell_type": "code",
   "execution_count": 53,
   "id": "0b982062-38b3-40d9-ac62-4144290ea9f3",
   "metadata": {
    "tags": []
   },
   "outputs": [
    {
     "data": {
      "text/plain": [
       "56"
      ]
     },
     "execution_count": 53,
     "metadata": {},
     "output_type": "execute_result"
    }
   ],
   "source": [
    " len(pd.unique(adata.obs['sample_id']))"
   ]
  },
  {
   "cell_type": "markdown",
   "id": "5a4aa855-30e4-4ab2-8a1f-45011efa5c80",
   "metadata": {},
   "source": [
    "## TBD add checks / amount of cells etc."
   ]
  },
  {
   "cell_type": "code",
   "execution_count": 54,
   "id": "77783231-41bb-4779-a7f2-1d4a6a67898a",
   "metadata": {},
   "outputs": [],
   "source": [
    "## Generate info about expression "
   ]
  },
  {
   "cell_type": "code",
   "execution_count": 55,
   "id": "5c791bcb-f53b-4f92-8c74-34d1b8f27852",
   "metadata": {
    "tags": []
   },
   "outputs": [],
   "source": [
    "gene_expr_data = pd.DataFrame()"
   ]
  },
  {
   "cell_type": "code",
   "execution_count": 56,
   "id": "67539a7f-d8d2-428d-87b7-dee7f59953c8",
   "metadata": {
    "tags": []
   },
   "outputs": [],
   "source": [
    "for i in pd.unique(adata.obs['cluster_id']):\n",
    "    cell_type = i\n",
    "    adata_subset = adata[adata.obs['cluster_id'] == cell_type]\n",
    "    \n",
    "    amount_cells = adata_subset.shape[0]\n",
    "    ## Calcalte percentage of cells expressiong gene\n",
    "    amount_cells_expressing_gene = (adata_subset.X > 0).sum(axis= 0)\n",
    "    perc_cells_expressing_gene = (amount_cells_expressing_gene/ amount_cells) * 100\n",
    "    \n",
    "    data = {\n",
    "    'perc_cells_expressing_gene': np.ravel(perc_cells_expressing_gene),\n",
    "    'total_amount_cells_expressing_gene': np.ravel(amount_cells_expressing_gene),\n",
    "    'gene': adata_subset.var_names,\n",
    "    'cluster': cell_type\n",
    "    }\n",
    "\n",
    "    df = pd.DataFrame(data)\n",
    "    \n",
    "    ### Append data\n",
    "    gene_expr_data = pd.concat([gene_expr_data, df])"
   ]
  },
  {
   "cell_type": "code",
   "execution_count": 57,
   "id": "aa4e06bc-95c4-414f-8e24-4f72b46ef8fd",
   "metadata": {
    "tags": []
   },
   "outputs": [
    {
     "data": {
      "text/html": [
       "<div>\n",
       "<style scoped>\n",
       "    .dataframe tbody tr th:only-of-type {\n",
       "        vertical-align: middle;\n",
       "    }\n",
       "\n",
       "    .dataframe tbody tr th {\n",
       "        vertical-align: top;\n",
       "    }\n",
       "\n",
       "    .dataframe thead th {\n",
       "        text-align: right;\n",
       "    }\n",
       "</style>\n",
       "<table border=\"1\" class=\"dataframe\">\n",
       "  <thead>\n",
       "    <tr style=\"text-align: right;\">\n",
       "      <th></th>\n",
       "      <th>perc_cells_expressing_gene</th>\n",
       "      <th>total_amount_cells_expressing_gene</th>\n",
       "      <th>gene</th>\n",
       "      <th>cluster</th>\n",
       "    </tr>\n",
       "  </thead>\n",
       "  <tbody>\n",
       "    <tr>\n",
       "      <th>0</th>\n",
       "      <td>1.314940</td>\n",
       "      <td>1711</td>\n",
       "      <td>ISG15</td>\n",
       "      <td>mural cell</td>\n",
       "    </tr>\n",
       "    <tr>\n",
       "      <th>1</th>\n",
       "      <td>0.006148</td>\n",
       "      <td>8</td>\n",
       "      <td>TNFRSF18</td>\n",
       "      <td>mural cell</td>\n",
       "    </tr>\n",
       "    <tr>\n",
       "      <th>2</th>\n",
       "      <td>0.082232</td>\n",
       "      <td>107</td>\n",
       "      <td>TNFRSF4</td>\n",
       "      <td>mural cell</td>\n",
       "    </tr>\n",
       "    <tr>\n",
       "      <th>3</th>\n",
       "      <td>5.278205</td>\n",
       "      <td>6868</td>\n",
       "      <td>UBE2J2</td>\n",
       "      <td>mural cell</td>\n",
       "    </tr>\n",
       "    <tr>\n",
       "      <th>4</th>\n",
       "      <td>2.396250</td>\n",
       "      <td>3118</td>\n",
       "      <td>ATAD3B</td>\n",
       "      <td>mural cell</td>\n",
       "    </tr>\n",
       "    <tr>\n",
       "      <th>...</th>\n",
       "      <td>...</td>\n",
       "      <td>...</td>\n",
       "      <td>...</td>\n",
       "      <td>...</td>\n",
       "    </tr>\n",
       "    <tr>\n",
       "      <th>1975</th>\n",
       "      <td>13.251962</td>\n",
       "      <td>304</td>\n",
       "      <td>PFKL</td>\n",
       "      <td>adipocyte</td>\n",
       "    </tr>\n",
       "    <tr>\n",
       "      <th>1976</th>\n",
       "      <td>1.525719</td>\n",
       "      <td>35</td>\n",
       "      <td>TRPM2</td>\n",
       "      <td>adipocyte</td>\n",
       "    </tr>\n",
       "    <tr>\n",
       "      <th>1977</th>\n",
       "      <td>38.927637</td>\n",
       "      <td>893</td>\n",
       "      <td>UBE2G2</td>\n",
       "      <td>adipocyte</td>\n",
       "    </tr>\n",
       "    <tr>\n",
       "      <th>1978</th>\n",
       "      <td>1.133391</td>\n",
       "      <td>26</td>\n",
       "      <td>ITGB2</td>\n",
       "      <td>adipocyte</td>\n",
       "    </tr>\n",
       "    <tr>\n",
       "      <th>1979</th>\n",
       "      <td>14.864865</td>\n",
       "      <td>341</td>\n",
       "      <td>S100B</td>\n",
       "      <td>adipocyte</td>\n",
       "    </tr>\n",
       "  </tbody>\n",
       "</table>\n",
       "<p>17820 rows × 4 columns</p>\n",
       "</div>"
      ],
      "text/plain": [
       "      perc_cells_expressing_gene  total_amount_cells_expressing_gene  \\\n",
       "0                       1.314940                                1711   \n",
       "1                       0.006148                                   8   \n",
       "2                       0.082232                                 107   \n",
       "3                       5.278205                                6868   \n",
       "4                       2.396250                                3118   \n",
       "...                          ...                                 ...   \n",
       "1975                   13.251962                                 304   \n",
       "1976                    1.525719                                  35   \n",
       "1977                   38.927637                                 893   \n",
       "1978                    1.133391                                  26   \n",
       "1979                   14.864865                                 341   \n",
       "\n",
       "          gene     cluster  \n",
       "0        ISG15  mural cell  \n",
       "1     TNFRSF18  mural cell  \n",
       "2      TNFRSF4  mural cell  \n",
       "3       UBE2J2  mural cell  \n",
       "4       ATAD3B  mural cell  \n",
       "...        ...         ...  \n",
       "1975      PFKL   adipocyte  \n",
       "1976     TRPM2   adipocyte  \n",
       "1977    UBE2G2   adipocyte  \n",
       "1978     ITGB2   adipocyte  \n",
       "1979     S100B   adipocyte  \n",
       "\n",
       "[17820 rows x 4 columns]"
      ]
     },
     "execution_count": 57,
     "metadata": {},
     "output_type": "execute_result"
    }
   ],
   "source": [
    "gene_expr_data"
   ]
  },
  {
   "cell_type": "code",
   "execution_count": 58,
   "id": "29648c74-6b76-4982-b7b8-344d6db46ce7",
   "metadata": {
    "tags": []
   },
   "outputs": [],
   "source": [
    "i = sc_dataset_names[0]"
   ]
  },
  {
   "cell_type": "code",
   "execution_count": 59,
   "id": "442f2345-389c-4b9b-8d76-a2a342070145",
   "metadata": {
    "tags": []
   },
   "outputs": [
    {
     "data": {
      "text/plain": [
       "'dcm_acm'"
      ]
     },
     "execution_count": 59,
     "metadata": {},
     "output_type": "execute_result"
    }
   ],
   "source": [
    "i"
   ]
  },
  {
   "cell_type": "code",
   "execution_count": 60,
   "id": "df13d395-d384-4ee8-9d1d-1a65a4cdc3cc",
   "metadata": {
    "tags": []
   },
   "outputs": [],
   "source": [
    "### Save file\n",
    "gene_expr_data.to_csv(result_path[1] + '/01_results/01_' +  i +  '_Gene_Expr_per_Cell_Type' +  '.csv')"
   ]
  },
  {
   "cell_type": "markdown",
   "id": "a6c38f95-8890-48ec-8585-c54af4c99ff7",
   "metadata": {},
   "source": [
    "## Optional: generate pseudobulk"
   ]
  },
  {
   "cell_type": "code",
   "execution_count": 61,
   "id": "8bf6663f-bfb9-4a02-b328-cfa4e445f43b",
   "metadata": {},
   "outputs": [],
   "source": [
    "\n",
    "adata = dc.get_pseudobulk(\n",
    "    adata,\n",
    "    sample_col='sample_id',\n",
    "    groups_col='cluster_id',\n",
    "    #layer='counts',\n",
    "    mode='mean',\n",
    "    min_cells=0,  # Filter to remove samples by a minimum number of cells in a sample-group pair.\n",
    "    min_counts=0)  # TBD: why raw \n",
    "\n",
    "    "
   ]
  },
  {
   "cell_type": "code",
   "execution_count": 62,
   "id": "c9451bea-1240-4dcb-935c-222365a5c604",
   "metadata": {},
   "outputs": [
    {
     "data": {
      "text/html": [
       "<div>\n",
       "<style scoped>\n",
       "    .dataframe tbody tr th:only-of-type {\n",
       "        vertical-align: middle;\n",
       "    }\n",
       "\n",
       "    .dataframe tbody tr th {\n",
       "        vertical-align: top;\n",
       "    }\n",
       "\n",
       "    .dataframe thead th {\n",
       "        text-align: right;\n",
       "    }\n",
       "</style>\n",
       "<table border=\"1\" class=\"dataframe\">\n",
       "  <thead>\n",
       "    <tr style=\"text-align: right;\">\n",
       "      <th></th>\n",
       "      <th>donor_id</th>\n",
       "      <th>Primary.Genetic.Diagnosis</th>\n",
       "      <th>Assigned</th>\n",
       "      <th>self_reported_ethnicity_ontology_term_id</th>\n",
       "      <th>disease_ontology_term_id</th>\n",
       "      <th>cell_type_ontology_term_id</th>\n",
       "      <th>sex_ontology_term_id</th>\n",
       "      <th>assay_ontology_term_id</th>\n",
       "      <th>organism_ontology_term_id</th>\n",
       "      <th>is_primary_data</th>\n",
       "      <th>...</th>\n",
       "      <th>disease</th>\n",
       "      <th>organism</th>\n",
       "      <th>sex</th>\n",
       "      <th>self_reported_ethnicity</th>\n",
       "      <th>development_stage</th>\n",
       "      <th>group_id</th>\n",
       "      <th>sample_id</th>\n",
       "      <th>cluster_id</th>\n",
       "      <th>psbulk_n_cells</th>\n",
       "      <th>psbulk_counts</th>\n",
       "    </tr>\n",
       "  </thead>\n",
       "  <tbody>\n",
       "    <tr>\n",
       "      <th>D1_adipocyte</th>\n",
       "      <td>D1</td>\n",
       "      <td>control</td>\n",
       "      <td>True</td>\n",
       "      <td>HANCESTRO:0005</td>\n",
       "      <td>PATO:0000461</td>\n",
       "      <td>CL:0000136</td>\n",
       "      <td>PATO:0000383</td>\n",
       "      <td>EFO:0009899</td>\n",
       "      <td>NCBITaxon:9606</td>\n",
       "      <td>False</td>\n",
       "      <td>...</td>\n",
       "      <td>normal</td>\n",
       "      <td>Homo sapiens</td>\n",
       "      <td>female</td>\n",
       "      <td>European</td>\n",
       "      <td>sixth decade human stage</td>\n",
       "      <td>dummy</td>\n",
       "      <td>D1</td>\n",
       "      <td>adipocyte</td>\n",
       "      <td>68.0</td>\n",
       "      <td>14668.0</td>\n",
       "    </tr>\n",
       "    <tr>\n",
       "      <th>D2_adipocyte</th>\n",
       "      <td>D2</td>\n",
       "      <td>control</td>\n",
       "      <td>True</td>\n",
       "      <td>HANCESTRO:0005</td>\n",
       "      <td>PATO:0000461</td>\n",
       "      <td>CL:0000136</td>\n",
       "      <td>PATO:0000384</td>\n",
       "      <td>EFO:0009899</td>\n",
       "      <td>NCBITaxon:9606</td>\n",
       "      <td>False</td>\n",
       "      <td>...</td>\n",
       "      <td>normal</td>\n",
       "      <td>Homo sapiens</td>\n",
       "      <td>male</td>\n",
       "      <td>European</td>\n",
       "      <td>seventh decade human stage</td>\n",
       "      <td>dummy</td>\n",
       "      <td>D2</td>\n",
       "      <td>adipocyte</td>\n",
       "      <td>74.0</td>\n",
       "      <td>13888.0</td>\n",
       "    </tr>\n",
       "    <tr>\n",
       "      <th>D4_adipocyte</th>\n",
       "      <td>D4</td>\n",
       "      <td>control</td>\n",
       "      <td>True</td>\n",
       "      <td>HANCESTRO:0005</td>\n",
       "      <td>PATO:0000461</td>\n",
       "      <td>CL:0000136</td>\n",
       "      <td>PATO:0000383</td>\n",
       "      <td>EFO:0009899</td>\n",
       "      <td>NCBITaxon:9606</td>\n",
       "      <td>False</td>\n",
       "      <td>...</td>\n",
       "      <td>normal</td>\n",
       "      <td>Homo sapiens</td>\n",
       "      <td>female</td>\n",
       "      <td>European</td>\n",
       "      <td>eighth decade human stage</td>\n",
       "      <td>dummy</td>\n",
       "      <td>D4</td>\n",
       "      <td>adipocyte</td>\n",
       "      <td>150.0</td>\n",
       "      <td>21976.0</td>\n",
       "    </tr>\n",
       "    <tr>\n",
       "      <th>D5_adipocyte</th>\n",
       "      <td>D5</td>\n",
       "      <td>control</td>\n",
       "      <td>True</td>\n",
       "      <td>HANCESTRO:0005</td>\n",
       "      <td>PATO:0000461</td>\n",
       "      <td>CL:0000136</td>\n",
       "      <td>PATO:0000383</td>\n",
       "      <td>EFO:0009899</td>\n",
       "      <td>NCBITaxon:9606</td>\n",
       "      <td>False</td>\n",
       "      <td>...</td>\n",
       "      <td>normal</td>\n",
       "      <td>Homo sapiens</td>\n",
       "      <td>female</td>\n",
       "      <td>European</td>\n",
       "      <td>seventh decade human stage</td>\n",
       "      <td>dummy</td>\n",
       "      <td>D5</td>\n",
       "      <td>adipocyte</td>\n",
       "      <td>69.0</td>\n",
       "      <td>13549.0</td>\n",
       "    </tr>\n",
       "    <tr>\n",
       "      <th>D6_adipocyte</th>\n",
       "      <td>D6</td>\n",
       "      <td>control</td>\n",
       "      <td>True</td>\n",
       "      <td>HANCESTRO:0005</td>\n",
       "      <td>PATO:0000461</td>\n",
       "      <td>CL:0000136</td>\n",
       "      <td>PATO:0000384</td>\n",
       "      <td>EFO:0009899</td>\n",
       "      <td>NCBITaxon:9606</td>\n",
       "      <td>False</td>\n",
       "      <td>...</td>\n",
       "      <td>normal</td>\n",
       "      <td>Homo sapiens</td>\n",
       "      <td>male</td>\n",
       "      <td>European</td>\n",
       "      <td>eighth decade human stage</td>\n",
       "      <td>dummy</td>\n",
       "      <td>D6</td>\n",
       "      <td>adipocyte</td>\n",
       "      <td>37.0</td>\n",
       "      <td>8016.0</td>\n",
       "    </tr>\n",
       "    <tr>\n",
       "      <th>...</th>\n",
       "      <td>...</td>\n",
       "      <td>...</td>\n",
       "      <td>...</td>\n",
       "      <td>...</td>\n",
       "      <td>...</td>\n",
       "      <td>...</td>\n",
       "      <td>...</td>\n",
       "      <td>...</td>\n",
       "      <td>...</td>\n",
       "      <td>...</td>\n",
       "      <td>...</td>\n",
       "      <td>...</td>\n",
       "      <td>...</td>\n",
       "      <td>...</td>\n",
       "      <td>...</td>\n",
       "      <td>...</td>\n",
       "      <td>...</td>\n",
       "      <td>...</td>\n",
       "      <td>...</td>\n",
       "      <td>...</td>\n",
       "      <td>...</td>\n",
       "    </tr>\n",
       "    <tr>\n",
       "      <th>H67_myeloid cell</th>\n",
       "      <td>H67</td>\n",
       "      <td>control</td>\n",
       "      <td>True</td>\n",
       "      <td>HANCESTRO:0005</td>\n",
       "      <td>PATO:0000461</td>\n",
       "      <td>CL:0000763</td>\n",
       "      <td>PATO:0000384</td>\n",
       "      <td>EFO:0009922</td>\n",
       "      <td>NCBITaxon:9606</td>\n",
       "      <td>True</td>\n",
       "      <td>...</td>\n",
       "      <td>normal</td>\n",
       "      <td>Homo sapiens</td>\n",
       "      <td>male</td>\n",
       "      <td>European</td>\n",
       "      <td>fifth decade human stage</td>\n",
       "      <td>dummy</td>\n",
       "      <td>H67</td>\n",
       "      <td>myeloid cell</td>\n",
       "      <td>296.0</td>\n",
       "      <td>104245.0</td>\n",
       "    </tr>\n",
       "    <tr>\n",
       "      <th>H7_myeloid cell</th>\n",
       "      <td>H7</td>\n",
       "      <td>control</td>\n",
       "      <td>True</td>\n",
       "      <td>HANCESTRO:0005</td>\n",
       "      <td>PATO:0000461</td>\n",
       "      <td>CL:0000763</td>\n",
       "      <td>PATO:0000383</td>\n",
       "      <td>EFO:0009922</td>\n",
       "      <td>NCBITaxon:9606</td>\n",
       "      <td>False</td>\n",
       "      <td>...</td>\n",
       "      <td>normal</td>\n",
       "      <td>Homo sapiens</td>\n",
       "      <td>female</td>\n",
       "      <td>European</td>\n",
       "      <td>fifth decade human stage</td>\n",
       "      <td>dummy</td>\n",
       "      <td>H7</td>\n",
       "      <td>myeloid cell</td>\n",
       "      <td>533.0</td>\n",
       "      <td>150915.0</td>\n",
       "    </tr>\n",
       "    <tr>\n",
       "      <th>IC_H01_myeloid cell</th>\n",
       "      <td>IC_H01</td>\n",
       "      <td>TTN</td>\n",
       "      <td>True</td>\n",
       "      <td>HANCESTRO:0005</td>\n",
       "      <td>MONDO:0005021</td>\n",
       "      <td>CL:0000763</td>\n",
       "      <td>PATO:0000384</td>\n",
       "      <td>EFO:0009922</td>\n",
       "      <td>NCBITaxon:9606</td>\n",
       "      <td>True</td>\n",
       "      <td>...</td>\n",
       "      <td>dilated cardiomyopathy</td>\n",
       "      <td>Homo sapiens</td>\n",
       "      <td>male</td>\n",
       "      <td>European</td>\n",
       "      <td>fifth decade human stage</td>\n",
       "      <td>dummy</td>\n",
       "      <td>IC_H01</td>\n",
       "      <td>myeloid cell</td>\n",
       "      <td>279.0</td>\n",
       "      <td>103811.0</td>\n",
       "    </tr>\n",
       "    <tr>\n",
       "      <th>IC_H02_myeloid cell</th>\n",
       "      <td>IC_H02</td>\n",
       "      <td>TTN</td>\n",
       "      <td>True</td>\n",
       "      <td>HANCESTRO:0005</td>\n",
       "      <td>MONDO:0005021</td>\n",
       "      <td>CL:0000763</td>\n",
       "      <td>PATO:0000384</td>\n",
       "      <td>EFO:0009922</td>\n",
       "      <td>NCBITaxon:9606</td>\n",
       "      <td>True</td>\n",
       "      <td>...</td>\n",
       "      <td>dilated cardiomyopathy</td>\n",
       "      <td>Homo sapiens</td>\n",
       "      <td>male</td>\n",
       "      <td>European</td>\n",
       "      <td>adolescent stage</td>\n",
       "      <td>dummy</td>\n",
       "      <td>IC_H02</td>\n",
       "      <td>myeloid cell</td>\n",
       "      <td>533.0</td>\n",
       "      <td>154920.0</td>\n",
       "    </tr>\n",
       "    <tr>\n",
       "      <th>IC_H04_myeloid cell</th>\n",
       "      <td>IC_H04</td>\n",
       "      <td>PVneg</td>\n",
       "      <td>True</td>\n",
       "      <td>HANCESTRO:0005</td>\n",
       "      <td>MONDO:0005021</td>\n",
       "      <td>CL:0000763</td>\n",
       "      <td>PATO:0000383</td>\n",
       "      <td>EFO:0009922</td>\n",
       "      <td>NCBITaxon:9606</td>\n",
       "      <td>True</td>\n",
       "      <td>...</td>\n",
       "      <td>dilated cardiomyopathy</td>\n",
       "      <td>Homo sapiens</td>\n",
       "      <td>female</td>\n",
       "      <td>European</td>\n",
       "      <td>seventh decade human stage</td>\n",
       "      <td>dummy</td>\n",
       "      <td>IC_H04</td>\n",
       "      <td>myeloid cell</td>\n",
       "      <td>160.0</td>\n",
       "      <td>66649.0</td>\n",
       "    </tr>\n",
       "  </tbody>\n",
       "</table>\n",
       "<p>494 rows × 25 columns</p>\n",
       "</div>"
      ],
      "text/plain": [
       "                    donor_id Primary.Genetic.Diagnosis Assigned  \\\n",
       "D1_adipocyte              D1                   control     True   \n",
       "D2_adipocyte              D2                   control     True   \n",
       "D4_adipocyte              D4                   control     True   \n",
       "D5_adipocyte              D5                   control     True   \n",
       "D6_adipocyte              D6                   control     True   \n",
       "...                      ...                       ...      ...   \n",
       "H67_myeloid cell         H67                   control     True   \n",
       "H7_myeloid cell           H7                   control     True   \n",
       "IC_H01_myeloid cell   IC_H01                       TTN     True   \n",
       "IC_H02_myeloid cell   IC_H02                       TTN     True   \n",
       "IC_H04_myeloid cell   IC_H04                     PVneg     True   \n",
       "\n",
       "                    self_reported_ethnicity_ontology_term_id  \\\n",
       "D1_adipocyte                                  HANCESTRO:0005   \n",
       "D2_adipocyte                                  HANCESTRO:0005   \n",
       "D4_adipocyte                                  HANCESTRO:0005   \n",
       "D5_adipocyte                                  HANCESTRO:0005   \n",
       "D6_adipocyte                                  HANCESTRO:0005   \n",
       "...                                                      ...   \n",
       "H67_myeloid cell                              HANCESTRO:0005   \n",
       "H7_myeloid cell                               HANCESTRO:0005   \n",
       "IC_H01_myeloid cell                           HANCESTRO:0005   \n",
       "IC_H02_myeloid cell                           HANCESTRO:0005   \n",
       "IC_H04_myeloid cell                           HANCESTRO:0005   \n",
       "\n",
       "                    disease_ontology_term_id cell_type_ontology_term_id  \\\n",
       "D1_adipocyte                    PATO:0000461                 CL:0000136   \n",
       "D2_adipocyte                    PATO:0000461                 CL:0000136   \n",
       "D4_adipocyte                    PATO:0000461                 CL:0000136   \n",
       "D5_adipocyte                    PATO:0000461                 CL:0000136   \n",
       "D6_adipocyte                    PATO:0000461                 CL:0000136   \n",
       "...                                      ...                        ...   \n",
       "H67_myeloid cell                PATO:0000461                 CL:0000763   \n",
       "H7_myeloid cell                 PATO:0000461                 CL:0000763   \n",
       "IC_H01_myeloid cell            MONDO:0005021                 CL:0000763   \n",
       "IC_H02_myeloid cell            MONDO:0005021                 CL:0000763   \n",
       "IC_H04_myeloid cell            MONDO:0005021                 CL:0000763   \n",
       "\n",
       "                    sex_ontology_term_id assay_ontology_term_id  \\\n",
       "D1_adipocyte                PATO:0000383            EFO:0009899   \n",
       "D2_adipocyte                PATO:0000384            EFO:0009899   \n",
       "D4_adipocyte                PATO:0000383            EFO:0009899   \n",
       "D5_adipocyte                PATO:0000383            EFO:0009899   \n",
       "D6_adipocyte                PATO:0000384            EFO:0009899   \n",
       "...                                  ...                    ...   \n",
       "H67_myeloid cell            PATO:0000384            EFO:0009922   \n",
       "H7_myeloid cell             PATO:0000383            EFO:0009922   \n",
       "IC_H01_myeloid cell         PATO:0000384            EFO:0009922   \n",
       "IC_H02_myeloid cell         PATO:0000384            EFO:0009922   \n",
       "IC_H04_myeloid cell         PATO:0000383            EFO:0009922   \n",
       "\n",
       "                    organism_ontology_term_id is_primary_data  ...  \\\n",
       "D1_adipocyte                   NCBITaxon:9606           False  ...   \n",
       "D2_adipocyte                   NCBITaxon:9606           False  ...   \n",
       "D4_adipocyte                   NCBITaxon:9606           False  ...   \n",
       "D5_adipocyte                   NCBITaxon:9606           False  ...   \n",
       "D6_adipocyte                   NCBITaxon:9606           False  ...   \n",
       "...                                       ...             ...  ...   \n",
       "H67_myeloid cell               NCBITaxon:9606            True  ...   \n",
       "H7_myeloid cell                NCBITaxon:9606           False  ...   \n",
       "IC_H01_myeloid cell            NCBITaxon:9606            True  ...   \n",
       "IC_H02_myeloid cell            NCBITaxon:9606            True  ...   \n",
       "IC_H04_myeloid cell            NCBITaxon:9606            True  ...   \n",
       "\n",
       "                                    disease      organism     sex  \\\n",
       "D1_adipocyte                         normal  Homo sapiens  female   \n",
       "D2_adipocyte                         normal  Homo sapiens    male   \n",
       "D4_adipocyte                         normal  Homo sapiens  female   \n",
       "D5_adipocyte                         normal  Homo sapiens  female   \n",
       "D6_adipocyte                         normal  Homo sapiens    male   \n",
       "...                                     ...           ...     ...   \n",
       "H67_myeloid cell                     normal  Homo sapiens    male   \n",
       "H7_myeloid cell                      normal  Homo sapiens  female   \n",
       "IC_H01_myeloid cell  dilated cardiomyopathy  Homo sapiens    male   \n",
       "IC_H02_myeloid cell  dilated cardiomyopathy  Homo sapiens    male   \n",
       "IC_H04_myeloid cell  dilated cardiomyopathy  Homo sapiens  female   \n",
       "\n",
       "                    self_reported_ethnicity           development_stage  \\\n",
       "D1_adipocyte                       European    sixth decade human stage   \n",
       "D2_adipocyte                       European  seventh decade human stage   \n",
       "D4_adipocyte                       European   eighth decade human stage   \n",
       "D5_adipocyte                       European  seventh decade human stage   \n",
       "D6_adipocyte                       European   eighth decade human stage   \n",
       "...                                     ...                         ...   \n",
       "H67_myeloid cell                   European    fifth decade human stage   \n",
       "H7_myeloid cell                    European    fifth decade human stage   \n",
       "IC_H01_myeloid cell                European    fifth decade human stage   \n",
       "IC_H02_myeloid cell                European            adolescent stage   \n",
       "IC_H04_myeloid cell                European  seventh decade human stage   \n",
       "\n",
       "                    group_id sample_id    cluster_id psbulk_n_cells  \\\n",
       "D1_adipocyte           dummy        D1     adipocyte           68.0   \n",
       "D2_adipocyte           dummy        D2     adipocyte           74.0   \n",
       "D4_adipocyte           dummy        D4     adipocyte          150.0   \n",
       "D5_adipocyte           dummy        D5     adipocyte           69.0   \n",
       "D6_adipocyte           dummy        D6     adipocyte           37.0   \n",
       "...                      ...       ...           ...            ...   \n",
       "H67_myeloid cell       dummy       H67  myeloid cell          296.0   \n",
       "H7_myeloid cell        dummy        H7  myeloid cell          533.0   \n",
       "IC_H01_myeloid cell    dummy    IC_H01  myeloid cell          279.0   \n",
       "IC_H02_myeloid cell    dummy    IC_H02  myeloid cell          533.0   \n",
       "IC_H04_myeloid cell    dummy    IC_H04  myeloid cell          160.0   \n",
       "\n",
       "                    psbulk_counts  \n",
       "D1_adipocyte              14668.0  \n",
       "D2_adipocyte              13888.0  \n",
       "D4_adipocyte              21976.0  \n",
       "D5_adipocyte              13549.0  \n",
       "D6_adipocyte               8016.0  \n",
       "...                           ...  \n",
       "H67_myeloid cell         104245.0  \n",
       "H7_myeloid cell          150915.0  \n",
       "IC_H01_myeloid cell      103811.0  \n",
       "IC_H02_myeloid cell      154920.0  \n",
       "IC_H04_myeloid cell       66649.0  \n",
       "\n",
       "[494 rows x 25 columns]"
      ]
     },
     "execution_count": 62,
     "metadata": {},
     "output_type": "execute_result"
    }
   ],
   "source": [
    "adata.obs"
   ]
  },
  {
   "cell_type": "code",
   "execution_count": 63,
   "id": "1ec9072d-e827-4780-a275-5469da4456f8",
   "metadata": {
    "tags": []
   },
   "outputs": [],
   "source": [
    "### Generate a dataframe to save"
   ]
  },
  {
   "cell_type": "code",
   "execution_count": 64,
   "id": "ee27f40d-9fa9-434a-8549-4e131c78827a",
   "metadata": {
    "tags": []
   },
   "outputs": [],
   "source": [
    "data = adata.to_df()"
   ]
  },
  {
   "cell_type": "code",
   "execution_count": 65,
   "id": "4059b858-d84c-4534-a9d8-a904efe83145",
   "metadata": {
    "tags": []
   },
   "outputs": [
    {
     "data": {
      "text/html": [
       "<div>\n",
       "<style scoped>\n",
       "    .dataframe tbody tr th:only-of-type {\n",
       "        vertical-align: middle;\n",
       "    }\n",
       "\n",
       "    .dataframe tbody tr th {\n",
       "        vertical-align: top;\n",
       "    }\n",
       "\n",
       "    .dataframe thead th {\n",
       "        text-align: right;\n",
       "    }\n",
       "</style>\n",
       "<table border=\"1\" class=\"dataframe\">\n",
       "  <thead>\n",
       "    <tr style=\"text-align: right;\">\n",
       "      <th>feature_name</th>\n",
       "      <th>A1BG</th>\n",
       "      <th>AAAS</th>\n",
       "      <th>AAMP</th>\n",
       "      <th>ABCA13</th>\n",
       "      <th>ABCE1</th>\n",
       "      <th>ABI1</th>\n",
       "      <th>ABI2</th>\n",
       "      <th>ABL1</th>\n",
       "      <th>ABL2</th>\n",
       "      <th>ACAA1</th>\n",
       "      <th>...</th>\n",
       "      <th>YES1</th>\n",
       "      <th>YPEL5</th>\n",
       "      <th>YWHAB</th>\n",
       "      <th>YWHAZ</th>\n",
       "      <th>ZAP70</th>\n",
       "      <th>ZBP1</th>\n",
       "      <th>ZBTB16</th>\n",
       "      <th>ZEB1</th>\n",
       "      <th>ZNRF1</th>\n",
       "      <th>ZNRF2</th>\n",
       "    </tr>\n",
       "  </thead>\n",
       "  <tbody>\n",
       "    <tr>\n",
       "      <th>D1_adipocyte</th>\n",
       "      <td>0.000000</td>\n",
       "      <td>0.088235</td>\n",
       "      <td>0.147059</td>\n",
       "      <td>0.014706</td>\n",
       "      <td>0.029412</td>\n",
       "      <td>0.044118</td>\n",
       "      <td>0.132353</td>\n",
       "      <td>0.735294</td>\n",
       "      <td>0.308824</td>\n",
       "      <td>0.058824</td>\n",
       "      <td>...</td>\n",
       "      <td>0.176471</td>\n",
       "      <td>0.058824</td>\n",
       "      <td>0.044118</td>\n",
       "      <td>0.308824</td>\n",
       "      <td>0.0</td>\n",
       "      <td>0.000000</td>\n",
       "      <td>0.720588</td>\n",
       "      <td>0.514706</td>\n",
       "      <td>0.132353</td>\n",
       "      <td>0.117647</td>\n",
       "    </tr>\n",
       "    <tr>\n",
       "      <th>D2_adipocyte</th>\n",
       "      <td>0.000000</td>\n",
       "      <td>0.027027</td>\n",
       "      <td>0.094595</td>\n",
       "      <td>0.000000</td>\n",
       "      <td>0.067568</td>\n",
       "      <td>0.108108</td>\n",
       "      <td>0.175676</td>\n",
       "      <td>0.716216</td>\n",
       "      <td>0.432432</td>\n",
       "      <td>0.081081</td>\n",
       "      <td>...</td>\n",
       "      <td>0.135135</td>\n",
       "      <td>0.027027</td>\n",
       "      <td>0.121622</td>\n",
       "      <td>0.229730</td>\n",
       "      <td>0.0</td>\n",
       "      <td>0.000000</td>\n",
       "      <td>0.972973</td>\n",
       "      <td>0.283784</td>\n",
       "      <td>0.108108</td>\n",
       "      <td>0.094595</td>\n",
       "    </tr>\n",
       "    <tr>\n",
       "      <th>D4_adipocyte</th>\n",
       "      <td>0.006667</td>\n",
       "      <td>0.113333</td>\n",
       "      <td>0.100000</td>\n",
       "      <td>0.006667</td>\n",
       "      <td>0.066667</td>\n",
       "      <td>0.086667</td>\n",
       "      <td>0.146667</td>\n",
       "      <td>0.406667</td>\n",
       "      <td>0.273333</td>\n",
       "      <td>0.120000</td>\n",
       "      <td>...</td>\n",
       "      <td>0.033333</td>\n",
       "      <td>0.033333</td>\n",
       "      <td>0.066667</td>\n",
       "      <td>0.293333</td>\n",
       "      <td>0.0</td>\n",
       "      <td>0.000000</td>\n",
       "      <td>0.793333</td>\n",
       "      <td>0.366667</td>\n",
       "      <td>0.066667</td>\n",
       "      <td>0.053333</td>\n",
       "    </tr>\n",
       "    <tr>\n",
       "      <th>D5_adipocyte</th>\n",
       "      <td>0.000000</td>\n",
       "      <td>0.072464</td>\n",
       "      <td>0.086957</td>\n",
       "      <td>0.000000</td>\n",
       "      <td>0.072464</td>\n",
       "      <td>0.188406</td>\n",
       "      <td>0.246377</td>\n",
       "      <td>0.449275</td>\n",
       "      <td>0.507246</td>\n",
       "      <td>0.086957</td>\n",
       "      <td>...</td>\n",
       "      <td>0.115942</td>\n",
       "      <td>0.086957</td>\n",
       "      <td>0.028986</td>\n",
       "      <td>0.130435</td>\n",
       "      <td>0.0</td>\n",
       "      <td>0.000000</td>\n",
       "      <td>0.869565</td>\n",
       "      <td>0.405797</td>\n",
       "      <td>0.086957</td>\n",
       "      <td>0.057971</td>\n",
       "    </tr>\n",
       "    <tr>\n",
       "      <th>D6_adipocyte</th>\n",
       "      <td>0.027027</td>\n",
       "      <td>0.054054</td>\n",
       "      <td>0.162162</td>\n",
       "      <td>0.000000</td>\n",
       "      <td>0.162162</td>\n",
       "      <td>0.162162</td>\n",
       "      <td>0.054054</td>\n",
       "      <td>0.378378</td>\n",
       "      <td>0.324324</td>\n",
       "      <td>0.162162</td>\n",
       "      <td>...</td>\n",
       "      <td>0.054054</td>\n",
       "      <td>0.108108</td>\n",
       "      <td>0.054054</td>\n",
       "      <td>0.270270</td>\n",
       "      <td>0.0</td>\n",
       "      <td>0.000000</td>\n",
       "      <td>0.702703</td>\n",
       "      <td>0.297297</td>\n",
       "      <td>0.054054</td>\n",
       "      <td>0.108108</td>\n",
       "    </tr>\n",
       "    <tr>\n",
       "      <th>...</th>\n",
       "      <td>...</td>\n",
       "      <td>...</td>\n",
       "      <td>...</td>\n",
       "      <td>...</td>\n",
       "      <td>...</td>\n",
       "      <td>...</td>\n",
       "      <td>...</td>\n",
       "      <td>...</td>\n",
       "      <td>...</td>\n",
       "      <td>...</td>\n",
       "      <td>...</td>\n",
       "      <td>...</td>\n",
       "      <td>...</td>\n",
       "      <td>...</td>\n",
       "      <td>...</td>\n",
       "      <td>...</td>\n",
       "      <td>...</td>\n",
       "      <td>...</td>\n",
       "      <td>...</td>\n",
       "      <td>...</td>\n",
       "      <td>...</td>\n",
       "    </tr>\n",
       "    <tr>\n",
       "      <th>H67_myeloid cell</th>\n",
       "      <td>0.037162</td>\n",
       "      <td>0.020270</td>\n",
       "      <td>0.060811</td>\n",
       "      <td>0.000000</td>\n",
       "      <td>0.111486</td>\n",
       "      <td>0.422297</td>\n",
       "      <td>0.587838</td>\n",
       "      <td>0.905405</td>\n",
       "      <td>0.466216</td>\n",
       "      <td>0.118243</td>\n",
       "      <td>...</td>\n",
       "      <td>0.064189</td>\n",
       "      <td>0.054054</td>\n",
       "      <td>0.158784</td>\n",
       "      <td>0.395270</td>\n",
       "      <td>0.0</td>\n",
       "      <td>0.006757</td>\n",
       "      <td>1.050676</td>\n",
       "      <td>0.165541</td>\n",
       "      <td>0.054054</td>\n",
       "      <td>0.327703</td>\n",
       "    </tr>\n",
       "    <tr>\n",
       "      <th>H7_myeloid cell</th>\n",
       "      <td>0.018762</td>\n",
       "      <td>0.030019</td>\n",
       "      <td>0.039400</td>\n",
       "      <td>0.000000</td>\n",
       "      <td>0.046904</td>\n",
       "      <td>0.330206</td>\n",
       "      <td>0.288931</td>\n",
       "      <td>0.596623</td>\n",
       "      <td>0.407129</td>\n",
       "      <td>0.097561</td>\n",
       "      <td>...</td>\n",
       "      <td>0.105066</td>\n",
       "      <td>0.078799</td>\n",
       "      <td>0.135084</td>\n",
       "      <td>0.356473</td>\n",
       "      <td>0.0</td>\n",
       "      <td>0.007505</td>\n",
       "      <td>1.823640</td>\n",
       "      <td>0.073171</td>\n",
       "      <td>0.080675</td>\n",
       "      <td>0.288931</td>\n",
       "    </tr>\n",
       "    <tr>\n",
       "      <th>IC_H01_myeloid cell</th>\n",
       "      <td>0.014337</td>\n",
       "      <td>0.032258</td>\n",
       "      <td>0.060932</td>\n",
       "      <td>0.000000</td>\n",
       "      <td>0.075269</td>\n",
       "      <td>0.523297</td>\n",
       "      <td>0.182796</td>\n",
       "      <td>0.874552</td>\n",
       "      <td>1.691756</td>\n",
       "      <td>0.111111</td>\n",
       "      <td>...</td>\n",
       "      <td>0.154122</td>\n",
       "      <td>0.086022</td>\n",
       "      <td>0.225806</td>\n",
       "      <td>0.362007</td>\n",
       "      <td>0.0</td>\n",
       "      <td>0.003584</td>\n",
       "      <td>1.465950</td>\n",
       "      <td>0.060932</td>\n",
       "      <td>0.050179</td>\n",
       "      <td>0.419355</td>\n",
       "    </tr>\n",
       "    <tr>\n",
       "      <th>IC_H02_myeloid cell</th>\n",
       "      <td>0.028143</td>\n",
       "      <td>0.041276</td>\n",
       "      <td>0.041276</td>\n",
       "      <td>0.000000</td>\n",
       "      <td>0.045028</td>\n",
       "      <td>0.414634</td>\n",
       "      <td>0.409006</td>\n",
       "      <td>0.711069</td>\n",
       "      <td>0.292683</td>\n",
       "      <td>0.097561</td>\n",
       "      <td>...</td>\n",
       "      <td>0.106942</td>\n",
       "      <td>0.088180</td>\n",
       "      <td>0.200750</td>\n",
       "      <td>0.245779</td>\n",
       "      <td>0.0</td>\n",
       "      <td>0.005629</td>\n",
       "      <td>0.189493</td>\n",
       "      <td>0.048780</td>\n",
       "      <td>0.060038</td>\n",
       "      <td>0.382739</td>\n",
       "    </tr>\n",
       "    <tr>\n",
       "      <th>IC_H04_myeloid cell</th>\n",
       "      <td>0.012500</td>\n",
       "      <td>0.062500</td>\n",
       "      <td>0.031250</td>\n",
       "      <td>0.000000</td>\n",
       "      <td>0.081250</td>\n",
       "      <td>0.406250</td>\n",
       "      <td>0.212500</td>\n",
       "      <td>0.837500</td>\n",
       "      <td>0.562500</td>\n",
       "      <td>0.043750</td>\n",
       "      <td>...</td>\n",
       "      <td>0.037500</td>\n",
       "      <td>0.112500</td>\n",
       "      <td>0.181250</td>\n",
       "      <td>0.425000</td>\n",
       "      <td>0.0</td>\n",
       "      <td>0.000000</td>\n",
       "      <td>4.725000</td>\n",
       "      <td>0.212500</td>\n",
       "      <td>0.093750</td>\n",
       "      <td>0.193750</td>\n",
       "    </tr>\n",
       "  </tbody>\n",
       "</table>\n",
       "<p>494 rows × 1919 columns</p>\n",
       "</div>"
      ],
      "text/plain": [
       "feature_name             A1BG      AAAS      AAMP    ABCA13     ABCE1  \\\n",
       "D1_adipocyte         0.000000  0.088235  0.147059  0.014706  0.029412   \n",
       "D2_adipocyte         0.000000  0.027027  0.094595  0.000000  0.067568   \n",
       "D4_adipocyte         0.006667  0.113333  0.100000  0.006667  0.066667   \n",
       "D5_adipocyte         0.000000  0.072464  0.086957  0.000000  0.072464   \n",
       "D6_adipocyte         0.027027  0.054054  0.162162  0.000000  0.162162   \n",
       "...                       ...       ...       ...       ...       ...   \n",
       "H67_myeloid cell     0.037162  0.020270  0.060811  0.000000  0.111486   \n",
       "H7_myeloid cell      0.018762  0.030019  0.039400  0.000000  0.046904   \n",
       "IC_H01_myeloid cell  0.014337  0.032258  0.060932  0.000000  0.075269   \n",
       "IC_H02_myeloid cell  0.028143  0.041276  0.041276  0.000000  0.045028   \n",
       "IC_H04_myeloid cell  0.012500  0.062500  0.031250  0.000000  0.081250   \n",
       "\n",
       "feature_name             ABI1      ABI2      ABL1      ABL2     ACAA1  ...  \\\n",
       "D1_adipocyte         0.044118  0.132353  0.735294  0.308824  0.058824  ...   \n",
       "D2_adipocyte         0.108108  0.175676  0.716216  0.432432  0.081081  ...   \n",
       "D4_adipocyte         0.086667  0.146667  0.406667  0.273333  0.120000  ...   \n",
       "D5_adipocyte         0.188406  0.246377  0.449275  0.507246  0.086957  ...   \n",
       "D6_adipocyte         0.162162  0.054054  0.378378  0.324324  0.162162  ...   \n",
       "...                       ...       ...       ...       ...       ...  ...   \n",
       "H67_myeloid cell     0.422297  0.587838  0.905405  0.466216  0.118243  ...   \n",
       "H7_myeloid cell      0.330206  0.288931  0.596623  0.407129  0.097561  ...   \n",
       "IC_H01_myeloid cell  0.523297  0.182796  0.874552  1.691756  0.111111  ...   \n",
       "IC_H02_myeloid cell  0.414634  0.409006  0.711069  0.292683  0.097561  ...   \n",
       "IC_H04_myeloid cell  0.406250  0.212500  0.837500  0.562500  0.043750  ...   \n",
       "\n",
       "feature_name             YES1     YPEL5     YWHAB     YWHAZ  ZAP70      ZBP1  \\\n",
       "D1_adipocyte         0.176471  0.058824  0.044118  0.308824    0.0  0.000000   \n",
       "D2_adipocyte         0.135135  0.027027  0.121622  0.229730    0.0  0.000000   \n",
       "D4_adipocyte         0.033333  0.033333  0.066667  0.293333    0.0  0.000000   \n",
       "D5_adipocyte         0.115942  0.086957  0.028986  0.130435    0.0  0.000000   \n",
       "D6_adipocyte         0.054054  0.108108  0.054054  0.270270    0.0  0.000000   \n",
       "...                       ...       ...       ...       ...    ...       ...   \n",
       "H67_myeloid cell     0.064189  0.054054  0.158784  0.395270    0.0  0.006757   \n",
       "H7_myeloid cell      0.105066  0.078799  0.135084  0.356473    0.0  0.007505   \n",
       "IC_H01_myeloid cell  0.154122  0.086022  0.225806  0.362007    0.0  0.003584   \n",
       "IC_H02_myeloid cell  0.106942  0.088180  0.200750  0.245779    0.0  0.005629   \n",
       "IC_H04_myeloid cell  0.037500  0.112500  0.181250  0.425000    0.0  0.000000   \n",
       "\n",
       "feature_name           ZBTB16      ZEB1     ZNRF1     ZNRF2  \n",
       "D1_adipocyte         0.720588  0.514706  0.132353  0.117647  \n",
       "D2_adipocyte         0.972973  0.283784  0.108108  0.094595  \n",
       "D4_adipocyte         0.793333  0.366667  0.066667  0.053333  \n",
       "D5_adipocyte         0.869565  0.405797  0.086957  0.057971  \n",
       "D6_adipocyte         0.702703  0.297297  0.054054  0.108108  \n",
       "...                       ...       ...       ...       ...  \n",
       "H67_myeloid cell     1.050676  0.165541  0.054054  0.327703  \n",
       "H7_myeloid cell      1.823640  0.073171  0.080675  0.288931  \n",
       "IC_H01_myeloid cell  1.465950  0.060932  0.050179  0.419355  \n",
       "IC_H02_myeloid cell  0.189493  0.048780  0.060038  0.382739  \n",
       "IC_H04_myeloid cell  4.725000  0.212500  0.093750  0.193750  \n",
       "\n",
       "[494 rows x 1919 columns]"
      ]
     },
     "execution_count": 65,
     "metadata": {},
     "output_type": "execute_result"
    }
   ],
   "source": [
    "data"
   ]
  },
  {
   "cell_type": "code",
   "execution_count": 66,
   "id": "b9eff168-c733-414b-9047-e7fc563aef26",
   "metadata": {
    "tags": []
   },
   "outputs": [
    {
     "data": {
      "text/plain": [
       "Index(['D1_adipocyte', 'D2_adipocyte', 'D4_adipocyte', 'D5_adipocyte',\n",
       "       'D6_adipocyte', 'D7_adipocyte', 'DL2_adipocyte', 'DT4_adipocyte',\n",
       "       'H01_adipocyte', 'H02_adipocyte',\n",
       "       ...\n",
       "       'H56_myeloid cell', 'H57_myeloid cell', 'H58_myeloid cell',\n",
       "       'H59_myeloid cell', 'H6_myeloid cell', 'H67_myeloid cell',\n",
       "       'H7_myeloid cell', 'IC_H01_myeloid cell', 'IC_H02_myeloid cell',\n",
       "       'IC_H04_myeloid cell'],\n",
       "      dtype='object', length=494)"
      ]
     },
     "execution_count": 66,
     "metadata": {},
     "output_type": "execute_result"
    }
   ],
   "source": [
    "data.index"
   ]
  },
  {
   "cell_type": "code",
   "execution_count": 67,
   "id": "0679a4f3-f0b1-438a-8b37-ec94cc6c6af6",
   "metadata": {
    "tags": []
   },
   "outputs": [],
   "source": [
    "data['feature'] = data.index"
   ]
  },
  {
   "cell_type": "code",
   "execution_count": 68,
   "id": "4e7985a0-23ae-4622-8942-82fbba59291b",
   "metadata": {
    "tags": []
   },
   "outputs": [
    {
     "data": {
      "text/html": [
       "<div>\n",
       "<style scoped>\n",
       "    .dataframe tbody tr th:only-of-type {\n",
       "        vertical-align: middle;\n",
       "    }\n",
       "\n",
       "    .dataframe tbody tr th {\n",
       "        vertical-align: top;\n",
       "    }\n",
       "\n",
       "    .dataframe thead th {\n",
       "        text-align: right;\n",
       "    }\n",
       "</style>\n",
       "<table border=\"1\" class=\"dataframe\">\n",
       "  <thead>\n",
       "    <tr style=\"text-align: right;\">\n",
       "      <th>feature_name</th>\n",
       "      <th>A1BG</th>\n",
       "      <th>AAAS</th>\n",
       "      <th>AAMP</th>\n",
       "      <th>ABCA13</th>\n",
       "      <th>ABCE1</th>\n",
       "      <th>ABI1</th>\n",
       "      <th>ABI2</th>\n",
       "      <th>ABL1</th>\n",
       "      <th>ABL2</th>\n",
       "      <th>ACAA1</th>\n",
       "      <th>...</th>\n",
       "      <th>YPEL5</th>\n",
       "      <th>YWHAB</th>\n",
       "      <th>YWHAZ</th>\n",
       "      <th>ZAP70</th>\n",
       "      <th>ZBP1</th>\n",
       "      <th>ZBTB16</th>\n",
       "      <th>ZEB1</th>\n",
       "      <th>ZNRF1</th>\n",
       "      <th>ZNRF2</th>\n",
       "      <th>feature</th>\n",
       "    </tr>\n",
       "  </thead>\n",
       "  <tbody>\n",
       "    <tr>\n",
       "      <th>D1_adipocyte</th>\n",
       "      <td>0.000000</td>\n",
       "      <td>0.088235</td>\n",
       "      <td>0.147059</td>\n",
       "      <td>0.014706</td>\n",
       "      <td>0.029412</td>\n",
       "      <td>0.044118</td>\n",
       "      <td>0.132353</td>\n",
       "      <td>0.735294</td>\n",
       "      <td>0.308824</td>\n",
       "      <td>0.058824</td>\n",
       "      <td>...</td>\n",
       "      <td>0.058824</td>\n",
       "      <td>0.044118</td>\n",
       "      <td>0.308824</td>\n",
       "      <td>0.0</td>\n",
       "      <td>0.000000</td>\n",
       "      <td>0.720588</td>\n",
       "      <td>0.514706</td>\n",
       "      <td>0.132353</td>\n",
       "      <td>0.117647</td>\n",
       "      <td>D1_adipocyte</td>\n",
       "    </tr>\n",
       "    <tr>\n",
       "      <th>D2_adipocyte</th>\n",
       "      <td>0.000000</td>\n",
       "      <td>0.027027</td>\n",
       "      <td>0.094595</td>\n",
       "      <td>0.000000</td>\n",
       "      <td>0.067568</td>\n",
       "      <td>0.108108</td>\n",
       "      <td>0.175676</td>\n",
       "      <td>0.716216</td>\n",
       "      <td>0.432432</td>\n",
       "      <td>0.081081</td>\n",
       "      <td>...</td>\n",
       "      <td>0.027027</td>\n",
       "      <td>0.121622</td>\n",
       "      <td>0.229730</td>\n",
       "      <td>0.0</td>\n",
       "      <td>0.000000</td>\n",
       "      <td>0.972973</td>\n",
       "      <td>0.283784</td>\n",
       "      <td>0.108108</td>\n",
       "      <td>0.094595</td>\n",
       "      <td>D2_adipocyte</td>\n",
       "    </tr>\n",
       "    <tr>\n",
       "      <th>D4_adipocyte</th>\n",
       "      <td>0.006667</td>\n",
       "      <td>0.113333</td>\n",
       "      <td>0.100000</td>\n",
       "      <td>0.006667</td>\n",
       "      <td>0.066667</td>\n",
       "      <td>0.086667</td>\n",
       "      <td>0.146667</td>\n",
       "      <td>0.406667</td>\n",
       "      <td>0.273333</td>\n",
       "      <td>0.120000</td>\n",
       "      <td>...</td>\n",
       "      <td>0.033333</td>\n",
       "      <td>0.066667</td>\n",
       "      <td>0.293333</td>\n",
       "      <td>0.0</td>\n",
       "      <td>0.000000</td>\n",
       "      <td>0.793333</td>\n",
       "      <td>0.366667</td>\n",
       "      <td>0.066667</td>\n",
       "      <td>0.053333</td>\n",
       "      <td>D4_adipocyte</td>\n",
       "    </tr>\n",
       "    <tr>\n",
       "      <th>D5_adipocyte</th>\n",
       "      <td>0.000000</td>\n",
       "      <td>0.072464</td>\n",
       "      <td>0.086957</td>\n",
       "      <td>0.000000</td>\n",
       "      <td>0.072464</td>\n",
       "      <td>0.188406</td>\n",
       "      <td>0.246377</td>\n",
       "      <td>0.449275</td>\n",
       "      <td>0.507246</td>\n",
       "      <td>0.086957</td>\n",
       "      <td>...</td>\n",
       "      <td>0.086957</td>\n",
       "      <td>0.028986</td>\n",
       "      <td>0.130435</td>\n",
       "      <td>0.0</td>\n",
       "      <td>0.000000</td>\n",
       "      <td>0.869565</td>\n",
       "      <td>0.405797</td>\n",
       "      <td>0.086957</td>\n",
       "      <td>0.057971</td>\n",
       "      <td>D5_adipocyte</td>\n",
       "    </tr>\n",
       "    <tr>\n",
       "      <th>D6_adipocyte</th>\n",
       "      <td>0.027027</td>\n",
       "      <td>0.054054</td>\n",
       "      <td>0.162162</td>\n",
       "      <td>0.000000</td>\n",
       "      <td>0.162162</td>\n",
       "      <td>0.162162</td>\n",
       "      <td>0.054054</td>\n",
       "      <td>0.378378</td>\n",
       "      <td>0.324324</td>\n",
       "      <td>0.162162</td>\n",
       "      <td>...</td>\n",
       "      <td>0.108108</td>\n",
       "      <td>0.054054</td>\n",
       "      <td>0.270270</td>\n",
       "      <td>0.0</td>\n",
       "      <td>0.000000</td>\n",
       "      <td>0.702703</td>\n",
       "      <td>0.297297</td>\n",
       "      <td>0.054054</td>\n",
       "      <td>0.108108</td>\n",
       "      <td>D6_adipocyte</td>\n",
       "    </tr>\n",
       "    <tr>\n",
       "      <th>...</th>\n",
       "      <td>...</td>\n",
       "      <td>...</td>\n",
       "      <td>...</td>\n",
       "      <td>...</td>\n",
       "      <td>...</td>\n",
       "      <td>...</td>\n",
       "      <td>...</td>\n",
       "      <td>...</td>\n",
       "      <td>...</td>\n",
       "      <td>...</td>\n",
       "      <td>...</td>\n",
       "      <td>...</td>\n",
       "      <td>...</td>\n",
       "      <td>...</td>\n",
       "      <td>...</td>\n",
       "      <td>...</td>\n",
       "      <td>...</td>\n",
       "      <td>...</td>\n",
       "      <td>...</td>\n",
       "      <td>...</td>\n",
       "      <td>...</td>\n",
       "    </tr>\n",
       "    <tr>\n",
       "      <th>H67_myeloid cell</th>\n",
       "      <td>0.037162</td>\n",
       "      <td>0.020270</td>\n",
       "      <td>0.060811</td>\n",
       "      <td>0.000000</td>\n",
       "      <td>0.111486</td>\n",
       "      <td>0.422297</td>\n",
       "      <td>0.587838</td>\n",
       "      <td>0.905405</td>\n",
       "      <td>0.466216</td>\n",
       "      <td>0.118243</td>\n",
       "      <td>...</td>\n",
       "      <td>0.054054</td>\n",
       "      <td>0.158784</td>\n",
       "      <td>0.395270</td>\n",
       "      <td>0.0</td>\n",
       "      <td>0.006757</td>\n",
       "      <td>1.050676</td>\n",
       "      <td>0.165541</td>\n",
       "      <td>0.054054</td>\n",
       "      <td>0.327703</td>\n",
       "      <td>H67_myeloid cell</td>\n",
       "    </tr>\n",
       "    <tr>\n",
       "      <th>H7_myeloid cell</th>\n",
       "      <td>0.018762</td>\n",
       "      <td>0.030019</td>\n",
       "      <td>0.039400</td>\n",
       "      <td>0.000000</td>\n",
       "      <td>0.046904</td>\n",
       "      <td>0.330206</td>\n",
       "      <td>0.288931</td>\n",
       "      <td>0.596623</td>\n",
       "      <td>0.407129</td>\n",
       "      <td>0.097561</td>\n",
       "      <td>...</td>\n",
       "      <td>0.078799</td>\n",
       "      <td>0.135084</td>\n",
       "      <td>0.356473</td>\n",
       "      <td>0.0</td>\n",
       "      <td>0.007505</td>\n",
       "      <td>1.823640</td>\n",
       "      <td>0.073171</td>\n",
       "      <td>0.080675</td>\n",
       "      <td>0.288931</td>\n",
       "      <td>H7_myeloid cell</td>\n",
       "    </tr>\n",
       "    <tr>\n",
       "      <th>IC_H01_myeloid cell</th>\n",
       "      <td>0.014337</td>\n",
       "      <td>0.032258</td>\n",
       "      <td>0.060932</td>\n",
       "      <td>0.000000</td>\n",
       "      <td>0.075269</td>\n",
       "      <td>0.523297</td>\n",
       "      <td>0.182796</td>\n",
       "      <td>0.874552</td>\n",
       "      <td>1.691756</td>\n",
       "      <td>0.111111</td>\n",
       "      <td>...</td>\n",
       "      <td>0.086022</td>\n",
       "      <td>0.225806</td>\n",
       "      <td>0.362007</td>\n",
       "      <td>0.0</td>\n",
       "      <td>0.003584</td>\n",
       "      <td>1.465950</td>\n",
       "      <td>0.060932</td>\n",
       "      <td>0.050179</td>\n",
       "      <td>0.419355</td>\n",
       "      <td>IC_H01_myeloid cell</td>\n",
       "    </tr>\n",
       "    <tr>\n",
       "      <th>IC_H02_myeloid cell</th>\n",
       "      <td>0.028143</td>\n",
       "      <td>0.041276</td>\n",
       "      <td>0.041276</td>\n",
       "      <td>0.000000</td>\n",
       "      <td>0.045028</td>\n",
       "      <td>0.414634</td>\n",
       "      <td>0.409006</td>\n",
       "      <td>0.711069</td>\n",
       "      <td>0.292683</td>\n",
       "      <td>0.097561</td>\n",
       "      <td>...</td>\n",
       "      <td>0.088180</td>\n",
       "      <td>0.200750</td>\n",
       "      <td>0.245779</td>\n",
       "      <td>0.0</td>\n",
       "      <td>0.005629</td>\n",
       "      <td>0.189493</td>\n",
       "      <td>0.048780</td>\n",
       "      <td>0.060038</td>\n",
       "      <td>0.382739</td>\n",
       "      <td>IC_H02_myeloid cell</td>\n",
       "    </tr>\n",
       "    <tr>\n",
       "      <th>IC_H04_myeloid cell</th>\n",
       "      <td>0.012500</td>\n",
       "      <td>0.062500</td>\n",
       "      <td>0.031250</td>\n",
       "      <td>0.000000</td>\n",
       "      <td>0.081250</td>\n",
       "      <td>0.406250</td>\n",
       "      <td>0.212500</td>\n",
       "      <td>0.837500</td>\n",
       "      <td>0.562500</td>\n",
       "      <td>0.043750</td>\n",
       "      <td>...</td>\n",
       "      <td>0.112500</td>\n",
       "      <td>0.181250</td>\n",
       "      <td>0.425000</td>\n",
       "      <td>0.0</td>\n",
       "      <td>0.000000</td>\n",
       "      <td>4.725000</td>\n",
       "      <td>0.212500</td>\n",
       "      <td>0.093750</td>\n",
       "      <td>0.193750</td>\n",
       "      <td>IC_H04_myeloid cell</td>\n",
       "    </tr>\n",
       "  </tbody>\n",
       "</table>\n",
       "<p>494 rows × 1920 columns</p>\n",
       "</div>"
      ],
      "text/plain": [
       "feature_name             A1BG      AAAS      AAMP    ABCA13     ABCE1  \\\n",
       "D1_adipocyte         0.000000  0.088235  0.147059  0.014706  0.029412   \n",
       "D2_adipocyte         0.000000  0.027027  0.094595  0.000000  0.067568   \n",
       "D4_adipocyte         0.006667  0.113333  0.100000  0.006667  0.066667   \n",
       "D5_adipocyte         0.000000  0.072464  0.086957  0.000000  0.072464   \n",
       "D6_adipocyte         0.027027  0.054054  0.162162  0.000000  0.162162   \n",
       "...                       ...       ...       ...       ...       ...   \n",
       "H67_myeloid cell     0.037162  0.020270  0.060811  0.000000  0.111486   \n",
       "H7_myeloid cell      0.018762  0.030019  0.039400  0.000000  0.046904   \n",
       "IC_H01_myeloid cell  0.014337  0.032258  0.060932  0.000000  0.075269   \n",
       "IC_H02_myeloid cell  0.028143  0.041276  0.041276  0.000000  0.045028   \n",
       "IC_H04_myeloid cell  0.012500  0.062500  0.031250  0.000000  0.081250   \n",
       "\n",
       "feature_name             ABI1      ABI2      ABL1      ABL2     ACAA1  ...  \\\n",
       "D1_adipocyte         0.044118  0.132353  0.735294  0.308824  0.058824  ...   \n",
       "D2_adipocyte         0.108108  0.175676  0.716216  0.432432  0.081081  ...   \n",
       "D4_adipocyte         0.086667  0.146667  0.406667  0.273333  0.120000  ...   \n",
       "D5_adipocyte         0.188406  0.246377  0.449275  0.507246  0.086957  ...   \n",
       "D6_adipocyte         0.162162  0.054054  0.378378  0.324324  0.162162  ...   \n",
       "...                       ...       ...       ...       ...       ...  ...   \n",
       "H67_myeloid cell     0.422297  0.587838  0.905405  0.466216  0.118243  ...   \n",
       "H7_myeloid cell      0.330206  0.288931  0.596623  0.407129  0.097561  ...   \n",
       "IC_H01_myeloid cell  0.523297  0.182796  0.874552  1.691756  0.111111  ...   \n",
       "IC_H02_myeloid cell  0.414634  0.409006  0.711069  0.292683  0.097561  ...   \n",
       "IC_H04_myeloid cell  0.406250  0.212500  0.837500  0.562500  0.043750  ...   \n",
       "\n",
       "feature_name            YPEL5     YWHAB     YWHAZ  ZAP70      ZBP1    ZBTB16  \\\n",
       "D1_adipocyte         0.058824  0.044118  0.308824    0.0  0.000000  0.720588   \n",
       "D2_adipocyte         0.027027  0.121622  0.229730    0.0  0.000000  0.972973   \n",
       "D4_adipocyte         0.033333  0.066667  0.293333    0.0  0.000000  0.793333   \n",
       "D5_adipocyte         0.086957  0.028986  0.130435    0.0  0.000000  0.869565   \n",
       "D6_adipocyte         0.108108  0.054054  0.270270    0.0  0.000000  0.702703   \n",
       "...                       ...       ...       ...    ...       ...       ...   \n",
       "H67_myeloid cell     0.054054  0.158784  0.395270    0.0  0.006757  1.050676   \n",
       "H7_myeloid cell      0.078799  0.135084  0.356473    0.0  0.007505  1.823640   \n",
       "IC_H01_myeloid cell  0.086022  0.225806  0.362007    0.0  0.003584  1.465950   \n",
       "IC_H02_myeloid cell  0.088180  0.200750  0.245779    0.0  0.005629  0.189493   \n",
       "IC_H04_myeloid cell  0.112500  0.181250  0.425000    0.0  0.000000  4.725000   \n",
       "\n",
       "feature_name             ZEB1     ZNRF1     ZNRF2              feature  \n",
       "D1_adipocyte         0.514706  0.132353  0.117647         D1_adipocyte  \n",
       "D2_adipocyte         0.283784  0.108108  0.094595         D2_adipocyte  \n",
       "D4_adipocyte         0.366667  0.066667  0.053333         D4_adipocyte  \n",
       "D5_adipocyte         0.405797  0.086957  0.057971         D5_adipocyte  \n",
       "D6_adipocyte         0.297297  0.054054  0.108108         D6_adipocyte  \n",
       "...                       ...       ...       ...                  ...  \n",
       "H67_myeloid cell     0.165541  0.054054  0.327703     H67_myeloid cell  \n",
       "H7_myeloid cell      0.073171  0.080675  0.288931      H7_myeloid cell  \n",
       "IC_H01_myeloid cell  0.060932  0.050179  0.419355  IC_H01_myeloid cell  \n",
       "IC_H02_myeloid cell  0.048780  0.060038  0.382739  IC_H02_myeloid cell  \n",
       "IC_H04_myeloid cell  0.212500  0.093750  0.193750  IC_H04_myeloid cell  \n",
       "\n",
       "[494 rows x 1920 columns]"
      ]
     },
     "execution_count": 68,
     "metadata": {},
     "output_type": "execute_result"
    }
   ],
   "source": [
    "data"
   ]
  },
  {
   "cell_type": "code",
   "execution_count": 69,
   "id": "a1c1d642-c17a-45e3-8671-781d3f80701c",
   "metadata": {
    "tags": []
   },
   "outputs": [],
   "source": [
    "## Convert to long format"
   ]
  },
  {
   "cell_type": "code",
   "execution_count": 70,
   "id": "71e8f3f8-2b60-4b10-9c62-bb8f3312f275",
   "metadata": {
    "tags": []
   },
   "outputs": [],
   "source": [
    "data_long = pd.melt(data, id_vars = ['feature'])"
   ]
  },
  {
   "cell_type": "code",
   "execution_count": 71,
   "id": "bd665a7f-1e81-469c-bf82-7cf6d660fe5f",
   "metadata": {
    "tags": []
   },
   "outputs": [],
   "source": [
    "data_long['sample_id'] = data_long['feature'].str.extract(r'^([^_]*)')\n",
    "data_long['type'] = data_long['feature'].str.extract(r'_(.*)')"
   ]
  },
  {
   "cell_type": "code",
   "execution_count": 72,
   "id": "095ed7d7-6c4e-40ab-909c-1a04ba146b14",
   "metadata": {
    "tags": []
   },
   "outputs": [],
   "source": [
    "data_long['variable'] = data_long['feature_name']\n",
    "data_long['dataset'] = sc_dataset_names[0]"
   ]
  },
  {
   "cell_type": "code",
   "execution_count": 73,
   "id": "c8db5571-ad5d-4d7a-b60d-edfcbcf14137",
   "metadata": {
    "tags": []
   },
   "outputs": [],
   "source": [
    "data_long = data_long[['sample_id', 'variable', 'value', 'dataset', 'type']]"
   ]
  },
  {
   "cell_type": "code",
   "execution_count": 74,
   "id": "8a421f86-ded3-47d2-8bc8-d35107088f28",
   "metadata": {
    "tags": []
   },
   "outputs": [
    {
     "data": {
      "text/plain": [
       "'/lustre/groups/epigenereg01/workspace/projects/jove/example_results/'"
      ]
     },
     "execution_count": 74,
     "metadata": {},
     "output_type": "execute_result"
    }
   ],
   "source": [
    "result_path[1]"
   ]
  },
  {
   "cell_type": "code",
   "execution_count": 75,
   "id": "52ddc7ca-72f5-4070-93d6-d3655daa1110",
   "metadata": {
    "tags": []
   },
   "outputs": [
    {
     "data": {
      "text/plain": [
       "'/lustre/groups/epigenereg01/workspace/projects/jove/example_results//01_results/01_dcm_acmPseudobulk_Table.csv'"
      ]
     },
     "execution_count": 75,
     "metadata": {},
     "output_type": "execute_result"
    }
   ],
   "source": [
    "result_path[1] + '/01_results/01_' + i + 'Pseudobulk_Table' +'.csv'"
   ]
  },
  {
   "cell_type": "code",
   "execution_count": 76,
   "id": "24d8bcdf-172e-4f46-b14f-1297bdf754f2",
   "metadata": {
    "tags": []
   },
   "outputs": [],
   "source": [
    "data_long.to_csv(result_path[1] + '/01_results/01_' + i + 'Pseudobulk_Table' +'.csv')"
   ]
  },
  {
   "cell_type": "code",
   "execution_count": 77,
   "id": "bb2b676b-2c26-49c8-be69-2f0696d7eac7",
   "metadata": {},
   "outputs": [
    {
     "data": {
      "text/plain": [
       "54"
      ]
     },
     "execution_count": 77,
     "metadata": {},
     "output_type": "execute_result"
    }
   ],
   "source": [
    "len(pd.unique(data_long['sample_id']))"
   ]
  },
  {
   "cell_type": "code",
   "execution_count": null,
   "id": "1904406e-4e9c-42af-a47b-e3b8d4a3f62c",
   "metadata": {},
   "outputs": [],
   "source": []
  },
  {
   "cell_type": "code",
   "execution_count": null,
   "id": "e72f5806-5e07-4dfb-bfbd-5a03f3b7b7a2",
   "metadata": {},
   "outputs": [],
   "source": []
  },
  {
   "cell_type": "code",
   "execution_count": null,
   "id": "ba1c1070-3a12-449a-9385-517f1e171b4e",
   "metadata": {},
   "outputs": [],
   "source": []
  }
 ],
 "metadata": {
  "kernelspec": {
   "display_name": "Python 3 (ipykernel)",
   "language": "python",
   "name": "python3"
  },
  "language_info": {
   "codemirror_mode": {
    "name": "ipython",
    "version": 3
   },
   "file_extension": ".py",
   "mimetype": "text/x-python",
   "name": "python",
   "nbconvert_exporter": "python",
   "pygments_lexer": "ipython3",
   "version": "3.9.18"
  },
  "toc-autonumbering": false,
  "toc-showcode": false
 },
 "nbformat": 4,
 "nbformat_minor": 5
}
