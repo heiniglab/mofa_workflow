{
 "cells": [
  {
   "cell_type": "code",
   "execution_count": 64,
   "id": "457443c1-6ec3-43b3-8a9a-6a0bebda386d",
   "metadata": {
    "tags": []
   },
   "outputs": [],
   "source": [
    "# Helper Script: Load Seurat object and transform to anndata for input for analysis workflow"
   ]
  },
  {
   "cell_type": "markdown",
   "id": "1d8125d4-6adb-4e86-a2da-59fefc635943",
   "metadata": {},
   "source": [
    "# Prerequisite - Load Libraries"
   ]
  },
  {
   "cell_type": "code",
   "execution_count": 65,
   "id": "a4ee7cad-829e-478a-88ca-3728d09582db",
   "metadata": {
    "tags": []
   },
   "outputs": [],
   "source": [
    "import h5py\n",
    "import numpy as np\n",
    "import pandas as pd\n",
    "import scanpy as sc\n",
    "from anndata import AnnData\n",
    "from scipy.sparse import csr_matrix"
   ]
  },
  {
   "cell_type": "code",
   "execution_count": 66,
   "id": "5c34e73d-164a-4ecc-b75e-1f48c9e27f89",
   "metadata": {
    "tags": []
   },
   "outputs": [],
   "source": [
    "import os"
   ]
  },
  {
   "cell_type": "code",
   "execution_count": 86,
   "id": "045ef96b-291e-4f27-afda-57a49e29322e",
   "metadata": {
    "tags": []
   },
   "outputs": [
    {
     "data": {
      "text/plain": [
       "['/opt/conda/envs/mofa_analysis/lib/python3.9/site-packages/scanpy']"
      ]
     },
     "execution_count": 86,
     "metadata": {},
     "output_type": "execute_result"
    }
   ],
   "source": [
    "### Check the path of loaded packages\n",
    "sc.__path__"
   ]
  },
  {
   "cell_type": "markdown",
   "id": "9ff3c7c6-f11c-433e-9c7f-d9faa5e8af20",
   "metadata": {},
   "source": [
    "# Preqrequisites Configurations & Parameters"
   ]
  },
  {
   "cell_type": "code",
   "execution_count": 67,
   "id": "11ec910e-a5ce-4a8f-96b5-d208e939660f",
   "metadata": {
    "tags": []
   },
   "outputs": [],
   "source": [
    "### Load the parameters that are set via the configuration files"
   ]
  },
  {
   "cell_type": "code",
   "execution_count": 68,
   "id": "cf79ea5d-5e98-4b57-b049-ac17511eb472",
   "metadata": {
    "tags": []
   },
   "outputs": [],
   "source": [
    "### Load configurations file\n",
    "global_configs = pd.read_csv('configurations/Data_Configs.csv', sep = ',')"
   ]
  },
  {
   "cell_type": "code",
   "execution_count": 69,
   "id": "f2f6ce8a-6051-40aa-b577-c3d40b4ac942",
   "metadata": {
    "tags": []
   },
   "outputs": [],
   "source": [
    "data_path = global_configs['value'][global_configs['parameter'] == 'data_path']"
   ]
  },
  {
   "cell_type": "code",
   "execution_count": 70,
   "id": "4e702d36-b343-459a-984d-b4245e1458c7",
   "metadata": {
    "tags": []
   },
   "outputs": [
    {
     "data": {
      "text/plain": [
       "0    /home/icb/corinna.losert/projects/mofa_workflo...\n",
       "Name: value, dtype: object"
      ]
     },
     "execution_count": 70,
     "metadata": {},
     "output_type": "execute_result"
    }
   ],
   "source": [
    "data_path"
   ]
  },
  {
   "cell_type": "code",
   "execution_count": 71,
   "id": "faa77686-fcd2-4d47-aa52-c04a09b2a510",
   "metadata": {
    "tags": []
   },
   "outputs": [],
   "source": [
    "result_path = global_configs['value'][global_configs['parameter'] == 'result_path']"
   ]
  },
  {
   "cell_type": "code",
   "execution_count": 72,
   "id": "9c3e7613-c2b4-42cd-92b8-6326c9a297a0",
   "metadata": {
    "tags": []
   },
   "outputs": [
    {
     "data": {
      "text/plain": [
       "1    /home/icb/corinna.losert/projects/mofa_workflo...\n",
       "Name: value, dtype: object"
      ]
     },
     "execution_count": 72,
     "metadata": {},
     "output_type": "execute_result"
    }
   ],
   "source": [
    "result_path"
   ]
  },
  {
   "cell_type": "code",
   "execution_count": 73,
   "id": "95587a37-9d5a-4ae3-9002-8651a117608a",
   "metadata": {
    "tags": []
   },
   "outputs": [],
   "source": [
    "### Data name of sc dataset"
   ]
  },
  {
   "cell_type": "code",
   "execution_count": 74,
   "id": "f3730510-77e3-4fcd-8939-e2982d5162b7",
   "metadata": {
    "tags": []
   },
   "outputs": [],
   "source": [
    "files = [f for f in os.listdir(data_path[0]) if os.path.isfile(os.path.join(data_path[0], f))]"
   ]
  },
  {
   "cell_type": "code",
   "execution_count": 75,
   "id": "c8036a55-e79e-47f2-a9e5-f2053f13eed0",
   "metadata": {
    "tags": []
   },
   "outputs": [
    {
     "data": {
      "text/plain": [
       "['Prepared_Neutrophil_Data.csv',\n",
       " 'Prepared_Pathway_Data.csv',\n",
       " 'Prepared_sc_Data_prod.h5ad',\n",
       " 'output_file.h5ad',\n",
       " 'Prepared_sc_Data.h5seurat',\n",
       " 'Prepared_Sample_Meta_Data.csv',\n",
       " 'Prepared_Clinical_Data.csv',\n",
       " 'Prepared_Proteomic_Data.csv',\n",
       " 'Prepared_Cytokine_Data.csv']"
      ]
     },
     "execution_count": 75,
     "metadata": {},
     "output_type": "execute_result"
    }
   ],
   "source": [
    "files"
   ]
  },
  {
   "cell_type": "code",
   "execution_count": 76,
   "id": "a3f4d8bd-21b2-4f40-bf0e-dc6bfa85d470",
   "metadata": {
    "tags": []
   },
   "outputs": [],
   "source": [
    "### Get only the seurat files to convert"
   ]
  },
  {
   "cell_type": "code",
   "execution_count": 77,
   "id": "3f9c15d6-d13d-49a9-9b0c-509f53a14c31",
   "metadata": {
    "tags": []
   },
   "outputs": [],
   "source": [
    "# Filter the list to include only files with '.h5seurat' in the name\n",
    "h5seurat_files = [f for f in files if '.h5seurat' in f]"
   ]
  },
  {
   "cell_type": "code",
   "execution_count": 78,
   "id": "1ead66b2-105c-4435-9e55-7c5a0a9014c2",
   "metadata": {
    "tags": []
   },
   "outputs": [],
   "source": [
    "h5seurat_files = [f.replace('.h5seurat', '') for f in h5seurat_files]"
   ]
  },
  {
   "cell_type": "code",
   "execution_count": 79,
   "id": "89effecf-c38d-4448-b2b4-4389826c6d17",
   "metadata": {
    "tags": []
   },
   "outputs": [
    {
     "data": {
      "text/plain": [
       "['Prepared_sc_Data']"
      ]
     },
     "execution_count": 79,
     "metadata": {},
     "output_type": "execute_result"
    }
   ],
   "source": [
    "h5seurat_files"
   ]
  },
  {
   "cell_type": "markdown",
   "id": "c442a84e-5986-4a3a-8392-7000b884a8ff",
   "metadata": {},
   "source": [
    "# Conversion"
   ]
  },
  {
   "cell_type": "code",
   "execution_count": 80,
   "id": "bf9dc425-fb59-48a4-9dda-57f16132864e",
   "metadata": {
    "tags": []
   },
   "outputs": [],
   "source": [
    "### Load single-cell datasets in seurat and convert to anndata"
   ]
  },
  {
   "cell_type": "code",
   "execution_count": 81,
   "id": "0c953a8e-ee47-4bfa-8f88-b7ca2b25f130",
   "metadata": {
    "tags": []
   },
   "outputs": [
    {
     "name": "stderr",
     "output_type": "stream",
     "text": [
      "/tmp/ipykernel_440265/2236317333.py:31: FutureWarning: X.dtype being converted to np.float32 from float64. In the next version of anndata (0.9) conversion will not be automatic. Pass dtype explicitly to avoid this warning. Pass `AnnData(X, dtype=X.dtype, ...)` to get the future behavour.\n",
      "  adata = AnnData(X=data, var=pd.DataFrame(index=genes), obs=pd.DataFrame(index=barcodes))\n"
     ]
    }
   ],
   "source": [
    "# Open the .h5seurat file\n",
    "\n",
    "for i in h5seurat_files:\n",
    "    file_path = os.path.join(data_path[0], f'{i}'+ '.h5seurat')\n",
    "    output_path = os.path.join(data_path[0], f'{i}'+ '.h5ad')\n",
    "\n",
    "    with h5py.File(file_path, 'r') as f:\n",
    "        # Access the counts group\n",
    "        counts_group = f['assays/RNA/counts']  ## this needs to exist in seurat structure otherwise conversion won't work; see structure below\n",
    "    \n",
    "        # Create the sparse matrix\n",
    "        data_array = counts_group['data'][:]\n",
    "        indices_array = counts_group['indices'][:]\n",
    "        indptr_array = counts_group['indptr'][:]\n",
    "        shape = (len(indptr_array) - 1, indices_array.max() + 1)\n",
    "    \n",
    "        data = csr_matrix((data_array, indices_array, indptr_array), shape=shape)\n",
    "    \n",
    "        # Extract gene names and cell barcodes\n",
    "        genes = [x.decode('utf-8') for x in f['assays/RNA/meta.features/_index'][:]] ## this needs to exist in seurat structure otherwise conversion won't work; see structure below\n",
    "        barcodes = [x.decode('utf-8') for x in f['cell.names'][:]] ## this needs to exist in seurat structure otherwise conversion won't work; see structure below\n",
    "\n",
    "        # Extract metadata if available\n",
    "        metadata = {}\n",
    "        if 'meta.data' in f:\n",
    "            for key in f['meta.data'].keys():\n",
    "                metadata[key] = [x.decode('utf-8') if isinstance(x, bytes) else x for x in f['meta.data'][key][:]]\n",
    "            metadata = pd.DataFrame(metadata, index=barcodes)\n",
    "\n",
    "    # Create AnnData object\n",
    "    adata = AnnData(X=data, var=pd.DataFrame(index=genes), obs=pd.DataFrame(index=barcodes))\n",
    "\n",
    "    # Add metadata to AnnData object if available\n",
    "    if not metadata.empty:\n",
    "        del metadata['_index']\n",
    "        adata.obs = metadata\n",
    "\n",
    "    # Optionally save to an .h5ad file\n",
    "    adata.write( output_path)"
   ]
  },
  {
   "cell_type": "code",
   "execution_count": 82,
   "id": "cd70b65d-4fb5-4c50-8658-885072227874",
   "metadata": {
    "tags": []
   },
   "outputs": [
    {
     "data": {
      "text/plain": [
       "cluster_id\n",
       "ASDC                     8\n",
       "B cell                9829\n",
       "CD4 CTL               2346\n",
       "CD4 Naive             6495\n",
       "CD4 Proliferating      108\n",
       "CD4 TCM              45102\n",
       "CD4 TEM               6296\n",
       "CD8 Naive             2612\n",
       "CD8 Proliferating       13\n",
       "CD8 TCM                525\n",
       "CD8 TEM              10611\n",
       "CD14 Mono            32727\n",
       "CD16 Mono             4680\n",
       "Doublet                 48\n",
       "Eryth                    6\n",
       "HSPC                   332\n",
       "ILC                    931\n",
       "MAIT                  1177\n",
       "NK                   15699\n",
       "NK Proliferating       168\n",
       "NK_CD56bright          874\n",
       "Plasmablast            703\n",
       "Platelet               450\n",
       "Treg                  2362\n",
       "cDC1                    83\n",
       "cDC2                  1314\n",
       "dnT                    130\n",
       "gdT                   1901\n",
       "pDC                    745\n",
       "dtype: int64"
      ]
     },
     "execution_count": 82,
     "metadata": {},
     "output_type": "execute_result"
    }
   ],
   "source": [
    "pd.crosstab(adata.obs['cluster_id'], adata.obs['cluster_id']).sum(axis=1)"
   ]
  },
  {
   "cell_type": "markdown",
   "id": "9d93b57b-76ee-49f2-b989-4e5a9839cf74",
   "metadata": {},
   "source": [
    "# Inspection of h5seurat file (use if structure is different from the one assumed above)"
   ]
  },
  {
   "cell_type": "code",
   "execution_count": 83,
   "id": "890bfde9-548e-42d6-9660-4972571727e8",
   "metadata": {
    "tags": []
   },
   "outputs": [
    {
     "name": "stdout",
     "output_type": "stream",
     "text": [
      "Group: active.ident\n",
      "Dataset: active.ident/levels, shape: (1,), dtype: object\n",
      "Dataset: active.ident/values, shape: (148275,), dtype: int32\n",
      "Group: assays\n",
      "Group: assays/RNA\n",
      "Group: assays/RNA/counts\n",
      "Dataset: assays/RNA/counts/data, shape: (243903981,), dtype: float64\n",
      "Dataset: assays/RNA/counts/indices, shape: (243903981,), dtype: int32\n",
      "Dataset: assays/RNA/counts/indptr, shape: (148276,), dtype: int32\n",
      "Group: assays/RNA/data\n",
      "Dataset: assays/RNA/data/data, shape: (243903981,), dtype: float64\n",
      "Dataset: assays/RNA/data/indices, shape: (243903981,), dtype: int32\n",
      "Dataset: assays/RNA/data/indptr, shape: (148276,), dtype: int32\n",
      "Dataset: assays/RNA/features, shape: (19221,), dtype: object\n",
      "Group: assays/RNA/meta.features\n",
      "Dataset: assays/RNA/meta.features/_index, shape: (19221,), dtype: object\n",
      "Dataset: assays/RNA/meta.features/dispersions, shape: (19221,), dtype: float64\n",
      "Dataset: assays/RNA/meta.features/dispersions-L1, shape: (19221,), dtype: float64\n",
      "Dataset: assays/RNA/meta.features/dispersions-L10, shape: (19221,), dtype: float64\n",
      "Dataset: assays/RNA/meta.features/dispersions-L11, shape: (19221,), dtype: float64\n",
      "Dataset: assays/RNA/meta.features/dispersions-L12, shape: (19221,), dtype: float64\n",
      "Dataset: assays/RNA/meta.features/dispersions-L13, shape: (19221,), dtype: float64\n",
      "Dataset: assays/RNA/meta.features/dispersions-L14, shape: (19221,), dtype: float64\n",
      "Dataset: assays/RNA/meta.features/dispersions-L2, shape: (19221,), dtype: float64\n",
      "Dataset: assays/RNA/meta.features/dispersions-L3, shape: (19221,), dtype: float64\n",
      "Dataset: assays/RNA/meta.features/dispersions-L4, shape: (19221,), dtype: float64\n",
      "Dataset: assays/RNA/meta.features/dispersions-L5, shape: (19221,), dtype: float64\n",
      "Dataset: assays/RNA/meta.features/dispersions-L6, shape: (19221,), dtype: float64\n",
      "Dataset: assays/RNA/meta.features/dispersions-L7, shape: (19221,), dtype: float64\n",
      "Dataset: assays/RNA/meta.features/dispersions-L8, shape: (19221,), dtype: float64\n",
      "Dataset: assays/RNA/meta.features/dispersions-L9, shape: (19221,), dtype: float64\n",
      "Dataset: assays/RNA/meta.features/dispersions_norm, shape: (19221,), dtype: float64\n",
      "Dataset: assays/RNA/meta.features/dispersions_norm-L1, shape: (19221,), dtype: float64\n",
      "Dataset: assays/RNA/meta.features/dispersions_norm-L10, shape: (19221,), dtype: float64\n",
      "Dataset: assays/RNA/meta.features/dispersions_norm-L11, shape: (19221,), dtype: float64\n",
      "Dataset: assays/RNA/meta.features/dispersions_norm-L12, shape: (19221,), dtype: float64\n",
      "Dataset: assays/RNA/meta.features/dispersions_norm-L13, shape: (19221,), dtype: float64\n",
      "Dataset: assays/RNA/meta.features/dispersions_norm-L14, shape: (19221,), dtype: float64\n",
      "Dataset: assays/RNA/meta.features/dispersions_norm-L2, shape: (19221,), dtype: float64\n",
      "Dataset: assays/RNA/meta.features/dispersions_norm-L3, shape: (19221,), dtype: float64\n",
      "Dataset: assays/RNA/meta.features/dispersions_norm-L4, shape: (19221,), dtype: float64\n",
      "Dataset: assays/RNA/meta.features/dispersions_norm-L5, shape: (19221,), dtype: float64\n",
      "Dataset: assays/RNA/meta.features/dispersions_norm-L6, shape: (19221,), dtype: float64\n",
      "Dataset: assays/RNA/meta.features/dispersions_norm-L7, shape: (19221,), dtype: float64\n",
      "Dataset: assays/RNA/meta.features/dispersions_norm-L8, shape: (19221,), dtype: float64\n",
      "Dataset: assays/RNA/meta.features/dispersions_norm-L9, shape: (19221,), dtype: float64\n",
      "Dataset: assays/RNA/meta.features/feature_types, shape: (19221,), dtype: int32\n",
      "Dataset: assays/RNA/meta.features/gene_ids, shape: (19221,), dtype: object\n",
      "Dataset: assays/RNA/meta.features/genome, shape: (19221,), dtype: int32\n",
      "Dataset: assays/RNA/meta.features/highly_variable, shape: (19221,), dtype: int32\n",
      "Dataset: assays/RNA/meta.features/highly_variable-L1, shape: (19221,), dtype: int32\n",
      "Dataset: assays/RNA/meta.features/highly_variable-L10, shape: (19221,), dtype: int32\n",
      "Dataset: assays/RNA/meta.features/highly_variable-L11, shape: (19221,), dtype: int32\n",
      "Dataset: assays/RNA/meta.features/highly_variable-L12, shape: (19221,), dtype: int32\n",
      "Dataset: assays/RNA/meta.features/highly_variable-L13, shape: (19221,), dtype: int32\n",
      "Dataset: assays/RNA/meta.features/highly_variable-L14, shape: (19221,), dtype: int32\n",
      "Dataset: assays/RNA/meta.features/highly_variable-L2, shape: (19221,), dtype: int32\n",
      "Dataset: assays/RNA/meta.features/highly_variable-L3, shape: (19221,), dtype: int32\n",
      "Dataset: assays/RNA/meta.features/highly_variable-L4, shape: (19221,), dtype: int32\n",
      "Dataset: assays/RNA/meta.features/highly_variable-L5, shape: (19221,), dtype: int32\n",
      "Dataset: assays/RNA/meta.features/highly_variable-L6, shape: (19221,), dtype: int32\n",
      "Dataset: assays/RNA/meta.features/highly_variable-L7, shape: (19221,), dtype: int32\n",
      "Dataset: assays/RNA/meta.features/highly_variable-L8, shape: (19221,), dtype: int32\n",
      "Dataset: assays/RNA/meta.features/highly_variable-L9, shape: (19221,), dtype: int32\n",
      "Dataset: assays/RNA/meta.features/mean, shape: (19221,), dtype: float64\n",
      "Dataset: assays/RNA/meta.features/mean_counts-L1, shape: (19221,), dtype: float64\n",
      "Dataset: assays/RNA/meta.features/mean_counts-L10, shape: (19221,), dtype: float64\n",
      "Dataset: assays/RNA/meta.features/mean_counts-L11, shape: (19221,), dtype: float64\n",
      "Dataset: assays/RNA/meta.features/mean_counts-L12, shape: (19221,), dtype: float64\n",
      "Dataset: assays/RNA/meta.features/mean_counts-L13, shape: (19221,), dtype: float64\n",
      "Dataset: assays/RNA/meta.features/mean_counts-L14, shape: (19221,), dtype: float64\n",
      "Dataset: assays/RNA/meta.features/mean_counts-L2, shape: (19221,), dtype: float64\n",
      "Dataset: assays/RNA/meta.features/mean_counts-L3, shape: (19221,), dtype: float64\n",
      "Dataset: assays/RNA/meta.features/mean_counts-L4, shape: (19221,), dtype: float64\n",
      "Dataset: assays/RNA/meta.features/mean_counts-L5, shape: (19221,), dtype: float64\n",
      "Dataset: assays/RNA/meta.features/mean_counts-L6, shape: (19221,), dtype: float64\n",
      "Dataset: assays/RNA/meta.features/mean_counts-L7, shape: (19221,), dtype: float64\n",
      "Dataset: assays/RNA/meta.features/mean_counts-L8, shape: (19221,), dtype: float64\n",
      "Dataset: assays/RNA/meta.features/mean_counts-L9, shape: (19221,), dtype: float64\n",
      "Dataset: assays/RNA/meta.features/means, shape: (19221,), dtype: float64\n",
      "Dataset: assays/RNA/meta.features/means-L1, shape: (19221,), dtype: float64\n",
      "Dataset: assays/RNA/meta.features/means-L10, shape: (19221,), dtype: float64\n",
      "Dataset: assays/RNA/meta.features/means-L11, shape: (19221,), dtype: float64\n",
      "Dataset: assays/RNA/meta.features/means-L12, shape: (19221,), dtype: float64\n",
      "Dataset: assays/RNA/meta.features/means-L13, shape: (19221,), dtype: float64\n",
      "Dataset: assays/RNA/meta.features/means-L14, shape: (19221,), dtype: float64\n",
      "Dataset: assays/RNA/meta.features/means-L2, shape: (19221,), dtype: float64\n",
      "Dataset: assays/RNA/meta.features/means-L3, shape: (19221,), dtype: float64\n",
      "Dataset: assays/RNA/meta.features/means-L4, shape: (19221,), dtype: float64\n",
      "Dataset: assays/RNA/meta.features/means-L5, shape: (19221,), dtype: float64\n",
      "Dataset: assays/RNA/meta.features/means-L6, shape: (19221,), dtype: float64\n",
      "Dataset: assays/RNA/meta.features/means-L7, shape: (19221,), dtype: float64\n",
      "Dataset: assays/RNA/meta.features/means-L8, shape: (19221,), dtype: float64\n",
      "Dataset: assays/RNA/meta.features/means-L9, shape: (19221,), dtype: float64\n",
      "Dataset: assays/RNA/meta.features/mt, shape: (19221,), dtype: int32\n",
      "Dataset: assays/RNA/meta.features/n_cells-L1, shape: (19221,), dtype: int32\n",
      "Dataset: assays/RNA/meta.features/n_cells-L10, shape: (19221,), dtype: int32\n",
      "Dataset: assays/RNA/meta.features/n_cells-L11, shape: (19221,), dtype: int32\n",
      "Dataset: assays/RNA/meta.features/n_cells-L12, shape: (19221,), dtype: int32\n",
      "Dataset: assays/RNA/meta.features/n_cells-L13, shape: (19221,), dtype: int32\n",
      "Dataset: assays/RNA/meta.features/n_cells-L14, shape: (19221,), dtype: int32\n",
      "Dataset: assays/RNA/meta.features/n_cells-L2, shape: (19221,), dtype: int32\n",
      "Dataset: assays/RNA/meta.features/n_cells-L3, shape: (19221,), dtype: int32\n",
      "Dataset: assays/RNA/meta.features/n_cells-L4, shape: (19221,), dtype: int32\n",
      "Dataset: assays/RNA/meta.features/n_cells-L5, shape: (19221,), dtype: int32\n",
      "Dataset: assays/RNA/meta.features/n_cells-L6, shape: (19221,), dtype: int32\n",
      "Dataset: assays/RNA/meta.features/n_cells-L7, shape: (19221,), dtype: int32\n",
      "Dataset: assays/RNA/meta.features/n_cells-L8, shape: (19221,), dtype: int32\n",
      "Dataset: assays/RNA/meta.features/n_cells-L9, shape: (19221,), dtype: int32\n",
      "Dataset: assays/RNA/meta.features/n_cells_by_counts-L1, shape: (19221,), dtype: int32\n",
      "Dataset: assays/RNA/meta.features/n_cells_by_counts-L10, shape: (19221,), dtype: int32\n",
      "Dataset: assays/RNA/meta.features/n_cells_by_counts-L11, shape: (19221,), dtype: int32\n",
      "Dataset: assays/RNA/meta.features/n_cells_by_counts-L12, shape: (19221,), dtype: int32\n",
      "Dataset: assays/RNA/meta.features/n_cells_by_counts-L13, shape: (19221,), dtype: int32\n",
      "Dataset: assays/RNA/meta.features/n_cells_by_counts-L14, shape: (19221,), dtype: int32\n",
      "Dataset: assays/RNA/meta.features/n_cells_by_counts-L2, shape: (19221,), dtype: int32\n",
      "Dataset: assays/RNA/meta.features/n_cells_by_counts-L3, shape: (19221,), dtype: int32\n",
      "Dataset: assays/RNA/meta.features/n_cells_by_counts-L4, shape: (19221,), dtype: int32\n",
      "Dataset: assays/RNA/meta.features/n_cells_by_counts-L5, shape: (19221,), dtype: int32\n",
      "Dataset: assays/RNA/meta.features/n_cells_by_counts-L6, shape: (19221,), dtype: int32\n",
      "Dataset: assays/RNA/meta.features/n_cells_by_counts-L7, shape: (19221,), dtype: int32\n",
      "Dataset: assays/RNA/meta.features/n_cells_by_counts-L8, shape: (19221,), dtype: int32\n",
      "Dataset: assays/RNA/meta.features/n_cells_by_counts-L9, shape: (19221,), dtype: int32\n",
      "Dataset: assays/RNA/meta.features/pct_dropout_by_counts-L1, shape: (19221,), dtype: float64\n",
      "Dataset: assays/RNA/meta.features/pct_dropout_by_counts-L10, shape: (19221,), dtype: float64\n",
      "Dataset: assays/RNA/meta.features/pct_dropout_by_counts-L11, shape: (19221,), dtype: float64\n",
      "Dataset: assays/RNA/meta.features/pct_dropout_by_counts-L12, shape: (19221,), dtype: float64\n",
      "Dataset: assays/RNA/meta.features/pct_dropout_by_counts-L13, shape: (19221,), dtype: float64\n",
      "Dataset: assays/RNA/meta.features/pct_dropout_by_counts-L14, shape: (19221,), dtype: float64\n",
      "Dataset: assays/RNA/meta.features/pct_dropout_by_counts-L2, shape: (19221,), dtype: float64\n",
      "Dataset: assays/RNA/meta.features/pct_dropout_by_counts-L3, shape: (19221,), dtype: float64\n",
      "Dataset: assays/RNA/meta.features/pct_dropout_by_counts-L4, shape: (19221,), dtype: float64\n",
      "Dataset: assays/RNA/meta.features/pct_dropout_by_counts-L5, shape: (19221,), dtype: float64\n",
      "Dataset: assays/RNA/meta.features/pct_dropout_by_counts-L6, shape: (19221,), dtype: float64\n",
      "Dataset: assays/RNA/meta.features/pct_dropout_by_counts-L7, shape: (19221,), dtype: float64\n",
      "Dataset: assays/RNA/meta.features/pct_dropout_by_counts-L8, shape: (19221,), dtype: float64\n",
      "Dataset: assays/RNA/meta.features/pct_dropout_by_counts-L9, shape: (19221,), dtype: float64\n",
      "Dataset: assays/RNA/meta.features/rb, shape: (19221,), dtype: int32\n",
      "Dataset: assays/RNA/meta.features/std, shape: (19221,), dtype: float64\n",
      "Dataset: assays/RNA/meta.features/total_counts-L1, shape: (19221,), dtype: float64\n",
      "Dataset: assays/RNA/meta.features/total_counts-L10, shape: (19221,), dtype: float64\n",
      "Dataset: assays/RNA/meta.features/total_counts-L11, shape: (19221,), dtype: float64\n",
      "Dataset: assays/RNA/meta.features/total_counts-L12, shape: (19221,), dtype: float64\n",
      "Dataset: assays/RNA/meta.features/total_counts-L13, shape: (19221,), dtype: float64\n",
      "Dataset: assays/RNA/meta.features/total_counts-L14, shape: (19221,), dtype: float64\n",
      "Dataset: assays/RNA/meta.features/total_counts-L2, shape: (19221,), dtype: float64\n",
      "Dataset: assays/RNA/meta.features/total_counts-L3, shape: (19221,), dtype: float64\n",
      "Dataset: assays/RNA/meta.features/total_counts-L4, shape: (19221,), dtype: float64\n",
      "Dataset: assays/RNA/meta.features/total_counts-L5, shape: (19221,), dtype: float64\n",
      "Dataset: assays/RNA/meta.features/total_counts-L6, shape: (19221,), dtype: float64\n",
      "Dataset: assays/RNA/meta.features/total_counts-L7, shape: (19221,), dtype: float64\n",
      "Dataset: assays/RNA/meta.features/total_counts-L8, shape: (19221,), dtype: float64\n",
      "Dataset: assays/RNA/meta.features/total_counts-L9, shape: (19221,), dtype: float64\n",
      "Group: assays/RNA/misc\n",
      "Dataset: assays/RNA/scale.data, shape: (148275, 1392), dtype: float64\n",
      "Dataset: assays/RNA/scaled.features, shape: (1392,), dtype: object\n",
      "Dataset: cell.names, shape: (148275,), dtype: object\n",
      "Group: commands\n",
      "Group: graphs\n",
      "Group: images\n",
      "Group: meta.data\n",
      "Dataset: meta.data/_index, shape: (148275,), dtype: object\n",
      "Dataset: meta.data/cluster_id, shape: (148275,), dtype: object\n",
      "Dataset: meta.data/sample_id, shape: (148275,), dtype: object\n",
      "Group: misc\n",
      "Group: neighbors\n",
      "Group: reductions\n",
      "Group: tools\n"
     ]
    }
   ],
   "source": [
    "# Open the .h5seurat file\n",
    "\n",
    "for i in h5seurat_files:\n",
    "    file_path = os.path.join(data_path[0], f'{i}'+ '.h5seurat')\n",
    "    with h5py.File(file_path, 'r') as f:\n",
    "        # Function to recursively print the structure of the HDF5 file\n",
    "        def print_hdf5_structure(name, obj):\n",
    "            if isinstance(obj, h5py.Group):\n",
    "                print(f\"Group: {name}\")\n",
    "            elif isinstance(obj, h5py.Dataset):\n",
    "                print(f\"Dataset: {name}, shape: {obj.shape}, dtype: {obj.dtype}\")\n",
    "\n",
    "        # Print the structure of the HDF5 file\n",
    "        f.visititems(print_hdf5_structure)"
   ]
  }
 ],
 "metadata": {
  "kernelspec": {
   "display_name": "Python 3 (ipykernel)",
   "language": "python",
   "name": "python3"
  },
  "language_info": {
   "codemirror_mode": {
    "name": "ipython",
    "version": 3
   },
   "file_extension": ".py",
   "mimetype": "text/x-python",
   "name": "python",
   "nbconvert_exporter": "python",
   "pygments_lexer": "ipython3",
   "version": "3.9.18"
  }
 },
 "nbformat": 4,
 "nbformat_minor": 5
}
