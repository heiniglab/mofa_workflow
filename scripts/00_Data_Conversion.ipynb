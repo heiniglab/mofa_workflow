{
 "cells": [
  {
   "cell_type": "code",
   "execution_count": 40,
   "id": "1632f901-cdb4-4ffc-8498-bb899c6bca6a",
   "metadata": {
    "tags": []
   },
   "outputs": [],
   "source": [
    "# Load Seurat object and create pseudobulk for MOFA analysis\n",
    "# Necessary cell annotations in the seurat object are: 'cluster_id' (giving the cell-type cluster annotations), 'sample_id' (unique identifier of a sample)"
   ]
  },
  {
   "cell_type": "markdown",
   "id": "6fb4f2cb-8b92-45cf-b4b3-9ce3e0c656d0",
   "metadata": {
    "tags": []
   },
   "source": [
    "#############################################\n",
    "# Prerequisites - Load Libraries"
   ]
  },
  {
   "cell_type": "code",
   "execution_count": 41,
   "id": "24273cba-319a-431c-9a92-edc161c02103",
   "metadata": {
    "tags": []
   },
   "outputs": [
    {
     "name": "stderr",
     "output_type": "stream",
     "text": [
      "Warning message in read.table(file = file, header = header, sep = sep, quote = quote, :\n",
      "“incomplete final line found by readTableHeader on '../conda_environment/Environment_Configs.csv'”\n"
     ]
    },
    {
     "name": "stdout",
     "output_type": "stream",
     "text": [
      "[1] \"/home/icb/corinna.losert/miniconda3/envs/mofa_analysis//lib/R/library\"\n"
     ]
    }
   ],
   "source": [
    "source('MS0_Libraries.r')"
   ]
  },
  {
   "cell_type": "code",
   "execution_count": 42,
   "id": "511a61fa-e25c-4729-a472-b494f5b67750",
   "metadata": {
    "tags": []
   },
   "outputs": [],
   "source": [
    "source('MS2_Plot_Config.r')"
   ]
  },
  {
   "cell_type": "markdown",
   "id": "372814ca-7f2b-4f60-810e-664ce4208695",
   "metadata": {
    "tags": []
   },
   "source": [
    "###############################################\n",
    "# Preqrequisites Configurations & Parameters"
   ]
  },
  {
   "cell_type": "code",
   "execution_count": 43,
   "id": "f40bbaac-14e6-4da5-9899-240a61a46d23",
   "metadata": {},
   "outputs": [],
   "source": [
    "### Load the parameters that are set via the configuration files"
   ]
  },
  {
   "cell_type": "code",
   "execution_count": 44,
   "id": "0882b026-e1b0-4467-a5d6-a8bfddabfa91",
   "metadata": {},
   "outputs": [
    {
     "name": "stderr",
     "output_type": "stream",
     "text": [
      "Warning message in read.table(file = file, header = header, sep = sep, quote = quote, :\n",
      "“incomplete final line found by readTableHeader on 'configurations/Data_Configs.csv'”\n"
     ]
    }
   ],
   "source": [
    "### Load configurations file\n",
    "global_configs = read.csv('configurations/Data_Configs.csv', sep = ',')"
   ]
  },
  {
   "cell_type": "code",
   "execution_count": 45,
   "id": "dbffb6f6-b79a-43de-9927-a0c6f7418fc1",
   "metadata": {},
   "outputs": [
    {
     "data": {
      "text/html": [
       "<table class=\"dataframe\">\n",
       "<caption>A data.frame: 2 × 2</caption>\n",
       "<thead>\n",
       "\t<tr><th></th><th scope=col>parameter</th><th scope=col>value</th></tr>\n",
       "\t<tr><th></th><th scope=col>&lt;chr&gt;</th><th scope=col>&lt;chr&gt;</th></tr>\n",
       "</thead>\n",
       "<tbody>\n",
       "\t<tr><th scope=row>1</th><td>data_path  </td><td>/lustre/groups/epigenereg01/workspace/projects/jove/input_data/</td></tr>\n",
       "\t<tr><th scope=row>2</th><td>result_path</td><td>/lustre/groups/epigenereg01/workspace/projects/jove/results/   </td></tr>\n",
       "</tbody>\n",
       "</table>\n"
      ],
      "text/latex": [
       "A data.frame: 2 × 2\n",
       "\\begin{tabular}{r|ll}\n",
       "  & parameter & value\\\\\n",
       "  & <chr> & <chr>\\\\\n",
       "\\hline\n",
       "\t1 & data\\_path   & /lustre/groups/epigenereg01/workspace/projects/jove/input\\_data/\\\\\n",
       "\t2 & result\\_path & /lustre/groups/epigenereg01/workspace/projects/jove/results/   \\\\\n",
       "\\end{tabular}\n"
      ],
      "text/markdown": [
       "\n",
       "A data.frame: 2 × 2\n",
       "\n",
       "| <!--/--> | parameter &lt;chr&gt; | value &lt;chr&gt; |\n",
       "|---|---|---|\n",
       "| 1 | data_path   | /lustre/groups/epigenereg01/workspace/projects/jove/input_data/ |\n",
       "| 2 | result_path | /lustre/groups/epigenereg01/workspace/projects/jove/results/    |\n",
       "\n"
      ],
      "text/plain": [
       "  parameter   value                                                          \n",
       "1 data_path   /lustre/groups/epigenereg01/workspace/projects/jove/input_data/\n",
       "2 result_path /lustre/groups/epigenereg01/workspace/projects/jove/results/   "
      ]
     },
     "metadata": {},
     "output_type": "display_data"
    }
   ],
   "source": [
    "head(global_configs,2)"
   ]
  },
  {
   "cell_type": "code",
   "execution_count": 46,
   "id": "9ca323b2-5728-45af-8481-2fd6938415f5",
   "metadata": {},
   "outputs": [],
   "source": [
    "data_path = global_configs$value[global_configs$parameter == 'data_path']"
   ]
  },
  {
   "cell_type": "code",
   "execution_count": 47,
   "id": "5be8858f-44cc-484e-90bf-18da832d05bb",
   "metadata": {},
   "outputs": [
    {
     "data": {
      "text/html": [
       "'/lustre/groups/epigenereg01/workspace/projects/jove/input_data/'"
      ],
      "text/latex": [
       "'/lustre/groups/epigenereg01/workspace/projects/jove/input\\_data/'"
      ],
      "text/markdown": [
       "'/lustre/groups/epigenereg01/workspace/projects/jove/input_data/'"
      ],
      "text/plain": [
       "[1] \"/lustre/groups/epigenereg01/workspace/projects/jove/input_data/\""
      ]
     },
     "metadata": {},
     "output_type": "display_data"
    }
   ],
   "source": [
    "data_path"
   ]
  },
  {
   "cell_type": "code",
   "execution_count": 48,
   "id": "33a64f2c-4efc-4304-bc38-e487e9818374",
   "metadata": {},
   "outputs": [],
   "source": [
    "result_path = global_configs$value[global_configs$parameter == 'result_path']"
   ]
  },
  {
   "cell_type": "code",
   "execution_count": 49,
   "id": "4cf8589f-4c50-4746-8fbe-778067b891c3",
   "metadata": {},
   "outputs": [
    {
     "data": {
      "text/html": [
       "'/lustre/groups/epigenereg01/workspace/projects/jove/results/'"
      ],
      "text/latex": [
       "'/lustre/groups/epigenereg01/workspace/projects/jove/results/'"
      ],
      "text/markdown": [
       "'/lustre/groups/epigenereg01/workspace/projects/jove/results/'"
      ],
      "text/plain": [
       "[1] \"/lustre/groups/epigenereg01/workspace/projects/jove/results/\""
      ]
     },
     "metadata": {},
     "output_type": "display_data"
    }
   ],
   "source": [
    "result_path"
   ]
  },
  {
   "cell_type": "code",
   "execution_count": 50,
   "id": "6fa83d4a-07d1-4d38-a95a-f1eb347bd093",
   "metadata": {},
   "outputs": [],
   "source": [
    "## Loading the file containing the name of the single-cell dataset"
   ]
  },
  {
   "cell_type": "code",
   "execution_count": 51,
   "id": "859517e5-619b-4b03-bb9f-032620bca793",
   "metadata": {},
   "outputs": [
    {
     "name": "stderr",
     "output_type": "stream",
     "text": [
      "Warning message in read.table(file = file, header = header, sep = sep, quote = quote, :\n",
      "“incomplete final line found by readTableHeader on 'configurations/01_Pre_Processing_SC_Data.csv'”\n"
     ]
    }
   ],
   "source": [
    "sc_configs = read.csv('configurations/01_Pre_Processing_SC_Data.csv', sep = ',')"
   ]
  },
  {
   "cell_type": "code",
   "execution_count": 52,
   "id": "7133dd81-6136-4072-a1a7-faf15e36c03b",
   "metadata": {},
   "outputs": [
    {
     "data": {
      "text/html": [
       "<table class=\"dataframe\">\n",
       "<caption>A data.frame: 1 × 2</caption>\n",
       "<thead>\n",
       "\t<tr><th></th><th scope=col>data_name</th><th scope=col>data_type</th></tr>\n",
       "\t<tr><th></th><th scope=col>&lt;chr&gt;</th><th scope=col>&lt;chr&gt;</th></tr>\n",
       "</thead>\n",
       "<tbody>\n",
       "\t<tr><th scope=row>1</th><td>Prepared_sc_Data</td><td>h5seurat</td></tr>\n",
       "</tbody>\n",
       "</table>\n"
      ],
      "text/latex": [
       "A data.frame: 1 × 2\n",
       "\\begin{tabular}{r|ll}\n",
       "  & data\\_name & data\\_type\\\\\n",
       "  & <chr> & <chr>\\\\\n",
       "\\hline\n",
       "\t1 & Prepared\\_sc\\_Data & h5seurat\\\\\n",
       "\\end{tabular}\n"
      ],
      "text/markdown": [
       "\n",
       "A data.frame: 1 × 2\n",
       "\n",
       "| <!--/--> | data_name &lt;chr&gt; | data_type &lt;chr&gt; |\n",
       "|---|---|---|\n",
       "| 1 | Prepared_sc_Data | h5seurat |\n",
       "\n"
      ],
      "text/plain": [
       "  data_name        data_type\n",
       "1 Prepared_sc_Data h5seurat "
      ]
     },
     "metadata": {},
     "output_type": "display_data"
    }
   ],
   "source": [
    "head(sc_configs,2)"
   ]
  },
  {
   "cell_type": "code",
   "execution_count": 53,
   "id": "37b3ecc4-38c5-4ce7-ae42-d13a513d8c7e",
   "metadata": {},
   "outputs": [],
   "source": [
    "sc_configs = sc_configs[sc_configs$data_name != '',]"
   ]
  },
  {
   "cell_type": "code",
   "execution_count": 54,
   "id": "a66679b0-eeb2-4383-9c17-acab80539649",
   "metadata": {},
   "outputs": [],
   "source": [
    "sc_dataset_names = unique(sc_configs$data_name)"
   ]
  },
  {
   "cell_type": "code",
   "execution_count": 55,
   "id": "0fdb354b-1e22-47da-aa3d-521c3a3a018e",
   "metadata": {},
   "outputs": [
    {
     "data": {
      "text/html": [
       "'Prepared_sc_Data'"
      ],
      "text/latex": [
       "'Prepared\\_sc\\_Data'"
      ],
      "text/markdown": [
       "'Prepared_sc_Data'"
      ],
      "text/plain": [
       "[1] \"Prepared_sc_Data\""
      ]
     },
     "metadata": {},
     "output_type": "display_data"
    }
   ],
   "source": [
    "sc_dataset_names"
   ]
  },
  {
   "cell_type": "code",
   "execution_count": 56,
   "id": "bfeca97e-9d66-4a4b-991b-609f39d8db0e",
   "metadata": {
    "tags": []
   },
   "outputs": [],
   "source": [
    "### Generate the result data directory if it does not exist yet\n",
    "if(!file.exists(paste0(result_path, '01_results'))){\n",
    "    dir.create(file.path(paste0(result_path, '01_results')))\n",
    "    }"
   ]
  },
  {
   "cell_type": "markdown",
   "id": "5dea8679-c933-48ea-af8b-cf9d2cfc5b15",
   "metadata": {},
   "source": [
    "# Convert Data"
   ]
  },
  {
   "cell_type": "markdown",
   "id": "b42a9566-612f-4e1f-b658-676b22e5e69e",
   "metadata": {
    "tags": []
   },
   "source": [
    "## Load Seurat object"
   ]
  },
  {
   "cell_type": "code",
   "execution_count": 57,
   "id": "bd4c90d4-0743-44f0-9b52-6ba8b4bec086",
   "metadata": {},
   "outputs": [],
   "source": [
    "### Load single-cell datasets as h5seurat format; should contain the meta-columns: sample_id; cluster_id\n",
    "### Raw Counts should be given in default assay"
   ]
  },
  {
   "cell_type": "code",
   "execution_count": 58,
   "id": "8e4e726a-5da5-4dbc-b2aa-7a1308c0391c",
   "metadata": {
    "tags": []
   },
   "outputs": [],
   "source": [
    "sc_data_list = list()"
   ]
  },
  {
   "cell_type": "code",
   "execution_count": 59,
   "id": "342956a0-0375-4eb0-9286-143e403ff3b8",
   "metadata": {
    "tags": []
   },
   "outputs": [
    {
     "name": "stdout",
     "output_type": "stream",
     "text": [
      "[1] \"/lustre/groups/epigenereg01/workspace/projects/jove/input_data//Prepared_sc_Data.h5seurat\"\n",
      "[1] \"2023-12-08 10:27:41 CET\"\n"
     ]
    },
    {
     "name": "stderr",
     "output_type": "stream",
     "text": [
      "Validating h5Seurat file\n",
      "\n",
      "Adding scale.data from RNA as X\n",
      "\n",
      "Transfering meta.features to var\n",
      "\n",
      "Adding data from RNA as raw\n",
      "\n",
      "Transfering meta.features to raw/var\n",
      "\n",
      "Transfering meta.data to obs\n",
      "\n"
     ]
    }
   ],
   "source": [
    "###### Load the generated seurat objects\n",
    "for(i in sc_dataset_names){\n",
    "    source_text = paste( data_path, '/', i , '.h5seurat', sep = '')\n",
    "    print(source_text)\n",
    "    print(file.info(source_text)$mtime)\n",
    "    Convert(source_text, dest = \"h5ad\")\n",
    "    #rna_seurat_data = LoadH5Seurat(source_text, assays = \"RNA\", quietly = TRUE )\n",
    "    \n",
    "    #sc_data_list[[i]] = rna_seurat_data\n",
    "    }\n"
   ]
  },
  {
   "cell_type": "code",
   "execution_count": null,
   "id": "375bdd14-129c-42b3-afbb-f18ba2b6583d",
   "metadata": {},
   "outputs": [],
   "source": []
  }
 ],
 "metadata": {
  "kernelspec": {
   "display_name": "R",
   "language": "R",
   "name": "ir"
  },
  "language_info": {
   "codemirror_mode": "r",
   "file_extension": ".r",
   "mimetype": "text/x-r-source",
   "name": "R",
   "pygments_lexer": "r",
   "version": "4.3.2"
  },
  "toc-autonumbering": true,
  "toc-showcode": false,
  "toc-showmarkdowntxt": false,
  "toc-showtags": false
 },
 "nbformat": 4,
 "nbformat_minor": 5
}
