{
 "cells": [
  {
   "cell_type": "code",
   "execution_count": 95,
   "id": "30db86a6-94fa-4e7b-9f5b-11d49a6552b2",
   "metadata": {
    "tags": []
   },
   "outputs": [],
   "source": [
    "### Script to integrate, preprocess and harmonize all available data sets\n",
    "### In our use-case\n",
    "# Single Cell RNA Seq\n",
    "# Cytokine Data\n",
    "# Neutrophil Data\n",
    "# Clinical Data\n",
    "# Proteomics"
   ]
  },
  {
   "cell_type": "markdown",
   "id": "d9375846-405e-474a-9c51-836de879fc64",
   "metadata": {
    "tags": []
   },
   "source": [
    "#############################################\n",
    "# Prerequisites - Load Libraries"
   ]
  },
  {
   "cell_type": "code",
   "execution_count": 96,
   "id": "78cda6a6-83a2-4aa4-ac3c-26b3641d28b5",
   "metadata": {
    "tags": []
   },
   "outputs": [
    {
     "name": "stdout",
     "output_type": "stream",
     "text": [
      "[1] \"/opt/conda/envs/mofa_analysis/lib/R/library\"\n"
     ]
    }
   ],
   "source": [
    "source('MS0_Libraries.r')"
   ]
  },
  {
   "cell_type": "code",
   "execution_count": 97,
   "id": "1d2b812b-0cb8-4a94-ba64-1adf61317f30",
   "metadata": {},
   "outputs": [],
   "source": [
    "source('MS2_Plot_Config.r')"
   ]
  },
  {
   "cell_type": "code",
   "execution_count": 98,
   "id": "9b011f88-5d2e-4b8f-bc97-2075c6eb303e",
   "metadata": {},
   "outputs": [],
   "source": [
    "source('MS1_Functions.r')"
   ]
  },
  {
   "cell_type": "markdown",
   "id": "e87a5cf7-d4d8-446f-8200-6049579007e3",
   "metadata": {
    "tags": []
   },
   "source": [
    "###############################################\n",
    "# Preqrequisites Configurations & Parameters"
   ]
  },
  {
   "cell_type": "code",
   "execution_count": 99,
   "id": "05946c8c-fd21-48f4-9fa4-d65c6374d991",
   "metadata": {},
   "outputs": [],
   "source": [
    "### Load the parameters that are set via the configuration files"
   ]
  },
  {
   "cell_type": "code",
   "execution_count": 100,
   "id": "6fb3a658-4576-46d7-91df-0bacd7c125fd",
   "metadata": {},
   "outputs": [
    {
     "name": "stderr",
     "output_type": "stream",
     "text": [
      "Warning message in read.table(file = file, header = header, sep = sep, quote = quote, :\n",
      "\"incomplete final line found by readTableHeader on 'configurations/Data_Configs.csv'\"\n"
     ]
    }
   ],
   "source": [
    "### Load configurations file\n",
    "global_configs = read.csv('configurations/Data_Configs.csv', sep = ',')"
   ]
  },
  {
   "cell_type": "code",
   "execution_count": 101,
   "id": "eb23d1f9-7db0-47aa-beb2-055195cddb9e",
   "metadata": {},
   "outputs": [
    {
     "data": {
      "text/html": [
       "<table class=\"dataframe\">\n",
       "<caption>A data.frame: 3 x 2</caption>\n",
       "<thead>\n",
       "\t<tr><th></th><th scope=col>parameter</th><th scope=col>value</th></tr>\n",
       "\t<tr><th></th><th scope=col>&lt;chr&gt;</th><th scope=col>&lt;chr&gt;</th></tr>\n",
       "</thead>\n",
       "<tbody>\n",
       "\t<tr><th scope=row>1</th><td>data_path         </td><td>/home/icb/corinna.losert/projects/mofa_workflow/input_data/ </td></tr>\n",
       "\t<tr><th scope=row>2</th><td>result_path       </td><td>/home/icb/corinna.losert/projects/mofa_workflow/result_data/</td></tr>\n",
       "\t<tr><th scope=row>3</th><td>configuration_name</td><td>MI_v1                                                       </td></tr>\n",
       "</tbody>\n",
       "</table>\n"
      ],
      "text/latex": [
       "A data.frame: 3 x 2\n",
       "\\begin{tabular}{r|ll}\n",
       "  & parameter & value\\\\\n",
       "  & <chr> & <chr>\\\\\n",
       "\\hline\n",
       "\t1 & data\\_path          & /home/icb/corinna.losert/projects/mofa\\_workflow/input\\_data/ \\\\\n",
       "\t2 & result\\_path        & /home/icb/corinna.losert/projects/mofa\\_workflow/result\\_data/\\\\\n",
       "\t3 & configuration\\_name & MI\\_v1                                                       \\\\\n",
       "\\end{tabular}\n"
      ],
      "text/markdown": [
       "\n",
       "A data.frame: 3 x 2\n",
       "\n",
       "| <!--/--> | parameter &lt;chr&gt; | value &lt;chr&gt; |\n",
       "|---|---|---|\n",
       "| 1 | data_path          | /home/icb/corinna.losert/projects/mofa_workflow/input_data/  |\n",
       "| 2 | result_path        | /home/icb/corinna.losert/projects/mofa_workflow/result_data/ |\n",
       "| 3 | configuration_name | MI_v1                                                        |\n",
       "\n"
      ],
      "text/plain": [
       "  parameter         \n",
       "1 data_path         \n",
       "2 result_path       \n",
       "3 configuration_name\n",
       "  value                                                       \n",
       "1 /home/icb/corinna.losert/projects/mofa_workflow/input_data/ \n",
       "2 /home/icb/corinna.losert/projects/mofa_workflow/result_data/\n",
       "3 MI_v1                                                       "
      ]
     },
     "metadata": {},
     "output_type": "display_data"
    }
   ],
   "source": [
    "head(global_configs,3)"
   ]
  },
  {
   "cell_type": "code",
   "execution_count": 102,
   "id": "0c7db0bc-ec41-4c0d-8c52-64ce0055a4c2",
   "metadata": {},
   "outputs": [],
   "source": [
    "data_path = global_configs$value[global_configs$parameter == 'data_path']"
   ]
  },
  {
   "cell_type": "code",
   "execution_count": 103,
   "id": "a26c5d9c-6395-4983-8d06-7bf6d23fd274",
   "metadata": {},
   "outputs": [
    {
     "data": {
      "text/html": [
       "'/home/icb/corinna.losert/projects/mofa_workflow/input_data/'"
      ],
      "text/latex": [
       "'/home/icb/corinna.losert/projects/mofa\\_workflow/input\\_data/'"
      ],
      "text/markdown": [
       "'/home/icb/corinna.losert/projects/mofa_workflow/input_data/'"
      ],
      "text/plain": [
       "[1] \"/home/icb/corinna.losert/projects/mofa_workflow/input_data/\""
      ]
     },
     "metadata": {},
     "output_type": "display_data"
    }
   ],
   "source": [
    "data_path"
   ]
  },
  {
   "cell_type": "code",
   "execution_count": 104,
   "id": "f6c65f96-97bf-4082-9d43-755cf3cad2f6",
   "metadata": {},
   "outputs": [],
   "source": [
    "result_path = global_configs$value[global_configs$parameter == 'result_path']"
   ]
  },
  {
   "cell_type": "code",
   "execution_count": 105,
   "id": "213941c4-7637-4444-8c85-b056e96326b4",
   "metadata": {},
   "outputs": [
    {
     "data": {
      "text/html": [
       "'/home/icb/corinna.losert/projects/mofa_workflow/result_data/'"
      ],
      "text/latex": [
       "'/home/icb/corinna.losert/projects/mofa\\_workflow/result\\_data/'"
      ],
      "text/markdown": [
       "'/home/icb/corinna.losert/projects/mofa_workflow/result_data/'"
      ],
      "text/plain": [
       "[1] \"/home/icb/corinna.losert/projects/mofa_workflow/result_data/\""
      ]
     },
     "metadata": {},
     "output_type": "display_data"
    }
   ],
   "source": [
    "result_path"
   ]
  },
  {
   "cell_type": "code",
   "execution_count": 106,
   "id": "a751133a-e479-4350-b78f-c4d7b98f8f87",
   "metadata": {},
   "outputs": [],
   "source": [
    "## Load the configuration file specifying single-cell specific filtering options"
   ]
  },
  {
   "cell_type": "code",
   "execution_count": 107,
   "id": "f1b3b18f-48e5-426c-8ba2-ed07e7d3dc35",
   "metadata": {},
   "outputs": [
    {
     "name": "stderr",
     "output_type": "stream",
     "text": [
      "Warning message in read.table(file = file, header = header, sep = sep, quote = quote, :\n",
      "\"incomplete final line found by readTableHeader on 'configurations/02_Pre_Processing_Configs_SC.csv'\"\n"
     ]
    }
   ],
   "source": [
    "sc_configs = read.csv('configurations/02_Pre_Processing_Configs_SC.csv', sep = ',')"
   ]
  },
  {
   "cell_type": "code",
   "execution_count": 108,
   "id": "192e781d-3025-4cce-b9d8-3f2bb66d449c",
   "metadata": {},
   "outputs": [
    {
     "data": {
      "text/html": [
       "<table class=\"dataframe\">\n",
       "<caption>A data.frame: 2 x 6</caption>\n",
       "<thead>\n",
       "\t<tr><th></th><th scope=col>configuration_name</th><th scope=col>data_name</th><th scope=col>data_type</th><th scope=col>cell_type_exclusion</th><th scope=col>cell_expr_thres1</th><th scope=col>cell_expr_thres2</th></tr>\n",
       "\t<tr><th></th><th scope=col>&lt;chr&gt;</th><th scope=col>&lt;chr&gt;</th><th scope=col>&lt;chr&gt;</th><th scope=col>&lt;chr&gt;</th><th scope=col>&lt;chr&gt;</th><th scope=col>&lt;chr&gt;</th></tr>\n",
       "</thead>\n",
       "<tbody>\n",
       "\t<tr><th scope=row>1</th><td>MI_v1</td><td>Prepared_sc_Data</td><td>h5ad</td><td>Platelet,Plasmablast,pDC,Eryth,Doublet,dnT,cdC1,CD8 TCM,CD8 Proliferating,CD4 Proliferating,NK Proliferating,ASDC,NK_CD56bright,ILC,MAIT,HSPC</td><td>50;10</td><td>40;20</td></tr>\n",
       "\t<tr><th scope=row>2</th><td>     </td><td>                </td><td>    </td><td>                                                                                                                                             </td><td>     </td><td>     </td></tr>\n",
       "</tbody>\n",
       "</table>\n"
      ],
      "text/latex": [
       "A data.frame: 2 x 6\n",
       "\\begin{tabular}{r|llllll}\n",
       "  & configuration\\_name & data\\_name & data\\_type & cell\\_type\\_exclusion & cell\\_expr\\_thres1 & cell\\_expr\\_thres2\\\\\n",
       "  & <chr> & <chr> & <chr> & <chr> & <chr> & <chr>\\\\\n",
       "\\hline\n",
       "\t1 & MI\\_v1 & Prepared\\_sc\\_Data & h5ad & Platelet,Plasmablast,pDC,Eryth,Doublet,dnT,cdC1,CD8 TCM,CD8 Proliferating,CD4 Proliferating,NK Proliferating,ASDC,NK\\_CD56bright,ILC,MAIT,HSPC & 50;10 & 40;20\\\\\n",
       "\t2 &       &                  &      &                                                                                                                                               &       &      \\\\\n",
       "\\end{tabular}\n"
      ],
      "text/markdown": [
       "\n",
       "A data.frame: 2 x 6\n",
       "\n",
       "| <!--/--> | configuration_name &lt;chr&gt; | data_name &lt;chr&gt; | data_type &lt;chr&gt; | cell_type_exclusion &lt;chr&gt; | cell_expr_thres1 &lt;chr&gt; | cell_expr_thres2 &lt;chr&gt; |\n",
       "|---|---|---|---|---|---|---|\n",
       "| 1 | MI_v1 | Prepared_sc_Data | h5ad | Platelet,Plasmablast,pDC,Eryth,Doublet,dnT,cdC1,CD8 TCM,CD8 Proliferating,CD4 Proliferating,NK Proliferating,ASDC,NK_CD56bright,ILC,MAIT,HSPC | 50;10 | 40;20 |\n",
       "| 2 | <!----> | <!----> | <!----> | <!----> | <!----> | <!----> |\n",
       "\n"
      ],
      "text/plain": [
       "  configuration_name data_name        data_type\n",
       "1 MI_v1              Prepared_sc_Data h5ad     \n",
       "2                                              \n",
       "  cell_type_exclusion                                                                                                                          \n",
       "1 Platelet,Plasmablast,pDC,Eryth,Doublet,dnT,cdC1,CD8 TCM,CD8 Proliferating,CD4 Proliferating,NK Proliferating,ASDC,NK_CD56bright,ILC,MAIT,HSPC\n",
       "2                                                                                                                                              \n",
       "  cell_expr_thres1 cell_expr_thres2\n",
       "1 50;10            40;20           \n",
       "2                                  "
      ]
     },
     "metadata": {},
     "output_type": "display_data"
    }
   ],
   "source": [
    "head(sc_configs,2)"
   ]
  },
  {
   "cell_type": "code",
   "execution_count": 109,
   "id": "4750c87c-f620-4217-8c0f-c23a80f2f81a",
   "metadata": {},
   "outputs": [],
   "source": [
    "sc_configs = sc_configs[sc_configs$data_name != '',]"
   ]
  },
  {
   "cell_type": "code",
   "execution_count": 110,
   "id": "67ebcea0-da43-48c1-b46f-5bbe5057aaea",
   "metadata": {
    "tags": []
   },
   "outputs": [],
   "source": [
    "## Load the configuration file specifying the pre-processing options for all datasets"
   ]
  },
  {
   "cell_type": "code",
   "execution_count": 111,
   "id": "44771cf5-b625-41a2-be15-5c4cca0ee850",
   "metadata": {},
   "outputs": [],
   "source": [
    "data_configs = read.csv('configurations/02_Pre_Processing_Configs.csv', sep = ',')"
   ]
  },
  {
   "cell_type": "code",
   "execution_count": 112,
   "id": "bdebe806-0d95-49b7-80f0-b5b6650060b9",
   "metadata": {},
   "outputs": [],
   "source": [
    "data_configs = data_configs[data_configs$configuration_name != '',]   # remove lines with empty configuration names\n",
    "data_configs = data_configs[!is.na(data_configs$configuration_name),]  # remove lines with NA in configuration name"
   ]
  },
  {
   "cell_type": "code",
   "execution_count": 113,
   "id": "5e519d3b-5ae0-463e-8302-c23c9caf4e2d",
   "metadata": {},
   "outputs": [
    {
     "data": {
      "text/html": [
       "<table class=\"dataframe\">\n",
       "<caption>A data.frame: 5 x 13</caption>\n",
       "<thead>\n",
       "\t<tr><th></th><th scope=col>configuration_name</th><th scope=col>data_name</th><th scope=col>file_type</th><th scope=col>data_type</th><th scope=col>remove_sample_ids</th><th scope=col>sample_filtering_thres</th><th scope=col>feature_filtering_thres</th><th scope=col>library_adjustment</th><th scope=col>log_transformation</th><th scope=col>variable_genes_filtering</th><th scope=col>quantile_normalization_samples</th><th scope=col>ribosomal_mitochondrial_gene_filtering</th><th scope=col>feature_wise_quantile_normalization</th></tr>\n",
       "\t<tr><th></th><th scope=col>&lt;chr&gt;</th><th scope=col>&lt;chr&gt;</th><th scope=col>&lt;chr&gt;</th><th scope=col>&lt;chr&gt;</th><th scope=col>&lt;lgl&gt;</th><th scope=col>&lt;dbl&gt;</th><th scope=col>&lt;dbl&gt;</th><th scope=col>&lt;lgl&gt;</th><th scope=col>&lt;lgl&gt;</th><th scope=col>&lt;dbl&gt;</th><th scope=col>&lt;lgl&gt;</th><th scope=col>&lt;lgl&gt;</th><th scope=col>&lt;lgl&gt;</th></tr>\n",
       "</thead>\n",
       "<tbody>\n",
       "\t<tr><th scope=row>1</th><td>MI_v1</td><td>Prepared_Proteomic_Data </td><td>csv </td><td>proteomic </td><td>NA</td><td>1.0</td><td>0.20</td><td>FALSE</td><td>FALSE</td><td>1.00</td><td>FALSE</td><td>FALSE</td><td>TRUE</td></tr>\n",
       "\t<tr><th scope=row>2</th><td>MI_v1</td><td>Prepared_Cytokine_Data  </td><td>csv </td><td>cytokine  </td><td>NA</td><td>1.0</td><td>0.20</td><td>FALSE</td><td> TRUE</td><td>1.00</td><td>FALSE</td><td>FALSE</td><td>TRUE</td></tr>\n",
       "\t<tr><th scope=row>3</th><td>MI_v1</td><td>Prepared_Clinical_Data  </td><td>csv </td><td>clinical  </td><td>NA</td><td>1.0</td><td>0.20</td><td>FALSE</td><td> TRUE</td><td>1.00</td><td>FALSE</td><td>FALSE</td><td>TRUE</td></tr>\n",
       "\t<tr><th scope=row>4</th><td>MI_v1</td><td>Prepared_sc_Data        </td><td>h5ad</td><td>sc        </td><td>NA</td><td>1.0</td><td>0.05</td><td> TRUE</td><td> TRUE</td><td>1.00</td><td> TRUE</td><td> TRUE</td><td>TRUE</td></tr>\n",
       "\t<tr><th scope=row>5</th><td>MI_v1</td><td>Prepared_Neutrophil_Data</td><td>csv </td><td>neutrophil</td><td>NA</td><td>0.9</td><td>0.80</td><td> TRUE</td><td> TRUE</td><td>0.75</td><td> TRUE</td><td> TRUE</td><td>TRUE</td></tr>\n",
       "</tbody>\n",
       "</table>\n"
      ],
      "text/latex": [
       "A data.frame: 5 x 13\n",
       "\\begin{tabular}{r|lllllllllllll}\n",
       "  & configuration\\_name & data\\_name & file\\_type & data\\_type & remove\\_sample\\_ids & sample\\_filtering\\_thres & feature\\_filtering\\_thres & library\\_adjustment & log\\_transformation & variable\\_genes\\_filtering & quantile\\_normalization\\_samples & ribosomal\\_mitochondrial\\_gene\\_filtering & feature\\_wise\\_quantile\\_normalization\\\\\n",
       "  & <chr> & <chr> & <chr> & <chr> & <lgl> & <dbl> & <dbl> & <lgl> & <lgl> & <dbl> & <lgl> & <lgl> & <lgl>\\\\\n",
       "\\hline\n",
       "\t1 & MI\\_v1 & Prepared\\_Proteomic\\_Data  & csv  & proteomic  & NA & 1.0 & 0.20 & FALSE & FALSE & 1.00 & FALSE & FALSE & TRUE\\\\\n",
       "\t2 & MI\\_v1 & Prepared\\_Cytokine\\_Data   & csv  & cytokine   & NA & 1.0 & 0.20 & FALSE &  TRUE & 1.00 & FALSE & FALSE & TRUE\\\\\n",
       "\t3 & MI\\_v1 & Prepared\\_Clinical\\_Data   & csv  & clinical   & NA & 1.0 & 0.20 & FALSE &  TRUE & 1.00 & FALSE & FALSE & TRUE\\\\\n",
       "\t4 & MI\\_v1 & Prepared\\_sc\\_Data         & h5ad & sc         & NA & 1.0 & 0.05 &  TRUE &  TRUE & 1.00 &  TRUE &  TRUE & TRUE\\\\\n",
       "\t5 & MI\\_v1 & Prepared\\_Neutrophil\\_Data & csv  & neutrophil & NA & 0.9 & 0.80 &  TRUE &  TRUE & 0.75 &  TRUE &  TRUE & TRUE\\\\\n",
       "\\end{tabular}\n"
      ],
      "text/markdown": [
       "\n",
       "A data.frame: 5 x 13\n",
       "\n",
       "| <!--/--> | configuration_name &lt;chr&gt; | data_name &lt;chr&gt; | file_type &lt;chr&gt; | data_type &lt;chr&gt; | remove_sample_ids &lt;lgl&gt; | sample_filtering_thres &lt;dbl&gt; | feature_filtering_thres &lt;dbl&gt; | library_adjustment &lt;lgl&gt; | log_transformation &lt;lgl&gt; | variable_genes_filtering &lt;dbl&gt; | quantile_normalization_samples &lt;lgl&gt; | ribosomal_mitochondrial_gene_filtering &lt;lgl&gt; | feature_wise_quantile_normalization &lt;lgl&gt; |\n",
       "|---|---|---|---|---|---|---|---|---|---|---|---|---|---|\n",
       "| 1 | MI_v1 | Prepared_Proteomic_Data  | csv  | proteomic  | NA | 1.0 | 0.20 | FALSE | FALSE | 1.00 | FALSE | FALSE | TRUE |\n",
       "| 2 | MI_v1 | Prepared_Cytokine_Data   | csv  | cytokine   | NA | 1.0 | 0.20 | FALSE |  TRUE | 1.00 | FALSE | FALSE | TRUE |\n",
       "| 3 | MI_v1 | Prepared_Clinical_Data   | csv  | clinical   | NA | 1.0 | 0.20 | FALSE |  TRUE | 1.00 | FALSE | FALSE | TRUE |\n",
       "| 4 | MI_v1 | Prepared_sc_Data         | h5ad | sc         | NA | 1.0 | 0.05 |  TRUE |  TRUE | 1.00 |  TRUE |  TRUE | TRUE |\n",
       "| 5 | MI_v1 | Prepared_Neutrophil_Data | csv  | neutrophil | NA | 0.9 | 0.80 |  TRUE |  TRUE | 0.75 |  TRUE |  TRUE | TRUE |\n",
       "\n"
      ],
      "text/plain": [
       "  configuration_name data_name                file_type data_type \n",
       "1 MI_v1              Prepared_Proteomic_Data  csv       proteomic \n",
       "2 MI_v1              Prepared_Cytokine_Data   csv       cytokine  \n",
       "3 MI_v1              Prepared_Clinical_Data   csv       clinical  \n",
       "4 MI_v1              Prepared_sc_Data         h5ad      sc        \n",
       "5 MI_v1              Prepared_Neutrophil_Data csv       neutrophil\n",
       "  remove_sample_ids sample_filtering_thres feature_filtering_thres\n",
       "1 NA                1.0                    0.20                   \n",
       "2 NA                1.0                    0.20                   \n",
       "3 NA                1.0                    0.20                   \n",
       "4 NA                1.0                    0.05                   \n",
       "5 NA                0.9                    0.80                   \n",
       "  library_adjustment log_transformation variable_genes_filtering\n",
       "1 FALSE              FALSE              1.00                    \n",
       "2 FALSE               TRUE              1.00                    \n",
       "3 FALSE               TRUE              1.00                    \n",
       "4  TRUE               TRUE              1.00                    \n",
       "5  TRUE               TRUE              0.75                    \n",
       "  quantile_normalization_samples ribosomal_mitochondrial_gene_filtering\n",
       "1 FALSE                          FALSE                                 \n",
       "2 FALSE                          FALSE                                 \n",
       "3 FALSE                          FALSE                                 \n",
       "4  TRUE                           TRUE                                 \n",
       "5  TRUE                           TRUE                                 \n",
       "  feature_wise_quantile_normalization\n",
       "1 TRUE                               \n",
       "2 TRUE                               \n",
       "3 TRUE                               \n",
       "4 TRUE                               \n",
       "5 TRUE                               "
      ]
     },
     "metadata": {},
     "output_type": "display_data"
    }
   ],
   "source": [
    "head(data_configs)"
   ]
  },
  {
   "cell_type": "code",
   "execution_count": 114,
   "id": "a803dd19-ce34-4ea6-a072-6840c0acd134",
   "metadata": {
    "tags": []
   },
   "outputs": [],
   "source": [
    "### Generate the result data directory if it does not exist yet\n",
    "if(!file.exists(paste0(result_path, '02_results'))){\n",
    "    dir.create(file.path(paste0(result_path, '02_results')))\n",
    "    }"
   ]
  },
  {
   "cell_type": "markdown",
   "id": "2be3bf8c-3704-4db9-913e-959f6c7c33fe",
   "metadata": {},
   "source": [
    "# Load Data"
   ]
  },
  {
   "cell_type": "code",
   "execution_count": 115,
   "id": "6ed0fe36-b83c-44f7-97b7-7c7e887f24ea",
   "metadata": {},
   "outputs": [],
   "source": [
    "### Load sc Data and exclude cluster_ids as specified in the configuration file"
   ]
  },
  {
   "cell_type": "code",
   "execution_count": 116,
   "id": "30f46be6-501d-43f5-a3ae-c69d957059a2",
   "metadata": {},
   "outputs": [],
   "source": [
    "datasets = list()"
   ]
  },
  {
   "cell_type": "code",
   "execution_count": 117,
   "id": "ba218666-d3af-4583-85e4-5899185de72c",
   "metadata": {
    "tags": []
   },
   "outputs": [],
   "source": [
    "## Load sc data (pseudobulk) generated in previous step\n",
    "if(nrow(sc_configs) > 0){\n",
    "for(j in 1:nrow(sc_configs)){\n",
    "    sc_data_name = sc_configs$data_name[j]\n",
    "    sc_data =  fread(paste0(result_path, '/01_results/01_', sc_data_name, 'Pseudobulk_Table', '.csv'))\n",
    "\n",
    "    sc_data$V1 = NULL\n",
    "\n",
    "    ## Split up sc to different configs\n",
    "    for(i in unique(sc_configs$configuration_name)){    \n",
    "        for(j in unique(sc_configs$data_name[sc_configs$configuration_name == i])){\n",
    "\n",
    "            data = sc_data[sc_data$dataset == j,]\n",
    "\n",
    "            ## Exclude cluster_id's (cell-type clusters)\n",
    "            if(!is.na(sc_configs$cell_type_exclusion[sc_configs$configuration_name == i])){\n",
    "            data = data[!data$type %in% unlist(strsplit(sc_configs$cell_type_exclusion[sc_configs$configuration_name == i] ,',')),]\n",
    "                }\n",
    "\n",
    "            datasets[[i]][[j]] = data\n",
    "            }\n",
    "        }\n",
    "    }    \n",
    " }   "
   ]
  },
  {
   "cell_type": "code",
   "execution_count": 118,
   "id": "e2f35234-7c10-401c-8ce1-4a8ba71f21a6",
   "metadata": {
    "tags": []
   },
   "outputs": [
    {
     "data": {
      "text/html": [
       "'Prepared_sc_Data'"
      ],
      "text/latex": [
       "'Prepared\\_sc\\_Data'"
      ],
      "text/markdown": [
       "'Prepared_sc_Data'"
      ],
      "text/plain": [
       "[1] \"Prepared_sc_Data\""
      ]
     },
     "metadata": {},
     "output_type": "display_data"
    }
   ],
   "source": [
    "sc_data_name"
   ]
  },
  {
   "cell_type": "code",
   "execution_count": 119,
   "id": "416ee956-7af4-461a-a6fa-534d9708961c",
   "metadata": {
    "tags": []
   },
   "outputs": [],
   "source": [
    "#str(datasets)"
   ]
  },
  {
   "cell_type": "code",
   "execution_count": 120,
   "id": "3867b3ec-ea0d-4b23-8408-12ff3b119f3d",
   "metadata": {
    "tags": []
   },
   "outputs": [
    {
     "data": {
      "text/html": [
       "119"
      ],
      "text/latex": [
       "119"
      ],
      "text/markdown": [
       "119"
      ],
      "text/plain": [
       "[1] 119"
      ]
     },
     "metadata": {},
     "output_type": "display_data"
    }
   ],
   "source": [
    "length(unique(data$sample_id))"
   ]
  },
  {
   "cell_type": "code",
   "execution_count": 121,
   "id": "ad02a723-f7ba-4732-9188-097c879287c4",
   "metadata": {},
   "outputs": [],
   "source": [
    "### Load the other datasets specified in the configuration file"
   ]
  },
  {
   "cell_type": "code",
   "execution_count": 122,
   "id": "cc29e4ac-58df-4bd6-8e61-4754f39d5b39",
   "metadata": {
    "tags": []
   },
   "outputs": [],
   "source": [
    "for(i in unique(data_configs$configuration_name)){     # for each config\n",
    "    for(j in unique(data_configs$data_name[data_configs$configuration_name == i])){      # each specifiec data-name\n",
    "        \n",
    "        configuration = data_configs[(data_configs$configuration_name == i) & (data_configs$data_name == j),]\n",
    "        \n",
    "        if(configuration$file_type == 'csv'){\n",
    "        data = read.csv(paste0(data_path, j, '.csv'))\n",
    "        data$X = NULL\n",
    "        data = melt(data, id.vars = 'sample_id')\n",
    "        data$dataset = j\n",
    "        data$type = configuration$data_type\n",
    "        \n",
    "        datasets[[i]][[j]] = data\n",
    "        }\n",
    "        }\n",
    "    }"
   ]
  },
  {
   "cell_type": "code",
   "execution_count": 123,
   "id": "647e032b-3dc8-41b5-a4ed-ee061ca6f1c9",
   "metadata": {},
   "outputs": [],
   "source": [
    "#head(data,2)"
   ]
  },
  {
   "cell_type": "code",
   "execution_count": 124,
   "id": "3ebe449c-9dd3-41aa-bf99-a7569807be43",
   "metadata": {},
   "outputs": [],
   "source": [
    "#str(datasets)"
   ]
  },
  {
   "cell_type": "code",
   "execution_count": 125,
   "id": "bff61d5c-58dc-477f-9ebc-f8a54e9f034c",
   "metadata": {},
   "outputs": [],
   "source": [
    "data_backup = datasets # in case something should be re-executed, so loading of data is not necessary a second time"
   ]
  },
  {
   "cell_type": "code",
   "execution_count": 126,
   "id": "b1d67422-76bc-4156-8dca-33f02740514a",
   "metadata": {},
   "outputs": [],
   "source": [
    "datasets = data_backup"
   ]
  },
  {
   "cell_type": "code",
   "execution_count": 127,
   "id": "a51a367a-c2d0-4d2b-93b8-e582245f6a13",
   "metadata": {
    "tags": []
   },
   "outputs": [],
   "source": [
    "#str(datasets)"
   ]
  },
  {
   "cell_type": "markdown",
   "id": "a4d4a768-09ae-419f-9287-10c0789e42b4",
   "metadata": {},
   "source": [
    "# Pre-Process each dataset as specified in the configuration files"
   ]
  },
  {
   "cell_type": "markdown",
   "id": "37e1ff38-25b5-4350-9948-515cc5c79a2b",
   "metadata": {},
   "source": [
    "## Sample Filter"
   ]
  },
  {
   "cell_type": "code",
   "execution_count": 128,
   "id": "fbe7e1ef-ba2d-4da6-a1b3-686f46fbbb96",
   "metadata": {
    "tags": []
   },
   "outputs": [],
   "source": [
    "### Filter out sample_id's specified in the configuration file"
   ]
  },
  {
   "cell_type": "code",
   "execution_count": 129,
   "id": "91c1516f-a6a8-4944-900f-8b9f4b3016e8",
   "metadata": {},
   "outputs": [
    {
     "data": {
      "text/html": [
       "<table class=\"dataframe\">\n",
       "<caption>A data.frame: 2 x 13</caption>\n",
       "<thead>\n",
       "\t<tr><th></th><th scope=col>configuration_name</th><th scope=col>data_name</th><th scope=col>file_type</th><th scope=col>data_type</th><th scope=col>remove_sample_ids</th><th scope=col>sample_filtering_thres</th><th scope=col>feature_filtering_thres</th><th scope=col>library_adjustment</th><th scope=col>log_transformation</th><th scope=col>variable_genes_filtering</th><th scope=col>quantile_normalization_samples</th><th scope=col>ribosomal_mitochondrial_gene_filtering</th><th scope=col>feature_wise_quantile_normalization</th></tr>\n",
       "\t<tr><th></th><th scope=col>&lt;chr&gt;</th><th scope=col>&lt;chr&gt;</th><th scope=col>&lt;chr&gt;</th><th scope=col>&lt;chr&gt;</th><th scope=col>&lt;lgl&gt;</th><th scope=col>&lt;dbl&gt;</th><th scope=col>&lt;dbl&gt;</th><th scope=col>&lt;lgl&gt;</th><th scope=col>&lt;lgl&gt;</th><th scope=col>&lt;dbl&gt;</th><th scope=col>&lt;lgl&gt;</th><th scope=col>&lt;lgl&gt;</th><th scope=col>&lt;lgl&gt;</th></tr>\n",
       "</thead>\n",
       "<tbody>\n",
       "\t<tr><th scope=row>1</th><td>MI_v1</td><td>Prepared_Proteomic_Data</td><td>csv</td><td>proteomic</td><td>NA</td><td>1</td><td>0.2</td><td>FALSE</td><td>FALSE</td><td>1</td><td>FALSE</td><td>FALSE</td><td>TRUE</td></tr>\n",
       "\t<tr><th scope=row>2</th><td>MI_v1</td><td>Prepared_Cytokine_Data </td><td>csv</td><td>cytokine </td><td>NA</td><td>1</td><td>0.2</td><td>FALSE</td><td> TRUE</td><td>1</td><td>FALSE</td><td>FALSE</td><td>TRUE</td></tr>\n",
       "</tbody>\n",
       "</table>\n"
      ],
      "text/latex": [
       "A data.frame: 2 x 13\n",
       "\\begin{tabular}{r|lllllllllllll}\n",
       "  & configuration\\_name & data\\_name & file\\_type & data\\_type & remove\\_sample\\_ids & sample\\_filtering\\_thres & feature\\_filtering\\_thres & library\\_adjustment & log\\_transformation & variable\\_genes\\_filtering & quantile\\_normalization\\_samples & ribosomal\\_mitochondrial\\_gene\\_filtering & feature\\_wise\\_quantile\\_normalization\\\\\n",
       "  & <chr> & <chr> & <chr> & <chr> & <lgl> & <dbl> & <dbl> & <lgl> & <lgl> & <dbl> & <lgl> & <lgl> & <lgl>\\\\\n",
       "\\hline\n",
       "\t1 & MI\\_v1 & Prepared\\_Proteomic\\_Data & csv & proteomic & NA & 1 & 0.2 & FALSE & FALSE & 1 & FALSE & FALSE & TRUE\\\\\n",
       "\t2 & MI\\_v1 & Prepared\\_Cytokine\\_Data  & csv & cytokine  & NA & 1 & 0.2 & FALSE &  TRUE & 1 & FALSE & FALSE & TRUE\\\\\n",
       "\\end{tabular}\n"
      ],
      "text/markdown": [
       "\n",
       "A data.frame: 2 x 13\n",
       "\n",
       "| <!--/--> | configuration_name &lt;chr&gt; | data_name &lt;chr&gt; | file_type &lt;chr&gt; | data_type &lt;chr&gt; | remove_sample_ids &lt;lgl&gt; | sample_filtering_thres &lt;dbl&gt; | feature_filtering_thres &lt;dbl&gt; | library_adjustment &lt;lgl&gt; | log_transformation &lt;lgl&gt; | variable_genes_filtering &lt;dbl&gt; | quantile_normalization_samples &lt;lgl&gt; | ribosomal_mitochondrial_gene_filtering &lt;lgl&gt; | feature_wise_quantile_normalization &lt;lgl&gt; |\n",
       "|---|---|---|---|---|---|---|---|---|---|---|---|---|---|\n",
       "| 1 | MI_v1 | Prepared_Proteomic_Data | csv | proteomic | NA | 1 | 0.2 | FALSE | FALSE | 1 | FALSE | FALSE | TRUE |\n",
       "| 2 | MI_v1 | Prepared_Cytokine_Data  | csv | cytokine  | NA | 1 | 0.2 | FALSE |  TRUE | 1 | FALSE | FALSE | TRUE |\n",
       "\n"
      ],
      "text/plain": [
       "  configuration_name data_name               file_type data_type\n",
       "1 MI_v1              Prepared_Proteomic_Data csv       proteomic\n",
       "2 MI_v1              Prepared_Cytokine_Data  csv       cytokine \n",
       "  remove_sample_ids sample_filtering_thres feature_filtering_thres\n",
       "1 NA                1                      0.2                    \n",
       "2 NA                1                      0.2                    \n",
       "  library_adjustment log_transformation variable_genes_filtering\n",
       "1 FALSE              FALSE              1                       \n",
       "2 FALSE               TRUE              1                       \n",
       "  quantile_normalization_samples ribosomal_mitochondrial_gene_filtering\n",
       "1 FALSE                          FALSE                                 \n",
       "2 FALSE                          FALSE                                 \n",
       "  feature_wise_quantile_normalization\n",
       "1 TRUE                               \n",
       "2 TRUE                               "
      ]
     },
     "metadata": {},
     "output_type": "display_data"
    }
   ],
   "source": [
    "head(data_configs,2)"
   ]
  },
  {
   "cell_type": "code",
   "execution_count": 130,
   "id": "4576b684-31d1-47a0-ac22-690ef3a5f18b",
   "metadata": {},
   "outputs": [
    {
     "name": "stdout",
     "output_type": "stream",
     "text": [
      "[1] \"Filtered samples based on threshold for Prepared_Neutrophil_Data\"\n",
      "[1] \"Amount samples before filtering 121\"\n",
      "[1] \"Amount samples after filtering 112\"\n"
     ]
    }
   ],
   "source": [
    "for(i in 1:nrow(data_configs)){\n",
    "    ### Remove samples based on specified samples in remove_sample_ids column\n",
    "    if( (!is.na(data_configs$remove_sample_ids[i])) & (data_configs$remove_sample_ids[i] != '')){\n",
    "        \n",
    "        print(paste0('Filtered specific samples for ',data_configs$data_name[i], ' ',  unique( unlist(strsplit(data_configs$remove_sample_ids[i], ',')))))\n",
    "        \n",
    "        data = datasets[[data_configs$configuration_name[i]]][[data_configs$data_name[i]]]\n",
    "        \n",
    "        ### remove samples\n",
    "        data = data[! data$sample_id %in% unlist(strsplit(data_configs$remove_sample_ids[i], ',')),]  # TBD check!\n",
    "        \n",
    "        ### replace adjusted data\n",
    "        datasets[[data_configs$configuration_name[i]]][[data_configs$data_name[i]]] = data\n",
    "        \n",
    "        }\n",
    "    \n",
    "     ### Remove samples based on threshold in sample_filtering_thres\n",
    "     if ( (as.numeric(data_configs$sample_filtering_thres[i]) < 1) & (as.numeric(data_configs$sample_filtering_thres[i]) > 0)){\n",
    "         \n",
    "         print(paste0('Filtered samples based on threshold for ',data_configs$data_name[i])) \n",
    "         data = datasets[[data_configs$configuration_name[i]]][[data_configs$data_name[i]]]\n",
    "         print(paste0('Amount samples before filtering ', length(unique(data$sample_id))))\n",
    "         \n",
    "         ### calculate percentage of features with zero values\n",
    "         data = data %>% group_by(sample_id, type) %>% mutate(zero_expression_percentage = sum(value == 0)/ n())\n",
    "         ### filter out samples if percentage higher than threshold\n",
    "         data = data[data$zero_expression_percentage < data_configs$sample_filtering_thres[i],]\n",
    "         print(paste0('Amount samples after filtering ', length(unique(data$sample_id))))\n",
    "         \n",
    "         ### remove generated columns\n",
    "         data$zero_expression_percentage = NULL\n",
    "         \n",
    "         ### replace adjusted data\n",
    "         datasets[[data_configs$configuration_name[i]]][[data_configs$data_name[i]]] = data            \n",
    "    } \n",
    "}\n",
    "        "
   ]
  },
  {
   "cell_type": "code",
   "execution_count": 131,
   "id": "132733b9-c53f-48b3-9b5a-8655b0068a9a",
   "metadata": {
    "tags": []
   },
   "outputs": [],
   "source": [
    "#str(datasets)"
   ]
  },
  {
   "cell_type": "markdown",
   "id": "b738cb60-5d06-467e-9d29-9492b35792a7",
   "metadata": {
    "tags": []
   },
   "source": [
    "## Feature Removal (based on sample expression)"
   ]
  },
  {
   "cell_type": "code",
   "execution_count": 132,
   "id": "6067a8f9-6883-46ab-8574-469c05302e90",
   "metadata": {},
   "outputs": [],
   "source": [
    "## Filter out features that are not expressed in a certain amount of sample (threshold set in the configuration file)"
   ]
  },
  {
   "cell_type": "code",
   "execution_count": 133,
   "id": "2998fd19-228d-43c8-98f3-63f322039aad",
   "metadata": {},
   "outputs": [
    {
     "data": {
      "text/html": [
       "<table class=\"dataframe\">\n",
       "<caption>A data.frame: 2 x 13</caption>\n",
       "<thead>\n",
       "\t<tr><th></th><th scope=col>configuration_name</th><th scope=col>data_name</th><th scope=col>file_type</th><th scope=col>data_type</th><th scope=col>remove_sample_ids</th><th scope=col>sample_filtering_thres</th><th scope=col>feature_filtering_thres</th><th scope=col>library_adjustment</th><th scope=col>log_transformation</th><th scope=col>variable_genes_filtering</th><th scope=col>quantile_normalization_samples</th><th scope=col>ribosomal_mitochondrial_gene_filtering</th><th scope=col>feature_wise_quantile_normalization</th></tr>\n",
       "\t<tr><th></th><th scope=col>&lt;chr&gt;</th><th scope=col>&lt;chr&gt;</th><th scope=col>&lt;chr&gt;</th><th scope=col>&lt;chr&gt;</th><th scope=col>&lt;lgl&gt;</th><th scope=col>&lt;dbl&gt;</th><th scope=col>&lt;dbl&gt;</th><th scope=col>&lt;lgl&gt;</th><th scope=col>&lt;lgl&gt;</th><th scope=col>&lt;dbl&gt;</th><th scope=col>&lt;lgl&gt;</th><th scope=col>&lt;lgl&gt;</th><th scope=col>&lt;lgl&gt;</th></tr>\n",
       "</thead>\n",
       "<tbody>\n",
       "\t<tr><th scope=row>1</th><td>MI_v1</td><td>Prepared_Proteomic_Data</td><td>csv</td><td>proteomic</td><td>NA</td><td>1</td><td>0.2</td><td>FALSE</td><td>FALSE</td><td>1</td><td>FALSE</td><td>FALSE</td><td>TRUE</td></tr>\n",
       "\t<tr><th scope=row>2</th><td>MI_v1</td><td>Prepared_Cytokine_Data </td><td>csv</td><td>cytokine </td><td>NA</td><td>1</td><td>0.2</td><td>FALSE</td><td> TRUE</td><td>1</td><td>FALSE</td><td>FALSE</td><td>TRUE</td></tr>\n",
       "</tbody>\n",
       "</table>\n"
      ],
      "text/latex": [
       "A data.frame: 2 x 13\n",
       "\\begin{tabular}{r|lllllllllllll}\n",
       "  & configuration\\_name & data\\_name & file\\_type & data\\_type & remove\\_sample\\_ids & sample\\_filtering\\_thres & feature\\_filtering\\_thres & library\\_adjustment & log\\_transformation & variable\\_genes\\_filtering & quantile\\_normalization\\_samples & ribosomal\\_mitochondrial\\_gene\\_filtering & feature\\_wise\\_quantile\\_normalization\\\\\n",
       "  & <chr> & <chr> & <chr> & <chr> & <lgl> & <dbl> & <dbl> & <lgl> & <lgl> & <dbl> & <lgl> & <lgl> & <lgl>\\\\\n",
       "\\hline\n",
       "\t1 & MI\\_v1 & Prepared\\_Proteomic\\_Data & csv & proteomic & NA & 1 & 0.2 & FALSE & FALSE & 1 & FALSE & FALSE & TRUE\\\\\n",
       "\t2 & MI\\_v1 & Prepared\\_Cytokine\\_Data  & csv & cytokine  & NA & 1 & 0.2 & FALSE &  TRUE & 1 & FALSE & FALSE & TRUE\\\\\n",
       "\\end{tabular}\n"
      ],
      "text/markdown": [
       "\n",
       "A data.frame: 2 x 13\n",
       "\n",
       "| <!--/--> | configuration_name &lt;chr&gt; | data_name &lt;chr&gt; | file_type &lt;chr&gt; | data_type &lt;chr&gt; | remove_sample_ids &lt;lgl&gt; | sample_filtering_thres &lt;dbl&gt; | feature_filtering_thres &lt;dbl&gt; | library_adjustment &lt;lgl&gt; | log_transformation &lt;lgl&gt; | variable_genes_filtering &lt;dbl&gt; | quantile_normalization_samples &lt;lgl&gt; | ribosomal_mitochondrial_gene_filtering &lt;lgl&gt; | feature_wise_quantile_normalization &lt;lgl&gt; |\n",
       "|---|---|---|---|---|---|---|---|---|---|---|---|---|---|\n",
       "| 1 | MI_v1 | Prepared_Proteomic_Data | csv | proteomic | NA | 1 | 0.2 | FALSE | FALSE | 1 | FALSE | FALSE | TRUE |\n",
       "| 2 | MI_v1 | Prepared_Cytokine_Data  | csv | cytokine  | NA | 1 | 0.2 | FALSE |  TRUE | 1 | FALSE | FALSE | TRUE |\n",
       "\n"
      ],
      "text/plain": [
       "  configuration_name data_name               file_type data_type\n",
       "1 MI_v1              Prepared_Proteomic_Data csv       proteomic\n",
       "2 MI_v1              Prepared_Cytokine_Data  csv       cytokine \n",
       "  remove_sample_ids sample_filtering_thres feature_filtering_thres\n",
       "1 NA                1                      0.2                    \n",
       "2 NA                1                      0.2                    \n",
       "  library_adjustment log_transformation variable_genes_filtering\n",
       "1 FALSE              FALSE              1                       \n",
       "2 FALSE               TRUE              1                       \n",
       "  quantile_normalization_samples ribosomal_mitochondrial_gene_filtering\n",
       "1 FALSE                          FALSE                                 \n",
       "2 FALSE                          FALSE                                 \n",
       "  feature_wise_quantile_normalization\n",
       "1 TRUE                               \n",
       "2 TRUE                               "
      ]
     },
     "metadata": {},
     "output_type": "display_data"
    }
   ],
   "source": [
    "head(data_configs,2)"
   ]
  },
  {
   "cell_type": "code",
   "execution_count": 134,
   "id": "2ccad272-3ad4-4904-9d95-4a82a869fcf4",
   "metadata": {},
   "outputs": [],
   "source": [
    "data = datasets[[data_configs$configuration_name[i]]][[data_configs$data_name[i]]]"
   ]
  },
  {
   "cell_type": "code",
   "execution_count": 135,
   "id": "46ff6851-1a0f-4b4c-a20f-a8fbfe3f98f0",
   "metadata": {},
   "outputs": [
    {
     "data": {
      "text/html": [
       "<table class=\"dataframe\">\n",
       "<caption>A grouped_df: 2 x 5</caption>\n",
       "<thead>\n",
       "\t<tr><th scope=col>sample_id</th><th scope=col>variable</th><th scope=col>value</th><th scope=col>dataset</th><th scope=col>type</th></tr>\n",
       "\t<tr><th scope=col>&lt;chr&gt;</th><th scope=col>&lt;fct&gt;</th><th scope=col>&lt;int&gt;</th><th scope=col>&lt;chr&gt;</th><th scope=col>&lt;chr&gt;</th></tr>\n",
       "</thead>\n",
       "<tbody>\n",
       "\t<tr><td>k4   </td><td>A1BG</td><td>0</td><td>Prepared_Neutrophil_Data</td><td>neutrophil</td></tr>\n",
       "\t<tr><td>m14.3</td><td>A1BG</td><td>0</td><td>Prepared_Neutrophil_Data</td><td>neutrophil</td></tr>\n",
       "</tbody>\n",
       "</table>\n"
      ],
      "text/latex": [
       "A grouped\\_df: 2 x 5\n",
       "\\begin{tabular}{lllll}\n",
       " sample\\_id & variable & value & dataset & type\\\\\n",
       " <chr> & <fct> & <int> & <chr> & <chr>\\\\\n",
       "\\hline\n",
       "\t k4    & A1BG & 0 & Prepared\\_Neutrophil\\_Data & neutrophil\\\\\n",
       "\t m14.3 & A1BG & 0 & Prepared\\_Neutrophil\\_Data & neutrophil\\\\\n",
       "\\end{tabular}\n"
      ],
      "text/markdown": [
       "\n",
       "A grouped_df: 2 x 5\n",
       "\n",
       "| sample_id &lt;chr&gt; | variable &lt;fct&gt; | value &lt;int&gt; | dataset &lt;chr&gt; | type &lt;chr&gt; |\n",
       "|---|---|---|---|---|\n",
       "| k4    | A1BG | 0 | Prepared_Neutrophil_Data | neutrophil |\n",
       "| m14.3 | A1BG | 0 | Prepared_Neutrophil_Data | neutrophil |\n",
       "\n"
      ],
      "text/plain": [
       "  sample_id variable value dataset                  type      \n",
       "1 k4        A1BG     0     Prepared_Neutrophil_Data neutrophil\n",
       "2 m14.3     A1BG     0     Prepared_Neutrophil_Data neutrophil"
      ]
     },
     "metadata": {},
     "output_type": "display_data"
    }
   ],
   "source": [
    "head(data,2)"
   ]
  },
  {
   "cell_type": "code",
   "execution_count": 136,
   "id": "c9ada9ef-f0b0-4bf4-96aa-74cd413c59a5",
   "metadata": {
    "tags": []
   },
   "outputs": [
    {
     "name": "stdout",
     "output_type": "stream",
     "text": [
      "[1] \"MI_v1 Prepared_Proteomic_Data\"\n"
     ]
    },
    {
     "name": "stderr",
     "output_type": "stream",
     "text": [
      "\u001b[1m\u001b[22m`summarise()` has grouped output by 'type'. You can override using the `.groups` argument.\n"
     ]
    },
    {
     "name": "stdout",
     "output_type": "stream",
     "text": [
      "[1] \"Filtered: \"\n",
      "[1] \"MI_v1 Prepared_Cytokine_Data\"\n"
     ]
    },
    {
     "name": "stderr",
     "output_type": "stream",
     "text": [
      "\u001b[1m\u001b[22m`summarise()` has grouped output by 'type'. You can override using the `.groups` argument.\n"
     ]
    },
    {
     "name": "stdout",
     "output_type": "stream",
     "text": [
      "[1] \"Filtered: \"\n",
      "\u001b[90m# A tibble: 1 x 2\u001b[39m\n",
      "\u001b[90m# Groups:   type [1]\u001b[39m\n",
      "  type         n\n",
      "  \u001b[3m\u001b[90m<chr>\u001b[39m\u001b[23m    \u001b[3m\u001b[90m<int>\u001b[39m\u001b[23m\n",
      "\u001b[90m1\u001b[39m cytokine     5\n",
      "[1] \"MI_v1 Prepared_Clinical_Data\"\n"
     ]
    },
    {
     "name": "stderr",
     "output_type": "stream",
     "text": [
      "\u001b[1m\u001b[22m`summarise()` has grouped output by 'type'. You can override using the `.groups` argument.\n"
     ]
    },
    {
     "name": "stdout",
     "output_type": "stream",
     "text": [
      "[1] \"Filtered: \"\n",
      "[1] \"MI_v1 Prepared_sc_Data\"\n"
     ]
    },
    {
     "name": "stderr",
     "output_type": "stream",
     "text": [
      "\u001b[1m\u001b[22m`summarise()` has grouped output by 'type'. You can override using the `.groups` argument.\n"
     ]
    },
    {
     "name": "stdout",
     "output_type": "stream",
     "text": [
      "[1] \"Filtered: \"\n",
      "\u001b[90m# A tibble: 6 x 2\u001b[39m\n",
      "\u001b[90m# Groups:   type [6]\u001b[39m\n",
      "  type          n\n",
      "  \u001b[3m\u001b[90m<chr>\u001b[39m\u001b[23m     \u001b[3m\u001b[90m<int>\u001b[39m\u001b[23m\n",
      "\u001b[90m1\u001b[39m B cell     \u001b[4m2\u001b[24m472\n",
      "\u001b[90m2\u001b[39m CD14 Mono   139\n",
      "\u001b[90m3\u001b[39m CD16 Mono  \u001b[4m3\u001b[24m465\n",
      "\u001b[90m4\u001b[39m CD4 CTL    \u001b[4m5\u001b[24m521\n",
      "\u001b[90m5\u001b[39m CD4 Naive  \u001b[4m4\u001b[24m380\n",
      "\u001b[90m6\u001b[39m CD4 TCM     650\n",
      "[1] \"MI_v1 Prepared_Neutrophil_Data\"\n"
     ]
    },
    {
     "name": "stderr",
     "output_type": "stream",
     "text": [
      "\u001b[1m\u001b[22m`summarise()` has grouped output by 'type'. You can override using the `.groups` argument.\n"
     ]
    },
    {
     "name": "stdout",
     "output_type": "stream",
     "text": [
      "[1] \"Filtered: \"\n",
      "\u001b[90m# A tibble: 1 x 2\u001b[39m\n",
      "\u001b[90m# Groups:   type [1]\u001b[39m\n",
      "  type           n\n",
      "  \u001b[3m\u001b[90m<chr>\u001b[39m\u001b[23m      \u001b[3m\u001b[90m<int>\u001b[39m\u001b[23m\n",
      "\u001b[90m1\u001b[39m neutrophil \u001b[4m2\u001b[24m\u001b[4m3\u001b[24m955\n"
     ]
    }
   ],
   "source": [
    "for(i in 1:nrow(data_configs)){\n",
    "\n",
    "    if( (!is.na(data_configs$feature_filtering_thres[i])) & (data_configs$feature_filtering_thres[i] != '')  & (data_configs$feature_filtering_thres[i] > 0)){\n",
    "        \n",
    "        data = datasets[[data_configs$configuration_name[i]]][[data_configs$data_name[i]]]\n",
    "        \n",
    "        print(paste0(data_configs$configuration_name[i], ' ' ,data_configs$data_name[i]))\n",
    "        \n",
    "        ## Determine data to filter\n",
    "        data$expression = TRUE\n",
    "        data$expression[data$value == 0] = FALSE\n",
    "        expression_filter = data %>% group_by(type, variable) %>% summarise(perc_expression = sum(expression)  )\n",
    "        expression_filter$perc_expression = expression_filter$perc_expression / length(unique(data$sample_id))\n",
    "        \n",
    "        ## Apply filter\n",
    "        filtered_out = expression_filter[expression_filter$perc_expression <= data_configs$feature_filtering_thres[i],]\n",
    "        print(paste0( 'Filtered: ' ))\n",
    "        if(nrow(filtered_out) > 0){\n",
    "            print((head(filtered_out %>% dplyr::group_by(type) %>% dplyr::count())))\n",
    "            }\n",
    "        expression_filter = expression_filter[expression_filter$perc_expression >data_configs$feature_filtering_thres[i],]  # kept data\n",
    "        \n",
    "        data = merge(data, expression_filter[,c('type', 'variable')], by.x = c('type', 'variable'), by.y = c('type', 'variable'))   # filter the data\n",
    "        \n",
    "        ## Remove expression column \n",
    "        data$expression = NULL\n",
    "        \n",
    "        ## Replace \n",
    "        datasets[[data_configs$configuration_name[i]]][[data_configs$data_name[i]]]  = data\n",
    "        \n",
    "      }\n",
    "}"
   ]
  },
  {
   "cell_type": "code",
   "execution_count": 137,
   "id": "0181728d-cf1d-4565-bb77-3cb453b2d208",
   "metadata": {
    "tags": []
   },
   "outputs": [
    {
     "data": {
      "text/html": [
       "'MI_v1'"
      ],
      "text/latex": [
       "'MI\\_v1'"
      ],
      "text/markdown": [
       "'MI_v1'"
      ],
      "text/plain": [
       "[1] \"MI_v1\""
      ]
     },
     "metadata": {},
     "output_type": "display_data"
    }
   ],
   "source": [
    "names(datasets)"
   ]
  },
  {
   "cell_type": "markdown",
   "id": "48847de6-41b2-46e7-a50c-649e8d3f0d3f",
   "metadata": {},
   "source": [
    "## Library Adjustment"
   ]
  },
  {
   "cell_type": "code",
   "execution_count": 138,
   "id": "5d7c658f-adc9-46c2-b1c9-87fb474bfd0f",
   "metadata": {
    "tags": []
   },
   "outputs": [],
   "source": [
    "## Normalize measured counts for each sample to have the same amount of counts"
   ]
  },
  {
   "cell_type": "code",
   "execution_count": 139,
   "id": "a565f488-b351-4574-993d-a723fde6a2dc",
   "metadata": {},
   "outputs": [
    {
     "data": {
      "text/html": [
       "<table class=\"dataframe\">\n",
       "<caption>A data.frame: 2 x 13</caption>\n",
       "<thead>\n",
       "\t<tr><th></th><th scope=col>configuration_name</th><th scope=col>data_name</th><th scope=col>file_type</th><th scope=col>data_type</th><th scope=col>remove_sample_ids</th><th scope=col>sample_filtering_thres</th><th scope=col>feature_filtering_thres</th><th scope=col>library_adjustment</th><th scope=col>log_transformation</th><th scope=col>variable_genes_filtering</th><th scope=col>quantile_normalization_samples</th><th scope=col>ribosomal_mitochondrial_gene_filtering</th><th scope=col>feature_wise_quantile_normalization</th></tr>\n",
       "\t<tr><th></th><th scope=col>&lt;chr&gt;</th><th scope=col>&lt;chr&gt;</th><th scope=col>&lt;chr&gt;</th><th scope=col>&lt;chr&gt;</th><th scope=col>&lt;lgl&gt;</th><th scope=col>&lt;dbl&gt;</th><th scope=col>&lt;dbl&gt;</th><th scope=col>&lt;lgl&gt;</th><th scope=col>&lt;lgl&gt;</th><th scope=col>&lt;dbl&gt;</th><th scope=col>&lt;lgl&gt;</th><th scope=col>&lt;lgl&gt;</th><th scope=col>&lt;lgl&gt;</th></tr>\n",
       "</thead>\n",
       "<tbody>\n",
       "\t<tr><th scope=row>1</th><td>MI_v1</td><td>Prepared_Proteomic_Data</td><td>csv</td><td>proteomic</td><td>NA</td><td>1</td><td>0.2</td><td>FALSE</td><td>FALSE</td><td>1</td><td>FALSE</td><td>FALSE</td><td>TRUE</td></tr>\n",
       "\t<tr><th scope=row>2</th><td>MI_v1</td><td>Prepared_Cytokine_Data </td><td>csv</td><td>cytokine </td><td>NA</td><td>1</td><td>0.2</td><td>FALSE</td><td> TRUE</td><td>1</td><td>FALSE</td><td>FALSE</td><td>TRUE</td></tr>\n",
       "</tbody>\n",
       "</table>\n"
      ],
      "text/latex": [
       "A data.frame: 2 x 13\n",
       "\\begin{tabular}{r|lllllllllllll}\n",
       "  & configuration\\_name & data\\_name & file\\_type & data\\_type & remove\\_sample\\_ids & sample\\_filtering\\_thres & feature\\_filtering\\_thres & library\\_adjustment & log\\_transformation & variable\\_genes\\_filtering & quantile\\_normalization\\_samples & ribosomal\\_mitochondrial\\_gene\\_filtering & feature\\_wise\\_quantile\\_normalization\\\\\n",
       "  & <chr> & <chr> & <chr> & <chr> & <lgl> & <dbl> & <dbl> & <lgl> & <lgl> & <dbl> & <lgl> & <lgl> & <lgl>\\\\\n",
       "\\hline\n",
       "\t1 & MI\\_v1 & Prepared\\_Proteomic\\_Data & csv & proteomic & NA & 1 & 0.2 & FALSE & FALSE & 1 & FALSE & FALSE & TRUE\\\\\n",
       "\t2 & MI\\_v1 & Prepared\\_Cytokine\\_Data  & csv & cytokine  & NA & 1 & 0.2 & FALSE &  TRUE & 1 & FALSE & FALSE & TRUE\\\\\n",
       "\\end{tabular}\n"
      ],
      "text/markdown": [
       "\n",
       "A data.frame: 2 x 13\n",
       "\n",
       "| <!--/--> | configuration_name &lt;chr&gt; | data_name &lt;chr&gt; | file_type &lt;chr&gt; | data_type &lt;chr&gt; | remove_sample_ids &lt;lgl&gt; | sample_filtering_thres &lt;dbl&gt; | feature_filtering_thres &lt;dbl&gt; | library_adjustment &lt;lgl&gt; | log_transformation &lt;lgl&gt; | variable_genes_filtering &lt;dbl&gt; | quantile_normalization_samples &lt;lgl&gt; | ribosomal_mitochondrial_gene_filtering &lt;lgl&gt; | feature_wise_quantile_normalization &lt;lgl&gt; |\n",
       "|---|---|---|---|---|---|---|---|---|---|---|---|---|---|\n",
       "| 1 | MI_v1 | Prepared_Proteomic_Data | csv | proteomic | NA | 1 | 0.2 | FALSE | FALSE | 1 | FALSE | FALSE | TRUE |\n",
       "| 2 | MI_v1 | Prepared_Cytokine_Data  | csv | cytokine  | NA | 1 | 0.2 | FALSE |  TRUE | 1 | FALSE | FALSE | TRUE |\n",
       "\n"
      ],
      "text/plain": [
       "  configuration_name data_name               file_type data_type\n",
       "1 MI_v1              Prepared_Proteomic_Data csv       proteomic\n",
       "2 MI_v1              Prepared_Cytokine_Data  csv       cytokine \n",
       "  remove_sample_ids sample_filtering_thres feature_filtering_thres\n",
       "1 NA                1                      0.2                    \n",
       "2 NA                1                      0.2                    \n",
       "  library_adjustment log_transformation variable_genes_filtering\n",
       "1 FALSE              FALSE              1                       \n",
       "2 FALSE               TRUE              1                       \n",
       "  quantile_normalization_samples ribosomal_mitochondrial_gene_filtering\n",
       "1 FALSE                          FALSE                                 \n",
       "2 FALSE                          FALSE                                 \n",
       "  feature_wise_quantile_normalization\n",
       "1 TRUE                               \n",
       "2 TRUE                               "
      ]
     },
     "metadata": {},
     "output_type": "display_data"
    }
   ],
   "source": [
    "head(data_configs,2)"
   ]
  },
  {
   "cell_type": "code",
   "execution_count": 140,
   "id": "2f80b5d3-a2ce-4e70-9245-ccc67f7e1d06",
   "metadata": {},
   "outputs": [
    {
     "name": "stdout",
     "output_type": "stream",
     "text": [
      "[1] \"Library Adjustment for Prepared_sc_Data\"\n",
      "[1] \"Library Adjustment for Prepared_Neutrophil_Data\"\n"
     ]
    }
   ],
   "source": [
    "for(i in 1:nrow(data_configs)){\n",
    "    if((data_configs$library_adjustment[i] == 'TRUE')){\n",
    "        \n",
    "        print(paste0('Library Adjustment for ',data_configs$data_name[i]))\n",
    "        \n",
    "        data = datasets[[data_configs$configuration_name[i]]][[data_configs$data_name[i]]]\n",
    "\n",
    "        ### Calculate scaling factor per sample\n",
    "        data = data %>% group_by(sample_id,type) %>% mutate(sample_counts = sum(value))\n",
    "        data = data %>% group_by(type) %>% mutate(mean_sample_counts = mean(sample_counts))\n",
    "        \n",
    "        data$scaling_factor = data$sample_counts/ data$mean_sample_counts\n",
    "        data$scaling_factor[data$scaling_factor == 0] = 1 # avoid dividing by 0; TBD whether to include or exclude samples with only zero counts in a cell-type\n",
    "        \n",
    "        ### Apply scaling to counts\n",
    "        \n",
    "        data$value = data$value / data$scaling_factor\n",
    "        \n",
    "        ### Save transformed data to list\n",
    "        datasets[[data_configs$configuration_name[i]]][[data_configs$data_name[i]]] = data\n",
    "        \n",
    "        }\n",
    "    }\n",
    "        "
   ]
  },
  {
   "cell_type": "code",
   "execution_count": 141,
   "id": "134b0779-1055-4226-bc22-bc5029279e3b",
   "metadata": {
    "tags": []
   },
   "outputs": [
    {
     "data": {
      "text/html": [
       "'MI_v1'"
      ],
      "text/latex": [
       "'MI\\_v1'"
      ],
      "text/markdown": [
       "'MI_v1'"
      ],
      "text/plain": [
       "[1] \"MI_v1\""
      ]
     },
     "metadata": {},
     "output_type": "display_data"
    }
   ],
   "source": [
    "names(datasets)"
   ]
  },
  {
   "cell_type": "markdown",
   "id": "ee1b7c55-f0a7-4104-956b-e9c68193dec2",
   "metadata": {
    "tags": []
   },
   "source": [
    "## Gene Filtering (according to cells expressing genes - only for sc Data)"
   ]
  },
  {
   "cell_type": "code",
   "execution_count": 142,
   "id": "da5b0f49-d0eb-49ae-b891-b92167bcec81",
   "metadata": {},
   "outputs": [],
   "source": [
    "### Remove genes from the single-cell dataset that are expressed in a too low amount of cells"
   ]
  },
  {
   "cell_type": "code",
   "execution_count": 143,
   "id": "c69fefaf-695b-4015-a767-fa4df65abd42",
   "metadata": {},
   "outputs": [
    {
     "data": {
      "text/html": [
       "<table class=\"dataframe\">\n",
       "<caption>A data.frame: 1 x 6</caption>\n",
       "<thead>\n",
       "\t<tr><th></th><th scope=col>configuration_name</th><th scope=col>data_name</th><th scope=col>data_type</th><th scope=col>cell_type_exclusion</th><th scope=col>cell_expr_thres1</th><th scope=col>cell_expr_thres2</th></tr>\n",
       "\t<tr><th></th><th scope=col>&lt;chr&gt;</th><th scope=col>&lt;chr&gt;</th><th scope=col>&lt;chr&gt;</th><th scope=col>&lt;chr&gt;</th><th scope=col>&lt;chr&gt;</th><th scope=col>&lt;chr&gt;</th></tr>\n",
       "</thead>\n",
       "<tbody>\n",
       "\t<tr><th scope=row>1</th><td>MI_v1</td><td>Prepared_sc_Data</td><td>h5ad</td><td>Platelet,Plasmablast,pDC,Eryth,Doublet,dnT,cdC1,CD8 TCM,CD8 Proliferating,CD4 Proliferating,NK Proliferating,ASDC,NK_CD56bright,ILC,MAIT,HSPC</td><td>50;10</td><td>40;20</td></tr>\n",
       "</tbody>\n",
       "</table>\n"
      ],
      "text/latex": [
       "A data.frame: 1 x 6\n",
       "\\begin{tabular}{r|llllll}\n",
       "  & configuration\\_name & data\\_name & data\\_type & cell\\_type\\_exclusion & cell\\_expr\\_thres1 & cell\\_expr\\_thres2\\\\\n",
       "  & <chr> & <chr> & <chr> & <chr> & <chr> & <chr>\\\\\n",
       "\\hline\n",
       "\t1 & MI\\_v1 & Prepared\\_sc\\_Data & h5ad & Platelet,Plasmablast,pDC,Eryth,Doublet,dnT,cdC1,CD8 TCM,CD8 Proliferating,CD4 Proliferating,NK Proliferating,ASDC,NK\\_CD56bright,ILC,MAIT,HSPC & 50;10 & 40;20\\\\\n",
       "\\end{tabular}\n"
      ],
      "text/markdown": [
       "\n",
       "A data.frame: 1 x 6\n",
       "\n",
       "| <!--/--> | configuration_name &lt;chr&gt; | data_name &lt;chr&gt; | data_type &lt;chr&gt; | cell_type_exclusion &lt;chr&gt; | cell_expr_thres1 &lt;chr&gt; | cell_expr_thres2 &lt;chr&gt; |\n",
       "|---|---|---|---|---|---|---|\n",
       "| 1 | MI_v1 | Prepared_sc_Data | h5ad | Platelet,Plasmablast,pDC,Eryth,Doublet,dnT,cdC1,CD8 TCM,CD8 Proliferating,CD4 Proliferating,NK Proliferating,ASDC,NK_CD56bright,ILC,MAIT,HSPC | 50;10 | 40;20 |\n",
       "\n"
      ],
      "text/plain": [
       "  configuration_name data_name        data_type\n",
       "1 MI_v1              Prepared_sc_Data h5ad     \n",
       "  cell_type_exclusion                                                                                                                          \n",
       "1 Platelet,Plasmablast,pDC,Eryth,Doublet,dnT,cdC1,CD8 TCM,CD8 Proliferating,CD4 Proliferating,NK Proliferating,ASDC,NK_CD56bright,ILC,MAIT,HSPC\n",
       "  cell_expr_thres1 cell_expr_thres2\n",
       "1 50;10            40;20           "
      ]
     },
     "metadata": {},
     "output_type": "display_data"
    }
   ],
   "source": [
    "head(sc_configs,2)"
   ]
  },
  {
   "cell_type": "code",
   "execution_count": 144,
   "id": "e128db00-559f-439d-a32a-6d90f163191e",
   "metadata": {},
   "outputs": [],
   "source": [
    "## Load gene filtering information from previous script"
   ]
  },
  {
   "cell_type": "code",
   "execution_count": 145,
   "id": "bde631de-b39c-4850-bfb5-dc35bc8fcfbc",
   "metadata": {
    "tags": []
   },
   "outputs": [],
   "source": [
    "gene_expression_info = data.frame()"
   ]
  },
  {
   "cell_type": "code",
   "execution_count": 146,
   "id": "669ff6ec-43d7-459e-8081-28ef6ba617ce",
   "metadata": {
    "tags": []
   },
   "outputs": [],
   "source": [
    "for(i in sc_configs$data_name){\n",
    "    data= read.csv(paste0(result_path, '/01_results/01_' ,i, '_Gene_Expr_per_Cell_Type.csv'))\n",
    "    data$X = NULL\n",
    "    \n",
    "    data$data_name = i\n",
    "    gene_expression_info = rbind(gene_expression_info, data)\n",
    "    }"
   ]
  },
  {
   "cell_type": "code",
   "execution_count": 147,
   "id": "22c7e69a-56f3-4305-bdfc-4a74e0e5efc2",
   "metadata": {},
   "outputs": [
    {
     "data": {
      "text/html": [
       "<table class=\"dataframe\">\n",
       "<caption>A data.frame: 2 x 6</caption>\n",
       "<thead>\n",
       "\t<tr><th></th><th scope=col>perc_cells_expressing_gene</th><th scope=col>total_amount_cells_expressing_gene</th><th scope=col>gene</th><th scope=col>cluster</th><th scope=col>dataset</th><th scope=col>data_name</th></tr>\n",
       "\t<tr><th></th><th scope=col>&lt;dbl&gt;</th><th scope=col>&lt;int&gt;</th><th scope=col>&lt;chr&gt;</th><th scope=col>&lt;chr&gt;</th><th scope=col>&lt;chr&gt;</th><th scope=col>&lt;chr&gt;</th></tr>\n",
       "</thead>\n",
       "<tbody>\n",
       "\t<tr><th scope=row>1</th><td>0.23400142</td><td>23</td><td>AL627309.1</td><td>B cell</td><td>Prepared_sc_Data</td><td>Prepared_sc_Data</td></tr>\n",
       "\t<tr><th scope=row>2</th><td>0.06104385</td><td> 6</td><td>AL627309.4</td><td>B cell</td><td>Prepared_sc_Data</td><td>Prepared_sc_Data</td></tr>\n",
       "</tbody>\n",
       "</table>\n"
      ],
      "text/latex": [
       "A data.frame: 2 x 6\n",
       "\\begin{tabular}{r|llllll}\n",
       "  & perc\\_cells\\_expressing\\_gene & total\\_amount\\_cells\\_expressing\\_gene & gene & cluster & dataset & data\\_name\\\\\n",
       "  & <dbl> & <int> & <chr> & <chr> & <chr> & <chr>\\\\\n",
       "\\hline\n",
       "\t1 & 0.23400142 & 23 & AL627309.1 & B cell & Prepared\\_sc\\_Data & Prepared\\_sc\\_Data\\\\\n",
       "\t2 & 0.06104385 &  6 & AL627309.4 & B cell & Prepared\\_sc\\_Data & Prepared\\_sc\\_Data\\\\\n",
       "\\end{tabular}\n"
      ],
      "text/markdown": [
       "\n",
       "A data.frame: 2 x 6\n",
       "\n",
       "| <!--/--> | perc_cells_expressing_gene &lt;dbl&gt; | total_amount_cells_expressing_gene &lt;int&gt; | gene &lt;chr&gt; | cluster &lt;chr&gt; | dataset &lt;chr&gt; | data_name &lt;chr&gt; |\n",
       "|---|---|---|---|---|---|---|\n",
       "| 1 | 0.23400142 | 23 | AL627309.1 | B cell | Prepared_sc_Data | Prepared_sc_Data |\n",
       "| 2 | 0.06104385 |  6 | AL627309.4 | B cell | Prepared_sc_Data | Prepared_sc_Data |\n",
       "\n"
      ],
      "text/plain": [
       "  perc_cells_expressing_gene total_amount_cells_expressing_gene gene      \n",
       "1 0.23400142                 23                                 AL627309.1\n",
       "2 0.06104385                  6                                 AL627309.4\n",
       "  cluster dataset          data_name       \n",
       "1 B cell  Prepared_sc_Data Prepared_sc_Data\n",
       "2 B cell  Prepared_sc_Data Prepared_sc_Data"
      ]
     },
     "metadata": {},
     "output_type": "display_data"
    }
   ],
   "source": [
    "head(gene_expression_info,2)"
   ]
  },
  {
   "cell_type": "code",
   "execution_count": 148,
   "id": "27deb86a-b06c-4094-953d-6eb625a3aed6",
   "metadata": {
    "tags": []
   },
   "outputs": [
    {
     "data": {
      "text/html": [
       "<table class=\"dataframe\">\n",
       "<caption>A data.frame: 1 x 6</caption>\n",
       "<thead>\n",
       "\t<tr><th></th><th scope=col>configuration_name</th><th scope=col>data_name</th><th scope=col>data_type</th><th scope=col>cell_type_exclusion</th><th scope=col>cell_expr_thres1</th><th scope=col>cell_expr_thres2</th></tr>\n",
       "\t<tr><th></th><th scope=col>&lt;chr&gt;</th><th scope=col>&lt;chr&gt;</th><th scope=col>&lt;chr&gt;</th><th scope=col>&lt;chr&gt;</th><th scope=col>&lt;chr&gt;</th><th scope=col>&lt;chr&gt;</th></tr>\n",
       "</thead>\n",
       "<tbody>\n",
       "\t<tr><th scope=row>1</th><td>MI_v1</td><td>Prepared_sc_Data</td><td>h5ad</td><td>Platelet,Plasmablast,pDC,Eryth,Doublet,dnT,cdC1,CD8 TCM,CD8 Proliferating,CD4 Proliferating,NK Proliferating,ASDC,NK_CD56bright,ILC,MAIT,HSPC</td><td>50;10</td><td>40;20</td></tr>\n",
       "</tbody>\n",
       "</table>\n"
      ],
      "text/latex": [
       "A data.frame: 1 x 6\n",
       "\\begin{tabular}{r|llllll}\n",
       "  & configuration\\_name & data\\_name & data\\_type & cell\\_type\\_exclusion & cell\\_expr\\_thres1 & cell\\_expr\\_thres2\\\\\n",
       "  & <chr> & <chr> & <chr> & <chr> & <chr> & <chr>\\\\\n",
       "\\hline\n",
       "\t1 & MI\\_v1 & Prepared\\_sc\\_Data & h5ad & Platelet,Plasmablast,pDC,Eryth,Doublet,dnT,cdC1,CD8 TCM,CD8 Proliferating,CD4 Proliferating,NK Proliferating,ASDC,NK\\_CD56bright,ILC,MAIT,HSPC & 50;10 & 40;20\\\\\n",
       "\\end{tabular}\n"
      ],
      "text/markdown": [
       "\n",
       "A data.frame: 1 x 6\n",
       "\n",
       "| <!--/--> | configuration_name &lt;chr&gt; | data_name &lt;chr&gt; | data_type &lt;chr&gt; | cell_type_exclusion &lt;chr&gt; | cell_expr_thres1 &lt;chr&gt; | cell_expr_thres2 &lt;chr&gt; |\n",
       "|---|---|---|---|---|---|---|\n",
       "| 1 | MI_v1 | Prepared_sc_Data | h5ad | Platelet,Plasmablast,pDC,Eryth,Doublet,dnT,cdC1,CD8 TCM,CD8 Proliferating,CD4 Proliferating,NK Proliferating,ASDC,NK_CD56bright,ILC,MAIT,HSPC | 50;10 | 40;20 |\n",
       "\n"
      ],
      "text/plain": [
       "  configuration_name data_name        data_type\n",
       "1 MI_v1              Prepared_sc_Data h5ad     \n",
       "  cell_type_exclusion                                                                                                                          \n",
       "1 Platelet,Plasmablast,pDC,Eryth,Doublet,dnT,cdC1,CD8 TCM,CD8 Proliferating,CD4 Proliferating,NK Proliferating,ASDC,NK_CD56bright,ILC,MAIT,HSPC\n",
       "  cell_expr_thres1 cell_expr_thres2\n",
       "1 50;10            40;20           "
      ]
     },
     "metadata": {},
     "output_type": "display_data"
    }
   ],
   "source": [
    "sc_configs"
   ]
  },
  {
   "cell_type": "code",
   "execution_count": 149,
   "id": "f2710d81-ddf8-4b8d-9618-ccf9a011b32f",
   "metadata": {},
   "outputs": [
    {
     "name": "stdout",
     "output_type": "stream",
     "text": [
      "[1] \"Gene Filtering for  MI_v1\"\n",
      "[1] \"Amount Samples119\"\n"
     ]
    }
   ],
   "source": [
    "if(nrow(sc_configs) > 0){\n",
    "for(i in unique(gene_expression_info$data_name)){\n",
    "        \n",
    "        print(paste0('Gene Filtering for  ',sc_configs$configuration_name[sc_configs$data_name == i]))\n",
    "        \n",
    "        data = datasets[[sc_configs$configuration_name[sc_configs$data_name == i]]][[i]]\n",
    "        gene_expr_data = gene_expression_info[gene_expression_info$data_name == i,]\n",
    "    \n",
    "        ## Get thresholds for config\n",
    "        thres1 = as.numeric(unlist(str_split(sc_configs$cell_expr_thres1[sc_configs$data_name == i], ';')))\n",
    "        thres2 = as.numeric(unlist(str_split(sc_configs$cell_expr_thres2[sc_configs$data_name == i], ';')))\n",
    "        amount_samples = length(unique(data$sample_id))\n",
    "        print(paste0('Amount Samples', amount_samples))\n",
    "    \n",
    "        ## Filter down gene based on the expression info\n",
    "        gene_filtering =  gene_expr_data[((     gene_expr_data$perc_cells > thres1[1]) & (     gene_expr_data$total_amount_cells_expressing_gene > amount_samples * thres1[2])) |\n",
    "         ((     gene_expr_data$perc_cells > thres2[1]) & (     gene_expr_data$total_amount_cells_expressing_gene > amount_samples * thres2[2])) ,]\n",
    "    \n",
    "        ## Apply to thresholds set in the configuration file\n",
    "        filtered_data = data.frame()\n",
    "        for( k in unique(data$type)){\n",
    "            data_cluster = data[(data$type == k) & (data$variable %in% gene_filtering$gene[gene_filtering$cluster == k]),]\n",
    "            filtered_data = rbind(filtered_data, data_cluster)\n",
    "            }\n",
    "        datasets[[sc_configs$configuration_name[sc_configs$data_name == i]]][[i]] = filtered_data\n",
    "    }\n",
    "    }"
   ]
  },
  {
   "cell_type": "code",
   "execution_count": 150,
   "id": "dd543378-0594-4789-a234-98db4d60bd0c",
   "metadata": {},
   "outputs": [],
   "source": [
    "### Amount of genes after filtering"
   ]
  },
  {
   "cell_type": "code",
   "execution_count": 151,
   "id": "655f050c-272c-4027-b561-df16a0a50a73",
   "metadata": {},
   "outputs": [],
   "source": [
    "#unique(datasets[[1]][['Prepared_sc_Data']][,c('type', 'variable')])%>% group_by(type) %>% dplyr::count()"
   ]
  },
  {
   "cell_type": "code",
   "execution_count": 152,
   "id": "d77220c9-386c-4ae1-ac14-fde5f6b6ee09",
   "metadata": {
    "tags": []
   },
   "outputs": [
    {
     "data": {
      "text/html": [
       "<table class=\"dataframe\">\n",
       "<caption>A grouped_df: 2 x 8</caption>\n",
       "<thead>\n",
       "\t<tr><th scope=col>type</th><th scope=col>variable</th><th scope=col>sample_id</th><th scope=col>dataset</th><th scope=col>value</th><th scope=col>sample_counts</th><th scope=col>mean_sample_counts</th><th scope=col>scaling_factor</th></tr>\n",
       "\t<tr><th scope=col>&lt;chr&gt;</th><th scope=col>&lt;chr&gt;</th><th scope=col>&lt;chr&gt;</th><th scope=col>&lt;chr&gt;</th><th scope=col>&lt;dbl&gt;</th><th scope=col>&lt;dbl&gt;</th><th scope=col>&lt;dbl&gt;</th><th scope=col>&lt;dbl&gt;</th></tr>\n",
       "</thead>\n",
       "<tbody>\n",
       "\t<tr><td>B cell</td><td>ACTB</td><td>k10</td><td>Prepared_sc_Data</td><td>9.099435</td><td>6192.328</td><td>4954.368</td><td>1.2498726</td></tr>\n",
       "\t<tr><td>B cell</td><td>ACTB</td><td>k11</td><td>Prepared_sc_Data</td><td>6.540224</td><td>3706.186</td><td>4954.368</td><td>0.7480643</td></tr>\n",
       "</tbody>\n",
       "</table>\n"
      ],
      "text/latex": [
       "A grouped\\_df: 2 x 8\n",
       "\\begin{tabular}{llllllll}\n",
       " type & variable & sample\\_id & dataset & value & sample\\_counts & mean\\_sample\\_counts & scaling\\_factor\\\\\n",
       " <chr> & <chr> & <chr> & <chr> & <dbl> & <dbl> & <dbl> & <dbl>\\\\\n",
       "\\hline\n",
       "\t B cell & ACTB & k10 & Prepared\\_sc\\_Data & 9.099435 & 6192.328 & 4954.368 & 1.2498726\\\\\n",
       "\t B cell & ACTB & k11 & Prepared\\_sc\\_Data & 6.540224 & 3706.186 & 4954.368 & 0.7480643\\\\\n",
       "\\end{tabular}\n"
      ],
      "text/markdown": [
       "\n",
       "A grouped_df: 2 x 8\n",
       "\n",
       "| type &lt;chr&gt; | variable &lt;chr&gt; | sample_id &lt;chr&gt; | dataset &lt;chr&gt; | value &lt;dbl&gt; | sample_counts &lt;dbl&gt; | mean_sample_counts &lt;dbl&gt; | scaling_factor &lt;dbl&gt; |\n",
       "|---|---|---|---|---|---|---|---|\n",
       "| B cell | ACTB | k10 | Prepared_sc_Data | 9.099435 | 6192.328 | 4954.368 | 1.2498726 |\n",
       "| B cell | ACTB | k11 | Prepared_sc_Data | 6.540224 | 3706.186 | 4954.368 | 0.7480643 |\n",
       "\n"
      ],
      "text/plain": [
       "  type   variable sample_id dataset          value    sample_counts\n",
       "1 B cell ACTB     k10       Prepared_sc_Data 9.099435 6192.328     \n",
       "2 B cell ACTB     k11       Prepared_sc_Data 6.540224 3706.186     \n",
       "  mean_sample_counts scaling_factor\n",
       "1 4954.368           1.2498726     \n",
       "2 4954.368           0.7480643     "
      ]
     },
     "metadata": {},
     "output_type": "display_data"
    }
   ],
   "source": [
    "head(filtered_data,2)"
   ]
  },
  {
   "cell_type": "code",
   "execution_count": 153,
   "id": "cf50fd94-d37b-48db-b92c-ee3ae673251f",
   "metadata": {
    "tags": []
   },
   "outputs": [],
   "source": [
    "#str(datasets)"
   ]
  },
  {
   "cell_type": "markdown",
   "id": "d6753537-6acf-4340-98ad-ee5ed8fce101",
   "metadata": {},
   "source": [
    "## Log Transformation"
   ]
  },
  {
   "cell_type": "code",
   "execution_count": 154,
   "id": "8348bad4-3f74-4e77-9fb6-5cac40014e32",
   "metadata": {},
   "outputs": [],
   "source": [
    "## Apply log transformation to the data types specified in the configuration file"
   ]
  },
  {
   "cell_type": "code",
   "execution_count": 155,
   "id": "31452215-cd3d-44b0-8fb0-981266832e91",
   "metadata": {},
   "outputs": [
    {
     "data": {
      "text/html": [
       "<table class=\"dataframe\">\n",
       "<caption>A data.frame: 2 x 13</caption>\n",
       "<thead>\n",
       "\t<tr><th></th><th scope=col>configuration_name</th><th scope=col>data_name</th><th scope=col>file_type</th><th scope=col>data_type</th><th scope=col>remove_sample_ids</th><th scope=col>sample_filtering_thres</th><th scope=col>feature_filtering_thres</th><th scope=col>library_adjustment</th><th scope=col>log_transformation</th><th scope=col>variable_genes_filtering</th><th scope=col>quantile_normalization_samples</th><th scope=col>ribosomal_mitochondrial_gene_filtering</th><th scope=col>feature_wise_quantile_normalization</th></tr>\n",
       "\t<tr><th></th><th scope=col>&lt;chr&gt;</th><th scope=col>&lt;chr&gt;</th><th scope=col>&lt;chr&gt;</th><th scope=col>&lt;chr&gt;</th><th scope=col>&lt;lgl&gt;</th><th scope=col>&lt;dbl&gt;</th><th scope=col>&lt;dbl&gt;</th><th scope=col>&lt;lgl&gt;</th><th scope=col>&lt;lgl&gt;</th><th scope=col>&lt;dbl&gt;</th><th scope=col>&lt;lgl&gt;</th><th scope=col>&lt;lgl&gt;</th><th scope=col>&lt;lgl&gt;</th></tr>\n",
       "</thead>\n",
       "<tbody>\n",
       "\t<tr><th scope=row>1</th><td>MI_v1</td><td>Prepared_Proteomic_Data</td><td>csv</td><td>proteomic</td><td>NA</td><td>1</td><td>0.2</td><td>FALSE</td><td>FALSE</td><td>1</td><td>FALSE</td><td>FALSE</td><td>TRUE</td></tr>\n",
       "\t<tr><th scope=row>2</th><td>MI_v1</td><td>Prepared_Cytokine_Data </td><td>csv</td><td>cytokine </td><td>NA</td><td>1</td><td>0.2</td><td>FALSE</td><td> TRUE</td><td>1</td><td>FALSE</td><td>FALSE</td><td>TRUE</td></tr>\n",
       "</tbody>\n",
       "</table>\n"
      ],
      "text/latex": [
       "A data.frame: 2 x 13\n",
       "\\begin{tabular}{r|lllllllllllll}\n",
       "  & configuration\\_name & data\\_name & file\\_type & data\\_type & remove\\_sample\\_ids & sample\\_filtering\\_thres & feature\\_filtering\\_thres & library\\_adjustment & log\\_transformation & variable\\_genes\\_filtering & quantile\\_normalization\\_samples & ribosomal\\_mitochondrial\\_gene\\_filtering & feature\\_wise\\_quantile\\_normalization\\\\\n",
       "  & <chr> & <chr> & <chr> & <chr> & <lgl> & <dbl> & <dbl> & <lgl> & <lgl> & <dbl> & <lgl> & <lgl> & <lgl>\\\\\n",
       "\\hline\n",
       "\t1 & MI\\_v1 & Prepared\\_Proteomic\\_Data & csv & proteomic & NA & 1 & 0.2 & FALSE & FALSE & 1 & FALSE & FALSE & TRUE\\\\\n",
       "\t2 & MI\\_v1 & Prepared\\_Cytokine\\_Data  & csv & cytokine  & NA & 1 & 0.2 & FALSE &  TRUE & 1 & FALSE & FALSE & TRUE\\\\\n",
       "\\end{tabular}\n"
      ],
      "text/markdown": [
       "\n",
       "A data.frame: 2 x 13\n",
       "\n",
       "| <!--/--> | configuration_name &lt;chr&gt; | data_name &lt;chr&gt; | file_type &lt;chr&gt; | data_type &lt;chr&gt; | remove_sample_ids &lt;lgl&gt; | sample_filtering_thres &lt;dbl&gt; | feature_filtering_thres &lt;dbl&gt; | library_adjustment &lt;lgl&gt; | log_transformation &lt;lgl&gt; | variable_genes_filtering &lt;dbl&gt; | quantile_normalization_samples &lt;lgl&gt; | ribosomal_mitochondrial_gene_filtering &lt;lgl&gt; | feature_wise_quantile_normalization &lt;lgl&gt; |\n",
       "|---|---|---|---|---|---|---|---|---|---|---|---|---|---|\n",
       "| 1 | MI_v1 | Prepared_Proteomic_Data | csv | proteomic | NA | 1 | 0.2 | FALSE | FALSE | 1 | FALSE | FALSE | TRUE |\n",
       "| 2 | MI_v1 | Prepared_Cytokine_Data  | csv | cytokine  | NA | 1 | 0.2 | FALSE |  TRUE | 1 | FALSE | FALSE | TRUE |\n",
       "\n"
      ],
      "text/plain": [
       "  configuration_name data_name               file_type data_type\n",
       "1 MI_v1              Prepared_Proteomic_Data csv       proteomic\n",
       "2 MI_v1              Prepared_Cytokine_Data  csv       cytokine \n",
       "  remove_sample_ids sample_filtering_thres feature_filtering_thres\n",
       "1 NA                1                      0.2                    \n",
       "2 NA                1                      0.2                    \n",
       "  library_adjustment log_transformation variable_genes_filtering\n",
       "1 FALSE              FALSE              1                       \n",
       "2 FALSE               TRUE              1                       \n",
       "  quantile_normalization_samples ribosomal_mitochondrial_gene_filtering\n",
       "1 FALSE                          FALSE                                 \n",
       "2 FALSE                          FALSE                                 \n",
       "  feature_wise_quantile_normalization\n",
       "1 TRUE                               \n",
       "2 TRUE                               "
      ]
     },
     "metadata": {},
     "output_type": "display_data"
    }
   ],
   "source": [
    "head(data_configs,2)"
   ]
  },
  {
   "cell_type": "code",
   "execution_count": 156,
   "id": "86e9e142-30b8-4691-9779-47835d7c0b2b",
   "metadata": {
    "tags": []
   },
   "outputs": [
    {
     "data": {
      "text/html": [
       "<table class=\"dataframe\">\n",
       "<caption>A data.frame: 5 x 13</caption>\n",
       "<thead>\n",
       "\t<tr><th></th><th scope=col>configuration_name</th><th scope=col>data_name</th><th scope=col>file_type</th><th scope=col>data_type</th><th scope=col>remove_sample_ids</th><th scope=col>sample_filtering_thres</th><th scope=col>feature_filtering_thres</th><th scope=col>library_adjustment</th><th scope=col>log_transformation</th><th scope=col>variable_genes_filtering</th><th scope=col>quantile_normalization_samples</th><th scope=col>ribosomal_mitochondrial_gene_filtering</th><th scope=col>feature_wise_quantile_normalization</th></tr>\n",
       "\t<tr><th></th><th scope=col>&lt;chr&gt;</th><th scope=col>&lt;chr&gt;</th><th scope=col>&lt;chr&gt;</th><th scope=col>&lt;chr&gt;</th><th scope=col>&lt;lgl&gt;</th><th scope=col>&lt;dbl&gt;</th><th scope=col>&lt;dbl&gt;</th><th scope=col>&lt;lgl&gt;</th><th scope=col>&lt;lgl&gt;</th><th scope=col>&lt;dbl&gt;</th><th scope=col>&lt;lgl&gt;</th><th scope=col>&lt;lgl&gt;</th><th scope=col>&lt;lgl&gt;</th></tr>\n",
       "</thead>\n",
       "<tbody>\n",
       "\t<tr><th scope=row>1</th><td>MI_v1</td><td>Prepared_Proteomic_Data </td><td>csv </td><td>proteomic </td><td>NA</td><td>1.0</td><td>0.20</td><td>FALSE</td><td>FALSE</td><td>1.00</td><td>FALSE</td><td>FALSE</td><td>TRUE</td></tr>\n",
       "\t<tr><th scope=row>2</th><td>MI_v1</td><td>Prepared_Cytokine_Data  </td><td>csv </td><td>cytokine  </td><td>NA</td><td>1.0</td><td>0.20</td><td>FALSE</td><td> TRUE</td><td>1.00</td><td>FALSE</td><td>FALSE</td><td>TRUE</td></tr>\n",
       "\t<tr><th scope=row>3</th><td>MI_v1</td><td>Prepared_Clinical_Data  </td><td>csv </td><td>clinical  </td><td>NA</td><td>1.0</td><td>0.20</td><td>FALSE</td><td> TRUE</td><td>1.00</td><td>FALSE</td><td>FALSE</td><td>TRUE</td></tr>\n",
       "\t<tr><th scope=row>4</th><td>MI_v1</td><td>Prepared_sc_Data        </td><td>h5ad</td><td>sc        </td><td>NA</td><td>1.0</td><td>0.05</td><td> TRUE</td><td> TRUE</td><td>1.00</td><td> TRUE</td><td> TRUE</td><td>TRUE</td></tr>\n",
       "\t<tr><th scope=row>5</th><td>MI_v1</td><td>Prepared_Neutrophil_Data</td><td>csv </td><td>neutrophil</td><td>NA</td><td>0.9</td><td>0.80</td><td> TRUE</td><td> TRUE</td><td>0.75</td><td> TRUE</td><td> TRUE</td><td>TRUE</td></tr>\n",
       "</tbody>\n",
       "</table>\n"
      ],
      "text/latex": [
       "A data.frame: 5 x 13\n",
       "\\begin{tabular}{r|lllllllllllll}\n",
       "  & configuration\\_name & data\\_name & file\\_type & data\\_type & remove\\_sample\\_ids & sample\\_filtering\\_thres & feature\\_filtering\\_thres & library\\_adjustment & log\\_transformation & variable\\_genes\\_filtering & quantile\\_normalization\\_samples & ribosomal\\_mitochondrial\\_gene\\_filtering & feature\\_wise\\_quantile\\_normalization\\\\\n",
       "  & <chr> & <chr> & <chr> & <chr> & <lgl> & <dbl> & <dbl> & <lgl> & <lgl> & <dbl> & <lgl> & <lgl> & <lgl>\\\\\n",
       "\\hline\n",
       "\t1 & MI\\_v1 & Prepared\\_Proteomic\\_Data  & csv  & proteomic  & NA & 1.0 & 0.20 & FALSE & FALSE & 1.00 & FALSE & FALSE & TRUE\\\\\n",
       "\t2 & MI\\_v1 & Prepared\\_Cytokine\\_Data   & csv  & cytokine   & NA & 1.0 & 0.20 & FALSE &  TRUE & 1.00 & FALSE & FALSE & TRUE\\\\\n",
       "\t3 & MI\\_v1 & Prepared\\_Clinical\\_Data   & csv  & clinical   & NA & 1.0 & 0.20 & FALSE &  TRUE & 1.00 & FALSE & FALSE & TRUE\\\\\n",
       "\t4 & MI\\_v1 & Prepared\\_sc\\_Data         & h5ad & sc         & NA & 1.0 & 0.05 &  TRUE &  TRUE & 1.00 &  TRUE &  TRUE & TRUE\\\\\n",
       "\t5 & MI\\_v1 & Prepared\\_Neutrophil\\_Data & csv  & neutrophil & NA & 0.9 & 0.80 &  TRUE &  TRUE & 0.75 &  TRUE &  TRUE & TRUE\\\\\n",
       "\\end{tabular}\n"
      ],
      "text/markdown": [
       "\n",
       "A data.frame: 5 x 13\n",
       "\n",
       "| <!--/--> | configuration_name &lt;chr&gt; | data_name &lt;chr&gt; | file_type &lt;chr&gt; | data_type &lt;chr&gt; | remove_sample_ids &lt;lgl&gt; | sample_filtering_thres &lt;dbl&gt; | feature_filtering_thres &lt;dbl&gt; | library_adjustment &lt;lgl&gt; | log_transformation &lt;lgl&gt; | variable_genes_filtering &lt;dbl&gt; | quantile_normalization_samples &lt;lgl&gt; | ribosomal_mitochondrial_gene_filtering &lt;lgl&gt; | feature_wise_quantile_normalization &lt;lgl&gt; |\n",
       "|---|---|---|---|---|---|---|---|---|---|---|---|---|---|\n",
       "| 1 | MI_v1 | Prepared_Proteomic_Data  | csv  | proteomic  | NA | 1.0 | 0.20 | FALSE | FALSE | 1.00 | FALSE | FALSE | TRUE |\n",
       "| 2 | MI_v1 | Prepared_Cytokine_Data   | csv  | cytokine   | NA | 1.0 | 0.20 | FALSE |  TRUE | 1.00 | FALSE | FALSE | TRUE |\n",
       "| 3 | MI_v1 | Prepared_Clinical_Data   | csv  | clinical   | NA | 1.0 | 0.20 | FALSE |  TRUE | 1.00 | FALSE | FALSE | TRUE |\n",
       "| 4 | MI_v1 | Prepared_sc_Data         | h5ad | sc         | NA | 1.0 | 0.05 |  TRUE |  TRUE | 1.00 |  TRUE |  TRUE | TRUE |\n",
       "| 5 | MI_v1 | Prepared_Neutrophil_Data | csv  | neutrophil | NA | 0.9 | 0.80 |  TRUE |  TRUE | 0.75 |  TRUE |  TRUE | TRUE |\n",
       "\n"
      ],
      "text/plain": [
       "  configuration_name data_name                file_type data_type \n",
       "1 MI_v1              Prepared_Proteomic_Data  csv       proteomic \n",
       "2 MI_v1              Prepared_Cytokine_Data   csv       cytokine  \n",
       "3 MI_v1              Prepared_Clinical_Data   csv       clinical  \n",
       "4 MI_v1              Prepared_sc_Data         h5ad      sc        \n",
       "5 MI_v1              Prepared_Neutrophil_Data csv       neutrophil\n",
       "  remove_sample_ids sample_filtering_thres feature_filtering_thres\n",
       "1 NA                1.0                    0.20                   \n",
       "2 NA                1.0                    0.20                   \n",
       "3 NA                1.0                    0.20                   \n",
       "4 NA                1.0                    0.05                   \n",
       "5 NA                0.9                    0.80                   \n",
       "  library_adjustment log_transformation variable_genes_filtering\n",
       "1 FALSE              FALSE              1.00                    \n",
       "2 FALSE               TRUE              1.00                    \n",
       "3 FALSE               TRUE              1.00                    \n",
       "4  TRUE               TRUE              1.00                    \n",
       "5  TRUE               TRUE              0.75                    \n",
       "  quantile_normalization_samples ribosomal_mitochondrial_gene_filtering\n",
       "1 FALSE                          FALSE                                 \n",
       "2 FALSE                          FALSE                                 \n",
       "3 FALSE                          FALSE                                 \n",
       "4  TRUE                           TRUE                                 \n",
       "5  TRUE                           TRUE                                 \n",
       "  feature_wise_quantile_normalization\n",
       "1 TRUE                               \n",
       "2 TRUE                               \n",
       "3 TRUE                               \n",
       "4 TRUE                               \n",
       "5 TRUE                               "
      ]
     },
     "metadata": {},
     "output_type": "display_data"
    }
   ],
   "source": [
    "data_configs"
   ]
  },
  {
   "cell_type": "code",
   "execution_count": 157,
   "id": "1637342a-998f-48c9-8936-1fc8aedae95c",
   "metadata": {},
   "outputs": [
    {
     "name": "stdout",
     "output_type": "stream",
     "text": [
      "[1] \"Log Transformation for Prepared_Cytokine_Data\"\n",
      "[1] \"Log Transformation for Prepared_Clinical_Data\"\n",
      "[1] \"Log Transformation for Prepared_sc_Data\"\n",
      "[1] \"Log Transformation for Prepared_Neutrophil_Data\"\n"
     ]
    }
   ],
   "source": [
    "for(i in 1:nrow(data_configs)){\n",
    "    if((data_configs$log_transformation[i] == 'TRUE')){\n",
    "        \n",
    "        print(paste0('Log Transformation for ',data_configs$data_name[i]))\n",
    "        data = datasets[[data_configs$configuration_name[i]]][[data_configs$data_name[i]]]\n",
    "        \n",
    "        data$value = log2(data$value + 1)  # add pseudocount of 1\n",
    "        \n",
    "        datasets[[data_configs$configuration_name[i]]][[data_configs$data_name[i]]] = data # save adjusted data\n",
    "        }\n",
    "    }\n",
    "        \n",
    "        "
   ]
  },
  {
   "cell_type": "markdown",
   "id": "cfae2b56-5d07-497a-bb65-5e3ec85da893",
   "metadata": {},
   "source": [
    "## Variable Gene Filtering"
   ]
  },
  {
   "cell_type": "code",
   "execution_count": 158,
   "id": "4ba017f9-ff4d-498a-ad59-203b97ed75b5",
   "metadata": {},
   "outputs": [],
   "source": [
    "### Filter on highly variable genes if specified in the configuration file"
   ]
  },
  {
   "cell_type": "code",
   "execution_count": 159,
   "id": "4bfa6c94-18a3-4ba8-9f45-fa98656d816d",
   "metadata": {},
   "outputs": [
    {
     "data": {
      "text/html": [
       "<table class=\"dataframe\">\n",
       "<caption>A data.frame: 2 x 13</caption>\n",
       "<thead>\n",
       "\t<tr><th></th><th scope=col>configuration_name</th><th scope=col>data_name</th><th scope=col>file_type</th><th scope=col>data_type</th><th scope=col>remove_sample_ids</th><th scope=col>sample_filtering_thres</th><th scope=col>feature_filtering_thres</th><th scope=col>library_adjustment</th><th scope=col>log_transformation</th><th scope=col>variable_genes_filtering</th><th scope=col>quantile_normalization_samples</th><th scope=col>ribosomal_mitochondrial_gene_filtering</th><th scope=col>feature_wise_quantile_normalization</th></tr>\n",
       "\t<tr><th></th><th scope=col>&lt;chr&gt;</th><th scope=col>&lt;chr&gt;</th><th scope=col>&lt;chr&gt;</th><th scope=col>&lt;chr&gt;</th><th scope=col>&lt;lgl&gt;</th><th scope=col>&lt;dbl&gt;</th><th scope=col>&lt;dbl&gt;</th><th scope=col>&lt;lgl&gt;</th><th scope=col>&lt;lgl&gt;</th><th scope=col>&lt;dbl&gt;</th><th scope=col>&lt;lgl&gt;</th><th scope=col>&lt;lgl&gt;</th><th scope=col>&lt;lgl&gt;</th></tr>\n",
       "</thead>\n",
       "<tbody>\n",
       "\t<tr><th scope=row>1</th><td>MI_v1</td><td>Prepared_Proteomic_Data</td><td>csv</td><td>proteomic</td><td>NA</td><td>1</td><td>0.2</td><td>FALSE</td><td>FALSE</td><td>1</td><td>FALSE</td><td>FALSE</td><td>TRUE</td></tr>\n",
       "\t<tr><th scope=row>2</th><td>MI_v1</td><td>Prepared_Cytokine_Data </td><td>csv</td><td>cytokine </td><td>NA</td><td>1</td><td>0.2</td><td>FALSE</td><td> TRUE</td><td>1</td><td>FALSE</td><td>FALSE</td><td>TRUE</td></tr>\n",
       "</tbody>\n",
       "</table>\n"
      ],
      "text/latex": [
       "A data.frame: 2 x 13\n",
       "\\begin{tabular}{r|lllllllllllll}\n",
       "  & configuration\\_name & data\\_name & file\\_type & data\\_type & remove\\_sample\\_ids & sample\\_filtering\\_thres & feature\\_filtering\\_thres & library\\_adjustment & log\\_transformation & variable\\_genes\\_filtering & quantile\\_normalization\\_samples & ribosomal\\_mitochondrial\\_gene\\_filtering & feature\\_wise\\_quantile\\_normalization\\\\\n",
       "  & <chr> & <chr> & <chr> & <chr> & <lgl> & <dbl> & <dbl> & <lgl> & <lgl> & <dbl> & <lgl> & <lgl> & <lgl>\\\\\n",
       "\\hline\n",
       "\t1 & MI\\_v1 & Prepared\\_Proteomic\\_Data & csv & proteomic & NA & 1 & 0.2 & FALSE & FALSE & 1 & FALSE & FALSE & TRUE\\\\\n",
       "\t2 & MI\\_v1 & Prepared\\_Cytokine\\_Data  & csv & cytokine  & NA & 1 & 0.2 & FALSE &  TRUE & 1 & FALSE & FALSE & TRUE\\\\\n",
       "\\end{tabular}\n"
      ],
      "text/markdown": [
       "\n",
       "A data.frame: 2 x 13\n",
       "\n",
       "| <!--/--> | configuration_name &lt;chr&gt; | data_name &lt;chr&gt; | file_type &lt;chr&gt; | data_type &lt;chr&gt; | remove_sample_ids &lt;lgl&gt; | sample_filtering_thres &lt;dbl&gt; | feature_filtering_thres &lt;dbl&gt; | library_adjustment &lt;lgl&gt; | log_transformation &lt;lgl&gt; | variable_genes_filtering &lt;dbl&gt; | quantile_normalization_samples &lt;lgl&gt; | ribosomal_mitochondrial_gene_filtering &lt;lgl&gt; | feature_wise_quantile_normalization &lt;lgl&gt; |\n",
       "|---|---|---|---|---|---|---|---|---|---|---|---|---|---|\n",
       "| 1 | MI_v1 | Prepared_Proteomic_Data | csv | proteomic | NA | 1 | 0.2 | FALSE | FALSE | 1 | FALSE | FALSE | TRUE |\n",
       "| 2 | MI_v1 | Prepared_Cytokine_Data  | csv | cytokine  | NA | 1 | 0.2 | FALSE |  TRUE | 1 | FALSE | FALSE | TRUE |\n",
       "\n"
      ],
      "text/plain": [
       "  configuration_name data_name               file_type data_type\n",
       "1 MI_v1              Prepared_Proteomic_Data csv       proteomic\n",
       "2 MI_v1              Prepared_Cytokine_Data  csv       cytokine \n",
       "  remove_sample_ids sample_filtering_thres feature_filtering_thres\n",
       "1 NA                1                      0.2                    \n",
       "2 NA                1                      0.2                    \n",
       "  library_adjustment log_transformation variable_genes_filtering\n",
       "1 FALSE              FALSE              1                       \n",
       "2 FALSE               TRUE              1                       \n",
       "  quantile_normalization_samples ribosomal_mitochondrial_gene_filtering\n",
       "1 FALSE                          FALSE                                 \n",
       "2 FALSE                          FALSE                                 \n",
       "  feature_wise_quantile_normalization\n",
       "1 TRUE                               \n",
       "2 TRUE                               "
      ]
     },
     "metadata": {},
     "output_type": "display_data"
    }
   ],
   "source": [
    "head(data_configs,2)"
   ]
  },
  {
   "cell_type": "code",
   "execution_count": 160,
   "id": "894875a1-3bbd-4219-b25d-54d77accded6",
   "metadata": {},
   "outputs": [
    {
     "name": "stdout",
     "output_type": "stream",
     "text": [
      "[1] \"Variable Genes Filtering for Prepared_Neutrophil_Data\"\n"
     ]
    }
   ],
   "source": [
    "for(i in 1:nrow(data_configs)){\n",
    "    ### Filter genes with lowest variance\n",
    "    if ( (as.numeric(data_configs$variable_genes_filtering[i]) < 1) & (as.numeric(data_configs$variable_genes_filtering[i]) > 0)){\n",
    "        print(paste0('Variable Genes Filtering for ',data_configs$data_name[i]))\n",
    "        data = datasets[[data_configs$configuration_name[i]]][[data_configs$data_name[i]]]\n",
    "        \n",
    "        ### Calculate variance and threshold\n",
    "        data = data %>% group_by(variable, type) %>% mutate(feature_variance = var(value)) # variance\n",
    "        data = data %>% group_by(type) %>% mutate(variance_threshold = quantile(feature_variance, probs = seq(0, 1, 0.01), na.rm = FALSE,\n",
    "         names = TRUE)[(1-as.numeric(data_configs$variable_genes_filtering[i]))*100])   # threshold\n",
    "        \n",
    "        ### Filter\n",
    "        data = data[data$feature_variance > data$variance_threshold,]\n",
    "        \n",
    "        ### remove generated columns\n",
    "        data$feature_variance = NULL\n",
    "        data$variance_threshold = NULL\n",
    "        \n",
    "        ### Save transformed data to list\n",
    "        datasets[[data_configs$configuration_name[i]]][[data_configs$data_name[i]]] = data\n",
    "        \n",
    "        }\n",
    "    }\n",
    "        "
   ]
  },
  {
   "cell_type": "code",
   "execution_count": null,
   "id": "3117fcad-4cb1-4c7b-867c-a90bb2b7bb6c",
   "metadata": {},
   "outputs": [],
   "source": []
  },
  {
   "cell_type": "markdown",
   "id": "25abd775-fe6b-4627-adea-3dabe36ecab6",
   "metadata": {},
   "source": [
    "## Sample Quantile Normalization"
   ]
  },
  {
   "cell_type": "code",
   "execution_count": 161,
   "id": "4d3b8811-964a-4429-8bdb-2e6939430ced",
   "metadata": {},
   "outputs": [],
   "source": [
    "### Apply Sample Quantile Normalization for the data-types specified in the configuration file"
   ]
  },
  {
   "cell_type": "code",
   "execution_count": 162,
   "id": "1d2e380f-5412-4b14-82e6-3650d5fd90b2",
   "metadata": {},
   "outputs": [
    {
     "data": {
      "text/html": [
       "<table class=\"dataframe\">\n",
       "<caption>A data.frame: 2 x 13</caption>\n",
       "<thead>\n",
       "\t<tr><th></th><th scope=col>configuration_name</th><th scope=col>data_name</th><th scope=col>file_type</th><th scope=col>data_type</th><th scope=col>remove_sample_ids</th><th scope=col>sample_filtering_thres</th><th scope=col>feature_filtering_thres</th><th scope=col>library_adjustment</th><th scope=col>log_transformation</th><th scope=col>variable_genes_filtering</th><th scope=col>quantile_normalization_samples</th><th scope=col>ribosomal_mitochondrial_gene_filtering</th><th scope=col>feature_wise_quantile_normalization</th></tr>\n",
       "\t<tr><th></th><th scope=col>&lt;chr&gt;</th><th scope=col>&lt;chr&gt;</th><th scope=col>&lt;chr&gt;</th><th scope=col>&lt;chr&gt;</th><th scope=col>&lt;lgl&gt;</th><th scope=col>&lt;dbl&gt;</th><th scope=col>&lt;dbl&gt;</th><th scope=col>&lt;lgl&gt;</th><th scope=col>&lt;lgl&gt;</th><th scope=col>&lt;dbl&gt;</th><th scope=col>&lt;lgl&gt;</th><th scope=col>&lt;lgl&gt;</th><th scope=col>&lt;lgl&gt;</th></tr>\n",
       "</thead>\n",
       "<tbody>\n",
       "\t<tr><th scope=row>1</th><td>MI_v1</td><td>Prepared_Proteomic_Data</td><td>csv</td><td>proteomic</td><td>NA</td><td>1</td><td>0.2</td><td>FALSE</td><td>FALSE</td><td>1</td><td>FALSE</td><td>FALSE</td><td>TRUE</td></tr>\n",
       "\t<tr><th scope=row>2</th><td>MI_v1</td><td>Prepared_Cytokine_Data </td><td>csv</td><td>cytokine </td><td>NA</td><td>1</td><td>0.2</td><td>FALSE</td><td> TRUE</td><td>1</td><td>FALSE</td><td>FALSE</td><td>TRUE</td></tr>\n",
       "</tbody>\n",
       "</table>\n"
      ],
      "text/latex": [
       "A data.frame: 2 x 13\n",
       "\\begin{tabular}{r|lllllllllllll}\n",
       "  & configuration\\_name & data\\_name & file\\_type & data\\_type & remove\\_sample\\_ids & sample\\_filtering\\_thres & feature\\_filtering\\_thres & library\\_adjustment & log\\_transformation & variable\\_genes\\_filtering & quantile\\_normalization\\_samples & ribosomal\\_mitochondrial\\_gene\\_filtering & feature\\_wise\\_quantile\\_normalization\\\\\n",
       "  & <chr> & <chr> & <chr> & <chr> & <lgl> & <dbl> & <dbl> & <lgl> & <lgl> & <dbl> & <lgl> & <lgl> & <lgl>\\\\\n",
       "\\hline\n",
       "\t1 & MI\\_v1 & Prepared\\_Proteomic\\_Data & csv & proteomic & NA & 1 & 0.2 & FALSE & FALSE & 1 & FALSE & FALSE & TRUE\\\\\n",
       "\t2 & MI\\_v1 & Prepared\\_Cytokine\\_Data  & csv & cytokine  & NA & 1 & 0.2 & FALSE &  TRUE & 1 & FALSE & FALSE & TRUE\\\\\n",
       "\\end{tabular}\n"
      ],
      "text/markdown": [
       "\n",
       "A data.frame: 2 x 13\n",
       "\n",
       "| <!--/--> | configuration_name &lt;chr&gt; | data_name &lt;chr&gt; | file_type &lt;chr&gt; | data_type &lt;chr&gt; | remove_sample_ids &lt;lgl&gt; | sample_filtering_thres &lt;dbl&gt; | feature_filtering_thres &lt;dbl&gt; | library_adjustment &lt;lgl&gt; | log_transformation &lt;lgl&gt; | variable_genes_filtering &lt;dbl&gt; | quantile_normalization_samples &lt;lgl&gt; | ribosomal_mitochondrial_gene_filtering &lt;lgl&gt; | feature_wise_quantile_normalization &lt;lgl&gt; |\n",
       "|---|---|---|---|---|---|---|---|---|---|---|---|---|---|\n",
       "| 1 | MI_v1 | Prepared_Proteomic_Data | csv | proteomic | NA | 1 | 0.2 | FALSE | FALSE | 1 | FALSE | FALSE | TRUE |\n",
       "| 2 | MI_v1 | Prepared_Cytokine_Data  | csv | cytokine  | NA | 1 | 0.2 | FALSE |  TRUE | 1 | FALSE | FALSE | TRUE |\n",
       "\n"
      ],
      "text/plain": [
       "  configuration_name data_name               file_type data_type\n",
       "1 MI_v1              Prepared_Proteomic_Data csv       proteomic\n",
       "2 MI_v1              Prepared_Cytokine_Data  csv       cytokine \n",
       "  remove_sample_ids sample_filtering_thres feature_filtering_thres\n",
       "1 NA                1                      0.2                    \n",
       "2 NA                1                      0.2                    \n",
       "  library_adjustment log_transformation variable_genes_filtering\n",
       "1 FALSE              FALSE              1                       \n",
       "2 FALSE               TRUE              1                       \n",
       "  quantile_normalization_samples ribosomal_mitochondrial_gene_filtering\n",
       "1 FALSE                          FALSE                                 \n",
       "2 FALSE                          FALSE                                 \n",
       "  feature_wise_quantile_normalization\n",
       "1 TRUE                               \n",
       "2 TRUE                               "
      ]
     },
     "metadata": {},
     "output_type": "display_data"
    }
   ],
   "source": [
    "head(data_configs,2)"
   ]
  },
  {
   "cell_type": "code",
   "execution_count": 163,
   "id": "5fc0b108-2ea2-4a0b-8790-4effbba921dc",
   "metadata": {
    "tags": []
   },
   "outputs": [
    {
     "name": "stdout",
     "output_type": "stream",
     "text": [
      "[1] \"Sample Quantile Normalization for Prepared_sc_Data\"\n"
     ]
    },
    {
     "name": "stderr",
     "output_type": "stream",
     "text": [
      "Using variable as id variables\n",
      "\n",
      "Using variable as id variables\n",
      "\n",
      "Using variable as id variables\n",
      "\n",
      "Using variable as id variables\n",
      "\n",
      "Using variable as id variables\n",
      "\n",
      "Using variable as id variables\n",
      "\n",
      "Using variable as id variables\n",
      "\n",
      "Using variable as id variables\n",
      "\n",
      "Using variable as id variables\n",
      "\n",
      "Using variable as id variables\n",
      "\n",
      "Using variable as id variables\n",
      "\n",
      "Using variable as id variables\n",
      "\n",
      "Using variable as id variables\n",
      "\n"
     ]
    },
    {
     "name": "stdout",
     "output_type": "stream",
     "text": [
      "[1] \"Sample Quantile Normalization for Prepared_Neutrophil_Data\"\n"
     ]
    },
    {
     "name": "stderr",
     "output_type": "stream",
     "text": [
      "Using variable as id variables\n",
      "\n"
     ]
    }
   ],
   "source": [
    "for(i in 1:nrow(data_configs)){\n",
    "    if((data_configs$quantile_normalization_samples[i] == 'TRUE')){\n",
    "        \n",
    "        print(paste0('Sample Quantile Normalization for ',data_configs$data_name[i]))\n",
    "        data = datasets[[data_configs$configuration_name[i]]][[data_configs$data_name[i]]]\n",
    "        transformed_data = data.frame()\n",
    "        \n",
    "        for(k in unique(data$type)){\n",
    "            data_type = data[data$type == k,]\n",
    "            data_type = data_type %>% dcast(variable ~ sample_id, value.var = 'value')\n",
    "            features = data_type$variable\n",
    "            rownames(data_type) = features\n",
    "            data_type$variable = NULL\n",
    "            data_type = data_type[,colSums(is.na(data_type)) != nrow(data_type)] # remove na samples\n",
    "            data_type  = quantile_normalization(data_type ) \n",
    "            data_type = data.frame(data_type)\n",
    "            data_type$variable = features\n",
    "            data_type = melt(data_type)\n",
    "            colnames(data_type) = c('variable', 'sample_id', 'value')\n",
    "            \n",
    "            data_type$type = k \n",
    "            data_type$dataset = data_configs$data_name[i]\n",
    "            transformed_data = rbind(transformed_data, data_type)\n",
    "            \n",
    "            }\n",
    "        datasets[[data_configs$configuration_name[i]]][[data_configs$data_name[i]]] = transformed_data\n",
    "        }\n",
    "    }\n",
    "            \n",
    "        \n",
    "        \n",
    "        "
   ]
  },
  {
   "cell_type": "code",
   "execution_count": null,
   "id": "ab90ec5d-f52a-4ea5-9a1a-f3aa9bb4749e",
   "metadata": {},
   "outputs": [],
   "source": []
  },
  {
   "cell_type": "markdown",
   "id": "1cbe5a69-7c55-4d9a-bc9c-cc54b02b7b2b",
   "metadata": {},
   "source": [
    "## Gene Removal (ribosomal, mitochondrial)"
   ]
  },
  {
   "cell_type": "code",
   "execution_count": 164,
   "id": "63f952c6-26df-451e-a6fd-8af93e3fc538",
   "metadata": {},
   "outputs": [],
   "source": [
    "### Remove ribosomal and mitochondrial genes (only works if 'Gene' annotation is given as SYMBOL"
   ]
  },
  {
   "cell_type": "code",
   "execution_count": 165,
   "id": "815b6742-4ffe-4956-9eb4-809d721d5b4d",
   "metadata": {},
   "outputs": [
    {
     "data": {
      "text/html": [
       "<table class=\"dataframe\">\n",
       "<caption>A data.frame: 2 x 13</caption>\n",
       "<thead>\n",
       "\t<tr><th></th><th scope=col>configuration_name</th><th scope=col>data_name</th><th scope=col>file_type</th><th scope=col>data_type</th><th scope=col>remove_sample_ids</th><th scope=col>sample_filtering_thres</th><th scope=col>feature_filtering_thres</th><th scope=col>library_adjustment</th><th scope=col>log_transformation</th><th scope=col>variable_genes_filtering</th><th scope=col>quantile_normalization_samples</th><th scope=col>ribosomal_mitochondrial_gene_filtering</th><th scope=col>feature_wise_quantile_normalization</th></tr>\n",
       "\t<tr><th></th><th scope=col>&lt;chr&gt;</th><th scope=col>&lt;chr&gt;</th><th scope=col>&lt;chr&gt;</th><th scope=col>&lt;chr&gt;</th><th scope=col>&lt;lgl&gt;</th><th scope=col>&lt;dbl&gt;</th><th scope=col>&lt;dbl&gt;</th><th scope=col>&lt;lgl&gt;</th><th scope=col>&lt;lgl&gt;</th><th scope=col>&lt;dbl&gt;</th><th scope=col>&lt;lgl&gt;</th><th scope=col>&lt;lgl&gt;</th><th scope=col>&lt;lgl&gt;</th></tr>\n",
       "</thead>\n",
       "<tbody>\n",
       "\t<tr><th scope=row>1</th><td>MI_v1</td><td>Prepared_Proteomic_Data</td><td>csv</td><td>proteomic</td><td>NA</td><td>1</td><td>0.2</td><td>FALSE</td><td>FALSE</td><td>1</td><td>FALSE</td><td>FALSE</td><td>TRUE</td></tr>\n",
       "\t<tr><th scope=row>2</th><td>MI_v1</td><td>Prepared_Cytokine_Data </td><td>csv</td><td>cytokine </td><td>NA</td><td>1</td><td>0.2</td><td>FALSE</td><td> TRUE</td><td>1</td><td>FALSE</td><td>FALSE</td><td>TRUE</td></tr>\n",
       "</tbody>\n",
       "</table>\n"
      ],
      "text/latex": [
       "A data.frame: 2 x 13\n",
       "\\begin{tabular}{r|lllllllllllll}\n",
       "  & configuration\\_name & data\\_name & file\\_type & data\\_type & remove\\_sample\\_ids & sample\\_filtering\\_thres & feature\\_filtering\\_thres & library\\_adjustment & log\\_transformation & variable\\_genes\\_filtering & quantile\\_normalization\\_samples & ribosomal\\_mitochondrial\\_gene\\_filtering & feature\\_wise\\_quantile\\_normalization\\\\\n",
       "  & <chr> & <chr> & <chr> & <chr> & <lgl> & <dbl> & <dbl> & <lgl> & <lgl> & <dbl> & <lgl> & <lgl> & <lgl>\\\\\n",
       "\\hline\n",
       "\t1 & MI\\_v1 & Prepared\\_Proteomic\\_Data & csv & proteomic & NA & 1 & 0.2 & FALSE & FALSE & 1 & FALSE & FALSE & TRUE\\\\\n",
       "\t2 & MI\\_v1 & Prepared\\_Cytokine\\_Data  & csv & cytokine  & NA & 1 & 0.2 & FALSE &  TRUE & 1 & FALSE & FALSE & TRUE\\\\\n",
       "\\end{tabular}\n"
      ],
      "text/markdown": [
       "\n",
       "A data.frame: 2 x 13\n",
       "\n",
       "| <!--/--> | configuration_name &lt;chr&gt; | data_name &lt;chr&gt; | file_type &lt;chr&gt; | data_type &lt;chr&gt; | remove_sample_ids &lt;lgl&gt; | sample_filtering_thres &lt;dbl&gt; | feature_filtering_thres &lt;dbl&gt; | library_adjustment &lt;lgl&gt; | log_transformation &lt;lgl&gt; | variable_genes_filtering &lt;dbl&gt; | quantile_normalization_samples &lt;lgl&gt; | ribosomal_mitochondrial_gene_filtering &lt;lgl&gt; | feature_wise_quantile_normalization &lt;lgl&gt; |\n",
       "|---|---|---|---|---|---|---|---|---|---|---|---|---|---|\n",
       "| 1 | MI_v1 | Prepared_Proteomic_Data | csv | proteomic | NA | 1 | 0.2 | FALSE | FALSE | 1 | FALSE | FALSE | TRUE |\n",
       "| 2 | MI_v1 | Prepared_Cytokine_Data  | csv | cytokine  | NA | 1 | 0.2 | FALSE |  TRUE | 1 | FALSE | FALSE | TRUE |\n",
       "\n"
      ],
      "text/plain": [
       "  configuration_name data_name               file_type data_type\n",
       "1 MI_v1              Prepared_Proteomic_Data csv       proteomic\n",
       "2 MI_v1              Prepared_Cytokine_Data  csv       cytokine \n",
       "  remove_sample_ids sample_filtering_thres feature_filtering_thres\n",
       "1 NA                1                      0.2                    \n",
       "2 NA                1                      0.2                    \n",
       "  library_adjustment log_transformation variable_genes_filtering\n",
       "1 FALSE              FALSE              1                       \n",
       "2 FALSE               TRUE              1                       \n",
       "  quantile_normalization_samples ribosomal_mitochondrial_gene_filtering\n",
       "1 FALSE                          FALSE                                 \n",
       "2 FALSE                          FALSE                                 \n",
       "  feature_wise_quantile_normalization\n",
       "1 TRUE                               \n",
       "2 TRUE                               "
      ]
     },
     "metadata": {},
     "output_type": "display_data"
    }
   ],
   "source": [
    "head(data_configs,2)"
   ]
  },
  {
   "cell_type": "code",
   "execution_count": 166,
   "id": "5502caed-12c6-4a82-a6d7-a8920e10320c",
   "metadata": {},
   "outputs": [
    {
     "name": "stdout",
     "output_type": "stream",
     "text": [
      "[1] \"Remove ribosomal and mitochondrial genes for Prepared_sc_Data\"\n",
      "[1] \"Remove ribosomal and mitochondrial genes for Prepared_Neutrophil_Data\"\n"
     ]
    }
   ],
   "source": [
    "for(i in 1:nrow(data_configs)){\n",
    "    if((data_configs$ribosomal_mitochondrial_gene_filtering[i] == 'TRUE')){\n",
    "        \n",
    "        print(paste0('Remove ribosomal and mitochondrial genes for ',data_configs$data_name[i]))\n",
    "        data = datasets[[data_configs$configuration_name[i]]][[data_configs$data_name[i]]]\n",
    "        \n",
    "        ## Remove ribosomal and mitochondiral genes\n",
    "        data = data[is.na(str_extract(data$variable, '^MT.*|^RPL.*|^RPS.*')),]\n",
    "        \n",
    "        datasets[[data_configs$configuration_name[i]]][[data_configs$data_name[i]]] = data\n",
    "        }\n",
    "    }\n",
    "        \n",
    "\n",
    "        \n",
    "        "
   ]
  },
  {
   "cell_type": "markdown",
   "id": "1ce3a9ae-1aa5-4fbe-94dd-400ce0748650",
   "metadata": {
    "tags": []
   },
   "source": [
    "# Merge data types and process"
   ]
  },
  {
   "cell_type": "code",
   "execution_count": 167,
   "id": "da747b03-8674-45ba-83ca-13e2c3c27dfb",
   "metadata": {},
   "outputs": [],
   "source": [
    "### Combine all the datasets to one dataset"
   ]
  },
  {
   "cell_type": "code",
   "execution_count": 168,
   "id": "0709343b-0908-4bb3-ba7a-ad79070705f7",
   "metadata": {},
   "outputs": [],
   "source": [
    "#str(datasets)"
   ]
  },
  {
   "cell_type": "code",
   "execution_count": 169,
   "id": "1a80e930-a48c-4397-aa5c-b7f9f2518155",
   "metadata": {},
   "outputs": [],
   "source": [
    "### Combine all types into one dataset\n",
    "datasets = lapply(datasets, function(x){\n",
    "    data = do.call(rbind, x)\n",
    "    })"
   ]
  },
  {
   "cell_type": "code",
   "execution_count": 170,
   "id": "03f0cd0a-c917-4fe7-a3d6-e8f00586a799",
   "metadata": {},
   "outputs": [],
   "source": [
    "### Overview amount of features per type/ view "
   ]
  },
  {
   "cell_type": "code",
   "execution_count": 171,
   "id": "d94097ab-1915-419d-9076-a8612fd2e920",
   "metadata": {},
   "outputs": [
    {
     "data": {
      "text/html": [
       "<table class=\"dataframe\">\n",
       "<caption>A grouped_df: 17 x 2</caption>\n",
       "<thead>\n",
       "\t<tr><th scope=col>type</th><th scope=col>n</th></tr>\n",
       "\t<tr><th scope=col>&lt;chr&gt;</th><th scope=col>&lt;int&gt;</th></tr>\n",
       "</thead>\n",
       "<tbody>\n",
       "\t<tr><td>B cell    </td><td> 686</td></tr>\n",
       "\t<tr><td>CD14 Mono </td><td>1589</td></tr>\n",
       "\t<tr><td>CD16 Mono </td><td>1059</td></tr>\n",
       "\t<tr><td>CD4 CTL   </td><td> 542</td></tr>\n",
       "\t<tr><td>CD4 Naive </td><td> 473</td></tr>\n",
       "\t<tr><td>CD4 TCM   </td><td> 661</td></tr>\n",
       "\t<tr><td>CD4 TEM   </td><td> 737</td></tr>\n",
       "\t<tr><td>CD8 Naive </td><td> 397</td></tr>\n",
       "\t<tr><td>CD8 TEM   </td><td> 570</td></tr>\n",
       "\t<tr><td>NK        </td><td> 508</td></tr>\n",
       "\t<tr><td>Treg      </td><td> 364</td></tr>\n",
       "\t<tr><td>cDC2      </td><td> 280</td></tr>\n",
       "\t<tr><td>clinical  </td><td>   4</td></tr>\n",
       "\t<tr><td>cytokine  </td><td>  66</td></tr>\n",
       "\t<tr><td>gdT       </td><td> 218</td></tr>\n",
       "\t<tr><td>neutrophil</td><td> 981</td></tr>\n",
       "\t<tr><td>proteomic </td><td> 490</td></tr>\n",
       "</tbody>\n",
       "</table>\n"
      ],
      "text/latex": [
       "A grouped\\_df: 17 x 2\n",
       "\\begin{tabular}{ll}\n",
       " type & n\\\\\n",
       " <chr> & <int>\\\\\n",
       "\\hline\n",
       "\t B cell     &  686\\\\\n",
       "\t CD14 Mono  & 1589\\\\\n",
       "\t CD16 Mono  & 1059\\\\\n",
       "\t CD4 CTL    &  542\\\\\n",
       "\t CD4 Naive  &  473\\\\\n",
       "\t CD4 TCM    &  661\\\\\n",
       "\t CD4 TEM    &  737\\\\\n",
       "\t CD8 Naive  &  397\\\\\n",
       "\t CD8 TEM    &  570\\\\\n",
       "\t NK         &  508\\\\\n",
       "\t Treg       &  364\\\\\n",
       "\t cDC2       &  280\\\\\n",
       "\t clinical   &    4\\\\\n",
       "\t cytokine   &   66\\\\\n",
       "\t gdT        &  218\\\\\n",
       "\t neutrophil &  981\\\\\n",
       "\t proteomic  &  490\\\\\n",
       "\\end{tabular}\n"
      ],
      "text/markdown": [
       "\n",
       "A grouped_df: 17 x 2\n",
       "\n",
       "| type &lt;chr&gt; | n &lt;int&gt; |\n",
       "|---|---|\n",
       "| B cell     |  686 |\n",
       "| CD14 Mono  | 1589 |\n",
       "| CD16 Mono  | 1059 |\n",
       "| CD4 CTL    |  542 |\n",
       "| CD4 Naive  |  473 |\n",
       "| CD4 TCM    |  661 |\n",
       "| CD4 TEM    |  737 |\n",
       "| CD8 Naive  |  397 |\n",
       "| CD8 TEM    |  570 |\n",
       "| NK         |  508 |\n",
       "| Treg       |  364 |\n",
       "| cDC2       |  280 |\n",
       "| clinical   |    4 |\n",
       "| cytokine   |   66 |\n",
       "| gdT        |  218 |\n",
       "| neutrophil |  981 |\n",
       "| proteomic  |  490 |\n",
       "\n"
      ],
      "text/plain": [
       "   type       n   \n",
       "1  B cell      686\n",
       "2  CD14 Mono  1589\n",
       "3  CD16 Mono  1059\n",
       "4  CD4 CTL     542\n",
       "5  CD4 Naive   473\n",
       "6  CD4 TCM     661\n",
       "7  CD4 TEM     737\n",
       "8  CD8 Naive   397\n",
       "9  CD8 TEM     570\n",
       "10 NK          508\n",
       "11 Treg        364\n",
       "12 cDC2        280\n",
       "13 clinical      4\n",
       "14 cytokine     66\n",
       "15 gdT         218\n",
       "16 neutrophil  981\n",
       "17 proteomic   490"
      ]
     },
     "metadata": {},
     "output_type": "display_data"
    }
   ],
   "source": [
    "unique(datasets[[1]][,c('type', 'variable')]) %>% group_by(type) %>% dplyr::count()"
   ]
  },
  {
   "cell_type": "code",
   "execution_count": null,
   "id": "e023cdc3-ee87-499a-8084-c091228ba3b2",
   "metadata": {},
   "outputs": [],
   "source": []
  },
  {
   "cell_type": "markdown",
   "id": "efe2850d-1561-4f70-9933-c047f0376bd8",
   "metadata": {
    "tags": []
   },
   "source": [
    "# Feature Wise Quantile Normalization"
   ]
  },
  {
   "cell_type": "code",
   "execution_count": 172,
   "id": "445ce126-10cb-4ea1-9a29-35d784e9b880",
   "metadata": {},
   "outputs": [],
   "source": [
    "### Apply feature wise quantile normalization if specified in the configuration file"
   ]
  },
  {
   "cell_type": "code",
   "execution_count": 173,
   "id": "293c7b42-c560-4c0a-b78b-306c0d5f7507",
   "metadata": {},
   "outputs": [
    {
     "data": {
      "text/html": [
       "<table class=\"dataframe\">\n",
       "<caption>A data.frame: 2 x 13</caption>\n",
       "<thead>\n",
       "\t<tr><th></th><th scope=col>configuration_name</th><th scope=col>data_name</th><th scope=col>file_type</th><th scope=col>data_type</th><th scope=col>remove_sample_ids</th><th scope=col>sample_filtering_thres</th><th scope=col>feature_filtering_thres</th><th scope=col>library_adjustment</th><th scope=col>log_transformation</th><th scope=col>variable_genes_filtering</th><th scope=col>quantile_normalization_samples</th><th scope=col>ribosomal_mitochondrial_gene_filtering</th><th scope=col>feature_wise_quantile_normalization</th></tr>\n",
       "\t<tr><th></th><th scope=col>&lt;chr&gt;</th><th scope=col>&lt;chr&gt;</th><th scope=col>&lt;chr&gt;</th><th scope=col>&lt;chr&gt;</th><th scope=col>&lt;lgl&gt;</th><th scope=col>&lt;dbl&gt;</th><th scope=col>&lt;dbl&gt;</th><th scope=col>&lt;lgl&gt;</th><th scope=col>&lt;lgl&gt;</th><th scope=col>&lt;dbl&gt;</th><th scope=col>&lt;lgl&gt;</th><th scope=col>&lt;lgl&gt;</th><th scope=col>&lt;lgl&gt;</th></tr>\n",
       "</thead>\n",
       "<tbody>\n",
       "\t<tr><th scope=row>1</th><td>MI_v1</td><td>Prepared_Proteomic_Data</td><td>csv</td><td>proteomic</td><td>NA</td><td>1</td><td>0.2</td><td>FALSE</td><td>FALSE</td><td>1</td><td>FALSE</td><td>FALSE</td><td>TRUE</td></tr>\n",
       "\t<tr><th scope=row>2</th><td>MI_v1</td><td>Prepared_Cytokine_Data </td><td>csv</td><td>cytokine </td><td>NA</td><td>1</td><td>0.2</td><td>FALSE</td><td> TRUE</td><td>1</td><td>FALSE</td><td>FALSE</td><td>TRUE</td></tr>\n",
       "</tbody>\n",
       "</table>\n"
      ],
      "text/latex": [
       "A data.frame: 2 x 13\n",
       "\\begin{tabular}{r|lllllllllllll}\n",
       "  & configuration\\_name & data\\_name & file\\_type & data\\_type & remove\\_sample\\_ids & sample\\_filtering\\_thres & feature\\_filtering\\_thres & library\\_adjustment & log\\_transformation & variable\\_genes\\_filtering & quantile\\_normalization\\_samples & ribosomal\\_mitochondrial\\_gene\\_filtering & feature\\_wise\\_quantile\\_normalization\\\\\n",
       "  & <chr> & <chr> & <chr> & <chr> & <lgl> & <dbl> & <dbl> & <lgl> & <lgl> & <dbl> & <lgl> & <lgl> & <lgl>\\\\\n",
       "\\hline\n",
       "\t1 & MI\\_v1 & Prepared\\_Proteomic\\_Data & csv & proteomic & NA & 1 & 0.2 & FALSE & FALSE & 1 & FALSE & FALSE & TRUE\\\\\n",
       "\t2 & MI\\_v1 & Prepared\\_Cytokine\\_Data  & csv & cytokine  & NA & 1 & 0.2 & FALSE &  TRUE & 1 & FALSE & FALSE & TRUE\\\\\n",
       "\\end{tabular}\n"
      ],
      "text/markdown": [
       "\n",
       "A data.frame: 2 x 13\n",
       "\n",
       "| <!--/--> | configuration_name &lt;chr&gt; | data_name &lt;chr&gt; | file_type &lt;chr&gt; | data_type &lt;chr&gt; | remove_sample_ids &lt;lgl&gt; | sample_filtering_thres &lt;dbl&gt; | feature_filtering_thres &lt;dbl&gt; | library_adjustment &lt;lgl&gt; | log_transformation &lt;lgl&gt; | variable_genes_filtering &lt;dbl&gt; | quantile_normalization_samples &lt;lgl&gt; | ribosomal_mitochondrial_gene_filtering &lt;lgl&gt; | feature_wise_quantile_normalization &lt;lgl&gt; |\n",
       "|---|---|---|---|---|---|---|---|---|---|---|---|---|---|\n",
       "| 1 | MI_v1 | Prepared_Proteomic_Data | csv | proteomic | NA | 1 | 0.2 | FALSE | FALSE | 1 | FALSE | FALSE | TRUE |\n",
       "| 2 | MI_v1 | Prepared_Cytokine_Data  | csv | cytokine  | NA | 1 | 0.2 | FALSE |  TRUE | 1 | FALSE | FALSE | TRUE |\n",
       "\n"
      ],
      "text/plain": [
       "  configuration_name data_name               file_type data_type\n",
       "1 MI_v1              Prepared_Proteomic_Data csv       proteomic\n",
       "2 MI_v1              Prepared_Cytokine_Data  csv       cytokine \n",
       "  remove_sample_ids sample_filtering_thres feature_filtering_thres\n",
       "1 NA                1                      0.2                    \n",
       "2 NA                1                      0.2                    \n",
       "  library_adjustment log_transformation variable_genes_filtering\n",
       "1 FALSE              FALSE              1                       \n",
       "2 FALSE               TRUE              1                       \n",
       "  quantile_normalization_samples ribosomal_mitochondrial_gene_filtering\n",
       "1 FALSE                          FALSE                                 \n",
       "2 FALSE                          FALSE                                 \n",
       "  feature_wise_quantile_normalization\n",
       "1 TRUE                               \n",
       "2 TRUE                               "
      ]
     },
     "metadata": {},
     "output_type": "display_data"
    }
   ],
   "source": [
    "head(data_configs,2)"
   ]
  },
  {
   "cell_type": "code",
   "execution_count": 174,
   "id": "6ec170fe-b885-4417-9467-bdb1cbc2b8c9",
   "metadata": {},
   "outputs": [
    {
     "data": {
      "text/html": [
       "<style>\n",
       ".list-inline {list-style: none; margin:0; padding: 0}\n",
       ".list-inline>li {display: inline-block}\n",
       ".list-inline>li:not(:last-child)::after {content: \"\\00b7\"; padding: 0 .5ex}\n",
       "</style>\n",
       "<ol class=list-inline><li>TRUE</li><li>TRUE</li><li>TRUE</li><li>TRUE</li><li>TRUE</li></ol>\n"
      ],
      "text/latex": [
       "\\begin{enumerate*}\n",
       "\\item TRUE\n",
       "\\item TRUE\n",
       "\\item TRUE\n",
       "\\item TRUE\n",
       "\\item TRUE\n",
       "\\end{enumerate*}\n"
      ],
      "text/markdown": [
       "1. TRUE\n",
       "2. TRUE\n",
       "3. TRUE\n",
       "4. TRUE\n",
       "5. TRUE\n",
       "\n",
       "\n"
      ],
      "text/plain": [
       "[1] TRUE TRUE TRUE TRUE TRUE"
      ]
     },
     "metadata": {},
     "output_type": "display_data"
    }
   ],
   "source": [
    "data_configs$feature_wise_quantile_normalization"
   ]
  },
  {
   "cell_type": "code",
   "execution_count": 175,
   "id": "cbaf52bf-e183-420f-b777-18f0c6930ad6",
   "metadata": {
    "tags": []
   },
   "outputs": [
    {
     "data": {
      "text/html": [
       "'MI_v1'"
      ],
      "text/latex": [
       "'MI\\_v1'"
      ],
      "text/markdown": [
       "'MI_v1'"
      ],
      "text/plain": [
       "[1] \"MI_v1\""
      ]
     },
     "metadata": {},
     "output_type": "display_data"
    }
   ],
   "source": [
    "names(datasets)"
   ]
  },
  {
   "cell_type": "code",
   "execution_count": 176,
   "id": "d5cfb1c0-af8b-43ee-b1b4-8e72cddf858a",
   "metadata": {},
   "outputs": [
    {
     "name": "stdout",
     "output_type": "stream",
     "text": [
      "[1] \"Applying Feature Wise Quantile Normalization\"\n"
     ]
    },
    {
     "name": "stderr",
     "output_type": "stream",
     "text": [
      "Using sample_id as id variables\n",
      "\n"
     ]
    }
   ],
   "source": [
    "for(i in names(datasets)){\n",
    "    \n",
    "    data = datasets[[i]]\n",
    "    data$ident = paste0(data$type, '_0_', data$variable)\n",
    "    final_data = dcast(data, sample_id ~ ident , value.var = \"value\") # ! with this merging there might be NA values for some samples on some data types\n",
    "    rownames(final_data) = final_data$sample_id\n",
    "    final_data$sample_id = NULL\n",
    "    \n",
    "    # Remove samples with only NA's\n",
    "    data_nas = is.na(final_data)\n",
    "    rowSums(data_nas)  # TBD maybe plot amount of NA per sample\n",
    "    keep_samples = names(rowSums(data_nas))[rowSums(data_nas) != ncol(final_data)]\n",
    "    final_data = final_data[keep_samples,]\n",
    "    data_nas = data_nas[keep_samples,]\n",
    "    \n",
    "    # Feature Wise Quantile Normalization in kind of TRUE value\n",
    "    if(unique(data_configs$feature_wise_quantile_normalization[data_configs$configuration_name == i]) == 'TRUE'){\n",
    "        print('Applying Feature Wise Quantile Normalization')\n",
    "        final_data = apply(final_data, 2,stdnorm)\n",
    "        final_data = data.frame(final_data)\n",
    "        final_data[data_nas] = NA\n",
    "        final_data$sample_id = rownames(final_data)\n",
    "        data_long = melt(final_data)\n",
    "        data_long$type = str_extract(data_long$variable, '.*_0_')\n",
    "        data_long$type  = str_replace(data_long$type , '_0_', '')\n",
    "        data_long$variable = str_replace(data_long$variable, '.*_0_', '')\n",
    "        datasets[[i]] = data_long\n",
    "        \n",
    "        }\n",
    "    \n",
    "    }\n",
    "        \n",
    "        \n",
    "        "
   ]
  },
  {
   "cell_type": "code",
   "execution_count": 177,
   "id": "1163b586-9a86-4173-8d46-6f4ff7dfe185",
   "metadata": {},
   "outputs": [
    {
     "data": {
      "text/html": [
       "<table class=\"dataframe\">\n",
       "<caption>A data.frame: 2 x 4</caption>\n",
       "<thead>\n",
       "\t<tr><th></th><th scope=col>sample_id</th><th scope=col>variable</th><th scope=col>value</th><th scope=col>type</th></tr>\n",
       "\t<tr><th></th><th scope=col>&lt;chr&gt;</th><th scope=col>&lt;chr&gt;</th><th scope=col>&lt;dbl&gt;</th><th scope=col>&lt;chr&gt;</th></tr>\n",
       "</thead>\n",
       "<tbody>\n",
       "\t<tr><th scope=row>1</th><td>k10</td><td>ACTB</td><td> 0.4307273</td><td>B.cell</td></tr>\n",
       "\t<tr><th scope=row>2</th><td>k11</td><td>ACTB</td><td>-0.7009514</td><td>B.cell</td></tr>\n",
       "</tbody>\n",
       "</table>\n"
      ],
      "text/latex": [
       "A data.frame: 2 x 4\n",
       "\\begin{tabular}{r|llll}\n",
       "  & sample\\_id & variable & value & type\\\\\n",
       "  & <chr> & <chr> & <dbl> & <chr>\\\\\n",
       "\\hline\n",
       "\t1 & k10 & ACTB &  0.4307273 & B.cell\\\\\n",
       "\t2 & k11 & ACTB & -0.7009514 & B.cell\\\\\n",
       "\\end{tabular}\n"
      ],
      "text/markdown": [
       "\n",
       "A data.frame: 2 x 4\n",
       "\n",
       "| <!--/--> | sample_id &lt;chr&gt; | variable &lt;chr&gt; | value &lt;dbl&gt; | type &lt;chr&gt; |\n",
       "|---|---|---|---|---|\n",
       "| 1 | k10 | ACTB |  0.4307273 | B.cell |\n",
       "| 2 | k11 | ACTB | -0.7009514 | B.cell |\n",
       "\n"
      ],
      "text/plain": [
       "  sample_id variable value      type  \n",
       "1 k10       ACTB      0.4307273 B.cell\n",
       "2 k11       ACTB     -0.7009514 B.cell"
      ]
     },
     "metadata": {},
     "output_type": "display_data"
    }
   ],
   "source": [
    "head(datasets[[1]],2)"
   ]
  },
  {
   "cell_type": "code",
   "execution_count": null,
   "id": "1ef575c4-0883-4065-8d0f-4fae859c8b29",
   "metadata": {},
   "outputs": [],
   "source": []
  },
  {
   "cell_type": "markdown",
   "id": "e1612f56-c1f2-4927-82be-23007a090642",
   "metadata": {},
   "source": [
    "# Save the data"
   ]
  },
  {
   "cell_type": "code",
   "execution_count": 178,
   "id": "1e30fa31-7baa-4c57-870f-8db066a77cf4",
   "metadata": {},
   "outputs": [],
   "source": [
    "### Save the data to use as input in the next script"
   ]
  },
  {
   "cell_type": "code",
   "execution_count": 179,
   "id": "90f98b5f-8a6c-4369-b378-d18140faf14f",
   "metadata": {},
   "outputs": [],
   "source": [
    "### Adjust variable names\n",
    "datasets = lapply(datasets, function(x){\n",
    "    x$gene = x$variable\n",
    "    x$variable = paste0(x$type, '__', x$variable)\n",
    "    return(x)\n",
    "    })"
   ]
  },
  {
   "cell_type": "code",
   "execution_count": 180,
   "id": "fdf5cccb-2c13-4028-8255-0db63d0ef97f",
   "metadata": {},
   "outputs": [],
   "source": [
    "for(i in names(datasets)){\n",
    "    write.csv(datasets[[i]], paste0(result_path, '/02_results/02_Combined_Data_', i, '_INTEGRATED',  '.csv'))\n",
    "    }"
   ]
  },
  {
   "cell_type": "code",
   "execution_count": 181,
   "id": "404f0b9f-2401-4762-ab98-569ac2889b80",
   "metadata": {},
   "outputs": [],
   "source": [
    "### Example of structure of dataset"
   ]
  },
  {
   "cell_type": "code",
   "execution_count": 182,
   "id": "111b5128-6f02-4773-bc24-e4aff35683c2",
   "metadata": {
    "tags": []
   },
   "outputs": [
    {
     "data": {
      "text/html": [
       "<table class=\"dataframe\">\n",
       "<caption>A data.frame: 2 x 5</caption>\n",
       "<thead>\n",
       "\t<tr><th></th><th scope=col>sample_id</th><th scope=col>variable</th><th scope=col>value</th><th scope=col>type</th><th scope=col>gene</th></tr>\n",
       "\t<tr><th></th><th scope=col>&lt;chr&gt;</th><th scope=col>&lt;chr&gt;</th><th scope=col>&lt;dbl&gt;</th><th scope=col>&lt;chr&gt;</th><th scope=col>&lt;chr&gt;</th></tr>\n",
       "</thead>\n",
       "<tbody>\n",
       "\t<tr><th scope=row>1</th><td>k10</td><td>B.cell__ACTB</td><td> 0.4307273</td><td>B.cell</td><td>ACTB</td></tr>\n",
       "\t<tr><th scope=row>2</th><td>k11</td><td>B.cell__ACTB</td><td>-0.7009514</td><td>B.cell</td><td>ACTB</td></tr>\n",
       "</tbody>\n",
       "</table>\n"
      ],
      "text/latex": [
       "A data.frame: 2 x 5\n",
       "\\begin{tabular}{r|lllll}\n",
       "  & sample\\_id & variable & value & type & gene\\\\\n",
       "  & <chr> & <chr> & <dbl> & <chr> & <chr>\\\\\n",
       "\\hline\n",
       "\t1 & k10 & B.cell\\_\\_ACTB &  0.4307273 & B.cell & ACTB\\\\\n",
       "\t2 & k11 & B.cell\\_\\_ACTB & -0.7009514 & B.cell & ACTB\\\\\n",
       "\\end{tabular}\n"
      ],
      "text/markdown": [
       "\n",
       "A data.frame: 2 x 5\n",
       "\n",
       "| <!--/--> | sample_id &lt;chr&gt; | variable &lt;chr&gt; | value &lt;dbl&gt; | type &lt;chr&gt; | gene &lt;chr&gt; |\n",
       "|---|---|---|---|---|---|\n",
       "| 1 | k10 | B.cell__ACTB |  0.4307273 | B.cell | ACTB |\n",
       "| 2 | k11 | B.cell__ACTB | -0.7009514 | B.cell | ACTB |\n",
       "\n"
      ],
      "text/plain": [
       "  sample_id variable     value      type   gene\n",
       "1 k10       B.cell__ACTB  0.4307273 B.cell ACTB\n",
       "2 k11       B.cell__ACTB -0.7009514 B.cell ACTB"
      ]
     },
     "metadata": {},
     "output_type": "display_data"
    }
   ],
   "source": [
    "head(datasets[[1]],2)"
   ]
  },
  {
   "cell_type": "code",
   "execution_count": 183,
   "id": "d009fb3d-e44e-462a-bb19-787422d6186b",
   "metadata": {},
   "outputs": [
    {
     "data": {
      "text/html": [
       "128"
      ],
      "text/latex": [
       "128"
      ],
      "text/markdown": [
       "128"
      ],
      "text/plain": [
       "[1] 128"
      ]
     },
     "metadata": {},
     "output_type": "display_data"
    }
   ],
   "source": [
    "length(unique(datasets[[1]]$sample_id))"
   ]
  },
  {
   "cell_type": "code",
   "execution_count": null,
   "id": "c3c897c0-ac01-4be3-8788-ce50e14c7cfa",
   "metadata": {},
   "outputs": [],
   "source": []
  },
  {
   "cell_type": "markdown",
   "id": "fb527618-45bb-4ea4-8a21-3e6c18a93ff0",
   "metadata": {},
   "source": [
    "# Update Configuration File"
   ]
  },
  {
   "cell_type": "code",
   "execution_count": 184,
   "id": "8118c3c7-5d31-4634-bef3-36e4c218df1b",
   "metadata": {
    "tags": []
   },
   "outputs": [
    {
     "data": {
      "text/html": [
       "'B.cell,CD14.Mono,CD16.Mono,CD4.CTL,CD4.Naive,CD4.TCM,CD4.TEM,CD8.Naive,CD8.TEM,NK,Treg,cDC2,clinical,cytokine,gdT,neutrophil,proteomic'"
      ],
      "text/latex": [
       "'B.cell,CD14.Mono,CD16.Mono,CD4.CTL,CD4.Naive,CD4.TCM,CD4.TEM,CD8.Naive,CD8.TEM,NK,Treg,cDC2,clinical,cytokine,gdT,neutrophil,proteomic'"
      ],
      "text/markdown": [
       "'B.cell,CD14.Mono,CD16.Mono,CD4.CTL,CD4.Naive,CD4.TCM,CD4.TEM,CD8.Naive,CD8.TEM,NK,Treg,cDC2,clinical,cytokine,gdT,neutrophil,proteomic'"
      ],
      "text/plain": [
       "[1] \"B.cell,CD14.Mono,CD16.Mono,CD4.CTL,CD4.Naive,CD4.TCM,CD4.TEM,CD8.Naive,CD8.TEM,NK,Treg,cDC2,clinical,cytokine,gdT,neutrophil,proteomic\""
      ]
     },
     "metadata": {},
     "output_type": "display_data"
    }
   ],
   "source": [
    "paste0(unique(datasets[[i]]$type), collapse = ',')  # TBD make config specific"
   ]
  },
  {
   "cell_type": "code",
   "execution_count": 185,
   "id": "baee7578-5b96-4eab-ae40-1edd91abbaac",
   "metadata": {
    "tags": []
   },
   "outputs": [],
   "source": [
    "### Adjust 06 Pathway Analysis Configs"
   ]
  },
  {
   "cell_type": "code",
   "execution_count": 186,
   "id": "d3572085-a68c-4ffc-8600-abde8e37748e",
   "metadata": {
    "tags": []
   },
   "outputs": [],
   "source": [
    "configs06 = data.frame(\n",
    "    mofa_result_name = paste0(unique(data_configs$configuration_name), '_MOFA'),\n",
    "    factor_set = '1',\n",
    "    coverage_par = 0.2,\n",
    "    types = paste0(unique(datasets[[i]]$type), collapse = ','),\n",
    "    coverage_plot  = 0.5,\n",
    "    p_value_plot = 0.05,\n",
    "    max_pathways_plot = 8,\n",
    "    enrichment_plot = 'positive',\n",
    "    top_features_plot = 0.125,\n",
    "    pathway_selection = '')"
   ]
  },
  {
   "cell_type": "code",
   "execution_count": 187,
   "id": "139eb0ac-a23f-4d2b-9058-1bf40d81c141",
   "metadata": {
    "tags": []
   },
   "outputs": [
    {
     "data": {
      "text/html": [
       "<table class=\"dataframe\">\n",
       "<caption>A data.frame: 1 x 10</caption>\n",
       "<thead>\n",
       "\t<tr><th scope=col>mofa_result_name</th><th scope=col>factor_set</th><th scope=col>coverage_par</th><th scope=col>types</th><th scope=col>coverage_plot</th><th scope=col>p_value_plot</th><th scope=col>max_pathways_plot</th><th scope=col>enrichment_plot</th><th scope=col>top_features_plot</th><th scope=col>pathway_selection</th></tr>\n",
       "\t<tr><th scope=col>&lt;chr&gt;</th><th scope=col>&lt;chr&gt;</th><th scope=col>&lt;dbl&gt;</th><th scope=col>&lt;chr&gt;</th><th scope=col>&lt;dbl&gt;</th><th scope=col>&lt;dbl&gt;</th><th scope=col>&lt;dbl&gt;</th><th scope=col>&lt;chr&gt;</th><th scope=col>&lt;dbl&gt;</th><th scope=col>&lt;chr&gt;</th></tr>\n",
       "</thead>\n",
       "<tbody>\n",
       "\t<tr><td>MI_v1_MOFA</td><td>1</td><td>0.2</td><td>B.cell,CD14.Mono,CD16.Mono,CD4.CTL,CD4.Naive,CD4.TCM,CD4.TEM,CD8.Naive,CD8.TEM,NK,Treg,cDC2,clinical,cytokine,gdT,neutrophil,proteomic</td><td>0.5</td><td>0.05</td><td>8</td><td>positive</td><td>0.125</td><td></td></tr>\n",
       "</tbody>\n",
       "</table>\n"
      ],
      "text/latex": [
       "A data.frame: 1 x 10\n",
       "\\begin{tabular}{llllllllll}\n",
       " mofa\\_result\\_name & factor\\_set & coverage\\_par & types & coverage\\_plot & p\\_value\\_plot & max\\_pathways\\_plot & enrichment\\_plot & top\\_features\\_plot & pathway\\_selection\\\\\n",
       " <chr> & <chr> & <dbl> & <chr> & <dbl> & <dbl> & <dbl> & <chr> & <dbl> & <chr>\\\\\n",
       "\\hline\n",
       "\t MI\\_v1\\_MOFA & 1 & 0.2 & B.cell,CD14.Mono,CD16.Mono,CD4.CTL,CD4.Naive,CD4.TCM,CD4.TEM,CD8.Naive,CD8.TEM,NK,Treg,cDC2,clinical,cytokine,gdT,neutrophil,proteomic & 0.5 & 0.05 & 8 & positive & 0.125 & \\\\\n",
       "\\end{tabular}\n"
      ],
      "text/markdown": [
       "\n",
       "A data.frame: 1 x 10\n",
       "\n",
       "| mofa_result_name &lt;chr&gt; | factor_set &lt;chr&gt; | coverage_par &lt;dbl&gt; | types &lt;chr&gt; | coverage_plot &lt;dbl&gt; | p_value_plot &lt;dbl&gt; | max_pathways_plot &lt;dbl&gt; | enrichment_plot &lt;chr&gt; | top_features_plot &lt;dbl&gt; | pathway_selection &lt;chr&gt; |\n",
       "|---|---|---|---|---|---|---|---|---|---|\n",
       "| MI_v1_MOFA | 1 | 0.2 | B.cell,CD14.Mono,CD16.Mono,CD4.CTL,CD4.Naive,CD4.TCM,CD4.TEM,CD8.Naive,CD8.TEM,NK,Treg,cDC2,clinical,cytokine,gdT,neutrophil,proteomic | 0.5 | 0.05 | 8 | positive | 0.125 | <!----> |\n",
       "\n"
      ],
      "text/plain": [
       "  mofa_result_name factor_set coverage_par\n",
       "1 MI_v1_MOFA       1          0.2         \n",
       "  types                                                                                                                                 \n",
       "1 B.cell,CD14.Mono,CD16.Mono,CD4.CTL,CD4.Naive,CD4.TCM,CD4.TEM,CD8.Naive,CD8.TEM,NK,Treg,cDC2,clinical,cytokine,gdT,neutrophil,proteomic\n",
       "  coverage_plot p_value_plot max_pathways_plot enrichment_plot\n",
       "1 0.5           0.05         8                 positive       \n",
       "  top_features_plot pathway_selection\n",
       "1 0.125                              "
      ]
     },
     "metadata": {},
     "output_type": "display_data"
    }
   ],
   "source": [
    "configs06"
   ]
  },
  {
   "cell_type": "code",
   "execution_count": 188,
   "id": "f7ee23e0-a57b-4bcf-bc3b-b01858ae5d7f",
   "metadata": {
    "tags": []
   },
   "outputs": [],
   "source": [
    "write.csv(configs06, 'configurations/06_Pathway_Configs.csv', row.names = FALSE)"
   ]
  },
  {
   "cell_type": "code",
   "execution_count": null,
   "id": "bc867a5d-e5e3-4f19-99ef-7934bbd69857",
   "metadata": {},
   "outputs": [],
   "source": []
  }
 ],
 "metadata": {
  "kernelspec": {
   "display_name": "R",
   "language": "R",
   "name": "ir"
  },
  "language_info": {
   "codemirror_mode": "r",
   "file_extension": ".r",
   "mimetype": "text/x-r-source",
   "name": "R",
   "pygments_lexer": "r",
   "version": "4.3.2"
  },
  "toc-autonumbering": true
 },
 "nbformat": 4,
 "nbformat_minor": 5
}
