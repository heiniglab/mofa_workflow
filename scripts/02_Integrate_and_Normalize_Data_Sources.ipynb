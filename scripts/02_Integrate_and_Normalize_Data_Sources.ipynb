{
 "cells": [
  {
   "cell_type": "code",
   "execution_count": 1,
   "id": "30db86a6-94fa-4e7b-9f5b-11d49a6552b2",
   "metadata": {
    "tags": []
   },
   "outputs": [],
   "source": [
    "### Script to integrate, preprocess and harmonize all available data sources\n",
    "### In this example\n",
    "# Single Cell RNA Seq\n",
    "# Cytokine Data\n",
    "# Neutrophil Data\n",
    "# Proteomics"
   ]
  },
  {
   "cell_type": "markdown",
   "id": "d9375846-405e-474a-9c51-836de879fc64",
   "metadata": {
    "tags": []
   },
   "source": [
    "#############################################\n",
    "# Prerequisites - Load Libraries"
   ]
  },
  {
   "cell_type": "code",
   "execution_count": 2,
   "id": "78cda6a6-83a2-4aa4-ac3c-26b3641d28b5",
   "metadata": {
    "tags": []
   },
   "outputs": [
    {
     "name": "stderr",
     "output_type": "stream",
     "text": [
      "Warning message in read.table(file = file, header = header, sep = sep, quote = quote, :\n",
      "“incomplete final line found by readTableHeader on '../conda_environment/Environment_Configs.csv'”\n"
     ]
    },
    {
     "name": "stdout",
     "output_type": "stream",
     "text": [
      "[1] \"/home/icb/corinna.losert/miniconda3/envs/jove_r//lib/R/library\"\n"
     ]
    },
    {
     "name": "stderr",
     "output_type": "stream",
     "text": [
      "‘SeuratObject’ was built with package ‘Matrix’ 1.6.3 but the current\n",
      "version is 1.6.4; it is recomended that you reinstall ‘SeuratObject’ as\n",
      "the ABI for ‘Matrix’ may have changed\n",
      "\n",
      "\n",
      "Attaching package: ‘SeuratObject’\n",
      "\n",
      "\n",
      "The following object is masked from ‘package:base’:\n",
      "\n",
      "    intersect\n",
      "\n",
      "\n",
      "Registered S3 method overwritten by 'SeuratDisk':\n",
      "  method            from  \n",
      "  as.sparse.H5Group Seurat\n",
      "\n",
      "\n",
      "Attaching package: ‘dplyr’\n",
      "\n",
      "\n",
      "The following objects are masked from ‘package:data.table’:\n",
      "\n",
      "    between, first, last\n",
      "\n",
      "\n",
      "The following objects are masked from ‘package:stats’:\n",
      "\n",
      "    filter, lag\n",
      "\n",
      "\n",
      "The following objects are masked from ‘package:base’:\n",
      "\n",
      "    intersect, setdiff, setequal, union\n",
      "\n",
      "\n",
      "── \u001b[1mAttaching core tidyverse packages\u001b[22m ──────────────────────── tidyverse 2.0.0 ──\n",
      "\u001b[32m✔\u001b[39m \u001b[34mforcats  \u001b[39m 1.0.0     \u001b[32m✔\u001b[39m \u001b[34mreadr    \u001b[39m 2.1.4\n",
      "\u001b[32m✔\u001b[39m \u001b[34mggplot2  \u001b[39m 3.4.4     \u001b[32m✔\u001b[39m \u001b[34mtibble   \u001b[39m 3.2.1\n",
      "\u001b[32m✔\u001b[39m \u001b[34mlubridate\u001b[39m 1.9.3     \u001b[32m✔\u001b[39m \u001b[34mtidyr    \u001b[39m 1.3.0\n",
      "\u001b[32m✔\u001b[39m \u001b[34mpurrr    \u001b[39m 1.0.2     \n",
      "── \u001b[1mConflicts\u001b[22m ────────────────────────────────────────── tidyverse_conflicts() ──\n",
      "\u001b[31m✖\u001b[39m \u001b[34mdplyr\u001b[39m::\u001b[32mbetween()\u001b[39m     masks \u001b[34mdata.table\u001b[39m::between()\n",
      "\u001b[31m✖\u001b[39m \u001b[34mdplyr\u001b[39m::\u001b[32mfilter()\u001b[39m      masks \u001b[34mstats\u001b[39m::filter()\n",
      "\u001b[31m✖\u001b[39m \u001b[34mdplyr\u001b[39m::\u001b[32mfirst()\u001b[39m       masks \u001b[34mdata.table\u001b[39m::first()\n",
      "\u001b[31m✖\u001b[39m \u001b[34mlubridate\u001b[39m::\u001b[32mhour()\u001b[39m    masks \u001b[34mdata.table\u001b[39m::hour()\n",
      "\u001b[31m✖\u001b[39m \u001b[34mlubridate\u001b[39m::\u001b[32misoweek()\u001b[39m masks \u001b[34mdata.table\u001b[39m::isoweek()\n",
      "\u001b[31m✖\u001b[39m \u001b[34mdplyr\u001b[39m::\u001b[32mlag()\u001b[39m         masks \u001b[34mstats\u001b[39m::lag()\n",
      "\u001b[31m✖\u001b[39m \u001b[34mdplyr\u001b[39m::\u001b[32mlast()\u001b[39m        masks \u001b[34mdata.table\u001b[39m::last()\n",
      "\u001b[31m✖\u001b[39m \u001b[34mlubridate\u001b[39m::\u001b[32mmday()\u001b[39m    masks \u001b[34mdata.table\u001b[39m::mday()\n",
      "\u001b[31m✖\u001b[39m \u001b[34mlubridate\u001b[39m::\u001b[32mminute()\u001b[39m  masks \u001b[34mdata.table\u001b[39m::minute()\n",
      "\u001b[31m✖\u001b[39m \u001b[34mlubridate\u001b[39m::\u001b[32mmonth()\u001b[39m   masks \u001b[34mdata.table\u001b[39m::month()\n",
      "\u001b[31m✖\u001b[39m \u001b[34mlubridate\u001b[39m::\u001b[32mquarter()\u001b[39m masks \u001b[34mdata.table\u001b[39m::quarter()\n",
      "\u001b[31m✖\u001b[39m \u001b[34mlubridate\u001b[39m::\u001b[32msecond()\u001b[39m  masks \u001b[34mdata.table\u001b[39m::second()\n",
      "\u001b[31m✖\u001b[39m \u001b[34mpurrr\u001b[39m::\u001b[32mtranspose()\u001b[39m   masks \u001b[34mdata.table\u001b[39m::transpose()\n",
      "\u001b[31m✖\u001b[39m \u001b[34mlubridate\u001b[39m::\u001b[32mwday()\u001b[39m    masks \u001b[34mdata.table\u001b[39m::wday()\n",
      "\u001b[31m✖\u001b[39m \u001b[34mlubridate\u001b[39m::\u001b[32mweek()\u001b[39m    masks \u001b[34mdata.table\u001b[39m::week()\n",
      "\u001b[31m✖\u001b[39m \u001b[34mlubridate\u001b[39m::\u001b[32myday()\u001b[39m    masks \u001b[34mdata.table\u001b[39m::yday()\n",
      "\u001b[31m✖\u001b[39m \u001b[34mlubridate\u001b[39m::\u001b[32myear()\u001b[39m    masks \u001b[34mdata.table\u001b[39m::year()\n",
      "\u001b[36mℹ\u001b[39m Use the conflicted package (\u001b[3m\u001b[34m<http://conflicted.r-lib.org/>\u001b[39m\u001b[23m) to force all conflicts to become errors\n",
      "\n",
      "Attaching package: ‘reshape2’\n",
      "\n",
      "\n",
      "The following object is masked from ‘package:tidyr’:\n",
      "\n",
      "    smiths\n",
      "\n",
      "\n",
      "The following objects are masked from ‘package:data.table’:\n",
      "\n",
      "    dcast, melt\n",
      "\n",
      "\n",
      "Loading required package: lattice\n",
      "\n",
      "\n",
      "Attaching package: ‘caret’\n",
      "\n",
      "\n",
      "The following object is masked from ‘package:purrr’:\n",
      "\n",
      "    lift\n",
      "\n",
      "\n",
      "\n",
      "Attaching package: ‘gridExtra’\n",
      "\n",
      "\n",
      "The following object is masked from ‘package:dplyr’:\n",
      "\n",
      "    combine\n",
      "\n",
      "\n",
      "\n",
      "Attaching package: ‘scales’\n",
      "\n",
      "\n",
      "The following object is masked from ‘package:purrr’:\n",
      "\n",
      "    discard\n",
      "\n",
      "\n",
      "The following object is masked from ‘package:readr’:\n",
      "\n",
      "    col_factor\n",
      "\n",
      "\n",
      "\n",
      "Attaching package: ‘ggraph’\n",
      "\n",
      "\n",
      "The following object is masked from ‘package:sp’:\n",
      "\n",
      "    geometry\n",
      "\n",
      "\n",
      "corrplot 0.92 loaded\n",
      "\n",
      "\n",
      "Attaching package: ‘MOFA2’\n",
      "\n",
      "\n",
      "The following object is masked from ‘package:stats’:\n",
      "\n",
      "    predict\n",
      "\n",
      "\n",
      "Loading required package: S4Vectors\n",
      "\n",
      "Loading required package: stats4\n",
      "\n",
      "Loading required package: BiocGenerics\n",
      "\n",
      "\n",
      "Attaching package: ‘BiocGenerics’\n",
      "\n",
      "\n",
      "The following object is masked from ‘package:gridExtra’:\n",
      "\n",
      "    combine\n",
      "\n",
      "\n",
      "The following objects are masked from ‘package:lubridate’:\n",
      "\n",
      "    intersect, setdiff, union\n",
      "\n",
      "\n",
      "The following objects are masked from ‘package:dplyr’:\n",
      "\n",
      "    combine, intersect, setdiff, union\n",
      "\n",
      "\n",
      "The following object is masked from ‘package:SeuratObject’:\n",
      "\n",
      "    intersect\n",
      "\n",
      "\n",
      "The following objects are masked from ‘package:stats’:\n",
      "\n",
      "    IQR, mad, sd, var, xtabs\n",
      "\n",
      "\n",
      "The following objects are masked from ‘package:base’:\n",
      "\n",
      "    anyDuplicated, aperm, append, as.data.frame, basename, cbind,\n",
      "    colnames, dirname, do.call, duplicated, eval, evalq, Filter, Find,\n",
      "    get, grep, grepl, intersect, is.unsorted, lapply, Map, mapply,\n",
      "    match, mget, order, paste, pmax, pmax.int, pmin, pmin.int,\n",
      "    Position, rank, rbind, Reduce, rownames, sapply, setdiff, sort,\n",
      "    table, tapply, union, unique, unsplit, which.max, which.min\n",
      "\n",
      "\n",
      "\n",
      "Attaching package: ‘S4Vectors’\n",
      "\n",
      "\n",
      "The following objects are masked from ‘package:lubridate’:\n",
      "\n",
      "    second, second<-\n",
      "\n",
      "\n",
      "The following object is masked from ‘package:tidyr’:\n",
      "\n",
      "    expand\n",
      "\n",
      "\n",
      "The following objects are masked from ‘package:dplyr’:\n",
      "\n",
      "    first, rename\n",
      "\n",
      "\n",
      "The following objects are masked from ‘package:data.table’:\n",
      "\n",
      "    first, second\n",
      "\n",
      "\n",
      "The following object is masked from ‘package:utils’:\n",
      "\n",
      "    findMatches\n",
      "\n",
      "\n",
      "The following objects are masked from ‘package:base’:\n",
      "\n",
      "    expand.grid, I, unname\n",
      "\n",
      "\n",
      "Loading required package: IRanges\n",
      "\n",
      "\n",
      "Attaching package: ‘IRanges’\n",
      "\n",
      "\n",
      "The following object is masked from ‘package:lubridate’:\n",
      "\n",
      "    %within%\n",
      "\n",
      "\n",
      "The following object is masked from ‘package:purrr’:\n",
      "\n",
      "    reduce\n",
      "\n",
      "\n",
      "The following objects are masked from ‘package:dplyr’:\n",
      "\n",
      "    collapse, desc, slice\n",
      "\n",
      "\n",
      "The following object is masked from ‘package:data.table’:\n",
      "\n",
      "    shift\n",
      "\n",
      "\n",
      "The following object is masked from ‘package:sp’:\n",
      "\n",
      "    %over%\n",
      "\n",
      "\n",
      "Loading required package: GenomicRanges\n",
      "\n",
      "Loading required package: GenomeInfoDb\n",
      "\n",
      "Loading required package: SummarizedExperiment\n",
      "\n",
      "Loading required package: MatrixGenerics\n",
      "\n",
      "Loading required package: matrixStats\n",
      "\n",
      "\n",
      "Attaching package: ‘matrixStats’\n",
      "\n",
      "\n",
      "The following object is masked from ‘package:dplyr’:\n",
      "\n",
      "    count\n",
      "\n",
      "\n",
      "\n",
      "Attaching package: ‘MatrixGenerics’\n",
      "\n",
      "\n",
      "The following objects are masked from ‘package:matrixStats’:\n",
      "\n",
      "    colAlls, colAnyNAs, colAnys, colAvgsPerRowSet, colCollapse,\n",
      "    colCounts, colCummaxs, colCummins, colCumprods, colCumsums,\n",
      "    colDiffs, colIQRDiffs, colIQRs, colLogSumExps, colMadDiffs,\n",
      "    colMads, colMaxs, colMeans2, colMedians, colMins, colOrderStats,\n",
      "    colProds, colQuantiles, colRanges, colRanks, colSdDiffs, colSds,\n",
      "    colSums2, colTabulates, colVarDiffs, colVars, colWeightedMads,\n",
      "    colWeightedMeans, colWeightedMedians, colWeightedSds,\n",
      "    colWeightedVars, rowAlls, rowAnyNAs, rowAnys, rowAvgsPerColSet,\n",
      "    rowCollapse, rowCounts, rowCummaxs, rowCummins, rowCumprods,\n",
      "    rowCumsums, rowDiffs, rowIQRDiffs, rowIQRs, rowLogSumExps,\n",
      "    rowMadDiffs, rowMads, rowMaxs, rowMeans2, rowMedians, rowMins,\n",
      "    rowOrderStats, rowProds, rowQuantiles, rowRanges, rowRanks,\n",
      "    rowSdDiffs, rowSds, rowSums2, rowTabulates, rowVarDiffs, rowVars,\n",
      "    rowWeightedMads, rowWeightedMeans, rowWeightedMedians,\n",
      "    rowWeightedSds, rowWeightedVars\n",
      "\n",
      "\n",
      "Loading required package: Biobase\n",
      "\n",
      "Welcome to Bioconductor\n",
      "\n",
      "    Vignettes contain introductory material; view with\n",
      "    'browseVignettes()'. To cite Bioconductor, see\n",
      "    'citation(\"Biobase\")', and for packages 'citation(\"pkgname\")'.\n",
      "\n",
      "\n",
      "\n",
      "Attaching package: ‘Biobase’\n",
      "\n",
      "\n",
      "The following object is masked from ‘package:MatrixGenerics’:\n",
      "\n",
      "    rowMedians\n",
      "\n",
      "\n",
      "The following objects are masked from ‘package:matrixStats’:\n",
      "\n",
      "    anyMissing, rowMedians\n",
      "\n",
      "\n",
      "\n",
      "Attaching package: ‘SummarizedExperiment’\n",
      "\n",
      "\n",
      "The following object is masked from ‘package:Seurat’:\n",
      "\n",
      "    Assays\n",
      "\n",
      "\n",
      "The following object is masked from ‘package:SeuratObject’:\n",
      "\n",
      "    Assays\n",
      "\n",
      "\n",
      "Warning message in checkDepPackageVersion(dep_pkg = \"TMB\"):\n",
      "“Package version inconsistency detected.\n",
      "glmmTMB was built with TMB version 1.9.6\n",
      "Current TMB version is 1.9.10\n",
      "Please re-install glmmTMB from source or restore original ‘TMB’ package (see '?reinstalling' for more information)”\n",
      "Registered S3 method overwritten by 'EnvStats':\n",
      "  method         from\n",
      "  print.estimate lava\n",
      "\n"
     ]
    }
   ],
   "source": [
    "source('MS0_Libraries.r')"
   ]
  },
  {
   "cell_type": "code",
   "execution_count": 3,
   "id": "1d2b812b-0cb8-4a94-ba64-1adf61317f30",
   "metadata": {},
   "outputs": [
    {
     "name": "stderr",
     "output_type": "stream",
     "text": [
      "Warning message:\n",
      "“\u001b[1m\u001b[22mThe `size` argument of `element_line()` is deprecated as of ggplot2 3.4.0.\n",
      "\u001b[36mℹ\u001b[39m Please use the `linewidth` argument instead.”\n"
     ]
    }
   ],
   "source": [
    "source('MS2_Plot_Config.r')"
   ]
  },
  {
   "cell_type": "code",
   "execution_count": 4,
   "id": "9b011f88-5d2e-4b8f-bc97-2075c6eb303e",
   "metadata": {},
   "outputs": [],
   "source": [
    "source('MS1_Functions.r')"
   ]
  },
  {
   "cell_type": "markdown",
   "id": "e87a5cf7-d4d8-446f-8200-6049579007e3",
   "metadata": {
    "tags": []
   },
   "source": [
    "###############################################\n",
    "# Preqrequisites Configurations & Parameters"
   ]
  },
  {
   "cell_type": "code",
   "execution_count": 5,
   "id": "6fb3a658-4576-46d7-91df-0bacd7c125fd",
   "metadata": {},
   "outputs": [
    {
     "name": "stderr",
     "output_type": "stream",
     "text": [
      "Warning message in read.table(file = file, header = header, sep = sep, quote = quote, :\n",
      "“incomplete final line found by readTableHeader on 'configurations/Data_Configs.csv'”\n"
     ]
    }
   ],
   "source": [
    "### Load configurations file\n",
    "global_configs = read.csv('configurations/Data_Configs.csv', sep = ',')"
   ]
  },
  {
   "cell_type": "code",
   "execution_count": 6,
   "id": "eb23d1f9-7db0-47aa-beb2-055195cddb9e",
   "metadata": {},
   "outputs": [
    {
     "data": {
      "text/html": [
       "<table class=\"dataframe\">\n",
       "<caption>A data.frame: 2 × 2</caption>\n",
       "<thead>\n",
       "\t<tr><th></th><th scope=col>parameter</th><th scope=col>value</th></tr>\n",
       "\t<tr><th></th><th scope=col>&lt;chr&gt;</th><th scope=col>&lt;chr&gt;</th></tr>\n",
       "</thead>\n",
       "<tbody>\n",
       "\t<tr><th scope=row>1</th><td>data_path  </td><td>/lustre/groups/epigenereg01/workspace/projects/jove/input_data/</td></tr>\n",
       "\t<tr><th scope=row>2</th><td>result_path</td><td>/lustre/groups/epigenereg01/workspace/projects/jove/results/   </td></tr>\n",
       "</tbody>\n",
       "</table>\n"
      ],
      "text/latex": [
       "A data.frame: 2 × 2\n",
       "\\begin{tabular}{r|ll}\n",
       "  & parameter & value\\\\\n",
       "  & <chr> & <chr>\\\\\n",
       "\\hline\n",
       "\t1 & data\\_path   & /lustre/groups/epigenereg01/workspace/projects/jove/input\\_data/\\\\\n",
       "\t2 & result\\_path & /lustre/groups/epigenereg01/workspace/projects/jove/results/   \\\\\n",
       "\\end{tabular}\n"
      ],
      "text/markdown": [
       "\n",
       "A data.frame: 2 × 2\n",
       "\n",
       "| <!--/--> | parameter &lt;chr&gt; | value &lt;chr&gt; |\n",
       "|---|---|---|\n",
       "| 1 | data_path   | /lustre/groups/epigenereg01/workspace/projects/jove/input_data/ |\n",
       "| 2 | result_path | /lustre/groups/epigenereg01/workspace/projects/jove/results/    |\n",
       "\n"
      ],
      "text/plain": [
       "  parameter   value                                                          \n",
       "1 data_path   /lustre/groups/epigenereg01/workspace/projects/jove/input_data/\n",
       "2 result_path /lustre/groups/epigenereg01/workspace/projects/jove/results/   "
      ]
     },
     "metadata": {},
     "output_type": "display_data"
    }
   ],
   "source": [
    "head(global_configs,2)"
   ]
  },
  {
   "cell_type": "code",
   "execution_count": 7,
   "id": "0c7db0bc-ec41-4c0d-8c52-64ce0055a4c2",
   "metadata": {},
   "outputs": [],
   "source": [
    "data_path = global_configs$value[global_configs$parameter == 'data_path']"
   ]
  },
  {
   "cell_type": "code",
   "execution_count": 8,
   "id": "a26c5d9c-6395-4983-8d06-7bf6d23fd274",
   "metadata": {},
   "outputs": [
    {
     "data": {
      "text/html": [
       "'/lustre/groups/epigenereg01/workspace/projects/jove/input_data/'"
      ],
      "text/latex": [
       "'/lustre/groups/epigenereg01/workspace/projects/jove/input\\_data/'"
      ],
      "text/markdown": [
       "'/lustre/groups/epigenereg01/workspace/projects/jove/input_data/'"
      ],
      "text/plain": [
       "[1] \"/lustre/groups/epigenereg01/workspace/projects/jove/input_data/\""
      ]
     },
     "metadata": {},
     "output_type": "display_data"
    }
   ],
   "source": [
    "data_path"
   ]
  },
  {
   "cell_type": "code",
   "execution_count": 9,
   "id": "f6c65f96-97bf-4082-9d43-755cf3cad2f6",
   "metadata": {},
   "outputs": [],
   "source": [
    "result_path = global_configs$value[global_configs$parameter == 'result_path']"
   ]
  },
  {
   "cell_type": "code",
   "execution_count": 10,
   "id": "213941c4-7637-4444-8c85-b056e96326b4",
   "metadata": {},
   "outputs": [
    {
     "data": {
      "text/html": [
       "'/lustre/groups/epigenereg01/workspace/projects/jove/results/'"
      ],
      "text/latex": [
       "'/lustre/groups/epigenereg01/workspace/projects/jove/results/'"
      ],
      "text/markdown": [
       "'/lustre/groups/epigenereg01/workspace/projects/jove/results/'"
      ],
      "text/plain": [
       "[1] \"/lustre/groups/epigenereg01/workspace/projects/jove/results/\""
      ]
     },
     "metadata": {},
     "output_type": "display_data"
    }
   ],
   "source": [
    "result_path"
   ]
  },
  {
   "cell_type": "code",
   "execution_count": 11,
   "id": "a751133a-e479-4350-b78f-c4d7b98f8f87",
   "metadata": {},
   "outputs": [],
   "source": [
    "## SC Data Configurations"
   ]
  },
  {
   "cell_type": "code",
   "execution_count": 12,
   "id": "f1b3b18f-48e5-426c-8ba2-ed07e7d3dc35",
   "metadata": {},
   "outputs": [
    {
     "name": "stderr",
     "output_type": "stream",
     "text": [
      "Warning message in read.table(file = file, header = header, sep = sep, quote = quote, :\n",
      "“incomplete final line found by readTableHeader on 'configurations/02_Pre_Processing_Configs_SC.csv'”\n"
     ]
    }
   ],
   "source": [
    "sc_configs = read.csv('configurations/02_Pre_Processing_Configs_SC.csv', sep = ',')"
   ]
  },
  {
   "cell_type": "code",
   "execution_count": 13,
   "id": "192e781d-3025-4cce-b9d8-3f2bb66d449c",
   "metadata": {},
   "outputs": [
    {
     "data": {
      "text/html": [
       "<table class=\"dataframe\">\n",
       "<caption>A data.frame: 1 × 6</caption>\n",
       "<thead>\n",
       "\t<tr><th></th><th scope=col>configuration_name</th><th scope=col>data_name</th><th scope=col>data_type</th><th scope=col>cell_expr_thres1</th><th scope=col>cell_expr_thres2</th><th scope=col>cell_type_exclusion</th></tr>\n",
       "\t<tr><th></th><th scope=col>&lt;chr&gt;</th><th scope=col>&lt;chr&gt;</th><th scope=col>&lt;chr&gt;</th><th scope=col>&lt;chr&gt;</th><th scope=col>&lt;chr&gt;</th><th scope=col>&lt;chr&gt;</th></tr>\n",
       "</thead>\n",
       "<tbody>\n",
       "\t<tr><th scope=row>1</th><td>config1</td><td>Prepared_sc_Data</td><td>h5seurat</td><td>50;10</td><td>40;20</td><td>Platelet,Plasmablast,pDC,Eryth,Doublet,dnT,cdC1,CD8 TCM,CD8 Proliferating,CD4 Proliferating,NK Proliferating,ASDC,NK_CD56bright,ILC,MAIT,HSPC</td></tr>\n",
       "</tbody>\n",
       "</table>\n"
      ],
      "text/latex": [
       "A data.frame: 1 × 6\n",
       "\\begin{tabular}{r|llllll}\n",
       "  & configuration\\_name & data\\_name & data\\_type & cell\\_expr\\_thres1 & cell\\_expr\\_thres2 & cell\\_type\\_exclusion\\\\\n",
       "  & <chr> & <chr> & <chr> & <chr> & <chr> & <chr>\\\\\n",
       "\\hline\n",
       "\t1 & config1 & Prepared\\_sc\\_Data & h5seurat & 50;10 & 40;20 & Platelet,Plasmablast,pDC,Eryth,Doublet,dnT,cdC1,CD8 TCM,CD8 Proliferating,CD4 Proliferating,NK Proliferating,ASDC,NK\\_CD56bright,ILC,MAIT,HSPC\\\\\n",
       "\\end{tabular}\n"
      ],
      "text/markdown": [
       "\n",
       "A data.frame: 1 × 6\n",
       "\n",
       "| <!--/--> | configuration_name &lt;chr&gt; | data_name &lt;chr&gt; | data_type &lt;chr&gt; | cell_expr_thres1 &lt;chr&gt; | cell_expr_thres2 &lt;chr&gt; | cell_type_exclusion &lt;chr&gt; |\n",
       "|---|---|---|---|---|---|---|\n",
       "| 1 | config1 | Prepared_sc_Data | h5seurat | 50;10 | 40;20 | Platelet,Plasmablast,pDC,Eryth,Doublet,dnT,cdC1,CD8 TCM,CD8 Proliferating,CD4 Proliferating,NK Proliferating,ASDC,NK_CD56bright,ILC,MAIT,HSPC |\n",
       "\n"
      ],
      "text/plain": [
       "  configuration_name data_name        data_type cell_expr_thres1\n",
       "1 config1            Prepared_sc_Data h5seurat  50;10           \n",
       "  cell_expr_thres2\n",
       "1 40;20           \n",
       "  cell_type_exclusion                                                                                                                          \n",
       "1 Platelet,Plasmablast,pDC,Eryth,Doublet,dnT,cdC1,CD8 TCM,CD8 Proliferating,CD4 Proliferating,NK Proliferating,ASDC,NK_CD56bright,ILC,MAIT,HSPC"
      ]
     },
     "metadata": {},
     "output_type": "display_data"
    }
   ],
   "source": [
    "head(sc_configs,2)"
   ]
  },
  {
   "cell_type": "code",
   "execution_count": 14,
   "id": "4750c87c-f620-4217-8c0f-c23a80f2f81a",
   "metadata": {},
   "outputs": [],
   "source": [
    "sc_configs = sc_configs[sc_configs$data_name != '',]"
   ]
  },
  {
   "cell_type": "code",
   "execution_count": null,
   "id": "ad18cd4f-33c1-4333-ab50-5c1d6144e55e",
   "metadata": {},
   "outputs": [],
   "source": []
  },
  {
   "cell_type": "code",
   "execution_count": null,
   "id": "156ba443-e561-4097-a1b5-4067877b4277",
   "metadata": {},
   "outputs": [],
   "source": []
  },
  {
   "cell_type": "code",
   "execution_count": 15,
   "id": "67ebcea0-da43-48c1-b46f-5bbe5057aaea",
   "metadata": {
    "tags": []
   },
   "outputs": [],
   "source": [
    "## Other Data Configurations"
   ]
  },
  {
   "cell_type": "code",
   "execution_count": 16,
   "id": "44771cf5-b625-41a2-be15-5c4cca0ee850",
   "metadata": {},
   "outputs": [],
   "source": [
    "data_configs = read.csv('configurations/02_Pre_Processing_Configs.csv', sep = ',')"
   ]
  },
  {
   "cell_type": "code",
   "execution_count": 17,
   "id": "bdebe806-0d95-49b7-80f0-b5b6650060b9",
   "metadata": {},
   "outputs": [],
   "source": [
    "data_configs = data_configs[data_configs$configuration_name != '',]   # remove lines with empty configuration names\n",
    "data_configs = data_configs[!is.na(data_configs$configuration_name),]  # remove lines with NA in configuration name"
   ]
  },
  {
   "cell_type": "code",
   "execution_count": 18,
   "id": "5e519d3b-5ae0-463e-8302-c23c9caf4e2d",
   "metadata": {},
   "outputs": [
    {
     "data": {
      "text/html": [
       "<table class=\"dataframe\">\n",
       "<caption>A data.frame: 5 × 13</caption>\n",
       "<thead>\n",
       "\t<tr><th></th><th scope=col>configuration_name</th><th scope=col>data_name</th><th scope=col>file_type</th><th scope=col>data_type</th><th scope=col>remove_sample_ids</th><th scope=col>sample_filtering_thres</th><th scope=col>feature_filtering_thres</th><th scope=col>library_adjustment</th><th scope=col>log_transformation</th><th scope=col>variable_genes_filtering</th><th scope=col>quantile_normalization_samples</th><th scope=col>ribosomal_mitochondrial_gene_filtering</th><th scope=col>feature_wise_quantile_normalization</th></tr>\n",
       "\t<tr><th></th><th scope=col>&lt;chr&gt;</th><th scope=col>&lt;chr&gt;</th><th scope=col>&lt;chr&gt;</th><th scope=col>&lt;chr&gt;</th><th scope=col>&lt;lgl&gt;</th><th scope=col>&lt;dbl&gt;</th><th scope=col>&lt;dbl&gt;</th><th scope=col>&lt;lgl&gt;</th><th scope=col>&lt;lgl&gt;</th><th scope=col>&lt;dbl&gt;</th><th scope=col>&lt;lgl&gt;</th><th scope=col>&lt;lgl&gt;</th><th scope=col>&lt;lgl&gt;</th></tr>\n",
       "</thead>\n",
       "<tbody>\n",
       "\t<tr><th scope=row>1</th><td>config1</td><td>Prepared_Proteomic_Data </td><td>csv     </td><td>proteomic </td><td>NA</td><td>1.0</td><td>0.20</td><td>FALSE</td><td>FALSE</td><td>1.00</td><td>FALSE</td><td>FALSE</td><td>TRUE</td></tr>\n",
       "\t<tr><th scope=row>2</th><td>config1</td><td>Prepared_Cytokine_Data  </td><td>csv     </td><td>cytokine  </td><td>NA</td><td>1.0</td><td>0.20</td><td>FALSE</td><td> TRUE</td><td>1.00</td><td>FALSE</td><td>FALSE</td><td>TRUE</td></tr>\n",
       "\t<tr><th scope=row>3</th><td>config1</td><td>Prepared_Clinical_Data  </td><td>csv     </td><td>clinical  </td><td>NA</td><td>1.0</td><td>0.20</td><td>FALSE</td><td> TRUE</td><td>1.00</td><td>FALSE</td><td>FALSE</td><td>TRUE</td></tr>\n",
       "\t<tr><th scope=row>4</th><td>config1</td><td>Prepared_sc_Data        </td><td>h5seurat</td><td>sc        </td><td>NA</td><td>1.0</td><td>0.05</td><td> TRUE</td><td> TRUE</td><td>1.00</td><td> TRUE</td><td> TRUE</td><td>TRUE</td></tr>\n",
       "\t<tr><th scope=row>5</th><td>config1</td><td>Prepared_Neutrophil_Data</td><td>csv     </td><td>neutrophil</td><td>NA</td><td>0.9</td><td>0.80</td><td> TRUE</td><td> TRUE</td><td>0.75</td><td> TRUE</td><td> TRUE</td><td>TRUE</td></tr>\n",
       "</tbody>\n",
       "</table>\n"
      ],
      "text/latex": [
       "A data.frame: 5 × 13\n",
       "\\begin{tabular}{r|lllllllllllll}\n",
       "  & configuration\\_name & data\\_name & file\\_type & data\\_type & remove\\_sample\\_ids & sample\\_filtering\\_thres & feature\\_filtering\\_thres & library\\_adjustment & log\\_transformation & variable\\_genes\\_filtering & quantile\\_normalization\\_samples & ribosomal\\_mitochondrial\\_gene\\_filtering & feature\\_wise\\_quantile\\_normalization\\\\\n",
       "  & <chr> & <chr> & <chr> & <chr> & <lgl> & <dbl> & <dbl> & <lgl> & <lgl> & <dbl> & <lgl> & <lgl> & <lgl>\\\\\n",
       "\\hline\n",
       "\t1 & config1 & Prepared\\_Proteomic\\_Data  & csv      & proteomic  & NA & 1.0 & 0.20 & FALSE & FALSE & 1.00 & FALSE & FALSE & TRUE\\\\\n",
       "\t2 & config1 & Prepared\\_Cytokine\\_Data   & csv      & cytokine   & NA & 1.0 & 0.20 & FALSE &  TRUE & 1.00 & FALSE & FALSE & TRUE\\\\\n",
       "\t3 & config1 & Prepared\\_Clinical\\_Data   & csv      & clinical   & NA & 1.0 & 0.20 & FALSE &  TRUE & 1.00 & FALSE & FALSE & TRUE\\\\\n",
       "\t4 & config1 & Prepared\\_sc\\_Data         & h5seurat & sc         & NA & 1.0 & 0.05 &  TRUE &  TRUE & 1.00 &  TRUE &  TRUE & TRUE\\\\\n",
       "\t5 & config1 & Prepared\\_Neutrophil\\_Data & csv      & neutrophil & NA & 0.9 & 0.80 &  TRUE &  TRUE & 0.75 &  TRUE &  TRUE & TRUE\\\\\n",
       "\\end{tabular}\n"
      ],
      "text/markdown": [
       "\n",
       "A data.frame: 5 × 13\n",
       "\n",
       "| <!--/--> | configuration_name &lt;chr&gt; | data_name &lt;chr&gt; | file_type &lt;chr&gt; | data_type &lt;chr&gt; | remove_sample_ids &lt;lgl&gt; | sample_filtering_thres &lt;dbl&gt; | feature_filtering_thres &lt;dbl&gt; | library_adjustment &lt;lgl&gt; | log_transformation &lt;lgl&gt; | variable_genes_filtering &lt;dbl&gt; | quantile_normalization_samples &lt;lgl&gt; | ribosomal_mitochondrial_gene_filtering &lt;lgl&gt; | feature_wise_quantile_normalization &lt;lgl&gt; |\n",
       "|---|---|---|---|---|---|---|---|---|---|---|---|---|---|\n",
       "| 1 | config1 | Prepared_Proteomic_Data  | csv      | proteomic  | NA | 1.0 | 0.20 | FALSE | FALSE | 1.00 | FALSE | FALSE | TRUE |\n",
       "| 2 | config1 | Prepared_Cytokine_Data   | csv      | cytokine   | NA | 1.0 | 0.20 | FALSE |  TRUE | 1.00 | FALSE | FALSE | TRUE |\n",
       "| 3 | config1 | Prepared_Clinical_Data   | csv      | clinical   | NA | 1.0 | 0.20 | FALSE |  TRUE | 1.00 | FALSE | FALSE | TRUE |\n",
       "| 4 | config1 | Prepared_sc_Data         | h5seurat | sc         | NA | 1.0 | 0.05 |  TRUE |  TRUE | 1.00 |  TRUE |  TRUE | TRUE |\n",
       "| 5 | config1 | Prepared_Neutrophil_Data | csv      | neutrophil | NA | 0.9 | 0.80 |  TRUE |  TRUE | 0.75 |  TRUE |  TRUE | TRUE |\n",
       "\n"
      ],
      "text/plain": [
       "  configuration_name data_name                file_type data_type \n",
       "1 config1            Prepared_Proteomic_Data  csv       proteomic \n",
       "2 config1            Prepared_Cytokine_Data   csv       cytokine  \n",
       "3 config1            Prepared_Clinical_Data   csv       clinical  \n",
       "4 config1            Prepared_sc_Data         h5seurat  sc        \n",
       "5 config1            Prepared_Neutrophil_Data csv       neutrophil\n",
       "  remove_sample_ids sample_filtering_thres feature_filtering_thres\n",
       "1 NA                1.0                    0.20                   \n",
       "2 NA                1.0                    0.20                   \n",
       "3 NA                1.0                    0.20                   \n",
       "4 NA                1.0                    0.05                   \n",
       "5 NA                0.9                    0.80                   \n",
       "  library_adjustment log_transformation variable_genes_filtering\n",
       "1 FALSE              FALSE              1.00                    \n",
       "2 FALSE               TRUE              1.00                    \n",
       "3 FALSE               TRUE              1.00                    \n",
       "4  TRUE               TRUE              1.00                    \n",
       "5  TRUE               TRUE              0.75                    \n",
       "  quantile_normalization_samples ribosomal_mitochondrial_gene_filtering\n",
       "1 FALSE                          FALSE                                 \n",
       "2 FALSE                          FALSE                                 \n",
       "3 FALSE                          FALSE                                 \n",
       "4  TRUE                           TRUE                                 \n",
       "5  TRUE                           TRUE                                 \n",
       "  feature_wise_quantile_normalization\n",
       "1 TRUE                               \n",
       "2 TRUE                               \n",
       "3 TRUE                               \n",
       "4 TRUE                               \n",
       "5 TRUE                               "
      ]
     },
     "metadata": {},
     "output_type": "display_data"
    }
   ],
   "source": [
    "head(data_configs)"
   ]
  },
  {
   "cell_type": "code",
   "execution_count": null,
   "id": "8dd33081-6e9e-48c7-958f-7aa535644b43",
   "metadata": {},
   "outputs": [],
   "source": []
  },
  {
   "cell_type": "code",
   "execution_count": null,
   "id": "0cc8798e-8b3b-4d51-b64c-1d16ecb82062",
   "metadata": {},
   "outputs": [],
   "source": []
  },
  {
   "cell_type": "markdown",
   "id": "2be3bf8c-3704-4db9-913e-959f6c7c33fe",
   "metadata": {},
   "source": [
    "# Load Data"
   ]
  },
  {
   "cell_type": "code",
   "execution_count": null,
   "id": "6ed0fe36-b83c-44f7-97b7-7c7e887f24ea",
   "metadata": {},
   "outputs": [],
   "source": [
    "### Load sc Data and apply cell-type exclusion per config"
   ]
  },
  {
   "cell_type": "code",
   "execution_count": null,
   "id": "30f46be6-501d-43f5-a3ae-c69d957059a2",
   "metadata": {},
   "outputs": [],
   "source": [
    "datasets = list()"
   ]
  },
  {
   "cell_type": "code",
   "execution_count": null,
   "id": "ba218666-d3af-4583-85e4-5899185de72c",
   "metadata": {
    "tags": []
   },
   "outputs": [],
   "source": [
    "## Load Data TABLE FORMAT\n",
    "if(nrow(sc_configs) > 0){\n",
    "for(j in 1:nrow(sc_configs)){\n",
    "    sc_data_name = sc_configs$data_name[j]\n",
    "    sc_data =  fread(paste0(result_path, '/01_results/01_', sc_data_name, 'Pseudobulk_Table', '.csv'))\n",
    "\n",
    "    sc_data$V1 = NULL\n",
    "\n",
    "    ## Split up sc to different configs\n",
    "    for(i in unique(sc_configs$configuration_name)){    \n",
    "        for(j in unique(sc_configs$data_name[sc_configs$configuration_name == i])){\n",
    "\n",
    "            data = sc_data[sc_data$dataset == j,]\n",
    "\n",
    "            ## Exclude cell-types\n",
    "            if(!is.na(sc_configs$cell_type_exclusion[sc_configs$configuration_name == i])){\n",
    "            data = data[!data$type %in% unlist(strsplit(sc_configs$cell_type_exclusion[sc_configs$configuration_name == i] ,',')),]\n",
    "                }\n",
    "\n",
    "            datasets[[i]][[j]] = data\n",
    "            }\n",
    "        }\n",
    "    }    \n",
    " }   "
   ]
  },
  {
   "cell_type": "code",
   "execution_count": null,
   "id": "ad02a723-f7ba-4732-9188-097c879287c4",
   "metadata": {},
   "outputs": [],
   "source": [
    "### Load the other datasets per config"
   ]
  },
  {
   "cell_type": "code",
   "execution_count": null,
   "id": "cc29e4ac-58df-4bd6-8e61-4754f39d5b39",
   "metadata": {
    "tags": []
   },
   "outputs": [],
   "source": [
    "for(i in unique(data_configs$configuration_name)){     # for each config\n",
    "    for(j in unique(data_configs$data_name[data_configs$configuration_name == i])){      # each specifiec data-name\n",
    "        \n",
    "        configuration = data_configs[(data_configs$configuration_name == i) & (data_configs$data_name == j),]\n",
    "        \n",
    "        if(configuration$file_type == 'csv'){\n",
    "        data = read.csv(paste0(data_path, j, '.csv'))\n",
    "        data$X = NULL\n",
    "        data = melt(data, id.vars = 'sample_id')\n",
    "        data$dataset = j\n",
    "        data$type = configuration$data_type\n",
    "        \n",
    "        datasets[[i]][[j]] = data\n",
    "        }\n",
    "        }\n",
    "    }"
   ]
  },
  {
   "cell_type": "code",
   "execution_count": null,
   "id": "647e032b-3dc8-41b5-a4ed-ee061ca6f1c9",
   "metadata": {},
   "outputs": [],
   "source": [
    "head(data,2)"
   ]
  },
  {
   "cell_type": "code",
   "execution_count": null,
   "id": "3ebe449c-9dd3-41aa-bf99-a7569807be43",
   "metadata": {},
   "outputs": [],
   "source": [
    "str(datasets)"
   ]
  },
  {
   "cell_type": "code",
   "execution_count": null,
   "id": "bff61d5c-58dc-477f-9ebc-f8a54e9f034c",
   "metadata": {},
   "outputs": [],
   "source": [
    "data_backup = datasets"
   ]
  },
  {
   "cell_type": "code",
   "execution_count": null,
   "id": "b1d67422-76bc-4156-8dca-33f02740514a",
   "metadata": {},
   "outputs": [],
   "source": [
    "datasets = data_backup"
   ]
  },
  {
   "cell_type": "code",
   "execution_count": null,
   "id": "d577f3e3-dc34-49d1-a815-280b7520e76b",
   "metadata": {},
   "outputs": [],
   "source": [
    "sort(unique(datasets[[1]][['Prepared_sc_Data']]$type))"
   ]
  },
  {
   "cell_type": "markdown",
   "id": "a4d4a768-09ae-419f-9287-10c0789e42b4",
   "metadata": {},
   "source": [
    "# Processing of each data type according to config"
   ]
  },
  {
   "cell_type": "markdown",
   "id": "37e1ff38-25b5-4350-9948-515cc5c79a2b",
   "metadata": {},
   "source": [
    "## Sample Filter"
   ]
  },
  {
   "cell_type": "code",
   "execution_count": null,
   "id": "91c1516f-a6a8-4944-900f-8b9f4b3016e8",
   "metadata": {},
   "outputs": [],
   "source": [
    "head(data_configs,2)"
   ]
  },
  {
   "cell_type": "code",
   "execution_count": null,
   "id": "4576b684-31d1-47a0-ac22-690ef3a5f18b",
   "metadata": {},
   "outputs": [],
   "source": [
    "for(i in 1:nrow(data_configs)){\n",
    "    ### Remove samples based on specified samples in remove_sample_ids column\n",
    "    if( (!is.na(data_configs$remove_sample_ids[i])) & (data_configs$remove_sample_ids[i] != '')){\n",
    "        \n",
    "        print(paste0('Filtered specific samples for ',data_configs$data_name[i], ' ',  unique( unlist(strsplit(data_configs$remove_sample_ids[i], ',')))))\n",
    "        \n",
    "        data = datasets[[data_configs$configuration_name[i]]][[data_configs$data_name[i]]]\n",
    "        \n",
    "        ### remove samples\n",
    "        data = data[! data$sample_id %in% unlist(strsplit(data_configs$remove_sample_ids[i], ',')),]  # TBD check!\n",
    "        \n",
    "        ### replace adjusted data\n",
    "        datasets[[data_configs$configuration_name[i]]][[data_configs$data_name[i]]] = data\n",
    "        \n",
    "        }\n",
    "    \n",
    "     ### Remove samples based on threshold in sample_filtering_thres\n",
    "     if ( (as.numeric(data_configs$sample_filtering_thres[i]) < 1) & (as.numeric(data_configs$sample_filtering_thres[i]) > 0)){\n",
    "         \n",
    "         print(paste0('Filtered samples based on threshold for ',data_configs$data_name[i])) \n",
    "         data = datasets[[data_configs$configuration_name[i]]][[data_configs$data_name[i]]]\n",
    "         print(paste0('Amount samples before filtering ', length(unique(data$sample_id))))\n",
    "         \n",
    "         ### calculate percentage of features with zero values\n",
    "         data = data %>% group_by(sample_id, type) %>% mutate(zero_expression_percentage = sum(value == 0)/ n())\n",
    "         ### filter out samples if percentage higher than threshold\n",
    "         data = data[data$zero_expression_percentage < data_configs$sample_filtering_thres[i],]\n",
    "         print(paste0('Amount samples after filtering ', length(unique(data$sample_id))))\n",
    "         \n",
    "         ### remove generated columns\n",
    "         data$zero_expression_percentage = NULL\n",
    "         \n",
    "         ### replace adjusted data\n",
    "         datasets[[data_configs$configuration_name[i]]][[data_configs$data_name[i]]] = data            \n",
    "    } \n",
    "}\n",
    "        "
   ]
  },
  {
   "cell_type": "markdown",
   "id": "b738cb60-5d06-467e-9d29-9492b35792a7",
   "metadata": {
    "tags": []
   },
   "source": [
    "## Feature Removal (based on sample expression)"
   ]
  },
  {
   "cell_type": "code",
   "execution_count": null,
   "id": "6067a8f9-6883-46ab-8574-469c05302e90",
   "metadata": {},
   "outputs": [],
   "source": [
    "## Filter out features that are not expressed in a certain amount of sample"
   ]
  },
  {
   "cell_type": "code",
   "execution_count": null,
   "id": "2998fd19-228d-43c8-98f3-63f322039aad",
   "metadata": {},
   "outputs": [],
   "source": [
    "head(data_configs,2)"
   ]
  },
  {
   "cell_type": "code",
   "execution_count": null,
   "id": "2ccad272-3ad4-4904-9d95-4a82a869fcf4",
   "metadata": {},
   "outputs": [],
   "source": [
    "data = datasets[[data_configs$configuration_name[i]]][[data_configs$data_name[i]]]"
   ]
  },
  {
   "cell_type": "code",
   "execution_count": null,
   "id": "46ff6851-1a0f-4b4c-a20f-a8fbfe3f98f0",
   "metadata": {},
   "outputs": [],
   "source": [
    "head(data,2)"
   ]
  },
  {
   "cell_type": "code",
   "execution_count": null,
   "id": "c9ada9ef-f0b0-4bf4-96aa-74cd413c59a5",
   "metadata": {
    "tags": []
   },
   "outputs": [],
   "source": [
    "for(i in 1:nrow(data_configs)){\n",
    "\n",
    "    if( (!is.na(data_configs$feature_filtering_thres[i])) & (data_configs$feature_filtering_thres[i] != '')  & (data_configs$feature_filtering_thres[i] > 0)){\n",
    "        \n",
    "        data = datasets[[data_configs$configuration_name[i]]][[data_configs$data_name[i]]]\n",
    "        \n",
    "        print(paste0(data_configs$configuration_name[i], ' ' ,data_configs$data_name[i]))\n",
    "        \n",
    "        ## Determine data to filter\n",
    "        data$expression = TRUE\n",
    "        data$expression[data$value == 0] = FALSE\n",
    "        expression_filter = data %>% group_by(type, variable) %>% summarise(perc_expression = sum(expression)  )\n",
    "        expression_filter$perc_expression = expression_filter$perc_expression / length(unique(data$sample_id))\n",
    "        \n",
    "        ## Apply filter\n",
    "        filtered_out = expression_filter[expression_filter$perc_expression <= data_configs$feature_filtering_thres[i],]\n",
    "        print(paste0( 'Filtered: ' ))\n",
    "        if(nrow(filtered_out) > 0){\n",
    "            print(filtered_out %>% dplyr::group_by(type) %>% dplyr::count())\n",
    "            }\n",
    "        expression_filter = expression_filter[expression_filter$perc_expression >data_configs$feature_filtering_thres[i],]  # kept data\n",
    "        \n",
    "        data = merge(data, expression_filter[,c('type', 'variable')], by.x = c('type', 'variable'), by.y = c('type', 'variable'))   # filter the data\n",
    "        \n",
    "        ## Remove expression column \n",
    "        data$expression = NULL\n",
    "        \n",
    "        ## Replace \n",
    "        datasets[[data_configs$configuration_name[i]]][[data_configs$data_name[i]]]  = data\n",
    "        \n",
    "      }\n",
    "}"
   ]
  },
  {
   "cell_type": "markdown",
   "id": "48847de6-41b2-46e7-a50c-649e8d3f0d3f",
   "metadata": {},
   "source": [
    "## Library Adjustment"
   ]
  },
  {
   "cell_type": "code",
   "execution_count": null,
   "id": "a565f488-b351-4574-993d-a723fde6a2dc",
   "metadata": {},
   "outputs": [],
   "source": [
    "head(data_configs,2)"
   ]
  },
  {
   "cell_type": "code",
   "execution_count": null,
   "id": "2f80b5d3-a2ce-4e70-9245-ccc67f7e1d06",
   "metadata": {},
   "outputs": [],
   "source": [
    "for(i in 1:nrow(data_configs)){\n",
    "    if((data_configs$library_adjustment[i] == 'TRUE')){\n",
    "        \n",
    "        print(paste0('Library Adjustment for ',data_configs$data_name[i]))\n",
    "        \n",
    "        data = datasets[[data_configs$configuration_name[i]]][[data_configs$data_name[i]]]\n",
    "\n",
    "        ### Calculate scaling factor per sample\n",
    "        data = data %>% group_by(sample_id,type) %>% mutate(sample_counts = sum(value))\n",
    "        data = data %>% group_by(type) %>% mutate(mean_sample_counts = mean(sample_counts))\n",
    "        \n",
    "        data$scaling_factor = data$sample_counts/ data$mean_sample_counts\n",
    "        data$scaling_factor[data$scaling_factor == 0] = 1 # avoid dividing by 0; TBD whether to include or exclude samples with only zero counts in a cell-type\n",
    "        \n",
    "        ### Apply scaling to counts\n",
    "        \n",
    "        data$value = data$value / data$scaling_factor\n",
    "        \n",
    "        ### Save transformed data to list\n",
    "        datasets[[data_configs$configuration_name[i]]][[data_configs$data_name[i]]] = data\n",
    "        \n",
    "        }\n",
    "    }\n",
    "        "
   ]
  },
  {
   "cell_type": "markdown",
   "id": "ee1b7c55-f0a7-4104-956b-e9c68193dec2",
   "metadata": {
    "tags": []
   },
   "source": [
    "## Gene Filtering (according to cells expressing genes - only for sc Data)"
   ]
  },
  {
   "cell_type": "code",
   "execution_count": null,
   "id": "c69fefaf-695b-4015-a767-fa4df65abd42",
   "metadata": {},
   "outputs": [],
   "source": [
    "head(sc_configs,2)"
   ]
  },
  {
   "cell_type": "code",
   "execution_count": null,
   "id": "e128db00-559f-439d-a32a-6d90f163191e",
   "metadata": {},
   "outputs": [],
   "source": [
    "## Load gene filtering information"
   ]
  },
  {
   "cell_type": "code",
   "execution_count": null,
   "id": "ea353a0d-b314-46a1-a628-4842a63612b9",
   "metadata": {},
   "outputs": [],
   "source": [
    "gene_expression_info = read.csv(paste0(result_path, '/01_results/01_Prepared_sc_Data_Gene_Expr_per_Cell_Type.csv'))\n",
    "gene_expression_info$X = NULL"
   ]
  },
  {
   "cell_type": "code",
   "execution_count": null,
   "id": "22c7e69a-56f3-4305-bdfc-4a74e0e5efc2",
   "metadata": {},
   "outputs": [],
   "source": [
    "head(gene_expression_info,2)"
   ]
  },
  {
   "cell_type": "code",
   "execution_count": null,
   "id": "f2710d81-ddf8-4b8d-9618-ccf9a011b32f",
   "metadata": {},
   "outputs": [],
   "source": [
    "if(nrow(sc_configs) > 0){\n",
    "for(i in 1:nrow(sc_configs)){\n",
    "        \n",
    "        print(paste0('Gene Filtering for  ',sc_configs$configuration_name[i]))\n",
    "        \n",
    "        data = datasets[[sc_configs$configuration_name[i]]][[sc_configs$data_name[i]]]\n",
    "    \n",
    "        ## Get thresholds for config\n",
    "        thres1 = as.numeric(unlist(str_split(sc_configs$cell_expr_thres1[i], ';')))\n",
    "        thres2 = as.numeric(unlist(str_split(sc_configs$cell_expr_thres2[i], ';')))\n",
    "        amount_samples = length(unique(data$sample_id))\n",
    "        print(paste0('Amount Samples', amount_samples))\n",
    "    \n",
    "        ## Filter down gene Expression info\n",
    "        gene_filtering =  gene_expression_info[((gene_expression_info$perc_cells > thres1[1]) & (gene_expression_info$total_amount_cells_expressing_gene > amount_samples * thres1[2])) |\n",
    "         ((gene_expression_info$perc_cells > thres2[1]) & (gene_expression_info$total_amount_cells_expressing_gene > amount_samples * thres2[2])) ,]\n",
    "    \n",
    "        ## Apply to thresholds\n",
    "        filtered_data = data.frame()\n",
    "        for( k in unique(data$type)){\n",
    "            data_cluster = data[(data$type == k) & (data$variable %in% gene_filtering$gene[gene_filtering$cluster == k]),]\n",
    "            filtered_data = rbind(filtered_data, data_cluster)\n",
    "            }\n",
    "        datasets[[sc_configs$configuration_name[i]]][[sc_configs$data_name[i]]] = filtered_data\n",
    "    }\n",
    "    }"
   ]
  },
  {
   "cell_type": "code",
   "execution_count": null,
   "id": "dd543378-0594-4789-a234-98db4d60bd0c",
   "metadata": {},
   "outputs": [],
   "source": [
    "### Amount of genes after filtering"
   ]
  },
  {
   "cell_type": "code",
   "execution_count": null,
   "id": "655f050c-272c-4027-b561-df16a0a50a73",
   "metadata": {},
   "outputs": [],
   "source": [
    "#unique(datasets[[1]][['Prepared_sc_Data']][,c('type', 'variable')])%>% group_by(type) %>% dplyr::count()"
   ]
  },
  {
   "cell_type": "markdown",
   "id": "d6753537-6acf-4340-98ad-ee5ed8fce101",
   "metadata": {},
   "source": [
    "## Log Transformation"
   ]
  },
  {
   "cell_type": "code",
   "execution_count": null,
   "id": "31452215-cd3d-44b0-8fb0-981266832e91",
   "metadata": {},
   "outputs": [],
   "source": [
    "head(data_configs,2)"
   ]
  },
  {
   "cell_type": "code",
   "execution_count": null,
   "id": "1637342a-998f-48c9-8936-1fc8aedae95c",
   "metadata": {},
   "outputs": [],
   "source": [
    "for(i in 1:nrow(data_configs)){\n",
    "    if((data_configs$log_transformation[i] == 'TRUE')){\n",
    "        \n",
    "        print(paste0('Log Transformation for ',data_configs$data_name[i]))\n",
    "        data = datasets[[data_configs$configuration_name[i]]][[data_configs$data_name[i]]]\n",
    "        \n",
    "        data$value = log2(data$value + 1)  # add pseudocount of 1\n",
    "        \n",
    "        datasets[[data_configs$configuration_name[i]]][[data_configs$data_name[i]]] = data # save adjusted data\n",
    "        }\n",
    "    }\n",
    "        \n",
    "        "
   ]
  },
  {
   "cell_type": "markdown",
   "id": "cfae2b56-5d07-497a-bb65-5e3ec85da893",
   "metadata": {},
   "source": [
    "## Variable Gene Filtering"
   ]
  },
  {
   "cell_type": "code",
   "execution_count": null,
   "id": "4bfa6c94-18a3-4ba8-9f45-fa98656d816d",
   "metadata": {},
   "outputs": [],
   "source": [
    "head(data_configs,2)"
   ]
  },
  {
   "cell_type": "code",
   "execution_count": null,
   "id": "894875a1-3bbd-4219-b25d-54d77accded6",
   "metadata": {},
   "outputs": [],
   "source": [
    "for(i in 1:nrow(data_configs)){\n",
    "    ### Filter genes with lowest variance\n",
    "    if ( (as.numeric(data_configs$variable_genes_filtering[i]) < 1) & (as.numeric(data_configs$variable_genes_filtering[i]) > 0)){\n",
    "        print(paste0('Variable Genes Filtering for ',data_configs$data_name[i]))\n",
    "        data = datasets[[data_configs$configuration_name[i]]][[data_configs$data_name[i]]]\n",
    "        \n",
    "        ### Calculate variance and threshold\n",
    "        data = data %>% group_by(variable, type) %>% mutate(feature_variance = var(value)) # variance\n",
    "        data = data %>% group_by(type) %>% mutate(variance_threshold = quantile(feature_variance, probs = seq(0, 1, 0.01), na.rm = FALSE,\n",
    "         names = TRUE)[(1-as.numeric(data_configs$variable_genes_filtering[i]))*100])   # threshold\n",
    "        \n",
    "        ### Filter\n",
    "        data = data[data$feature_variance > data$variance_threshold,]\n",
    "        \n",
    "        ### remove generated columns\n",
    "        data$feature_variance = NULL\n",
    "        data$variance_threshold = NULL\n",
    "        \n",
    "        ### Save transformed data to list\n",
    "        datasets[[data_configs$configuration_name[i]]][[data_configs$data_name[i]]] = data\n",
    "        \n",
    "        }\n",
    "    }\n",
    "        "
   ]
  },
  {
   "cell_type": "code",
   "execution_count": null,
   "id": "3117fcad-4cb1-4c7b-867c-a90bb2b7bb6c",
   "metadata": {},
   "outputs": [],
   "source": []
  },
  {
   "cell_type": "markdown",
   "id": "25abd775-fe6b-4627-adea-3dabe36ecab6",
   "metadata": {},
   "source": [
    "## Sample Quantile Normalization"
   ]
  },
  {
   "cell_type": "code",
   "execution_count": null,
   "id": "1d2e380f-5412-4b14-82e6-3650d5fd90b2",
   "metadata": {},
   "outputs": [],
   "source": [
    "head(data_configs,2)"
   ]
  },
  {
   "cell_type": "code",
   "execution_count": null,
   "id": "5fc0b108-2ea2-4a0b-8790-4effbba921dc",
   "metadata": {
    "tags": []
   },
   "outputs": [],
   "source": [
    "for(i in 1:nrow(data_configs)){\n",
    "    if((data_configs$quantile_normalization_samples[i] == 'TRUE')){\n",
    "        \n",
    "        print(paste0('Sample Quantile Normalization for ',data_configs$data_name[i]))\n",
    "        data = datasets[[data_configs$configuration_name[i]]][[data_configs$data_name[i]]]\n",
    "        transformed_data = data.frame()\n",
    "        \n",
    "        for(k in unique(data$type)){\n",
    "            data_type = data[data$type == k,]\n",
    "            data_type = data_type %>% dcast(variable ~ sample_id, value.var = 'value')\n",
    "            features = data_type$variable\n",
    "            rownames(data_type) = features\n",
    "            data_type$variable = NULL\n",
    "            data_type = data_type[,colSums(is.na(data_type)) != nrow(data_type)] # remove na samples\n",
    "            data_type  = quantile_normalization(data_type ) \n",
    "            data_type = data.frame(data_type)\n",
    "            data_type$variable = features\n",
    "            data_type = melt(data_type)\n",
    "            colnames(data_type) = c('variable', 'sample_id', 'value')\n",
    "            \n",
    "            data_type$type = k \n",
    "            data_type$dataset = data_configs$data_name[i]\n",
    "            transformed_data = rbind(transformed_data, data_type)\n",
    "            \n",
    "            }\n",
    "        datasets[[data_configs$configuration_name[i]]][[data_configs$data_name[i]]] = transformed_data\n",
    "        }\n",
    "    }\n",
    "            \n",
    "        \n",
    "        \n",
    "        "
   ]
  },
  {
   "cell_type": "code",
   "execution_count": null,
   "id": "ab90ec5d-f52a-4ea5-9a1a-f3aa9bb4749e",
   "metadata": {},
   "outputs": [],
   "source": []
  },
  {
   "cell_type": "markdown",
   "id": "1cbe5a69-7c55-4d9a-bc9c-cc54b02b7b2b",
   "metadata": {},
   "source": [
    "## Gene Removal (ribosomal, mitochondrial)"
   ]
  },
  {
   "cell_type": "code",
   "execution_count": null,
   "id": "815b6742-4ffe-4956-9eb4-809d721d5b4d",
   "metadata": {},
   "outputs": [],
   "source": [
    "head(data_configs,2)"
   ]
  },
  {
   "cell_type": "code",
   "execution_count": null,
   "id": "5502caed-12c6-4a82-a6d7-a8920e10320c",
   "metadata": {},
   "outputs": [],
   "source": [
    "for(i in 1:nrow(data_configs)){\n",
    "    if((data_configs$ribosomal_mitochondrial_gene_filtering[i] == 'TRUE')){\n",
    "        \n",
    "        print(paste0('Remove ribosomal and mitochondrial genes for ',data_configs$data_name[i]))\n",
    "        data = datasets[[data_configs$configuration_name[i]]][[data_configs$data_name[i]]]\n",
    "        \n",
    "        ## Remove ribosomal and mitochondiral genes\n",
    "        data = data[is.na(str_extract(data$variable, '^MT.*|^RPL.*|^RPS.*')),]\n",
    "        \n",
    "        datasets[[data_configs$configuration_name[i]]][[data_configs$data_name[i]]] = data\n",
    "        }\n",
    "    }\n",
    "        \n",
    "\n",
    "        \n",
    "        "
   ]
  },
  {
   "cell_type": "markdown",
   "id": "1ce3a9ae-1aa5-4fbe-94dd-400ce0748650",
   "metadata": {
    "tags": []
   },
   "source": [
    "# Merge data types and process"
   ]
  },
  {
   "cell_type": "code",
   "execution_count": null,
   "id": "0709343b-0908-4bb3-ba7a-ad79070705f7",
   "metadata": {},
   "outputs": [],
   "source": [
    "#str(datasets)"
   ]
  },
  {
   "cell_type": "code",
   "execution_count": null,
   "id": "1a80e930-a48c-4397-aa5c-b7f9f2518155",
   "metadata": {},
   "outputs": [],
   "source": [
    "### Combine all types into one dataset\n",
    "datasets = lapply(datasets, function(x){\n",
    "    data = do.call(rbind, x)\n",
    "    })"
   ]
  },
  {
   "cell_type": "code",
   "execution_count": null,
   "id": "03f0cd0a-c917-4fe7-a3d6-e8f00586a799",
   "metadata": {},
   "outputs": [],
   "source": [
    "### Overview amount of features per type/ view for first config"
   ]
  },
  {
   "cell_type": "code",
   "execution_count": null,
   "id": "d94097ab-1915-419d-9076-a8612fd2e920",
   "metadata": {},
   "outputs": [],
   "source": [
    "unique(datasets[[1]][,c('type', 'variable')]) %>% group_by(type) %>% dplyr::count()"
   ]
  },
  {
   "cell_type": "code",
   "execution_count": null,
   "id": "e023cdc3-ee87-499a-8084-c091228ba3b2",
   "metadata": {},
   "outputs": [],
   "source": []
  },
  {
   "cell_type": "markdown",
   "id": "efe2850d-1561-4f70-9933-c047f0376bd8",
   "metadata": {
    "tags": []
   },
   "source": [
    "# Feature Wise Quantile Normalization"
   ]
  },
  {
   "cell_type": "code",
   "execution_count": null,
   "id": "293c7b42-c560-4c0a-b78b-306c0d5f7507",
   "metadata": {},
   "outputs": [],
   "source": [
    "head(data_configs,2)"
   ]
  },
  {
   "cell_type": "code",
   "execution_count": null,
   "id": "a189e55b-255f-47b2-8929-3a39a35f936d",
   "metadata": {},
   "outputs": [],
   "source": [
    "data_configs"
   ]
  },
  {
   "cell_type": "code",
   "execution_count": null,
   "id": "6ec170fe-b885-4417-9467-bdb1cbc2b8c9",
   "metadata": {},
   "outputs": [],
   "source": [
    "data_configs$feature_wise_quantile_normalization"
   ]
  },
  {
   "cell_type": "code",
   "execution_count": null,
   "id": "d5cfb1c0-af8b-43ee-b1b4-8e72cddf858a",
   "metadata": {},
   "outputs": [],
   "source": [
    "for(i in names(datasets)){\n",
    "    \n",
    "    data = datasets[[i]]\n",
    "    data$ident = paste0(data$type, '_0_', data$variable)\n",
    "    final_data = dcast(data, sample_id ~ ident , value.var = \"value\") # ! with this merging there might be NA values for some samples on some data types\n",
    "    rownames(final_data) = final_data$sample_id\n",
    "    final_data$sample_id = NULL\n",
    "    \n",
    "    # Remove samples with only NA's\n",
    "    data_nas = is.na(final_data)\n",
    "    rowSums(data_nas)  # TBD maybe plot amount of NA per sample\n",
    "    keep_samples = names(rowSums(data_nas))[rowSums(data_nas) != ncol(final_data)]\n",
    "    final_data = final_data[keep_samples,]\n",
    "    data_nas = data_nas[keep_samples,]\n",
    "    \n",
    "    # Feature Wise Quantile Normalization in kind of TRUE value\n",
    "    if(unique(data_configs$feature_wise_quantile_normalization[data_configs$configuration_name == i]) == 'TRUE'){\n",
    "        print('Applying Feature Wise Quantile Normalization')\n",
    "        final_data = apply(final_data, 2,stdnorm)\n",
    "        final_data = data.frame(final_data)\n",
    "        final_data[data_nas] = NA\n",
    "        final_data$sample_id = rownames(final_data)\n",
    "        data_long = melt(final_data)\n",
    "        data_long$type = str_extract(data_long$variable, '.*_0_')\n",
    "        data_long$type  = str_replace(data_long$type , '_0_', '')\n",
    "        data_long$variable = str_replace(data_long$variable, '.*_0_', '')\n",
    "        datasets[[i]] = data_long\n",
    "        \n",
    "        }\n",
    "    \n",
    "    }\n",
    "        \n",
    "        \n",
    "        "
   ]
  },
  {
   "cell_type": "code",
   "execution_count": null,
   "id": "1163b586-9a86-4173-8d46-6f4ff7dfe185",
   "metadata": {},
   "outputs": [],
   "source": [
    "head(datasets[[1]],2)"
   ]
  },
  {
   "cell_type": "code",
   "execution_count": null,
   "id": "2b2f55f9-3bc2-4cc7-8aae-04df271a91b5",
   "metadata": {},
   "outputs": [],
   "source": [
    "str(datasets)"
   ]
  },
  {
   "cell_type": "code",
   "execution_count": null,
   "id": "c9d37450-3788-4618-9eac-b79b8b776b00",
   "metadata": {},
   "outputs": [],
   "source": []
  },
  {
   "cell_type": "code",
   "execution_count": null,
   "id": "1ef575c4-0883-4065-8d0f-4fae859c8b29",
   "metadata": {},
   "outputs": [],
   "source": []
  },
  {
   "cell_type": "markdown",
   "id": "e1612f56-c1f2-4927-82be-23007a090642",
   "metadata": {},
   "source": [
    "# Save the data"
   ]
  },
  {
   "cell_type": "code",
   "execution_count": null,
   "id": "90f98b5f-8a6c-4369-b378-d18140faf14f",
   "metadata": {},
   "outputs": [],
   "source": [
    "### Adjust variable names\n",
    "datasets = lapply(datasets, function(x){\n",
    "    x$gene = x$variable\n",
    "    x$variable = paste0(x$type, '__', x$variable)\n",
    "    return(x)\n",
    "    })"
   ]
  },
  {
   "cell_type": "code",
   "execution_count": null,
   "id": "fdf5cccb-2c13-4028-8255-0db63d0ef97f",
   "metadata": {},
   "outputs": [],
   "source": [
    "for(i in names(datasets)){\n",
    "    write.csv(datasets[[i]], paste0(result_path, '/02_results/02_Combined_Data_', i, '_INTEGRATED',  '.csv'))\n",
    "    }"
   ]
  },
  {
   "cell_type": "code",
   "execution_count": null,
   "id": "111b5128-6f02-4773-bc24-e4aff35683c2",
   "metadata": {
    "tags": []
   },
   "outputs": [],
   "source": [
    "head(datasets[[1]],2)"
   ]
  },
  {
   "cell_type": "code",
   "execution_count": null,
   "id": "d009fb3d-e44e-462a-bb19-787422d6186b",
   "metadata": {},
   "outputs": [],
   "source": []
  },
  {
   "cell_type": "code",
   "execution_count": null,
   "id": "c3c897c0-ac01-4be3-8788-ce50e14c7cfa",
   "metadata": {},
   "outputs": [],
   "source": []
  }
 ],
 "metadata": {
  "kernelspec": {
   "display_name": "R",
   "language": "R",
   "name": "ir"
  },
  "language_info": {
   "codemirror_mode": "r",
   "file_extension": ".r",
   "mimetype": "text/x-r-source",
   "name": "R",
   "pygments_lexer": "r",
   "version": "4.3.2"
  },
  "toc-autonumbering": true
 },
 "nbformat": 4,
 "nbformat_minor": 5
}
