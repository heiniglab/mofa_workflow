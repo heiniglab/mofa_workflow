{
 "cells": [
  {
   "cell_type": "code",
   "execution_count": 533,
   "id": "30db86a6-94fa-4e7b-9f5b-11d49a6552b2",
   "metadata": {
    "tags": []
   },
   "outputs": [],
   "source": [
    "### Script to integrate, preprocess and harmonize all available data sets\n",
    "### In our use-case\n",
    "# Single Cell RNA Seq\n",
    "# Cytokine Data\n",
    "# Neutrophil Data\n",
    "# Clinical Data\n",
    "# Proteomics"
   ]
  },
  {
   "cell_type": "markdown",
   "id": "d9375846-405e-474a-9c51-836de879fc64",
   "metadata": {
    "tags": []
   },
   "source": [
    "#############################################\n",
    "# Prerequisites - Load Libraries"
   ]
  },
  {
   "cell_type": "code",
   "execution_count": 534,
   "id": "78cda6a6-83a2-4aa4-ac3c-26b3641d28b5",
   "metadata": {
    "tags": []
   },
   "outputs": [
    {
     "name": "stderr",
     "output_type": "stream",
     "text": [
      "Warning message in read.table(file = file, header = header, sep = sep, quote = quote, :\n",
      "“incomplete final line found by readTableHeader on '../conda_environment/Environment_Configs.csv'”\n"
     ]
    },
    {
     "name": "stdout",
     "output_type": "stream",
     "text": [
      "[1] \"/home/icb/corinna.losert/miniconda3/envs/mofa_analysis//lib/R/library\"\n"
     ]
    }
   ],
   "source": [
    "source('MS0_Libraries.r')"
   ]
  },
  {
   "cell_type": "code",
   "execution_count": 535,
   "id": "1d2b812b-0cb8-4a94-ba64-1adf61317f30",
   "metadata": {},
   "outputs": [],
   "source": [
    "source('MS2_Plot_Config.r')"
   ]
  },
  {
   "cell_type": "code",
   "execution_count": 536,
   "id": "9b011f88-5d2e-4b8f-bc97-2075c6eb303e",
   "metadata": {},
   "outputs": [],
   "source": [
    "source('MS1_Functions.r')"
   ]
  },
  {
   "cell_type": "markdown",
   "id": "e87a5cf7-d4d8-446f-8200-6049579007e3",
   "metadata": {
    "tags": []
   },
   "source": [
    "###############################################\n",
    "# Preqrequisites Configurations & Parameters"
   ]
  },
  {
   "cell_type": "code",
   "execution_count": 537,
   "id": "05946c8c-fd21-48f4-9fa4-d65c6374d991",
   "metadata": {},
   "outputs": [],
   "source": [
    "### Load the parameters that are set via the configuration files"
   ]
  },
  {
   "cell_type": "code",
   "execution_count": 538,
   "id": "6fb3a658-4576-46d7-91df-0bacd7c125fd",
   "metadata": {},
   "outputs": [
    {
     "name": "stderr",
     "output_type": "stream",
     "text": [
      "Warning message in read.table(file = file, header = header, sep = sep, quote = quote, :\n",
      "“incomplete final line found by readTableHeader on 'configurations/Data_Configs.csv'”\n"
     ]
    }
   ],
   "source": [
    "### Load configurations file\n",
    "global_configs = read.csv('configurations/Data_Configs.csv', sep = ',')"
   ]
  },
  {
   "cell_type": "code",
   "execution_count": 539,
   "id": "eb23d1f9-7db0-47aa-beb2-055195cddb9e",
   "metadata": {},
   "outputs": [
    {
     "data": {
      "text/html": [
       "<table class=\"dataframe\">\n",
       "<caption>A data.frame: 2 × 2</caption>\n",
       "<thead>\n",
       "\t<tr><th></th><th scope=col>parameter</th><th scope=col>value</th></tr>\n",
       "\t<tr><th></th><th scope=col>&lt;chr&gt;</th><th scope=col>&lt;chr&gt;</th></tr>\n",
       "</thead>\n",
       "<tbody>\n",
       "\t<tr><th scope=row>1</th><td>data_path  </td><td>/lustre/groups/epigenereg01/workspace/projects/jove/example_data/   </td></tr>\n",
       "\t<tr><th scope=row>2</th><td>result_path</td><td>/lustre/groups/epigenereg01/workspace/projects/jove/example_results/</td></tr>\n",
       "</tbody>\n",
       "</table>\n"
      ],
      "text/latex": [
       "A data.frame: 2 × 2\n",
       "\\begin{tabular}{r|ll}\n",
       "  & parameter & value\\\\\n",
       "  & <chr> & <chr>\\\\\n",
       "\\hline\n",
       "\t1 & data\\_path   & /lustre/groups/epigenereg01/workspace/projects/jove/example\\_data/   \\\\\n",
       "\t2 & result\\_path & /lustre/groups/epigenereg01/workspace/projects/jove/example\\_results/\\\\\n",
       "\\end{tabular}\n"
      ],
      "text/markdown": [
       "\n",
       "A data.frame: 2 × 2\n",
       "\n",
       "| <!--/--> | parameter &lt;chr&gt; | value &lt;chr&gt; |\n",
       "|---|---|---|\n",
       "| 1 | data_path   | /lustre/groups/epigenereg01/workspace/projects/jove/example_data/    |\n",
       "| 2 | result_path | /lustre/groups/epigenereg01/workspace/projects/jove/example_results/ |\n",
       "\n"
      ],
      "text/plain": [
       "  parameter  \n",
       "1 data_path  \n",
       "2 result_path\n",
       "  value                                                               \n",
       "1 /lustre/groups/epigenereg01/workspace/projects/jove/example_data/   \n",
       "2 /lustre/groups/epigenereg01/workspace/projects/jove/example_results/"
      ]
     },
     "metadata": {},
     "output_type": "display_data"
    }
   ],
   "source": [
    "head(global_configs,2)"
   ]
  },
  {
   "cell_type": "code",
   "execution_count": 540,
   "id": "0c7db0bc-ec41-4c0d-8c52-64ce0055a4c2",
   "metadata": {},
   "outputs": [],
   "source": [
    "data_path = global_configs$value[global_configs$parameter == 'data_path']"
   ]
  },
  {
   "cell_type": "code",
   "execution_count": 541,
   "id": "a26c5d9c-6395-4983-8d06-7bf6d23fd274",
   "metadata": {},
   "outputs": [
    {
     "data": {
      "text/html": [
       "'/lustre/groups/epigenereg01/workspace/projects/jove/example_data/'"
      ],
      "text/latex": [
       "'/lustre/groups/epigenereg01/workspace/projects/jove/example\\_data/'"
      ],
      "text/markdown": [
       "'/lustre/groups/epigenereg01/workspace/projects/jove/example_data/'"
      ],
      "text/plain": [
       "[1] \"/lustre/groups/epigenereg01/workspace/projects/jove/example_data/\""
      ]
     },
     "metadata": {},
     "output_type": "display_data"
    }
   ],
   "source": [
    "data_path"
   ]
  },
  {
   "cell_type": "code",
   "execution_count": 542,
   "id": "f6c65f96-97bf-4082-9d43-755cf3cad2f6",
   "metadata": {},
   "outputs": [],
   "source": [
    "result_path = global_configs$value[global_configs$parameter == 'result_path']"
   ]
  },
  {
   "cell_type": "code",
   "execution_count": 543,
   "id": "213941c4-7637-4444-8c85-b056e96326b4",
   "metadata": {},
   "outputs": [
    {
     "data": {
      "text/html": [
       "'/lustre/groups/epigenereg01/workspace/projects/jove/example_results/'"
      ],
      "text/latex": [
       "'/lustre/groups/epigenereg01/workspace/projects/jove/example\\_results/'"
      ],
      "text/markdown": [
       "'/lustre/groups/epigenereg01/workspace/projects/jove/example_results/'"
      ],
      "text/plain": [
       "[1] \"/lustre/groups/epigenereg01/workspace/projects/jove/example_results/\""
      ]
     },
     "metadata": {},
     "output_type": "display_data"
    }
   ],
   "source": [
    "result_path"
   ]
  },
  {
   "cell_type": "code",
   "execution_count": 544,
   "id": "a751133a-e479-4350-b78f-c4d7b98f8f87",
   "metadata": {},
   "outputs": [],
   "source": [
    "## Load the configuration file specifying single-cell specific filtering options"
   ]
  },
  {
   "cell_type": "code",
   "execution_count": 545,
   "id": "f1b3b18f-48e5-426c-8ba2-ed07e7d3dc35",
   "metadata": {},
   "outputs": [
    {
     "name": "stderr",
     "output_type": "stream",
     "text": [
      "Warning message in read.table(file = file, header = header, sep = sep, quote = quote, :\n",
      "“incomplete final line found by readTableHeader on 'configurations/02_Pre_Processing_Configs_SC.csv'”\n"
     ]
    }
   ],
   "source": [
    "sc_configs = read.csv('configurations/02_Pre_Processing_Configs_SC.csv', sep = ',')"
   ]
  },
  {
   "cell_type": "code",
   "execution_count": 546,
   "id": "192e781d-3025-4cce-b9d8-3f2bb66d449c",
   "metadata": {},
   "outputs": [
    {
     "data": {
      "text/html": [
       "<table class=\"dataframe\">\n",
       "<caption>A data.frame: 1 × 6</caption>\n",
       "<thead>\n",
       "\t<tr><th></th><th scope=col>configuration_name</th><th scope=col>data_name</th><th scope=col>data_type</th><th scope=col>cell_expr_thres1</th><th scope=col>cell_expr_thres2</th><th scope=col>cell_type_exclusion</th></tr>\n",
       "\t<tr><th></th><th scope=col>&lt;chr&gt;</th><th scope=col>&lt;chr&gt;</th><th scope=col>&lt;chr&gt;</th><th scope=col>&lt;chr&gt;</th><th scope=col>&lt;chr&gt;</th><th scope=col>&lt;chr&gt;</th></tr>\n",
       "</thead>\n",
       "<tbody>\n",
       "\t<tr><th scope=row>1</th><td>MI_v1</td><td>dcm_acm</td><td>h5seurat</td><td>30;10</td><td>20;5</td><td>Platelet,Plasmablast,pDC,Eryth,Doublet,dnT,cdC1,CD8 TCM,CD8 Proliferating,CD4 Proliferating,NK Proliferating,ASDC,NK_CD56bright,ILC,MAIT,HSPC</td></tr>\n",
       "</tbody>\n",
       "</table>\n"
      ],
      "text/latex": [
       "A data.frame: 1 × 6\n",
       "\\begin{tabular}{r|llllll}\n",
       "  & configuration\\_name & data\\_name & data\\_type & cell\\_expr\\_thres1 & cell\\_expr\\_thres2 & cell\\_type\\_exclusion\\\\\n",
       "  & <chr> & <chr> & <chr> & <chr> & <chr> & <chr>\\\\\n",
       "\\hline\n",
       "\t1 & MI\\_v1 & dcm\\_acm & h5seurat & 30;10 & 20;5 & Platelet,Plasmablast,pDC,Eryth,Doublet,dnT,cdC1,CD8 TCM,CD8 Proliferating,CD4 Proliferating,NK Proliferating,ASDC,NK\\_CD56bright,ILC,MAIT,HSPC\\\\\n",
       "\\end{tabular}\n"
      ],
      "text/markdown": [
       "\n",
       "A data.frame: 1 × 6\n",
       "\n",
       "| <!--/--> | configuration_name &lt;chr&gt; | data_name &lt;chr&gt; | data_type &lt;chr&gt; | cell_expr_thres1 &lt;chr&gt; | cell_expr_thres2 &lt;chr&gt; | cell_type_exclusion &lt;chr&gt; |\n",
       "|---|---|---|---|---|---|---|\n",
       "| 1 | MI_v1 | dcm_acm | h5seurat | 30;10 | 20;5 | Platelet,Plasmablast,pDC,Eryth,Doublet,dnT,cdC1,CD8 TCM,CD8 Proliferating,CD4 Proliferating,NK Proliferating,ASDC,NK_CD56bright,ILC,MAIT,HSPC |\n",
       "\n"
      ],
      "text/plain": [
       "  configuration_name data_name data_type cell_expr_thres1 cell_expr_thres2\n",
       "1 MI_v1              dcm_acm   h5seurat  30;10            20;5            \n",
       "  cell_type_exclusion                                                                                                                          \n",
       "1 Platelet,Plasmablast,pDC,Eryth,Doublet,dnT,cdC1,CD8 TCM,CD8 Proliferating,CD4 Proliferating,NK Proliferating,ASDC,NK_CD56bright,ILC,MAIT,HSPC"
      ]
     },
     "metadata": {},
     "output_type": "display_data"
    }
   ],
   "source": [
    "head(sc_configs,2)"
   ]
  },
  {
   "cell_type": "code",
   "execution_count": 547,
   "id": "4750c87c-f620-4217-8c0f-c23a80f2f81a",
   "metadata": {},
   "outputs": [],
   "source": [
    "sc_configs = sc_configs[sc_configs$data_name != '',]"
   ]
  },
  {
   "cell_type": "code",
   "execution_count": 548,
   "id": "67ebcea0-da43-48c1-b46f-5bbe5057aaea",
   "metadata": {
    "tags": []
   },
   "outputs": [],
   "source": [
    "## Load the configuration file specifying the pre-processing options for all datasets"
   ]
  },
  {
   "cell_type": "code",
   "execution_count": 549,
   "id": "44771cf5-b625-41a2-be15-5c4cca0ee850",
   "metadata": {},
   "outputs": [
    {
     "name": "stderr",
     "output_type": "stream",
     "text": [
      "Warning message in read.table(file = file, header = header, sep = sep, quote = quote, :\n",
      "“incomplete final line found by readTableHeader on 'configurations/02_Pre_Processing_Configs.csv'”\n"
     ]
    }
   ],
   "source": [
    "data_configs = read.csv('configurations/02_Pre_Processing_Configs.csv', sep = ',')"
   ]
  },
  {
   "cell_type": "code",
   "execution_count": 550,
   "id": "bdebe806-0d95-49b7-80f0-b5b6650060b9",
   "metadata": {},
   "outputs": [],
   "source": [
    "data_configs = data_configs[data_configs$configuration_name != '',]   # remove lines with empty configuration names\n",
    "data_configs = data_configs[!is.na(data_configs$configuration_name),]  # remove lines with NA in configuration name"
   ]
  },
  {
   "cell_type": "code",
   "execution_count": 551,
   "id": "5e519d3b-5ae0-463e-8302-c23c9caf4e2d",
   "metadata": {},
   "outputs": [
    {
     "data": {
      "text/html": [
       "<table class=\"dataframe\">\n",
       "<caption>A data.frame: 1 × 13</caption>\n",
       "<thead>\n",
       "\t<tr><th></th><th scope=col>configuration_name</th><th scope=col>data_name</th><th scope=col>file_type</th><th scope=col>data_type</th><th scope=col>remove_sample_ids</th><th scope=col>sample_filtering_thres</th><th scope=col>feature_filtering_thres</th><th scope=col>library_adjustment</th><th scope=col>log_transformation</th><th scope=col>variable_genes_filtering</th><th scope=col>quantile_normalization_samples</th><th scope=col>ribosomal_mitochondrial_gene_filtering</th><th scope=col>feature_wise_quantile_normalization</th></tr>\n",
       "\t<tr><th></th><th scope=col>&lt;chr&gt;</th><th scope=col>&lt;chr&gt;</th><th scope=col>&lt;chr&gt;</th><th scope=col>&lt;chr&gt;</th><th scope=col>&lt;lgl&gt;</th><th scope=col>&lt;int&gt;</th><th scope=col>&lt;dbl&gt;</th><th scope=col>&lt;lgl&gt;</th><th scope=col>&lt;lgl&gt;</th><th scope=col>&lt;int&gt;</th><th scope=col>&lt;lgl&gt;</th><th scope=col>&lt;lgl&gt;</th><th scope=col>&lt;lgl&gt;</th></tr>\n",
       "</thead>\n",
       "<tbody>\n",
       "\t<tr><th scope=row>1</th><td>MI_v1</td><td>dcm_acm</td><td>h5seurat</td><td>sc</td><td>NA</td><td>1</td><td>0.05</td><td>TRUE</td><td>TRUE</td><td>1</td><td>TRUE</td><td>TRUE</td><td>TRUE</td></tr>\n",
       "</tbody>\n",
       "</table>\n"
      ],
      "text/latex": [
       "A data.frame: 1 × 13\n",
       "\\begin{tabular}{r|lllllllllllll}\n",
       "  & configuration\\_name & data\\_name & file\\_type & data\\_type & remove\\_sample\\_ids & sample\\_filtering\\_thres & feature\\_filtering\\_thres & library\\_adjustment & log\\_transformation & variable\\_genes\\_filtering & quantile\\_normalization\\_samples & ribosomal\\_mitochondrial\\_gene\\_filtering & feature\\_wise\\_quantile\\_normalization\\\\\n",
       "  & <chr> & <chr> & <chr> & <chr> & <lgl> & <int> & <dbl> & <lgl> & <lgl> & <int> & <lgl> & <lgl> & <lgl>\\\\\n",
       "\\hline\n",
       "\t1 & MI\\_v1 & dcm\\_acm & h5seurat & sc & NA & 1 & 0.05 & TRUE & TRUE & 1 & TRUE & TRUE & TRUE\\\\\n",
       "\\end{tabular}\n"
      ],
      "text/markdown": [
       "\n",
       "A data.frame: 1 × 13\n",
       "\n",
       "| <!--/--> | configuration_name &lt;chr&gt; | data_name &lt;chr&gt; | file_type &lt;chr&gt; | data_type &lt;chr&gt; | remove_sample_ids &lt;lgl&gt; | sample_filtering_thres &lt;int&gt; | feature_filtering_thres &lt;dbl&gt; | library_adjustment &lt;lgl&gt; | log_transformation &lt;lgl&gt; | variable_genes_filtering &lt;int&gt; | quantile_normalization_samples &lt;lgl&gt; | ribosomal_mitochondrial_gene_filtering &lt;lgl&gt; | feature_wise_quantile_normalization &lt;lgl&gt; |\n",
       "|---|---|---|---|---|---|---|---|---|---|---|---|---|---|\n",
       "| 1 | MI_v1 | dcm_acm | h5seurat | sc | NA | 1 | 0.05 | TRUE | TRUE | 1 | TRUE | TRUE | TRUE |\n",
       "\n"
      ],
      "text/plain": [
       "  configuration_name data_name file_type data_type remove_sample_ids\n",
       "1 MI_v1              dcm_acm   h5seurat  sc        NA               \n",
       "  sample_filtering_thres feature_filtering_thres library_adjustment\n",
       "1 1                      0.05                    TRUE              \n",
       "  log_transformation variable_genes_filtering quantile_normalization_samples\n",
       "1 TRUE               1                        TRUE                          \n",
       "  ribosomal_mitochondrial_gene_filtering feature_wise_quantile_normalization\n",
       "1 TRUE                                   TRUE                               "
      ]
     },
     "metadata": {},
     "output_type": "display_data"
    }
   ],
   "source": [
    "head(data_configs)"
   ]
  },
  {
   "cell_type": "code",
   "execution_count": 552,
   "id": "a803dd19-ce34-4ea6-a072-6840c0acd134",
   "metadata": {
    "tags": []
   },
   "outputs": [],
   "source": [
    "### Generate the result data directory if it does not exist yet\n",
    "if(!file.exists(paste0(result_path, '02_results'))){\n",
    "    dir.create(file.path(paste0(result_path, '02_results')))\n",
    "    }"
   ]
  },
  {
   "cell_type": "markdown",
   "id": "2be3bf8c-3704-4db9-913e-959f6c7c33fe",
   "metadata": {},
   "source": [
    "# Load Data"
   ]
  },
  {
   "cell_type": "code",
   "execution_count": 553,
   "id": "6ed0fe36-b83c-44f7-97b7-7c7e887f24ea",
   "metadata": {},
   "outputs": [],
   "source": [
    "### Load sc Data and exclude cluster_ids as specified in the configuration file"
   ]
  },
  {
   "cell_type": "code",
   "execution_count": 554,
   "id": "30f46be6-501d-43f5-a3ae-c69d957059a2",
   "metadata": {},
   "outputs": [],
   "source": [
    "datasets = list()"
   ]
  },
  {
   "cell_type": "code",
   "execution_count": 555,
   "id": "ba218666-d3af-4583-85e4-5899185de72c",
   "metadata": {
    "tags": []
   },
   "outputs": [],
   "source": [
    "## Load sc data (pseudobulk) generated in previous step\n",
    "if(nrow(sc_configs) > 0){\n",
    "for(j in 1:nrow(sc_configs)){\n",
    "    sc_data_name = sc_configs$data_name[j]\n",
    "    sc_data =  fread(paste0(result_path, '/01_results/01_', sc_data_name, 'Pseudobulk_Table', '.csv'))\n",
    "\n",
    "    sc_data$V1 = NULL\n",
    "\n",
    "    ## Split up sc to different configs\n",
    "    for(i in unique(sc_configs$configuration_name)){    \n",
    "        for(j in unique(sc_configs$data_name[sc_configs$configuration_name == i])){\n",
    "\n",
    "            data = sc_data[sc_data$dataset == j,]\n",
    "\n",
    "            ## Exclude cluster_id's (cell-type clusters)\n",
    "            if(!is.na(sc_configs$cell_type_exclusion[sc_configs$configuration_name == i])){\n",
    "            data = data[!data$type %in% unlist(strsplit(sc_configs$cell_type_exclusion[sc_configs$configuration_name == i] ,',')),]\n",
    "                }\n",
    "\n",
    "            datasets[[i]][[j]] = data\n",
    "            }\n",
    "        }\n",
    "    }    \n",
    " }   "
   ]
  },
  {
   "cell_type": "code",
   "execution_count": 556,
   "id": "e2f35234-7c10-401c-8ce1-4a8ba71f21a6",
   "metadata": {
    "tags": []
   },
   "outputs": [
    {
     "data": {
      "text/html": [
       "'dcm_acm'"
      ],
      "text/latex": [
       "'dcm\\_acm'"
      ],
      "text/markdown": [
       "'dcm_acm'"
      ],
      "text/plain": [
       "[1] \"dcm_acm\""
      ]
     },
     "metadata": {},
     "output_type": "display_data"
    }
   ],
   "source": [
    "sc_data_name"
   ]
  },
  {
   "cell_type": "code",
   "execution_count": 557,
   "id": "3867b3ec-ea0d-4b23-8408-12ff3b119f3d",
   "metadata": {
    "tags": []
   },
   "outputs": [
    {
     "data": {
      "text/html": [
       "54"
      ],
      "text/latex": [
       "54"
      ],
      "text/markdown": [
       "54"
      ],
      "text/plain": [
       "[1] 54"
      ]
     },
     "metadata": {},
     "output_type": "display_data"
    }
   ],
   "source": [
    "length(unique(data$sample_id))"
   ]
  },
  {
   "cell_type": "code",
   "execution_count": 558,
   "id": "ad02a723-f7ba-4732-9188-097c879287c4",
   "metadata": {},
   "outputs": [],
   "source": [
    "### Load the other datasets specified in the configuration file"
   ]
  },
  {
   "cell_type": "code",
   "execution_count": 559,
   "id": "cc29e4ac-58df-4bd6-8e61-4754f39d5b39",
   "metadata": {
    "tags": []
   },
   "outputs": [],
   "source": [
    "for(i in unique(data_configs$configuration_name)){     # for each config\n",
    "    for(j in unique(data_configs$data_name[data_configs$configuration_name == i])){      # each specifiec data-name\n",
    "        \n",
    "        configuration = data_configs[(data_configs$configuration_name == i) & (data_configs$data_name == j),]\n",
    "        \n",
    "        if(configuration$file_type == 'csv'){\n",
    "        data = read.csv(paste0(data_path, j, '.csv'))\n",
    "        data$X = NULL\n",
    "        data = melt(data, id.vars = 'sample_id')\n",
    "        data$dataset = j\n",
    "        data$type = configuration$data_type\n",
    "        \n",
    "        datasets[[i]][[j]] = data\n",
    "        }\n",
    "        }\n",
    "    }"
   ]
  },
  {
   "cell_type": "code",
   "execution_count": 560,
   "id": "647e032b-3dc8-41b5-a4ed-ee061ca6f1c9",
   "metadata": {},
   "outputs": [],
   "source": [
    "#head(data,2)"
   ]
  },
  {
   "cell_type": "code",
   "execution_count": 561,
   "id": "3ebe449c-9dd3-41aa-bf99-a7569807be43",
   "metadata": {},
   "outputs": [],
   "source": [
    "#str(datasets)"
   ]
  },
  {
   "cell_type": "code",
   "execution_count": 562,
   "id": "bff61d5c-58dc-477f-9ebc-f8a54e9f034c",
   "metadata": {},
   "outputs": [],
   "source": [
    "data_backup = datasets # in case something should be re-executed, so loading of data is not necessary a second time"
   ]
  },
  {
   "cell_type": "code",
   "execution_count": 563,
   "id": "b1d67422-76bc-4156-8dca-33f02740514a",
   "metadata": {},
   "outputs": [],
   "source": [
    "datasets = data_backup"
   ]
  },
  {
   "cell_type": "code",
   "execution_count": 564,
   "id": "a51a367a-c2d0-4d2b-93b8-e582245f6a13",
   "metadata": {
    "tags": []
   },
   "outputs": [],
   "source": [
    "#str(datasets)"
   ]
  },
  {
   "cell_type": "markdown",
   "id": "a4d4a768-09ae-419f-9287-10c0789e42b4",
   "metadata": {},
   "source": [
    "# Pre-Process each dataset as specified in the configuration files"
   ]
  },
  {
   "cell_type": "markdown",
   "id": "37e1ff38-25b5-4350-9948-515cc5c79a2b",
   "metadata": {},
   "source": [
    "## Sample Filter"
   ]
  },
  {
   "cell_type": "code",
   "execution_count": 565,
   "id": "fbe7e1ef-ba2d-4da6-a1b3-686f46fbbb96",
   "metadata": {
    "tags": []
   },
   "outputs": [],
   "source": [
    "### Filter out sample_id's specified in the configuration file"
   ]
  },
  {
   "cell_type": "code",
   "execution_count": 566,
   "id": "91c1516f-a6a8-4944-900f-8b9f4b3016e8",
   "metadata": {},
   "outputs": [
    {
     "data": {
      "text/html": [
       "<table class=\"dataframe\">\n",
       "<caption>A data.frame: 1 × 13</caption>\n",
       "<thead>\n",
       "\t<tr><th></th><th scope=col>configuration_name</th><th scope=col>data_name</th><th scope=col>file_type</th><th scope=col>data_type</th><th scope=col>remove_sample_ids</th><th scope=col>sample_filtering_thres</th><th scope=col>feature_filtering_thres</th><th scope=col>library_adjustment</th><th scope=col>log_transformation</th><th scope=col>variable_genes_filtering</th><th scope=col>quantile_normalization_samples</th><th scope=col>ribosomal_mitochondrial_gene_filtering</th><th scope=col>feature_wise_quantile_normalization</th></tr>\n",
       "\t<tr><th></th><th scope=col>&lt;chr&gt;</th><th scope=col>&lt;chr&gt;</th><th scope=col>&lt;chr&gt;</th><th scope=col>&lt;chr&gt;</th><th scope=col>&lt;lgl&gt;</th><th scope=col>&lt;int&gt;</th><th scope=col>&lt;dbl&gt;</th><th scope=col>&lt;lgl&gt;</th><th scope=col>&lt;lgl&gt;</th><th scope=col>&lt;int&gt;</th><th scope=col>&lt;lgl&gt;</th><th scope=col>&lt;lgl&gt;</th><th scope=col>&lt;lgl&gt;</th></tr>\n",
       "</thead>\n",
       "<tbody>\n",
       "\t<tr><th scope=row>1</th><td>MI_v1</td><td>dcm_acm</td><td>h5seurat</td><td>sc</td><td>NA</td><td>1</td><td>0.05</td><td>TRUE</td><td>TRUE</td><td>1</td><td>TRUE</td><td>TRUE</td><td>TRUE</td></tr>\n",
       "</tbody>\n",
       "</table>\n"
      ],
      "text/latex": [
       "A data.frame: 1 × 13\n",
       "\\begin{tabular}{r|lllllllllllll}\n",
       "  & configuration\\_name & data\\_name & file\\_type & data\\_type & remove\\_sample\\_ids & sample\\_filtering\\_thres & feature\\_filtering\\_thres & library\\_adjustment & log\\_transformation & variable\\_genes\\_filtering & quantile\\_normalization\\_samples & ribosomal\\_mitochondrial\\_gene\\_filtering & feature\\_wise\\_quantile\\_normalization\\\\\n",
       "  & <chr> & <chr> & <chr> & <chr> & <lgl> & <int> & <dbl> & <lgl> & <lgl> & <int> & <lgl> & <lgl> & <lgl>\\\\\n",
       "\\hline\n",
       "\t1 & MI\\_v1 & dcm\\_acm & h5seurat & sc & NA & 1 & 0.05 & TRUE & TRUE & 1 & TRUE & TRUE & TRUE\\\\\n",
       "\\end{tabular}\n"
      ],
      "text/markdown": [
       "\n",
       "A data.frame: 1 × 13\n",
       "\n",
       "| <!--/--> | configuration_name &lt;chr&gt; | data_name &lt;chr&gt; | file_type &lt;chr&gt; | data_type &lt;chr&gt; | remove_sample_ids &lt;lgl&gt; | sample_filtering_thres &lt;int&gt; | feature_filtering_thres &lt;dbl&gt; | library_adjustment &lt;lgl&gt; | log_transformation &lt;lgl&gt; | variable_genes_filtering &lt;int&gt; | quantile_normalization_samples &lt;lgl&gt; | ribosomal_mitochondrial_gene_filtering &lt;lgl&gt; | feature_wise_quantile_normalization &lt;lgl&gt; |\n",
       "|---|---|---|---|---|---|---|---|---|---|---|---|---|---|\n",
       "| 1 | MI_v1 | dcm_acm | h5seurat | sc | NA | 1 | 0.05 | TRUE | TRUE | 1 | TRUE | TRUE | TRUE |\n",
       "\n"
      ],
      "text/plain": [
       "  configuration_name data_name file_type data_type remove_sample_ids\n",
       "1 MI_v1              dcm_acm   h5seurat  sc        NA               \n",
       "  sample_filtering_thres feature_filtering_thres library_adjustment\n",
       "1 1                      0.05                    TRUE              \n",
       "  log_transformation variable_genes_filtering quantile_normalization_samples\n",
       "1 TRUE               1                        TRUE                          \n",
       "  ribosomal_mitochondrial_gene_filtering feature_wise_quantile_normalization\n",
       "1 TRUE                                   TRUE                               "
      ]
     },
     "metadata": {},
     "output_type": "display_data"
    }
   ],
   "source": [
    "head(data_configs,2)"
   ]
  },
  {
   "cell_type": "code",
   "execution_count": 567,
   "id": "4576b684-31d1-47a0-ac22-690ef3a5f18b",
   "metadata": {},
   "outputs": [],
   "source": [
    "for(i in 1:nrow(data_configs)){\n",
    "    ### Remove samples based on specified samples in remove_sample_ids column\n",
    "    if( (!is.na(data_configs$remove_sample_ids[i])) & (data_configs$remove_sample_ids[i] != '')){\n",
    "        \n",
    "        print(paste0('Filtered specific samples for ',data_configs$data_name[i], ' ',  unique( unlist(strsplit(data_configs$remove_sample_ids[i], ',')))))\n",
    "        \n",
    "        data = datasets[[data_configs$configuration_name[i]]][[data_configs$data_name[i]]]\n",
    "        \n",
    "        ### remove samples\n",
    "        data = data[! data$sample_id %in% unlist(strsplit(data_configs$remove_sample_ids[i], ',')),]  # TBD check!\n",
    "        \n",
    "        ### replace adjusted data\n",
    "        datasets[[data_configs$configuration_name[i]]][[data_configs$data_name[i]]] = data\n",
    "        \n",
    "        }\n",
    "    \n",
    "     ### Remove samples based on threshold in sample_filtering_thres\n",
    "     if ( (as.numeric(data_configs$sample_filtering_thres[i]) < 1) & (as.numeric(data_configs$sample_filtering_thres[i]) > 0)){\n",
    "         \n",
    "         print(paste0('Filtered samples based on threshold for ',data_configs$data_name[i])) \n",
    "         data = datasets[[data_configs$configuration_name[i]]][[data_configs$data_name[i]]]\n",
    "         print(paste0('Amount samples before filtering ', length(unique(data$sample_id))))\n",
    "         \n",
    "         ### calculate percentage of features with zero values\n",
    "         data = data %>% group_by(sample_id, type) %>% mutate(zero_expression_percentage = sum(value == 0)/ n())\n",
    "         ### filter out samples if percentage higher than threshold\n",
    "         data = data[data$zero_expression_percentage < data_configs$sample_filtering_thres[i],]\n",
    "         print(paste0('Amount samples after filtering ', length(unique(data$sample_id))))\n",
    "         \n",
    "         ### remove generated columns\n",
    "         data$zero_expression_percentage = NULL\n",
    "         \n",
    "         ### replace adjusted data\n",
    "         datasets[[data_configs$configuration_name[i]]][[data_configs$data_name[i]]] = data            \n",
    "    } \n",
    "}\n",
    "        "
   ]
  },
  {
   "cell_type": "code",
   "execution_count": 568,
   "id": "132733b9-c53f-48b3-9b5a-8655b0068a9a",
   "metadata": {
    "tags": []
   },
   "outputs": [],
   "source": [
    "#str(datasets)"
   ]
  },
  {
   "cell_type": "markdown",
   "id": "b738cb60-5d06-467e-9d29-9492b35792a7",
   "metadata": {
    "tags": []
   },
   "source": [
    "## Feature Removal (based on sample expression)"
   ]
  },
  {
   "cell_type": "code",
   "execution_count": 569,
   "id": "6067a8f9-6883-46ab-8574-469c05302e90",
   "metadata": {},
   "outputs": [],
   "source": [
    "## Filter out features that are not expressed in a certain amount of sample (threshold set in the configuration file)"
   ]
  },
  {
   "cell_type": "code",
   "execution_count": 570,
   "id": "2998fd19-228d-43c8-98f3-63f322039aad",
   "metadata": {},
   "outputs": [
    {
     "data": {
      "text/html": [
       "<table class=\"dataframe\">\n",
       "<caption>A data.frame: 1 × 13</caption>\n",
       "<thead>\n",
       "\t<tr><th></th><th scope=col>configuration_name</th><th scope=col>data_name</th><th scope=col>file_type</th><th scope=col>data_type</th><th scope=col>remove_sample_ids</th><th scope=col>sample_filtering_thres</th><th scope=col>feature_filtering_thres</th><th scope=col>library_adjustment</th><th scope=col>log_transformation</th><th scope=col>variable_genes_filtering</th><th scope=col>quantile_normalization_samples</th><th scope=col>ribosomal_mitochondrial_gene_filtering</th><th scope=col>feature_wise_quantile_normalization</th></tr>\n",
       "\t<tr><th></th><th scope=col>&lt;chr&gt;</th><th scope=col>&lt;chr&gt;</th><th scope=col>&lt;chr&gt;</th><th scope=col>&lt;chr&gt;</th><th scope=col>&lt;lgl&gt;</th><th scope=col>&lt;int&gt;</th><th scope=col>&lt;dbl&gt;</th><th scope=col>&lt;lgl&gt;</th><th scope=col>&lt;lgl&gt;</th><th scope=col>&lt;int&gt;</th><th scope=col>&lt;lgl&gt;</th><th scope=col>&lt;lgl&gt;</th><th scope=col>&lt;lgl&gt;</th></tr>\n",
       "</thead>\n",
       "<tbody>\n",
       "\t<tr><th scope=row>1</th><td>MI_v1</td><td>dcm_acm</td><td>h5seurat</td><td>sc</td><td>NA</td><td>1</td><td>0.05</td><td>TRUE</td><td>TRUE</td><td>1</td><td>TRUE</td><td>TRUE</td><td>TRUE</td></tr>\n",
       "</tbody>\n",
       "</table>\n"
      ],
      "text/latex": [
       "A data.frame: 1 × 13\n",
       "\\begin{tabular}{r|lllllllllllll}\n",
       "  & configuration\\_name & data\\_name & file\\_type & data\\_type & remove\\_sample\\_ids & sample\\_filtering\\_thres & feature\\_filtering\\_thres & library\\_adjustment & log\\_transformation & variable\\_genes\\_filtering & quantile\\_normalization\\_samples & ribosomal\\_mitochondrial\\_gene\\_filtering & feature\\_wise\\_quantile\\_normalization\\\\\n",
       "  & <chr> & <chr> & <chr> & <chr> & <lgl> & <int> & <dbl> & <lgl> & <lgl> & <int> & <lgl> & <lgl> & <lgl>\\\\\n",
       "\\hline\n",
       "\t1 & MI\\_v1 & dcm\\_acm & h5seurat & sc & NA & 1 & 0.05 & TRUE & TRUE & 1 & TRUE & TRUE & TRUE\\\\\n",
       "\\end{tabular}\n"
      ],
      "text/markdown": [
       "\n",
       "A data.frame: 1 × 13\n",
       "\n",
       "| <!--/--> | configuration_name &lt;chr&gt; | data_name &lt;chr&gt; | file_type &lt;chr&gt; | data_type &lt;chr&gt; | remove_sample_ids &lt;lgl&gt; | sample_filtering_thres &lt;int&gt; | feature_filtering_thres &lt;dbl&gt; | library_adjustment &lt;lgl&gt; | log_transformation &lt;lgl&gt; | variable_genes_filtering &lt;int&gt; | quantile_normalization_samples &lt;lgl&gt; | ribosomal_mitochondrial_gene_filtering &lt;lgl&gt; | feature_wise_quantile_normalization &lt;lgl&gt; |\n",
       "|---|---|---|---|---|---|---|---|---|---|---|---|---|---|\n",
       "| 1 | MI_v1 | dcm_acm | h5seurat | sc | NA | 1 | 0.05 | TRUE | TRUE | 1 | TRUE | TRUE | TRUE |\n",
       "\n"
      ],
      "text/plain": [
       "  configuration_name data_name file_type data_type remove_sample_ids\n",
       "1 MI_v1              dcm_acm   h5seurat  sc        NA               \n",
       "  sample_filtering_thres feature_filtering_thres library_adjustment\n",
       "1 1                      0.05                    TRUE              \n",
       "  log_transformation variable_genes_filtering quantile_normalization_samples\n",
       "1 TRUE               1                        TRUE                          \n",
       "  ribosomal_mitochondrial_gene_filtering feature_wise_quantile_normalization\n",
       "1 TRUE                                   TRUE                               "
      ]
     },
     "metadata": {},
     "output_type": "display_data"
    }
   ],
   "source": [
    "head(data_configs,2)"
   ]
  },
  {
   "cell_type": "code",
   "execution_count": 571,
   "id": "2ccad272-3ad4-4904-9d95-4a82a869fcf4",
   "metadata": {},
   "outputs": [],
   "source": [
    "data = datasets[[data_configs$configuration_name[i]]][[data_configs$data_name[i]]]"
   ]
  },
  {
   "cell_type": "code",
   "execution_count": 572,
   "id": "46ff6851-1a0f-4b4c-a20f-a8fbfe3f98f0",
   "metadata": {},
   "outputs": [
    {
     "data": {
      "text/html": [
       "<table class=\"dataframe\">\n",
       "<caption>A data.table: 2 × 5</caption>\n",
       "<thead>\n",
       "\t<tr><th scope=col>sample_id</th><th scope=col>variable</th><th scope=col>value</th><th scope=col>dataset</th><th scope=col>type</th></tr>\n",
       "\t<tr><th scope=col>&lt;chr&gt;</th><th scope=col>&lt;chr&gt;</th><th scope=col>&lt;dbl&gt;</th><th scope=col>&lt;chr&gt;</th><th scope=col>&lt;chr&gt;</th></tr>\n",
       "</thead>\n",
       "<tbody>\n",
       "\t<tr><td>D1</td><td>A1BG</td><td>0</td><td>dcm_acm</td><td>adipocyte</td></tr>\n",
       "\t<tr><td>D2</td><td>A1BG</td><td>0</td><td>dcm_acm</td><td>adipocyte</td></tr>\n",
       "</tbody>\n",
       "</table>\n"
      ],
      "text/latex": [
       "A data.table: 2 × 5\n",
       "\\begin{tabular}{lllll}\n",
       " sample\\_id & variable & value & dataset & type\\\\\n",
       " <chr> & <chr> & <dbl> & <chr> & <chr>\\\\\n",
       "\\hline\n",
       "\t D1 & A1BG & 0 & dcm\\_acm & adipocyte\\\\\n",
       "\t D2 & A1BG & 0 & dcm\\_acm & adipocyte\\\\\n",
       "\\end{tabular}\n"
      ],
      "text/markdown": [
       "\n",
       "A data.table: 2 × 5\n",
       "\n",
       "| sample_id &lt;chr&gt; | variable &lt;chr&gt; | value &lt;dbl&gt; | dataset &lt;chr&gt; | type &lt;chr&gt; |\n",
       "|---|---|---|---|---|\n",
       "| D1 | A1BG | 0 | dcm_acm | adipocyte |\n",
       "| D2 | A1BG | 0 | dcm_acm | adipocyte |\n",
       "\n"
      ],
      "text/plain": [
       "  sample_id variable value dataset type     \n",
       "1 D1        A1BG     0     dcm_acm adipocyte\n",
       "2 D2        A1BG     0     dcm_acm adipocyte"
      ]
     },
     "metadata": {},
     "output_type": "display_data"
    }
   ],
   "source": [
    "head(data,2)"
   ]
  },
  {
   "cell_type": "code",
   "execution_count": 573,
   "id": "c9ada9ef-f0b0-4bf4-96aa-74cd413c59a5",
   "metadata": {
    "tags": []
   },
   "outputs": [
    {
     "name": "stdout",
     "output_type": "stream",
     "text": [
      "[1] \"MI_v1 dcm_acm\"\n"
     ]
    },
    {
     "name": "stderr",
     "output_type": "stream",
     "text": [
      "\u001b[1m\u001b[22m`summarise()` has grouped output by 'type'. You can override using the `.groups`\n",
      "argument.\n"
     ]
    },
    {
     "name": "stdout",
     "output_type": "stream",
     "text": [
      "[1] \"Filtered: \"\n",
      "\u001b[90m# A tibble: 34 × 2\u001b[39m\n",
      "\u001b[90m# Groups:   type [34]\u001b[39m\n",
      "   type                                 n\n",
      "   \u001b[3m\u001b[90m<chr>\u001b[39m\u001b[23m                            \u001b[3m\u001b[90m<int>\u001b[39m\u001b[23m\n",
      "\u001b[90m 1\u001b[39m H01_cardiac muscle cell           \u001b[4m1\u001b[24m919\n",
      "\u001b[90m 2\u001b[39m H01_cardiac neuron                \u001b[4m1\u001b[24m919\n",
      "\u001b[90m 3\u001b[39m H01_endothelial cell              \u001b[4m1\u001b[24m919\n",
      "\u001b[90m 4\u001b[39m H01_fibroblast of cardiac tissue  \u001b[4m1\u001b[24m919\n",
      "\u001b[90m 5\u001b[39m H01_lymphocyte                    \u001b[4m1\u001b[24m919\n",
      "\u001b[90m 6\u001b[39m H01_mural cell                    \u001b[4m1\u001b[24m919\n",
      "\u001b[90m 7\u001b[39m H01_myeloid cell                  \u001b[4m1\u001b[24m919\n",
      "\u001b[90m 8\u001b[39m H02_adipocyte                     \u001b[4m1\u001b[24m919\n",
      "\u001b[90m 9\u001b[39m H02_cardiac muscle cell           \u001b[4m1\u001b[24m919\n",
      "\u001b[90m10\u001b[39m H02_cardiac neuron                \u001b[4m1\u001b[24m919\n",
      "\u001b[90m# ℹ 24 more rows\u001b[39m\n"
     ]
    }
   ],
   "source": [
    "for(i in 1:nrow(data_configs)){\n",
    "\n",
    "    if( (!is.na(data_configs$feature_filtering_thres[i])) & (data_configs$feature_filtering_thres[i] != '')  & (data_configs$feature_filtering_thres[i] > 0)){\n",
    "        \n",
    "        data = datasets[[data_configs$configuration_name[i]]][[data_configs$data_name[i]]]\n",
    "        \n",
    "        print(paste0(data_configs$configuration_name[i], ' ' ,data_configs$data_name[i]))\n",
    "        \n",
    "        ## Determine data to filter\n",
    "        data$expression = TRUE\n",
    "        data$expression[data$value == 0] = FALSE\n",
    "        expression_filter = data %>% group_by(type, variable) %>% summarise(perc_expression = sum(expression)  )\n",
    "        expression_filter$perc_expression = expression_filter$perc_expression / length(unique(data$sample_id))\n",
    "        \n",
    "        ## Apply filter\n",
    "        filtered_out = expression_filter[expression_filter$perc_expression <= data_configs$feature_filtering_thres[i],]\n",
    "        print(paste0( 'Filtered: ' ))\n",
    "        if(nrow(filtered_out) > 0){\n",
    "            print(filtered_out %>% dplyr::group_by(type) %>% dplyr::count())\n",
    "            }\n",
    "        expression_filter = expression_filter[expression_filter$perc_expression >data_configs$feature_filtering_thres[i],]  # kept data\n",
    "        \n",
    "        data = merge(data, expression_filter[,c('type', 'variable')], by.x = c('type', 'variable'), by.y = c('type', 'variable'))   # filter the data\n",
    "        \n",
    "        ## Remove expression column \n",
    "        data$expression = NULL\n",
    "        \n",
    "        ## Replace \n",
    "        datasets[[data_configs$configuration_name[i]]][[data_configs$data_name[i]]]  = data\n",
    "        \n",
    "      }\n",
    "}"
   ]
  },
  {
   "cell_type": "markdown",
   "id": "48847de6-41b2-46e7-a50c-649e8d3f0d3f",
   "metadata": {},
   "source": [
    "## Library Adjustment"
   ]
  },
  {
   "cell_type": "code",
   "execution_count": 574,
   "id": "5d7c658f-adc9-46c2-b1c9-87fb474bfd0f",
   "metadata": {
    "tags": []
   },
   "outputs": [],
   "source": [
    "## Normalize measured counts for each sample to have the same amount of counts"
   ]
  },
  {
   "cell_type": "code",
   "execution_count": 575,
   "id": "a565f488-b351-4574-993d-a723fde6a2dc",
   "metadata": {},
   "outputs": [
    {
     "data": {
      "text/html": [
       "<table class=\"dataframe\">\n",
       "<caption>A data.frame: 1 × 13</caption>\n",
       "<thead>\n",
       "\t<tr><th></th><th scope=col>configuration_name</th><th scope=col>data_name</th><th scope=col>file_type</th><th scope=col>data_type</th><th scope=col>remove_sample_ids</th><th scope=col>sample_filtering_thres</th><th scope=col>feature_filtering_thres</th><th scope=col>library_adjustment</th><th scope=col>log_transformation</th><th scope=col>variable_genes_filtering</th><th scope=col>quantile_normalization_samples</th><th scope=col>ribosomal_mitochondrial_gene_filtering</th><th scope=col>feature_wise_quantile_normalization</th></tr>\n",
       "\t<tr><th></th><th scope=col>&lt;chr&gt;</th><th scope=col>&lt;chr&gt;</th><th scope=col>&lt;chr&gt;</th><th scope=col>&lt;chr&gt;</th><th scope=col>&lt;lgl&gt;</th><th scope=col>&lt;int&gt;</th><th scope=col>&lt;dbl&gt;</th><th scope=col>&lt;lgl&gt;</th><th scope=col>&lt;lgl&gt;</th><th scope=col>&lt;int&gt;</th><th scope=col>&lt;lgl&gt;</th><th scope=col>&lt;lgl&gt;</th><th scope=col>&lt;lgl&gt;</th></tr>\n",
       "</thead>\n",
       "<tbody>\n",
       "\t<tr><th scope=row>1</th><td>MI_v1</td><td>dcm_acm</td><td>h5seurat</td><td>sc</td><td>NA</td><td>1</td><td>0.05</td><td>TRUE</td><td>TRUE</td><td>1</td><td>TRUE</td><td>TRUE</td><td>TRUE</td></tr>\n",
       "</tbody>\n",
       "</table>\n"
      ],
      "text/latex": [
       "A data.frame: 1 × 13\n",
       "\\begin{tabular}{r|lllllllllllll}\n",
       "  & configuration\\_name & data\\_name & file\\_type & data\\_type & remove\\_sample\\_ids & sample\\_filtering\\_thres & feature\\_filtering\\_thres & library\\_adjustment & log\\_transformation & variable\\_genes\\_filtering & quantile\\_normalization\\_samples & ribosomal\\_mitochondrial\\_gene\\_filtering & feature\\_wise\\_quantile\\_normalization\\\\\n",
       "  & <chr> & <chr> & <chr> & <chr> & <lgl> & <int> & <dbl> & <lgl> & <lgl> & <int> & <lgl> & <lgl> & <lgl>\\\\\n",
       "\\hline\n",
       "\t1 & MI\\_v1 & dcm\\_acm & h5seurat & sc & NA & 1 & 0.05 & TRUE & TRUE & 1 & TRUE & TRUE & TRUE\\\\\n",
       "\\end{tabular}\n"
      ],
      "text/markdown": [
       "\n",
       "A data.frame: 1 × 13\n",
       "\n",
       "| <!--/--> | configuration_name &lt;chr&gt; | data_name &lt;chr&gt; | file_type &lt;chr&gt; | data_type &lt;chr&gt; | remove_sample_ids &lt;lgl&gt; | sample_filtering_thres &lt;int&gt; | feature_filtering_thres &lt;dbl&gt; | library_adjustment &lt;lgl&gt; | log_transformation &lt;lgl&gt; | variable_genes_filtering &lt;int&gt; | quantile_normalization_samples &lt;lgl&gt; | ribosomal_mitochondrial_gene_filtering &lt;lgl&gt; | feature_wise_quantile_normalization &lt;lgl&gt; |\n",
       "|---|---|---|---|---|---|---|---|---|---|---|---|---|---|\n",
       "| 1 | MI_v1 | dcm_acm | h5seurat | sc | NA | 1 | 0.05 | TRUE | TRUE | 1 | TRUE | TRUE | TRUE |\n",
       "\n"
      ],
      "text/plain": [
       "  configuration_name data_name file_type data_type remove_sample_ids\n",
       "1 MI_v1              dcm_acm   h5seurat  sc        NA               \n",
       "  sample_filtering_thres feature_filtering_thres library_adjustment\n",
       "1 1                      0.05                    TRUE              \n",
       "  log_transformation variable_genes_filtering quantile_normalization_samples\n",
       "1 TRUE               1                        TRUE                          \n",
       "  ribosomal_mitochondrial_gene_filtering feature_wise_quantile_normalization\n",
       "1 TRUE                                   TRUE                               "
      ]
     },
     "metadata": {},
     "output_type": "display_data"
    }
   ],
   "source": [
    "head(data_configs,2)"
   ]
  },
  {
   "cell_type": "code",
   "execution_count": 576,
   "id": "2f80b5d3-a2ce-4e70-9245-ccc67f7e1d06",
   "metadata": {},
   "outputs": [
    {
     "name": "stdout",
     "output_type": "stream",
     "text": [
      "[1] \"Library Adjustment for dcm_acm\"\n"
     ]
    }
   ],
   "source": [
    "for(i in 1:nrow(data_configs)){\n",
    "    if((data_configs$library_adjustment[i] == 'TRUE')){\n",
    "        \n",
    "        print(paste0('Library Adjustment for ',data_configs$data_name[i]))\n",
    "        \n",
    "        data = datasets[[data_configs$configuration_name[i]]][[data_configs$data_name[i]]]\n",
    "\n",
    "        ### Calculate scaling factor per sample\n",
    "        data = data %>% group_by(sample_id,type) %>% mutate(sample_counts = sum(value))\n",
    "        data = data %>% group_by(type) %>% mutate(mean_sample_counts = mean(sample_counts))\n",
    "        \n",
    "        data$scaling_factor = data$sample_counts/ data$mean_sample_counts\n",
    "        data$scaling_factor[data$scaling_factor == 0] = 1 # avoid dividing by 0; TBD whether to include or exclude samples with only zero counts in a cell-type\n",
    "        \n",
    "        ### Apply scaling to counts\n",
    "        \n",
    "        data$value = data$value / data$scaling_factor\n",
    "        \n",
    "        ### Save transformed data to list\n",
    "        datasets[[data_configs$configuration_name[i]]][[data_configs$data_name[i]]] = data\n",
    "        \n",
    "        }\n",
    "    }\n",
    "        "
   ]
  },
  {
   "cell_type": "markdown",
   "id": "ee1b7c55-f0a7-4104-956b-e9c68193dec2",
   "metadata": {
    "tags": []
   },
   "source": [
    "## Gene Filtering (according to cells expressing genes - only for sc Data)"
   ]
  },
  {
   "cell_type": "code",
   "execution_count": 577,
   "id": "da5b0f49-d0eb-49ae-b891-b92167bcec81",
   "metadata": {},
   "outputs": [],
   "source": [
    "### Remove genes from the single-cell dataset that are expressed in a too low amount of cells"
   ]
  },
  {
   "cell_type": "code",
   "execution_count": 578,
   "id": "c69fefaf-695b-4015-a767-fa4df65abd42",
   "metadata": {},
   "outputs": [
    {
     "data": {
      "text/html": [
       "<table class=\"dataframe\">\n",
       "<caption>A data.frame: 1 × 6</caption>\n",
       "<thead>\n",
       "\t<tr><th></th><th scope=col>configuration_name</th><th scope=col>data_name</th><th scope=col>data_type</th><th scope=col>cell_expr_thres1</th><th scope=col>cell_expr_thres2</th><th scope=col>cell_type_exclusion</th></tr>\n",
       "\t<tr><th></th><th scope=col>&lt;chr&gt;</th><th scope=col>&lt;chr&gt;</th><th scope=col>&lt;chr&gt;</th><th scope=col>&lt;chr&gt;</th><th scope=col>&lt;chr&gt;</th><th scope=col>&lt;chr&gt;</th></tr>\n",
       "</thead>\n",
       "<tbody>\n",
       "\t<tr><th scope=row>1</th><td>MI_v1</td><td>dcm_acm</td><td>h5seurat</td><td>30;10</td><td>20;5</td><td>Platelet,Plasmablast,pDC,Eryth,Doublet,dnT,cdC1,CD8 TCM,CD8 Proliferating,CD4 Proliferating,NK Proliferating,ASDC,NK_CD56bright,ILC,MAIT,HSPC</td></tr>\n",
       "</tbody>\n",
       "</table>\n"
      ],
      "text/latex": [
       "A data.frame: 1 × 6\n",
       "\\begin{tabular}{r|llllll}\n",
       "  & configuration\\_name & data\\_name & data\\_type & cell\\_expr\\_thres1 & cell\\_expr\\_thres2 & cell\\_type\\_exclusion\\\\\n",
       "  & <chr> & <chr> & <chr> & <chr> & <chr> & <chr>\\\\\n",
       "\\hline\n",
       "\t1 & MI\\_v1 & dcm\\_acm & h5seurat & 30;10 & 20;5 & Platelet,Plasmablast,pDC,Eryth,Doublet,dnT,cdC1,CD8 TCM,CD8 Proliferating,CD4 Proliferating,NK Proliferating,ASDC,NK\\_CD56bright,ILC,MAIT,HSPC\\\\\n",
       "\\end{tabular}\n"
      ],
      "text/markdown": [
       "\n",
       "A data.frame: 1 × 6\n",
       "\n",
       "| <!--/--> | configuration_name &lt;chr&gt; | data_name &lt;chr&gt; | data_type &lt;chr&gt; | cell_expr_thres1 &lt;chr&gt; | cell_expr_thres2 &lt;chr&gt; | cell_type_exclusion &lt;chr&gt; |\n",
       "|---|---|---|---|---|---|---|\n",
       "| 1 | MI_v1 | dcm_acm | h5seurat | 30;10 | 20;5 | Platelet,Plasmablast,pDC,Eryth,Doublet,dnT,cdC1,CD8 TCM,CD8 Proliferating,CD4 Proliferating,NK Proliferating,ASDC,NK_CD56bright,ILC,MAIT,HSPC |\n",
       "\n"
      ],
      "text/plain": [
       "  configuration_name data_name data_type cell_expr_thres1 cell_expr_thres2\n",
       "1 MI_v1              dcm_acm   h5seurat  30;10            20;5            \n",
       "  cell_type_exclusion                                                                                                                          \n",
       "1 Platelet,Plasmablast,pDC,Eryth,Doublet,dnT,cdC1,CD8 TCM,CD8 Proliferating,CD4 Proliferating,NK Proliferating,ASDC,NK_CD56bright,ILC,MAIT,HSPC"
      ]
     },
     "metadata": {},
     "output_type": "display_data"
    }
   ],
   "source": [
    "head(sc_configs,2)"
   ]
  },
  {
   "cell_type": "code",
   "execution_count": 579,
   "id": "e128db00-559f-439d-a32a-6d90f163191e",
   "metadata": {},
   "outputs": [],
   "source": [
    "## Load gene filtering information from previous script"
   ]
  },
  {
   "cell_type": "code",
   "execution_count": 580,
   "id": "bde631de-b39c-4850-bfb5-dc35bc8fcfbc",
   "metadata": {
    "tags": []
   },
   "outputs": [],
   "source": [
    "gene_expression_info = data.frame()"
   ]
  },
  {
   "cell_type": "code",
   "execution_count": 581,
   "id": "669ff6ec-43d7-459e-8081-28ef6ba617ce",
   "metadata": {
    "tags": []
   },
   "outputs": [],
   "source": [
    "for(i in sc_configs$data_name){\n",
    "    data= read.csv(paste0(result_path, '/01_results/01_' , i , '_Gene_Expr_per_Cell_Type.csv'))\n",
    "    data$X = NULL\n",
    "    \n",
    "    data$data_name = i\n",
    "    gene_expression_info = rbind(gene_expression_info, data)\n",
    "    }"
   ]
  },
  {
   "cell_type": "code",
   "execution_count": 582,
   "id": "22c7e69a-56f3-4305-bdfc-4a74e0e5efc2",
   "metadata": {},
   "outputs": [
    {
     "data": {
      "text/html": [
       "<table class=\"dataframe\">\n",
       "<caption>A data.frame: 2 × 5</caption>\n",
       "<thead>\n",
       "\t<tr><th></th><th scope=col>perc_cells_expressing_gene</th><th scope=col>total_amount_cells_expressing_gene</th><th scope=col>gene</th><th scope=col>cluster</th><th scope=col>data_name</th></tr>\n",
       "\t<tr><th></th><th scope=col>&lt;dbl&gt;</th><th scope=col>&lt;int&gt;</th><th scope=col>&lt;chr&gt;</th><th scope=col>&lt;chr&gt;</th><th scope=col>&lt;chr&gt;</th></tr>\n",
       "</thead>\n",
       "<tbody>\n",
       "\t<tr><th scope=row>1</th><td>1.314940055</td><td>1711</td><td>ISG15   </td><td>mural cell</td><td>dcm_acm</td></tr>\n",
       "\t<tr><th scope=row>2</th><td>0.006148171</td><td>   8</td><td>TNFRSF18</td><td>mural cell</td><td>dcm_acm</td></tr>\n",
       "</tbody>\n",
       "</table>\n"
      ],
      "text/latex": [
       "A data.frame: 2 × 5\n",
       "\\begin{tabular}{r|lllll}\n",
       "  & perc\\_cells\\_expressing\\_gene & total\\_amount\\_cells\\_expressing\\_gene & gene & cluster & data\\_name\\\\\n",
       "  & <dbl> & <int> & <chr> & <chr> & <chr>\\\\\n",
       "\\hline\n",
       "\t1 & 1.314940055 & 1711 & ISG15    & mural cell & dcm\\_acm\\\\\n",
       "\t2 & 0.006148171 &    8 & TNFRSF18 & mural cell & dcm\\_acm\\\\\n",
       "\\end{tabular}\n"
      ],
      "text/markdown": [
       "\n",
       "A data.frame: 2 × 5\n",
       "\n",
       "| <!--/--> | perc_cells_expressing_gene &lt;dbl&gt; | total_amount_cells_expressing_gene &lt;int&gt; | gene &lt;chr&gt; | cluster &lt;chr&gt; | data_name &lt;chr&gt; |\n",
       "|---|---|---|---|---|---|\n",
       "| 1 | 1.314940055 | 1711 | ISG15    | mural cell | dcm_acm |\n",
       "| 2 | 0.006148171 |    8 | TNFRSF18 | mural cell | dcm_acm |\n",
       "\n"
      ],
      "text/plain": [
       "  perc_cells_expressing_gene total_amount_cells_expressing_gene gene    \n",
       "1 1.314940055                1711                               ISG15   \n",
       "2 0.006148171                   8                               TNFRSF18\n",
       "  cluster    data_name\n",
       "1 mural cell dcm_acm  \n",
       "2 mural cell dcm_acm  "
      ]
     },
     "metadata": {},
     "output_type": "display_data"
    }
   ],
   "source": [
    "head(gene_expression_info,2)"
   ]
  },
  {
   "cell_type": "code",
   "execution_count": 583,
   "id": "f2710d81-ddf8-4b8d-9618-ccf9a011b32f",
   "metadata": {},
   "outputs": [
    {
     "name": "stdout",
     "output_type": "stream",
     "text": [
      "[1] \"Gene Filtering for  MI_v1\"\n",
      "[1] \"Amount Samples53\"\n"
     ]
    }
   ],
   "source": [
    "if(nrow(sc_configs) > 0){\n",
    "for(i in 1:nrow(sc_configs)){\n",
    "        \n",
    "        print(paste0('Gene Filtering for  ',sc_configs$configuration_name[i]))\n",
    "        \n",
    "        data = datasets[[sc_configs$configuration_name[i]]][[sc_configs$data_name[i]]]\n",
    "        gene_expr_data = gene_expression_info[gene_expression_info$data_name == unique(gene_expression_info$data_name[i]),]\n",
    "    \n",
    "        ## Get thresholds for config\n",
    "        thres1 = as.numeric(unlist(str_split(sc_configs$cell_expr_thres1[i], ';')))\n",
    "        thres2 = as.numeric(unlist(str_split(sc_configs$cell_expr_thres2[i], ';')))\n",
    "        amount_samples = length(unique(data$sample_id))\n",
    "        print(paste0('Amount Samples', amount_samples))\n",
    "    \n",
    "        ## Filter down gene based on the expression info\n",
    "        gene_filtering =  gene_expr_data[((     gene_expr_data$perc_cells > thres1[1]) & (     gene_expr_data$total_amount_cells_expressing_gene > amount_samples * thres1[2])) |\n",
    "         ((     gene_expr_data$perc_cells > thres2[1]) & (     gene_expr_data$total_amount_cells_expressing_gene > amount_samples * thres2[2])) ,]\n",
    "    \n",
    "        ## Apply to thresholds set in the configuration file\n",
    "        filtered_data = data.frame()\n",
    "        for( k in unique(data$type)){\n",
    "            data_cluster = data[(data$type == k) & (data$variable %in% gene_filtering$gene[gene_filtering$cluster == k]),]\n",
    "            filtered_data = rbind(filtered_data, data_cluster)\n",
    "            }\n",
    "        datasets[[sc_configs$configuration_name[i]]][[sc_configs$data_name[i]]] = filtered_data\n",
    "    }\n",
    "    }"
   ]
  },
  {
   "cell_type": "code",
   "execution_count": 584,
   "id": "dd543378-0594-4789-a234-98db4d60bd0c",
   "metadata": {},
   "outputs": [],
   "source": [
    "### Amount of genes after filtering"
   ]
  },
  {
   "cell_type": "code",
   "execution_count": 585,
   "id": "655f050c-272c-4027-b561-df16a0a50a73",
   "metadata": {},
   "outputs": [],
   "source": [
    "#unique(datasets[[1]][['Prepared_sc_Data']][,c('type', 'variable')])%>% group_by(type) %>% dplyr::count()"
   ]
  },
  {
   "cell_type": "markdown",
   "id": "d6753537-6acf-4340-98ad-ee5ed8fce101",
   "metadata": {},
   "source": [
    "## Log Transformation"
   ]
  },
  {
   "cell_type": "code",
   "execution_count": 586,
   "id": "8348bad4-3f74-4e77-9fb6-5cac40014e32",
   "metadata": {},
   "outputs": [],
   "source": [
    "## Apply log transformation to the data types specified in the configuration file"
   ]
  },
  {
   "cell_type": "code",
   "execution_count": 587,
   "id": "31452215-cd3d-44b0-8fb0-981266832e91",
   "metadata": {},
   "outputs": [
    {
     "data": {
      "text/html": [
       "<table class=\"dataframe\">\n",
       "<caption>A data.frame: 1 × 13</caption>\n",
       "<thead>\n",
       "\t<tr><th></th><th scope=col>configuration_name</th><th scope=col>data_name</th><th scope=col>file_type</th><th scope=col>data_type</th><th scope=col>remove_sample_ids</th><th scope=col>sample_filtering_thres</th><th scope=col>feature_filtering_thres</th><th scope=col>library_adjustment</th><th scope=col>log_transformation</th><th scope=col>variable_genes_filtering</th><th scope=col>quantile_normalization_samples</th><th scope=col>ribosomal_mitochondrial_gene_filtering</th><th scope=col>feature_wise_quantile_normalization</th></tr>\n",
       "\t<tr><th></th><th scope=col>&lt;chr&gt;</th><th scope=col>&lt;chr&gt;</th><th scope=col>&lt;chr&gt;</th><th scope=col>&lt;chr&gt;</th><th scope=col>&lt;lgl&gt;</th><th scope=col>&lt;int&gt;</th><th scope=col>&lt;dbl&gt;</th><th scope=col>&lt;lgl&gt;</th><th scope=col>&lt;lgl&gt;</th><th scope=col>&lt;int&gt;</th><th scope=col>&lt;lgl&gt;</th><th scope=col>&lt;lgl&gt;</th><th scope=col>&lt;lgl&gt;</th></tr>\n",
       "</thead>\n",
       "<tbody>\n",
       "\t<tr><th scope=row>1</th><td>MI_v1</td><td>dcm_acm</td><td>h5seurat</td><td>sc</td><td>NA</td><td>1</td><td>0.05</td><td>TRUE</td><td>TRUE</td><td>1</td><td>TRUE</td><td>TRUE</td><td>TRUE</td></tr>\n",
       "</tbody>\n",
       "</table>\n"
      ],
      "text/latex": [
       "A data.frame: 1 × 13\n",
       "\\begin{tabular}{r|lllllllllllll}\n",
       "  & configuration\\_name & data\\_name & file\\_type & data\\_type & remove\\_sample\\_ids & sample\\_filtering\\_thres & feature\\_filtering\\_thres & library\\_adjustment & log\\_transformation & variable\\_genes\\_filtering & quantile\\_normalization\\_samples & ribosomal\\_mitochondrial\\_gene\\_filtering & feature\\_wise\\_quantile\\_normalization\\\\\n",
       "  & <chr> & <chr> & <chr> & <chr> & <lgl> & <int> & <dbl> & <lgl> & <lgl> & <int> & <lgl> & <lgl> & <lgl>\\\\\n",
       "\\hline\n",
       "\t1 & MI\\_v1 & dcm\\_acm & h5seurat & sc & NA & 1 & 0.05 & TRUE & TRUE & 1 & TRUE & TRUE & TRUE\\\\\n",
       "\\end{tabular}\n"
      ],
      "text/markdown": [
       "\n",
       "A data.frame: 1 × 13\n",
       "\n",
       "| <!--/--> | configuration_name &lt;chr&gt; | data_name &lt;chr&gt; | file_type &lt;chr&gt; | data_type &lt;chr&gt; | remove_sample_ids &lt;lgl&gt; | sample_filtering_thres &lt;int&gt; | feature_filtering_thres &lt;dbl&gt; | library_adjustment &lt;lgl&gt; | log_transformation &lt;lgl&gt; | variable_genes_filtering &lt;int&gt; | quantile_normalization_samples &lt;lgl&gt; | ribosomal_mitochondrial_gene_filtering &lt;lgl&gt; | feature_wise_quantile_normalization &lt;lgl&gt; |\n",
       "|---|---|---|---|---|---|---|---|---|---|---|---|---|---|\n",
       "| 1 | MI_v1 | dcm_acm | h5seurat | sc | NA | 1 | 0.05 | TRUE | TRUE | 1 | TRUE | TRUE | TRUE |\n",
       "\n"
      ],
      "text/plain": [
       "  configuration_name data_name file_type data_type remove_sample_ids\n",
       "1 MI_v1              dcm_acm   h5seurat  sc        NA               \n",
       "  sample_filtering_thres feature_filtering_thres library_adjustment\n",
       "1 1                      0.05                    TRUE              \n",
       "  log_transformation variable_genes_filtering quantile_normalization_samples\n",
       "1 TRUE               1                        TRUE                          \n",
       "  ribosomal_mitochondrial_gene_filtering feature_wise_quantile_normalization\n",
       "1 TRUE                                   TRUE                               "
      ]
     },
     "metadata": {},
     "output_type": "display_data"
    }
   ],
   "source": [
    "head(data_configs,2)"
   ]
  },
  {
   "cell_type": "code",
   "execution_count": 588,
   "id": "1637342a-998f-48c9-8936-1fc8aedae95c",
   "metadata": {},
   "outputs": [
    {
     "name": "stdout",
     "output_type": "stream",
     "text": [
      "[1] \"Log Transformation for dcm_acm\"\n"
     ]
    }
   ],
   "source": [
    "for(i in 1:nrow(data_configs)){\n",
    "    if((data_configs$log_transformation[i] == 'TRUE')){\n",
    "        \n",
    "        print(paste0('Log Transformation for ',data_configs$data_name[i]))\n",
    "        data = datasets[[data_configs$configuration_name[i]]][[data_configs$data_name[i]]]\n",
    "        \n",
    "        data$value = log2(data$value + 1)  # add pseudocount of 1\n",
    "        \n",
    "        datasets[[data_configs$configuration_name[i]]][[data_configs$data_name[i]]] = data # save adjusted data\n",
    "        }\n",
    "    }\n",
    "        \n",
    "        "
   ]
  },
  {
   "cell_type": "markdown",
   "id": "cfae2b56-5d07-497a-bb65-5e3ec85da893",
   "metadata": {},
   "source": [
    "## Variable Gene Filtering"
   ]
  },
  {
   "cell_type": "code",
   "execution_count": 589,
   "id": "4ba017f9-ff4d-498a-ad59-203b97ed75b5",
   "metadata": {},
   "outputs": [],
   "source": [
    "### Filter on highly variable genes if specified in the configuration file"
   ]
  },
  {
   "cell_type": "code",
   "execution_count": 590,
   "id": "4bfa6c94-18a3-4ba8-9f45-fa98656d816d",
   "metadata": {},
   "outputs": [
    {
     "data": {
      "text/html": [
       "<table class=\"dataframe\">\n",
       "<caption>A data.frame: 1 × 13</caption>\n",
       "<thead>\n",
       "\t<tr><th></th><th scope=col>configuration_name</th><th scope=col>data_name</th><th scope=col>file_type</th><th scope=col>data_type</th><th scope=col>remove_sample_ids</th><th scope=col>sample_filtering_thres</th><th scope=col>feature_filtering_thres</th><th scope=col>library_adjustment</th><th scope=col>log_transformation</th><th scope=col>variable_genes_filtering</th><th scope=col>quantile_normalization_samples</th><th scope=col>ribosomal_mitochondrial_gene_filtering</th><th scope=col>feature_wise_quantile_normalization</th></tr>\n",
       "\t<tr><th></th><th scope=col>&lt;chr&gt;</th><th scope=col>&lt;chr&gt;</th><th scope=col>&lt;chr&gt;</th><th scope=col>&lt;chr&gt;</th><th scope=col>&lt;lgl&gt;</th><th scope=col>&lt;int&gt;</th><th scope=col>&lt;dbl&gt;</th><th scope=col>&lt;lgl&gt;</th><th scope=col>&lt;lgl&gt;</th><th scope=col>&lt;int&gt;</th><th scope=col>&lt;lgl&gt;</th><th scope=col>&lt;lgl&gt;</th><th scope=col>&lt;lgl&gt;</th></tr>\n",
       "</thead>\n",
       "<tbody>\n",
       "\t<tr><th scope=row>1</th><td>MI_v1</td><td>dcm_acm</td><td>h5seurat</td><td>sc</td><td>NA</td><td>1</td><td>0.05</td><td>TRUE</td><td>TRUE</td><td>1</td><td>TRUE</td><td>TRUE</td><td>TRUE</td></tr>\n",
       "</tbody>\n",
       "</table>\n"
      ],
      "text/latex": [
       "A data.frame: 1 × 13\n",
       "\\begin{tabular}{r|lllllllllllll}\n",
       "  & configuration\\_name & data\\_name & file\\_type & data\\_type & remove\\_sample\\_ids & sample\\_filtering\\_thres & feature\\_filtering\\_thres & library\\_adjustment & log\\_transformation & variable\\_genes\\_filtering & quantile\\_normalization\\_samples & ribosomal\\_mitochondrial\\_gene\\_filtering & feature\\_wise\\_quantile\\_normalization\\\\\n",
       "  & <chr> & <chr> & <chr> & <chr> & <lgl> & <int> & <dbl> & <lgl> & <lgl> & <int> & <lgl> & <lgl> & <lgl>\\\\\n",
       "\\hline\n",
       "\t1 & MI\\_v1 & dcm\\_acm & h5seurat & sc & NA & 1 & 0.05 & TRUE & TRUE & 1 & TRUE & TRUE & TRUE\\\\\n",
       "\\end{tabular}\n"
      ],
      "text/markdown": [
       "\n",
       "A data.frame: 1 × 13\n",
       "\n",
       "| <!--/--> | configuration_name &lt;chr&gt; | data_name &lt;chr&gt; | file_type &lt;chr&gt; | data_type &lt;chr&gt; | remove_sample_ids &lt;lgl&gt; | sample_filtering_thres &lt;int&gt; | feature_filtering_thres &lt;dbl&gt; | library_adjustment &lt;lgl&gt; | log_transformation &lt;lgl&gt; | variable_genes_filtering &lt;int&gt; | quantile_normalization_samples &lt;lgl&gt; | ribosomal_mitochondrial_gene_filtering &lt;lgl&gt; | feature_wise_quantile_normalization &lt;lgl&gt; |\n",
       "|---|---|---|---|---|---|---|---|---|---|---|---|---|---|\n",
       "| 1 | MI_v1 | dcm_acm | h5seurat | sc | NA | 1 | 0.05 | TRUE | TRUE | 1 | TRUE | TRUE | TRUE |\n",
       "\n"
      ],
      "text/plain": [
       "  configuration_name data_name file_type data_type remove_sample_ids\n",
       "1 MI_v1              dcm_acm   h5seurat  sc        NA               \n",
       "  sample_filtering_thres feature_filtering_thres library_adjustment\n",
       "1 1                      0.05                    TRUE              \n",
       "  log_transformation variable_genes_filtering quantile_normalization_samples\n",
       "1 TRUE               1                        TRUE                          \n",
       "  ribosomal_mitochondrial_gene_filtering feature_wise_quantile_normalization\n",
       "1 TRUE                                   TRUE                               "
      ]
     },
     "metadata": {},
     "output_type": "display_data"
    }
   ],
   "source": [
    "head(data_configs,2)"
   ]
  },
  {
   "cell_type": "code",
   "execution_count": 591,
   "id": "894875a1-3bbd-4219-b25d-54d77accded6",
   "metadata": {},
   "outputs": [],
   "source": [
    "for(i in 1:nrow(data_configs)){\n",
    "    ### Filter genes with lowest variance\n",
    "    if ( (as.numeric(data_configs$variable_genes_filtering[i]) < 1) & (as.numeric(data_configs$variable_genes_filtering[i]) > 0)){\n",
    "        print(paste0('Variable Genes Filtering for ',data_configs$data_name[i]))\n",
    "        data = datasets[[data_configs$configuration_name[i]]][[data_configs$data_name[i]]]\n",
    "        \n",
    "        ### Calculate variance and threshold\n",
    "        data = data %>% group_by(variable, type) %>% mutate(feature_variance = var(value)) # variance\n",
    "        data = data %>% group_by(type) %>% mutate(variance_threshold = quantile(feature_variance, probs = seq(0, 1, 0.01), na.rm = FALSE,\n",
    "         names = TRUE)[(1-as.numeric(data_configs$variable_genes_filtering[i]))*100])   # threshold\n",
    "        \n",
    "        ### Filter\n",
    "        data = data[data$feature_variance > data$variance_threshold,]\n",
    "        \n",
    "        ### remove generated columns\n",
    "        data$feature_variance = NULL\n",
    "        data$variance_threshold = NULL\n",
    "        \n",
    "        ### Save transformed data to list\n",
    "        datasets[[data_configs$configuration_name[i]]][[data_configs$data_name[i]]] = data\n",
    "        \n",
    "        }\n",
    "    }\n",
    "        "
   ]
  },
  {
   "cell_type": "code",
   "execution_count": null,
   "id": "3117fcad-4cb1-4c7b-867c-a90bb2b7bb6c",
   "metadata": {},
   "outputs": [],
   "source": []
  },
  {
   "cell_type": "markdown",
   "id": "25abd775-fe6b-4627-adea-3dabe36ecab6",
   "metadata": {},
   "source": [
    "## Sample Quantile Normalization"
   ]
  },
  {
   "cell_type": "code",
   "execution_count": 592,
   "id": "4d3b8811-964a-4429-8bdb-2e6939430ced",
   "metadata": {},
   "outputs": [],
   "source": [
    "### Apply Sample Quantile Normalization for the data-types specified in the configuration file"
   ]
  },
  {
   "cell_type": "code",
   "execution_count": 593,
   "id": "1d2e380f-5412-4b14-82e6-3650d5fd90b2",
   "metadata": {},
   "outputs": [
    {
     "data": {
      "text/html": [
       "<table class=\"dataframe\">\n",
       "<caption>A data.frame: 1 × 13</caption>\n",
       "<thead>\n",
       "\t<tr><th></th><th scope=col>configuration_name</th><th scope=col>data_name</th><th scope=col>file_type</th><th scope=col>data_type</th><th scope=col>remove_sample_ids</th><th scope=col>sample_filtering_thres</th><th scope=col>feature_filtering_thres</th><th scope=col>library_adjustment</th><th scope=col>log_transformation</th><th scope=col>variable_genes_filtering</th><th scope=col>quantile_normalization_samples</th><th scope=col>ribosomal_mitochondrial_gene_filtering</th><th scope=col>feature_wise_quantile_normalization</th></tr>\n",
       "\t<tr><th></th><th scope=col>&lt;chr&gt;</th><th scope=col>&lt;chr&gt;</th><th scope=col>&lt;chr&gt;</th><th scope=col>&lt;chr&gt;</th><th scope=col>&lt;lgl&gt;</th><th scope=col>&lt;int&gt;</th><th scope=col>&lt;dbl&gt;</th><th scope=col>&lt;lgl&gt;</th><th scope=col>&lt;lgl&gt;</th><th scope=col>&lt;int&gt;</th><th scope=col>&lt;lgl&gt;</th><th scope=col>&lt;lgl&gt;</th><th scope=col>&lt;lgl&gt;</th></tr>\n",
       "</thead>\n",
       "<tbody>\n",
       "\t<tr><th scope=row>1</th><td>MI_v1</td><td>dcm_acm</td><td>h5seurat</td><td>sc</td><td>NA</td><td>1</td><td>0.05</td><td>TRUE</td><td>TRUE</td><td>1</td><td>TRUE</td><td>TRUE</td><td>TRUE</td></tr>\n",
       "</tbody>\n",
       "</table>\n"
      ],
      "text/latex": [
       "A data.frame: 1 × 13\n",
       "\\begin{tabular}{r|lllllllllllll}\n",
       "  & configuration\\_name & data\\_name & file\\_type & data\\_type & remove\\_sample\\_ids & sample\\_filtering\\_thres & feature\\_filtering\\_thres & library\\_adjustment & log\\_transformation & variable\\_genes\\_filtering & quantile\\_normalization\\_samples & ribosomal\\_mitochondrial\\_gene\\_filtering & feature\\_wise\\_quantile\\_normalization\\\\\n",
       "  & <chr> & <chr> & <chr> & <chr> & <lgl> & <int> & <dbl> & <lgl> & <lgl> & <int> & <lgl> & <lgl> & <lgl>\\\\\n",
       "\\hline\n",
       "\t1 & MI\\_v1 & dcm\\_acm & h5seurat & sc & NA & 1 & 0.05 & TRUE & TRUE & 1 & TRUE & TRUE & TRUE\\\\\n",
       "\\end{tabular}\n"
      ],
      "text/markdown": [
       "\n",
       "A data.frame: 1 × 13\n",
       "\n",
       "| <!--/--> | configuration_name &lt;chr&gt; | data_name &lt;chr&gt; | file_type &lt;chr&gt; | data_type &lt;chr&gt; | remove_sample_ids &lt;lgl&gt; | sample_filtering_thres &lt;int&gt; | feature_filtering_thres &lt;dbl&gt; | library_adjustment &lt;lgl&gt; | log_transformation &lt;lgl&gt; | variable_genes_filtering &lt;int&gt; | quantile_normalization_samples &lt;lgl&gt; | ribosomal_mitochondrial_gene_filtering &lt;lgl&gt; | feature_wise_quantile_normalization &lt;lgl&gt; |\n",
       "|---|---|---|---|---|---|---|---|---|---|---|---|---|---|\n",
       "| 1 | MI_v1 | dcm_acm | h5seurat | sc | NA | 1 | 0.05 | TRUE | TRUE | 1 | TRUE | TRUE | TRUE |\n",
       "\n"
      ],
      "text/plain": [
       "  configuration_name data_name file_type data_type remove_sample_ids\n",
       "1 MI_v1              dcm_acm   h5seurat  sc        NA               \n",
       "  sample_filtering_thres feature_filtering_thres library_adjustment\n",
       "1 1                      0.05                    TRUE              \n",
       "  log_transformation variable_genes_filtering quantile_normalization_samples\n",
       "1 TRUE               1                        TRUE                          \n",
       "  ribosomal_mitochondrial_gene_filtering feature_wise_quantile_normalization\n",
       "1 TRUE                                   TRUE                               "
      ]
     },
     "metadata": {},
     "output_type": "display_data"
    }
   ],
   "source": [
    "head(data_configs,2)"
   ]
  },
  {
   "cell_type": "code",
   "execution_count": 594,
   "id": "5fc0b108-2ea2-4a0b-8790-4effbba921dc",
   "metadata": {
    "tags": []
   },
   "outputs": [
    {
     "name": "stdout",
     "output_type": "stream",
     "text": [
      "[1] \"Sample Quantile Normalization for dcm_acm\"\n"
     ]
    },
    {
     "name": "stderr",
     "output_type": "stream",
     "text": [
      "Using variable as id variables\n",
      "\n",
      "Using variable as id variables\n",
      "\n",
      "Using variable as id variables\n",
      "\n",
      "Using variable as id variables\n",
      "\n",
      "Using variable as id variables\n",
      "\n",
      "Using variable as id variables\n",
      "\n",
      "Using variable as id variables\n",
      "\n",
      "Using variable as id variables\n",
      "\n",
      "Using variable as id variables\n",
      "\n"
     ]
    }
   ],
   "source": [
    "for(i in 1:nrow(data_configs)){\n",
    "    if((data_configs$quantile_normalization_samples[i] == 'TRUE')){\n",
    "        \n",
    "        print(paste0('Sample Quantile Normalization for ',data_configs$data_name[i]))\n",
    "        data = datasets[[data_configs$configuration_name[i]]][[data_configs$data_name[i]]]\n",
    "        transformed_data = data.frame()\n",
    "        \n",
    "        for(k in unique(data$type)){\n",
    "            data_type = data[data$type == k,]\n",
    "            data_type = data_type %>% dcast(variable ~ sample_id, value.var = 'value')\n",
    "            features = data_type$variable\n",
    "            rownames(data_type) = features\n",
    "            data_type$variable = NULL\n",
    "            data_type = data_type[,colSums(is.na(data_type)) != nrow(data_type)] # remove na samples\n",
    "            data_type  = quantile_normalization(data_type ) \n",
    "            data_type = data.frame(data_type)\n",
    "            data_type$variable = features\n",
    "            data_type = melt(data_type)\n",
    "            colnames(data_type) = c('variable', 'sample_id', 'value')\n",
    "            \n",
    "            data_type$type = k \n",
    "            data_type$dataset = data_configs$data_name[i]\n",
    "            transformed_data = rbind(transformed_data, data_type)\n",
    "            \n",
    "            }\n",
    "        datasets[[data_configs$configuration_name[i]]][[data_configs$data_name[i]]] = transformed_data\n",
    "        }\n",
    "    }\n",
    "            \n",
    "        \n",
    "        \n",
    "        "
   ]
  },
  {
   "cell_type": "code",
   "execution_count": null,
   "id": "ab90ec5d-f52a-4ea5-9a1a-f3aa9bb4749e",
   "metadata": {},
   "outputs": [],
   "source": []
  },
  {
   "cell_type": "markdown",
   "id": "1cbe5a69-7c55-4d9a-bc9c-cc54b02b7b2b",
   "metadata": {},
   "source": [
    "## Gene Removal (ribosomal, mitochondrial)"
   ]
  },
  {
   "cell_type": "code",
   "execution_count": 595,
   "id": "63f952c6-26df-451e-a6fd-8af93e3fc538",
   "metadata": {},
   "outputs": [],
   "source": [
    "### Remove ribosomal and mitochondrial genes (only works if 'Gene' annotation is given as SYMBOL"
   ]
  },
  {
   "cell_type": "code",
   "execution_count": 596,
   "id": "815b6742-4ffe-4956-9eb4-809d721d5b4d",
   "metadata": {},
   "outputs": [
    {
     "data": {
      "text/html": [
       "<table class=\"dataframe\">\n",
       "<caption>A data.frame: 1 × 13</caption>\n",
       "<thead>\n",
       "\t<tr><th></th><th scope=col>configuration_name</th><th scope=col>data_name</th><th scope=col>file_type</th><th scope=col>data_type</th><th scope=col>remove_sample_ids</th><th scope=col>sample_filtering_thres</th><th scope=col>feature_filtering_thres</th><th scope=col>library_adjustment</th><th scope=col>log_transformation</th><th scope=col>variable_genes_filtering</th><th scope=col>quantile_normalization_samples</th><th scope=col>ribosomal_mitochondrial_gene_filtering</th><th scope=col>feature_wise_quantile_normalization</th></tr>\n",
       "\t<tr><th></th><th scope=col>&lt;chr&gt;</th><th scope=col>&lt;chr&gt;</th><th scope=col>&lt;chr&gt;</th><th scope=col>&lt;chr&gt;</th><th scope=col>&lt;lgl&gt;</th><th scope=col>&lt;int&gt;</th><th scope=col>&lt;dbl&gt;</th><th scope=col>&lt;lgl&gt;</th><th scope=col>&lt;lgl&gt;</th><th scope=col>&lt;int&gt;</th><th scope=col>&lt;lgl&gt;</th><th scope=col>&lt;lgl&gt;</th><th scope=col>&lt;lgl&gt;</th></tr>\n",
       "</thead>\n",
       "<tbody>\n",
       "\t<tr><th scope=row>1</th><td>MI_v1</td><td>dcm_acm</td><td>h5seurat</td><td>sc</td><td>NA</td><td>1</td><td>0.05</td><td>TRUE</td><td>TRUE</td><td>1</td><td>TRUE</td><td>TRUE</td><td>TRUE</td></tr>\n",
       "</tbody>\n",
       "</table>\n"
      ],
      "text/latex": [
       "A data.frame: 1 × 13\n",
       "\\begin{tabular}{r|lllllllllllll}\n",
       "  & configuration\\_name & data\\_name & file\\_type & data\\_type & remove\\_sample\\_ids & sample\\_filtering\\_thres & feature\\_filtering\\_thres & library\\_adjustment & log\\_transformation & variable\\_genes\\_filtering & quantile\\_normalization\\_samples & ribosomal\\_mitochondrial\\_gene\\_filtering & feature\\_wise\\_quantile\\_normalization\\\\\n",
       "  & <chr> & <chr> & <chr> & <chr> & <lgl> & <int> & <dbl> & <lgl> & <lgl> & <int> & <lgl> & <lgl> & <lgl>\\\\\n",
       "\\hline\n",
       "\t1 & MI\\_v1 & dcm\\_acm & h5seurat & sc & NA & 1 & 0.05 & TRUE & TRUE & 1 & TRUE & TRUE & TRUE\\\\\n",
       "\\end{tabular}\n"
      ],
      "text/markdown": [
       "\n",
       "A data.frame: 1 × 13\n",
       "\n",
       "| <!--/--> | configuration_name &lt;chr&gt; | data_name &lt;chr&gt; | file_type &lt;chr&gt; | data_type &lt;chr&gt; | remove_sample_ids &lt;lgl&gt; | sample_filtering_thres &lt;int&gt; | feature_filtering_thres &lt;dbl&gt; | library_adjustment &lt;lgl&gt; | log_transformation &lt;lgl&gt; | variable_genes_filtering &lt;int&gt; | quantile_normalization_samples &lt;lgl&gt; | ribosomal_mitochondrial_gene_filtering &lt;lgl&gt; | feature_wise_quantile_normalization &lt;lgl&gt; |\n",
       "|---|---|---|---|---|---|---|---|---|---|---|---|---|---|\n",
       "| 1 | MI_v1 | dcm_acm | h5seurat | sc | NA | 1 | 0.05 | TRUE | TRUE | 1 | TRUE | TRUE | TRUE |\n",
       "\n"
      ],
      "text/plain": [
       "  configuration_name data_name file_type data_type remove_sample_ids\n",
       "1 MI_v1              dcm_acm   h5seurat  sc        NA               \n",
       "  sample_filtering_thres feature_filtering_thres library_adjustment\n",
       "1 1                      0.05                    TRUE              \n",
       "  log_transformation variable_genes_filtering quantile_normalization_samples\n",
       "1 TRUE               1                        TRUE                          \n",
       "  ribosomal_mitochondrial_gene_filtering feature_wise_quantile_normalization\n",
       "1 TRUE                                   TRUE                               "
      ]
     },
     "metadata": {},
     "output_type": "display_data"
    }
   ],
   "source": [
    "head(data_configs,2)"
   ]
  },
  {
   "cell_type": "code",
   "execution_count": 597,
   "id": "5502caed-12c6-4a82-a6d7-a8920e10320c",
   "metadata": {},
   "outputs": [
    {
     "name": "stdout",
     "output_type": "stream",
     "text": [
      "[1] \"Remove ribosomal and mitochondrial genes for dcm_acm\"\n"
     ]
    }
   ],
   "source": [
    "for(i in 1:nrow(data_configs)){\n",
    "    if((data_configs$ribosomal_mitochondrial_gene_filtering[i] == 'TRUE')){\n",
    "        \n",
    "        print(paste0('Remove ribosomal and mitochondrial genes for ',data_configs$data_name[i]))\n",
    "        data = datasets[[data_configs$configuration_name[i]]][[data_configs$data_name[i]]]\n",
    "        \n",
    "        ## Remove ribosomal and mitochondiral genes\n",
    "        data = data[is.na(str_extract(data$variable, '^MT.*|^RPL.*|^RPS.*')),]\n",
    "        \n",
    "        datasets[[data_configs$configuration_name[i]]][[data_configs$data_name[i]]] = data\n",
    "        }\n",
    "    }\n",
    "        \n",
    "\n",
    "        \n",
    "        "
   ]
  },
  {
   "cell_type": "markdown",
   "id": "1ce3a9ae-1aa5-4fbe-94dd-400ce0748650",
   "metadata": {
    "tags": []
   },
   "source": [
    "# Merge data types and process"
   ]
  },
  {
   "cell_type": "code",
   "execution_count": 598,
   "id": "da747b03-8674-45ba-83ca-13e2c3c27dfb",
   "metadata": {},
   "outputs": [],
   "source": [
    "### Combine all the datasets to one dataset"
   ]
  },
  {
   "cell_type": "code",
   "execution_count": 599,
   "id": "0709343b-0908-4bb3-ba7a-ad79070705f7",
   "metadata": {},
   "outputs": [],
   "source": [
    "#str(datasets)"
   ]
  },
  {
   "cell_type": "code",
   "execution_count": 600,
   "id": "1a80e930-a48c-4397-aa5c-b7f9f2518155",
   "metadata": {},
   "outputs": [],
   "source": [
    "### Combine all types into one dataset\n",
    "datasets = lapply(datasets, function(x){\n",
    "    data = do.call(rbind, x)\n",
    "    })"
   ]
  },
  {
   "cell_type": "code",
   "execution_count": 601,
   "id": "03f0cd0a-c917-4fe7-a3d6-e8f00586a799",
   "metadata": {},
   "outputs": [],
   "source": [
    "### Overview amount of features per type/ view "
   ]
  },
  {
   "cell_type": "code",
   "execution_count": 602,
   "id": "d94097ab-1915-419d-9076-a8612fd2e920",
   "metadata": {},
   "outputs": [
    {
     "data": {
      "text/html": [
       "<table class=\"dataframe\">\n",
       "<caption>A grouped_df: 9 × 2</caption>\n",
       "<thead>\n",
       "\t<tr><th scope=col>type</th><th scope=col>n</th></tr>\n",
       "\t<tr><th scope=col>&lt;chr&gt;</th><th scope=col>&lt;int&gt;</th></tr>\n",
       "</thead>\n",
       "<tbody>\n",
       "\t<tr><td>adipocyte                   </td><td>414</td></tr>\n",
       "\t<tr><td>cardiac muscle cell         </td><td>368</td></tr>\n",
       "\t<tr><td>cardiac neuron              </td><td>162</td></tr>\n",
       "\t<tr><td>endothelial cell            </td><td>166</td></tr>\n",
       "\t<tr><td>fibroblast of cardiac tissue</td><td>243</td></tr>\n",
       "\t<tr><td>lymphocyte                  </td><td>170</td></tr>\n",
       "\t<tr><td>mast cell                   </td><td> 99</td></tr>\n",
       "\t<tr><td>mural cell                  </td><td>112</td></tr>\n",
       "\t<tr><td>myeloid cell                </td><td>331</td></tr>\n",
       "</tbody>\n",
       "</table>\n"
      ],
      "text/latex": [
       "A grouped\\_df: 9 × 2\n",
       "\\begin{tabular}{ll}\n",
       " type & n\\\\\n",
       " <chr> & <int>\\\\\n",
       "\\hline\n",
       "\t adipocyte                    & 414\\\\\n",
       "\t cardiac muscle cell          & 368\\\\\n",
       "\t cardiac neuron               & 162\\\\\n",
       "\t endothelial cell             & 166\\\\\n",
       "\t fibroblast of cardiac tissue & 243\\\\\n",
       "\t lymphocyte                   & 170\\\\\n",
       "\t mast cell                    &  99\\\\\n",
       "\t mural cell                   & 112\\\\\n",
       "\t myeloid cell                 & 331\\\\\n",
       "\\end{tabular}\n"
      ],
      "text/markdown": [
       "\n",
       "A grouped_df: 9 × 2\n",
       "\n",
       "| type &lt;chr&gt; | n &lt;int&gt; |\n",
       "|---|---|\n",
       "| adipocyte                    | 414 |\n",
       "| cardiac muscle cell          | 368 |\n",
       "| cardiac neuron               | 162 |\n",
       "| endothelial cell             | 166 |\n",
       "| fibroblast of cardiac tissue | 243 |\n",
       "| lymphocyte                   | 170 |\n",
       "| mast cell                    |  99 |\n",
       "| mural cell                   | 112 |\n",
       "| myeloid cell                 | 331 |\n",
       "\n"
      ],
      "text/plain": [
       "  type                         n  \n",
       "1 adipocyte                    414\n",
       "2 cardiac muscle cell          368\n",
       "3 cardiac neuron               162\n",
       "4 endothelial cell             166\n",
       "5 fibroblast of cardiac tissue 243\n",
       "6 lymphocyte                   170\n",
       "7 mast cell                     99\n",
       "8 mural cell                   112\n",
       "9 myeloid cell                 331"
      ]
     },
     "metadata": {},
     "output_type": "display_data"
    }
   ],
   "source": [
    "unique(datasets[[1]][,c('type', 'variable')]) %>% group_by(type) %>% dplyr::count()"
   ]
  },
  {
   "cell_type": "code",
   "execution_count": null,
   "id": "e023cdc3-ee87-499a-8084-c091228ba3b2",
   "metadata": {},
   "outputs": [],
   "source": []
  },
  {
   "cell_type": "markdown",
   "id": "efe2850d-1561-4f70-9933-c047f0376bd8",
   "metadata": {
    "tags": []
   },
   "source": [
    "# Feature Wise Quantile Normalization"
   ]
  },
  {
   "cell_type": "code",
   "execution_count": 603,
   "id": "445ce126-10cb-4ea1-9a29-35d784e9b880",
   "metadata": {},
   "outputs": [],
   "source": [
    "### Apply feature wise quantile normalization if specified in the configuration file"
   ]
  },
  {
   "cell_type": "code",
   "execution_count": 604,
   "id": "293c7b42-c560-4c0a-b78b-306c0d5f7507",
   "metadata": {},
   "outputs": [
    {
     "data": {
      "text/html": [
       "<table class=\"dataframe\">\n",
       "<caption>A data.frame: 1 × 13</caption>\n",
       "<thead>\n",
       "\t<tr><th></th><th scope=col>configuration_name</th><th scope=col>data_name</th><th scope=col>file_type</th><th scope=col>data_type</th><th scope=col>remove_sample_ids</th><th scope=col>sample_filtering_thres</th><th scope=col>feature_filtering_thres</th><th scope=col>library_adjustment</th><th scope=col>log_transformation</th><th scope=col>variable_genes_filtering</th><th scope=col>quantile_normalization_samples</th><th scope=col>ribosomal_mitochondrial_gene_filtering</th><th scope=col>feature_wise_quantile_normalization</th></tr>\n",
       "\t<tr><th></th><th scope=col>&lt;chr&gt;</th><th scope=col>&lt;chr&gt;</th><th scope=col>&lt;chr&gt;</th><th scope=col>&lt;chr&gt;</th><th scope=col>&lt;lgl&gt;</th><th scope=col>&lt;int&gt;</th><th scope=col>&lt;dbl&gt;</th><th scope=col>&lt;lgl&gt;</th><th scope=col>&lt;lgl&gt;</th><th scope=col>&lt;int&gt;</th><th scope=col>&lt;lgl&gt;</th><th scope=col>&lt;lgl&gt;</th><th scope=col>&lt;lgl&gt;</th></tr>\n",
       "</thead>\n",
       "<tbody>\n",
       "\t<tr><th scope=row>1</th><td>MI_v1</td><td>dcm_acm</td><td>h5seurat</td><td>sc</td><td>NA</td><td>1</td><td>0.05</td><td>TRUE</td><td>TRUE</td><td>1</td><td>TRUE</td><td>TRUE</td><td>TRUE</td></tr>\n",
       "</tbody>\n",
       "</table>\n"
      ],
      "text/latex": [
       "A data.frame: 1 × 13\n",
       "\\begin{tabular}{r|lllllllllllll}\n",
       "  & configuration\\_name & data\\_name & file\\_type & data\\_type & remove\\_sample\\_ids & sample\\_filtering\\_thres & feature\\_filtering\\_thres & library\\_adjustment & log\\_transformation & variable\\_genes\\_filtering & quantile\\_normalization\\_samples & ribosomal\\_mitochondrial\\_gene\\_filtering & feature\\_wise\\_quantile\\_normalization\\\\\n",
       "  & <chr> & <chr> & <chr> & <chr> & <lgl> & <int> & <dbl> & <lgl> & <lgl> & <int> & <lgl> & <lgl> & <lgl>\\\\\n",
       "\\hline\n",
       "\t1 & MI\\_v1 & dcm\\_acm & h5seurat & sc & NA & 1 & 0.05 & TRUE & TRUE & 1 & TRUE & TRUE & TRUE\\\\\n",
       "\\end{tabular}\n"
      ],
      "text/markdown": [
       "\n",
       "A data.frame: 1 × 13\n",
       "\n",
       "| <!--/--> | configuration_name &lt;chr&gt; | data_name &lt;chr&gt; | file_type &lt;chr&gt; | data_type &lt;chr&gt; | remove_sample_ids &lt;lgl&gt; | sample_filtering_thres &lt;int&gt; | feature_filtering_thres &lt;dbl&gt; | library_adjustment &lt;lgl&gt; | log_transformation &lt;lgl&gt; | variable_genes_filtering &lt;int&gt; | quantile_normalization_samples &lt;lgl&gt; | ribosomal_mitochondrial_gene_filtering &lt;lgl&gt; | feature_wise_quantile_normalization &lt;lgl&gt; |\n",
       "|---|---|---|---|---|---|---|---|---|---|---|---|---|---|\n",
       "| 1 | MI_v1 | dcm_acm | h5seurat | sc | NA | 1 | 0.05 | TRUE | TRUE | 1 | TRUE | TRUE | TRUE |\n",
       "\n"
      ],
      "text/plain": [
       "  configuration_name data_name file_type data_type remove_sample_ids\n",
       "1 MI_v1              dcm_acm   h5seurat  sc        NA               \n",
       "  sample_filtering_thres feature_filtering_thres library_adjustment\n",
       "1 1                      0.05                    TRUE              \n",
       "  log_transformation variable_genes_filtering quantile_normalization_samples\n",
       "1 TRUE               1                        TRUE                          \n",
       "  ribosomal_mitochondrial_gene_filtering feature_wise_quantile_normalization\n",
       "1 TRUE                                   TRUE                               "
      ]
     },
     "metadata": {},
     "output_type": "display_data"
    }
   ],
   "source": [
    "head(data_configs,2)"
   ]
  },
  {
   "cell_type": "code",
   "execution_count": 605,
   "id": "6ec170fe-b885-4417-9467-bdb1cbc2b8c9",
   "metadata": {},
   "outputs": [
    {
     "data": {
      "text/html": [
       "TRUE"
      ],
      "text/latex": [
       "TRUE"
      ],
      "text/markdown": [
       "TRUE"
      ],
      "text/plain": [
       "[1] TRUE"
      ]
     },
     "metadata": {},
     "output_type": "display_data"
    }
   ],
   "source": [
    "data_configs$feature_wise_quantile_normalization"
   ]
  },
  {
   "cell_type": "code",
   "execution_count": 606,
   "id": "d5cfb1c0-af8b-43ee-b1b4-8e72cddf858a",
   "metadata": {},
   "outputs": [
    {
     "name": "stdout",
     "output_type": "stream",
     "text": [
      "[1] \"Applying Feature Wise Quantile Normalization\"\n"
     ]
    },
    {
     "name": "stderr",
     "output_type": "stream",
     "text": [
      "Using sample_id as id variables\n",
      "\n"
     ]
    }
   ],
   "source": [
    "for(i in names(datasets)){\n",
    "    \n",
    "    data = datasets[[i]]\n",
    "    data$ident = paste0(data$type, '_0_', data$variable)\n",
    "    final_data = dcast(data, sample_id ~ ident , value.var = \"value\") # ! with this merging there might be NA values for some samples on some data types\n",
    "    rownames(final_data) = final_data$sample_id\n",
    "    final_data$sample_id = NULL\n",
    "    \n",
    "    # Remove samples with only NA's\n",
    "    data_nas = is.na(final_data)\n",
    "    rowSums(data_nas)  # TBD maybe plot amount of NA per sample\n",
    "    keep_samples = names(rowSums(data_nas))[rowSums(data_nas) != ncol(final_data)]\n",
    "    final_data = final_data[keep_samples,]\n",
    "    data_nas = data_nas[keep_samples,]\n",
    "    \n",
    "    # Feature Wise Quantile Normalization in kind of TRUE value\n",
    "    if(unique(data_configs$feature_wise_quantile_normalization[data_configs$configuration_name == i]) == 'TRUE'){\n",
    "        print('Applying Feature Wise Quantile Normalization')\n",
    "        final_data = apply(final_data, 2,stdnorm)\n",
    "        final_data = data.frame(final_data)\n",
    "        final_data[data_nas] = NA\n",
    "        final_data$sample_id = rownames(final_data)\n",
    "        data_long = melt(final_data)\n",
    "        data_long$type = str_extract(data_long$variable, '.*_0_')\n",
    "        data_long$type  = str_replace(data_long$type , '_0_', '')\n",
    "        data_long$variable = str_replace(data_long$variable, '.*_0_', '')\n",
    "        datasets[[i]] = data_long\n",
    "        \n",
    "        }\n",
    "    \n",
    "    }\n",
    "        \n",
    "        \n",
    "        "
   ]
  },
  {
   "cell_type": "code",
   "execution_count": 607,
   "id": "1163b586-9a86-4173-8d46-6f4ff7dfe185",
   "metadata": {},
   "outputs": [
    {
     "data": {
      "text/html": [
       "<table class=\"dataframe\">\n",
       "<caption>A data.frame: 2 × 4</caption>\n",
       "<thead>\n",
       "\t<tr><th></th><th scope=col>sample_id</th><th scope=col>variable</th><th scope=col>value</th><th scope=col>type</th></tr>\n",
       "\t<tr><th></th><th scope=col>&lt;chr&gt;</th><th scope=col>&lt;chr&gt;</th><th scope=col>&lt;dbl&gt;</th><th scope=col>&lt;chr&gt;</th></tr>\n",
       "</thead>\n",
       "<tbody>\n",
       "\t<tr><th scope=row>1</th><td>D1</td><td>ABI1</td><td>-1.1243382</td><td>adipocyte</td></tr>\n",
       "\t<tr><th scope=row>2</th><td>D2</td><td>ABI1</td><td>-0.8572543</td><td>adipocyte</td></tr>\n",
       "</tbody>\n",
       "</table>\n"
      ],
      "text/latex": [
       "A data.frame: 2 × 4\n",
       "\\begin{tabular}{r|llll}\n",
       "  & sample\\_id & variable & value & type\\\\\n",
       "  & <chr> & <chr> & <dbl> & <chr>\\\\\n",
       "\\hline\n",
       "\t1 & D1 & ABI1 & -1.1243382 & adipocyte\\\\\n",
       "\t2 & D2 & ABI1 & -0.8572543 & adipocyte\\\\\n",
       "\\end{tabular}\n"
      ],
      "text/markdown": [
       "\n",
       "A data.frame: 2 × 4\n",
       "\n",
       "| <!--/--> | sample_id &lt;chr&gt; | variable &lt;chr&gt; | value &lt;dbl&gt; | type &lt;chr&gt; |\n",
       "|---|---|---|---|---|\n",
       "| 1 | D1 | ABI1 | -1.1243382 | adipocyte |\n",
       "| 2 | D2 | ABI1 | -0.8572543 | adipocyte |\n",
       "\n"
      ],
      "text/plain": [
       "  sample_id variable value      type     \n",
       "1 D1        ABI1     -1.1243382 adipocyte\n",
       "2 D2        ABI1     -0.8572543 adipocyte"
      ]
     },
     "metadata": {},
     "output_type": "display_data"
    }
   ],
   "source": [
    "head(datasets[[1]],2)"
   ]
  },
  {
   "cell_type": "code",
   "execution_count": null,
   "id": "1ef575c4-0883-4065-8d0f-4fae859c8b29",
   "metadata": {},
   "outputs": [],
   "source": []
  },
  {
   "cell_type": "markdown",
   "id": "e1612f56-c1f2-4927-82be-23007a090642",
   "metadata": {},
   "source": [
    "# Save the data"
   ]
  },
  {
   "cell_type": "code",
   "execution_count": 608,
   "id": "1e30fa31-7baa-4c57-870f-8db066a77cf4",
   "metadata": {},
   "outputs": [],
   "source": [
    "### Save the data to use as input in the next script"
   ]
  },
  {
   "cell_type": "code",
   "execution_count": 609,
   "id": "90f98b5f-8a6c-4369-b378-d18140faf14f",
   "metadata": {},
   "outputs": [],
   "source": [
    "### Adjust variable names\n",
    "datasets = lapply(datasets, function(x){\n",
    "    x$gene = x$variable\n",
    "    x$variable = paste0(x$type, '__', x$variable)\n",
    "    return(x)\n",
    "    })"
   ]
  },
  {
   "cell_type": "code",
   "execution_count": 610,
   "id": "fdf5cccb-2c13-4028-8255-0db63d0ef97f",
   "metadata": {},
   "outputs": [],
   "source": [
    "for(i in names(datasets)){\n",
    "    write.csv(datasets[[i]], paste0(result_path, '/02_results/02_Combined_Data_', i, '_INTEGRATED',  '.csv'))\n",
    "    }"
   ]
  },
  {
   "cell_type": "code",
   "execution_count": 611,
   "id": "404f0b9f-2401-4762-ab98-569ac2889b80",
   "metadata": {},
   "outputs": [],
   "source": [
    "### Example of structure of dataset"
   ]
  },
  {
   "cell_type": "code",
   "execution_count": 612,
   "id": "111b5128-6f02-4773-bc24-e4aff35683c2",
   "metadata": {
    "tags": []
   },
   "outputs": [
    {
     "data": {
      "text/html": [
       "<table class=\"dataframe\">\n",
       "<caption>A data.frame: 2 × 5</caption>\n",
       "<thead>\n",
       "\t<tr><th></th><th scope=col>sample_id</th><th scope=col>variable</th><th scope=col>value</th><th scope=col>type</th><th scope=col>gene</th></tr>\n",
       "\t<tr><th></th><th scope=col>&lt;chr&gt;</th><th scope=col>&lt;chr&gt;</th><th scope=col>&lt;dbl&gt;</th><th scope=col>&lt;chr&gt;</th><th scope=col>&lt;chr&gt;</th></tr>\n",
       "</thead>\n",
       "<tbody>\n",
       "\t<tr><th scope=row>1</th><td>D1</td><td>adipocyte__ABI1</td><td>-1.1243382</td><td>adipocyte</td><td>ABI1</td></tr>\n",
       "\t<tr><th scope=row>2</th><td>D2</td><td>adipocyte__ABI1</td><td>-0.8572543</td><td>adipocyte</td><td>ABI1</td></tr>\n",
       "</tbody>\n",
       "</table>\n"
      ],
      "text/latex": [
       "A data.frame: 2 × 5\n",
       "\\begin{tabular}{r|lllll}\n",
       "  & sample\\_id & variable & value & type & gene\\\\\n",
       "  & <chr> & <chr> & <dbl> & <chr> & <chr>\\\\\n",
       "\\hline\n",
       "\t1 & D1 & adipocyte\\_\\_ABI1 & -1.1243382 & adipocyte & ABI1\\\\\n",
       "\t2 & D2 & adipocyte\\_\\_ABI1 & -0.8572543 & adipocyte & ABI1\\\\\n",
       "\\end{tabular}\n"
      ],
      "text/markdown": [
       "\n",
       "A data.frame: 2 × 5\n",
       "\n",
       "| <!--/--> | sample_id &lt;chr&gt; | variable &lt;chr&gt; | value &lt;dbl&gt; | type &lt;chr&gt; | gene &lt;chr&gt; |\n",
       "|---|---|---|---|---|---|\n",
       "| 1 | D1 | adipocyte__ABI1 | -1.1243382 | adipocyte | ABI1 |\n",
       "| 2 | D2 | adipocyte__ABI1 | -0.8572543 | adipocyte | ABI1 |\n",
       "\n"
      ],
      "text/plain": [
       "  sample_id variable        value      type      gene\n",
       "1 D1        adipocyte__ABI1 -1.1243382 adipocyte ABI1\n",
       "2 D2        adipocyte__ABI1 -0.8572543 adipocyte ABI1"
      ]
     },
     "metadata": {},
     "output_type": "display_data"
    }
   ],
   "source": [
    "head(datasets[[1]],2)"
   ]
  },
  {
   "cell_type": "code",
   "execution_count": 613,
   "id": "d009fb3d-e44e-462a-bb19-787422d6186b",
   "metadata": {},
   "outputs": [
    {
     "data": {
      "text/html": [
       "53"
      ],
      "text/latex": [
       "53"
      ],
      "text/markdown": [
       "53"
      ],
      "text/plain": [
       "[1] 53"
      ]
     },
     "metadata": {},
     "output_type": "display_data"
    }
   ],
   "source": [
    "length(unique(datasets[[1]]$sample_id))"
   ]
  },
  {
   "cell_type": "code",
   "execution_count": null,
   "id": "c3c897c0-ac01-4be3-8788-ce50e14c7cfa",
   "metadata": {},
   "outputs": [],
   "source": []
  }
 ],
 "metadata": {
  "kernelspec": {
   "display_name": "R",
   "language": "R",
   "name": "ir"
  },
  "language_info": {
   "codemirror_mode": "r",
   "file_extension": ".r",
   "mimetype": "text/x-r-source",
   "name": "R",
   "pygments_lexer": "r",
   "version": "4.3.2"
  },
  "toc-autonumbering": true
 },
 "nbformat": 4,
 "nbformat_minor": 5
}
