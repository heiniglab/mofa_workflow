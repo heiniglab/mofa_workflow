{
 "cells": [
  {
   "cell_type": "code",
   "execution_count": 792,
   "id": "d182c426-4d95-4dee-a099-cd923e9437d7",
   "metadata": {},
   "outputs": [],
   "source": [
    "### Analyze MOFA MODEL Results\n",
    "### Investigate the specific top features of each factor\n",
    "### Plot the normalized expression of the features as heatmap"
   ]
  },
  {
   "cell_type": "markdown",
   "id": "213d69de-4705-4a6e-9387-b1a3413172eb",
   "metadata": {
    "tags": []
   },
   "source": [
    "#############################################\n",
    "# Prerequisites - Load Libraries"
   ]
  },
  {
   "cell_type": "code",
   "execution_count": 793,
   "id": "9957e32b-eaec-4762-95cd-e089cc1cdc60",
   "metadata": {
    "tags": []
   },
   "outputs": [
    {
     "name": "stderr",
     "output_type": "stream",
     "text": [
      "Warning message in read.table(file = file, header = header, sep = sep, quote = quote, :\n",
      "“incomplete final line found by readTableHeader on '../conda_environment/Environment_Configs.csv'”\n"
     ]
    },
    {
     "name": "stdout",
     "output_type": "stream",
     "text": [
      "[1] \"/home/icb/corinna.losert/miniconda3/envs/mofa_analysis//lib/R/library\"\n"
     ]
    }
   ],
   "source": [
    "source('MS0_Libraries.r')"
   ]
  },
  {
   "cell_type": "code",
   "execution_count": 794,
   "id": "45fcc655-2176-406c-9f49-5e5b9379a275",
   "metadata": {
    "tags": []
   },
   "outputs": [],
   "source": [
    "source('MS2_Plot_Config.r')"
   ]
  },
  {
   "cell_type": "code",
   "execution_count": 795,
   "id": "a05c2a3f-a558-4041-9545-16235c26f5bf",
   "metadata": {},
   "outputs": [],
   "source": [
    "source('MS1_Functions.r')"
   ]
  },
  {
   "cell_type": "markdown",
   "id": "9d409d14-a693-4722-9648-4b6bacb4b74a",
   "metadata": {
    "tags": []
   },
   "source": [
    "###############################################\n",
    "# Preqrequisites Configurations & Parameters"
   ]
  },
  {
   "cell_type": "code",
   "execution_count": 796,
   "id": "fe484df0-16ac-4a91-91b9-dc344c1faadf",
   "metadata": {},
   "outputs": [],
   "source": [
    "### Load the parameters that are set via the configuration files"
   ]
  },
  {
   "cell_type": "code",
   "execution_count": 797,
   "id": "f55f2253-428c-4269-b1c8-0715c99c45d6",
   "metadata": {},
   "outputs": [
    {
     "name": "stderr",
     "output_type": "stream",
     "text": [
      "Warning message in read.table(file = file, header = header, sep = sep, quote = quote, :\n",
      "“incomplete final line found by readTableHeader on 'configurations/Data_Configs.csv'”\n"
     ]
    }
   ],
   "source": [
    "### Load configurations file\n",
    "global_configs = read.csv('configurations/Data_Configs.csv', sep = ',')"
   ]
  },
  {
   "cell_type": "code",
   "execution_count": 798,
   "id": "2bf16272-76e3-46f3-8548-620040ead08e",
   "metadata": {},
   "outputs": [
    {
     "data": {
      "text/html": [
       "<table class=\"dataframe\">\n",
       "<caption>A data.frame: 2 × 2</caption>\n",
       "<thead>\n",
       "\t<tr><th></th><th scope=col>parameter</th><th scope=col>value</th></tr>\n",
       "\t<tr><th></th><th scope=col>&lt;chr&gt;</th><th scope=col>&lt;chr&gt;</th></tr>\n",
       "</thead>\n",
       "<tbody>\n",
       "\t<tr><th scope=row>1</th><td>data_path  </td><td>/lustre/groups/epigenereg01/workspace/projects/jove/example_data/   </td></tr>\n",
       "\t<tr><th scope=row>2</th><td>result_path</td><td>/lustre/groups/epigenereg01/workspace/projects/jove/example_results/</td></tr>\n",
       "</tbody>\n",
       "</table>\n"
      ],
      "text/latex": [
       "A data.frame: 2 × 2\n",
       "\\begin{tabular}{r|ll}\n",
       "  & parameter & value\\\\\n",
       "  & <chr> & <chr>\\\\\n",
       "\\hline\n",
       "\t1 & data\\_path   & /lustre/groups/epigenereg01/workspace/projects/jove/example\\_data/   \\\\\n",
       "\t2 & result\\_path & /lustre/groups/epigenereg01/workspace/projects/jove/example\\_results/\\\\\n",
       "\\end{tabular}\n"
      ],
      "text/markdown": [
       "\n",
       "A data.frame: 2 × 2\n",
       "\n",
       "| <!--/--> | parameter &lt;chr&gt; | value &lt;chr&gt; |\n",
       "|---|---|---|\n",
       "| 1 | data_path   | /lustre/groups/epigenereg01/workspace/projects/jove/example_data/    |\n",
       "| 2 | result_path | /lustre/groups/epigenereg01/workspace/projects/jove/example_results/ |\n",
       "\n"
      ],
      "text/plain": [
       "  parameter  \n",
       "1 data_path  \n",
       "2 result_path\n",
       "  value                                                               \n",
       "1 /lustre/groups/epigenereg01/workspace/projects/jove/example_data/   \n",
       "2 /lustre/groups/epigenereg01/workspace/projects/jove/example_results/"
      ]
     },
     "metadata": {},
     "output_type": "display_data"
    }
   ],
   "source": [
    "head(global_configs,2)"
   ]
  },
  {
   "cell_type": "code",
   "execution_count": 799,
   "id": "12f3555a-20da-4c71-9403-a36eaad37b1a",
   "metadata": {},
   "outputs": [],
   "source": [
    "data_path = global_configs$value[global_configs$parameter == 'data_path']"
   ]
  },
  {
   "cell_type": "code",
   "execution_count": 800,
   "id": "c6cdf9b4-f0da-459b-9570-8b3f67897db2",
   "metadata": {},
   "outputs": [
    {
     "data": {
      "text/html": [
       "'/lustre/groups/epigenereg01/workspace/projects/jove/example_data/'"
      ],
      "text/latex": [
       "'/lustre/groups/epigenereg01/workspace/projects/jove/example\\_data/'"
      ],
      "text/markdown": [
       "'/lustre/groups/epigenereg01/workspace/projects/jove/example_data/'"
      ],
      "text/plain": [
       "[1] \"/lustre/groups/epigenereg01/workspace/projects/jove/example_data/\""
      ]
     },
     "metadata": {},
     "output_type": "display_data"
    }
   ],
   "source": [
    "data_path"
   ]
  },
  {
   "cell_type": "code",
   "execution_count": 801,
   "id": "05eb79fc-0f87-4018-a9fc-a9f0ec1184db",
   "metadata": {},
   "outputs": [],
   "source": [
    "result_path = global_configs$value[global_configs$parameter == 'result_path']"
   ]
  },
  {
   "cell_type": "code",
   "execution_count": 802,
   "id": "7b6ac165-7d07-45a4-a7cf-3b2a5f2b37d0",
   "metadata": {},
   "outputs": [
    {
     "data": {
      "text/html": [
       "'/lustre/groups/epigenereg01/workspace/projects/jove/example_results/'"
      ],
      "text/latex": [
       "'/lustre/groups/epigenereg01/workspace/projects/jove/example\\_results/'"
      ],
      "text/markdown": [
       "'/lustre/groups/epigenereg01/workspace/projects/jove/example_results/'"
      ],
      "text/plain": [
       "[1] \"/lustre/groups/epigenereg01/workspace/projects/jove/example_results/\""
      ]
     },
     "metadata": {},
     "output_type": "display_data"
    }
   ],
   "source": [
    "result_path"
   ]
  },
  {
   "cell_type": "code",
   "execution_count": 803,
   "id": "59c95e0a-159f-45e4-aa0b-a09054b0ed61",
   "metadata": {},
   "outputs": [],
   "source": [
    "### Configuration parameters for plot (read and assign)"
   ]
  },
  {
   "cell_type": "code",
   "execution_count": 804,
   "id": "6a30635b-0511-427b-b282-da4931cce0a7",
   "metadata": {},
   "outputs": [
    {
     "name": "stderr",
     "output_type": "stream",
     "text": [
      "Warning message in read.table(file = file, header = header, sep = sep, quote = quote, :\n",
      "“incomplete final line found by readTableHeader on 'configurations/05_Feature_Analysis_Configs.csv'”\n"
     ]
    }
   ],
   "source": [
    "plot_configs =  read.csv('configurations/05_Feature_Analysis_Configs.csv', sep = ',')"
   ]
  },
  {
   "cell_type": "code",
   "execution_count": 805,
   "id": "499d88df-6bb7-4d0c-bd40-a412eb7da8ad",
   "metadata": {},
   "outputs": [
    {
     "data": {
      "text/html": [
       "<table class=\"dataframe\">\n",
       "<caption>A data.frame: 1 × 8</caption>\n",
       "<thead>\n",
       "\t<tr><th></th><th scope=col>configuration_name</th><th scope=col>mofa_result_name</th><th scope=col>factor</th><th scope=col>top_variable_thres</th><th scope=col>faceting_variable</th><th scope=col>type</th><th scope=col>plot_width</th><th scope=col>plot_height</th></tr>\n",
       "\t<tr><th></th><th scope=col>&lt;chr&gt;</th><th scope=col>&lt;chr&gt;</th><th scope=col>&lt;chr&gt;</th><th scope=col>&lt;dbl&gt;</th><th scope=col>&lt;chr&gt;</th><th scope=col>&lt;lgl&gt;</th><th scope=col>&lt;dbl&gt;</th><th scope=col>&lt;int&gt;</th></tr>\n",
       "</thead>\n",
       "<tbody>\n",
       "\t<tr><th scope=row>1</th><td>MI_v1</td><td>MI_v1_MOFA</td><td>Factor2</td><td>0.005</td><td>disease</td><td>NA</td><td>8.07</td><td>5</td></tr>\n",
       "</tbody>\n",
       "</table>\n"
      ],
      "text/latex": [
       "A data.frame: 1 × 8\n",
       "\\begin{tabular}{r|llllllll}\n",
       "  & configuration\\_name & mofa\\_result\\_name & factor & top\\_variable\\_thres & faceting\\_variable & type & plot\\_width & plot\\_height\\\\\n",
       "  & <chr> & <chr> & <chr> & <dbl> & <chr> & <lgl> & <dbl> & <int>\\\\\n",
       "\\hline\n",
       "\t1 & MI\\_v1 & MI\\_v1\\_MOFA & Factor2 & 0.005 & disease & NA & 8.07 & 5\\\\\n",
       "\\end{tabular}\n"
      ],
      "text/markdown": [
       "\n",
       "A data.frame: 1 × 8\n",
       "\n",
       "| <!--/--> | configuration_name &lt;chr&gt; | mofa_result_name &lt;chr&gt; | factor &lt;chr&gt; | top_variable_thres &lt;dbl&gt; | faceting_variable &lt;chr&gt; | type &lt;lgl&gt; | plot_width &lt;dbl&gt; | plot_height &lt;int&gt; |\n",
       "|---|---|---|---|---|---|---|---|---|\n",
       "| 1 | MI_v1 | MI_v1_MOFA | Factor2 | 0.005 | disease | NA | 8.07 | 5 |\n",
       "\n"
      ],
      "text/plain": [
       "  configuration_name mofa_result_name factor  top_variable_thres\n",
       "1 MI_v1              MI_v1_MOFA       Factor2 0.005             \n",
       "  faceting_variable type plot_width plot_height\n",
       "1 disease           NA   8.07       5          "
      ]
     },
     "metadata": {},
     "output_type": "display_data"
    }
   ],
   "source": [
    "head(plot_configs,2)"
   ]
  },
  {
   "cell_type": "code",
   "execution_count": 806,
   "id": "5641ac5f-dd93-450a-8277-333e45cadbc7",
   "metadata": {},
   "outputs": [],
   "source": [
    "## Assign the values from the configuration file to the corresponding variables"
   ]
  },
  {
   "cell_type": "code",
   "execution_count": 807,
   "id": "5a107de8-2e91-425c-ba4b-d4da7c8eeb17",
   "metadata": {},
   "outputs": [],
   "source": [
    "mofa_name = plot_configs$mofa_result_name\n",
    "data_name = plot_configs$configuration_name\n",
    "\n",
    "factor_var = plot_configs$factor\n",
    "top_variable_fraction = plot_configs$top_variable_thres\n",
    "variable = plot_configs$faceting_variable\n",
    "\n",
    "view_var = plot_configs$type"
   ]
  },
  {
   "cell_type": "code",
   "execution_count": 808,
   "id": "2d6f0bd0-0ce8-4402-b596-f0b98ba1b49a",
   "metadata": {},
   "outputs": [],
   "source": [
    "## Extract the specified plot size\n",
    "width_par = plot_configs$plot_width  # 8.07 default\n",
    "height_par = plot_configs$plot_height"
   ]
  },
  {
   "cell_type": "code",
   "execution_count": 809,
   "id": "5011d4f0-0826-48ba-a8e6-f13a9a7f58a0",
   "metadata": {},
   "outputs": [],
   "source": [
    "### Alternative: Set configurations manually "
   ]
  },
  {
   "cell_type": "markdown",
   "id": "43e2937f-4e6d-4e90-99f2-2f7c370f9639",
   "metadata": {
    "tags": []
   },
   "source": [
    "# Load Data "
   ]
  },
  {
   "cell_type": "markdown",
   "id": "3106ef73-2d6d-4cef-a254-566960bf20cb",
   "metadata": {},
   "source": [
    "## MOFA Input"
   ]
  },
  {
   "cell_type": "code",
   "execution_count": 810,
   "id": "497ae62c-02f6-4a34-9c6c-b448cda514d7",
   "metadata": {},
   "outputs": [],
   "source": [
    "### Load the normalized expression data that was used as input for the MOFA model"
   ]
  },
  {
   "cell_type": "code",
   "execution_count": 811,
   "id": "5bf43a41-7bcc-4c89-98d3-e839ce503aa7",
   "metadata": {},
   "outputs": [
    {
     "name": "stdout",
     "output_type": "stream",
     "text": [
      "[1] \"2024-05-10 22:27:00 CEST\"\n"
     ]
    }
   ],
   "source": [
    "path = paste0(result_path, '/02_results/02_Combined_Data_',data_name,'_INTEGRATED.csv')\n",
    "data_long = read.csv(path)\n",
    "data_long$X = NULL\n",
    "print(file.info(path)$mtime)"
   ]
  },
  {
   "cell_type": "code",
   "execution_count": 812,
   "id": "ff418436-5b9d-41df-9ea3-1b90504b7e31",
   "metadata": {},
   "outputs": [
    {
     "data": {
      "text/html": [
       "<table class=\"dataframe\">\n",
       "<caption>A data.frame: 2 × 5</caption>\n",
       "<thead>\n",
       "\t<tr><th></th><th scope=col>sample_id</th><th scope=col>variable</th><th scope=col>value</th><th scope=col>type</th><th scope=col>gene</th></tr>\n",
       "\t<tr><th></th><th scope=col>&lt;chr&gt;</th><th scope=col>&lt;chr&gt;</th><th scope=col>&lt;dbl&gt;</th><th scope=col>&lt;chr&gt;</th><th scope=col>&lt;chr&gt;</th></tr>\n",
       "</thead>\n",
       "<tbody>\n",
       "\t<tr><th scope=row>1</th><td>D1</td><td>adipocyte__ABI1</td><td>-1.1243382</td><td>adipocyte</td><td>ABI1</td></tr>\n",
       "\t<tr><th scope=row>2</th><td>D2</td><td>adipocyte__ABI1</td><td>-0.8572543</td><td>adipocyte</td><td>ABI1</td></tr>\n",
       "</tbody>\n",
       "</table>\n"
      ],
      "text/latex": [
       "A data.frame: 2 × 5\n",
       "\\begin{tabular}{r|lllll}\n",
       "  & sample\\_id & variable & value & type & gene\\\\\n",
       "  & <chr> & <chr> & <dbl> & <chr> & <chr>\\\\\n",
       "\\hline\n",
       "\t1 & D1 & adipocyte\\_\\_ABI1 & -1.1243382 & adipocyte & ABI1\\\\\n",
       "\t2 & D2 & adipocyte\\_\\_ABI1 & -0.8572543 & adipocyte & ABI1\\\\\n",
       "\\end{tabular}\n"
      ],
      "text/markdown": [
       "\n",
       "A data.frame: 2 × 5\n",
       "\n",
       "| <!--/--> | sample_id &lt;chr&gt; | variable &lt;chr&gt; | value &lt;dbl&gt; | type &lt;chr&gt; | gene &lt;chr&gt; |\n",
       "|---|---|---|---|---|---|\n",
       "| 1 | D1 | adipocyte__ABI1 | -1.1243382 | adipocyte | ABI1 |\n",
       "| 2 | D2 | adipocyte__ABI1 | -0.8572543 | adipocyte | ABI1 |\n",
       "\n"
      ],
      "text/plain": [
       "  sample_id variable        value      type      gene\n",
       "1 D1        adipocyte__ABI1 -1.1243382 adipocyte ABI1\n",
       "2 D2        adipocyte__ABI1 -0.8572543 adipocyte ABI1"
      ]
     },
     "metadata": {},
     "output_type": "display_data"
    }
   ],
   "source": [
    "head(data_long,2)"
   ]
  },
  {
   "cell_type": "markdown",
   "id": "d082fa98-ad4a-46ec-90e5-2da19dd6e84a",
   "metadata": {
    "tags": []
   },
   "source": [
    "## MOFA Model"
   ]
  },
  {
   "cell_type": "code",
   "execution_count": 813,
   "id": "b38385ac-3034-4783-907c-ec9342bb423e",
   "metadata": {},
   "outputs": [],
   "source": [
    "### Load the trained MOFA Model"
   ]
  },
  {
   "cell_type": "code",
   "execution_count": 814,
   "id": "87d129f6-ffc1-40da-9e33-ab3b856a2472",
   "metadata": {},
   "outputs": [],
   "source": [
    "model_name =  paste0(\"03_MOFA_MODEL_\", mofa_name,'.hdf5')"
   ]
  },
  {
   "cell_type": "code",
   "execution_count": 815,
   "id": "d5025df8-b455-44a0-8295-28603c93e985",
   "metadata": {},
   "outputs": [],
   "source": [
    "outfile = file.path( paste0(result_path, '/03_results/',  model_name) )"
   ]
  },
  {
   "cell_type": "code",
   "execution_count": 816,
   "id": "5d926cea-2a3f-4925-9fcc-781299e37dd0",
   "metadata": {},
   "outputs": [
    {
     "data": {
      "text/html": [
       "'/lustre/groups/epigenereg01/workspace/projects/jove/example_results//03_results/03_MOFA_MODEL_MI_v1_MOFA.hdf5'"
      ],
      "text/latex": [
       "'/lustre/groups/epigenereg01/workspace/projects/jove/example\\_results//03\\_results/03\\_MOFA\\_MODEL\\_MI\\_v1\\_MOFA.hdf5'"
      ],
      "text/markdown": [
       "'/lustre/groups/epigenereg01/workspace/projects/jove/example_results//03_results/03_MOFA_MODEL_MI_v1_MOFA.hdf5'"
      ],
      "text/plain": [
       "[1] \"/lustre/groups/epigenereg01/workspace/projects/jove/example_results//03_results/03_MOFA_MODEL_MI_v1_MOFA.hdf5\""
      ]
     },
     "metadata": {},
     "output_type": "display_data"
    }
   ],
   "source": [
    "outfile"
   ]
  },
  {
   "cell_type": "code",
   "execution_count": 817,
   "id": "7721ff8d-4407-4a34-ba20-0b05167141aa",
   "metadata": {
    "tags": []
   },
   "outputs": [
    {
     "name": "stderr",
     "output_type": "stream",
     "text": [
      "Loading data...\n",
      "\n",
      "Loading expectations for 2 nodes...\n",
      "\n",
      "Loading model options...\n",
      "\n",
      "Loading training options and statistics...\n",
      "\n",
      "Assigning names to the different dimensions...\n",
      "\n",
      "Re-ordering factors by their variance explained...\n",
      "\n",
      "Doing quality control...\n",
      "\n",
      "Checking views names...\n",
      "\n",
      "Checking groups names...\n",
      "\n",
      "Checking samples names...\n",
      "\n",
      "Checking features names...\n",
      "\n",
      "Checking dimensions...\n",
      "\n",
      "Checking there are no features with complete missing values...\n",
      "\n",
      "Checking sample covariates...\n",
      "\n",
      "Checking expectations...\n",
      "\n",
      "Checking for intercept factors...\n",
      "\n",
      "Warning message in .quality_control(object, verbose = verbose):\n",
      "“Factor(s) 2, 8 are strongly correlated with the total number of expressed features for at least one of your omics. Such factors appear when there are differences in the total 'levels' between your samples, *sometimes* because of poor normalisation in the preprocessing steps.\n",
      "”\n",
      "Checking for highly correlated factors...\n",
      "\n"
     ]
    }
   ],
   "source": [
    "model <- load_model(outfile, verbose = TRUE)"
   ]
  },
  {
   "cell_type": "code",
   "execution_count": 818,
   "id": "853447b5-1675-4adf-8eb5-357244a70bcd",
   "metadata": {},
   "outputs": [],
   "source": [
    "### Load the Factor Data of the Model"
   ]
  },
  {
   "cell_type": "code",
   "execution_count": 819,
   "id": "302aae34-1ed3-4703-adf1-8592f51f410c",
   "metadata": {},
   "outputs": [],
   "source": [
    "factors = read.csv(paste0(result_path, '/03_results/', '03_Factor_Data_', mofa_name, '.csv'))"
   ]
  },
  {
   "cell_type": "code",
   "execution_count": 820,
   "id": "3f8d1387-5b66-4185-88eb-89bc69928ca3",
   "metadata": {},
   "outputs": [
    {
     "data": {
      "text/html": [
       "<table class=\"dataframe\">\n",
       "<caption>A data.frame: 2 × 11</caption>\n",
       "<thead>\n",
       "\t<tr><th></th><th scope=col>Factor1</th><th scope=col>Factor2</th><th scope=col>Factor3</th><th scope=col>Factor4</th><th scope=col>Factor5</th><th scope=col>Factor6</th><th scope=col>Factor7</th><th scope=col>Factor8</th><th scope=col>Factor9</th><th scope=col>Factor10</th><th scope=col>sample_id</th></tr>\n",
       "\t<tr><th></th><th scope=col>&lt;dbl&gt;</th><th scope=col>&lt;dbl&gt;</th><th scope=col>&lt;dbl&gt;</th><th scope=col>&lt;dbl&gt;</th><th scope=col>&lt;dbl&gt;</th><th scope=col>&lt;dbl&gt;</th><th scope=col>&lt;dbl&gt;</th><th scope=col>&lt;dbl&gt;</th><th scope=col>&lt;dbl&gt;</th><th scope=col>&lt;dbl&gt;</th><th scope=col>&lt;chr&gt;</th></tr>\n",
       "</thead>\n",
       "<tbody>\n",
       "\t<tr><th scope=row>1</th><td>1.616970</td><td>1.922963</td><td>-0.04046481</td><td> 0.6957385</td><td>-0.4816992</td><td>-0.6951516</td><td> 0.6601078</td><td>-0.1757625</td><td>0.04568479</td><td>-0.2038762</td><td>D1</td></tr>\n",
       "\t<tr><th scope=row>2</th><td>1.749186</td><td>0.227296</td><td> 0.60221439</td><td>-0.1048832</td><td>-0.7551822</td><td>-1.5846769</td><td>-0.8970750</td><td>-0.1889143</td><td>0.22074658</td><td>-0.8048890</td><td>D2</td></tr>\n",
       "</tbody>\n",
       "</table>\n"
      ],
      "text/latex": [
       "A data.frame: 2 × 11\n",
       "\\begin{tabular}{r|lllllllllll}\n",
       "  & Factor1 & Factor2 & Factor3 & Factor4 & Factor5 & Factor6 & Factor7 & Factor8 & Factor9 & Factor10 & sample\\_id\\\\\n",
       "  & <dbl> & <dbl> & <dbl> & <dbl> & <dbl> & <dbl> & <dbl> & <dbl> & <dbl> & <dbl> & <chr>\\\\\n",
       "\\hline\n",
       "\t1 & 1.616970 & 1.922963 & -0.04046481 &  0.6957385 & -0.4816992 & -0.6951516 &  0.6601078 & -0.1757625 & 0.04568479 & -0.2038762 & D1\\\\\n",
       "\t2 & 1.749186 & 0.227296 &  0.60221439 & -0.1048832 & -0.7551822 & -1.5846769 & -0.8970750 & -0.1889143 & 0.22074658 & -0.8048890 & D2\\\\\n",
       "\\end{tabular}\n"
      ],
      "text/markdown": [
       "\n",
       "A data.frame: 2 × 11\n",
       "\n",
       "| <!--/--> | Factor1 &lt;dbl&gt; | Factor2 &lt;dbl&gt; | Factor3 &lt;dbl&gt; | Factor4 &lt;dbl&gt; | Factor5 &lt;dbl&gt; | Factor6 &lt;dbl&gt; | Factor7 &lt;dbl&gt; | Factor8 &lt;dbl&gt; | Factor9 &lt;dbl&gt; | Factor10 &lt;dbl&gt; | sample_id &lt;chr&gt; |\n",
       "|---|---|---|---|---|---|---|---|---|---|---|---|\n",
       "| 1 | 1.616970 | 1.922963 | -0.04046481 |  0.6957385 | -0.4816992 | -0.6951516 |  0.6601078 | -0.1757625 | 0.04568479 | -0.2038762 | D1 |\n",
       "| 2 | 1.749186 | 0.227296 |  0.60221439 | -0.1048832 | -0.7551822 | -1.5846769 | -0.8970750 | -0.1889143 | 0.22074658 | -0.8048890 | D2 |\n",
       "\n"
      ],
      "text/plain": [
       "  Factor1  Factor2  Factor3     Factor4    Factor5    Factor6    Factor7   \n",
       "1 1.616970 1.922963 -0.04046481  0.6957385 -0.4816992 -0.6951516  0.6601078\n",
       "2 1.749186 0.227296  0.60221439 -0.1048832 -0.7551822 -1.5846769 -0.8970750\n",
       "  Factor8    Factor9    Factor10   sample_id\n",
       "1 -0.1757625 0.04568479 -0.2038762 D1       \n",
       "2 -0.1889143 0.22074658 -0.8048890 D2       "
      ]
     },
     "metadata": {},
     "output_type": "display_data"
    }
   ],
   "source": [
    "head(factors,2)"
   ]
  },
  {
   "cell_type": "code",
   "execution_count": 821,
   "id": "a209d2e2-5900-4b1d-8171-dd30ddb6f9d3",
   "metadata": {},
   "outputs": [],
   "source": [
    "### Load the Weight Data of the Model"
   ]
  },
  {
   "cell_type": "code",
   "execution_count": 822,
   "id": "87c2797a-05a9-4fd7-95c5-c83cdd94b09b",
   "metadata": {},
   "outputs": [],
   "source": [
    "weight_data = read.csv(paste0(result_path, '/03_results/', '03_Weight_Data_', mofa_name, '.csv'))"
   ]
  },
  {
   "cell_type": "markdown",
   "id": "d76baf68-703a-40b2-8c70-bd80a5fdae6f",
   "metadata": {
    "tags": []
   },
   "source": [
    "## Sample Meta Data"
   ]
  },
  {
   "cell_type": "code",
   "execution_count": 823,
   "id": "48d3449a-6905-493e-ba61-6c442c5b910a",
   "metadata": {},
   "outputs": [],
   "source": [
    "## Load the sample meta-data that contains covariates that can be used to group the plot"
   ]
  },
  {
   "cell_type": "code",
   "execution_count": 824,
   "id": "efee04bb-6a8f-420e-a9ac-9cefb951d95b",
   "metadata": {},
   "outputs": [],
   "source": [
    "sample_data = read.csv(paste0(data_path, 'Prepared_Sample_Meta_Data', '.csv'))\n",
    "sample_data$X = NULL"
   ]
  },
  {
   "cell_type": "code",
   "execution_count": 825,
   "id": "9b2f011e-cfc2-4fde-9816-c6aefb52d399",
   "metadata": {},
   "outputs": [
    {
     "data": {
      "text/html": [
       "<table class=\"dataframe\">\n",
       "<caption>A data.frame: 2 × 7</caption>\n",
       "<thead>\n",
       "\t<tr><th></th><th scope=col>donor_id</th><th scope=col>disease</th><th scope=col>sex</th><th scope=col>development_stage</th><th scope=col>self_reported_ethnicity</th><th scope=col>Primary.Genetic.Diagnosis</th><th scope=col>sample_id</th></tr>\n",
       "\t<tr><th></th><th scope=col>&lt;chr&gt;</th><th scope=col>&lt;chr&gt;</th><th scope=col>&lt;chr&gt;</th><th scope=col>&lt;chr&gt;</th><th scope=col>&lt;chr&gt;</th><th scope=col>&lt;chr&gt;</th><th scope=col>&lt;chr&gt;</th></tr>\n",
       "</thead>\n",
       "<tbody>\n",
       "\t<tr><th scope=row>1</th><td>DP2</td><td>dilated cardiomyopathy</td><td>female</td><td>fifth decade human stage</td><td>European</td><td>PLN    </td><td>DP2</td></tr>\n",
       "\t<tr><th scope=row>2</th><td>H3 </td><td>normal                </td><td>male  </td><td>sixth decade human stage</td><td>Asian   </td><td>control</td><td>H3 </td></tr>\n",
       "</tbody>\n",
       "</table>\n"
      ],
      "text/latex": [
       "A data.frame: 2 × 7\n",
       "\\begin{tabular}{r|lllllll}\n",
       "  & donor\\_id & disease & sex & development\\_stage & self\\_reported\\_ethnicity & Primary.Genetic.Diagnosis & sample\\_id\\\\\n",
       "  & <chr> & <chr> & <chr> & <chr> & <chr> & <chr> & <chr>\\\\\n",
       "\\hline\n",
       "\t1 & DP2 & dilated cardiomyopathy & female & fifth decade human stage & European & PLN     & DP2\\\\\n",
       "\t2 & H3  & normal                 & male   & sixth decade human stage & Asian    & control & H3 \\\\\n",
       "\\end{tabular}\n"
      ],
      "text/markdown": [
       "\n",
       "A data.frame: 2 × 7\n",
       "\n",
       "| <!--/--> | donor_id &lt;chr&gt; | disease &lt;chr&gt; | sex &lt;chr&gt; | development_stage &lt;chr&gt; | self_reported_ethnicity &lt;chr&gt; | Primary.Genetic.Diagnosis &lt;chr&gt; | sample_id &lt;chr&gt; |\n",
       "|---|---|---|---|---|---|---|---|\n",
       "| 1 | DP2 | dilated cardiomyopathy | female | fifth decade human stage | European | PLN     | DP2 |\n",
       "| 2 | H3  | normal                 | male   | sixth decade human stage | Asian    | control | H3  |\n",
       "\n"
      ],
      "text/plain": [
       "  donor_id disease                sex    development_stage       \n",
       "1 DP2      dilated cardiomyopathy female fifth decade human stage\n",
       "2 H3       normal                 male   sixth decade human stage\n",
       "  self_reported_ethnicity Primary.Genetic.Diagnosis sample_id\n",
       "1 European                PLN                       DP2      \n",
       "2 Asian                   control                   H3       "
      ]
     },
     "metadata": {},
     "output_type": "display_data"
    }
   ],
   "source": [
    "head(sample_data,2)"
   ]
  },
  {
   "cell_type": "markdown",
   "id": "1385d8a3-c030-45e4-92d6-7e71e9450bb6",
   "metadata": {
    "tags": []
   },
   "source": [
    "# Downstream Analysis of generated model"
   ]
  },
  {
   "cell_type": "markdown",
   "id": "52ab1ab6-98fc-4b63-9971-67c781b98e11",
   "metadata": {
    "tags": []
   },
   "source": [
    "## Extract and prepare data for plots"
   ]
  },
  {
   "cell_type": "markdown",
   "id": "63bb29c6-9f50-46a8-bcf2-ef8781fb8bac",
   "metadata": {
    "tags": []
   },
   "source": [
    "### Merge factors and sample data"
   ]
  },
  {
   "cell_type": "code",
   "execution_count": 826,
   "id": "09c08884-2568-4caf-80e1-fa19bfc518f6",
   "metadata": {},
   "outputs": [],
   "source": [
    "### Combine the factor and the sample data"
   ]
  },
  {
   "cell_type": "code",
   "execution_count": 827,
   "id": "e2ca7f5a-6ed7-4424-9b9c-21b998dd9a2f",
   "metadata": {},
   "outputs": [
    {
     "data": {
      "text/html": [
       "<table class=\"dataframe\">\n",
       "<caption>A data.frame: 2 × 11</caption>\n",
       "<thead>\n",
       "\t<tr><th></th><th scope=col>Factor1</th><th scope=col>Factor2</th><th scope=col>Factor3</th><th scope=col>Factor4</th><th scope=col>Factor5</th><th scope=col>Factor6</th><th scope=col>Factor7</th><th scope=col>Factor8</th><th scope=col>Factor9</th><th scope=col>Factor10</th><th scope=col>sample_id</th></tr>\n",
       "\t<tr><th></th><th scope=col>&lt;dbl&gt;</th><th scope=col>&lt;dbl&gt;</th><th scope=col>&lt;dbl&gt;</th><th scope=col>&lt;dbl&gt;</th><th scope=col>&lt;dbl&gt;</th><th scope=col>&lt;dbl&gt;</th><th scope=col>&lt;dbl&gt;</th><th scope=col>&lt;dbl&gt;</th><th scope=col>&lt;dbl&gt;</th><th scope=col>&lt;dbl&gt;</th><th scope=col>&lt;chr&gt;</th></tr>\n",
       "</thead>\n",
       "<tbody>\n",
       "\t<tr><th scope=row>1</th><td>1.616970</td><td>1.922963</td><td>-0.04046481</td><td> 0.6957385</td><td>-0.4816992</td><td>-0.6951516</td><td> 0.6601078</td><td>-0.1757625</td><td>0.04568479</td><td>-0.2038762</td><td>D1</td></tr>\n",
       "\t<tr><th scope=row>2</th><td>1.749186</td><td>0.227296</td><td> 0.60221439</td><td>-0.1048832</td><td>-0.7551822</td><td>-1.5846769</td><td>-0.8970750</td><td>-0.1889143</td><td>0.22074658</td><td>-0.8048890</td><td>D2</td></tr>\n",
       "</tbody>\n",
       "</table>\n"
      ],
      "text/latex": [
       "A data.frame: 2 × 11\n",
       "\\begin{tabular}{r|lllllllllll}\n",
       "  & Factor1 & Factor2 & Factor3 & Factor4 & Factor5 & Factor6 & Factor7 & Factor8 & Factor9 & Factor10 & sample\\_id\\\\\n",
       "  & <dbl> & <dbl> & <dbl> & <dbl> & <dbl> & <dbl> & <dbl> & <dbl> & <dbl> & <dbl> & <chr>\\\\\n",
       "\\hline\n",
       "\t1 & 1.616970 & 1.922963 & -0.04046481 &  0.6957385 & -0.4816992 & -0.6951516 &  0.6601078 & -0.1757625 & 0.04568479 & -0.2038762 & D1\\\\\n",
       "\t2 & 1.749186 & 0.227296 &  0.60221439 & -0.1048832 & -0.7551822 & -1.5846769 & -0.8970750 & -0.1889143 & 0.22074658 & -0.8048890 & D2\\\\\n",
       "\\end{tabular}\n"
      ],
      "text/markdown": [
       "\n",
       "A data.frame: 2 × 11\n",
       "\n",
       "| <!--/--> | Factor1 &lt;dbl&gt; | Factor2 &lt;dbl&gt; | Factor3 &lt;dbl&gt; | Factor4 &lt;dbl&gt; | Factor5 &lt;dbl&gt; | Factor6 &lt;dbl&gt; | Factor7 &lt;dbl&gt; | Factor8 &lt;dbl&gt; | Factor9 &lt;dbl&gt; | Factor10 &lt;dbl&gt; | sample_id &lt;chr&gt; |\n",
       "|---|---|---|---|---|---|---|---|---|---|---|---|\n",
       "| 1 | 1.616970 | 1.922963 | -0.04046481 |  0.6957385 | -0.4816992 | -0.6951516 |  0.6601078 | -0.1757625 | 0.04568479 | -0.2038762 | D1 |\n",
       "| 2 | 1.749186 | 0.227296 |  0.60221439 | -0.1048832 | -0.7551822 | -1.5846769 | -0.8970750 | -0.1889143 | 0.22074658 | -0.8048890 | D2 |\n",
       "\n"
      ],
      "text/plain": [
       "  Factor1  Factor2  Factor3     Factor4    Factor5    Factor6    Factor7   \n",
       "1 1.616970 1.922963 -0.04046481  0.6957385 -0.4816992 -0.6951516  0.6601078\n",
       "2 1.749186 0.227296  0.60221439 -0.1048832 -0.7551822 -1.5846769 -0.8970750\n",
       "  Factor8    Factor9    Factor10   sample_id\n",
       "1 -0.1757625 0.04568479 -0.2038762 D1       \n",
       "2 -0.1889143 0.22074658 -0.8048890 D2       "
      ]
     },
     "metadata": {},
     "output_type": "display_data"
    }
   ],
   "source": [
    "head(factors,2)"
   ]
  },
  {
   "cell_type": "code",
   "execution_count": 828,
   "id": "905654d0-320b-4781-8e91-17be992aa34d",
   "metadata": {},
   "outputs": [],
   "source": [
    "factors_long = melt(factors, id.vars = 'sample_id')"
   ]
  },
  {
   "cell_type": "code",
   "execution_count": 829,
   "id": "a63fb9e0-55df-4dda-83ea-cf45923dca35",
   "metadata": {},
   "outputs": [
    {
     "data": {
      "text/html": [
       "<table class=\"dataframe\">\n",
       "<caption>A data.frame: 2 × 3</caption>\n",
       "<thead>\n",
       "\t<tr><th></th><th scope=col>sample_id</th><th scope=col>variable</th><th scope=col>value</th></tr>\n",
       "\t<tr><th></th><th scope=col>&lt;chr&gt;</th><th scope=col>&lt;fct&gt;</th><th scope=col>&lt;dbl&gt;</th></tr>\n",
       "</thead>\n",
       "<tbody>\n",
       "\t<tr><th scope=row>1</th><td>D1</td><td>Factor1</td><td>1.616970</td></tr>\n",
       "\t<tr><th scope=row>2</th><td>D2</td><td>Factor1</td><td>1.749186</td></tr>\n",
       "</tbody>\n",
       "</table>\n"
      ],
      "text/latex": [
       "A data.frame: 2 × 3\n",
       "\\begin{tabular}{r|lll}\n",
       "  & sample\\_id & variable & value\\\\\n",
       "  & <chr> & <fct> & <dbl>\\\\\n",
       "\\hline\n",
       "\t1 & D1 & Factor1 & 1.616970\\\\\n",
       "\t2 & D2 & Factor1 & 1.749186\\\\\n",
       "\\end{tabular}\n"
      ],
      "text/markdown": [
       "\n",
       "A data.frame: 2 × 3\n",
       "\n",
       "| <!--/--> | sample_id &lt;chr&gt; | variable &lt;fct&gt; | value &lt;dbl&gt; |\n",
       "|---|---|---|---|\n",
       "| 1 | D1 | Factor1 | 1.616970 |\n",
       "| 2 | D2 | Factor1 | 1.749186 |\n",
       "\n"
      ],
      "text/plain": [
       "  sample_id variable value   \n",
       "1 D1        Factor1  1.616970\n",
       "2 D2        Factor1  1.749186"
      ]
     },
     "metadata": {},
     "output_type": "display_data"
    }
   ],
   "source": [
    "head(factors_long,2)"
   ]
  },
  {
   "cell_type": "code",
   "execution_count": 830,
   "id": "765f6506-47e8-4f50-b22d-d3bd4d1c7e33",
   "metadata": {
    "tags": []
   },
   "outputs": [],
   "source": [
    "merged_data_long = merge(factors_long, sample_data, by.x = 'sample_id', by.y = 'sample_id')"
   ]
  },
  {
   "cell_type": "code",
   "execution_count": 831,
   "id": "70df6e35-5e21-4565-9a5b-e39f3e82c43a",
   "metadata": {},
   "outputs": [
    {
     "data": {
      "text/html": [
       "<table class=\"dataframe\">\n",
       "<caption>A data.frame: 2 × 9</caption>\n",
       "<thead>\n",
       "\t<tr><th></th><th scope=col>sample_id</th><th scope=col>variable</th><th scope=col>value</th><th scope=col>donor_id</th><th scope=col>disease</th><th scope=col>sex</th><th scope=col>development_stage</th><th scope=col>self_reported_ethnicity</th><th scope=col>Primary.Genetic.Diagnosis</th></tr>\n",
       "\t<tr><th></th><th scope=col>&lt;chr&gt;</th><th scope=col>&lt;fct&gt;</th><th scope=col>&lt;dbl&gt;</th><th scope=col>&lt;chr&gt;</th><th scope=col>&lt;chr&gt;</th><th scope=col>&lt;chr&gt;</th><th scope=col>&lt;chr&gt;</th><th scope=col>&lt;chr&gt;</th><th scope=col>&lt;chr&gt;</th></tr>\n",
       "</thead>\n",
       "<tbody>\n",
       "\t<tr><th scope=row>1</th><td>D1</td><td>Factor1</td><td>1.616970</td><td>D1</td><td>normal</td><td>female</td><td>sixth decade human stage</td><td>European</td><td>control</td></tr>\n",
       "\t<tr><th scope=row>2</th><td>D1</td><td>Factor2</td><td>1.922963</td><td>D1</td><td>normal</td><td>female</td><td>sixth decade human stage</td><td>European</td><td>control</td></tr>\n",
       "</tbody>\n",
       "</table>\n"
      ],
      "text/latex": [
       "A data.frame: 2 × 9\n",
       "\\begin{tabular}{r|lllllllll}\n",
       "  & sample\\_id & variable & value & donor\\_id & disease & sex & development\\_stage & self\\_reported\\_ethnicity & Primary.Genetic.Diagnosis\\\\\n",
       "  & <chr> & <fct> & <dbl> & <chr> & <chr> & <chr> & <chr> & <chr> & <chr>\\\\\n",
       "\\hline\n",
       "\t1 & D1 & Factor1 & 1.616970 & D1 & normal & female & sixth decade human stage & European & control\\\\\n",
       "\t2 & D1 & Factor2 & 1.922963 & D1 & normal & female & sixth decade human stage & European & control\\\\\n",
       "\\end{tabular}\n"
      ],
      "text/markdown": [
       "\n",
       "A data.frame: 2 × 9\n",
       "\n",
       "| <!--/--> | sample_id &lt;chr&gt; | variable &lt;fct&gt; | value &lt;dbl&gt; | donor_id &lt;chr&gt; | disease &lt;chr&gt; | sex &lt;chr&gt; | development_stage &lt;chr&gt; | self_reported_ethnicity &lt;chr&gt; | Primary.Genetic.Diagnosis &lt;chr&gt; |\n",
       "|---|---|---|---|---|---|---|---|---|---|\n",
       "| 1 | D1 | Factor1 | 1.616970 | D1 | normal | female | sixth decade human stage | European | control |\n",
       "| 2 | D1 | Factor2 | 1.922963 | D1 | normal | female | sixth decade human stage | European | control |\n",
       "\n"
      ],
      "text/plain": [
       "  sample_id variable value    donor_id disease sex    development_stage       \n",
       "1 D1        Factor1  1.616970 D1       normal  female sixth decade human stage\n",
       "2 D1        Factor2  1.922963 D1       normal  female sixth decade human stage\n",
       "  self_reported_ethnicity Primary.Genetic.Diagnosis\n",
       "1 European                control                  \n",
       "2 European                control                  "
      ]
     },
     "metadata": {},
     "output_type": "display_data"
    }
   ],
   "source": [
    "head(merged_data_long,2)"
   ]
  },
  {
   "cell_type": "markdown",
   "id": "c92d389d-a9c5-4899-8c11-7705d59c0bf5",
   "metadata": {
    "tags": []
   },
   "source": [
    "### Prepare weight data"
   ]
  },
  {
   "cell_type": "code",
   "execution_count": 832,
   "id": "3fa62faa-97a0-4f20-8a7a-5bf74cad7271",
   "metadata": {},
   "outputs": [],
   "source": [
    "### Adjust the format of the feature factor weight data to long"
   ]
  },
  {
   "cell_type": "code",
   "execution_count": 833,
   "id": "c087020c-e6f1-46a5-83b4-1cc65e9c5031",
   "metadata": {},
   "outputs": [],
   "source": [
    "feature_weights_long = melt(weight_data, id.vars = c('variable_name', 'type'))"
   ]
  },
  {
   "cell_type": "code",
   "execution_count": 834,
   "id": "59087670-0a51-42d2-a0fe-fa365810130d",
   "metadata": {},
   "outputs": [],
   "source": [
    "feature_weights_long$view = feature_weights_long$type\n",
    "feature_weights_long$gene = str_replace(feature_weights_long$variable_name, '.*__', '')"
   ]
  },
  {
   "cell_type": "code",
   "execution_count": 835,
   "id": "9861d511-d1f3-49de-873d-f73c7944598b",
   "metadata": {},
   "outputs": [
    {
     "data": {
      "text/html": [
       "<table class=\"dataframe\">\n",
       "<caption>A data.frame: 2 × 6</caption>\n",
       "<thead>\n",
       "\t<tr><th></th><th scope=col>variable_name</th><th scope=col>type</th><th scope=col>variable</th><th scope=col>value</th><th scope=col>view</th><th scope=col>gene</th></tr>\n",
       "\t<tr><th></th><th scope=col>&lt;chr&gt;</th><th scope=col>&lt;chr&gt;</th><th scope=col>&lt;fct&gt;</th><th scope=col>&lt;dbl&gt;</th><th scope=col>&lt;chr&gt;</th><th scope=col>&lt;chr&gt;</th></tr>\n",
       "</thead>\n",
       "<tbody>\n",
       "\t<tr><th scope=row>1</th><td>adipocyte__ABI1</td><td>adipocyte</td><td>Factor1</td><td>-0.16729734</td><td>adipocyte</td><td>ABI1</td></tr>\n",
       "\t<tr><th scope=row>2</th><td>adipocyte__ABI2</td><td>adipocyte</td><td>Factor1</td><td> 0.04293374</td><td>adipocyte</td><td>ABI2</td></tr>\n",
       "</tbody>\n",
       "</table>\n"
      ],
      "text/latex": [
       "A data.frame: 2 × 6\n",
       "\\begin{tabular}{r|llllll}\n",
       "  & variable\\_name & type & variable & value & view & gene\\\\\n",
       "  & <chr> & <chr> & <fct> & <dbl> & <chr> & <chr>\\\\\n",
       "\\hline\n",
       "\t1 & adipocyte\\_\\_ABI1 & adipocyte & Factor1 & -0.16729734 & adipocyte & ABI1\\\\\n",
       "\t2 & adipocyte\\_\\_ABI2 & adipocyte & Factor1 &  0.04293374 & adipocyte & ABI2\\\\\n",
       "\\end{tabular}\n"
      ],
      "text/markdown": [
       "\n",
       "A data.frame: 2 × 6\n",
       "\n",
       "| <!--/--> | variable_name &lt;chr&gt; | type &lt;chr&gt; | variable &lt;fct&gt; | value &lt;dbl&gt; | view &lt;chr&gt; | gene &lt;chr&gt; |\n",
       "|---|---|---|---|---|---|---|\n",
       "| 1 | adipocyte__ABI1 | adipocyte | Factor1 | -0.16729734 | adipocyte | ABI1 |\n",
       "| 2 | adipocyte__ABI2 | adipocyte | Factor1 |  0.04293374 | adipocyte | ABI2 |\n",
       "\n"
      ],
      "text/plain": [
       "  variable_name   type      variable value       view      gene\n",
       "1 adipocyte__ABI1 adipocyte Factor1  -0.16729734 adipocyte ABI1\n",
       "2 adipocyte__ABI2 adipocyte Factor1   0.04293374 adipocyte ABI2"
      ]
     },
     "metadata": {},
     "output_type": "display_data"
    }
   ],
   "source": [
    "head(feature_weights_long,2)"
   ]
  },
  {
   "cell_type": "markdown",
   "id": "a0f84b0a-6820-4eaa-9e49-8cd196e5da75",
   "metadata": {
    "tags": []
   },
   "source": [
    "### Get top features per factor and for specified threshold"
   ]
  },
  {
   "cell_type": "code",
   "execution_count": 836,
   "id": "20647b8c-0923-426c-a797-006223e0e804",
   "metadata": {},
   "outputs": [],
   "source": [
    "## Get the x% of top features per factor based on the specified threshold (x) in the configuration file"
   ]
  },
  {
   "cell_type": "code",
   "execution_count": 837,
   "id": "e1b3fa4b-af4d-4ba6-b791-d321993202fe",
   "metadata": {},
   "outputs": [],
   "source": [
    "dimensions = unique(feature_weights_long[,c('view', 'variable')])"
   ]
  },
  {
   "cell_type": "code",
   "execution_count": 838,
   "id": "c7707b26-0cd3-4516-a623-f1a7c79b9b9f",
   "metadata": {},
   "outputs": [],
   "source": [
    "\n",
    "## Define amont of top genes per fraction \n",
    "geneset_oi_pos_per_factor_analyze = feature_weights_long %>% group_by(variable) %>% dplyr::arrange( desc(value),  .by_group = TRUE)  %>% top_frac( as.numeric(top_variable_fraction), value)\n",
    "geneset_oi_pos_per_factor_analyze$direction = 'positive'\n",
    "\n",
    "geneset_oi_neg_per_factor_analyze = feature_weights_long %>% group_by(variable) %>% dplyr::arrange(desc(value),  .by_group = TRUE)  %>% top_frac( -as.numeric(top_variable_fraction), value)\n",
    "geneset_oi_neg_per_factor_analyze$direction = 'negative'\n",
    "\n",
    "geneset_oi_analyze = rbind(geneset_oi_pos_per_factor_analyze, geneset_oi_neg_per_factor_analyze)\n",
    "geneset_oi_analyze$fraction = as.numeric(top_variable_fraction)\n",
    "\n",
    "geneset_oi_per_fraction = geneset_oi_analyze\n",
    "\n",
    "\n",
    "## Calculate amount of top variables for the selected fraction\n",
    "amount_geneset_oi_type = geneset_oi_analyze %>% group_by(type, view, variable) %>% dplyr::count()\n",
    "amount_geneset_oi_type = merge(dimensions, amount_geneset_oi_type, all.x = TRUE)\n",
    "amount_geneset_oi_type$fraction = as.numeric(top_variable_fraction)\n",
    "\n",
    "\n",
    "geneset_oi_amounts =amount_geneset_oi_type\n"
   ]
  },
  {
   "cell_type": "code",
   "execution_count": 839,
   "id": "0661d926-917e-4cd1-919f-a7b665136ca4",
   "metadata": {},
   "outputs": [],
   "source": [
    "## Calculate total amount of features per type\n",
    "features_per_type = feature_weights_long %>% group_by(type, view, variable) %>% dplyr::count()\n",
    "colnames(features_per_type) = c('type', 'view', 'variable', 'amount_features')"
   ]
  },
  {
   "cell_type": "code",
   "execution_count": 840,
   "id": "da96cc9b-5d2c-4b71-be7e-02d45fb67f22",
   "metadata": {},
   "outputs": [],
   "source": [
    "## Merge top feature amounts and total amounts \n",
    "geneset_oi_amounts = merge(  geneset_oi_amounts,features_per_type, all.x = TRUE)\n",
    "\n",
    "##  Calculate percentages\n",
    "geneset_oi_amounts$percentage = geneset_oi_amounts$n / geneset_oi_amounts$amount_features"
   ]
  },
  {
   "cell_type": "code",
   "execution_count": 841,
   "id": "1af8f7b8-d3c8-4004-b778-2d4d0397d692",
   "metadata": {},
   "outputs": [],
   "source": [
    "# Set NA when there are no features for this dimension among top %\n",
    "geneset_oi_amounts[is.na(geneset_oi_amounts)] = 0 "
   ]
  },
  {
   "cell_type": "markdown",
   "id": "fd886024-83c4-4ef4-8c28-1e343ed2396a",
   "metadata": {
    "tags": []
   },
   "source": [
    "### Prepare heatmap data (based on transformed expression values)"
   ]
  },
  {
   "cell_type": "code",
   "execution_count": 842,
   "id": "ceb97a8b-4ccd-46f7-886b-cc5e4e662cb9",
   "metadata": {},
   "outputs": [],
   "source": [
    "### Subset data on the selected factor (in the configuration)"
   ]
  },
  {
   "cell_type": "code",
   "execution_count": 843,
   "id": "dc36497e-054b-4fa9-bec3-78c0cc0f8d3c",
   "metadata": {},
   "outputs": [],
   "source": [
    "analysis_data_subset = geneset_oi_per_fraction[geneset_oi_per_fraction$variable %in%  factor_var,]"
   ]
  },
  {
   "cell_type": "code",
   "execution_count": 844,
   "id": "3d2bbea7-9f8c-4236-aca8-12536c9edf74",
   "metadata": {},
   "outputs": [],
   "source": [
    "### Add direction of effect"
   ]
  },
  {
   "cell_type": "code",
   "execution_count": 845,
   "id": "de6f742f-7ac2-4b17-a579-678add9b7454",
   "metadata": {},
   "outputs": [],
   "source": [
    "analysis_data_subset$direction_sign = analysis_data_subset$direction\n",
    "analysis_data_subset$direction_sign[analysis_data_subset$direction == 'positive'] = '+'\n",
    "analysis_data_subset$direction_sign[analysis_data_subset$direction == 'negative'] = '-'"
   ]
  },
  {
   "cell_type": "code",
   "execution_count": 846,
   "id": "5badf9cc-b126-4d9e-bd82-9c5c0a8a4222",
   "metadata": {},
   "outputs": [
    {
     "data": {
      "text/html": [
       "<table class=\"dataframe\">\n",
       "<caption>A grouped_df: 2 × 9</caption>\n",
       "<thead>\n",
       "\t<tr><th scope=col>variable_name</th><th scope=col>type</th><th scope=col>variable</th><th scope=col>value</th><th scope=col>view</th><th scope=col>gene</th><th scope=col>direction</th><th scope=col>fraction</th><th scope=col>direction_sign</th></tr>\n",
       "\t<tr><th scope=col>&lt;chr&gt;</th><th scope=col>&lt;chr&gt;</th><th scope=col>&lt;fct&gt;</th><th scope=col>&lt;dbl&gt;</th><th scope=col>&lt;chr&gt;</th><th scope=col>&lt;chr&gt;</th><th scope=col>&lt;chr&gt;</th><th scope=col>&lt;dbl&gt;</th><th scope=col>&lt;chr&gt;</th></tr>\n",
       "</thead>\n",
       "<tbody>\n",
       "\t<tr><td>fibroblast.of.cardiac.tissue__NFKBIA</td><td>fibroblast.of.cardiac.tissue</td><td>Factor2</td><td>0.7821156</td><td>fibroblast.of.cardiac.tissue</td><td>NFKBIA</td><td>positive</td><td>0.005</td><td>+</td></tr>\n",
       "\t<tr><td>endothelial.cell__NFKBIA            </td><td>endothelial.cell            </td><td>Factor2</td><td>0.7455053</td><td>endothelial.cell            </td><td>NFKBIA</td><td>positive</td><td>0.005</td><td>+</td></tr>\n",
       "</tbody>\n",
       "</table>\n"
      ],
      "text/latex": [
       "A grouped\\_df: 2 × 9\n",
       "\\begin{tabular}{lllllllll}\n",
       " variable\\_name & type & variable & value & view & gene & direction & fraction & direction\\_sign\\\\\n",
       " <chr> & <chr> & <fct> & <dbl> & <chr> & <chr> & <chr> & <dbl> & <chr>\\\\\n",
       "\\hline\n",
       "\t fibroblast.of.cardiac.tissue\\_\\_NFKBIA & fibroblast.of.cardiac.tissue & Factor2 & 0.7821156 & fibroblast.of.cardiac.tissue & NFKBIA & positive & 0.005 & +\\\\\n",
       "\t endothelial.cell\\_\\_NFKBIA             & endothelial.cell             & Factor2 & 0.7455053 & endothelial.cell             & NFKBIA & positive & 0.005 & +\\\\\n",
       "\\end{tabular}\n"
      ],
      "text/markdown": [
       "\n",
       "A grouped_df: 2 × 9\n",
       "\n",
       "| variable_name &lt;chr&gt; | type &lt;chr&gt; | variable &lt;fct&gt; | value &lt;dbl&gt; | view &lt;chr&gt; | gene &lt;chr&gt; | direction &lt;chr&gt; | fraction &lt;dbl&gt; | direction_sign &lt;chr&gt; |\n",
       "|---|---|---|---|---|---|---|---|---|\n",
       "| fibroblast.of.cardiac.tissue__NFKBIA | fibroblast.of.cardiac.tissue | Factor2 | 0.7821156 | fibroblast.of.cardiac.tissue | NFKBIA | positive | 0.005 | + |\n",
       "| endothelial.cell__NFKBIA             | endothelial.cell             | Factor2 | 0.7455053 | endothelial.cell             | NFKBIA | positive | 0.005 | + |\n",
       "\n"
      ],
      "text/plain": [
       "  variable_name                        type                         variable\n",
       "1 fibroblast.of.cardiac.tissue__NFKBIA fibroblast.of.cardiac.tissue Factor2 \n",
       "2 endothelial.cell__NFKBIA             endothelial.cell             Factor2 \n",
       "  value     view                         gene   direction fraction\n",
       "1 0.7821156 fibroblast.of.cardiac.tissue NFKBIA positive  0.005   \n",
       "2 0.7455053 endothelial.cell             NFKBIA positive  0.005   \n",
       "  direction_sign\n",
       "1 +             \n",
       "2 +             "
      ]
     },
     "metadata": {},
     "output_type": "display_data"
    }
   ],
   "source": [
    "head(analysis_data_subset,2)"
   ]
  },
  {
   "cell_type": "code",
   "execution_count": 847,
   "id": "8834c912-7dfd-43ac-8f62-38c3675292c4",
   "metadata": {},
   "outputs": [],
   "source": [
    "### Add cell-type/ type column"
   ]
  },
  {
   "cell_type": "code",
   "execution_count": 848,
   "id": "a9e1231c-59f6-4626-9524-a50f69388e3b",
   "metadata": {},
   "outputs": [],
   "source": [
    "analysis_data_subset$cell_type = analysis_data_subset$type"
   ]
  },
  {
   "cell_type": "code",
   "execution_count": 849,
   "id": "372d1e39-e066-4404-a2a6-a5a2cbf90ac1",
   "metadata": {},
   "outputs": [],
   "source": [
    "### Concat direction + view for faceting on y -axis"
   ]
  },
  {
   "cell_type": "code",
   "execution_count": 850,
   "id": "e3065d04-b275-4fc0-a018-2677404ade48",
   "metadata": {},
   "outputs": [],
   "source": [
    "analysis_data_subset$facet =  paste0(analysis_data_subset$direction_sign, analysis_data_subset$view)"
   ]
  },
  {
   "cell_type": "code",
   "execution_count": 851,
   "id": "bd67880a-f279-4827-a0ac-acf14e18d7c5",
   "metadata": {},
   "outputs": [
    {
     "data": {
      "text/html": [
       "<table class=\"dataframe\">\n",
       "<caption>A grouped_df: 2 × 11</caption>\n",
       "<thead>\n",
       "\t<tr><th scope=col>variable_name</th><th scope=col>type</th><th scope=col>variable</th><th scope=col>value</th><th scope=col>view</th><th scope=col>gene</th><th scope=col>direction</th><th scope=col>fraction</th><th scope=col>direction_sign</th><th scope=col>cell_type</th><th scope=col>facet</th></tr>\n",
       "\t<tr><th scope=col>&lt;chr&gt;</th><th scope=col>&lt;chr&gt;</th><th scope=col>&lt;fct&gt;</th><th scope=col>&lt;dbl&gt;</th><th scope=col>&lt;chr&gt;</th><th scope=col>&lt;chr&gt;</th><th scope=col>&lt;chr&gt;</th><th scope=col>&lt;dbl&gt;</th><th scope=col>&lt;chr&gt;</th><th scope=col>&lt;chr&gt;</th><th scope=col>&lt;chr&gt;</th></tr>\n",
       "</thead>\n",
       "<tbody>\n",
       "\t<tr><td>fibroblast.of.cardiac.tissue__NFKBIA</td><td>fibroblast.of.cardiac.tissue</td><td>Factor2</td><td>0.7821156</td><td>fibroblast.of.cardiac.tissue</td><td>NFKBIA</td><td>positive</td><td>0.005</td><td>+</td><td>fibroblast.of.cardiac.tissue</td><td>+fibroblast.of.cardiac.tissue</td></tr>\n",
       "\t<tr><td>endothelial.cell__NFKBIA            </td><td>endothelial.cell            </td><td>Factor2</td><td>0.7455053</td><td>endothelial.cell            </td><td>NFKBIA</td><td>positive</td><td>0.005</td><td>+</td><td>endothelial.cell            </td><td>+endothelial.cell            </td></tr>\n",
       "</tbody>\n",
       "</table>\n"
      ],
      "text/latex": [
       "A grouped\\_df: 2 × 11\n",
       "\\begin{tabular}{lllllllllll}\n",
       " variable\\_name & type & variable & value & view & gene & direction & fraction & direction\\_sign & cell\\_type & facet\\\\\n",
       " <chr> & <chr> & <fct> & <dbl> & <chr> & <chr> & <chr> & <dbl> & <chr> & <chr> & <chr>\\\\\n",
       "\\hline\n",
       "\t fibroblast.of.cardiac.tissue\\_\\_NFKBIA & fibroblast.of.cardiac.tissue & Factor2 & 0.7821156 & fibroblast.of.cardiac.tissue & NFKBIA & positive & 0.005 & + & fibroblast.of.cardiac.tissue & +fibroblast.of.cardiac.tissue\\\\\n",
       "\t endothelial.cell\\_\\_NFKBIA             & endothelial.cell             & Factor2 & 0.7455053 & endothelial.cell             & NFKBIA & positive & 0.005 & + & endothelial.cell             & +endothelial.cell            \\\\\n",
       "\\end{tabular}\n"
      ],
      "text/markdown": [
       "\n",
       "A grouped_df: 2 × 11\n",
       "\n",
       "| variable_name &lt;chr&gt; | type &lt;chr&gt; | variable &lt;fct&gt; | value &lt;dbl&gt; | view &lt;chr&gt; | gene &lt;chr&gt; | direction &lt;chr&gt; | fraction &lt;dbl&gt; | direction_sign &lt;chr&gt; | cell_type &lt;chr&gt; | facet &lt;chr&gt; |\n",
       "|---|---|---|---|---|---|---|---|---|---|---|\n",
       "| fibroblast.of.cardiac.tissue__NFKBIA | fibroblast.of.cardiac.tissue | Factor2 | 0.7821156 | fibroblast.of.cardiac.tissue | NFKBIA | positive | 0.005 | + | fibroblast.of.cardiac.tissue | +fibroblast.of.cardiac.tissue |\n",
       "| endothelial.cell__NFKBIA             | endothelial.cell             | Factor2 | 0.7455053 | endothelial.cell             | NFKBIA | positive | 0.005 | + | endothelial.cell             | +endothelial.cell             |\n",
       "\n"
      ],
      "text/plain": [
       "  variable_name                        type                         variable\n",
       "1 fibroblast.of.cardiac.tissue__NFKBIA fibroblast.of.cardiac.tissue Factor2 \n",
       "2 endothelial.cell__NFKBIA             endothelial.cell             Factor2 \n",
       "  value     view                         gene   direction fraction\n",
       "1 0.7821156 fibroblast.of.cardiac.tissue NFKBIA positive  0.005   \n",
       "2 0.7455053 endothelial.cell             NFKBIA positive  0.005   \n",
       "  direction_sign cell_type                    facet                        \n",
       "1 +              fibroblast.of.cardiac.tissue +fibroblast.of.cardiac.tissue\n",
       "2 +              endothelial.cell             +endothelial.cell            "
      ]
     },
     "metadata": {},
     "output_type": "display_data"
    }
   ],
   "source": [
    "head(analysis_data_subset,2)"
   ]
  },
  {
   "cell_type": "code",
   "execution_count": 852,
   "id": "3041b60b-a531-4648-a339-0f3041954cc8",
   "metadata": {},
   "outputs": [],
   "source": [
    "## Adjust column names in input data"
   ]
  },
  {
   "cell_type": "code",
   "execution_count": 853,
   "id": "5a2bca12-cf44-46d0-b983-1d27b5996ac0",
   "metadata": {},
   "outputs": [],
   "source": [
    "data_long$expression_value = data_long$value\n",
    "data_long$variable_name = data_long$variable\n",
    "data_long$variable = NULL\n",
    "data_long$value = NULL"
   ]
  },
  {
   "cell_type": "code",
   "execution_count": 854,
   "id": "9f6f1119-37eb-4ae1-8606-bf293f7d82c6",
   "metadata": {},
   "outputs": [
    {
     "data": {
      "text/html": [
       "<table class=\"dataframe\">\n",
       "<caption>A data.frame: 2 × 5</caption>\n",
       "<thead>\n",
       "\t<tr><th></th><th scope=col>sample_id</th><th scope=col>type</th><th scope=col>gene</th><th scope=col>expression_value</th><th scope=col>variable_name</th></tr>\n",
       "\t<tr><th></th><th scope=col>&lt;chr&gt;</th><th scope=col>&lt;chr&gt;</th><th scope=col>&lt;chr&gt;</th><th scope=col>&lt;dbl&gt;</th><th scope=col>&lt;chr&gt;</th></tr>\n",
       "</thead>\n",
       "<tbody>\n",
       "\t<tr><th scope=row>1</th><td>D1</td><td>adipocyte</td><td>ABI1</td><td>-1.1243382</td><td>adipocyte__ABI1</td></tr>\n",
       "\t<tr><th scope=row>2</th><td>D2</td><td>adipocyte</td><td>ABI1</td><td>-0.8572543</td><td>adipocyte__ABI1</td></tr>\n",
       "</tbody>\n",
       "</table>\n"
      ],
      "text/latex": [
       "A data.frame: 2 × 5\n",
       "\\begin{tabular}{r|lllll}\n",
       "  & sample\\_id & type & gene & expression\\_value & variable\\_name\\\\\n",
       "  & <chr> & <chr> & <chr> & <dbl> & <chr>\\\\\n",
       "\\hline\n",
       "\t1 & D1 & adipocyte & ABI1 & -1.1243382 & adipocyte\\_\\_ABI1\\\\\n",
       "\t2 & D2 & adipocyte & ABI1 & -0.8572543 & adipocyte\\_\\_ABI1\\\\\n",
       "\\end{tabular}\n"
      ],
      "text/markdown": [
       "\n",
       "A data.frame: 2 × 5\n",
       "\n",
       "| <!--/--> | sample_id &lt;chr&gt; | type &lt;chr&gt; | gene &lt;chr&gt; | expression_value &lt;dbl&gt; | variable_name &lt;chr&gt; |\n",
       "|---|---|---|---|---|---|\n",
       "| 1 | D1 | adipocyte | ABI1 | -1.1243382 | adipocyte__ABI1 |\n",
       "| 2 | D2 | adipocyte | ABI1 | -0.8572543 | adipocyte__ABI1 |\n",
       "\n"
      ],
      "text/plain": [
       "  sample_id type      gene expression_value variable_name  \n",
       "1 D1        adipocyte ABI1 -1.1243382       adipocyte__ABI1\n",
       "2 D2        adipocyte ABI1 -0.8572543       adipocyte__ABI1"
      ]
     },
     "metadata": {},
     "output_type": "display_data"
    }
   ],
   "source": [
    "head(data_long,2)"
   ]
  },
  {
   "cell_type": "code",
   "execution_count": 855,
   "id": "533dac3b-f1d4-4695-b207-f37171ca2c79",
   "metadata": {},
   "outputs": [],
   "source": [
    "### Merge factor values and expression values"
   ]
  },
  {
   "cell_type": "code",
   "execution_count": 856,
   "id": "fb4ab316-1bce-4c39-ad72-c0f89742371c",
   "metadata": {},
   "outputs": [],
   "source": [
    "heatmap_data = merge(data_long, analysis_data_subset, by.x = c('variable_name'), by.y = c('variable_name'))"
   ]
  },
  {
   "cell_type": "code",
   "execution_count": 857,
   "id": "47fa3944-b871-4444-84af-03561cce03a5",
   "metadata": {},
   "outputs": [
    {
     "data": {
      "text/html": [
       "1060"
      ],
      "text/latex": [
       "1060"
      ],
      "text/markdown": [
       "1060"
      ],
      "text/plain": [
       "[1] 1060"
      ]
     },
     "metadata": {},
     "output_type": "display_data"
    }
   ],
   "source": [
    "nrow(heatmap_data)"
   ]
  },
  {
   "cell_type": "code",
   "execution_count": 858,
   "id": "f585abb3-14c3-47aa-983a-b8679bb8cef4",
   "metadata": {},
   "outputs": [
    {
     "data": {
      "text/html": [
       "<table class=\"dataframe\">\n",
       "<caption>A data.frame: 2 × 15</caption>\n",
       "<thead>\n",
       "\t<tr><th></th><th scope=col>variable_name</th><th scope=col>sample_id</th><th scope=col>type.x</th><th scope=col>gene.x</th><th scope=col>expression_value</th><th scope=col>type.y</th><th scope=col>variable</th><th scope=col>value</th><th scope=col>view</th><th scope=col>gene.y</th><th scope=col>direction</th><th scope=col>fraction</th><th scope=col>direction_sign</th><th scope=col>cell_type</th><th scope=col>facet</th></tr>\n",
       "\t<tr><th></th><th scope=col>&lt;chr&gt;</th><th scope=col>&lt;chr&gt;</th><th scope=col>&lt;chr&gt;</th><th scope=col>&lt;chr&gt;</th><th scope=col>&lt;dbl&gt;</th><th scope=col>&lt;chr&gt;</th><th scope=col>&lt;fct&gt;</th><th scope=col>&lt;dbl&gt;</th><th scope=col>&lt;chr&gt;</th><th scope=col>&lt;chr&gt;</th><th scope=col>&lt;chr&gt;</th><th scope=col>&lt;dbl&gt;</th><th scope=col>&lt;chr&gt;</th><th scope=col>&lt;chr&gt;</th><th scope=col>&lt;chr&gt;</th></tr>\n",
       "</thead>\n",
       "<tbody>\n",
       "\t<tr><th scope=row>1</th><td>cardiac.neuron__CST3</td><td>H56</td><td>cardiac.neuron</td><td>CST3</td><td>-1.0444088</td><td>cardiac.neuron</td><td>Factor2</td><td>0.6504495</td><td>cardiac.neuron</td><td>CST3</td><td>positive</td><td>0.005</td><td>+</td><td>cardiac.neuron</td><td>+cardiac.neuron</td></tr>\n",
       "\t<tr><th scope=row>2</th><td>cardiac.neuron__CST3</td><td>H67</td><td>cardiac.neuron</td><td>CST3</td><td>-0.2342192</td><td>cardiac.neuron</td><td>Factor2</td><td>0.6504495</td><td>cardiac.neuron</td><td>CST3</td><td>positive</td><td>0.005</td><td>+</td><td>cardiac.neuron</td><td>+cardiac.neuron</td></tr>\n",
       "</tbody>\n",
       "</table>\n"
      ],
      "text/latex": [
       "A data.frame: 2 × 15\n",
       "\\begin{tabular}{r|lllllllllllllll}\n",
       "  & variable\\_name & sample\\_id & type.x & gene.x & expression\\_value & type.y & variable & value & view & gene.y & direction & fraction & direction\\_sign & cell\\_type & facet\\\\\n",
       "  & <chr> & <chr> & <chr> & <chr> & <dbl> & <chr> & <fct> & <dbl> & <chr> & <chr> & <chr> & <dbl> & <chr> & <chr> & <chr>\\\\\n",
       "\\hline\n",
       "\t1 & cardiac.neuron\\_\\_CST3 & H56 & cardiac.neuron & CST3 & -1.0444088 & cardiac.neuron & Factor2 & 0.6504495 & cardiac.neuron & CST3 & positive & 0.005 & + & cardiac.neuron & +cardiac.neuron\\\\\n",
       "\t2 & cardiac.neuron\\_\\_CST3 & H67 & cardiac.neuron & CST3 & -0.2342192 & cardiac.neuron & Factor2 & 0.6504495 & cardiac.neuron & CST3 & positive & 0.005 & + & cardiac.neuron & +cardiac.neuron\\\\\n",
       "\\end{tabular}\n"
      ],
      "text/markdown": [
       "\n",
       "A data.frame: 2 × 15\n",
       "\n",
       "| <!--/--> | variable_name &lt;chr&gt; | sample_id &lt;chr&gt; | type.x &lt;chr&gt; | gene.x &lt;chr&gt; | expression_value &lt;dbl&gt; | type.y &lt;chr&gt; | variable &lt;fct&gt; | value &lt;dbl&gt; | view &lt;chr&gt; | gene.y &lt;chr&gt; | direction &lt;chr&gt; | fraction &lt;dbl&gt; | direction_sign &lt;chr&gt; | cell_type &lt;chr&gt; | facet &lt;chr&gt; |\n",
       "|---|---|---|---|---|---|---|---|---|---|---|---|---|---|---|---|\n",
       "| 1 | cardiac.neuron__CST3 | H56 | cardiac.neuron | CST3 | -1.0444088 | cardiac.neuron | Factor2 | 0.6504495 | cardiac.neuron | CST3 | positive | 0.005 | + | cardiac.neuron | +cardiac.neuron |\n",
       "| 2 | cardiac.neuron__CST3 | H67 | cardiac.neuron | CST3 | -0.2342192 | cardiac.neuron | Factor2 | 0.6504495 | cardiac.neuron | CST3 | positive | 0.005 | + | cardiac.neuron | +cardiac.neuron |\n",
       "\n"
      ],
      "text/plain": [
       "  variable_name        sample_id type.x         gene.x expression_value\n",
       "1 cardiac.neuron__CST3 H56       cardiac.neuron CST3   -1.0444088      \n",
       "2 cardiac.neuron__CST3 H67       cardiac.neuron CST3   -0.2342192      \n",
       "  type.y         variable value     view           gene.y direction fraction\n",
       "1 cardiac.neuron Factor2  0.6504495 cardiac.neuron CST3   positive  0.005   \n",
       "2 cardiac.neuron Factor2  0.6504495 cardiac.neuron CST3   positive  0.005   \n",
       "  direction_sign cell_type      facet          \n",
       "1 +              cardiac.neuron +cardiac.neuron\n",
       "2 +              cardiac.neuron +cardiac.neuron"
      ]
     },
     "metadata": {},
     "output_type": "display_data"
    }
   ],
   "source": [
    "head(heatmap_data,2)"
   ]
  },
  {
   "cell_type": "code",
   "execution_count": 859,
   "id": "7f1842fa-43a0-4c77-9350-0566d7f2101a",
   "metadata": {},
   "outputs": [],
   "source": [
    "### Add sample meta-data"
   ]
  },
  {
   "cell_type": "code",
   "execution_count": 860,
   "id": "96578774-835e-4ead-ab28-6923dcc16bf8",
   "metadata": {},
   "outputs": [],
   "source": [
    "heatmap_data = merge(heatmap_data, sample_data, by.x = 'sample_id', by.y = 'sample_id')"
   ]
  },
  {
   "cell_type": "code",
   "execution_count": 861,
   "id": "fdc9a3b0-70db-4c91-87a3-02ceda899cbb",
   "metadata": {},
   "outputs": [
    {
     "data": {
      "text/html": [
       "<table class=\"dataframe\">\n",
       "<caption>A data.frame: 2 × 21</caption>\n",
       "<thead>\n",
       "\t<tr><th></th><th scope=col>sample_id</th><th scope=col>variable_name</th><th scope=col>type.x</th><th scope=col>gene.x</th><th scope=col>expression_value</th><th scope=col>type.y</th><th scope=col>variable</th><th scope=col>value</th><th scope=col>view</th><th scope=col>gene.y</th><th scope=col>⋯</th><th scope=col>fraction</th><th scope=col>direction_sign</th><th scope=col>cell_type</th><th scope=col>facet</th><th scope=col>donor_id</th><th scope=col>disease</th><th scope=col>sex</th><th scope=col>development_stage</th><th scope=col>self_reported_ethnicity</th><th scope=col>Primary.Genetic.Diagnosis</th></tr>\n",
       "\t<tr><th></th><th scope=col>&lt;chr&gt;</th><th scope=col>&lt;chr&gt;</th><th scope=col>&lt;chr&gt;</th><th scope=col>&lt;chr&gt;</th><th scope=col>&lt;dbl&gt;</th><th scope=col>&lt;chr&gt;</th><th scope=col>&lt;fct&gt;</th><th scope=col>&lt;dbl&gt;</th><th scope=col>&lt;chr&gt;</th><th scope=col>&lt;chr&gt;</th><th scope=col>⋯</th><th scope=col>&lt;dbl&gt;</th><th scope=col>&lt;chr&gt;</th><th scope=col>&lt;chr&gt;</th><th scope=col>&lt;chr&gt;</th><th scope=col>&lt;chr&gt;</th><th scope=col>&lt;chr&gt;</th><th scope=col>&lt;chr&gt;</th><th scope=col>&lt;chr&gt;</th><th scope=col>&lt;chr&gt;</th><th scope=col>&lt;chr&gt;</th></tr>\n",
       "</thead>\n",
       "<tbody>\n",
       "\t<tr><th scope=row>1</th><td>D1</td><td>endothelial.cell__CDK13</td><td>endothelial.cell</td><td>CDK13</td><td>-2.085356</td><td>endothelial.cell</td><td>Factor2</td><td>-0.6437645</td><td>endothelial.cell</td><td>CDK13</td><td>⋯</td><td>0.005</td><td>-</td><td>endothelial.cell</td><td>-endothelial.cell</td><td>D1</td><td>normal</td><td>female</td><td>sixth decade human stage</td><td>European</td><td>control</td></tr>\n",
       "\t<tr><th scope=row>2</th><td>D1</td><td>cardiac.neuron__CST3   </td><td>cardiac.neuron  </td><td>CST3 </td><td> 1.593219</td><td>cardiac.neuron  </td><td>Factor2</td><td> 0.6504495</td><td>cardiac.neuron  </td><td>CST3 </td><td>⋯</td><td>0.005</td><td>+</td><td>cardiac.neuron  </td><td>+cardiac.neuron  </td><td>D1</td><td>normal</td><td>female</td><td>sixth decade human stage</td><td>European</td><td>control</td></tr>\n",
       "</tbody>\n",
       "</table>\n"
      ],
      "text/latex": [
       "A data.frame: 2 × 21\n",
       "\\begin{tabular}{r|lllllllllllllllllllll}\n",
       "  & sample\\_id & variable\\_name & type.x & gene.x & expression\\_value & type.y & variable & value & view & gene.y & ⋯ & fraction & direction\\_sign & cell\\_type & facet & donor\\_id & disease & sex & development\\_stage & self\\_reported\\_ethnicity & Primary.Genetic.Diagnosis\\\\\n",
       "  & <chr> & <chr> & <chr> & <chr> & <dbl> & <chr> & <fct> & <dbl> & <chr> & <chr> & ⋯ & <dbl> & <chr> & <chr> & <chr> & <chr> & <chr> & <chr> & <chr> & <chr> & <chr>\\\\\n",
       "\\hline\n",
       "\t1 & D1 & endothelial.cell\\_\\_CDK13 & endothelial.cell & CDK13 & -2.085356 & endothelial.cell & Factor2 & -0.6437645 & endothelial.cell & CDK13 & ⋯ & 0.005 & - & endothelial.cell & -endothelial.cell & D1 & normal & female & sixth decade human stage & European & control\\\\\n",
       "\t2 & D1 & cardiac.neuron\\_\\_CST3    & cardiac.neuron   & CST3  &  1.593219 & cardiac.neuron   & Factor2 &  0.6504495 & cardiac.neuron   & CST3  & ⋯ & 0.005 & + & cardiac.neuron   & +cardiac.neuron   & D1 & normal & female & sixth decade human stage & European & control\\\\\n",
       "\\end{tabular}\n"
      ],
      "text/markdown": [
       "\n",
       "A data.frame: 2 × 21\n",
       "\n",
       "| <!--/--> | sample_id &lt;chr&gt; | variable_name &lt;chr&gt; | type.x &lt;chr&gt; | gene.x &lt;chr&gt; | expression_value &lt;dbl&gt; | type.y &lt;chr&gt; | variable &lt;fct&gt; | value &lt;dbl&gt; | view &lt;chr&gt; | gene.y &lt;chr&gt; | ⋯ ⋯ | fraction &lt;dbl&gt; | direction_sign &lt;chr&gt; | cell_type &lt;chr&gt; | facet &lt;chr&gt; | donor_id &lt;chr&gt; | disease &lt;chr&gt; | sex &lt;chr&gt; | development_stage &lt;chr&gt; | self_reported_ethnicity &lt;chr&gt; | Primary.Genetic.Diagnosis &lt;chr&gt; |\n",
       "|---|---|---|---|---|---|---|---|---|---|---|---|---|---|---|---|---|---|---|---|---|---|\n",
       "| 1 | D1 | endothelial.cell__CDK13 | endothelial.cell | CDK13 | -2.085356 | endothelial.cell | Factor2 | -0.6437645 | endothelial.cell | CDK13 | ⋯ | 0.005 | - | endothelial.cell | -endothelial.cell | D1 | normal | female | sixth decade human stage | European | control |\n",
       "| 2 | D1 | cardiac.neuron__CST3    | cardiac.neuron   | CST3  |  1.593219 | cardiac.neuron   | Factor2 |  0.6504495 | cardiac.neuron   | CST3  | ⋯ | 0.005 | + | cardiac.neuron   | +cardiac.neuron   | D1 | normal | female | sixth decade human stage | European | control |\n",
       "\n"
      ],
      "text/plain": [
       "  sample_id variable_name           type.x           gene.x expression_value\n",
       "1 D1        endothelial.cell__CDK13 endothelial.cell CDK13  -2.085356       \n",
       "2 D1        cardiac.neuron__CST3    cardiac.neuron   CST3    1.593219       \n",
       "  type.y           variable value      view             gene.y ⋯ fraction\n",
       "1 endothelial.cell Factor2  -0.6437645 endothelial.cell CDK13  ⋯ 0.005   \n",
       "2 cardiac.neuron   Factor2   0.6504495 cardiac.neuron   CST3   ⋯ 0.005   \n",
       "  direction_sign cell_type        facet             donor_id disease sex   \n",
       "1 -              endothelial.cell -endothelial.cell D1       normal  female\n",
       "2 +              cardiac.neuron   +cardiac.neuron   D1       normal  female\n",
       "  development_stage        self_reported_ethnicity Primary.Genetic.Diagnosis\n",
       "1 sixth decade human stage European                control                  \n",
       "2 sixth decade human stage European                control                  "
      ]
     },
     "metadata": {},
     "output_type": "display_data"
    }
   ],
   "source": [
    "head(heatmap_data,2)"
   ]
  },
  {
   "cell_type": "markdown",
   "id": "4016f142-473d-4d67-b30a-31ad211a556c",
   "metadata": {},
   "source": [
    "# Heatmap Plot"
   ]
  },
  {
   "cell_type": "code",
   "execution_count": 862,
   "id": "0aa71ba8-cefa-4cfc-8a70-b5a736af7636",
   "metadata": {},
   "outputs": [],
   "source": [
    "###Generates heatmap based on configurations"
   ]
  },
  {
   "cell_type": "code",
   "execution_count": 863,
   "id": "2c4d7f75-e891-47c2-952e-2541ea7d6d65",
   "metadata": {},
   "outputs": [],
   "source": [
    "## Specify figure name"
   ]
  },
  {
   "cell_type": "code",
   "execution_count": 864,
   "id": "a3091cb0-fed6-481c-8bb6-375e12c110a1",
   "metadata": {},
   "outputs": [],
   "source": [
    "figure_name = \"FIG05_Heatmap_Feature_Overview\""
   ]
  },
  {
   "cell_type": "code",
   "execution_count": 865,
   "id": "96f08eeb-5f7d-480c-b6b8-fcb83d8209c3",
   "metadata": {},
   "outputs": [],
   "source": [
    "# Specific Text Descriptions (heatmap) for x and y-axis:\n",
    "xlabel_heatmap = xlab('Samples') \n",
    "ylabel_heatmap = ylab('View')"
   ]
  },
  {
   "cell_type": "code",
   "execution_count": 866,
   "id": "2febdabe-666f-45cd-9ae0-4ab15ca4d721",
   "metadata": {},
   "outputs": [],
   "source": [
    "# Specific Text Descriptions (factor value plot) for x and y-axis:\n",
    "xlabel_barplot = xlab('Samples') \n",
    "ylabel_barplot = ylab('Absolute Factor Value')"
   ]
  },
  {
   "cell_type": "code",
   "execution_count": 867,
   "id": "33078a28-4401-4da6-a1a2-739490780770",
   "metadata": {},
   "outputs": [],
   "source": [
    "## Choose columns for faceting according to parameters specified in config file"
   ]
  },
  {
   "cell_type": "code",
   "execution_count": 868,
   "id": "5a188b0e-8a2d-4a36-946a-9b666a7509b3",
   "metadata": {},
   "outputs": [],
   "source": [
    "## specify faceting for heamtap\n",
    "heatmap_data$facet2 = heatmap_data[,variable] # x-axis faceting\n",
    "heatmap_data$facet = paste0(heatmap_data$direction_sign, heatmap_data$view) # y-axis faceting\n",
    "\n",
    "## specify faceting for factor value plot\n",
    "analysis_data_subset$facet = paste0(analysis_data_subset$direction_sign,analysis_data_subset$view)\n",
    "analysis_data_subset$facet2 = 'Absolute Factor Value'"
   ]
  },
  {
   "cell_type": "code",
   "execution_count": 869,
   "id": "57a47d67-87e6-4180-91ff-8859c0f72481",
   "metadata": {},
   "outputs": [
    {
     "data": {
      "text/html": [
       "&lt;NA&gt;"
      ],
      "text/latex": [
       "<NA>"
      ],
      "text/markdown": [
       "&lt;NA&gt;"
      ],
      "text/plain": [
       "[1] NA"
      ]
     },
     "metadata": {},
     "output_type": "display_data"
    }
   ],
   "source": [
    "view_var"
   ]
  },
  {
   "cell_type": "code",
   "execution_count": 870,
   "id": "a3274a17-7b53-43b9-9fa8-b05c01d43e24",
   "metadata": {},
   "outputs": [],
   "source": [
    "## filter data on a specific view if specified in the config file\n",
    "if(view_var %in% unique(heatmap_data$view)){\n",
    "    heatmap_data = heatmap_data[heatmap_data$view %in% view_var,]\n",
    "    analysis_data_subset = analysis_data_subset[analysis_data_subset$view %in% view_var,]\n",
    "    } else{view_var = ''}"
   ]
  },
  {
   "cell_type": "code",
   "execution_count": 871,
   "id": "de9e46a8-d149-4742-8a4f-6d9c11e412ca",
   "metadata": {},
   "outputs": [
    {
     "data": {
      "text/html": [
       "<table class=\"dataframe\">\n",
       "<caption>A data.frame: 2 × 22</caption>\n",
       "<thead>\n",
       "\t<tr><th></th><th scope=col>sample_id</th><th scope=col>variable_name</th><th scope=col>type.x</th><th scope=col>gene.x</th><th scope=col>expression_value</th><th scope=col>type.y</th><th scope=col>variable</th><th scope=col>value</th><th scope=col>view</th><th scope=col>gene.y</th><th scope=col>⋯</th><th scope=col>direction_sign</th><th scope=col>cell_type</th><th scope=col>facet</th><th scope=col>donor_id</th><th scope=col>disease</th><th scope=col>sex</th><th scope=col>development_stage</th><th scope=col>self_reported_ethnicity</th><th scope=col>Primary.Genetic.Diagnosis</th><th scope=col>facet2</th></tr>\n",
       "\t<tr><th></th><th scope=col>&lt;chr&gt;</th><th scope=col>&lt;chr&gt;</th><th scope=col>&lt;chr&gt;</th><th scope=col>&lt;chr&gt;</th><th scope=col>&lt;dbl&gt;</th><th scope=col>&lt;chr&gt;</th><th scope=col>&lt;fct&gt;</th><th scope=col>&lt;dbl&gt;</th><th scope=col>&lt;chr&gt;</th><th scope=col>&lt;chr&gt;</th><th scope=col>⋯</th><th scope=col>&lt;chr&gt;</th><th scope=col>&lt;chr&gt;</th><th scope=col>&lt;chr&gt;</th><th scope=col>&lt;chr&gt;</th><th scope=col>&lt;chr&gt;</th><th scope=col>&lt;chr&gt;</th><th scope=col>&lt;chr&gt;</th><th scope=col>&lt;chr&gt;</th><th scope=col>&lt;chr&gt;</th><th scope=col>&lt;chr&gt;</th></tr>\n",
       "</thead>\n",
       "<tbody>\n",
       "\t<tr><th scope=row>1</th><td>D1</td><td>endothelial.cell__CDK13</td><td>endothelial.cell</td><td>CDK13</td><td>-2.085356</td><td>endothelial.cell</td><td>Factor2</td><td>-0.6437645</td><td>endothelial.cell</td><td>CDK13</td><td>⋯</td><td>-</td><td>endothelial.cell</td><td>-endothelial.cell</td><td>D1</td><td>normal</td><td>female</td><td>sixth decade human stage</td><td>European</td><td>control</td><td>normal</td></tr>\n",
       "\t<tr><th scope=row>2</th><td>D1</td><td>cardiac.neuron__CST3   </td><td>cardiac.neuron  </td><td>CST3 </td><td> 1.593219</td><td>cardiac.neuron  </td><td>Factor2</td><td> 0.6504495</td><td>cardiac.neuron  </td><td>CST3 </td><td>⋯</td><td>+</td><td>cardiac.neuron  </td><td>+cardiac.neuron  </td><td>D1</td><td>normal</td><td>female</td><td>sixth decade human stage</td><td>European</td><td>control</td><td>normal</td></tr>\n",
       "</tbody>\n",
       "</table>\n"
      ],
      "text/latex": [
       "A data.frame: 2 × 22\n",
       "\\begin{tabular}{r|lllllllllllllllllllll}\n",
       "  & sample\\_id & variable\\_name & type.x & gene.x & expression\\_value & type.y & variable & value & view & gene.y & ⋯ & direction\\_sign & cell\\_type & facet & donor\\_id & disease & sex & development\\_stage & self\\_reported\\_ethnicity & Primary.Genetic.Diagnosis & facet2\\\\\n",
       "  & <chr> & <chr> & <chr> & <chr> & <dbl> & <chr> & <fct> & <dbl> & <chr> & <chr> & ⋯ & <chr> & <chr> & <chr> & <chr> & <chr> & <chr> & <chr> & <chr> & <chr> & <chr>\\\\\n",
       "\\hline\n",
       "\t1 & D1 & endothelial.cell\\_\\_CDK13 & endothelial.cell & CDK13 & -2.085356 & endothelial.cell & Factor2 & -0.6437645 & endothelial.cell & CDK13 & ⋯ & - & endothelial.cell & -endothelial.cell & D1 & normal & female & sixth decade human stage & European & control & normal\\\\\n",
       "\t2 & D1 & cardiac.neuron\\_\\_CST3    & cardiac.neuron   & CST3  &  1.593219 & cardiac.neuron   & Factor2 &  0.6504495 & cardiac.neuron   & CST3  & ⋯ & + & cardiac.neuron   & +cardiac.neuron   & D1 & normal & female & sixth decade human stage & European & control & normal\\\\\n",
       "\\end{tabular}\n"
      ],
      "text/markdown": [
       "\n",
       "A data.frame: 2 × 22\n",
       "\n",
       "| <!--/--> | sample_id &lt;chr&gt; | variable_name &lt;chr&gt; | type.x &lt;chr&gt; | gene.x &lt;chr&gt; | expression_value &lt;dbl&gt; | type.y &lt;chr&gt; | variable &lt;fct&gt; | value &lt;dbl&gt; | view &lt;chr&gt; | gene.y &lt;chr&gt; | ⋯ ⋯ | direction_sign &lt;chr&gt; | cell_type &lt;chr&gt; | facet &lt;chr&gt; | donor_id &lt;chr&gt; | disease &lt;chr&gt; | sex &lt;chr&gt; | development_stage &lt;chr&gt; | self_reported_ethnicity &lt;chr&gt; | Primary.Genetic.Diagnosis &lt;chr&gt; | facet2 &lt;chr&gt; |\n",
       "|---|---|---|---|---|---|---|---|---|---|---|---|---|---|---|---|---|---|---|---|---|---|\n",
       "| 1 | D1 | endothelial.cell__CDK13 | endothelial.cell | CDK13 | -2.085356 | endothelial.cell | Factor2 | -0.6437645 | endothelial.cell | CDK13 | ⋯ | - | endothelial.cell | -endothelial.cell | D1 | normal | female | sixth decade human stage | European | control | normal |\n",
       "| 2 | D1 | cardiac.neuron__CST3    | cardiac.neuron   | CST3  |  1.593219 | cardiac.neuron   | Factor2 |  0.6504495 | cardiac.neuron   | CST3  | ⋯ | + | cardiac.neuron   | +cardiac.neuron   | D1 | normal | female | sixth decade human stage | European | control | normal |\n",
       "\n"
      ],
      "text/plain": [
       "  sample_id variable_name           type.x           gene.x expression_value\n",
       "1 D1        endothelial.cell__CDK13 endothelial.cell CDK13  -2.085356       \n",
       "2 D1        cardiac.neuron__CST3    cardiac.neuron   CST3    1.593219       \n",
       "  type.y           variable value      view             gene.y ⋯ direction_sign\n",
       "1 endothelial.cell Factor2  -0.6437645 endothelial.cell CDK13  ⋯ -             \n",
       "2 cardiac.neuron   Factor2   0.6504495 cardiac.neuron   CST3   ⋯ +             \n",
       "  cell_type        facet             donor_id disease sex   \n",
       "1 endothelial.cell -endothelial.cell D1       normal  female\n",
       "2 cardiac.neuron   +cardiac.neuron   D1       normal  female\n",
       "  development_stage        self_reported_ethnicity Primary.Genetic.Diagnosis\n",
       "1 sixth decade human stage European                control                  \n",
       "2 sixth decade human stage European                control                  \n",
       "  facet2\n",
       "1 normal\n",
       "2 normal"
      ]
     },
     "metadata": {},
     "output_type": "display_data"
    }
   ],
   "source": [
    "head(heatmap_data,2)"
   ]
  },
  {
   "cell_type": "code",
   "execution_count": 872,
   "id": "d088e2d4-5b63-43fa-98a6-c8a585d3a72b",
   "metadata": {},
   "outputs": [],
   "source": [
    "# Plot factor values as barplot"
   ]
  },
  {
   "cell_type": "code",
   "execution_count": 873,
   "id": "589d1895-4e08-4faf-9352-4afe01a195bf",
   "metadata": {},
   "outputs": [],
   "source": [
    "options(repr.plot.width=10, repr.plot.height=25)\n",
    "factor_value_all_bar = ggplot(data = analysis_data_subset[(analysis_data_subset$variable == factor_var),] , \n",
    "                              mapping = aes(x = gene,   y= abs(value)))+\n",
    "                            plot_config_heatmap_supp  + \n",
    "                            geom_bar(stat=\"identity\", width = 0.1) + \n",
    "                            coord_flip()+\n",
    "                            xlabel_barplot +\n",
    "                            ylabel_barplot +\n",
    "                            theme( axis.text.y = element_text( hjust = 1, vjust =1))+\n",
    "                            facet_grid(facet  ~ facet2, scales = 'free', space = 'free', switch = 'y') + theme(strip.background = element_rect(color=\"black\", fill=\"white\", linetype=\"solid\"), strip.placement = \"outside\", strip.switch.pad.grid = unit(0.5, \"cm\"))+\n",
    "                            ggtitle('')\n"
   ]
  },
  {
   "cell_type": "code",
   "execution_count": 874,
   "id": "80f404ef-32b0-4f85-a760-f82a1dc0b234",
   "metadata": {
    "tags": []
   },
   "outputs": [],
   "source": [
    "# Example of plot\n",
    "#factor_value_all_bar"
   ]
  },
  {
   "cell_type": "code",
   "execution_count": 875,
   "id": "ec41fb21-e90b-4260-8a94-ac65ec479cc9",
   "metadata": {},
   "outputs": [],
   "source": [
    "### Generate Heatmap Plot"
   ]
  },
  {
   "cell_type": "code",
   "execution_count": 876,
   "id": "1fa539f3-32a3-47a9-a57e-51aeb6d7208e",
   "metadata": {},
   "outputs": [
    {
     "data": {
      "text/html": [
       "'Factor2'"
      ],
      "text/latex": [
       "'Factor2'"
      ],
      "text/markdown": [
       "'Factor2'"
      ],
      "text/plain": [
       "[1] \"Factor2\""
      ]
     },
     "metadata": {},
     "output_type": "display_data"
    }
   ],
   "source": [
    "factor_var"
   ]
  },
  {
   "cell_type": "code",
   "execution_count": 877,
   "id": "a18eb85e-9811-49d2-9c88-7dc852dcfb79",
   "metadata": {},
   "outputs": [],
   "source": [
    "options(repr.plot.width=width_par, repr.plot.height=height_par)\n",
    "all_heatmap = ggplot(data = heatmap_data[(heatmap_data$variable == factor_var) ,], # TBD whether to filter on sample subset\n",
    "                     mapping = aes(sample_id, gene.x,  fill= expression_value)) +\n",
    "    scale_fill_gradient2(low=\"#1D2ED8\", high=\"#D8911D\", midpoint = 0) + \n",
    "    geom_tile() + \n",
    "    xlabel_heatmap +\n",
    "    ylabel_heatmap +\n",
    "    plot_config_heatmap_supp  + theme(axis.text.x = element_blank()) + \n",
    "    facet_grid(facet  ~facet2, scales = 'free', space = 'free',  switch = \"y\") + theme(strip.background = element_rect(color=\"black\", fill=\"white\", linetype=\"solid\"), strip.placement = \"outside\", strip.switch.pad.grid = unit(0.4, \"cm\"), strip.text.y.left = element_text(angle=0))+\n",
    "    theme( axis.text.y = element_text( hjust = 1, vjust =1)) + \n",
    "    ggtitle(paste0('Normalized Expression Values of top ',as.numeric(top_variable_fraction) *100 *2, '% features'))\n",
    "\n",
    "    "
   ]
  },
  {
   "cell_type": "code",
   "execution_count": 878,
   "id": "1285dfa6-2107-41e1-b483-f5e80e811d6f",
   "metadata": {
    "tags": []
   },
   "outputs": [],
   "source": [
    "# Example heatmap plot\n",
    "#all_heatmap"
   ]
  },
  {
   "cell_type": "code",
   "execution_count": 879,
   "id": "a8b07eef-d015-4aac-b9b7-1ca087b52fc6",
   "metadata": {},
   "outputs": [],
   "source": [
    "### Combined factor and heatamp plots and save the plot"
   ]
  },
  {
   "cell_type": "code",
   "execution_count": 880,
   "id": "0083c252-ace8-435d-a58f-ba3faffd82a6",
   "metadata": {},
   "outputs": [],
   "source": [
    "legend =  get_legend(all_heatmap)"
   ]
  },
  {
   "cell_type": "code",
   "execution_count": 881,
   "id": "efff6b3a-688a-425a-848e-9de8f00f6637",
   "metadata": {
    "tags": []
   },
   "outputs": [],
   "source": [
    "options(repr.plot.width=width_par, repr.plot.height=height_par)\n",
    "combined = ggarrange(all_heatmap + theme(legend.position = 'none'),\n",
    "         factor_value_all_bar + \n",
    "          theme(axis.text.y = element_blank(),axis.ticks.y = element_blank(),axis.title.y = element_blank(), strip.background.y = element_blank() , strip.text.y = element_blank()),  \n",
    "         nrow=1, widths = c(4,1), align = 'h')\n",
    "combined = annotate_figure(combined, right = legend)"
   ]
  },
  {
   "cell_type": "code",
   "execution_count": 882,
   "id": "e401caa4-bd80-47d7-90b5-ba48100a968d",
   "metadata": {},
   "outputs": [
    {
     "data": {
      "text/html": [
       "<strong>png:</strong> 2"
      ],
      "text/latex": [
       "\\textbf{png:} 2"
      ],
      "text/markdown": [
       "**png:** 2"
      ],
      "text/plain": [
       "png \n",
       "  2 "
      ]
     },
     "metadata": {},
     "output_type": "display_data"
    }
   ],
   "source": [
    "pdf(paste0('figures/05_figures/', figure_name,view_var, '_', factor_var, '_',  top_variable_fraction,  mofa_name, '.pdf'), width =width_par, height =height_par)\n",
    "print(combined)\n",
    "dev.off()"
   ]
  },
  {
   "cell_type": "code",
   "execution_count": null,
   "id": "a54feca5-3af1-4bad-ade8-a303fc0f49dd",
   "metadata": {},
   "outputs": [],
   "source": []
  },
  {
   "cell_type": "code",
   "execution_count": null,
   "id": "82a43e0c-779f-4080-8ac8-eddf5a006f12",
   "metadata": {},
   "outputs": [],
   "source": []
  }
 ],
 "metadata": {
  "kernelspec": {
   "display_name": "R",
   "language": "R",
   "name": "ir"
  },
  "language_info": {
   "codemirror_mode": "r",
   "file_extension": ".r",
   "mimetype": "text/x-r-source",
   "name": "R",
   "pygments_lexer": "r",
   "version": "4.3.2"
  },
  "toc-autonumbering": true,
  "toc-showcode": false
 },
 "nbformat": 4,
 "nbformat_minor": 5
}
