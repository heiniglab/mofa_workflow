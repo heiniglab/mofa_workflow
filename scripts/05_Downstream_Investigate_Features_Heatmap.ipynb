{
 "cells": [
  {
   "cell_type": "code",
   "execution_count": 1,
   "id": "d182c426-4d95-4dee-a099-cd923e9437d7",
   "metadata": {},
   "outputs": [],
   "source": [
    "### Analyze MOFA MODEL Results\n",
    "### Investigate the specific top features of each factor\n",
    "### Plot the normalized expression of the features as heatmap"
   ]
  },
  {
   "cell_type": "markdown",
   "id": "213d69de-4705-4a6e-9387-b1a3413172eb",
   "metadata": {
    "tags": []
   },
   "source": [
    "#############################################\n",
    "# Prerequisites - Load Libraries"
   ]
  },
  {
   "cell_type": "code",
   "execution_count": 2,
   "id": "9957e32b-eaec-4762-95cd-e089cc1cdc60",
   "metadata": {
    "collapsed": true,
    "jupyter": {
     "outputs_hidden": true
    },
    "tags": []
   },
   "outputs": [
    {
     "name": "stderr",
     "output_type": "stream",
     "text": [
      "Warning message in read.table(file = file, header = header, sep = sep, quote = quote, :\n",
      "“incomplete final line found by readTableHeader on '../conda_environment/Environment_Configs.csv'”\n"
     ]
    },
    {
     "name": "stdout",
     "output_type": "stream",
     "text": [
      "[1] \"/home/icb/corinna.losert/miniconda3/envs/mofa_analysis//lib/R/library\"\n"
     ]
    },
    {
     "name": "stderr",
     "output_type": "stream",
     "text": [
      "‘SeuratObject’ was built with package ‘Matrix’ 1.6.3 but the current\n",
      "version is 1.6.4; it is recomended that you reinstall ‘SeuratObject’ as\n",
      "the ABI for ‘Matrix’ may have changed\n",
      "\n",
      "\n",
      "Attaching package: ‘SeuratObject’\n",
      "\n",
      "\n",
      "The following object is masked from ‘package:base’:\n",
      "\n",
      "    intersect\n",
      "\n",
      "\n",
      "Registered S3 method overwritten by 'SeuratDisk':\n",
      "  method            from  \n",
      "  as.sparse.H5Group Seurat\n",
      "\n",
      "\n",
      "Attaching package: ‘dplyr’\n",
      "\n",
      "\n",
      "The following objects are masked from ‘package:data.table’:\n",
      "\n",
      "    between, first, last\n",
      "\n",
      "\n",
      "The following objects are masked from ‘package:stats’:\n",
      "\n",
      "    filter, lag\n",
      "\n",
      "\n",
      "The following objects are masked from ‘package:base’:\n",
      "\n",
      "    intersect, setdiff, setequal, union\n",
      "\n",
      "\n",
      "── \u001b[1mAttaching core tidyverse packages\u001b[22m ──────────────────────── tidyverse 2.0.0 ──\n",
      "\u001b[32m✔\u001b[39m \u001b[34mforcats  \u001b[39m 1.0.0     \u001b[32m✔\u001b[39m \u001b[34mreadr    \u001b[39m 2.1.4\n",
      "\u001b[32m✔\u001b[39m \u001b[34mggplot2  \u001b[39m 3.4.4     \u001b[32m✔\u001b[39m \u001b[34mtibble   \u001b[39m 3.2.1\n",
      "\u001b[32m✔\u001b[39m \u001b[34mlubridate\u001b[39m 1.9.3     \u001b[32m✔\u001b[39m \u001b[34mtidyr    \u001b[39m 1.3.0\n",
      "\u001b[32m✔\u001b[39m \u001b[34mpurrr    \u001b[39m 1.0.2     \n",
      "── \u001b[1mConflicts\u001b[22m ────────────────────────────────────────── tidyverse_conflicts() ──\n",
      "\u001b[31m✖\u001b[39m \u001b[34mdplyr\u001b[39m::\u001b[32mbetween()\u001b[39m     masks \u001b[34mdata.table\u001b[39m::between()\n",
      "\u001b[31m✖\u001b[39m \u001b[34mdplyr\u001b[39m::\u001b[32mfilter()\u001b[39m      masks \u001b[34mstats\u001b[39m::filter()\n",
      "\u001b[31m✖\u001b[39m \u001b[34mdplyr\u001b[39m::\u001b[32mfirst()\u001b[39m       masks \u001b[34mdata.table\u001b[39m::first()\n",
      "\u001b[31m✖\u001b[39m \u001b[34mlubridate\u001b[39m::\u001b[32mhour()\u001b[39m    masks \u001b[34mdata.table\u001b[39m::hour()\n",
      "\u001b[31m✖\u001b[39m \u001b[34mlubridate\u001b[39m::\u001b[32misoweek()\u001b[39m masks \u001b[34mdata.table\u001b[39m::isoweek()\n",
      "\u001b[31m✖\u001b[39m \u001b[34mdplyr\u001b[39m::\u001b[32mlag()\u001b[39m         masks \u001b[34mstats\u001b[39m::lag()\n",
      "\u001b[31m✖\u001b[39m \u001b[34mdplyr\u001b[39m::\u001b[32mlast()\u001b[39m        masks \u001b[34mdata.table\u001b[39m::last()\n",
      "\u001b[31m✖\u001b[39m \u001b[34mlubridate\u001b[39m::\u001b[32mmday()\u001b[39m    masks \u001b[34mdata.table\u001b[39m::mday()\n",
      "\u001b[31m✖\u001b[39m \u001b[34mlubridate\u001b[39m::\u001b[32mminute()\u001b[39m  masks \u001b[34mdata.table\u001b[39m::minute()\n",
      "\u001b[31m✖\u001b[39m \u001b[34mlubridate\u001b[39m::\u001b[32mmonth()\u001b[39m   masks \u001b[34mdata.table\u001b[39m::month()\n",
      "\u001b[31m✖\u001b[39m \u001b[34mlubridate\u001b[39m::\u001b[32mquarter()\u001b[39m masks \u001b[34mdata.table\u001b[39m::quarter()\n",
      "\u001b[31m✖\u001b[39m \u001b[34mlubridate\u001b[39m::\u001b[32msecond()\u001b[39m  masks \u001b[34mdata.table\u001b[39m::second()\n",
      "\u001b[31m✖\u001b[39m \u001b[34mpurrr\u001b[39m::\u001b[32mtranspose()\u001b[39m   masks \u001b[34mdata.table\u001b[39m::transpose()\n",
      "\u001b[31m✖\u001b[39m \u001b[34mlubridate\u001b[39m::\u001b[32mwday()\u001b[39m    masks \u001b[34mdata.table\u001b[39m::wday()\n",
      "\u001b[31m✖\u001b[39m \u001b[34mlubridate\u001b[39m::\u001b[32mweek()\u001b[39m    masks \u001b[34mdata.table\u001b[39m::week()\n",
      "\u001b[31m✖\u001b[39m \u001b[34mlubridate\u001b[39m::\u001b[32myday()\u001b[39m    masks \u001b[34mdata.table\u001b[39m::yday()\n",
      "\u001b[31m✖\u001b[39m \u001b[34mlubridate\u001b[39m::\u001b[32myear()\u001b[39m    masks \u001b[34mdata.table\u001b[39m::year()\n",
      "\u001b[36mℹ\u001b[39m Use the conflicted package (\u001b[3m\u001b[34m<http://conflicted.r-lib.org/>\u001b[39m\u001b[23m) to force all conflicts to become errors\n",
      "\n",
      "Attaching package: ‘reshape2’\n",
      "\n",
      "\n",
      "The following object is masked from ‘package:tidyr’:\n",
      "\n",
      "    smiths\n",
      "\n",
      "\n",
      "The following objects are masked from ‘package:data.table’:\n",
      "\n",
      "    dcast, melt\n",
      "\n",
      "\n",
      "Loading required package: lattice\n",
      "\n",
      "\n",
      "Attaching package: ‘caret’\n",
      "\n",
      "\n",
      "The following object is masked from ‘package:purrr’:\n",
      "\n",
      "    lift\n",
      "\n",
      "\n",
      "\n",
      "Attaching package: ‘gridExtra’\n",
      "\n",
      "\n",
      "The following object is masked from ‘package:dplyr’:\n",
      "\n",
      "    combine\n",
      "\n",
      "\n",
      "\n",
      "Attaching package: ‘scales’\n",
      "\n",
      "\n",
      "The following object is masked from ‘package:purrr’:\n",
      "\n",
      "    discard\n",
      "\n",
      "\n",
      "The following object is masked from ‘package:readr’:\n",
      "\n",
      "    col_factor\n",
      "\n",
      "\n",
      "\n",
      "Attaching package: ‘ggraph’\n",
      "\n",
      "\n",
      "The following object is masked from ‘package:sp’:\n",
      "\n",
      "    geometry\n",
      "\n",
      "\n",
      "corrplot 0.92 loaded\n",
      "\n",
      "\n",
      "Attaching package: ‘MOFA2’\n",
      "\n",
      "\n",
      "The following object is masked from ‘package:stats’:\n",
      "\n",
      "    predict\n",
      "\n",
      "\n",
      "Loading required package: S4Vectors\n",
      "\n",
      "Loading required package: stats4\n",
      "\n",
      "Loading required package: BiocGenerics\n",
      "\n",
      "\n",
      "Attaching package: ‘BiocGenerics’\n",
      "\n",
      "\n",
      "The following object is masked from ‘package:gridExtra’:\n",
      "\n",
      "    combine\n",
      "\n",
      "\n",
      "The following objects are masked from ‘package:lubridate’:\n",
      "\n",
      "    intersect, setdiff, union\n",
      "\n",
      "\n",
      "The following objects are masked from ‘package:dplyr’:\n",
      "\n",
      "    combine, intersect, setdiff, union\n",
      "\n",
      "\n",
      "The following object is masked from ‘package:SeuratObject’:\n",
      "\n",
      "    intersect\n",
      "\n",
      "\n",
      "The following objects are masked from ‘package:stats’:\n",
      "\n",
      "    IQR, mad, sd, var, xtabs\n",
      "\n",
      "\n",
      "The following objects are masked from ‘package:base’:\n",
      "\n",
      "    anyDuplicated, aperm, append, as.data.frame, basename, cbind,\n",
      "    colnames, dirname, do.call, duplicated, eval, evalq, Filter, Find,\n",
      "    get, grep, grepl, intersect, is.unsorted, lapply, Map, mapply,\n",
      "    match, mget, order, paste, pmax, pmax.int, pmin, pmin.int,\n",
      "    Position, rank, rbind, Reduce, rownames, sapply, setdiff, sort,\n",
      "    table, tapply, union, unique, unsplit, which.max, which.min\n",
      "\n",
      "\n",
      "\n",
      "Attaching package: ‘S4Vectors’\n",
      "\n",
      "\n",
      "The following objects are masked from ‘package:lubridate’:\n",
      "\n",
      "    second, second<-\n",
      "\n",
      "\n",
      "The following object is masked from ‘package:tidyr’:\n",
      "\n",
      "    expand\n",
      "\n",
      "\n",
      "The following objects are masked from ‘package:dplyr’:\n",
      "\n",
      "    first, rename\n",
      "\n",
      "\n",
      "The following objects are masked from ‘package:data.table’:\n",
      "\n",
      "    first, second\n",
      "\n",
      "\n",
      "The following object is masked from ‘package:utils’:\n",
      "\n",
      "    findMatches\n",
      "\n",
      "\n",
      "The following objects are masked from ‘package:base’:\n",
      "\n",
      "    expand.grid, I, unname\n",
      "\n",
      "\n",
      "Loading required package: IRanges\n",
      "\n",
      "\n",
      "Attaching package: ‘IRanges’\n",
      "\n",
      "\n",
      "The following object is masked from ‘package:lubridate’:\n",
      "\n",
      "    %within%\n",
      "\n",
      "\n",
      "The following object is masked from ‘package:purrr’:\n",
      "\n",
      "    reduce\n",
      "\n",
      "\n",
      "The following objects are masked from ‘package:dplyr’:\n",
      "\n",
      "    collapse, desc, slice\n",
      "\n",
      "\n",
      "The following object is masked from ‘package:data.table’:\n",
      "\n",
      "    shift\n",
      "\n",
      "\n",
      "The following object is masked from ‘package:sp’:\n",
      "\n",
      "    %over%\n",
      "\n",
      "\n",
      "Loading required package: GenomicRanges\n",
      "\n",
      "Loading required package: GenomeInfoDb\n",
      "\n",
      "Loading required package: SummarizedExperiment\n",
      "\n",
      "Loading required package: MatrixGenerics\n",
      "\n",
      "Loading required package: matrixStats\n",
      "\n",
      "\n",
      "Attaching package: ‘matrixStats’\n",
      "\n",
      "\n",
      "The following object is masked from ‘package:dplyr’:\n",
      "\n",
      "    count\n",
      "\n",
      "\n",
      "\n",
      "Attaching package: ‘MatrixGenerics’\n",
      "\n",
      "\n",
      "The following objects are masked from ‘package:matrixStats’:\n",
      "\n",
      "    colAlls, colAnyNAs, colAnys, colAvgsPerRowSet, colCollapse,\n",
      "    colCounts, colCummaxs, colCummins, colCumprods, colCumsums,\n",
      "    colDiffs, colIQRDiffs, colIQRs, colLogSumExps, colMadDiffs,\n",
      "    colMads, colMaxs, colMeans2, colMedians, colMins, colOrderStats,\n",
      "    colProds, colQuantiles, colRanges, colRanks, colSdDiffs, colSds,\n",
      "    colSums2, colTabulates, colVarDiffs, colVars, colWeightedMads,\n",
      "    colWeightedMeans, colWeightedMedians, colWeightedSds,\n",
      "    colWeightedVars, rowAlls, rowAnyNAs, rowAnys, rowAvgsPerColSet,\n",
      "    rowCollapse, rowCounts, rowCummaxs, rowCummins, rowCumprods,\n",
      "    rowCumsums, rowDiffs, rowIQRDiffs, rowIQRs, rowLogSumExps,\n",
      "    rowMadDiffs, rowMads, rowMaxs, rowMeans2, rowMedians, rowMins,\n",
      "    rowOrderStats, rowProds, rowQuantiles, rowRanges, rowRanks,\n",
      "    rowSdDiffs, rowSds, rowSums2, rowTabulates, rowVarDiffs, rowVars,\n",
      "    rowWeightedMads, rowWeightedMeans, rowWeightedMedians,\n",
      "    rowWeightedSds, rowWeightedVars\n",
      "\n",
      "\n",
      "Loading required package: Biobase\n",
      "\n",
      "Welcome to Bioconductor\n",
      "\n",
      "    Vignettes contain introductory material; view with\n",
      "    'browseVignettes()'. To cite Bioconductor, see\n",
      "    'citation(\"Biobase\")', and for packages 'citation(\"pkgname\")'.\n",
      "\n",
      "\n",
      "\n",
      "Attaching package: ‘Biobase’\n",
      "\n",
      "\n",
      "The following object is masked from ‘package:MatrixGenerics’:\n",
      "\n",
      "    rowMedians\n",
      "\n",
      "\n",
      "The following objects are masked from ‘package:matrixStats’:\n",
      "\n",
      "    anyMissing, rowMedians\n",
      "\n",
      "\n",
      "\n",
      "Attaching package: ‘SummarizedExperiment’\n",
      "\n",
      "\n",
      "The following object is masked from ‘package:Seurat’:\n",
      "\n",
      "    Assays\n",
      "\n",
      "\n",
      "The following object is masked from ‘package:SeuratObject’:\n",
      "\n",
      "    Assays\n",
      "\n",
      "\n",
      "Registered S3 method overwritten by 'EnvStats':\n",
      "  method         from\n",
      "  print.estimate lava\n",
      "\n"
     ]
    }
   ],
   "source": [
    "source('MS0_Libraries.r')"
   ]
  },
  {
   "cell_type": "code",
   "execution_count": 3,
   "id": "45fcc655-2176-406c-9f49-5e5b9379a275",
   "metadata": {
    "tags": []
   },
   "outputs": [
    {
     "name": "stderr",
     "output_type": "stream",
     "text": [
      "Warning message:\n",
      "“\u001b[1m\u001b[22mThe `size` argument of `element_line()` is deprecated as of ggplot2 3.4.0.\n",
      "\u001b[36mℹ\u001b[39m Please use the `linewidth` argument instead.”\n"
     ]
    }
   ],
   "source": [
    "source('MS2_Plot_Config.r')"
   ]
  },
  {
   "cell_type": "code",
   "execution_count": 4,
   "id": "a05c2a3f-a558-4041-9545-16235c26f5bf",
   "metadata": {},
   "outputs": [],
   "source": [
    "source('MS1_Functions.r')"
   ]
  },
  {
   "cell_type": "markdown",
   "id": "9d409d14-a693-4722-9648-4b6bacb4b74a",
   "metadata": {
    "tags": []
   },
   "source": [
    "###############################################\n",
    "# Preqrequisites Configurations & Parameters"
   ]
  },
  {
   "cell_type": "code",
   "execution_count": 5,
   "id": "fe484df0-16ac-4a91-91b9-dc344c1faadf",
   "metadata": {},
   "outputs": [],
   "source": [
    "### Load the parameters that are set via the configuration files"
   ]
  },
  {
   "cell_type": "code",
   "execution_count": 6,
   "id": "f55f2253-428c-4269-b1c8-0715c99c45d6",
   "metadata": {},
   "outputs": [
    {
     "name": "stderr",
     "output_type": "stream",
     "text": [
      "Warning message in read.table(file = file, header = header, sep = sep, quote = quote, :\n",
      "“incomplete final line found by readTableHeader on 'configurations/Data_Configs.csv'”\n"
     ]
    }
   ],
   "source": [
    "### Load configurations file\n",
    "global_configs = read.csv('configurations/Data_Configs.csv', sep = ',')"
   ]
  },
  {
   "cell_type": "code",
   "execution_count": 7,
   "id": "2bf16272-76e3-46f3-8548-620040ead08e",
   "metadata": {},
   "outputs": [
    {
     "data": {
      "text/html": [
       "<table class=\"dataframe\">\n",
       "<caption>A data.frame: 2 × 2</caption>\n",
       "<thead>\n",
       "\t<tr><th></th><th scope=col>parameter</th><th scope=col>value</th></tr>\n",
       "\t<tr><th></th><th scope=col>&lt;chr&gt;</th><th scope=col>&lt;chr&gt;</th></tr>\n",
       "</thead>\n",
       "<tbody>\n",
       "\t<tr><th scope=row>1</th><td>data_path  </td><td>/lustre/groups/epigenereg01/workspace/projects/jove/input_data/</td></tr>\n",
       "\t<tr><th scope=row>2</th><td>result_path</td><td>/lustre/groups/epigenereg01/workspace/projects/jove/results/   </td></tr>\n",
       "</tbody>\n",
       "</table>\n"
      ],
      "text/latex": [
       "A data.frame: 2 × 2\n",
       "\\begin{tabular}{r|ll}\n",
       "  & parameter & value\\\\\n",
       "  & <chr> & <chr>\\\\\n",
       "\\hline\n",
       "\t1 & data\\_path   & /lustre/groups/epigenereg01/workspace/projects/jove/input\\_data/\\\\\n",
       "\t2 & result\\_path & /lustre/groups/epigenereg01/workspace/projects/jove/results/   \\\\\n",
       "\\end{tabular}\n"
      ],
      "text/markdown": [
       "\n",
       "A data.frame: 2 × 2\n",
       "\n",
       "| <!--/--> | parameter &lt;chr&gt; | value &lt;chr&gt; |\n",
       "|---|---|---|\n",
       "| 1 | data_path   | /lustre/groups/epigenereg01/workspace/projects/jove/input_data/ |\n",
       "| 2 | result_path | /lustre/groups/epigenereg01/workspace/projects/jove/results/    |\n",
       "\n"
      ],
      "text/plain": [
       "  parameter   value                                                          \n",
       "1 data_path   /lustre/groups/epigenereg01/workspace/projects/jove/input_data/\n",
       "2 result_path /lustre/groups/epigenereg01/workspace/projects/jove/results/   "
      ]
     },
     "metadata": {},
     "output_type": "display_data"
    }
   ],
   "source": [
    "head(global_configs,2)"
   ]
  },
  {
   "cell_type": "code",
   "execution_count": 8,
   "id": "12f3555a-20da-4c71-9403-a36eaad37b1a",
   "metadata": {},
   "outputs": [],
   "source": [
    "data_path = global_configs$value[global_configs$parameter == 'data_path']"
   ]
  },
  {
   "cell_type": "code",
   "execution_count": 9,
   "id": "c6cdf9b4-f0da-459b-9570-8b3f67897db2",
   "metadata": {},
   "outputs": [
    {
     "data": {
      "text/html": [
       "'/lustre/groups/epigenereg01/workspace/projects/jove/input_data/'"
      ],
      "text/latex": [
       "'/lustre/groups/epigenereg01/workspace/projects/jove/input\\_data/'"
      ],
      "text/markdown": [
       "'/lustre/groups/epigenereg01/workspace/projects/jove/input_data/'"
      ],
      "text/plain": [
       "[1] \"/lustre/groups/epigenereg01/workspace/projects/jove/input_data/\""
      ]
     },
     "metadata": {},
     "output_type": "display_data"
    }
   ],
   "source": [
    "data_path"
   ]
  },
  {
   "cell_type": "code",
   "execution_count": 10,
   "id": "05eb79fc-0f87-4018-a9fc-a9f0ec1184db",
   "metadata": {},
   "outputs": [],
   "source": [
    "result_path = global_configs$value[global_configs$parameter == 'result_path']"
   ]
  },
  {
   "cell_type": "code",
   "execution_count": 11,
   "id": "7b6ac165-7d07-45a4-a7cf-3b2a5f2b37d0",
   "metadata": {},
   "outputs": [
    {
     "data": {
      "text/html": [
       "'/lustre/groups/epigenereg01/workspace/projects/jove/results/'"
      ],
      "text/latex": [
       "'/lustre/groups/epigenereg01/workspace/projects/jove/results/'"
      ],
      "text/markdown": [
       "'/lustre/groups/epigenereg01/workspace/projects/jove/results/'"
      ],
      "text/plain": [
       "[1] \"/lustre/groups/epigenereg01/workspace/projects/jove/results/\""
      ]
     },
     "metadata": {},
     "output_type": "display_data"
    }
   ],
   "source": [
    "result_path"
   ]
  },
  {
   "cell_type": "code",
   "execution_count": 12,
   "id": "59c95e0a-159f-45e4-aa0b-a09054b0ed61",
   "metadata": {},
   "outputs": [],
   "source": [
    "### Configuration parameters for plot (read and assign)"
   ]
  },
  {
   "cell_type": "code",
   "execution_count": 13,
   "id": "6a30635b-0511-427b-b282-da4931cce0a7",
   "metadata": {},
   "outputs": [
    {
     "name": "stderr",
     "output_type": "stream",
     "text": [
      "Warning message in read.table(file = file, header = header, sep = sep, quote = quote, :\n",
      "“incomplete final line found by readTableHeader on 'configurations/05_Feature_Analysis_Configs.csv'”\n"
     ]
    }
   ],
   "source": [
    "plot_configs =  read.csv('configurations/05_Feature_Analysis_Configs.csv', sep = ',')"
   ]
  },
  {
   "cell_type": "code",
   "execution_count": 14,
   "id": "499d88df-6bb7-4d0c-bd40-a412eb7da8ad",
   "metadata": {},
   "outputs": [
    {
     "data": {
      "text/html": [
       "<table class=\"dataframe\">\n",
       "<caption>A data.frame: 1 × 8</caption>\n",
       "<thead>\n",
       "\t<tr><th></th><th scope=col>configuration_name</th><th scope=col>mofa_result_name</th><th scope=col>factor</th><th scope=col>top_variable_thres</th><th scope=col>faceting_variable</th><th scope=col>type</th><th scope=col>plot_width</th><th scope=col>plot_height</th></tr>\n",
       "\t<tr><th></th><th scope=col>&lt;chr&gt;</th><th scope=col>&lt;chr&gt;</th><th scope=col>&lt;chr&gt;</th><th scope=col>&lt;dbl&gt;</th><th scope=col>&lt;chr&gt;</th><th scope=col>&lt;chr&gt;</th><th scope=col>&lt;dbl&gt;</th><th scope=col>&lt;int&gt;</th></tr>\n",
       "</thead>\n",
       "<tbody>\n",
       "\t<tr><th scope=row>1</th><td>MI_v1</td><td>MI_v1_MOFA</td><td>Factor2</td><td>0.005</td><td>measurement</td><td>CD4.TCM</td><td>8.07</td><td>5</td></tr>\n",
       "</tbody>\n",
       "</table>\n"
      ],
      "text/latex": [
       "A data.frame: 1 × 8\n",
       "\\begin{tabular}{r|llllllll}\n",
       "  & configuration\\_name & mofa\\_result\\_name & factor & top\\_variable\\_thres & faceting\\_variable & type & plot\\_width & plot\\_height\\\\\n",
       "  & <chr> & <chr> & <chr> & <dbl> & <chr> & <chr> & <dbl> & <int>\\\\\n",
       "\\hline\n",
       "\t1 & MI\\_v1 & MI\\_v1\\_MOFA & Factor2 & 0.005 & measurement & CD4.TCM & 8.07 & 5\\\\\n",
       "\\end{tabular}\n"
      ],
      "text/markdown": [
       "\n",
       "A data.frame: 1 × 8\n",
       "\n",
       "| <!--/--> | configuration_name &lt;chr&gt; | mofa_result_name &lt;chr&gt; | factor &lt;chr&gt; | top_variable_thres &lt;dbl&gt; | faceting_variable &lt;chr&gt; | type &lt;chr&gt; | plot_width &lt;dbl&gt; | plot_height &lt;int&gt; |\n",
       "|---|---|---|---|---|---|---|---|---|\n",
       "| 1 | MI_v1 | MI_v1_MOFA | Factor2 | 0.005 | measurement | CD4.TCM | 8.07 | 5 |\n",
       "\n"
      ],
      "text/plain": [
       "  configuration_name mofa_result_name factor  top_variable_thres\n",
       "1 MI_v1              MI_v1_MOFA       Factor2 0.005             \n",
       "  faceting_variable type    plot_width plot_height\n",
       "1 measurement       CD4.TCM 8.07       5          "
      ]
     },
     "metadata": {},
     "output_type": "display_data"
    }
   ],
   "source": [
    "head(plot_configs,2)"
   ]
  },
  {
   "cell_type": "code",
   "execution_count": 15,
   "id": "5641ac5f-dd93-450a-8277-333e45cadbc7",
   "metadata": {},
   "outputs": [],
   "source": [
    "## Assign the values from the configuration file to the corresponding variables"
   ]
  },
  {
   "cell_type": "code",
   "execution_count": 16,
   "id": "5a107de8-2e91-425c-ba4b-d4da7c8eeb17",
   "metadata": {},
   "outputs": [],
   "source": [
    "mofa_name = plot_configs$mofa_result_name\n",
    "data_name = plot_configs$configuration_name\n",
    "\n",
    "factor_var = plot_configs$factor\n",
    "top_variable_fraction = plot_configs$top_variable_thres\n",
    "variable = plot_configs$faceting_variable\n",
    "\n",
    "view_var = plot_configs$type"
   ]
  },
  {
   "cell_type": "code",
   "execution_count": 17,
   "id": "2d6f0bd0-0ce8-4402-b596-f0b98ba1b49a",
   "metadata": {},
   "outputs": [],
   "source": [
    "## Extract the specified plot size\n",
    "width_par = plot_configs$plot_width  # 8.07 default\n",
    "height_par = plot_configs$plot_height"
   ]
  },
  {
   "cell_type": "code",
   "execution_count": 18,
   "id": "5011d4f0-0826-48ba-a8e6-f13a9a7f58a0",
   "metadata": {},
   "outputs": [],
   "source": [
    "### Alternative: Set configurations manually "
   ]
  },
  {
   "cell_type": "markdown",
   "id": "43e2937f-4e6d-4e90-99f2-2f7c370f9639",
   "metadata": {
    "tags": []
   },
   "source": [
    "# Load Data "
   ]
  },
  {
   "cell_type": "markdown",
   "id": "3106ef73-2d6d-4cef-a254-566960bf20cb",
   "metadata": {},
   "source": [
    "## MOFA Input"
   ]
  },
  {
   "cell_type": "code",
   "execution_count": 19,
   "id": "497ae62c-02f6-4a34-9c6c-b448cda514d7",
   "metadata": {},
   "outputs": [],
   "source": [
    "### Load the normalized expression data that was used as input for the MOFA model"
   ]
  },
  {
   "cell_type": "code",
   "execution_count": 20,
   "id": "5bf43a41-7bcc-4c89-98d3-e839ce503aa7",
   "metadata": {},
   "outputs": [
    {
     "name": "stdout",
     "output_type": "stream",
     "text": [
      "[1] \"2023-12-20 22:19:38 CET\"\n"
     ]
    }
   ],
   "source": [
    "path = paste0(result_path, '/02_results/02_Combined_Data_',data_name,'_INTEGRATED.csv')\n",
    "data_long = read.csv(path)\n",
    "data_long$X = NULL\n",
    "print(file.info(path)$mtime)"
   ]
  },
  {
   "cell_type": "code",
   "execution_count": 21,
   "id": "ff418436-5b9d-41df-9ea3-1b90504b7e31",
   "metadata": {},
   "outputs": [
    {
     "data": {
      "text/html": [
       "<table class=\"dataframe\">\n",
       "<caption>A data.frame: 2 × 5</caption>\n",
       "<thead>\n",
       "\t<tr><th></th><th scope=col>sample_id</th><th scope=col>variable</th><th scope=col>value</th><th scope=col>type</th><th scope=col>gene</th></tr>\n",
       "\t<tr><th></th><th scope=col>&lt;chr&gt;</th><th scope=col>&lt;chr&gt;</th><th scope=col>&lt;dbl&gt;</th><th scope=col>&lt;chr&gt;</th><th scope=col>&lt;chr&gt;</th></tr>\n",
       "</thead>\n",
       "<tbody>\n",
       "\t<tr><th scope=row>1</th><td>k10</td><td>B.cell__ACTB</td><td> 0.4307273</td><td>B.cell</td><td>ACTB</td></tr>\n",
       "\t<tr><th scope=row>2</th><td>k11</td><td>B.cell__ACTB</td><td>-0.7009514</td><td>B.cell</td><td>ACTB</td></tr>\n",
       "</tbody>\n",
       "</table>\n"
      ],
      "text/latex": [
       "A data.frame: 2 × 5\n",
       "\\begin{tabular}{r|lllll}\n",
       "  & sample\\_id & variable & value & type & gene\\\\\n",
       "  & <chr> & <chr> & <dbl> & <chr> & <chr>\\\\\n",
       "\\hline\n",
       "\t1 & k10 & B.cell\\_\\_ACTB &  0.4307273 & B.cell & ACTB\\\\\n",
       "\t2 & k11 & B.cell\\_\\_ACTB & -0.7009514 & B.cell & ACTB\\\\\n",
       "\\end{tabular}\n"
      ],
      "text/markdown": [
       "\n",
       "A data.frame: 2 × 5\n",
       "\n",
       "| <!--/--> | sample_id &lt;chr&gt; | variable &lt;chr&gt; | value &lt;dbl&gt; | type &lt;chr&gt; | gene &lt;chr&gt; |\n",
       "|---|---|---|---|---|---|\n",
       "| 1 | k10 | B.cell__ACTB |  0.4307273 | B.cell | ACTB |\n",
       "| 2 | k11 | B.cell__ACTB | -0.7009514 | B.cell | ACTB |\n",
       "\n"
      ],
      "text/plain": [
       "  sample_id variable     value      type   gene\n",
       "1 k10       B.cell__ACTB  0.4307273 B.cell ACTB\n",
       "2 k11       B.cell__ACTB -0.7009514 B.cell ACTB"
      ]
     },
     "metadata": {},
     "output_type": "display_data"
    }
   ],
   "source": [
    "head(data_long,2)"
   ]
  },
  {
   "cell_type": "markdown",
   "id": "d082fa98-ad4a-46ec-90e5-2da19dd6e84a",
   "metadata": {
    "tags": []
   },
   "source": [
    "## MOFA Model"
   ]
  },
  {
   "cell_type": "code",
   "execution_count": 22,
   "id": "b38385ac-3034-4783-907c-ec9342bb423e",
   "metadata": {},
   "outputs": [],
   "source": [
    "### Load the trained MOFA Model"
   ]
  },
  {
   "cell_type": "code",
   "execution_count": 23,
   "id": "87d129f6-ffc1-40da-9e33-ab3b856a2472",
   "metadata": {},
   "outputs": [],
   "source": [
    "model_name =  paste0(\"03_MOFA_MODEL_\", mofa_name,'.hdf5')"
   ]
  },
  {
   "cell_type": "code",
   "execution_count": 24,
   "id": "d5025df8-b455-44a0-8295-28603c93e985",
   "metadata": {},
   "outputs": [],
   "source": [
    "outfile = file.path( paste0(result_path, '/03_results/',  model_name) )"
   ]
  },
  {
   "cell_type": "code",
   "execution_count": 25,
   "id": "5d926cea-2a3f-4925-9fcc-781299e37dd0",
   "metadata": {},
   "outputs": [
    {
     "data": {
      "text/html": [
       "'/lustre/groups/epigenereg01/workspace/projects/jove/results//03_results/03_MOFA_MODEL_MI_v1_MOFA.hdf5'"
      ],
      "text/latex": [
       "'/lustre/groups/epigenereg01/workspace/projects/jove/results//03\\_results/03\\_MOFA\\_MODEL\\_MI\\_v1\\_MOFA.hdf5'"
      ],
      "text/markdown": [
       "'/lustre/groups/epigenereg01/workspace/projects/jove/results//03_results/03_MOFA_MODEL_MI_v1_MOFA.hdf5'"
      ],
      "text/plain": [
       "[1] \"/lustre/groups/epigenereg01/workspace/projects/jove/results//03_results/03_MOFA_MODEL_MI_v1_MOFA.hdf5\""
      ]
     },
     "metadata": {},
     "output_type": "display_data"
    }
   ],
   "source": [
    "outfile"
   ]
  },
  {
   "cell_type": "code",
   "execution_count": 26,
   "id": "7721ff8d-4407-4a34-ba20-0b05167141aa",
   "metadata": {
    "tags": []
   },
   "outputs": [
    {
     "name": "stderr",
     "output_type": "stream",
     "text": [
      "Loading data...\n",
      "\n",
      "Loading expectations for 2 nodes...\n",
      "\n",
      "Loading model options...\n",
      "\n",
      "Loading training options and statistics...\n",
      "\n",
      "Assigning names to the different dimensions...\n",
      "\n",
      "Re-ordering factors by their variance explained...\n",
      "\n",
      "Doing quality control...\n",
      "\n",
      "Checking views names...\n",
      "\n",
      "Checking groups names...\n",
      "\n",
      "Checking samples names...\n",
      "\n",
      "Checking features names...\n",
      "\n",
      "Checking dimensions...\n",
      "\n",
      "Checking there are no features with complete missing values...\n",
      "\n",
      "Checking sample covariates...\n",
      "\n",
      "Checking expectations...\n",
      "\n",
      "Checking for intercept factors...\n",
      "\n",
      "Warning message in .quality_control(object, verbose = verbose):\n",
      "“Factor(s) 5, 9, 18 are strongly correlated with the total number of expressed features for at least one of your omics. Such factors appear when there are differences in the total 'levels' between your samples, *sometimes* because of poor normalisation in the preprocessing steps.\n",
      "”\n",
      "Checking for highly correlated factors...\n",
      "\n"
     ]
    }
   ],
   "source": [
    "model <- load_model(outfile, verbose = TRUE)"
   ]
  },
  {
   "cell_type": "code",
   "execution_count": 27,
   "id": "853447b5-1675-4adf-8eb5-357244a70bcd",
   "metadata": {},
   "outputs": [],
   "source": [
    "### Load the Factor Data of the Model"
   ]
  },
  {
   "cell_type": "code",
   "execution_count": 28,
   "id": "302aae34-1ed3-4703-adf1-8592f51f410c",
   "metadata": {},
   "outputs": [],
   "source": [
    "factors = read.csv(paste0(result_path, '/03_results/', '03_Factor_Data_', mofa_name, '.csv'))"
   ]
  },
  {
   "cell_type": "code",
   "execution_count": 29,
   "id": "3f8d1387-5b66-4185-88eb-89bc69928ca3",
   "metadata": {},
   "outputs": [
    {
     "data": {
      "text/html": [
       "<table class=\"dataframe\">\n",
       "<caption>A data.frame: 2 × 21</caption>\n",
       "<thead>\n",
       "\t<tr><th></th><th scope=col>Factor1</th><th scope=col>Factor2</th><th scope=col>Factor3</th><th scope=col>Factor4</th><th scope=col>Factor5</th><th scope=col>Factor6</th><th scope=col>Factor7</th><th scope=col>Factor8</th><th scope=col>Factor9</th><th scope=col>Factor10</th><th scope=col>⋯</th><th scope=col>Factor12</th><th scope=col>Factor13</th><th scope=col>Factor14</th><th scope=col>Factor15</th><th scope=col>Factor16</th><th scope=col>Factor17</th><th scope=col>Factor18</th><th scope=col>Factor19</th><th scope=col>Factor20</th><th scope=col>sample_id</th></tr>\n",
       "\t<tr><th></th><th scope=col>&lt;dbl&gt;</th><th scope=col>&lt;dbl&gt;</th><th scope=col>&lt;dbl&gt;</th><th scope=col>&lt;dbl&gt;</th><th scope=col>&lt;dbl&gt;</th><th scope=col>&lt;dbl&gt;</th><th scope=col>&lt;dbl&gt;</th><th scope=col>&lt;dbl&gt;</th><th scope=col>&lt;dbl&gt;</th><th scope=col>&lt;dbl&gt;</th><th scope=col>⋯</th><th scope=col>&lt;dbl&gt;</th><th scope=col>&lt;dbl&gt;</th><th scope=col>&lt;dbl&gt;</th><th scope=col>&lt;dbl&gt;</th><th scope=col>&lt;dbl&gt;</th><th scope=col>&lt;dbl&gt;</th><th scope=col>&lt;dbl&gt;</th><th scope=col>&lt;dbl&gt;</th><th scope=col>&lt;dbl&gt;</th><th scope=col>&lt;chr&gt;</th></tr>\n",
       "</thead>\n",
       "<tbody>\n",
       "\t<tr><th scope=row>1</th><td>0.1201561</td><td>-1.6391856</td><td>-0.4479716</td><td>0.6821012</td><td> 2.02569211</td><td>1.125137</td><td>0.2297734</td><td>-0.1414955</td><td> 1.8673081</td><td>-0.1146884</td><td>⋯</td><td>-0.5759286</td><td>0.04916295</td><td>-0.2147718</td><td>0.06947807</td><td>0.11059354</td><td> 0.3949888</td><td>-0.029702059</td><td>0.9720044</td><td>-0.25919841</td><td>k1 </td></tr>\n",
       "\t<tr><th scope=row>2</th><td>0.6551561</td><td>-0.9849971</td><td> 0.3236092</td><td>0.2551028</td><td>-0.09817868</td><td>0.653027</td><td>0.2648814</td><td>-1.3251484</td><td>-0.1440528</td><td> 0.3070476</td><td>⋯</td><td>-0.5571489</td><td>0.17017130</td><td>-0.2884835</td><td>0.13961347</td><td>0.04162613</td><td>-0.2465334</td><td> 0.002811495</td><td>0.1450809</td><td>-0.05609239</td><td>k10</td></tr>\n",
       "</tbody>\n",
       "</table>\n"
      ],
      "text/latex": [
       "A data.frame: 2 × 21\n",
       "\\begin{tabular}{r|lllllllllllllllllllll}\n",
       "  & Factor1 & Factor2 & Factor3 & Factor4 & Factor5 & Factor6 & Factor7 & Factor8 & Factor9 & Factor10 & ⋯ & Factor12 & Factor13 & Factor14 & Factor15 & Factor16 & Factor17 & Factor18 & Factor19 & Factor20 & sample\\_id\\\\\n",
       "  & <dbl> & <dbl> & <dbl> & <dbl> & <dbl> & <dbl> & <dbl> & <dbl> & <dbl> & <dbl> & ⋯ & <dbl> & <dbl> & <dbl> & <dbl> & <dbl> & <dbl> & <dbl> & <dbl> & <dbl> & <chr>\\\\\n",
       "\\hline\n",
       "\t1 & 0.1201561 & -1.6391856 & -0.4479716 & 0.6821012 &  2.02569211 & 1.125137 & 0.2297734 & -0.1414955 &  1.8673081 & -0.1146884 & ⋯ & -0.5759286 & 0.04916295 & -0.2147718 & 0.06947807 & 0.11059354 &  0.3949888 & -0.029702059 & 0.9720044 & -0.25919841 & k1 \\\\\n",
       "\t2 & 0.6551561 & -0.9849971 &  0.3236092 & 0.2551028 & -0.09817868 & 0.653027 & 0.2648814 & -1.3251484 & -0.1440528 &  0.3070476 & ⋯ & -0.5571489 & 0.17017130 & -0.2884835 & 0.13961347 & 0.04162613 & -0.2465334 &  0.002811495 & 0.1450809 & -0.05609239 & k10\\\\\n",
       "\\end{tabular}\n"
      ],
      "text/markdown": [
       "\n",
       "A data.frame: 2 × 21\n",
       "\n",
       "| <!--/--> | Factor1 &lt;dbl&gt; | Factor2 &lt;dbl&gt; | Factor3 &lt;dbl&gt; | Factor4 &lt;dbl&gt; | Factor5 &lt;dbl&gt; | Factor6 &lt;dbl&gt; | Factor7 &lt;dbl&gt; | Factor8 &lt;dbl&gt; | Factor9 &lt;dbl&gt; | Factor10 &lt;dbl&gt; | ⋯ ⋯ | Factor12 &lt;dbl&gt; | Factor13 &lt;dbl&gt; | Factor14 &lt;dbl&gt; | Factor15 &lt;dbl&gt; | Factor16 &lt;dbl&gt; | Factor17 &lt;dbl&gt; | Factor18 &lt;dbl&gt; | Factor19 &lt;dbl&gt; | Factor20 &lt;dbl&gt; | sample_id &lt;chr&gt; |\n",
       "|---|---|---|---|---|---|---|---|---|---|---|---|---|---|---|---|---|---|---|---|---|---|\n",
       "| 1 | 0.1201561 | -1.6391856 | -0.4479716 | 0.6821012 |  2.02569211 | 1.125137 | 0.2297734 | -0.1414955 |  1.8673081 | -0.1146884 | ⋯ | -0.5759286 | 0.04916295 | -0.2147718 | 0.06947807 | 0.11059354 |  0.3949888 | -0.029702059 | 0.9720044 | -0.25919841 | k1  |\n",
       "| 2 | 0.6551561 | -0.9849971 |  0.3236092 | 0.2551028 | -0.09817868 | 0.653027 | 0.2648814 | -1.3251484 | -0.1440528 |  0.3070476 | ⋯ | -0.5571489 | 0.17017130 | -0.2884835 | 0.13961347 | 0.04162613 | -0.2465334 |  0.002811495 | 0.1450809 | -0.05609239 | k10 |\n",
       "\n"
      ],
      "text/plain": [
       "  Factor1   Factor2    Factor3    Factor4   Factor5     Factor6  Factor7  \n",
       "1 0.1201561 -1.6391856 -0.4479716 0.6821012  2.02569211 1.125137 0.2297734\n",
       "2 0.6551561 -0.9849971  0.3236092 0.2551028 -0.09817868 0.653027 0.2648814\n",
       "  Factor8    Factor9    Factor10   ⋯ Factor12   Factor13   Factor14  \n",
       "1 -0.1414955  1.8673081 -0.1146884 ⋯ -0.5759286 0.04916295 -0.2147718\n",
       "2 -1.3251484 -0.1440528  0.3070476 ⋯ -0.5571489 0.17017130 -0.2884835\n",
       "  Factor15   Factor16   Factor17   Factor18     Factor19  Factor20    sample_id\n",
       "1 0.06947807 0.11059354  0.3949888 -0.029702059 0.9720044 -0.25919841 k1       \n",
       "2 0.13961347 0.04162613 -0.2465334  0.002811495 0.1450809 -0.05609239 k10      "
      ]
     },
     "metadata": {},
     "output_type": "display_data"
    }
   ],
   "source": [
    "head(factors,2)"
   ]
  },
  {
   "cell_type": "code",
   "execution_count": 30,
   "id": "a209d2e2-5900-4b1d-8171-dd30ddb6f9d3",
   "metadata": {},
   "outputs": [],
   "source": [
    "### Load the Weight Data of the Model"
   ]
  },
  {
   "cell_type": "code",
   "execution_count": 31,
   "id": "87c2797a-05a9-4fd7-95c5-c83cdd94b09b",
   "metadata": {},
   "outputs": [],
   "source": [
    "weight_data = read.csv(paste0(result_path, '/03_results/', '03_Weight_Data_', mofa_name, '.csv'))"
   ]
  },
  {
   "cell_type": "markdown",
   "id": "d76baf68-703a-40b2-8c70-bd80a5fdae6f",
   "metadata": {
    "tags": []
   },
   "source": [
    "## Sample Meta Data"
   ]
  },
  {
   "cell_type": "code",
   "execution_count": 32,
   "id": "48d3449a-6905-493e-ba61-6c442c5b910a",
   "metadata": {},
   "outputs": [],
   "source": [
    "## Load the sample meta-data that contains covariates that can be used to group the plot"
   ]
  },
  {
   "cell_type": "code",
   "execution_count": 33,
   "id": "efee04bb-6a8f-420e-a9ac-9cefb951d95b",
   "metadata": {},
   "outputs": [],
   "source": [
    "sample_data = read.csv(paste0(data_path, 'Prepared_Sample_Meta_Data', '.csv'))\n",
    "sample_data$X = NULL"
   ]
  },
  {
   "cell_type": "code",
   "execution_count": 34,
   "id": "9b2f011e-cfc2-4fde-9816-c6aefb52d399",
   "metadata": {},
   "outputs": [
    {
     "data": {
      "text/html": [
       "<table class=\"dataframe\">\n",
       "<caption>A data.frame: 2 × 9</caption>\n",
       "<thead>\n",
       "\t<tr><th></th><th scope=col>sample_id</th><th scope=col>measurement</th><th scope=col>classification</th><th scope=col>delta_ef_value</th><th scope=col>delta_ef_value_class</th><th scope=col>CK</th><th scope=col>CRP</th><th scope=col>tp_outcome</th><th scope=col>sc_counts</th></tr>\n",
       "\t<tr><th></th><th scope=col>&lt;chr&gt;</th><th scope=col>&lt;chr&gt;</th><th scope=col>&lt;chr&gt;</th><th scope=col>&lt;dbl&gt;</th><th scope=col>&lt;chr&gt;</th><th scope=col>&lt;int&gt;</th><th scope=col>&lt;dbl&gt;</th><th scope=col>&lt;chr&gt;</th><th scope=col>&lt;int&gt;</th></tr>\n",
       "</thead>\n",
       "<tbody>\n",
       "\t<tr><th scope=row>1</th><td>k1 </td><td>Control</td><td>healthy                </td><td>NA</td><td>NA</td><td>43</td><td>0.4</td><td>NA</td><td>     NA</td></tr>\n",
       "\t<tr><th scope=row>2</th><td>k10</td><td>Control</td><td>coronary_vessel_disease</td><td>NA</td><td>NA</td><td>NA</td><td>0.2</td><td>NA</td><td>3648632</td></tr>\n",
       "</tbody>\n",
       "</table>\n"
      ],
      "text/latex": [
       "A data.frame: 2 × 9\n",
       "\\begin{tabular}{r|lllllllll}\n",
       "  & sample\\_id & measurement & classification & delta\\_ef\\_value & delta\\_ef\\_value\\_class & CK & CRP & tp\\_outcome & sc\\_counts\\\\\n",
       "  & <chr> & <chr> & <chr> & <dbl> & <chr> & <int> & <dbl> & <chr> & <int>\\\\\n",
       "\\hline\n",
       "\t1 & k1  & Control & healthy                 & NA & NA & 43 & 0.4 & NA &      NA\\\\\n",
       "\t2 & k10 & Control & coronary\\_vessel\\_disease & NA & NA & NA & 0.2 & NA & 3648632\\\\\n",
       "\\end{tabular}\n"
      ],
      "text/markdown": [
       "\n",
       "A data.frame: 2 × 9\n",
       "\n",
       "| <!--/--> | sample_id &lt;chr&gt; | measurement &lt;chr&gt; | classification &lt;chr&gt; | delta_ef_value &lt;dbl&gt; | delta_ef_value_class &lt;chr&gt; | CK &lt;int&gt; | CRP &lt;dbl&gt; | tp_outcome &lt;chr&gt; | sc_counts &lt;int&gt; |\n",
       "|---|---|---|---|---|---|---|---|---|---|\n",
       "| 1 | k1  | Control | healthy                 | NA | NA | 43 | 0.4 | NA |      NA |\n",
       "| 2 | k10 | Control | coronary_vessel_disease | NA | NA | NA | 0.2 | NA | 3648632 |\n",
       "\n"
      ],
      "text/plain": [
       "  sample_id measurement classification          delta_ef_value\n",
       "1 k1        Control     healthy                 NA            \n",
       "2 k10       Control     coronary_vessel_disease NA            \n",
       "  delta_ef_value_class CK CRP tp_outcome sc_counts\n",
       "1 NA                   43 0.4 NA              NA  \n",
       "2 NA                   NA 0.2 NA         3648632  "
      ]
     },
     "metadata": {},
     "output_type": "display_data"
    }
   ],
   "source": [
    "head(sample_data,2)"
   ]
  },
  {
   "cell_type": "markdown",
   "id": "1385d8a3-c030-45e4-92d6-7e71e9450bb6",
   "metadata": {
    "tags": []
   },
   "source": [
    "# Downstream Analysis of generated model"
   ]
  },
  {
   "cell_type": "markdown",
   "id": "52ab1ab6-98fc-4b63-9971-67c781b98e11",
   "metadata": {
    "tags": []
   },
   "source": [
    "## Extract and prepare data for plots"
   ]
  },
  {
   "cell_type": "markdown",
   "id": "63bb29c6-9f50-46a8-bcf2-ef8781fb8bac",
   "metadata": {
    "tags": []
   },
   "source": [
    "### Merge factors and sample data"
   ]
  },
  {
   "cell_type": "code",
   "execution_count": 35,
   "id": "09c08884-2568-4caf-80e1-fa19bfc518f6",
   "metadata": {},
   "outputs": [],
   "source": [
    "### Combine the factor and the sample data"
   ]
  },
  {
   "cell_type": "code",
   "execution_count": 36,
   "id": "e2ca7f5a-6ed7-4424-9b9c-21b998dd9a2f",
   "metadata": {},
   "outputs": [
    {
     "data": {
      "text/html": [
       "<table class=\"dataframe\">\n",
       "<caption>A data.frame: 2 × 21</caption>\n",
       "<thead>\n",
       "\t<tr><th></th><th scope=col>Factor1</th><th scope=col>Factor2</th><th scope=col>Factor3</th><th scope=col>Factor4</th><th scope=col>Factor5</th><th scope=col>Factor6</th><th scope=col>Factor7</th><th scope=col>Factor8</th><th scope=col>Factor9</th><th scope=col>Factor10</th><th scope=col>⋯</th><th scope=col>Factor12</th><th scope=col>Factor13</th><th scope=col>Factor14</th><th scope=col>Factor15</th><th scope=col>Factor16</th><th scope=col>Factor17</th><th scope=col>Factor18</th><th scope=col>Factor19</th><th scope=col>Factor20</th><th scope=col>sample_id</th></tr>\n",
       "\t<tr><th></th><th scope=col>&lt;dbl&gt;</th><th scope=col>&lt;dbl&gt;</th><th scope=col>&lt;dbl&gt;</th><th scope=col>&lt;dbl&gt;</th><th scope=col>&lt;dbl&gt;</th><th scope=col>&lt;dbl&gt;</th><th scope=col>&lt;dbl&gt;</th><th scope=col>&lt;dbl&gt;</th><th scope=col>&lt;dbl&gt;</th><th scope=col>&lt;dbl&gt;</th><th scope=col>⋯</th><th scope=col>&lt;dbl&gt;</th><th scope=col>&lt;dbl&gt;</th><th scope=col>&lt;dbl&gt;</th><th scope=col>&lt;dbl&gt;</th><th scope=col>&lt;dbl&gt;</th><th scope=col>&lt;dbl&gt;</th><th scope=col>&lt;dbl&gt;</th><th scope=col>&lt;dbl&gt;</th><th scope=col>&lt;dbl&gt;</th><th scope=col>&lt;chr&gt;</th></tr>\n",
       "</thead>\n",
       "<tbody>\n",
       "\t<tr><th scope=row>1</th><td>0.1201561</td><td>-1.6391856</td><td>-0.4479716</td><td>0.6821012</td><td> 2.02569211</td><td>1.125137</td><td>0.2297734</td><td>-0.1414955</td><td> 1.8673081</td><td>-0.1146884</td><td>⋯</td><td>-0.5759286</td><td>0.04916295</td><td>-0.2147718</td><td>0.06947807</td><td>0.11059354</td><td> 0.3949888</td><td>-0.029702059</td><td>0.9720044</td><td>-0.25919841</td><td>k1 </td></tr>\n",
       "\t<tr><th scope=row>2</th><td>0.6551561</td><td>-0.9849971</td><td> 0.3236092</td><td>0.2551028</td><td>-0.09817868</td><td>0.653027</td><td>0.2648814</td><td>-1.3251484</td><td>-0.1440528</td><td> 0.3070476</td><td>⋯</td><td>-0.5571489</td><td>0.17017130</td><td>-0.2884835</td><td>0.13961347</td><td>0.04162613</td><td>-0.2465334</td><td> 0.002811495</td><td>0.1450809</td><td>-0.05609239</td><td>k10</td></tr>\n",
       "</tbody>\n",
       "</table>\n"
      ],
      "text/latex": [
       "A data.frame: 2 × 21\n",
       "\\begin{tabular}{r|lllllllllllllllllllll}\n",
       "  & Factor1 & Factor2 & Factor3 & Factor4 & Factor5 & Factor6 & Factor7 & Factor8 & Factor9 & Factor10 & ⋯ & Factor12 & Factor13 & Factor14 & Factor15 & Factor16 & Factor17 & Factor18 & Factor19 & Factor20 & sample\\_id\\\\\n",
       "  & <dbl> & <dbl> & <dbl> & <dbl> & <dbl> & <dbl> & <dbl> & <dbl> & <dbl> & <dbl> & ⋯ & <dbl> & <dbl> & <dbl> & <dbl> & <dbl> & <dbl> & <dbl> & <dbl> & <dbl> & <chr>\\\\\n",
       "\\hline\n",
       "\t1 & 0.1201561 & -1.6391856 & -0.4479716 & 0.6821012 &  2.02569211 & 1.125137 & 0.2297734 & -0.1414955 &  1.8673081 & -0.1146884 & ⋯ & -0.5759286 & 0.04916295 & -0.2147718 & 0.06947807 & 0.11059354 &  0.3949888 & -0.029702059 & 0.9720044 & -0.25919841 & k1 \\\\\n",
       "\t2 & 0.6551561 & -0.9849971 &  0.3236092 & 0.2551028 & -0.09817868 & 0.653027 & 0.2648814 & -1.3251484 & -0.1440528 &  0.3070476 & ⋯ & -0.5571489 & 0.17017130 & -0.2884835 & 0.13961347 & 0.04162613 & -0.2465334 &  0.002811495 & 0.1450809 & -0.05609239 & k10\\\\\n",
       "\\end{tabular}\n"
      ],
      "text/markdown": [
       "\n",
       "A data.frame: 2 × 21\n",
       "\n",
       "| <!--/--> | Factor1 &lt;dbl&gt; | Factor2 &lt;dbl&gt; | Factor3 &lt;dbl&gt; | Factor4 &lt;dbl&gt; | Factor5 &lt;dbl&gt; | Factor6 &lt;dbl&gt; | Factor7 &lt;dbl&gt; | Factor8 &lt;dbl&gt; | Factor9 &lt;dbl&gt; | Factor10 &lt;dbl&gt; | ⋯ ⋯ | Factor12 &lt;dbl&gt; | Factor13 &lt;dbl&gt; | Factor14 &lt;dbl&gt; | Factor15 &lt;dbl&gt; | Factor16 &lt;dbl&gt; | Factor17 &lt;dbl&gt; | Factor18 &lt;dbl&gt; | Factor19 &lt;dbl&gt; | Factor20 &lt;dbl&gt; | sample_id &lt;chr&gt; |\n",
       "|---|---|---|---|---|---|---|---|---|---|---|---|---|---|---|---|---|---|---|---|---|---|\n",
       "| 1 | 0.1201561 | -1.6391856 | -0.4479716 | 0.6821012 |  2.02569211 | 1.125137 | 0.2297734 | -0.1414955 |  1.8673081 | -0.1146884 | ⋯ | -0.5759286 | 0.04916295 | -0.2147718 | 0.06947807 | 0.11059354 |  0.3949888 | -0.029702059 | 0.9720044 | -0.25919841 | k1  |\n",
       "| 2 | 0.6551561 | -0.9849971 |  0.3236092 | 0.2551028 | -0.09817868 | 0.653027 | 0.2648814 | -1.3251484 | -0.1440528 |  0.3070476 | ⋯ | -0.5571489 | 0.17017130 | -0.2884835 | 0.13961347 | 0.04162613 | -0.2465334 |  0.002811495 | 0.1450809 | -0.05609239 | k10 |\n",
       "\n"
      ],
      "text/plain": [
       "  Factor1   Factor2    Factor3    Factor4   Factor5     Factor6  Factor7  \n",
       "1 0.1201561 -1.6391856 -0.4479716 0.6821012  2.02569211 1.125137 0.2297734\n",
       "2 0.6551561 -0.9849971  0.3236092 0.2551028 -0.09817868 0.653027 0.2648814\n",
       "  Factor8    Factor9    Factor10   ⋯ Factor12   Factor13   Factor14  \n",
       "1 -0.1414955  1.8673081 -0.1146884 ⋯ -0.5759286 0.04916295 -0.2147718\n",
       "2 -1.3251484 -0.1440528  0.3070476 ⋯ -0.5571489 0.17017130 -0.2884835\n",
       "  Factor15   Factor16   Factor17   Factor18     Factor19  Factor20    sample_id\n",
       "1 0.06947807 0.11059354  0.3949888 -0.029702059 0.9720044 -0.25919841 k1       \n",
       "2 0.13961347 0.04162613 -0.2465334  0.002811495 0.1450809 -0.05609239 k10      "
      ]
     },
     "metadata": {},
     "output_type": "display_data"
    }
   ],
   "source": [
    "head(factors,2)"
   ]
  },
  {
   "cell_type": "code",
   "execution_count": 37,
   "id": "905654d0-320b-4781-8e91-17be992aa34d",
   "metadata": {},
   "outputs": [],
   "source": [
    "factors_long = melt(factors, id.vars = 'sample_id')"
   ]
  },
  {
   "cell_type": "code",
   "execution_count": 38,
   "id": "a63fb9e0-55df-4dda-83ea-cf45923dca35",
   "metadata": {},
   "outputs": [
    {
     "data": {
      "text/html": [
       "<table class=\"dataframe\">\n",
       "<caption>A data.frame: 2 × 3</caption>\n",
       "<thead>\n",
       "\t<tr><th></th><th scope=col>sample_id</th><th scope=col>variable</th><th scope=col>value</th></tr>\n",
       "\t<tr><th></th><th scope=col>&lt;chr&gt;</th><th scope=col>&lt;fct&gt;</th><th scope=col>&lt;dbl&gt;</th></tr>\n",
       "</thead>\n",
       "<tbody>\n",
       "\t<tr><th scope=row>1</th><td>k1 </td><td>Factor1</td><td>0.1201561</td></tr>\n",
       "\t<tr><th scope=row>2</th><td>k10</td><td>Factor1</td><td>0.6551561</td></tr>\n",
       "</tbody>\n",
       "</table>\n"
      ],
      "text/latex": [
       "A data.frame: 2 × 3\n",
       "\\begin{tabular}{r|lll}\n",
       "  & sample\\_id & variable & value\\\\\n",
       "  & <chr> & <fct> & <dbl>\\\\\n",
       "\\hline\n",
       "\t1 & k1  & Factor1 & 0.1201561\\\\\n",
       "\t2 & k10 & Factor1 & 0.6551561\\\\\n",
       "\\end{tabular}\n"
      ],
      "text/markdown": [
       "\n",
       "A data.frame: 2 × 3\n",
       "\n",
       "| <!--/--> | sample_id &lt;chr&gt; | variable &lt;fct&gt; | value &lt;dbl&gt; |\n",
       "|---|---|---|---|\n",
       "| 1 | k1  | Factor1 | 0.1201561 |\n",
       "| 2 | k10 | Factor1 | 0.6551561 |\n",
       "\n"
      ],
      "text/plain": [
       "  sample_id variable value    \n",
       "1 k1        Factor1  0.1201561\n",
       "2 k10       Factor1  0.6551561"
      ]
     },
     "metadata": {},
     "output_type": "display_data"
    }
   ],
   "source": [
    "head(factors_long,2)"
   ]
  },
  {
   "cell_type": "code",
   "execution_count": 39,
   "id": "765f6506-47e8-4f50-b22d-d3bd4d1c7e33",
   "metadata": {
    "tags": []
   },
   "outputs": [],
   "source": [
    "merged_data_long = merge(factors_long, sample_data, by.x = 'sample_id', by.y = 'sample_id')"
   ]
  },
  {
   "cell_type": "code",
   "execution_count": 40,
   "id": "70df6e35-5e21-4565-9a5b-e39f3e82c43a",
   "metadata": {},
   "outputs": [
    {
     "data": {
      "text/html": [
       "<table class=\"dataframe\">\n",
       "<caption>A data.frame: 2 × 11</caption>\n",
       "<thead>\n",
       "\t<tr><th></th><th scope=col>sample_id</th><th scope=col>variable</th><th scope=col>value</th><th scope=col>measurement</th><th scope=col>classification</th><th scope=col>delta_ef_value</th><th scope=col>delta_ef_value_class</th><th scope=col>CK</th><th scope=col>CRP</th><th scope=col>tp_outcome</th><th scope=col>sc_counts</th></tr>\n",
       "\t<tr><th></th><th scope=col>&lt;chr&gt;</th><th scope=col>&lt;fct&gt;</th><th scope=col>&lt;dbl&gt;</th><th scope=col>&lt;chr&gt;</th><th scope=col>&lt;chr&gt;</th><th scope=col>&lt;dbl&gt;</th><th scope=col>&lt;chr&gt;</th><th scope=col>&lt;int&gt;</th><th scope=col>&lt;dbl&gt;</th><th scope=col>&lt;chr&gt;</th><th scope=col>&lt;int&gt;</th></tr>\n",
       "</thead>\n",
       "<tbody>\n",
       "\t<tr><th scope=row>1</th><td>k1</td><td>Factor1</td><td> 0.1201561</td><td>Control</td><td>healthy</td><td>NA</td><td>NA</td><td>43</td><td>0.4</td><td>NA</td><td>NA</td></tr>\n",
       "\t<tr><th scope=row>2</th><td>k1</td><td>Factor3</td><td>-0.4479716</td><td>Control</td><td>healthy</td><td>NA</td><td>NA</td><td>43</td><td>0.4</td><td>NA</td><td>NA</td></tr>\n",
       "</tbody>\n",
       "</table>\n"
      ],
      "text/latex": [
       "A data.frame: 2 × 11\n",
       "\\begin{tabular}{r|lllllllllll}\n",
       "  & sample\\_id & variable & value & measurement & classification & delta\\_ef\\_value & delta\\_ef\\_value\\_class & CK & CRP & tp\\_outcome & sc\\_counts\\\\\n",
       "  & <chr> & <fct> & <dbl> & <chr> & <chr> & <dbl> & <chr> & <int> & <dbl> & <chr> & <int>\\\\\n",
       "\\hline\n",
       "\t1 & k1 & Factor1 &  0.1201561 & Control & healthy & NA & NA & 43 & 0.4 & NA & NA\\\\\n",
       "\t2 & k1 & Factor3 & -0.4479716 & Control & healthy & NA & NA & 43 & 0.4 & NA & NA\\\\\n",
       "\\end{tabular}\n"
      ],
      "text/markdown": [
       "\n",
       "A data.frame: 2 × 11\n",
       "\n",
       "| <!--/--> | sample_id &lt;chr&gt; | variable &lt;fct&gt; | value &lt;dbl&gt; | measurement &lt;chr&gt; | classification &lt;chr&gt; | delta_ef_value &lt;dbl&gt; | delta_ef_value_class &lt;chr&gt; | CK &lt;int&gt; | CRP &lt;dbl&gt; | tp_outcome &lt;chr&gt; | sc_counts &lt;int&gt; |\n",
       "|---|---|---|---|---|---|---|---|---|---|---|---|\n",
       "| 1 | k1 | Factor1 |  0.1201561 | Control | healthy | NA | NA | 43 | 0.4 | NA | NA |\n",
       "| 2 | k1 | Factor3 | -0.4479716 | Control | healthy | NA | NA | 43 | 0.4 | NA | NA |\n",
       "\n"
      ],
      "text/plain": [
       "  sample_id variable value      measurement classification delta_ef_value\n",
       "1 k1        Factor1   0.1201561 Control     healthy        NA            \n",
       "2 k1        Factor3  -0.4479716 Control     healthy        NA            \n",
       "  delta_ef_value_class CK CRP tp_outcome sc_counts\n",
       "1 NA                   43 0.4 NA         NA       \n",
       "2 NA                   43 0.4 NA         NA       "
      ]
     },
     "metadata": {},
     "output_type": "display_data"
    }
   ],
   "source": [
    "head(merged_data_long,2)"
   ]
  },
  {
   "cell_type": "markdown",
   "id": "c92d389d-a9c5-4899-8c11-7705d59c0bf5",
   "metadata": {
    "tags": []
   },
   "source": [
    "### Prepare weight data"
   ]
  },
  {
   "cell_type": "code",
   "execution_count": 41,
   "id": "3fa62faa-97a0-4f20-8a7a-5bf74cad7271",
   "metadata": {},
   "outputs": [],
   "source": [
    "### Adjust the format of the feature factor weight data to long"
   ]
  },
  {
   "cell_type": "code",
   "execution_count": 42,
   "id": "c087020c-e6f1-46a5-83b4-1cc65e9c5031",
   "metadata": {},
   "outputs": [],
   "source": [
    "feature_weights_long = melt(weight_data, id.vars = c('variable_name', 'type'))"
   ]
  },
  {
   "cell_type": "code",
   "execution_count": 43,
   "id": "59087670-0a51-42d2-a0fe-fa365810130d",
   "metadata": {},
   "outputs": [],
   "source": [
    "feature_weights_long$view = feature_weights_long$type\n",
    "feature_weights_long$gene = str_replace(feature_weights_long$variable_name, '.*__', '')"
   ]
  },
  {
   "cell_type": "code",
   "execution_count": 44,
   "id": "9861d511-d1f3-49de-873d-f73c7944598b",
   "metadata": {},
   "outputs": [
    {
     "data": {
      "text/html": [
       "<table class=\"dataframe\">\n",
       "<caption>A data.frame: 2 × 6</caption>\n",
       "<thead>\n",
       "\t<tr><th></th><th scope=col>variable_name</th><th scope=col>type</th><th scope=col>variable</th><th scope=col>value</th><th scope=col>view</th><th scope=col>gene</th></tr>\n",
       "\t<tr><th></th><th scope=col>&lt;chr&gt;</th><th scope=col>&lt;chr&gt;</th><th scope=col>&lt;fct&gt;</th><th scope=col>&lt;dbl&gt;</th><th scope=col>&lt;chr&gt;</th><th scope=col>&lt;chr&gt;</th></tr>\n",
       "</thead>\n",
       "<tbody>\n",
       "\t<tr><th scope=row>1</th><td>B.cell__ACTB </td><td>B.cell</td><td>Factor1</td><td>-0.18622572</td><td>B.cell</td><td>ACTB </td></tr>\n",
       "\t<tr><th scope=row>2</th><td>B.cell__ACTG1</td><td>B.cell</td><td>Factor1</td><td>-0.05929283</td><td>B.cell</td><td>ACTG1</td></tr>\n",
       "</tbody>\n",
       "</table>\n"
      ],
      "text/latex": [
       "A data.frame: 2 × 6\n",
       "\\begin{tabular}{r|llllll}\n",
       "  & variable\\_name & type & variable & value & view & gene\\\\\n",
       "  & <chr> & <chr> & <fct> & <dbl> & <chr> & <chr>\\\\\n",
       "\\hline\n",
       "\t1 & B.cell\\_\\_ACTB  & B.cell & Factor1 & -0.18622572 & B.cell & ACTB \\\\\n",
       "\t2 & B.cell\\_\\_ACTG1 & B.cell & Factor1 & -0.05929283 & B.cell & ACTG1\\\\\n",
       "\\end{tabular}\n"
      ],
      "text/markdown": [
       "\n",
       "A data.frame: 2 × 6\n",
       "\n",
       "| <!--/--> | variable_name &lt;chr&gt; | type &lt;chr&gt; | variable &lt;fct&gt; | value &lt;dbl&gt; | view &lt;chr&gt; | gene &lt;chr&gt; |\n",
       "|---|---|---|---|---|---|---|\n",
       "| 1 | B.cell__ACTB  | B.cell | Factor1 | -0.18622572 | B.cell | ACTB  |\n",
       "| 2 | B.cell__ACTG1 | B.cell | Factor1 | -0.05929283 | B.cell | ACTG1 |\n",
       "\n"
      ],
      "text/plain": [
       "  variable_name type   variable value       view   gene \n",
       "1 B.cell__ACTB  B.cell Factor1  -0.18622572 B.cell ACTB \n",
       "2 B.cell__ACTG1 B.cell Factor1  -0.05929283 B.cell ACTG1"
      ]
     },
     "metadata": {},
     "output_type": "display_data"
    }
   ],
   "source": [
    "head(feature_weights_long,2)"
   ]
  },
  {
   "cell_type": "markdown",
   "id": "a0f84b0a-6820-4eaa-9e49-8cd196e5da75",
   "metadata": {
    "tags": []
   },
   "source": [
    "### Get top features per factor and for specified threshold"
   ]
  },
  {
   "cell_type": "code",
   "execution_count": 45,
   "id": "20647b8c-0923-426c-a797-006223e0e804",
   "metadata": {},
   "outputs": [],
   "source": [
    "## Get the x% of top features per factor based on the specified threshold (x) in the configuration file"
   ]
  },
  {
   "cell_type": "code",
   "execution_count": 46,
   "id": "e1b3fa4b-af4d-4ba6-b791-d321993202fe",
   "metadata": {},
   "outputs": [],
   "source": [
    "dimensions = unique(feature_weights_long[,c('view', 'variable')])"
   ]
  },
  {
   "cell_type": "code",
   "execution_count": 47,
   "id": "c7707b26-0cd3-4516-a623-f1a7c79b9b9f",
   "metadata": {},
   "outputs": [],
   "source": [
    "\n",
    "## Define amont of top genes per fraction \n",
    "geneset_oi_pos_per_factor_analyze = feature_weights_long %>% group_by(variable) %>% dplyr::arrange( desc(value),  .by_group = TRUE)  %>% top_frac( as.numeric(top_variable_fraction), value)\n",
    "geneset_oi_pos_per_factor_analyze$direction = 'positive'\n",
    "\n",
    "geneset_oi_neg_per_factor_analyze = feature_weights_long %>% group_by(variable) %>% dplyr::arrange(desc(value),  .by_group = TRUE)  %>% top_frac( -as.numeric(top_variable_fraction), value)\n",
    "geneset_oi_neg_per_factor_analyze$direction = 'negative'\n",
    "\n",
    "geneset_oi_analyze = rbind(geneset_oi_pos_per_factor_analyze, geneset_oi_neg_per_factor_analyze)\n",
    "geneset_oi_analyze$fraction = as.numeric(top_variable_fraction)\n",
    "\n",
    "geneset_oi_per_fraction = geneset_oi_analyze\n",
    "\n",
    "\n",
    "## Calculate amount of top variables for the selected fraction\n",
    "amount_geneset_oi_type = geneset_oi_analyze %>% group_by(type, view, variable) %>% dplyr::count()\n",
    "amount_geneset_oi_type = merge(dimensions, amount_geneset_oi_type, all.x = TRUE)\n",
    "amount_geneset_oi_type$fraction = as.numeric(top_variable_fraction)\n",
    "\n",
    "\n",
    "geneset_oi_amounts =amount_geneset_oi_type\n"
   ]
  },
  {
   "cell_type": "code",
   "execution_count": 48,
   "id": "0661d926-917e-4cd1-919f-a7b665136ca4",
   "metadata": {},
   "outputs": [],
   "source": [
    "## Calculate total amount of features per type\n",
    "features_per_type = feature_weights_long %>% group_by(type, view, variable) %>% dplyr::count()\n",
    "colnames(features_per_type) = c('type', 'view', 'variable', 'amount_features')"
   ]
  },
  {
   "cell_type": "code",
   "execution_count": 49,
   "id": "da96cc9b-5d2c-4b71-be7e-02d45fb67f22",
   "metadata": {},
   "outputs": [],
   "source": [
    "## Merge top feature amounts and total amounts \n",
    "geneset_oi_amounts = merge(  geneset_oi_amounts,features_per_type, all.x = TRUE)\n",
    "\n",
    "##  Calculate percentages\n",
    "geneset_oi_amounts$percentage = geneset_oi_amounts$n / geneset_oi_amounts$amount_features"
   ]
  },
  {
   "cell_type": "code",
   "execution_count": 50,
   "id": "1af8f7b8-d3c8-4004-b778-2d4d0397d692",
   "metadata": {},
   "outputs": [],
   "source": [
    "# Set NA when there are no features for this dimension among top %\n",
    "geneset_oi_amounts[is.na(geneset_oi_amounts)] = 0 "
   ]
  },
  {
   "cell_type": "markdown",
   "id": "fd886024-83c4-4ef4-8c28-1e343ed2396a",
   "metadata": {
    "tags": []
   },
   "source": [
    "### Prepare heatmap data (based on transformed expression values)"
   ]
  },
  {
   "cell_type": "code",
   "execution_count": 51,
   "id": "ceb97a8b-4ccd-46f7-886b-cc5e4e662cb9",
   "metadata": {},
   "outputs": [],
   "source": [
    "### Subset data on the selected factor (in the configuration)"
   ]
  },
  {
   "cell_type": "code",
   "execution_count": 52,
   "id": "dc36497e-054b-4fa9-bec3-78c0cc0f8d3c",
   "metadata": {},
   "outputs": [],
   "source": [
    "analysis_data_subset = geneset_oi_per_fraction[geneset_oi_per_fraction$variable %in%  factor_var,]"
   ]
  },
  {
   "cell_type": "code",
   "execution_count": 53,
   "id": "3d2bbea7-9f8c-4236-aca8-12536c9edf74",
   "metadata": {},
   "outputs": [],
   "source": [
    "### Add direction of effect"
   ]
  },
  {
   "cell_type": "code",
   "execution_count": 54,
   "id": "de6f742f-7ac2-4b17-a579-678add9b7454",
   "metadata": {},
   "outputs": [],
   "source": [
    "analysis_data_subset$direction_sign = analysis_data_subset$direction\n",
    "analysis_data_subset$direction_sign[analysis_data_subset$direction == 'positive'] = '+'\n",
    "analysis_data_subset$direction_sign[analysis_data_subset$direction == 'negative'] = '-'"
   ]
  },
  {
   "cell_type": "code",
   "execution_count": 55,
   "id": "5badf9cc-b126-4d9e-bd82-9c5c0a8a4222",
   "metadata": {},
   "outputs": [
    {
     "data": {
      "text/html": [
       "<table class=\"dataframe\">\n",
       "<caption>A grouped_df: 2 × 9</caption>\n",
       "<thead>\n",
       "\t<tr><th scope=col>variable_name</th><th scope=col>type</th><th scope=col>variable</th><th scope=col>value</th><th scope=col>view</th><th scope=col>gene</th><th scope=col>direction</th><th scope=col>fraction</th><th scope=col>direction_sign</th></tr>\n",
       "\t<tr><th scope=col>&lt;chr&gt;</th><th scope=col>&lt;chr&gt;</th><th scope=col>&lt;fct&gt;</th><th scope=col>&lt;dbl&gt;</th><th scope=col>&lt;chr&gt;</th><th scope=col>&lt;chr&gt;</th><th scope=col>&lt;chr&gt;</th><th scope=col>&lt;dbl&gt;</th><th scope=col>&lt;chr&gt;</th></tr>\n",
       "</thead>\n",
       "<tbody>\n",
       "\t<tr><td>CD14.Mono__PPP1CB</td><td>CD14.Mono</td><td>Factor2</td><td>0.6715288</td><td>CD14.Mono</td><td>PPP1CB</td><td>positive</td><td>0.005</td><td>+</td></tr>\n",
       "\t<tr><td>CD4.TCM__CELF2   </td><td>CD4.TCM  </td><td>Factor2</td><td>0.6604286</td><td>CD4.TCM  </td><td>CELF2 </td><td>positive</td><td>0.005</td><td>+</td></tr>\n",
       "</tbody>\n",
       "</table>\n"
      ],
      "text/latex": [
       "A grouped\\_df: 2 × 9\n",
       "\\begin{tabular}{lllllllll}\n",
       " variable\\_name & type & variable & value & view & gene & direction & fraction & direction\\_sign\\\\\n",
       " <chr> & <chr> & <fct> & <dbl> & <chr> & <chr> & <chr> & <dbl> & <chr>\\\\\n",
       "\\hline\n",
       "\t CD14.Mono\\_\\_PPP1CB & CD14.Mono & Factor2 & 0.6715288 & CD14.Mono & PPP1CB & positive & 0.005 & +\\\\\n",
       "\t CD4.TCM\\_\\_CELF2    & CD4.TCM   & Factor2 & 0.6604286 & CD4.TCM   & CELF2  & positive & 0.005 & +\\\\\n",
       "\\end{tabular}\n"
      ],
      "text/markdown": [
       "\n",
       "A grouped_df: 2 × 9\n",
       "\n",
       "| variable_name &lt;chr&gt; | type &lt;chr&gt; | variable &lt;fct&gt; | value &lt;dbl&gt; | view &lt;chr&gt; | gene &lt;chr&gt; | direction &lt;chr&gt; | fraction &lt;dbl&gt; | direction_sign &lt;chr&gt; |\n",
       "|---|---|---|---|---|---|---|---|---|\n",
       "| CD14.Mono__PPP1CB | CD14.Mono | Factor2 | 0.6715288 | CD14.Mono | PPP1CB | positive | 0.005 | + |\n",
       "| CD4.TCM__CELF2    | CD4.TCM   | Factor2 | 0.6604286 | CD4.TCM   | CELF2  | positive | 0.005 | + |\n",
       "\n"
      ],
      "text/plain": [
       "  variable_name     type      variable value     view      gene   direction\n",
       "1 CD14.Mono__PPP1CB CD14.Mono Factor2  0.6715288 CD14.Mono PPP1CB positive \n",
       "2 CD4.TCM__CELF2    CD4.TCM   Factor2  0.6604286 CD4.TCM   CELF2  positive \n",
       "  fraction direction_sign\n",
       "1 0.005    +             \n",
       "2 0.005    +             "
      ]
     },
     "metadata": {},
     "output_type": "display_data"
    }
   ],
   "source": [
    "head(analysis_data_subset,2)"
   ]
  },
  {
   "cell_type": "code",
   "execution_count": 56,
   "id": "8834c912-7dfd-43ac-8f62-38c3675292c4",
   "metadata": {},
   "outputs": [],
   "source": [
    "### Add cell-type/ type column"
   ]
  },
  {
   "cell_type": "code",
   "execution_count": 57,
   "id": "a9e1231c-59f6-4626-9524-a50f69388e3b",
   "metadata": {},
   "outputs": [],
   "source": [
    "analysis_data_subset$cell_type = analysis_data_subset$type"
   ]
  },
  {
   "cell_type": "code",
   "execution_count": 58,
   "id": "372d1e39-e066-4404-a2a6-a5a2cbf90ac1",
   "metadata": {},
   "outputs": [],
   "source": [
    "### Concat direction + view for faceting on y -axis"
   ]
  },
  {
   "cell_type": "code",
   "execution_count": 59,
   "id": "e3065d04-b275-4fc0-a018-2677404ade48",
   "metadata": {},
   "outputs": [],
   "source": [
    "analysis_data_subset$facet =  paste0(analysis_data_subset$direction_sign, analysis_data_subset$view)"
   ]
  },
  {
   "cell_type": "code",
   "execution_count": 60,
   "id": "bd67880a-f279-4827-a0ac-acf14e18d7c5",
   "metadata": {},
   "outputs": [
    {
     "data": {
      "text/html": [
       "<table class=\"dataframe\">\n",
       "<caption>A grouped_df: 2 × 11</caption>\n",
       "<thead>\n",
       "\t<tr><th scope=col>variable_name</th><th scope=col>type</th><th scope=col>variable</th><th scope=col>value</th><th scope=col>view</th><th scope=col>gene</th><th scope=col>direction</th><th scope=col>fraction</th><th scope=col>direction_sign</th><th scope=col>cell_type</th><th scope=col>facet</th></tr>\n",
       "\t<tr><th scope=col>&lt;chr&gt;</th><th scope=col>&lt;chr&gt;</th><th scope=col>&lt;fct&gt;</th><th scope=col>&lt;dbl&gt;</th><th scope=col>&lt;chr&gt;</th><th scope=col>&lt;chr&gt;</th><th scope=col>&lt;chr&gt;</th><th scope=col>&lt;dbl&gt;</th><th scope=col>&lt;chr&gt;</th><th scope=col>&lt;chr&gt;</th><th scope=col>&lt;chr&gt;</th></tr>\n",
       "</thead>\n",
       "<tbody>\n",
       "\t<tr><td>CD14.Mono__PPP1CB</td><td>CD14.Mono</td><td>Factor2</td><td>0.6715288</td><td>CD14.Mono</td><td>PPP1CB</td><td>positive</td><td>0.005</td><td>+</td><td>CD14.Mono</td><td>+CD14.Mono</td></tr>\n",
       "\t<tr><td>CD4.TCM__CELF2   </td><td>CD4.TCM  </td><td>Factor2</td><td>0.6604286</td><td>CD4.TCM  </td><td>CELF2 </td><td>positive</td><td>0.005</td><td>+</td><td>CD4.TCM  </td><td>+CD4.TCM  </td></tr>\n",
       "</tbody>\n",
       "</table>\n"
      ],
      "text/latex": [
       "A grouped\\_df: 2 × 11\n",
       "\\begin{tabular}{lllllllllll}\n",
       " variable\\_name & type & variable & value & view & gene & direction & fraction & direction\\_sign & cell\\_type & facet\\\\\n",
       " <chr> & <chr> & <fct> & <dbl> & <chr> & <chr> & <chr> & <dbl> & <chr> & <chr> & <chr>\\\\\n",
       "\\hline\n",
       "\t CD14.Mono\\_\\_PPP1CB & CD14.Mono & Factor2 & 0.6715288 & CD14.Mono & PPP1CB & positive & 0.005 & + & CD14.Mono & +CD14.Mono\\\\\n",
       "\t CD4.TCM\\_\\_CELF2    & CD4.TCM   & Factor2 & 0.6604286 & CD4.TCM   & CELF2  & positive & 0.005 & + & CD4.TCM   & +CD4.TCM  \\\\\n",
       "\\end{tabular}\n"
      ],
      "text/markdown": [
       "\n",
       "A grouped_df: 2 × 11\n",
       "\n",
       "| variable_name &lt;chr&gt; | type &lt;chr&gt; | variable &lt;fct&gt; | value &lt;dbl&gt; | view &lt;chr&gt; | gene &lt;chr&gt; | direction &lt;chr&gt; | fraction &lt;dbl&gt; | direction_sign &lt;chr&gt; | cell_type &lt;chr&gt; | facet &lt;chr&gt; |\n",
       "|---|---|---|---|---|---|---|---|---|---|---|\n",
       "| CD14.Mono__PPP1CB | CD14.Mono | Factor2 | 0.6715288 | CD14.Mono | PPP1CB | positive | 0.005 | + | CD14.Mono | +CD14.Mono |\n",
       "| CD4.TCM__CELF2    | CD4.TCM   | Factor2 | 0.6604286 | CD4.TCM   | CELF2  | positive | 0.005 | + | CD4.TCM   | +CD4.TCM   |\n",
       "\n"
      ],
      "text/plain": [
       "  variable_name     type      variable value     view      gene   direction\n",
       "1 CD14.Mono__PPP1CB CD14.Mono Factor2  0.6715288 CD14.Mono PPP1CB positive \n",
       "2 CD4.TCM__CELF2    CD4.TCM   Factor2  0.6604286 CD4.TCM   CELF2  positive \n",
       "  fraction direction_sign cell_type facet     \n",
       "1 0.005    +              CD14.Mono +CD14.Mono\n",
       "2 0.005    +              CD4.TCM   +CD4.TCM  "
      ]
     },
     "metadata": {},
     "output_type": "display_data"
    }
   ],
   "source": [
    "head(analysis_data_subset,2)"
   ]
  },
  {
   "cell_type": "code",
   "execution_count": 61,
   "id": "3041b60b-a531-4648-a339-0f3041954cc8",
   "metadata": {},
   "outputs": [],
   "source": [
    "## Adjust column names in input data"
   ]
  },
  {
   "cell_type": "code",
   "execution_count": 62,
   "id": "5a2bca12-cf44-46d0-b983-1d27b5996ac0",
   "metadata": {},
   "outputs": [],
   "source": [
    "data_long$expression_value = data_long$value\n",
    "data_long$variable_name = data_long$variable\n",
    "data_long$variable = NULL\n",
    "data_long$value = NULL"
   ]
  },
  {
   "cell_type": "code",
   "execution_count": 63,
   "id": "9f6f1119-37eb-4ae1-8606-bf293f7d82c6",
   "metadata": {},
   "outputs": [
    {
     "data": {
      "text/html": [
       "<table class=\"dataframe\">\n",
       "<caption>A data.frame: 2 × 5</caption>\n",
       "<thead>\n",
       "\t<tr><th></th><th scope=col>sample_id</th><th scope=col>type</th><th scope=col>gene</th><th scope=col>expression_value</th><th scope=col>variable_name</th></tr>\n",
       "\t<tr><th></th><th scope=col>&lt;chr&gt;</th><th scope=col>&lt;chr&gt;</th><th scope=col>&lt;chr&gt;</th><th scope=col>&lt;dbl&gt;</th><th scope=col>&lt;chr&gt;</th></tr>\n",
       "</thead>\n",
       "<tbody>\n",
       "\t<tr><th scope=row>1</th><td>k10</td><td>B.cell</td><td>ACTB</td><td> 0.4307273</td><td>B.cell__ACTB</td></tr>\n",
       "\t<tr><th scope=row>2</th><td>k11</td><td>B.cell</td><td>ACTB</td><td>-0.7009514</td><td>B.cell__ACTB</td></tr>\n",
       "</tbody>\n",
       "</table>\n"
      ],
      "text/latex": [
       "A data.frame: 2 × 5\n",
       "\\begin{tabular}{r|lllll}\n",
       "  & sample\\_id & type & gene & expression\\_value & variable\\_name\\\\\n",
       "  & <chr> & <chr> & <chr> & <dbl> & <chr>\\\\\n",
       "\\hline\n",
       "\t1 & k10 & B.cell & ACTB &  0.4307273 & B.cell\\_\\_ACTB\\\\\n",
       "\t2 & k11 & B.cell & ACTB & -0.7009514 & B.cell\\_\\_ACTB\\\\\n",
       "\\end{tabular}\n"
      ],
      "text/markdown": [
       "\n",
       "A data.frame: 2 × 5\n",
       "\n",
       "| <!--/--> | sample_id &lt;chr&gt; | type &lt;chr&gt; | gene &lt;chr&gt; | expression_value &lt;dbl&gt; | variable_name &lt;chr&gt; |\n",
       "|---|---|---|---|---|---|\n",
       "| 1 | k10 | B.cell | ACTB |  0.4307273 | B.cell__ACTB |\n",
       "| 2 | k11 | B.cell | ACTB | -0.7009514 | B.cell__ACTB |\n",
       "\n"
      ],
      "text/plain": [
       "  sample_id type   gene expression_value variable_name\n",
       "1 k10       B.cell ACTB  0.4307273       B.cell__ACTB \n",
       "2 k11       B.cell ACTB -0.7009514       B.cell__ACTB "
      ]
     },
     "metadata": {},
     "output_type": "display_data"
    }
   ],
   "source": [
    "head(data_long,2)"
   ]
  },
  {
   "cell_type": "code",
   "execution_count": 64,
   "id": "533dac3b-f1d4-4695-b207-f37171ca2c79",
   "metadata": {},
   "outputs": [],
   "source": [
    "### Merge factor values and expression values"
   ]
  },
  {
   "cell_type": "code",
   "execution_count": 65,
   "id": "fb4ab316-1bce-4c39-ad72-c0f89742371c",
   "metadata": {},
   "outputs": [],
   "source": [
    "heatmap_data = merge(data_long, analysis_data_subset, by.x = c('variable_name'), by.y = c('variable_name'))"
   ]
  },
  {
   "cell_type": "code",
   "execution_count": 66,
   "id": "47fa3944-b871-4444-84af-03561cce03a5",
   "metadata": {},
   "outputs": [
    {
     "data": {
      "text/html": [
       "12288"
      ],
      "text/latex": [
       "12288"
      ],
      "text/markdown": [
       "12288"
      ],
      "text/plain": [
       "[1] 12288"
      ]
     },
     "metadata": {},
     "output_type": "display_data"
    }
   ],
   "source": [
    "nrow(heatmap_data)"
   ]
  },
  {
   "cell_type": "code",
   "execution_count": 67,
   "id": "f585abb3-14c3-47aa-983a-b8679bb8cef4",
   "metadata": {},
   "outputs": [
    {
     "data": {
      "text/html": [
       "<table class=\"dataframe\">\n",
       "<caption>A data.frame: 2 × 15</caption>\n",
       "<thead>\n",
       "\t<tr><th></th><th scope=col>variable_name</th><th scope=col>sample_id</th><th scope=col>type.x</th><th scope=col>gene.x</th><th scope=col>expression_value</th><th scope=col>type.y</th><th scope=col>variable</th><th scope=col>value</th><th scope=col>view</th><th scope=col>gene.y</th><th scope=col>direction</th><th scope=col>fraction</th><th scope=col>direction_sign</th><th scope=col>cell_type</th><th scope=col>facet</th></tr>\n",
       "\t<tr><th></th><th scope=col>&lt;chr&gt;</th><th scope=col>&lt;chr&gt;</th><th scope=col>&lt;chr&gt;</th><th scope=col>&lt;chr&gt;</th><th scope=col>&lt;dbl&gt;</th><th scope=col>&lt;chr&gt;</th><th scope=col>&lt;fct&gt;</th><th scope=col>&lt;dbl&gt;</th><th scope=col>&lt;chr&gt;</th><th scope=col>&lt;chr&gt;</th><th scope=col>&lt;chr&gt;</th><th scope=col>&lt;dbl&gt;</th><th scope=col>&lt;chr&gt;</th><th scope=col>&lt;chr&gt;</th><th scope=col>&lt;chr&gt;</th></tr>\n",
       "</thead>\n",
       "<tbody>\n",
       "\t<tr><th scope=row>1</th><td>B.cell__HIST1H4C</td><td>m23.4</td><td>B.cell</td><td>HIST1H4C</td><td>1.001331</td><td>B.cell</td><td>Factor2</td><td>-0.5710714</td><td>B.cell</td><td>HIST1H4C</td><td>negative</td><td>0.005</td><td>-</td><td>B.cell</td><td>-B.cell</td></tr>\n",
       "\t<tr><th scope=row>2</th><td>B.cell__HIST1H4C</td><td>k9   </td><td>B.cell</td><td>HIST1H4C</td><td>1.150349</td><td>B.cell</td><td>Factor2</td><td>-0.5710714</td><td>B.cell</td><td>HIST1H4C</td><td>negative</td><td>0.005</td><td>-</td><td>B.cell</td><td>-B.cell</td></tr>\n",
       "</tbody>\n",
       "</table>\n"
      ],
      "text/latex": [
       "A data.frame: 2 × 15\n",
       "\\begin{tabular}{r|lllllllllllllll}\n",
       "  & variable\\_name & sample\\_id & type.x & gene.x & expression\\_value & type.y & variable & value & view & gene.y & direction & fraction & direction\\_sign & cell\\_type & facet\\\\\n",
       "  & <chr> & <chr> & <chr> & <chr> & <dbl> & <chr> & <fct> & <dbl> & <chr> & <chr> & <chr> & <dbl> & <chr> & <chr> & <chr>\\\\\n",
       "\\hline\n",
       "\t1 & B.cell\\_\\_HIST1H4C & m23.4 & B.cell & HIST1H4C & 1.001331 & B.cell & Factor2 & -0.5710714 & B.cell & HIST1H4C & negative & 0.005 & - & B.cell & -B.cell\\\\\n",
       "\t2 & B.cell\\_\\_HIST1H4C & k9    & B.cell & HIST1H4C & 1.150349 & B.cell & Factor2 & -0.5710714 & B.cell & HIST1H4C & negative & 0.005 & - & B.cell & -B.cell\\\\\n",
       "\\end{tabular}\n"
      ],
      "text/markdown": [
       "\n",
       "A data.frame: 2 × 15\n",
       "\n",
       "| <!--/--> | variable_name &lt;chr&gt; | sample_id &lt;chr&gt; | type.x &lt;chr&gt; | gene.x &lt;chr&gt; | expression_value &lt;dbl&gt; | type.y &lt;chr&gt; | variable &lt;fct&gt; | value &lt;dbl&gt; | view &lt;chr&gt; | gene.y &lt;chr&gt; | direction &lt;chr&gt; | fraction &lt;dbl&gt; | direction_sign &lt;chr&gt; | cell_type &lt;chr&gt; | facet &lt;chr&gt; |\n",
       "|---|---|---|---|---|---|---|---|---|---|---|---|---|---|---|---|\n",
       "| 1 | B.cell__HIST1H4C | m23.4 | B.cell | HIST1H4C | 1.001331 | B.cell | Factor2 | -0.5710714 | B.cell | HIST1H4C | negative | 0.005 | - | B.cell | -B.cell |\n",
       "| 2 | B.cell__HIST1H4C | k9    | B.cell | HIST1H4C | 1.150349 | B.cell | Factor2 | -0.5710714 | B.cell | HIST1H4C | negative | 0.005 | - | B.cell | -B.cell |\n",
       "\n"
      ],
      "text/plain": [
       "  variable_name    sample_id type.x gene.x   expression_value type.y variable\n",
       "1 B.cell__HIST1H4C m23.4     B.cell HIST1H4C 1.001331         B.cell Factor2 \n",
       "2 B.cell__HIST1H4C k9        B.cell HIST1H4C 1.150349         B.cell Factor2 \n",
       "  value      view   gene.y   direction fraction direction_sign cell_type\n",
       "1 -0.5710714 B.cell HIST1H4C negative  0.005    -              B.cell   \n",
       "2 -0.5710714 B.cell HIST1H4C negative  0.005    -              B.cell   \n",
       "  facet  \n",
       "1 -B.cell\n",
       "2 -B.cell"
      ]
     },
     "metadata": {},
     "output_type": "display_data"
    }
   ],
   "source": [
    "head(heatmap_data,2)"
   ]
  },
  {
   "cell_type": "code",
   "execution_count": 68,
   "id": "7f1842fa-43a0-4c77-9350-0566d7f2101a",
   "metadata": {},
   "outputs": [],
   "source": [
    "### Add sample meta-data"
   ]
  },
  {
   "cell_type": "code",
   "execution_count": 69,
   "id": "96578774-835e-4ead-ab28-6923dcc16bf8",
   "metadata": {},
   "outputs": [],
   "source": [
    "heatmap_data = merge(heatmap_data, sample_data, by.x = 'sample_id', by.y = 'sample_id')"
   ]
  },
  {
   "cell_type": "code",
   "execution_count": 70,
   "id": "fdc9a3b0-70db-4c91-87a3-02ceda899cbb",
   "metadata": {},
   "outputs": [
    {
     "data": {
      "text/html": [
       "<table class=\"dataframe\">\n",
       "<caption>A data.frame: 2 × 23</caption>\n",
       "<thead>\n",
       "\t<tr><th></th><th scope=col>sample_id</th><th scope=col>variable_name</th><th scope=col>type.x</th><th scope=col>gene.x</th><th scope=col>expression_value</th><th scope=col>type.y</th><th scope=col>variable</th><th scope=col>value</th><th scope=col>view</th><th scope=col>gene.y</th><th scope=col>⋯</th><th scope=col>cell_type</th><th scope=col>facet</th><th scope=col>measurement</th><th scope=col>classification</th><th scope=col>delta_ef_value</th><th scope=col>delta_ef_value_class</th><th scope=col>CK</th><th scope=col>CRP</th><th scope=col>tp_outcome</th><th scope=col>sc_counts</th></tr>\n",
       "\t<tr><th></th><th scope=col>&lt;chr&gt;</th><th scope=col>&lt;chr&gt;</th><th scope=col>&lt;chr&gt;</th><th scope=col>&lt;chr&gt;</th><th scope=col>&lt;dbl&gt;</th><th scope=col>&lt;chr&gt;</th><th scope=col>&lt;fct&gt;</th><th scope=col>&lt;dbl&gt;</th><th scope=col>&lt;chr&gt;</th><th scope=col>&lt;chr&gt;</th><th scope=col>⋯</th><th scope=col>&lt;chr&gt;</th><th scope=col>&lt;chr&gt;</th><th scope=col>&lt;chr&gt;</th><th scope=col>&lt;chr&gt;</th><th scope=col>&lt;dbl&gt;</th><th scope=col>&lt;chr&gt;</th><th scope=col>&lt;int&gt;</th><th scope=col>&lt;dbl&gt;</th><th scope=col>&lt;chr&gt;</th><th scope=col>&lt;int&gt;</th></tr>\n",
       "</thead>\n",
       "<tbody>\n",
       "\t<tr><th scope=row>1</th><td>k1</td><td>CD14.Mono__PSME1 </td><td>CD14.Mono</td><td>PSME1   </td><td>NA</td><td>CD14.Mono</td><td>Factor2</td><td>-0.4925843</td><td>CD14.Mono</td><td>PSME1   </td><td>⋯</td><td>CD14.Mono</td><td>-CD14.Mono</td><td>Control</td><td>healthy</td><td>NA</td><td>NA</td><td>43</td><td>0.4</td><td>NA</td><td>NA</td></tr>\n",
       "\t<tr><th scope=row>2</th><td>k1</td><td>CD4.TCM__HIST1H4C</td><td>CD4.TCM  </td><td>HIST1H4C</td><td>NA</td><td>CD4.TCM  </td><td>Factor2</td><td>-0.6774162</td><td>CD4.TCM  </td><td>HIST1H4C</td><td>⋯</td><td>CD4.TCM  </td><td>-CD4.TCM  </td><td>Control</td><td>healthy</td><td>NA</td><td>NA</td><td>43</td><td>0.4</td><td>NA</td><td>NA</td></tr>\n",
       "</tbody>\n",
       "</table>\n"
      ],
      "text/latex": [
       "A data.frame: 2 × 23\n",
       "\\begin{tabular}{r|lllllllllllllllllllll}\n",
       "  & sample\\_id & variable\\_name & type.x & gene.x & expression\\_value & type.y & variable & value & view & gene.y & ⋯ & cell\\_type & facet & measurement & classification & delta\\_ef\\_value & delta\\_ef\\_value\\_class & CK & CRP & tp\\_outcome & sc\\_counts\\\\\n",
       "  & <chr> & <chr> & <chr> & <chr> & <dbl> & <chr> & <fct> & <dbl> & <chr> & <chr> & ⋯ & <chr> & <chr> & <chr> & <chr> & <dbl> & <chr> & <int> & <dbl> & <chr> & <int>\\\\\n",
       "\\hline\n",
       "\t1 & k1 & CD14.Mono\\_\\_PSME1  & CD14.Mono & PSME1    & NA & CD14.Mono & Factor2 & -0.4925843 & CD14.Mono & PSME1    & ⋯ & CD14.Mono & -CD14.Mono & Control & healthy & NA & NA & 43 & 0.4 & NA & NA\\\\\n",
       "\t2 & k1 & CD4.TCM\\_\\_HIST1H4C & CD4.TCM   & HIST1H4C & NA & CD4.TCM   & Factor2 & -0.6774162 & CD4.TCM   & HIST1H4C & ⋯ & CD4.TCM   & -CD4.TCM   & Control & healthy & NA & NA & 43 & 0.4 & NA & NA\\\\\n",
       "\\end{tabular}\n"
      ],
      "text/markdown": [
       "\n",
       "A data.frame: 2 × 23\n",
       "\n",
       "| <!--/--> | sample_id &lt;chr&gt; | variable_name &lt;chr&gt; | type.x &lt;chr&gt; | gene.x &lt;chr&gt; | expression_value &lt;dbl&gt; | type.y &lt;chr&gt; | variable &lt;fct&gt; | value &lt;dbl&gt; | view &lt;chr&gt; | gene.y &lt;chr&gt; | ⋯ ⋯ | cell_type &lt;chr&gt; | facet &lt;chr&gt; | measurement &lt;chr&gt; | classification &lt;chr&gt; | delta_ef_value &lt;dbl&gt; | delta_ef_value_class &lt;chr&gt; | CK &lt;int&gt; | CRP &lt;dbl&gt; | tp_outcome &lt;chr&gt; | sc_counts &lt;int&gt; |\n",
       "|---|---|---|---|---|---|---|---|---|---|---|---|---|---|---|---|---|---|---|---|---|---|\n",
       "| 1 | k1 | CD14.Mono__PSME1  | CD14.Mono | PSME1    | NA | CD14.Mono | Factor2 | -0.4925843 | CD14.Mono | PSME1    | ⋯ | CD14.Mono | -CD14.Mono | Control | healthy | NA | NA | 43 | 0.4 | NA | NA |\n",
       "| 2 | k1 | CD4.TCM__HIST1H4C | CD4.TCM   | HIST1H4C | NA | CD4.TCM   | Factor2 | -0.6774162 | CD4.TCM   | HIST1H4C | ⋯ | CD4.TCM   | -CD4.TCM   | Control | healthy | NA | NA | 43 | 0.4 | NA | NA |\n",
       "\n"
      ],
      "text/plain": [
       "  sample_id variable_name     type.x    gene.x   expression_value type.y   \n",
       "1 k1        CD14.Mono__PSME1  CD14.Mono PSME1    NA               CD14.Mono\n",
       "2 k1        CD4.TCM__HIST1H4C CD4.TCM   HIST1H4C NA               CD4.TCM  \n",
       "  variable value      view      gene.y   ⋯ cell_type facet      measurement\n",
       "1 Factor2  -0.4925843 CD14.Mono PSME1    ⋯ CD14.Mono -CD14.Mono Control    \n",
       "2 Factor2  -0.6774162 CD4.TCM   HIST1H4C ⋯ CD4.TCM   -CD4.TCM   Control    \n",
       "  classification delta_ef_value delta_ef_value_class CK CRP tp_outcome\n",
       "1 healthy        NA             NA                   43 0.4 NA        \n",
       "2 healthy        NA             NA                   43 0.4 NA        \n",
       "  sc_counts\n",
       "1 NA       \n",
       "2 NA       "
      ]
     },
     "metadata": {},
     "output_type": "display_data"
    }
   ],
   "source": [
    "head(heatmap_data,2)"
   ]
  },
  {
   "cell_type": "markdown",
   "id": "4016f142-473d-4d67-b30a-31ad211a556c",
   "metadata": {},
   "source": [
    "# Heatmap Plot"
   ]
  },
  {
   "cell_type": "code",
   "execution_count": 71,
   "id": "0aa71ba8-cefa-4cfc-8a70-b5a736af7636",
   "metadata": {},
   "outputs": [],
   "source": [
    "###Generates heatmap based on configurations"
   ]
  },
  {
   "cell_type": "code",
   "execution_count": 72,
   "id": "2c4d7f75-e891-47c2-952e-2541ea7d6d65",
   "metadata": {},
   "outputs": [],
   "source": [
    "## Specify figure name"
   ]
  },
  {
   "cell_type": "code",
   "execution_count": 73,
   "id": "a3091cb0-fed6-481c-8bb6-375e12c110a1",
   "metadata": {},
   "outputs": [],
   "source": [
    "figure_name = \"FIG05_Heatmap_Feature_Overview\""
   ]
  },
  {
   "cell_type": "code",
   "execution_count": 74,
   "id": "96f08eeb-5f7d-480c-b6b8-fcb83d8209c3",
   "metadata": {},
   "outputs": [],
   "source": [
    "# Specific Text Descriptions (heatmap) for x and y-axis:\n",
    "xlabel_heatmap = xlab('Samples') \n",
    "ylabel_heatmap = ylab('View')"
   ]
  },
  {
   "cell_type": "code",
   "execution_count": 75,
   "id": "2febdabe-666f-45cd-9ae0-4ab15ca4d721",
   "metadata": {},
   "outputs": [],
   "source": [
    "# Specific Text Descriptions (factor value plot) for x and y-axis:\n",
    "xlabel_barplot = xlab('Samples') \n",
    "ylabel_barplot = ylab('Absolute Factor Value')"
   ]
  },
  {
   "cell_type": "code",
   "execution_count": 76,
   "id": "33078a28-4401-4da6-a1a2-739490780770",
   "metadata": {},
   "outputs": [],
   "source": [
    "## Choose columns for faceting according to parameters specified in config file"
   ]
  },
  {
   "cell_type": "code",
   "execution_count": 77,
   "id": "5a188b0e-8a2d-4a36-946a-9b666a7509b3",
   "metadata": {},
   "outputs": [],
   "source": [
    "## specify faceting for heamtap\n",
    "heatmap_data$facet2 = heatmap_data[,variable] # x-axis faceting\n",
    "heatmap_data$facet = paste0(heatmap_data$direction_sign, heatmap_data$view) # y-axis faceting\n",
    "\n",
    "## specify faceting for factor value plot\n",
    "analysis_data_subset$facet = paste0(analysis_data_subset$direction_sign,analysis_data_subset$view)\n",
    "analysis_data_subset$facet2 = 'Absolute Factor Value'"
   ]
  },
  {
   "cell_type": "code",
   "execution_count": 78,
   "id": "57a47d67-87e6-4180-91ff-8859c0f72481",
   "metadata": {},
   "outputs": [
    {
     "data": {
      "text/html": [
       "'CD4.TCM'"
      ],
      "text/latex": [
       "'CD4.TCM'"
      ],
      "text/markdown": [
       "'CD4.TCM'"
      ],
      "text/plain": [
       "[1] \"CD4.TCM\""
      ]
     },
     "metadata": {},
     "output_type": "display_data"
    }
   ],
   "source": [
    "view_var"
   ]
  },
  {
   "cell_type": "code",
   "execution_count": 79,
   "id": "a3274a17-7b53-43b9-9fa8-b05c01d43e24",
   "metadata": {},
   "outputs": [],
   "source": [
    "## filter data on a specific view if specified in the config file\n",
    "if(view_var %in% unique(heatmap_data$view)){\n",
    "    heatmap_data = heatmap_data[heatmap_data$view %in% view_var,]\n",
    "    analysis_data_subset = analysis_data_subset[analysis_data_subset$view %in% view_var,]\n",
    "    } else{view_var = ''}"
   ]
  },
  {
   "cell_type": "code",
   "execution_count": 80,
   "id": "de9e46a8-d149-4742-8a4f-6d9c11e412ca",
   "metadata": {},
   "outputs": [
    {
     "data": {
      "text/html": [
       "<table class=\"dataframe\">\n",
       "<caption>A data.frame: 2 × 24</caption>\n",
       "<thead>\n",
       "\t<tr><th></th><th scope=col>sample_id</th><th scope=col>variable_name</th><th scope=col>type.x</th><th scope=col>gene.x</th><th scope=col>expression_value</th><th scope=col>type.y</th><th scope=col>variable</th><th scope=col>value</th><th scope=col>view</th><th scope=col>gene.y</th><th scope=col>⋯</th><th scope=col>facet</th><th scope=col>measurement</th><th scope=col>classification</th><th scope=col>delta_ef_value</th><th scope=col>delta_ef_value_class</th><th scope=col>CK</th><th scope=col>CRP</th><th scope=col>tp_outcome</th><th scope=col>sc_counts</th><th scope=col>facet2</th></tr>\n",
       "\t<tr><th></th><th scope=col>&lt;chr&gt;</th><th scope=col>&lt;chr&gt;</th><th scope=col>&lt;chr&gt;</th><th scope=col>&lt;chr&gt;</th><th scope=col>&lt;dbl&gt;</th><th scope=col>&lt;chr&gt;</th><th scope=col>&lt;fct&gt;</th><th scope=col>&lt;dbl&gt;</th><th scope=col>&lt;chr&gt;</th><th scope=col>&lt;chr&gt;</th><th scope=col>⋯</th><th scope=col>&lt;chr&gt;</th><th scope=col>&lt;chr&gt;</th><th scope=col>&lt;chr&gt;</th><th scope=col>&lt;dbl&gt;</th><th scope=col>&lt;chr&gt;</th><th scope=col>&lt;int&gt;</th><th scope=col>&lt;dbl&gt;</th><th scope=col>&lt;chr&gt;</th><th scope=col>&lt;int&gt;</th><th scope=col>&lt;chr&gt;</th></tr>\n",
       "</thead>\n",
       "<tbody>\n",
       "\t<tr><th scope=row>2</th><td>k1</td><td>CD4.TCM__HIST1H4C</td><td>CD4.TCM</td><td>HIST1H4C</td><td>NA</td><td>CD4.TCM</td><td>Factor2</td><td>-0.6774162</td><td>CD4.TCM</td><td>HIST1H4C</td><td>⋯</td><td>-CD4.TCM</td><td>Control</td><td>healthy</td><td>NA</td><td>NA</td><td>43</td><td>0.4</td><td>NA</td><td>NA</td><td>Control</td></tr>\n",
       "\t<tr><th scope=row>6</th><td>k1</td><td>CD4.TCM__EEF1A1  </td><td>CD4.TCM</td><td>EEF1A1  </td><td>NA</td><td>CD4.TCM</td><td>Factor2</td><td>-0.4986455</td><td>CD4.TCM</td><td>EEF1A1  </td><td>⋯</td><td>-CD4.TCM</td><td>Control</td><td>healthy</td><td>NA</td><td>NA</td><td>43</td><td>0.4</td><td>NA</td><td>NA</td><td>Control</td></tr>\n",
       "</tbody>\n",
       "</table>\n"
      ],
      "text/latex": [
       "A data.frame: 2 × 24\n",
       "\\begin{tabular}{r|lllllllllllllllllllll}\n",
       "  & sample\\_id & variable\\_name & type.x & gene.x & expression\\_value & type.y & variable & value & view & gene.y & ⋯ & facet & measurement & classification & delta\\_ef\\_value & delta\\_ef\\_value\\_class & CK & CRP & tp\\_outcome & sc\\_counts & facet2\\\\\n",
       "  & <chr> & <chr> & <chr> & <chr> & <dbl> & <chr> & <fct> & <dbl> & <chr> & <chr> & ⋯ & <chr> & <chr> & <chr> & <dbl> & <chr> & <int> & <dbl> & <chr> & <int> & <chr>\\\\\n",
       "\\hline\n",
       "\t2 & k1 & CD4.TCM\\_\\_HIST1H4C & CD4.TCM & HIST1H4C & NA & CD4.TCM & Factor2 & -0.6774162 & CD4.TCM & HIST1H4C & ⋯ & -CD4.TCM & Control & healthy & NA & NA & 43 & 0.4 & NA & NA & Control\\\\\n",
       "\t6 & k1 & CD4.TCM\\_\\_EEF1A1   & CD4.TCM & EEF1A1   & NA & CD4.TCM & Factor2 & -0.4986455 & CD4.TCM & EEF1A1   & ⋯ & -CD4.TCM & Control & healthy & NA & NA & 43 & 0.4 & NA & NA & Control\\\\\n",
       "\\end{tabular}\n"
      ],
      "text/markdown": [
       "\n",
       "A data.frame: 2 × 24\n",
       "\n",
       "| <!--/--> | sample_id &lt;chr&gt; | variable_name &lt;chr&gt; | type.x &lt;chr&gt; | gene.x &lt;chr&gt; | expression_value &lt;dbl&gt; | type.y &lt;chr&gt; | variable &lt;fct&gt; | value &lt;dbl&gt; | view &lt;chr&gt; | gene.y &lt;chr&gt; | ⋯ ⋯ | facet &lt;chr&gt; | measurement &lt;chr&gt; | classification &lt;chr&gt; | delta_ef_value &lt;dbl&gt; | delta_ef_value_class &lt;chr&gt; | CK &lt;int&gt; | CRP &lt;dbl&gt; | tp_outcome &lt;chr&gt; | sc_counts &lt;int&gt; | facet2 &lt;chr&gt; |\n",
       "|---|---|---|---|---|---|---|---|---|---|---|---|---|---|---|---|---|---|---|---|---|---|\n",
       "| 2 | k1 | CD4.TCM__HIST1H4C | CD4.TCM | HIST1H4C | NA | CD4.TCM | Factor2 | -0.6774162 | CD4.TCM | HIST1H4C | ⋯ | -CD4.TCM | Control | healthy | NA | NA | 43 | 0.4 | NA | NA | Control |\n",
       "| 6 | k1 | CD4.TCM__EEF1A1   | CD4.TCM | EEF1A1   | NA | CD4.TCM | Factor2 | -0.4986455 | CD4.TCM | EEF1A1   | ⋯ | -CD4.TCM | Control | healthy | NA | NA | 43 | 0.4 | NA | NA | Control |\n",
       "\n"
      ],
      "text/plain": [
       "  sample_id variable_name     type.x  gene.x   expression_value type.y \n",
       "2 k1        CD4.TCM__HIST1H4C CD4.TCM HIST1H4C NA               CD4.TCM\n",
       "6 k1        CD4.TCM__EEF1A1   CD4.TCM EEF1A1   NA               CD4.TCM\n",
       "  variable value      view    gene.y   ⋯ facet    measurement classification\n",
       "2 Factor2  -0.6774162 CD4.TCM HIST1H4C ⋯ -CD4.TCM Control     healthy       \n",
       "6 Factor2  -0.4986455 CD4.TCM EEF1A1   ⋯ -CD4.TCM Control     healthy       \n",
       "  delta_ef_value delta_ef_value_class CK CRP tp_outcome sc_counts facet2 \n",
       "2 NA             NA                   43 0.4 NA         NA        Control\n",
       "6 NA             NA                   43 0.4 NA         NA        Control"
      ]
     },
     "metadata": {},
     "output_type": "display_data"
    }
   ],
   "source": [
    "head(heatmap_data,2)"
   ]
  },
  {
   "cell_type": "code",
   "execution_count": 81,
   "id": "d088e2d4-5b63-43fa-98a6-c8a585d3a72b",
   "metadata": {},
   "outputs": [],
   "source": [
    "# Plot factor values as barplot"
   ]
  },
  {
   "cell_type": "code",
   "execution_count": 82,
   "id": "589d1895-4e08-4faf-9352-4afe01a195bf",
   "metadata": {},
   "outputs": [],
   "source": [
    "options(repr.plot.width=10, repr.plot.height=25)\n",
    "factor_value_all_bar = ggplot(data = analysis_data_subset[(analysis_data_subset$variable == factor_var),] , \n",
    "                              mapping = aes(x = gene,   y= abs(value)))+\n",
    "                            plot_config_heatmap_supp  + \n",
    "                            geom_bar(stat=\"identity\", width = 0.1) + \n",
    "                            coord_flip()+\n",
    "                            xlabel_barplot +\n",
    "                            ylabel_barplot +\n",
    "                            theme( axis.text.y = element_text( hjust = 1, vjust =1))+\n",
    "                            facet_grid(facet  ~ facet2, scales = 'free', space = 'free', switch = 'y') + theme(strip.background = element_rect(color=\"black\", fill=\"white\", linetype=\"solid\"), strip.placement = \"outside\", strip.switch.pad.grid = unit(0.5, \"cm\"))+\n",
    "                            ggtitle('')\n"
   ]
  },
  {
   "cell_type": "code",
   "execution_count": 83,
   "id": "80f404ef-32b0-4f85-a760-f82a1dc0b234",
   "metadata": {
    "tags": []
   },
   "outputs": [],
   "source": [
    "# Example of plot\n",
    "#factor_value_all_bar"
   ]
  },
  {
   "cell_type": "code",
   "execution_count": 84,
   "id": "ec41fb21-e90b-4260-8a94-ac65ec479cc9",
   "metadata": {},
   "outputs": [],
   "source": [
    "### Generate Heatmap Plot"
   ]
  },
  {
   "cell_type": "code",
   "execution_count": 85,
   "id": "1fa539f3-32a3-47a9-a57e-51aeb6d7208e",
   "metadata": {},
   "outputs": [
    {
     "data": {
      "text/html": [
       "'Factor2'"
      ],
      "text/latex": [
       "'Factor2'"
      ],
      "text/markdown": [
       "'Factor2'"
      ],
      "text/plain": [
       "[1] \"Factor2\""
      ]
     },
     "metadata": {},
     "output_type": "display_data"
    }
   ],
   "source": [
    "factor_var"
   ]
  },
  {
   "cell_type": "code",
   "execution_count": 86,
   "id": "a18eb85e-9811-49d2-9c88-7dc852dcfb79",
   "metadata": {},
   "outputs": [],
   "source": [
    "options(repr.plot.width=width_par, repr.plot.height=height_par)\n",
    "all_heatmap = ggplot(data = heatmap_data[(heatmap_data$variable == factor_var) ,], # TBD whether to filter on sample subset\n",
    "                     mapping = aes(sample_id, gene.x,  fill= expression_value)) +\n",
    "    scale_fill_gradient2(low=\"#1D2ED8\", high=\"#D8911D\", midpoint = 0) + \n",
    "    geom_tile() + \n",
    "    xlabel_heatmap +\n",
    "    ylabel_heatmap +\n",
    "    plot_config_heatmap_supp  + theme(axis.text.x = element_blank()) + \n",
    "    facet_grid(facet  ~facet2, scales = 'free', space = 'free',  switch = \"y\") + theme(strip.background = element_rect(color=\"black\", fill=\"white\", linetype=\"solid\"), strip.placement = \"outside\", strip.switch.pad.grid = unit(0.4, \"cm\"), strip.text.y.left = element_text(angle=0))+\n",
    "    theme( axis.text.y = element_text( hjust = 1, vjust =1)) + \n",
    "    ggtitle(paste0('Normalized Expression Values of top ',as.numeric(top_variable_fraction) *100 *2, '% features'))\n",
    "\n",
    "    "
   ]
  },
  {
   "cell_type": "code",
   "execution_count": 87,
   "id": "1285dfa6-2107-41e1-b483-f5e80e811d6f",
   "metadata": {
    "tags": []
   },
   "outputs": [],
   "source": [
    "# Example heatmap plot\n",
    "#all_heatmap"
   ]
  },
  {
   "cell_type": "code",
   "execution_count": 88,
   "id": "a8b07eef-d015-4aac-b9b7-1ca087b52fc6",
   "metadata": {},
   "outputs": [],
   "source": [
    "### Combined factor and heatamp plots and save the plot"
   ]
  },
  {
   "cell_type": "code",
   "execution_count": 89,
   "id": "0083c252-ace8-435d-a58f-ba3faffd82a6",
   "metadata": {},
   "outputs": [],
   "source": [
    "legend =  get_legend(all_heatmap)"
   ]
  },
  {
   "cell_type": "code",
   "execution_count": 90,
   "id": "efff6b3a-688a-425a-848e-9de8f00f6637",
   "metadata": {
    "tags": []
   },
   "outputs": [],
   "source": [
    "options(repr.plot.width=width_par, repr.plot.height=height_par)\n",
    "combined = ggarrange(all_heatmap + theme(legend.position = 'none'),\n",
    "         factor_value_all_bar + \n",
    "          theme(axis.text.y = element_blank(),axis.ticks.y = element_blank(),axis.title.y = element_blank(), strip.background.y = element_blank() , strip.text.y = element_blank()),  \n",
    "         nrow=1, widths = c(4,1), align = 'h')\n",
    "combined = annotate_figure(combined, right = legend)"
   ]
  },
  {
   "cell_type": "code",
   "execution_count": 91,
   "id": "e401caa4-bd80-47d7-90b5-ba48100a968d",
   "metadata": {},
   "outputs": [
    {
     "data": {
      "text/html": [
       "<strong>png:</strong> 2"
      ],
      "text/latex": [
       "\\textbf{png:} 2"
      ],
      "text/markdown": [
       "**png:** 2"
      ],
      "text/plain": [
       "png \n",
       "  2 "
      ]
     },
     "metadata": {},
     "output_type": "display_data"
    }
   ],
   "source": [
    "pdf(paste0('figures/05_figures/', figure_name,view_var, '_', factor_var, '_',  top_variable_fraction,  mofa_name, '.pdf'), width =width_par, height =height_par)\n",
    "print(combined)\n",
    "dev.off()"
   ]
  },
  {
   "cell_type": "code",
   "execution_count": null,
   "id": "a54feca5-3af1-4bad-ade8-a303fc0f49dd",
   "metadata": {},
   "outputs": [],
   "source": []
  },
  {
   "cell_type": "code",
   "execution_count": null,
   "id": "82a43e0c-779f-4080-8ac8-eddf5a006f12",
   "metadata": {},
   "outputs": [],
   "source": []
  }
 ],
 "metadata": {
  "kernelspec": {
   "display_name": "R",
   "language": "R",
   "name": "ir"
  },
  "language_info": {
   "codemirror_mode": "r",
   "file_extension": ".r",
   "mimetype": "text/x-r-source",
   "name": "R",
   "pygments_lexer": "r",
   "version": "4.3.2"
  },
  "toc-autonumbering": true,
  "toc-showcode": false
 },
 "nbformat": 4,
 "nbformat_minor": 5
}
