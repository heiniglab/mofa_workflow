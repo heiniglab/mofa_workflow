{
 "cells": [
  {
   "cell_type": "code",
   "execution_count": 1,
   "id": "1632f901-cdb4-4ffc-8498-bb899c6bca6a",
   "metadata": {
    "tags": []
   },
   "outputs": [],
   "source": [
    "# Load Seurat object and create pseudobulk for MOFA analysis\n",
    "# Necessary cell annotations in the seurat object are: 'cluster_id' (giving the cell-type cluster annotations), 'sample_id' (unique identifier of a sample)"
   ]
  },
  {
   "cell_type": "markdown",
   "id": "6fb4f2cb-8b92-45cf-b4b3-9ce3e0c656d0",
   "metadata": {
    "tags": []
   },
   "source": [
    "#############################################\n",
    "# Prerequisites - Load Libraries"
   ]
  },
  {
   "cell_type": "code",
   "execution_count": 2,
   "id": "24273cba-319a-431c-9a92-edc161c02103",
   "metadata": {
    "collapsed": true,
    "jupyter": {
     "outputs_hidden": true
    },
    "tags": []
   },
   "outputs": [
    {
     "name": "stderr",
     "output_type": "stream",
     "text": [
      "Warning message in read.table(file = file, header = header, sep = sep, quote = quote, :\n",
      "“incomplete final line found by readTableHeader on '../conda_environment/Environment_Configs.csv'”\n"
     ]
    },
    {
     "name": "stdout",
     "output_type": "stream",
     "text": [
      "[1] \"/home/icb/corinna.losert/miniconda3/envs/mofa_analysis//lib/R/library\"\n"
     ]
    },
    {
     "name": "stderr",
     "output_type": "stream",
     "text": [
      "‘SeuratObject’ was built with package ‘Matrix’ 1.6.3 but the current\n",
      "version is 1.6.4; it is recomended that you reinstall ‘SeuratObject’ as\n",
      "the ABI for ‘Matrix’ may have changed\n",
      "\n",
      "\n",
      "Attaching package: ‘SeuratObject’\n",
      "\n",
      "\n",
      "The following object is masked from ‘package:base’:\n",
      "\n",
      "    intersect\n",
      "\n",
      "\n",
      "Registered S3 method overwritten by 'SeuratDisk':\n",
      "  method            from  \n",
      "  as.sparse.H5Group Seurat\n",
      "\n",
      "\n",
      "Attaching package: ‘dplyr’\n",
      "\n",
      "\n",
      "The following objects are masked from ‘package:data.table’:\n",
      "\n",
      "    between, first, last\n",
      "\n",
      "\n",
      "The following objects are masked from ‘package:stats’:\n",
      "\n",
      "    filter, lag\n",
      "\n",
      "\n",
      "The following objects are masked from ‘package:base’:\n",
      "\n",
      "    intersect, setdiff, setequal, union\n",
      "\n",
      "\n",
      "── \u001b[1mAttaching core tidyverse packages\u001b[22m ──────────────────────── tidyverse 2.0.0 ──\n",
      "\u001b[32m✔\u001b[39m \u001b[34mforcats  \u001b[39m 1.0.0     \u001b[32m✔\u001b[39m \u001b[34mreadr    \u001b[39m 2.1.4\n",
      "\u001b[32m✔\u001b[39m \u001b[34mggplot2  \u001b[39m 3.4.4     \u001b[32m✔\u001b[39m \u001b[34mtibble   \u001b[39m 3.2.1\n",
      "\u001b[32m✔\u001b[39m \u001b[34mlubridate\u001b[39m 1.9.3     \u001b[32m✔\u001b[39m \u001b[34mtidyr    \u001b[39m 1.3.0\n",
      "\u001b[32m✔\u001b[39m \u001b[34mpurrr    \u001b[39m 1.0.2     \n",
      "── \u001b[1mConflicts\u001b[22m ────────────────────────────────────────── tidyverse_conflicts() ──\n",
      "\u001b[31m✖\u001b[39m \u001b[34mdplyr\u001b[39m::\u001b[32mbetween()\u001b[39m     masks \u001b[34mdata.table\u001b[39m::between()\n",
      "\u001b[31m✖\u001b[39m \u001b[34mdplyr\u001b[39m::\u001b[32mfilter()\u001b[39m      masks \u001b[34mstats\u001b[39m::filter()\n",
      "\u001b[31m✖\u001b[39m \u001b[34mdplyr\u001b[39m::\u001b[32mfirst()\u001b[39m       masks \u001b[34mdata.table\u001b[39m::first()\n",
      "\u001b[31m✖\u001b[39m \u001b[34mlubridate\u001b[39m::\u001b[32mhour()\u001b[39m    masks \u001b[34mdata.table\u001b[39m::hour()\n",
      "\u001b[31m✖\u001b[39m \u001b[34mlubridate\u001b[39m::\u001b[32misoweek()\u001b[39m masks \u001b[34mdata.table\u001b[39m::isoweek()\n",
      "\u001b[31m✖\u001b[39m \u001b[34mdplyr\u001b[39m::\u001b[32mlag()\u001b[39m         masks \u001b[34mstats\u001b[39m::lag()\n",
      "\u001b[31m✖\u001b[39m \u001b[34mdplyr\u001b[39m::\u001b[32mlast()\u001b[39m        masks \u001b[34mdata.table\u001b[39m::last()\n",
      "\u001b[31m✖\u001b[39m \u001b[34mlubridate\u001b[39m::\u001b[32mmday()\u001b[39m    masks \u001b[34mdata.table\u001b[39m::mday()\n",
      "\u001b[31m✖\u001b[39m \u001b[34mlubridate\u001b[39m::\u001b[32mminute()\u001b[39m  masks \u001b[34mdata.table\u001b[39m::minute()\n",
      "\u001b[31m✖\u001b[39m \u001b[34mlubridate\u001b[39m::\u001b[32mmonth()\u001b[39m   masks \u001b[34mdata.table\u001b[39m::month()\n",
      "\u001b[31m✖\u001b[39m \u001b[34mlubridate\u001b[39m::\u001b[32mquarter()\u001b[39m masks \u001b[34mdata.table\u001b[39m::quarter()\n",
      "\u001b[31m✖\u001b[39m \u001b[34mlubridate\u001b[39m::\u001b[32msecond()\u001b[39m  masks \u001b[34mdata.table\u001b[39m::second()\n",
      "\u001b[31m✖\u001b[39m \u001b[34mpurrr\u001b[39m::\u001b[32mtranspose()\u001b[39m   masks \u001b[34mdata.table\u001b[39m::transpose()\n",
      "\u001b[31m✖\u001b[39m \u001b[34mlubridate\u001b[39m::\u001b[32mwday()\u001b[39m    masks \u001b[34mdata.table\u001b[39m::wday()\n",
      "\u001b[31m✖\u001b[39m \u001b[34mlubridate\u001b[39m::\u001b[32mweek()\u001b[39m    masks \u001b[34mdata.table\u001b[39m::week()\n",
      "\u001b[31m✖\u001b[39m \u001b[34mlubridate\u001b[39m::\u001b[32myday()\u001b[39m    masks \u001b[34mdata.table\u001b[39m::yday()\n",
      "\u001b[31m✖\u001b[39m \u001b[34mlubridate\u001b[39m::\u001b[32myear()\u001b[39m    masks \u001b[34mdata.table\u001b[39m::year()\n",
      "\u001b[36mℹ\u001b[39m Use the conflicted package (\u001b[3m\u001b[34m<http://conflicted.r-lib.org/>\u001b[39m\u001b[23m) to force all conflicts to become errors\n",
      "\n",
      "Attaching package: ‘reshape2’\n",
      "\n",
      "\n",
      "The following object is masked from ‘package:tidyr’:\n",
      "\n",
      "    smiths\n",
      "\n",
      "\n",
      "The following objects are masked from ‘package:data.table’:\n",
      "\n",
      "    dcast, melt\n",
      "\n",
      "\n",
      "Loading required package: lattice\n",
      "\n",
      "\n",
      "Attaching package: ‘caret’\n",
      "\n",
      "\n",
      "The following object is masked from ‘package:purrr’:\n",
      "\n",
      "    lift\n",
      "\n",
      "\n",
      "\n",
      "Attaching package: ‘gridExtra’\n",
      "\n",
      "\n",
      "The following object is masked from ‘package:dplyr’:\n",
      "\n",
      "    combine\n",
      "\n",
      "\n",
      "\n",
      "Attaching package: ‘scales’\n",
      "\n",
      "\n",
      "The following object is masked from ‘package:purrr’:\n",
      "\n",
      "    discard\n",
      "\n",
      "\n",
      "The following object is masked from ‘package:readr’:\n",
      "\n",
      "    col_factor\n",
      "\n",
      "\n",
      "\n",
      "Attaching package: ‘ggraph’\n",
      "\n",
      "\n",
      "The following object is masked from ‘package:sp’:\n",
      "\n",
      "    geometry\n",
      "\n",
      "\n",
      "corrplot 0.92 loaded\n",
      "\n",
      "\n",
      "Attaching package: ‘MOFA2’\n",
      "\n",
      "\n",
      "The following object is masked from ‘package:stats’:\n",
      "\n",
      "    predict\n",
      "\n",
      "\n",
      "Loading required package: S4Vectors\n",
      "\n",
      "Loading required package: stats4\n",
      "\n",
      "Loading required package: BiocGenerics\n",
      "\n",
      "\n",
      "Attaching package: ‘BiocGenerics’\n",
      "\n",
      "\n",
      "The following object is masked from ‘package:gridExtra’:\n",
      "\n",
      "    combine\n",
      "\n",
      "\n",
      "The following objects are masked from ‘package:lubridate’:\n",
      "\n",
      "    intersect, setdiff, union\n",
      "\n",
      "\n",
      "The following objects are masked from ‘package:dplyr’:\n",
      "\n",
      "    combine, intersect, setdiff, union\n",
      "\n",
      "\n",
      "The following object is masked from ‘package:SeuratObject’:\n",
      "\n",
      "    intersect\n",
      "\n",
      "\n",
      "The following objects are masked from ‘package:stats’:\n",
      "\n",
      "    IQR, mad, sd, var, xtabs\n",
      "\n",
      "\n",
      "The following objects are masked from ‘package:base’:\n",
      "\n",
      "    anyDuplicated, aperm, append, as.data.frame, basename, cbind,\n",
      "    colnames, dirname, do.call, duplicated, eval, evalq, Filter, Find,\n",
      "    get, grep, grepl, intersect, is.unsorted, lapply, Map, mapply,\n",
      "    match, mget, order, paste, pmax, pmax.int, pmin, pmin.int,\n",
      "    Position, rank, rbind, Reduce, rownames, sapply, setdiff, sort,\n",
      "    table, tapply, union, unique, unsplit, which.max, which.min\n",
      "\n",
      "\n",
      "\n",
      "Attaching package: ‘S4Vectors’\n",
      "\n",
      "\n",
      "The following objects are masked from ‘package:lubridate’:\n",
      "\n",
      "    second, second<-\n",
      "\n",
      "\n",
      "The following object is masked from ‘package:tidyr’:\n",
      "\n",
      "    expand\n",
      "\n",
      "\n",
      "The following objects are masked from ‘package:dplyr’:\n",
      "\n",
      "    first, rename\n",
      "\n",
      "\n",
      "The following objects are masked from ‘package:data.table’:\n",
      "\n",
      "    first, second\n",
      "\n",
      "\n",
      "The following object is masked from ‘package:utils’:\n",
      "\n",
      "    findMatches\n",
      "\n",
      "\n",
      "The following objects are masked from ‘package:base’:\n",
      "\n",
      "    expand.grid, I, unname\n",
      "\n",
      "\n",
      "Loading required package: IRanges\n",
      "\n",
      "\n",
      "Attaching package: ‘IRanges’\n",
      "\n",
      "\n",
      "The following object is masked from ‘package:lubridate’:\n",
      "\n",
      "    %within%\n",
      "\n",
      "\n",
      "The following object is masked from ‘package:purrr’:\n",
      "\n",
      "    reduce\n",
      "\n",
      "\n",
      "The following objects are masked from ‘package:dplyr’:\n",
      "\n",
      "    collapse, desc, slice\n",
      "\n",
      "\n",
      "The following object is masked from ‘package:data.table’:\n",
      "\n",
      "    shift\n",
      "\n",
      "\n",
      "The following object is masked from ‘package:sp’:\n",
      "\n",
      "    %over%\n",
      "\n",
      "\n",
      "Loading required package: GenomicRanges\n",
      "\n",
      "Loading required package: GenomeInfoDb\n",
      "\n",
      "Loading required package: SummarizedExperiment\n",
      "\n",
      "Loading required package: MatrixGenerics\n",
      "\n",
      "Loading required package: matrixStats\n",
      "\n",
      "\n",
      "Attaching package: ‘matrixStats’\n",
      "\n",
      "\n",
      "The following object is masked from ‘package:dplyr’:\n",
      "\n",
      "    count\n",
      "\n",
      "\n",
      "\n",
      "Attaching package: ‘MatrixGenerics’\n",
      "\n",
      "\n",
      "The following objects are masked from ‘package:matrixStats’:\n",
      "\n",
      "    colAlls, colAnyNAs, colAnys, colAvgsPerRowSet, colCollapse,\n",
      "    colCounts, colCummaxs, colCummins, colCumprods, colCumsums,\n",
      "    colDiffs, colIQRDiffs, colIQRs, colLogSumExps, colMadDiffs,\n",
      "    colMads, colMaxs, colMeans2, colMedians, colMins, colOrderStats,\n",
      "    colProds, colQuantiles, colRanges, colRanks, colSdDiffs, colSds,\n",
      "    colSums2, colTabulates, colVarDiffs, colVars, colWeightedMads,\n",
      "    colWeightedMeans, colWeightedMedians, colWeightedSds,\n",
      "    colWeightedVars, rowAlls, rowAnyNAs, rowAnys, rowAvgsPerColSet,\n",
      "    rowCollapse, rowCounts, rowCummaxs, rowCummins, rowCumprods,\n",
      "    rowCumsums, rowDiffs, rowIQRDiffs, rowIQRs, rowLogSumExps,\n",
      "    rowMadDiffs, rowMads, rowMaxs, rowMeans2, rowMedians, rowMins,\n",
      "    rowOrderStats, rowProds, rowQuantiles, rowRanges, rowRanks,\n",
      "    rowSdDiffs, rowSds, rowSums2, rowTabulates, rowVarDiffs, rowVars,\n",
      "    rowWeightedMads, rowWeightedMeans, rowWeightedMedians,\n",
      "    rowWeightedSds, rowWeightedVars\n",
      "\n",
      "\n",
      "Loading required package: Biobase\n",
      "\n",
      "Welcome to Bioconductor\n",
      "\n",
      "    Vignettes contain introductory material; view with\n",
      "    'browseVignettes()'. To cite Bioconductor, see\n",
      "    'citation(\"Biobase\")', and for packages 'citation(\"pkgname\")'.\n",
      "\n",
      "\n",
      "\n",
      "Attaching package: ‘Biobase’\n",
      "\n",
      "\n",
      "The following object is masked from ‘package:MatrixGenerics’:\n",
      "\n",
      "    rowMedians\n",
      "\n",
      "\n",
      "The following objects are masked from ‘package:matrixStats’:\n",
      "\n",
      "    anyMissing, rowMedians\n",
      "\n",
      "\n",
      "\n",
      "Attaching package: ‘SummarizedExperiment’\n",
      "\n",
      "\n",
      "The following object is masked from ‘package:Seurat’:\n",
      "\n",
      "    Assays\n",
      "\n",
      "\n",
      "The following object is masked from ‘package:SeuratObject’:\n",
      "\n",
      "    Assays\n",
      "\n",
      "\n",
      "Registered S3 method overwritten by 'EnvStats':\n",
      "  method         from\n",
      "  print.estimate lava\n",
      "\n"
     ]
    }
   ],
   "source": [
    "source('MS0_Libraries.r')"
   ]
  },
  {
   "cell_type": "code",
   "execution_count": 3,
   "id": "511a61fa-e25c-4729-a472-b494f5b67750",
   "metadata": {
    "tags": []
   },
   "outputs": [
    {
     "name": "stderr",
     "output_type": "stream",
     "text": [
      "Warning message:\n",
      "“\u001b[1m\u001b[22mThe `size` argument of `element_line()` is deprecated as of ggplot2 3.4.0.\n",
      "\u001b[36mℹ\u001b[39m Please use the `linewidth` argument instead.”\n"
     ]
    }
   ],
   "source": [
    "source('MS2_Plot_Config.r')"
   ]
  },
  {
   "cell_type": "markdown",
   "id": "372814ca-7f2b-4f60-810e-664ce4208695",
   "metadata": {
    "tags": []
   },
   "source": [
    "###############################################\n",
    "# Preqrequisites Configurations & Parameters"
   ]
  },
  {
   "cell_type": "code",
   "execution_count": 4,
   "id": "f40bbaac-14e6-4da5-9899-240a61a46d23",
   "metadata": {},
   "outputs": [],
   "source": [
    "### Load the parameters that are set via the configuration files"
   ]
  },
  {
   "cell_type": "code",
   "execution_count": 5,
   "id": "0882b026-e1b0-4467-a5d6-a8bfddabfa91",
   "metadata": {},
   "outputs": [
    {
     "name": "stderr",
     "output_type": "stream",
     "text": [
      "Warning message in read.table(file = file, header = header, sep = sep, quote = quote, :\n",
      "“incomplete final line found by readTableHeader on 'configurations/Data_Configs.csv'”\n"
     ]
    }
   ],
   "source": [
    "### Load configurations file\n",
    "global_configs = read.csv('configurations/Data_Configs.csv', sep = ',')"
   ]
  },
  {
   "cell_type": "code",
   "execution_count": 6,
   "id": "dbffb6f6-b79a-43de-9927-a0c6f7418fc1",
   "metadata": {},
   "outputs": [
    {
     "data": {
      "text/html": [
       "<table class=\"dataframe\">\n",
       "<caption>A data.frame: 2 × 2</caption>\n",
       "<thead>\n",
       "\t<tr><th></th><th scope=col>parameter</th><th scope=col>value</th></tr>\n",
       "\t<tr><th></th><th scope=col>&lt;chr&gt;</th><th scope=col>&lt;chr&gt;</th></tr>\n",
       "</thead>\n",
       "<tbody>\n",
       "\t<tr><th scope=row>1</th><td>data_path  </td><td>/lustre/groups/epigenereg01/workspace/projects/jove/input_data/</td></tr>\n",
       "\t<tr><th scope=row>2</th><td>result_path</td><td>/lustre/groups/epigenereg01/workspace/projects/jove/results/   </td></tr>\n",
       "</tbody>\n",
       "</table>\n"
      ],
      "text/latex": [
       "A data.frame: 2 × 2\n",
       "\\begin{tabular}{r|ll}\n",
       "  & parameter & value\\\\\n",
       "  & <chr> & <chr>\\\\\n",
       "\\hline\n",
       "\t1 & data\\_path   & /lustre/groups/epigenereg01/workspace/projects/jove/input\\_data/\\\\\n",
       "\t2 & result\\_path & /lustre/groups/epigenereg01/workspace/projects/jove/results/   \\\\\n",
       "\\end{tabular}\n"
      ],
      "text/markdown": [
       "\n",
       "A data.frame: 2 × 2\n",
       "\n",
       "| <!--/--> | parameter &lt;chr&gt; | value &lt;chr&gt; |\n",
       "|---|---|---|\n",
       "| 1 | data_path   | /lustre/groups/epigenereg01/workspace/projects/jove/input_data/ |\n",
       "| 2 | result_path | /lustre/groups/epigenereg01/workspace/projects/jove/results/    |\n",
       "\n"
      ],
      "text/plain": [
       "  parameter   value                                                          \n",
       "1 data_path   /lustre/groups/epigenereg01/workspace/projects/jove/input_data/\n",
       "2 result_path /lustre/groups/epigenereg01/workspace/projects/jove/results/   "
      ]
     },
     "metadata": {},
     "output_type": "display_data"
    }
   ],
   "source": [
    "head(global_configs,2)"
   ]
  },
  {
   "cell_type": "code",
   "execution_count": 7,
   "id": "9ca323b2-5728-45af-8481-2fd6938415f5",
   "metadata": {},
   "outputs": [],
   "source": [
    "data_path = global_configs$value[global_configs$parameter == 'data_path']"
   ]
  },
  {
   "cell_type": "code",
   "execution_count": 8,
   "id": "5be8858f-44cc-484e-90bf-18da832d05bb",
   "metadata": {},
   "outputs": [
    {
     "data": {
      "text/html": [
       "'/lustre/groups/epigenereg01/workspace/projects/jove/input_data/'"
      ],
      "text/latex": [
       "'/lustre/groups/epigenereg01/workspace/projects/jove/input\\_data/'"
      ],
      "text/markdown": [
       "'/lustre/groups/epigenereg01/workspace/projects/jove/input_data/'"
      ],
      "text/plain": [
       "[1] \"/lustre/groups/epigenereg01/workspace/projects/jove/input_data/\""
      ]
     },
     "metadata": {},
     "output_type": "display_data"
    }
   ],
   "source": [
    "data_path"
   ]
  },
  {
   "cell_type": "code",
   "execution_count": 9,
   "id": "33a64f2c-4efc-4304-bc38-e487e9818374",
   "metadata": {},
   "outputs": [],
   "source": [
    "result_path = global_configs$value[global_configs$parameter == 'result_path']"
   ]
  },
  {
   "cell_type": "code",
   "execution_count": 10,
   "id": "4cf8589f-4c50-4746-8fbe-778067b891c3",
   "metadata": {},
   "outputs": [
    {
     "data": {
      "text/html": [
       "'/lustre/groups/epigenereg01/workspace/projects/jove/results/'"
      ],
      "text/latex": [
       "'/lustre/groups/epigenereg01/workspace/projects/jove/results/'"
      ],
      "text/markdown": [
       "'/lustre/groups/epigenereg01/workspace/projects/jove/results/'"
      ],
      "text/plain": [
       "[1] \"/lustre/groups/epigenereg01/workspace/projects/jove/results/\""
      ]
     },
     "metadata": {},
     "output_type": "display_data"
    }
   ],
   "source": [
    "result_path"
   ]
  },
  {
   "cell_type": "code",
   "execution_count": 11,
   "id": "6fa83d4a-07d1-4d38-a95a-f1eb347bd093",
   "metadata": {},
   "outputs": [],
   "source": [
    "## Loading the file containing the name of the single-cell dataset"
   ]
  },
  {
   "cell_type": "code",
   "execution_count": 12,
   "id": "859517e5-619b-4b03-bb9f-032620bca793",
   "metadata": {},
   "outputs": [
    {
     "name": "stderr",
     "output_type": "stream",
     "text": [
      "Warning message in read.table(file = file, header = header, sep = sep, quote = quote, :\n",
      "“incomplete final line found by readTableHeader on 'configurations/01_Pre_Processing_SC_Data.csv'”\n"
     ]
    }
   ],
   "source": [
    "sc_configs = read.csv('configurations/01_Pre_Processing_SC_Data.csv', sep = ',')"
   ]
  },
  {
   "cell_type": "code",
   "execution_count": 13,
   "id": "7133dd81-6136-4072-a1a7-faf15e36c03b",
   "metadata": {},
   "outputs": [
    {
     "data": {
      "text/html": [
       "<table class=\"dataframe\">\n",
       "<caption>A data.frame: 1 × 2</caption>\n",
       "<thead>\n",
       "\t<tr><th></th><th scope=col>data_name</th><th scope=col>data_type</th></tr>\n",
       "\t<tr><th></th><th scope=col>&lt;chr&gt;</th><th scope=col>&lt;chr&gt;</th></tr>\n",
       "</thead>\n",
       "<tbody>\n",
       "\t<tr><th scope=row>1</th><td>Prepared_sc_Data</td><td>h5seurat</td></tr>\n",
       "</tbody>\n",
       "</table>\n"
      ],
      "text/latex": [
       "A data.frame: 1 × 2\n",
       "\\begin{tabular}{r|ll}\n",
       "  & data\\_name & data\\_type\\\\\n",
       "  & <chr> & <chr>\\\\\n",
       "\\hline\n",
       "\t1 & Prepared\\_sc\\_Data & h5seurat\\\\\n",
       "\\end{tabular}\n"
      ],
      "text/markdown": [
       "\n",
       "A data.frame: 1 × 2\n",
       "\n",
       "| <!--/--> | data_name &lt;chr&gt; | data_type &lt;chr&gt; |\n",
       "|---|---|---|\n",
       "| 1 | Prepared_sc_Data | h5seurat |\n",
       "\n"
      ],
      "text/plain": [
       "  data_name        data_type\n",
       "1 Prepared_sc_Data h5seurat "
      ]
     },
     "metadata": {},
     "output_type": "display_data"
    }
   ],
   "source": [
    "head(sc_configs,2)"
   ]
  },
  {
   "cell_type": "code",
   "execution_count": 14,
   "id": "37b3ecc4-38c5-4ce7-ae42-d13a513d8c7e",
   "metadata": {},
   "outputs": [],
   "source": [
    "sc_configs = sc_configs[sc_configs$data_name != '',]"
   ]
  },
  {
   "cell_type": "code",
   "execution_count": 15,
   "id": "a66679b0-eeb2-4383-9c17-acab80539649",
   "metadata": {},
   "outputs": [],
   "source": [
    "sc_dataset_names = unique(sc_configs$data_name)"
   ]
  },
  {
   "cell_type": "code",
   "execution_count": 16,
   "id": "0fdb354b-1e22-47da-aa3d-521c3a3a018e",
   "metadata": {},
   "outputs": [
    {
     "data": {
      "text/html": [
       "'Prepared_sc_Data'"
      ],
      "text/latex": [
       "'Prepared\\_sc\\_Data'"
      ],
      "text/markdown": [
       "'Prepared_sc_Data'"
      ],
      "text/plain": [
       "[1] \"Prepared_sc_Data\""
      ]
     },
     "metadata": {},
     "output_type": "display_data"
    }
   ],
   "source": [
    "sc_dataset_names"
   ]
  },
  {
   "cell_type": "code",
   "execution_count": 17,
   "id": "bfeca97e-9d66-4a4b-991b-609f39d8db0e",
   "metadata": {
    "tags": []
   },
   "outputs": [],
   "source": [
    "### Generate the result data directory if it does not exist yet\n",
    "if(!file.exists(paste0(result_path, '01_results'))){\n",
    "    dir.create(file.path(paste0(result_path, '01_results')))\n",
    "    }"
   ]
  },
  {
   "cell_type": "markdown",
   "id": "5dea8679-c933-48ea-af8b-cf9d2cfc5b15",
   "metadata": {},
   "source": [
    "# Load Data "
   ]
  },
  {
   "cell_type": "markdown",
   "id": "b42a9566-612f-4e1f-b658-676b22e5e69e",
   "metadata": {
    "tags": []
   },
   "source": [
    "## Load Seurat object"
   ]
  },
  {
   "cell_type": "code",
   "execution_count": 18,
   "id": "bd4c90d4-0743-44f0-9b52-6ba8b4bec086",
   "metadata": {},
   "outputs": [],
   "source": [
    "### Load single-cell datasets as h5seurat format; should contain the meta-columns: sample_id; cluster_id\n",
    "### Raw Counts should be given in default assay"
   ]
  },
  {
   "cell_type": "code",
   "execution_count": 19,
   "id": "8e4e726a-5da5-4dbc-b2aa-7a1308c0391c",
   "metadata": {
    "tags": []
   },
   "outputs": [],
   "source": [
    "sc_data_list = list()"
   ]
  },
  {
   "cell_type": "code",
   "execution_count": null,
   "id": "342956a0-0375-4eb0-9286-143e403ff3b8",
   "metadata": {
    "tags": []
   },
   "outputs": [
    {
     "name": "stdout",
     "output_type": "stream",
     "text": [
      "[1] \"/lustre/groups/epigenereg01/workspace/projects/jove/input_data//Prepared_sc_Data.h5seurat\"\n",
      "[1] \"2023-12-08 10:27:41 CET\"\n"
     ]
    },
    {
     "name": "stderr",
     "output_type": "stream",
     "text": [
      "Validating h5Seurat file\n",
      "\n",
      "Initializing RNA with data\n",
      "\n",
      "Adding counts for RNA\n",
      "\n"
     ]
    }
   ],
   "source": [
    "###### Load the generated seurat objects\n",
    "for(i in sc_dataset_names){\n",
    "    source_text = paste( data_path, '/', i , '.h5seurat', sep = '')\n",
    "    print(source_text)\n",
    "    print(file.info(source_text)$mtime)\n",
    "    rna_seurat_data = LoadH5Seurat(source_text, assays = \"RNA\", quietly = TRUE )\n",
    "    \n",
    "    sc_data_list[[i]] = rna_seurat_data\n",
    "    }\n"
   ]
  },
  {
   "cell_type": "markdown",
   "id": "7beba9e0-c4b7-4da3-a615-6e5087769185",
   "metadata": {},
   "source": [
    "## Data - Checks "
   ]
  },
  {
   "cell_type": "code",
   "execution_count": 25,
   "id": "76d8edfb-c208-44bf-9a48-e4705abe948d",
   "metadata": {},
   "outputs": [],
   "source": [
    "# Optional execute some checks to see whether raw counts will be used"
   ]
  },
  {
   "cell_type": "code",
   "execution_count": 26,
   "id": "7a311fd6-d4e7-47e2-aefe-cf06f38f6692",
   "metadata": {},
   "outputs": [],
   "source": [
    "#head(colSums(x = rna_seurat_data, slot = \"counts\") )  # raw count values from original matrix"
   ]
  },
  {
   "cell_type": "code",
   "execution_count": 27,
   "id": "1c6fcae9-cd3a-4e8d-8d5b-8a35d2a10029",
   "metadata": {},
   "outputs": [],
   "source": [
    "#colnames(rna_seurat_data[[]]) # needs to contain cluster_id + sample_id"
   ]
  },
  {
   "cell_type": "code",
   "execution_count": 28,
   "id": "3d0f4599-7992-467d-bc96-6343e10a1af1",
   "metadata": {},
   "outputs": [],
   "source": [
    "#dim(rna_seurat_data@assays$RNA@scale.data)"
   ]
  },
  {
   "cell_type": "code",
   "execution_count": 29,
   "id": "3457aa22-ef49-4876-b429-c6ae07750ac0",
   "metadata": {},
   "outputs": [],
   "source": [
    "#DefaultAssay(rna_seurat_data)  "
   ]
  },
  {
   "cell_type": "code",
   "execution_count": 30,
   "id": "80145e2d-0cbe-4878-a353-6f4f900e39ac",
   "metadata": {},
   "outputs": [],
   "source": [
    "## Add dummy group_id (this is necessary for the aggregation function but will not be used in any other way)"
   ]
  },
  {
   "cell_type": "code",
   "execution_count": 31,
   "id": "aba31190-8c6e-402a-80a9-e0a4ae45f7c7",
   "metadata": {},
   "outputs": [],
   "source": [
    "sc_data_list = lapply(sc_data_list, function(x){\n",
    "    x$group_id = 'dummy'\n",
    "    return(x)\n",
    "    })"
   ]
  },
  {
   "cell_type": "code",
   "execution_count": 32,
   "id": "3986e2a0-a129-4dba-9f40-e6ec044aaba1",
   "metadata": {},
   "outputs": [
    {
     "data": {
      "text/html": [
       "<table class=\"dataframe\">\n",
       "<caption>A data.frame: 2 × 3</caption>\n",
       "<thead>\n",
       "\t<tr><th></th><th scope=col>cluster_id</th><th scope=col>sample_id</th><th scope=col>group_id</th></tr>\n",
       "\t<tr><th></th><th scope=col>&lt;chr&gt;</th><th scope=col>&lt;chr&gt;</th><th scope=col>&lt;chr&gt;</th></tr>\n",
       "</thead>\n",
       "<tbody>\n",
       "\t<tr><th scope=row>AAACCCACATACAGGG-1-L1</th><td>B cell   </td><td>m9.1</td><td>dummy</td></tr>\n",
       "\t<tr><th scope=row>AAACCCACATGACTTG-1-L1</th><td>CD16 Mono</td><td>m9.1</td><td>dummy</td></tr>\n",
       "</tbody>\n",
       "</table>\n"
      ],
      "text/latex": [
       "A data.frame: 2 × 3\n",
       "\\begin{tabular}{r|lll}\n",
       "  & cluster\\_id & sample\\_id & group\\_id\\\\\n",
       "  & <chr> & <chr> & <chr>\\\\\n",
       "\\hline\n",
       "\tAAACCCACATACAGGG-1-L1 & B cell    & m9.1 & dummy\\\\\n",
       "\tAAACCCACATGACTTG-1-L1 & CD16 Mono & m9.1 & dummy\\\\\n",
       "\\end{tabular}\n"
      ],
      "text/markdown": [
       "\n",
       "A data.frame: 2 × 3\n",
       "\n",
       "| <!--/--> | cluster_id &lt;chr&gt; | sample_id &lt;chr&gt; | group_id &lt;chr&gt; |\n",
       "|---|---|---|---|\n",
       "| AAACCCACATACAGGG-1-L1 | B cell    | m9.1 | dummy |\n",
       "| AAACCCACATGACTTG-1-L1 | CD16 Mono | m9.1 | dummy |\n",
       "\n"
      ],
      "text/plain": [
       "                      cluster_id sample_id group_id\n",
       "AAACCCACATACAGGG-1-L1 B cell     m9.1      dummy   \n",
       "AAACCCACATGACTTG-1-L1 CD16 Mono  m9.1      dummy   "
      ]
     },
     "metadata": {},
     "output_type": "display_data"
    }
   ],
   "source": [
    "head(sc_data_list[[1]]@meta.data,2)"
   ]
  },
  {
   "cell_type": "markdown",
   "id": "bb5686ee-7302-4b8f-927e-0b74de33a6a8",
   "metadata": {
    "tags": []
   },
   "source": [
    "# Data Processing"
   ]
  },
  {
   "cell_type": "markdown",
   "id": "234c8c17-2b81-4809-ab9c-f5dbfea77dc5",
   "metadata": {
    "tags": []
   },
   "source": [
    "## Convert to SCE "
   ]
  },
  {
   "cell_type": "code",
   "execution_count": 33,
   "id": "f0d9f6ae-8605-439a-b44d-1e3efc147398",
   "metadata": {},
   "outputs": [],
   "source": [
    "### Convert the seurat format to Single-Cell Experiment format (as this is the input required by the aggregation function)"
   ]
  },
  {
   "cell_type": "code",
   "execution_count": 34,
   "id": "b2874d82-aece-424d-b312-47a02850c196",
   "metadata": {},
   "outputs": [],
   "source": [
    "sc_data_list = lapply(sc_data_list, function(x){\n",
    "    as.SingleCellExperiment(x)\n",
    "    })\n",
    "    "
   ]
  },
  {
   "cell_type": "code",
   "execution_count": 35,
   "id": "6586d897-0da8-44e5-a8ea-c2ffd8fceb64",
   "metadata": {},
   "outputs": [
    {
     "data": {
      "text/plain": [
       "class: SingleCellExperiment \n",
       "dim: 19221 148275 \n",
       "metadata(0):\n",
       "assays(2): counts logcounts\n",
       "rownames(19221): AL627309.1 AL627309.4 ... AC004556.1 AC240274.1\n",
       "rowData names(0):\n",
       "colnames(148275): AAACCCACATACAGGG-1-L1 AAACCCACATGACTTG-1-L1 ...\n",
       "  TTTGTTGGTGGACCAA-1-L14 TTTGTTGTCGAAGAAT-1-L14\n",
       "colData names(4): cluster_id sample_id group_id ident\n",
       "reducedDimNames(0):\n",
       "mainExpName: RNA\n",
       "altExpNames(0):"
      ]
     },
     "metadata": {},
     "output_type": "display_data"
    }
   ],
   "source": [
    "sc_data_list[[1]]"
   ]
  },
  {
   "cell_type": "markdown",
   "id": "d6803dcd-f85d-413f-bf11-03aea569773f",
   "metadata": {
    "tags": []
   },
   "source": [
    "## Check amount of cells per sample and cluster "
   ]
  },
  {
   "cell_type": "code",
   "execution_count": 36,
   "id": "570ded28-f92f-4879-b0b2-7484fb907596",
   "metadata": {},
   "outputs": [],
   "source": [
    "### Check the amount of cells per sample and cluster to evaluate which cell-type clusters might have too low amount of cells per sample"
   ]
  },
  {
   "cell_type": "code",
   "execution_count": 37,
   "id": "d652a37f-3f8c-44a5-992e-cfedbb4705fe",
   "metadata": {},
   "outputs": [
    {
     "data": {
      "text/html": [
       "<strong>$Prepared_sc_Data</strong> = <style>\n",
       ".dl-inline {width: auto; margin:0; padding: 0}\n",
       ".dl-inline>dt, .dl-inline>dd {float: none; width: auto; display: inline-block}\n",
       ".dl-inline>dt::after {content: \":\\0020\"; padding-right: .5ex}\n",
       ".dl-inline>dt:not(:first-of-type) {padding-left: .5ex}\n",
       "</style><dl class=dl-inline><dt>ASDC</dt><dd>8</dd><dt>B cell</dt><dd>9829</dd><dt>CD14 Mono</dt><dd>32727</dd><dt>CD16 Mono</dt><dd>4680</dd><dt>CD4 CTL</dt><dd>2346</dd><dt>CD4 Naive</dt><dd>6495</dd><dt>CD4 Proliferating</dt><dd>108</dd><dt>CD4 TCM</dt><dd>45102</dd><dt>CD4 TEM</dt><dd>6296</dd><dt>CD8 Naive</dt><dd>2612</dd><dt>CD8 Proliferating</dt><dd>13</dd><dt>CD8 TCM</dt><dd>525</dd><dt>CD8 TEM</dt><dd>10611</dd><dt>cDC1</dt><dd>83</dd><dt>cDC2</dt><dd>1314</dd><dt>dnT</dt><dd>130</dd><dt>Doublet</dt><dd>48</dd><dt>Eryth</dt><dd>6</dd><dt>gdT</dt><dd>1901</dd><dt>HSPC</dt><dd>332</dd><dt>ILC</dt><dd>931</dd><dt>MAIT</dt><dd>1177</dd><dt>NK</dt><dd>15699</dd><dt>NK Proliferating</dt><dd>168</dd><dt>NK_CD56bright</dt><dd>874</dd><dt>pDC</dt><dd>745</dd><dt>Plasmablast</dt><dd>703</dd><dt>Platelet</dt><dd>450</dd><dt>Treg</dt><dd>2362</dd></dl>\n"
      ],
      "text/latex": [
       "\\textbf{\\$Prepared\\_sc\\_Data} = \\begin{description*}\n",
       "\\item[ASDC] 8\n",
       "\\item[B cell] 9829\n",
       "\\item[CD14 Mono] 32727\n",
       "\\item[CD16 Mono] 4680\n",
       "\\item[CD4 CTL] 2346\n",
       "\\item[CD4 Naive] 6495\n",
       "\\item[CD4 Proliferating] 108\n",
       "\\item[CD4 TCM] 45102\n",
       "\\item[CD4 TEM] 6296\n",
       "\\item[CD8 Naive] 2612\n",
       "\\item[CD8 Proliferating] 13\n",
       "\\item[CD8 TCM] 525\n",
       "\\item[CD8 TEM] 10611\n",
       "\\item[cDC1] 83\n",
       "\\item[cDC2] 1314\n",
       "\\item[dnT] 130\n",
       "\\item[Doublet] 48\n",
       "\\item[Eryth] 6\n",
       "\\item[gdT] 1901\n",
       "\\item[HSPC] 332\n",
       "\\item[ILC] 931\n",
       "\\item[MAIT] 1177\n",
       "\\item[NK] 15699\n",
       "\\item[NK Proliferating] 168\n",
       "\\item[NK\\textbackslash{}\\_CD56bright] 874\n",
       "\\item[pDC] 745\n",
       "\\item[Plasmablast] 703\n",
       "\\item[Platelet] 450\n",
       "\\item[Treg] 2362\n",
       "\\end{description*}\n"
      ],
      "text/markdown": [
       "**$Prepared_sc_Data** = ASDC\n",
       ":   8B cell\n",
       ":   9829CD14 Mono\n",
       ":   32727CD16 Mono\n",
       ":   4680CD4 CTL\n",
       ":   2346CD4 Naive\n",
       ":   6495CD4 Proliferating\n",
       ":   108CD4 TCM\n",
       ":   45102CD4 TEM\n",
       ":   6296CD8 Naive\n",
       ":   2612CD8 Proliferating\n",
       ":   13CD8 TCM\n",
       ":   525CD8 TEM\n",
       ":   10611cDC1\n",
       ":   83cDC2\n",
       ":   1314dnT\n",
       ":   130Doublet\n",
       ":   48Eryth\n",
       ":   6gdT\n",
       ":   1901HSPC\n",
       ":   332ILC\n",
       ":   931MAIT\n",
       ":   1177NK\n",
       ":   15699NK Proliferating\n",
       ":   168NK_CD56bright\n",
       ":   874pDC\n",
       ":   745Plasmablast\n",
       ":   703Platelet\n",
       ":   450Treg\n",
       ":   2362\n",
       "\n"
      ],
      "text/plain": [
       "$Prepared_sc_Data\n",
       "             ASDC            B cell         CD14 Mono         CD16 Mono \n",
       "                8              9829             32727              4680 \n",
       "          CD4 CTL         CD4 Naive CD4 Proliferating           CD4 TCM \n",
       "             2346              6495               108             45102 \n",
       "          CD4 TEM         CD8 Naive CD8 Proliferating           CD8 TCM \n",
       "             6296              2612                13               525 \n",
       "          CD8 TEM              cDC1              cDC2               dnT \n",
       "            10611                83              1314               130 \n",
       "          Doublet             Eryth               gdT              HSPC \n",
       "               48                 6              1901               332 \n",
       "              ILC              MAIT                NK  NK Proliferating \n",
       "              931              1177             15699               168 \n",
       "    NK_CD56bright               pDC       Plasmablast          Platelet \n",
       "              874               745               703               450 \n",
       "             Treg \n",
       "             2362 \n"
      ]
     },
     "metadata": {},
     "output_type": "display_data"
    }
   ],
   "source": [
    "### Amount of cells per cluster\n",
    "lapply(sc_data_list, function(x){\n",
    "    colSums(table(x$cluster_id,x$cluster_id ))\n",
    "    })"
   ]
  },
  {
   "cell_type": "code",
   "execution_count": 38,
   "id": "66fcbabe-13da-496f-bdd3-74323587a0e0",
   "metadata": {},
   "outputs": [],
   "source": [
    "### Save the result as a dataframe for usage in the next script"
   ]
  },
  {
   "cell_type": "code",
   "execution_count": 39,
   "id": "b912887a-be08-45cd-b057-b3ad49136835",
   "metadata": {},
   "outputs": [],
   "source": [
    "cells_per_sample_cluster = lapply(sc_data_list, function(x){\n",
    "    as.data.frame( t(table(x$cluster_id, x$sample_id)))\n",
    "    })"
   ]
  },
  {
   "cell_type": "code",
   "execution_count": 40,
   "id": "cdd8d7d8-48be-4ce1-b0be-0a93edf55ab5",
   "metadata": {},
   "outputs": [],
   "source": [
    "### Rename columns"
   ]
  },
  {
   "cell_type": "code",
   "execution_count": 41,
   "id": "179d1484-7fb6-46c0-b5dc-95ed9a296274",
   "metadata": {},
   "outputs": [],
   "source": [
    "cells_per_sample_cluster = lapply(cells_per_sample_cluster, function(x){\n",
    "    colnames(x) = c('sample_id', 'cluster_id', 'Freq')\n",
    "    return(x)\n",
    "    })"
   ]
  },
  {
   "cell_type": "code",
   "execution_count": 42,
   "id": "132ad81d-bf1f-4d50-80a6-fccf3b62d94c",
   "metadata": {},
   "outputs": [
    {
     "data": {
      "text/html": [
       "<table class=\"dataframe\">\n",
       "<caption>A data.frame: 6 × 3</caption>\n",
       "<thead>\n",
       "\t<tr><th></th><th scope=col>sample_id</th><th scope=col>cluster_id</th><th scope=col>Freq</th></tr>\n",
       "\t<tr><th></th><th scope=col>&lt;fct&gt;</th><th scope=col>&lt;fct&gt;</th><th scope=col>&lt;int&gt;</th></tr>\n",
       "</thead>\n",
       "<tbody>\n",
       "\t<tr><th scope=row>1</th><td>k10</td><td>ASDC</td><td>0</td></tr>\n",
       "\t<tr><th scope=row>2</th><td>k11</td><td>ASDC</td><td>0</td></tr>\n",
       "\t<tr><th scope=row>3</th><td>k12</td><td>ASDC</td><td>0</td></tr>\n",
       "\t<tr><th scope=row>4</th><td>k13</td><td>ASDC</td><td>0</td></tr>\n",
       "\t<tr><th scope=row>5</th><td>k14</td><td>ASDC</td><td>0</td></tr>\n",
       "\t<tr><th scope=row>6</th><td>k15</td><td>ASDC</td><td>0</td></tr>\n",
       "</tbody>\n",
       "</table>\n"
      ],
      "text/latex": [
       "A data.frame: 6 × 3\n",
       "\\begin{tabular}{r|lll}\n",
       "  & sample\\_id & cluster\\_id & Freq\\\\\n",
       "  & <fct> & <fct> & <int>\\\\\n",
       "\\hline\n",
       "\t1 & k10 & ASDC & 0\\\\\n",
       "\t2 & k11 & ASDC & 0\\\\\n",
       "\t3 & k12 & ASDC & 0\\\\\n",
       "\t4 & k13 & ASDC & 0\\\\\n",
       "\t5 & k14 & ASDC & 0\\\\\n",
       "\t6 & k15 & ASDC & 0\\\\\n",
       "\\end{tabular}\n"
      ],
      "text/markdown": [
       "\n",
       "A data.frame: 6 × 3\n",
       "\n",
       "| <!--/--> | sample_id &lt;fct&gt; | cluster_id &lt;fct&gt; | Freq &lt;int&gt; |\n",
       "|---|---|---|---|\n",
       "| 1 | k10 | ASDC | 0 |\n",
       "| 2 | k11 | ASDC | 0 |\n",
       "| 3 | k12 | ASDC | 0 |\n",
       "| 4 | k13 | ASDC | 0 |\n",
       "| 5 | k14 | ASDC | 0 |\n",
       "| 6 | k15 | ASDC | 0 |\n",
       "\n"
      ],
      "text/plain": [
       "  sample_id cluster_id Freq\n",
       "1 k10       ASDC       0   \n",
       "2 k11       ASDC       0   \n",
       "3 k12       ASDC       0   \n",
       "4 k13       ASDC       0   \n",
       "5 k14       ASDC       0   \n",
       "6 k15       ASDC       0   "
      ]
     },
     "metadata": {},
     "output_type": "display_data"
    }
   ],
   "source": [
    "head(cells_per_sample_cluster[[1]])"
   ]
  },
  {
   "cell_type": "code",
   "execution_count": 43,
   "id": "6f717161-62d5-45a3-a314-13af3ebb862c",
   "metadata": {},
   "outputs": [
    {
     "data": {
      "text/html": [
       "'Prepared_sc_Data'"
      ],
      "text/latex": [
       "'Prepared\\_sc\\_Data'"
      ],
      "text/markdown": [
       "'Prepared_sc_Data'"
      ],
      "text/plain": [
       "[1] \"Prepared_sc_Data\""
      ]
     },
     "metadata": {},
     "output_type": "display_data"
    }
   ],
   "source": [
    "names(cells_per_sample_cluster)"
   ]
  },
  {
   "cell_type": "code",
   "execution_count": 44,
   "id": "888301d7-b315-4c5b-b911-6edacd96fa7e",
   "metadata": {},
   "outputs": [
    {
     "data": {
      "text/html": [
       "'/lustre/groups/epigenereg01/workspace/projects/jove/results/'"
      ],
      "text/latex": [
       "'/lustre/groups/epigenereg01/workspace/projects/jove/results/'"
      ],
      "text/markdown": [
       "'/lustre/groups/epigenereg01/workspace/projects/jove/results/'"
      ],
      "text/plain": [
       "[1] \"/lustre/groups/epigenereg01/workspace/projects/jove/results/\""
      ]
     },
     "metadata": {},
     "output_type": "display_data"
    }
   ],
   "source": [
    "result_path"
   ]
  },
  {
   "cell_type": "code",
   "execution_count": 45,
   "id": "a62df507-d32a-426a-9c5b-ec1a55f765f7",
   "metadata": {},
   "outputs": [],
   "source": [
    "### Save\n",
    "for(i in names(cells_per_sample_cluster)){\n",
    "    write.csv(cells_per_sample_cluster[[i]], paste0(result_path, '/01_results/01_', i, '_Cell_Sample_Cluster_Distribution.csv'))\n",
    "    }\n",
    "    "
   ]
  },
  {
   "cell_type": "code",
   "execution_count": 46,
   "id": "b49a7318-1a38-41b7-b427-16b5e8bdc117",
   "metadata": {},
   "outputs": [],
   "source": [
    "### Visualize the result"
   ]
  },
  {
   "cell_type": "code",
   "execution_count": 47,
   "id": "865fb123-ca3d-4989-8c25-473e968f08ec",
   "metadata": {},
   "outputs": [],
   "source": [
    "## Categorize the amount of cells"
   ]
  },
  {
   "cell_type": "code",
   "execution_count": 48,
   "id": "38d7b1c1-9d5a-4822-b795-bc6202e37ebc",
   "metadata": {},
   "outputs": [],
   "source": [
    "cells_per_sample_cluster = lapply(cells_per_sample_cluster, function(x){\n",
    "    colnames(x) =  c('Sample', 'Cluster_Cell_Type', 'amount_cells')\n",
    "    x$amount_cells_cat[(x$amount_cells <= 3)  ] = '0-3'\n",
    "    x$amount_cells_cat[(x$amount_cells <= 10)  & (x$amount_cells >3 )] = '3-10'\n",
    "    x$amount_cells_cat[(x$amount_cells <= 20)  & (x$amount_cells >10 )] = '10-20'\n",
    "    x$amount_cells_cat[(x$amount_cells <= 50)  & (x$amount_cells >20 )] = '20-50'\n",
    "    x$amount_cells_cat[(x$amount_cells > 50)  ] = '> 50'\n",
    "    return(x)\n",
    "    })"
   ]
  },
  {
   "cell_type": "code",
   "execution_count": 49,
   "id": "53a04b0e-6a2c-49ab-94a6-32356434e07a",
   "metadata": {},
   "outputs": [
    {
     "data": {
      "text/html": [
       "<table class=\"dataframe\">\n",
       "<caption>A data.frame: 2 × 4</caption>\n",
       "<thead>\n",
       "\t<tr><th></th><th scope=col>Sample</th><th scope=col>Cluster_Cell_Type</th><th scope=col>amount_cells</th><th scope=col>amount_cells_cat</th></tr>\n",
       "\t<tr><th></th><th scope=col>&lt;fct&gt;</th><th scope=col>&lt;fct&gt;</th><th scope=col>&lt;int&gt;</th><th scope=col>&lt;chr&gt;</th></tr>\n",
       "</thead>\n",
       "<tbody>\n",
       "\t<tr><th scope=row>1</th><td>k10</td><td>ASDC</td><td>0</td><td>0-3</td></tr>\n",
       "\t<tr><th scope=row>2</th><td>k11</td><td>ASDC</td><td>0</td><td>0-3</td></tr>\n",
       "</tbody>\n",
       "</table>\n"
      ],
      "text/latex": [
       "A data.frame: 2 × 4\n",
       "\\begin{tabular}{r|llll}\n",
       "  & Sample & Cluster\\_Cell\\_Type & amount\\_cells & amount\\_cells\\_cat\\\\\n",
       "  & <fct> & <fct> & <int> & <chr>\\\\\n",
       "\\hline\n",
       "\t1 & k10 & ASDC & 0 & 0-3\\\\\n",
       "\t2 & k11 & ASDC & 0 & 0-3\\\\\n",
       "\\end{tabular}\n"
      ],
      "text/markdown": [
       "\n",
       "A data.frame: 2 × 4\n",
       "\n",
       "| <!--/--> | Sample &lt;fct&gt; | Cluster_Cell_Type &lt;fct&gt; | amount_cells &lt;int&gt; | amount_cells_cat &lt;chr&gt; |\n",
       "|---|---|---|---|---|\n",
       "| 1 | k10 | ASDC | 0 | 0-3 |\n",
       "| 2 | k11 | ASDC | 0 | 0-3 |\n",
       "\n"
      ],
      "text/plain": [
       "  Sample Cluster_Cell_Type amount_cells amount_cells_cat\n",
       "1 k10    ASDC              0            0-3             \n",
       "2 k11    ASDC              0            0-3             "
      ]
     },
     "metadata": {},
     "output_type": "display_data"
    }
   ],
   "source": [
    "head(cells_per_sample_cluster[[1]],2)"
   ]
  },
  {
   "cell_type": "code",
   "execution_count": 50,
   "id": "01284c78-0c09-40e3-8d57-23debaf91ac8",
   "metadata": {},
   "outputs": [
    {
     "data": {
      "image/png": "[encoded data removed]",
      "text/plain": [
       "plot without title"
      ]
     },
     "metadata": {
      "image/png": {
       "height": 900,
       "width": 1800
      }
     },
     "output_type": "display_data"
    }
   ],
   "source": [
    "options(repr.plot.width=30, repr.plot.height=15)\n",
    "g = lapply(cells_per_sample_cluster, function(x){\n",
    "    ggplot(x, aes(Sample, Cluster_Cell_Type, fill= amount_cells_cat))  + geom_tile()   + ggtitle(label = \"Amount cells per cluster and sample\")+ #theme(axis.text.x=element_text(size=14, angle = 90), axis.text.y=element_text(size=14, angle = 0),axis.title=element_text(size=14,face=\"bold\")) + \n",
    "    scale_fill_manual(name = \"Amount cells\", breaks=c( '0-3','3-10', \n",
    "                                 '10-20', '20-50', '> 50'), values =c(\"red4\",\"rosybrown1\",  \"seashell\", \"palegreen\", \"palegreen4\")) + plot_config + theme(axis.text.x = element_blank())\n",
    "    })\n",
    "# Visualize for first dataset\n",
    "g[[1]]"
   ]
  },
  {
   "cell_type": "code",
   "execution_count": 51,
   "id": "b4079cc6-3f2c-44fb-9dbf-428a06205aa8",
   "metadata": {},
   "outputs": [
    {
     "data": {
      "text/html": [
       "'Prepared_sc_Data'"
      ],
      "text/latex": [
       "'Prepared\\_sc\\_Data'"
      ],
      "text/markdown": [
       "'Prepared_sc_Data'"
      ],
      "text/plain": [
       "[1] \"Prepared_sc_Data\""
      ]
     },
     "metadata": {},
     "output_type": "display_data"
    }
   ],
   "source": [
    "names(g)"
   ]
  },
  {
   "cell_type": "code",
   "execution_count": 52,
   "id": "bb67ccaf-3501-4c4c-9f09-37dce8548619",
   "metadata": {},
   "outputs": [],
   "source": [
    "## Save figures for later inspection "
   ]
  },
  {
   "cell_type": "code",
   "execution_count": 53,
   "id": "19264359-c039-492e-bd57-8db1076b2a01",
   "metadata": {},
   "outputs": [],
   "source": [
    "figure_name = \"FIG01_Amount_of_Cells_per_Sample_and_Cell_Type\""
   ]
  },
  {
   "cell_type": "code",
   "execution_count": 54,
   "id": "fdc46b01-9c8b-4c21-8df6-6f2e72949e65",
   "metadata": {},
   "outputs": [],
   "source": [
    "# Sizes of the plot\n",
    "width_par = 8\n",
    "height_par = 5"
   ]
  },
  {
   "cell_type": "code",
   "execution_count": 55,
   "id": "e785c843-5e13-4c16-b245-96f74547881e",
   "metadata": {},
   "outputs": [],
   "source": [
    "pdf(paste0('figures/01_figures/', figure_name, i,  '.pdf'), width =width_par, height =height_par)\n",
    "for(i in names(g)){\n",
    "    print(g[[i]] )\n",
    "    dev.off()\n",
    "    }"
   ]
  },
  {
   "cell_type": "code",
   "execution_count": null,
   "id": "0e8c7923-9a7d-43aa-806a-ec119e8fcdf7",
   "metadata": {},
   "outputs": [],
   "source": []
  },
  {
   "cell_type": "markdown",
   "id": "80a40ea6-7a0e-4de0-8bee-231b6fd7b627",
   "metadata": {
    "tags": []
   },
   "source": [
    "## Calculate gene expression percentages per cluster for thresholding"
   ]
  },
  {
   "cell_type": "code",
   "execution_count": 56,
   "id": "488f658e-009d-4af6-b84f-d0112c4b822e",
   "metadata": {
    "tags": []
   },
   "outputs": [],
   "source": [
    "### Calculate the percentage of cells having non-zero values for each gene per cluster\n",
    "### will later be used to remove genes that are only expressed in a very low amount of cells"
   ]
  },
  {
   "cell_type": "code",
   "execution_count": 57,
   "id": "d1f4be7b-15cb-4dec-b3b0-daaabc5eb1dd",
   "metadata": {},
   "outputs": [],
   "source": [
    "## Generate empty lists and data.frames to store the result in"
   ]
  },
  {
   "cell_type": "code",
   "execution_count": 58,
   "id": "6515d89e-856e-45ec-b460-84e136727dfe",
   "metadata": {},
   "outputs": [],
   "source": [
    "gene_list = list()"
   ]
  },
  {
   "cell_type": "code",
   "execution_count": 59,
   "id": "b4576d9f-f2f7-46d2-9a11-06a07cdab4e8",
   "metadata": {},
   "outputs": [],
   "source": [
    "gene_cell_expr = list()"
   ]
  },
  {
   "cell_type": "code",
   "execution_count": 60,
   "id": "649b9952-8886-4933-8cca-2e606c3784a0",
   "metadata": {},
   "outputs": [],
   "source": [
    "gene_cell_expr_data = data.frame()"
   ]
  },
  {
   "cell_type": "code",
   "execution_count": 61,
   "id": "862f2232-4fa9-49cb-a60d-56c359073042",
   "metadata": {},
   "outputs": [],
   "source": [
    "clusters = lapply(sc_data_list, function(x){\n",
    "    unique(x$cluster_id)\n",
    "    })"
   ]
  },
  {
   "cell_type": "code",
   "execution_count": 62,
   "id": "aba02558-f4c7-4f62-8f1f-c5baea05dbcf",
   "metadata": {},
   "outputs": [
    {
     "data": {
      "text/html": [
       "<style>\n",
       ".list-inline {list-style: none; margin:0; padding: 0}\n",
       ".list-inline>li {display: inline-block}\n",
       ".list-inline>li:not(:last-child)::after {content: \"\\00b7\"; padding: 0 .5ex}\n",
       "</style>\n",
       "<ol class=list-inline><li>'B cell'</li><li>'CD16 Mono'</li><li>'CD4 TCM'</li><li>'Plasmablast'</li><li>'CD8 TEM'</li><li>'CD4 Naive'</li><li>'CD14 Mono'</li><li>'Treg'</li><li>'CD4 TEM'</li><li>'NK'</li><li>'CD8 Naive'</li><li>'cDC2'</li><li>'dnT'</li><li>'MAIT'</li><li>'HSPC'</li><li>'gdT'</li><li>'Platelet'</li><li>'CD8 TCM'</li><li>'NK_CD56bright'</li><li>'CD4 CTL'</li><li>'cDC1'</li><li>'pDC'</li><li>'CD4 Proliferating'</li><li>'NK Proliferating'</li><li>'ILC'</li><li>'Doublet'</li><li>'CD8 Proliferating'</li><li>'ASDC'</li><li>'Eryth'</li></ol>\n"
      ],
      "text/latex": [
       "\\begin{enumerate*}\n",
       "\\item 'B cell'\n",
       "\\item 'CD16 Mono'\n",
       "\\item 'CD4 TCM'\n",
       "\\item 'Plasmablast'\n",
       "\\item 'CD8 TEM'\n",
       "\\item 'CD4 Naive'\n",
       "\\item 'CD14 Mono'\n",
       "\\item 'Treg'\n",
       "\\item 'CD4 TEM'\n",
       "\\item 'NK'\n",
       "\\item 'CD8 Naive'\n",
       "\\item 'cDC2'\n",
       "\\item 'dnT'\n",
       "\\item 'MAIT'\n",
       "\\item 'HSPC'\n",
       "\\item 'gdT'\n",
       "\\item 'Platelet'\n",
       "\\item 'CD8 TCM'\n",
       "\\item 'NK\\_CD56bright'\n",
       "\\item 'CD4 CTL'\n",
       "\\item 'cDC1'\n",
       "\\item 'pDC'\n",
       "\\item 'CD4 Proliferating'\n",
       "\\item 'NK Proliferating'\n",
       "\\item 'ILC'\n",
       "\\item 'Doublet'\n",
       "\\item 'CD8 Proliferating'\n",
       "\\item 'ASDC'\n",
       "\\item 'Eryth'\n",
       "\\end{enumerate*}\n"
      ],
      "text/markdown": [
       "1. 'B cell'\n",
       "2. 'CD16 Mono'\n",
       "3. 'CD4 TCM'\n",
       "4. 'Plasmablast'\n",
       "5. 'CD8 TEM'\n",
       "6. 'CD4 Naive'\n",
       "7. 'CD14 Mono'\n",
       "8. 'Treg'\n",
       "9. 'CD4 TEM'\n",
       "10. 'NK'\n",
       "11. 'CD8 Naive'\n",
       "12. 'cDC2'\n",
       "13. 'dnT'\n",
       "14. 'MAIT'\n",
       "15. 'HSPC'\n",
       "16. 'gdT'\n",
       "17. 'Platelet'\n",
       "18. 'CD8 TCM'\n",
       "19. 'NK_CD56bright'\n",
       "20. 'CD4 CTL'\n",
       "21. 'cDC1'\n",
       "22. 'pDC'\n",
       "23. 'CD4 Proliferating'\n",
       "24. 'NK Proliferating'\n",
       "25. 'ILC'\n",
       "26. 'Doublet'\n",
       "27. 'CD8 Proliferating'\n",
       "28. 'ASDC'\n",
       "29. 'Eryth'\n",
       "\n",
       "\n"
      ],
      "text/plain": [
       " [1] \"B cell\"            \"CD16 Mono\"         \"CD4 TCM\"          \n",
       " [4] \"Plasmablast\"       \"CD8 TEM\"           \"CD4 Naive\"        \n",
       " [7] \"CD14 Mono\"         \"Treg\"              \"CD4 TEM\"          \n",
       "[10] \"NK\"                \"CD8 Naive\"         \"cDC2\"             \n",
       "[13] \"dnT\"               \"MAIT\"              \"HSPC\"             \n",
       "[16] \"gdT\"               \"Platelet\"          \"CD8 TCM\"          \n",
       "[19] \"NK_CD56bright\"     \"CD4 CTL\"           \"cDC1\"             \n",
       "[22] \"pDC\"               \"CD4 Proliferating\" \"NK Proliferating\" \n",
       "[25] \"ILC\"               \"Doublet\"           \"CD8 Proliferating\"\n",
       "[28] \"ASDC\"              \"Eryth\"            "
      ]
     },
     "metadata": {},
     "output_type": "display_data"
    }
   ],
   "source": [
    "clusters[[1]]"
   ]
  },
  {
   "cell_type": "code",
   "execution_count": 63,
   "id": "5da32d3b-a1cb-44f9-b257-a0c61e425edb",
   "metadata": {},
   "outputs": [],
   "source": [
    "### Calculate the gene expression percentages per cluster"
   ]
  },
  {
   "cell_type": "code",
   "execution_count": 64,
   "id": "8d546ff3-0d8c-4fc5-8b66-0bb2d529e1b6",
   "metadata": {},
   "outputs": [],
   "source": [
    "gene_expr_data = lapply(sc_data_list, function(x){\n",
    "    clusters = unique(x$cluster_id)\n",
    "    for(i in clusters){\n",
    "        # subset data on cluster\n",
    "        rna_sce_subset= x[,x$cluster_id== i] # cluster\n",
    "        amount_cells = dim(rna_sce_subset)[2]\n",
    "\n",
    "        # Calculate percentage of cells expressing gene\n",
    "        amount_cells_expressing_gene = rowSums(assay(rna_sce_subset) > 0 )\n",
    "        perc_cells_expressing_gene = (amount_cells_expressing_gene/ amount_cells) * 100\n",
    "\n",
    "        gene_cell_expr[[i]] = data.frame(perc_cells_expressing_gene = perc_cells_expressing_gene, total_amount_cells_expressing_gene = amount_cells_expressing_gene)\n",
    "        \n",
    "        # Format as data frame\n",
    "        data = gene_cell_expr[[i]]\n",
    "        data$gene = rownames(gene_cell_expr[[i]])\n",
    "        data$cluster = i\n",
    "        gene_cell_expr_data = rbind( gene_cell_expr_data, data)\n",
    "        \n",
    "        \n",
    "\n",
    "        }\n",
    "    return(gene_cell_expr_data)\n",
    "\n",
    "})\n",
    "\n",
    "    \n",
    "    "
   ]
  },
  {
   "cell_type": "code",
   "execution_count": 65,
   "id": "17ef0ddd-1b78-4e30-acdc-6b9eae4f6d35",
   "metadata": {},
   "outputs": [
    {
     "data": {
      "text/html": [
       "<table class=\"dataframe\">\n",
       "<caption>A data.frame: 2 × 4</caption>\n",
       "<thead>\n",
       "\t<tr><th></th><th scope=col>perc_cells_expressing_gene</th><th scope=col>total_amount_cells_expressing_gene</th><th scope=col>gene</th><th scope=col>cluster</th></tr>\n",
       "\t<tr><th></th><th scope=col>&lt;dbl&gt;</th><th scope=col>&lt;int&gt;</th><th scope=col>&lt;chr&gt;</th><th scope=col>&lt;chr&gt;</th></tr>\n",
       "</thead>\n",
       "<tbody>\n",
       "\t<tr><th scope=row>AL627309.1</th><td>0.23400142</td><td>23</td><td>AL627309.1</td><td>B cell</td></tr>\n",
       "\t<tr><th scope=row>AL627309.4</th><td>0.06104385</td><td> 6</td><td>AL627309.4</td><td>B cell</td></tr>\n",
       "</tbody>\n",
       "</table>\n"
      ],
      "text/latex": [
       "A data.frame: 2 × 4\n",
       "\\begin{tabular}{r|llll}\n",
       "  & perc\\_cells\\_expressing\\_gene & total\\_amount\\_cells\\_expressing\\_gene & gene & cluster\\\\\n",
       "  & <dbl> & <int> & <chr> & <chr>\\\\\n",
       "\\hline\n",
       "\tAL627309.1 & 0.23400142 & 23 & AL627309.1 & B cell\\\\\n",
       "\tAL627309.4 & 0.06104385 &  6 & AL627309.4 & B cell\\\\\n",
       "\\end{tabular}\n"
      ],
      "text/markdown": [
       "\n",
       "A data.frame: 2 × 4\n",
       "\n",
       "| <!--/--> | perc_cells_expressing_gene &lt;dbl&gt; | total_amount_cells_expressing_gene &lt;int&gt; | gene &lt;chr&gt; | cluster &lt;chr&gt; |\n",
       "|---|---|---|---|---|\n",
       "| AL627309.1 | 0.23400142 | 23 | AL627309.1 | B cell |\n",
       "| AL627309.4 | 0.06104385 |  6 | AL627309.4 | B cell |\n",
       "\n"
      ],
      "text/plain": [
       "           perc_cells_expressing_gene total_amount_cells_expressing_gene\n",
       "AL627309.1 0.23400142                 23                                \n",
       "AL627309.4 0.06104385                  6                                \n",
       "           gene       cluster\n",
       "AL627309.1 AL627309.1 B cell \n",
       "AL627309.4 AL627309.4 B cell "
      ]
     },
     "metadata": {},
     "output_type": "display_data"
    }
   ],
   "source": [
    "head(gene_expr_data[[1]],2)"
   ]
  },
  {
   "cell_type": "code",
   "execution_count": 66,
   "id": "9c5613b8-79d8-48e0-a62f-4aaa76b47e23",
   "metadata": {},
   "outputs": [
    {
     "data": {
      "text/html": [
       "<style>\n",
       ".list-inline {list-style: none; margin:0; padding: 0}\n",
       ".list-inline>li {display: inline-block}\n",
       ".list-inline>li:not(:last-child)::after {content: \"\\00b7\"; padding: 0 .5ex}\n",
       "</style>\n",
       "<ol class=list-inline><li>'B cell'</li><li>'CD16 Mono'</li><li>'CD4 TCM'</li><li>'Plasmablast'</li><li>'CD8 TEM'</li><li>'CD4 Naive'</li><li>'CD14 Mono'</li><li>'Treg'</li><li>'CD4 TEM'</li><li>'NK'</li><li>'CD8 Naive'</li><li>'cDC2'</li><li>'dnT'</li><li>'MAIT'</li><li>'HSPC'</li><li>'gdT'</li><li>'Platelet'</li><li>'CD8 TCM'</li><li>'NK_CD56bright'</li><li>'CD4 CTL'</li><li>'cDC1'</li><li>'pDC'</li><li>'CD4 Proliferating'</li><li>'NK Proliferating'</li><li>'ILC'</li><li>'Doublet'</li><li>'CD8 Proliferating'</li><li>'ASDC'</li><li>'Eryth'</li></ol>\n"
      ],
      "text/latex": [
       "\\begin{enumerate*}\n",
       "\\item 'B cell'\n",
       "\\item 'CD16 Mono'\n",
       "\\item 'CD4 TCM'\n",
       "\\item 'Plasmablast'\n",
       "\\item 'CD8 TEM'\n",
       "\\item 'CD4 Naive'\n",
       "\\item 'CD14 Mono'\n",
       "\\item 'Treg'\n",
       "\\item 'CD4 TEM'\n",
       "\\item 'NK'\n",
       "\\item 'CD8 Naive'\n",
       "\\item 'cDC2'\n",
       "\\item 'dnT'\n",
       "\\item 'MAIT'\n",
       "\\item 'HSPC'\n",
       "\\item 'gdT'\n",
       "\\item 'Platelet'\n",
       "\\item 'CD8 TCM'\n",
       "\\item 'NK\\_CD56bright'\n",
       "\\item 'CD4 CTL'\n",
       "\\item 'cDC1'\n",
       "\\item 'pDC'\n",
       "\\item 'CD4 Proliferating'\n",
       "\\item 'NK Proliferating'\n",
       "\\item 'ILC'\n",
       "\\item 'Doublet'\n",
       "\\item 'CD8 Proliferating'\n",
       "\\item 'ASDC'\n",
       "\\item 'Eryth'\n",
       "\\end{enumerate*}\n"
      ],
      "text/markdown": [
       "1. 'B cell'\n",
       "2. 'CD16 Mono'\n",
       "3. 'CD4 TCM'\n",
       "4. 'Plasmablast'\n",
       "5. 'CD8 TEM'\n",
       "6. 'CD4 Naive'\n",
       "7. 'CD14 Mono'\n",
       "8. 'Treg'\n",
       "9. 'CD4 TEM'\n",
       "10. 'NK'\n",
       "11. 'CD8 Naive'\n",
       "12. 'cDC2'\n",
       "13. 'dnT'\n",
       "14. 'MAIT'\n",
       "15. 'HSPC'\n",
       "16. 'gdT'\n",
       "17. 'Platelet'\n",
       "18. 'CD8 TCM'\n",
       "19. 'NK_CD56bright'\n",
       "20. 'CD4 CTL'\n",
       "21. 'cDC1'\n",
       "22. 'pDC'\n",
       "23. 'CD4 Proliferating'\n",
       "24. 'NK Proliferating'\n",
       "25. 'ILC'\n",
       "26. 'Doublet'\n",
       "27. 'CD8 Proliferating'\n",
       "28. 'ASDC'\n",
       "29. 'Eryth'\n",
       "\n",
       "\n"
      ],
      "text/plain": [
       " [1] \"B cell\"            \"CD16 Mono\"         \"CD4 TCM\"          \n",
       " [4] \"Plasmablast\"       \"CD8 TEM\"           \"CD4 Naive\"        \n",
       " [7] \"CD14 Mono\"         \"Treg\"              \"CD4 TEM\"          \n",
       "[10] \"NK\"                \"CD8 Naive\"         \"cDC2\"             \n",
       "[13] \"dnT\"               \"MAIT\"              \"HSPC\"             \n",
       "[16] \"gdT\"               \"Platelet\"          \"CD8 TCM\"          \n",
       "[19] \"NK_CD56bright\"     \"CD4 CTL\"           \"cDC1\"             \n",
       "[22] \"pDC\"               \"CD4 Proliferating\" \"NK Proliferating\" \n",
       "[25] \"ILC\"               \"Doublet\"           \"CD8 Proliferating\"\n",
       "[28] \"ASDC\"              \"Eryth\"            "
      ]
     },
     "metadata": {},
     "output_type": "display_data"
    }
   ],
   "source": [
    "unique(gene_expr_data[[1]]$cluster)"
   ]
  },
  {
   "cell_type": "code",
   "execution_count": 67,
   "id": "c72841c1-2025-4c80-8edf-75521c54bb74",
   "metadata": {},
   "outputs": [],
   "source": [
    "### Save results for later filtering\n",
    "for(i in names(gene_expr_data)){\n",
    "    write.csv(gene_expr_data[[i]], paste0(result_path, '/01_results/01_', i, '_Gene_Expr_per_Cell_Type', '.csv'))\n",
    "    }\n",
    "    "
   ]
  },
  {
   "cell_type": "markdown",
   "id": "7cd53380-6f67-4b2a-803b-3d84c6dd5551",
   "metadata": {
    "tags": []
   },
   "source": [
    "## Aggregate to pseudobulk"
   ]
  },
  {
   "cell_type": "code",
   "execution_count": 68,
   "id": "853e1d9a-3845-46f0-958a-4089d74b876b",
   "metadata": {},
   "outputs": [],
   "source": [
    "### Add cluster and sample-id to use for aggregation"
   ]
  },
  {
   "cell_type": "code",
   "execution_count": 69,
   "id": "49237c20-76e1-4849-88e6-77bc323ad1be",
   "metadata": {},
   "outputs": [],
   "source": [
    "sc_data_list = lapply(sc_data_list, function(x){   \n",
    "\n",
    "    #### Add cluster_id, sample_id and group_id columns\n",
    "    x = prepSCE(x, \n",
    "        kid = 'cluster_id', # subpopulation assignments\n",
    "        gid = 'group_id',  # group IDs (ctrl/stim)   # sample_id; using dummy sample id which corresponds to cluster columns\n",
    "        sid = 'sample_id',   # sample IDs (ctrl/stim.1234)\n",
    "        drop = FALSE)  # drop all other colData columns\n",
    "    })\n"
   ]
  },
  {
   "cell_type": "code",
   "execution_count": 70,
   "id": "3fa37159-2094-46fc-ac6f-accb27946589",
   "metadata": {},
   "outputs": [
    {
     "data": {
      "text/plain": [
       "class: SingleCellExperiment \n",
       "dim: 19221 148275 \n",
       "metadata(1): experiment_info\n",
       "assays(2): counts logcounts\n",
       "rownames(19221): AL627309.1 AL627309.4 ... AC004556.1 AC240274.1\n",
       "rowData names(0):\n",
       "colnames(148275): AAACCCACATACAGGG-1-L1 AAACCCACATGACTTG-1-L1 ...\n",
       "  TTTGTTGGTGGACCAA-1-L14 TTTGTTGTCGAAGAAT-1-L14\n",
       "colData names(4): cluster_id sample_id group_id ident\n",
       "reducedDimNames(0):\n",
       "mainExpName: RNA\n",
       "altExpNames(0):"
      ]
     },
     "metadata": {},
     "output_type": "display_data"
    }
   ],
   "source": [
    "sc_data_list[[1]]"
   ]
  },
  {
   "cell_type": "code",
   "execution_count": 71,
   "id": "eef5a6a5-fd4c-4156-b56b-369259a18601",
   "metadata": {},
   "outputs": [],
   "source": [
    "### Aggregate calculating the mean counts of each gene per cluster_id and sample_id"
   ]
  },
  {
   "cell_type": "code",
   "execution_count": 72,
   "id": "064ce8c9-3ece-40eb-a699-d531215e6f1a",
   "metadata": {},
   "outputs": [],
   "source": [
    "pb = lapply(sc_data_list, function(x){\n",
    "        aggregateData(x,\n",
    "        assay = \"counts\", fun = \"mean\",\n",
    "        by = c(\"cluster_id\", \"sample_id\"))\n",
    "    })\n",
    "# one sheet per subpopulation will be generated"
   ]
  },
  {
   "cell_type": "code",
   "execution_count": 73,
   "id": "cb0b5b3d-c516-4be2-a4f9-9dd1c25c4347",
   "metadata": {},
   "outputs": [
    {
     "data": {
      "text/plain": [
       "class: SingleCellExperiment \n",
       "dim: 19221 119 \n",
       "metadata(2): experiment_info agg_pars\n",
       "assays(29): ASDC B cell ... Platelet Treg\n",
       "rownames(19221): AL627309.1 AL627309.4 ... AC004556.1 AC240274.1\n",
       "rowData names(0):\n",
       "colnames(119): k10 k11 ... m9.2 m9.3\n",
       "colData names(2): group_id ident\n",
       "reducedDimNames(0):\n",
       "mainExpName: NULL\n",
       "altExpNames(0):"
      ]
     },
     "metadata": {},
     "output_type": "display_data"
    }
   ],
   "source": [
    "pb[[1]]"
   ]
  },
  {
   "cell_type": "code",
   "execution_count": 74,
   "id": "0487cfa3-9205-4dc1-8e0f-c267db6d677f",
   "metadata": {},
   "outputs": [],
   "source": [
    "### Save aggregated data"
   ]
  },
  {
   "cell_type": "code",
   "execution_count": 75,
   "id": "030e3218-8000-4cc0-85ff-75e05428cf52",
   "metadata": {},
   "outputs": [],
   "source": [
    "for(i in names(pb)){\n",
    "    save(  pb , file = paste0(result_path, '/01_results/01_', i, 'Pseudobulk_.RDS'))\n",
    "    }"
   ]
  },
  {
   "cell_type": "markdown",
   "id": "d54692a8-c4e4-4ad9-ba2e-a4ed0fda3073",
   "metadata": {},
   "source": [
    "## Convert to Table Format (CSV)"
   ]
  },
  {
   "cell_type": "code",
   "execution_count": 76,
   "id": "8ad4fadd-649e-44ad-b219-f3257594debe",
   "metadata": {},
   "outputs": [],
   "source": [
    "### Convert the pseudobulk aggregation to table format"
   ]
  },
  {
   "cell_type": "code",
   "execution_count": 77,
   "id": "59766da0-9ccc-42d9-b162-bfe05ba5ac98",
   "metadata": {},
   "outputs": [],
   "source": [
    "sc_data = data.frame()"
   ]
  },
  {
   "cell_type": "code",
   "execution_count": 78,
   "id": "fcd29c2c-f6ea-4298-b8fc-f568d093303e",
   "metadata": {},
   "outputs": [],
   "source": [
    "for(j in 1:length(pb)){\n",
    "    dataset = names(pb)[j]\n",
    "    \n",
    "    for(i in names(assays(pb[[j]]))){\n",
    "        data = assay(pb[[j]], i)\n",
    "        \n",
    "        data = as.data.frame(t(data))\n",
    "        data$type = i\n",
    "        \n",
    "        data$dataset = dataset\n",
    "        data$sample_id = rownames(data)\n",
    "        data = melt(data, id.vars = c('sample_id', 'type', 'dataset'))\n",
    "        \n",
    "        sc_data = rbind(sc_data,data)\n",
    "       \n",
    "        \n",
    "        }\n",
    "    }\n",
    "    "
   ]
  },
  {
   "cell_type": "code",
   "execution_count": 79,
   "id": "91f58e29-aaef-461e-8147-b0440a08c442",
   "metadata": {},
   "outputs": [
    {
     "data": {
      "text/html": [
       "<table class=\"dataframe\">\n",
       "<caption>A data.frame: 2 × 5</caption>\n",
       "<thead>\n",
       "\t<tr><th></th><th scope=col>sample_id</th><th scope=col>type</th><th scope=col>dataset</th><th scope=col>variable</th><th scope=col>value</th></tr>\n",
       "\t<tr><th></th><th scope=col>&lt;chr&gt;</th><th scope=col>&lt;chr&gt;</th><th scope=col>&lt;chr&gt;</th><th scope=col>&lt;fct&gt;</th><th scope=col>&lt;dbl&gt;</th></tr>\n",
       "</thead>\n",
       "<tbody>\n",
       "\t<tr><th scope=row>1</th><td>k10</td><td>ASDC</td><td>Prepared_sc_Data</td><td>AL627309.1</td><td>0</td></tr>\n",
       "\t<tr><th scope=row>2</th><td>k11</td><td>ASDC</td><td>Prepared_sc_Data</td><td>AL627309.1</td><td>0</td></tr>\n",
       "</tbody>\n",
       "</table>\n"
      ],
      "text/latex": [
       "A data.frame: 2 × 5\n",
       "\\begin{tabular}{r|lllll}\n",
       "  & sample\\_id & type & dataset & variable & value\\\\\n",
       "  & <chr> & <chr> & <chr> & <fct> & <dbl>\\\\\n",
       "\\hline\n",
       "\t1 & k10 & ASDC & Prepared\\_sc\\_Data & AL627309.1 & 0\\\\\n",
       "\t2 & k11 & ASDC & Prepared\\_sc\\_Data & AL627309.1 & 0\\\\\n",
       "\\end{tabular}\n"
      ],
      "text/markdown": [
       "\n",
       "A data.frame: 2 × 5\n",
       "\n",
       "| <!--/--> | sample_id &lt;chr&gt; | type &lt;chr&gt; | dataset &lt;chr&gt; | variable &lt;fct&gt; | value &lt;dbl&gt; |\n",
       "|---|---|---|---|---|---|\n",
       "| 1 | k10 | ASDC | Prepared_sc_Data | AL627309.1 | 0 |\n",
       "| 2 | k11 | ASDC | Prepared_sc_Data | AL627309.1 | 0 |\n",
       "\n"
      ],
      "text/plain": [
       "  sample_id type dataset          variable   value\n",
       "1 k10       ASDC Prepared_sc_Data AL627309.1 0    \n",
       "2 k11       ASDC Prepared_sc_Data AL627309.1 0    "
      ]
     },
     "metadata": {},
     "output_type": "display_data"
    }
   ],
   "source": [
    "head(sc_data,2)"
   ]
  },
  {
   "cell_type": "code",
   "execution_count": 80,
   "id": "ce44e3b0-5df7-4c11-8cd5-1b52e234b1ae",
   "metadata": {},
   "outputs": [],
   "source": [
    "write.csv( sc_data, paste0(result_path, '/01_results/01_Prepared_sc_DataPseudobulk_Table', '.csv'))"
   ]
  },
  {
   "cell_type": "code",
   "execution_count": null,
   "id": "ec777be9-99ea-4c8a-9e38-164db20a0445",
   "metadata": {},
   "outputs": [],
   "source": []
  },
  {
   "cell_type": "code",
   "execution_count": null,
   "id": "13664c48-c5aa-4f1c-b223-66295c09d711",
   "metadata": {},
   "outputs": [],
   "source": []
  },
  {
   "cell_type": "code",
   "execution_count": null,
   "id": "c7205ca1-b914-431d-838c-56fbd675e91b",
   "metadata": {},
   "outputs": [],
   "source": []
  }
 ],
 "metadata": {
  "kernelspec": {
   "display_name": "R",
   "language": "R",
   "name": "ir"
  },
  "language_info": {
   "codemirror_mode": "r",
   "file_extension": ".r",
   "mimetype": "text/x-r-source",
   "name": "R",
   "pygments_lexer": "r",
   "version": "4.3.2"
  },
  "toc-autonumbering": true,
  "toc-showcode": false,
  "toc-showmarkdowntxt": false,
  "toc-showtags": false
 },
 "nbformat": 4,
 "nbformat_minor": 5
}
