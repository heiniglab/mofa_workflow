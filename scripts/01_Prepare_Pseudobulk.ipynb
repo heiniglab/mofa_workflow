{
 "cells": [
  {
   "cell_type": "code",
   "execution_count": 188,
   "id": "59deaea5-6623-4f6e-b321-a76e37e37337",
   "metadata": {
    "tags": []
   },
   "outputs": [],
   "source": [
    "# Load anndata object and create pseudobulk for MOFA analysis\n",
    "# Necessary cell annotations in the anndata object are: 'cluster_id' (giving the cell-type cluster annotations), 'sample_id' (unique identifier of a sample)"
   ]
  },
  {
   "cell_type": "markdown",
   "id": "f899b113-d2aa-4847-ae28-23edfa42bcc0",
   "metadata": {},
   "source": [
    "# Prerequisites - Load Libraries"
   ]
  },
  {
   "cell_type": "code",
   "execution_count": 189,
   "id": "e7579c6b-e2be-4736-bd5a-5681d550c561",
   "metadata": {},
   "outputs": [],
   "source": [
    "import scanpy as sc"
   ]
  },
  {
   "cell_type": "code",
   "execution_count": 190,
   "id": "1ae56874-d46c-422c-9c95-7d61813b984d",
   "metadata": {},
   "outputs": [],
   "source": [
    "import anndata as  ad"
   ]
  },
  {
   "cell_type": "code",
   "execution_count": 191,
   "id": "d1bd85b4-ca34-4e5b-ab3f-8d7fca74fbf1",
   "metadata": {},
   "outputs": [],
   "source": [
    "import pandas as pd"
   ]
  },
  {
   "cell_type": "code",
   "execution_count": 192,
   "id": "bb2ef8ec-41e3-46ca-85a0-137919591812",
   "metadata": {},
   "outputs": [],
   "source": [
    "import random"
   ]
  },
  {
   "cell_type": "code",
   "execution_count": 193,
   "id": "fb71c626-8b0d-4065-b476-2702b4762353",
   "metadata": {},
   "outputs": [],
   "source": [
    "import numpy as np"
   ]
  },
  {
   "cell_type": "code",
   "execution_count": 194,
   "id": "610ef13a-c51a-432e-b9c5-45f05c76afc8",
   "metadata": {},
   "outputs": [],
   "source": [
    "import random"
   ]
  },
  {
   "cell_type": "code",
   "execution_count": 195,
   "id": "bede7dc9-4c73-4a33-bfa5-e1991f3c7936",
   "metadata": {
    "tags": []
   },
   "outputs": [],
   "source": [
    "import os"
   ]
  },
  {
   "cell_type": "code",
   "execution_count": 196,
   "id": "98e99363-bbf5-461e-884b-707f057dcb8d",
   "metadata": {},
   "outputs": [],
   "source": [
    "import decoupler as dc"
   ]
  },
  {
   "cell_type": "code",
   "execution_count": 197,
   "id": "2b3fdf8a-9edf-458a-bb51-efae6ba914c9",
   "metadata": {},
   "outputs": [
    {
     "data": {
      "text/plain": [
       "'0.8.0'"
      ]
     },
     "execution_count": 197,
     "metadata": {},
     "output_type": "execute_result"
    }
   ],
   "source": [
    "ad.__version__"
   ]
  },
  {
   "cell_type": "code",
   "execution_count": 198,
   "id": "1e89a668-7849-461f-9725-5fa5337cb045",
   "metadata": {},
   "outputs": [
    {
     "name": "stdout",
     "output_type": "stream",
     "text": [
      "1.5.3\n"
     ]
    }
   ],
   "source": [
    "print(pd.__version__)"
   ]
  },
  {
   "cell_type": "code",
   "execution_count": 199,
   "id": "df8730f1-4096-4d5c-9b11-45c2865f4f4f",
   "metadata": {},
   "outputs": [],
   "source": [
    "import scanpy as sc\n",
    "from scipy.sparse import issparse"
   ]
  },
  {
   "cell_type": "code",
   "execution_count": 200,
   "id": "aecf5a77-4d8c-45cc-8d43-550fe631e82b",
   "metadata": {
    "tags": []
   },
   "outputs": [],
   "source": [
    "import seaborn as sns\n",
    "import matplotlib.pyplot as plt"
   ]
  },
  {
   "cell_type": "code",
   "execution_count": 201,
   "id": "57e5c538-55a6-4142-bca5-8c55c3eb38f3",
   "metadata": {
    "tags": []
   },
   "outputs": [],
   "source": [
    "import matplotlib.pyplot as plt\n",
    "from matplotlib.colors import BoundaryNorm, ListedColormap"
   ]
  },
  {
   "cell_type": "markdown",
   "id": "b4deda97-9ede-4986-a373-5f3aa2a8551a",
   "metadata": {},
   "source": [
    "# Preqrequisites Configurations & Parameters"
   ]
  },
  {
   "cell_type": "code",
   "execution_count": 202,
   "id": "395129e5-41a6-4f94-a0fd-83ac79d47d84",
   "metadata": {
    "tags": []
   },
   "outputs": [],
   "source": [
    "### Load the parameters that are set via the configuration files"
   ]
  },
  {
   "cell_type": "code",
   "execution_count": 203,
   "id": "104aa1d9-0fae-4a84-887d-fdcece40110a",
   "metadata": {
    "tags": []
   },
   "outputs": [],
   "source": [
    "### Load configurations file\n",
    "global_configs = pd.read_csv('configurations/Data_Configs.csv', sep = ',')"
   ]
  },
  {
   "cell_type": "code",
   "execution_count": 204,
   "id": "ca5c5f65-bd02-4319-9981-89dda5ad328a",
   "metadata": {
    "tags": []
   },
   "outputs": [
    {
     "data": {
      "text/html": [
       "<div>\n",
       "<style scoped>\n",
       "    .dataframe tbody tr th:only-of-type {\n",
       "        vertical-align: middle;\n",
       "    }\n",
       "\n",
       "    .dataframe tbody tr th {\n",
       "        vertical-align: top;\n",
       "    }\n",
       "\n",
       "    .dataframe thead th {\n",
       "        text-align: right;\n",
       "    }\n",
       "</style>\n",
       "<table border=\"1\" class=\"dataframe\">\n",
       "  <thead>\n",
       "    <tr style=\"text-align: right;\">\n",
       "      <th></th>\n",
       "      <th>parameter</th>\n",
       "      <th>value</th>\n",
       "    </tr>\n",
       "  </thead>\n",
       "  <tbody>\n",
       "    <tr>\n",
       "      <th>0</th>\n",
       "      <td>data_path</td>\n",
       "      <td>/lustre/groups/epigenereg01/workspace/projects...</td>\n",
       "    </tr>\n",
       "    <tr>\n",
       "      <th>1</th>\n",
       "      <td>result_path</td>\n",
       "      <td>/lustre/groups/epigenereg01/workspace/projects...</td>\n",
       "    </tr>\n",
       "  </tbody>\n",
       "</table>\n",
       "</div>"
      ],
      "text/plain": [
       "     parameter                                              value\n",
       "0    data_path  /lustre/groups/epigenereg01/workspace/projects...\n",
       "1  result_path  /lustre/groups/epigenereg01/workspace/projects..."
      ]
     },
     "execution_count": 204,
     "metadata": {},
     "output_type": "execute_result"
    }
   ],
   "source": [
    "global_configs"
   ]
  },
  {
   "cell_type": "code",
   "execution_count": 205,
   "id": "779281b6-5436-4d23-8984-8a4b9c9b3d42",
   "metadata": {
    "tags": []
   },
   "outputs": [],
   "source": [
    "data_path = global_configs['value'][global_configs['parameter'] == 'data_path']"
   ]
  },
  {
   "cell_type": "code",
   "execution_count": 206,
   "id": "b0fe4749-edfd-424f-9c9d-925930fd0a90",
   "metadata": {
    "tags": []
   },
   "outputs": [
    {
     "data": {
      "text/plain": [
       "0    /lustre/groups/epigenereg01/workspace/projects...\n",
       "Name: value, dtype: object"
      ]
     },
     "execution_count": 206,
     "metadata": {},
     "output_type": "execute_result"
    }
   ],
   "source": [
    "data_path"
   ]
  },
  {
   "cell_type": "code",
   "execution_count": 207,
   "id": "07683dc1-1aa8-4848-93a5-63bfcf73e654",
   "metadata": {
    "tags": []
   },
   "outputs": [],
   "source": [
    "result_path = global_configs['value'][global_configs['parameter'] == 'result_path']"
   ]
  },
  {
   "cell_type": "code",
   "execution_count": 208,
   "id": "84a3d9ea-02b6-4118-a309-8f94ac5c5f03",
   "metadata": {
    "tags": []
   },
   "outputs": [
    {
     "data": {
      "text/plain": [
       "1    /lustre/groups/epigenereg01/workspace/projects...\n",
       "Name: value, dtype: object"
      ]
     },
     "execution_count": 208,
     "metadata": {},
     "output_type": "execute_result"
    }
   ],
   "source": [
    "result_path"
   ]
  },
  {
   "cell_type": "code",
   "execution_count": 209,
   "id": "f99ec964-d0d2-46c9-bde0-6d484830a07d",
   "metadata": {
    "tags": []
   },
   "outputs": [],
   "source": [
    "## Loading the file containing the name of the single-cell dataset"
   ]
  },
  {
   "cell_type": "code",
   "execution_count": 210,
   "id": "b764827a-39a0-4f01-99f1-40886b31797a",
   "metadata": {
    "tags": []
   },
   "outputs": [],
   "source": [
    "sc_configs = pd.read_csv('configurations/01_Pre_Processing_SC_Data.csv', sep = ',')"
   ]
  },
  {
   "cell_type": "code",
   "execution_count": 211,
   "id": "d71d6297-3636-414c-aa45-58048b58bdb4",
   "metadata": {
    "tags": []
   },
   "outputs": [
    {
     "data": {
      "text/html": [
       "<div>\n",
       "<style scoped>\n",
       "    .dataframe tbody tr th:only-of-type {\n",
       "        vertical-align: middle;\n",
       "    }\n",
       "\n",
       "    .dataframe tbody tr th {\n",
       "        vertical-align: top;\n",
       "    }\n",
       "\n",
       "    .dataframe thead th {\n",
       "        text-align: right;\n",
       "    }\n",
       "</style>\n",
       "<table border=\"1\" class=\"dataframe\">\n",
       "  <thead>\n",
       "    <tr style=\"text-align: right;\">\n",
       "      <th></th>\n",
       "      <th>data_name</th>\n",
       "    </tr>\n",
       "  </thead>\n",
       "  <tbody>\n",
       "    <tr>\n",
       "      <th>0</th>\n",
       "      <td>Prepared_sc_Data</td>\n",
       "    </tr>\n",
       "  </tbody>\n",
       "</table>\n",
       "</div>"
      ],
      "text/plain": [
       "          data_name\n",
       "0  Prepared_sc_Data"
      ]
     },
     "execution_count": 211,
     "metadata": {},
     "output_type": "execute_result"
    }
   ],
   "source": [
    "sc_configs"
   ]
  },
  {
   "cell_type": "code",
   "execution_count": 212,
   "id": "666a900e-18ca-4aab-821d-7a596e0d5a80",
   "metadata": {
    "tags": []
   },
   "outputs": [],
   "source": [
    "sc_configs = sc_configs[sc_configs['data_name'] != '']"
   ]
  },
  {
   "cell_type": "code",
   "execution_count": 213,
   "id": "ab9f9b1f-8678-47de-8a92-76bbb9c9d258",
   "metadata": {
    "tags": []
   },
   "outputs": [],
   "source": [
    "sc_dataset_names = pd.unique(sc_configs['data_name'])"
   ]
  },
  {
   "cell_type": "code",
   "execution_count": 214,
   "id": "5d15013c-a3ba-4746-846a-2d56d4ff408a",
   "metadata": {
    "tags": []
   },
   "outputs": [
    {
     "data": {
      "text/plain": [
       "array(['Prepared_sc_Data'], dtype=object)"
      ]
     },
     "execution_count": 214,
     "metadata": {},
     "output_type": "execute_result"
    }
   ],
   "source": [
    "sc_dataset_names"
   ]
  },
  {
   "cell_type": "code",
   "execution_count": 215,
   "id": "3fe6f4d8-12ae-457f-8b9c-a49f20d793cc",
   "metadata": {
    "tags": []
   },
   "outputs": [],
   "source": [
    "### Generate the result data directory if it does not exist yet\n",
    "\n",
    "if not os.path.exists(result_path[1] + '01_results'):\n",
    "    # Create the directory if it doesn't exist\n",
    "    os.makedirs(result_path[1] + '01_results')\n"
   ]
  },
  {
   "cell_type": "code",
   "execution_count": null,
   "id": "d75ee000-c61d-4a82-b325-11d794b2ec59",
   "metadata": {},
   "outputs": [],
   "source": []
  },
  {
   "cell_type": "markdown",
   "id": "8d1f4d59-4807-4327-b415-f7fa5f4436c7",
   "metadata": {},
   "source": [
    "# Load data"
   ]
  },
  {
   "cell_type": "markdown",
   "id": "d03b1130-750c-4e9a-8c46-09901168fa3e",
   "metadata": {},
   "source": [
    "## Anndata object"
   ]
  },
  {
   "cell_type": "code",
   "execution_count": 216,
   "id": "a7293363-4e6c-477d-b161-a22339476554",
   "metadata": {
    "tags": []
   },
   "outputs": [],
   "source": [
    "### Load single-cell datasets as anndata format; should contain the meta-columns: sample_id; cluster_id\n",
    "### Raw Counts should be given in default assay"
   ]
  },
  {
   "cell_type": "code",
   "execution_count": 217,
   "id": "0688e519-e3c4-4ecf-b7b0-c9d01c42083b",
   "metadata": {
    "tags": []
   },
   "outputs": [],
   "source": [
    "sc_data_list = {}"
   ]
  },
  {
   "cell_type": "code",
   "execution_count": 218,
   "id": "08f4d5e4-7609-4e47-9b50-df06c87aedbe",
   "metadata": {
    "tags": []
   },
   "outputs": [
    {
     "name": "stdout",
     "output_type": "stream",
     "text": [
      "/lustre/groups/epigenereg01/workspace/projects/jove/input_data/Prepared_sc_Data.h5ad\n",
      "1715785024.0\n"
     ]
    }
   ],
   "source": [
    "for i in sc_dataset_names:\n",
    "    source_text = os.path.join(data_path[0], f'{i}.h5ad')\n",
    "    print(source_text)\n",
    "    print(os.path.getmtime(source_text))\n",
    "    adata = ad.read_h5ad(source_text)\n",
    "    #adata.raw.to_adata()\n",
    "    \n",
    "    # Store the loaded Seurat object in the dictionary\n",
    "    sc_data_list[i] = adata"
   ]
  },
  {
   "cell_type": "code",
   "execution_count": 219,
   "id": "de672c6d-192a-42ce-ad34-92775669cf33",
   "metadata": {
    "tags": []
   },
   "outputs": [
    {
     "data": {
      "text/plain": [
       "AnnData object with n_obs × n_vars = 148275 × 19221\n",
       "    obs: 'cluster_id', 'sample_id'\n",
       "    var: 'dispersions', 'dispersions-L1', 'dispersions-L10', 'dispersions-L11', 'dispersions-L12', 'dispersions-L13', 'dispersions-L14', 'dispersions-L2', 'dispersions-L3', 'dispersions-L4', 'dispersions-L5', 'dispersions-L6', 'dispersions-L7', 'dispersions-L8', 'dispersions-L9', 'dispersions_norm', 'dispersions_norm-L1', 'dispersions_norm-L10', 'dispersions_norm-L11', 'dispersions_norm-L12', 'dispersions_norm-L13', 'dispersions_norm-L14', 'dispersions_norm-L2', 'dispersions_norm-L3', 'dispersions_norm-L4', 'dispersions_norm-L5', 'dispersions_norm-L6', 'dispersions_norm-L7', 'dispersions_norm-L8', 'dispersions_norm-L9', 'feature_types', 'gene_ids', 'genome', 'highly_variable', 'highly_variable-L1', 'highly_variable-L10', 'highly_variable-L11', 'highly_variable-L12', 'highly_variable-L13', 'highly_variable-L14', 'highly_variable-L2', 'highly_variable-L3', 'highly_variable-L4', 'highly_variable-L5', 'highly_variable-L6', 'highly_variable-L7', 'highly_variable-L8', 'highly_variable-L9', 'mean', 'mean_counts-L1', 'mean_counts-L10', 'mean_counts-L11', 'mean_counts-L12', 'mean_counts-L13', 'mean_counts-L14', 'mean_counts-L2', 'mean_counts-L3', 'mean_counts-L4', 'mean_counts-L5', 'mean_counts-L6', 'mean_counts-L7', 'mean_counts-L8', 'mean_counts-L9', 'means', 'means-L1', 'means-L10', 'means-L11', 'means-L12', 'means-L13', 'means-L14', 'means-L2', 'means-L3', 'means-L4', 'means-L5', 'means-L6', 'means-L7', 'means-L8', 'means-L9', 'mt', 'n_cells-L1', 'n_cells-L10', 'n_cells-L11', 'n_cells-L12', 'n_cells-L13', 'n_cells-L14', 'n_cells-L2', 'n_cells-L3', 'n_cells-L4', 'n_cells-L5', 'n_cells-L6', 'n_cells-L7', 'n_cells-L8', 'n_cells-L9', 'n_cells_by_counts-L1', 'n_cells_by_counts-L10', 'n_cells_by_counts-L11', 'n_cells_by_counts-L12', 'n_cells_by_counts-L13', 'n_cells_by_counts-L14', 'n_cells_by_counts-L2', 'n_cells_by_counts-L3', 'n_cells_by_counts-L4', 'n_cells_by_counts-L5', 'n_cells_by_counts-L6', 'n_cells_by_counts-L7', 'n_cells_by_counts-L8', 'n_cells_by_counts-L9', 'pct_dropout_by_counts-L1', 'pct_dropout_by_counts-L10', 'pct_dropout_by_counts-L11', 'pct_dropout_by_counts-L12', 'pct_dropout_by_counts-L13', 'pct_dropout_by_counts-L14', 'pct_dropout_by_counts-L2', 'pct_dropout_by_counts-L3', 'pct_dropout_by_counts-L4', 'pct_dropout_by_counts-L5', 'pct_dropout_by_counts-L6', 'pct_dropout_by_counts-L7', 'pct_dropout_by_counts-L8', 'pct_dropout_by_counts-L9', 'rb', 'std', 'total_counts-L1', 'total_counts-L10', 'total_counts-L11', 'total_counts-L12', 'total_counts-L13', 'total_counts-L14', 'total_counts-L2', 'total_counts-L3', 'total_counts-L4', 'total_counts-L5', 'total_counts-L6', 'total_counts-L7', 'total_counts-L8', 'total_counts-L9'"
      ]
     },
     "execution_count": 219,
     "metadata": {},
     "output_type": "execute_result"
    }
   ],
   "source": [
    "adata"
   ]
  },
  {
   "cell_type": "code",
   "execution_count": 220,
   "id": "fab11c7d-3a81-4404-84bb-e9f3bb57924b",
   "metadata": {
    "tags": []
   },
   "outputs": [
    {
     "data": {
      "text/html": [
       "<div>\n",
       "<style scoped>\n",
       "    .dataframe tbody tr th:only-of-type {\n",
       "        vertical-align: middle;\n",
       "    }\n",
       "\n",
       "    .dataframe tbody tr th {\n",
       "        vertical-align: top;\n",
       "    }\n",
       "\n",
       "    .dataframe thead th {\n",
       "        text-align: right;\n",
       "    }\n",
       "</style>\n",
       "<table border=\"1\" class=\"dataframe\">\n",
       "  <thead>\n",
       "    <tr style=\"text-align: right;\">\n",
       "      <th></th>\n",
       "      <th>cluster_id</th>\n",
       "      <th>sample_id</th>\n",
       "    </tr>\n",
       "  </thead>\n",
       "  <tbody>\n",
       "    <tr>\n",
       "      <th>AAACCCACATACAGGG-1-L1</th>\n",
       "      <td>B cell</td>\n",
       "      <td>m9.1</td>\n",
       "    </tr>\n",
       "    <tr>\n",
       "      <th>AAACCCACATGACTTG-1-L1</th>\n",
       "      <td>CD16 Mono</td>\n",
       "      <td>m9.1</td>\n",
       "    </tr>\n",
       "    <tr>\n",
       "      <th>AAACCCAGTCATCAGT-1-L1</th>\n",
       "      <td>CD4 TCM</td>\n",
       "      <td>m7.1</td>\n",
       "    </tr>\n",
       "    <tr>\n",
       "      <th>AAACCCAGTGGTAATA-1-L1</th>\n",
       "      <td>CD4 TCM</td>\n",
       "      <td>m9.1</td>\n",
       "    </tr>\n",
       "    <tr>\n",
       "      <th>AAACCCATCATCACAG-1-L1</th>\n",
       "      <td>Plasmablast</td>\n",
       "      <td>m9.1</td>\n",
       "    </tr>\n",
       "    <tr>\n",
       "      <th>...</th>\n",
       "      <td>...</td>\n",
       "      <td>...</td>\n",
       "    </tr>\n",
       "    <tr>\n",
       "      <th>TTTGTTGCAGGTTCGC-1-L14</th>\n",
       "      <td>CD4 TCM</td>\n",
       "      <td>m26.4</td>\n",
       "    </tr>\n",
       "    <tr>\n",
       "      <th>TTTGTTGGTACCTAGT-1-L14</th>\n",
       "      <td>CD4 TEM</td>\n",
       "      <td>m22.4</td>\n",
       "    </tr>\n",
       "    <tr>\n",
       "      <th>TTTGTTGGTACGTTCA-1-L14</th>\n",
       "      <td>CD14 Mono</td>\n",
       "      <td>m23.4</td>\n",
       "    </tr>\n",
       "    <tr>\n",
       "      <th>TTTGTTGGTGGACCAA-1-L14</th>\n",
       "      <td>CD14 Mono</td>\n",
       "      <td>m28.4</td>\n",
       "    </tr>\n",
       "    <tr>\n",
       "      <th>TTTGTTGTCGAAGAAT-1-L14</th>\n",
       "      <td>CD8 TEM</td>\n",
       "      <td>m23.4</td>\n",
       "    </tr>\n",
       "  </tbody>\n",
       "</table>\n",
       "<p>148275 rows × 2 columns</p>\n",
       "</div>"
      ],
      "text/plain": [
       "                         cluster_id sample_id\n",
       "AAACCCACATACAGGG-1-L1        B cell      m9.1\n",
       "AAACCCACATGACTTG-1-L1     CD16 Mono      m9.1\n",
       "AAACCCAGTCATCAGT-1-L1       CD4 TCM      m7.1\n",
       "AAACCCAGTGGTAATA-1-L1       CD4 TCM      m9.1\n",
       "AAACCCATCATCACAG-1-L1   Plasmablast      m9.1\n",
       "...                             ...       ...\n",
       "TTTGTTGCAGGTTCGC-1-L14      CD4 TCM     m26.4\n",
       "TTTGTTGGTACCTAGT-1-L14      CD4 TEM     m22.4\n",
       "TTTGTTGGTACGTTCA-1-L14    CD14 Mono     m23.4\n",
       "TTTGTTGGTGGACCAA-1-L14    CD14 Mono     m28.4\n",
       "TTTGTTGTCGAAGAAT-1-L14      CD8 TEM     m23.4\n",
       "\n",
       "[148275 rows x 2 columns]"
      ]
     },
     "execution_count": 220,
     "metadata": {},
     "output_type": "execute_result"
    }
   ],
   "source": [
    "adata.obs"
   ]
  },
  {
   "cell_type": "markdown",
   "id": "ca4fa594-577f-4c1c-91ea-354ded19ad09",
   "metadata": {},
   "source": [
    "# Data-Checks"
   ]
  },
  {
   "cell_type": "code",
   "execution_count": 221,
   "id": "1a5e3a3d-2b9f-4b5e-b5ae-c0dec326f56e",
   "metadata": {
    "tags": []
   },
   "outputs": [],
   "source": [
    "# Optional execute some checks to see whether raw counts will be used"
   ]
  },
  {
   "cell_type": "code",
   "execution_count": null,
   "id": "96f037ea-8731-48f7-9be6-440d54cdb652",
   "metadata": {},
   "outputs": [],
   "source": []
  },
  {
   "cell_type": "markdown",
   "id": "c7f22151-f3cb-41dc-b649-8cebbd635aba",
   "metadata": {},
   "source": [
    "## Check amount of cells per sample and cluster"
   ]
  },
  {
   "cell_type": "code",
   "execution_count": 222,
   "id": "3baf46c7-2684-4f3e-9d20-e79bc855b6a4",
   "metadata": {
    "tags": []
   },
   "outputs": [],
   "source": [
    "cell_counts_per_cluster = {key: pd.crosstab(value.obs['cluster_id'], value.obs['cluster_id']).sum(axis=1) for key, value in sc_data_list.items()}"
   ]
  },
  {
   "cell_type": "code",
   "execution_count": 223,
   "id": "fa3d5b11-e5e0-4d12-954b-a846c8b0969b",
   "metadata": {
    "tags": []
   },
   "outputs": [
    {
     "data": {
      "text/plain": [
       "{'Prepared_sc_Data': cluster_id\n",
       " ASDC                     8\n",
       " B cell                9829\n",
       " CD4 CTL               2346\n",
       " CD4 Naive             6495\n",
       " CD4 Proliferating      108\n",
       " CD4 TCM              45102\n",
       " CD4 TEM               6296\n",
       " CD8 Naive             2612\n",
       " CD8 Proliferating       13\n",
       " CD8 TCM                525\n",
       " CD8 TEM              10611\n",
       " CD14 Mono            32727\n",
       " CD16 Mono             4680\n",
       " Doublet                 48\n",
       " Eryth                    6\n",
       " HSPC                   332\n",
       " ILC                    931\n",
       " MAIT                  1177\n",
       " NK                   15699\n",
       " NK Proliferating       168\n",
       " NK_CD56bright          874\n",
       " Plasmablast            703\n",
       " Platelet               450\n",
       " Treg                  2362\n",
       " cDC1                    83\n",
       " cDC2                  1314\n",
       " dnT                    130\n",
       " gdT                   1901\n",
       " pDC                    745\n",
       " dtype: int64}"
      ]
     },
     "execution_count": 223,
     "metadata": {},
     "output_type": "execute_result"
    }
   ],
   "source": [
    "### Amount of cells per cluster\n",
    "cell_counts_per_cluster"
   ]
  },
  {
   "cell_type": "code",
   "execution_count": 224,
   "id": "ff16ca3b-b5b3-4faa-8d1b-bddfae7b1c4c",
   "metadata": {
    "tags": []
   },
   "outputs": [],
   "source": [
    "### Save the result as a dataframe for usage in the next script\n",
    "cells_per_sample_cluster = {key: pd.crosstab(value.obs['cluster_id'], value.obs['sample_id']).T for key, value in sc_data_list.items()}"
   ]
  },
  {
   "cell_type": "code",
   "execution_count": 225,
   "id": "53ff9e8a-4621-4632-b548-d94266069de0",
   "metadata": {
    "tags": []
   },
   "outputs": [],
   "source": [
    "# Convert the dictionary of DataFrames into a single DataFrame and melt it to long format\n",
    "cells_per_sample_cluster_long = pd.concat({key: value.melt(ignore_index=False) for key, value in cells_per_sample_cluster.items()})\n",
    "\n",
    "# Reset index and rename columns\n",
    "cells_per_sample_cluster_long.reset_index(inplace=True)\n",
    "cells_per_sample_cluster_long.columns = ['dataset', 'Sample', 'Cluster_Cell_Type', 'amount_cells']"
   ]
  },
  {
   "cell_type": "code",
   "execution_count": 226,
   "id": "b8803e1d-78f5-44fb-8373-d6edaf6af534",
   "metadata": {
    "tags": []
   },
   "outputs": [
    {
     "data": {
      "text/html": [
       "<div>\n",
       "<style scoped>\n",
       "    .dataframe tbody tr th:only-of-type {\n",
       "        vertical-align: middle;\n",
       "    }\n",
       "\n",
       "    .dataframe tbody tr th {\n",
       "        vertical-align: top;\n",
       "    }\n",
       "\n",
       "    .dataframe thead th {\n",
       "        text-align: right;\n",
       "    }\n",
       "</style>\n",
       "<table border=\"1\" class=\"dataframe\">\n",
       "  <thead>\n",
       "    <tr style=\"text-align: right;\">\n",
       "      <th></th>\n",
       "      <th>dataset</th>\n",
       "      <th>Sample</th>\n",
       "      <th>Cluster_Cell_Type</th>\n",
       "      <th>amount_cells</th>\n",
       "    </tr>\n",
       "  </thead>\n",
       "  <tbody>\n",
       "    <tr>\n",
       "      <th>0</th>\n",
       "      <td>Prepared_sc_Data</td>\n",
       "      <td>k2</td>\n",
       "      <td>ASDC</td>\n",
       "      <td>0</td>\n",
       "    </tr>\n",
       "    <tr>\n",
       "      <th>1</th>\n",
       "      <td>Prepared_sc_Data</td>\n",
       "      <td>k3</td>\n",
       "      <td>ASDC</td>\n",
       "      <td>0</td>\n",
       "    </tr>\n",
       "    <tr>\n",
       "      <th>2</th>\n",
       "      <td>Prepared_sc_Data</td>\n",
       "      <td>k4</td>\n",
       "      <td>ASDC</td>\n",
       "      <td>0</td>\n",
       "    </tr>\n",
       "    <tr>\n",
       "      <th>3</th>\n",
       "      <td>Prepared_sc_Data</td>\n",
       "      <td>k5</td>\n",
       "      <td>ASDC</td>\n",
       "      <td>0</td>\n",
       "    </tr>\n",
       "    <tr>\n",
       "      <th>4</th>\n",
       "      <td>Prepared_sc_Data</td>\n",
       "      <td>k6</td>\n",
       "      <td>ASDC</td>\n",
       "      <td>0</td>\n",
       "    </tr>\n",
       "    <tr>\n",
       "      <th>...</th>\n",
       "      <td>...</td>\n",
       "      <td>...</td>\n",
       "      <td>...</td>\n",
       "      <td>...</td>\n",
       "    </tr>\n",
       "    <tr>\n",
       "      <th>3446</th>\n",
       "      <td>Prepared_sc_Data</td>\n",
       "      <td>m27.2</td>\n",
       "      <td>pDC</td>\n",
       "      <td>7</td>\n",
       "    </tr>\n",
       "    <tr>\n",
       "      <th>3447</th>\n",
       "      <td>Prepared_sc_Data</td>\n",
       "      <td>m27.3</td>\n",
       "      <td>pDC</td>\n",
       "      <td>12</td>\n",
       "    </tr>\n",
       "    <tr>\n",
       "      <th>3448</th>\n",
       "      <td>Prepared_sc_Data</td>\n",
       "      <td>m28.2</td>\n",
       "      <td>pDC</td>\n",
       "      <td>2</td>\n",
       "    </tr>\n",
       "    <tr>\n",
       "      <th>3449</th>\n",
       "      <td>Prepared_sc_Data</td>\n",
       "      <td>m28.3</td>\n",
       "      <td>pDC</td>\n",
       "      <td>3</td>\n",
       "    </tr>\n",
       "    <tr>\n",
       "      <th>3450</th>\n",
       "      <td>Prepared_sc_Data</td>\n",
       "      <td>m28.4</td>\n",
       "      <td>pDC</td>\n",
       "      <td>9</td>\n",
       "    </tr>\n",
       "  </tbody>\n",
       "</table>\n",
       "<p>3451 rows × 4 columns</p>\n",
       "</div>"
      ],
      "text/plain": [
       "               dataset Sample Cluster_Cell_Type  amount_cells\n",
       "0     Prepared_sc_Data     k2              ASDC             0\n",
       "1     Prepared_sc_Data     k3              ASDC             0\n",
       "2     Prepared_sc_Data     k4              ASDC             0\n",
       "3     Prepared_sc_Data     k5              ASDC             0\n",
       "4     Prepared_sc_Data     k6              ASDC             0\n",
       "...                ...    ...               ...           ...\n",
       "3446  Prepared_sc_Data  m27.2               pDC             7\n",
       "3447  Prepared_sc_Data  m27.3               pDC            12\n",
       "3448  Prepared_sc_Data  m28.2               pDC             2\n",
       "3449  Prepared_sc_Data  m28.3               pDC             3\n",
       "3450  Prepared_sc_Data  m28.4               pDC             9\n",
       "\n",
       "[3451 rows x 4 columns]"
      ]
     },
     "execution_count": 226,
     "metadata": {},
     "output_type": "execute_result"
    }
   ],
   "source": [
    "cells_per_sample_cluster_long"
   ]
  },
  {
   "cell_type": "code",
   "execution_count": 227,
   "id": "49bc61ad-6ea8-4b46-b9eb-912c31e42c6a",
   "metadata": {
    "tags": []
   },
   "outputs": [],
   "source": [
    "## Save the file\n",
    "for i in pd.unique(cells_per_sample_cluster_long['dataset']):\n",
    "    save_data = cells_per_sample_cluster_long[cells_per_sample_cluster_long['dataset'] == i]\n",
    "    save_data.to_csv(result_path[1] + '01_results/01_' + i +  '_Cell_Sample_Cluster_Distribution.csv')"
   ]
  },
  {
   "cell_type": "code",
   "execution_count": 228,
   "id": "447eddb8-cfb7-4232-8956-4ebef6ee5462",
   "metadata": {
    "tags": []
   },
   "outputs": [],
   "source": [
    "## Categorize the amount of cells"
   ]
  },
  {
   "cell_type": "code",
   "execution_count": 229,
   "id": "7beed846-cdec-4cde-af30-8f11702b5e05",
   "metadata": {
    "tags": []
   },
   "outputs": [],
   "source": [
    "# Define bins and labels\n",
    "bins = [-np.inf, 3, 10, 20, 50, np.inf]\n",
    "labels = ['0-3', '3-10', '10-20', '20-50', '> 50']\n",
    "# Map amount_cells to categories\n",
    "cells_per_sample_cluster_long['amount_cells_cat'] = pd.cut(cells_per_sample_cluster_long['amount_cells'], bins=bins, labels=labels, right=False)"
   ]
  },
  {
   "cell_type": "code",
   "execution_count": 230,
   "id": "8d8507ed-94f8-4899-bd88-f073e08ca6af",
   "metadata": {
    "tags": []
   },
   "outputs": [
    {
     "data": {
      "text/html": [
       "<div>\n",
       "<style scoped>\n",
       "    .dataframe tbody tr th:only-of-type {\n",
       "        vertical-align: middle;\n",
       "    }\n",
       "\n",
       "    .dataframe tbody tr th {\n",
       "        vertical-align: top;\n",
       "    }\n",
       "\n",
       "    .dataframe thead th {\n",
       "        text-align: right;\n",
       "    }\n",
       "</style>\n",
       "<table border=\"1\" class=\"dataframe\">\n",
       "  <thead>\n",
       "    <tr style=\"text-align: right;\">\n",
       "      <th></th>\n",
       "      <th>dataset</th>\n",
       "      <th>Sample</th>\n",
       "      <th>Cluster_Cell_Type</th>\n",
       "      <th>amount_cells</th>\n",
       "      <th>amount_cells_cat</th>\n",
       "    </tr>\n",
       "  </thead>\n",
       "  <tbody>\n",
       "    <tr>\n",
       "      <th>0</th>\n",
       "      <td>Prepared_sc_Data</td>\n",
       "      <td>k2</td>\n",
       "      <td>ASDC</td>\n",
       "      <td>0</td>\n",
       "      <td>0-3</td>\n",
       "    </tr>\n",
       "    <tr>\n",
       "      <th>1</th>\n",
       "      <td>Prepared_sc_Data</td>\n",
       "      <td>k3</td>\n",
       "      <td>ASDC</td>\n",
       "      <td>0</td>\n",
       "      <td>0-3</td>\n",
       "    </tr>\n",
       "    <tr>\n",
       "      <th>2</th>\n",
       "      <td>Prepared_sc_Data</td>\n",
       "      <td>k4</td>\n",
       "      <td>ASDC</td>\n",
       "      <td>0</td>\n",
       "      <td>0-3</td>\n",
       "    </tr>\n",
       "    <tr>\n",
       "      <th>3</th>\n",
       "      <td>Prepared_sc_Data</td>\n",
       "      <td>k5</td>\n",
       "      <td>ASDC</td>\n",
       "      <td>0</td>\n",
       "      <td>0-3</td>\n",
       "    </tr>\n",
       "    <tr>\n",
       "      <th>4</th>\n",
       "      <td>Prepared_sc_Data</td>\n",
       "      <td>k6</td>\n",
       "      <td>ASDC</td>\n",
       "      <td>0</td>\n",
       "      <td>0-3</td>\n",
       "    </tr>\n",
       "    <tr>\n",
       "      <th>...</th>\n",
       "      <td>...</td>\n",
       "      <td>...</td>\n",
       "      <td>...</td>\n",
       "      <td>...</td>\n",
       "      <td>...</td>\n",
       "    </tr>\n",
       "    <tr>\n",
       "      <th>3446</th>\n",
       "      <td>Prepared_sc_Data</td>\n",
       "      <td>m27.2</td>\n",
       "      <td>pDC</td>\n",
       "      <td>7</td>\n",
       "      <td>3-10</td>\n",
       "    </tr>\n",
       "    <tr>\n",
       "      <th>3447</th>\n",
       "      <td>Prepared_sc_Data</td>\n",
       "      <td>m27.3</td>\n",
       "      <td>pDC</td>\n",
       "      <td>12</td>\n",
       "      <td>10-20</td>\n",
       "    </tr>\n",
       "    <tr>\n",
       "      <th>3448</th>\n",
       "      <td>Prepared_sc_Data</td>\n",
       "      <td>m28.2</td>\n",
       "      <td>pDC</td>\n",
       "      <td>2</td>\n",
       "      <td>0-3</td>\n",
       "    </tr>\n",
       "    <tr>\n",
       "      <th>3449</th>\n",
       "      <td>Prepared_sc_Data</td>\n",
       "      <td>m28.3</td>\n",
       "      <td>pDC</td>\n",
       "      <td>3</td>\n",
       "      <td>3-10</td>\n",
       "    </tr>\n",
       "    <tr>\n",
       "      <th>3450</th>\n",
       "      <td>Prepared_sc_Data</td>\n",
       "      <td>m28.4</td>\n",
       "      <td>pDC</td>\n",
       "      <td>9</td>\n",
       "      <td>3-10</td>\n",
       "    </tr>\n",
       "  </tbody>\n",
       "</table>\n",
       "<p>3451 rows × 5 columns</p>\n",
       "</div>"
      ],
      "text/plain": [
       "               dataset Sample Cluster_Cell_Type  amount_cells amount_cells_cat\n",
       "0     Prepared_sc_Data     k2              ASDC             0              0-3\n",
       "1     Prepared_sc_Data     k3              ASDC             0              0-3\n",
       "2     Prepared_sc_Data     k4              ASDC             0              0-3\n",
       "3     Prepared_sc_Data     k5              ASDC             0              0-3\n",
       "4     Prepared_sc_Data     k6              ASDC             0              0-3\n",
       "...                ...    ...               ...           ...              ...\n",
       "3446  Prepared_sc_Data  m27.2               pDC             7             3-10\n",
       "3447  Prepared_sc_Data  m27.3               pDC            12            10-20\n",
       "3448  Prepared_sc_Data  m28.2               pDC             2              0-3\n",
       "3449  Prepared_sc_Data  m28.3               pDC             3             3-10\n",
       "3450  Prepared_sc_Data  m28.4               pDC             9             3-10\n",
       "\n",
       "[3451 rows x 5 columns]"
      ]
     },
     "execution_count": 230,
     "metadata": {},
     "output_type": "execute_result"
    }
   ],
   "source": [
    "cells_per_sample_cluster_long"
   ]
  },
  {
   "cell_type": "code",
   "execution_count": 231,
   "id": "01e0b6e0-ce24-4ff9-a1aa-3f947f326e17",
   "metadata": {},
   "outputs": [],
   "source": [
    "# Visualized the result"
   ]
  },
  {
   "cell_type": "code",
   "execution_count": 232,
   "id": "a66b2691-c420-45ee-99fc-7af963b5be4d",
   "metadata": {
    "tags": []
   },
   "outputs": [
    {
     "data": {
      "image/png": "[encoded data removed]",
      "text/plain": [
       "<Figure size 2000x1000 with 2 Axes>"
      ]
     },
     "metadata": {},
     "output_type": "display_data"
    }
   ],
   "source": [
    "my_colors = ['#8B0000', '#FFC1C1', '#FFF5EE', '#98FB98', '#548B54']\n",
    "my_cmap = ListedColormap(my_colors)\n",
    "\n",
    "bounds = [0, 3, 10, 20, 50, 10000]\n",
    "my_norm = BoundaryNorm(bounds, ncolors=len(my_colors))\n",
    "\n",
    "#grid_kws = {\"height_ratios\": (1), \"hspace\": .1}\n",
    "# Adjust figsize for a less long and wider plot\n",
    "fig, (ax, cbar_ax) = plt.subplots(nrows=2, figsize=(20, 10), gridspec_kw={\"height_ratios\": (15, 0.5), \"hspace\": .5})\n",
    "sns.heatmap(data=cells_per_sample_cluster_long.pivot(index='Cluster_Cell_Type', columns='Sample', values='amount_cells'),\n",
    "            #yticklabels=2, \n",
    "            ax=ax,\n",
    "            cmap=my_cmap,\n",
    "            norm=my_norm,\n",
    "            cbar_ax=cbar_ax, xticklabels=True, yticklabels=True,\n",
    "            cbar_kws={\"orientation\": \"horizontal\",  \"pad\": 0.05})\n",
    "\n",
    "\n",
    "colorbar = ax.collections[0].colorbar\n",
    "colorbar.set_ticks([(b0+b1)/2 for b0, b1 in zip(bounds[:-1], bounds[1:])])\n",
    "colorbar.set_ticklabels(['0-3', '3-10', '10-20', '20-50', '>50'])\n",
    "\n",
    "# Add title\n",
    "plt.title(\"Amount of cells per cluster and sample\")\n",
    "\n",
    "# Save the figure as a PDF to a specific folder\n",
    "plt.savefig('figures/01_figures/FIG01_Amount_of_Cells_per_Sample_and_Cell_Type'  + '.pdf', bbox_inches='tight')\n",
    "plt.show()"
   ]
  },
  {
   "cell_type": "markdown",
   "id": "5a4aa855-30e4-4ab2-8a1f-45011efa5c80",
   "metadata": {},
   "source": [
    "## Calculate gene expression percentages per cluster for thresholding"
   ]
  },
  {
   "cell_type": "code",
   "execution_count": 233,
   "id": "77783231-41bb-4779-a7f2-1d4a6a67898a",
   "metadata": {},
   "outputs": [],
   "source": [
    "### Calculate the percentage of cells having non-zero values for each gene per cluster\n",
    "### will later be used to remove genes that are only expressed in a very low amount of cells"
   ]
  },
  {
   "cell_type": "code",
   "execution_count": 234,
   "id": "1a9f7ce3-cf1c-44b3-a639-a436079027e4",
   "metadata": {
    "tags": []
   },
   "outputs": [],
   "source": [
    "## Generate empty data.frames to store the result in"
   ]
  },
  {
   "cell_type": "code",
   "execution_count": 235,
   "id": "5c791bcb-f53b-4f92-8c74-34d1b8f27852",
   "metadata": {
    "tags": []
   },
   "outputs": [],
   "source": [
    "gene_expr_data = pd.DataFrame()"
   ]
  },
  {
   "cell_type": "code",
   "execution_count": 236,
   "id": "67539a7f-d8d2-428d-87b7-dee7f59953c8",
   "metadata": {
    "tags": []
   },
   "outputs": [],
   "source": [
    "for j in sc_data_list.keys():\n",
    "    adata = sc_data_list[j]\n",
    "    \n",
    "    for i in pd.unique(adata.obs['cluster_id']):\n",
    "        cell_type = i\n",
    "        adata_subset = adata[adata.obs['cluster_id'] == cell_type]\n",
    "\n",
    "        amount_cells = adata_subset.shape[0]\n",
    "        ## Calcalte percentage of cells expressiong gene\n",
    "        amount_cells_expressing_gene = (adata_subset.X > 0).sum(axis= 0)\n",
    "        perc_cells_expressing_gene = (amount_cells_expressing_gene/ amount_cells) * 100\n",
    "\n",
    "        data = {\n",
    "        'perc_cells_expressing_gene': np.ravel(perc_cells_expressing_gene),\n",
    "        'total_amount_cells_expressing_gene': np.ravel(amount_cells_expressing_gene),\n",
    "        'gene': adata_subset.var_names,\n",
    "        'cluster': cell_type,\n",
    "        'dataset': j\n",
    "        }\n",
    "\n",
    "        df = pd.DataFrame(data)\n",
    "\n",
    "        ### Append data\n",
    "        gene_expr_data = pd.concat([gene_expr_data, df])"
   ]
  },
  {
   "cell_type": "code",
   "execution_count": 237,
   "id": "aa4e06bc-95c4-414f-8e24-4f72b46ef8fd",
   "metadata": {
    "tags": []
   },
   "outputs": [
    {
     "data": {
      "text/html": [
       "<div>\n",
       "<style scoped>\n",
       "    .dataframe tbody tr th:only-of-type {\n",
       "        vertical-align: middle;\n",
       "    }\n",
       "\n",
       "    .dataframe tbody tr th {\n",
       "        vertical-align: top;\n",
       "    }\n",
       "\n",
       "    .dataframe thead th {\n",
       "        text-align: right;\n",
       "    }\n",
       "</style>\n",
       "<table border=\"1\" class=\"dataframe\">\n",
       "  <thead>\n",
       "    <tr style=\"text-align: right;\">\n",
       "      <th></th>\n",
       "      <th>perc_cells_expressing_gene</th>\n",
       "      <th>total_amount_cells_expressing_gene</th>\n",
       "      <th>gene</th>\n",
       "      <th>cluster</th>\n",
       "      <th>dataset</th>\n",
       "    </tr>\n",
       "  </thead>\n",
       "  <tbody>\n",
       "    <tr>\n",
       "      <th>0</th>\n",
       "      <td>0.234001</td>\n",
       "      <td>23</td>\n",
       "      <td>AL627309.1</td>\n",
       "      <td>B cell</td>\n",
       "      <td>Prepared_sc_Data</td>\n",
       "    </tr>\n",
       "    <tr>\n",
       "      <th>1</th>\n",
       "      <td>0.061044</td>\n",
       "      <td>6</td>\n",
       "      <td>AL627309.4</td>\n",
       "      <td>B cell</td>\n",
       "      <td>Prepared_sc_Data</td>\n",
       "    </tr>\n",
       "    <tr>\n",
       "      <th>2</th>\n",
       "      <td>6.775867</td>\n",
       "      <td>666</td>\n",
       "      <td>AL669831.5</td>\n",
       "      <td>B cell</td>\n",
       "      <td>Prepared_sc_Data</td>\n",
       "    </tr>\n",
       "    <tr>\n",
       "      <th>3</th>\n",
       "      <td>0.122088</td>\n",
       "      <td>12</td>\n",
       "      <td>FAM87B</td>\n",
       "      <td>B cell</td>\n",
       "      <td>Prepared_sc_Data</td>\n",
       "    </tr>\n",
       "    <tr>\n",
       "      <th>4</th>\n",
       "      <td>1.678706</td>\n",
       "      <td>165</td>\n",
       "      <td>LINC00115</td>\n",
       "      <td>B cell</td>\n",
       "      <td>Prepared_sc_Data</td>\n",
       "    </tr>\n",
       "    <tr>\n",
       "      <th>...</th>\n",
       "      <td>...</td>\n",
       "      <td>...</td>\n",
       "      <td>...</td>\n",
       "      <td>...</td>\n",
       "      <td>...</td>\n",
       "    </tr>\n",
       "    <tr>\n",
       "      <th>19216</th>\n",
       "      <td>0.000000</td>\n",
       "      <td>0</td>\n",
       "      <td>AL592183.1</td>\n",
       "      <td>Eryth</td>\n",
       "      <td>Prepared_sc_Data</td>\n",
       "    </tr>\n",
       "    <tr>\n",
       "      <th>19217</th>\n",
       "      <td>0.000000</td>\n",
       "      <td>0</td>\n",
       "      <td>AC007325.4</td>\n",
       "      <td>Eryth</td>\n",
       "      <td>Prepared_sc_Data</td>\n",
       "    </tr>\n",
       "    <tr>\n",
       "      <th>19218</th>\n",
       "      <td>0.000000</td>\n",
       "      <td>0</td>\n",
       "      <td>AL354822.1</td>\n",
       "      <td>Eryth</td>\n",
       "      <td>Prepared_sc_Data</td>\n",
       "    </tr>\n",
       "    <tr>\n",
       "      <th>19219</th>\n",
       "      <td>0.000000</td>\n",
       "      <td>0</td>\n",
       "      <td>AC004556.1</td>\n",
       "      <td>Eryth</td>\n",
       "      <td>Prepared_sc_Data</td>\n",
       "    </tr>\n",
       "    <tr>\n",
       "      <th>19220</th>\n",
       "      <td>0.000000</td>\n",
       "      <td>0</td>\n",
       "      <td>AC240274.1</td>\n",
       "      <td>Eryth</td>\n",
       "      <td>Prepared_sc_Data</td>\n",
       "    </tr>\n",
       "  </tbody>\n",
       "</table>\n",
       "<p>557409 rows × 5 columns</p>\n",
       "</div>"
      ],
      "text/plain": [
       "       perc_cells_expressing_gene  total_amount_cells_expressing_gene  \\\n",
       "0                        0.234001                                  23   \n",
       "1                        0.061044                                   6   \n",
       "2                        6.775867                                 666   \n",
       "3                        0.122088                                  12   \n",
       "4                        1.678706                                 165   \n",
       "...                           ...                                 ...   \n",
       "19216                    0.000000                                   0   \n",
       "19217                    0.000000                                   0   \n",
       "19218                    0.000000                                   0   \n",
       "19219                    0.000000                                   0   \n",
       "19220                    0.000000                                   0   \n",
       "\n",
       "             gene cluster           dataset  \n",
       "0      AL627309.1  B cell  Prepared_sc_Data  \n",
       "1      AL627309.4  B cell  Prepared_sc_Data  \n",
       "2      AL669831.5  B cell  Prepared_sc_Data  \n",
       "3          FAM87B  B cell  Prepared_sc_Data  \n",
       "4       LINC00115  B cell  Prepared_sc_Data  \n",
       "...           ...     ...               ...  \n",
       "19216  AL592183.1   Eryth  Prepared_sc_Data  \n",
       "19217  AC007325.4   Eryth  Prepared_sc_Data  \n",
       "19218  AL354822.1   Eryth  Prepared_sc_Data  \n",
       "19219  AC004556.1   Eryth  Prepared_sc_Data  \n",
       "19220  AC240274.1   Eryth  Prepared_sc_Data  \n",
       "\n",
       "[557409 rows x 5 columns]"
      ]
     },
     "execution_count": 237,
     "metadata": {},
     "output_type": "execute_result"
    }
   ],
   "source": [
    "gene_expr_data"
   ]
  },
  {
   "cell_type": "code",
   "execution_count": 238,
   "id": "df13d395-d384-4ee8-9d1d-1a65a4cdc3cc",
   "metadata": {
    "tags": []
   },
   "outputs": [],
   "source": [
    "### Save results for later filtering\n",
    "for i in pd.unique(gene_expr_data['dataset']):\n",
    "    save_data = gene_expr_data[gene_expr_data['dataset'] == i]\n",
    "    save_data.to_csv(result_path[1] + '/01_results/01_'  + i +  '_Gene_Expr_per_Cell_Type' +  '.csv')"
   ]
  },
  {
   "cell_type": "markdown",
   "id": "a6c38f95-8890-48ec-8585-c54af4c99ff7",
   "metadata": {},
   "source": [
    "## Aggregate to pseudobulk"
   ]
  },
  {
   "cell_type": "code",
   "execution_count": 239,
   "id": "9a2d8c45-c3ce-439b-b650-87d5f160a5f4",
   "metadata": {
    "tags": []
   },
   "outputs": [],
   "source": [
    "## Aggregate to pseudobulk by cluster and sample_id"
   ]
  },
  {
   "cell_type": "code",
   "execution_count": 240,
   "id": "293e0200-1850-49cd-924d-b5a6af5b959b",
   "metadata": {
    "tags": []
   },
   "outputs": [],
   "source": [
    "adata.raw"
   ]
  },
  {
   "cell_type": "code",
   "execution_count": 241,
   "id": "8bf6663f-bfb9-4a02-b328-cfa4e445f43b",
   "metadata": {},
   "outputs": [],
   "source": [
    "for j in sc_data_list.keys():\n",
    "    adata = sc_data_list[j]\n",
    "    adata = dc.get_pseudobulk(\n",
    "        adata,\n",
    "        sample_col='sample_id',\n",
    "        groups_col='cluster_id',\n",
    "        #layer='counts',\n",
    "        mode='mean',\n",
    "        min_cells=0,  # Filter to remove samples by a minimum number of cells in a sample-group pair.\n",
    "        min_counts=0)   \n",
    "    \n",
    "    ## Format as table \n",
    "    \n",
    "    data = adata.to_df()\n",
    "    data['feature'] = data.index\n",
    "    \n",
    "    ## Convert to long format\n",
    "    data_long = pd.melt(data, id_vars = ['feature'])\n",
    "    data_long['sample_id'] = data_long['feature'].str.extract(r'^([^_]*)')\n",
    "    data_long['type'] = data_long['feature'].str.extract(r'_(.*)')\n",
    "    \n",
    "    data_long['variable'] = data_long['variable']\n",
    "    data_long['dataset'] = sc_dataset_names[0]\n",
    "    \n",
    "    ## Select relevant columns and save\n",
    "    data_long = data_long[['sample_id', 'variable', 'value', 'dataset', 'type']]\n",
    "    data_long.to_csv(result_path[1] + '/01_results/01_' + j + 'Pseudobulk_Table' +'.csv')"
   ]
  },
  {
   "cell_type": "code",
   "execution_count": 242,
   "id": "b0283898-b6ab-4c38-9689-60c9dcffc6f0",
   "metadata": {
    "tags": []
   },
   "outputs": [
    {
     "data": {
      "text/html": [
       "<div>\n",
       "<style scoped>\n",
       "    .dataframe tbody tr th:only-of-type {\n",
       "        vertical-align: middle;\n",
       "    }\n",
       "\n",
       "    .dataframe tbody tr th {\n",
       "        vertical-align: top;\n",
       "    }\n",
       "\n",
       "    .dataframe thead th {\n",
       "        text-align: right;\n",
       "    }\n",
       "</style>\n",
       "<table border=\"1\" class=\"dataframe\">\n",
       "  <thead>\n",
       "    <tr style=\"text-align: right;\">\n",
       "      <th></th>\n",
       "      <th>sample_id</th>\n",
       "      <th>variable</th>\n",
       "      <th>value</th>\n",
       "      <th>dataset</th>\n",
       "      <th>type</th>\n",
       "    </tr>\n",
       "  </thead>\n",
       "  <tbody>\n",
       "    <tr>\n",
       "      <th>0</th>\n",
       "      <td>k18</td>\n",
       "      <td>A1BG</td>\n",
       "      <td>2.000000</td>\n",
       "      <td>Prepared_sc_Data</td>\n",
       "      <td>ASDC</td>\n",
       "    </tr>\n",
       "    <tr>\n",
       "      <th>1</th>\n",
       "      <td>m19.2</td>\n",
       "      <td>A1BG</td>\n",
       "      <td>0.000000</td>\n",
       "      <td>Prepared_sc_Data</td>\n",
       "      <td>ASDC</td>\n",
       "    </tr>\n",
       "    <tr>\n",
       "      <th>2</th>\n",
       "      <td>m21.4</td>\n",
       "      <td>A1BG</td>\n",
       "      <td>1.000000</td>\n",
       "      <td>Prepared_sc_Data</td>\n",
       "      <td>ASDC</td>\n",
       "    </tr>\n",
       "    <tr>\n",
       "      <th>3</th>\n",
       "      <td>m22.2</td>\n",
       "      <td>A1BG</td>\n",
       "      <td>0.000000</td>\n",
       "      <td>Prepared_sc_Data</td>\n",
       "      <td>ASDC</td>\n",
       "    </tr>\n",
       "    <tr>\n",
       "      <th>4</th>\n",
       "      <td>m25.2</td>\n",
       "      <td>A1BG</td>\n",
       "      <td>0.000000</td>\n",
       "      <td>Prepared_sc_Data</td>\n",
       "      <td>ASDC</td>\n",
       "    </tr>\n",
       "    <tr>\n",
       "      <th>...</th>\n",
       "      <td>...</td>\n",
       "      <td>...</td>\n",
       "      <td>...</td>\n",
       "      <td>...</td>\n",
       "      <td>...</td>\n",
       "    </tr>\n",
       "    <tr>\n",
       "      <th>51089413</th>\n",
       "      <td>m8.3</td>\n",
       "      <td>ZZEF1</td>\n",
       "      <td>0.000000</td>\n",
       "      <td>Prepared_sc_Data</td>\n",
       "      <td>pDC</td>\n",
       "    </tr>\n",
       "    <tr>\n",
       "      <th>51089414</th>\n",
       "      <td>m8.4</td>\n",
       "      <td>ZZEF1</td>\n",
       "      <td>0.500000</td>\n",
       "      <td>Prepared_sc_Data</td>\n",
       "      <td>pDC</td>\n",
       "    </tr>\n",
       "    <tr>\n",
       "      <th>51089415</th>\n",
       "      <td>m9.1</td>\n",
       "      <td>ZZEF1</td>\n",
       "      <td>0.666667</td>\n",
       "      <td>Prepared_sc_Data</td>\n",
       "      <td>pDC</td>\n",
       "    </tr>\n",
       "    <tr>\n",
       "      <th>51089416</th>\n",
       "      <td>m9.2</td>\n",
       "      <td>ZZEF1</td>\n",
       "      <td>0.250000</td>\n",
       "      <td>Prepared_sc_Data</td>\n",
       "      <td>pDC</td>\n",
       "    </tr>\n",
       "    <tr>\n",
       "      <th>51089417</th>\n",
       "      <td>m9.3</td>\n",
       "      <td>ZZEF1</td>\n",
       "      <td>0.200000</td>\n",
       "      <td>Prepared_sc_Data</td>\n",
       "      <td>pDC</td>\n",
       "    </tr>\n",
       "  </tbody>\n",
       "</table>\n",
       "<p>51089418 rows × 5 columns</p>\n",
       "</div>"
      ],
      "text/plain": [
       "         sample_id variable     value           dataset  type\n",
       "0              k18     A1BG  2.000000  Prepared_sc_Data  ASDC\n",
       "1            m19.2     A1BG  0.000000  Prepared_sc_Data  ASDC\n",
       "2            m21.4     A1BG  1.000000  Prepared_sc_Data  ASDC\n",
       "3            m22.2     A1BG  0.000000  Prepared_sc_Data  ASDC\n",
       "4            m25.2     A1BG  0.000000  Prepared_sc_Data  ASDC\n",
       "...            ...      ...       ...               ...   ...\n",
       "51089413      m8.3    ZZEF1  0.000000  Prepared_sc_Data   pDC\n",
       "51089414      m8.4    ZZEF1  0.500000  Prepared_sc_Data   pDC\n",
       "51089415      m9.1    ZZEF1  0.666667  Prepared_sc_Data   pDC\n",
       "51089416      m9.2    ZZEF1  0.250000  Prepared_sc_Data   pDC\n",
       "51089417      m9.3    ZZEF1  0.200000  Prepared_sc_Data   pDC\n",
       "\n",
       "[51089418 rows x 5 columns]"
      ]
     },
     "execution_count": 242,
     "metadata": {},
     "output_type": "execute_result"
    }
   ],
   "source": [
    "data_long"
   ]
  },
  {
   "cell_type": "code",
   "execution_count": 243,
   "id": "bb2b676b-2c26-49c8-be69-2f0696d7eac7",
   "metadata": {},
   "outputs": [
    {
     "data": {
      "text/plain": [
       "119"
      ]
     },
     "execution_count": 243,
     "metadata": {},
     "output_type": "execute_result"
    }
   ],
   "source": [
    "len(pd.unique(data_long['sample_id']))"
   ]
  },
  {
   "cell_type": "code",
   "execution_count": null,
   "id": "1904406e-4e9c-42af-a47b-e3b8d4a3f62c",
   "metadata": {},
   "outputs": [],
   "source": []
  },
  {
   "cell_type": "code",
   "execution_count": null,
   "id": "e72f5806-5e07-4dfb-bfbd-5a03f3b7b7a2",
   "metadata": {},
   "outputs": [],
   "source": []
  },
  {
   "cell_type": "code",
   "execution_count": null,
   "id": "ba1c1070-3a12-449a-9385-517f1e171b4e",
   "metadata": {},
   "outputs": [],
   "source": []
  }
 ],
 "metadata": {
  "kernelspec": {
   "display_name": "Python 3 (ipykernel)",
   "language": "python",
   "name": "python3"
  },
  "language_info": {
   "codemirror_mode": {
    "name": "ipython",
    "version": 3
   },
   "file_extension": ".py",
   "mimetype": "text/x-python",
   "name": "python",
   "nbconvert_exporter": "python",
   "pygments_lexer": "ipython3",
   "version": "3.9.18"
  },
  "toc-autonumbering": false,
  "toc-showcode": false
 },
 "nbformat": 4,
 "nbformat_minor": 5
}
