{
 "cells": [
  {
   "cell_type": "code",
   "execution_count": 20,
   "id": "1632f901-cdb4-4ffc-8498-bb899c6bca6a",
   "metadata": {
    "tags": []
   },
   "outputs": [],
   "source": [
    "# Load Seurat object and create pseudobulk for MOFA analysis based on azimuth annotations"
   ]
  },
  {
   "cell_type": "markdown",
   "id": "6fb4f2cb-8b92-45cf-b4b3-9ce3e0c656d0",
   "metadata": {
    "tags": []
   },
   "source": [
    "#############################################\n",
    "# Prerequisites - Load Libraries"
   ]
  },
  {
   "cell_type": "code",
   "execution_count": 21,
   "id": "24273cba-319a-431c-9a92-edc161c02103",
   "metadata": {
    "tags": []
   },
   "outputs": [
    {
     "name": "stderr",
     "output_type": "stream",
     "text": [
      "Warning message in read.table(file = file, header = header, sep = sep, quote = quote, :\n",
      "“incomplete final line found by readTableHeader on '../conda_environment/Environment_Configs.csv'”\n"
     ]
    },
    {
     "name": "stdout",
     "output_type": "stream",
     "text": [
      "[1] \"/home/icb/corinna.losert/miniconda3/envs/jove_r//lib/R/library\"\n"
     ]
    }
   ],
   "source": [
    "source('MS0_Libraries.r')"
   ]
  },
  {
   "cell_type": "code",
   "execution_count": 22,
   "id": "511a61fa-e25c-4729-a472-b494f5b67750",
   "metadata": {
    "tags": []
   },
   "outputs": [],
   "source": [
    "source('MS2_Plot_Config.r')"
   ]
  },
  {
   "cell_type": "markdown",
   "id": "372814ca-7f2b-4f60-810e-664ce4208695",
   "metadata": {
    "tags": []
   },
   "source": [
    "###############################################\n",
    "# Preqrequisites Configurations & Parameters"
   ]
  },
  {
   "cell_type": "code",
   "execution_count": 23,
   "id": "0882b026-e1b0-4467-a5d6-a8bfddabfa91",
   "metadata": {},
   "outputs": [
    {
     "name": "stderr",
     "output_type": "stream",
     "text": [
      "Warning message in read.table(file = file, header = header, sep = sep, quote = quote, :\n",
      "“incomplete final line found by readTableHeader on 'configurations/Data_Configs.csv'”\n"
     ]
    }
   ],
   "source": [
    "### Load configurations file\n",
    "global_configs = read.csv('configurations/Data_Configs.csv', sep = ',')"
   ]
  },
  {
   "cell_type": "code",
   "execution_count": 24,
   "id": "dbffb6f6-b79a-43de-9927-a0c6f7418fc1",
   "metadata": {},
   "outputs": [
    {
     "data": {
      "text/html": [
       "<table class=\"dataframe\">\n",
       "<caption>A data.frame: 2 × 2</caption>\n",
       "<thead>\n",
       "\t<tr><th></th><th scope=col>parameter</th><th scope=col>value</th></tr>\n",
       "\t<tr><th></th><th scope=col>&lt;chr&gt;</th><th scope=col>&lt;chr&gt;</th></tr>\n",
       "</thead>\n",
       "<tbody>\n",
       "\t<tr><th scope=row>1</th><td>data_path  </td><td>/lustre/groups/epigenereg01/workspace/projects/jove/input_data/</td></tr>\n",
       "\t<tr><th scope=row>2</th><td>result_path</td><td>/lustre/groups/epigenereg01/workspace/projects/jove/results/   </td></tr>\n",
       "</tbody>\n",
       "</table>\n"
      ],
      "text/latex": [
       "A data.frame: 2 × 2\n",
       "\\begin{tabular}{r|ll}\n",
       "  & parameter & value\\\\\n",
       "  & <chr> & <chr>\\\\\n",
       "\\hline\n",
       "\t1 & data\\_path   & /lustre/groups/epigenereg01/workspace/projects/jove/input\\_data/\\\\\n",
       "\t2 & result\\_path & /lustre/groups/epigenereg01/workspace/projects/jove/results/   \\\\\n",
       "\\end{tabular}\n"
      ],
      "text/markdown": [
       "\n",
       "A data.frame: 2 × 2\n",
       "\n",
       "| <!--/--> | parameter &lt;chr&gt; | value &lt;chr&gt; |\n",
       "|---|---|---|\n",
       "| 1 | data_path   | /lustre/groups/epigenereg01/workspace/projects/jove/input_data/ |\n",
       "| 2 | result_path | /lustre/groups/epigenereg01/workspace/projects/jove/results/    |\n",
       "\n"
      ],
      "text/plain": [
       "  parameter   value                                                          \n",
       "1 data_path   /lustre/groups/epigenereg01/workspace/projects/jove/input_data/\n",
       "2 result_path /lustre/groups/epigenereg01/workspace/projects/jove/results/   "
      ]
     },
     "metadata": {},
     "output_type": "display_data"
    }
   ],
   "source": [
    "head(global_configs,2)"
   ]
  },
  {
   "cell_type": "code",
   "execution_count": 25,
   "id": "9ca323b2-5728-45af-8481-2fd6938415f5",
   "metadata": {},
   "outputs": [],
   "source": [
    "data_path = global_configs$value[global_configs$parameter == 'data_path']"
   ]
  },
  {
   "cell_type": "code",
   "execution_count": 26,
   "id": "5be8858f-44cc-484e-90bf-18da832d05bb",
   "metadata": {},
   "outputs": [
    {
     "data": {
      "text/html": [
       "'/lustre/groups/epigenereg01/workspace/projects/jove/input_data/'"
      ],
      "text/latex": [
       "'/lustre/groups/epigenereg01/workspace/projects/jove/input\\_data/'"
      ],
      "text/markdown": [
       "'/lustre/groups/epigenereg01/workspace/projects/jove/input_data/'"
      ],
      "text/plain": [
       "[1] \"/lustre/groups/epigenereg01/workspace/projects/jove/input_data/\""
      ]
     },
     "metadata": {},
     "output_type": "display_data"
    }
   ],
   "source": [
    "data_path"
   ]
  },
  {
   "cell_type": "code",
   "execution_count": 27,
   "id": "33a64f2c-4efc-4304-bc38-e487e9818374",
   "metadata": {},
   "outputs": [],
   "source": [
    "result_path = global_configs$value[global_configs$parameter == 'result_path']"
   ]
  },
  {
   "cell_type": "code",
   "execution_count": 28,
   "id": "4cf8589f-4c50-4746-8fbe-778067b891c3",
   "metadata": {},
   "outputs": [
    {
     "data": {
      "text/html": [
       "'/lustre/groups/epigenereg01/workspace/projects/jove/results/'"
      ],
      "text/latex": [
       "'/lustre/groups/epigenereg01/workspace/projects/jove/results/'"
      ],
      "text/markdown": [
       "'/lustre/groups/epigenereg01/workspace/projects/jove/results/'"
      ],
      "text/plain": [
       "[1] \"/lustre/groups/epigenereg01/workspace/projects/jove/results/\""
      ]
     },
     "metadata": {},
     "output_type": "display_data"
    }
   ],
   "source": [
    "result_path"
   ]
  },
  {
   "cell_type": "code",
   "execution_count": 29,
   "id": "6fa83d4a-07d1-4d38-a95a-f1eb347bd093",
   "metadata": {},
   "outputs": [],
   "source": [
    "## SC Data name"
   ]
  },
  {
   "cell_type": "code",
   "execution_count": 30,
   "id": "859517e5-619b-4b03-bb9f-032620bca793",
   "metadata": {},
   "outputs": [
    {
     "name": "stderr",
     "output_type": "stream",
     "text": [
      "Warning message in read.table(file = file, header = header, sep = sep, quote = quote, :\n",
      "“incomplete final line found by readTableHeader on 'configurations/01_Pre_Processing_SC_Data.csv'”\n"
     ]
    }
   ],
   "source": [
    "sc_configs = read.csv('configurations/01_Pre_Processing_SC_Data.csv', sep = ',')"
   ]
  },
  {
   "cell_type": "code",
   "execution_count": 31,
   "id": "7133dd81-6136-4072-a1a7-faf15e36c03b",
   "metadata": {},
   "outputs": [
    {
     "data": {
      "text/html": [
       "<table class=\"dataframe\">\n",
       "<caption>A data.frame: 1 × 2</caption>\n",
       "<thead>\n",
       "\t<tr><th></th><th scope=col>data_name</th><th scope=col>data_type</th></tr>\n",
       "\t<tr><th></th><th scope=col>&lt;chr&gt;</th><th scope=col>&lt;chr&gt;</th></tr>\n",
       "</thead>\n",
       "<tbody>\n",
       "\t<tr><th scope=row>1</th><td>Prepared_sc_Data</td><td>h5seurat</td></tr>\n",
       "</tbody>\n",
       "</table>\n"
      ],
      "text/latex": [
       "A data.frame: 1 × 2\n",
       "\\begin{tabular}{r|ll}\n",
       "  & data\\_name & data\\_type\\\\\n",
       "  & <chr> & <chr>\\\\\n",
       "\\hline\n",
       "\t1 & Prepared\\_sc\\_Data & h5seurat\\\\\n",
       "\\end{tabular}\n"
      ],
      "text/markdown": [
       "\n",
       "A data.frame: 1 × 2\n",
       "\n",
       "| <!--/--> | data_name &lt;chr&gt; | data_type &lt;chr&gt; |\n",
       "|---|---|---|\n",
       "| 1 | Prepared_sc_Data | h5seurat |\n",
       "\n"
      ],
      "text/plain": [
       "  data_name        data_type\n",
       "1 Prepared_sc_Data h5seurat "
      ]
     },
     "metadata": {},
     "output_type": "display_data"
    }
   ],
   "source": [
    "head(sc_configs,2)"
   ]
  },
  {
   "cell_type": "code",
   "execution_count": 32,
   "id": "37b3ecc4-38c5-4ce7-ae42-d13a513d8c7e",
   "metadata": {},
   "outputs": [],
   "source": [
    "sc_configs = sc_configs[sc_configs$data_name != '',]"
   ]
  },
  {
   "cell_type": "code",
   "execution_count": 33,
   "id": "a66679b0-eeb2-4383-9c17-acab80539649",
   "metadata": {},
   "outputs": [],
   "source": [
    "sc_dataset_names = unique(sc_configs$data_name)"
   ]
  },
  {
   "cell_type": "code",
   "execution_count": null,
   "id": "e4d3b9d7-97e2-4aa7-97ba-b8e8ae2cfbcf",
   "metadata": {},
   "outputs": [],
   "source": []
  },
  {
   "cell_type": "code",
   "execution_count": 34,
   "id": "0fdb354b-1e22-47da-aa3d-521c3a3a018e",
   "metadata": {},
   "outputs": [
    {
     "data": {
      "text/html": [
       "'Prepared_sc_Data'"
      ],
      "text/latex": [
       "'Prepared\\_sc\\_Data'"
      ],
      "text/markdown": [
       "'Prepared_sc_Data'"
      ],
      "text/plain": [
       "[1] \"Prepared_sc_Data\""
      ]
     },
     "metadata": {},
     "output_type": "display_data"
    }
   ],
   "source": [
    "sc_dataset_names"
   ]
  },
  {
   "cell_type": "markdown",
   "id": "5dea8679-c933-48ea-af8b-cf9d2cfc5b15",
   "metadata": {},
   "source": [
    "# Load Data "
   ]
  },
  {
   "cell_type": "markdown",
   "id": "b42a9566-612f-4e1f-b658-676b22e5e69e",
   "metadata": {
    "tags": []
   },
   "source": [
    "## Load Seurat object"
   ]
  },
  {
   "cell_type": "code",
   "execution_count": 35,
   "id": "8e4e726a-5da5-4dbc-b2aa-7a1308c0391c",
   "metadata": {
    "tags": []
   },
   "outputs": [],
   "source": [
    "sc_data_list = list()"
   ]
  },
  {
   "cell_type": "code",
   "execution_count": 36,
   "id": "bd4c90d4-0743-44f0-9b52-6ba8b4bec086",
   "metadata": {},
   "outputs": [],
   "source": [
    "### Load single-cell datasets as h5seurat format; should contain the meta-columns: sample_id; cluster_id\n",
    "### Raw Counts should be given in default assay"
   ]
  },
  {
   "cell_type": "code",
   "execution_count": null,
   "id": "342956a0-0375-4eb0-9286-143e403ff3b8",
   "metadata": {
    "tags": []
   },
   "outputs": [
    {
     "name": "stdout",
     "output_type": "stream",
     "text": [
      "[1] \"/lustre/groups/epigenereg01/workspace/projects/jove/input_data//Prepared_sc_Data.h5seurat\"\n",
      "[1] \"2023-12-08 10:27:41 CET\"\n"
     ]
    },
    {
     "name": "stderr",
     "output_type": "stream",
     "text": [
      "Validating h5Seurat file\n",
      "\n",
      "Initializing RNA with data\n",
      "\n",
      "Adding counts for RNA\n",
      "\n",
      "Adding scale.data for RNA\n",
      "\n"
     ]
    }
   ],
   "source": [
    "###### Load the generated seurat objects\n",
    "for(i in sc_dataset_names){\n",
    "    source_text = paste( data_path, '/', i , '.h5seurat', sep = '')\n",
    "    print(source_text)\n",
    "    print(file.info(source_text)$mtime)\n",
    "    rna_seurat_data = LoadH5Seurat(source_text, assays = \"RNA\", quietly = TRUE )\n",
    "    \n",
    "    sc_data_list[[i]] = rna_seurat_data\n",
    "    }\n"
   ]
  },
  {
   "cell_type": "code",
   "execution_count": null,
   "id": "7c10d48f-0e7e-4b11-839c-54a0c029162c",
   "metadata": {},
   "outputs": [],
   "source": []
  },
  {
   "cell_type": "markdown",
   "id": "7beba9e0-c4b7-4da3-a615-6e5087769185",
   "metadata": {},
   "source": [
    "## Data - Checks "
   ]
  },
  {
   "cell_type": "code",
   "execution_count": null,
   "id": "7a311fd6-d4e7-47e2-aefe-cf06f38f6692",
   "metadata": {},
   "outputs": [],
   "source": [
    "#head(colSums(x = rna_seurat_data, slot = \"counts\") )  # raw count values from original matrix"
   ]
  },
  {
   "cell_type": "code",
   "execution_count": null,
   "id": "1c6fcae9-cd3a-4e8d-8d5b-8a35d2a10029",
   "metadata": {},
   "outputs": [],
   "source": [
    "#colnames(rna_seurat_data[[]]) # needs to contain cluster_id + sample_id"
   ]
  },
  {
   "cell_type": "code",
   "execution_count": null,
   "id": "3d0f4599-7992-467d-bc96-6343e10a1af1",
   "metadata": {},
   "outputs": [],
   "source": [
    "#dim(rna_seurat_data@assays$RNA@scale.data)"
   ]
  },
  {
   "cell_type": "code",
   "execution_count": null,
   "id": "3457aa22-ef49-4876-b429-c6ae07750ac0",
   "metadata": {},
   "outputs": [],
   "source": [
    "#DefaultAssay(rna_seurat_data)  "
   ]
  },
  {
   "cell_type": "code",
   "execution_count": null,
   "id": "80145e2d-0cbe-4878-a353-6f4f900e39ac",
   "metadata": {},
   "outputs": [],
   "source": [
    "## Add dummy group_id"
   ]
  },
  {
   "cell_type": "code",
   "execution_count": null,
   "id": "aba31190-8c6e-402a-80a9-e0a4ae45f7c7",
   "metadata": {},
   "outputs": [],
   "source": [
    "sc_data_list = lapply(sc_data_list, function(x){\n",
    "    x$group_id = 'dummy'\n",
    "    return(x)\n",
    "    })"
   ]
  },
  {
   "cell_type": "code",
   "execution_count": null,
   "id": "3986e2a0-a129-4dba-9f40-e6ec044aaba1",
   "metadata": {},
   "outputs": [],
   "source": [
    "head(sc_data_list[[1]]@meta.data,2)"
   ]
  },
  {
   "cell_type": "markdown",
   "id": "bb5686ee-7302-4b8f-927e-0b74de33a6a8",
   "metadata": {
    "tags": []
   },
   "source": [
    "# Data Processing"
   ]
  },
  {
   "cell_type": "markdown",
   "id": "234c8c17-2b81-4809-ab9c-f5dbfea77dc5",
   "metadata": {
    "tags": []
   },
   "source": [
    "## Convert to SCE "
   ]
  },
  {
   "cell_type": "code",
   "execution_count": null,
   "id": "b2874d82-aece-424d-b312-47a02850c196",
   "metadata": {},
   "outputs": [],
   "source": [
    "sc_data_list = lapply(sc_data_list, function(x){\n",
    "    as.SingleCellExperiment(x)\n",
    "    })\n",
    "    "
   ]
  },
  {
   "cell_type": "code",
   "execution_count": null,
   "id": "6586d897-0da8-44e5-a8ea-c2ffd8fceb64",
   "metadata": {},
   "outputs": [],
   "source": [
    "sc_data_list[[1]]"
   ]
  },
  {
   "cell_type": "markdown",
   "id": "d6803dcd-f85d-413f-bf11-03aea569773f",
   "metadata": {},
   "source": [
    "## Check amount of cells per sample and cluster "
   ]
  },
  {
   "cell_type": "code",
   "execution_count": null,
   "id": "d652a37f-3f8c-44a5-992e-cfedbb4705fe",
   "metadata": {},
   "outputs": [],
   "source": [
    "### Amount of cells per cluster\n",
    "lapply(sc_data_list, function(x){\n",
    "    colSums(table(x$cluster_id,x$cluster_id ))\n",
    "    })"
   ]
  },
  {
   "cell_type": "code",
   "execution_count": null,
   "id": "66fcbabe-13da-496f-bdd3-74323587a0e0",
   "metadata": {},
   "outputs": [],
   "source": [
    "### Save as dataframe"
   ]
  },
  {
   "cell_type": "code",
   "execution_count": null,
   "id": "b912887a-be08-45cd-b057-b3ad49136835",
   "metadata": {},
   "outputs": [],
   "source": [
    "cells_per_sample_cluster = lapply(sc_data_list, function(x){\n",
    "    as.data.frame( t(table(x$cluster_id, x$sample_id)))\n",
    "    })"
   ]
  },
  {
   "cell_type": "code",
   "execution_count": null,
   "id": "cdd8d7d8-48be-4ce1-b0be-0a93edf55ab5",
   "metadata": {},
   "outputs": [],
   "source": [
    "### Rename columns"
   ]
  },
  {
   "cell_type": "code",
   "execution_count": null,
   "id": "179d1484-7fb6-46c0-b5dc-95ed9a296274",
   "metadata": {},
   "outputs": [],
   "source": [
    "cells_per_sample_cluster = lapply(cells_per_sample_cluster, function(x){\n",
    "    colnames(x) = c('sample_id', 'cluster_id', 'Freq')\n",
    "    return(x)\n",
    "    })"
   ]
  },
  {
   "cell_type": "code",
   "execution_count": null,
   "id": "132ad81d-bf1f-4d50-80a6-fccf3b62d94c",
   "metadata": {},
   "outputs": [],
   "source": [
    "head(cells_per_sample_cluster[[1]])"
   ]
  },
  {
   "cell_type": "code",
   "execution_count": null,
   "id": "6f717161-62d5-45a3-a314-13af3ebb862c",
   "metadata": {},
   "outputs": [],
   "source": [
    "names(cells_per_sample_cluster)"
   ]
  },
  {
   "cell_type": "code",
   "execution_count": null,
   "id": "888301d7-b315-4c5b-b911-6edacd96fa7e",
   "metadata": {},
   "outputs": [],
   "source": [
    "result_path"
   ]
  },
  {
   "cell_type": "code",
   "execution_count": null,
   "id": "a62df507-d32a-426a-9c5b-ec1a55f765f7",
   "metadata": {},
   "outputs": [],
   "source": [
    "### Save\n",
    "for(i in names(cells_per_sample_cluster)){\n",
    "    write.csv(cells_per_sample_cluster[[i]], paste0(result_path, '/01_results/01_', i, '_Cell_Sample_Cluster_Distribution.csv'))\n",
    "    }\n",
    "    "
   ]
  },
  {
   "cell_type": "code",
   "execution_count": null,
   "id": "b49a7318-1a38-41b7-b427-16b5e8bdc117",
   "metadata": {},
   "outputs": [],
   "source": [
    "### Visualize"
   ]
  },
  {
   "cell_type": "code",
   "execution_count": null,
   "id": "865fb123-ca3d-4989-8c25-473e968f08ec",
   "metadata": {},
   "outputs": [],
   "source": [
    "## Categorize the amount of cells"
   ]
  },
  {
   "cell_type": "code",
   "execution_count": null,
   "id": "38d7b1c1-9d5a-4822-b795-bc6202e37ebc",
   "metadata": {},
   "outputs": [],
   "source": [
    "cells_per_sample_cluster = lapply(cells_per_sample_cluster, function(x){\n",
    "    colnames(x) =  c('Sample', 'Cluster_Cell_Type', 'amount_cells')\n",
    "    x$amount_cells_cat[(x$amount_cells <= 3)  ] = '0-3'\n",
    "    x$amount_cells_cat[(x$amount_cells <= 10)  & (x$amount_cells >3 )] = '3-10'\n",
    "    x$amount_cells_cat[(x$amount_cells <= 20)  & (x$amount_cells >10 )] = '10-20'\n",
    "    x$amount_cells_cat[(x$amount_cells <= 50)  & (x$amount_cells >20 )] = '20-50'\n",
    "    x$amount_cells_cat[(x$amount_cells > 50)  ] = '> 50'\n",
    "    return(x)\n",
    "    })"
   ]
  },
  {
   "cell_type": "code",
   "execution_count": null,
   "id": "53a04b0e-6a2c-49ab-94a6-32356434e07a",
   "metadata": {},
   "outputs": [],
   "source": [
    "head(cells_per_sample_cluster[[1]],2)"
   ]
  },
  {
   "cell_type": "code",
   "execution_count": null,
   "id": "01284c78-0c09-40e3-8d57-23debaf91ac8",
   "metadata": {},
   "outputs": [],
   "source": [
    "options(repr.plot.width=30, repr.plot.height=15)\n",
    "g = lapply(cells_per_sample_cluster, function(x){\n",
    "    ggplot(x, aes(Sample, Cluster_Cell_Type, fill= amount_cells_cat))  + geom_tile()   + ggtitle(label = \"Amount cells per cluster and sample\")+ #theme(axis.text.x=element_text(size=14, angle = 90), axis.text.y=element_text(size=14, angle = 0),axis.title=element_text(size=14,face=\"bold\")) + \n",
    "    scale_fill_manual(name = \"Amount cells\", breaks=c( '0-3','3-10', \n",
    "                                 '10-20', '20-50', '> 50'), values =c(\"red4\",\"rosybrown1\",  \"seashell\", \"palegreen\", \"palegreen4\")) + plot_config + theme(axis.text.x = element_blank())\n",
    "    })\n",
    "# Visualize for first dataset\n",
    "g[[1]]"
   ]
  },
  {
   "cell_type": "code",
   "execution_count": null,
   "id": "b4079cc6-3f2c-44fb-9dbf-428a06205aa8",
   "metadata": {},
   "outputs": [],
   "source": [
    "names(g)"
   ]
  },
  {
   "cell_type": "code",
   "execution_count": null,
   "id": "bb67ccaf-3501-4c4c-9f09-37dce8548619",
   "metadata": {},
   "outputs": [],
   "source": [
    "## Save figures for later inspection \n"
   ]
  },
  {
   "cell_type": "code",
   "execution_count": null,
   "id": "19264359-c039-492e-bd57-8db1076b2a01",
   "metadata": {},
   "outputs": [],
   "source": [
    "figure_name = \"FIG01_Amount_of_Cells_per_Sample_and_Cell_Type\""
   ]
  },
  {
   "cell_type": "code",
   "execution_count": null,
   "id": "fdc46b01-9c8b-4c21-8df6-6f2e72949e65",
   "metadata": {},
   "outputs": [],
   "source": [
    "# Sizes of the plot\n",
    "width_par = 8\n",
    "height_par = 5"
   ]
  },
  {
   "cell_type": "code",
   "execution_count": null,
   "id": "e785c843-5e13-4c16-b245-96f74547881e",
   "metadata": {},
   "outputs": [],
   "source": [
    "pdf(paste0('figures/01_figures/', figure_name, i,  '.pdf'), width =width_par, height =height_par)\n",
    "for(i in names(g)){\n",
    "    print(g[[i]] )\n",
    "    dev.off()\n",
    "    }"
   ]
  },
  {
   "cell_type": "code",
   "execution_count": null,
   "id": "0e8c7923-9a7d-43aa-806a-ec119e8fcdf7",
   "metadata": {},
   "outputs": [],
   "source": []
  },
  {
   "cell_type": "markdown",
   "id": "80a40ea6-7a0e-4de0-8bee-231b6fd7b627",
   "metadata": {
    "tags": []
   },
   "source": [
    "## Calculate gene expression percentages per cluster for thresholding"
   ]
  },
  {
   "cell_type": "code",
   "execution_count": null,
   "id": "6515d89e-856e-45ec-b460-84e136727dfe",
   "metadata": {},
   "outputs": [],
   "source": [
    "gene_list = list()"
   ]
  },
  {
   "cell_type": "code",
   "execution_count": null,
   "id": "b4576d9f-f2f7-46d2-9a11-06a07cdab4e8",
   "metadata": {},
   "outputs": [],
   "source": [
    "gene_cell_expr = list()"
   ]
  },
  {
   "cell_type": "code",
   "execution_count": null,
   "id": "649b9952-8886-4933-8cca-2e606c3784a0",
   "metadata": {},
   "outputs": [],
   "source": [
    "gene_cell_expr_data = data.frame()"
   ]
  },
  {
   "cell_type": "code",
   "execution_count": null,
   "id": "862f2232-4fa9-49cb-a60d-56c359073042",
   "metadata": {},
   "outputs": [],
   "source": [
    "clusters = lapply(sc_data_list, function(x){\n",
    "    unique(x$cluster_id)\n",
    "    })"
   ]
  },
  {
   "cell_type": "code",
   "execution_count": null,
   "id": "aba02558-f4c7-4f62-8f1f-c5baea05dbcf",
   "metadata": {},
   "outputs": [],
   "source": [
    "clusters[[1]]"
   ]
  },
  {
   "cell_type": "code",
   "execution_count": null,
   "id": "8d546ff3-0d8c-4fc5-8b66-0bb2d529e1b6",
   "metadata": {},
   "outputs": [],
   "source": [
    "gene_expr_data = lapply(sc_data_list, function(x){\n",
    "    clusters = unique(x$cluster_id)\n",
    "    for(i in clusters){\n",
    "        # subset data on cluster\n",
    "        rna_sce_subset= x[,x$cluster_id== i] # cluster\n",
    "        amount_cells = dim(rna_sce_subset)[2]\n",
    "\n",
    "        # Calculate percentage of cells expressing gene\n",
    "        amount_cells_expressing_gene = rowSums(assay(rna_sce_subset) > 0 )\n",
    "        perc_cells_expressing_gene = (amount_cells_expressing_gene/ amount_cells) * 100\n",
    "\n",
    "        gene_cell_expr[[i]] = data.frame(perc_cells_expressing_gene = perc_cells_expressing_gene, total_amount_cells_expressing_gene = amount_cells_expressing_gene)\n",
    "        \n",
    "        # Format as data frame\n",
    "        data = gene_cell_expr[[i]]\n",
    "        data$gene = rownames(gene_cell_expr[[i]])\n",
    "        data$cluster = i\n",
    "        gene_cell_expr_data = rbind( gene_cell_expr_data, data)\n",
    "        \n",
    "        \n",
    "\n",
    "        }\n",
    "    return(gene_cell_expr_data)\n",
    "\n",
    "})\n",
    "\n",
    "    \n",
    "    "
   ]
  },
  {
   "cell_type": "code",
   "execution_count": null,
   "id": "17ef0ddd-1b78-4e30-acdc-6b9eae4f6d35",
   "metadata": {},
   "outputs": [],
   "source": [
    "head(gene_expr_data[[1]],2)"
   ]
  },
  {
   "cell_type": "code",
   "execution_count": null,
   "id": "9c5613b8-79d8-48e0-a62f-4aaa76b47e23",
   "metadata": {},
   "outputs": [],
   "source": [
    "unique(gene_expr_data[[1]]$cluster)"
   ]
  },
  {
   "cell_type": "code",
   "execution_count": null,
   "id": "c72841c1-2025-4c80-8edf-75521c54bb74",
   "metadata": {},
   "outputs": [],
   "source": [
    "### Save results for later filtering\n",
    "for(i in names(gene_expr_data)){\n",
    "    write.csv(gene_expr_data[[i]], paste0(result_path, '/01_results/01_', i, '_Gene_Expr_per_Cell_Type', '.csv'))\n",
    "    }\n",
    "    "
   ]
  },
  {
   "cell_type": "markdown",
   "id": "7cd53380-6f67-4b2a-803b-3d84c6dd5551",
   "metadata": {
    "tags": []
   },
   "source": [
    "## Aggregate to pseudobulk"
   ]
  },
  {
   "cell_type": "code",
   "execution_count": null,
   "id": "853e1d9a-3845-46f0-958a-4089d74b876b",
   "metadata": {},
   "outputs": [],
   "source": [
    "### Add cluster and sample-id to use for aggregation"
   ]
  },
  {
   "cell_type": "code",
   "execution_count": null,
   "id": "49237c20-76e1-4849-88e6-77bc323ad1be",
   "metadata": {},
   "outputs": [],
   "source": [
    "sc_data_list = lapply(sc_data_list, function(x){   \n",
    "\n",
    "    #### Add cluster_id, sample_id and group_id columns\n",
    "    x = prepSCE(x, \n",
    "        kid = 'cluster_id', # subpopulation assignments\n",
    "        gid = 'group_id',  # group IDs (ctrl/stim)   # sample_id; using dummy sample id which corresponds to cluster columns\n",
    "        sid = 'sample_id',   # sample IDs (ctrl/stim.1234)\n",
    "        drop = FALSE)  # drop all other colData columns\n",
    "    })\n"
   ]
  },
  {
   "cell_type": "code",
   "execution_count": null,
   "id": "3fa37159-2094-46fc-ac6f-accb27946589",
   "metadata": {},
   "outputs": [],
   "source": [
    "sc_data_list[[1]]"
   ]
  },
  {
   "cell_type": "code",
   "execution_count": null,
   "id": "064ce8c9-3ece-40eb-a699-d531215e6f1a",
   "metadata": {},
   "outputs": [],
   "source": [
    "pb = lapply(sc_data_list, function(x){\n",
    "        aggregateData(x,\n",
    "        assay = \"counts\", fun = \"mean\",\n",
    "        by = c(\"cluster_id\", \"sample_id\"))\n",
    "    })\n",
    "# one sheet per subpopulation will be generated"
   ]
  },
  {
   "cell_type": "code",
   "execution_count": null,
   "id": "cb0b5b3d-c516-4be2-a4f9-9dd1c25c4347",
   "metadata": {},
   "outputs": [],
   "source": [
    "pb[[1]]"
   ]
  },
  {
   "cell_type": "code",
   "execution_count": null,
   "id": "0487cfa3-9205-4dc1-8e0f-c267db6d677f",
   "metadata": {},
   "outputs": [],
   "source": [
    "### Save aggregated data"
   ]
  },
  {
   "cell_type": "code",
   "execution_count": null,
   "id": "030e3218-8000-4cc0-85ff-75e05428cf52",
   "metadata": {},
   "outputs": [],
   "source": [
    "for(i in names(pb)){\n",
    "    save(  pb , file = paste0(result_path, '/01_results/01_', i, 'Pseudobulk_.RDS'))\n",
    "    }"
   ]
  },
  {
   "cell_type": "markdown",
   "id": "d54692a8-c4e4-4ad9-ba2e-a4ed0fda3073",
   "metadata": {},
   "source": [
    "## Convert to Table Format (CSV)"
   ]
  },
  {
   "cell_type": "code",
   "execution_count": null,
   "id": "59766da0-9ccc-42d9-b162-bfe05ba5ac98",
   "metadata": {},
   "outputs": [],
   "source": [
    "sc_data = data.frame()"
   ]
  },
  {
   "cell_type": "code",
   "execution_count": null,
   "id": "fcd29c2c-f6ea-4298-b8fc-f568d093303e",
   "metadata": {},
   "outputs": [],
   "source": [
    "for(j in 1:length(pb)){\n",
    "    dataset = names(pb)[j]\n",
    "    \n",
    "    for(i in names(assays(pb[[j]]))){\n",
    "        data = assay(pb[[j]], i)\n",
    "        \n",
    "        data = as.data.frame(t(data))\n",
    "        data$type = i\n",
    "        \n",
    "        data$dataset = dataset\n",
    "        data$sample_id = rownames(data)\n",
    "        data = melt(data, id.vars = c('sample_id', 'type', 'dataset'))\n",
    "        \n",
    "        sc_data = rbind(sc_data,data)\n",
    "       \n",
    "        \n",
    "        }\n",
    "    }\n",
    "    "
   ]
  },
  {
   "cell_type": "code",
   "execution_count": null,
   "id": "91f58e29-aaef-461e-8147-b0440a08c442",
   "metadata": {},
   "outputs": [],
   "source": [
    "head(sc_data,2)"
   ]
  },
  {
   "cell_type": "code",
   "execution_count": null,
   "id": "ce44e3b0-5df7-4c11-8cd5-1b52e234b1ae",
   "metadata": {},
   "outputs": [],
   "source": [
    "write.csv( sc_data, paste0(result_path, '/01_results/01_Prepared_sc_DataPseudobulk_Table', '.csv'))"
   ]
  },
  {
   "cell_type": "code",
   "execution_count": null,
   "id": "ec777be9-99ea-4c8a-9e38-164db20a0445",
   "metadata": {},
   "outputs": [],
   "source": []
  },
  {
   "cell_type": "code",
   "execution_count": null,
   "id": "13664c48-c5aa-4f1c-b223-66295c09d711",
   "metadata": {},
   "outputs": [],
   "source": []
  },
  {
   "cell_type": "code",
   "execution_count": null,
   "id": "c7205ca1-b914-431d-838c-56fbd675e91b",
   "metadata": {},
   "outputs": [],
   "source": []
  }
 ],
 "metadata": {
  "kernelspec": {
   "display_name": "R",
   "language": "R",
   "name": "ir"
  },
  "language_info": {
   "codemirror_mode": "r",
   "file_extension": ".r",
   "mimetype": "text/x-r-source",
   "name": "R",
   "pygments_lexer": "r",
   "version": "4.3.2"
  },
  "toc-autonumbering": true,
  "toc-showcode": false,
  "toc-showmarkdowntxt": false,
  "toc-showtags": false
 },
 "nbformat": 4,
 "nbformat_minor": 5
}
