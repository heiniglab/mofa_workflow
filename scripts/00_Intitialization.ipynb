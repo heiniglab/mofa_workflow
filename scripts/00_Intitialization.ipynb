{
 "cells": [
  {
   "cell_type": "markdown",
   "id": "52cb8a34-5d41-4afa-957f-6eca551d9730",
   "metadata": {
    "tags": []
   },
   "source": [
    "# Path to install libraries to (conda environment)"
   ]
  },
  {
   "cell_type": "code",
   "execution_count": 1,
   "id": "d5ec60d8-3eba-4560-b560-e615174c9eff",
   "metadata": {},
   "outputs": [
    {
     "name": "stderr",
     "output_type": "stream",
     "text": [
      "Warning message in read.table(file = file, header = header, sep = sep, quote = quote, :\n",
      "“incomplete final line found by readTableHeader on '../conda_environment/Environment_Configs.csv'”\n"
     ]
    }
   ],
   "source": [
    "### Load configurations file\n",
    "env_configs = read.csv('../conda_environment/Environment_Configs.csv', sep = ',')"
   ]
  },
  {
   "cell_type": "code",
   "execution_count": 2,
   "id": "1ca161ef-d568-413e-a7f2-042628b14f63",
   "metadata": {},
   "outputs": [
    {
     "data": {
      "text/html": [
       "<table class=\"dataframe\">\n",
       "<caption>A data.frame: 1 × 2</caption>\n",
       "<thead>\n",
       "\t<tr><th></th><th scope=col>parameter</th><th scope=col>value</th></tr>\n",
       "\t<tr><th></th><th scope=col>&lt;chr&gt;</th><th scope=col>&lt;chr&gt;</th></tr>\n",
       "</thead>\n",
       "<tbody>\n",
       "\t<tr><th scope=row>1</th><td>conda_env_path</td><td>/home/icb/corinna.losert/miniconda3/envs/mofa_analysis/</td></tr>\n",
       "</tbody>\n",
       "</table>\n"
      ],
      "text/latex": [
       "A data.frame: 1 × 2\n",
       "\\begin{tabular}{r|ll}\n",
       "  & parameter & value\\\\\n",
       "  & <chr> & <chr>\\\\\n",
       "\\hline\n",
       "\t1 & conda\\_env\\_path & /home/icb/corinna.losert/miniconda3/envs/mofa\\_analysis/\\\\\n",
       "\\end{tabular}\n"
      ],
      "text/markdown": [
       "\n",
       "A data.frame: 1 × 2\n",
       "\n",
       "| <!--/--> | parameter &lt;chr&gt; | value &lt;chr&gt; |\n",
       "|---|---|---|\n",
       "| 1 | conda_env_path | /home/icb/corinna.losert/miniconda3/envs/mofa_analysis/ |\n",
       "\n"
      ],
      "text/plain": [
       "  parameter      value                                                  \n",
       "1 conda_env_path /home/icb/corinna.losert/miniconda3/envs/mofa_analysis/"
      ]
     },
     "metadata": {},
     "output_type": "display_data"
    }
   ],
   "source": [
    "head(env_configs,3)"
   ]
  },
  {
   "cell_type": "code",
   "execution_count": 3,
   "id": "b1a7b031-8d11-4ea9-bd36-b9a097c3b87b",
   "metadata": {
    "tags": []
   },
   "outputs": [],
   "source": [
    "### Defines the path where R packages will be installed by script"
   ]
  },
  {
   "cell_type": "code",
   "execution_count": 4,
   "id": "68a7fbc3-d33f-40a0-be40-8ce6651981e4",
   "metadata": {},
   "outputs": [],
   "source": [
    "path_to_conda_env = env_configs$value[env_configs$parameter == 'conda_env_path']"
   ]
  },
  {
   "cell_type": "code",
   "execution_count": 5,
   "id": "5fcbcb60-1d52-48e2-b415-663c8940b6d0",
   "metadata": {},
   "outputs": [
    {
     "data": {
      "text/html": [
       "'/home/icb/corinna.losert/miniconda3/envs/mofa_analysis/lib/R/library'"
      ],
      "text/latex": [
       "'/home/icb/corinna.losert/miniconda3/envs/mofa\\_analysis/lib/R/library'"
      ],
      "text/markdown": [
       "'/home/icb/corinna.losert/miniconda3/envs/mofa_analysis/lib/R/library'"
      ],
      "text/plain": [
       "[1] \"/home/icb/corinna.losert/miniconda3/envs/mofa_analysis/lib/R/library\""
      ]
     },
     "metadata": {},
     "output_type": "display_data"
    }
   ],
   "source": [
    "paste0(path_to_conda_env, 'lib/R/library')"
   ]
  },
  {
   "cell_type": "code",
   "execution_count": 6,
   "id": "00f0a629-5002-4641-be27-4f238d7d6fff",
   "metadata": {},
   "outputs": [
    {
     "data": {
      "text/html": [
       "<dl>\n",
       "\t<dt>$platform</dt>\n",
       "\t\t<dd>'x86_64-conda-linux-gnu'</dd>\n",
       "\t<dt>$arch</dt>\n",
       "\t\t<dd>'x86_64'</dd>\n",
       "\t<dt>$os</dt>\n",
       "\t\t<dd>'linux-gnu'</dd>\n",
       "\t<dt>$system</dt>\n",
       "\t\t<dd>'x86_64, linux-gnu'</dd>\n",
       "\t<dt>$status</dt>\n",
       "\t\t<dd>''</dd>\n",
       "\t<dt>$major</dt>\n",
       "\t\t<dd>'4'</dd>\n",
       "\t<dt>$minor</dt>\n",
       "\t\t<dd>'3.2'</dd>\n",
       "\t<dt>$year</dt>\n",
       "\t\t<dd>'2023'</dd>\n",
       "\t<dt>$month</dt>\n",
       "\t\t<dd>'10'</dd>\n",
       "\t<dt>$day</dt>\n",
       "\t\t<dd>'31'</dd>\n",
       "\t<dt>$`svn rev`</dt>\n",
       "\t\t<dd>'85441'</dd>\n",
       "\t<dt>$language</dt>\n",
       "\t\t<dd>'R'</dd>\n",
       "\t<dt>$version.string</dt>\n",
       "\t\t<dd>'R version 4.3.2 (2023-10-31)'</dd>\n",
       "\t<dt>$nickname</dt>\n",
       "\t\t<dd>'Eye Holes'</dd>\n",
       "</dl>\n"
      ],
      "text/latex": [
       "\\begin{description}\n",
       "\\item[\\$platform] 'x86\\_64-conda-linux-gnu'\n",
       "\\item[\\$arch] 'x86\\_64'\n",
       "\\item[\\$os] 'linux-gnu'\n",
       "\\item[\\$system] 'x86\\_64, linux-gnu'\n",
       "\\item[\\$status] ''\n",
       "\\item[\\$major] '4'\n",
       "\\item[\\$minor] '3.2'\n",
       "\\item[\\$year] '2023'\n",
       "\\item[\\$month] '10'\n",
       "\\item[\\$day] '31'\n",
       "\\item[\\$`svn rev`] '85441'\n",
       "\\item[\\$language] 'R'\n",
       "\\item[\\$version.string] 'R version 4.3.2 (2023-10-31)'\n",
       "\\item[\\$nickname] 'Eye Holes'\n",
       "\\end{description}\n"
      ],
      "text/markdown": [
       "$platform\n",
       ":   'x86_64-conda-linux-gnu'\n",
       "$arch\n",
       ":   'x86_64'\n",
       "$os\n",
       ":   'linux-gnu'\n",
       "$system\n",
       ":   'x86_64, linux-gnu'\n",
       "$status\n",
       ":   ''\n",
       "$major\n",
       ":   '4'\n",
       "$minor\n",
       ":   '3.2'\n",
       "$year\n",
       ":   '2023'\n",
       "$month\n",
       ":   '10'\n",
       "$day\n",
       ":   '31'\n",
       "$`svn rev`\n",
       ":   '85441'\n",
       "$language\n",
       ":   'R'\n",
       "$version.string\n",
       ":   'R version 4.3.2 (2023-10-31)'\n",
       "$nickname\n",
       ":   'Eye Holes'\n",
       "\n",
       "\n"
      ],
      "text/plain": [
       "$platform\n",
       "[1] \"x86_64-conda-linux-gnu\"\n",
       "\n",
       "$arch\n",
       "[1] \"x86_64\"\n",
       "\n",
       "$os\n",
       "[1] \"linux-gnu\"\n",
       "\n",
       "$system\n",
       "[1] \"x86_64, linux-gnu\"\n",
       "\n",
       "$status\n",
       "[1] \"\"\n",
       "\n",
       "$major\n",
       "[1] \"4\"\n",
       "\n",
       "$minor\n",
       "[1] \"3.2\"\n",
       "\n",
       "$year\n",
       "[1] \"2023\"\n",
       "\n",
       "$month\n",
       "[1] \"10\"\n",
       "\n",
       "$day\n",
       "[1] \"31\"\n",
       "\n",
       "$`svn rev`\n",
       "[1] \"85441\"\n",
       "\n",
       "$language\n",
       "[1] \"R\"\n",
       "\n",
       "$version.string\n",
       "[1] \"R version 4.3.2 (2023-10-31)\"\n",
       "\n",
       "$nickname\n",
       "[1] \"Eye Holes\"\n"
      ]
     },
     "metadata": {},
     "output_type": "display_data"
    }
   ],
   "source": [
    "R.Version()"
   ]
  },
  {
   "cell_type": "markdown",
   "id": "38e3f518-007f-4141-9a07-153437398267",
   "metadata": {},
   "source": [
    "# Install additional necessary R packages"
   ]
  },
  {
   "cell_type": "code",
   "execution_count": 7,
   "id": "b0e17372-a61a-4f07-ab90-d33d85aaa3e5",
   "metadata": {},
   "outputs": [],
   "source": [
    "### Bioconductor"
   ]
  },
  {
   "cell_type": "code",
   "execution_count": 8,
   "id": "97775634-77e7-4491-965a-df2e20652cf9",
   "metadata": {},
   "outputs": [
    {
     "name": "stderr",
     "output_type": "stream",
     "text": [
      "Updating HTML index of packages in '.Library'\n",
      "\n",
      "Making 'packages.html' ...\n",
      " done\n",
      "\n"
     ]
    }
   ],
   "source": [
    "install.packages('devtools', lib = paste0(path_to_conda_env, '/lib/R/library'))"
   ]
  },
  {
   "cell_type": "code",
   "execution_count": 9,
   "id": "c01e6ac2-6fd4-45c6-93f2-626945732628",
   "metadata": {},
   "outputs": [],
   "source": [
    "remotes::install_github(\"satijalab/seurat-data\", \"seurat5\", quiet = TRUE, lib = paste0(path_to_conda_env, '/lib/R/library'))"
   ]
  },
  {
   "cell_type": "code",
   "execution_count": 10,
   "id": "77c88ec7-5771-4279-92e6-6aeab61f15b8",
   "metadata": {},
   "outputs": [
    {
     "name": "stderr",
     "output_type": "stream",
     "text": [
      "Skipping install of 'SeuratDisk' from a github remote, the SHA1 (877d4e18) has not changed since last install.\n",
      "  Use `force = TRUE` to force installation\n",
      "\n"
     ]
    }
   ],
   "source": [
    "remotes::install_github(\"mojaveazure/seurat-disk\", lib = paste0(path_to_conda_env, '/lib/R/library'))"
   ]
  },
  {
   "cell_type": "code",
   "execution_count": 11,
   "id": "58eac13d-da40-40fa-9e9e-56efe27ea5d1",
   "metadata": {},
   "outputs": [
    {
     "name": "stderr",
     "output_type": "stream",
     "text": [
      "Updating HTML index of packages in '.Library'\n",
      "\n",
      "Making 'packages.html' ...\n",
      " done\n",
      "\n"
     ]
    }
   ],
   "source": [
    "install.packages(\"BiocManager\", lib = paste0(path_to_conda_env, '/lib/R/library'))"
   ]
  },
  {
   "cell_type": "code",
   "execution_count": 12,
   "id": "edb52fd2-ddcf-41f8-ad21-cb82891bf6b6",
   "metadata": {
    "tags": []
   },
   "outputs": [
    {
     "name": "stderr",
     "output_type": "stream",
     "text": [
      "'getOption(\"repos\")' replaces Bioconductor standard repositories, see\n",
      "'help(\"repositories\", package = \"BiocManager\")' for details.\n",
      "Replacement repositories:\n",
      "    CRAN: https://cran.r-project.org\n",
      "\n",
      "Bioconductor version 3.18 (BiocManager 1.30.22), R 4.3.2 (2023-10-31)\n",
      "\n",
      "Warning message:\n",
      "“package(s) not installed when version(s) same as or greater than current; use\n",
      "  `force = TRUE` to re-install: 'MOFA2'”\n"
     ]
    }
   ],
   "source": [
    "BiocManager::install('MOFA2', lib = paste0(path_to_conda_env, '/lib/R/library'))"
   ]
  },
  {
   "cell_type": "code",
   "execution_count": 13,
   "id": "2300b182-09ac-41d0-a3be-334e12d97fc5",
   "metadata": {
    "tags": []
   },
   "outputs": [
    {
     "name": "stderr",
     "output_type": "stream",
     "text": [
      "'getOption(\"repos\")' replaces Bioconductor standard repositories, see\n",
      "'help(\"repositories\", package = \"BiocManager\")' for details.\n",
      "Replacement repositories:\n",
      "    CRAN: https://cran.r-project.org\n",
      "\n",
      "Bioconductor version 3.18 (BiocManager 1.30.22), R 4.3.2 (2023-10-31)\n",
      "\n",
      "Warning message:\n",
      "“package(s) not installed when version(s) same as or greater than current; use\n",
      "  `force = TRUE` to re-install: 'MOFAdata'”\n"
     ]
    }
   ],
   "source": [
    "BiocManager::install('MOFAdata', lib = paste0(path_to_conda_env, '/lib/R/library'))"
   ]
  },
  {
   "cell_type": "code",
   "execution_count": 14,
   "id": "eaa54a2a-b8fa-4282-8b76-8df5469fadb7",
   "metadata": {},
   "outputs": [],
   "source": [
    "#BiocManager::install(\"DESeq2\", lib = paste0(path_to_conda_env, '/lib/R/library'))"
   ]
  },
  {
   "cell_type": "code",
   "execution_count": 16,
   "id": "bc66ad49-4488-42ee-9e98-6bf9284cb2c0",
   "metadata": {},
   "outputs": [
    {
     "name": "stderr",
     "output_type": "stream",
     "text": [
      "'getOption(\"repos\")' replaces Bioconductor standard repositories, see\n",
      "'help(\"repositories\", package = \"BiocManager\")' for details.\n",
      "Replacement repositories:\n",
      "    CRAN: https://cran.r-project.org\n",
      "\n",
      "Bioconductor version 3.18 (BiocManager 1.30.22), R 4.3.2 (2023-10-31)\n",
      "\n",
      "Installing package(s) 'muscat'\n",
      "\n",
      "also installing the dependencies ‘BiocSingular’, ‘scater’, ‘scuttle’\n",
      "\n",
      "\n",
      "Updating HTML index of packages in '.Library'\n",
      "\n",
      "Making 'packages.html' ...\n",
      " done\n",
      "\n"
     ]
    }
   ],
   "source": [
    "BiocManager::install(\"muscat\", lib = paste0(path_to_conda_env, '/lib/R/library'))"
   ]
  },
  {
   "cell_type": "code",
   "execution_count": null,
   "id": "27e79286-7adb-41a9-ae08-f7712c8e7ab5",
   "metadata": {},
   "outputs": [],
   "source": []
  },
  {
   "cell_type": "code",
   "execution_count": null,
   "id": "8d8d33e1-1447-4e12-8395-2bf6502137b3",
   "metadata": {},
   "outputs": [],
   "source": []
  }
 ],
 "metadata": {
  "kernelspec": {
   "display_name": "R",
   "language": "R",
   "name": "ir"
  },
  "language_info": {
   "codemirror_mode": "r",
   "file_extension": ".r",
   "mimetype": "text/x-r-source",
   "name": "R",
   "pygments_lexer": "r",
   "version": "4.3.2"
  }
 },
 "nbformat": 4,
 "nbformat_minor": 5
}
