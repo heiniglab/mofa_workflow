{
 "cells": [
  {
   "cell_type": "code",
   "execution_count": 1,
   "id": "d182c426-4d95-4dee-a099-cd923e9437d7",
   "metadata": {
    "tags": []
   },
   "outputs": [],
   "source": [
    "### Script to compare the results from different MOFA runs"
   ]
  },
  {
   "cell_type": "markdown",
   "id": "213d69de-4705-4a6e-9387-b1a3413172eb",
   "metadata": {
    "tags": []
   },
   "source": [
    "#############################################\n",
    "# Prerequisites - Load Libraries"
   ]
  },
  {
   "cell_type": "code",
   "execution_count": 2,
   "id": "a28f2fc0-0856-4fea-a23f-f907a2825d38",
   "metadata": {},
   "outputs": [],
   "source": [
    "source('MS1_Functions.r')"
   ]
  },
  {
   "cell_type": "code",
   "execution_count": 3,
   "id": "a0dab303-93b4-46e2-a3a8-8b664a043fb8",
   "metadata": {
    "tags": []
   },
   "outputs": [
    {
     "data": {
      "text/html": [
       "\n",
       "    <style>\n",
       "    .popup {\n",
       "      position: fixed;\n",
       "      top: 10px;\n",
       "      right: 20px;\n",
       "      background-color: #B5DC78;\n",
       "      border: 1px solid #ccc;\n",
       "      padding: 20px;\n",
       "      border-radius: 10px;\n",
       "      box-shadow: 0px 0px 10px rgba(0, 0, 0, 0.1);\n",
       "      display: none; /* Initially hidden */\n",
       "      z-index: 9999; /* Ensure it's on top of other content */\n",
       "      width: 300px; /* Set width of the popup */\n",
       "    }\n",
       "\n",
       "    .popup.show {\n",
       "      display: block; /* Show when .show class is added */\n",
       "    }\n",
       "    </style>\n",
       "\n",
       "    <script>\n",
       "    // Function to show the popup\n",
       "    function showPopup(message) {\n",
       "      var popup = document.getElementById(\"global-popup\");\n",
       "      if (!popup) {\n",
       "        // Inject the popup into the top-level body element if it doesn't exist\n",
       "        popup = document.createElement(\"div\");\n",
       "        popup.id = \"global-popup\";\n",
       "        popup.className = \"popup\";\n",
       "        document.body.appendChild(popup);\n",
       "      }\n",
       "      popup.innerHTML = message;\n",
       "      popup.classList.add(\"show\");\n",
       "\n",
       "      // Automatically hide the popup after 10 seconds (10000 milliseconds)\n",
       "      setTimeout(function(){\n",
       "        popup.classList.remove(\"show\");\n",
       "      }, 600000); // Adjust the time interval as needed\n",
       "    }\n",
       "\n",
       "    // Call the function to show the popup immediately with the provided message\n",
       "    showPopup(\"07_Compare_Models: Execution Started\");\n",
       "    </script>\n",
       "    "
      ]
     },
     "metadata": {},
     "output_type": "display_data"
    }
   ],
   "source": [
    "### Inform about execution start\n",
    "popup_function_pos('07_Compare_Models: Execution Started')"
   ]
  },
  {
   "cell_type": "code",
   "execution_count": 4,
   "id": "e0e058c4-79b7-4950-b23f-807281963e53",
   "metadata": {
    "collapsed": true,
    "jupyter": {
     "outputs_hidden": true
    },
    "tags": []
   },
   "outputs": [
    {
     "name": "stdout",
     "output_type": "stream",
     "text": [
      "[1] \"/opt/conda/envs/mofa_analysis/lib/R/library\"\n"
     ]
    },
    {
     "name": "stderr",
     "output_type": "stream",
     "text": [
      "\n",
      "Attaching package: 'SeuratObject'\n",
      "\n",
      "\n",
      "The following objects are masked from 'package:base':\n",
      "\n",
      "    intersect, t\n",
      "\n",
      "\n",
      "\n",
      "Attaching package: 'dplyr'\n",
      "\n",
      "\n",
      "The following objects are masked from 'package:data.table':\n",
      "\n",
      "    between, first, last\n",
      "\n",
      "\n",
      "The following objects are masked from 'package:stats':\n",
      "\n",
      "    filter, lag\n",
      "\n",
      "\n",
      "The following objects are masked from 'package:base':\n",
      "\n",
      "    intersect, setdiff, setequal, union\n",
      "\n",
      "\n",
      "-- \u001b[1mAttaching core tidyverse packages\u001b[22m -------------------------------------------- tidyverse 2.0.0 --\n",
      "\u001b[32mv\u001b[39m \u001b[34mforcats  \u001b[39m 1.0.0     \u001b[32mv\u001b[39m \u001b[34mreadr    \u001b[39m 2.1.4\n",
      "\u001b[32mv\u001b[39m \u001b[34mggplot2  \u001b[39m 3.5.1     \u001b[32mv\u001b[39m \u001b[34mtibble   \u001b[39m 3.2.1\n",
      "\u001b[32mv\u001b[39m \u001b[34mlubridate\u001b[39m 1.9.3     \u001b[32mv\u001b[39m \u001b[34mtidyr    \u001b[39m 1.3.1\n",
      "\u001b[32mv\u001b[39m \u001b[34mpurrr    \u001b[39m 1.0.2     \n",
      "-- \u001b[1mConflicts\u001b[22m -------------------------------------------------------------- tidyverse_conflicts() --\n",
      "\u001b[31mx\u001b[39m \u001b[34mdplyr\u001b[39m::\u001b[32mbetween()\u001b[39m     masks \u001b[34mdata.table\u001b[39m::between()\n",
      "\u001b[31mx\u001b[39m \u001b[34mdplyr\u001b[39m::\u001b[32mfilter()\u001b[39m      masks \u001b[34mstats\u001b[39m::filter()\n",
      "\u001b[31mx\u001b[39m \u001b[34mdplyr\u001b[39m::\u001b[32mfirst()\u001b[39m       masks \u001b[34mdata.table\u001b[39m::first()\n",
      "\u001b[31mx\u001b[39m \u001b[34mlubridate\u001b[39m::\u001b[32mhour()\u001b[39m    masks \u001b[34mdata.table\u001b[39m::hour()\n",
      "\u001b[31mx\u001b[39m \u001b[34mlubridate\u001b[39m::\u001b[32misoweek()\u001b[39m masks \u001b[34mdata.table\u001b[39m::isoweek()\n",
      "\u001b[31mx\u001b[39m \u001b[34mdplyr\u001b[39m::\u001b[32mlag()\u001b[39m         masks \u001b[34mstats\u001b[39m::lag()\n",
      "\u001b[31mx\u001b[39m \u001b[34mdplyr\u001b[39m::\u001b[32mlast()\u001b[39m        masks \u001b[34mdata.table\u001b[39m::last()\n",
      "\u001b[31mx\u001b[39m \u001b[34mlubridate\u001b[39m::\u001b[32mmday()\u001b[39m    masks \u001b[34mdata.table\u001b[39m::mday()\n",
      "\u001b[31mx\u001b[39m \u001b[34mlubridate\u001b[39m::\u001b[32mminute()\u001b[39m  masks \u001b[34mdata.table\u001b[39m::minute()\n",
      "\u001b[31mx\u001b[39m \u001b[34mlubridate\u001b[39m::\u001b[32mmonth()\u001b[39m   masks \u001b[34mdata.table\u001b[39m::month()\n",
      "\u001b[31mx\u001b[39m \u001b[34mlubridate\u001b[39m::\u001b[32mquarter()\u001b[39m masks \u001b[34mdata.table\u001b[39m::quarter()\n",
      "\u001b[31mx\u001b[39m \u001b[34mlubridate\u001b[39m::\u001b[32msecond()\u001b[39m  masks \u001b[34mdata.table\u001b[39m::second()\n",
      "\u001b[31mx\u001b[39m \u001b[34mpurrr\u001b[39m::\u001b[32mtranspose()\u001b[39m   masks \u001b[34mdata.table\u001b[39m::transpose()\n",
      "\u001b[31mx\u001b[39m \u001b[34mlubridate\u001b[39m::\u001b[32mwday()\u001b[39m    masks \u001b[34mdata.table\u001b[39m::wday()\n",
      "\u001b[31mx\u001b[39m \u001b[34mlubridate\u001b[39m::\u001b[32mweek()\u001b[39m    masks \u001b[34mdata.table\u001b[39m::week()\n",
      "\u001b[31mx\u001b[39m \u001b[34mlubridate\u001b[39m::\u001b[32myday()\u001b[39m    masks \u001b[34mdata.table\u001b[39m::yday()\n",
      "\u001b[31mx\u001b[39m \u001b[34mlubridate\u001b[39m::\u001b[32myear()\u001b[39m    masks \u001b[34mdata.table\u001b[39m::year()\n",
      "\u001b[36mi\u001b[39m Use the conflicted package (\u001b[3m\u001b[34m<http://conflicted.r-lib.org/>\u001b[39m\u001b[23m) to force all conflicts to become errors\n",
      "\n",
      "Attaching package: 'reshape2'\n",
      "\n",
      "\n",
      "The following object is masked from 'package:tidyr':\n",
      "\n",
      "    smiths\n",
      "\n",
      "\n",
      "The following objects are masked from 'package:data.table':\n",
      "\n",
      "    dcast, melt\n",
      "\n",
      "\n",
      "Loading required package: lattice\n",
      "\n",
      "\n",
      "Attaching package: 'caret'\n",
      "\n",
      "\n",
      "The following object is masked from 'package:purrr':\n",
      "\n",
      "    lift\n",
      "\n",
      "\n",
      "\n",
      "Attaching package: 'gridExtra'\n",
      "\n",
      "\n",
      "The following object is masked from 'package:dplyr':\n",
      "\n",
      "    combine\n",
      "\n",
      "\n",
      "\n",
      "Attaching package: 'scales'\n",
      "\n",
      "\n",
      "The following object is masked from 'package:purrr':\n",
      "\n",
      "    discard\n",
      "\n",
      "\n",
      "The following object is masked from 'package:readr':\n",
      "\n",
      "    col_factor\n",
      "\n",
      "\n",
      "\n",
      "Attaching package: 'ggraph'\n",
      "\n",
      "\n",
      "The following object is masked from 'package:sp':\n",
      "\n",
      "    geometry\n",
      "\n",
      "\n",
      "corrplot 0.92 loaded\n",
      "\n",
      "\n",
      "Attaching package: 'MOFA2'\n",
      "\n",
      "\n",
      "The following object is masked from 'package:stats':\n",
      "\n",
      "    predict\n",
      "\n",
      "\n",
      "Loading required package: S4Vectors\n",
      "\n",
      "Loading required package: stats4\n",
      "\n",
      "Loading required package: BiocGenerics\n",
      "\n",
      "\n",
      "Attaching package: 'BiocGenerics'\n",
      "\n",
      "\n",
      "The following object is masked from 'package:gridExtra':\n",
      "\n",
      "    combine\n",
      "\n",
      "\n",
      "The following objects are masked from 'package:lubridate':\n",
      "\n",
      "    intersect, setdiff, union\n",
      "\n",
      "\n",
      "The following objects are masked from 'package:dplyr':\n",
      "\n",
      "    combine, intersect, setdiff, union\n",
      "\n",
      "\n",
      "The following object is masked from 'package:SeuratObject':\n",
      "\n",
      "    intersect\n",
      "\n",
      "\n",
      "The following objects are masked from 'package:stats':\n",
      "\n",
      "    IQR, mad, sd, var, xtabs\n",
      "\n",
      "\n",
      "The following objects are masked from 'package:base':\n",
      "\n",
      "    Filter, Find, Map, Position, Reduce, anyDuplicated, aperm, append,\n",
      "    as.data.frame, basename, cbind, colnames, dirname, do.call,\n",
      "    duplicated, eval, evalq, get, grep, grepl, intersect, is.unsorted,\n",
      "    lapply, mapply, match, mget, order, paste, pmax, pmax.int, pmin,\n",
      "    pmin.int, rank, rbind, rownames, sapply, setdiff, sort, table,\n",
      "    tapply, union, unique, unsplit, which.max, which.min\n",
      "\n",
      "\n",
      "\n",
      "Attaching package: 'S4Vectors'\n",
      "\n",
      "\n",
      "The following objects are masked from 'package:lubridate':\n",
      "\n",
      "    second, second<-\n",
      "\n",
      "\n",
      "The following object is masked from 'package:tidyr':\n",
      "\n",
      "    expand\n",
      "\n",
      "\n",
      "The following objects are masked from 'package:dplyr':\n",
      "\n",
      "    first, rename\n",
      "\n",
      "\n",
      "The following objects are masked from 'package:data.table':\n",
      "\n",
      "    first, second\n",
      "\n",
      "\n",
      "The following object is masked from 'package:utils':\n",
      "\n",
      "    findMatches\n",
      "\n",
      "\n",
      "The following objects are masked from 'package:base':\n",
      "\n",
      "    I, expand.grid, unname\n",
      "\n",
      "\n",
      "Loading required package: IRanges\n",
      "\n",
      "\n",
      "Attaching package: 'IRanges'\n",
      "\n",
      "\n",
      "The following object is masked from 'package:lubridate':\n",
      "\n",
      "    %within%\n",
      "\n",
      "\n",
      "The following object is masked from 'package:purrr':\n",
      "\n",
      "    reduce\n",
      "\n",
      "\n",
      "The following objects are masked from 'package:dplyr':\n",
      "\n",
      "    collapse, desc, slice\n",
      "\n",
      "\n",
      "The following object is masked from 'package:data.table':\n",
      "\n",
      "    shift\n",
      "\n",
      "\n",
      "The following object is masked from 'package:sp':\n",
      "\n",
      "    %over%\n",
      "\n",
      "\n",
      "Loading required package: GenomicRanges\n",
      "\n",
      "Loading required package: GenomeInfoDb\n",
      "\n",
      "Loading required package: SummarizedExperiment\n",
      "\n",
      "Loading required package: MatrixGenerics\n",
      "\n",
      "Loading required package: matrixStats\n",
      "\n",
      "\n",
      "Attaching package: 'matrixStats'\n",
      "\n",
      "\n",
      "The following object is masked from 'package:dplyr':\n",
      "\n",
      "    count\n",
      "\n",
      "\n",
      "\n",
      "Attaching package: 'MatrixGenerics'\n",
      "\n",
      "\n",
      "The following objects are masked from 'package:matrixStats':\n",
      "\n",
      "    colAlls, colAnyNAs, colAnys, colAvgsPerRowSet, colCollapse,\n",
      "    colCounts, colCummaxs, colCummins, colCumprods, colCumsums,\n",
      "    colDiffs, colIQRDiffs, colIQRs, colLogSumExps, colMadDiffs,\n",
      "    colMads, colMaxs, colMeans2, colMedians, colMins, colOrderStats,\n",
      "    colProds, colQuantiles, colRanges, colRanks, colSdDiffs, colSds,\n",
      "    colSums2, colTabulates, colVarDiffs, colVars, colWeightedMads,\n",
      "    colWeightedMeans, colWeightedMedians, colWeightedSds,\n",
      "    colWeightedVars, rowAlls, rowAnyNAs, rowAnys, rowAvgsPerColSet,\n",
      "    rowCollapse, rowCounts, rowCummaxs, rowCummins, rowCumprods,\n",
      "    rowCumsums, rowDiffs, rowIQRDiffs, rowIQRs, rowLogSumExps,\n",
      "    rowMadDiffs, rowMads, rowMaxs, rowMeans2, rowMedians, rowMins,\n",
      "    rowOrderStats, rowProds, rowQuantiles, rowRanges, rowRanks,\n",
      "    rowSdDiffs, rowSds, rowSums2, rowTabulates, rowVarDiffs, rowVars,\n",
      "    rowWeightedMads, rowWeightedMeans, rowWeightedMedians,\n",
      "    rowWeightedSds, rowWeightedVars\n",
      "\n",
      "\n",
      "Loading required package: Biobase\n",
      "\n",
      "Welcome to Bioconductor\n",
      "\n",
      "    Vignettes contain introductory material; view with\n",
      "    'browseVignettes()'. To cite Bioconductor, see\n",
      "    'citation(\"Biobase\")', and for packages 'citation(\"pkgname\")'.\n",
      "\n",
      "\n",
      "\n",
      "Attaching package: 'Biobase'\n",
      "\n",
      "\n",
      "The following object is masked from 'package:MatrixGenerics':\n",
      "\n",
      "    rowMedians\n",
      "\n",
      "\n",
      "The following objects are masked from 'package:matrixStats':\n",
      "\n",
      "    anyMissing, rowMedians\n",
      "\n",
      "\n",
      "\n",
      "Attaching package: 'SummarizedExperiment'\n",
      "\n",
      "\n",
      "The following object is masked from 'package:Seurat':\n",
      "\n",
      "    Assays\n",
      "\n",
      "\n",
      "The following object is masked from 'package:SeuratObject':\n",
      "\n",
      "    Assays\n",
      "\n",
      "\n"
     ]
    }
   ],
   "source": [
    "source('MS0_Libraries.r')"
   ]
  },
  {
   "cell_type": "code",
   "execution_count": 5,
   "id": "4593e9c4-5baf-4836-9f76-2b6fb6845100",
   "metadata": {
    "tags": []
   },
   "outputs": [
    {
     "name": "stderr",
     "output_type": "stream",
     "text": [
      "Warning message:\n",
      "\"\u001b[1m\u001b[22mThe `size` argument of `element_line()` is deprecated as of ggplot2 3.4.0.\n",
      "\u001b[36mi\u001b[39m Please use the `linewidth` argument instead.\"\n"
     ]
    }
   ],
   "source": [
    "source('MS2_Plot_Config.r')"
   ]
  },
  {
   "cell_type": "markdown",
   "id": "9d409d14-a693-4722-9648-4b6bacb4b74a",
   "metadata": {
    "tags": []
   },
   "source": [
    "###############################################\n",
    "# Preqrequisites Configurations & Parameters"
   ]
  },
  {
   "cell_type": "code",
   "execution_count": 76,
   "id": "8503e0a5-57f8-4089-8f89-0cdc7b352c66",
   "metadata": {},
   "outputs": [],
   "source": [
    "### Load the parameters that are set via the configuration files"
   ]
  },
  {
   "cell_type": "code",
   "execution_count": 77,
   "id": "8699ca42-bc00-4e67-96c9-39824901768f",
   "metadata": {},
   "outputs": [
    {
     "name": "stderr",
     "output_type": "stream",
     "text": [
      "Warning message in read.table(file = file, header = header, sep = sep, quote = quote, :\n",
      "“incomplete final line found by readTableHeader on 'configurations/Data_Configs.csv'”\n"
     ]
    }
   ],
   "source": [
    "### Load configurations file\n",
    "global_configs = read.csv('configurations/Data_Configs.csv', sep = ',')"
   ]
  },
  {
   "cell_type": "code",
   "execution_count": 78,
   "id": "c2dacd44-a445-4ec9-adbc-edc97e1b8872",
   "metadata": {},
   "outputs": [
    {
     "data": {
      "text/html": [
       "<table class=\"dataframe\">\n",
       "<caption>A data.frame: 2 × 2</caption>\n",
       "<thead>\n",
       "\t<tr><th></th><th scope=col>parameter</th><th scope=col>value</th></tr>\n",
       "\t<tr><th></th><th scope=col>&lt;chr&gt;</th><th scope=col>&lt;chr&gt;</th></tr>\n",
       "</thead>\n",
       "<tbody>\n",
       "\t<tr><th scope=row>1</th><td>data_path  </td><td>/lustre/groups/epigenereg01/workspace/projects/jove/input_data/</td></tr>\n",
       "\t<tr><th scope=row>2</th><td>result_path</td><td>/lustre/groups/epigenereg01/workspace/projects/jove/results/   </td></tr>\n",
       "</tbody>\n",
       "</table>\n"
      ],
      "text/latex": [
       "A data.frame: 2 × 2\n",
       "\\begin{tabular}{r|ll}\n",
       "  & parameter & value\\\\\n",
       "  & <chr> & <chr>\\\\\n",
       "\\hline\n",
       "\t1 & data\\_path   & /lustre/groups/epigenereg01/workspace/projects/jove/input\\_data/\\\\\n",
       "\t2 & result\\_path & /lustre/groups/epigenereg01/workspace/projects/jove/results/   \\\\\n",
       "\\end{tabular}\n"
      ],
      "text/markdown": [
       "\n",
       "A data.frame: 2 × 2\n",
       "\n",
       "| <!--/--> | parameter &lt;chr&gt; | value &lt;chr&gt; |\n",
       "|---|---|---|\n",
       "| 1 | data_path   | /lustre/groups/epigenereg01/workspace/projects/jove/input_data/ |\n",
       "| 2 | result_path | /lustre/groups/epigenereg01/workspace/projects/jove/results/    |\n",
       "\n"
      ],
      "text/plain": [
       "  parameter   value                                                          \n",
       "1 data_path   /lustre/groups/epigenereg01/workspace/projects/jove/input_data/\n",
       "2 result_path /lustre/groups/epigenereg01/workspace/projects/jove/results/   "
      ]
     },
     "metadata": {},
     "output_type": "display_data"
    }
   ],
   "source": [
    "head(global_configs,2)"
   ]
  },
  {
   "cell_type": "code",
   "execution_count": 79,
   "id": "bb1c47cf-a4d4-4ce1-8f6b-52be234fdc64",
   "metadata": {},
   "outputs": [],
   "source": [
    "data_path = global_configs$value[global_configs$parameter == 'data_path']"
   ]
  },
  {
   "cell_type": "code",
   "execution_count": 80,
   "id": "943945b3-d738-4df9-a09d-ae5100fc2309",
   "metadata": {},
   "outputs": [
    {
     "data": {
      "text/html": [
       "'/lustre/groups/epigenereg01/workspace/projects/jove/input_data/'"
      ],
      "text/latex": [
       "'/lustre/groups/epigenereg01/workspace/projects/jove/input\\_data/'"
      ],
      "text/markdown": [
       "'/lustre/groups/epigenereg01/workspace/projects/jove/input_data/'"
      ],
      "text/plain": [
       "[1] \"/lustre/groups/epigenereg01/workspace/projects/jove/input_data/\""
      ]
     },
     "metadata": {},
     "output_type": "display_data"
    }
   ],
   "source": [
    "data_path"
   ]
  },
  {
   "cell_type": "code",
   "execution_count": 81,
   "id": "b8068195-561f-4fe2-8d68-66e842dc06ec",
   "metadata": {},
   "outputs": [],
   "source": [
    "result_path = global_configs$value[global_configs$parameter == 'result_path']"
   ]
  },
  {
   "cell_type": "code",
   "execution_count": 82,
   "id": "4c76d692-44b2-4bb9-b800-fa85ab657600",
   "metadata": {},
   "outputs": [
    {
     "data": {
      "text/html": [
       "'/lustre/groups/epigenereg01/workspace/projects/jove/results/'"
      ],
      "text/latex": [
       "'/lustre/groups/epigenereg01/workspace/projects/jove/results/'"
      ],
      "text/markdown": [
       "'/lustre/groups/epigenereg01/workspace/projects/jove/results/'"
      ],
      "text/plain": [
       "[1] \"/lustre/groups/epigenereg01/workspace/projects/jove/results/\""
      ]
     },
     "metadata": {},
     "output_type": "display_data"
    }
   ],
   "source": [
    "result_path"
   ]
  },
  {
   "cell_type": "code",
   "execution_count": 83,
   "id": "8b638a7e-42af-4917-8f86-7d207b3d7d5d",
   "metadata": {},
   "outputs": [],
   "source": [
    "### Load the configuration file that specifies which MOFA models should be compared"
   ]
  },
  {
   "cell_type": "code",
   "execution_count": 84,
   "id": "4f0ab9c9-d235-4c53-98ad-907786cef7fb",
   "metadata": {},
   "outputs": [
    {
     "name": "stderr",
     "output_type": "stream",
     "text": [
      "Warning message in read.table(file = file, header = header, sep = sep, quote = quote, :\n",
      "“incomplete final line found by readTableHeader on 'configurations/07_Comparison_Configs.csv'”\n"
     ]
    }
   ],
   "source": [
    "comparison_configs = read.csv('configurations/07_Comparison_Configs.csv', sep = ',')"
   ]
  },
  {
   "cell_type": "code",
   "execution_count": 85,
   "id": "282849cf-0578-4e54-acd8-50b651836dcf",
   "metadata": {},
   "outputs": [
    {
     "data": {
      "text/html": [
       "<table class=\"dataframe\">\n",
       "<caption>A data.frame: 2 × 2</caption>\n",
       "<thead>\n",
       "\t<tr><th></th><th scope=col>mofa_result_name</th><th scope=col>compare_factors</th></tr>\n",
       "\t<tr><th></th><th scope=col>&lt;chr&gt;</th><th scope=col>&lt;chr&gt;</th></tr>\n",
       "</thead>\n",
       "<tbody>\n",
       "\t<tr><th scope=row>1</th><td>MI_v1_MOFA   </td><td>Factor1,Factor2,Factor3,Factor4,Factor5</td></tr>\n",
       "\t<tr><th scope=row>2</th><td>MI_v1_MOFA_10</td><td>Factor1,Factor2,Factor3,Factor4,Factor5</td></tr>\n",
       "</tbody>\n",
       "</table>\n"
      ],
      "text/latex": [
       "A data.frame: 2 × 2\n",
       "\\begin{tabular}{r|ll}\n",
       "  & mofa\\_result\\_name & compare\\_factors\\\\\n",
       "  & <chr> & <chr>\\\\\n",
       "\\hline\n",
       "\t1 & MI\\_v1\\_MOFA    & Factor1,Factor2,Factor3,Factor4,Factor5\\\\\n",
       "\t2 & MI\\_v1\\_MOFA\\_10 & Factor1,Factor2,Factor3,Factor4,Factor5\\\\\n",
       "\\end{tabular}\n"
      ],
      "text/markdown": [
       "\n",
       "A data.frame: 2 × 2\n",
       "\n",
       "| <!--/--> | mofa_result_name &lt;chr&gt; | compare_factors &lt;chr&gt; |\n",
       "|---|---|---|\n",
       "| 1 | MI_v1_MOFA    | Factor1,Factor2,Factor3,Factor4,Factor5 |\n",
       "| 2 | MI_v1_MOFA_10 | Factor1,Factor2,Factor3,Factor4,Factor5 |\n",
       "\n"
      ],
      "text/plain": [
       "  mofa_result_name compare_factors                        \n",
       "1 MI_v1_MOFA       Factor1,Factor2,Factor3,Factor4,Factor5\n",
       "2 MI_v1_MOFA_10    Factor1,Factor2,Factor3,Factor4,Factor5"
      ]
     },
     "metadata": {},
     "output_type": "display_data"
    }
   ],
   "source": [
    "head(comparison_configs,2)"
   ]
  },
  {
   "cell_type": "code",
   "execution_count": 86,
   "id": "61abfd13-afe6-4b49-8afe-43bedbc4c54d",
   "metadata": {},
   "outputs": [],
   "source": [
    "### Generate the result data directory if it does not exist yet\n",
    "if(!file.exists(paste0(result_path, '07_results'))){\n",
    "    dir.create(file.path(paste0(result_path, '07_results')))\n",
    "    }"
   ]
  },
  {
   "cell_type": "markdown",
   "id": "43e2937f-4e6d-4e90-99f2-2f7c370f9639",
   "metadata": {
    "tags": []
   },
   "source": [
    "# Load Data "
   ]
  },
  {
   "cell_type": "markdown",
   "id": "88abd130-f8c6-43de-940d-b7230793cfe7",
   "metadata": {
    "tags": []
   },
   "source": [
    "## MOFA Models"
   ]
  },
  {
   "cell_type": "code",
   "execution_count": 87,
   "id": "b0fdf0a7-f6e4-4de6-bc5b-37fa91a3f56a",
   "metadata": {},
   "outputs": [],
   "source": [
    "### Load the trained MOFA Models"
   ]
  },
  {
   "cell_type": "code",
   "execution_count": 88,
   "id": "ae86bac8-0c97-422d-b18e-826090b88742",
   "metadata": {},
   "outputs": [],
   "source": [
    "model_list = list()"
   ]
  },
  {
   "cell_type": "code",
   "execution_count": 89,
   "id": "5c87edd3-5359-4a64-9b18-f40993913f08",
   "metadata": {},
   "outputs": [
    {
     "data": {
      "text/html": [
       "<style>\n",
       ".list-inline {list-style: none; margin:0; padding: 0}\n",
       ".list-inline>li {display: inline-block}\n",
       ".list-inline>li:not(:last-child)::after {content: \"\\00b7\"; padding: 0 .5ex}\n",
       "</style>\n",
       "<ol class=list-inline><li>'MI_v1_MOFA'</li><li>'MI_v1_MOFA_10'</li><li>'MI_v1_MOFA_15'</li><li>'MI_v1_MOFA_25'</li></ol>\n"
      ],
      "text/latex": [
       "\\begin{enumerate*}\n",
       "\\item 'MI\\_v1\\_MOFA'\n",
       "\\item 'MI\\_v1\\_MOFA\\_10'\n",
       "\\item 'MI\\_v1\\_MOFA\\_15'\n",
       "\\item 'MI\\_v1\\_MOFA\\_25'\n",
       "\\end{enumerate*}\n"
      ],
      "text/markdown": [
       "1. 'MI_v1_MOFA'\n",
       "2. 'MI_v1_MOFA_10'\n",
       "3. 'MI_v1_MOFA_15'\n",
       "4. 'MI_v1_MOFA_25'\n",
       "\n",
       "\n"
      ],
      "text/plain": [
       "[1] \"MI_v1_MOFA\"    \"MI_v1_MOFA_10\" \"MI_v1_MOFA_15\" \"MI_v1_MOFA_25\""
      ]
     },
     "metadata": {},
     "output_type": "display_data"
    }
   ],
   "source": [
    "comparison_configs$mofa_result_name"
   ]
  },
  {
   "cell_type": "code",
   "execution_count": 90,
   "id": "91194f8b-9574-470c-81a9-27852a97923d",
   "metadata": {
    "tags": []
   },
   "outputs": [
    {
     "name": "stderr",
     "output_type": "stream",
     "text": [
      "Loading data...\n",
      "\n",
      "Loading expectations for 2 nodes...\n",
      "\n",
      "Loading model options...\n",
      "\n",
      "Loading training options and statistics...\n",
      "\n",
      "Assigning names to the different dimensions...\n",
      "\n",
      "Re-ordering factors by their variance explained...\n",
      "\n",
      "Doing quality control...\n",
      "\n",
      "Checking views names...\n",
      "\n",
      "Checking groups names...\n",
      "\n",
      "Checking samples names...\n",
      "\n",
      "Checking features names...\n",
      "\n",
      "Checking dimensions...\n",
      "\n",
      "Checking there are no features with complete missing values...\n",
      "\n",
      "Checking sample covariates...\n",
      "\n",
      "Checking expectations...\n",
      "\n",
      "Checking for intercept factors...\n",
      "\n",
      "Warning message in .quality_control(object, verbose = verbose):\n",
      "“Factor(s) 5, 9, 18 are strongly correlated with the total number of expressed features for at least one of your omics. Such factors appear when there are differences in the total 'levels' between your samples, *sometimes* because of poor normalisation in the preprocessing steps.\n",
      "”\n",
      "Checking for highly correlated factors...\n",
      "\n",
      "Loading data...\n",
      "\n",
      "Loading expectations for 2 nodes...\n",
      "\n",
      "Loading model options...\n",
      "\n",
      "Loading training options and statistics...\n",
      "\n",
      "Assigning names to the different dimensions...\n",
      "\n",
      "Re-ordering factors by their variance explained...\n",
      "\n",
      "Doing quality control...\n",
      "\n",
      "Checking views names...\n",
      "\n",
      "Checking groups names...\n",
      "\n",
      "Checking samples names...\n",
      "\n",
      "Checking features names...\n",
      "\n",
      "Checking dimensions...\n",
      "\n",
      "Checking there are no features with complete missing values...\n",
      "\n",
      "Checking sample covariates...\n",
      "\n",
      "Checking expectations...\n",
      "\n",
      "Checking for intercept factors...\n",
      "\n",
      "Warning message in .quality_control(object, verbose = verbose):\n",
      "“Factor(s) 5, 6 are strongly correlated with the total number of expressed features for at least one of your omics. Such factors appear when there are differences in the total 'levels' between your samples, *sometimes* because of poor normalisation in the preprocessing steps.\n",
      "”\n",
      "Checking for highly correlated factors...\n",
      "\n",
      "Loading data...\n",
      "\n",
      "Loading expectations for 2 nodes...\n",
      "\n",
      "Loading model options...\n",
      "\n",
      "Loading training options and statistics...\n",
      "\n",
      "Assigning names to the different dimensions...\n",
      "\n",
      "Re-ordering factors by their variance explained...\n",
      "\n",
      "Doing quality control...\n",
      "\n",
      "Checking views names...\n",
      "\n",
      "Checking groups names...\n",
      "\n",
      "Checking samples names...\n",
      "\n",
      "Checking features names...\n",
      "\n",
      "Checking dimensions...\n",
      "\n",
      "Checking there are no features with complete missing values...\n",
      "\n",
      "Checking sample covariates...\n",
      "\n",
      "Checking expectations...\n",
      "\n",
      "Checking for intercept factors...\n",
      "\n",
      "Warning message in .quality_control(object, verbose = verbose):\n",
      "“Factor(s) 5, 7 are strongly correlated with the total number of expressed features for at least one of your omics. Such factors appear when there are differences in the total 'levels' between your samples, *sometimes* because of poor normalisation in the preprocessing steps.\n",
      "”\n",
      "Checking for highly correlated factors...\n",
      "\n",
      "Loading data...\n",
      "\n",
      "Loading expectations for 2 nodes...\n",
      "\n",
      "Loading model options...\n",
      "\n",
      "Loading training options and statistics...\n",
      "\n",
      "Assigning names to the different dimensions...\n",
      "\n",
      "Re-ordering factors by their variance explained...\n",
      "\n",
      "Doing quality control...\n",
      "\n",
      "Checking views names...\n",
      "\n",
      "Checking groups names...\n",
      "\n",
      "Checking samples names...\n",
      "\n",
      "Checking features names...\n",
      "\n",
      "Checking dimensions...\n",
      "\n",
      "Checking there are no features with complete missing values...\n",
      "\n",
      "Checking sample covariates...\n",
      "\n",
      "Checking expectations...\n",
      "\n",
      "Checking for intercept factors...\n",
      "\n",
      "Warning message in .quality_control(object, verbose = verbose):\n",
      "“Factor(s) 5, 11, 12, 24 are strongly correlated with the total number of expressed features for at least one of your omics. Such factors appear when there are differences in the total 'levels' between your samples, *sometimes* because of poor normalisation in the preprocessing steps.\n",
      "”\n",
      "Checking for highly correlated factors...\n",
      "\n"
     ]
    }
   ],
   "source": [
    "for(i in comparison_configs$mofa_result_name){\n",
    "    model_name = paste0(\"03_MOFA_MODEL_\", i, '.hdf5') # added number of factors in review to test different \n",
    "    outfile = file.path( paste0(result_path, '/03_results/',  model_name) )\n",
    "    model_list[[as.character(i)]] <- load_model(outfile, verbose = TRUE)\n",
    "    }"
   ]
  },
  {
   "cell_type": "code",
   "execution_count": 91,
   "id": "086d3bfb-4e3d-4e7c-a878-5b04242cba02",
   "metadata": {},
   "outputs": [
    {
     "data": {
      "text/html": [
       "<style>\n",
       ".list-inline {list-style: none; margin:0; padding: 0}\n",
       ".list-inline>li {display: inline-block}\n",
       ".list-inline>li:not(:last-child)::after {content: \"\\00b7\"; padding: 0 .5ex}\n",
       "</style>\n",
       "<ol class=list-inline><li>'MI_v1_MOFA'</li><li>'MI_v1_MOFA_10'</li><li>'MI_v1_MOFA_15'</li><li>'MI_v1_MOFA_25'</li></ol>\n"
      ],
      "text/latex": [
       "\\begin{enumerate*}\n",
       "\\item 'MI\\_v1\\_MOFA'\n",
       "\\item 'MI\\_v1\\_MOFA\\_10'\n",
       "\\item 'MI\\_v1\\_MOFA\\_15'\n",
       "\\item 'MI\\_v1\\_MOFA\\_25'\n",
       "\\end{enumerate*}\n"
      ],
      "text/markdown": [
       "1. 'MI_v1_MOFA'\n",
       "2. 'MI_v1_MOFA_10'\n",
       "3. 'MI_v1_MOFA_15'\n",
       "4. 'MI_v1_MOFA_25'\n",
       "\n",
       "\n"
      ],
      "text/plain": [
       "[1] \"MI_v1_MOFA\"    \"MI_v1_MOFA_10\" \"MI_v1_MOFA_15\" \"MI_v1_MOFA_25\""
      ]
     },
     "metadata": {},
     "output_type": "display_data"
    }
   ],
   "source": [
    "names(model_list)"
   ]
  },
  {
   "cell_type": "code",
   "execution_count": 92,
   "id": "46e2cdd1-8ce7-421c-945f-cecac31bd0b5",
   "metadata": {},
   "outputs": [],
   "source": [
    "#str(model_list)"
   ]
  },
  {
   "cell_type": "code",
   "execution_count": 93,
   "id": "8ca12e8e-b4f4-4f6f-9c09-3e83e2b0ef34",
   "metadata": {},
   "outputs": [
    {
     "name": "stdout",
     "output_type": "stream",
     "text": [
      "[1] 4\n"
     ]
    }
   ],
   "source": [
    "print(length(model_list))"
   ]
  },
  {
   "cell_type": "markdown",
   "id": "1385d8a3-c030-45e4-92d6-7e71e9450bb6",
   "metadata": {
    "tags": []
   },
   "source": [
    "# Downstream Analysis of generated models"
   ]
  },
  {
   "cell_type": "markdown",
   "id": "ffbe87b9-ed6b-420b-b46d-18e07942a912",
   "metadata": {},
   "source": [
    "## Compare total explained variance"
   ]
  },
  {
   "cell_type": "code",
   "execution_count": 94,
   "id": "20d863f2-3dbd-42ff-9bbc-52e168f18aa1",
   "metadata": {},
   "outputs": [],
   "source": [
    "### Compare the explained variance per view between the models and plot the figure"
   ]
  },
  {
   "cell_type": "code",
   "execution_count": 95,
   "id": "f22b7b71-9277-4ce3-89fc-90f6cc7eeee2",
   "metadata": {},
   "outputs": [
    {
     "data": {
      "text/html": [
       "<dl>\n",
       "\t<dt>$MI_v1_MOFA</dt>\n",
       "\t\t<dd>36.1258015188369</dd>\n",
       "\t<dt>$MI_v1_MOFA_10</dt>\n",
       "\t\t<dd>27.5287657437431</dd>\n",
       "\t<dt>$MI_v1_MOFA_15</dt>\n",
       "\t\t<dd>32.2024469893696</dd>\n",
       "\t<dt>$MI_v1_MOFA_25</dt>\n",
       "\t\t<dd>39.2393496582436</dd>\n",
       "</dl>\n"
      ],
      "text/latex": [
       "\\begin{description}\n",
       "\\item[\\$MI\\_v1\\_MOFA] 36.1258015188369\n",
       "\\item[\\$MI\\_v1\\_MOFA\\_10] 27.5287657437431\n",
       "\\item[\\$MI\\_v1\\_MOFA\\_15] 32.2024469893696\n",
       "\\item[\\$MI\\_v1\\_MOFA\\_25] 39.2393496582436\n",
       "\\end{description}\n"
      ],
      "text/markdown": [
       "$MI_v1_MOFA\n",
       ":   36.1258015188369\n",
       "$MI_v1_MOFA_10\n",
       ":   27.5287657437431\n",
       "$MI_v1_MOFA_15\n",
       ":   32.2024469893696\n",
       "$MI_v1_MOFA_25\n",
       ":   39.2393496582436\n",
       "\n",
       "\n"
      ],
      "text/plain": [
       "$MI_v1_MOFA\n",
       "[1] 36.1258\n",
       "\n",
       "$MI_v1_MOFA_10\n",
       "[1] 27.52877\n",
       "\n",
       "$MI_v1_MOFA_15\n",
       "[1] 32.20245\n",
       "\n",
       "$MI_v1_MOFA_25\n",
       "[1] 39.23935\n"
      ]
     },
     "metadata": {},
     "output_type": "display_data"
    }
   ],
   "source": [
    "lapply(model_list, function(x){\n",
    "    mean(x@cache$variance_explained$r2_total[[1]])\n",
    "    })\n",
    "### 20 Factor model used: 35.7461964551804   "
   ]
  },
  {
   "cell_type": "code",
   "execution_count": 96,
   "id": "faffce2a-6273-4c24-84c2-81899e5333fa",
   "metadata": {},
   "outputs": [],
   "source": [
    "### compare explained variance per view"
   ]
  },
  {
   "cell_type": "code",
   "execution_count": 97,
   "id": "b19d7a73-b508-4321-8b01-2f35592204bc",
   "metadata": {},
   "outputs": [],
   "source": [
    "var_explained_per_view = lapply(model_list, function(x){\n",
    "    x@cache[[\"variance_explained\"]]$r2_total\n",
    "    })"
   ]
  },
  {
   "cell_type": "code",
   "execution_count": 98,
   "id": "38910ba9-eca5-4caf-a4f7-3e4098742ce1",
   "metadata": {},
   "outputs": [],
   "source": [
    "var_explained_per_view_data = data.frame()\n",
    "\n",
    "for(i in names(var_explained_per_view)){\n",
    "    data = var_explained_per_view[[i]]$group1\n",
    "    data = as.data.frame(data)\n",
    "    data$view = rownames(data)\n",
    "    data$view = str_replace_all(data$view, ' ', '')\n",
    "    data$view = str_replace_all(data$view, '\\\\.', '')\n",
    "    data$configuration = i\n",
    "    \n",
    "    var_explained_per_view_data = rbind(data, var_explained_per_view_data)\n",
    "    }"
   ]
  },
  {
   "cell_type": "code",
   "execution_count": 99,
   "id": "f4eb73df-0d0d-4f69-8b21-c0eb91b289c4",
   "metadata": {},
   "outputs": [
    {
     "data": {
      "text/html": [
       "<table class=\"dataframe\">\n",
       "<caption>A data.frame: 2 × 3</caption>\n",
       "<thead>\n",
       "\t<tr><th></th><th scope=col>data</th><th scope=col>view</th><th scope=col>configuration</th></tr>\n",
       "\t<tr><th></th><th scope=col>&lt;dbl&gt;</th><th scope=col>&lt;chr&gt;</th><th scope=col>&lt;chr&gt;</th></tr>\n",
       "</thead>\n",
       "<tbody>\n",
       "\t<tr><th scope=row>B.cell</th><td>40.33109</td><td>Bcell   </td><td>MI_v1_MOFA_25</td></tr>\n",
       "\t<tr><th scope=row>CD14.Mono</th><td>63.11763</td><td>CD14Mono</td><td>MI_v1_MOFA_25</td></tr>\n",
       "</tbody>\n",
       "</table>\n"
      ],
      "text/latex": [
       "A data.frame: 2 × 3\n",
       "\\begin{tabular}{r|lll}\n",
       "  & data & view & configuration\\\\\n",
       "  & <dbl> & <chr> & <chr>\\\\\n",
       "\\hline\n",
       "\tB.cell & 40.33109 & Bcell    & MI\\_v1\\_MOFA\\_25\\\\\n",
       "\tCD14.Mono & 63.11763 & CD14Mono & MI\\_v1\\_MOFA\\_25\\\\\n",
       "\\end{tabular}\n"
      ],
      "text/markdown": [
       "\n",
       "A data.frame: 2 × 3\n",
       "\n",
       "| <!--/--> | data &lt;dbl&gt; | view &lt;chr&gt; | configuration &lt;chr&gt; |\n",
       "|---|---|---|---|\n",
       "| B.cell | 40.33109 | Bcell    | MI_v1_MOFA_25 |\n",
       "| CD14.Mono | 63.11763 | CD14Mono | MI_v1_MOFA_25 |\n",
       "\n"
      ],
      "text/plain": [
       "          data     view     configuration\n",
       "B.cell    40.33109 Bcell    MI_v1_MOFA_25\n",
       "CD14.Mono 63.11763 CD14Mono MI_v1_MOFA_25"
      ]
     },
     "metadata": {},
     "output_type": "display_data"
    }
   ],
   "source": [
    "head(var_explained_per_view_data,2)"
   ]
  },
  {
   "cell_type": "code",
   "execution_count": 100,
   "id": "4df92b1c-1932-4feb-8389-e9a9fa2b5be7",
   "metadata": {},
   "outputs": [
    {
     "data": {
      "text/html": [
       "<style>\n",
       ".list-inline {list-style: none; margin:0; padding: 0}\n",
       ".list-inline>li {display: inline-block}\n",
       ".list-inline>li:not(:last-child)::after {content: \"\\00b7\"; padding: 0 .5ex}\n",
       "</style>\n",
       "<ol class=list-inline><li>'MI_v1_MOFA_25'</li><li>'MI_v1_MOFA_15'</li><li>'MI_v1_MOFA_10'</li><li>'MI_v1_MOFA'</li></ol>\n"
      ],
      "text/latex": [
       "\\begin{enumerate*}\n",
       "\\item 'MI\\_v1\\_MOFA\\_25'\n",
       "\\item 'MI\\_v1\\_MOFA\\_15'\n",
       "\\item 'MI\\_v1\\_MOFA\\_10'\n",
       "\\item 'MI\\_v1\\_MOFA'\n",
       "\\end{enumerate*}\n"
      ],
      "text/markdown": [
       "1. 'MI_v1_MOFA_25'\n",
       "2. 'MI_v1_MOFA_15'\n",
       "3. 'MI_v1_MOFA_10'\n",
       "4. 'MI_v1_MOFA'\n",
       "\n",
       "\n"
      ],
      "text/plain": [
       "[1] \"MI_v1_MOFA_25\" \"MI_v1_MOFA_15\" \"MI_v1_MOFA_10\" \"MI_v1_MOFA\"   "
      ]
     },
     "metadata": {},
     "output_type": "display_data"
    }
   ],
   "source": [
    "unique(var_explained_per_view_data$configuration)"
   ]
  },
  {
   "cell_type": "code",
   "execution_count": 101,
   "id": "38010c87-6106-4360-9d48-6549d340ee35",
   "metadata": {},
   "outputs": [],
   "source": [
    "# Specifies the figure name\n",
    "figure_name = paste0(\"FIG07_Variance_Model_Comparison\")"
   ]
  },
  {
   "cell_type": "code",
   "execution_count": 102,
   "id": "ade53376-66ab-4dd3-a103-13f7e8d9e8ea",
   "metadata": {},
   "outputs": [],
   "source": [
    "# Specifies the sizes of the plot\n",
    "width_par = 6\n",
    "height_par =4"
   ]
  },
  {
   "cell_type": "code",
   "execution_count": 103,
   "id": "d07ad29c-f4fc-4ae2-af80-27ddf57b7bcb",
   "metadata": {},
   "outputs": [
    {
     "data": {
      "text/html": [
       "<strong>png:</strong> 2"
      ],
      "text/latex": [
       "\\textbf{png:} 2"
      ],
      "text/markdown": [
       "**png:** 2"
      ],
      "text/plain": [
       "png \n",
       "  2 "
      ]
     },
     "metadata": {},
     "output_type": "display_data"
    }
   ],
   "source": [
    "plot = ggplot(var_explained_per_view_data, aes(x=view, y=data, fill=configuration, order = configuration)) + \n",
    "    geom_bar(position=\"dodge\", stat=\"identity\") + ylab('amount_explained_variance') + plot_config + scale_fill_okabe_ito() + coord_flip() + ylab('Total percentage of explained variance')\n",
    "  # TBD: improve coloring + selection\n",
    "\n",
    "#plot\n",
    "pdf(paste0('figures/07_figures/', figure_name, '.pdf'), width =width_par, height =height_par)\n",
    "print( plot)\n",
    "dev.off()"
   ]
  },
  {
   "cell_type": "markdown",
   "id": "65fdb732-279e-408d-9ac9-72da42a0dcc8",
   "metadata": {},
   "source": [
    "## Compare factor weights of samples"
   ]
  },
  {
   "cell_type": "code",
   "execution_count": 104,
   "id": "0da64b6a-df80-4214-b63a-79c6b42cd884",
   "metadata": {},
   "outputs": [],
   "source": [
    "## Compare the sample factor weights by correlating them (it is necessary that the factors match between the different models)"
   ]
  },
  {
   "cell_type": "code",
   "execution_count": 105,
   "id": "305cf7ce-5691-4fcd-9da7-8d3b8ce26709",
   "metadata": {},
   "outputs": [],
   "source": [
    "factor_weights = lapply(model_list, function(x){\n",
    "    get_factors(x, factors = 'all')$group1\n",
    "    })"
   ]
  },
  {
   "cell_type": "code",
   "execution_count": 106,
   "id": "1685281f-3e56-4db3-a409-e70713736b78",
   "metadata": {},
   "outputs": [
    {
     "name": "stderr",
     "output_type": "stream",
     "text": [
      "Using configuration, sample as id variables\n",
      "\n",
      "Using configuration, sample as id variables\n",
      "\n",
      "Using configuration, sample as id variables\n",
      "\n",
      "Using configuration, sample as id variables\n",
      "\n"
     ]
    }
   ],
   "source": [
    "factor_weight_data = data.frame()\n",
    "\n",
    "for(i in names(factor_weights)){\n",
    "    data = factor_weights[[i]]\n",
    "    data = as.data.frame(data)\n",
    "    data$configuration = i\n",
    "    data$sample = rownames(data)\n",
    "    data = melt(data)\n",
    "    ## filter on relevant factors\n",
    "    data = data[data$variable %in% unlist(str_split(comparison_configs$compare_factors[comparison_configs$mofa_result_name == i], ',')),]\n",
    "    \n",
    "    \n",
    "    factor_weight_data = rbind(data, factor_weight_data)\n",
    "    }"
   ]
  },
  {
   "cell_type": "code",
   "execution_count": 107,
   "id": "61a01d9f-887c-45a2-9382-ae06fe617ee9",
   "metadata": {},
   "outputs": [],
   "source": [
    "factor_weight_data$configuration = paste0(factor_weight_data$variable, '_', factor_weight_data$configuration)"
   ]
  },
  {
   "cell_type": "code",
   "execution_count": 108,
   "id": "70d313f9-ad4f-4e8c-993e-ff11b7e3bdf9",
   "metadata": {},
   "outputs": [
    {
     "data": {
      "text/html": [
       "<table class=\"dataframe\">\n",
       "<caption>A data.frame: 2 × 4</caption>\n",
       "<thead>\n",
       "\t<tr><th></th><th scope=col>configuration</th><th scope=col>sample</th><th scope=col>variable</th><th scope=col>value</th></tr>\n",
       "\t<tr><th></th><th scope=col>&lt;chr&gt;</th><th scope=col>&lt;chr&gt;</th><th scope=col>&lt;fct&gt;</th><th scope=col>&lt;dbl&gt;</th></tr>\n",
       "</thead>\n",
       "<tbody>\n",
       "\t<tr><th scope=row>1</th><td>Factor1_MI_v1_MOFA_25</td><td>k1 </td><td>Factor1</td><td>0.3985386</td></tr>\n",
       "\t<tr><th scope=row>2</th><td>Factor1_MI_v1_MOFA_25</td><td>k10</td><td>Factor1</td><td>0.7256701</td></tr>\n",
       "</tbody>\n",
       "</table>\n"
      ],
      "text/latex": [
       "A data.frame: 2 × 4\n",
       "\\begin{tabular}{r|llll}\n",
       "  & configuration & sample & variable & value\\\\\n",
       "  & <chr> & <chr> & <fct> & <dbl>\\\\\n",
       "\\hline\n",
       "\t1 & Factor1\\_MI\\_v1\\_MOFA\\_25 & k1  & Factor1 & 0.3985386\\\\\n",
       "\t2 & Factor1\\_MI\\_v1\\_MOFA\\_25 & k10 & Factor1 & 0.7256701\\\\\n",
       "\\end{tabular}\n"
      ],
      "text/markdown": [
       "\n",
       "A data.frame: 2 × 4\n",
       "\n",
       "| <!--/--> | configuration &lt;chr&gt; | sample &lt;chr&gt; | variable &lt;fct&gt; | value &lt;dbl&gt; |\n",
       "|---|---|---|---|---|\n",
       "| 1 | Factor1_MI_v1_MOFA_25 | k1  | Factor1 | 0.3985386 |\n",
       "| 2 | Factor1_MI_v1_MOFA_25 | k10 | Factor1 | 0.7256701 |\n",
       "\n"
      ],
      "text/plain": [
       "  configuration         sample variable value    \n",
       "1 Factor1_MI_v1_MOFA_25 k1     Factor1  0.3985386\n",
       "2 Factor1_MI_v1_MOFA_25 k10    Factor1  0.7256701"
      ]
     },
     "metadata": {},
     "output_type": "display_data"
    }
   ],
   "source": [
    "head(factor_weight_data,2)"
   ]
  },
  {
   "cell_type": "code",
   "execution_count": 109,
   "id": "b40da9f6-dbb4-49e0-b627-992a54ffa00d",
   "metadata": {},
   "outputs": [
    {
     "data": {
      "text/html": [
       "<style>\n",
       ".list-inline {list-style: none; margin:0; padding: 0}\n",
       ".list-inline>li {display: inline-block}\n",
       ".list-inline>li:not(:last-child)::after {content: \"\\00b7\"; padding: 0 .5ex}\n",
       "</style>\n",
       "<ol class=list-inline><li>Factor1</li><li>Factor2</li><li>Factor3</li><li>Factor4</li><li>Factor5</li></ol>\n",
       "\n",
       "<details>\n",
       "\t<summary style=display:list-item;cursor:pointer>\n",
       "\t\t<strong>Levels</strong>:\n",
       "\t</summary>\n",
       "\t<style>\n",
       "\t.list-inline {list-style: none; margin:0; padding: 0}\n",
       "\t.list-inline>li {display: inline-block}\n",
       "\t.list-inline>li:not(:last-child)::after {content: \"\\00b7\"; padding: 0 .5ex}\n",
       "\t</style>\n",
       "\t<ol class=list-inline><li>'Factor1'</li><li>'Factor2'</li><li>'Factor3'</li><li>'Factor4'</li><li>'Factor5'</li><li>'Factor6'</li><li>'Factor7'</li><li>'Factor8'</li><li>'Factor9'</li><li>'Factor10'</li><li>'Factor11'</li><li>'Factor12'</li><li>'Factor13'</li><li>'Factor14'</li><li>'Factor15'</li><li>'Factor16'</li><li>'Factor17'</li><li>'Factor18'</li><li>'Factor19'</li><li>'Factor20'</li><li>'Factor21'</li><li>'Factor22'</li><li>'Factor23'</li><li>'Factor24'</li><li>'Factor25'</li></ol>\n",
       "</details>"
      ],
      "text/latex": [
       "\\begin{enumerate*}\n",
       "\\item Factor1\n",
       "\\item Factor2\n",
       "\\item Factor3\n",
       "\\item Factor4\n",
       "\\item Factor5\n",
       "\\end{enumerate*}\n",
       "\n",
       "\\emph{Levels}: \\begin{enumerate*}\n",
       "\\item 'Factor1'\n",
       "\\item 'Factor2'\n",
       "\\item 'Factor3'\n",
       "\\item 'Factor4'\n",
       "\\item 'Factor5'\n",
       "\\item 'Factor6'\n",
       "\\item 'Factor7'\n",
       "\\item 'Factor8'\n",
       "\\item 'Factor9'\n",
       "\\item 'Factor10'\n",
       "\\item 'Factor11'\n",
       "\\item 'Factor12'\n",
       "\\item 'Factor13'\n",
       "\\item 'Factor14'\n",
       "\\item 'Factor15'\n",
       "\\item 'Factor16'\n",
       "\\item 'Factor17'\n",
       "\\item 'Factor18'\n",
       "\\item 'Factor19'\n",
       "\\item 'Factor20'\n",
       "\\item 'Factor21'\n",
       "\\item 'Factor22'\n",
       "\\item 'Factor23'\n",
       "\\item 'Factor24'\n",
       "\\item 'Factor25'\n",
       "\\end{enumerate*}\n"
      ],
      "text/markdown": [
       "1. Factor1\n",
       "2. Factor2\n",
       "3. Factor3\n",
       "4. Factor4\n",
       "5. Factor5\n",
       "\n",
       "\n",
       "\n",
       "**Levels**: 1. 'Factor1'\n",
       "2. 'Factor2'\n",
       "3. 'Factor3'\n",
       "4. 'Factor4'\n",
       "5. 'Factor5'\n",
       "6. 'Factor6'\n",
       "7. 'Factor7'\n",
       "8. 'Factor8'\n",
       "9. 'Factor9'\n",
       "10. 'Factor10'\n",
       "11. 'Factor11'\n",
       "12. 'Factor12'\n",
       "13. 'Factor13'\n",
       "14. 'Factor14'\n",
       "15. 'Factor15'\n",
       "16. 'Factor16'\n",
       "17. 'Factor17'\n",
       "18. 'Factor18'\n",
       "19. 'Factor19'\n",
       "20. 'Factor20'\n",
       "21. 'Factor21'\n",
       "22. 'Factor22'\n",
       "23. 'Factor23'\n",
       "24. 'Factor24'\n",
       "25. 'Factor25'\n",
       "\n",
       "\n"
      ],
      "text/plain": [
       "[1] Factor1 Factor2 Factor3 Factor4 Factor5\n",
       "25 Levels: Factor1 Factor2 Factor3 Factor4 Factor5 Factor6 Factor7 ... Factor25"
      ]
     },
     "metadata": {},
     "output_type": "display_data"
    }
   ],
   "source": [
    "unique(factor_weight_data$variable)"
   ]
  },
  {
   "cell_type": "code",
   "execution_count": 110,
   "id": "ab78239c-401f-43dc-9ac5-6fb0a6bb3f68",
   "metadata": {},
   "outputs": [],
   "source": [
    "cor_data = factor_weight_data %>% dcast(sample ~ configuration, value.var = 'value')"
   ]
  },
  {
   "cell_type": "code",
   "execution_count": 111,
   "id": "c0cbe60c-c2f7-45dc-9c1a-56ac9a0373da",
   "metadata": {},
   "outputs": [
    {
     "data": {
      "text/html": [
       "<table class=\"dataframe\">\n",
       "<caption>A data.frame: 2 × 21</caption>\n",
       "<thead>\n",
       "\t<tr><th></th><th scope=col>sample</th><th scope=col>Factor1_MI_v1_MOFA</th><th scope=col>Factor1_MI_v1_MOFA_10</th><th scope=col>Factor1_MI_v1_MOFA_15</th><th scope=col>Factor1_MI_v1_MOFA_25</th><th scope=col>Factor2_MI_v1_MOFA</th><th scope=col>Factor2_MI_v1_MOFA_10</th><th scope=col>Factor2_MI_v1_MOFA_15</th><th scope=col>Factor2_MI_v1_MOFA_25</th><th scope=col>Factor3_MI_v1_MOFA</th><th scope=col>⋯</th><th scope=col>Factor3_MI_v1_MOFA_15</th><th scope=col>Factor3_MI_v1_MOFA_25</th><th scope=col>Factor4_MI_v1_MOFA</th><th scope=col>Factor4_MI_v1_MOFA_10</th><th scope=col>Factor4_MI_v1_MOFA_15</th><th scope=col>Factor4_MI_v1_MOFA_25</th><th scope=col>Factor5_MI_v1_MOFA</th><th scope=col>Factor5_MI_v1_MOFA_10</th><th scope=col>Factor5_MI_v1_MOFA_15</th><th scope=col>Factor5_MI_v1_MOFA_25</th></tr>\n",
       "\t<tr><th></th><th scope=col>&lt;chr&gt;</th><th scope=col>&lt;dbl&gt;</th><th scope=col>&lt;dbl&gt;</th><th scope=col>&lt;dbl&gt;</th><th scope=col>&lt;dbl&gt;</th><th scope=col>&lt;dbl&gt;</th><th scope=col>&lt;dbl&gt;</th><th scope=col>&lt;dbl&gt;</th><th scope=col>&lt;dbl&gt;</th><th scope=col>&lt;dbl&gt;</th><th scope=col>⋯</th><th scope=col>&lt;dbl&gt;</th><th scope=col>&lt;dbl&gt;</th><th scope=col>&lt;dbl&gt;</th><th scope=col>&lt;dbl&gt;</th><th scope=col>&lt;dbl&gt;</th><th scope=col>&lt;dbl&gt;</th><th scope=col>&lt;dbl&gt;</th><th scope=col>&lt;dbl&gt;</th><th scope=col>&lt;dbl&gt;</th><th scope=col>&lt;dbl&gt;</th></tr>\n",
       "</thead>\n",
       "<tbody>\n",
       "\t<tr><th scope=row>1</th><td>k1 </td><td>0.1201561</td><td>1.0237531</td><td>0.005441715</td><td>0.3985386</td><td>-1.6391856</td><td> 0.8016962</td><td>-2.085861</td><td>-1.031475</td><td>-0.4479716</td><td>⋯</td><td>-0.3240436</td><td>-0.2473916</td><td>0.6821012</td><td>-0.4546323</td><td>0.4506769</td><td>0.4819728</td><td> 2.02569211</td><td>0.15213588</td><td> 2.2563563</td><td> 0.3875304</td></tr>\n",
       "\t<tr><th scope=row>2</th><td>k10</td><td>0.6551561</td><td>0.8464392</td><td>0.598345285</td><td>0.7256701</td><td>-0.9849971</td><td>-0.9084269</td><td>-1.040898</td><td>-1.050191</td><td> 0.3236092</td><td>⋯</td><td> 0.3044810</td><td> 0.4881818</td><td>0.2551028</td><td> 0.3945530</td><td>0.3189836</td><td>0.3420605</td><td>-0.09817868</td><td>0.06452674</td><td>-0.1051354</td><td>-0.1249448</td></tr>\n",
       "</tbody>\n",
       "</table>\n"
      ],
      "text/latex": [
       "A data.frame: 2 × 21\n",
       "\\begin{tabular}{r|lllllllllllllllllllll}\n",
       "  & sample & Factor1\\_MI\\_v1\\_MOFA & Factor1\\_MI\\_v1\\_MOFA\\_10 & Factor1\\_MI\\_v1\\_MOFA\\_15 & Factor1\\_MI\\_v1\\_MOFA\\_25 & Factor2\\_MI\\_v1\\_MOFA & Factor2\\_MI\\_v1\\_MOFA\\_10 & Factor2\\_MI\\_v1\\_MOFA\\_15 & Factor2\\_MI\\_v1\\_MOFA\\_25 & Factor3\\_MI\\_v1\\_MOFA & ⋯ & Factor3\\_MI\\_v1\\_MOFA\\_15 & Factor3\\_MI\\_v1\\_MOFA\\_25 & Factor4\\_MI\\_v1\\_MOFA & Factor4\\_MI\\_v1\\_MOFA\\_10 & Factor4\\_MI\\_v1\\_MOFA\\_15 & Factor4\\_MI\\_v1\\_MOFA\\_25 & Factor5\\_MI\\_v1\\_MOFA & Factor5\\_MI\\_v1\\_MOFA\\_10 & Factor5\\_MI\\_v1\\_MOFA\\_15 & Factor5\\_MI\\_v1\\_MOFA\\_25\\\\\n",
       "  & <chr> & <dbl> & <dbl> & <dbl> & <dbl> & <dbl> & <dbl> & <dbl> & <dbl> & <dbl> & ⋯ & <dbl> & <dbl> & <dbl> & <dbl> & <dbl> & <dbl> & <dbl> & <dbl> & <dbl> & <dbl>\\\\\n",
       "\\hline\n",
       "\t1 & k1  & 0.1201561 & 1.0237531 & 0.005441715 & 0.3985386 & -1.6391856 &  0.8016962 & -2.085861 & -1.031475 & -0.4479716 & ⋯ & -0.3240436 & -0.2473916 & 0.6821012 & -0.4546323 & 0.4506769 & 0.4819728 &  2.02569211 & 0.15213588 &  2.2563563 &  0.3875304\\\\\n",
       "\t2 & k10 & 0.6551561 & 0.8464392 & 0.598345285 & 0.7256701 & -0.9849971 & -0.9084269 & -1.040898 & -1.050191 &  0.3236092 & ⋯ &  0.3044810 &  0.4881818 & 0.2551028 &  0.3945530 & 0.3189836 & 0.3420605 & -0.09817868 & 0.06452674 & -0.1051354 & -0.1249448\\\\\n",
       "\\end{tabular}\n"
      ],
      "text/markdown": [
       "\n",
       "A data.frame: 2 × 21\n",
       "\n",
       "| <!--/--> | sample &lt;chr&gt; | Factor1_MI_v1_MOFA &lt;dbl&gt; | Factor1_MI_v1_MOFA_10 &lt;dbl&gt; | Factor1_MI_v1_MOFA_15 &lt;dbl&gt; | Factor1_MI_v1_MOFA_25 &lt;dbl&gt; | Factor2_MI_v1_MOFA &lt;dbl&gt; | Factor2_MI_v1_MOFA_10 &lt;dbl&gt; | Factor2_MI_v1_MOFA_15 &lt;dbl&gt; | Factor2_MI_v1_MOFA_25 &lt;dbl&gt; | Factor3_MI_v1_MOFA &lt;dbl&gt; | ⋯ ⋯ | Factor3_MI_v1_MOFA_15 &lt;dbl&gt; | Factor3_MI_v1_MOFA_25 &lt;dbl&gt; | Factor4_MI_v1_MOFA &lt;dbl&gt; | Factor4_MI_v1_MOFA_10 &lt;dbl&gt; | Factor4_MI_v1_MOFA_15 &lt;dbl&gt; | Factor4_MI_v1_MOFA_25 &lt;dbl&gt; | Factor5_MI_v1_MOFA &lt;dbl&gt; | Factor5_MI_v1_MOFA_10 &lt;dbl&gt; | Factor5_MI_v1_MOFA_15 &lt;dbl&gt; | Factor5_MI_v1_MOFA_25 &lt;dbl&gt; |\n",
       "|---|---|---|---|---|---|---|---|---|---|---|---|---|---|---|---|---|---|---|---|---|---|\n",
       "| 1 | k1  | 0.1201561 | 1.0237531 | 0.005441715 | 0.3985386 | -1.6391856 |  0.8016962 | -2.085861 | -1.031475 | -0.4479716 | ⋯ | -0.3240436 | -0.2473916 | 0.6821012 | -0.4546323 | 0.4506769 | 0.4819728 |  2.02569211 | 0.15213588 |  2.2563563 |  0.3875304 |\n",
       "| 2 | k10 | 0.6551561 | 0.8464392 | 0.598345285 | 0.7256701 | -0.9849971 | -0.9084269 | -1.040898 | -1.050191 |  0.3236092 | ⋯ |  0.3044810 |  0.4881818 | 0.2551028 |  0.3945530 | 0.3189836 | 0.3420605 | -0.09817868 | 0.06452674 | -0.1051354 | -0.1249448 |\n",
       "\n"
      ],
      "text/plain": [
       "  sample Factor1_MI_v1_MOFA Factor1_MI_v1_MOFA_10 Factor1_MI_v1_MOFA_15\n",
       "1 k1     0.1201561          1.0237531             0.005441715          \n",
       "2 k10    0.6551561          0.8464392             0.598345285          \n",
       "  Factor1_MI_v1_MOFA_25 Factor2_MI_v1_MOFA Factor2_MI_v1_MOFA_10\n",
       "1 0.3985386             -1.6391856          0.8016962           \n",
       "2 0.7256701             -0.9849971         -0.9084269           \n",
       "  Factor2_MI_v1_MOFA_15 Factor2_MI_v1_MOFA_25 Factor3_MI_v1_MOFA ⋯\n",
       "1 -2.085861             -1.031475             -0.4479716         ⋯\n",
       "2 -1.040898             -1.050191              0.3236092         ⋯\n",
       "  Factor3_MI_v1_MOFA_15 Factor3_MI_v1_MOFA_25 Factor4_MI_v1_MOFA\n",
       "1 -0.3240436            -0.2473916            0.6821012         \n",
       "2  0.3044810             0.4881818            0.2551028         \n",
       "  Factor4_MI_v1_MOFA_10 Factor4_MI_v1_MOFA_15 Factor4_MI_v1_MOFA_25\n",
       "1 -0.4546323            0.4506769             0.4819728            \n",
       "2  0.3945530            0.3189836             0.3420605            \n",
       "  Factor5_MI_v1_MOFA Factor5_MI_v1_MOFA_10 Factor5_MI_v1_MOFA_15\n",
       "1  2.02569211        0.15213588             2.2563563           \n",
       "2 -0.09817868        0.06452674            -0.1051354           \n",
       "  Factor5_MI_v1_MOFA_25\n",
       "1  0.3875304           \n",
       "2 -0.1249448           "
      ]
     },
     "metadata": {},
     "output_type": "display_data"
    }
   ],
   "source": [
    "head(cor_data,2)"
   ]
  },
  {
   "cell_type": "code",
   "execution_count": 112,
   "id": "7a407679-b0ea-4539-993d-c4b73ed2c37f",
   "metadata": {},
   "outputs": [],
   "source": [
    "cor_data$sample = NULL\n",
    "correlation = cor(cor_data, use = 'pairwise.complete.obs')"
   ]
  },
  {
   "cell_type": "code",
   "execution_count": 113,
   "id": "72eb1984-fc56-4038-ab41-6769d9c5510d",
   "metadata": {},
   "outputs": [
    {
     "data": {
      "text/html": [
       "<table class=\"dataframe\">\n",
       "<caption>A matrix: 2 × 20 of type dbl</caption>\n",
       "<thead>\n",
       "\t<tr><th></th><th scope=col>Factor1_MI_v1_MOFA</th><th scope=col>Factor1_MI_v1_MOFA_10</th><th scope=col>Factor1_MI_v1_MOFA_15</th><th scope=col>Factor1_MI_v1_MOFA_25</th><th scope=col>Factor2_MI_v1_MOFA</th><th scope=col>Factor2_MI_v1_MOFA_10</th><th scope=col>Factor2_MI_v1_MOFA_15</th><th scope=col>Factor2_MI_v1_MOFA_25</th><th scope=col>Factor3_MI_v1_MOFA</th><th scope=col>Factor3_MI_v1_MOFA_10</th><th scope=col>Factor3_MI_v1_MOFA_15</th><th scope=col>Factor3_MI_v1_MOFA_25</th><th scope=col>Factor4_MI_v1_MOFA</th><th scope=col>Factor4_MI_v1_MOFA_10</th><th scope=col>Factor4_MI_v1_MOFA_15</th><th scope=col>Factor4_MI_v1_MOFA_25</th><th scope=col>Factor5_MI_v1_MOFA</th><th scope=col>Factor5_MI_v1_MOFA_10</th><th scope=col>Factor5_MI_v1_MOFA_15</th><th scope=col>Factor5_MI_v1_MOFA_25</th></tr>\n",
       "</thead>\n",
       "<tbody>\n",
       "\t<tr><th scope=row>Factor1_MI_v1_MOFA</th><td>1.0000000</td><td>0.9917842</td><td>0.9992723</td><td>0.9976071</td><td>-0.04182525</td><td>-0.02340533</td><td>-0.05049043</td><td>-0.02899298</td><td>-0.002821845</td><td>-0.03182495</td><td>-0.003175061</td><td>0.02380544</td><td>-0.05582956</td><td>-0.10248938</td><td>-0.05283172</td><td>-0.05153494</td><td>0.04976030</td><td>-0.019262640</td><td>0.05200930</td><td>0.05587321</td></tr>\n",
       "\t<tr><th scope=row>Factor1_MI_v1_MOFA_10</th><td>0.9917842</td><td>1.0000000</td><td>0.9917693</td><td>0.9946613</td><td>-0.06682670</td><td>-0.03018986</td><td>-0.07796975</td><td>-0.05027997</td><td> 0.015652356</td><td>-0.01492875</td><td> 0.017552735</td><td>0.04385107</td><td>-0.02073846</td><td>-0.07609096</td><td>-0.02079976</td><td>-0.01920835</td><td>0.06805772</td><td>-0.003919279</td><td>0.07214009</td><td>0.06063978</td></tr>\n",
       "</tbody>\n",
       "</table>\n"
      ],
      "text/latex": [
       "A matrix: 2 × 20 of type dbl\n",
       "\\begin{tabular}{r|llllllllllllllllllll}\n",
       "  & Factor1\\_MI\\_v1\\_MOFA & Factor1\\_MI\\_v1\\_MOFA\\_10 & Factor1\\_MI\\_v1\\_MOFA\\_15 & Factor1\\_MI\\_v1\\_MOFA\\_25 & Factor2\\_MI\\_v1\\_MOFA & Factor2\\_MI\\_v1\\_MOFA\\_10 & Factor2\\_MI\\_v1\\_MOFA\\_15 & Factor2\\_MI\\_v1\\_MOFA\\_25 & Factor3\\_MI\\_v1\\_MOFA & Factor3\\_MI\\_v1\\_MOFA\\_10 & Factor3\\_MI\\_v1\\_MOFA\\_15 & Factor3\\_MI\\_v1\\_MOFA\\_25 & Factor4\\_MI\\_v1\\_MOFA & Factor4\\_MI\\_v1\\_MOFA\\_10 & Factor4\\_MI\\_v1\\_MOFA\\_15 & Factor4\\_MI\\_v1\\_MOFA\\_25 & Factor5\\_MI\\_v1\\_MOFA & Factor5\\_MI\\_v1\\_MOFA\\_10 & Factor5\\_MI\\_v1\\_MOFA\\_15 & Factor5\\_MI\\_v1\\_MOFA\\_25\\\\\n",
       "\\hline\n",
       "\tFactor1\\_MI\\_v1\\_MOFA & 1.0000000 & 0.9917842 & 0.9992723 & 0.9976071 & -0.04182525 & -0.02340533 & -0.05049043 & -0.02899298 & -0.002821845 & -0.03182495 & -0.003175061 & 0.02380544 & -0.05582956 & -0.10248938 & -0.05283172 & -0.05153494 & 0.04976030 & -0.019262640 & 0.05200930 & 0.05587321\\\\\n",
       "\tFactor1\\_MI\\_v1\\_MOFA\\_10 & 0.9917842 & 1.0000000 & 0.9917693 & 0.9946613 & -0.06682670 & -0.03018986 & -0.07796975 & -0.05027997 &  0.015652356 & -0.01492875 &  0.017552735 & 0.04385107 & -0.02073846 & -0.07609096 & -0.02079976 & -0.01920835 & 0.06805772 & -0.003919279 & 0.07214009 & 0.06063978\\\\\n",
       "\\end{tabular}\n"
      ],
      "text/markdown": [
       "\n",
       "A matrix: 2 × 20 of type dbl\n",
       "\n",
       "| <!--/--> | Factor1_MI_v1_MOFA | Factor1_MI_v1_MOFA_10 | Factor1_MI_v1_MOFA_15 | Factor1_MI_v1_MOFA_25 | Factor2_MI_v1_MOFA | Factor2_MI_v1_MOFA_10 | Factor2_MI_v1_MOFA_15 | Factor2_MI_v1_MOFA_25 | Factor3_MI_v1_MOFA | Factor3_MI_v1_MOFA_10 | Factor3_MI_v1_MOFA_15 | Factor3_MI_v1_MOFA_25 | Factor4_MI_v1_MOFA | Factor4_MI_v1_MOFA_10 | Factor4_MI_v1_MOFA_15 | Factor4_MI_v1_MOFA_25 | Factor5_MI_v1_MOFA | Factor5_MI_v1_MOFA_10 | Factor5_MI_v1_MOFA_15 | Factor5_MI_v1_MOFA_25 |\n",
       "|---|---|---|---|---|---|---|---|---|---|---|---|---|---|---|---|---|---|---|---|---|\n",
       "| Factor1_MI_v1_MOFA | 1.0000000 | 0.9917842 | 0.9992723 | 0.9976071 | -0.04182525 | -0.02340533 | -0.05049043 | -0.02899298 | -0.002821845 | -0.03182495 | -0.003175061 | 0.02380544 | -0.05582956 | -0.10248938 | -0.05283172 | -0.05153494 | 0.04976030 | -0.019262640 | 0.05200930 | 0.05587321 |\n",
       "| Factor1_MI_v1_MOFA_10 | 0.9917842 | 1.0000000 | 0.9917693 | 0.9946613 | -0.06682670 | -0.03018986 | -0.07796975 | -0.05027997 |  0.015652356 | -0.01492875 |  0.017552735 | 0.04385107 | -0.02073846 | -0.07609096 | -0.02079976 | -0.01920835 | 0.06805772 | -0.003919279 | 0.07214009 | 0.06063978 |\n",
       "\n"
      ],
      "text/plain": [
       "                      Factor1_MI_v1_MOFA Factor1_MI_v1_MOFA_10\n",
       "Factor1_MI_v1_MOFA    1.0000000          0.9917842            \n",
       "Factor1_MI_v1_MOFA_10 0.9917842          1.0000000            \n",
       "                      Factor1_MI_v1_MOFA_15 Factor1_MI_v1_MOFA_25\n",
       "Factor1_MI_v1_MOFA    0.9992723             0.9976071            \n",
       "Factor1_MI_v1_MOFA_10 0.9917693             0.9946613            \n",
       "                      Factor2_MI_v1_MOFA Factor2_MI_v1_MOFA_10\n",
       "Factor1_MI_v1_MOFA    -0.04182525        -0.02340533          \n",
       "Factor1_MI_v1_MOFA_10 -0.06682670        -0.03018986          \n",
       "                      Factor2_MI_v1_MOFA_15 Factor2_MI_v1_MOFA_25\n",
       "Factor1_MI_v1_MOFA    -0.05049043           -0.02899298          \n",
       "Factor1_MI_v1_MOFA_10 -0.07796975           -0.05027997          \n",
       "                      Factor3_MI_v1_MOFA Factor3_MI_v1_MOFA_10\n",
       "Factor1_MI_v1_MOFA    -0.002821845       -0.03182495          \n",
       "Factor1_MI_v1_MOFA_10  0.015652356       -0.01492875          \n",
       "                      Factor3_MI_v1_MOFA_15 Factor3_MI_v1_MOFA_25\n",
       "Factor1_MI_v1_MOFA    -0.003175061          0.02380544           \n",
       "Factor1_MI_v1_MOFA_10  0.017552735          0.04385107           \n",
       "                      Factor4_MI_v1_MOFA Factor4_MI_v1_MOFA_10\n",
       "Factor1_MI_v1_MOFA    -0.05582956        -0.10248938          \n",
       "Factor1_MI_v1_MOFA_10 -0.02073846        -0.07609096          \n",
       "                      Factor4_MI_v1_MOFA_15 Factor4_MI_v1_MOFA_25\n",
       "Factor1_MI_v1_MOFA    -0.05283172           -0.05153494          \n",
       "Factor1_MI_v1_MOFA_10 -0.02079976           -0.01920835          \n",
       "                      Factor5_MI_v1_MOFA Factor5_MI_v1_MOFA_10\n",
       "Factor1_MI_v1_MOFA    0.04976030         -0.019262640         \n",
       "Factor1_MI_v1_MOFA_10 0.06805772         -0.003919279         \n",
       "                      Factor5_MI_v1_MOFA_15 Factor5_MI_v1_MOFA_25\n",
       "Factor1_MI_v1_MOFA    0.05200930            0.05587321           \n",
       "Factor1_MI_v1_MOFA_10 0.07214009            0.06063978           "
      ]
     },
     "metadata": {},
     "output_type": "display_data"
    }
   ],
   "source": [
    "head(correlation,2)"
   ]
  },
  {
   "cell_type": "code",
   "execution_count": 114,
   "id": "cf9fd339-9153-459e-a208-956e21b34e32",
   "metadata": {},
   "outputs": [],
   "source": [
    "## Specify the name of the plot\n",
    "figure_name = paste0(\"FIG07_Factor_Correlations\")"
   ]
  },
  {
   "cell_type": "code",
   "execution_count": 115,
   "id": "9c62c9f3-4ca9-4907-b135-8dab6faeb4c0",
   "metadata": {},
   "outputs": [],
   "source": [
    "# Specify the sizes of the plot\n",
    "width_par = 8\n",
    "height_par =5"
   ]
  },
  {
   "cell_type": "code",
   "execution_count": 116,
   "id": "2b845813-6f9e-4827-820f-cbb348f5cf03",
   "metadata": {},
   "outputs": [
    {
     "data": {
      "text/plain": [
       "NULL"
      ]
     },
     "metadata": {},
     "output_type": "display_data"
    },
    {
     "data": {
      "text/html": [
       "<strong>png:</strong> 2"
      ],
      "text/latex": [
       "\\textbf{png:} 2"
      ],
      "text/markdown": [
       "**png:** 2"
      ],
      "text/plain": [
       "png \n",
       "  2 "
      ]
     },
     "metadata": {},
     "output_type": "display_data"
    }
   ],
   "source": [
    "options(repr.plot.width=40, repr.plot.height=20)\n",
    "pdf(paste0('figures/07_figures/', figure_name, '.pdf'), width =width_par, height =height_par)\n",
    "corrplot(correlation, method = 'number',  type = 'upper', col = COL2('BrBG'), tl.col = 'black', tl.cex = 0.6,   number.cex = 0.4, tl.offset = 0.2, diag = FALSE) + plot_config + theme(text = element_text(size = 5))\n",
    "dev.off()"
   ]
  },
  {
   "cell_type": "code",
   "execution_count": 117,
   "id": "9e4c19a1-14e0-4f53-bc12-96db8200fddc",
   "metadata": {},
   "outputs": [],
   "source": [
    "## Generate a correlation table and save it "
   ]
  },
  {
   "cell_type": "code",
   "execution_count": 118,
   "id": "9759427b-33ee-44e9-bbac-92c9e178ee0f",
   "metadata": {},
   "outputs": [],
   "source": [
    "correlation = melt(correlation)"
   ]
  },
  {
   "cell_type": "code",
   "execution_count": 119,
   "id": "98e30cce-a9f2-4787-bf09-41c94304175d",
   "metadata": {},
   "outputs": [],
   "source": [
    "correlation = correlation[correlation$Var1 != correlation$Var2,]  # remove diagonal entries"
   ]
  },
  {
   "cell_type": "code",
   "execution_count": 120,
   "id": "0e5f7797-aa5a-4bf1-8a9a-1150ff08355d",
   "metadata": {},
   "outputs": [],
   "source": [
    "colnames(correlation) = c('Factor_Config1', 'Factor_Config2', 'Pearson_Correlation')"
   ]
  },
  {
   "cell_type": "code",
   "execution_count": 121,
   "id": "876ca884-81db-409b-a98e-bf99c2a29680",
   "metadata": {},
   "outputs": [
    {
     "data": {
      "text/html": [
       "<table class=\"dataframe\">\n",
       "<caption>A data.frame: 2 × 3</caption>\n",
       "<thead>\n",
       "\t<tr><th></th><th scope=col>Factor_Config1</th><th scope=col>Factor_Config2</th><th scope=col>Pearson_Correlation</th></tr>\n",
       "\t<tr><th></th><th scope=col>&lt;fct&gt;</th><th scope=col>&lt;fct&gt;</th><th scope=col>&lt;dbl&gt;</th></tr>\n",
       "</thead>\n",
       "<tbody>\n",
       "\t<tr><th scope=row>2</th><td>Factor1_MI_v1_MOFA_10</td><td>Factor1_MI_v1_MOFA</td><td>0.9917842</td></tr>\n",
       "\t<tr><th scope=row>3</th><td>Factor1_MI_v1_MOFA_15</td><td>Factor1_MI_v1_MOFA</td><td>0.9992723</td></tr>\n",
       "</tbody>\n",
       "</table>\n"
      ],
      "text/latex": [
       "A data.frame: 2 × 3\n",
       "\\begin{tabular}{r|lll}\n",
       "  & Factor\\_Config1 & Factor\\_Config2 & Pearson\\_Correlation\\\\\n",
       "  & <fct> & <fct> & <dbl>\\\\\n",
       "\\hline\n",
       "\t2 & Factor1\\_MI\\_v1\\_MOFA\\_10 & Factor1\\_MI\\_v1\\_MOFA & 0.9917842\\\\\n",
       "\t3 & Factor1\\_MI\\_v1\\_MOFA\\_15 & Factor1\\_MI\\_v1\\_MOFA & 0.9992723\\\\\n",
       "\\end{tabular}\n"
      ],
      "text/markdown": [
       "\n",
       "A data.frame: 2 × 3\n",
       "\n",
       "| <!--/--> | Factor_Config1 &lt;fct&gt; | Factor_Config2 &lt;fct&gt; | Pearson_Correlation &lt;dbl&gt; |\n",
       "|---|---|---|---|\n",
       "| 2 | Factor1_MI_v1_MOFA_10 | Factor1_MI_v1_MOFA | 0.9917842 |\n",
       "| 3 | Factor1_MI_v1_MOFA_15 | Factor1_MI_v1_MOFA | 0.9992723 |\n",
       "\n"
      ],
      "text/plain": [
       "  Factor_Config1        Factor_Config2     Pearson_Correlation\n",
       "2 Factor1_MI_v1_MOFA_10 Factor1_MI_v1_MOFA 0.9917842          \n",
       "3 Factor1_MI_v1_MOFA_15 Factor1_MI_v1_MOFA 0.9992723          "
      ]
     },
     "metadata": {},
     "output_type": "display_data"
    }
   ],
   "source": [
    "head(correlation ,2)"
   ]
  },
  {
   "cell_type": "code",
   "execution_count": 122,
   "id": "458e070f-b066-4247-b386-21727c11cec3",
   "metadata": {},
   "outputs": [],
   "source": [
    "## Save result\n",
    "write.csv(correlation, paste0(result_path, '/07_results/07_Factor_Correlations',  '.csv'), row.names = FALSE)"
   ]
  },
  {
   "cell_type": "markdown",
   "id": "159c5730-d874-4b2b-b85d-195bb843bc7c",
   "metadata": {},
   "source": [
    "## Compare feature weights"
   ]
  },
  {
   "cell_type": "code",
   "execution_count": 123,
   "id": "0d67e5dd-77a3-4e08-a910-6d0ea6af7512",
   "metadata": {},
   "outputs": [],
   "source": [
    "## Compare the feature factor weights by correlating them (it is necessary that the features match between the different models)"
   ]
  },
  {
   "cell_type": "code",
   "execution_count": 124,
   "id": "2da7ab74-f820-4cea-a8d3-717daa6e070d",
   "metadata": {},
   "outputs": [],
   "source": [
    "weights = lapply(model_list, function(x){\n",
    "    get_weights(x, views = \"all\", factors = \"all\")\n",
    "    })"
   ]
  },
  {
   "cell_type": "code",
   "execution_count": 125,
   "id": "79918c38-9ef9-42c2-8fa4-7f4e54b311fd",
   "metadata": {},
   "outputs": [],
   "source": [
    "weight_data = data.frame()"
   ]
  },
  {
   "cell_type": "code",
   "execution_count": 126,
   "id": "c4ff1097-e7ad-428f-ab65-20c75315e0ab",
   "metadata": {
    "tags": []
   },
   "outputs": [
    {
     "name": "stderr",
     "output_type": "stream",
     "text": [
      "Using view, configuration, feature as id variables\n",
      "\n",
      "Using view, configuration, feature as id variables\n",
      "\n",
      "Using view, configuration, feature as id variables\n",
      "\n",
      "Using view, configuration, feature as id variables\n",
      "\n",
      "Using view, configuration, feature as id variables\n",
      "\n",
      "Using view, configuration, feature as id variables\n",
      "\n",
      "Using view, configuration, feature as id variables\n",
      "\n",
      "Using view, configuration, feature as id variables\n",
      "\n",
      "Using view, configuration, feature as id variables\n",
      "\n",
      "Using view, configuration, feature as id variables\n",
      "\n",
      "Using view, configuration, feature as id variables\n",
      "\n",
      "Using view, configuration, feature as id variables\n",
      "\n",
      "Using view, configuration, feature as id variables\n",
      "\n",
      "Using view, configuration, feature as id variables\n",
      "\n",
      "Using view, configuration, feature as id variables\n",
      "\n",
      "Using view, configuration, feature as id variables\n",
      "\n",
      "Using view, configuration, feature as id variables\n",
      "\n",
      "Using view, configuration, feature as id variables\n",
      "\n",
      "Using view, configuration, feature as id variables\n",
      "\n",
      "Using view, configuration, feature as id variables\n",
      "\n",
      "Using view, configuration, feature as id variables\n",
      "\n",
      "Using view, configuration, feature as id variables\n",
      "\n",
      "Using view, configuration, feature as id variables\n",
      "\n",
      "Using view, configuration, feature as id variables\n",
      "\n",
      "Using view, configuration, feature as id variables\n",
      "\n",
      "Using view, configuration, feature as id variables\n",
      "\n",
      "Using view, configuration, feature as id variables\n",
      "\n",
      "Using view, configuration, feature as id variables\n",
      "\n",
      "Using view, configuration, feature as id variables\n",
      "\n",
      "Using view, configuration, feature as id variables\n",
      "\n",
      "Using view, configuration, feature as id variables\n",
      "\n",
      "Using view, configuration, feature as id variables\n",
      "\n",
      "Using view, configuration, feature as id variables\n",
      "\n",
      "Using view, configuration, feature as id variables\n",
      "\n",
      "Using view, configuration, feature as id variables\n",
      "\n",
      "Using view, configuration, feature as id variables\n",
      "\n",
      "Using view, configuration, feature as id variables\n",
      "\n",
      "Using view, configuration, feature as id variables\n",
      "\n",
      "Using view, configuration, feature as id variables\n",
      "\n",
      "Using view, configuration, feature as id variables\n",
      "\n",
      "Using view, configuration, feature as id variables\n",
      "\n",
      "Using view, configuration, feature as id variables\n",
      "\n",
      "Using view, configuration, feature as id variables\n",
      "\n",
      "Using view, configuration, feature as id variables\n",
      "\n",
      "Using view, configuration, feature as id variables\n",
      "\n",
      "Using view, configuration, feature as id variables\n",
      "\n",
      "Using view, configuration, feature as id variables\n",
      "\n",
      "Using view, configuration, feature as id variables\n",
      "\n",
      "Using view, configuration, feature as id variables\n",
      "\n",
      "Using view, configuration, feature as id variables\n",
      "\n",
      "Using view, configuration, feature as id variables\n",
      "\n",
      "Using view, configuration, feature as id variables\n",
      "\n",
      "Using view, configuration, feature as id variables\n",
      "\n",
      "Using view, configuration, feature as id variables\n",
      "\n",
      "Using view, configuration, feature as id variables\n",
      "\n",
      "Using view, configuration, feature as id variables\n",
      "\n",
      "Using view, configuration, feature as id variables\n",
      "\n",
      "Using view, configuration, feature as id variables\n",
      "\n",
      "Using view, configuration, feature as id variables\n",
      "\n",
      "Using view, configuration, feature as id variables\n",
      "\n",
      "Using view, configuration, feature as id variables\n",
      "\n",
      "Using view, configuration, feature as id variables\n",
      "\n",
      "Using view, configuration, feature as id variables\n",
      "\n",
      "Using view, configuration, feature as id variables\n",
      "\n",
      "Using view, configuration, feature as id variables\n",
      "\n",
      "Using view, configuration, feature as id variables\n",
      "\n",
      "Using view, configuration, feature as id variables\n",
      "\n",
      "Using view, configuration, feature as id variables\n",
      "\n"
     ]
    }
   ],
   "source": [
    "for(j in names(weights)){\n",
    "    weights_factor_amount = weights[[j]]\n",
    "\n",
    "    for (i in names(weights_factor_amount)){\n",
    "        data = data.frame(weights_factor_amount[[i]])\n",
    "        data$view = i\n",
    "        data$configuration = j\n",
    "        data$feature = rownames(data)\n",
    "        \n",
    "        data = melt(data)\n",
    "        # filter on relevant factors for comparison\n",
    "        data = data[data$variable %in% unlist(str_split(comparison_configs$compare_factors[comparison_configs$mofa_result_name == j], ',')),]\n",
    "        \n",
    "        weight_data = rbind(weight_data,data)\n",
    "        }\n",
    "    }"
   ]
  },
  {
   "cell_type": "code",
   "execution_count": 127,
   "id": "d5a3b6de-192d-49b8-bf65-9d77dd2be6a9",
   "metadata": {
    "tags": []
   },
   "outputs": [
    {
     "data": {
      "text/html": [
       "<table class=\"dataframe\">\n",
       "<caption>A data.frame: 2 × 5</caption>\n",
       "<thead>\n",
       "\t<tr><th></th><th scope=col>view</th><th scope=col>configuration</th><th scope=col>feature</th><th scope=col>variable</th><th scope=col>value</th></tr>\n",
       "\t<tr><th></th><th scope=col>&lt;chr&gt;</th><th scope=col>&lt;chr&gt;</th><th scope=col>&lt;chr&gt;</th><th scope=col>&lt;fct&gt;</th><th scope=col>&lt;dbl&gt;</th></tr>\n",
       "</thead>\n",
       "<tbody>\n",
       "\t<tr><th scope=row>1</th><td>B.cell</td><td>MI_v1_MOFA</td><td>B.cell__ACTB </td><td>Factor1</td><td>-0.18622572</td></tr>\n",
       "\t<tr><th scope=row>2</th><td>B.cell</td><td>MI_v1_MOFA</td><td>B.cell__ACTG1</td><td>Factor1</td><td>-0.05929283</td></tr>\n",
       "</tbody>\n",
       "</table>\n"
      ],
      "text/latex": [
       "A data.frame: 2 × 5\n",
       "\\begin{tabular}{r|lllll}\n",
       "  & view & configuration & feature & variable & value\\\\\n",
       "  & <chr> & <chr> & <chr> & <fct> & <dbl>\\\\\n",
       "\\hline\n",
       "\t1 & B.cell & MI\\_v1\\_MOFA & B.cell\\_\\_ACTB  & Factor1 & -0.18622572\\\\\n",
       "\t2 & B.cell & MI\\_v1\\_MOFA & B.cell\\_\\_ACTG1 & Factor1 & -0.05929283\\\\\n",
       "\\end{tabular}\n"
      ],
      "text/markdown": [
       "\n",
       "A data.frame: 2 × 5\n",
       "\n",
       "| <!--/--> | view &lt;chr&gt; | configuration &lt;chr&gt; | feature &lt;chr&gt; | variable &lt;fct&gt; | value &lt;dbl&gt; |\n",
       "|---|---|---|---|---|---|\n",
       "| 1 | B.cell | MI_v1_MOFA | B.cell__ACTB  | Factor1 | -0.18622572 |\n",
       "| 2 | B.cell | MI_v1_MOFA | B.cell__ACTG1 | Factor1 | -0.05929283 |\n",
       "\n"
      ],
      "text/plain": [
       "  view   configuration feature       variable value      \n",
       "1 B.cell MI_v1_MOFA    B.cell__ACTB  Factor1  -0.18622572\n",
       "2 B.cell MI_v1_MOFA    B.cell__ACTG1 Factor1  -0.05929283"
      ]
     },
     "metadata": {},
     "output_type": "display_data"
    }
   ],
   "source": [
    "head(weight_data,2)"
   ]
  },
  {
   "cell_type": "code",
   "execution_count": 128,
   "id": "ebbf42ea-7242-4629-9e47-1816a44be74b",
   "metadata": {},
   "outputs": [],
   "source": [
    "weight_data$configuration = paste0(weight_data$variable, '_',weight_data$configuration)\n",
    "weight_data$view_feature = paste0(weight_data$view, '__', weight_data$feature)\n",
    "weight_data$view_feature =  str_replace_all(weight_data$view_feature, ' ', '')\n",
    "weight_data$view_feature = str_replace_all(weight_data$view_feature, '\\\\.', '')"
   ]
  },
  {
   "cell_type": "code",
   "execution_count": 129,
   "id": "84834857-8f4b-45ea-9e59-62a44fc401c2",
   "metadata": {},
   "outputs": [
    {
     "data": {
      "text/html": [
       "<table class=\"dataframe\">\n",
       "<caption>A data.frame: 2 × 6</caption>\n",
       "<thead>\n",
       "\t<tr><th></th><th scope=col>view</th><th scope=col>configuration</th><th scope=col>feature</th><th scope=col>variable</th><th scope=col>value</th><th scope=col>view_feature</th></tr>\n",
       "\t<tr><th></th><th scope=col>&lt;chr&gt;</th><th scope=col>&lt;chr&gt;</th><th scope=col>&lt;chr&gt;</th><th scope=col>&lt;fct&gt;</th><th scope=col>&lt;dbl&gt;</th><th scope=col>&lt;chr&gt;</th></tr>\n",
       "</thead>\n",
       "<tbody>\n",
       "\t<tr><th scope=row>1</th><td>B.cell</td><td>Factor1_MI_v1_MOFA</td><td>B.cell__ACTB </td><td>Factor1</td><td>-0.18622572</td><td>Bcell__Bcell__ACTB </td></tr>\n",
       "\t<tr><th scope=row>2</th><td>B.cell</td><td>Factor1_MI_v1_MOFA</td><td>B.cell__ACTG1</td><td>Factor1</td><td>-0.05929283</td><td>Bcell__Bcell__ACTG1</td></tr>\n",
       "</tbody>\n",
       "</table>\n"
      ],
      "text/latex": [
       "A data.frame: 2 × 6\n",
       "\\begin{tabular}{r|llllll}\n",
       "  & view & configuration & feature & variable & value & view\\_feature\\\\\n",
       "  & <chr> & <chr> & <chr> & <fct> & <dbl> & <chr>\\\\\n",
       "\\hline\n",
       "\t1 & B.cell & Factor1\\_MI\\_v1\\_MOFA & B.cell\\_\\_ACTB  & Factor1 & -0.18622572 & Bcell\\_\\_Bcell\\_\\_ACTB \\\\\n",
       "\t2 & B.cell & Factor1\\_MI\\_v1\\_MOFA & B.cell\\_\\_ACTG1 & Factor1 & -0.05929283 & Bcell\\_\\_Bcell\\_\\_ACTG1\\\\\n",
       "\\end{tabular}\n"
      ],
      "text/markdown": [
       "\n",
       "A data.frame: 2 × 6\n",
       "\n",
       "| <!--/--> | view &lt;chr&gt; | configuration &lt;chr&gt; | feature &lt;chr&gt; | variable &lt;fct&gt; | value &lt;dbl&gt; | view_feature &lt;chr&gt; |\n",
       "|---|---|---|---|---|---|---|\n",
       "| 1 | B.cell | Factor1_MI_v1_MOFA | B.cell__ACTB  | Factor1 | -0.18622572 | Bcell__Bcell__ACTB  |\n",
       "| 2 | B.cell | Factor1_MI_v1_MOFA | B.cell__ACTG1 | Factor1 | -0.05929283 | Bcell__Bcell__ACTG1 |\n",
       "\n"
      ],
      "text/plain": [
       "  view   configuration      feature       variable value      \n",
       "1 B.cell Factor1_MI_v1_MOFA B.cell__ACTB  Factor1  -0.18622572\n",
       "2 B.cell Factor1_MI_v1_MOFA B.cell__ACTG1 Factor1  -0.05929283\n",
       "  view_feature       \n",
       "1 Bcell__Bcell__ACTB \n",
       "2 Bcell__Bcell__ACTG1"
      ]
     },
     "metadata": {},
     "output_type": "display_data"
    }
   ],
   "source": [
    "head(weight_data,2)"
   ]
  },
  {
   "cell_type": "code",
   "execution_count": 130,
   "id": "6fe9d7a0-0c93-4ac8-a549-3d0a8c719d3e",
   "metadata": {},
   "outputs": [],
   "source": [
    "cor_data = weight_data %>% dcast(view_feature ~ configuration, value.var = 'value')"
   ]
  },
  {
   "cell_type": "code",
   "execution_count": 131,
   "id": "a8690aea-a2dc-46c5-a62a-846872c706c3",
   "metadata": {},
   "outputs": [
    {
     "data": {
      "text/html": [
       "<table class=\"dataframe\">\n",
       "<caption>A data.frame: 2 × 21</caption>\n",
       "<thead>\n",
       "\t<tr><th></th><th scope=col>view_feature</th><th scope=col>Factor1_MI_v1_MOFA</th><th scope=col>Factor1_MI_v1_MOFA_10</th><th scope=col>Factor1_MI_v1_MOFA_15</th><th scope=col>Factor1_MI_v1_MOFA_25</th><th scope=col>Factor2_MI_v1_MOFA</th><th scope=col>Factor2_MI_v1_MOFA_10</th><th scope=col>Factor2_MI_v1_MOFA_15</th><th scope=col>Factor2_MI_v1_MOFA_25</th><th scope=col>Factor3_MI_v1_MOFA</th><th scope=col>⋯</th><th scope=col>Factor3_MI_v1_MOFA_15</th><th scope=col>Factor3_MI_v1_MOFA_25</th><th scope=col>Factor4_MI_v1_MOFA</th><th scope=col>Factor4_MI_v1_MOFA_10</th><th scope=col>Factor4_MI_v1_MOFA_15</th><th scope=col>Factor4_MI_v1_MOFA_25</th><th scope=col>Factor5_MI_v1_MOFA</th><th scope=col>Factor5_MI_v1_MOFA_10</th><th scope=col>Factor5_MI_v1_MOFA_15</th><th scope=col>Factor5_MI_v1_MOFA_25</th></tr>\n",
       "\t<tr><th></th><th scope=col>&lt;chr&gt;</th><th scope=col>&lt;dbl&gt;</th><th scope=col>&lt;dbl&gt;</th><th scope=col>&lt;dbl&gt;</th><th scope=col>&lt;dbl&gt;</th><th scope=col>&lt;dbl&gt;</th><th scope=col>&lt;dbl&gt;</th><th scope=col>&lt;dbl&gt;</th><th scope=col>&lt;dbl&gt;</th><th scope=col>&lt;dbl&gt;</th><th scope=col>⋯</th><th scope=col>&lt;dbl&gt;</th><th scope=col>&lt;dbl&gt;</th><th scope=col>&lt;dbl&gt;</th><th scope=col>&lt;dbl&gt;</th><th scope=col>&lt;dbl&gt;</th><th scope=col>&lt;dbl&gt;</th><th scope=col>&lt;dbl&gt;</th><th scope=col>&lt;dbl&gt;</th><th scope=col>&lt;dbl&gt;</th><th scope=col>&lt;dbl&gt;</th></tr>\n",
       "</thead>\n",
       "<tbody>\n",
       "\t<tr><th scope=row>1</th><td>Bcell__Bcell__ACTB </td><td>-0.18622572</td><td>-0.14889293</td><td>-0.17715216</td><td>-0.1687454</td><td> 0.2532893</td><td>0.28560919</td><td> 0.2579995</td><td> 0.2543167</td><td>0.1664119</td><td>⋯</td><td>0.1274168</td><td>0.1784684</td><td>-0.052115239</td><td>-0.08084082</td><td>-0.073455153</td><td>-0.05960435</td><td>-0.1285090</td><td> 3.363583e-02</td><td>-0.07004255</td><td>-0.1827076</td></tr>\n",
       "\t<tr><th scope=row>2</th><td>Bcell__Bcell__ACTG1</td><td>-0.05929283</td><td>-0.02043719</td><td>-0.05333556</td><td>-0.0464000</td><td>-0.0210286</td><td>0.01072397</td><td>-0.0209563</td><td>-0.0225373</td><td>0.1294170</td><td>⋯</td><td>0.1283897</td><td>0.1553799</td><td>-0.006415541</td><td>-0.01441073</td><td> 0.001627082</td><td> 0.01020229</td><td>-0.1012587</td><td>-7.926349e-05</td><td>-0.06687017</td><td>-0.1193687</td></tr>\n",
       "</tbody>\n",
       "</table>\n"
      ],
      "text/latex": [
       "A data.frame: 2 × 21\n",
       "\\begin{tabular}{r|lllllllllllllllllllll}\n",
       "  & view\\_feature & Factor1\\_MI\\_v1\\_MOFA & Factor1\\_MI\\_v1\\_MOFA\\_10 & Factor1\\_MI\\_v1\\_MOFA\\_15 & Factor1\\_MI\\_v1\\_MOFA\\_25 & Factor2\\_MI\\_v1\\_MOFA & Factor2\\_MI\\_v1\\_MOFA\\_10 & Factor2\\_MI\\_v1\\_MOFA\\_15 & Factor2\\_MI\\_v1\\_MOFA\\_25 & Factor3\\_MI\\_v1\\_MOFA & ⋯ & Factor3\\_MI\\_v1\\_MOFA\\_15 & Factor3\\_MI\\_v1\\_MOFA\\_25 & Factor4\\_MI\\_v1\\_MOFA & Factor4\\_MI\\_v1\\_MOFA\\_10 & Factor4\\_MI\\_v1\\_MOFA\\_15 & Factor4\\_MI\\_v1\\_MOFA\\_25 & Factor5\\_MI\\_v1\\_MOFA & Factor5\\_MI\\_v1\\_MOFA\\_10 & Factor5\\_MI\\_v1\\_MOFA\\_15 & Factor5\\_MI\\_v1\\_MOFA\\_25\\\\\n",
       "  & <chr> & <dbl> & <dbl> & <dbl> & <dbl> & <dbl> & <dbl> & <dbl> & <dbl> & <dbl> & ⋯ & <dbl> & <dbl> & <dbl> & <dbl> & <dbl> & <dbl> & <dbl> & <dbl> & <dbl> & <dbl>\\\\\n",
       "\\hline\n",
       "\t1 & Bcell\\_\\_Bcell\\_\\_ACTB  & -0.18622572 & -0.14889293 & -0.17715216 & -0.1687454 &  0.2532893 & 0.28560919 &  0.2579995 &  0.2543167 & 0.1664119 & ⋯ & 0.1274168 & 0.1784684 & -0.052115239 & -0.08084082 & -0.073455153 & -0.05960435 & -0.1285090 &  3.363583e-02 & -0.07004255 & -0.1827076\\\\\n",
       "\t2 & Bcell\\_\\_Bcell\\_\\_ACTG1 & -0.05929283 & -0.02043719 & -0.05333556 & -0.0464000 & -0.0210286 & 0.01072397 & -0.0209563 & -0.0225373 & 0.1294170 & ⋯ & 0.1283897 & 0.1553799 & -0.006415541 & -0.01441073 &  0.001627082 &  0.01020229 & -0.1012587 & -7.926349e-05 & -0.06687017 & -0.1193687\\\\\n",
       "\\end{tabular}\n"
      ],
      "text/markdown": [
       "\n",
       "A data.frame: 2 × 21\n",
       "\n",
       "| <!--/--> | view_feature &lt;chr&gt; | Factor1_MI_v1_MOFA &lt;dbl&gt; | Factor1_MI_v1_MOFA_10 &lt;dbl&gt; | Factor1_MI_v1_MOFA_15 &lt;dbl&gt; | Factor1_MI_v1_MOFA_25 &lt;dbl&gt; | Factor2_MI_v1_MOFA &lt;dbl&gt; | Factor2_MI_v1_MOFA_10 &lt;dbl&gt; | Factor2_MI_v1_MOFA_15 &lt;dbl&gt; | Factor2_MI_v1_MOFA_25 &lt;dbl&gt; | Factor3_MI_v1_MOFA &lt;dbl&gt; | ⋯ ⋯ | Factor3_MI_v1_MOFA_15 &lt;dbl&gt; | Factor3_MI_v1_MOFA_25 &lt;dbl&gt; | Factor4_MI_v1_MOFA &lt;dbl&gt; | Factor4_MI_v1_MOFA_10 &lt;dbl&gt; | Factor4_MI_v1_MOFA_15 &lt;dbl&gt; | Factor4_MI_v1_MOFA_25 &lt;dbl&gt; | Factor5_MI_v1_MOFA &lt;dbl&gt; | Factor5_MI_v1_MOFA_10 &lt;dbl&gt; | Factor5_MI_v1_MOFA_15 &lt;dbl&gt; | Factor5_MI_v1_MOFA_25 &lt;dbl&gt; |\n",
       "|---|---|---|---|---|---|---|---|---|---|---|---|---|---|---|---|---|---|---|---|---|---|\n",
       "| 1 | Bcell__Bcell__ACTB  | -0.18622572 | -0.14889293 | -0.17715216 | -0.1687454 |  0.2532893 | 0.28560919 |  0.2579995 |  0.2543167 | 0.1664119 | ⋯ | 0.1274168 | 0.1784684 | -0.052115239 | -0.08084082 | -0.073455153 | -0.05960435 | -0.1285090 |  3.363583e-02 | -0.07004255 | -0.1827076 |\n",
       "| 2 | Bcell__Bcell__ACTG1 | -0.05929283 | -0.02043719 | -0.05333556 | -0.0464000 | -0.0210286 | 0.01072397 | -0.0209563 | -0.0225373 | 0.1294170 | ⋯ | 0.1283897 | 0.1553799 | -0.006415541 | -0.01441073 |  0.001627082 |  0.01020229 | -0.1012587 | -7.926349e-05 | -0.06687017 | -0.1193687 |\n",
       "\n"
      ],
      "text/plain": [
       "  view_feature        Factor1_MI_v1_MOFA Factor1_MI_v1_MOFA_10\n",
       "1 Bcell__Bcell__ACTB  -0.18622572        -0.14889293          \n",
       "2 Bcell__Bcell__ACTG1 -0.05929283        -0.02043719          \n",
       "  Factor1_MI_v1_MOFA_15 Factor1_MI_v1_MOFA_25 Factor2_MI_v1_MOFA\n",
       "1 -0.17715216           -0.1687454             0.2532893        \n",
       "2 -0.05333556           -0.0464000            -0.0210286        \n",
       "  Factor2_MI_v1_MOFA_10 Factor2_MI_v1_MOFA_15 Factor2_MI_v1_MOFA_25\n",
       "1 0.28560919             0.2579995             0.2543167           \n",
       "2 0.01072397            -0.0209563            -0.0225373           \n",
       "  Factor3_MI_v1_MOFA ⋯ Factor3_MI_v1_MOFA_15 Factor3_MI_v1_MOFA_25\n",
       "1 0.1664119          ⋯ 0.1274168             0.1784684            \n",
       "2 0.1294170          ⋯ 0.1283897             0.1553799            \n",
       "  Factor4_MI_v1_MOFA Factor4_MI_v1_MOFA_10 Factor4_MI_v1_MOFA_15\n",
       "1 -0.052115239       -0.08084082           -0.073455153         \n",
       "2 -0.006415541       -0.01441073            0.001627082         \n",
       "  Factor4_MI_v1_MOFA_25 Factor5_MI_v1_MOFA Factor5_MI_v1_MOFA_10\n",
       "1 -0.05960435           -0.1285090          3.363583e-02        \n",
       "2  0.01020229           -0.1012587         -7.926349e-05        \n",
       "  Factor5_MI_v1_MOFA_15 Factor5_MI_v1_MOFA_25\n",
       "1 -0.07004255           -0.1827076           \n",
       "2 -0.06687017           -0.1193687           "
      ]
     },
     "metadata": {},
     "output_type": "display_data"
    }
   ],
   "source": [
    "head(cor_data,2)"
   ]
  },
  {
   "cell_type": "code",
   "execution_count": 132,
   "id": "26f041dd-ab08-43e1-9db2-f8bed7152929",
   "metadata": {},
   "outputs": [],
   "source": [
    "cor_data$view_feature = NULL\n",
    "correlation = cor(cor_data, use = 'pairwise.complete.obs')"
   ]
  },
  {
   "cell_type": "code",
   "execution_count": 133,
   "id": "50cdd0a5-199a-4da4-8043-64cd7c693892",
   "metadata": {},
   "outputs": [
    {
     "data": {
      "text/html": [
       "<table class=\"dataframe\">\n",
       "<caption>A matrix: 2 × 20 of type dbl</caption>\n",
       "<thead>\n",
       "\t<tr><th></th><th scope=col>Factor1_MI_v1_MOFA</th><th scope=col>Factor1_MI_v1_MOFA_10</th><th scope=col>Factor1_MI_v1_MOFA_15</th><th scope=col>Factor1_MI_v1_MOFA_25</th><th scope=col>Factor2_MI_v1_MOFA</th><th scope=col>Factor2_MI_v1_MOFA_10</th><th scope=col>Factor2_MI_v1_MOFA_15</th><th scope=col>Factor2_MI_v1_MOFA_25</th><th scope=col>Factor3_MI_v1_MOFA</th><th scope=col>Factor3_MI_v1_MOFA_10</th><th scope=col>Factor3_MI_v1_MOFA_15</th><th scope=col>Factor3_MI_v1_MOFA_25</th><th scope=col>Factor4_MI_v1_MOFA</th><th scope=col>Factor4_MI_v1_MOFA_10</th><th scope=col>Factor4_MI_v1_MOFA_15</th><th scope=col>Factor4_MI_v1_MOFA_25</th><th scope=col>Factor5_MI_v1_MOFA</th><th scope=col>Factor5_MI_v1_MOFA_10</th><th scope=col>Factor5_MI_v1_MOFA_15</th><th scope=col>Factor5_MI_v1_MOFA_25</th></tr>\n",
       "</thead>\n",
       "<tbody>\n",
       "\t<tr><th scope=row>Factor1_MI_v1_MOFA</th><td>1.0000000</td><td>0.9951273</td><td>0.9996448</td><td>0.9982365</td><td>-0.04343067</td><td>-0.02189787</td><td>-0.05714933</td><td>-0.02801734</td><td>-0.04015491</td><td>-0.07291318</td><td>-0.04537929</td><td>-0.015137841</td><td>-0.06078813</td><td>-0.11835754</td><td>-0.06902499</td><td>-0.06229357</td><td>0.02361604</td><td>-0.04000875</td><td>0.03371613</td><td>0.02534697</td></tr>\n",
       "\t<tr><th scope=row>Factor1_MI_v1_MOFA_10</th><td>0.9951273</td><td>1.0000000</td><td>0.9954975</td><td>0.9970414</td><td>-0.05843081</td><td>-0.03199902</td><td>-0.07216818</td><td>-0.04226530</td><td>-0.02925894</td><td>-0.05745440</td><td>-0.03375204</td><td>-0.003197549</td><td>-0.02550850</td><td>-0.08166777</td><td>-0.03528404</td><td>-0.02823617</td><td>0.02681204</td><td>-0.05048719</td><td>0.03692064</td><td>0.02795384</td></tr>\n",
       "</tbody>\n",
       "</table>\n"
      ],
      "text/latex": [
       "A matrix: 2 × 20 of type dbl\n",
       "\\begin{tabular}{r|llllllllllllllllllll}\n",
       "  & Factor1\\_MI\\_v1\\_MOFA & Factor1\\_MI\\_v1\\_MOFA\\_10 & Factor1\\_MI\\_v1\\_MOFA\\_15 & Factor1\\_MI\\_v1\\_MOFA\\_25 & Factor2\\_MI\\_v1\\_MOFA & Factor2\\_MI\\_v1\\_MOFA\\_10 & Factor2\\_MI\\_v1\\_MOFA\\_15 & Factor2\\_MI\\_v1\\_MOFA\\_25 & Factor3\\_MI\\_v1\\_MOFA & Factor3\\_MI\\_v1\\_MOFA\\_10 & Factor3\\_MI\\_v1\\_MOFA\\_15 & Factor3\\_MI\\_v1\\_MOFA\\_25 & Factor4\\_MI\\_v1\\_MOFA & Factor4\\_MI\\_v1\\_MOFA\\_10 & Factor4\\_MI\\_v1\\_MOFA\\_15 & Factor4\\_MI\\_v1\\_MOFA\\_25 & Factor5\\_MI\\_v1\\_MOFA & Factor5\\_MI\\_v1\\_MOFA\\_10 & Factor5\\_MI\\_v1\\_MOFA\\_15 & Factor5\\_MI\\_v1\\_MOFA\\_25\\\\\n",
       "\\hline\n",
       "\tFactor1\\_MI\\_v1\\_MOFA & 1.0000000 & 0.9951273 & 0.9996448 & 0.9982365 & -0.04343067 & -0.02189787 & -0.05714933 & -0.02801734 & -0.04015491 & -0.07291318 & -0.04537929 & -0.015137841 & -0.06078813 & -0.11835754 & -0.06902499 & -0.06229357 & 0.02361604 & -0.04000875 & 0.03371613 & 0.02534697\\\\\n",
       "\tFactor1\\_MI\\_v1\\_MOFA\\_10 & 0.9951273 & 1.0000000 & 0.9954975 & 0.9970414 & -0.05843081 & -0.03199902 & -0.07216818 & -0.04226530 & -0.02925894 & -0.05745440 & -0.03375204 & -0.003197549 & -0.02550850 & -0.08166777 & -0.03528404 & -0.02823617 & 0.02681204 & -0.05048719 & 0.03692064 & 0.02795384\\\\\n",
       "\\end{tabular}\n"
      ],
      "text/markdown": [
       "\n",
       "A matrix: 2 × 20 of type dbl\n",
       "\n",
       "| <!--/--> | Factor1_MI_v1_MOFA | Factor1_MI_v1_MOFA_10 | Factor1_MI_v1_MOFA_15 | Factor1_MI_v1_MOFA_25 | Factor2_MI_v1_MOFA | Factor2_MI_v1_MOFA_10 | Factor2_MI_v1_MOFA_15 | Factor2_MI_v1_MOFA_25 | Factor3_MI_v1_MOFA | Factor3_MI_v1_MOFA_10 | Factor3_MI_v1_MOFA_15 | Factor3_MI_v1_MOFA_25 | Factor4_MI_v1_MOFA | Factor4_MI_v1_MOFA_10 | Factor4_MI_v1_MOFA_15 | Factor4_MI_v1_MOFA_25 | Factor5_MI_v1_MOFA | Factor5_MI_v1_MOFA_10 | Factor5_MI_v1_MOFA_15 | Factor5_MI_v1_MOFA_25 |\n",
       "|---|---|---|---|---|---|---|---|---|---|---|---|---|---|---|---|---|---|---|---|---|\n",
       "| Factor1_MI_v1_MOFA | 1.0000000 | 0.9951273 | 0.9996448 | 0.9982365 | -0.04343067 | -0.02189787 | -0.05714933 | -0.02801734 | -0.04015491 | -0.07291318 | -0.04537929 | -0.015137841 | -0.06078813 | -0.11835754 | -0.06902499 | -0.06229357 | 0.02361604 | -0.04000875 | 0.03371613 | 0.02534697 |\n",
       "| Factor1_MI_v1_MOFA_10 | 0.9951273 | 1.0000000 | 0.9954975 | 0.9970414 | -0.05843081 | -0.03199902 | -0.07216818 | -0.04226530 | -0.02925894 | -0.05745440 | -0.03375204 | -0.003197549 | -0.02550850 | -0.08166777 | -0.03528404 | -0.02823617 | 0.02681204 | -0.05048719 | 0.03692064 | 0.02795384 |\n",
       "\n"
      ],
      "text/plain": [
       "                      Factor1_MI_v1_MOFA Factor1_MI_v1_MOFA_10\n",
       "Factor1_MI_v1_MOFA    1.0000000          0.9951273            \n",
       "Factor1_MI_v1_MOFA_10 0.9951273          1.0000000            \n",
       "                      Factor1_MI_v1_MOFA_15 Factor1_MI_v1_MOFA_25\n",
       "Factor1_MI_v1_MOFA    0.9996448             0.9982365            \n",
       "Factor1_MI_v1_MOFA_10 0.9954975             0.9970414            \n",
       "                      Factor2_MI_v1_MOFA Factor2_MI_v1_MOFA_10\n",
       "Factor1_MI_v1_MOFA    -0.04343067        -0.02189787          \n",
       "Factor1_MI_v1_MOFA_10 -0.05843081        -0.03199902          \n",
       "                      Factor2_MI_v1_MOFA_15 Factor2_MI_v1_MOFA_25\n",
       "Factor1_MI_v1_MOFA    -0.05714933           -0.02801734          \n",
       "Factor1_MI_v1_MOFA_10 -0.07216818           -0.04226530          \n",
       "                      Factor3_MI_v1_MOFA Factor3_MI_v1_MOFA_10\n",
       "Factor1_MI_v1_MOFA    -0.04015491        -0.07291318          \n",
       "Factor1_MI_v1_MOFA_10 -0.02925894        -0.05745440          \n",
       "                      Factor3_MI_v1_MOFA_15 Factor3_MI_v1_MOFA_25\n",
       "Factor1_MI_v1_MOFA    -0.04537929           -0.015137841         \n",
       "Factor1_MI_v1_MOFA_10 -0.03375204           -0.003197549         \n",
       "                      Factor4_MI_v1_MOFA Factor4_MI_v1_MOFA_10\n",
       "Factor1_MI_v1_MOFA    -0.06078813        -0.11835754          \n",
       "Factor1_MI_v1_MOFA_10 -0.02550850        -0.08166777          \n",
       "                      Factor4_MI_v1_MOFA_15 Factor4_MI_v1_MOFA_25\n",
       "Factor1_MI_v1_MOFA    -0.06902499           -0.06229357          \n",
       "Factor1_MI_v1_MOFA_10 -0.03528404           -0.02823617          \n",
       "                      Factor5_MI_v1_MOFA Factor5_MI_v1_MOFA_10\n",
       "Factor1_MI_v1_MOFA    0.02361604         -0.04000875          \n",
       "Factor1_MI_v1_MOFA_10 0.02681204         -0.05048719          \n",
       "                      Factor5_MI_v1_MOFA_15 Factor5_MI_v1_MOFA_25\n",
       "Factor1_MI_v1_MOFA    0.03371613            0.02534697           \n",
       "Factor1_MI_v1_MOFA_10 0.03692064            0.02795384           "
      ]
     },
     "metadata": {},
     "output_type": "display_data"
    }
   ],
   "source": [
    "head(correlation,2)"
   ]
  },
  {
   "cell_type": "code",
   "execution_count": 134,
   "id": "ff896574-27a3-4ba5-95d0-f5e89b52697b",
   "metadata": {},
   "outputs": [],
   "source": [
    "figure_name = paste0(\"FIG07_Feature_Correlations\")"
   ]
  },
  {
   "cell_type": "code",
   "execution_count": 135,
   "id": "8ffa4b03-0812-4a06-88e5-00caaf424a4c",
   "metadata": {},
   "outputs": [],
   "source": [
    "# Sizes of the plot\n",
    "width_par = 8\n",
    "height_par =5"
   ]
  },
  {
   "cell_type": "code",
   "execution_count": 136,
   "id": "c8863706-fa41-48d5-829d-66a7dd9bbec3",
   "metadata": {},
   "outputs": [
    {
     "data": {
      "text/plain": [
       "NULL"
      ]
     },
     "metadata": {},
     "output_type": "display_data"
    },
    {
     "data": {
      "text/html": [
       "<strong>png:</strong> 2"
      ],
      "text/latex": [
       "\\textbf{png:} 2"
      ],
      "text/markdown": [
       "**png:** 2"
      ],
      "text/plain": [
       "png \n",
       "  2 "
      ]
     },
     "metadata": {},
     "output_type": "display_data"
    }
   ],
   "source": [
    "options(repr.plot.width=40, repr.plot.height=20)\n",
    "pdf(paste0('figures/07_figures/', figure_name, '.pdf'), width =width_par, height =height_par)\n",
    "corrplot(correlation, method = 'number',  type = 'lower', col = COL2('BrBG'), tl.col = 'black', tl.cex = 0.6, tl.srt = 90, number.cex = 0.4, tl.offset = 0.2, diag = FALSE) + plot_config + theme(text = element_text(size = 5))\n",
    "dev.off()"
   ]
  },
  {
   "cell_type": "code",
   "execution_count": 137,
   "id": "0929eb76-cbf5-4e01-b534-80e77fdd09db",
   "metadata": {},
   "outputs": [],
   "source": [
    "## Generate Table"
   ]
  },
  {
   "cell_type": "code",
   "execution_count": 138,
   "id": "08db2e8a-f536-4125-9a3f-59b1c5137177",
   "metadata": {},
   "outputs": [],
   "source": [
    "correlation = melt(correlation)"
   ]
  },
  {
   "cell_type": "code",
   "execution_count": 139,
   "id": "59c53b8c-14b0-415a-89fd-d992baf52ce5",
   "metadata": {},
   "outputs": [],
   "source": [
    "correlation = correlation[correlation$Var1 != correlation$Var2,]  # remove diagonal entries"
   ]
  },
  {
   "cell_type": "code",
   "execution_count": 140,
   "id": "c342af83-6a50-437c-a724-f44b5caf9f76",
   "metadata": {},
   "outputs": [],
   "source": [
    "colnames(correlation) = c('Factor_Config1', 'Factor_Config2', 'Pearson_Correlation')"
   ]
  },
  {
   "cell_type": "code",
   "execution_count": 141,
   "id": "6267bdcc-fd92-4724-beef-947b6212e53d",
   "metadata": {},
   "outputs": [
    {
     "data": {
      "text/html": [
       "<table class=\"dataframe\">\n",
       "<caption>A data.frame: 2 × 3</caption>\n",
       "<thead>\n",
       "\t<tr><th></th><th scope=col>Factor_Config1</th><th scope=col>Factor_Config2</th><th scope=col>Pearson_Correlation</th></tr>\n",
       "\t<tr><th></th><th scope=col>&lt;fct&gt;</th><th scope=col>&lt;fct&gt;</th><th scope=col>&lt;dbl&gt;</th></tr>\n",
       "</thead>\n",
       "<tbody>\n",
       "\t<tr><th scope=row>2</th><td>Factor1_MI_v1_MOFA_10</td><td>Factor1_MI_v1_MOFA</td><td>0.9951273</td></tr>\n",
       "\t<tr><th scope=row>3</th><td>Factor1_MI_v1_MOFA_15</td><td>Factor1_MI_v1_MOFA</td><td>0.9996448</td></tr>\n",
       "</tbody>\n",
       "</table>\n"
      ],
      "text/latex": [
       "A data.frame: 2 × 3\n",
       "\\begin{tabular}{r|lll}\n",
       "  & Factor\\_Config1 & Factor\\_Config2 & Pearson\\_Correlation\\\\\n",
       "  & <fct> & <fct> & <dbl>\\\\\n",
       "\\hline\n",
       "\t2 & Factor1\\_MI\\_v1\\_MOFA\\_10 & Factor1\\_MI\\_v1\\_MOFA & 0.9951273\\\\\n",
       "\t3 & Factor1\\_MI\\_v1\\_MOFA\\_15 & Factor1\\_MI\\_v1\\_MOFA & 0.9996448\\\\\n",
       "\\end{tabular}\n"
      ],
      "text/markdown": [
       "\n",
       "A data.frame: 2 × 3\n",
       "\n",
       "| <!--/--> | Factor_Config1 &lt;fct&gt; | Factor_Config2 &lt;fct&gt; | Pearson_Correlation &lt;dbl&gt; |\n",
       "|---|---|---|---|\n",
       "| 2 | Factor1_MI_v1_MOFA_10 | Factor1_MI_v1_MOFA | 0.9951273 |\n",
       "| 3 | Factor1_MI_v1_MOFA_15 | Factor1_MI_v1_MOFA | 0.9996448 |\n",
       "\n"
      ],
      "text/plain": [
       "  Factor_Config1        Factor_Config2     Pearson_Correlation\n",
       "2 Factor1_MI_v1_MOFA_10 Factor1_MI_v1_MOFA 0.9951273          \n",
       "3 Factor1_MI_v1_MOFA_15 Factor1_MI_v1_MOFA 0.9996448          "
      ]
     },
     "metadata": {},
     "output_type": "display_data"
    }
   ],
   "source": [
    "head(correlation ,2)"
   ]
  },
  {
   "cell_type": "code",
   "execution_count": 142,
   "id": "3121ce6b-00eb-46ae-ab5a-2cb9d49ddbcf",
   "metadata": {},
   "outputs": [],
   "source": [
    "## Save result\n",
    "write.csv(correlation, paste0(result_path, '/07_results/07_Feature_Correlations',  '.csv'), row.names = FALSE)"
   ]
  },
  {
   "cell_type": "code",
   "execution_count": null,
   "id": "88197e31-294f-4772-9c92-aacb7e4333ee",
   "metadata": {},
   "outputs": [],
   "source": []
  },
  {
   "cell_type": "code",
   "execution_count": null,
   "id": "0513fb4a-08a1-432b-b6b5-b982a14d6dbe",
   "metadata": {},
   "outputs": [],
   "source": [
    "### Inform about execution finalization\n",
    "popup_function_pos('07_Compare_Models: Execution Finished')"
   ]
  },
  {
   "cell_type": "code",
   "execution_count": null,
   "id": "e772c98e-4ebf-45cf-8ba0-0cc21f108d72",
   "metadata": {},
   "outputs": [],
   "source": [
    "Sys.sleep(20)\n",
    "popup_function_info('07_Compare_Models')"
   ]
  }
 ],
 "metadata": {
  "kernelspec": {
   "display_name": "R",
   "language": "R",
   "name": "ir"
  },
  "language_info": {
   "codemirror_mode": "r",
   "file_extension": ".r",
   "mimetype": "text/x-r-source",
   "name": "R",
   "pygments_lexer": "r",
   "version": "4.3.2"
  },
  "toc-autonumbering": true
 },
 "nbformat": 4,
 "nbformat_minor": 5
}
