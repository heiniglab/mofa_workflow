{
 "cells": [
  {
   "cell_type": "code",
   "execution_count": 1,
   "id": "d182c426-4d95-4dee-a099-cd923e9437d7",
   "metadata": {
    "tags": []
   },
   "outputs": [],
   "source": [
    "### Evaluate the results from different configurations and compare them"
   ]
  },
  {
   "cell_type": "markdown",
   "id": "213d69de-4705-4a6e-9387-b1a3413172eb",
   "metadata": {
    "tags": []
   },
   "source": [
    "#############################################\n",
    "# Prerequisites - Load Libraries"
   ]
  },
  {
   "cell_type": "code",
   "execution_count": null,
   "id": "e0e058c4-79b7-4950-b23f-807281963e53",
   "metadata": {
    "tags": []
   },
   "outputs": [
    {
     "name": "stderr",
     "output_type": "stream",
     "text": [
      "Warning message in read.table(file = file, header = header, sep = sep, quote = quote, :\n",
      "“incomplete final line found by readTableHeader on '../conda_environment/Environment_Configs.csv'”\n"
     ]
    },
    {
     "name": "stdout",
     "output_type": "stream",
     "text": [
      "[1] \"/home/icb/corinna.losert/miniconda3/envs/jove_r//lib/R/library\"\n"
     ]
    },
    {
     "name": "stderr",
     "output_type": "stream",
     "text": [
      "‘SeuratObject’ was built with package ‘Matrix’ 1.6.3 but the current\n",
      "version is 1.6.4; it is recomended that you reinstall ‘SeuratObject’ as\n",
      "the ABI for ‘Matrix’ may have changed\n",
      "\n",
      "\n",
      "Attaching package: ‘SeuratObject’\n",
      "\n",
      "\n",
      "The following object is masked from ‘package:base’:\n",
      "\n",
      "    intersect\n",
      "\n",
      "\n"
     ]
    }
   ],
   "source": [
    "source('MS0_Libraries.r')"
   ]
  },
  {
   "cell_type": "code",
   "execution_count": null,
   "id": "4593e9c4-5baf-4836-9f76-2b6fb6845100",
   "metadata": {
    "tags": []
   },
   "outputs": [],
   "source": [
    "source('MS2_Plot_Config.r')"
   ]
  },
  {
   "cell_type": "code",
   "execution_count": null,
   "id": "a28f2fc0-0856-4fea-a23f-f907a2825d38",
   "metadata": {},
   "outputs": [],
   "source": [
    "source('MS1_Functions.r')"
   ]
  },
  {
   "cell_type": "markdown",
   "id": "9d409d14-a693-4722-9648-4b6bacb4b74a",
   "metadata": {
    "tags": []
   },
   "source": [
    "###############################################\n",
    "# Preqrequisites Configurations & Parameters"
   ]
  },
  {
   "cell_type": "code",
   "execution_count": null,
   "id": "8699ca42-bc00-4e67-96c9-39824901768f",
   "metadata": {},
   "outputs": [],
   "source": [
    "### Load configurations file\n",
    "global_configs = read.csv('configurations/Data_Configs.csv', sep = ',')"
   ]
  },
  {
   "cell_type": "code",
   "execution_count": null,
   "id": "c2dacd44-a445-4ec9-adbc-edc97e1b8872",
   "metadata": {},
   "outputs": [],
   "source": [
    "head(global_configs,2)"
   ]
  },
  {
   "cell_type": "code",
   "execution_count": null,
   "id": "bb1c47cf-a4d4-4ce1-8f6b-52be234fdc64",
   "metadata": {},
   "outputs": [],
   "source": [
    "data_path = global_configs$value[global_configs$parameter == 'data_path']"
   ]
  },
  {
   "cell_type": "code",
   "execution_count": null,
   "id": "943945b3-d738-4df9-a09d-ae5100fc2309",
   "metadata": {},
   "outputs": [],
   "source": [
    "data_path"
   ]
  },
  {
   "cell_type": "code",
   "execution_count": null,
   "id": "b8068195-561f-4fe2-8d68-66e842dc06ec",
   "metadata": {},
   "outputs": [],
   "source": [
    "result_path = global_configs$value[global_configs$parameter == 'result_path']"
   ]
  },
  {
   "cell_type": "code",
   "execution_count": null,
   "id": "4c76d692-44b2-4bb9-b800-fa85ab657600",
   "metadata": {},
   "outputs": [],
   "source": [
    "result_path"
   ]
  },
  {
   "cell_type": "code",
   "execution_count": null,
   "id": "8b638a7e-42af-4917-8f86-7d207b3d7d5d",
   "metadata": {},
   "outputs": [],
   "source": [
    "###"
   ]
  },
  {
   "cell_type": "code",
   "execution_count": null,
   "id": "4f0ab9c9-d235-4c53-98ad-907786cef7fb",
   "metadata": {},
   "outputs": [],
   "source": [
    "comparison_configs = read.csv('configurations/07_Comparison_Configs.csv', sep = ',')"
   ]
  },
  {
   "cell_type": "code",
   "execution_count": null,
   "id": "282849cf-0578-4e54-acd8-50b651836dcf",
   "metadata": {},
   "outputs": [],
   "source": [
    "head(comparison_configs,2)"
   ]
  },
  {
   "cell_type": "markdown",
   "id": "43e2937f-4e6d-4e90-99f2-2f7c370f9639",
   "metadata": {
    "tags": []
   },
   "source": [
    "# Load Data "
   ]
  },
  {
   "cell_type": "markdown",
   "id": "88abd130-f8c6-43de-940d-b7230793cfe7",
   "metadata": {
    "tags": []
   },
   "source": [
    "## MOFA Models"
   ]
  },
  {
   "cell_type": "code",
   "execution_count": null,
   "id": "ae86bac8-0c97-422d-b18e-826090b88742",
   "metadata": {},
   "outputs": [],
   "source": [
    "model_list = list()"
   ]
  },
  {
   "cell_type": "code",
   "execution_count": null,
   "id": "5c87edd3-5359-4a64-9b18-f40993913f08",
   "metadata": {},
   "outputs": [],
   "source": [
    "comparison_configs$mofa_result_name"
   ]
  },
  {
   "cell_type": "code",
   "execution_count": null,
   "id": "91194f8b-9574-470c-81a9-27852a97923d",
   "metadata": {
    "tags": []
   },
   "outputs": [],
   "source": [
    "for(i in comparison_configs$mofa_result_name){\n",
    "    model_name = paste0(\"03_MOFA_MODEL_\", i, '.hdf5') # added number of factors in review to test different \n",
    "    outfile = file.path( paste0(result_path, '/03_results/',  model_name) )\n",
    "    model_list[[as.character(i)]] <- load_model(outfile, verbose = TRUE)\n",
    "    }"
   ]
  },
  {
   "cell_type": "code",
   "execution_count": null,
   "id": "086d3bfb-4e3d-4e7c-a878-5b04242cba02",
   "metadata": {},
   "outputs": [],
   "source": [
    "names(model_list)"
   ]
  },
  {
   "cell_type": "code",
   "execution_count": null,
   "id": "46e2cdd1-8ce7-421c-945f-cecac31bd0b5",
   "metadata": {},
   "outputs": [],
   "source": [
    "#str(model_list)"
   ]
  },
  {
   "cell_type": "code",
   "execution_count": null,
   "id": "8ca12e8e-b4f4-4f6f-9c09-3e83e2b0ef34",
   "metadata": {},
   "outputs": [],
   "source": [
    "print(length(model_list))"
   ]
  },
  {
   "cell_type": "markdown",
   "id": "1385d8a3-c030-45e4-92d6-7e71e9450bb6",
   "metadata": {
    "tags": []
   },
   "source": [
    "# Downstream Analysis of generated models"
   ]
  },
  {
   "cell_type": "markdown",
   "id": "ffbe87b9-ed6b-420b-b46d-18e07942a912",
   "metadata": {},
   "source": [
    "## Compare total explained variance"
   ]
  },
  {
   "cell_type": "code",
   "execution_count": null,
   "id": "f22b7b71-9277-4ce3-89fc-90f6cc7eeee2",
   "metadata": {},
   "outputs": [],
   "source": [
    "lapply(model_list, function(x){\n",
    "    mean(x@cache$variance_explained$r2_total[[1]])\n",
    "    })\n",
    "### 20 Factor model used: 35.7461964551804   "
   ]
  },
  {
   "cell_type": "code",
   "execution_count": null,
   "id": "faffce2a-6273-4c24-84c2-81899e5333fa",
   "metadata": {},
   "outputs": [],
   "source": [
    "### compare explained variance per view"
   ]
  },
  {
   "cell_type": "code",
   "execution_count": null,
   "id": "b19d7a73-b508-4321-8b01-2f35592204bc",
   "metadata": {},
   "outputs": [],
   "source": [
    "var_explained_per_view = lapply(model_list, function(x){\n",
    "    x@cache[[\"variance_explained\"]]$r2_total\n",
    "    })"
   ]
  },
  {
   "cell_type": "code",
   "execution_count": null,
   "id": "38910ba9-eca5-4caf-a4f7-3e4098742ce1",
   "metadata": {},
   "outputs": [],
   "source": [
    "var_explained_per_view_data = data.frame()\n",
    "\n",
    "for(i in names(var_explained_per_view)){\n",
    "    data = var_explained_per_view[[i]]$group1\n",
    "    data = as.data.frame(data)\n",
    "    data$view = rownames(data)\n",
    "    data$view = str_replace_all(data$view, ' ', '')\n",
    "    data$view = str_replace_all(data$view, '\\\\.', '')\n",
    "    data$configuration = i\n",
    "    \n",
    "    var_explained_per_view_data = rbind(data, var_explained_per_view_data)\n",
    "    }"
   ]
  },
  {
   "cell_type": "code",
   "execution_count": null,
   "id": "f4eb73df-0d0d-4f69-8b21-c0eb91b289c4",
   "metadata": {},
   "outputs": [],
   "source": [
    "head(var_explained_per_view_data,2)"
   ]
  },
  {
   "cell_type": "code",
   "execution_count": null,
   "id": "4df92b1c-1932-4feb-8389-e9a9fa2b5be7",
   "metadata": {},
   "outputs": [],
   "source": [
    "unique(var_explained_per_view_data$configuration)"
   ]
  },
  {
   "cell_type": "code",
   "execution_count": null,
   "id": "38010c87-6106-4360-9d48-6549d340ee35",
   "metadata": {},
   "outputs": [],
   "source": [
    "figure_name = paste0(\"FIG07_Variance_Model_Comparison\")"
   ]
  },
  {
   "cell_type": "code",
   "execution_count": null,
   "id": "ade53376-66ab-4dd3-a103-13f7e8d9e8ea",
   "metadata": {},
   "outputs": [],
   "source": [
    "# Sizes of the plot\n",
    "width_par = 6\n",
    "height_par =4"
   ]
  },
  {
   "cell_type": "code",
   "execution_count": null,
   "id": "d07ad29c-f4fc-4ae2-af80-27ddf57b7bcb",
   "metadata": {},
   "outputs": [],
   "source": [
    "plot = ggplot(var_explained_per_view_data, aes(x=view, y=data, fill=configuration, order = configuration)) + \n",
    "    geom_bar(position=\"dodge\", stat=\"identity\") + ylab('amount_explained_variance') + plot_config + scale_fill_okabe_ito() + coord_flip() + ylab('Total percentage of explained variance')\n",
    "  # TBD: improve coloring + selection\n",
    "\n",
    "#plot\n",
    "pdf(paste0('figures/07_figures/', figure_name, '.pdf'), width =width_par, height =height_par)\n",
    "print( plot)\n",
    "dev.off()"
   ]
  },
  {
   "cell_type": "markdown",
   "id": "65fdb732-279e-408d-9ac9-72da42a0dcc8",
   "metadata": {},
   "source": [
    "## Compare factor weights of samples"
   ]
  },
  {
   "cell_type": "code",
   "execution_count": null,
   "id": "305cf7ce-5691-4fcd-9da7-8d3b8ce26709",
   "metadata": {},
   "outputs": [],
   "source": [
    "factor_weights = lapply(model_list, function(x){\n",
    "    get_factors(x, factors = 'all')$group1\n",
    "    })"
   ]
  },
  {
   "cell_type": "code",
   "execution_count": null,
   "id": "1685281f-3e56-4db3-a409-e70713736b78",
   "metadata": {},
   "outputs": [],
   "source": [
    "factor_weight_data = data.frame()\n",
    "\n",
    "for(i in names(factor_weights)){\n",
    "    data = factor_weights[[i]]\n",
    "    data = as.data.frame(data)\n",
    "    data$configuration = i\n",
    "    data$sample = rownames(data)\n",
    "    data = melt(data)\n",
    "    ## filter on relevant factors\n",
    "    data = data[data$variable %in% unlist(str_split(comparison_configs$compare_factors[comparison_configs$mofa_result_name == i], ',')),]\n",
    "    \n",
    "    \n",
    "    factor_weight_data = rbind(data, factor_weight_data)\n",
    "    }"
   ]
  },
  {
   "cell_type": "code",
   "execution_count": null,
   "id": "61a01d9f-887c-45a2-9382-ae06fe617ee9",
   "metadata": {},
   "outputs": [],
   "source": [
    "factor_weight_data$configuration = paste0(factor_weight_data$variable, '_', factor_weight_data$configuration)"
   ]
  },
  {
   "cell_type": "code",
   "execution_count": null,
   "id": "70d313f9-ad4f-4e8c-993e-ff11b7e3bdf9",
   "metadata": {},
   "outputs": [],
   "source": [
    "head(factor_weight_data,2)"
   ]
  },
  {
   "cell_type": "code",
   "execution_count": null,
   "id": "b40da9f6-dbb4-49e0-b627-992a54ffa00d",
   "metadata": {},
   "outputs": [],
   "source": [
    "unique(factor_weight_data$variable)"
   ]
  },
  {
   "cell_type": "code",
   "execution_count": null,
   "id": "ab78239c-401f-43dc-9ac5-6fb0a6bb3f68",
   "metadata": {},
   "outputs": [],
   "source": [
    "cor_data = factor_weight_data %>% dcast(sample ~ configuration, value.var = 'value')"
   ]
  },
  {
   "cell_type": "code",
   "execution_count": null,
   "id": "c0cbe60c-c2f7-45dc-9c1a-56ac9a0373da",
   "metadata": {},
   "outputs": [],
   "source": [
    "head(cor_data,2)"
   ]
  },
  {
   "cell_type": "code",
   "execution_count": null,
   "id": "7a407679-b0ea-4539-993d-c4b73ed2c37f",
   "metadata": {},
   "outputs": [],
   "source": [
    "cor_data$sample = NULL\n",
    "correlation = cor(cor_data, use = 'pairwise.complete.obs')"
   ]
  },
  {
   "cell_type": "code",
   "execution_count": null,
   "id": "72eb1984-fc56-4038-ab41-6769d9c5510d",
   "metadata": {},
   "outputs": [],
   "source": [
    "head(correlation,2)"
   ]
  },
  {
   "cell_type": "code",
   "execution_count": null,
   "id": "cf9fd339-9153-459e-a208-956e21b34e32",
   "metadata": {},
   "outputs": [],
   "source": [
    "figure_name = paste0(\"FIG07_Factor_Correlations\")"
   ]
  },
  {
   "cell_type": "code",
   "execution_count": null,
   "id": "9c62c9f3-4ca9-4907-b135-8dab6faeb4c0",
   "metadata": {},
   "outputs": [],
   "source": [
    "# Sizes of the plot\n",
    "width_par = 8\n",
    "height_par =5"
   ]
  },
  {
   "cell_type": "code",
   "execution_count": null,
   "id": "2b845813-6f9e-4827-820f-cbb348f5cf03",
   "metadata": {},
   "outputs": [],
   "source": [
    "options(repr.plot.width=40, repr.plot.height=20)\n",
    "pdf(paste0('figures/07_figures/', figure_name, '.pdf'), width =width_par, height =height_par)\n",
    "corrplot(correlation, method = 'number',  type = 'upper', col = COL2('BrBG'), tl.col = 'black', tl.cex = 0.6,   number.cex = 0.4, tl.offset = 0.2, diag = FALSE) + plot_config + theme(text = element_text(size = 5))\n",
    "dev.off()"
   ]
  },
  {
   "cell_type": "code",
   "execution_count": null,
   "id": "9e4c19a1-14e0-4f53-bc12-96db8200fddc",
   "metadata": {},
   "outputs": [],
   "source": [
    "## Generate Table"
   ]
  },
  {
   "cell_type": "code",
   "execution_count": null,
   "id": "9759427b-33ee-44e9-bbac-92c9e178ee0f",
   "metadata": {},
   "outputs": [],
   "source": [
    "correlation = melt(correlation)"
   ]
  },
  {
   "cell_type": "code",
   "execution_count": null,
   "id": "98e30cce-a9f2-4787-bf09-41c94304175d",
   "metadata": {},
   "outputs": [],
   "source": [
    "correlation = correlation[correlation$Var1 != correlation$Var2,]  # remove diagonal entries"
   ]
  },
  {
   "cell_type": "code",
   "execution_count": null,
   "id": "0e5f7797-aa5a-4bf1-8a9a-1150ff08355d",
   "metadata": {},
   "outputs": [],
   "source": [
    "colnames(correlation) = c('Factor_Config1', 'Factor_Config2', 'Pearson_Correlation')"
   ]
  },
  {
   "cell_type": "code",
   "execution_count": null,
   "id": "876ca884-81db-409b-a98e-bf99c2a29680",
   "metadata": {},
   "outputs": [],
   "source": [
    "head(correlation ,2)"
   ]
  },
  {
   "cell_type": "code",
   "execution_count": null,
   "id": "458e070f-b066-4247-b386-21727c11cec3",
   "metadata": {},
   "outputs": [],
   "source": [
    "## Save result\n",
    "write.csv(correlation, paste0(result_path, '/07_results/07_Factor_Correlations',  '.csv'), row.names = FALSE)"
   ]
  },
  {
   "cell_type": "markdown",
   "id": "159c5730-d874-4b2b-b85d-195bb843bc7c",
   "metadata": {},
   "source": [
    "## Compare feature weights"
   ]
  },
  {
   "cell_type": "code",
   "execution_count": null,
   "id": "2da7ab74-f820-4cea-a8d3-717daa6e070d",
   "metadata": {},
   "outputs": [],
   "source": [
    "weights = lapply(model_list, function(x){\n",
    "    get_weights(x, views = \"all\", factors = \"all\")\n",
    "    })"
   ]
  },
  {
   "cell_type": "code",
   "execution_count": null,
   "id": "79918c38-9ef9-42c2-8fa4-7f4e54b311fd",
   "metadata": {},
   "outputs": [],
   "source": [
    "weight_data = data.frame()"
   ]
  },
  {
   "cell_type": "code",
   "execution_count": null,
   "id": "c4ff1097-e7ad-428f-ab65-20c75315e0ab",
   "metadata": {
    "tags": []
   },
   "outputs": [],
   "source": [
    "for(j in names(weights)){\n",
    "    weights_factor_amount = weights[[j]]\n",
    "\n",
    "    for (i in names(weights_factor_amount)){\n",
    "        data = data.frame(weights_factor_amount[[i]])\n",
    "        data$view = i\n",
    "        data$configuration = j\n",
    "        data$feature = rownames(data)\n",
    "        \n",
    "        data = melt(data)\n",
    "        # filter on relevant factors for comparison\n",
    "        data = data[data$variable %in% unlist(str_split(comparison_configs$compare_factors[comparison_configs$mofa_result_name == j], ',')),]\n",
    "        \n",
    "        weight_data = rbind(weight_data,data)\n",
    "        }\n",
    "    }"
   ]
  },
  {
   "cell_type": "code",
   "execution_count": null,
   "id": "d5a3b6de-192d-49b8-bf65-9d77dd2be6a9",
   "metadata": {
    "tags": []
   },
   "outputs": [],
   "source": [
    "head(weight_data,2)"
   ]
  },
  {
   "cell_type": "code",
   "execution_count": null,
   "id": "ebbf42ea-7242-4629-9e47-1816a44be74b",
   "metadata": {},
   "outputs": [],
   "source": [
    "weight_data$configuration = paste0(weight_data$variable, '_',weight_data$configuration)\n",
    "weight_data$view_feature = paste0(weight_data$view, '__', weight_data$feature)\n",
    "weight_data$view_feature =  str_replace_all(weight_data$view_feature, ' ', '')\n",
    "weight_data$view_feature = str_replace_all(weight_data$view_feature, '\\\\.', '')"
   ]
  },
  {
   "cell_type": "code",
   "execution_count": null,
   "id": "84834857-8f4b-45ea-9e59-62a44fc401c2",
   "metadata": {},
   "outputs": [],
   "source": [
    "head(weight_data,2)"
   ]
  },
  {
   "cell_type": "code",
   "execution_count": null,
   "id": "6fe9d7a0-0c93-4ac8-a549-3d0a8c719d3e",
   "metadata": {},
   "outputs": [],
   "source": [
    "cor_data = weight_data %>% dcast(view_feature ~ configuration, value.var = 'value')"
   ]
  },
  {
   "cell_type": "code",
   "execution_count": null,
   "id": "a8690aea-a2dc-46c5-a62a-846872c706c3",
   "metadata": {},
   "outputs": [],
   "source": [
    "head(cor_data,2)"
   ]
  },
  {
   "cell_type": "code",
   "execution_count": null,
   "id": "26f041dd-ab08-43e1-9db2-f8bed7152929",
   "metadata": {},
   "outputs": [],
   "source": [
    "cor_data$view_feature = NULL\n",
    "correlation = cor(cor_data, use = 'pairwise.complete.obs')"
   ]
  },
  {
   "cell_type": "code",
   "execution_count": null,
   "id": "50cdd0a5-199a-4da4-8043-64cd7c693892",
   "metadata": {},
   "outputs": [],
   "source": [
    "head(correlation,2)"
   ]
  },
  {
   "cell_type": "code",
   "execution_count": null,
   "id": "ff896574-27a3-4ba5-95d0-f5e89b52697b",
   "metadata": {},
   "outputs": [],
   "source": [
    "figure_name = paste0(\"FIG07_Feature_Correlations\")"
   ]
  },
  {
   "cell_type": "code",
   "execution_count": null,
   "id": "8ffa4b03-0812-4a06-88e5-00caaf424a4c",
   "metadata": {},
   "outputs": [],
   "source": [
    "# Sizes of the plot\n",
    "width_par = 8\n",
    "height_par =5"
   ]
  },
  {
   "cell_type": "code",
   "execution_count": null,
   "id": "c8863706-fa41-48d5-829d-66a7dd9bbec3",
   "metadata": {},
   "outputs": [],
   "source": [
    "options(repr.plot.width=40, repr.plot.height=20)\n",
    "pdf(paste0('figures/07_figures/', figure_name, '.pdf'), width =width_par, height =height_par)\n",
    "corrplot(correlation, method = 'number',  type = 'lower', col = COL2('BrBG'), tl.col = 'black', tl.cex = 0.6, tl.srt = 90, number.cex = 0.4, tl.offset = 0.2, diag = FALSE) + plot_config + theme(text = element_text(size = 5))\n",
    "dev.off()"
   ]
  },
  {
   "cell_type": "code",
   "execution_count": null,
   "id": "0929eb76-cbf5-4e01-b534-80e77fdd09db",
   "metadata": {},
   "outputs": [],
   "source": [
    "## Generate Table"
   ]
  },
  {
   "cell_type": "code",
   "execution_count": null,
   "id": "08db2e8a-f536-4125-9a3f-59b1c5137177",
   "metadata": {},
   "outputs": [],
   "source": [
    "correlation = melt(correlation)"
   ]
  },
  {
   "cell_type": "code",
   "execution_count": null,
   "id": "59c53b8c-14b0-415a-89fd-d992baf52ce5",
   "metadata": {},
   "outputs": [],
   "source": [
    "correlation = correlation[correlation$Var1 != correlation$Var2,]  # remove diagonal entries"
   ]
  },
  {
   "cell_type": "code",
   "execution_count": null,
   "id": "c342af83-6a50-437c-a724-f44b5caf9f76",
   "metadata": {},
   "outputs": [],
   "source": [
    "colnames(correlation) = c('Factor_Config1', 'Factor_Config2', 'Pearson_Correlation')"
   ]
  },
  {
   "cell_type": "code",
   "execution_count": null,
   "id": "6267bdcc-fd92-4724-beef-947b6212e53d",
   "metadata": {},
   "outputs": [],
   "source": [
    "head(correlation ,2)"
   ]
  },
  {
   "cell_type": "code",
   "execution_count": null,
   "id": "3121ce6b-00eb-46ae-ab5a-2cb9d49ddbcf",
   "metadata": {},
   "outputs": [],
   "source": [
    "## Save result\n",
    "write.csv(correlation, paste0(result_path, '/07_results/07_Feature_Correlations',  '.csv'), row.names = FALSE)"
   ]
  },
  {
   "cell_type": "code",
   "execution_count": null,
   "id": "88197e31-294f-4772-9c92-aacb7e4333ee",
   "metadata": {},
   "outputs": [],
   "source": []
  },
  {
   "cell_type": "code",
   "execution_count": null,
   "id": "0513fb4a-08a1-432b-b6b5-b982a14d6dbe",
   "metadata": {},
   "outputs": [],
   "source": []
  }
 ],
 "metadata": {
  "kernelspec": {
   "display_name": "R",
   "language": "R",
   "name": "ir"
  },
  "language_info": {
   "codemirror_mode": "r",
   "file_extension": ".r",
   "mimetype": "text/x-r-source",
   "name": "R",
   "pygments_lexer": "r",
   "version": "4.3.2"
  },
  "toc-autonumbering": true
 },
 "nbformat": 4,
 "nbformat_minor": 5
}
