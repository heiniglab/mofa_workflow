{
 "cells": [
  {
   "cell_type": "code",
   "execution_count": 1,
   "id": "d182c426-4d95-4dee-a099-cd923e9437d7",
   "metadata": {
    "tags": []
   },
   "outputs": [],
   "source": [
    "### Evaluate the results from different configurations and compare them"
   ]
  },
  {
   "cell_type": "markdown",
   "id": "213d69de-4705-4a6e-9387-b1a3413172eb",
   "metadata": {
    "tags": []
   },
   "source": [
    "#############################################\n",
    "# Prerequisites - Load Libraries"
   ]
  },
  {
   "cell_type": "code",
   "execution_count": 2,
   "id": "e0e058c4-79b7-4950-b23f-807281963e53",
   "metadata": {
    "tags": []
   },
   "outputs": [
    {
     "name": "stderr",
     "output_type": "stream",
     "text": [
      "Warning message in read.table(file = file, header = header, sep = sep, quote = quote, :\n",
      "“incomplete final line found by readTableHeader on '../conda_environment/Environment_Configs.csv'”\n"
     ]
    },
    {
     "name": "stdout",
     "output_type": "stream",
     "text": [
      "[1] \"/home/icb/corinna.losert/miniconda3/envs/jove_r//lib/R/library\"\n"
     ]
    },
    {
     "name": "stderr",
     "output_type": "stream",
     "text": [
      "‘SeuratObject’ was built with package ‘Matrix’ 1.6.3 but the current\n",
      "version is 1.6.4; it is recomended that you reinstall ‘SeuratObject’ as\n",
      "the ABI for ‘Matrix’ may have changed\n",
      "\n",
      "\n",
      "Attaching package: ‘SeuratObject’\n",
      "\n",
      "\n",
      "The following object is masked from ‘package:base’:\n",
      "\n",
      "    intersect\n",
      "\n",
      "\n",
      "Registered S3 method overwritten by 'SeuratDisk':\n",
      "  method            from  \n",
      "  as.sparse.H5Group Seurat\n",
      "\n",
      "\n",
      "Attaching package: ‘dplyr’\n",
      "\n",
      "\n",
      "The following objects are masked from ‘package:data.table’:\n",
      "\n",
      "    between, first, last\n",
      "\n",
      "\n",
      "The following objects are masked from ‘package:stats’:\n",
      "\n",
      "    filter, lag\n",
      "\n",
      "\n",
      "The following objects are masked from ‘package:base’:\n",
      "\n",
      "    intersect, setdiff, setequal, union\n",
      "\n",
      "\n",
      "── \u001b[1mAttaching core tidyverse packages\u001b[22m ──────────────────────── tidyverse 2.0.0 ──\n",
      "\u001b[32m✔\u001b[39m \u001b[34mforcats  \u001b[39m 1.0.0     \u001b[32m✔\u001b[39m \u001b[34mreadr    \u001b[39m 2.1.4\n",
      "\u001b[32m✔\u001b[39m \u001b[34mggplot2  \u001b[39m 3.4.4     \u001b[32m✔\u001b[39m \u001b[34mtibble   \u001b[39m 3.2.1\n",
      "\u001b[32m✔\u001b[39m \u001b[34mlubridate\u001b[39m 1.9.3     \u001b[32m✔\u001b[39m \u001b[34mtidyr    \u001b[39m 1.3.0\n",
      "\u001b[32m✔\u001b[39m \u001b[34mpurrr    \u001b[39m 1.0.2     \n",
      "── \u001b[1mConflicts\u001b[22m ────────────────────────────────────────── tidyverse_conflicts() ──\n",
      "\u001b[31m✖\u001b[39m \u001b[34mdplyr\u001b[39m::\u001b[32mbetween()\u001b[39m     masks \u001b[34mdata.table\u001b[39m::between()\n",
      "\u001b[31m✖\u001b[39m \u001b[34mdplyr\u001b[39m::\u001b[32mfilter()\u001b[39m      masks \u001b[34mstats\u001b[39m::filter()\n",
      "\u001b[31m✖\u001b[39m \u001b[34mdplyr\u001b[39m::\u001b[32mfirst()\u001b[39m       masks \u001b[34mdata.table\u001b[39m::first()\n",
      "\u001b[31m✖\u001b[39m \u001b[34mlubridate\u001b[39m::\u001b[32mhour()\u001b[39m    masks \u001b[34mdata.table\u001b[39m::hour()\n",
      "\u001b[31m✖\u001b[39m \u001b[34mlubridate\u001b[39m::\u001b[32misoweek()\u001b[39m masks \u001b[34mdata.table\u001b[39m::isoweek()\n",
      "\u001b[31m✖\u001b[39m \u001b[34mdplyr\u001b[39m::\u001b[32mlag()\u001b[39m         masks \u001b[34mstats\u001b[39m::lag()\n",
      "\u001b[31m✖\u001b[39m \u001b[34mdplyr\u001b[39m::\u001b[32mlast()\u001b[39m        masks \u001b[34mdata.table\u001b[39m::last()\n",
      "\u001b[31m✖\u001b[39m \u001b[34mlubridate\u001b[39m::\u001b[32mmday()\u001b[39m    masks \u001b[34mdata.table\u001b[39m::mday()\n",
      "\u001b[31m✖\u001b[39m \u001b[34mlubridate\u001b[39m::\u001b[32mminute()\u001b[39m  masks \u001b[34mdata.table\u001b[39m::minute()\n",
      "\u001b[31m✖\u001b[39m \u001b[34mlubridate\u001b[39m::\u001b[32mmonth()\u001b[39m   masks \u001b[34mdata.table\u001b[39m::month()\n",
      "\u001b[31m✖\u001b[39m \u001b[34mlubridate\u001b[39m::\u001b[32mquarter()\u001b[39m masks \u001b[34mdata.table\u001b[39m::quarter()\n",
      "\u001b[31m✖\u001b[39m \u001b[34mlubridate\u001b[39m::\u001b[32msecond()\u001b[39m  masks \u001b[34mdata.table\u001b[39m::second()\n",
      "\u001b[31m✖\u001b[39m \u001b[34mpurrr\u001b[39m::\u001b[32mtranspose()\u001b[39m   masks \u001b[34mdata.table\u001b[39m::transpose()\n",
      "\u001b[31m✖\u001b[39m \u001b[34mlubridate\u001b[39m::\u001b[32mwday()\u001b[39m    masks \u001b[34mdata.table\u001b[39m::wday()\n",
      "\u001b[31m✖\u001b[39m \u001b[34mlubridate\u001b[39m::\u001b[32mweek()\u001b[39m    masks \u001b[34mdata.table\u001b[39m::week()\n",
      "\u001b[31m✖\u001b[39m \u001b[34mlubridate\u001b[39m::\u001b[32myday()\u001b[39m    masks \u001b[34mdata.table\u001b[39m::yday()\n",
      "\u001b[31m✖\u001b[39m \u001b[34mlubridate\u001b[39m::\u001b[32myear()\u001b[39m    masks \u001b[34mdata.table\u001b[39m::year()\n",
      "\u001b[36mℹ\u001b[39m Use the conflicted package (\u001b[3m\u001b[34m<http://conflicted.r-lib.org/>\u001b[39m\u001b[23m) to force all conflicts to become errors\n",
      "\n",
      "Attaching package: ‘reshape2’\n",
      "\n",
      "\n",
      "The following object is masked from ‘package:tidyr’:\n",
      "\n",
      "    smiths\n",
      "\n",
      "\n",
      "The following objects are masked from ‘package:data.table’:\n",
      "\n",
      "    dcast, melt\n",
      "\n",
      "\n",
      "Loading required package: lattice\n",
      "\n",
      "\n",
      "Attaching package: ‘caret’\n",
      "\n",
      "\n",
      "The following object is masked from ‘package:purrr’:\n",
      "\n",
      "    lift\n",
      "\n",
      "\n",
      "\n",
      "Attaching package: ‘gridExtra’\n",
      "\n",
      "\n",
      "The following object is masked from ‘package:dplyr’:\n",
      "\n",
      "    combine\n",
      "\n",
      "\n",
      "\n",
      "Attaching package: ‘scales’\n",
      "\n",
      "\n",
      "The following object is masked from ‘package:purrr’:\n",
      "\n",
      "    discard\n",
      "\n",
      "\n",
      "The following object is masked from ‘package:readr’:\n",
      "\n",
      "    col_factor\n",
      "\n",
      "\n",
      "\n",
      "Attaching package: ‘ggraph’\n",
      "\n",
      "\n",
      "The following object is masked from ‘package:sp’:\n",
      "\n",
      "    geometry\n",
      "\n",
      "\n",
      "corrplot 0.92 loaded\n",
      "\n",
      "\n",
      "Attaching package: ‘MOFA2’\n",
      "\n",
      "\n",
      "The following object is masked from ‘package:stats’:\n",
      "\n",
      "    predict\n",
      "\n",
      "\n",
      "Loading required package: S4Vectors\n",
      "\n",
      "Loading required package: stats4\n",
      "\n",
      "Loading required package: BiocGenerics\n",
      "\n",
      "\n",
      "Attaching package: ‘BiocGenerics’\n",
      "\n",
      "\n",
      "The following object is masked from ‘package:gridExtra’:\n",
      "\n",
      "    combine\n",
      "\n",
      "\n",
      "The following objects are masked from ‘package:lubridate’:\n",
      "\n",
      "    intersect, setdiff, union\n",
      "\n",
      "\n",
      "The following objects are masked from ‘package:dplyr’:\n",
      "\n",
      "    combine, intersect, setdiff, union\n",
      "\n",
      "\n",
      "The following object is masked from ‘package:SeuratObject’:\n",
      "\n",
      "    intersect\n",
      "\n",
      "\n",
      "The following objects are masked from ‘package:stats’:\n",
      "\n",
      "    IQR, mad, sd, var, xtabs\n",
      "\n",
      "\n",
      "The following objects are masked from ‘package:base’:\n",
      "\n",
      "    anyDuplicated, aperm, append, as.data.frame, basename, cbind,\n",
      "    colnames, dirname, do.call, duplicated, eval, evalq, Filter, Find,\n",
      "    get, grep, grepl, intersect, is.unsorted, lapply, Map, mapply,\n",
      "    match, mget, order, paste, pmax, pmax.int, pmin, pmin.int,\n",
      "    Position, rank, rbind, Reduce, rownames, sapply, setdiff, sort,\n",
      "    table, tapply, union, unique, unsplit, which.max, which.min\n",
      "\n",
      "\n",
      "\n",
      "Attaching package: ‘S4Vectors’\n",
      "\n",
      "\n",
      "The following objects are masked from ‘package:lubridate’:\n",
      "\n",
      "    second, second<-\n",
      "\n",
      "\n",
      "The following object is masked from ‘package:tidyr’:\n",
      "\n",
      "    expand\n",
      "\n",
      "\n",
      "The following objects are masked from ‘package:dplyr’:\n",
      "\n",
      "    first, rename\n",
      "\n",
      "\n",
      "The following objects are masked from ‘package:data.table’:\n",
      "\n",
      "    first, second\n",
      "\n",
      "\n",
      "The following object is masked from ‘package:utils’:\n",
      "\n",
      "    findMatches\n",
      "\n",
      "\n",
      "The following objects are masked from ‘package:base’:\n",
      "\n",
      "    expand.grid, I, unname\n",
      "\n",
      "\n",
      "Loading required package: IRanges\n",
      "\n",
      "\n",
      "Attaching package: ‘IRanges’\n",
      "\n",
      "\n",
      "The following object is masked from ‘package:lubridate’:\n",
      "\n",
      "    %within%\n",
      "\n",
      "\n",
      "The following object is masked from ‘package:purrr’:\n",
      "\n",
      "    reduce\n",
      "\n",
      "\n",
      "The following objects are masked from ‘package:dplyr’:\n",
      "\n",
      "    collapse, desc, slice\n",
      "\n",
      "\n",
      "The following object is masked from ‘package:data.table’:\n",
      "\n",
      "    shift\n",
      "\n",
      "\n",
      "The following object is masked from ‘package:sp’:\n",
      "\n",
      "    %over%\n",
      "\n",
      "\n",
      "Loading required package: GenomicRanges\n",
      "\n",
      "Loading required package: GenomeInfoDb\n",
      "\n",
      "Loading required package: SummarizedExperiment\n",
      "\n",
      "Loading required package: MatrixGenerics\n",
      "\n",
      "Loading required package: matrixStats\n",
      "\n",
      "\n",
      "Attaching package: ‘matrixStats’\n",
      "\n",
      "\n",
      "The following object is masked from ‘package:dplyr’:\n",
      "\n",
      "    count\n",
      "\n",
      "\n",
      "\n",
      "Attaching package: ‘MatrixGenerics’\n",
      "\n",
      "\n",
      "The following objects are masked from ‘package:matrixStats’:\n",
      "\n",
      "    colAlls, colAnyNAs, colAnys, colAvgsPerRowSet, colCollapse,\n",
      "    colCounts, colCummaxs, colCummins, colCumprods, colCumsums,\n",
      "    colDiffs, colIQRDiffs, colIQRs, colLogSumExps, colMadDiffs,\n",
      "    colMads, colMaxs, colMeans2, colMedians, colMins, colOrderStats,\n",
      "    colProds, colQuantiles, colRanges, colRanks, colSdDiffs, colSds,\n",
      "    colSums2, colTabulates, colVarDiffs, colVars, colWeightedMads,\n",
      "    colWeightedMeans, colWeightedMedians, colWeightedSds,\n",
      "    colWeightedVars, rowAlls, rowAnyNAs, rowAnys, rowAvgsPerColSet,\n",
      "    rowCollapse, rowCounts, rowCummaxs, rowCummins, rowCumprods,\n",
      "    rowCumsums, rowDiffs, rowIQRDiffs, rowIQRs, rowLogSumExps,\n",
      "    rowMadDiffs, rowMads, rowMaxs, rowMeans2, rowMedians, rowMins,\n",
      "    rowOrderStats, rowProds, rowQuantiles, rowRanges, rowRanks,\n",
      "    rowSdDiffs, rowSds, rowSums2, rowTabulates, rowVarDiffs, rowVars,\n",
      "    rowWeightedMads, rowWeightedMeans, rowWeightedMedians,\n",
      "    rowWeightedSds, rowWeightedVars\n",
      "\n",
      "\n",
      "Loading required package: Biobase\n",
      "\n",
      "Welcome to Bioconductor\n",
      "\n",
      "    Vignettes contain introductory material; view with\n",
      "    'browseVignettes()'. To cite Bioconductor, see\n",
      "    'citation(\"Biobase\")', and for packages 'citation(\"pkgname\")'.\n",
      "\n",
      "\n",
      "\n",
      "Attaching package: ‘Biobase’\n",
      "\n",
      "\n",
      "The following object is masked from ‘package:MatrixGenerics’:\n",
      "\n",
      "    rowMedians\n",
      "\n",
      "\n",
      "The following objects are masked from ‘package:matrixStats’:\n",
      "\n",
      "    anyMissing, rowMedians\n",
      "\n",
      "\n",
      "\n",
      "Attaching package: ‘SummarizedExperiment’\n",
      "\n",
      "\n",
      "The following object is masked from ‘package:Seurat’:\n",
      "\n",
      "    Assays\n",
      "\n",
      "\n",
      "The following object is masked from ‘package:SeuratObject’:\n",
      "\n",
      "    Assays\n",
      "\n",
      "\n",
      "Warning message in checkDepPackageVersion(dep_pkg = \"TMB\"):\n",
      "“Package version inconsistency detected.\n",
      "glmmTMB was built with TMB version 1.9.6\n",
      "Current TMB version is 1.9.10\n",
      "Please re-install glmmTMB from source or restore original ‘TMB’ package (see '?reinstalling' for more information)”\n",
      "Registered S3 method overwritten by 'EnvStats':\n",
      "  method         from\n",
      "  print.estimate lava\n",
      "\n"
     ]
    }
   ],
   "source": [
    "source('MS0_Libraries.r')"
   ]
  },
  {
   "cell_type": "code",
   "execution_count": 3,
   "id": "4593e9c4-5baf-4836-9f76-2b6fb6845100",
   "metadata": {
    "tags": []
   },
   "outputs": [
    {
     "name": "stderr",
     "output_type": "stream",
     "text": [
      "Warning message:\n",
      "“\u001b[1m\u001b[22mThe `size` argument of `element_line()` is deprecated as of ggplot2 3.4.0.\n",
      "\u001b[36mℹ\u001b[39m Please use the `linewidth` argument instead.”\n"
     ]
    }
   ],
   "source": [
    "source('MS2_Plot_Config.r')"
   ]
  },
  {
   "cell_type": "code",
   "execution_count": 4,
   "id": "a28f2fc0-0856-4fea-a23f-f907a2825d38",
   "metadata": {},
   "outputs": [],
   "source": [
    "source('MS1_Functions.r')"
   ]
  },
  {
   "cell_type": "markdown",
   "id": "9d409d14-a693-4722-9648-4b6bacb4b74a",
   "metadata": {
    "tags": []
   },
   "source": [
    "###############################################\n",
    "# Preqrequisites Configurations & Parameters"
   ]
  },
  {
   "cell_type": "code",
   "execution_count": 5,
   "id": "8699ca42-bc00-4e67-96c9-39824901768f",
   "metadata": {},
   "outputs": [
    {
     "name": "stderr",
     "output_type": "stream",
     "text": [
      "Warning message in read.table(file = file, header = header, sep = sep, quote = quote, :\n",
      "“incomplete final line found by readTableHeader on 'configurations/Data_Configs.csv'”\n"
     ]
    }
   ],
   "source": [
    "### Load configurations file\n",
    "global_configs = read.csv('configurations/Data_Configs.csv', sep = ',')"
   ]
  },
  {
   "cell_type": "code",
   "execution_count": 6,
   "id": "c2dacd44-a445-4ec9-adbc-edc97e1b8872",
   "metadata": {},
   "outputs": [
    {
     "data": {
      "text/html": [
       "<table class=\"dataframe\">\n",
       "<caption>A data.frame: 2 × 2</caption>\n",
       "<thead>\n",
       "\t<tr><th></th><th scope=col>parameter</th><th scope=col>value</th></tr>\n",
       "\t<tr><th></th><th scope=col>&lt;chr&gt;</th><th scope=col>&lt;chr&gt;</th></tr>\n",
       "</thead>\n",
       "<tbody>\n",
       "\t<tr><th scope=row>1</th><td>data_path  </td><td>/lustre/groups/epigenereg01/workspace/projects/jove/input_data/</td></tr>\n",
       "\t<tr><th scope=row>2</th><td>result_path</td><td>/lustre/groups/epigenereg01/workspace/projects/jove/results/   </td></tr>\n",
       "</tbody>\n",
       "</table>\n"
      ],
      "text/latex": [
       "A data.frame: 2 × 2\n",
       "\\begin{tabular}{r|ll}\n",
       "  & parameter & value\\\\\n",
       "  & <chr> & <chr>\\\\\n",
       "\\hline\n",
       "\t1 & data\\_path   & /lustre/groups/epigenereg01/workspace/projects/jove/input\\_data/\\\\\n",
       "\t2 & result\\_path & /lustre/groups/epigenereg01/workspace/projects/jove/results/   \\\\\n",
       "\\end{tabular}\n"
      ],
      "text/markdown": [
       "\n",
       "A data.frame: 2 × 2\n",
       "\n",
       "| <!--/--> | parameter &lt;chr&gt; | value &lt;chr&gt; |\n",
       "|---|---|---|\n",
       "| 1 | data_path   | /lustre/groups/epigenereg01/workspace/projects/jove/input_data/ |\n",
       "| 2 | result_path | /lustre/groups/epigenereg01/workspace/projects/jove/results/    |\n",
       "\n"
      ],
      "text/plain": [
       "  parameter   value                                                          \n",
       "1 data_path   /lustre/groups/epigenereg01/workspace/projects/jove/input_data/\n",
       "2 result_path /lustre/groups/epigenereg01/workspace/projects/jove/results/   "
      ]
     },
     "metadata": {},
     "output_type": "display_data"
    }
   ],
   "source": [
    "head(global_configs,2)"
   ]
  },
  {
   "cell_type": "code",
   "execution_count": 7,
   "id": "bb1c47cf-a4d4-4ce1-8f6b-52be234fdc64",
   "metadata": {},
   "outputs": [],
   "source": [
    "data_path = global_configs$value[global_configs$parameter == 'data_path']"
   ]
  },
  {
   "cell_type": "code",
   "execution_count": 8,
   "id": "943945b3-d738-4df9-a09d-ae5100fc2309",
   "metadata": {},
   "outputs": [
    {
     "data": {
      "text/html": [
       "'/lustre/groups/epigenereg01/workspace/projects/jove/input_data/'"
      ],
      "text/latex": [
       "'/lustre/groups/epigenereg01/workspace/projects/jove/input\\_data/'"
      ],
      "text/markdown": [
       "'/lustre/groups/epigenereg01/workspace/projects/jove/input_data/'"
      ],
      "text/plain": [
       "[1] \"/lustre/groups/epigenereg01/workspace/projects/jove/input_data/\""
      ]
     },
     "metadata": {},
     "output_type": "display_data"
    }
   ],
   "source": [
    "data_path"
   ]
  },
  {
   "cell_type": "code",
   "execution_count": 9,
   "id": "b8068195-561f-4fe2-8d68-66e842dc06ec",
   "metadata": {},
   "outputs": [],
   "source": [
    "result_path = global_configs$value[global_configs$parameter == 'result_path']"
   ]
  },
  {
   "cell_type": "code",
   "execution_count": 10,
   "id": "4c76d692-44b2-4bb9-b800-fa85ab657600",
   "metadata": {},
   "outputs": [
    {
     "data": {
      "text/html": [
       "'/lustre/groups/epigenereg01/workspace/projects/jove/results/'"
      ],
      "text/latex": [
       "'/lustre/groups/epigenereg01/workspace/projects/jove/results/'"
      ],
      "text/markdown": [
       "'/lustre/groups/epigenereg01/workspace/projects/jove/results/'"
      ],
      "text/plain": [
       "[1] \"/lustre/groups/epigenereg01/workspace/projects/jove/results/\""
      ]
     },
     "metadata": {},
     "output_type": "display_data"
    }
   ],
   "source": [
    "result_path"
   ]
  },
  {
   "cell_type": "code",
   "execution_count": 11,
   "id": "8b638a7e-42af-4917-8f86-7d207b3d7d5d",
   "metadata": {},
   "outputs": [],
   "source": [
    "###"
   ]
  },
  {
   "cell_type": "code",
   "execution_count": 12,
   "id": "4f0ab9c9-d235-4c53-98ad-907786cef7fb",
   "metadata": {},
   "outputs": [
    {
     "name": "stderr",
     "output_type": "stream",
     "text": [
      "Warning message in read.table(file = file, header = header, sep = sep, quote = quote, :\n",
      "“incomplete final line found by readTableHeader on 'configurations/07_Comparison_Configs.csv'”\n"
     ]
    }
   ],
   "source": [
    "comparison_configs = read.csv('configurations/07_Comparison_Configs.csv', sep = ',')"
   ]
  },
  {
   "cell_type": "code",
   "execution_count": 13,
   "id": "282849cf-0578-4e54-acd8-50b651836dcf",
   "metadata": {},
   "outputs": [
    {
     "data": {
      "text/html": [
       "<table class=\"dataframe\">\n",
       "<caption>A data.frame: 2 × 2</caption>\n",
       "<thead>\n",
       "\t<tr><th></th><th scope=col>mofa_result_name</th><th scope=col>compare_factors</th></tr>\n",
       "\t<tr><th></th><th scope=col>&lt;chr&gt;</th><th scope=col>&lt;chr&gt;</th></tr>\n",
       "</thead>\n",
       "<tbody>\n",
       "\t<tr><th scope=row>1</th><td>config1         </td><td>Factor1,Factor2,Factor3,Factor4,Factor5</td></tr>\n",
       "\t<tr><th scope=row>2</th><td>config1_weighted</td><td>Factor1,Factor2,Factor3,Factor4,Factor5</td></tr>\n",
       "</tbody>\n",
       "</table>\n"
      ],
      "text/latex": [
       "A data.frame: 2 × 2\n",
       "\\begin{tabular}{r|ll}\n",
       "  & mofa\\_result\\_name & compare\\_factors\\\\\n",
       "  & <chr> & <chr>\\\\\n",
       "\\hline\n",
       "\t1 & config1          & Factor1,Factor2,Factor3,Factor4,Factor5\\\\\n",
       "\t2 & config1\\_weighted & Factor1,Factor2,Factor3,Factor4,Factor5\\\\\n",
       "\\end{tabular}\n"
      ],
      "text/markdown": [
       "\n",
       "A data.frame: 2 × 2\n",
       "\n",
       "| <!--/--> | mofa_result_name &lt;chr&gt; | compare_factors &lt;chr&gt; |\n",
       "|---|---|---|\n",
       "| 1 | config1          | Factor1,Factor2,Factor3,Factor4,Factor5 |\n",
       "| 2 | config1_weighted | Factor1,Factor2,Factor3,Factor4,Factor5 |\n",
       "\n"
      ],
      "text/plain": [
       "  mofa_result_name compare_factors                        \n",
       "1 config1          Factor1,Factor2,Factor3,Factor4,Factor5\n",
       "2 config1_weighted Factor1,Factor2,Factor3,Factor4,Factor5"
      ]
     },
     "metadata": {},
     "output_type": "display_data"
    }
   ],
   "source": [
    "head(comparison_configs,2)"
   ]
  },
  {
   "cell_type": "markdown",
   "id": "43e2937f-4e6d-4e90-99f2-2f7c370f9639",
   "metadata": {
    "tags": []
   },
   "source": [
    "# Load Data "
   ]
  },
  {
   "cell_type": "markdown",
   "id": "88abd130-f8c6-43de-940d-b7230793cfe7",
   "metadata": {
    "tags": []
   },
   "source": [
    "## MOFA Models"
   ]
  },
  {
   "cell_type": "code",
   "execution_count": 14,
   "id": "ae86bac8-0c97-422d-b18e-826090b88742",
   "metadata": {},
   "outputs": [],
   "source": [
    "model_list = list()"
   ]
  },
  {
   "cell_type": "code",
   "execution_count": 15,
   "id": "5c87edd3-5359-4a64-9b18-f40993913f08",
   "metadata": {},
   "outputs": [
    {
     "data": {
      "text/html": [
       "<style>\n",
       ".list-inline {list-style: none; margin:0; padding: 0}\n",
       ".list-inline>li {display: inline-block}\n",
       ".list-inline>li:not(:last-child)::after {content: \"\\00b7\"; padding: 0 .5ex}\n",
       "</style>\n",
       "<ol class=list-inline><li>'config1'</li><li>'config1_weighted'</li></ol>\n"
      ],
      "text/latex": [
       "\\begin{enumerate*}\n",
       "\\item 'config1'\n",
       "\\item 'config1\\_weighted'\n",
       "\\end{enumerate*}\n"
      ],
      "text/markdown": [
       "1. 'config1'\n",
       "2. 'config1_weighted'\n",
       "\n",
       "\n"
      ],
      "text/plain": [
       "[1] \"config1\"          \"config1_weighted\""
      ]
     },
     "metadata": {},
     "output_type": "display_data"
    }
   ],
   "source": [
    "comparison_configs$mofa_result_name"
   ]
  },
  {
   "cell_type": "code",
   "execution_count": 16,
   "id": "91194f8b-9574-470c-81a9-27852a97923d",
   "metadata": {
    "tags": []
   },
   "outputs": [
    {
     "name": "stderr",
     "output_type": "stream",
     "text": [
      "Loading data...\n",
      "\n",
      "Loading expectations for 2 nodes...\n",
      "\n",
      "Loading model options...\n",
      "\n",
      "Loading training options and statistics...\n",
      "\n",
      "Assigning names to the different dimensions...\n",
      "\n",
      "Re-ordering factors by their variance explained...\n",
      "\n",
      "Doing quality control...\n",
      "\n",
      "Checking views names...\n",
      "\n",
      "Checking groups names...\n",
      "\n",
      "Checking samples names...\n",
      "\n",
      "Checking features names...\n",
      "\n",
      "Checking dimensions...\n",
      "\n",
      "Checking there are no features with complete missing values...\n",
      "\n",
      "Checking sample covariates...\n",
      "\n",
      "Checking expectations...\n",
      "\n",
      "Checking for intercept factors...\n",
      "\n",
      "Warning message in .quality_control(object, verbose = verbose):\n",
      "“Factor(s) 5, 9, 10, 20 are strongly correlated with the total number of expressed features for at least one of your omics. Such factors appear when there are differences in the total 'levels' between your samples, *sometimes* because of poor normalisation in the preprocessing steps.\n",
      "”\n",
      "Checking for highly correlated factors...\n",
      "\n",
      "Loading data...\n",
      "\n",
      "Loading expectations for 2 nodes...\n",
      "\n",
      "Loading model options...\n",
      "\n",
      "Loading training options and statistics...\n",
      "\n",
      "Assigning names to the different dimensions...\n",
      "\n",
      "Re-ordering factors by their variance explained...\n",
      "\n",
      "Doing quality control...\n",
      "\n",
      "Checking views names...\n",
      "\n",
      "Checking groups names...\n",
      "\n",
      "Checking samples names...\n",
      "\n",
      "Checking features names...\n",
      "\n",
      "Checking dimensions...\n",
      "\n",
      "Checking there are no features with complete missing values...\n",
      "\n",
      "Checking sample covariates...\n",
      "\n",
      "Checking expectations...\n",
      "\n",
      "Checking for intercept factors...\n",
      "\n",
      "Warning message in .quality_control(object, verbose = verbose):\n",
      "“Factor(s) 1, 5, 13, 15 are strongly correlated with the total number of expressed features for at least one of your omics. Such factors appear when there are differences in the total 'levels' between your samples, *sometimes* because of poor normalisation in the preprocessing steps.\n",
      "”\n",
      "Checking for highly correlated factors...\n",
      "\n"
     ]
    }
   ],
   "source": [
    "for(i in comparison_configs$mofa_result_name){\n",
    "    model_name = paste0(\"03_MOFA_MODEL_\", i, '.hdf5') # added number of factors in review to test different \n",
    "    outfile = file.path( paste0(result_path, '/03_results/',  model_name) )\n",
    "    model_list[[as.character(i)]] <- load_model(outfile, verbose = TRUE)\n",
    "    }"
   ]
  },
  {
   "cell_type": "code",
   "execution_count": null,
   "id": "086d3bfb-4e3d-4e7c-a878-5b04242cba02",
   "metadata": {},
   "outputs": [],
   "source": [
    "names(model_list)"
   ]
  },
  {
   "cell_type": "code",
   "execution_count": null,
   "id": "46e2cdd1-8ce7-421c-945f-cecac31bd0b5",
   "metadata": {},
   "outputs": [],
   "source": [
    "#str(model_list)"
   ]
  },
  {
   "cell_type": "code",
   "execution_count": null,
   "id": "8ca12e8e-b4f4-4f6f-9c09-3e83e2b0ef34",
   "metadata": {},
   "outputs": [],
   "source": [
    "print(length(model_list))"
   ]
  },
  {
   "cell_type": "markdown",
   "id": "1385d8a3-c030-45e4-92d6-7e71e9450bb6",
   "metadata": {
    "tags": []
   },
   "source": [
    "# Downstream Analysis of generated models"
   ]
  },
  {
   "cell_type": "markdown",
   "id": "ffbe87b9-ed6b-420b-b46d-18e07942a912",
   "metadata": {},
   "source": [
    "## Compare total explained variance"
   ]
  },
  {
   "cell_type": "code",
   "execution_count": 20,
   "id": "f22b7b71-9277-4ce3-89fc-90f6cc7eeee2",
   "metadata": {},
   "outputs": [
    {
     "data": {
      "text/html": [
       "<dl>\n",
       "\t<dt>$config1</dt>\n",
       "\t\t<dd>36.5392606048023</dd>\n",
       "\t<dt>$config1_weighted</dt>\n",
       "\t\t<dd>36.783066977622</dd>\n",
       "</dl>\n"
      ],
      "text/latex": [
       "\\begin{description}\n",
       "\\item[\\$config1] 36.5392606048023\n",
       "\\item[\\$config1\\_weighted] 36.783066977622\n",
       "\\end{description}\n"
      ],
      "text/markdown": [
       "$config1\n",
       ":   36.5392606048023\n",
       "$config1_weighted\n",
       ":   36.783066977622\n",
       "\n",
       "\n"
      ],
      "text/plain": [
       "$config1\n",
       "[1] 36.53926\n",
       "\n",
       "$config1_weighted\n",
       "[1] 36.78307\n"
      ]
     },
     "metadata": {},
     "output_type": "display_data"
    }
   ],
   "source": [
    "lapply(model_list, function(x){\n",
    "    mean(x@cache$variance_explained$r2_total[[1]])\n",
    "    })\n",
    "### 20 Factor model used: 35.7461964551804   "
   ]
  },
  {
   "cell_type": "code",
   "execution_count": 21,
   "id": "faffce2a-6273-4c24-84c2-81899e5333fa",
   "metadata": {},
   "outputs": [],
   "source": [
    "### compare explained variance per view"
   ]
  },
  {
   "cell_type": "code",
   "execution_count": 22,
   "id": "b19d7a73-b508-4321-8b01-2f35592204bc",
   "metadata": {},
   "outputs": [],
   "source": [
    "var_explained_per_view = lapply(model_list, function(x){\n",
    "    x@cache[[\"variance_explained\"]]$r2_total\n",
    "    })"
   ]
  },
  {
   "cell_type": "code",
   "execution_count": 23,
   "id": "38910ba9-eca5-4caf-a4f7-3e4098742ce1",
   "metadata": {},
   "outputs": [],
   "source": [
    "var_explained_per_view_data = data.frame()\n",
    "\n",
    "for(i in names(var_explained_per_view)){\n",
    "    data = var_explained_per_view[[i]]$group1\n",
    "    data = as.data.frame(data)\n",
    "    data$view = rownames(data)\n",
    "    data$view = str_replace_all(data$view, ' ', '')\n",
    "    data$view = str_replace_all(data$view, '\\\\.', '')\n",
    "    data$configuration = i\n",
    "    \n",
    "    var_explained_per_view_data = rbind(data, var_explained_per_view_data)\n",
    "    }"
   ]
  },
  {
   "cell_type": "code",
   "execution_count": 24,
   "id": "f4eb73df-0d0d-4f69-8b21-c0eb91b289c4",
   "metadata": {},
   "outputs": [
    {
     "data": {
      "text/html": [
       "<table class=\"dataframe\">\n",
       "<caption>A data.frame: 2 × 3</caption>\n",
       "<thead>\n",
       "\t<tr><th></th><th scope=col>data</th><th scope=col>view</th><th scope=col>configuration</th></tr>\n",
       "\t<tr><th></th><th scope=col>&lt;dbl&gt;</th><th scope=col>&lt;chr&gt;</th><th scope=col>&lt;chr&gt;</th></tr>\n",
       "</thead>\n",
       "<tbody>\n",
       "\t<tr><th scope=row>B.cell</th><td>31.04474</td><td>Bcell   </td><td>config1_weighted</td></tr>\n",
       "\t<tr><th scope=row>CD14.Mono</th><td>49.80700</td><td>CD14Mono</td><td>config1_weighted</td></tr>\n",
       "</tbody>\n",
       "</table>\n"
      ],
      "text/latex": [
       "A data.frame: 2 × 3\n",
       "\\begin{tabular}{r|lll}\n",
       "  & data & view & configuration\\\\\n",
       "  & <dbl> & <chr> & <chr>\\\\\n",
       "\\hline\n",
       "\tB.cell & 31.04474 & Bcell    & config1\\_weighted\\\\\n",
       "\tCD14.Mono & 49.80700 & CD14Mono & config1\\_weighted\\\\\n",
       "\\end{tabular}\n"
      ],
      "text/markdown": [
       "\n",
       "A data.frame: 2 × 3\n",
       "\n",
       "| <!--/--> | data &lt;dbl&gt; | view &lt;chr&gt; | configuration &lt;chr&gt; |\n",
       "|---|---|---|---|\n",
       "| B.cell | 31.04474 | Bcell    | config1_weighted |\n",
       "| CD14.Mono | 49.80700 | CD14Mono | config1_weighted |\n",
       "\n"
      ],
      "text/plain": [
       "          data     view     configuration   \n",
       "B.cell    31.04474 Bcell    config1_weighted\n",
       "CD14.Mono 49.80700 CD14Mono config1_weighted"
      ]
     },
     "metadata": {},
     "output_type": "display_data"
    }
   ],
   "source": [
    "head(var_explained_per_view_data,2)"
   ]
  },
  {
   "cell_type": "code",
   "execution_count": 25,
   "id": "4df92b1c-1932-4feb-8389-e9a9fa2b5be7",
   "metadata": {},
   "outputs": [
    {
     "data": {
      "text/html": [
       "<style>\n",
       ".list-inline {list-style: none; margin:0; padding: 0}\n",
       ".list-inline>li {display: inline-block}\n",
       ".list-inline>li:not(:last-child)::after {content: \"\\00b7\"; padding: 0 .5ex}\n",
       "</style>\n",
       "<ol class=list-inline><li>'config1_weighted'</li><li>'config1'</li></ol>\n"
      ],
      "text/latex": [
       "\\begin{enumerate*}\n",
       "\\item 'config1\\_weighted'\n",
       "\\item 'config1'\n",
       "\\end{enumerate*}\n"
      ],
      "text/markdown": [
       "1. 'config1_weighted'\n",
       "2. 'config1'\n",
       "\n",
       "\n"
      ],
      "text/plain": [
       "[1] \"config1_weighted\" \"config1\"         "
      ]
     },
     "metadata": {},
     "output_type": "display_data"
    }
   ],
   "source": [
    "unique(var_explained_per_view_data$configuration)"
   ]
  },
  {
   "cell_type": "code",
   "execution_count": 26,
   "id": "38010c87-6106-4360-9d48-6549d340ee35",
   "metadata": {},
   "outputs": [],
   "source": [
    "figure_name = paste0(\"FIG07_Variance_Model_Comparison\")"
   ]
  },
  {
   "cell_type": "code",
   "execution_count": 27,
   "id": "ade53376-66ab-4dd3-a103-13f7e8d9e8ea",
   "metadata": {},
   "outputs": [],
   "source": [
    "# Sizes of the plot\n",
    "width_par = 6\n",
    "height_par =4"
   ]
  },
  {
   "cell_type": "code",
   "execution_count": 28,
   "id": "d07ad29c-f4fc-4ae2-af80-27ddf57b7bcb",
   "metadata": {},
   "outputs": [
    {
     "data": {
      "text/html": [
       "<strong>png:</strong> 2"
      ],
      "text/latex": [
       "\\textbf{png:} 2"
      ],
      "text/markdown": [
       "**png:** 2"
      ],
      "text/plain": [
       "png \n",
       "  2 "
      ]
     },
     "metadata": {},
     "output_type": "display_data"
    }
   ],
   "source": [
    "plot = ggplot(var_explained_per_view_data, aes(x=view, y=data, fill=configuration, order = configuration)) + \n",
    "    geom_bar(position=\"dodge\", stat=\"identity\") + ylab('amount_explained_variance') + plot_config + scale_fill_okabe_ito() + coord_flip() + ylab('Total percentage of explained variance')\n",
    "  # TBD: improve coloring + selection\n",
    "\n",
    "#plot\n",
    "pdf(paste0('figures/07_figures/', figure_name, '.pdf'), width =width_par, height =height_par)\n",
    "print( plot)\n",
    "dev.off()"
   ]
  },
  {
   "cell_type": "markdown",
   "id": "65fdb732-279e-408d-9ac9-72da42a0dcc8",
   "metadata": {},
   "source": [
    "## Compare factor weights of samples"
   ]
  },
  {
   "cell_type": "code",
   "execution_count": 29,
   "id": "305cf7ce-5691-4fcd-9da7-8d3b8ce26709",
   "metadata": {},
   "outputs": [],
   "source": [
    "factor_weights = lapply(model_list, function(x){\n",
    "    get_factors(x, factors = 'all')$group1\n",
    "    })"
   ]
  },
  {
   "cell_type": "code",
   "execution_count": 30,
   "id": "1685281f-3e56-4db3-a409-e70713736b78",
   "metadata": {},
   "outputs": [
    {
     "name": "stderr",
     "output_type": "stream",
     "text": [
      "Using configuration, sample as id variables\n",
      "\n",
      "Using configuration, sample as id variables\n",
      "\n"
     ]
    }
   ],
   "source": [
    "factor_weight_data = data.frame()\n",
    "\n",
    "for(i in names(factor_weights)){\n",
    "    data = factor_weights[[i]]\n",
    "    data = as.data.frame(data)\n",
    "    data$configuration = i\n",
    "    data$sample = rownames(data)\n",
    "    data = melt(data)\n",
    "    ## filter on relevant factors\n",
    "    data = data[data$variable %in% unlist(str_split(comparison_configs$compare_factors[comparison_configs$mofa_result_name == i], ',')),]\n",
    "    \n",
    "    \n",
    "    factor_weight_data = rbind(data, factor_weight_data)\n",
    "    }"
   ]
  },
  {
   "cell_type": "code",
   "execution_count": 31,
   "id": "61a01d9f-887c-45a2-9382-ae06fe617ee9",
   "metadata": {},
   "outputs": [],
   "source": [
    "factor_weight_data$configuration = paste0(factor_weight_data$variable, '_', factor_weight_data$configuration)"
   ]
  },
  {
   "cell_type": "code",
   "execution_count": 32,
   "id": "70d313f9-ad4f-4e8c-993e-ff11b7e3bdf9",
   "metadata": {},
   "outputs": [
    {
     "data": {
      "text/html": [
       "<table class=\"dataframe\">\n",
       "<caption>A data.frame: 2 × 4</caption>\n",
       "<thead>\n",
       "\t<tr><th></th><th scope=col>configuration</th><th scope=col>sample</th><th scope=col>variable</th><th scope=col>value</th></tr>\n",
       "\t<tr><th></th><th scope=col>&lt;chr&gt;</th><th scope=col>&lt;chr&gt;</th><th scope=col>&lt;fct&gt;</th><th scope=col>&lt;dbl&gt;</th></tr>\n",
       "</thead>\n",
       "<tbody>\n",
       "\t<tr><th scope=row>1</th><td>Factor1_config1_weighted</td><td>k1 </td><td>Factor1</td><td>-3.173985</td></tr>\n",
       "\t<tr><th scope=row>2</th><td>Factor1_config1_weighted</td><td>k10</td><td>Factor1</td><td>-1.237786</td></tr>\n",
       "</tbody>\n",
       "</table>\n"
      ],
      "text/latex": [
       "A data.frame: 2 × 4\n",
       "\\begin{tabular}{r|llll}\n",
       "  & configuration & sample & variable & value\\\\\n",
       "  & <chr> & <chr> & <fct> & <dbl>\\\\\n",
       "\\hline\n",
       "\t1 & Factor1\\_config1\\_weighted & k1  & Factor1 & -3.173985\\\\\n",
       "\t2 & Factor1\\_config1\\_weighted & k10 & Factor1 & -1.237786\\\\\n",
       "\\end{tabular}\n"
      ],
      "text/markdown": [
       "\n",
       "A data.frame: 2 × 4\n",
       "\n",
       "| <!--/--> | configuration &lt;chr&gt; | sample &lt;chr&gt; | variable &lt;fct&gt; | value &lt;dbl&gt; |\n",
       "|---|---|---|---|---|\n",
       "| 1 | Factor1_config1_weighted | k1  | Factor1 | -3.173985 |\n",
       "| 2 | Factor1_config1_weighted | k10 | Factor1 | -1.237786 |\n",
       "\n"
      ],
      "text/plain": [
       "  configuration            sample variable value    \n",
       "1 Factor1_config1_weighted k1     Factor1  -3.173985\n",
       "2 Factor1_config1_weighted k10    Factor1  -1.237786"
      ]
     },
     "metadata": {},
     "output_type": "display_data"
    }
   ],
   "source": [
    "head(factor_weight_data,2)"
   ]
  },
  {
   "cell_type": "code",
   "execution_count": 33,
   "id": "b40da9f6-dbb4-49e0-b627-992a54ffa00d",
   "metadata": {},
   "outputs": [
    {
     "data": {
      "text/html": [
       "<style>\n",
       ".list-inline {list-style: none; margin:0; padding: 0}\n",
       ".list-inline>li {display: inline-block}\n",
       ".list-inline>li:not(:last-child)::after {content: \"\\00b7\"; padding: 0 .5ex}\n",
       "</style>\n",
       "<ol class=list-inline><li>Factor1</li><li>Factor2</li><li>Factor3</li><li>Factor4</li><li>Factor5</li></ol>\n",
       "\n",
       "<details>\n",
       "\t<summary style=display:list-item;cursor:pointer>\n",
       "\t\t<strong>Levels</strong>:\n",
       "\t</summary>\n",
       "\t<style>\n",
       "\t.list-inline {list-style: none; margin:0; padding: 0}\n",
       "\t.list-inline>li {display: inline-block}\n",
       "\t.list-inline>li:not(:last-child)::after {content: \"\\00b7\"; padding: 0 .5ex}\n",
       "\t</style>\n",
       "\t<ol class=list-inline><li>'Factor1'</li><li>'Factor2'</li><li>'Factor3'</li><li>'Factor4'</li><li>'Factor5'</li><li>'Factor6'</li><li>'Factor7'</li><li>'Factor8'</li><li>'Factor9'</li><li>'Factor10'</li><li>'Factor11'</li><li>'Factor12'</li><li>'Factor13'</li><li>'Factor14'</li><li>'Factor15'</li><li>'Factor16'</li><li>'Factor17'</li><li>'Factor18'</li><li>'Factor19'</li><li>'Factor20'</li></ol>\n",
       "</details>"
      ],
      "text/latex": [
       "\\begin{enumerate*}\n",
       "\\item Factor1\n",
       "\\item Factor2\n",
       "\\item Factor3\n",
       "\\item Factor4\n",
       "\\item Factor5\n",
       "\\end{enumerate*}\n",
       "\n",
       "\\emph{Levels}: \\begin{enumerate*}\n",
       "\\item 'Factor1'\n",
       "\\item 'Factor2'\n",
       "\\item 'Factor3'\n",
       "\\item 'Factor4'\n",
       "\\item 'Factor5'\n",
       "\\item 'Factor6'\n",
       "\\item 'Factor7'\n",
       "\\item 'Factor8'\n",
       "\\item 'Factor9'\n",
       "\\item 'Factor10'\n",
       "\\item 'Factor11'\n",
       "\\item 'Factor12'\n",
       "\\item 'Factor13'\n",
       "\\item 'Factor14'\n",
       "\\item 'Factor15'\n",
       "\\item 'Factor16'\n",
       "\\item 'Factor17'\n",
       "\\item 'Factor18'\n",
       "\\item 'Factor19'\n",
       "\\item 'Factor20'\n",
       "\\end{enumerate*}\n"
      ],
      "text/markdown": [
       "1. Factor1\n",
       "2. Factor2\n",
       "3. Factor3\n",
       "4. Factor4\n",
       "5. Factor5\n",
       "\n",
       "\n",
       "\n",
       "**Levels**: 1. 'Factor1'\n",
       "2. 'Factor2'\n",
       "3. 'Factor3'\n",
       "4. 'Factor4'\n",
       "5. 'Factor5'\n",
       "6. 'Factor6'\n",
       "7. 'Factor7'\n",
       "8. 'Factor8'\n",
       "9. 'Factor9'\n",
       "10. 'Factor10'\n",
       "11. 'Factor11'\n",
       "12. 'Factor12'\n",
       "13. 'Factor13'\n",
       "14. 'Factor14'\n",
       "15. 'Factor15'\n",
       "16. 'Factor16'\n",
       "17. 'Factor17'\n",
       "18. 'Factor18'\n",
       "19. 'Factor19'\n",
       "20. 'Factor20'\n",
       "\n",
       "\n"
      ],
      "text/plain": [
       "[1] Factor1 Factor2 Factor3 Factor4 Factor5\n",
       "20 Levels: Factor1 Factor2 Factor3 Factor4 Factor5 Factor6 Factor7 ... Factor20"
      ]
     },
     "metadata": {},
     "output_type": "display_data"
    }
   ],
   "source": [
    "unique(factor_weight_data$variable)"
   ]
  },
  {
   "cell_type": "code",
   "execution_count": 34,
   "id": "ab78239c-401f-43dc-9ac5-6fb0a6bb3f68",
   "metadata": {},
   "outputs": [],
   "source": [
    "cor_data = factor_weight_data %>% dcast(sample ~ configuration, value.var = 'value')"
   ]
  },
  {
   "cell_type": "code",
   "execution_count": 35,
   "id": "c0cbe60c-c2f7-45dc-9c1a-56ac9a0373da",
   "metadata": {},
   "outputs": [
    {
     "data": {
      "text/html": [
       "<table class=\"dataframe\">\n",
       "<caption>A data.frame: 2 × 11</caption>\n",
       "<thead>\n",
       "\t<tr><th></th><th scope=col>sample</th><th scope=col>Factor1_config1</th><th scope=col>Factor1_config1_weighted</th><th scope=col>Factor2_config1</th><th scope=col>Factor2_config1_weighted</th><th scope=col>Factor3_config1</th><th scope=col>Factor3_config1_weighted</th><th scope=col>Factor4_config1</th><th scope=col>Factor4_config1_weighted</th><th scope=col>Factor5_config1</th><th scope=col>Factor5_config1_weighted</th></tr>\n",
       "\t<tr><th></th><th scope=col>&lt;chr&gt;</th><th scope=col>&lt;dbl&gt;</th><th scope=col>&lt;dbl&gt;</th><th scope=col>&lt;dbl&gt;</th><th scope=col>&lt;dbl&gt;</th><th scope=col>&lt;dbl&gt;</th><th scope=col>&lt;dbl&gt;</th><th scope=col>&lt;dbl&gt;</th><th scope=col>&lt;dbl&gt;</th><th scope=col>&lt;dbl&gt;</th><th scope=col>&lt;dbl&gt;</th></tr>\n",
       "</thead>\n",
       "<tbody>\n",
       "\t<tr><th scope=row>1</th><td>k1 </td><td>0.6644081</td><td>-3.173985</td><td>-1.9516023</td><td>0.4933851</td><td>1.1575432</td><td>0.4103477</td><td>-0.1543102</td><td>0.1916941</td><td> 0.9254733</td><td> 0.5197276</td></tr>\n",
       "\t<tr><th scope=row>2</th><td>k10</td><td>0.8733989</td><td>-1.237786</td><td>-0.8954186</td><td>0.9258907</td><td>0.4146406</td><td>0.2647406</td><td> 0.7414734</td><td>0.7059813</td><td>-0.2085353</td><td>-0.9842337</td></tr>\n",
       "</tbody>\n",
       "</table>\n"
      ],
      "text/latex": [
       "A data.frame: 2 × 11\n",
       "\\begin{tabular}{r|lllllllllll}\n",
       "  & sample & Factor1\\_config1 & Factor1\\_config1\\_weighted & Factor2\\_config1 & Factor2\\_config1\\_weighted & Factor3\\_config1 & Factor3\\_config1\\_weighted & Factor4\\_config1 & Factor4\\_config1\\_weighted & Factor5\\_config1 & Factor5\\_config1\\_weighted\\\\\n",
       "  & <chr> & <dbl> & <dbl> & <dbl> & <dbl> & <dbl> & <dbl> & <dbl> & <dbl> & <dbl> & <dbl>\\\\\n",
       "\\hline\n",
       "\t1 & k1  & 0.6644081 & -3.173985 & -1.9516023 & 0.4933851 & 1.1575432 & 0.4103477 & -0.1543102 & 0.1916941 &  0.9254733 &  0.5197276\\\\\n",
       "\t2 & k10 & 0.8733989 & -1.237786 & -0.8954186 & 0.9258907 & 0.4146406 & 0.2647406 &  0.7414734 & 0.7059813 & -0.2085353 & -0.9842337\\\\\n",
       "\\end{tabular}\n"
      ],
      "text/markdown": [
       "\n",
       "A data.frame: 2 × 11\n",
       "\n",
       "| <!--/--> | sample &lt;chr&gt; | Factor1_config1 &lt;dbl&gt; | Factor1_config1_weighted &lt;dbl&gt; | Factor2_config1 &lt;dbl&gt; | Factor2_config1_weighted &lt;dbl&gt; | Factor3_config1 &lt;dbl&gt; | Factor3_config1_weighted &lt;dbl&gt; | Factor4_config1 &lt;dbl&gt; | Factor4_config1_weighted &lt;dbl&gt; | Factor5_config1 &lt;dbl&gt; | Factor5_config1_weighted &lt;dbl&gt; |\n",
       "|---|---|---|---|---|---|---|---|---|---|---|---|\n",
       "| 1 | k1  | 0.6644081 | -3.173985 | -1.9516023 | 0.4933851 | 1.1575432 | 0.4103477 | -0.1543102 | 0.1916941 |  0.9254733 |  0.5197276 |\n",
       "| 2 | k10 | 0.8733989 | -1.237786 | -0.8954186 | 0.9258907 | 0.4146406 | 0.2647406 |  0.7414734 | 0.7059813 | -0.2085353 | -0.9842337 |\n",
       "\n"
      ],
      "text/plain": [
       "  sample Factor1_config1 Factor1_config1_weighted Factor2_config1\n",
       "1 k1     0.6644081       -3.173985                -1.9516023     \n",
       "2 k10    0.8733989       -1.237786                -0.8954186     \n",
       "  Factor2_config1_weighted Factor3_config1 Factor3_config1_weighted\n",
       "1 0.4933851                1.1575432       0.4103477               \n",
       "2 0.9258907                0.4146406       0.2647406               \n",
       "  Factor4_config1 Factor4_config1_weighted Factor5_config1\n",
       "1 -0.1543102      0.1916941                 0.9254733     \n",
       "2  0.7414734      0.7059813                -0.2085353     \n",
       "  Factor5_config1_weighted\n",
       "1  0.5197276              \n",
       "2 -0.9842337              "
      ]
     },
     "metadata": {},
     "output_type": "display_data"
    }
   ],
   "source": [
    "head(cor_data,2)"
   ]
  },
  {
   "cell_type": "code",
   "execution_count": 36,
   "id": "7a407679-b0ea-4539-993d-c4b73ed2c37f",
   "metadata": {},
   "outputs": [],
   "source": [
    "cor_data$sample = NULL\n",
    "correlation = cor(cor_data, use = 'pairwise.complete.obs')"
   ]
  },
  {
   "cell_type": "code",
   "execution_count": 37,
   "id": "72eb1984-fc56-4038-ab41-6769d9c5510d",
   "metadata": {},
   "outputs": [
    {
     "data": {
      "text/html": [
       "<table class=\"dataframe\">\n",
       "<caption>A matrix: 2 × 10 of type dbl</caption>\n",
       "<thead>\n",
       "\t<tr><th></th><th scope=col>Factor1_config1</th><th scope=col>Factor1_config1_weighted</th><th scope=col>Factor2_config1</th><th scope=col>Factor2_config1_weighted</th><th scope=col>Factor3_config1</th><th scope=col>Factor3_config1_weighted</th><th scope=col>Factor4_config1</th><th scope=col>Factor4_config1_weighted</th><th scope=col>Factor5_config1</th><th scope=col>Factor5_config1_weighted</th></tr>\n",
       "</thead>\n",
       "<tbody>\n",
       "\t<tr><th scope=row>Factor1_config1</th><td> 1.00000000</td><td>-0.07051291</td><td>-0.03112852</td><td> 0.97593446</td><td>-0.01624718</td><td>-0.064847811</td><td>-0.007363368</td><td>-0.002623532</td><td>0.05104008</td><td>0.07876028</td></tr>\n",
       "\t<tr><th scope=row>Factor1_config1_weighted</th><td>-0.07051291</td><td> 1.00000000</td><td> 0.79824778</td><td>-0.06773175</td><td>-0.09264334</td><td> 0.001222464</td><td>-0.151984353</td><td>-0.110519205</td><td>0.05975563</td><td>0.08554158</td></tr>\n",
       "</tbody>\n",
       "</table>\n"
      ],
      "text/latex": [
       "A matrix: 2 × 10 of type dbl\n",
       "\\begin{tabular}{r|llllllllll}\n",
       "  & Factor1\\_config1 & Factor1\\_config1\\_weighted & Factor2\\_config1 & Factor2\\_config1\\_weighted & Factor3\\_config1 & Factor3\\_config1\\_weighted & Factor4\\_config1 & Factor4\\_config1\\_weighted & Factor5\\_config1 & Factor5\\_config1\\_weighted\\\\\n",
       "\\hline\n",
       "\tFactor1\\_config1 &  1.00000000 & -0.07051291 & -0.03112852 &  0.97593446 & -0.01624718 & -0.064847811 & -0.007363368 & -0.002623532 & 0.05104008 & 0.07876028\\\\\n",
       "\tFactor1\\_config1\\_weighted & -0.07051291 &  1.00000000 &  0.79824778 & -0.06773175 & -0.09264334 &  0.001222464 & -0.151984353 & -0.110519205 & 0.05975563 & 0.08554158\\\\\n",
       "\\end{tabular}\n"
      ],
      "text/markdown": [
       "\n",
       "A matrix: 2 × 10 of type dbl\n",
       "\n",
       "| <!--/--> | Factor1_config1 | Factor1_config1_weighted | Factor2_config1 | Factor2_config1_weighted | Factor3_config1 | Factor3_config1_weighted | Factor4_config1 | Factor4_config1_weighted | Factor5_config1 | Factor5_config1_weighted |\n",
       "|---|---|---|---|---|---|---|---|---|---|---|\n",
       "| Factor1_config1 |  1.00000000 | -0.07051291 | -0.03112852 |  0.97593446 | -0.01624718 | -0.064847811 | -0.007363368 | -0.002623532 | 0.05104008 | 0.07876028 |\n",
       "| Factor1_config1_weighted | -0.07051291 |  1.00000000 |  0.79824778 | -0.06773175 | -0.09264334 |  0.001222464 | -0.151984353 | -0.110519205 | 0.05975563 | 0.08554158 |\n",
       "\n"
      ],
      "text/plain": [
       "                         Factor1_config1 Factor1_config1_weighted\n",
       "Factor1_config1           1.00000000     -0.07051291             \n",
       "Factor1_config1_weighted -0.07051291      1.00000000             \n",
       "                         Factor2_config1 Factor2_config1_weighted\n",
       "Factor1_config1          -0.03112852      0.97593446             \n",
       "Factor1_config1_weighted  0.79824778     -0.06773175             \n",
       "                         Factor3_config1 Factor3_config1_weighted\n",
       "Factor1_config1          -0.01624718     -0.064847811            \n",
       "Factor1_config1_weighted -0.09264334      0.001222464            \n",
       "                         Factor4_config1 Factor4_config1_weighted\n",
       "Factor1_config1          -0.007363368    -0.002623532            \n",
       "Factor1_config1_weighted -0.151984353    -0.110519205            \n",
       "                         Factor5_config1 Factor5_config1_weighted\n",
       "Factor1_config1          0.05104008      0.07876028              \n",
       "Factor1_config1_weighted 0.05975563      0.08554158              "
      ]
     },
     "metadata": {},
     "output_type": "display_data"
    }
   ],
   "source": [
    "head(correlation,2)"
   ]
  },
  {
   "cell_type": "code",
   "execution_count": 38,
   "id": "cf9fd339-9153-459e-a208-956e21b34e32",
   "metadata": {},
   "outputs": [],
   "source": [
    "figure_name = paste0(\"FIG07_Factor_Correlations\")"
   ]
  },
  {
   "cell_type": "code",
   "execution_count": 39,
   "id": "9c62c9f3-4ca9-4907-b135-8dab6faeb4c0",
   "metadata": {},
   "outputs": [],
   "source": [
    "# Sizes of the plot\n",
    "width_par = 8\n",
    "height_par =5"
   ]
  },
  {
   "cell_type": "code",
   "execution_count": 40,
   "id": "2b845813-6f9e-4827-820f-cbb348f5cf03",
   "metadata": {},
   "outputs": [
    {
     "data": {
      "text/plain": [
       "NULL"
      ]
     },
     "metadata": {},
     "output_type": "display_data"
    },
    {
     "data": {
      "text/html": [
       "<strong>png:</strong> 2"
      ],
      "text/latex": [
       "\\textbf{png:} 2"
      ],
      "text/markdown": [
       "**png:** 2"
      ],
      "text/plain": [
       "png \n",
       "  2 "
      ]
     },
     "metadata": {},
     "output_type": "display_data"
    }
   ],
   "source": [
    "options(repr.plot.width=40, repr.plot.height=20)\n",
    "pdf(paste0('figures/07_figures/', figure_name, '.pdf'), width =width_par, height =height_par)\n",
    "corrplot(correlation, method = 'number',  type = 'upper', col = COL2('BrBG'), tl.col = 'black', tl.cex = 0.6,   number.cex = 0.4, tl.offset = 0.2, diag = FALSE) + plot_config + theme(text = element_text(size = 5))\n",
    "dev.off()"
   ]
  },
  {
   "cell_type": "code",
   "execution_count": 41,
   "id": "9e4c19a1-14e0-4f53-bc12-96db8200fddc",
   "metadata": {},
   "outputs": [],
   "source": [
    "## Generate Table"
   ]
  },
  {
   "cell_type": "code",
   "execution_count": 42,
   "id": "9759427b-33ee-44e9-bbac-92c9e178ee0f",
   "metadata": {},
   "outputs": [],
   "source": [
    "correlation = melt(correlation)"
   ]
  },
  {
   "cell_type": "code",
   "execution_count": 43,
   "id": "98e30cce-a9f2-4787-bf09-41c94304175d",
   "metadata": {},
   "outputs": [],
   "source": [
    "correlation = correlation[correlation$Var1 != correlation$Var2,]  # remove diagonal entries"
   ]
  },
  {
   "cell_type": "code",
   "execution_count": 44,
   "id": "0e5f7797-aa5a-4bf1-8a9a-1150ff08355d",
   "metadata": {},
   "outputs": [],
   "source": [
    "colnames(correlation) = c('Factor_Config1', 'Factor_Config2', 'Pearson_Correlation')"
   ]
  },
  {
   "cell_type": "code",
   "execution_count": 45,
   "id": "876ca884-81db-409b-a98e-bf99c2a29680",
   "metadata": {},
   "outputs": [
    {
     "data": {
      "text/html": [
       "<table class=\"dataframe\">\n",
       "<caption>A data.frame: 2 × 3</caption>\n",
       "<thead>\n",
       "\t<tr><th></th><th scope=col>Factor_Config1</th><th scope=col>Factor_Config2</th><th scope=col>Pearson_Correlation</th></tr>\n",
       "\t<tr><th></th><th scope=col>&lt;fct&gt;</th><th scope=col>&lt;fct&gt;</th><th scope=col>&lt;dbl&gt;</th></tr>\n",
       "</thead>\n",
       "<tbody>\n",
       "\t<tr><th scope=row>2</th><td>Factor1_config1_weighted</td><td>Factor1_config1</td><td>-0.07051291</td></tr>\n",
       "\t<tr><th scope=row>3</th><td>Factor2_config1         </td><td>Factor1_config1</td><td>-0.03112852</td></tr>\n",
       "</tbody>\n",
       "</table>\n"
      ],
      "text/latex": [
       "A data.frame: 2 × 3\n",
       "\\begin{tabular}{r|lll}\n",
       "  & Factor\\_Config1 & Factor\\_Config2 & Pearson\\_Correlation\\\\\n",
       "  & <fct> & <fct> & <dbl>\\\\\n",
       "\\hline\n",
       "\t2 & Factor1\\_config1\\_weighted & Factor1\\_config1 & -0.07051291\\\\\n",
       "\t3 & Factor2\\_config1          & Factor1\\_config1 & -0.03112852\\\\\n",
       "\\end{tabular}\n"
      ],
      "text/markdown": [
       "\n",
       "A data.frame: 2 × 3\n",
       "\n",
       "| <!--/--> | Factor_Config1 &lt;fct&gt; | Factor_Config2 &lt;fct&gt; | Pearson_Correlation &lt;dbl&gt; |\n",
       "|---|---|---|---|\n",
       "| 2 | Factor1_config1_weighted | Factor1_config1 | -0.07051291 |\n",
       "| 3 | Factor2_config1          | Factor1_config1 | -0.03112852 |\n",
       "\n"
      ],
      "text/plain": [
       "  Factor_Config1           Factor_Config2  Pearson_Correlation\n",
       "2 Factor1_config1_weighted Factor1_config1 -0.07051291        \n",
       "3 Factor2_config1          Factor1_config1 -0.03112852        "
      ]
     },
     "metadata": {},
     "output_type": "display_data"
    }
   ],
   "source": [
    "head(correlation ,2)"
   ]
  },
  {
   "cell_type": "code",
   "execution_count": 46,
   "id": "458e070f-b066-4247-b386-21727c11cec3",
   "metadata": {},
   "outputs": [],
   "source": [
    "## Save result\n",
    "write.csv(correlation, paste0(result_path, '/07_results/07_Factor_Correlations',  '.csv'), row.names = FALSE)"
   ]
  },
  {
   "cell_type": "markdown",
   "id": "159c5730-d874-4b2b-b85d-195bb843bc7c",
   "metadata": {},
   "source": [
    "## Compare feature weights"
   ]
  },
  {
   "cell_type": "code",
   "execution_count": 47,
   "id": "2da7ab74-f820-4cea-a8d3-717daa6e070d",
   "metadata": {},
   "outputs": [],
   "source": [
    "weights = lapply(model_list, function(x){\n",
    "    get_weights(x, views = \"all\", factors = \"all\")\n",
    "    })"
   ]
  },
  {
   "cell_type": "code",
   "execution_count": 48,
   "id": "79918c38-9ef9-42c2-8fa4-7f4e54b311fd",
   "metadata": {},
   "outputs": [],
   "source": [
    "weight_data = data.frame()"
   ]
  },
  {
   "cell_type": "code",
   "execution_count": 49,
   "id": "c4ff1097-e7ad-428f-ab65-20c75315e0ab",
   "metadata": {
    "tags": []
   },
   "outputs": [
    {
     "name": "stderr",
     "output_type": "stream",
     "text": [
      "Using view, configuration, feature as id variables\n",
      "\n",
      "Using view, configuration, feature as id variables\n",
      "\n",
      "Using view, configuration, feature as id variables\n",
      "\n",
      "Using view, configuration, feature as id variables\n",
      "\n",
      "Using view, configuration, feature as id variables\n",
      "\n",
      "Using view, configuration, feature as id variables\n",
      "\n",
      "Using view, configuration, feature as id variables\n",
      "\n",
      "Using view, configuration, feature as id variables\n",
      "\n",
      "Using view, configuration, feature as id variables\n",
      "\n",
      "Using view, configuration, feature as id variables\n",
      "\n",
      "Using view, configuration, feature as id variables\n",
      "\n",
      "Using view, configuration, feature as id variables\n",
      "\n",
      "Using view, configuration, feature as id variables\n",
      "\n",
      "Using view, configuration, feature as id variables\n",
      "\n",
      "Using view, configuration, feature as id variables\n",
      "\n",
      "Using view, configuration, feature as id variables\n",
      "\n",
      "Using view, configuration, feature as id variables\n",
      "\n",
      "Using view, configuration, feature as id variables\n",
      "\n",
      "Using view, configuration, feature as id variables\n",
      "\n",
      "Using view, configuration, feature as id variables\n",
      "\n",
      "Using view, configuration, feature as id variables\n",
      "\n",
      "Using view, configuration, feature as id variables\n",
      "\n",
      "Using view, configuration, feature as id variables\n",
      "\n",
      "Using view, configuration, feature as id variables\n",
      "\n",
      "Using view, configuration, feature as id variables\n",
      "\n",
      "Using view, configuration, feature as id variables\n",
      "\n",
      "Using view, configuration, feature as id variables\n",
      "\n",
      "Using view, configuration, feature as id variables\n",
      "\n",
      "Using view, configuration, feature as id variables\n",
      "\n",
      "Using view, configuration, feature as id variables\n",
      "\n",
      "Using view, configuration, feature as id variables\n",
      "\n",
      "Using view, configuration, feature as id variables\n",
      "\n",
      "Using view, configuration, feature as id variables\n",
      "\n",
      "Using view, configuration, feature as id variables\n",
      "\n"
     ]
    }
   ],
   "source": [
    "for(j in names(weights)){\n",
    "    weights_factor_amount = weights[[j]]\n",
    "\n",
    "    for (i in names(weights_factor_amount)){\n",
    "        data = data.frame(weights_factor_amount[[i]])\n",
    "        data$view = i\n",
    "        data$configuration = j\n",
    "        data$feature = rownames(data)\n",
    "        \n",
    "        data = melt(data)\n",
    "        # filter on relevant factors for comparison\n",
    "        data = data[data$variable %in% unlist(str_split(comparison_configs$compare_factors[comparison_configs$mofa_result_name == j], ',')),]\n",
    "        \n",
    "        weight_data = rbind(weight_data,data)\n",
    "        }\n",
    "    }"
   ]
  },
  {
   "cell_type": "code",
   "execution_count": 50,
   "id": "d5a3b6de-192d-49b8-bf65-9d77dd2be6a9",
   "metadata": {
    "tags": []
   },
   "outputs": [
    {
     "data": {
      "text/html": [
       "<table class=\"dataframe\">\n",
       "<caption>A data.frame: 2 × 5</caption>\n",
       "<thead>\n",
       "\t<tr><th></th><th scope=col>view</th><th scope=col>configuration</th><th scope=col>feature</th><th scope=col>variable</th><th scope=col>value</th></tr>\n",
       "\t<tr><th></th><th scope=col>&lt;chr&gt;</th><th scope=col>&lt;chr&gt;</th><th scope=col>&lt;chr&gt;</th><th scope=col>&lt;fct&gt;</th><th scope=col>&lt;dbl&gt;</th></tr>\n",
       "</thead>\n",
       "<tbody>\n",
       "\t<tr><th scope=row>1</th><td>B.cell</td><td>config1</td><td>B.cell__ACTB </td><td>Factor1</td><td>-0.21732116</td></tr>\n",
       "\t<tr><th scope=row>2</th><td>B.cell</td><td>config1</td><td>B.cell__ACTG1</td><td>Factor1</td><td>-0.03822634</td></tr>\n",
       "</tbody>\n",
       "</table>\n"
      ],
      "text/latex": [
       "A data.frame: 2 × 5\n",
       "\\begin{tabular}{r|lllll}\n",
       "  & view & configuration & feature & variable & value\\\\\n",
       "  & <chr> & <chr> & <chr> & <fct> & <dbl>\\\\\n",
       "\\hline\n",
       "\t1 & B.cell & config1 & B.cell\\_\\_ACTB  & Factor1 & -0.21732116\\\\\n",
       "\t2 & B.cell & config1 & B.cell\\_\\_ACTG1 & Factor1 & -0.03822634\\\\\n",
       "\\end{tabular}\n"
      ],
      "text/markdown": [
       "\n",
       "A data.frame: 2 × 5\n",
       "\n",
       "| <!--/--> | view &lt;chr&gt; | configuration &lt;chr&gt; | feature &lt;chr&gt; | variable &lt;fct&gt; | value &lt;dbl&gt; |\n",
       "|---|---|---|---|---|---|\n",
       "| 1 | B.cell | config1 | B.cell__ACTB  | Factor1 | -0.21732116 |\n",
       "| 2 | B.cell | config1 | B.cell__ACTG1 | Factor1 | -0.03822634 |\n",
       "\n"
      ],
      "text/plain": [
       "  view   configuration feature       variable value      \n",
       "1 B.cell config1       B.cell__ACTB  Factor1  -0.21732116\n",
       "2 B.cell config1       B.cell__ACTG1 Factor1  -0.03822634"
      ]
     },
     "metadata": {},
     "output_type": "display_data"
    }
   ],
   "source": [
    "head(weight_data,2)"
   ]
  },
  {
   "cell_type": "code",
   "execution_count": 51,
   "id": "ebbf42ea-7242-4629-9e47-1816a44be74b",
   "metadata": {},
   "outputs": [],
   "source": [
    "weight_data$configuration = paste0(weight_data$variable, '_',weight_data$configuration)\n",
    "weight_data$view_feature = paste0(weight_data$view, '__', weight_data$feature)\n",
    "weight_data$view_feature =  str_replace_all(weight_data$view_feature, ' ', '')\n",
    "weight_data$view_feature = str_replace_all(weight_data$view_feature, '\\\\.', '')"
   ]
  },
  {
   "cell_type": "code",
   "execution_count": 52,
   "id": "84834857-8f4b-45ea-9e59-62a44fc401c2",
   "metadata": {},
   "outputs": [
    {
     "data": {
      "text/html": [
       "<table class=\"dataframe\">\n",
       "<caption>A data.frame: 2 × 6</caption>\n",
       "<thead>\n",
       "\t<tr><th></th><th scope=col>view</th><th scope=col>configuration</th><th scope=col>feature</th><th scope=col>variable</th><th scope=col>value</th><th scope=col>view_feature</th></tr>\n",
       "\t<tr><th></th><th scope=col>&lt;chr&gt;</th><th scope=col>&lt;chr&gt;</th><th scope=col>&lt;chr&gt;</th><th scope=col>&lt;fct&gt;</th><th scope=col>&lt;dbl&gt;</th><th scope=col>&lt;chr&gt;</th></tr>\n",
       "</thead>\n",
       "<tbody>\n",
       "\t<tr><th scope=row>1</th><td>B.cell</td><td>Factor1_config1</td><td>B.cell__ACTB </td><td>Factor1</td><td>-0.21732116</td><td>Bcell__Bcell__ACTB </td></tr>\n",
       "\t<tr><th scope=row>2</th><td>B.cell</td><td>Factor1_config1</td><td>B.cell__ACTG1</td><td>Factor1</td><td>-0.03822634</td><td>Bcell__Bcell__ACTG1</td></tr>\n",
       "</tbody>\n",
       "</table>\n"
      ],
      "text/latex": [
       "A data.frame: 2 × 6\n",
       "\\begin{tabular}{r|llllll}\n",
       "  & view & configuration & feature & variable & value & view\\_feature\\\\\n",
       "  & <chr> & <chr> & <chr> & <fct> & <dbl> & <chr>\\\\\n",
       "\\hline\n",
       "\t1 & B.cell & Factor1\\_config1 & B.cell\\_\\_ACTB  & Factor1 & -0.21732116 & Bcell\\_\\_Bcell\\_\\_ACTB \\\\\n",
       "\t2 & B.cell & Factor1\\_config1 & B.cell\\_\\_ACTG1 & Factor1 & -0.03822634 & Bcell\\_\\_Bcell\\_\\_ACTG1\\\\\n",
       "\\end{tabular}\n"
      ],
      "text/markdown": [
       "\n",
       "A data.frame: 2 × 6\n",
       "\n",
       "| <!--/--> | view &lt;chr&gt; | configuration &lt;chr&gt; | feature &lt;chr&gt; | variable &lt;fct&gt; | value &lt;dbl&gt; | view_feature &lt;chr&gt; |\n",
       "|---|---|---|---|---|---|---|\n",
       "| 1 | B.cell | Factor1_config1 | B.cell__ACTB  | Factor1 | -0.21732116 | Bcell__Bcell__ACTB  |\n",
       "| 2 | B.cell | Factor1_config1 | B.cell__ACTG1 | Factor1 | -0.03822634 | Bcell__Bcell__ACTG1 |\n",
       "\n"
      ],
      "text/plain": [
       "  view   configuration   feature       variable value       view_feature       \n",
       "1 B.cell Factor1_config1 B.cell__ACTB  Factor1  -0.21732116 Bcell__Bcell__ACTB \n",
       "2 B.cell Factor1_config1 B.cell__ACTG1 Factor1  -0.03822634 Bcell__Bcell__ACTG1"
      ]
     },
     "metadata": {},
     "output_type": "display_data"
    }
   ],
   "source": [
    "head(weight_data,2)"
   ]
  },
  {
   "cell_type": "code",
   "execution_count": 53,
   "id": "6fe9d7a0-0c93-4ac8-a549-3d0a8c719d3e",
   "metadata": {},
   "outputs": [],
   "source": [
    "cor_data = weight_data %>% dcast(view_feature ~ configuration, value.var = 'value')"
   ]
  },
  {
   "cell_type": "code",
   "execution_count": 54,
   "id": "a8690aea-a2dc-46c5-a62a-846872c706c3",
   "metadata": {},
   "outputs": [
    {
     "data": {
      "text/html": [
       "<table class=\"dataframe\">\n",
       "<caption>A data.frame: 2 × 11</caption>\n",
       "<thead>\n",
       "\t<tr><th></th><th scope=col>view_feature</th><th scope=col>Factor1_config1</th><th scope=col>Factor1_config1_weighted</th><th scope=col>Factor2_config1</th><th scope=col>Factor2_config1_weighted</th><th scope=col>Factor3_config1</th><th scope=col>Factor3_config1_weighted</th><th scope=col>Factor4_config1</th><th scope=col>Factor4_config1_weighted</th><th scope=col>Factor5_config1</th><th scope=col>Factor5_config1_weighted</th></tr>\n",
       "\t<tr><th></th><th scope=col>&lt;chr&gt;</th><th scope=col>&lt;dbl&gt;</th><th scope=col>&lt;dbl&gt;</th><th scope=col>&lt;dbl&gt;</th><th scope=col>&lt;dbl&gt;</th><th scope=col>&lt;dbl&gt;</th><th scope=col>&lt;dbl&gt;</th><th scope=col>&lt;dbl&gt;</th><th scope=col>&lt;dbl&gt;</th><th scope=col>&lt;dbl&gt;</th><th scope=col>&lt;dbl&gt;</th></tr>\n",
       "</thead>\n",
       "<tbody>\n",
       "\t<tr><th scope=row>1</th><td>Bcell__Bcell__ACTB </td><td>-0.21732116</td><td>0.1839543</td><td> 0.18824680</td><td>-0.18950829</td><td>-0.11174294</td><td> 0.002446882</td><td>0.08027010</td><td>-0.006809727</td><td>-0.06805549</td><td>-0.038558220</td></tr>\n",
       "\t<tr><th scope=row>2</th><td>Bcell__Bcell__ACTG1</td><td>-0.03822634</td><td>0.0346680</td><td>-0.02855239</td><td>-0.03312262</td><td>-0.04507595</td><td>-0.007437024</td><td>0.06292246</td><td>-0.014656595</td><td>-0.05201821</td><td> 0.001974613</td></tr>\n",
       "</tbody>\n",
       "</table>\n"
      ],
      "text/latex": [
       "A data.frame: 2 × 11\n",
       "\\begin{tabular}{r|lllllllllll}\n",
       "  & view\\_feature & Factor1\\_config1 & Factor1\\_config1\\_weighted & Factor2\\_config1 & Factor2\\_config1\\_weighted & Factor3\\_config1 & Factor3\\_config1\\_weighted & Factor4\\_config1 & Factor4\\_config1\\_weighted & Factor5\\_config1 & Factor5\\_config1\\_weighted\\\\\n",
       "  & <chr> & <dbl> & <dbl> & <dbl> & <dbl> & <dbl> & <dbl> & <dbl> & <dbl> & <dbl> & <dbl>\\\\\n",
       "\\hline\n",
       "\t1 & Bcell\\_\\_Bcell\\_\\_ACTB  & -0.21732116 & 0.1839543 &  0.18824680 & -0.18950829 & -0.11174294 &  0.002446882 & 0.08027010 & -0.006809727 & -0.06805549 & -0.038558220\\\\\n",
       "\t2 & Bcell\\_\\_Bcell\\_\\_ACTG1 & -0.03822634 & 0.0346680 & -0.02855239 & -0.03312262 & -0.04507595 & -0.007437024 & 0.06292246 & -0.014656595 & -0.05201821 &  0.001974613\\\\\n",
       "\\end{tabular}\n"
      ],
      "text/markdown": [
       "\n",
       "A data.frame: 2 × 11\n",
       "\n",
       "| <!--/--> | view_feature &lt;chr&gt; | Factor1_config1 &lt;dbl&gt; | Factor1_config1_weighted &lt;dbl&gt; | Factor2_config1 &lt;dbl&gt; | Factor2_config1_weighted &lt;dbl&gt; | Factor3_config1 &lt;dbl&gt; | Factor3_config1_weighted &lt;dbl&gt; | Factor4_config1 &lt;dbl&gt; | Factor4_config1_weighted &lt;dbl&gt; | Factor5_config1 &lt;dbl&gt; | Factor5_config1_weighted &lt;dbl&gt; |\n",
       "|---|---|---|---|---|---|---|---|---|---|---|---|\n",
       "| 1 | Bcell__Bcell__ACTB  | -0.21732116 | 0.1839543 |  0.18824680 | -0.18950829 | -0.11174294 |  0.002446882 | 0.08027010 | -0.006809727 | -0.06805549 | -0.038558220 |\n",
       "| 2 | Bcell__Bcell__ACTG1 | -0.03822634 | 0.0346680 | -0.02855239 | -0.03312262 | -0.04507595 | -0.007437024 | 0.06292246 | -0.014656595 | -0.05201821 |  0.001974613 |\n",
       "\n"
      ],
      "text/plain": [
       "  view_feature        Factor1_config1 Factor1_config1_weighted Factor2_config1\n",
       "1 Bcell__Bcell__ACTB  -0.21732116     0.1839543                 0.18824680    \n",
       "2 Bcell__Bcell__ACTG1 -0.03822634     0.0346680                -0.02855239    \n",
       "  Factor2_config1_weighted Factor3_config1 Factor3_config1_weighted\n",
       "1 -0.18950829              -0.11174294      0.002446882            \n",
       "2 -0.03312262              -0.04507595     -0.007437024            \n",
       "  Factor4_config1 Factor4_config1_weighted Factor5_config1\n",
       "1 0.08027010      -0.006809727             -0.06805549    \n",
       "2 0.06292246      -0.014656595             -0.05201821    \n",
       "  Factor5_config1_weighted\n",
       "1 -0.038558220            \n",
       "2  0.001974613            "
      ]
     },
     "metadata": {},
     "output_type": "display_data"
    }
   ],
   "source": [
    "head(cor_data,2)"
   ]
  },
  {
   "cell_type": "code",
   "execution_count": 55,
   "id": "26f041dd-ab08-43e1-9db2-f8bed7152929",
   "metadata": {},
   "outputs": [],
   "source": [
    "cor_data$view_feature = NULL\n",
    "correlation = cor(cor_data, use = 'pairwise.complete.obs')"
   ]
  },
  {
   "cell_type": "code",
   "execution_count": 56,
   "id": "50cdd0a5-199a-4da4-8043-64cd7c693892",
   "metadata": {},
   "outputs": [
    {
     "data": {
      "text/html": [
       "<table class=\"dataframe\">\n",
       "<caption>A matrix: 2 × 10 of type dbl</caption>\n",
       "<thead>\n",
       "\t<tr><th></th><th scope=col>Factor1_config1</th><th scope=col>Factor1_config1_weighted</th><th scope=col>Factor2_config1</th><th scope=col>Factor2_config1_weighted</th><th scope=col>Factor3_config1</th><th scope=col>Factor3_config1_weighted</th><th scope=col>Factor4_config1</th><th scope=col>Factor4_config1_weighted</th><th scope=col>Factor5_config1</th><th scope=col>Factor5_config1_weighted</th></tr>\n",
       "</thead>\n",
       "<tbody>\n",
       "\t<tr><th scope=row>Factor1_config1</th><td>1.00000000</td><td>0.02126009</td><td>-0.01879164</td><td>0.9827013</td><td>-0.007151819</td><td>-0.0229192</td><td>-0.06781573</td><td>-0.1259136</td><td>0.021504795</td><td> 0.03562152</td></tr>\n",
       "\t<tr><th scope=row>Factor1_config1_weighted</th><td>0.02126009</td><td>1.00000000</td><td> 0.93055251</td><td>0.1095240</td><td>-0.021922091</td><td> 0.1138339</td><td>-0.08849836</td><td> 0.1422697</td><td>0.008213468</td><td>-0.14706355</td></tr>\n",
       "</tbody>\n",
       "</table>\n"
      ],
      "text/latex": [
       "A matrix: 2 × 10 of type dbl\n",
       "\\begin{tabular}{r|llllllllll}\n",
       "  & Factor1\\_config1 & Factor1\\_config1\\_weighted & Factor2\\_config1 & Factor2\\_config1\\_weighted & Factor3\\_config1 & Factor3\\_config1\\_weighted & Factor4\\_config1 & Factor4\\_config1\\_weighted & Factor5\\_config1 & Factor5\\_config1\\_weighted\\\\\n",
       "\\hline\n",
       "\tFactor1\\_config1 & 1.00000000 & 0.02126009 & -0.01879164 & 0.9827013 & -0.007151819 & -0.0229192 & -0.06781573 & -0.1259136 & 0.021504795 &  0.03562152\\\\\n",
       "\tFactor1\\_config1\\_weighted & 0.02126009 & 1.00000000 &  0.93055251 & 0.1095240 & -0.021922091 &  0.1138339 & -0.08849836 &  0.1422697 & 0.008213468 & -0.14706355\\\\\n",
       "\\end{tabular}\n"
      ],
      "text/markdown": [
       "\n",
       "A matrix: 2 × 10 of type dbl\n",
       "\n",
       "| <!--/--> | Factor1_config1 | Factor1_config1_weighted | Factor2_config1 | Factor2_config1_weighted | Factor3_config1 | Factor3_config1_weighted | Factor4_config1 | Factor4_config1_weighted | Factor5_config1 | Factor5_config1_weighted |\n",
       "|---|---|---|---|---|---|---|---|---|---|---|\n",
       "| Factor1_config1 | 1.00000000 | 0.02126009 | -0.01879164 | 0.9827013 | -0.007151819 | -0.0229192 | -0.06781573 | -0.1259136 | 0.021504795 |  0.03562152 |\n",
       "| Factor1_config1_weighted | 0.02126009 | 1.00000000 |  0.93055251 | 0.1095240 | -0.021922091 |  0.1138339 | -0.08849836 |  0.1422697 | 0.008213468 | -0.14706355 |\n",
       "\n"
      ],
      "text/plain": [
       "                         Factor1_config1 Factor1_config1_weighted\n",
       "Factor1_config1          1.00000000      0.02126009              \n",
       "Factor1_config1_weighted 0.02126009      1.00000000              \n",
       "                         Factor2_config1 Factor2_config1_weighted\n",
       "Factor1_config1          -0.01879164     0.9827013               \n",
       "Factor1_config1_weighted  0.93055251     0.1095240               \n",
       "                         Factor3_config1 Factor3_config1_weighted\n",
       "Factor1_config1          -0.007151819    -0.0229192              \n",
       "Factor1_config1_weighted -0.021922091     0.1138339              \n",
       "                         Factor4_config1 Factor4_config1_weighted\n",
       "Factor1_config1          -0.06781573     -0.1259136              \n",
       "Factor1_config1_weighted -0.08849836      0.1422697              \n",
       "                         Factor5_config1 Factor5_config1_weighted\n",
       "Factor1_config1          0.021504795      0.03562152             \n",
       "Factor1_config1_weighted 0.008213468     -0.14706355             "
      ]
     },
     "metadata": {},
     "output_type": "display_data"
    }
   ],
   "source": [
    "head(correlation,2)"
   ]
  },
  {
   "cell_type": "code",
   "execution_count": 57,
   "id": "ff896574-27a3-4ba5-95d0-f5e89b52697b",
   "metadata": {},
   "outputs": [],
   "source": [
    "figure_name = paste0(\"FIG07_Feature_Correlations\")"
   ]
  },
  {
   "cell_type": "code",
   "execution_count": 58,
   "id": "8ffa4b03-0812-4a06-88e5-00caaf424a4c",
   "metadata": {},
   "outputs": [],
   "source": [
    "# Sizes of the plot\n",
    "width_par = 8\n",
    "height_par =5"
   ]
  },
  {
   "cell_type": "code",
   "execution_count": 59,
   "id": "c8863706-fa41-48d5-829d-66a7dd9bbec3",
   "metadata": {},
   "outputs": [
    {
     "data": {
      "text/plain": [
       "NULL"
      ]
     },
     "metadata": {},
     "output_type": "display_data"
    },
    {
     "data": {
      "text/html": [
       "<strong>png:</strong> 2"
      ],
      "text/latex": [
       "\\textbf{png:} 2"
      ],
      "text/markdown": [
       "**png:** 2"
      ],
      "text/plain": [
       "png \n",
       "  2 "
      ]
     },
     "metadata": {},
     "output_type": "display_data"
    }
   ],
   "source": [
    "options(repr.plot.width=40, repr.plot.height=20)\n",
    "pdf(paste0('figures/07_figures/', figure_name, '.pdf'), width =width_par, height =height_par)\n",
    "corrplot(correlation, method = 'number',  type = 'lower', col = COL2('BrBG'), tl.col = 'black', tl.cex = 0.6, tl.srt = 90, number.cex = 0.4, tl.offset = 0.2, diag = FALSE) + plot_config + theme(text = element_text(size = 5))\n",
    "dev.off()"
   ]
  },
  {
   "cell_type": "code",
   "execution_count": 60,
   "id": "0929eb76-cbf5-4e01-b534-80e77fdd09db",
   "metadata": {},
   "outputs": [],
   "source": [
    "## Generate Table"
   ]
  },
  {
   "cell_type": "code",
   "execution_count": 61,
   "id": "08db2e8a-f536-4125-9a3f-59b1c5137177",
   "metadata": {},
   "outputs": [],
   "source": [
    "correlation = melt(correlation)"
   ]
  },
  {
   "cell_type": "code",
   "execution_count": 62,
   "id": "59c53b8c-14b0-415a-89fd-d992baf52ce5",
   "metadata": {},
   "outputs": [],
   "source": [
    "correlation = correlation[correlation$Var1 != correlation$Var2,]  # remove diagonal entries"
   ]
  },
  {
   "cell_type": "code",
   "execution_count": 63,
   "id": "c342af83-6a50-437c-a724-f44b5caf9f76",
   "metadata": {},
   "outputs": [],
   "source": [
    "colnames(correlation) = c('Factor_Config1', 'Factor_Config2', 'Pearson_Correlation')"
   ]
  },
  {
   "cell_type": "code",
   "execution_count": 64,
   "id": "6267bdcc-fd92-4724-beef-947b6212e53d",
   "metadata": {},
   "outputs": [
    {
     "data": {
      "text/html": [
       "<table class=\"dataframe\">\n",
       "<caption>A data.frame: 2 × 3</caption>\n",
       "<thead>\n",
       "\t<tr><th></th><th scope=col>Factor_Config1</th><th scope=col>Factor_Config2</th><th scope=col>Pearson_Correlation</th></tr>\n",
       "\t<tr><th></th><th scope=col>&lt;fct&gt;</th><th scope=col>&lt;fct&gt;</th><th scope=col>&lt;dbl&gt;</th></tr>\n",
       "</thead>\n",
       "<tbody>\n",
       "\t<tr><th scope=row>2</th><td>Factor1_config1_weighted</td><td>Factor1_config1</td><td> 0.02126009</td></tr>\n",
       "\t<tr><th scope=row>3</th><td>Factor2_config1         </td><td>Factor1_config1</td><td>-0.01879164</td></tr>\n",
       "</tbody>\n",
       "</table>\n"
      ],
      "text/latex": [
       "A data.frame: 2 × 3\n",
       "\\begin{tabular}{r|lll}\n",
       "  & Factor\\_Config1 & Factor\\_Config2 & Pearson\\_Correlation\\\\\n",
       "  & <fct> & <fct> & <dbl>\\\\\n",
       "\\hline\n",
       "\t2 & Factor1\\_config1\\_weighted & Factor1\\_config1 &  0.02126009\\\\\n",
       "\t3 & Factor2\\_config1          & Factor1\\_config1 & -0.01879164\\\\\n",
       "\\end{tabular}\n"
      ],
      "text/markdown": [
       "\n",
       "A data.frame: 2 × 3\n",
       "\n",
       "| <!--/--> | Factor_Config1 &lt;fct&gt; | Factor_Config2 &lt;fct&gt; | Pearson_Correlation &lt;dbl&gt; |\n",
       "|---|---|---|---|\n",
       "| 2 | Factor1_config1_weighted | Factor1_config1 |  0.02126009 |\n",
       "| 3 | Factor2_config1          | Factor1_config1 | -0.01879164 |\n",
       "\n"
      ],
      "text/plain": [
       "  Factor_Config1           Factor_Config2  Pearson_Correlation\n",
       "2 Factor1_config1_weighted Factor1_config1  0.02126009        \n",
       "3 Factor2_config1          Factor1_config1 -0.01879164        "
      ]
     },
     "metadata": {},
     "output_type": "display_data"
    }
   ],
   "source": [
    "head(correlation ,2)"
   ]
  },
  {
   "cell_type": "code",
   "execution_count": 65,
   "id": "3121ce6b-00eb-46ae-ab5a-2cb9d49ddbcf",
   "metadata": {},
   "outputs": [],
   "source": [
    "## Save result\n",
    "write.csv(correlation, paste0(result_path, '/07_results/07_Feature_Correlations',  '.csv'), row.names = FALSE)"
   ]
  },
  {
   "cell_type": "code",
   "execution_count": null,
   "id": "88197e31-294f-4772-9c92-aacb7e4333ee",
   "metadata": {},
   "outputs": [],
   "source": []
  },
  {
   "cell_type": "code",
   "execution_count": null,
   "id": "0513fb4a-08a1-432b-b6b5-b982a14d6dbe",
   "metadata": {},
   "outputs": [],
   "source": []
  }
 ],
 "metadata": {
  "kernelspec": {
   "display_name": "R",
   "language": "R",
   "name": "ir"
  },
  "language_info": {
   "codemirror_mode": "r",
   "file_extension": ".r",
   "mimetype": "text/x-r-source",
   "name": "R",
   "pygments_lexer": "r",
   "version": "4.3.2"
  },
  "toc-autonumbering": true
 },
 "nbformat": 4,
 "nbformat_minor": 5
}
