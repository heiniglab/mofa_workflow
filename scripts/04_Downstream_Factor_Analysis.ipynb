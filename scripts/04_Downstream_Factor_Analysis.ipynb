{
 "cells": [
  {
   "cell_type": "code",
   "execution_count": 759,
   "id": "d182c426-4d95-4dee-a099-cd923e9437d7",
   "metadata": {},
   "outputs": [],
   "source": [
    "### Analyze MOFA MODEL Results\n",
    "### Associate the generated factors with sample meta-data covariates and plot the top features per factor"
   ]
  },
  {
   "cell_type": "markdown",
   "id": "213d69de-4705-4a6e-9387-b1a3413172eb",
   "metadata": {
    "tags": []
   },
   "source": [
    "#############################################\n",
    "# Prerequisites - Load Libraries"
   ]
  },
  {
   "cell_type": "code",
   "execution_count": 760,
   "id": "9957e32b-eaec-4762-95cd-e089cc1cdc60",
   "metadata": {
    "tags": []
   },
   "outputs": [
    {
     "name": "stderr",
     "output_type": "stream",
     "text": [
      "Warning message in read.table(file = file, header = header, sep = sep, quote = quote, :\n",
      "“incomplete final line found by readTableHeader on '../conda_environment/Environment_Configs.csv'”\n"
     ]
    },
    {
     "name": "stdout",
     "output_type": "stream",
     "text": [
      "[1] \"/home/icb/corinna.losert/miniconda3/envs/mofa_analysis//lib/R/library\"\n"
     ]
    }
   ],
   "source": [
    "source('MS0_Libraries.r')"
   ]
  },
  {
   "cell_type": "code",
   "execution_count": 761,
   "id": "45fcc655-2176-406c-9f49-5e5b9379a275",
   "metadata": {
    "tags": []
   },
   "outputs": [],
   "source": [
    "source('MS2_Plot_Config.r')"
   ]
  },
  {
   "cell_type": "code",
   "execution_count": 762,
   "id": "a05c2a3f-a558-4041-9545-16235c26f5bf",
   "metadata": {},
   "outputs": [],
   "source": [
    "source('MS1_Functions.r')"
   ]
  },
  {
   "cell_type": "markdown",
   "id": "9d409d14-a693-4722-9648-4b6bacb4b74a",
   "metadata": {
    "tags": []
   },
   "source": [
    "###############################################\n",
    "# Preqrequisites Configurations & Parameters"
   ]
  },
  {
   "cell_type": "code",
   "execution_count": 763,
   "id": "fc97e073-8117-49f6-855a-291d571e6bc6",
   "metadata": {
    "tags": []
   },
   "outputs": [],
   "source": [
    "### Load the parameters that are set via the configuration files"
   ]
  },
  {
   "cell_type": "code",
   "execution_count": 764,
   "id": "10f0a36b-6b38-40a3-90f7-fa4f33c168fd",
   "metadata": {},
   "outputs": [
    {
     "name": "stderr",
     "output_type": "stream",
     "text": [
      "Warning message in read.table(file = file, header = header, sep = sep, quote = quote, :\n",
      "“incomplete final line found by readTableHeader on 'configurations/Data_Configs.csv'”\n"
     ]
    }
   ],
   "source": [
    "### Load configurations file\n",
    "global_configs = read.csv('configurations/Data_Configs.csv', sep = ',')"
   ]
  },
  {
   "cell_type": "code",
   "execution_count": 765,
   "id": "3befb331-1345-4b69-9a5d-8352ae4eb9c0",
   "metadata": {},
   "outputs": [
    {
     "data": {
      "text/html": [
       "<table class=\"dataframe\">\n",
       "<caption>A data.frame: 2 × 2</caption>\n",
       "<thead>\n",
       "\t<tr><th></th><th scope=col>parameter</th><th scope=col>value</th></tr>\n",
       "\t<tr><th></th><th scope=col>&lt;chr&gt;</th><th scope=col>&lt;chr&gt;</th></tr>\n",
       "</thead>\n",
       "<tbody>\n",
       "\t<tr><th scope=row>1</th><td>data_path  </td><td>/lustre/groups/epigenereg01/workspace/projects/jove/example_data/   </td></tr>\n",
       "\t<tr><th scope=row>2</th><td>result_path</td><td>/lustre/groups/epigenereg01/workspace/projects/jove/example_results/</td></tr>\n",
       "</tbody>\n",
       "</table>\n"
      ],
      "text/latex": [
       "A data.frame: 2 × 2\n",
       "\\begin{tabular}{r|ll}\n",
       "  & parameter & value\\\\\n",
       "  & <chr> & <chr>\\\\\n",
       "\\hline\n",
       "\t1 & data\\_path   & /lustre/groups/epigenereg01/workspace/projects/jove/example\\_data/   \\\\\n",
       "\t2 & result\\_path & /lustre/groups/epigenereg01/workspace/projects/jove/example\\_results/\\\\\n",
       "\\end{tabular}\n"
      ],
      "text/markdown": [
       "\n",
       "A data.frame: 2 × 2\n",
       "\n",
       "| <!--/--> | parameter &lt;chr&gt; | value &lt;chr&gt; |\n",
       "|---|---|---|\n",
       "| 1 | data_path   | /lustre/groups/epigenereg01/workspace/projects/jove/example_data/    |\n",
       "| 2 | result_path | /lustre/groups/epigenereg01/workspace/projects/jove/example_results/ |\n",
       "\n"
      ],
      "text/plain": [
       "  parameter  \n",
       "1 data_path  \n",
       "2 result_path\n",
       "  value                                                               \n",
       "1 /lustre/groups/epigenereg01/workspace/projects/jove/example_data/   \n",
       "2 /lustre/groups/epigenereg01/workspace/projects/jove/example_results/"
      ]
     },
     "metadata": {},
     "output_type": "display_data"
    }
   ],
   "source": [
    "head(global_configs,2)"
   ]
  },
  {
   "cell_type": "code",
   "execution_count": 766,
   "id": "5ff98fe3-d06d-4a60-a442-4c60c5d943f6",
   "metadata": {},
   "outputs": [],
   "source": [
    "data_path = global_configs$value[global_configs$parameter == 'data_path']"
   ]
  },
  {
   "cell_type": "code",
   "execution_count": 767,
   "id": "b5cd65ff-01d7-4997-95cd-65173db0ff11",
   "metadata": {},
   "outputs": [
    {
     "data": {
      "text/html": [
       "'/lustre/groups/epigenereg01/workspace/projects/jove/example_data/'"
      ],
      "text/latex": [
       "'/lustre/groups/epigenereg01/workspace/projects/jove/example\\_data/'"
      ],
      "text/markdown": [
       "'/lustre/groups/epigenereg01/workspace/projects/jove/example_data/'"
      ],
      "text/plain": [
       "[1] \"/lustre/groups/epigenereg01/workspace/projects/jove/example_data/\""
      ]
     },
     "metadata": {},
     "output_type": "display_data"
    }
   ],
   "source": [
    "data_path"
   ]
  },
  {
   "cell_type": "code",
   "execution_count": 768,
   "id": "3416e8bc-b214-4704-8207-c7dc3c62af0a",
   "metadata": {},
   "outputs": [],
   "source": [
    "result_path = global_configs$value[global_configs$parameter == 'result_path']"
   ]
  },
  {
   "cell_type": "code",
   "execution_count": 769,
   "id": "e61f9434-d181-42ae-8160-8a08f7daee58",
   "metadata": {},
   "outputs": [
    {
     "data": {
      "text/html": [
       "'/lustre/groups/epigenereg01/workspace/projects/jove/example_results/'"
      ],
      "text/latex": [
       "'/lustre/groups/epigenereg01/workspace/projects/jove/example\\_results/'"
      ],
      "text/markdown": [
       "'/lustre/groups/epigenereg01/workspace/projects/jove/example_results/'"
      ],
      "text/plain": [
       "[1] \"/lustre/groups/epigenereg01/workspace/projects/jove/example_results/\""
      ]
     },
     "metadata": {},
     "output_type": "display_data"
    }
   ],
   "source": [
    "result_path"
   ]
  },
  {
   "cell_type": "code",
   "execution_count": 770,
   "id": "43b75b0b-321c-4876-bc23-70be99a87327",
   "metadata": {},
   "outputs": [],
   "source": [
    "## Downstream Analysis Configurations (mainly specifying the covariates that should be analyzed in relation to the MOFA factors)"
   ]
  },
  {
   "cell_type": "code",
   "execution_count": 771,
   "id": "255ee5a6-41cc-43f4-8f20-f05ac0700a00",
   "metadata": {},
   "outputs": [
    {
     "name": "stderr",
     "output_type": "stream",
     "text": [
      "Warning message in read.table(file = file, header = header, sep = sep, quote = quote, :\n",
      "“incomplete final line found by readTableHeader on 'configurations/04_Factor_Analysis_Configs.csv'”\n"
     ]
    }
   ],
   "source": [
    "factor_configs = read.csv( 'configurations/04_Factor_Analysis_Configs.csv', sep = ',')"
   ]
  },
  {
   "cell_type": "code",
   "execution_count": 772,
   "id": "7c0b1525-ec9d-47aa-b5d5-b0d6e5e45a2c",
   "metadata": {},
   "outputs": [
    {
     "data": {
      "text/html": [
       "<table class=\"dataframe\">\n",
       "<caption>A data.frame: 1 × 6</caption>\n",
       "<thead>\n",
       "\t<tr><th></th><th scope=col>configuration_name</th><th scope=col>mofa_result_name</th><th scope=col>relevant_factors</th><th scope=col>numeric_covariates</th><th scope=col>categorical_covariates</th><th scope=col>top_variable_thres.</th></tr>\n",
       "\t<tr><th></th><th scope=col>&lt;chr&gt;</th><th scope=col>&lt;chr&gt;</th><th scope=col>&lt;chr&gt;</th><th scope=col>&lt;lgl&gt;</th><th scope=col>&lt;chr&gt;</th><th scope=col>&lt;dbl&gt;</th></tr>\n",
       "</thead>\n",
       "<tbody>\n",
       "\t<tr><th scope=row>1</th><td>MI_v1</td><td>MI_v1_MOFA</td><td>Factor1,Factor2,Factor3,Factor4,Factor5,Factor6</td><td>NA</td><td>disease,sex,Primary.Genetic.Diagnosis</td><td>0.005</td></tr>\n",
       "</tbody>\n",
       "</table>\n"
      ],
      "text/latex": [
       "A data.frame: 1 × 6\n",
       "\\begin{tabular}{r|llllll}\n",
       "  & configuration\\_name & mofa\\_result\\_name & relevant\\_factors & numeric\\_covariates & categorical\\_covariates & top\\_variable\\_thres.\\\\\n",
       "  & <chr> & <chr> & <chr> & <lgl> & <chr> & <dbl>\\\\\n",
       "\\hline\n",
       "\t1 & MI\\_v1 & MI\\_v1\\_MOFA & Factor1,Factor2,Factor3,Factor4,Factor5,Factor6 & NA & disease,sex,Primary.Genetic.Diagnosis & 0.005\\\\\n",
       "\\end{tabular}\n"
      ],
      "text/markdown": [
       "\n",
       "A data.frame: 1 × 6\n",
       "\n",
       "| <!--/--> | configuration_name &lt;chr&gt; | mofa_result_name &lt;chr&gt; | relevant_factors &lt;chr&gt; | numeric_covariates &lt;lgl&gt; | categorical_covariates &lt;chr&gt; | top_variable_thres. &lt;dbl&gt; |\n",
       "|---|---|---|---|---|---|---|\n",
       "| 1 | MI_v1 | MI_v1_MOFA | Factor1,Factor2,Factor3,Factor4,Factor5,Factor6 | NA | disease,sex,Primary.Genetic.Diagnosis | 0.005 |\n",
       "\n"
      ],
      "text/plain": [
       "  configuration_name mofa_result_name\n",
       "1 MI_v1              MI_v1_MOFA      \n",
       "  relevant_factors                                numeric_covariates\n",
       "1 Factor1,Factor2,Factor3,Factor4,Factor5,Factor6 NA                \n",
       "  categorical_covariates                top_variable_thres.\n",
       "1 disease,sex,Primary.Genetic.Diagnosis 0.005              "
      ]
     },
     "metadata": {},
     "output_type": "display_data"
    }
   ],
   "source": [
    "head(factor_configs,2)"
   ]
  },
  {
   "cell_type": "code",
   "execution_count": 773,
   "id": "80aa5439-70bc-4ebb-846c-d1496a7c3125",
   "metadata": {},
   "outputs": [],
   "source": [
    "## Get Type color codes from previous script"
   ]
  },
  {
   "cell_type": "code",
   "execution_count": 774,
   "id": "421d5dd3-b084-4d8a-9bdd-81821d80cdfd",
   "metadata": {},
   "outputs": [],
   "source": [
    "type_color_codes = read.csv( 'configurations/03_Type_Color_Codes.csv', sep = ',')"
   ]
  },
  {
   "cell_type": "code",
   "execution_count": 775,
   "id": "c2feddb5-2ab5-401a-9aa5-6308a1fbb498",
   "metadata": {},
   "outputs": [
    {
     "data": {
      "text/html": [
       "<table class=\"dataframe\">\n",
       "<caption>A data.frame: 2 × 2</caption>\n",
       "<thead>\n",
       "\t<tr><th></th><th scope=col>X</th><th scope=col>color_code</th></tr>\n",
       "\t<tr><th></th><th scope=col>&lt;int&gt;</th><th scope=col>&lt;chr&gt;</th></tr>\n",
       "</thead>\n",
       "<tbody>\n",
       "\t<tr><th scope=row>1</th><td>1</td><td>#FF7F50</td></tr>\n",
       "\t<tr><th scope=row>2</th><td>2</td><td>#D95F02</td></tr>\n",
       "</tbody>\n",
       "</table>\n"
      ],
      "text/latex": [
       "A data.frame: 2 × 2\n",
       "\\begin{tabular}{r|ll}\n",
       "  & X & color\\_code\\\\\n",
       "  & <int> & <chr>\\\\\n",
       "\\hline\n",
       "\t1 & 1 & \\#FF7F50\\\\\n",
       "\t2 & 2 & \\#D95F02\\\\\n",
       "\\end{tabular}\n"
      ],
      "text/markdown": [
       "\n",
       "A data.frame: 2 × 2\n",
       "\n",
       "| <!--/--> | X &lt;int&gt; | color_code &lt;chr&gt; |\n",
       "|---|---|---|\n",
       "| 1 | 1 | #FF7F50 |\n",
       "| 2 | 2 | #D95F02 |\n",
       "\n"
      ],
      "text/plain": [
       "  X color_code\n",
       "1 1 #FF7F50   \n",
       "2 2 #D95F02   "
      ]
     },
     "metadata": {},
     "output_type": "display_data"
    }
   ],
   "source": [
    "head(type_color_codes,2)"
   ]
  },
  {
   "cell_type": "code",
   "execution_count": 776,
   "id": "b01ec4bd-f57b-423e-bd03-aa3eec0d5d7b",
   "metadata": {},
   "outputs": [
    {
     "data": {
      "text/html": [
       "<style>\n",
       ".list-inline {list-style: none; margin:0; padding: 0}\n",
       ".list-inline>li {display: inline-block}\n",
       ".list-inline>li:not(:last-child)::after {content: \"\\00b7\"; padding: 0 .5ex}\n",
       "</style>\n",
       "<ol class=list-inline><li>'#FF7F50'</li><li>'#D95F02'</li><li>'#377EB8'</li><li>'#E6AB02'</li><li>'#31A354'</li><li>'#7570B3'</li><li>'#E7298A'</li><li>'#66A61E'</li><li>'#A6761D'</li></ol>\n"
      ],
      "text/latex": [
       "\\begin{enumerate*}\n",
       "\\item '\\#FF7F50'\n",
       "\\item '\\#D95F02'\n",
       "\\item '\\#377EB8'\n",
       "\\item '\\#E6AB02'\n",
       "\\item '\\#31A354'\n",
       "\\item '\\#7570B3'\n",
       "\\item '\\#E7298A'\n",
       "\\item '\\#66A61E'\n",
       "\\item '\\#A6761D'\n",
       "\\end{enumerate*}\n"
      ],
      "text/markdown": [
       "1. '#FF7F50'\n",
       "2. '#D95F02'\n",
       "3. '#377EB8'\n",
       "4. '#E6AB02'\n",
       "5. '#31A354'\n",
       "6. '#7570B3'\n",
       "7. '#E7298A'\n",
       "8. '#66A61E'\n",
       "9. '#A6761D'\n",
       "\n",
       "\n"
      ],
      "text/plain": [
       "[1] \"#FF7F50\" \"#D95F02\" \"#377EB8\" \"#E6AB02\" \"#31A354\" \"#7570B3\" \"#E7298A\"\n",
       "[8] \"#66A61E\" \"#A6761D\""
      ]
     },
     "metadata": {},
     "output_type": "display_data"
    }
   ],
   "source": [
    "type_color_codes$color_code"
   ]
  },
  {
   "cell_type": "markdown",
   "id": "43e2937f-4e6d-4e90-99f2-2f7c370f9639",
   "metadata": {
    "tags": []
   },
   "source": [
    "# Load Data "
   ]
  },
  {
   "cell_type": "markdown",
   "id": "3106ef73-2d6d-4cef-a254-566960bf20cb",
   "metadata": {},
   "source": [
    "## MOFA Input"
   ]
  },
  {
   "cell_type": "code",
   "execution_count": 777,
   "id": "a31579f7-75ae-4902-b41f-c6e0cdf733c7",
   "metadata": {
    "tags": []
   },
   "outputs": [],
   "source": [
    "#### Load the data based on which the MOFA model was generated (from step 02)"
   ]
  },
  {
   "cell_type": "code",
   "execution_count": 778,
   "id": "c3256f7a-a8a1-4b1b-a17a-8dd8900cdc91",
   "metadata": {},
   "outputs": [],
   "source": [
    "data_list = list()"
   ]
  },
  {
   "cell_type": "code",
   "execution_count": 779,
   "id": "5bf43a41-7bcc-4c89-98d3-e839ce503aa7",
   "metadata": {},
   "outputs": [
    {
     "name": "stdout",
     "output_type": "stream",
     "text": [
      "[1] \"2024-05-10 22:27:00 CEST\"\n",
      "[1] \"/lustre/groups/epigenereg01/workspace/projects/jove/example_results//02_results/02_Combined_Data_MI_v1_INTEGRATED.csv\"\n"
     ]
    }
   ],
   "source": [
    "for(i in 1:nrow(factor_configs)){\n",
    "    # get data name from configuration\n",
    "    data_name = factor_configs$configuration_name[i]\n",
    "    \n",
    "    # Load data\n",
    "    path = paste0(result_path, '/02_results/02_Combined_Data_',data_name,'_INTEGRATED.csv')\n",
    "    data_long = read.csv(path)\n",
    "    data_long$X = NULL\n",
    "    print(file.info(path)$mtime)\n",
    "    print(path)\n",
    "    \n",
    "    # save to list\n",
    "    data_list[[i]] = data_long\n",
    "    }"
   ]
  },
  {
   "cell_type": "code",
   "execution_count": 780,
   "id": "df3d2d98-806d-4f52-9681-713e705ebff8",
   "metadata": {},
   "outputs": [],
   "source": [
    "## Example of loaded data"
   ]
  },
  {
   "cell_type": "code",
   "execution_count": 781,
   "id": "ff418436-5b9d-41df-9ea3-1b90504b7e31",
   "metadata": {},
   "outputs": [
    {
     "data": {
      "text/html": [
       "<table class=\"dataframe\">\n",
       "<caption>A data.frame: 2 × 5</caption>\n",
       "<thead>\n",
       "\t<tr><th></th><th scope=col>sample_id</th><th scope=col>variable</th><th scope=col>value</th><th scope=col>type</th><th scope=col>gene</th></tr>\n",
       "\t<tr><th></th><th scope=col>&lt;chr&gt;</th><th scope=col>&lt;chr&gt;</th><th scope=col>&lt;dbl&gt;</th><th scope=col>&lt;chr&gt;</th><th scope=col>&lt;chr&gt;</th></tr>\n",
       "</thead>\n",
       "<tbody>\n",
       "\t<tr><th scope=row>1</th><td>D1</td><td>adipocyte__ABI1</td><td>-1.1243382</td><td>adipocyte</td><td>ABI1</td></tr>\n",
       "\t<tr><th scope=row>2</th><td>D2</td><td>adipocyte__ABI1</td><td>-0.8572543</td><td>adipocyte</td><td>ABI1</td></tr>\n",
       "</tbody>\n",
       "</table>\n"
      ],
      "text/latex": [
       "A data.frame: 2 × 5\n",
       "\\begin{tabular}{r|lllll}\n",
       "  & sample\\_id & variable & value & type & gene\\\\\n",
       "  & <chr> & <chr> & <dbl> & <chr> & <chr>\\\\\n",
       "\\hline\n",
       "\t1 & D1 & adipocyte\\_\\_ABI1 & -1.1243382 & adipocyte & ABI1\\\\\n",
       "\t2 & D2 & adipocyte\\_\\_ABI1 & -0.8572543 & adipocyte & ABI1\\\\\n",
       "\\end{tabular}\n"
      ],
      "text/markdown": [
       "\n",
       "A data.frame: 2 × 5\n",
       "\n",
       "| <!--/--> | sample_id &lt;chr&gt; | variable &lt;chr&gt; | value &lt;dbl&gt; | type &lt;chr&gt; | gene &lt;chr&gt; |\n",
       "|---|---|---|---|---|---|\n",
       "| 1 | D1 | adipocyte__ABI1 | -1.1243382 | adipocyte | ABI1 |\n",
       "| 2 | D2 | adipocyte__ABI1 | -0.8572543 | adipocyte | ABI1 |\n",
       "\n"
      ],
      "text/plain": [
       "  sample_id variable        value      type      gene\n",
       "1 D1        adipocyte__ABI1 -1.1243382 adipocyte ABI1\n",
       "2 D2        adipocyte__ABI1 -0.8572543 adipocyte ABI1"
      ]
     },
     "metadata": {},
     "output_type": "display_data"
    }
   ],
   "source": [
    "head(data_long,2)"
   ]
  },
  {
   "cell_type": "markdown",
   "id": "d082fa98-ad4a-46ec-90e5-2da19dd6e84a",
   "metadata": {
    "tags": []
   },
   "source": [
    "## MOFA Model"
   ]
  },
  {
   "cell_type": "markdown",
   "id": "c68555d2-c420-48ff-949b-72664acca066",
   "metadata": {},
   "source": [
    "### Load estimated model"
   ]
  },
  {
   "cell_type": "code",
   "execution_count": 782,
   "id": "9ce353f7-ee3d-45d0-8f9e-fcceff655e36",
   "metadata": {
    "tags": []
   },
   "outputs": [],
   "source": [
    "### Load the MOFA model(s) that should be analyzed"
   ]
  },
  {
   "cell_type": "code",
   "execution_count": 783,
   "id": "f8bbe56a-32da-4c72-aff5-a26c41a29229",
   "metadata": {},
   "outputs": [],
   "source": [
    "model_list = list()"
   ]
  },
  {
   "cell_type": "code",
   "execution_count": 784,
   "id": "f52754eb-3b67-4bc8-aef4-9cda155c0b72",
   "metadata": {
    "tags": []
   },
   "outputs": [
    {
     "name": "stderr",
     "output_type": "stream",
     "text": [
      "Loading data...\n",
      "\n",
      "Loading expectations for 2 nodes...\n",
      "\n",
      "Loading model options...\n",
      "\n",
      "Loading training options and statistics...\n",
      "\n",
      "Assigning names to the different dimensions...\n",
      "\n",
      "Re-ordering factors by their variance explained...\n",
      "\n",
      "Doing quality control...\n",
      "\n",
      "Checking views names...\n",
      "\n",
      "Checking groups names...\n",
      "\n",
      "Checking samples names...\n",
      "\n",
      "Checking features names...\n",
      "\n",
      "Checking dimensions...\n",
      "\n",
      "Checking there are no features with complete missing values...\n",
      "\n",
      "Checking sample covariates...\n",
      "\n",
      "Checking expectations...\n",
      "\n",
      "Checking for intercept factors...\n",
      "\n",
      "Warning message in .quality_control(object, verbose = verbose):\n",
      "“Factor(s) 2, 8 are strongly correlated with the total number of expressed features for at least one of your omics. Such factors appear when there are differences in the total 'levels' between your samples, *sometimes* because of poor normalisation in the preprocessing steps.\n",
      "”\n",
      "Checking for highly correlated factors...\n",
      "\n"
     ]
    },
    {
     "name": "stdout",
     "output_type": "stream",
     "text": [
      "[1] \"2024-05-10 22:28:01 CEST\"\n",
      "[1] \"/lustre/groups/epigenereg01/workspace/projects/jove/example_results//03_results/03_MOFA_MODEL_MI_v1_MOFA.hdf5\"\n"
     ]
    }
   ],
   "source": [
    "for(i in 1:nrow(factor_configs)){\n",
    "    # get data name from configuration\n",
    "    mofa_name = factor_configs$mofa_result_name[i]\n",
    " \n",
    "    # Load model\n",
    "    model_name =  paste0(\"03_MOFA_MODEL_\",mofa_name, '.hdf5')\n",
    "    outfile = file.path( paste0(result_path, '/03_results/',  model_name) )\n",
    "    model = load_model(outfile, verbose = TRUE)\n",
    "    \n",
    "    print(file.info(outfile)$mtime)\n",
    "    print(outfile)\n",
    "    \n",
    "    # save to list\n",
    "    model_list[[i]] = model\n",
    "    }\n",
    "    "
   ]
  },
  {
   "cell_type": "markdown",
   "id": "55e96bd7-340c-48b9-8111-9b12255c539b",
   "metadata": {},
   "source": [
    "### Factor Data"
   ]
  },
  {
   "cell_type": "code",
   "execution_count": 785,
   "id": "6c54e8be-d8a4-4828-9e03-6c26c0bbb703",
   "metadata": {
    "tags": []
   },
   "outputs": [],
   "source": [
    "### Load the factor data to the corresponding MOFA model"
   ]
  },
  {
   "cell_type": "code",
   "execution_count": 786,
   "id": "f342cca3-222c-4e0b-ad3f-2767ab53b006",
   "metadata": {},
   "outputs": [],
   "source": [
    "factor_data_list = list()"
   ]
  },
  {
   "cell_type": "code",
   "execution_count": 787,
   "id": "0b037fca-ebc9-44f3-bc78-3b4bcbfa0d4d",
   "metadata": {},
   "outputs": [
    {
     "name": "stdout",
     "output_type": "stream",
     "text": [
      "[1] \"2024-05-10 22:28:01 CEST\"\n",
      "[1] \"/lustre/groups/epigenereg01/workspace/projects/jove/example_results//03_results/03_Factor_Data_MI_v1_MOFA.csv\"\n"
     ]
    }
   ],
   "source": [
    "for(i in 1:nrow(factor_configs)){\n",
    "    # get data name from configuration\n",
    "    mofa_name = factor_configs$mofa_result_name[i]\n",
    "    \n",
    "    # load data\n",
    "    path = paste0(result_path, '/03_results/', '03_Factor_Data_', mofa_name, '.csv')\n",
    "    factors = read.csv(path)\n",
    "    print(file.info(path)$mtime)\n",
    "    print(path)\n",
    "    \n",
    "    # Save to list\n",
    "    factor_data_list[[i]] = factors\n",
    "    }\n",
    "    "
   ]
  },
  {
   "cell_type": "code",
   "execution_count": 788,
   "id": "3f8d1387-5b66-4185-88eb-89bc69928ca3",
   "metadata": {},
   "outputs": [
    {
     "data": {
      "text/html": [
       "<table class=\"dataframe\">\n",
       "<caption>A data.frame: 2 × 11</caption>\n",
       "<thead>\n",
       "\t<tr><th></th><th scope=col>Factor1</th><th scope=col>Factor2</th><th scope=col>Factor3</th><th scope=col>Factor4</th><th scope=col>Factor5</th><th scope=col>Factor6</th><th scope=col>Factor7</th><th scope=col>Factor8</th><th scope=col>Factor9</th><th scope=col>Factor10</th><th scope=col>sample_id</th></tr>\n",
       "\t<tr><th></th><th scope=col>&lt;dbl&gt;</th><th scope=col>&lt;dbl&gt;</th><th scope=col>&lt;dbl&gt;</th><th scope=col>&lt;dbl&gt;</th><th scope=col>&lt;dbl&gt;</th><th scope=col>&lt;dbl&gt;</th><th scope=col>&lt;dbl&gt;</th><th scope=col>&lt;dbl&gt;</th><th scope=col>&lt;dbl&gt;</th><th scope=col>&lt;dbl&gt;</th><th scope=col>&lt;chr&gt;</th></tr>\n",
       "</thead>\n",
       "<tbody>\n",
       "\t<tr><th scope=row>1</th><td>1.616970</td><td>1.922963</td><td>-0.04046481</td><td> 0.6957385</td><td>-0.4816992</td><td>-0.6951516</td><td> 0.6601078</td><td>-0.1757625</td><td>0.04568479</td><td>-0.2038762</td><td>D1</td></tr>\n",
       "\t<tr><th scope=row>2</th><td>1.749186</td><td>0.227296</td><td> 0.60221439</td><td>-0.1048832</td><td>-0.7551822</td><td>-1.5846769</td><td>-0.8970750</td><td>-0.1889143</td><td>0.22074658</td><td>-0.8048890</td><td>D2</td></tr>\n",
       "</tbody>\n",
       "</table>\n"
      ],
      "text/latex": [
       "A data.frame: 2 × 11\n",
       "\\begin{tabular}{r|lllllllllll}\n",
       "  & Factor1 & Factor2 & Factor3 & Factor4 & Factor5 & Factor6 & Factor7 & Factor8 & Factor9 & Factor10 & sample\\_id\\\\\n",
       "  & <dbl> & <dbl> & <dbl> & <dbl> & <dbl> & <dbl> & <dbl> & <dbl> & <dbl> & <dbl> & <chr>\\\\\n",
       "\\hline\n",
       "\t1 & 1.616970 & 1.922963 & -0.04046481 &  0.6957385 & -0.4816992 & -0.6951516 &  0.6601078 & -0.1757625 & 0.04568479 & -0.2038762 & D1\\\\\n",
       "\t2 & 1.749186 & 0.227296 &  0.60221439 & -0.1048832 & -0.7551822 & -1.5846769 & -0.8970750 & -0.1889143 & 0.22074658 & -0.8048890 & D2\\\\\n",
       "\\end{tabular}\n"
      ],
      "text/markdown": [
       "\n",
       "A data.frame: 2 × 11\n",
       "\n",
       "| <!--/--> | Factor1 &lt;dbl&gt; | Factor2 &lt;dbl&gt; | Factor3 &lt;dbl&gt; | Factor4 &lt;dbl&gt; | Factor5 &lt;dbl&gt; | Factor6 &lt;dbl&gt; | Factor7 &lt;dbl&gt; | Factor8 &lt;dbl&gt; | Factor9 &lt;dbl&gt; | Factor10 &lt;dbl&gt; | sample_id &lt;chr&gt; |\n",
       "|---|---|---|---|---|---|---|---|---|---|---|---|\n",
       "| 1 | 1.616970 | 1.922963 | -0.04046481 |  0.6957385 | -0.4816992 | -0.6951516 |  0.6601078 | -0.1757625 | 0.04568479 | -0.2038762 | D1 |\n",
       "| 2 | 1.749186 | 0.227296 |  0.60221439 | -0.1048832 | -0.7551822 | -1.5846769 | -0.8970750 | -0.1889143 | 0.22074658 | -0.8048890 | D2 |\n",
       "\n"
      ],
      "text/plain": [
       "  Factor1  Factor2  Factor3     Factor4    Factor5    Factor6    Factor7   \n",
       "1 1.616970 1.922963 -0.04046481  0.6957385 -0.4816992 -0.6951516  0.6601078\n",
       "2 1.749186 0.227296  0.60221439 -0.1048832 -0.7551822 -1.5846769 -0.8970750\n",
       "  Factor8    Factor9    Factor10   sample_id\n",
       "1 -0.1757625 0.04568479 -0.2038762 D1       \n",
       "2 -0.1889143 0.22074658 -0.8048890 D2       "
      ]
     },
     "metadata": {},
     "output_type": "display_data"
    }
   ],
   "source": [
    "head(factors,2)"
   ]
  },
  {
   "cell_type": "markdown",
   "id": "5a199b31-f960-4bb6-a19a-176463458898",
   "metadata": {},
   "source": [
    "### Weight Data"
   ]
  },
  {
   "cell_type": "code",
   "execution_count": 789,
   "id": "72ccb97c-f901-4af6-b8a6-be63758bdd71",
   "metadata": {
    "tags": []
   },
   "outputs": [],
   "source": [
    "# Load the feature factor weights to the corresponding MOFA model"
   ]
  },
  {
   "cell_type": "code",
   "execution_count": 790,
   "id": "b72c675a-0a9c-4b14-9ddd-f3ca4ab19e8e",
   "metadata": {},
   "outputs": [],
   "source": [
    "weight_data_list = list()"
   ]
  },
  {
   "cell_type": "code",
   "execution_count": 791,
   "id": "6a73314d-7347-4cd7-bf58-8b7caca4bdab",
   "metadata": {},
   "outputs": [
    {
     "name": "stdout",
     "output_type": "stream",
     "text": [
      "[1] \"2024-05-10 22:28:01 CEST\"\n",
      "[1] \"/lustre/groups/epigenereg01/workspace/projects/jove/example_results//03_results/03_Weight_Data_MI_v1_MOFA.csv\"\n"
     ]
    }
   ],
   "source": [
    "for(i in 1:nrow(factor_configs)){\n",
    "    # get data name from configuration\n",
    "    mofa_name = factor_configs$mofa_result_name[i]\n",
    "    \n",
    "    # laod data\n",
    "    path = paste0(result_path, '/03_results/', '03_Weight_Data_',  mofa_name, '.csv')\n",
    "    weight_data = read.csv(path)\n",
    "    \n",
    "    print(file.info(path)$mtime)\n",
    "    print(path)\n",
    "    \n",
    "    # save to list\n",
    "    weight_data_list[[i]] = weight_data\n",
    "    }\n",
    "    \n",
    "    "
   ]
  },
  {
   "cell_type": "code",
   "execution_count": null,
   "id": "24404074-6e87-4ffc-a295-713d2bac44c0",
   "metadata": {},
   "outputs": [],
   "source": []
  },
  {
   "cell_type": "markdown",
   "id": "d76baf68-703a-40b2-8c70-bd80a5fdae6f",
   "metadata": {
    "tags": []
   },
   "source": [
    "## Sample Meta Data"
   ]
  },
  {
   "cell_type": "code",
   "execution_count": 792,
   "id": "48d3449a-6905-493e-ba61-6c442c5b910a",
   "metadata": {},
   "outputs": [],
   "source": [
    "## Load the sample meta-data file that contains covariates that should be associated to factor data"
   ]
  },
  {
   "cell_type": "code",
   "execution_count": 793,
   "id": "efee04bb-6a8f-420e-a9ac-9cefb951d95b",
   "metadata": {},
   "outputs": [],
   "source": [
    "sample_data = read.csv(paste0(data_path, 'Prepared_Sample_Meta_Data', '.csv'))\n",
    "sample_data$X = NULL"
   ]
  },
  {
   "cell_type": "code",
   "execution_count": 794,
   "id": "9b2f011e-cfc2-4fde-9816-c6aefb52d399",
   "metadata": {},
   "outputs": [
    {
     "data": {
      "text/html": [
       "<table class=\"dataframe\">\n",
       "<caption>A data.frame: 2 × 7</caption>\n",
       "<thead>\n",
       "\t<tr><th></th><th scope=col>donor_id</th><th scope=col>disease</th><th scope=col>sex</th><th scope=col>development_stage</th><th scope=col>self_reported_ethnicity</th><th scope=col>Primary.Genetic.Diagnosis</th><th scope=col>sample_id</th></tr>\n",
       "\t<tr><th></th><th scope=col>&lt;chr&gt;</th><th scope=col>&lt;chr&gt;</th><th scope=col>&lt;chr&gt;</th><th scope=col>&lt;chr&gt;</th><th scope=col>&lt;chr&gt;</th><th scope=col>&lt;chr&gt;</th><th scope=col>&lt;chr&gt;</th></tr>\n",
       "</thead>\n",
       "<tbody>\n",
       "\t<tr><th scope=row>1</th><td>DP2</td><td>dilated cardiomyopathy</td><td>female</td><td>fifth decade human stage</td><td>European</td><td>PLN    </td><td>DP2</td></tr>\n",
       "\t<tr><th scope=row>2</th><td>H3 </td><td>normal                </td><td>male  </td><td>sixth decade human stage</td><td>Asian   </td><td>control</td><td>H3 </td></tr>\n",
       "</tbody>\n",
       "</table>\n"
      ],
      "text/latex": [
       "A data.frame: 2 × 7\n",
       "\\begin{tabular}{r|lllllll}\n",
       "  & donor\\_id & disease & sex & development\\_stage & self\\_reported\\_ethnicity & Primary.Genetic.Diagnosis & sample\\_id\\\\\n",
       "  & <chr> & <chr> & <chr> & <chr> & <chr> & <chr> & <chr>\\\\\n",
       "\\hline\n",
       "\t1 & DP2 & dilated cardiomyopathy & female & fifth decade human stage & European & PLN     & DP2\\\\\n",
       "\t2 & H3  & normal                 & male   & sixth decade human stage & Asian    & control & H3 \\\\\n",
       "\\end{tabular}\n"
      ],
      "text/markdown": [
       "\n",
       "A data.frame: 2 × 7\n",
       "\n",
       "| <!--/--> | donor_id &lt;chr&gt; | disease &lt;chr&gt; | sex &lt;chr&gt; | development_stage &lt;chr&gt; | self_reported_ethnicity &lt;chr&gt; | Primary.Genetic.Diagnosis &lt;chr&gt; | sample_id &lt;chr&gt; |\n",
       "|---|---|---|---|---|---|---|---|\n",
       "| 1 | DP2 | dilated cardiomyopathy | female | fifth decade human stage | European | PLN     | DP2 |\n",
       "| 2 | H3  | normal                 | male   | sixth decade human stage | Asian    | control | H3  |\n",
       "\n"
      ],
      "text/plain": [
       "  donor_id disease                sex    development_stage       \n",
       "1 DP2      dilated cardiomyopathy female fifth decade human stage\n",
       "2 H3       normal                 male   sixth decade human stage\n",
       "  self_reported_ethnicity Primary.Genetic.Diagnosis sample_id\n",
       "1 European                PLN                       DP2      \n",
       "2 Asian                   control                   H3       "
      ]
     },
     "metadata": {},
     "output_type": "display_data"
    }
   ],
   "source": [
    "head(sample_data,2)"
   ]
  },
  {
   "cell_type": "markdown",
   "id": "1385d8a3-c030-45e4-92d6-7e71e9450bb6",
   "metadata": {
    "tags": []
   },
   "source": [
    "# Downstream Analysis of generated model"
   ]
  },
  {
   "cell_type": "markdown",
   "id": "52ab1ab6-98fc-4b63-9971-67c781b98e11",
   "metadata": {
    "tags": []
   },
   "source": [
    "# Extract and prepare data for plots"
   ]
  },
  {
   "cell_type": "markdown",
   "id": "63bb29c6-9f50-46a8-bcf2-ef8781fb8bac",
   "metadata": {
    "tags": []
   },
   "source": [
    "## Merge factors and sample data"
   ]
  },
  {
   "cell_type": "code",
   "execution_count": 795,
   "id": "324f8dbd-d4d9-4e54-9520-4da8669a8a06",
   "metadata": {
    "tags": []
   },
   "outputs": [],
   "source": [
    "## Combine the factor and sample data table"
   ]
  },
  {
   "cell_type": "code",
   "execution_count": 796,
   "id": "f2268206-d16b-47d1-a016-52f288f4ba92",
   "metadata": {},
   "outputs": [],
   "source": [
    "factor_data_processed = list()"
   ]
  },
  {
   "cell_type": "code",
   "execution_count": 797,
   "id": "c1e2704d-0ec1-47d0-8ae6-c30ffe758b0b",
   "metadata": {},
   "outputs": [],
   "source": [
    "for( i in 1:length(factor_data_list)){\n",
    "    \n",
    "    ## Transform data to long format\n",
    "    factors_long = melt(factor_data_list[[i]], id.vars = 'sample_id')\n",
    "    \n",
    "    ## Add sample data info\n",
    "    merged_data_long = merge(factors_long, sample_data, by.x = 'sample_id', by.y = 'sample_id')\n",
    "    \n",
    "     ### Filter on relevant factors\n",
    "     relevant_factors = unlist(str_split(factor_configs$relevant_factors[i], ','))  # get relevant factor from configuration data\n",
    "     merged_data_long = merged_data_long[merged_data_long$variable %in% relevant_factors,]\n",
    "    \n",
    "     factor_data_processed[[i]] = merged_data_long\n",
    "    }"
   ]
  },
  {
   "cell_type": "code",
   "execution_count": 798,
   "id": "1259a4a9-717e-459f-b459-477ea8081242",
   "metadata": {},
   "outputs": [
    {
     "data": {
      "text/html": [
       "<table class=\"dataframe\">\n",
       "<caption>A data.frame: 2 × 9</caption>\n",
       "<thead>\n",
       "\t<tr><th></th><th scope=col>sample_id</th><th scope=col>variable</th><th scope=col>value</th><th scope=col>donor_id</th><th scope=col>disease</th><th scope=col>sex</th><th scope=col>development_stage</th><th scope=col>self_reported_ethnicity</th><th scope=col>Primary.Genetic.Diagnosis</th></tr>\n",
       "\t<tr><th></th><th scope=col>&lt;chr&gt;</th><th scope=col>&lt;fct&gt;</th><th scope=col>&lt;dbl&gt;</th><th scope=col>&lt;chr&gt;</th><th scope=col>&lt;chr&gt;</th><th scope=col>&lt;chr&gt;</th><th scope=col>&lt;chr&gt;</th><th scope=col>&lt;chr&gt;</th><th scope=col>&lt;chr&gt;</th></tr>\n",
       "</thead>\n",
       "<tbody>\n",
       "\t<tr><th scope=row>1</th><td>D1</td><td>Factor1</td><td>1.616970</td><td>D1</td><td>normal</td><td>female</td><td>sixth decade human stage</td><td>European</td><td>control</td></tr>\n",
       "\t<tr><th scope=row>2</th><td>D1</td><td>Factor2</td><td>1.922963</td><td>D1</td><td>normal</td><td>female</td><td>sixth decade human stage</td><td>European</td><td>control</td></tr>\n",
       "</tbody>\n",
       "</table>\n"
      ],
      "text/latex": [
       "A data.frame: 2 × 9\n",
       "\\begin{tabular}{r|lllllllll}\n",
       "  & sample\\_id & variable & value & donor\\_id & disease & sex & development\\_stage & self\\_reported\\_ethnicity & Primary.Genetic.Diagnosis\\\\\n",
       "  & <chr> & <fct> & <dbl> & <chr> & <chr> & <chr> & <chr> & <chr> & <chr>\\\\\n",
       "\\hline\n",
       "\t1 & D1 & Factor1 & 1.616970 & D1 & normal & female & sixth decade human stage & European & control\\\\\n",
       "\t2 & D1 & Factor2 & 1.922963 & D1 & normal & female & sixth decade human stage & European & control\\\\\n",
       "\\end{tabular}\n"
      ],
      "text/markdown": [
       "\n",
       "A data.frame: 2 × 9\n",
       "\n",
       "| <!--/--> | sample_id &lt;chr&gt; | variable &lt;fct&gt; | value &lt;dbl&gt; | donor_id &lt;chr&gt; | disease &lt;chr&gt; | sex &lt;chr&gt; | development_stage &lt;chr&gt; | self_reported_ethnicity &lt;chr&gt; | Primary.Genetic.Diagnosis &lt;chr&gt; |\n",
       "|---|---|---|---|---|---|---|---|---|---|\n",
       "| 1 | D1 | Factor1 | 1.616970 | D1 | normal | female | sixth decade human stage | European | control |\n",
       "| 2 | D1 | Factor2 | 1.922963 | D1 | normal | female | sixth decade human stage | European | control |\n",
       "\n"
      ],
      "text/plain": [
       "  sample_id variable value    donor_id disease sex    development_stage       \n",
       "1 D1        Factor1  1.616970 D1       normal  female sixth decade human stage\n",
       "2 D1        Factor2  1.922963 D1       normal  female sixth decade human stage\n",
       "  self_reported_ethnicity Primary.Genetic.Diagnosis\n",
       "1 European                control                  \n",
       "2 European                control                  "
      ]
     },
     "metadata": {},
     "output_type": "display_data"
    }
   ],
   "source": [
    "head(factor_data_processed[[i]],2)"
   ]
  },
  {
   "cell_type": "code",
   "execution_count": null,
   "id": "2145e2e1-017a-466b-9ac7-c8840b3b4283",
   "metadata": {},
   "outputs": [],
   "source": []
  },
  {
   "cell_type": "markdown",
   "id": "54614460-8316-4de8-9b39-b15e311ed0e6",
   "metadata": {},
   "source": [
    "## Extract explained variance for plotting"
   ]
  },
  {
   "cell_type": "code",
   "execution_count": 799,
   "id": "bc2c8f76-9bbb-47b4-83e6-24e61d8bbc89",
   "metadata": {
    "tags": []
   },
   "outputs": [],
   "source": [
    "## Get the explained variance information from the MOFA model (these values will be plotted later)"
   ]
  },
  {
   "cell_type": "code",
   "execution_count": 800,
   "id": "6fc39b49-8a60-4f59-811e-461367444dc6",
   "metadata": {},
   "outputs": [],
   "source": [
    "explained_variance = lapply(model_list, function(x){\n",
    "    \n",
    "    # extract variance per factor from model\n",
    "    data = x@cache$variance_explained$r2_per_factor[[1]]\n",
    "    \n",
    "    # extract total variance from model\n",
    "    total_variance = data.frame( view = rownames(x@cache[[\"variance_explained\"]]$r2_total$group1,2),\n",
    "                             total_variance = x@cache[[\"variance_explained\"]]$r2_total$group1)\n",
    "    \n",
    "    # extract total variance per factor\n",
    "    total_variance_factor = data.frame(factor = names(rowMeans(x@cache$variance_explained$r2_per_factor[[1]])),\n",
    "                                   mean_variance = rowMeans(x@cache$variance_explained$r2_per_factor[[1]]))\n",
    "    \n",
    "    data = melt(data)\n",
    "    # merge different variance values\n",
    "    data = merge(data, total_variance, by.x = 'Var2', by.y = 'view')\n",
    "    \n",
    "    })"
   ]
  },
  {
   "cell_type": "code",
   "execution_count": 801,
   "id": "aacc142d-e0cf-4623-a336-886fa817c35f",
   "metadata": {},
   "outputs": [
    {
     "data": {
      "text/html": [
       "<table class=\"dataframe\">\n",
       "<caption>A data.frame: 2 × 4</caption>\n",
       "<thead>\n",
       "\t<tr><th></th><th scope=col>Var2</th><th scope=col>Var1</th><th scope=col>value</th><th scope=col>total_variance</th></tr>\n",
       "\t<tr><th></th><th scope=col>&lt;fct&gt;</th><th scope=col>&lt;fct&gt;</th><th scope=col>&lt;dbl&gt;</th><th scope=col>&lt;dbl&gt;</th></tr>\n",
       "</thead>\n",
       "<tbody>\n",
       "\t<tr><th scope=row>1</th><td>adipocyte</td><td>Factor1</td><td>6.647976</td><td>32.79514</td></tr>\n",
       "\t<tr><th scope=row>2</th><td>adipocyte</td><td>Factor2</td><td>2.465791</td><td>32.79514</td></tr>\n",
       "</tbody>\n",
       "</table>\n"
      ],
      "text/latex": [
       "A data.frame: 2 × 4\n",
       "\\begin{tabular}{r|llll}\n",
       "  & Var2 & Var1 & value & total\\_variance\\\\\n",
       "  & <fct> & <fct> & <dbl> & <dbl>\\\\\n",
       "\\hline\n",
       "\t1 & adipocyte & Factor1 & 6.647976 & 32.79514\\\\\n",
       "\t2 & adipocyte & Factor2 & 2.465791 & 32.79514\\\\\n",
       "\\end{tabular}\n"
      ],
      "text/markdown": [
       "\n",
       "A data.frame: 2 × 4\n",
       "\n",
       "| <!--/--> | Var2 &lt;fct&gt; | Var1 &lt;fct&gt; | value &lt;dbl&gt; | total_variance &lt;dbl&gt; |\n",
       "|---|---|---|---|---|\n",
       "| 1 | adipocyte | Factor1 | 6.647976 | 32.79514 |\n",
       "| 2 | adipocyte | Factor2 | 2.465791 | 32.79514 |\n",
       "\n"
      ],
      "text/plain": [
       "  Var2      Var1    value    total_variance\n",
       "1 adipocyte Factor1 6.647976 32.79514      \n",
       "2 adipocyte Factor2 2.465791 32.79514      "
      ]
     },
     "metadata": {},
     "output_type": "display_data"
    }
   ],
   "source": [
    "head(explained_variance[[1]],2)"
   ]
  },
  {
   "cell_type": "markdown",
   "id": "c92d389d-a9c5-4899-8c11-7705d59c0bf5",
   "metadata": {
    "tags": []
   },
   "source": [
    "## Prepare weight data"
   ]
  },
  {
   "cell_type": "code",
   "execution_count": 802,
   "id": "76c01466-7a95-4ce6-94bb-20a7f02b2632",
   "metadata": {
    "tags": []
   },
   "outputs": [],
   "source": [
    "### Adjust the format of the feature factor weight data to long"
   ]
  },
  {
   "cell_type": "code",
   "execution_count": 803,
   "id": "4c255047-c2ab-4c19-89d2-d9bc14c073e3",
   "metadata": {},
   "outputs": [],
   "source": [
    "feature_weights_list = lapply(weight_data_list, function(x){\n",
    "    feature_weights_long = melt(x, id.vars = c('variable_name', 'type'))\n",
    "    \n",
    "    # adjust formatting of columns\n",
    "    feature_weights_long$view = feature_weights_long$type\n",
    "    feature_weights_long$gene = str_replace(feature_weights_long$variable_name, '.*__', '')\n",
    "    \n",
    "    return(feature_weights_long)\n",
    "    })\n",
    "    "
   ]
  },
  {
   "cell_type": "code",
   "execution_count": 804,
   "id": "4861961e-5220-4301-8ca5-e77638b7850a",
   "metadata": {},
   "outputs": [
    {
     "data": {
      "text/html": [
       "<table class=\"dataframe\">\n",
       "<caption>A data.frame: 2 × 6</caption>\n",
       "<thead>\n",
       "\t<tr><th></th><th scope=col>variable_name</th><th scope=col>type</th><th scope=col>variable</th><th scope=col>value</th><th scope=col>view</th><th scope=col>gene</th></tr>\n",
       "\t<tr><th></th><th scope=col>&lt;chr&gt;</th><th scope=col>&lt;chr&gt;</th><th scope=col>&lt;fct&gt;</th><th scope=col>&lt;dbl&gt;</th><th scope=col>&lt;chr&gt;</th><th scope=col>&lt;chr&gt;</th></tr>\n",
       "</thead>\n",
       "<tbody>\n",
       "\t<tr><th scope=row>1</th><td>adipocyte__ABI1</td><td>adipocyte</td><td>Factor1</td><td>-0.16729734</td><td>adipocyte</td><td>ABI1</td></tr>\n",
       "\t<tr><th scope=row>2</th><td>adipocyte__ABI2</td><td>adipocyte</td><td>Factor1</td><td> 0.04293374</td><td>adipocyte</td><td>ABI2</td></tr>\n",
       "</tbody>\n",
       "</table>\n"
      ],
      "text/latex": [
       "A data.frame: 2 × 6\n",
       "\\begin{tabular}{r|llllll}\n",
       "  & variable\\_name & type & variable & value & view & gene\\\\\n",
       "  & <chr> & <chr> & <fct> & <dbl> & <chr> & <chr>\\\\\n",
       "\\hline\n",
       "\t1 & adipocyte\\_\\_ABI1 & adipocyte & Factor1 & -0.16729734 & adipocyte & ABI1\\\\\n",
       "\t2 & adipocyte\\_\\_ABI2 & adipocyte & Factor1 &  0.04293374 & adipocyte & ABI2\\\\\n",
       "\\end{tabular}\n"
      ],
      "text/markdown": [
       "\n",
       "A data.frame: 2 × 6\n",
       "\n",
       "| <!--/--> | variable_name &lt;chr&gt; | type &lt;chr&gt; | variable &lt;fct&gt; | value &lt;dbl&gt; | view &lt;chr&gt; | gene &lt;chr&gt; |\n",
       "|---|---|---|---|---|---|---|\n",
       "| 1 | adipocyte__ABI1 | adipocyte | Factor1 | -0.16729734 | adipocyte | ABI1 |\n",
       "| 2 | adipocyte__ABI2 | adipocyte | Factor1 |  0.04293374 | adipocyte | ABI2 |\n",
       "\n"
      ],
      "text/plain": [
       "  variable_name   type      variable value       view      gene\n",
       "1 adipocyte__ABI1 adipocyte Factor1  -0.16729734 adipocyte ABI1\n",
       "2 adipocyte__ABI2 adipocyte Factor1   0.04293374 adipocyte ABI2"
      ]
     },
     "metadata": {},
     "output_type": "display_data"
    }
   ],
   "source": [
    "head(feature_weights_list[[1]],2)"
   ]
  },
  {
   "cell_type": "markdown",
   "id": "a0f84b0a-6820-4eaa-9e49-8cd196e5da75",
   "metadata": {
    "tags": []
   },
   "source": [
    "## Get top features per factor and amounts for diff thresholds"
   ]
  },
  {
   "cell_type": "code",
   "execution_count": 805,
   "id": "aaaffdca-53a3-482b-8db5-bb64602d00d8",
   "metadata": {
    "tags": []
   },
   "outputs": [],
   "source": [
    "## Get the x% of top features per factor based on the specified threshold (x) in the configuration file"
   ]
  },
  {
   "cell_type": "code",
   "execution_count": 806,
   "id": "7209dbc4-9d54-4131-a448-a73c810281e0",
   "metadata": {},
   "outputs": [],
   "source": [
    "geneset_oi_amounts_list = list()"
   ]
  },
  {
   "cell_type": "code",
   "execution_count": 807,
   "id": "1e762db9-6725-43db-b8b9-474d374a148b",
   "metadata": {},
   "outputs": [],
   "source": [
    "for(i in 1:length(feature_weights_list)){\n",
    "    \n",
    "    feature_weights_long = feature_weights_list[[i]]\n",
    "    \n",
    "    # get threshold for top variables from configuration\n",
    "    top_variable_perc = factor_configs$top_variable_thres[i]\n",
    "    \n",
    "    \n",
    "    ## Define amount of top genes per fraction \n",
    "    geneset_oi_pos_per_factor_analyze = feature_weights_long %>% group_by(variable) %>% dplyr::arrange( desc(value),  .by_group = TRUE)  %>% top_frac(  as.numeric(top_variable_perc), value)\n",
    "    geneset_oi_pos_per_factor_analyze$direction = 'positive'\n",
    "    \n",
    "    geneset_oi_neg_per_factor_analyze = feature_weights_long %>% group_by(variable) %>% dplyr::arrange(desc(value),  .by_group = TRUE)  %>% top_frac( - as.numeric(top_variable_perc), value)\n",
    "    geneset_oi_neg_per_factor_analyze$direction = 'negative'\n",
    "    \n",
    "    geneset_oi_analyze = rbind(geneset_oi_pos_per_factor_analyze, geneset_oi_neg_per_factor_analyze)\n",
    "    geneset_oi_analyze$fraction =  as.numeric(top_variable_perc)\n",
    "\n",
    "    \n",
    "    ## Calculate the amount of top features per type\n",
    "    dimensions = unique(feature_weights_long[,c('view', 'variable')])\n",
    "    \n",
    "    amount_geneset_oi_type = geneset_oi_analyze %>% group_by(type, view, variable) %>% dplyr::count()\n",
    "    amount_geneset_oi_type = merge(dimensions, amount_geneset_oi_type, all.x = TRUE) # to avoid missing dimensions\n",
    "    amount_geneset_oi_type$fraction = as.numeric(top_variable_perc)\n",
    "    \n",
    "    geneset_oi_amounts = amount_geneset_oi_type\n",
    "    \n",
    "    ## Calculate the total amount of features per type\n",
    "    features_per_type = feature_weights_long %>% group_by(type, view, variable) %>% dplyr::count()\n",
    "    colnames(features_per_type) = c('type', 'view', 'variable', 'amount_features')\n",
    "    \n",
    "    ## Merge and calculate percentage\n",
    "    geneset_oi_amounts = merge(  geneset_oi_amounts,features_per_type, all.x = TRUE)\n",
    "    geneset_oi_amounts$percentage = geneset_oi_amounts$n / geneset_oi_amounts$amount_features\n",
    "    \n",
    "    ## Adjust NA's\n",
    "    geneset_oi_amounts[is.na(geneset_oi_amounts)] = 0 # NA when there are no features for this dimension among top %\n",
    "    \n",
    "    ## save for the threshold/ config\n",
    "    geneset_oi_amounts_list[[i]] = geneset_oi_amounts\n",
    "    }\n",
    "    \n",
    "    \n",
    "    \n",
    "    "
   ]
  },
  {
   "cell_type": "code",
   "execution_count": 808,
   "id": "c1338338-3f62-4208-9d54-a71e66fa01ae",
   "metadata": {},
   "outputs": [
    {
     "data": {
      "text/html": [
       "<table class=\"dataframe\">\n",
       "<caption>A data.frame: 2 × 7</caption>\n",
       "<thead>\n",
       "\t<tr><th></th><th scope=col>view</th><th scope=col>variable</th><th scope=col>type</th><th scope=col>n</th><th scope=col>fraction</th><th scope=col>amount_features</th><th scope=col>percentage</th></tr>\n",
       "\t<tr><th></th><th scope=col>&lt;chr&gt;</th><th scope=col>&lt;fct&gt;</th><th scope=col>&lt;chr&gt;</th><th scope=col>&lt;dbl&gt;</th><th scope=col>&lt;dbl&gt;</th><th scope=col>&lt;dbl&gt;</th><th scope=col>&lt;dbl&gt;</th></tr>\n",
       "</thead>\n",
       "<tbody>\n",
       "\t<tr><th scope=row>1</th><td>adipocyte</td><td>Factor1</td><td>0</td><td>0</td><td>0.005</td><td>0</td><td>0</td></tr>\n",
       "\t<tr><th scope=row>2</th><td>adipocyte</td><td>Factor2</td><td>0</td><td>0</td><td>0.005</td><td>0</td><td>0</td></tr>\n",
       "</tbody>\n",
       "</table>\n"
      ],
      "text/latex": [
       "A data.frame: 2 × 7\n",
       "\\begin{tabular}{r|lllllll}\n",
       "  & view & variable & type & n & fraction & amount\\_features & percentage\\\\\n",
       "  & <chr> & <fct> & <chr> & <dbl> & <dbl> & <dbl> & <dbl>\\\\\n",
       "\\hline\n",
       "\t1 & adipocyte & Factor1 & 0 & 0 & 0.005 & 0 & 0\\\\\n",
       "\t2 & adipocyte & Factor2 & 0 & 0 & 0.005 & 0 & 0\\\\\n",
       "\\end{tabular}\n"
      ],
      "text/markdown": [
       "\n",
       "A data.frame: 2 × 7\n",
       "\n",
       "| <!--/--> | view &lt;chr&gt; | variable &lt;fct&gt; | type &lt;chr&gt; | n &lt;dbl&gt; | fraction &lt;dbl&gt; | amount_features &lt;dbl&gt; | percentage &lt;dbl&gt; |\n",
       "|---|---|---|---|---|---|---|---|\n",
       "| 1 | adipocyte | Factor1 | 0 | 0 | 0.005 | 0 | 0 |\n",
       "| 2 | adipocyte | Factor2 | 0 | 0 | 0.005 | 0 | 0 |\n",
       "\n"
      ],
      "text/plain": [
       "  view      variable type n fraction amount_features percentage\n",
       "1 adipocyte Factor1  0    0 0.005    0               0         \n",
       "2 adipocyte Factor2  0    0 0.005    0               0         "
      ]
     },
     "metadata": {},
     "output_type": "display_data"
    }
   ],
   "source": [
    "head(    geneset_oi_amounts_list[[i]],2)"
   ]
  },
  {
   "cell_type": "markdown",
   "id": "4016f142-473d-4d67-b30a-31ad211a556c",
   "metadata": {},
   "source": [
    "# Plots"
   ]
  },
  {
   "cell_type": "code",
   "execution_count": 809,
   "id": "e5437649-78be-4d93-8c1a-7abb5b64dbe6",
   "metadata": {
    "tags": []
   },
   "outputs": [],
   "source": [
    "### Generate the plots to evaluate the factor values in relation to different sample-meta data covariates"
   ]
  },
  {
   "cell_type": "markdown",
   "id": "622e844d-1ee6-4164-826f-adf243b73b12",
   "metadata": {
    "tags": []
   },
   "source": [
    "## Investigate relationship of factors with numeric values"
   ]
  },
  {
   "cell_type": "code",
   "execution_count": 810,
   "id": "a308e9af-33ae-4185-b43c-2f8706960761",
   "metadata": {
    "tags": []
   },
   "outputs": [],
   "source": [
    "### Calculate correlatins with numeric features"
   ]
  },
  {
   "cell_type": "code",
   "execution_count": 811,
   "id": "4393deea-b7c7-4001-9f29-24d0cb34ba68",
   "metadata": {},
   "outputs": [
    {
     "data": {
      "text/html": [
       "<table class=\"dataframe\">\n",
       "<caption>A data.frame: 2 × 9</caption>\n",
       "<thead>\n",
       "\t<tr><th></th><th scope=col>sample_id</th><th scope=col>variable</th><th scope=col>value</th><th scope=col>donor_id</th><th scope=col>disease</th><th scope=col>sex</th><th scope=col>development_stage</th><th scope=col>self_reported_ethnicity</th><th scope=col>Primary.Genetic.Diagnosis</th></tr>\n",
       "\t<tr><th></th><th scope=col>&lt;chr&gt;</th><th scope=col>&lt;fct&gt;</th><th scope=col>&lt;dbl&gt;</th><th scope=col>&lt;chr&gt;</th><th scope=col>&lt;chr&gt;</th><th scope=col>&lt;chr&gt;</th><th scope=col>&lt;chr&gt;</th><th scope=col>&lt;chr&gt;</th><th scope=col>&lt;chr&gt;</th></tr>\n",
       "</thead>\n",
       "<tbody>\n",
       "\t<tr><th scope=row>1</th><td>D1</td><td>Factor1</td><td>1.616970</td><td>D1</td><td>normal</td><td>female</td><td>sixth decade human stage</td><td>European</td><td>control</td></tr>\n",
       "\t<tr><th scope=row>2</th><td>D1</td><td>Factor2</td><td>1.922963</td><td>D1</td><td>normal</td><td>female</td><td>sixth decade human stage</td><td>European</td><td>control</td></tr>\n",
       "</tbody>\n",
       "</table>\n"
      ],
      "text/latex": [
       "A data.frame: 2 × 9\n",
       "\\begin{tabular}{r|lllllllll}\n",
       "  & sample\\_id & variable & value & donor\\_id & disease & sex & development\\_stage & self\\_reported\\_ethnicity & Primary.Genetic.Diagnosis\\\\\n",
       "  & <chr> & <fct> & <dbl> & <chr> & <chr> & <chr> & <chr> & <chr> & <chr>\\\\\n",
       "\\hline\n",
       "\t1 & D1 & Factor1 & 1.616970 & D1 & normal & female & sixth decade human stage & European & control\\\\\n",
       "\t2 & D1 & Factor2 & 1.922963 & D1 & normal & female & sixth decade human stage & European & control\\\\\n",
       "\\end{tabular}\n"
      ],
      "text/markdown": [
       "\n",
       "A data.frame: 2 × 9\n",
       "\n",
       "| <!--/--> | sample_id &lt;chr&gt; | variable &lt;fct&gt; | value &lt;dbl&gt; | donor_id &lt;chr&gt; | disease &lt;chr&gt; | sex &lt;chr&gt; | development_stage &lt;chr&gt; | self_reported_ethnicity &lt;chr&gt; | Primary.Genetic.Diagnosis &lt;chr&gt; |\n",
       "|---|---|---|---|---|---|---|---|---|---|\n",
       "| 1 | D1 | Factor1 | 1.616970 | D1 | normal | female | sixth decade human stage | European | control |\n",
       "| 2 | D1 | Factor2 | 1.922963 | D1 | normal | female | sixth decade human stage | European | control |\n",
       "\n"
      ],
      "text/plain": [
       "  sample_id variable value    donor_id disease sex    development_stage       \n",
       "1 D1        Factor1  1.616970 D1       normal  female sixth decade human stage\n",
       "2 D1        Factor2  1.922963 D1       normal  female sixth decade human stage\n",
       "  self_reported_ethnicity Primary.Genetic.Diagnosis\n",
       "1 European                control                  \n",
       "2 European                control                  "
      ]
     },
     "metadata": {},
     "output_type": "display_data"
    }
   ],
   "source": [
    "head(factor_data_processed[[1]],2)"
   ]
  },
  {
   "cell_type": "code",
   "execution_count": 812,
   "id": "29278665-76c6-4d3b-84a6-788134b156d6",
   "metadata": {},
   "outputs": [],
   "source": [
    "figure_name = \"FIG04_Factor_Association_with_numeric_features_\"  # Define the name of the plot"
   ]
  },
  {
   "cell_type": "code",
   "execution_count": 813,
   "id": "7472cca9-6c1e-4775-87a5-8289d39af492",
   "metadata": {},
   "outputs": [],
   "source": [
    "# Set the sizes of the plot\n",
    "width_par = 8.07\n",
    "height_par = 3.5"
   ]
  },
  {
   "cell_type": "code",
   "execution_count": 814,
   "id": "17b7e65c-cd37-40bd-96a1-1ed5eb7d89ab",
   "metadata": {},
   "outputs": [
    {
     "name": "stdout",
     "output_type": "stream",
     "text": [
      "NULL\n"
     ]
    }
   ],
   "source": [
    "for(j in 1:length(factor_data_processed)){\n",
    "    ## get the variables\n",
    "    numeric_variables = unlist(str_split(factor_configs$numeric_covariates[j], ','))\n",
    "    \n",
    "    \n",
    "    ## calculate correlations\n",
    "    cor_plot = list()\n",
    "    \n",
    "    ## get the data\n",
    "    merged_data_long = factor_data_processed[[j]]\n",
    "    \n",
    "    ### calculate correlations\n",
    "    for(i in numeric_variables){\n",
    "        cor_plot[[i]] = ggplot(merged_data_long, aes(x = value, y = get(i))) + facet_wrap(.~ variable, scale = 'free') +\n",
    "        geom_point(size = 0.2) + plot_config + geom_smooth(method='lm', col = 'blue3', se = FALSE) + stat_cor(method = 'pearson') + ylab(i)\n",
    "\n",
    "\n",
    "        }\n",
    "    \n",
    "    \n",
    "    ### Plot the scatterplots\n",
    "    \n",
    "    # get the name for saving\n",
    "    mofa_name = factor_configs$mofa_result_name[j]\n",
    "    \n",
    "    pdf(paste0('figures/04_figures/', figure_name,mofa_name, '.pdf'), width =width_par, height =height_par, onefile = TRUE)\n",
    "    for (i in names(cor_plot)) {\n",
    "      print(cor_plot[[i]])  \n",
    "    }\n",
    "    dev.off()\n",
    "    }\n",
    "    \n",
    "    "
   ]
  },
  {
   "cell_type": "code",
   "execution_count": null,
   "id": "d257512a-7632-4915-87d8-b6af3afd9774",
   "metadata": {},
   "outputs": [],
   "source": []
  },
  {
   "cell_type": "markdown",
   "id": "b23a8144-d20d-45de-abf9-5f9200196b69",
   "metadata": {
    "tags": []
   },
   "source": [
    "## Investigate relationship with categorical values"
   ]
  },
  {
   "cell_type": "code",
   "execution_count": 815,
   "id": "109bf65e-df2f-4d1d-b875-b553d37e624a",
   "metadata": {
    "tags": []
   },
   "outputs": [],
   "source": [
    "### Generate boxplots to evaluate the factor value difference for categorical sample meta data variables"
   ]
  },
  {
   "cell_type": "code",
   "execution_count": 816,
   "id": "38e86d8a-c7ec-4d3e-b149-f4ab8d61160f",
   "metadata": {},
   "outputs": [],
   "source": [
    "# Specific Text Descriptions:\n",
    "xlabel = xlab('') \n",
    "ylabel = ylab('Factor Value')"
   ]
  },
  {
   "cell_type": "code",
   "execution_count": 817,
   "id": "96c10a91-7730-4327-916f-d808e17bff16",
   "metadata": {},
   "outputs": [],
   "source": [
    "# Specify Figure Name\n",
    "figure_name = paste0(\"FIG04_Factor_Association_with_categorical_features_\")"
   ]
  },
  {
   "cell_type": "code",
   "execution_count": 818,
   "id": "03eb6303-03ce-4b94-89ae-b96120e35d46",
   "metadata": {},
   "outputs": [],
   "source": [
    "# Specify sizes of the plot\n",
    "width_par = 8.07\n",
    "height_par = 3"
   ]
  },
  {
   "cell_type": "code",
   "execution_count": 819,
   "id": "73df0b0d-43a6-4f2f-877e-5015e28c1b7f",
   "metadata": {
    "tags": []
   },
   "outputs": [],
   "source": [
    "for(j in 1:length(factor_data_processed)){\n",
    "    ## get the variables\n",
    "    categorical_variables = unlist(str_split(factor_configs$categorical_covariates[j], ','))\n",
    "    \n",
    "    \n",
    "    ## calculate correlations\n",
    "    cor_plot = list()\n",
    "    \n",
    "    ## get the data\n",
    "    merged_data_long = factor_data_processed[[j]]\n",
    "    \n",
    "    \n",
    "    ## Plot as PDF\n",
    "    mofa_name = factor_configs$mofa_result_name[j]\n",
    "    \n",
    "    pdf(paste0('figures/04_figures/', figure_name, mofa_name, '.pdf'), width =width_par, height =height_par)\n",
    "    for(i in categorical_variables){\n",
    "        variable = i\n",
    "        merged_data_long$condition = merged_data_long[,variable]\n",
    "        vis_data = merged_data_long\n",
    "        g = ggplot(vis_data[!is.na(vis_data$condition),], aes(x=condition, y=value, col = condition)) + facet_grid(.~variable) +\n",
    "            plot_config +\n",
    "            xlabel + \n",
    "            ylabel + #colors_list[[i]]   +\n",
    "            ggtitle('Pattern of factor values') + \n",
    "            theme(legend.position = \"bottom\", axis.text.x = element_blank())+\n",
    "            geom_boxplot(outlier.size = 0.05)   + geom_point(size = 0.5) + if(i %in% names(colors_list)){colors_list[[i]]} else{colors_list[['default']]}\n",
    "\n",
    "        print(g)\n",
    "\n",
    "        }\n",
    "\n",
    "    dev.off()\n",
    "    \n",
    "    }"
   ]
  },
  {
   "cell_type": "markdown",
   "id": "24df80d0-7565-40de-bf04-7b9eb87f278d",
   "metadata": {},
   "source": [
    "## Feature Overview per Factor"
   ]
  },
  {
   "cell_type": "code",
   "execution_count": 820,
   "id": "fbaec71f-3cbf-434b-9ae9-036b5f984971",
   "metadata": {},
   "outputs": [],
   "source": [
    "## Generate the overview of the amount of top x% of features per factor and view (in relation to total amount of features per view)"
   ]
  },
  {
   "cell_type": "code",
   "execution_count": 821,
   "id": "29d2a89a-130f-4ef1-9cfd-a4c4c39b617f",
   "metadata": {},
   "outputs": [],
   "source": [
    "## Plot the heatmap showing the explained variance of the factor per view"
   ]
  },
  {
   "cell_type": "code",
   "execution_count": 822,
   "id": "7145a2ac-837e-406d-bd5f-45d0afee4929",
   "metadata": {},
   "outputs": [],
   "source": [
    "variance_plots = list()"
   ]
  },
  {
   "cell_type": "code",
   "execution_count": 823,
   "id": "87666031-ccb9-4196-84b2-a6919976707e",
   "metadata": {},
   "outputs": [],
   "source": [
    "for(j in 1:nrow(factor_configs)){\n",
    "\n",
    "    ## get the relevant factor and top variable fraction\n",
    "    factor_var = unlist(str_split(factor_configs$relevant_factors[j], ','))\n",
    "    \n",
    "    \n",
    "    ## Explained Variance Heatmap Plot (for each factor)\n",
    "    explained_variance_heatmap = list()\n",
    "    for(i in factor_var ){\n",
    "        data = explained_variance[[j]]   # get prepared variance data\n",
    "        data$Var2 = as.character(data$Var2)\n",
    "        data$Var2 = factor(data$Var2, levels = sort(unique(data$Var2)))  # recode to ensure right ordering\n",
    "        \n",
    "        data_plot = data[data$Var1 == i,]\n",
    "        data_plot$Var1 = 'Explained'\n",
    "\n",
    "        explained_variance_heatmap[[i]] = ggplot() + scale_fill_gradient(low=\"white\", high=\"black\") + \n",
    "        ylabel + xlabel + plot_config_heatmap +  theme(axis.text.y = element_text(hjust = 0, vjust = 0.5)) +\n",
    "        geom_tile(data = data_plot, mapping = aes(Var1,  Var2, fill= value)\n",
    "                 )  +\n",
    "        ggtitle(i)\n",
    "        }\n",
    "    \n",
    "    variance_plots[[j]] =  explained_variance_heatmap\n",
    "    }"
   ]
  },
  {
   "cell_type": "code",
   "execution_count": 824,
   "id": "e69f2165-af43-4cff-9a37-f060e17eb97a",
   "metadata": {},
   "outputs": [],
   "source": [
    "#variance_plots[[1]]"
   ]
  },
  {
   "cell_type": "code",
   "execution_count": 825,
   "id": "11d78f73-af1b-481c-bef3-03ad7cdb478e",
   "metadata": {},
   "outputs": [],
   "source": [
    "## Generate the barplots with showing the amount of top x% of features"
   ]
  },
  {
   "cell_type": "code",
   "execution_count": 826,
   "id": "3e0ac817-57a5-49b1-8216-d8da84da9675",
   "metadata": {},
   "outputs": [],
   "source": [
    "barplot_top_features_percentages = list()\n",
    "barplot_top_features_absolute = list()"
   ]
  },
  {
   "cell_type": "code",
   "execution_count": 827,
   "id": "77d47854-ba52-43f6-b132-a4e5a62c41e0",
   "metadata": {},
   "outputs": [],
   "source": [
    "for(j in 1:nrow(factor_configs)){\n",
    "    \n",
    "    # get configurations\n",
    "    top_var_fraction = factor_configs$top_variable_thres[j]\n",
    "    factor_var = unlist(str_split(factor_configs$relevant_factors[j], ','))\n",
    "    \n",
    "    ## Barplots with top features per factor\n",
    "    \n",
    "    ## 1: Percentages (amount of top x% of features in relation to total amount)\n",
    "    xlabel = xlab('View') \n",
    "    ylabel = ylab('Percentage of total features')\n",
    "    \n",
    "    percentage_plot_1_perc = list()\n",
    "    \n",
    "    for(i in factor_var ){\n",
    "\n",
    "            geneset_oi_amounts = geneset_oi_amounts_list[[j]]\n",
    "            geneset_oi_amounts$view  = as.character(geneset_oi_amounts$view)\n",
    "            geneset_oi_amounts$view = factor(geneset_oi_amounts$view, levels = sort(unique(geneset_oi_amounts$view))) # recode to ensure right ordering\n",
    "\n",
    "            percentage_plot_1_perc[[i]] = ggplot(data = geneset_oi_amounts[(geneset_oi_amounts$variable == i),], aes(x = view, y = percentage*100, fill = view)) +\n",
    "            xlabel + \n",
    "            ylabel + \n",
    "            plot_config + \n",
    "            geom_bar(stat=\"identity\") + coord_flip() + theme(legend.position = 'none') +\n",
    "            ggtitle(paste0('Top ', 2*as.numeric( top_var_fraction) *100, '% of features')) +\n",
    "            geom_hline(yintercept = 2*as.numeric( top_var_fraction)*100, \n",
    "                    color = \"black\", size=1) + scale_fill_manual(values = type_color_codes$color_code)\n",
    "        \n",
    "    }\n",
    "    barplot_top_features_percentages[[j]] =  percentage_plot_1_perc \n",
    "    \n",
    "    \n",
    "    \n",
    "    ## 2: Absolute Values (absolute amount of top x% of features of the view)\n",
    "    \n",
    "    xlabel = xlab('View') \n",
    "    ylabel = ylab('Amount features')\n",
    "    \n",
    "    absolute_plot_1_perc = list()\n",
    "    \n",
    "    # one selected threshold + absolute amount\n",
    "    for(i in factor_var ){\n",
    "            geneset_oi_amounts = geneset_oi_amounts_list[[j]]\n",
    "            geneset_oi_amounts$view = as.character(geneset_oi_amounts$view)\n",
    "            geneset_oi_amounts$view = factor(geneset_oi_amounts$view, levels = sort(unique(geneset_oi_amounts$view)))# recode to ensure right ordering\n",
    "\n",
    "            absolute_plot_1_perc[[i]] = ggplot(data = geneset_oi_amounts[(geneset_oi_amounts$variable == i),], aes(x = view, y = n, fill = view)) +\n",
    "            xlabel + \n",
    "            ylabel + \n",
    "            plot_config + \n",
    "            geom_bar(stat=\"identity\") + coord_flip()  + theme(legend.position = 'none')+ \n",
    "            ggtitle(paste0('Top ', 2*as.numeric( top_var_fraction) *100, '% of features')) + scale_fill_manual(values = type_color_codes$color_code) # TBD: maybe improve even with default value + specifying all colors via table\n",
    "        }\n",
    "    \n",
    "    barplot_top_features_absolute[[j]] = absolute_plot_1_perc\n",
    "       \n",
    "\n",
    "}  "
   ]
  },
  {
   "cell_type": "code",
   "execution_count": 828,
   "id": "751f00cb-9a18-4466-aeb8-0629a5e94bbb",
   "metadata": {},
   "outputs": [],
   "source": [
    "#barplot_top_features_percentages[[1]]"
   ]
  },
  {
   "cell_type": "code",
   "execution_count": 829,
   "id": "a7fa911c-d351-4bf1-9a43-379b9786daf6",
   "metadata": {},
   "outputs": [],
   "source": [
    "## Combine the plots and save"
   ]
  },
  {
   "cell_type": "code",
   "execution_count": 830,
   "id": "cb7b6682-0600-43ee-b794-37bca7d2a106",
   "metadata": {},
   "outputs": [],
   "source": [
    "# Specify the figure name\n",
    "figure_name = paste0( \"FIG04_Top_Feature_Overview_per_Factor\")"
   ]
  },
  {
   "cell_type": "code",
   "execution_count": 831,
   "id": "94813159-877f-4180-b2ce-bedeca5c6a32",
   "metadata": {},
   "outputs": [],
   "source": [
    "# Specify the sizes of the plot\n",
    "width_par = 8.07\n",
    "height_par =2.8"
   ]
  },
  {
   "cell_type": "code",
   "execution_count": 832,
   "id": "d0436087-71ef-4aa9-a93b-65c223a974ee",
   "metadata": {},
   "outputs": [],
   "source": [
    "for(j in 1:nrow(factor_configs)){\n",
    "    mofa_name = factor_configs$mofa_result_name[j]\n",
    "    \n",
    "    # get the relvant plot\n",
    "    explained_variance_heatmap = variance_plots[[j]]\n",
    "    absolute_plot_1_perc = barplot_top_features_absolute[[j]]\n",
    "    percentage_plot_1_perc = barplot_top_features_percentages[[j]]\n",
    "\n",
    "\n",
    "    pdf(paste0('figures/04_figures/', figure_name, '_',   mofa_name, '.pdf'), width =width_par, height =height_par)\n",
    "    for( i in 1:length(explained_variance_heatmap)){\n",
    "        legend = get_legend(explained_variance_heatmap[[i]])\n",
    "\n",
    "        combined1 = ggarrange(explained_variance_heatmap[[i]] + theme(legend.position = 'none'),\n",
    "                             absolute_plot_1_perc[[i]] + theme(axis.text.y = element_blank(),axis.ticks.y = element_blank(),axis.title.y = element_blank() ), \n",
    "                             percentage_plot_1_perc[[i]] + theme(axis.text.y = element_blank(),axis.ticks.y = element_blank(),axis.title.y = element_blank() ),  \n",
    "                             nrow=1, widths = c(2.2,1,1))\n",
    "        combined1 = annotate_figure(combined1, right = legend)\n",
    "\n",
    "        print( combined1)\n",
    "        }\n",
    "    dev.off()   \n",
    "    }"
   ]
  },
  {
   "cell_type": "code",
   "execution_count": null,
   "id": "3fa68637-1870-429b-8c04-4176aec047c0",
   "metadata": {},
   "outputs": [],
   "source": []
  },
  {
   "cell_type": "code",
   "execution_count": null,
   "id": "b6e59f35-8b97-450f-b430-73647d4a4027",
   "metadata": {},
   "outputs": [],
   "source": []
  }
 ],
 "metadata": {
  "kernelspec": {
   "display_name": "R",
   "language": "R",
   "name": "ir"
  },
  "language_info": {
   "codemirror_mode": "r",
   "file_extension": ".r",
   "mimetype": "text/x-r-source",
   "name": "R",
   "pygments_lexer": "r",
   "version": "4.3.2"
  },
  "toc-autonumbering": true,
  "toc-showcode": false
 },
 "nbformat": 4,
 "nbformat_minor": 5
}
