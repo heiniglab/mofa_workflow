{
 "cells": [
  {
   "cell_type": "code",
   "execution_count": 1,
   "id": "d182c426-4d95-4dee-a099-cd923e9437d7",
   "metadata": {},
   "outputs": [],
   "source": [
    "### Analyze MOFA MODEL Results\n",
    "### Associate the generated factors with sample meta-data covariates and plot the top features per factor"
   ]
  },
  {
   "cell_type": "markdown",
   "id": "213d69de-4705-4a6e-9387-b1a3413172eb",
   "metadata": {
    "tags": []
   },
   "source": [
    "#############################################\n",
    "# Prerequisites - Load Libraries"
   ]
  },
  {
   "cell_type": "code",
   "execution_count": 2,
   "id": "9957e32b-eaec-4762-95cd-e089cc1cdc60",
   "metadata": {
    "tags": []
   },
   "outputs": [
    {
     "name": "stderr",
     "output_type": "stream",
     "text": [
      "Warning message in read.table(file = file, header = header, sep = sep, quote = quote, :\n",
      "“incomplete final line found by readTableHeader on '../conda_environment/Environment_Configs.csv'”\n"
     ]
    },
    {
     "name": "stdout",
     "output_type": "stream",
     "text": [
      "[1] \"/home/icb/corinna.losert/miniconda3/envs/jove_r//lib/R/library\"\n"
     ]
    },
    {
     "name": "stderr",
     "output_type": "stream",
     "text": [
      "‘SeuratObject’ was built with package ‘Matrix’ 1.6.3 but the current\n",
      "version is 1.6.4; it is recomended that you reinstall ‘SeuratObject’ as\n",
      "the ABI for ‘Matrix’ may have changed\n",
      "\n",
      "\n",
      "Attaching package: ‘SeuratObject’\n",
      "\n",
      "\n",
      "The following object is masked from ‘package:base’:\n",
      "\n",
      "    intersect\n",
      "\n",
      "\n",
      "Registered S3 method overwritten by 'SeuratDisk':\n",
      "  method            from  \n",
      "  as.sparse.H5Group Seurat\n",
      "\n",
      "\n",
      "Attaching package: ‘dplyr’\n",
      "\n",
      "\n",
      "The following objects are masked from ‘package:data.table’:\n",
      "\n",
      "    between, first, last\n",
      "\n",
      "\n",
      "The following objects are masked from ‘package:stats’:\n",
      "\n",
      "    filter, lag\n",
      "\n",
      "\n",
      "The following objects are masked from ‘package:base’:\n",
      "\n",
      "    intersect, setdiff, setequal, union\n",
      "\n",
      "\n",
      "── \u001b[1mAttaching core tidyverse packages\u001b[22m ──────────────────────── tidyverse 2.0.0 ──\n",
      "\u001b[32m✔\u001b[39m \u001b[34mforcats  \u001b[39m 1.0.0     \u001b[32m✔\u001b[39m \u001b[34mreadr    \u001b[39m 2.1.4\n",
      "\u001b[32m✔\u001b[39m \u001b[34mggplot2  \u001b[39m 3.4.4     \u001b[32m✔\u001b[39m \u001b[34mtibble   \u001b[39m 3.2.1\n",
      "\u001b[32m✔\u001b[39m \u001b[34mlubridate\u001b[39m 1.9.3     \u001b[32m✔\u001b[39m \u001b[34mtidyr    \u001b[39m 1.3.0\n",
      "\u001b[32m✔\u001b[39m \u001b[34mpurrr    \u001b[39m 1.0.2     \n",
      "── \u001b[1mConflicts\u001b[22m ────────────────────────────────────────── tidyverse_conflicts() ──\n",
      "\u001b[31m✖\u001b[39m \u001b[34mdplyr\u001b[39m::\u001b[32mbetween()\u001b[39m     masks \u001b[34mdata.table\u001b[39m::between()\n",
      "\u001b[31m✖\u001b[39m \u001b[34mdplyr\u001b[39m::\u001b[32mfilter()\u001b[39m      masks \u001b[34mstats\u001b[39m::filter()\n",
      "\u001b[31m✖\u001b[39m \u001b[34mdplyr\u001b[39m::\u001b[32mfirst()\u001b[39m       masks \u001b[34mdata.table\u001b[39m::first()\n",
      "\u001b[31m✖\u001b[39m \u001b[34mlubridate\u001b[39m::\u001b[32mhour()\u001b[39m    masks \u001b[34mdata.table\u001b[39m::hour()\n",
      "\u001b[31m✖\u001b[39m \u001b[34mlubridate\u001b[39m::\u001b[32misoweek()\u001b[39m masks \u001b[34mdata.table\u001b[39m::isoweek()\n",
      "\u001b[31m✖\u001b[39m \u001b[34mdplyr\u001b[39m::\u001b[32mlag()\u001b[39m         masks \u001b[34mstats\u001b[39m::lag()\n",
      "\u001b[31m✖\u001b[39m \u001b[34mdplyr\u001b[39m::\u001b[32mlast()\u001b[39m        masks \u001b[34mdata.table\u001b[39m::last()\n",
      "\u001b[31m✖\u001b[39m \u001b[34mlubridate\u001b[39m::\u001b[32mmday()\u001b[39m    masks \u001b[34mdata.table\u001b[39m::mday()\n",
      "\u001b[31m✖\u001b[39m \u001b[34mlubridate\u001b[39m::\u001b[32mminute()\u001b[39m  masks \u001b[34mdata.table\u001b[39m::minute()\n",
      "\u001b[31m✖\u001b[39m \u001b[34mlubridate\u001b[39m::\u001b[32mmonth()\u001b[39m   masks \u001b[34mdata.table\u001b[39m::month()\n",
      "\u001b[31m✖\u001b[39m \u001b[34mlubridate\u001b[39m::\u001b[32mquarter()\u001b[39m masks \u001b[34mdata.table\u001b[39m::quarter()\n",
      "\u001b[31m✖\u001b[39m \u001b[34mlubridate\u001b[39m::\u001b[32msecond()\u001b[39m  masks \u001b[34mdata.table\u001b[39m::second()\n",
      "\u001b[31m✖\u001b[39m \u001b[34mpurrr\u001b[39m::\u001b[32mtranspose()\u001b[39m   masks \u001b[34mdata.table\u001b[39m::transpose()\n",
      "\u001b[31m✖\u001b[39m \u001b[34mlubridate\u001b[39m::\u001b[32mwday()\u001b[39m    masks \u001b[34mdata.table\u001b[39m::wday()\n",
      "\u001b[31m✖\u001b[39m \u001b[34mlubridate\u001b[39m::\u001b[32mweek()\u001b[39m    masks \u001b[34mdata.table\u001b[39m::week()\n",
      "\u001b[31m✖\u001b[39m \u001b[34mlubridate\u001b[39m::\u001b[32myday()\u001b[39m    masks \u001b[34mdata.table\u001b[39m::yday()\n",
      "\u001b[31m✖\u001b[39m \u001b[34mlubridate\u001b[39m::\u001b[32myear()\u001b[39m    masks \u001b[34mdata.table\u001b[39m::year()\n",
      "\u001b[36mℹ\u001b[39m Use the conflicted package (\u001b[3m\u001b[34m<http://conflicted.r-lib.org/>\u001b[39m\u001b[23m) to force all conflicts to become errors\n",
      "\n",
      "Attaching package: ‘reshape2’\n",
      "\n",
      "\n",
      "The following object is masked from ‘package:tidyr’:\n",
      "\n",
      "    smiths\n",
      "\n",
      "\n",
      "The following objects are masked from ‘package:data.table’:\n",
      "\n",
      "    dcast, melt\n",
      "\n",
      "\n",
      "Loading required package: lattice\n",
      "\n",
      "\n",
      "Attaching package: ‘caret’\n",
      "\n",
      "\n",
      "The following object is masked from ‘package:purrr’:\n",
      "\n",
      "    lift\n",
      "\n",
      "\n",
      "\n",
      "Attaching package: ‘gridExtra’\n",
      "\n",
      "\n",
      "The following object is masked from ‘package:dplyr’:\n",
      "\n",
      "    combine\n",
      "\n",
      "\n",
      "\n",
      "Attaching package: ‘scales’\n",
      "\n",
      "\n",
      "The following object is masked from ‘package:purrr’:\n",
      "\n",
      "    discard\n",
      "\n",
      "\n",
      "The following object is masked from ‘package:readr’:\n",
      "\n",
      "    col_factor\n",
      "\n",
      "\n",
      "\n",
      "Attaching package: ‘ggraph’\n",
      "\n",
      "\n",
      "The following object is masked from ‘package:sp’:\n",
      "\n",
      "    geometry\n",
      "\n",
      "\n",
      "corrplot 0.92 loaded\n",
      "\n",
      "\n",
      "Attaching package: ‘MOFA2’\n",
      "\n",
      "\n",
      "The following object is masked from ‘package:stats’:\n",
      "\n",
      "    predict\n",
      "\n",
      "\n",
      "Loading required package: S4Vectors\n",
      "\n",
      "Loading required package: stats4\n",
      "\n",
      "Loading required package: BiocGenerics\n",
      "\n",
      "\n",
      "Attaching package: ‘BiocGenerics’\n",
      "\n",
      "\n",
      "The following object is masked from ‘package:gridExtra’:\n",
      "\n",
      "    combine\n",
      "\n",
      "\n",
      "The following objects are masked from ‘package:lubridate’:\n",
      "\n",
      "    intersect, setdiff, union\n",
      "\n",
      "\n",
      "The following objects are masked from ‘package:dplyr’:\n",
      "\n",
      "    combine, intersect, setdiff, union\n",
      "\n",
      "\n",
      "The following object is masked from ‘package:SeuratObject’:\n",
      "\n",
      "    intersect\n",
      "\n",
      "\n",
      "The following objects are masked from ‘package:stats’:\n",
      "\n",
      "    IQR, mad, sd, var, xtabs\n",
      "\n",
      "\n",
      "The following objects are masked from ‘package:base’:\n",
      "\n",
      "    anyDuplicated, aperm, append, as.data.frame, basename, cbind,\n",
      "    colnames, dirname, do.call, duplicated, eval, evalq, Filter, Find,\n",
      "    get, grep, grepl, intersect, is.unsorted, lapply, Map, mapply,\n",
      "    match, mget, order, paste, pmax, pmax.int, pmin, pmin.int,\n",
      "    Position, rank, rbind, Reduce, rownames, sapply, setdiff, sort,\n",
      "    table, tapply, union, unique, unsplit, which.max, which.min\n",
      "\n",
      "\n",
      "\n",
      "Attaching package: ‘S4Vectors’\n",
      "\n",
      "\n",
      "The following objects are masked from ‘package:lubridate’:\n",
      "\n",
      "    second, second<-\n",
      "\n",
      "\n",
      "The following object is masked from ‘package:tidyr’:\n",
      "\n",
      "    expand\n",
      "\n",
      "\n",
      "The following objects are masked from ‘package:dplyr’:\n",
      "\n",
      "    first, rename\n",
      "\n",
      "\n",
      "The following objects are masked from ‘package:data.table’:\n",
      "\n",
      "    first, second\n",
      "\n",
      "\n",
      "The following object is masked from ‘package:utils’:\n",
      "\n",
      "    findMatches\n",
      "\n",
      "\n",
      "The following objects are masked from ‘package:base’:\n",
      "\n",
      "    expand.grid, I, unname\n",
      "\n",
      "\n",
      "Loading required package: IRanges\n",
      "\n",
      "\n",
      "Attaching package: ‘IRanges’\n",
      "\n",
      "\n",
      "The following object is masked from ‘package:lubridate’:\n",
      "\n",
      "    %within%\n",
      "\n",
      "\n",
      "The following object is masked from ‘package:purrr’:\n",
      "\n",
      "    reduce\n",
      "\n",
      "\n",
      "The following objects are masked from ‘package:dplyr’:\n",
      "\n",
      "    collapse, desc, slice\n",
      "\n",
      "\n",
      "The following object is masked from ‘package:data.table’:\n",
      "\n",
      "    shift\n",
      "\n",
      "\n",
      "The following object is masked from ‘package:sp’:\n",
      "\n",
      "    %over%\n",
      "\n",
      "\n",
      "Loading required package: GenomicRanges\n",
      "\n",
      "Loading required package: GenomeInfoDb\n",
      "\n",
      "Loading required package: SummarizedExperiment\n",
      "\n",
      "Loading required package: MatrixGenerics\n",
      "\n",
      "Loading required package: matrixStats\n",
      "\n",
      "\n",
      "Attaching package: ‘matrixStats’\n",
      "\n",
      "\n",
      "The following object is masked from ‘package:dplyr’:\n",
      "\n",
      "    count\n",
      "\n",
      "\n",
      "\n",
      "Attaching package: ‘MatrixGenerics’\n",
      "\n",
      "\n",
      "The following objects are masked from ‘package:matrixStats’:\n",
      "\n",
      "    colAlls, colAnyNAs, colAnys, colAvgsPerRowSet, colCollapse,\n",
      "    colCounts, colCummaxs, colCummins, colCumprods, colCumsums,\n",
      "    colDiffs, colIQRDiffs, colIQRs, colLogSumExps, colMadDiffs,\n",
      "    colMads, colMaxs, colMeans2, colMedians, colMins, colOrderStats,\n",
      "    colProds, colQuantiles, colRanges, colRanks, colSdDiffs, colSds,\n",
      "    colSums2, colTabulates, colVarDiffs, colVars, colWeightedMads,\n",
      "    colWeightedMeans, colWeightedMedians, colWeightedSds,\n",
      "    colWeightedVars, rowAlls, rowAnyNAs, rowAnys, rowAvgsPerColSet,\n",
      "    rowCollapse, rowCounts, rowCummaxs, rowCummins, rowCumprods,\n",
      "    rowCumsums, rowDiffs, rowIQRDiffs, rowIQRs, rowLogSumExps,\n",
      "    rowMadDiffs, rowMads, rowMaxs, rowMeans2, rowMedians, rowMins,\n",
      "    rowOrderStats, rowProds, rowQuantiles, rowRanges, rowRanks,\n",
      "    rowSdDiffs, rowSds, rowSums2, rowTabulates, rowVarDiffs, rowVars,\n",
      "    rowWeightedMads, rowWeightedMeans, rowWeightedMedians,\n",
      "    rowWeightedSds, rowWeightedVars\n",
      "\n",
      "\n",
      "Loading required package: Biobase\n",
      "\n",
      "Welcome to Bioconductor\n",
      "\n",
      "    Vignettes contain introductory material; view with\n",
      "    'browseVignettes()'. To cite Bioconductor, see\n",
      "    'citation(\"Biobase\")', and for packages 'citation(\"pkgname\")'.\n",
      "\n",
      "\n",
      "\n",
      "Attaching package: ‘Biobase’\n",
      "\n",
      "\n",
      "The following object is masked from ‘package:MatrixGenerics’:\n",
      "\n",
      "    rowMedians\n",
      "\n",
      "\n",
      "The following objects are masked from ‘package:matrixStats’:\n",
      "\n",
      "    anyMissing, rowMedians\n",
      "\n",
      "\n",
      "\n",
      "Attaching package: ‘SummarizedExperiment’\n",
      "\n",
      "\n",
      "The following object is masked from ‘package:Seurat’:\n",
      "\n",
      "    Assays\n",
      "\n",
      "\n",
      "The following object is masked from ‘package:SeuratObject’:\n",
      "\n",
      "    Assays\n",
      "\n",
      "\n",
      "Warning message in checkDepPackageVersion(dep_pkg = \"TMB\"):\n",
      "“Package version inconsistency detected.\n",
      "glmmTMB was built with TMB version 1.9.6\n",
      "Current TMB version is 1.9.10\n",
      "Please re-install glmmTMB from source or restore original ‘TMB’ package (see '?reinstalling' for more information)”\n",
      "Registered S3 method overwritten by 'EnvStats':\n",
      "  method         from\n",
      "  print.estimate lava\n",
      "\n"
     ]
    }
   ],
   "source": [
    "source('MS0_Libraries.r')"
   ]
  },
  {
   "cell_type": "code",
   "execution_count": 3,
   "id": "45fcc655-2176-406c-9f49-5e5b9379a275",
   "metadata": {
    "tags": []
   },
   "outputs": [
    {
     "name": "stderr",
     "output_type": "stream",
     "text": [
      "Warning message:\n",
      "“\u001b[1m\u001b[22mThe `size` argument of `element_line()` is deprecated as of ggplot2 3.4.0.\n",
      "\u001b[36mℹ\u001b[39m Please use the `linewidth` argument instead.”\n"
     ]
    }
   ],
   "source": [
    "source('MS2_Plot_Config.r')"
   ]
  },
  {
   "cell_type": "code",
   "execution_count": 4,
   "id": "a05c2a3f-a558-4041-9545-16235c26f5bf",
   "metadata": {},
   "outputs": [],
   "source": [
    "source('MS1_Functions.r')"
   ]
  },
  {
   "cell_type": "markdown",
   "id": "9d409d14-a693-4722-9648-4b6bacb4b74a",
   "metadata": {
    "tags": []
   },
   "source": [
    "###############################################\n",
    "# Preqrequisites Configurations & Parameters"
   ]
  },
  {
   "cell_type": "code",
   "execution_count": 5,
   "id": "10f0a36b-6b38-40a3-90f7-fa4f33c168fd",
   "metadata": {},
   "outputs": [
    {
     "name": "stderr",
     "output_type": "stream",
     "text": [
      "Warning message in read.table(file = file, header = header, sep = sep, quote = quote, :\n",
      "“incomplete final line found by readTableHeader on 'configurations/Data_Configs.csv'”\n"
     ]
    }
   ],
   "source": [
    "### Load configurations file\n",
    "global_configs = read.csv('configurations/Data_Configs.csv', sep = ',')"
   ]
  },
  {
   "cell_type": "code",
   "execution_count": 6,
   "id": "3befb331-1345-4b69-9a5d-8352ae4eb9c0",
   "metadata": {},
   "outputs": [
    {
     "data": {
      "text/html": [
       "<table class=\"dataframe\">\n",
       "<caption>A data.frame: 2 × 2</caption>\n",
       "<thead>\n",
       "\t<tr><th></th><th scope=col>parameter</th><th scope=col>value</th></tr>\n",
       "\t<tr><th></th><th scope=col>&lt;chr&gt;</th><th scope=col>&lt;chr&gt;</th></tr>\n",
       "</thead>\n",
       "<tbody>\n",
       "\t<tr><th scope=row>1</th><td>data_path  </td><td>/lustre/groups/epigenereg01/workspace/projects/jove/input_data/</td></tr>\n",
       "\t<tr><th scope=row>2</th><td>result_path</td><td>/lustre/groups/epigenereg01/workspace/projects/jove/results/   </td></tr>\n",
       "</tbody>\n",
       "</table>\n"
      ],
      "text/latex": [
       "A data.frame: 2 × 2\n",
       "\\begin{tabular}{r|ll}\n",
       "  & parameter & value\\\\\n",
       "  & <chr> & <chr>\\\\\n",
       "\\hline\n",
       "\t1 & data\\_path   & /lustre/groups/epigenereg01/workspace/projects/jove/input\\_data/\\\\\n",
       "\t2 & result\\_path & /lustre/groups/epigenereg01/workspace/projects/jove/results/   \\\\\n",
       "\\end{tabular}\n"
      ],
      "text/markdown": [
       "\n",
       "A data.frame: 2 × 2\n",
       "\n",
       "| <!--/--> | parameter &lt;chr&gt; | value &lt;chr&gt; |\n",
       "|---|---|---|\n",
       "| 1 | data_path   | /lustre/groups/epigenereg01/workspace/projects/jove/input_data/ |\n",
       "| 2 | result_path | /lustre/groups/epigenereg01/workspace/projects/jove/results/    |\n",
       "\n"
      ],
      "text/plain": [
       "  parameter   value                                                          \n",
       "1 data_path   /lustre/groups/epigenereg01/workspace/projects/jove/input_data/\n",
       "2 result_path /lustre/groups/epigenereg01/workspace/projects/jove/results/   "
      ]
     },
     "metadata": {},
     "output_type": "display_data"
    }
   ],
   "source": [
    "head(global_configs,2)"
   ]
  },
  {
   "cell_type": "code",
   "execution_count": 7,
   "id": "5ff98fe3-d06d-4a60-a442-4c60c5d943f6",
   "metadata": {},
   "outputs": [],
   "source": [
    "data_path = global_configs$value[global_configs$parameter == 'data_path']"
   ]
  },
  {
   "cell_type": "code",
   "execution_count": 8,
   "id": "b5cd65ff-01d7-4997-95cd-65173db0ff11",
   "metadata": {},
   "outputs": [
    {
     "data": {
      "text/html": [
       "'/lustre/groups/epigenereg01/workspace/projects/jove/input_data/'"
      ],
      "text/latex": [
       "'/lustre/groups/epigenereg01/workspace/projects/jove/input\\_data/'"
      ],
      "text/markdown": [
       "'/lustre/groups/epigenereg01/workspace/projects/jove/input_data/'"
      ],
      "text/plain": [
       "[1] \"/lustre/groups/epigenereg01/workspace/projects/jove/input_data/\""
      ]
     },
     "metadata": {},
     "output_type": "display_data"
    }
   ],
   "source": [
    "data_path"
   ]
  },
  {
   "cell_type": "code",
   "execution_count": 9,
   "id": "3416e8bc-b214-4704-8207-c7dc3c62af0a",
   "metadata": {},
   "outputs": [],
   "source": [
    "result_path = global_configs$value[global_configs$parameter == 'result_path']"
   ]
  },
  {
   "cell_type": "code",
   "execution_count": 10,
   "id": "e61f9434-d181-42ae-8160-8a08f7daee58",
   "metadata": {},
   "outputs": [
    {
     "data": {
      "text/html": [
       "'/lustre/groups/epigenereg01/workspace/projects/jove/results/'"
      ],
      "text/latex": [
       "'/lustre/groups/epigenereg01/workspace/projects/jove/results/'"
      ],
      "text/markdown": [
       "'/lustre/groups/epigenereg01/workspace/projects/jove/results/'"
      ],
      "text/plain": [
       "[1] \"/lustre/groups/epigenereg01/workspace/projects/jove/results/\""
      ]
     },
     "metadata": {},
     "output_type": "display_data"
    }
   ],
   "source": [
    "result_path"
   ]
  },
  {
   "cell_type": "code",
   "execution_count": 11,
   "id": "43b75b0b-321c-4876-bc23-70be99a87327",
   "metadata": {},
   "outputs": [],
   "source": [
    "## Downstream Analysis Configurations "
   ]
  },
  {
   "cell_type": "code",
   "execution_count": 12,
   "id": "255ee5a6-41cc-43f4-8f20-f05ac0700a00",
   "metadata": {},
   "outputs": [
    {
     "name": "stderr",
     "output_type": "stream",
     "text": [
      "Warning message in read.table(file = file, header = header, sep = sep, quote = quote, :\n",
      "“incomplete final line found by readTableHeader on 'configurations/04_Factor_Analysis_Configs.csv'”\n"
     ]
    }
   ],
   "source": [
    "factor_configs = read.csv( 'configurations/04_Factor_Analysis_Configs.csv', sep = ',')"
   ]
  },
  {
   "cell_type": "code",
   "execution_count": 13,
   "id": "7c0b1525-ec9d-47aa-b5d5-b0d6e5e45a2c",
   "metadata": {},
   "outputs": [
    {
     "data": {
      "text/html": [
       "<table class=\"dataframe\">\n",
       "<caption>A data.frame: 1 × 6</caption>\n",
       "<thead>\n",
       "\t<tr><th></th><th scope=col>configuration_name</th><th scope=col>mofa_result_name</th><th scope=col>relevant_factors</th><th scope=col>numeric_covariates</th><th scope=col>categorical_covariates</th><th scope=col>top_variable_thres.</th></tr>\n",
       "\t<tr><th></th><th scope=col>&lt;chr&gt;</th><th scope=col>&lt;chr&gt;</th><th scope=col>&lt;chr&gt;</th><th scope=col>&lt;chr&gt;</th><th scope=col>&lt;chr&gt;</th><th scope=col>&lt;dbl&gt;</th></tr>\n",
       "</thead>\n",
       "<tbody>\n",
       "\t<tr><th scope=row>1</th><td>config1</td><td>config1</td><td>Factor1,Factor2,Factor3,Factor4,Factor5,Factor6</td><td>CK,CRP</td><td>measurement,classification,tp_outcome</td><td>0.005</td></tr>\n",
       "</tbody>\n",
       "</table>\n"
      ],
      "text/latex": [
       "A data.frame: 1 × 6\n",
       "\\begin{tabular}{r|llllll}\n",
       "  & configuration\\_name & mofa\\_result\\_name & relevant\\_factors & numeric\\_covariates & categorical\\_covariates & top\\_variable\\_thres.\\\\\n",
       "  & <chr> & <chr> & <chr> & <chr> & <chr> & <dbl>\\\\\n",
       "\\hline\n",
       "\t1 & config1 & config1 & Factor1,Factor2,Factor3,Factor4,Factor5,Factor6 & CK,CRP & measurement,classification,tp\\_outcome & 0.005\\\\\n",
       "\\end{tabular}\n"
      ],
      "text/markdown": [
       "\n",
       "A data.frame: 1 × 6\n",
       "\n",
       "| <!--/--> | configuration_name &lt;chr&gt; | mofa_result_name &lt;chr&gt; | relevant_factors &lt;chr&gt; | numeric_covariates &lt;chr&gt; | categorical_covariates &lt;chr&gt; | top_variable_thres. &lt;dbl&gt; |\n",
       "|---|---|---|---|---|---|---|\n",
       "| 1 | config1 | config1 | Factor1,Factor2,Factor3,Factor4,Factor5,Factor6 | CK,CRP | measurement,classification,tp_outcome | 0.005 |\n",
       "\n"
      ],
      "text/plain": [
       "  configuration_name mofa_result_name\n",
       "1 config1            config1         \n",
       "  relevant_factors                                numeric_covariates\n",
       "1 Factor1,Factor2,Factor3,Factor4,Factor5,Factor6 CK,CRP            \n",
       "  categorical_covariates                top_variable_thres.\n",
       "1 measurement,classification,tp_outcome 0.005              "
      ]
     },
     "metadata": {},
     "output_type": "display_data"
    }
   ],
   "source": [
    "head(factor_configs,2)"
   ]
  },
  {
   "cell_type": "code",
   "execution_count": 14,
   "id": "80aa5439-70bc-4ebb-846c-d1496a7c3125",
   "metadata": {},
   "outputs": [],
   "source": [
    "## Get Type color codes from previous script"
   ]
  },
  {
   "cell_type": "code",
   "execution_count": 15,
   "id": "421d5dd3-b084-4d8a-9bdd-81821d80cdfd",
   "metadata": {},
   "outputs": [],
   "source": [
    "type_color_codes = read.csv( 'configurations/03_Type_Color_Codes.csv', sep = ',')"
   ]
  },
  {
   "cell_type": "code",
   "execution_count": 16,
   "id": "c2feddb5-2ab5-401a-9aa5-6308a1fbb498",
   "metadata": {},
   "outputs": [
    {
     "data": {
      "text/html": [
       "<table class=\"dataframe\">\n",
       "<caption>A data.frame: 2 × 2</caption>\n",
       "<thead>\n",
       "\t<tr><th></th><th scope=col>X</th><th scope=col>color_code</th></tr>\n",
       "\t<tr><th></th><th scope=col>&lt;int&gt;</th><th scope=col>&lt;chr&gt;</th></tr>\n",
       "</thead>\n",
       "<tbody>\n",
       "\t<tr><th scope=row>1</th><td>1</td><td>#FF7F50</td></tr>\n",
       "\t<tr><th scope=row>2</th><td>2</td><td>#D95F02</td></tr>\n",
       "</tbody>\n",
       "</table>\n"
      ],
      "text/latex": [
       "A data.frame: 2 × 2\n",
       "\\begin{tabular}{r|ll}\n",
       "  & X & color\\_code\\\\\n",
       "  & <int> & <chr>\\\\\n",
       "\\hline\n",
       "\t1 & 1 & \\#FF7F50\\\\\n",
       "\t2 & 2 & \\#D95F02\\\\\n",
       "\\end{tabular}\n"
      ],
      "text/markdown": [
       "\n",
       "A data.frame: 2 × 2\n",
       "\n",
       "| <!--/--> | X &lt;int&gt; | color_code &lt;chr&gt; |\n",
       "|---|---|---|\n",
       "| 1 | 1 | #FF7F50 |\n",
       "| 2 | 2 | #D95F02 |\n",
       "\n"
      ],
      "text/plain": [
       "  X color_code\n",
       "1 1 #FF7F50   \n",
       "2 2 #D95F02   "
      ]
     },
     "metadata": {},
     "output_type": "display_data"
    }
   ],
   "source": [
    "head(type_color_codes,2)"
   ]
  },
  {
   "cell_type": "code",
   "execution_count": 17,
   "id": "b01ec4bd-f57b-423e-bd03-aa3eec0d5d7b",
   "metadata": {},
   "outputs": [
    {
     "data": {
      "text/html": [
       "<style>\n",
       ".list-inline {list-style: none; margin:0; padding: 0}\n",
       ".list-inline>li {display: inline-block}\n",
       ".list-inline>li:not(:last-child)::after {content: \"\\00b7\"; padding: 0 .5ex}\n",
       "</style>\n",
       "<ol class=list-inline><li>'#FF7F50'</li><li>'#D95F02'</li><li>'#377EB8'</li><li>'#E6AB02'</li><li>'#31A354'</li><li>'#7570B3'</li><li>'#E7298A'</li><li>'#66A61E'</li><li>'#A6761D'</li><li>'#666666'</li><li>'#E41A1C'</li><li>'#4DAF4A'</li><li>'#984EA3'</li><li>'#FF7F00'</li><li>'#FFFF33'</li><li>'#A65628'</li><li>'#F781BF'</li></ol>\n"
      ],
      "text/latex": [
       "\\begin{enumerate*}\n",
       "\\item '\\#FF7F50'\n",
       "\\item '\\#D95F02'\n",
       "\\item '\\#377EB8'\n",
       "\\item '\\#E6AB02'\n",
       "\\item '\\#31A354'\n",
       "\\item '\\#7570B3'\n",
       "\\item '\\#E7298A'\n",
       "\\item '\\#66A61E'\n",
       "\\item '\\#A6761D'\n",
       "\\item '\\#666666'\n",
       "\\item '\\#E41A1C'\n",
       "\\item '\\#4DAF4A'\n",
       "\\item '\\#984EA3'\n",
       "\\item '\\#FF7F00'\n",
       "\\item '\\#FFFF33'\n",
       "\\item '\\#A65628'\n",
       "\\item '\\#F781BF'\n",
       "\\end{enumerate*}\n"
      ],
      "text/markdown": [
       "1. '#FF7F50'\n",
       "2. '#D95F02'\n",
       "3. '#377EB8'\n",
       "4. '#E6AB02'\n",
       "5. '#31A354'\n",
       "6. '#7570B3'\n",
       "7. '#E7298A'\n",
       "8. '#66A61E'\n",
       "9. '#A6761D'\n",
       "10. '#666666'\n",
       "11. '#E41A1C'\n",
       "12. '#4DAF4A'\n",
       "13. '#984EA3'\n",
       "14. '#FF7F00'\n",
       "15. '#FFFF33'\n",
       "16. '#A65628'\n",
       "17. '#F781BF'\n",
       "\n",
       "\n"
      ],
      "text/plain": [
       " [1] \"#FF7F50\" \"#D95F02\" \"#377EB8\" \"#E6AB02\" \"#31A354\" \"#7570B3\" \"#E7298A\"\n",
       " [8] \"#66A61E\" \"#A6761D\" \"#666666\" \"#E41A1C\" \"#4DAF4A\" \"#984EA3\" \"#FF7F00\"\n",
       "[15] \"#FFFF33\" \"#A65628\" \"#F781BF\""
      ]
     },
     "metadata": {},
     "output_type": "display_data"
    }
   ],
   "source": [
    "type_color_codes$color_code"
   ]
  },
  {
   "cell_type": "markdown",
   "id": "43e2937f-4e6d-4e90-99f2-2f7c370f9639",
   "metadata": {
    "tags": []
   },
   "source": [
    "# Load Data "
   ]
  },
  {
   "cell_type": "markdown",
   "id": "3106ef73-2d6d-4cef-a254-566960bf20cb",
   "metadata": {},
   "source": [
    "## MOFA Input"
   ]
  },
  {
   "cell_type": "code",
   "execution_count": null,
   "id": "c3256f7a-a8a1-4b1b-a17a-8dd8900cdc91",
   "metadata": {},
   "outputs": [],
   "source": [
    "data_list = list()"
   ]
  },
  {
   "cell_type": "code",
   "execution_count": null,
   "id": "5bf43a41-7bcc-4c89-98d3-e839ce503aa7",
   "metadata": {},
   "outputs": [],
   "source": [
    "for(i in 1:nrow(factor_configs)){\n",
    "    # get data name from configuration\n",
    "    data_name = factor_configs$configuration_name[i]\n",
    "    \n",
    "    # Load data\n",
    "    path = paste0(result_path, '/02_results/02_Combined_Data_',data_name,'_INTEGRATED.csv')\n",
    "    data_long = read.csv(path)\n",
    "    data_long$X = NULL\n",
    "    print(file.info(path)$mtime)\n",
    "    print(path)\n",
    "    \n",
    "    # save to list\n",
    "    data_list[[i]] = data_long\n",
    "    }"
   ]
  },
  {
   "cell_type": "code",
   "execution_count": null,
   "id": "df3d2d98-806d-4f52-9681-713e705ebff8",
   "metadata": {},
   "outputs": [],
   "source": [
    "## Example of loaded data"
   ]
  },
  {
   "cell_type": "code",
   "execution_count": null,
   "id": "ff418436-5b9d-41df-9ea3-1b90504b7e31",
   "metadata": {},
   "outputs": [],
   "source": [
    "head(data_long,2)"
   ]
  },
  {
   "cell_type": "markdown",
   "id": "d082fa98-ad4a-46ec-90e5-2da19dd6e84a",
   "metadata": {
    "tags": []
   },
   "source": [
    "## MOFA Model"
   ]
  },
  {
   "cell_type": "markdown",
   "id": "c68555d2-c420-48ff-949b-72664acca066",
   "metadata": {},
   "source": [
    "### Load estimated model"
   ]
  },
  {
   "cell_type": "code",
   "execution_count": null,
   "id": "f8bbe56a-32da-4c72-aff5-a26c41a29229",
   "metadata": {},
   "outputs": [],
   "source": [
    "model_list = list()"
   ]
  },
  {
   "cell_type": "code",
   "execution_count": null,
   "id": "f52754eb-3b67-4bc8-aef4-9cda155c0b72",
   "metadata": {
    "tags": []
   },
   "outputs": [],
   "source": [
    "for(i in 1:nrow(factor_configs)){\n",
    "    # get data name from configuration\n",
    "    mofa_name = factor_configs$mofa_result_name[i]\n",
    " \n",
    "    # Load model\n",
    "    model_name =  paste0(\"03_MOFA_MODEL_\",mofa_name, '.hdf5')\n",
    "    outfile = file.path( paste0(result_path, '/03_results/',  model_name) )\n",
    "    model = load_model(outfile, verbose = TRUE)\n",
    "    \n",
    "    print(file.info(outfile)$mtime)\n",
    "    print(outfile)\n",
    "    \n",
    "    # save to list\n",
    "    model_list[[i]] = model\n",
    "    }\n",
    "    "
   ]
  },
  {
   "cell_type": "markdown",
   "id": "55e96bd7-340c-48b9-8111-9b12255c539b",
   "metadata": {},
   "source": [
    "### Factor Data"
   ]
  },
  {
   "cell_type": "code",
   "execution_count": null,
   "id": "f342cca3-222c-4e0b-ad3f-2767ab53b006",
   "metadata": {},
   "outputs": [],
   "source": [
    "factor_data_list = list()"
   ]
  },
  {
   "cell_type": "code",
   "execution_count": null,
   "id": "0b037fca-ebc9-44f3-bc78-3b4bcbfa0d4d",
   "metadata": {},
   "outputs": [],
   "source": [
    "for(i in 1:nrow(factor_configs)){\n",
    "    # get data name from configuration\n",
    "    mofa_name = factor_configs$mofa_result_name[i]\n",
    "    \n",
    "    # load data\n",
    "    path = paste0(result_path, '/03_results/', '03_Factor_Data_', mofa_name, '.csv')\n",
    "    factors = read.csv(path)\n",
    "    print(file.info(path)$mtime)\n",
    "    print(path)\n",
    "    \n",
    "    # Save to list\n",
    "    factor_data_list[[i]] = factors\n",
    "    }\n",
    "    "
   ]
  },
  {
   "cell_type": "code",
   "execution_count": null,
   "id": "3f8d1387-5b66-4185-88eb-89bc69928ca3",
   "metadata": {},
   "outputs": [],
   "source": [
    "head(factors,2)"
   ]
  },
  {
   "cell_type": "markdown",
   "id": "5a199b31-f960-4bb6-a19a-176463458898",
   "metadata": {},
   "source": [
    "### Weight Data"
   ]
  },
  {
   "cell_type": "code",
   "execution_count": null,
   "id": "b72c675a-0a9c-4b14-9ddd-f3ca4ab19e8e",
   "metadata": {},
   "outputs": [],
   "source": [
    "weight_data_list = list()"
   ]
  },
  {
   "cell_type": "code",
   "execution_count": null,
   "id": "6a73314d-7347-4cd7-bf58-8b7caca4bdab",
   "metadata": {},
   "outputs": [],
   "source": [
    "for(i in 1:nrow(factor_configs)){\n",
    "    # get data name from configuration\n",
    "    mofa_name = factor_configs$mofa_result_name[i]\n",
    "    \n",
    "    # laod data\n",
    "    path = paste0(result_path, '/03_results/', '03_Weight_Data_',  mofa_name, '.csv')\n",
    "    weight_data = read.csv(path)\n",
    "    \n",
    "    print(file.info(path)$mtime)\n",
    "    print(path)\n",
    "    \n",
    "    # save to list\n",
    "    weight_data_list[[i]] = weight_data\n",
    "    }\n",
    "    \n",
    "    "
   ]
  },
  {
   "cell_type": "code",
   "execution_count": null,
   "id": "24404074-6e87-4ffc-a295-713d2bac44c0",
   "metadata": {},
   "outputs": [],
   "source": []
  },
  {
   "cell_type": "markdown",
   "id": "d76baf68-703a-40b2-8c70-bd80a5fdae6f",
   "metadata": {
    "tags": []
   },
   "source": [
    "## Sample Meta Data"
   ]
  },
  {
   "cell_type": "code",
   "execution_count": 29,
   "id": "48d3449a-6905-493e-ba61-6c442c5b910a",
   "metadata": {},
   "outputs": [],
   "source": [
    "## Sample meta-data that contains covariates that should be associated to factor data"
   ]
  },
  {
   "cell_type": "code",
   "execution_count": 30,
   "id": "efee04bb-6a8f-420e-a9ac-9cefb951d95b",
   "metadata": {},
   "outputs": [],
   "source": [
    "sample_data = read.csv(paste0(data_path, 'Prepared_Sample_Meta_Data', '.csv'))\n",
    "sample_data$X = NULL"
   ]
  },
  {
   "cell_type": "code",
   "execution_count": 31,
   "id": "9b2f011e-cfc2-4fde-9816-c6aefb52d399",
   "metadata": {},
   "outputs": [
    {
     "data": {
      "text/html": [
       "<table class=\"dataframe\">\n",
       "<caption>A data.frame: 2 × 9</caption>\n",
       "<thead>\n",
       "\t<tr><th></th><th scope=col>sample_id</th><th scope=col>measurement</th><th scope=col>classification</th><th scope=col>delta_ef_value</th><th scope=col>delta_ef_value_class</th><th scope=col>CK</th><th scope=col>CRP</th><th scope=col>tp_outcome</th><th scope=col>sc_counts</th></tr>\n",
       "\t<tr><th></th><th scope=col>&lt;chr&gt;</th><th scope=col>&lt;chr&gt;</th><th scope=col>&lt;chr&gt;</th><th scope=col>&lt;dbl&gt;</th><th scope=col>&lt;chr&gt;</th><th scope=col>&lt;int&gt;</th><th scope=col>&lt;dbl&gt;</th><th scope=col>&lt;chr&gt;</th><th scope=col>&lt;int&gt;</th></tr>\n",
       "</thead>\n",
       "<tbody>\n",
       "\t<tr><th scope=row>1</th><td>k1 </td><td>Control</td><td>healthy                </td><td>NA</td><td>NA</td><td>43</td><td>0.4</td><td>NA</td><td>     NA</td></tr>\n",
       "\t<tr><th scope=row>2</th><td>k10</td><td>Control</td><td>coronary_vessel_disease</td><td>NA</td><td>NA</td><td>NA</td><td>0.2</td><td>NA</td><td>3648632</td></tr>\n",
       "</tbody>\n",
       "</table>\n"
      ],
      "text/latex": [
       "A data.frame: 2 × 9\n",
       "\\begin{tabular}{r|lllllllll}\n",
       "  & sample\\_id & measurement & classification & delta\\_ef\\_value & delta\\_ef\\_value\\_class & CK & CRP & tp\\_outcome & sc\\_counts\\\\\n",
       "  & <chr> & <chr> & <chr> & <dbl> & <chr> & <int> & <dbl> & <chr> & <int>\\\\\n",
       "\\hline\n",
       "\t1 & k1  & Control & healthy                 & NA & NA & 43 & 0.4 & NA &      NA\\\\\n",
       "\t2 & k10 & Control & coronary\\_vessel\\_disease & NA & NA & NA & 0.2 & NA & 3648632\\\\\n",
       "\\end{tabular}\n"
      ],
      "text/markdown": [
       "\n",
       "A data.frame: 2 × 9\n",
       "\n",
       "| <!--/--> | sample_id &lt;chr&gt; | measurement &lt;chr&gt; | classification &lt;chr&gt; | delta_ef_value &lt;dbl&gt; | delta_ef_value_class &lt;chr&gt; | CK &lt;int&gt; | CRP &lt;dbl&gt; | tp_outcome &lt;chr&gt; | sc_counts &lt;int&gt; |\n",
       "|---|---|---|---|---|---|---|---|---|---|\n",
       "| 1 | k1  | Control | healthy                 | NA | NA | 43 | 0.4 | NA |      NA |\n",
       "| 2 | k10 | Control | coronary_vessel_disease | NA | NA | NA | 0.2 | NA | 3648632 |\n",
       "\n"
      ],
      "text/plain": [
       "  sample_id measurement classification          delta_ef_value\n",
       "1 k1        Control     healthy                 NA            \n",
       "2 k10       Control     coronary_vessel_disease NA            \n",
       "  delta_ef_value_class CK CRP tp_outcome sc_counts\n",
       "1 NA                   43 0.4 NA              NA  \n",
       "2 NA                   NA 0.2 NA         3648632  "
      ]
     },
     "metadata": {},
     "output_type": "display_data"
    }
   ],
   "source": [
    "head(sample_data,2)"
   ]
  },
  {
   "cell_type": "markdown",
   "id": "1385d8a3-c030-45e4-92d6-7e71e9450bb6",
   "metadata": {
    "tags": []
   },
   "source": [
    "# Downstream Analysis of generated model"
   ]
  },
  {
   "cell_type": "markdown",
   "id": "52ab1ab6-98fc-4b63-9971-67c781b98e11",
   "metadata": {
    "tags": []
   },
   "source": [
    "# Extract and prepare data for plots"
   ]
  },
  {
   "cell_type": "markdown",
   "id": "63bb29c6-9f50-46a8-bcf2-ef8781fb8bac",
   "metadata": {
    "tags": []
   },
   "source": [
    "## Merge factors and sample data"
   ]
  },
  {
   "cell_type": "code",
   "execution_count": 32,
   "id": "f2268206-d16b-47d1-a016-52f288f4ba92",
   "metadata": {},
   "outputs": [],
   "source": [
    "factor_data_processed = list()"
   ]
  },
  {
   "cell_type": "code",
   "execution_count": 33,
   "id": "c1e2704d-0ec1-47d0-8ae6-c30ffe758b0b",
   "metadata": {},
   "outputs": [],
   "source": [
    "for( i in 1:length(factor_data_list)){\n",
    "    \n",
    "    ## Transform data\n",
    "    factors_long = melt(factor_data_list[[i]], id.vars = 'sample_id')\n",
    "    \n",
    "    ## Add sample data info\n",
    "    merged_data_long = merge(factors_long, sample_data, by.x = 'sample_id', by.y = 'sample_id')\n",
    "    \n",
    "     ### Filter on relevant factors\n",
    "     relevant_factors = unlist(str_split(factor_configs$relevant_factors[i], ','))  # get relevant factor from configuration data\n",
    "     merged_data_long = merged_data_long[merged_data_long$variable %in% relevant_factors,]\n",
    "    \n",
    "     factor_data_processed[[i]] = merged_data_long\n",
    "    }"
   ]
  },
  {
   "cell_type": "code",
   "execution_count": 34,
   "id": "1259a4a9-717e-459f-b459-477ea8081242",
   "metadata": {},
   "outputs": [
    {
     "data": {
      "text/html": [
       "<table class=\"dataframe\">\n",
       "<caption>A data.frame: 2 × 11</caption>\n",
       "<thead>\n",
       "\t<tr><th></th><th scope=col>sample_id</th><th scope=col>variable</th><th scope=col>value</th><th scope=col>measurement</th><th scope=col>classification</th><th scope=col>delta_ef_value</th><th scope=col>delta_ef_value_class</th><th scope=col>CK</th><th scope=col>CRP</th><th scope=col>tp_outcome</th><th scope=col>sc_counts</th></tr>\n",
       "\t<tr><th></th><th scope=col>&lt;chr&gt;</th><th scope=col>&lt;fct&gt;</th><th scope=col>&lt;dbl&gt;</th><th scope=col>&lt;chr&gt;</th><th scope=col>&lt;chr&gt;</th><th scope=col>&lt;dbl&gt;</th><th scope=col>&lt;chr&gt;</th><th scope=col>&lt;int&gt;</th><th scope=col>&lt;dbl&gt;</th><th scope=col>&lt;chr&gt;</th><th scope=col>&lt;int&gt;</th></tr>\n",
       "</thead>\n",
       "<tbody>\n",
       "\t<tr><th scope=row>1</th><td>k1</td><td>Factor1</td><td>0.6644081</td><td>Control</td><td>healthy</td><td>NA</td><td>NA</td><td>43</td><td>0.4</td><td>NA</td><td>NA</td></tr>\n",
       "\t<tr><th scope=row>2</th><td>k1</td><td>Factor3</td><td>1.1575432</td><td>Control</td><td>healthy</td><td>NA</td><td>NA</td><td>43</td><td>0.4</td><td>NA</td><td>NA</td></tr>\n",
       "</tbody>\n",
       "</table>\n"
      ],
      "text/latex": [
       "A data.frame: 2 × 11\n",
       "\\begin{tabular}{r|lllllllllll}\n",
       "  & sample\\_id & variable & value & measurement & classification & delta\\_ef\\_value & delta\\_ef\\_value\\_class & CK & CRP & tp\\_outcome & sc\\_counts\\\\\n",
       "  & <chr> & <fct> & <dbl> & <chr> & <chr> & <dbl> & <chr> & <int> & <dbl> & <chr> & <int>\\\\\n",
       "\\hline\n",
       "\t1 & k1 & Factor1 & 0.6644081 & Control & healthy & NA & NA & 43 & 0.4 & NA & NA\\\\\n",
       "\t2 & k1 & Factor3 & 1.1575432 & Control & healthy & NA & NA & 43 & 0.4 & NA & NA\\\\\n",
       "\\end{tabular}\n"
      ],
      "text/markdown": [
       "\n",
       "A data.frame: 2 × 11\n",
       "\n",
       "| <!--/--> | sample_id &lt;chr&gt; | variable &lt;fct&gt; | value &lt;dbl&gt; | measurement &lt;chr&gt; | classification &lt;chr&gt; | delta_ef_value &lt;dbl&gt; | delta_ef_value_class &lt;chr&gt; | CK &lt;int&gt; | CRP &lt;dbl&gt; | tp_outcome &lt;chr&gt; | sc_counts &lt;int&gt; |\n",
       "|---|---|---|---|---|---|---|---|---|---|---|---|\n",
       "| 1 | k1 | Factor1 | 0.6644081 | Control | healthy | NA | NA | 43 | 0.4 | NA | NA |\n",
       "| 2 | k1 | Factor3 | 1.1575432 | Control | healthy | NA | NA | 43 | 0.4 | NA | NA |\n",
       "\n"
      ],
      "text/plain": [
       "  sample_id variable value     measurement classification delta_ef_value\n",
       "1 k1        Factor1  0.6644081 Control     healthy        NA            \n",
       "2 k1        Factor3  1.1575432 Control     healthy        NA            \n",
       "  delta_ef_value_class CK CRP tp_outcome sc_counts\n",
       "1 NA                   43 0.4 NA         NA       \n",
       "2 NA                   43 0.4 NA         NA       "
      ]
     },
     "metadata": {},
     "output_type": "display_data"
    }
   ],
   "source": [
    "head(factor_data_processed[[i]],2)"
   ]
  },
  {
   "cell_type": "code",
   "execution_count": null,
   "id": "2145e2e1-017a-466b-9ac7-c8840b3b4283",
   "metadata": {},
   "outputs": [],
   "source": []
  },
  {
   "cell_type": "markdown",
   "id": "54614460-8316-4de8-9b39-b15e311ed0e6",
   "metadata": {},
   "source": [
    "## Extract explained variance for plotting"
   ]
  },
  {
   "cell_type": "code",
   "execution_count": 35,
   "id": "6fc39b49-8a60-4f59-811e-461367444dc6",
   "metadata": {},
   "outputs": [],
   "source": [
    "explained_variance = lapply(model_list, function(x){\n",
    "    \n",
    "    # extract variance per factor from model\n",
    "    data = x@cache$variance_explained$r2_per_factor[[1]]\n",
    "    \n",
    "    # extract total variance from model\n",
    "    total_variance = data.frame( view = rownames(x@cache[[\"variance_explained\"]]$r2_total$group1,2),\n",
    "                             total_variance = x@cache[[\"variance_explained\"]]$r2_total$group1)\n",
    "    \n",
    "    # extract total variance per factor\n",
    "    total_variance_factor = data.frame(factor = names(rowMeans(x@cache$variance_explained$r2_per_factor[[1]])),\n",
    "                                   mean_variance = rowMeans(x@cache$variance_explained$r2_per_factor[[1]]))\n",
    "    \n",
    "    data = melt(data)\n",
    "    # merge different variance values\n",
    "    data = merge(data, total_variance, by.x = 'Var2', by.y = 'view')\n",
    "    \n",
    "    })"
   ]
  },
  {
   "cell_type": "code",
   "execution_count": 36,
   "id": "aacc142d-e0cf-4623-a336-886fa817c35f",
   "metadata": {},
   "outputs": [
    {
     "data": {
      "text/html": [
       "<table class=\"dataframe\">\n",
       "<caption>A data.frame: 2 × 4</caption>\n",
       "<thead>\n",
       "\t<tr><th></th><th scope=col>Var2</th><th scope=col>Var1</th><th scope=col>value</th><th scope=col>total_variance</th></tr>\n",
       "\t<tr><th></th><th scope=col>&lt;fct&gt;</th><th scope=col>&lt;fct&gt;</th><th scope=col>&lt;dbl&gt;</th><th scope=col>&lt;dbl&gt;</th></tr>\n",
       "</thead>\n",
       "<tbody>\n",
       "\t<tr><th scope=row>1</th><td>B.cell</td><td>Factor1</td><td>6.092751</td><td>36.95212</td></tr>\n",
       "\t<tr><th scope=row>2</th><td>B.cell</td><td>Factor2</td><td>4.057193</td><td>36.95212</td></tr>\n",
       "</tbody>\n",
       "</table>\n"
      ],
      "text/latex": [
       "A data.frame: 2 × 4\n",
       "\\begin{tabular}{r|llll}\n",
       "  & Var2 & Var1 & value & total\\_variance\\\\\n",
       "  & <fct> & <fct> & <dbl> & <dbl>\\\\\n",
       "\\hline\n",
       "\t1 & B.cell & Factor1 & 6.092751 & 36.95212\\\\\n",
       "\t2 & B.cell & Factor2 & 4.057193 & 36.95212\\\\\n",
       "\\end{tabular}\n"
      ],
      "text/markdown": [
       "\n",
       "A data.frame: 2 × 4\n",
       "\n",
       "| <!--/--> | Var2 &lt;fct&gt; | Var1 &lt;fct&gt; | value &lt;dbl&gt; | total_variance &lt;dbl&gt; |\n",
       "|---|---|---|---|---|\n",
       "| 1 | B.cell | Factor1 | 6.092751 | 36.95212 |\n",
       "| 2 | B.cell | Factor2 | 4.057193 | 36.95212 |\n",
       "\n"
      ],
      "text/plain": [
       "  Var2   Var1    value    total_variance\n",
       "1 B.cell Factor1 6.092751 36.95212      \n",
       "2 B.cell Factor2 4.057193 36.95212      "
      ]
     },
     "metadata": {},
     "output_type": "display_data"
    }
   ],
   "source": [
    "head(explained_variance[[1]],2)"
   ]
  },
  {
   "cell_type": "markdown",
   "id": "c92d389d-a9c5-4899-8c11-7705d59c0bf5",
   "metadata": {
    "tags": []
   },
   "source": [
    "## Prepare weight data"
   ]
  },
  {
   "cell_type": "code",
   "execution_count": 37,
   "id": "4c255047-c2ab-4c19-89d2-d9bc14c073e3",
   "metadata": {},
   "outputs": [],
   "source": [
    "feature_weights_list = lapply(weight_data_list, function(x){\n",
    "    feature_weights_long = melt(x, id.vars = c('variable_name', 'type'))\n",
    "    \n",
    "    # adjust formatting of columns\n",
    "    feature_weights_long$view = feature_weights_long$type\n",
    "    feature_weights_long$gene = str_replace(feature_weights_long$variable_name, '.*__', '')\n",
    "    \n",
    "    return(feature_weights_long)\n",
    "    })\n",
    "    "
   ]
  },
  {
   "cell_type": "code",
   "execution_count": 38,
   "id": "4861961e-5220-4301-8ca5-e77638b7850a",
   "metadata": {},
   "outputs": [
    {
     "data": {
      "text/html": [
       "<table class=\"dataframe\">\n",
       "<caption>A data.frame: 2 × 6</caption>\n",
       "<thead>\n",
       "\t<tr><th></th><th scope=col>variable_name</th><th scope=col>type</th><th scope=col>variable</th><th scope=col>value</th><th scope=col>view</th><th scope=col>gene</th></tr>\n",
       "\t<tr><th></th><th scope=col>&lt;chr&gt;</th><th scope=col>&lt;chr&gt;</th><th scope=col>&lt;fct&gt;</th><th scope=col>&lt;dbl&gt;</th><th scope=col>&lt;chr&gt;</th><th scope=col>&lt;chr&gt;</th></tr>\n",
       "</thead>\n",
       "<tbody>\n",
       "\t<tr><th scope=row>1</th><td>B.cell__ACTB </td><td>B.cell</td><td>Factor1</td><td>-0.21732116</td><td>B.cell</td><td>ACTB </td></tr>\n",
       "\t<tr><th scope=row>2</th><td>B.cell__ACTG1</td><td>B.cell</td><td>Factor1</td><td>-0.03822634</td><td>B.cell</td><td>ACTG1</td></tr>\n",
       "</tbody>\n",
       "</table>\n"
      ],
      "text/latex": [
       "A data.frame: 2 × 6\n",
       "\\begin{tabular}{r|llllll}\n",
       "  & variable\\_name & type & variable & value & view & gene\\\\\n",
       "  & <chr> & <chr> & <fct> & <dbl> & <chr> & <chr>\\\\\n",
       "\\hline\n",
       "\t1 & B.cell\\_\\_ACTB  & B.cell & Factor1 & -0.21732116 & B.cell & ACTB \\\\\n",
       "\t2 & B.cell\\_\\_ACTG1 & B.cell & Factor1 & -0.03822634 & B.cell & ACTG1\\\\\n",
       "\\end{tabular}\n"
      ],
      "text/markdown": [
       "\n",
       "A data.frame: 2 × 6\n",
       "\n",
       "| <!--/--> | variable_name &lt;chr&gt; | type &lt;chr&gt; | variable &lt;fct&gt; | value &lt;dbl&gt; | view &lt;chr&gt; | gene &lt;chr&gt; |\n",
       "|---|---|---|---|---|---|---|\n",
       "| 1 | B.cell__ACTB  | B.cell | Factor1 | -0.21732116 | B.cell | ACTB  |\n",
       "| 2 | B.cell__ACTG1 | B.cell | Factor1 | -0.03822634 | B.cell | ACTG1 |\n",
       "\n"
      ],
      "text/plain": [
       "  variable_name type   variable value       view   gene \n",
       "1 B.cell__ACTB  B.cell Factor1  -0.21732116 B.cell ACTB \n",
       "2 B.cell__ACTG1 B.cell Factor1  -0.03822634 B.cell ACTG1"
      ]
     },
     "metadata": {},
     "output_type": "display_data"
    }
   ],
   "source": [
    "head(feature_weights_list[[1]],2)"
   ]
  },
  {
   "cell_type": "markdown",
   "id": "a0f84b0a-6820-4eaa-9e49-8cd196e5da75",
   "metadata": {
    "tags": []
   },
   "source": [
    "## Get top features per factor and amounts for diff thresholds"
   ]
  },
  {
   "cell_type": "code",
   "execution_count": 39,
   "id": "7209dbc4-9d54-4131-a448-a73c810281e0",
   "metadata": {},
   "outputs": [],
   "source": [
    "geneset_oi_amounts_list = list()"
   ]
  },
  {
   "cell_type": "code",
   "execution_count": 40,
   "id": "1e762db9-6725-43db-b8b9-474d374a148b",
   "metadata": {},
   "outputs": [],
   "source": [
    "for(i in 1:length(feature_weights_list)){\n",
    "    \n",
    "    feature_weights_long = feature_weights_list[[i]]\n",
    "    \n",
    "    # get threshold for top variables from configuration\n",
    "    top_variable_perc = factor_configs$top_variable_thres[i]\n",
    "    \n",
    "    \n",
    "    ## Define amont of top genes per fraction \n",
    "    geneset_oi_pos_per_factor_analyze = feature_weights_long %>% group_by(variable) %>% dplyr::arrange( desc(value),  .by_group = TRUE)  %>% top_frac(  as.numeric(top_variable_perc), value)\n",
    "    geneset_oi_pos_per_factor_analyze$direction = 'positive'\n",
    "    \n",
    "    geneset_oi_neg_per_factor_analyze = feature_weights_long %>% group_by(variable) %>% dplyr::arrange(desc(value),  .by_group = TRUE)  %>% top_frac( - as.numeric(top_variable_perc), value)\n",
    "    geneset_oi_neg_per_factor_analyze$direction = 'negative'\n",
    "    \n",
    "    geneset_oi_analyze = rbind(geneset_oi_pos_per_factor_analyze, geneset_oi_neg_per_factor_analyze)\n",
    "    geneset_oi_analyze$fraction =  as.numeric(top_variable_perc)\n",
    "\n",
    "    \n",
    "    ## Calculate the amount of top features per type\n",
    "    dimensions = unique(feature_weights_long[,c('view', 'variable')])\n",
    "    \n",
    "    amount_geneset_oi_type = geneset_oi_analyze %>% group_by(type, view, variable) %>% dplyr::count()\n",
    "    amount_geneset_oi_type = merge(dimensions, amount_geneset_oi_type, all.x = TRUE) # to avoid missing dimensions\n",
    "    amount_geneset_oi_type$fraction = as.numeric(top_variable_perc)\n",
    "    \n",
    "    geneset_oi_amounts = amount_geneset_oi_type\n",
    "    \n",
    "    ## Calculate the total amount of features per type\n",
    "    features_per_type = feature_weights_long %>% group_by(type, view, variable) %>% dplyr::count()\n",
    "    colnames(features_per_type) = c('type', 'view', 'variable', 'amount_features')\n",
    "    \n",
    "    ## Merge and calculate percentage\n",
    "    geneset_oi_amounts = merge(  geneset_oi_amounts,features_per_type, all.x = TRUE)\n",
    "    geneset_oi_amounts$percentage = geneset_oi_amounts$n / geneset_oi_amounts$amount_features\n",
    "    \n",
    "    ## Adjust NA's\n",
    "    geneset_oi_amounts[is.na(geneset_oi_amounts)] = 0 # NA when there are no features for this dimension among top %\n",
    "    \n",
    "    ## save for the threshold/ config\n",
    "    geneset_oi_amounts_list[[i]] = geneset_oi_amounts\n",
    "    }\n",
    "    \n",
    "    \n",
    "    \n",
    "    "
   ]
  },
  {
   "cell_type": "code",
   "execution_count": 41,
   "id": "c1338338-3f62-4208-9d54-a71e66fa01ae",
   "metadata": {},
   "outputs": [
    {
     "data": {
      "text/html": [
       "<table class=\"dataframe\">\n",
       "<caption>A data.frame: 2 × 7</caption>\n",
       "<thead>\n",
       "\t<tr><th></th><th scope=col>view</th><th scope=col>variable</th><th scope=col>type</th><th scope=col>n</th><th scope=col>fraction</th><th scope=col>amount_features</th><th scope=col>percentage</th></tr>\n",
       "\t<tr><th></th><th scope=col>&lt;chr&gt;</th><th scope=col>&lt;fct&gt;</th><th scope=col>&lt;chr&gt;</th><th scope=col>&lt;dbl&gt;</th><th scope=col>&lt;dbl&gt;</th><th scope=col>&lt;dbl&gt;</th><th scope=col>&lt;dbl&gt;</th></tr>\n",
       "</thead>\n",
       "<tbody>\n",
       "\t<tr><th scope=row>1</th><td>B.cell</td><td>Factor1</td><td>0     </td><td>0</td><td>0.005</td><td>  0</td><td>0.000000000</td></tr>\n",
       "\t<tr><th scope=row>2</th><td>B.cell</td><td>Factor2</td><td>B.cell</td><td>1</td><td>0.005</td><td>686</td><td>0.001457726</td></tr>\n",
       "</tbody>\n",
       "</table>\n"
      ],
      "text/latex": [
       "A data.frame: 2 × 7\n",
       "\\begin{tabular}{r|lllllll}\n",
       "  & view & variable & type & n & fraction & amount\\_features & percentage\\\\\n",
       "  & <chr> & <fct> & <chr> & <dbl> & <dbl> & <dbl> & <dbl>\\\\\n",
       "\\hline\n",
       "\t1 & B.cell & Factor1 & 0      & 0 & 0.005 &   0 & 0.000000000\\\\\n",
       "\t2 & B.cell & Factor2 & B.cell & 1 & 0.005 & 686 & 0.001457726\\\\\n",
       "\\end{tabular}\n"
      ],
      "text/markdown": [
       "\n",
       "A data.frame: 2 × 7\n",
       "\n",
       "| <!--/--> | view &lt;chr&gt; | variable &lt;fct&gt; | type &lt;chr&gt; | n &lt;dbl&gt; | fraction &lt;dbl&gt; | amount_features &lt;dbl&gt; | percentage &lt;dbl&gt; |\n",
       "|---|---|---|---|---|---|---|---|\n",
       "| 1 | B.cell | Factor1 | 0      | 0 | 0.005 |   0 | 0.000000000 |\n",
       "| 2 | B.cell | Factor2 | B.cell | 1 | 0.005 | 686 | 0.001457726 |\n",
       "\n"
      ],
      "text/plain": [
       "  view   variable type   n fraction amount_features percentage \n",
       "1 B.cell Factor1  0      0 0.005      0             0.000000000\n",
       "2 B.cell Factor2  B.cell 1 0.005    686             0.001457726"
      ]
     },
     "metadata": {},
     "output_type": "display_data"
    }
   ],
   "source": [
    "head(    geneset_oi_amounts_list[[i]],2)"
   ]
  },
  {
   "cell_type": "markdown",
   "id": "4016f142-473d-4d67-b30a-31ad211a556c",
   "metadata": {},
   "source": [
    "# Plots"
   ]
  },
  {
   "cell_type": "markdown",
   "id": "622e844d-1ee6-4164-826f-adf243b73b12",
   "metadata": {
    "tags": []
   },
   "source": [
    "## Investigate relationship of factors with numeric values"
   ]
  },
  {
   "cell_type": "code",
   "execution_count": 42,
   "id": "4393deea-b7c7-4001-9f29-24d0cb34ba68",
   "metadata": {},
   "outputs": [
    {
     "data": {
      "text/html": [
       "<table class=\"dataframe\">\n",
       "<caption>A data.frame: 2 × 11</caption>\n",
       "<thead>\n",
       "\t<tr><th></th><th scope=col>sample_id</th><th scope=col>variable</th><th scope=col>value</th><th scope=col>measurement</th><th scope=col>classification</th><th scope=col>delta_ef_value</th><th scope=col>delta_ef_value_class</th><th scope=col>CK</th><th scope=col>CRP</th><th scope=col>tp_outcome</th><th scope=col>sc_counts</th></tr>\n",
       "\t<tr><th></th><th scope=col>&lt;chr&gt;</th><th scope=col>&lt;fct&gt;</th><th scope=col>&lt;dbl&gt;</th><th scope=col>&lt;chr&gt;</th><th scope=col>&lt;chr&gt;</th><th scope=col>&lt;dbl&gt;</th><th scope=col>&lt;chr&gt;</th><th scope=col>&lt;int&gt;</th><th scope=col>&lt;dbl&gt;</th><th scope=col>&lt;chr&gt;</th><th scope=col>&lt;int&gt;</th></tr>\n",
       "</thead>\n",
       "<tbody>\n",
       "\t<tr><th scope=row>1</th><td>k1</td><td>Factor1</td><td>0.6644081</td><td>Control</td><td>healthy</td><td>NA</td><td>NA</td><td>43</td><td>0.4</td><td>NA</td><td>NA</td></tr>\n",
       "\t<tr><th scope=row>2</th><td>k1</td><td>Factor3</td><td>1.1575432</td><td>Control</td><td>healthy</td><td>NA</td><td>NA</td><td>43</td><td>0.4</td><td>NA</td><td>NA</td></tr>\n",
       "</tbody>\n",
       "</table>\n"
      ],
      "text/latex": [
       "A data.frame: 2 × 11\n",
       "\\begin{tabular}{r|lllllllllll}\n",
       "  & sample\\_id & variable & value & measurement & classification & delta\\_ef\\_value & delta\\_ef\\_value\\_class & CK & CRP & tp\\_outcome & sc\\_counts\\\\\n",
       "  & <chr> & <fct> & <dbl> & <chr> & <chr> & <dbl> & <chr> & <int> & <dbl> & <chr> & <int>\\\\\n",
       "\\hline\n",
       "\t1 & k1 & Factor1 & 0.6644081 & Control & healthy & NA & NA & 43 & 0.4 & NA & NA\\\\\n",
       "\t2 & k1 & Factor3 & 1.1575432 & Control & healthy & NA & NA & 43 & 0.4 & NA & NA\\\\\n",
       "\\end{tabular}\n"
      ],
      "text/markdown": [
       "\n",
       "A data.frame: 2 × 11\n",
       "\n",
       "| <!--/--> | sample_id &lt;chr&gt; | variable &lt;fct&gt; | value &lt;dbl&gt; | measurement &lt;chr&gt; | classification &lt;chr&gt; | delta_ef_value &lt;dbl&gt; | delta_ef_value_class &lt;chr&gt; | CK &lt;int&gt; | CRP &lt;dbl&gt; | tp_outcome &lt;chr&gt; | sc_counts &lt;int&gt; |\n",
       "|---|---|---|---|---|---|---|---|---|---|---|---|\n",
       "| 1 | k1 | Factor1 | 0.6644081 | Control | healthy | NA | NA | 43 | 0.4 | NA | NA |\n",
       "| 2 | k1 | Factor3 | 1.1575432 | Control | healthy | NA | NA | 43 | 0.4 | NA | NA |\n",
       "\n"
      ],
      "text/plain": [
       "  sample_id variable value     measurement classification delta_ef_value\n",
       "1 k1        Factor1  0.6644081 Control     healthy        NA            \n",
       "2 k1        Factor3  1.1575432 Control     healthy        NA            \n",
       "  delta_ef_value_class CK CRP tp_outcome sc_counts\n",
       "1 NA                   43 0.4 NA         NA       \n",
       "2 NA                   43 0.4 NA         NA       "
      ]
     },
     "metadata": {},
     "output_type": "display_data"
    }
   ],
   "source": [
    "head(factor_data_processed[[1]],2)"
   ]
  },
  {
   "cell_type": "code",
   "execution_count": 43,
   "id": "29278665-76c6-4d3b-84a6-788134b156d6",
   "metadata": {},
   "outputs": [],
   "source": [
    "figure_name = \"FIG04_Factor_Association_with_numeric_features_\""
   ]
  },
  {
   "cell_type": "code",
   "execution_count": 44,
   "id": "7472cca9-6c1e-4775-87a5-8289d39af492",
   "metadata": {},
   "outputs": [],
   "source": [
    "# Sizes of the plot\n",
    "width_par = 8.07\n",
    "height_par = 3.5"
   ]
  },
  {
   "cell_type": "code",
   "execution_count": 45,
   "id": "17b7e65c-cd37-40bd-96a1-1ed5eb7d89ab",
   "metadata": {},
   "outputs": [
    {
     "name": "stderr",
     "output_type": "stream",
     "text": [
      "\u001b[1m\u001b[22m`geom_smooth()` using formula = 'y ~ x'\n",
      "Warning message:\n",
      "“\u001b[1m\u001b[22mRemoved 48 rows containing non-finite values (`stat_smooth()`).”\n",
      "Warning message:\n",
      "“\u001b[1m\u001b[22mRemoved 48 rows containing non-finite values (`stat_cor()`).”\n",
      "Warning message:\n",
      "“\u001b[1m\u001b[22mRemoved 48 rows containing missing values (`geom_point()`).”\n",
      "\u001b[1m\u001b[22m`geom_smooth()` using formula = 'y ~ x'\n",
      "Warning message:\n",
      "“\u001b[1m\u001b[22mRemoved 150 rows containing non-finite values (`stat_smooth()`).”\n",
      "Warning message:\n",
      "“\u001b[1m\u001b[22mRemoved 150 rows containing non-finite values (`stat_cor()`).”\n",
      "Warning message:\n",
      "“\u001b[1m\u001b[22mRemoved 150 rows containing missing values (`geom_point()`).”\n"
     ]
    }
   ],
   "source": [
    "for(j in 1:length(factor_data_processed)){\n",
    "    ## get the variables\n",
    "    numeric_variables = unlist(str_split(factor_configs$numeric_covariates[j], ','))\n",
    "    \n",
    "    \n",
    "    ## calculate correlations\n",
    "    cor_plot = list()\n",
    "    \n",
    "    ## get the data\n",
    "    merged_data_long = factor_data_processed[[j]]\n",
    "    \n",
    "    ### calculate correlations\n",
    "    for(i in numeric_variables){\n",
    "        cor_plot[[i]] = ggplot(merged_data_long, aes(x = value, y = get(i))) + facet_wrap(.~ variable, scale = 'free') +\n",
    "        geom_point(size = 0.2) + plot_config + geom_smooth(method='lm', col = 'blue3', se = FALSE) + stat_cor(method = 'pearson') + ylab(i)\n",
    "\n",
    "\n",
    "        }\n",
    "    \n",
    "    \n",
    "    ### Plot the scatterplots\n",
    "    \n",
    "    # get the name for saving\n",
    "    mofa_name = factor_configs$mofa_result_name[j]\n",
    "    \n",
    "    pdf(paste0('figures/04_figures/', figure_name,mofa_name, '.pdf'), width =width_par, height =height_par, onefile = TRUE)\n",
    "    for (i in names(cor_plot)) {\n",
    "      print(cor_plot[[i]])  \n",
    "    }\n",
    "    dev.off()\n",
    "    }\n",
    "    \n",
    "    "
   ]
  },
  {
   "cell_type": "code",
   "execution_count": null,
   "id": "d257512a-7632-4915-87d8-b6af3afd9774",
   "metadata": {},
   "outputs": [],
   "source": []
  },
  {
   "cell_type": "markdown",
   "id": "b23a8144-d20d-45de-abf9-5f9200196b69",
   "metadata": {
    "tags": []
   },
   "source": [
    "## Investigate relationship with categorical values"
   ]
  },
  {
   "cell_type": "code",
   "execution_count": 46,
   "id": "38e86d8a-c7ec-4d3e-b149-f4ab8d61160f",
   "metadata": {},
   "outputs": [],
   "source": [
    "# Specific Text Descriptions:\n",
    "xlabel = xlab('') \n",
    "ylabel = ylab('Factor Value')"
   ]
  },
  {
   "cell_type": "code",
   "execution_count": 47,
   "id": "96c10a91-7730-4327-916f-d808e17bff16",
   "metadata": {},
   "outputs": [],
   "source": [
    "# Specify Figure Name\n",
    "figure_name = paste0(\"FIG04_Factor_Association_with_categorical_features_\")"
   ]
  },
  {
   "cell_type": "code",
   "execution_count": 48,
   "id": "03eb6303-03ce-4b94-89ae-b96120e35d46",
   "metadata": {},
   "outputs": [],
   "source": [
    "# Sizes of the plot\n",
    "width_par = 8.07\n",
    "height_par = 3"
   ]
  },
  {
   "cell_type": "code",
   "execution_count": 49,
   "id": "73df0b0d-43a6-4f2f-877e-5015e28c1b7f",
   "metadata": {},
   "outputs": [],
   "source": [
    "for(j in 1:length(factor_data_processed)){\n",
    "    ## get the variables\n",
    "    categorical_variables = unlist(str_split(factor_configs$categorical_covariates[j], ','))\n",
    "    \n",
    "    \n",
    "    ## calculate correlations\n",
    "    cor_plot = list()\n",
    "    \n",
    "    ## get the data\n",
    "    merged_data_long = factor_data_processed[[j]]\n",
    "    \n",
    "    \n",
    "    ## Plot as PDF\n",
    "    mofa_name = factor_configs$mofa_result_name[j]\n",
    "    \n",
    "    pdf(paste0('figures/04_figures/', figure_name, mofa_name, '.pdf'), width =width_par, height =height_par)\n",
    "    for(i in categorical_variables){\n",
    "        variable = i\n",
    "        merged_data_long$condition = merged_data_long[,variable]\n",
    "        vis_data = merged_data_long\n",
    "        g = ggplot(vis_data[!is.na(vis_data$condition),], aes(x=condition, y=value, col = condition)) + facet_grid(.~variable) +\n",
    "            plot_config +\n",
    "            xlabel + \n",
    "            ylabel + #colors_list[[i]]   +\n",
    "            ggtitle('Pattern of factor values') + \n",
    "            theme(legend.position = \"bottom\", axis.text.x = element_blank())+\n",
    "            geom_boxplot(outlier.size = 0.05)   + geom_point(size = 0.5) + if(i %in% names(colors_list)){colors_list[[i]]} else{colors_list[['default']]}\n",
    "\n",
    "        print(g)\n",
    "\n",
    "        }\n",
    "\n",
    "    dev.off()\n",
    "    \n",
    "    }"
   ]
  },
  {
   "cell_type": "markdown",
   "id": "24df80d0-7565-40de-bf04-7b9eb87f278d",
   "metadata": {},
   "source": [
    "## Feature Overview per Factor"
   ]
  },
  {
   "cell_type": "code",
   "execution_count": 50,
   "id": "fbaec71f-3cbf-434b-9ae9-036b5f984971",
   "metadata": {},
   "outputs": [],
   "source": [
    "## generate overview of amount of top features"
   ]
  },
  {
   "cell_type": "code",
   "execution_count": 51,
   "id": "29d2a89a-130f-4ef1-9cfd-a4c4c39b617f",
   "metadata": {},
   "outputs": [],
   "source": [
    "## Heatmap with explained variance"
   ]
  },
  {
   "cell_type": "code",
   "execution_count": 52,
   "id": "7145a2ac-837e-406d-bd5f-45d0afee4929",
   "metadata": {},
   "outputs": [],
   "source": [
    "variance_plots = list()"
   ]
  },
  {
   "cell_type": "code",
   "execution_count": 53,
   "id": "87666031-ccb9-4196-84b2-a6919976707e",
   "metadata": {},
   "outputs": [],
   "source": [
    "for(j in 1:nrow(factor_configs)){\n",
    "\n",
    "    ## get the relevant factor and top variable fraction\n",
    "    factor_var = unlist(str_split(factor_configs$relevant_factors[j], ','))\n",
    "    \n",
    "    \n",
    "    ## Explained Variance Heatmap Plot (for each factor)\n",
    "    explained_variance_heatmap = list()\n",
    "    for(i in factor_var ){\n",
    "        data = explained_variance[[j]]   # get prepared variance data\n",
    "        data$Var2 = as.character(data$Var2)\n",
    "        data$Var2 = factor(data$Var2, levels = sort(unique(data$Var2)))  # recode to ensure right ordering\n",
    "        \n",
    "        data_plot = data[data$Var1 == i,]\n",
    "        data_plot$Var1 = 'Explained'\n",
    "\n",
    "        explained_variance_heatmap[[i]] = ggplot() + scale_fill_gradient(low=\"white\", high=\"black\") + \n",
    "        ylabel + xlabel + plot_config_heatmap +  theme(axis.text.y = element_text(hjust = 0, vjust = 0.5)) +\n",
    "        geom_tile(data = data_plot, mapping = aes(Var1,  Var2, fill= value)\n",
    "                 )  +\n",
    "        ggtitle(i)\n",
    "        }\n",
    "    \n",
    "    variance_plots[[j]] =  explained_variance_heatmap\n",
    "    }"
   ]
  },
  {
   "cell_type": "code",
   "execution_count": 54,
   "id": "e69f2165-af43-4cff-9a37-f060e17eb97a",
   "metadata": {},
   "outputs": [],
   "source": [
    "#variance_plots[[1]]"
   ]
  },
  {
   "cell_type": "code",
   "execution_count": 55,
   "id": "11d78f73-af1b-481c-bef3-03ad7cdb478e",
   "metadata": {},
   "outputs": [],
   "source": [
    "## Barplots with top features"
   ]
  },
  {
   "cell_type": "code",
   "execution_count": 56,
   "id": "3e0ac817-57a5-49b1-8216-d8da84da9675",
   "metadata": {},
   "outputs": [],
   "source": [
    "barplot_top_features_percentages = list()\n",
    "barplot_top_features_absolute = list()"
   ]
  },
  {
   "cell_type": "code",
   "execution_count": 57,
   "id": "77d47854-ba52-43f6-b132-a4e5a62c41e0",
   "metadata": {},
   "outputs": [
    {
     "name": "stderr",
     "output_type": "stream",
     "text": [
      "Warning message:\n",
      "“\u001b[1m\u001b[22mUsing `size` aesthetic for lines was deprecated in ggplot2 3.4.0.\n",
      "\u001b[36mℹ\u001b[39m Please use `linewidth` instead.”\n"
     ]
    }
   ],
   "source": [
    "for(j in 1:nrow(factor_configs)){\n",
    "    \n",
    "    # get configurations\n",
    "    top_var_fraction = factor_configs$top_variable_thres[j]\n",
    "    factor_var = unlist(str_split(factor_configs$relevant_factors[j], ','))\n",
    "    \n",
    "    ## Barplots with top features per factor\n",
    "    \n",
    "    ## 1: Percentages\n",
    "    xlabel = xlab('View') \n",
    "    ylabel = ylab('Percentage of total features')\n",
    "    \n",
    "    percentage_plot_1_perc = list()\n",
    "    \n",
    "    for(i in factor_var ){\n",
    "\n",
    "            geneset_oi_amounts = geneset_oi_amounts_list[[j]]\n",
    "            geneset_oi_amounts$view  = as.character(geneset_oi_amounts$view)\n",
    "            geneset_oi_amounts$view = factor(geneset_oi_amounts$view, levels = sort(unique(geneset_oi_amounts$view))) # recode to ensure right ordering\n",
    "\n",
    "            percentage_plot_1_perc[[i]] = ggplot(data = geneset_oi_amounts[(geneset_oi_amounts$variable == i),], aes(x = view, y = percentage*100, fill = view)) +\n",
    "            xlabel + \n",
    "            ylabel + \n",
    "            plot_config + \n",
    "            geom_bar(stat=\"identity\") + coord_flip() + theme(legend.position = 'none') +\n",
    "            ggtitle(paste0('Top ', 2*as.numeric( top_var_fraction) *100, '% of features')) +\n",
    "            geom_hline(yintercept = 2*as.numeric( top_var_fraction)*100, \n",
    "                    color = \"black\", size=1) + scale_fill_manual(values = type_color_codes$color_code)\n",
    "        \n",
    "    }\n",
    "    barplot_top_features_percentages[[j]] =  percentage_plot_1_perc \n",
    "    \n",
    "    \n",
    "    \n",
    "    ## 2: Absolute Values\n",
    "    \n",
    "    xlabel = xlab('View') \n",
    "    ylabel = ylab('Amount features')\n",
    "    \n",
    "    absolute_plot_1_perc = list()\n",
    "    \n",
    "    # one selected threshold + absolute amount\n",
    "    for(i in factor_var ){\n",
    "            geneset_oi_amounts = geneset_oi_amounts_list[[j]]\n",
    "            geneset_oi_amounts$view = as.character(geneset_oi_amounts$view)\n",
    "            geneset_oi_amounts$view = factor(geneset_oi_amounts$view, levels = sort(unique(geneset_oi_amounts$view)))# recode to ensure right ordering\n",
    "\n",
    "            absolute_plot_1_perc[[i]] = ggplot(data = geneset_oi_amounts[(geneset_oi_amounts$variable == i),], aes(x = view, y = n, fill = view)) +\n",
    "            xlabel + \n",
    "            ylabel + \n",
    "            plot_config + \n",
    "            geom_bar(stat=\"identity\") + coord_flip()  + theme(legend.position = 'none')+ \n",
    "            ggtitle(paste0('Top ', 2*as.numeric( top_var_fraction) *100, '% of features')) + scale_fill_manual(values = type_color_codes$color_code) # TBD: maybe improve even with default value + specifying all colors via table\n",
    "        }\n",
    "    \n",
    "    barplot_top_features_absolute[[j]] = absolute_plot_1_perc\n",
    "       \n",
    "\n",
    "}  "
   ]
  },
  {
   "cell_type": "code",
   "execution_count": 58,
   "id": "751f00cb-9a18-4466-aeb8-0629a5e94bbb",
   "metadata": {},
   "outputs": [],
   "source": [
    "#barplot_top_features_percentages[[1]]"
   ]
  },
  {
   "cell_type": "code",
   "execution_count": 59,
   "id": "a7fa911c-d351-4bf1-9a43-379b9786daf6",
   "metadata": {},
   "outputs": [],
   "source": [
    "## Combine the plots"
   ]
  },
  {
   "cell_type": "code",
   "execution_count": 60,
   "id": "cb7b6682-0600-43ee-b794-37bca7d2a106",
   "metadata": {},
   "outputs": [],
   "source": [
    "figure_name = paste0( \"FIG04_Top_Feature_Overview_per_Factor\")"
   ]
  },
  {
   "cell_type": "code",
   "execution_count": 61,
   "id": "94813159-877f-4180-b2ce-bedeca5c6a32",
   "metadata": {},
   "outputs": [],
   "source": [
    "# Sizes of the plot\n",
    "width_par = 8.07\n",
    "height_par =2.8"
   ]
  },
  {
   "cell_type": "code",
   "execution_count": 62,
   "id": "d0436087-71ef-4aa9-a93b-65c223a974ee",
   "metadata": {},
   "outputs": [],
   "source": [
    "for(j in 1:nrow(factor_configs)){\n",
    "    mofa_name = factor_configs$mofa_result_name[j]\n",
    "    \n",
    "    # get the relvant plot\n",
    "    explained_variance_heatmap = variance_plots[[j]]\n",
    "    absolute_plot_1_perc = barplot_top_features_absolute[[j]]\n",
    "    percentage_plot_1_perc = barplot_top_features_percentages[[j]]\n",
    "\n",
    "\n",
    "    pdf(paste0('figures/04_figures/', figure_name, '_',   mofa_name, '.pdf'), width =width_par, height =height_par)\n",
    "    for( i in 1:length(explained_variance_heatmap)){\n",
    "        legend = get_legend(explained_variance_heatmap[[i]])\n",
    "\n",
    "        combined1 = ggarrange(explained_variance_heatmap[[i]] + theme(legend.position = 'none'),\n",
    "                             absolute_plot_1_perc[[i]] + theme(axis.text.y = element_blank(),axis.ticks.y = element_blank(),axis.title.y = element_blank() ), \n",
    "                             percentage_plot_1_perc[[i]] + theme(axis.text.y = element_blank(),axis.ticks.y = element_blank(),axis.title.y = element_blank() ),  \n",
    "                             nrow=1, widths = c(2.2,1,1))\n",
    "        combined1 = annotate_figure(combined1, right = legend)\n",
    "\n",
    "        print( combined1)\n",
    "        }\n",
    "    dev.off()   \n",
    "    }"
   ]
  },
  {
   "cell_type": "code",
   "execution_count": null,
   "id": "3fa68637-1870-429b-8c04-4176aec047c0",
   "metadata": {},
   "outputs": [],
   "source": []
  },
  {
   "cell_type": "code",
   "execution_count": null,
   "id": "b6e59f35-8b97-450f-b430-73647d4a4027",
   "metadata": {},
   "outputs": [],
   "source": []
  }
 ],
 "metadata": {
  "kernelspec": {
   "display_name": "R",
   "language": "R",
   "name": "ir"
  },
  "language_info": {
   "codemirror_mode": "r",
   "file_extension": ".r",
   "mimetype": "text/x-r-source",
   "name": "R",
   "pygments_lexer": "r",
   "version": "4.3.2"
  },
  "toc-autonumbering": true,
  "toc-showcode": false
 },
 "nbformat": 4,
 "nbformat_minor": 5
}
