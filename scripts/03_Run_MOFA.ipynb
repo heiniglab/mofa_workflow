{
 "cells": [
  {
   "cell_type": "code",
   "execution_count": 253,
   "id": "d182c426-4d95-4dee-a099-cd923e9437d7",
   "metadata": {
    "tags": []
   },
   "outputs": [],
   "source": [
    "### Run MOFA Model on the data generated in the previous script (02)"
   ]
  },
  {
   "cell_type": "markdown",
   "id": "213d69de-4705-4a6e-9387-b1a3413172eb",
   "metadata": {
    "tags": []
   },
   "source": [
    "#############################################\n",
    "# Prerequisites - Load Libraries"
   ]
  },
  {
   "cell_type": "code",
   "execution_count": 254,
   "id": "9957e32b-eaec-4762-95cd-e089cc1cdc60",
   "metadata": {
    "tags": []
   },
   "outputs": [
    {
     "name": "stderr",
     "output_type": "stream",
     "text": [
      "Warning message in read.table(file = file, header = header, sep = sep, quote = quote, :\n",
      "“incomplete final line found by readTableHeader on '../conda_environment/Environment_Configs.csv'”\n"
     ]
    },
    {
     "name": "stdout",
     "output_type": "stream",
     "text": [
      "[1] \"/home/icb/corinna.losert/miniconda3/envs/mofa_analysis//lib/R/library\"\n"
     ]
    }
   ],
   "source": [
    "source('MS0_Libraries.r')"
   ]
  },
  {
   "cell_type": "code",
   "execution_count": 255,
   "id": "a355afd6-a1ac-4669-a5c1-ad81ced24c8b",
   "metadata": {},
   "outputs": [],
   "source": [
    "source('MS1_Functions.r')"
   ]
  },
  {
   "cell_type": "code",
   "execution_count": 256,
   "id": "45fcc655-2176-406c-9f49-5e5b9379a275",
   "metadata": {
    "tags": []
   },
   "outputs": [],
   "source": [
    "source('MS2_Plot_Config.r')"
   ]
  },
  {
   "cell_type": "code",
   "execution_count": 257,
   "id": "7977b2b2-a781-49c1-afc5-c1a3b6e576b0",
   "metadata": {
    "tags": []
   },
   "outputs": [],
   "source": [
    "#py_config() # - To check the configuration which python package will be used for MOFA"
   ]
  },
  {
   "cell_type": "markdown",
   "id": "9d409d14-a693-4722-9648-4b6bacb4b74a",
   "metadata": {
    "tags": []
   },
   "source": [
    "###############################################\n",
    "# Preqrequisites Configurations & Parameters"
   ]
  },
  {
   "cell_type": "code",
   "execution_count": 258,
   "id": "b6ef041f-3f09-4769-9de4-f0aef59f0601",
   "metadata": {},
   "outputs": [],
   "source": [
    "### Load the parameters that are set via the configuration files"
   ]
  },
  {
   "cell_type": "code",
   "execution_count": 259,
   "id": "0517f180-2869-43c5-a869-8fcca2ba5dc7",
   "metadata": {},
   "outputs": [
    {
     "name": "stderr",
     "output_type": "stream",
     "text": [
      "Warning message in read.table(file = file, header = header, sep = sep, quote = quote, :\n",
      "“incomplete final line found by readTableHeader on 'configurations/Data_Configs.csv'”\n"
     ]
    }
   ],
   "source": [
    "### Load configurations file\n",
    "global_configs = read.csv('configurations/Data_Configs.csv', sep = ',')"
   ]
  },
  {
   "cell_type": "code",
   "execution_count": 260,
   "id": "833a871f-f290-4134-a3ea-c82d0bd4fdf0",
   "metadata": {},
   "outputs": [
    {
     "data": {
      "text/html": [
       "<table class=\"dataframe\">\n",
       "<caption>A data.frame: 2 × 2</caption>\n",
       "<thead>\n",
       "\t<tr><th></th><th scope=col>parameter</th><th scope=col>value</th></tr>\n",
       "\t<tr><th></th><th scope=col>&lt;chr&gt;</th><th scope=col>&lt;chr&gt;</th></tr>\n",
       "</thead>\n",
       "<tbody>\n",
       "\t<tr><th scope=row>1</th><td>data_path  </td><td>/lustre/groups/epigenereg01/workspace/projects/jove/input_data/</td></tr>\n",
       "\t<tr><th scope=row>2</th><td>result_path</td><td>/lustre/groups/epigenereg01/workspace/projects/jove/results/   </td></tr>\n",
       "</tbody>\n",
       "</table>\n"
      ],
      "text/latex": [
       "A data.frame: 2 × 2\n",
       "\\begin{tabular}{r|ll}\n",
       "  & parameter & value\\\\\n",
       "  & <chr> & <chr>\\\\\n",
       "\\hline\n",
       "\t1 & data\\_path   & /lustre/groups/epigenereg01/workspace/projects/jove/input\\_data/\\\\\n",
       "\t2 & result\\_path & /lustre/groups/epigenereg01/workspace/projects/jove/results/   \\\\\n",
       "\\end{tabular}\n"
      ],
      "text/markdown": [
       "\n",
       "A data.frame: 2 × 2\n",
       "\n",
       "| <!--/--> | parameter &lt;chr&gt; | value &lt;chr&gt; |\n",
       "|---|---|---|\n",
       "| 1 | data_path   | /lustre/groups/epigenereg01/workspace/projects/jove/input_data/ |\n",
       "| 2 | result_path | /lustre/groups/epigenereg01/workspace/projects/jove/results/    |\n",
       "\n"
      ],
      "text/plain": [
       "  parameter   value                                                          \n",
       "1 data_path   /lustre/groups/epigenereg01/workspace/projects/jove/input_data/\n",
       "2 result_path /lustre/groups/epigenereg01/workspace/projects/jove/results/   "
      ]
     },
     "metadata": {},
     "output_type": "display_data"
    }
   ],
   "source": [
    "head(global_configs,2)"
   ]
  },
  {
   "cell_type": "code",
   "execution_count": 261,
   "id": "9db46558-bd65-4ab5-8c5a-b46c136150c1",
   "metadata": {},
   "outputs": [],
   "source": [
    "data_path = global_configs$value[global_configs$parameter == 'data_path']"
   ]
  },
  {
   "cell_type": "code",
   "execution_count": 262,
   "id": "7645ca4e-bdff-45ef-b624-3e67efece6d5",
   "metadata": {},
   "outputs": [
    {
     "data": {
      "text/html": [
       "'/lustre/groups/epigenereg01/workspace/projects/jove/input_data/'"
      ],
      "text/latex": [
       "'/lustre/groups/epigenereg01/workspace/projects/jove/input\\_data/'"
      ],
      "text/markdown": [
       "'/lustre/groups/epigenereg01/workspace/projects/jove/input_data/'"
      ],
      "text/plain": [
       "[1] \"/lustre/groups/epigenereg01/workspace/projects/jove/input_data/\""
      ]
     },
     "metadata": {},
     "output_type": "display_data"
    }
   ],
   "source": [
    "data_path"
   ]
  },
  {
   "cell_type": "code",
   "execution_count": 263,
   "id": "0230afa7-3bcf-4056-b077-74dbf37954b9",
   "metadata": {},
   "outputs": [],
   "source": [
    "result_path = global_configs$value[global_configs$parameter == 'result_path']"
   ]
  },
  {
   "cell_type": "code",
   "execution_count": 264,
   "id": "f69549c3-3b57-44d7-8d22-66968b90aa73",
   "metadata": {},
   "outputs": [
    {
     "data": {
      "text/html": [
       "'/lustre/groups/epigenereg01/workspace/projects/jove/results/'"
      ],
      "text/latex": [
       "'/lustre/groups/epigenereg01/workspace/projects/jove/results/'"
      ],
      "text/markdown": [
       "'/lustre/groups/epigenereg01/workspace/projects/jove/results/'"
      ],
      "text/plain": [
       "[1] \"/lustre/groups/epigenereg01/workspace/projects/jove/results/\""
      ]
     },
     "metadata": {},
     "output_type": "display_data"
    }
   ],
   "source": [
    "result_path"
   ]
  },
  {
   "cell_type": "code",
   "execution_count": 265,
   "id": "41ad9499-44ff-4747-914e-c02b9229024e",
   "metadata": {},
   "outputs": [],
   "source": [
    "## MOFA Model Configurations"
   ]
  },
  {
   "cell_type": "code",
   "execution_count": 266,
   "id": "f4e25172-b0a3-4ea4-85c5-32cd1d1b2e25",
   "metadata": {},
   "outputs": [
    {
     "name": "stderr",
     "output_type": "stream",
     "text": [
      "Warning message in read.table(file = file, header = header, sep = sep, quote = quote, :\n",
      "“incomplete final line found by readTableHeader on 'configurations/03_MOFA_Configs.csv'”\n"
     ]
    }
   ],
   "source": [
    "mofa_configs = read.csv( 'configurations/03_MOFA_Configs.csv', sep = ',')"
   ]
  },
  {
   "cell_type": "code",
   "execution_count": 267,
   "id": "6516474e-483a-4331-953e-cfd350ef734f",
   "metadata": {},
   "outputs": [
    {
     "data": {
      "text/html": [
       "<table class=\"dataframe\">\n",
       "<caption>A data.frame: 2 × 5</caption>\n",
       "<thead>\n",
       "\t<tr><th></th><th scope=col>configuration_name</th><th scope=col>mofa_result_name</th><th scope=col>amount_of_factors</th><th scope=col>weighting_of_views</th><th scope=col>scale_views</th></tr>\n",
       "\t<tr><th></th><th scope=col>&lt;chr&gt;</th><th scope=col>&lt;chr&gt;</th><th scope=col>&lt;int&gt;</th><th scope=col>&lt;lgl&gt;</th><th scope=col>&lt;lgl&gt;</th></tr>\n",
       "</thead>\n",
       "<tbody>\n",
       "\t<tr><th scope=row>1</th><td>MI_v1</td><td>MI_v1_MOFA   </td><td>20</td><td>FALSE</td><td>TRUE</td></tr>\n",
       "\t<tr><th scope=row>2</th><td>MI_v1</td><td>MI_v1_MOFA_10</td><td>10</td><td>FALSE</td><td>TRUE</td></tr>\n",
       "</tbody>\n",
       "</table>\n"
      ],
      "text/latex": [
       "A data.frame: 2 × 5\n",
       "\\begin{tabular}{r|lllll}\n",
       "  & configuration\\_name & mofa\\_result\\_name & amount\\_of\\_factors & weighting\\_of\\_views & scale\\_views\\\\\n",
       "  & <chr> & <chr> & <int> & <lgl> & <lgl>\\\\\n",
       "\\hline\n",
       "\t1 & MI\\_v1 & MI\\_v1\\_MOFA    & 20 & FALSE & TRUE\\\\\n",
       "\t2 & MI\\_v1 & MI\\_v1\\_MOFA\\_10 & 10 & FALSE & TRUE\\\\\n",
       "\\end{tabular}\n"
      ],
      "text/markdown": [
       "\n",
       "A data.frame: 2 × 5\n",
       "\n",
       "| <!--/--> | configuration_name &lt;chr&gt; | mofa_result_name &lt;chr&gt; | amount_of_factors &lt;int&gt; | weighting_of_views &lt;lgl&gt; | scale_views &lt;lgl&gt; |\n",
       "|---|---|---|---|---|---|\n",
       "| 1 | MI_v1 | MI_v1_MOFA    | 20 | FALSE | TRUE |\n",
       "| 2 | MI_v1 | MI_v1_MOFA_10 | 10 | FALSE | TRUE |\n",
       "\n"
      ],
      "text/plain": [
       "  configuration_name mofa_result_name amount_of_factors weighting_of_views\n",
       "1 MI_v1              MI_v1_MOFA       20                FALSE             \n",
       "2 MI_v1              MI_v1_MOFA_10    10                FALSE             \n",
       "  scale_views\n",
       "1 TRUE       \n",
       "2 TRUE       "
      ]
     },
     "metadata": {},
     "output_type": "display_data"
    }
   ],
   "source": [
    "head(mofa_configs,2)"
   ]
  },
  {
   "cell_type": "code",
   "execution_count": 268,
   "id": "924ea023-ad36-4df9-9697-52fb43bc9229",
   "metadata": {
    "tags": []
   },
   "outputs": [],
   "source": [
    "### Generate the result data directory if it does not exist yet\n",
    "if(!file.exists(paste0(result_path, '03_results'))){\n",
    "    dir.create(file.path(paste0(result_path, '03_results')))\n",
    "    }"
   ]
  },
  {
   "cell_type": "markdown",
   "id": "43e2937f-4e6d-4e90-99f2-2f7c370f9639",
   "metadata": {
    "tags": []
   },
   "source": [
    "# Load Data "
   ]
  },
  {
   "cell_type": "markdown",
   "id": "d082fa98-ad4a-46ec-90e5-2da19dd6e84a",
   "metadata": {
    "tags": []
   },
   "source": [
    "## Prepared combined data"
   ]
  },
  {
   "cell_type": "code",
   "execution_count": 269,
   "id": "ccad87c1-cc06-4653-beb1-7e60484958ca",
   "metadata": {},
   "outputs": [],
   "source": [
    "### Load the data that was generated in the previous script using the name specified in the configuration file"
   ]
  },
  {
   "cell_type": "code",
   "execution_count": 270,
   "id": "68265d8e-9ea1-4eeb-895b-03835400fd05",
   "metadata": {},
   "outputs": [],
   "source": [
    "input_data = list()"
   ]
  },
  {
   "cell_type": "code",
   "execution_count": 271,
   "id": "17a9bed4-c561-4cb6-ada9-5f70f42a1011",
   "metadata": {},
   "outputs": [
    {
     "name": "stdout",
     "output_type": "stream",
     "text": [
      "[1] \"/lustre/groups/epigenereg01/workspace/projects/jove/results//02_results/02_Combined_Data_MI_v1_INTEGRATED.csv\"\n",
      "[1] \"2024-05-15 20:35:54 CEST\"\n",
      "[1] \"/lustre/groups/epigenereg01/workspace/projects/jove/results//02_results/02_Combined_Data_MI_v1_INTEGRATED.csv\"\n",
      "[1] \"2024-05-15 20:35:54 CEST\"\n",
      "[1] \"/lustre/groups/epigenereg01/workspace/projects/jove/results//02_results/02_Combined_Data_MI_v1_INTEGRATED.csv\"\n",
      "[1] \"2024-05-15 20:35:54 CEST\"\n",
      "[1] \"/lustre/groups/epigenereg01/workspace/projects/jove/results//02_results/02_Combined_Data_MI_v1_INTEGRATED.csv\"\n",
      "[1] \"2024-05-15 20:35:54 CEST\"\n"
     ]
    }
   ],
   "source": [
    "for(i in 1:nrow(mofa_configs)){\n",
    "    path = paste0(result_path, '/02_results/02_Combined_Data_', mofa_configs$configuration_name[i] ,'_INTEGRATED.csv')\n",
    "    data_long = read.csv(path)\n",
    "    data_long$X = NULL\n",
    "    print(path)\n",
    "    print(file.info(path)$mtime)\n",
    "    input_data[[i]]= data_long\n",
    "    }"
   ]
  },
  {
   "cell_type": "code",
   "execution_count": 272,
   "id": "cbc8c38b-c6b9-4b21-98ec-81521fdf4425",
   "metadata": {},
   "outputs": [
    {
     "data": {
      "text/html": [
       "9625"
      ],
      "text/latex": [
       "9625"
      ],
      "text/markdown": [
       "9625"
      ],
      "text/plain": [
       "[1] 9625"
      ]
     },
     "metadata": {},
     "output_type": "display_data"
    }
   ],
   "source": [
    "length(unique(input_data[[1]]$variable))"
   ]
  },
  {
   "cell_type": "code",
   "execution_count": 273,
   "id": "11ac43e4-dfa8-4459-9d4b-335e90cc739b",
   "metadata": {},
   "outputs": [
    {
     "data": {
      "text/html": [
       "<style>\n",
       ".list-inline {list-style: none; margin:0; padding: 0}\n",
       ".list-inline>li {display: inline-block}\n",
       ".list-inline>li:not(:last-child)::after {content: \"\\00b7\"; padding: 0 .5ex}\n",
       "</style>\n",
       "<ol class=list-inline><li>'B.cell'</li><li>'CD14.Mono'</li><li>'CD16.Mono'</li><li>'CD4.CTL'</li><li>'CD4.Naive'</li><li>'CD4.TCM'</li><li>'CD4.TEM'</li><li>'CD8.Naive'</li><li>'CD8.TEM'</li><li>'cDC2'</li><li>'clinical'</li><li>'cytokine'</li><li>'gdT'</li><li>'neutrophil'</li><li>'NK'</li><li>'proteomic'</li><li>'Treg'</li></ol>\n"
      ],
      "text/latex": [
       "\\begin{enumerate*}\n",
       "\\item 'B.cell'\n",
       "\\item 'CD14.Mono'\n",
       "\\item 'CD16.Mono'\n",
       "\\item 'CD4.CTL'\n",
       "\\item 'CD4.Naive'\n",
       "\\item 'CD4.TCM'\n",
       "\\item 'CD4.TEM'\n",
       "\\item 'CD8.Naive'\n",
       "\\item 'CD8.TEM'\n",
       "\\item 'cDC2'\n",
       "\\item 'clinical'\n",
       "\\item 'cytokine'\n",
       "\\item 'gdT'\n",
       "\\item 'neutrophil'\n",
       "\\item 'NK'\n",
       "\\item 'proteomic'\n",
       "\\item 'Treg'\n",
       "\\end{enumerate*}\n"
      ],
      "text/markdown": [
       "1. 'B.cell'\n",
       "2. 'CD14.Mono'\n",
       "3. 'CD16.Mono'\n",
       "4. 'CD4.CTL'\n",
       "5. 'CD4.Naive'\n",
       "6. 'CD4.TCM'\n",
       "7. 'CD4.TEM'\n",
       "8. 'CD8.Naive'\n",
       "9. 'CD8.TEM'\n",
       "10. 'cDC2'\n",
       "11. 'clinical'\n",
       "12. 'cytokine'\n",
       "13. 'gdT'\n",
       "14. 'neutrophil'\n",
       "15. 'NK'\n",
       "16. 'proteomic'\n",
       "17. 'Treg'\n",
       "\n",
       "\n"
      ],
      "text/plain": [
       " [1] \"B.cell\"     \"CD14.Mono\"  \"CD16.Mono\"  \"CD4.CTL\"    \"CD4.Naive\" \n",
       " [6] \"CD4.TCM\"    \"CD4.TEM\"    \"CD8.Naive\"  \"CD8.TEM\"    \"cDC2\"      \n",
       "[11] \"clinical\"   \"cytokine\"   \"gdT\"        \"neutrophil\" \"NK\"        \n",
       "[16] \"proteomic\"  \"Treg\"      "
      ]
     },
     "metadata": {},
     "output_type": "display_data"
    }
   ],
   "source": [
    "unique(input_data[[1]]$type)"
   ]
  },
  {
   "cell_type": "code",
   "execution_count": 274,
   "id": "090791d5-0c56-4435-af6a-393554574a23",
   "metadata": {},
   "outputs": [
    {
     "data": {
      "text/html": [
       "128"
      ],
      "text/latex": [
       "128"
      ],
      "text/markdown": [
       "128"
      ],
      "text/plain": [
       "[1] 128"
      ]
     },
     "metadata": {},
     "output_type": "display_data"
    }
   ],
   "source": [
    "length(unique(input_data[[1]]$sample_id))"
   ]
  },
  {
   "cell_type": "markdown",
   "id": "e4a73e5e-bf99-4bc1-88d5-38036c8d61ce",
   "metadata": {
    "tags": []
   },
   "source": [
    "# Train MOFA Model"
   ]
  },
  {
   "cell_type": "markdown",
   "id": "6a5a1bca-fd9e-4d54-9821-00f89c9289ca",
   "metadata": {
    "tags": []
   },
   "source": [
    "## Prepare data list"
   ]
  },
  {
   "cell_type": "code",
   "execution_count": 275,
   "id": "a1be4e89-67b4-43bc-9dec-32ef6812966b",
   "metadata": {},
   "outputs": [],
   "source": [
    "### Adjust single-cell types to correspond to cell-types"
   ]
  },
  {
   "cell_type": "code",
   "execution_count": 276,
   "id": "ab15d009-6494-41d4-b740-5a374108cf15",
   "metadata": {},
   "outputs": [
    {
     "data": {
      "text/html": [
       "<table class=\"dataframe\">\n",
       "<caption>A data.frame: 2 × 5</caption>\n",
       "<thead>\n",
       "\t<tr><th></th><th scope=col>sample_id</th><th scope=col>variable</th><th scope=col>value</th><th scope=col>type</th><th scope=col>gene</th></tr>\n",
       "\t<tr><th></th><th scope=col>&lt;chr&gt;</th><th scope=col>&lt;chr&gt;</th><th scope=col>&lt;dbl&gt;</th><th scope=col>&lt;chr&gt;</th><th scope=col>&lt;chr&gt;</th></tr>\n",
       "</thead>\n",
       "<tbody>\n",
       "\t<tr><th scope=row>1</th><td>k10</td><td>B.cell__ACTB</td><td> 0.4307273</td><td>B.cell</td><td>ACTB</td></tr>\n",
       "\t<tr><th scope=row>2</th><td>k11</td><td>B.cell__ACTB</td><td>-0.7009514</td><td>B.cell</td><td>ACTB</td></tr>\n",
       "</tbody>\n",
       "</table>\n"
      ],
      "text/latex": [
       "A data.frame: 2 × 5\n",
       "\\begin{tabular}{r|lllll}\n",
       "  & sample\\_id & variable & value & type & gene\\\\\n",
       "  & <chr> & <chr> & <dbl> & <chr> & <chr>\\\\\n",
       "\\hline\n",
       "\t1 & k10 & B.cell\\_\\_ACTB &  0.4307273 & B.cell & ACTB\\\\\n",
       "\t2 & k11 & B.cell\\_\\_ACTB & -0.7009514 & B.cell & ACTB\\\\\n",
       "\\end{tabular}\n"
      ],
      "text/markdown": [
       "\n",
       "A data.frame: 2 × 5\n",
       "\n",
       "| <!--/--> | sample_id &lt;chr&gt; | variable &lt;chr&gt; | value &lt;dbl&gt; | type &lt;chr&gt; | gene &lt;chr&gt; |\n",
       "|---|---|---|---|---|---|\n",
       "| 1 | k10 | B.cell__ACTB |  0.4307273 | B.cell | ACTB |\n",
       "| 2 | k11 | B.cell__ACTB | -0.7009514 | B.cell | ACTB |\n",
       "\n"
      ],
      "text/plain": [
       "  sample_id variable     value      type   gene\n",
       "1 k10       B.cell__ACTB  0.4307273 B.cell ACTB\n",
       "2 k11       B.cell__ACTB -0.7009514 B.cell ACTB"
      ]
     },
     "metadata": {},
     "output_type": "display_data"
    }
   ],
   "source": [
    "head(input_data[[1]],2)"
   ]
  },
  {
   "cell_type": "code",
   "execution_count": 277,
   "id": "c82c448b-4cb5-4790-bde2-0b473ff7d1a8",
   "metadata": {},
   "outputs": [],
   "source": [
    "### Prepare data list for MOFA (adjust format of input data to be used as input for MOFA)"
   ]
  },
  {
   "cell_type": "code",
   "execution_count": 278,
   "id": "ed8c55fb-adbd-44f7-8104-9efde120ebac",
   "metadata": {},
   "outputs": [],
   "source": [
    "input_data_list = list()"
   ]
  },
  {
   "cell_type": "code",
   "execution_count": 279,
   "id": "c18bb406-5a7e-4a48-ba7d-c77d75add3dc",
   "metadata": {},
   "outputs": [],
   "source": [
    "data_list = list()"
   ]
  },
  {
   "cell_type": "code",
   "execution_count": 280,
   "id": "5d042439-7d41-42ab-84e7-d011b6feb4cc",
   "metadata": {
    "tags": []
   },
   "outputs": [],
   "source": [
    "input_data_list = lapply(input_data, function(x){\n",
    "\n",
    "    for(i in unique(x$type)){\n",
    "        samples = unique(x$sample_id) # necessary to have all samples in all dimensions\n",
    "        data = x[x$type == i, ]\n",
    "\n",
    "        data$type = NULL\n",
    "        data$cell_type = NULL\n",
    "\n",
    "        data = data %>% dcast(variable ~ sample_id, value  = \"value\")\n",
    "        rownames(data) = data$variable\n",
    "        colnames(data) = str_replace(colnames(data), 'value\\\\.', '')\n",
    "        data$variable = NULL\n",
    "\n",
    "        data[setdiff( samples, names(data))] = NA  # use all samples\n",
    "\n",
    "        data = data[,order(colnames(data))]\n",
    "        data = data[,colnames(data) %in% samples]\n",
    "\n",
    "        data_list[[i]] = as.matrix(data)\n",
    "        }\n",
    "    \n",
    "    return(data_list)\n",
    "    })"
   ]
  },
  {
   "cell_type": "code",
   "execution_count": 281,
   "id": "2ebe581f-dc33-442f-9a82-c118a1338053",
   "metadata": {},
   "outputs": [
    {
     "data": {
      "text/html": [
       "<table class=\"dataframe\">\n",
       "<caption>A matrix: 2 × 128 of type dbl</caption>\n",
       "<thead>\n",
       "\t<tr><th></th><th scope=col>k1</th><th scope=col>k10</th><th scope=col>k11</th><th scope=col>k12</th><th scope=col>k13</th><th scope=col>k14</th><th scope=col>k15</th><th scope=col>k16</th><th scope=col>k17</th><th scope=col>k18</th><th scope=col>⋯</th><th scope=col>m7.2</th><th scope=col>m7.3</th><th scope=col>m7.4</th><th scope=col>m8.1</th><th scope=col>m8.2</th><th scope=col>m8.3</th><th scope=col>m8.4</th><th scope=col>m9.1</th><th scope=col>m9.2</th><th scope=col>m9.3</th></tr>\n",
       "</thead>\n",
       "<tbody>\n",
       "\t<tr><th scope=row>B.cell__ACTB</th><td>NA</td><td>0.4307273</td><td>-0.7009514</td><td>0.1151410</td><td>-0.2858409</td><td> 0.6102946</td><td>0.3186394</td><td>-0.7977768</td><td>-0.09413741</td><td>-0.09413741</td><td>⋯</td><td>1.4696127</td><td>1.469613</td><td>-0.09413741</td><td>-1.469613</td><td>-1.001331</td><td> 0.984235</td><td>-0.4422154</td><td> 0.3186394</td><td>0.4307273</td><td>1.09162</td></tr>\n",
       "\t<tr><th scope=row>B.cell__ACTG1</th><td>NA</td><td>1.2815516</td><td>-0.2533471</td><td>0.0417893</td><td>-0.6614351</td><td>-1.0728613</td><td>0.2858409</td><td>-0.4079187</td><td> 0.40791874</td><td>-1.13033917</td><td>⋯</td><td>0.6876604</td><td>0.167894</td><td>-0.90273479</td><td>-1.605730</td><td>-0.512454</td><td>-1.731664</td><td>-1.9599640</td><td>-0.7143674</td><td>0.8717710</td><td>1.21334</td></tr>\n",
       "</tbody>\n",
       "</table>\n"
      ],
      "text/latex": [
       "A matrix: 2 × 128 of type dbl\n",
       "\\begin{tabular}{r|lllllllllllllllllllll}\n",
       "  & k1 & k10 & k11 & k12 & k13 & k14 & k15 & k16 & k17 & k18 & ⋯ & m7.2 & m7.3 & m7.4 & m8.1 & m8.2 & m8.3 & m8.4 & m9.1 & m9.2 & m9.3\\\\\n",
       "\\hline\n",
       "\tB.cell\\_\\_ACTB & NA & 0.4307273 & -0.7009514 & 0.1151410 & -0.2858409 &  0.6102946 & 0.3186394 & -0.7977768 & -0.09413741 & -0.09413741 & ⋯ & 1.4696127 & 1.469613 & -0.09413741 & -1.469613 & -1.001331 &  0.984235 & -0.4422154 &  0.3186394 & 0.4307273 & 1.09162\\\\\n",
       "\tB.cell\\_\\_ACTG1 & NA & 1.2815516 & -0.2533471 & 0.0417893 & -0.6614351 & -1.0728613 & 0.2858409 & -0.4079187 &  0.40791874 & -1.13033917 & ⋯ & 0.6876604 & 0.167894 & -0.90273479 & -1.605730 & -0.512454 & -1.731664 & -1.9599640 & -0.7143674 & 0.8717710 & 1.21334\\\\\n",
       "\\end{tabular}\n"
      ],
      "text/markdown": [
       "\n",
       "A matrix: 2 × 128 of type dbl\n",
       "\n",
       "| <!--/--> | k1 | k10 | k11 | k12 | k13 | k14 | k15 | k16 | k17 | k18 | ⋯ | m7.2 | m7.3 | m7.4 | m8.1 | m8.2 | m8.3 | m8.4 | m9.1 | m9.2 | m9.3 |\n",
       "|---|---|---|---|---|---|---|---|---|---|---|---|---|---|---|---|---|---|---|---|---|---|\n",
       "| B.cell__ACTB | NA | 0.4307273 | -0.7009514 | 0.1151410 | -0.2858409 |  0.6102946 | 0.3186394 | -0.7977768 | -0.09413741 | -0.09413741 | ⋯ | 1.4696127 | 1.469613 | -0.09413741 | -1.469613 | -1.001331 |  0.984235 | -0.4422154 |  0.3186394 | 0.4307273 | 1.09162 |\n",
       "| B.cell__ACTG1 | NA | 1.2815516 | -0.2533471 | 0.0417893 | -0.6614351 | -1.0728613 | 0.2858409 | -0.4079187 |  0.40791874 | -1.13033917 | ⋯ | 0.6876604 | 0.167894 | -0.90273479 | -1.605730 | -0.512454 | -1.731664 | -1.9599640 | -0.7143674 | 0.8717710 | 1.21334 |\n",
       "\n"
      ],
      "text/plain": [
       "              k1 k10       k11        k12       k13        k14        k15      \n",
       "B.cell__ACTB  NA 0.4307273 -0.7009514 0.1151410 -0.2858409  0.6102946 0.3186394\n",
       "B.cell__ACTG1 NA 1.2815516 -0.2533471 0.0417893 -0.6614351 -1.0728613 0.2858409\n",
       "              k16        k17         k18         ⋯ m7.2      m7.3    \n",
       "B.cell__ACTB  -0.7977768 -0.09413741 -0.09413741 ⋯ 1.4696127 1.469613\n",
       "B.cell__ACTG1 -0.4079187  0.40791874 -1.13033917 ⋯ 0.6876604 0.167894\n",
       "              m7.4        m8.1      m8.2      m8.3      m8.4       m9.1      \n",
       "B.cell__ACTB  -0.09413741 -1.469613 -1.001331  0.984235 -0.4422154  0.3186394\n",
       "B.cell__ACTG1 -0.90273479 -1.605730 -0.512454 -1.731664 -1.9599640 -0.7143674\n",
       "              m9.2      m9.3   \n",
       "B.cell__ACTB  0.4307273 1.09162\n",
       "B.cell__ACTG1 0.8717710 1.21334"
      ]
     },
     "metadata": {},
     "output_type": "display_data"
    }
   ],
   "source": [
    "head(input_data_list[[1]][[1]],2)"
   ]
  },
  {
   "cell_type": "code",
   "execution_count": 282,
   "id": "6dcc7226-e6fb-4bcc-a392-b06e0aa2210e",
   "metadata": {},
   "outputs": [],
   "source": [
    "#str(input_data_list)"
   ]
  },
  {
   "cell_type": "markdown",
   "id": "c66ad1ca-77a9-4bbe-9a19-d29b6f79b03d",
   "metadata": {
    "tags": []
   },
   "source": [
    "## Create MOFA object"
   ]
  },
  {
   "cell_type": "code",
   "execution_count": 283,
   "id": "bd25bf9e-4d83-4f26-8cfb-e8fcb8a75a0f",
   "metadata": {},
   "outputs": [],
   "source": [
    "### Create a MOFA object to run the MOFA model on it"
   ]
  },
  {
   "cell_type": "code",
   "execution_count": 284,
   "id": "4d9d78d4-613e-4f70-856f-3ce283280975",
   "metadata": {},
   "outputs": [
    {
     "data": {
      "text/html": [
       "<style>\n",
       ".list-inline {list-style: none; margin:0; padding: 0}\n",
       ".list-inline>li {display: inline-block}\n",
       ".list-inline>li:not(:last-child)::after {content: \"\\00b7\"; padding: 0 .5ex}\n",
       "</style>\n",
       "<ol class=list-inline><li>'B.cell'</li><li>'CD14.Mono'</li><li>'CD16.Mono'</li><li>'CD4.CTL'</li><li>'CD4.Naive'</li><li>'CD4.TCM'</li><li>'CD4.TEM'</li><li>'CD8.Naive'</li><li>'CD8.TEM'</li><li>'cDC2'</li><li>'clinical'</li><li>'cytokine'</li><li>'gdT'</li><li>'neutrophil'</li><li>'NK'</li><li>'proteomic'</li><li>'Treg'</li></ol>\n"
      ],
      "text/latex": [
       "\\begin{enumerate*}\n",
       "\\item 'B.cell'\n",
       "\\item 'CD14.Mono'\n",
       "\\item 'CD16.Mono'\n",
       "\\item 'CD4.CTL'\n",
       "\\item 'CD4.Naive'\n",
       "\\item 'CD4.TCM'\n",
       "\\item 'CD4.TEM'\n",
       "\\item 'CD8.Naive'\n",
       "\\item 'CD8.TEM'\n",
       "\\item 'cDC2'\n",
       "\\item 'clinical'\n",
       "\\item 'cytokine'\n",
       "\\item 'gdT'\n",
       "\\item 'neutrophil'\n",
       "\\item 'NK'\n",
       "\\item 'proteomic'\n",
       "\\item 'Treg'\n",
       "\\end{enumerate*}\n"
      ],
      "text/markdown": [
       "1. 'B.cell'\n",
       "2. 'CD14.Mono'\n",
       "3. 'CD16.Mono'\n",
       "4. 'CD4.CTL'\n",
       "5. 'CD4.Naive'\n",
       "6. 'CD4.TCM'\n",
       "7. 'CD4.TEM'\n",
       "8. 'CD8.Naive'\n",
       "9. 'CD8.TEM'\n",
       "10. 'cDC2'\n",
       "11. 'clinical'\n",
       "12. 'cytokine'\n",
       "13. 'gdT'\n",
       "14. 'neutrophil'\n",
       "15. 'NK'\n",
       "16. 'proteomic'\n",
       "17. 'Treg'\n",
       "\n",
       "\n"
      ],
      "text/plain": [
       " [1] \"B.cell\"     \"CD14.Mono\"  \"CD16.Mono\"  \"CD4.CTL\"    \"CD4.Naive\" \n",
       " [6] \"CD4.TCM\"    \"CD4.TEM\"    \"CD8.Naive\"  \"CD8.TEM\"    \"cDC2\"      \n",
       "[11] \"clinical\"   \"cytokine\"   \"gdT\"        \"neutrophil\" \"NK\"        \n",
       "[16] \"proteomic\"  \"Treg\"      "
      ]
     },
     "metadata": {},
     "output_type": "display_data"
    }
   ],
   "source": [
    "names(input_data_list[[1]])"
   ]
  },
  {
   "cell_type": "code",
   "execution_count": 285,
   "id": "23ac8014-c111-48d7-acaf-fb4ee6516a46",
   "metadata": {},
   "outputs": [
    {
     "name": "stderr",
     "output_type": "stream",
     "text": [
      "Creating MOFA object from a list of matrices (features as rows, sample as columns)...\n",
      "\n",
      "\n",
      "Creating MOFA object from a list of matrices (features as rows, sample as columns)...\n",
      "\n",
      "\n",
      "Creating MOFA object from a list of matrices (features as rows, sample as columns)...\n",
      "\n",
      "\n",
      "Creating MOFA object from a list of matrices (features as rows, sample as columns)...\n",
      "\n",
      "\n"
     ]
    }
   ],
   "source": [
    "mofa_object = lapply(input_data_list, function(x){\n",
    "    MOFAobject = create_mofa(x)\n",
    "    }\n",
    "                     )"
   ]
  },
  {
   "cell_type": "code",
   "execution_count": 286,
   "id": "6e519e8f-f8a1-471d-b431-8c0876040173",
   "metadata": {},
   "outputs": [],
   "source": [
    "### Plot the Data Overview showing the input used for the MOFA Model"
   ]
  },
  {
   "cell_type": "code",
   "execution_count": 287,
   "id": "fb111060-0f4f-475d-831c-55ba5fc46aef",
   "metadata": {},
   "outputs": [],
   "source": [
    "# Specific Text Descriptions:\n",
    "xlabel = xlab('Samples') \n",
    "ylabel = ylab('View')"
   ]
  },
  {
   "cell_type": "code",
   "execution_count": 288,
   "id": "71ea18e8-5ae0-497d-add7-0937b310de51",
   "metadata": {},
   "outputs": [],
   "source": [
    "# Sizes of the plot\n",
    "width_par = 5\n",
    "height_par =5"
   ]
  },
  {
   "cell_type": "code",
   "execution_count": 289,
   "id": "d585eef7-6d34-486f-9b29-786a1ef8e3fa",
   "metadata": {},
   "outputs": [],
   "source": [
    "options(repr.plot.width=30, repr.plot.height=10)\n",
    "\n",
    "mofa_overview = lapply(mofa_object, function(x){\n",
    "    mofa_overview = plot_data_overview(x)\n",
    "    mofa_overview = mofa_overview + plot_config + theme(axis.text.y = element_text(hjust = 0, vjust = 0.5)) +\n",
    "                xlabel + ylabel + theme(axis.text.x = element_blank())\n",
    "    })"
   ]
  },
  {
   "cell_type": "code",
   "execution_count": 290,
   "id": "40a7cf8f-2081-4cea-8a49-249212581a85",
   "metadata": {},
   "outputs": [],
   "source": [
    "#mofa_overview[[1]]"
   ]
  },
  {
   "cell_type": "code",
   "execution_count": 291,
   "id": "fdf414d1-6dee-4931-987a-e5ed2a77b66c",
   "metadata": {},
   "outputs": [],
   "source": [
    "# Extract data -type colors (used by the function to align and use those colors in the next plots)\n",
    "type_colors = list()\n",
    "for(i in 1:length(mofa_overview)){\n",
    "    color_extraction =  ggplot_build(mofa_overview[[i]])\n",
    "    type_colors[[i]] = unique(color_extraction$data[[1]][\"fill\"][,1])\n",
    "    type_colors[[i]] = type_colors[[i]][!type_colors[[i]] == 'grey']\n",
    "    }\n",
    "    "
   ]
  },
  {
   "cell_type": "code",
   "execution_count": 292,
   "id": "d8f216b8-834c-4392-aa6d-b587f068a6c2",
   "metadata": {},
   "outputs": [
    {
     "data": {
      "text/html": [
       "<ol>\n",
       "\t<li><style>\n",
       ".list-inline {list-style: none; margin:0; padding: 0}\n",
       ".list-inline>li {display: inline-block}\n",
       ".list-inline>li:not(:last-child)::after {content: \"\\00b7\"; padding: 0 .5ex}\n",
       "</style>\n",
       "<ol class=list-inline><li>'#FF7F50'</li><li>'#D95F02'</li><li>'#377EB8'</li><li>'#E6AB02'</li><li>'#31A354'</li><li>'#7570B3'</li><li>'#E7298A'</li><li>'#66A61E'</li><li>'#A6761D'</li><li>'#666666'</li><li>'#E41A1C'</li><li>'#4DAF4A'</li><li>'#984EA3'</li><li>'#FF7F00'</li><li>'#FFFF33'</li><li>'#A65628'</li><li>'#F781BF'</li></ol>\n",
       "</li>\n",
       "\t<li><style>\n",
       ".list-inline {list-style: none; margin:0; padding: 0}\n",
       ".list-inline>li {display: inline-block}\n",
       ".list-inline>li:not(:last-child)::after {content: \"\\00b7\"; padding: 0 .5ex}\n",
       "</style>\n",
       "<ol class=list-inline><li>'#FF7F50'</li><li>'#D95F02'</li><li>'#377EB8'</li><li>'#E6AB02'</li><li>'#31A354'</li><li>'#7570B3'</li><li>'#E7298A'</li><li>'#66A61E'</li><li>'#A6761D'</li><li>'#666666'</li><li>'#E41A1C'</li><li>'#4DAF4A'</li><li>'#984EA3'</li><li>'#FF7F00'</li><li>'#FFFF33'</li><li>'#A65628'</li><li>'#F781BF'</li></ol>\n",
       "</li>\n",
       "\t<li><style>\n",
       ".list-inline {list-style: none; margin:0; padding: 0}\n",
       ".list-inline>li {display: inline-block}\n",
       ".list-inline>li:not(:last-child)::after {content: \"\\00b7\"; padding: 0 .5ex}\n",
       "</style>\n",
       "<ol class=list-inline><li>'#FF7F50'</li><li>'#D95F02'</li><li>'#377EB8'</li><li>'#E6AB02'</li><li>'#31A354'</li><li>'#7570B3'</li><li>'#E7298A'</li><li>'#66A61E'</li><li>'#A6761D'</li><li>'#666666'</li><li>'#E41A1C'</li><li>'#4DAF4A'</li><li>'#984EA3'</li><li>'#FF7F00'</li><li>'#FFFF33'</li><li>'#A65628'</li><li>'#F781BF'</li></ol>\n",
       "</li>\n",
       "\t<li><style>\n",
       ".list-inline {list-style: none; margin:0; padding: 0}\n",
       ".list-inline>li {display: inline-block}\n",
       ".list-inline>li:not(:last-child)::after {content: \"\\00b7\"; padding: 0 .5ex}\n",
       "</style>\n",
       "<ol class=list-inline><li>'#FF7F50'</li><li>'#D95F02'</li><li>'#377EB8'</li><li>'#E6AB02'</li><li>'#31A354'</li><li>'#7570B3'</li><li>'#E7298A'</li><li>'#66A61E'</li><li>'#A6761D'</li><li>'#666666'</li><li>'#E41A1C'</li><li>'#4DAF4A'</li><li>'#984EA3'</li><li>'#FF7F00'</li><li>'#FFFF33'</li><li>'#A65628'</li><li>'#F781BF'</li></ol>\n",
       "</li>\n",
       "</ol>\n"
      ],
      "text/latex": [
       "\\begin{enumerate}\n",
       "\\item \\begin{enumerate*}\n",
       "\\item '\\#FF7F50'\n",
       "\\item '\\#D95F02'\n",
       "\\item '\\#377EB8'\n",
       "\\item '\\#E6AB02'\n",
       "\\item '\\#31A354'\n",
       "\\item '\\#7570B3'\n",
       "\\item '\\#E7298A'\n",
       "\\item '\\#66A61E'\n",
       "\\item '\\#A6761D'\n",
       "\\item '\\#666666'\n",
       "\\item '\\#E41A1C'\n",
       "\\item '\\#4DAF4A'\n",
       "\\item '\\#984EA3'\n",
       "\\item '\\#FF7F00'\n",
       "\\item '\\#FFFF33'\n",
       "\\item '\\#A65628'\n",
       "\\item '\\#F781BF'\n",
       "\\end{enumerate*}\n",
       "\n",
       "\\item \\begin{enumerate*}\n",
       "\\item '\\#FF7F50'\n",
       "\\item '\\#D95F02'\n",
       "\\item '\\#377EB8'\n",
       "\\item '\\#E6AB02'\n",
       "\\item '\\#31A354'\n",
       "\\item '\\#7570B3'\n",
       "\\item '\\#E7298A'\n",
       "\\item '\\#66A61E'\n",
       "\\item '\\#A6761D'\n",
       "\\item '\\#666666'\n",
       "\\item '\\#E41A1C'\n",
       "\\item '\\#4DAF4A'\n",
       "\\item '\\#984EA3'\n",
       "\\item '\\#FF7F00'\n",
       "\\item '\\#FFFF33'\n",
       "\\item '\\#A65628'\n",
       "\\item '\\#F781BF'\n",
       "\\end{enumerate*}\n",
       "\n",
       "\\item \\begin{enumerate*}\n",
       "\\item '\\#FF7F50'\n",
       "\\item '\\#D95F02'\n",
       "\\item '\\#377EB8'\n",
       "\\item '\\#E6AB02'\n",
       "\\item '\\#31A354'\n",
       "\\item '\\#7570B3'\n",
       "\\item '\\#E7298A'\n",
       "\\item '\\#66A61E'\n",
       "\\item '\\#A6761D'\n",
       "\\item '\\#666666'\n",
       "\\item '\\#E41A1C'\n",
       "\\item '\\#4DAF4A'\n",
       "\\item '\\#984EA3'\n",
       "\\item '\\#FF7F00'\n",
       "\\item '\\#FFFF33'\n",
       "\\item '\\#A65628'\n",
       "\\item '\\#F781BF'\n",
       "\\end{enumerate*}\n",
       "\n",
       "\\item \\begin{enumerate*}\n",
       "\\item '\\#FF7F50'\n",
       "\\item '\\#D95F02'\n",
       "\\item '\\#377EB8'\n",
       "\\item '\\#E6AB02'\n",
       "\\item '\\#31A354'\n",
       "\\item '\\#7570B3'\n",
       "\\item '\\#E7298A'\n",
       "\\item '\\#66A61E'\n",
       "\\item '\\#A6761D'\n",
       "\\item '\\#666666'\n",
       "\\item '\\#E41A1C'\n",
       "\\item '\\#4DAF4A'\n",
       "\\item '\\#984EA3'\n",
       "\\item '\\#FF7F00'\n",
       "\\item '\\#FFFF33'\n",
       "\\item '\\#A65628'\n",
       "\\item '\\#F781BF'\n",
       "\\end{enumerate*}\n",
       "\n",
       "\\end{enumerate}\n"
      ],
      "text/markdown": [
       "1. 1. '#FF7F50'\n",
       "2. '#D95F02'\n",
       "3. '#377EB8'\n",
       "4. '#E6AB02'\n",
       "5. '#31A354'\n",
       "6. '#7570B3'\n",
       "7. '#E7298A'\n",
       "8. '#66A61E'\n",
       "9. '#A6761D'\n",
       "10. '#666666'\n",
       "11. '#E41A1C'\n",
       "12. '#4DAF4A'\n",
       "13. '#984EA3'\n",
       "14. '#FF7F00'\n",
       "15. '#FFFF33'\n",
       "16. '#A65628'\n",
       "17. '#F781BF'\n",
       "\n",
       "\n",
       "\n",
       "2. 1. '#FF7F50'\n",
       "2. '#D95F02'\n",
       "3. '#377EB8'\n",
       "4. '#E6AB02'\n",
       "5. '#31A354'\n",
       "6. '#7570B3'\n",
       "7. '#E7298A'\n",
       "8. '#66A61E'\n",
       "9. '#A6761D'\n",
       "10. '#666666'\n",
       "11. '#E41A1C'\n",
       "12. '#4DAF4A'\n",
       "13. '#984EA3'\n",
       "14. '#FF7F00'\n",
       "15. '#FFFF33'\n",
       "16. '#A65628'\n",
       "17. '#F781BF'\n",
       "\n",
       "\n",
       "\n",
       "3. 1. '#FF7F50'\n",
       "2. '#D95F02'\n",
       "3. '#377EB8'\n",
       "4. '#E6AB02'\n",
       "5. '#31A354'\n",
       "6. '#7570B3'\n",
       "7. '#E7298A'\n",
       "8. '#66A61E'\n",
       "9. '#A6761D'\n",
       "10. '#666666'\n",
       "11. '#E41A1C'\n",
       "12. '#4DAF4A'\n",
       "13. '#984EA3'\n",
       "14. '#FF7F00'\n",
       "15. '#FFFF33'\n",
       "16. '#A65628'\n",
       "17. '#F781BF'\n",
       "\n",
       "\n",
       "\n",
       "4. 1. '#FF7F50'\n",
       "2. '#D95F02'\n",
       "3. '#377EB8'\n",
       "4. '#E6AB02'\n",
       "5. '#31A354'\n",
       "6. '#7570B3'\n",
       "7. '#E7298A'\n",
       "8. '#66A61E'\n",
       "9. '#A6761D'\n",
       "10. '#666666'\n",
       "11. '#E41A1C'\n",
       "12. '#4DAF4A'\n",
       "13. '#984EA3'\n",
       "14. '#FF7F00'\n",
       "15. '#FFFF33'\n",
       "16. '#A65628'\n",
       "17. '#F781BF'\n",
       "\n",
       "\n",
       "\n",
       "\n",
       "\n"
      ],
      "text/plain": [
       "[[1]]\n",
       " [1] \"#FF7F50\" \"#D95F02\" \"#377EB8\" \"#E6AB02\" \"#31A354\" \"#7570B3\" \"#E7298A\"\n",
       " [8] \"#66A61E\" \"#A6761D\" \"#666666\" \"#E41A1C\" \"#4DAF4A\" \"#984EA3\" \"#FF7F00\"\n",
       "[15] \"#FFFF33\" \"#A65628\" \"#F781BF\"\n",
       "\n",
       "[[2]]\n",
       " [1] \"#FF7F50\" \"#D95F02\" \"#377EB8\" \"#E6AB02\" \"#31A354\" \"#7570B3\" \"#E7298A\"\n",
       " [8] \"#66A61E\" \"#A6761D\" \"#666666\" \"#E41A1C\" \"#4DAF4A\" \"#984EA3\" \"#FF7F00\"\n",
       "[15] \"#FFFF33\" \"#A65628\" \"#F781BF\"\n",
       "\n",
       "[[3]]\n",
       " [1] \"#FF7F50\" \"#D95F02\" \"#377EB8\" \"#E6AB02\" \"#31A354\" \"#7570B3\" \"#E7298A\"\n",
       " [8] \"#66A61E\" \"#A6761D\" \"#666666\" \"#E41A1C\" \"#4DAF4A\" \"#984EA3\" \"#FF7F00\"\n",
       "[15] \"#FFFF33\" \"#A65628\" \"#F781BF\"\n",
       "\n",
       "[[4]]\n",
       " [1] \"#FF7F50\" \"#D95F02\" \"#377EB8\" \"#E6AB02\" \"#31A354\" \"#7570B3\" \"#E7298A\"\n",
       " [8] \"#66A61E\" \"#A6761D\" \"#666666\" \"#E41A1C\" \"#4DAF4A\" \"#984EA3\" \"#FF7F00\"\n",
       "[15] \"#FFFF33\" \"#A65628\" \"#F781BF\"\n"
      ]
     },
     "metadata": {},
     "output_type": "display_data"
    }
   ],
   "source": [
    "type_colors"
   ]
  },
  {
   "cell_type": "code",
   "execution_count": 293,
   "id": "a19c1cdb-c719-4238-9eae-f980fe9ffbfc",
   "metadata": {},
   "outputs": [],
   "source": [
    "figure_name = \"FIG03_Overview_MOFA_Input_\""
   ]
  },
  {
   "cell_type": "code",
   "execution_count": 294,
   "id": "727fd3ab-a205-44e1-95c9-f3f529d3782c",
   "metadata": {},
   "outputs": [],
   "source": [
    "\n",
    "for(i in 1:length(mofa_overview)){\n",
    "    pdf(paste0('figures/03_figures/', figure_name, mofa_configs$mofa_result[i],  '.pdf'), width =width_par, height =height_par)\n",
    "    print(mofa_overview[[i]] )\n",
    "    dev.off()\n",
    "    }"
   ]
  },
  {
   "cell_type": "markdown",
   "id": "7b948109-3903-4b4f-a727-80471943e04c",
   "metadata": {
    "tags": []
   },
   "source": [
    "## Set MOFA Training Options and run the Model Training"
   ]
  },
  {
   "cell_type": "code",
   "execution_count": 295,
   "id": "5f523b0c-4164-4501-b0b3-45d2d6c3843c",
   "metadata": {},
   "outputs": [],
   "source": [
    "### Define the MOFA parameters for training and run the model training with the set parameters\n",
    "### Some parameters are handed over by thhe configuration file\n",
    "### Others are currently assigned fixed below but can be modified"
   ]
  },
  {
   "cell_type": "code",
   "execution_count": 296,
   "id": "c8a0b517-0817-4c97-800b-3097723e7fea",
   "metadata": {},
   "outputs": [],
   "source": [
    "model_result = list()"
   ]
  },
  {
   "cell_type": "code",
   "execution_count": 297,
   "id": "28097f2a-8929-48a5-899e-adb09a6eee96",
   "metadata": {},
   "outputs": [
    {
     "name": "stdout",
     "output_type": "stream",
     "text": [
      "$scale_views\n",
      "[1] TRUE\n",
      "\n",
      "$scale_groups\n",
      "[1] FALSE\n",
      "\n",
      "$center_groups\n",
      "[1] TRUE\n",
      "\n",
      "$use_float32\n",
      "[1] FALSE\n",
      "\n",
      "$views\n",
      " [1] \"B.cell\"     \"CD14.Mono\"  \"CD16.Mono\"  \"CD4.CTL\"    \"CD4.Naive\" \n",
      " [6] \"CD4.TCM\"    \"CD4.TEM\"    \"CD8.Naive\"  \"CD8.TEM\"    \"cDC2\"      \n",
      "[11] \"clinical\"   \"cytokine\"   \"gdT\"        \"neutrophil\" \"NK\"        \n",
      "[16] \"proteomic\"  \"Treg\"      \n",
      "\n",
      "$groups\n",
      "[1] \"group1\"\n",
      "\n",
      "$likelihoods\n",
      "    B.cell  CD14.Mono  CD16.Mono    CD4.CTL  CD4.Naive    CD4.TCM    CD4.TEM \n",
      "\"gaussian\" \"gaussian\" \"gaussian\" \"gaussian\" \"gaussian\" \"gaussian\" \"gaussian\" \n",
      " CD8.Naive    CD8.TEM       cDC2   clinical   cytokine        gdT neutrophil \n",
      "\"gaussian\" \"gaussian\" \"gaussian\" \"gaussian\" \"gaussian\" \"gaussian\" \"gaussian\" \n",
      "        NK  proteomic       Treg \n",
      "\"gaussian\" \"gaussian\" \"gaussian\" \n",
      "\n",
      "$num_factors\n",
      "[1] 20\n",
      "\n",
      "$spikeslab_factors\n",
      "[1] FALSE\n",
      "\n",
      "$spikeslab_weights\n",
      "[1] TRUE\n",
      "\n",
      "$ard_factors\n",
      "[1] FALSE\n",
      "\n",
      "$ard_weights\n",
      "[1] TRUE\n",
      "\n",
      "$maxiter\n",
      "[1] 50000\n",
      "\n",
      "$convergence_mode\n",
      "[1] \"fast\"\n",
      "\n",
      "$drop_factor_threshold\n",
      "[1] -1\n",
      "\n",
      "$verbose\n",
      "[1] TRUE\n",
      "\n",
      "$startELBO\n",
      "[1] 1\n",
      "\n",
      "$freqELBO\n",
      "[1] 5\n",
      "\n",
      "$stochastic\n",
      "[1] FALSE\n",
      "\n",
      "$gpu_mode\n",
      "[1] FALSE\n",
      "\n",
      "$gpu_device\n",
      "NULL\n",
      "\n",
      "$seed\n",
      "[1] 42\n",
      "\n",
      "$outfile\n",
      "NULL\n",
      "\n",
      "$weight_views\n",
      "[1] FALSE\n",
      "\n",
      "$save_interrupted\n",
      "[1] FALSE\n",
      "\n"
     ]
    },
    {
     "name": "stderr",
     "output_type": "stream",
     "text": [
      "Warning message in prepare_mofa(object = mofa_object[[i]], data_options = data_opts, :\n",
      "“Some view(s) have less than 15 features, MOFA will have little power to to learn meaningful factors for these view(s)....”\n",
      "Checking data options...\n",
      "\n",
      "Checking training options...\n",
      "\n",
      "Checking model options...\n",
      "\n"
     ]
    },
    {
     "name": "stdout",
     "output_type": "stream",
     "text": [
      "[1] \"/lustre/groups/epigenereg01/workspace/projects/jove/results//03_results/03_MOFA_MODEL_MI_v1_MOFA.hdf5\"\n"
     ]
    },
    {
     "name": "stderr",
     "output_type": "stream",
     "text": [
      "Warning: Output file /lustre/groups/epigenereg01/workspace/projects/jove/results//03_results/03_MOFA_MODEL_MI_v1_MOFA.hdf5 already exists, it will be replaced\n",
      "\n",
      "Connecting to the mofapy2 python package using reticulate (use_basilisk = FALSE)... \n",
      "    Please make sure to manually specify the right python binary when loading R with reticulate::use_python(..., force=TRUE) or the right conda environment with reticulate::use_condaenv(..., force=TRUE)\n",
      "    If you prefer to let us automatically install a conda environment with 'mofapy2' installed using the 'basilisk' package, please use the argument 'use_basilisk = TRUE'\n",
      "\n",
      "\n",
      "Warning message in .quality_control(object, verbose = verbose):\n",
      "“Factor(s) 5, 9, 18 are strongly correlated with the total number of expressed features for at least one of your omics. Such factors appear when there are differences in the total 'levels' between your samples, *sometimes* because of poor normalisation in the preprocessing steps.\n",
      "”\n"
     ]
    },
    {
     "name": "stdout",
     "output_type": "stream",
     "text": [
      "$scale_views\n",
      "[1] TRUE\n",
      "\n",
      "$scale_groups\n",
      "[1] FALSE\n",
      "\n",
      "$center_groups\n",
      "[1] TRUE\n",
      "\n",
      "$use_float32\n",
      "[1] FALSE\n",
      "\n",
      "$views\n",
      " [1] \"B.cell\"     \"CD14.Mono\"  \"CD16.Mono\"  \"CD4.CTL\"    \"CD4.Naive\" \n",
      " [6] \"CD4.TCM\"    \"CD4.TEM\"    \"CD8.Naive\"  \"CD8.TEM\"    \"cDC2\"      \n",
      "[11] \"clinical\"   \"cytokine\"   \"gdT\"        \"neutrophil\" \"NK\"        \n",
      "[16] \"proteomic\"  \"Treg\"      \n",
      "\n",
      "$groups\n",
      "[1] \"group1\"\n",
      "\n",
      "$likelihoods\n",
      "    B.cell  CD14.Mono  CD16.Mono    CD4.CTL  CD4.Naive    CD4.TCM    CD4.TEM \n",
      "\"gaussian\" \"gaussian\" \"gaussian\" \"gaussian\" \"gaussian\" \"gaussian\" \"gaussian\" \n",
      " CD8.Naive    CD8.TEM       cDC2   clinical   cytokine        gdT neutrophil \n",
      "\"gaussian\" \"gaussian\" \"gaussian\" \"gaussian\" \"gaussian\" \"gaussian\" \"gaussian\" \n",
      "        NK  proteomic       Treg \n",
      "\"gaussian\" \"gaussian\" \"gaussian\" \n",
      "\n",
      "$num_factors\n",
      "[1] 10\n",
      "\n",
      "$spikeslab_factors\n",
      "[1] FALSE\n",
      "\n",
      "$spikeslab_weights\n",
      "[1] TRUE\n",
      "\n",
      "$ard_factors\n",
      "[1] FALSE\n",
      "\n",
      "$ard_weights\n",
      "[1] TRUE\n",
      "\n",
      "$maxiter\n",
      "[1] 50000\n",
      "\n",
      "$convergence_mode\n",
      "[1] \"fast\"\n",
      "\n",
      "$drop_factor_threshold\n",
      "[1] -1\n",
      "\n",
      "$verbose\n",
      "[1] TRUE\n",
      "\n",
      "$startELBO\n",
      "[1] 1\n",
      "\n",
      "$freqELBO\n",
      "[1] 5\n",
      "\n",
      "$stochastic\n",
      "[1] FALSE\n",
      "\n",
      "$gpu_mode\n",
      "[1] FALSE\n",
      "\n",
      "$gpu_device\n",
      "NULL\n",
      "\n",
      "$seed\n",
      "[1] 42\n",
      "\n",
      "$outfile\n",
      "NULL\n",
      "\n",
      "$weight_views\n",
      "[1] FALSE\n",
      "\n",
      "$save_interrupted\n",
      "[1] FALSE\n",
      "\n"
     ]
    },
    {
     "name": "stderr",
     "output_type": "stream",
     "text": [
      "Warning message in prepare_mofa(object = mofa_object[[i]], data_options = data_opts, :\n",
      "“Some view(s) have less than 15 features, MOFA will have little power to to learn meaningful factors for these view(s)....”\n",
      "Checking data options...\n",
      "\n",
      "Checking training options...\n",
      "\n",
      "Checking model options...\n",
      "\n"
     ]
    },
    {
     "name": "stdout",
     "output_type": "stream",
     "text": [
      "[1] \"/lustre/groups/epigenereg01/workspace/projects/jove/results//03_results/03_MOFA_MODEL_MI_v1_MOFA_10.hdf5\"\n"
     ]
    },
    {
     "name": "stderr",
     "output_type": "stream",
     "text": [
      "Warning: Output file /lustre/groups/epigenereg01/workspace/projects/jove/results//03_results/03_MOFA_MODEL_MI_v1_MOFA_10.hdf5 already exists, it will be replaced\n",
      "\n",
      "Connecting to the mofapy2 python package using reticulate (use_basilisk = FALSE)... \n",
      "    Please make sure to manually specify the right python binary when loading R with reticulate::use_python(..., force=TRUE) or the right conda environment with reticulate::use_condaenv(..., force=TRUE)\n",
      "    If you prefer to let us automatically install a conda environment with 'mofapy2' installed using the 'basilisk' package, please use the argument 'use_basilisk = TRUE'\n",
      "\n",
      "\n",
      "Warning message in .quality_control(object, verbose = verbose):\n",
      "“Factor(s) 5, 6 are strongly correlated with the total number of expressed features for at least one of your omics. Such factors appear when there are differences in the total 'levels' between your samples, *sometimes* because of poor normalisation in the preprocessing steps.\n",
      "”\n"
     ]
    },
    {
     "name": "stdout",
     "output_type": "stream",
     "text": [
      "$scale_views\n",
      "[1] TRUE\n",
      "\n",
      "$scale_groups\n",
      "[1] FALSE\n",
      "\n",
      "$center_groups\n",
      "[1] TRUE\n",
      "\n",
      "$use_float32\n",
      "[1] FALSE\n",
      "\n",
      "$views\n",
      " [1] \"B.cell\"     \"CD14.Mono\"  \"CD16.Mono\"  \"CD4.CTL\"    \"CD4.Naive\" \n",
      " [6] \"CD4.TCM\"    \"CD4.TEM\"    \"CD8.Naive\"  \"CD8.TEM\"    \"cDC2\"      \n",
      "[11] \"clinical\"   \"cytokine\"   \"gdT\"        \"neutrophil\" \"NK\"        \n",
      "[16] \"proteomic\"  \"Treg\"      \n",
      "\n",
      "$groups\n",
      "[1] \"group1\"\n",
      "\n",
      "$likelihoods\n",
      "    B.cell  CD14.Mono  CD16.Mono    CD4.CTL  CD4.Naive    CD4.TCM    CD4.TEM \n",
      "\"gaussian\" \"gaussian\" \"gaussian\" \"gaussian\" \"gaussian\" \"gaussian\" \"gaussian\" \n",
      " CD8.Naive    CD8.TEM       cDC2   clinical   cytokine        gdT neutrophil \n",
      "\"gaussian\" \"gaussian\" \"gaussian\" \"gaussian\" \"gaussian\" \"gaussian\" \"gaussian\" \n",
      "        NK  proteomic       Treg \n",
      "\"gaussian\" \"gaussian\" \"gaussian\" \n",
      "\n",
      "$num_factors\n",
      "[1] 15\n",
      "\n",
      "$spikeslab_factors\n",
      "[1] FALSE\n",
      "\n",
      "$spikeslab_weights\n",
      "[1] TRUE\n",
      "\n",
      "$ard_factors\n",
      "[1] FALSE\n",
      "\n",
      "$ard_weights\n",
      "[1] TRUE\n",
      "\n",
      "$maxiter\n",
      "[1] 50000\n",
      "\n",
      "$convergence_mode\n",
      "[1] \"fast\"\n",
      "\n",
      "$drop_factor_threshold\n",
      "[1] -1\n",
      "\n",
      "$verbose\n",
      "[1] TRUE\n",
      "\n",
      "$startELBO\n",
      "[1] 1\n",
      "\n",
      "$freqELBO\n",
      "[1] 5\n",
      "\n",
      "$stochastic\n",
      "[1] FALSE\n",
      "\n",
      "$gpu_mode\n",
      "[1] FALSE\n",
      "\n",
      "$gpu_device\n",
      "NULL\n",
      "\n",
      "$seed\n",
      "[1] 42\n",
      "\n",
      "$outfile\n",
      "NULL\n",
      "\n",
      "$weight_views\n",
      "[1] FALSE\n",
      "\n",
      "$save_interrupted\n",
      "[1] FALSE\n",
      "\n"
     ]
    },
    {
     "name": "stderr",
     "output_type": "stream",
     "text": [
      "Warning message in prepare_mofa(object = mofa_object[[i]], data_options = data_opts, :\n",
      "“Some view(s) have less than 15 features, MOFA will have little power to to learn meaningful factors for these view(s)....”\n",
      "Checking data options...\n",
      "\n",
      "Checking training options...\n",
      "\n",
      "Checking model options...\n",
      "\n"
     ]
    },
    {
     "name": "stdout",
     "output_type": "stream",
     "text": [
      "[1] \"/lustre/groups/epigenereg01/workspace/projects/jove/results//03_results/03_MOFA_MODEL_MI_v1_MOFA_15.hdf5\"\n"
     ]
    },
    {
     "name": "stderr",
     "output_type": "stream",
     "text": [
      "Warning: Output file /lustre/groups/epigenereg01/workspace/projects/jove/results//03_results/03_MOFA_MODEL_MI_v1_MOFA_15.hdf5 already exists, it will be replaced\n",
      "\n",
      "Connecting to the mofapy2 python package using reticulate (use_basilisk = FALSE)... \n",
      "    Please make sure to manually specify the right python binary when loading R with reticulate::use_python(..., force=TRUE) or the right conda environment with reticulate::use_condaenv(..., force=TRUE)\n",
      "    If you prefer to let us automatically install a conda environment with 'mofapy2' installed using the 'basilisk' package, please use the argument 'use_basilisk = TRUE'\n",
      "\n",
      "\n",
      "Warning message in .quality_control(object, verbose = verbose):\n",
      "“Factor(s) 5, 7 are strongly correlated with the total number of expressed features for at least one of your omics. Such factors appear when there are differences in the total 'levels' between your samples, *sometimes* because of poor normalisation in the preprocessing steps.\n",
      "”\n"
     ]
    },
    {
     "name": "stdout",
     "output_type": "stream",
     "text": [
      "$scale_views\n",
      "[1] TRUE\n",
      "\n",
      "$scale_groups\n",
      "[1] FALSE\n",
      "\n",
      "$center_groups\n",
      "[1] TRUE\n",
      "\n",
      "$use_float32\n",
      "[1] FALSE\n",
      "\n",
      "$views\n",
      " [1] \"B.cell\"     \"CD14.Mono\"  \"CD16.Mono\"  \"CD4.CTL\"    \"CD4.Naive\" \n",
      " [6] \"CD4.TCM\"    \"CD4.TEM\"    \"CD8.Naive\"  \"CD8.TEM\"    \"cDC2\"      \n",
      "[11] \"clinical\"   \"cytokine\"   \"gdT\"        \"neutrophil\" \"NK\"        \n",
      "[16] \"proteomic\"  \"Treg\"      \n",
      "\n",
      "$groups\n",
      "[1] \"group1\"\n",
      "\n",
      "$likelihoods\n",
      "    B.cell  CD14.Mono  CD16.Mono    CD4.CTL  CD4.Naive    CD4.TCM    CD4.TEM \n",
      "\"gaussian\" \"gaussian\" \"gaussian\" \"gaussian\" \"gaussian\" \"gaussian\" \"gaussian\" \n",
      " CD8.Naive    CD8.TEM       cDC2   clinical   cytokine        gdT neutrophil \n",
      "\"gaussian\" \"gaussian\" \"gaussian\" \"gaussian\" \"gaussian\" \"gaussian\" \"gaussian\" \n",
      "        NK  proteomic       Treg \n",
      "\"gaussian\" \"gaussian\" \"gaussian\" \n",
      "\n",
      "$num_factors\n",
      "[1] 25\n",
      "\n",
      "$spikeslab_factors\n",
      "[1] FALSE\n",
      "\n",
      "$spikeslab_weights\n",
      "[1] TRUE\n",
      "\n",
      "$ard_factors\n",
      "[1] FALSE\n",
      "\n",
      "$ard_weights\n",
      "[1] TRUE\n",
      "\n",
      "$maxiter\n",
      "[1] 50000\n",
      "\n",
      "$convergence_mode\n",
      "[1] \"fast\"\n",
      "\n",
      "$drop_factor_threshold\n",
      "[1] -1\n",
      "\n",
      "$verbose\n",
      "[1] TRUE\n",
      "\n",
      "$startELBO\n",
      "[1] 1\n",
      "\n",
      "$freqELBO\n",
      "[1] 5\n",
      "\n",
      "$stochastic\n",
      "[1] FALSE\n",
      "\n",
      "$gpu_mode\n",
      "[1] FALSE\n",
      "\n",
      "$gpu_device\n",
      "NULL\n",
      "\n",
      "$seed\n",
      "[1] 42\n",
      "\n",
      "$outfile\n",
      "NULL\n",
      "\n",
      "$weight_views\n",
      "[1] FALSE\n",
      "\n",
      "$save_interrupted\n",
      "[1] FALSE\n",
      "\n"
     ]
    },
    {
     "name": "stderr",
     "output_type": "stream",
     "text": [
      "Warning message in prepare_mofa(object = mofa_object[[i]], data_options = data_opts, :\n",
      "“Some view(s) have less than 15 features, MOFA will have little power to to learn meaningful factors for these view(s)....”\n",
      "Checking data options...\n",
      "\n",
      "Checking training options...\n",
      "\n",
      "Checking model options...\n",
      "\n"
     ]
    },
    {
     "name": "stdout",
     "output_type": "stream",
     "text": [
      "[1] \"/lustre/groups/epigenereg01/workspace/projects/jove/results//03_results/03_MOFA_MODEL_MI_v1_MOFA_25.hdf5\"\n"
     ]
    },
    {
     "name": "stderr",
     "output_type": "stream",
     "text": [
      "Warning: Output file /lustre/groups/epigenereg01/workspace/projects/jove/results//03_results/03_MOFA_MODEL_MI_v1_MOFA_25.hdf5 already exists, it will be replaced\n",
      "\n",
      "Connecting to the mofapy2 python package using reticulate (use_basilisk = FALSE)... \n",
      "    Please make sure to manually specify the right python binary when loading R with reticulate::use_python(..., force=TRUE) or the right conda environment with reticulate::use_condaenv(..., force=TRUE)\n",
      "    If you prefer to let us automatically install a conda environment with 'mofapy2' installed using the 'basilisk' package, please use the argument 'use_basilisk = TRUE'\n",
      "\n",
      "\n",
      "Warning message in .quality_control(object, verbose = verbose):\n",
      "“Factor(s) 5, 11, 12, 24 are strongly correlated with the total number of expressed features for at least one of your omics. Such factors appear when there are differences in the total 'levels' between your samples, *sometimes* because of poor normalisation in the preprocessing steps.\n",
      "”\n"
     ]
    }
   ],
   "source": [
    "for(i in 1:length(mofa_object)){\n",
    "    \n",
    "    ## Set other parameters of MOFA Model\n",
    "    mefisto_opts = get_default_mefisto_options(mofa_object[[i]])\n",
    "    \n",
    "    ## Data Options\n",
    "    data_opts = get_default_data_options(mofa_object[[i]])\n",
    "    data_opts$scale_views = mofa_configs$scale_views[i] # decide whether to scale the data\n",
    "    data_opts$use_float32 = FALSE\n",
    "    print(data_opts)\n",
    "    \n",
    "    ## Model Options\n",
    "    model_opts = get_default_model_options(mofa_object[[i]])\n",
    "    model_opts$num_factors = mofa_configs$amount_of_factors[i] # define number of factors\n",
    "    model_opts$spikeslab_weights = TRUE\n",
    "    # model_opts$likelihoods['neutrophil'] = 'poisson' - example to modify distribution for one specific view\n",
    "    print(model_opts)\n",
    "    \n",
    "    ## Training Options\n",
    "    train_opts  = get_default_training_options(mofa_object[[i]])\n",
    "    train_opts$maxiter = 50000\n",
    "    train_opts$verbose = TRUE\n",
    "    train_opts$seed = 42\n",
    "    train_opts$weight_views = mofa_configs$weighting_of_views[i]\n",
    "    print(train_opts)\n",
    "    \n",
    "    ## Build and train the model\n",
    "    MOFAobject = prepare_mofa(\n",
    "      object = mofa_object[[i]],\n",
    "      data_options = data_opts,\n",
    "      model_options = model_opts,\n",
    "      mefisto_options = mefisto_opts,\n",
    "      training_options = train_opts #,\n",
    "      #stochastic_options = stoch_options\n",
    "    )\n",
    "    \n",
    "    model_name = paste0(\"03_MOFA_MODEL_\", mofa_configs$mofa_result[i], '.hdf5')\n",
    "    outfile = file.path( paste0(result_path, '/03_results/',  model_name) )\n",
    "    print(outfile)\n",
    "    MOFAobject.trained = run_mofa(MOFAobject, outfile, use_basilisk = FALSE)\n",
    "    \n",
    "\n",
    "    model_result[[i]] = MOFAobject.trained\n",
    "    \n",
    "    }\n",
    "    "
   ]
  },
  {
   "cell_type": "code",
   "execution_count": 298,
   "id": "6536b2f6-91f9-4fcd-9877-ca04dad5b8e8",
   "metadata": {},
   "outputs": [],
   "source": [
    "#str(model_result)"
   ]
  },
  {
   "cell_type": "code",
   "execution_count": 299,
   "id": "309040c3-3378-4a5d-98ec-ad7733b74156",
   "metadata": {
    "tags": []
   },
   "outputs": [
    {
     "data": {
      "text/plain": [
       "python:         /home/icb/corinna.losert/miniconda3/envs/mofa_analysis/bin/python\n",
       "libpython:      /home/icb/corinna.losert/miniconda3/envs/mofa_analysis/lib/libpython3.9.so\n",
       "pythonhome:     /home/icb/corinna.losert/miniconda3/envs/mofa_analysis:/home/icb/corinna.losert/miniconda3/envs/mofa_analysis\n",
       "version:        3.9.18 | packaged by conda-forge | (main, Aug 30 2023, 03:49:32)  [GCC 12.3.0]\n",
       "numpy:          /home/icb/corinna.losert/.local/lib/python3.9/site-packages/numpy\n",
       "numpy_version:  1.26.4\n",
       "\n",
       "NOTE: Python version was forced by RETICULATE_PYTHON"
      ]
     },
     "metadata": {},
     "output_type": "display_data"
    }
   ],
   "source": [
    "reticulate::py_config()"
   ]
  },
  {
   "cell_type": "markdown",
   "id": "bf21d4d7-100a-47b0-94b5-96756de5cd1b",
   "metadata": {
    "tags": []
   },
   "source": [
    "# Extract and prepare data for plots"
   ]
  },
  {
   "cell_type": "code",
   "execution_count": 300,
   "id": "bf8a3a95-f637-480d-b753-740db3d2a874",
   "metadata": {},
   "outputs": [],
   "source": [
    "### Extract generated data for the model to use for later downstream analysis"
   ]
  },
  {
   "cell_type": "markdown",
   "id": "34ff7783-b316-4619-af11-4ba9fee16811",
   "metadata": {
    "tags": []
   },
   "source": [
    "## Extract Variance decomposition"
   ]
  },
  {
   "cell_type": "code",
   "execution_count": 301,
   "id": "17bbea0a-f84b-48a1-8ce4-bfb003ed57bb",
   "metadata": {
    "tags": []
   },
   "outputs": [],
   "source": [
    "# Extract the total explained variance per view and factor"
   ]
  },
  {
   "cell_type": "code",
   "execution_count": 302,
   "id": "3fd35f19-4ed7-4a46-bed8-01c106c4f220",
   "metadata": {},
   "outputs": [
    {
     "data": {
      "text/html": [
       "<strong>$group1</strong> = <style>\n",
       ".dl-inline {width: auto; margin:0; padding: 0}\n",
       ".dl-inline>dt, .dl-inline>dd {float: none; width: auto; display: inline-block}\n",
       ".dl-inline>dt::after {content: \":\\0020\"; padding-right: .5ex}\n",
       ".dl-inline>dt:not(:first-of-type) {padding-left: .5ex}\n",
       "</style><dl class=dl-inline><dt>B.cell</dt><dd>37.2257636907357</dd><dt>CD14.Mono</dt><dd>59.3779230923285</dd><dt>CD16.Mono</dt><dd>36.4146987424815</dd><dt>CD4.CTL</dt><dd>38.4899347278608</dd><dt>CD4.Naive</dt><dd>28.1241922781173</dd><dt>CD4.TCM</dt><dd>60.0186401456396</dd><dt>CD4.TEM</dt><dd>33.2695633450044</dd><dt>CD8.Naive</dt><dd>20.1986221919322</dd><dt>CD8.TEM</dt><dd>39.4562955818526</dd><dt>cDC2</dt><dd>27.8115815485653</dd><dt>clinical</dt><dd>60.8638462066393</dd><dt>cytokine</dt><dd>20.8827083420894</dd><dt>gdT</dt><dd>49.618468100597</dd><dt>neutrophil</dt><dd>16.598002561241</dd><dt>NK</dt><dd>41.722792085147</dd><dt>proteomic</dt><dd>13.3665409180678</dd><dt>Treg</dt><dd>30.6990522619274</dd></dl>\n"
      ],
      "text/latex": [
       "\\textbf{\\$group1} = \\begin{description*}\n",
       "\\item[B.cell] 37.2257636907357\n",
       "\\item[CD14.Mono] 59.3779230923285\n",
       "\\item[CD16.Mono] 36.4146987424815\n",
       "\\item[CD4.CTL] 38.4899347278608\n",
       "\\item[CD4.Naive] 28.1241922781173\n",
       "\\item[CD4.TCM] 60.0186401456396\n",
       "\\item[CD4.TEM] 33.2695633450044\n",
       "\\item[CD8.Naive] 20.1986221919322\n",
       "\\item[CD8.TEM] 39.4562955818526\n",
       "\\item[cDC2] 27.8115815485653\n",
       "\\item[clinical] 60.8638462066393\n",
       "\\item[cytokine] 20.8827083420894\n",
       "\\item[gdT] 49.618468100597\n",
       "\\item[neutrophil] 16.598002561241\n",
       "\\item[NK] 41.722792085147\n",
       "\\item[proteomic] 13.3665409180678\n",
       "\\item[Treg] 30.6990522619274\n",
       "\\end{description*}\n"
      ],
      "text/markdown": [
       "**$group1** = B.cell\n",
       ":   37.2257636907357CD14.Mono\n",
       ":   59.3779230923285CD16.Mono\n",
       ":   36.4146987424815CD4.CTL\n",
       ":   38.4899347278608CD4.Naive\n",
       ":   28.1241922781173CD4.TCM\n",
       ":   60.0186401456396CD4.TEM\n",
       ":   33.2695633450044CD8.Naive\n",
       ":   20.1986221919322CD8.TEM\n",
       ":   39.4562955818526cDC2\n",
       ":   27.8115815485653clinical\n",
       ":   60.8638462066393cytokine\n",
       ":   20.8827083420894gdT\n",
       ":   49.618468100597neutrophil\n",
       ":   16.598002561241NK\n",
       ":   41.722792085147proteomic\n",
       ":   13.3665409180678Treg\n",
       ":   30.6990522619274\n",
       "\n"
      ],
      "text/plain": [
       "$group1\n",
       "    B.cell  CD14.Mono  CD16.Mono    CD4.CTL  CD4.Naive    CD4.TCM    CD4.TEM \n",
       "  37.22576   59.37792   36.41470   38.48993   28.12419   60.01864   33.26956 \n",
       " CD8.Naive    CD8.TEM       cDC2   clinical   cytokine        gdT neutrophil \n",
       "  20.19862   39.45630   27.81158   60.86385   20.88271   49.61847   16.59800 \n",
       "        NK  proteomic       Treg \n",
       "  41.72279   13.36654   30.69905 \n"
      ]
     },
     "metadata": {},
     "output_type": "display_data"
    }
   ],
   "source": [
    "model_result[[1]]@cache[[\"variance_explained\"]]$r2_total  # per view"
   ]
  },
  {
   "cell_type": "code",
   "execution_count": 303,
   "id": "cde9bd4a-0ba2-4b30-b5a0-d83a434aa78f",
   "metadata": {
    "tags": []
   },
   "outputs": [
    {
     "data": {
      "text/html": [
       "<style>\n",
       ".dl-inline {width: auto; margin:0; padding: 0}\n",
       ".dl-inline>dt, .dl-inline>dd {float: none; width: auto; display: inline-block}\n",
       ".dl-inline>dt::after {content: \":\\0020\"; padding-right: .5ex}\n",
       ".dl-inline>dt:not(:first-of-type) {padding-left: .5ex}\n",
       "</style><dl class=dl-inline><dt>Factor1</dt><dd>5.34754203390121</dd><dt>Factor2</dt><dd>5.18591792983431</dd><dt>Factor3</dt><dd>3.09584512280698</dd><dt>Factor4</dt><dd>2.8325996807361</dd><dt>Factor5</dt><dd>2.45545609231592</dd><dt>Factor6</dt><dd>2.21874811534057</dd><dt>Factor7</dt><dd>1.53431166902181</dd><dt>Factor8</dt><dd>1.47684657680136</dd><dt>Factor9</dt><dd>1.42780299413366</dd><dt>Factor10</dt><dd>1.41922729233803</dd><dt>Factor11</dt><dd>1.39896261351665</dd><dt>Factor12</dt><dd>1.38558615861354</dd><dt>Factor13</dt><dd>1.34670713495296</dd><dt>Factor14</dt><dd>0.986033308400163</dd><dt>Factor15</dt><dd>0.942517838328786</dd><dt>Factor16</dt><dd>0.920926845949855</dd><dt>Factor17</dt><dd>0.800667050929891</dd><dt>Factor18</dt><dd>0.764199975835898</dd><dt>Factor19</dt><dd>0.762757642705496</dd><dt>Factor20</dt><dd>0.70325886538259</dd></dl>\n"
      ],
      "text/latex": [
       "\\begin{description*}\n",
       "\\item[Factor1] 5.34754203390121\n",
       "\\item[Factor2] 5.18591792983431\n",
       "\\item[Factor3] 3.09584512280698\n",
       "\\item[Factor4] 2.8325996807361\n",
       "\\item[Factor5] 2.45545609231592\n",
       "\\item[Factor6] 2.21874811534057\n",
       "\\item[Factor7] 1.53431166902181\n",
       "\\item[Factor8] 1.47684657680136\n",
       "\\item[Factor9] 1.42780299413366\n",
       "\\item[Factor10] 1.41922729233803\n",
       "\\item[Factor11] 1.39896261351665\n",
       "\\item[Factor12] 1.38558615861354\n",
       "\\item[Factor13] 1.34670713495296\n",
       "\\item[Factor14] 0.986033308400163\n",
       "\\item[Factor15] 0.942517838328786\n",
       "\\item[Factor16] 0.920926845949855\n",
       "\\item[Factor17] 0.800667050929891\n",
       "\\item[Factor18] 0.764199975835898\n",
       "\\item[Factor19] 0.762757642705496\n",
       "\\item[Factor20] 0.70325886538259\n",
       "\\end{description*}\n"
      ],
      "text/markdown": [
       "Factor1\n",
       ":   5.34754203390121Factor2\n",
       ":   5.18591792983431Factor3\n",
       ":   3.09584512280698Factor4\n",
       ":   2.8325996807361Factor5\n",
       ":   2.45545609231592Factor6\n",
       ":   2.21874811534057Factor7\n",
       ":   1.53431166902181Factor8\n",
       ":   1.47684657680136Factor9\n",
       ":   1.42780299413366Factor10\n",
       ":   1.41922729233803Factor11\n",
       ":   1.39896261351665Factor12\n",
       ":   1.38558615861354Factor13\n",
       ":   1.34670713495296Factor14\n",
       ":   0.986033308400163Factor15\n",
       ":   0.942517838328786Factor16\n",
       ":   0.920926845949855Factor17\n",
       ":   0.800667050929891Factor18\n",
       ":   0.764199975835898Factor19\n",
       ":   0.762757642705496Factor20\n",
       ":   0.70325886538259\n",
       "\n"
      ],
      "text/plain": [
       "  Factor1   Factor2   Factor3   Factor4   Factor5   Factor6   Factor7   Factor8 \n",
       "5.3475420 5.1859179 3.0958451 2.8325997 2.4554561 2.2187481 1.5343117 1.4768466 \n",
       "  Factor9  Factor10  Factor11  Factor12  Factor13  Factor14  Factor15  Factor16 \n",
       "1.4278030 1.4192273 1.3989626 1.3855862 1.3467071 0.9860333 0.9425178 0.9209268 \n",
       " Factor17  Factor18  Factor19  Factor20 \n",
       "0.8006671 0.7642000 0.7627576 0.7032589 "
      ]
     },
     "metadata": {},
     "output_type": "display_data"
    }
   ],
   "source": [
    "rowMeans(model_result[[1]]@cache$variance_explained$r2_per_factor[[1]]) # per factor"
   ]
  },
  {
   "cell_type": "code",
   "execution_count": 304,
   "id": "8e342fb0-bd3f-45fe-8e48-d3fb776a557b",
   "metadata": {
    "tags": []
   },
   "outputs": [],
   "source": [
    "# Mean total variance explained"
   ]
  },
  {
   "cell_type": "code",
   "execution_count": 305,
   "id": "dc655f85-7690-42a9-96c1-4154c0a9f27c",
   "metadata": {
    "tags": []
   },
   "outputs": [
    {
     "data": {
      "text/html": [
       "36.1258015188369"
      ],
      "text/latex": [
       "36.1258015188369"
      ],
      "text/markdown": [
       "36.1258015188369"
      ],
      "text/plain": [
       "[1] 36.1258"
      ]
     },
     "metadata": {},
     "output_type": "display_data"
    }
   ],
   "source": [
    "mean(model_result[[1]]@cache$variance_explained$r2_total[[1]])"
   ]
  },
  {
   "cell_type": "code",
   "execution_count": 306,
   "id": "581787f9-0ed1-4e67-9fee-83df60a0e211",
   "metadata": {},
   "outputs": [],
   "source": [
    "# Save the explained variance"
   ]
  },
  {
   "cell_type": "code",
   "execution_count": 307,
   "id": "0df0ef7c-c0fe-43d0-be98-8e5c465414cf",
   "metadata": {},
   "outputs": [],
   "source": [
    "for(i in 1:length(model_result)){\n",
    "    write.csv(model_result[[i]]@cache$variance_explained$r2_per_factor[[1]], paste0(result_path, '/03_results/03_MOFA_Variance_Decomposition_',mofa_configs$mofa_result[i], '.csv'))\n",
    "    }\n",
    "    "
   ]
  },
  {
   "cell_type": "markdown",
   "id": "9ad20619-59f7-4e1f-a3bf-ec4f74de74af",
   "metadata": {
    "tags": []
   },
   "source": [
    "## Extract factor and weight data"
   ]
  },
  {
   "cell_type": "code",
   "execution_count": 308,
   "id": "a7f8e453-6974-4e11-9ca5-416a10acc027",
   "metadata": {},
   "outputs": [],
   "source": [
    "#### Extract sample factors  values and save"
   ]
  },
  {
   "cell_type": "code",
   "execution_count": 309,
   "id": "92f15d46-6e4c-4ec1-b303-15ec0892ff98",
   "metadata": {},
   "outputs": [],
   "source": [
    "for(i in 1:length(model_result)){\n",
    "    factors = get_factors(model_result[[i]], factors = \"all\")\n",
    "    factors = factors$group1\n",
    "    head(factors,2)\n",
    "    \n",
    "    factors = as.data.frame(factors)\n",
    "    factors$sample_id = rownames(factors)\n",
    "    \n",
    "    # Save as csv\n",
    "    write.csv(factors, paste0(result_path, '/03_results/03_Factor_Data_' , mofa_configs$mofa_result[i],  '.csv'), row.names = FALSE)\n",
    "    }"
   ]
  },
  {
   "cell_type": "code",
   "execution_count": 310,
   "id": "0a11ddb4-29fa-43d9-bbc7-b1af8b253406",
   "metadata": {},
   "outputs": [],
   "source": [
    "### Extract weight data (feature factor weights) and save"
   ]
  },
  {
   "cell_type": "code",
   "execution_count": 311,
   "id": "9cd6e4cf-42f3-46e1-89e2-38cd217170e8",
   "metadata": {},
   "outputs": [],
   "source": [
    "for(j in 1:length(model_result)){\n",
    "    weights = get_weights(model_result[[j]], views = \"all\", factors = \"all\")\n",
    "    weight_data = data.frame()\n",
    "    \n",
    "    for (i in names(weights)){\n",
    "        data = data.frame(weights[[i]])\n",
    "        data$type = i\n",
    "        weight_data = rbind(weight_data,data)\n",
    "        }\n",
    "    weight_data$variable_name = rownames(weight_data)\n",
    "    \n",
    "    # Save as csv\n",
    "    write.csv(weight_data, paste0(result_path, '/03_results/03_Weight_Data_' ,mofa_configs$mofa_result[j], '.csv'), row.names = FALSE)\n",
    "    }\n",
    "    "
   ]
  },
  {
   "cell_type": "markdown",
   "id": "3ea6fae2-e0b2-43b1-a39a-72f05def1e18",
   "metadata": {},
   "source": [
    "# Diagnostic Result Plots"
   ]
  },
  {
   "cell_type": "code",
   "execution_count": 312,
   "id": "c8d7b778-31e6-4dbd-831e-60a7a404d1b9",
   "metadata": {
    "tags": []
   },
   "outputs": [],
   "source": [
    "### Make the explained variance plot to analyze the model result"
   ]
  },
  {
   "cell_type": "markdown",
   "id": "c58635ea-ad17-4759-b4fd-322ddc88eaad",
   "metadata": {
    "tags": []
   },
   "source": [
    "## Plot explained variance overview"
   ]
  },
  {
   "cell_type": "code",
   "execution_count": 313,
   "id": "fd55d1b7-788e-40db-9d5a-b24b47706f03",
   "metadata": {},
   "outputs": [],
   "source": [
    "## Prepare the data format"
   ]
  },
  {
   "cell_type": "code",
   "execution_count": 314,
   "id": "766a483e-67d6-47ec-acc9-de211e941140",
   "metadata": {},
   "outputs": [],
   "source": [
    "explained_variance = lapply(model_result, function(x) {\n",
    "    data = x@cache$variance_explained$r2_per_factor[[1]]\n",
    "    data = melt(data)\n",
    "    \n",
    "    total_variance = data.frame( view = rownames(x@cache[[\"variance_explained\"]]$r2_total$group1,2),\n",
    "                             total_variance = x@cache[[\"variance_explained\"]]$r2_total$group1)\n",
    "    data = merge(data, total_variance, by.x = 'Var2', by.y = 'view')\n",
    "    data$Var2 = as.character(data$Var2)\n",
    "    data$Var2 = factor(data$Var2, levels = sort(unique(data$Var2)))\n",
    "    data = data[order(data$Var2),]\n",
    "    }\n",
    "                            )"
   ]
  },
  {
   "cell_type": "code",
   "execution_count": 315,
   "id": "76018f5e-8565-4ef7-9427-3102d0705ea8",
   "metadata": {},
   "outputs": [],
   "source": [
    "#### Plot complete explained variance (Heatmap)"
   ]
  },
  {
   "cell_type": "code",
   "execution_count": 316,
   "id": "258d867e-569d-424d-8614-d8838f4b0278",
   "metadata": {},
   "outputs": [],
   "source": [
    "var_decomp = lapply(explained_variance, function(x){\n",
    "    ggplot() + \n",
    "        scale_fill_gradient(low=\"white\", high=\"black\") + \n",
    "        xlabel + \n",
    "        ylabel +\n",
    "        plot_config + theme(axis.text.x = element_text(angle = 90), legend.position = 'right')+ \n",
    "        geom_tile(data = x, mapping = aes(Var1,  Var2, fill= value))\n",
    "    })"
   ]
  },
  {
   "cell_type": "code",
   "execution_count": 317,
   "id": "35281322-7ad6-49a7-bf1d-3c1ef7957cd5",
   "metadata": {},
   "outputs": [],
   "source": [
    "### Combine the plot with total variance barplot per dimension"
   ]
  },
  {
   "cell_type": "code",
   "execution_count": 318,
   "id": "53de6920-da3e-48d8-a081-6591e91e8e00",
   "metadata": {},
   "outputs": [],
   "source": [
    "# Specific Text Descriptions:\n",
    "xlabel = xlab('View') \n",
    "ylabel = ylab('Explained Variance')"
   ]
  },
  {
   "cell_type": "code",
   "execution_count": 319,
   "id": "c6941cc8-5941-4917-b8a7-5ebfd0a413b0",
   "metadata": {},
   "outputs": [],
   "source": [
    "comp_variance = lapply(explained_variance, function(x){\n",
    "    data = x\n",
    "    plot_complete = unique(data[,c('Var2', 'total_variance')])\n",
    "    comp_variance = ggplot(plot_complete, aes(x=Var2, y = total_variance, fill = Var2)) + \n",
    "                geom_bar(stat=\"identity\") + coord_flip() + \n",
    "                xlabel + \n",
    "                ylabel +\n",
    "                plot_config + scale_fill_manual(values = unlist(type_colors))  ## currently uses same coloring as MOFA oveview\n",
    "    })"
   ]
  },
  {
   "cell_type": "code",
   "execution_count": 320,
   "id": "51827d11-c2eb-42e7-bd81-619217f6a2af",
   "metadata": {},
   "outputs": [],
   "source": [
    "#comp_variance[[1]]"
   ]
  },
  {
   "cell_type": "code",
   "execution_count": 321,
   "id": "0da4fe9a-69b7-42da-9d3a-d8243b9f530d",
   "metadata": {},
   "outputs": [],
   "source": [
    "### Combine both visualization"
   ]
  },
  {
   "cell_type": "code",
   "execution_count": 322,
   "id": "c78a4d89-3f2e-4b4d-aec7-84fb0fa4fc75",
   "metadata": {},
   "outputs": [],
   "source": [
    "figure_name = \"FIG03_Overview_Variance_Decomposition\""
   ]
  },
  {
   "cell_type": "code",
   "execution_count": 323,
   "id": "7fad7664-098c-4ffb-a6f9-86a93d6d83a1",
   "metadata": {},
   "outputs": [],
   "source": [
    "# Sizes of the plot\n",
    "width_par = 8.07\n",
    "height_par = 4  # 2.8"
   ]
  },
  {
   "cell_type": "code",
   "execution_count": 324,
   "id": "4ed1f880-33da-4951-a596-147715efd861",
   "metadata": {},
   "outputs": [],
   "source": [
    "for(i in 1:length(explained_variance)){\n",
    "    legend = get_legend(var_decomp[[i]])\n",
    "    \n",
    "    combination1 = ggarrange(var_decomp[[i]] + theme(legend.position = 'none'),\n",
    "                     comp_variance[[i]] + theme(axis.text.y = element_blank(),axis.ticks.y = element_blank(),axis.title.y = element_blank(), legend.position = 'none' ), \n",
    "                         align = 'h', nrow=1, widths = c(4,1))\n",
    "    # Annotate Figure\n",
    "    combination1_ann = annotate_figure(\n",
    "      combination1,\n",
    "      right = legend\n",
    "    )\n",
    "    \n",
    "    pdf(paste0('figures/03_figures/', figure_name,  mofa_configs$mofa_result[i],  '.pdf'), width =width_par, height =height_par)\n",
    "    print(combination1_ann)\n",
    "    dev.off()\n",
    "    #print(combination1_ann)\n",
    "    \n",
    "    }\n",
    "    "
   ]
  },
  {
   "cell_type": "code",
   "execution_count": null,
   "id": "23bad0f1-d2c8-45db-b127-2dcec5f055d9",
   "metadata": {},
   "outputs": [],
   "source": []
  },
  {
   "cell_type": "code",
   "execution_count": 325,
   "id": "3b1b5e7c-baf9-42ca-8302-34b3ae8b2237",
   "metadata": {},
   "outputs": [],
   "source": [
    "## Save view colors for further usage"
   ]
  },
  {
   "cell_type": "code",
   "execution_count": 326,
   "id": "5be49b4c-9475-4ed5-97a1-dec241ffefbb",
   "metadata": {},
   "outputs": [],
   "source": [
    "write.csv(data.frame(color_code = unlist(type_colors)),\n",
    "          paste0('configurations/03_Type_Color_Codes.csv'))"
   ]
  },
  {
   "cell_type": "code",
   "execution_count": null,
   "id": "23d81e70-ba3b-4cae-a104-7bd79ebbe21c",
   "metadata": {},
   "outputs": [],
   "source": []
  },
  {
   "cell_type": "code",
   "execution_count": null,
   "id": "90f8ba52-a91d-425d-85b2-977de7766ae3",
   "metadata": {},
   "outputs": [],
   "source": []
  }
 ],
 "metadata": {
  "kernelspec": {
   "display_name": "R",
   "language": "R",
   "name": "ir"
  },
  "language_info": {
   "codemirror_mode": "r",
   "file_extension": ".r",
   "mimetype": "text/x-r-source",
   "name": "R",
   "pygments_lexer": "r",
   "version": "4.3.2"
  },
  "toc-autonumbering": true,
  "toc-showcode": false
 },
 "nbformat": 4,
 "nbformat_minor": 5
}
