{
 "cells": [
  {
   "cell_type": "code",
   "execution_count": 1,
   "id": "d182c426-4d95-4dee-a099-cd923e9437d7",
   "metadata": {
    "tags": []
   },
   "outputs": [],
   "source": [
    "### Run MOFA Model on the data"
   ]
  },
  {
   "cell_type": "markdown",
   "id": "213d69de-4705-4a6e-9387-b1a3413172eb",
   "metadata": {
    "tags": []
   },
   "source": [
    "#############################################\n",
    "# Prerequisites - Load Libraries"
   ]
  },
  {
   "cell_type": "code",
   "execution_count": 2,
   "id": "9957e32b-eaec-4762-95cd-e089cc1cdc60",
   "metadata": {
    "collapsed": true,
    "jupyter": {
     "outputs_hidden": true
    },
    "tags": []
   },
   "outputs": [
    {
     "name": "stderr",
     "output_type": "stream",
     "text": [
      "Warning message in read.table(file = file, header = header, sep = sep, quote = quote, :\n",
      "“incomplete final line found by readTableHeader on '../Global_Configs.csv'”\n"
     ]
    },
    {
     "name": "stdout",
     "output_type": "stream",
     "text": [
      "[1] \"/home/icb/corinna.losert/miniconda3/envs/jove_r//lib/R/library\"\n"
     ]
    },
    {
     "name": "stderr",
     "output_type": "stream",
     "text": [
      "‘SeuratObject’ was built with package ‘Matrix’ 1.6.3 but the current\n",
      "version is 1.6.4; it is recomended that you reinstall ‘SeuratObject’ as\n",
      "the ABI for ‘Matrix’ may have changed\n",
      "\n",
      "\n",
      "Attaching package: ‘SeuratObject’\n",
      "\n",
      "\n",
      "The following object is masked from ‘package:base’:\n",
      "\n",
      "    intersect\n",
      "\n",
      "\n",
      "Registered S3 method overwritten by 'SeuratDisk':\n",
      "  method            from  \n",
      "  as.sparse.H5Group Seurat\n",
      "\n",
      "\n",
      "Attaching package: ‘dplyr’\n",
      "\n",
      "\n",
      "The following objects are masked from ‘package:data.table’:\n",
      "\n",
      "    between, first, last\n",
      "\n",
      "\n",
      "The following objects are masked from ‘package:stats’:\n",
      "\n",
      "    filter, lag\n",
      "\n",
      "\n",
      "The following objects are masked from ‘package:base’:\n",
      "\n",
      "    intersect, setdiff, setequal, union\n",
      "\n",
      "\n",
      "── \u001b[1mAttaching core tidyverse packages\u001b[22m ───────────────────────────────────────────────────── tidyverse 2.0.0 ──\n",
      "\u001b[32m✔\u001b[39m \u001b[34mforcats  \u001b[39m 1.0.0     \u001b[32m✔\u001b[39m \u001b[34mreadr    \u001b[39m 2.1.4\n",
      "\u001b[32m✔\u001b[39m \u001b[34mggplot2  \u001b[39m 3.4.4     \u001b[32m✔\u001b[39m \u001b[34mtibble   \u001b[39m 3.2.1\n",
      "\u001b[32m✔\u001b[39m \u001b[34mlubridate\u001b[39m 1.9.3     \u001b[32m✔\u001b[39m \u001b[34mtidyr    \u001b[39m 1.3.0\n",
      "\u001b[32m✔\u001b[39m \u001b[34mpurrr    \u001b[39m 1.0.2     \n",
      "── \u001b[1mConflicts\u001b[22m ─────────────────────────────────────────────────────────────────────── tidyverse_conflicts() ──\n",
      "\u001b[31m✖\u001b[39m \u001b[34mdplyr\u001b[39m::\u001b[32mbetween()\u001b[39m     masks \u001b[34mdata.table\u001b[39m::between()\n",
      "\u001b[31m✖\u001b[39m \u001b[34mdplyr\u001b[39m::\u001b[32mfilter()\u001b[39m      masks \u001b[34mstats\u001b[39m::filter()\n",
      "\u001b[31m✖\u001b[39m \u001b[34mdplyr\u001b[39m::\u001b[32mfirst()\u001b[39m       masks \u001b[34mdata.table\u001b[39m::first()\n",
      "\u001b[31m✖\u001b[39m \u001b[34mlubridate\u001b[39m::\u001b[32mhour()\u001b[39m    masks \u001b[34mdata.table\u001b[39m::hour()\n",
      "\u001b[31m✖\u001b[39m \u001b[34mlubridate\u001b[39m::\u001b[32misoweek()\u001b[39m masks \u001b[34mdata.table\u001b[39m::isoweek()\n",
      "\u001b[31m✖\u001b[39m \u001b[34mdplyr\u001b[39m::\u001b[32mlag()\u001b[39m         masks \u001b[34mstats\u001b[39m::lag()\n",
      "\u001b[31m✖\u001b[39m \u001b[34mdplyr\u001b[39m::\u001b[32mlast()\u001b[39m        masks \u001b[34mdata.table\u001b[39m::last()\n",
      "\u001b[31m✖\u001b[39m \u001b[34mlubridate\u001b[39m::\u001b[32mmday()\u001b[39m    masks \u001b[34mdata.table\u001b[39m::mday()\n",
      "\u001b[31m✖\u001b[39m \u001b[34mlubridate\u001b[39m::\u001b[32mminute()\u001b[39m  masks \u001b[34mdata.table\u001b[39m::minute()\n",
      "\u001b[31m✖\u001b[39m \u001b[34mlubridate\u001b[39m::\u001b[32mmonth()\u001b[39m   masks \u001b[34mdata.table\u001b[39m::month()\n",
      "\u001b[31m✖\u001b[39m \u001b[34mlubridate\u001b[39m::\u001b[32mquarter()\u001b[39m masks \u001b[34mdata.table\u001b[39m::quarter()\n",
      "\u001b[31m✖\u001b[39m \u001b[34mlubridate\u001b[39m::\u001b[32msecond()\u001b[39m  masks \u001b[34mdata.table\u001b[39m::second()\n",
      "\u001b[31m✖\u001b[39m \u001b[34mpurrr\u001b[39m::\u001b[32mtranspose()\u001b[39m   masks \u001b[34mdata.table\u001b[39m::transpose()\n",
      "\u001b[31m✖\u001b[39m \u001b[34mlubridate\u001b[39m::\u001b[32mwday()\u001b[39m    masks \u001b[34mdata.table\u001b[39m::wday()\n",
      "\u001b[31m✖\u001b[39m \u001b[34mlubridate\u001b[39m::\u001b[32mweek()\u001b[39m    masks \u001b[34mdata.table\u001b[39m::week()\n",
      "\u001b[31m✖\u001b[39m \u001b[34mlubridate\u001b[39m::\u001b[32myday()\u001b[39m    masks \u001b[34mdata.table\u001b[39m::yday()\n",
      "\u001b[31m✖\u001b[39m \u001b[34mlubridate\u001b[39m::\u001b[32myear()\u001b[39m    masks \u001b[34mdata.table\u001b[39m::year()\n",
      "\u001b[36mℹ\u001b[39m Use the conflicted package (\u001b[3m\u001b[34m<http://conflicted.r-lib.org/>\u001b[39m\u001b[23m) to force all conflicts to become errors\n",
      "\n",
      "Attaching package: ‘reshape2’\n",
      "\n",
      "\n",
      "The following object is masked from ‘package:tidyr’:\n",
      "\n",
      "    smiths\n",
      "\n",
      "\n",
      "The following objects are masked from ‘package:data.table’:\n",
      "\n",
      "    dcast, melt\n",
      "\n",
      "\n",
      "Loading required package: lattice\n",
      "\n",
      "\n",
      "Attaching package: ‘caret’\n",
      "\n",
      "\n",
      "The following object is masked from ‘package:purrr’:\n",
      "\n",
      "    lift\n",
      "\n",
      "\n",
      "\n",
      "Attaching package: ‘gridExtra’\n",
      "\n",
      "\n",
      "The following object is masked from ‘package:dplyr’:\n",
      "\n",
      "    combine\n",
      "\n",
      "\n",
      "\n",
      "Attaching package: ‘scales’\n",
      "\n",
      "\n",
      "The following object is masked from ‘package:purrr’:\n",
      "\n",
      "    discard\n",
      "\n",
      "\n",
      "The following object is masked from ‘package:readr’:\n",
      "\n",
      "    col_factor\n",
      "\n",
      "\n",
      "\n",
      "Attaching package: ‘ggraph’\n",
      "\n",
      "\n",
      "The following object is masked from ‘package:sp’:\n",
      "\n",
      "    geometry\n",
      "\n",
      "\n",
      "corrplot 0.92 loaded\n",
      "\n",
      "\n",
      "Attaching package: ‘MOFA2’\n",
      "\n",
      "\n",
      "The following object is masked from ‘package:stats’:\n",
      "\n",
      "    predict\n",
      "\n",
      "\n",
      "Loading required package: S4Vectors\n",
      "\n",
      "Loading required package: stats4\n",
      "\n",
      "Loading required package: BiocGenerics\n",
      "\n",
      "\n",
      "Attaching package: ‘BiocGenerics’\n",
      "\n",
      "\n",
      "The following object is masked from ‘package:gridExtra’:\n",
      "\n",
      "    combine\n",
      "\n",
      "\n",
      "The following objects are masked from ‘package:lubridate’:\n",
      "\n",
      "    intersect, setdiff, union\n",
      "\n",
      "\n",
      "The following objects are masked from ‘package:dplyr’:\n",
      "\n",
      "    combine, intersect, setdiff, union\n",
      "\n",
      "\n",
      "The following object is masked from ‘package:SeuratObject’:\n",
      "\n",
      "    intersect\n",
      "\n",
      "\n",
      "The following objects are masked from ‘package:stats’:\n",
      "\n",
      "    IQR, mad, sd, var, xtabs\n",
      "\n",
      "\n",
      "The following objects are masked from ‘package:base’:\n",
      "\n",
      "    anyDuplicated, aperm, append, as.data.frame, basename, cbind,\n",
      "    colnames, dirname, do.call, duplicated, eval, evalq, Filter, Find,\n",
      "    get, grep, grepl, intersect, is.unsorted, lapply, Map, mapply,\n",
      "    match, mget, order, paste, pmax, pmax.int, pmin, pmin.int,\n",
      "    Position, rank, rbind, Reduce, rownames, sapply, setdiff, sort,\n",
      "    table, tapply, union, unique, unsplit, which.max, which.min\n",
      "\n",
      "\n",
      "\n",
      "Attaching package: ‘S4Vectors’\n",
      "\n",
      "\n",
      "The following objects are masked from ‘package:lubridate’:\n",
      "\n",
      "    second, second<-\n",
      "\n",
      "\n",
      "The following object is masked from ‘package:tidyr’:\n",
      "\n",
      "    expand\n",
      "\n",
      "\n",
      "The following objects are masked from ‘package:dplyr’:\n",
      "\n",
      "    first, rename\n",
      "\n",
      "\n",
      "The following objects are masked from ‘package:data.table’:\n",
      "\n",
      "    first, second\n",
      "\n",
      "\n",
      "The following object is masked from ‘package:utils’:\n",
      "\n",
      "    findMatches\n",
      "\n",
      "\n",
      "The following objects are masked from ‘package:base’:\n",
      "\n",
      "    expand.grid, I, unname\n",
      "\n",
      "\n",
      "Loading required package: IRanges\n",
      "\n",
      "\n",
      "Attaching package: ‘IRanges’\n",
      "\n",
      "\n",
      "The following object is masked from ‘package:lubridate’:\n",
      "\n",
      "    %within%\n",
      "\n",
      "\n",
      "The following object is masked from ‘package:purrr’:\n",
      "\n",
      "    reduce\n",
      "\n",
      "\n",
      "The following objects are masked from ‘package:dplyr’:\n",
      "\n",
      "    collapse, desc, slice\n",
      "\n",
      "\n",
      "The following object is masked from ‘package:data.table’:\n",
      "\n",
      "    shift\n",
      "\n",
      "\n",
      "The following object is masked from ‘package:sp’:\n",
      "\n",
      "    %over%\n",
      "\n",
      "\n",
      "Loading required package: GenomicRanges\n",
      "\n",
      "Loading required package: GenomeInfoDb\n",
      "\n",
      "Loading required package: SummarizedExperiment\n",
      "\n",
      "Loading required package: MatrixGenerics\n",
      "\n",
      "Loading required package: matrixStats\n",
      "\n",
      "\n",
      "Attaching package: ‘matrixStats’\n",
      "\n",
      "\n",
      "The following object is masked from ‘package:dplyr’:\n",
      "\n",
      "    count\n",
      "\n",
      "\n",
      "\n",
      "Attaching package: ‘MatrixGenerics’\n",
      "\n",
      "\n",
      "The following objects are masked from ‘package:matrixStats’:\n",
      "\n",
      "    colAlls, colAnyNAs, colAnys, colAvgsPerRowSet, colCollapse,\n",
      "    colCounts, colCummaxs, colCummins, colCumprods, colCumsums,\n",
      "    colDiffs, colIQRDiffs, colIQRs, colLogSumExps, colMadDiffs,\n",
      "    colMads, colMaxs, colMeans2, colMedians, colMins, colOrderStats,\n",
      "    colProds, colQuantiles, colRanges, colRanks, colSdDiffs, colSds,\n",
      "    colSums2, colTabulates, colVarDiffs, colVars, colWeightedMads,\n",
      "    colWeightedMeans, colWeightedMedians, colWeightedSds,\n",
      "    colWeightedVars, rowAlls, rowAnyNAs, rowAnys, rowAvgsPerColSet,\n",
      "    rowCollapse, rowCounts, rowCummaxs, rowCummins, rowCumprods,\n",
      "    rowCumsums, rowDiffs, rowIQRDiffs, rowIQRs, rowLogSumExps,\n",
      "    rowMadDiffs, rowMads, rowMaxs, rowMeans2, rowMedians, rowMins,\n",
      "    rowOrderStats, rowProds, rowQuantiles, rowRanges, rowRanks,\n",
      "    rowSdDiffs, rowSds, rowSums2, rowTabulates, rowVarDiffs, rowVars,\n",
      "    rowWeightedMads, rowWeightedMeans, rowWeightedMedians,\n",
      "    rowWeightedSds, rowWeightedVars\n",
      "\n",
      "\n",
      "Loading required package: Biobase\n",
      "\n",
      "Welcome to Bioconductor\n",
      "\n",
      "    Vignettes contain introductory material; view with\n",
      "    'browseVignettes()'. To cite Bioconductor, see\n",
      "    'citation(\"Biobase\")', and for packages 'citation(\"pkgname\")'.\n",
      "\n",
      "\n",
      "\n",
      "Attaching package: ‘Biobase’\n",
      "\n",
      "\n",
      "The following object is masked from ‘package:MatrixGenerics’:\n",
      "\n",
      "    rowMedians\n",
      "\n",
      "\n",
      "The following objects are masked from ‘package:matrixStats’:\n",
      "\n",
      "    anyMissing, rowMedians\n",
      "\n",
      "\n",
      "\n",
      "Attaching package: ‘SummarizedExperiment’\n",
      "\n",
      "\n",
      "The following object is masked from ‘package:Seurat’:\n",
      "\n",
      "    Assays\n",
      "\n",
      "\n",
      "The following object is masked from ‘package:SeuratObject’:\n",
      "\n",
      "    Assays\n",
      "\n",
      "\n",
      "Warning message in checkDepPackageVersion(dep_pkg = \"TMB\"):\n",
      "“Package version inconsistency detected.\n",
      "glmmTMB was built with TMB version 1.9.6\n",
      "Current TMB version is 1.9.10\n",
      "Please re-install glmmTMB from source or restore original ‘TMB’ package (see '?reinstalling' for more information)”\n",
      "Registered S3 method overwritten by 'EnvStats':\n",
      "  method         from\n",
      "  print.estimate lava\n",
      "\n"
     ]
    }
   ],
   "source": [
    "source('MS0_Libraries.r')"
   ]
  },
  {
   "cell_type": "code",
   "execution_count": 3,
   "id": "a355afd6-a1ac-4669-a5c1-ad81ced24c8b",
   "metadata": {},
   "outputs": [],
   "source": [
    "source('MS1_Functions.r')"
   ]
  },
  {
   "cell_type": "code",
   "execution_count": 4,
   "id": "45fcc655-2176-406c-9f49-5e5b9379a275",
   "metadata": {
    "tags": []
   },
   "outputs": [
    {
     "name": "stderr",
     "output_type": "stream",
     "text": [
      "Warning message:\n",
      "“\u001b[1m\u001b[22mThe `size` argument of `element_line()` is deprecated as of ggplot2 3.4.0.\n",
      "\u001b[36mℹ\u001b[39m Please use the `linewidth` argument instead.”\n"
     ]
    }
   ],
   "source": [
    "source('MS2_Plot_Config.r')"
   ]
  },
  {
   "cell_type": "markdown",
   "id": "9d409d14-a693-4722-9648-4b6bacb4b74a",
   "metadata": {
    "tags": []
   },
   "source": [
    "###############################################\n",
    "# Preqrequisites Configurations & Parameters"
   ]
  },
  {
   "cell_type": "code",
   "execution_count": 5,
   "id": "0517f180-2869-43c5-a869-8fcca2ba5dc7",
   "metadata": {},
   "outputs": [
    {
     "name": "stderr",
     "output_type": "stream",
     "text": [
      "Warning message in read.table(file = file, header = header, sep = sep, quote = quote, :\n",
      "“incomplete final line found by readTableHeader on 'configurations/Global_Configs.csv'”\n"
     ]
    }
   ],
   "source": [
    "### Load configurations file\n",
    "global_configs = read.csv('configurations/Global_Configs.csv', sep = ',')"
   ]
  },
  {
   "cell_type": "code",
   "execution_count": 6,
   "id": "833a871f-f290-4134-a3ea-c82d0bd4fdf0",
   "metadata": {},
   "outputs": [
    {
     "data": {
      "text/html": [
       "<table class=\"dataframe\">\n",
       "<caption>A data.frame: 2 × 3</caption>\n",
       "<thead>\n",
       "\t<tr><th></th><th scope=col>parameter</th><th scope=col>parameter.1</th><th scope=col>value</th></tr>\n",
       "\t<tr><th></th><th scope=col>&lt;chr&gt;</th><th scope=col>&lt;chr&gt;</th><th scope=col>&lt;chr&gt;</th></tr>\n",
       "</thead>\n",
       "<tbody>\n",
       "\t<tr><th scope=row>1</th><td>data_path  </td><td>data_path  </td><td>../results/data/input_data/</td></tr>\n",
       "\t<tr><th scope=row>2</th><td>result_path</td><td>result_path</td><td>../results/data/results/   </td></tr>\n",
       "</tbody>\n",
       "</table>\n"
      ],
      "text/latex": [
       "A data.frame: 2 × 3\n",
       "\\begin{tabular}{r|lll}\n",
       "  & parameter & parameter.1 & value\\\\\n",
       "  & <chr> & <chr> & <chr>\\\\\n",
       "\\hline\n",
       "\t1 & data\\_path   & data\\_path   & ../results/data/input\\_data/\\\\\n",
       "\t2 & result\\_path & result\\_path & ../results/data/results/   \\\\\n",
       "\\end{tabular}\n"
      ],
      "text/markdown": [
       "\n",
       "A data.frame: 2 × 3\n",
       "\n",
       "| <!--/--> | parameter &lt;chr&gt; | parameter.1 &lt;chr&gt; | value &lt;chr&gt; |\n",
       "|---|---|---|---|\n",
       "| 1 | data_path   | data_path   | ../results/data/input_data/ |\n",
       "| 2 | result_path | result_path | ../results/data/results/    |\n",
       "\n"
      ],
      "text/plain": [
       "  parameter   parameter.1 value                      \n",
       "1 data_path   data_path   ../results/data/input_data/\n",
       "2 result_path result_path ../results/data/results/   "
      ]
     },
     "metadata": {},
     "output_type": "display_data"
    }
   ],
   "source": [
    "head(global_configs,2)"
   ]
  },
  {
   "cell_type": "code",
   "execution_count": 7,
   "id": "9db46558-bd65-4ab5-8c5a-b46c136150c1",
   "metadata": {},
   "outputs": [],
   "source": [
    "data_path = global_configs$value[global_configs$parameter == 'data_path']"
   ]
  },
  {
   "cell_type": "code",
   "execution_count": 8,
   "id": "7645ca4e-bdff-45ef-b624-3e67efece6d5",
   "metadata": {},
   "outputs": [
    {
     "data": {
      "text/html": [
       "'../results/data/input_data/'"
      ],
      "text/latex": [
       "'../results/data/input\\_data/'"
      ],
      "text/markdown": [
       "'../results/data/input_data/'"
      ],
      "text/plain": [
       "[1] \"../results/data/input_data/\""
      ]
     },
     "metadata": {},
     "output_type": "display_data"
    }
   ],
   "source": [
    "data_path"
   ]
  },
  {
   "cell_type": "code",
   "execution_count": 9,
   "id": "0230afa7-3bcf-4056-b077-74dbf37954b9",
   "metadata": {},
   "outputs": [],
   "source": [
    "result_path = global_configs$value[global_configs$parameter == 'result_path']"
   ]
  },
  {
   "cell_type": "code",
   "execution_count": 10,
   "id": "f69549c3-3b57-44d7-8d22-66968b90aa73",
   "metadata": {},
   "outputs": [
    {
     "data": {
      "text/html": [
       "'../results/data/results/'"
      ],
      "text/latex": [
       "'../results/data/results/'"
      ],
      "text/markdown": [
       "'../results/data/results/'"
      ],
      "text/plain": [
       "[1] \"../results/data/results/\""
      ]
     },
     "metadata": {},
     "output_type": "display_data"
    }
   ],
   "source": [
    "result_path"
   ]
  },
  {
   "cell_type": "code",
   "execution_count": 11,
   "id": "41ad9499-44ff-4747-914e-c02b9229024e",
   "metadata": {},
   "outputs": [],
   "source": [
    "## MOFA Model Configurations"
   ]
  },
  {
   "cell_type": "code",
   "execution_count": 12,
   "id": "f4e25172-b0a3-4ea4-85c5-32cd1d1b2e25",
   "metadata": {},
   "outputs": [
    {
     "name": "stderr",
     "output_type": "stream",
     "text": [
      "Warning message in read.table(file = file, header = header, sep = sep, quote = quote, :\n",
      "“incomplete final line found by readTableHeader on 'configurations/03_MOFA_Configs.csv'”\n"
     ]
    }
   ],
   "source": [
    "mofa_configs = read.csv( 'configurations/03_MOFA_Configs.csv', sep = ',')"
   ]
  },
  {
   "cell_type": "code",
   "execution_count": 13,
   "id": "6516474e-483a-4331-953e-cfd350ef734f",
   "metadata": {},
   "outputs": [
    {
     "data": {
      "text/html": [
       "<table class=\"dataframe\">\n",
       "<caption>A data.frame: 1 × 5</caption>\n",
       "<thead>\n",
       "\t<tr><th></th><th scope=col>configuration_name</th><th scope=col>mofa_result_name</th><th scope=col>amount_of_factors</th><th scope=col>weighting_of_views</th><th scope=col>scale_views</th></tr>\n",
       "\t<tr><th></th><th scope=col>&lt;chr&gt;</th><th scope=col>&lt;chr&gt;</th><th scope=col>&lt;int&gt;</th><th scope=col>&lt;lgl&gt;</th><th scope=col>&lt;lgl&gt;</th></tr>\n",
       "</thead>\n",
       "<tbody>\n",
       "\t<tr><th scope=row>1</th><td>config1</td><td>config1</td><td>20</td><td>FALSE</td><td>TRUE</td></tr>\n",
       "</tbody>\n",
       "</table>\n"
      ],
      "text/latex": [
       "A data.frame: 1 × 5\n",
       "\\begin{tabular}{r|lllll}\n",
       "  & configuration\\_name & mofa\\_result\\_name & amount\\_of\\_factors & weighting\\_of\\_views & scale\\_views\\\\\n",
       "  & <chr> & <chr> & <int> & <lgl> & <lgl>\\\\\n",
       "\\hline\n",
       "\t1 & config1 & config1 & 20 & FALSE & TRUE\\\\\n",
       "\\end{tabular}\n"
      ],
      "text/markdown": [
       "\n",
       "A data.frame: 1 × 5\n",
       "\n",
       "| <!--/--> | configuration_name &lt;chr&gt; | mofa_result_name &lt;chr&gt; | amount_of_factors &lt;int&gt; | weighting_of_views &lt;lgl&gt; | scale_views &lt;lgl&gt; |\n",
       "|---|---|---|---|---|---|\n",
       "| 1 | config1 | config1 | 20 | FALSE | TRUE |\n",
       "\n"
      ],
      "text/plain": [
       "  configuration_name mofa_result_name amount_of_factors weighting_of_views\n",
       "1 config1            config1          20                FALSE             \n",
       "  scale_views\n",
       "1 TRUE       "
      ]
     },
     "metadata": {},
     "output_type": "display_data"
    }
   ],
   "source": [
    "head(mofa_configs,2)"
   ]
  },
  {
   "cell_type": "markdown",
   "id": "43e2937f-4e6d-4e90-99f2-2f7c370f9639",
   "metadata": {
    "tags": []
   },
   "source": [
    "# Load Data "
   ]
  },
  {
   "cell_type": "markdown",
   "id": "d082fa98-ad4a-46ec-90e5-2da19dd6e84a",
   "metadata": {
    "tags": []
   },
   "source": [
    "## Prepared combined data"
   ]
  },
  {
   "cell_type": "code",
   "execution_count": 14,
   "id": "68265d8e-9ea1-4eeb-895b-03835400fd05",
   "metadata": {},
   "outputs": [],
   "source": [
    "input_data = list()"
   ]
  },
  {
   "cell_type": "code",
   "execution_count": 15,
   "id": "17a9bed4-c561-4cb6-ada9-5f70f42a1011",
   "metadata": {},
   "outputs": [
    {
     "name": "stdout",
     "output_type": "stream",
     "text": [
      "[1] \"../results/data/results//02_results/02_Combined_Data_config1_INTEGRATED.csv\"\n",
      "[1] \"2023-12-19 23:36:55 CET\"\n"
     ]
    }
   ],
   "source": [
    "for(i in 1:nrow(mofa_configs)){\n",
    "    path = paste0(result_path, '/02_results/02_Combined_Data_', mofa_configs$configuration_name[i] ,'_INTEGRATED.csv')\n",
    "    data_long = read.csv(path)\n",
    "    data_long$X = NULL\n",
    "    print(path)\n",
    "    print(file.info(path)$mtime)\n",
    "    input_data[[i]]= data_long\n",
    "    }"
   ]
  },
  {
   "cell_type": "code",
   "execution_count": 16,
   "id": "cbc8c38b-c6b9-4b21-98ec-81521fdf4425",
   "metadata": {},
   "outputs": [
    {
     "data": {
      "text/html": [
       "9625"
      ],
      "text/latex": [
       "9625"
      ],
      "text/markdown": [
       "9625"
      ],
      "text/plain": [
       "[1] 9625"
      ]
     },
     "metadata": {},
     "output_type": "display_data"
    }
   ],
   "source": [
    "length(unique(input_data[[1]]$variable))"
   ]
  },
  {
   "cell_type": "code",
   "execution_count": 17,
   "id": "11ac43e4-dfa8-4459-9d4b-335e90cc739b",
   "metadata": {},
   "outputs": [
    {
     "data": {
      "text/html": [
       "<style>\n",
       ".list-inline {list-style: none; margin:0; padding: 0}\n",
       ".list-inline>li {display: inline-block}\n",
       ".list-inline>li:not(:last-child)::after {content: \"\\00b7\"; padding: 0 .5ex}\n",
       "</style>\n",
       "<ol class=list-inline><li>'B.cell'</li><li>'CD14.Mono'</li><li>'CD16.Mono'</li><li>'CD4.CTL'</li><li>'CD4.Naive'</li><li>'CD4.TCM'</li><li>'CD4.TEM'</li><li>'CD8.Naive'</li><li>'CD8.TEM'</li><li>'cDC2'</li><li>'clinical'</li><li>'cytokine'</li><li>'gdT'</li><li>'neutrophil'</li><li>'NK'</li><li>'proteomic'</li><li>'Treg'</li></ol>\n"
      ],
      "text/latex": [
       "\\begin{enumerate*}\n",
       "\\item 'B.cell'\n",
       "\\item 'CD14.Mono'\n",
       "\\item 'CD16.Mono'\n",
       "\\item 'CD4.CTL'\n",
       "\\item 'CD4.Naive'\n",
       "\\item 'CD4.TCM'\n",
       "\\item 'CD4.TEM'\n",
       "\\item 'CD8.Naive'\n",
       "\\item 'CD8.TEM'\n",
       "\\item 'cDC2'\n",
       "\\item 'clinical'\n",
       "\\item 'cytokine'\n",
       "\\item 'gdT'\n",
       "\\item 'neutrophil'\n",
       "\\item 'NK'\n",
       "\\item 'proteomic'\n",
       "\\item 'Treg'\n",
       "\\end{enumerate*}\n"
      ],
      "text/markdown": [
       "1. 'B.cell'\n",
       "2. 'CD14.Mono'\n",
       "3. 'CD16.Mono'\n",
       "4. 'CD4.CTL'\n",
       "5. 'CD4.Naive'\n",
       "6. 'CD4.TCM'\n",
       "7. 'CD4.TEM'\n",
       "8. 'CD8.Naive'\n",
       "9. 'CD8.TEM'\n",
       "10. 'cDC2'\n",
       "11. 'clinical'\n",
       "12. 'cytokine'\n",
       "13. 'gdT'\n",
       "14. 'neutrophil'\n",
       "15. 'NK'\n",
       "16. 'proteomic'\n",
       "17. 'Treg'\n",
       "\n",
       "\n"
      ],
      "text/plain": [
       " [1] \"B.cell\"     \"CD14.Mono\"  \"CD16.Mono\"  \"CD4.CTL\"    \"CD4.Naive\" \n",
       " [6] \"CD4.TCM\"    \"CD4.TEM\"    \"CD8.Naive\"  \"CD8.TEM\"    \"cDC2\"      \n",
       "[11] \"clinical\"   \"cytokine\"   \"gdT\"        \"neutrophil\" \"NK\"        \n",
       "[16] \"proteomic\"  \"Treg\"      "
      ]
     },
     "metadata": {},
     "output_type": "display_data"
    }
   ],
   "source": [
    "unique(input_data[[1]]$type)"
   ]
  },
  {
   "cell_type": "code",
   "execution_count": 18,
   "id": "090791d5-0c56-4435-af6a-393554574a23",
   "metadata": {},
   "outputs": [
    {
     "data": {
      "text/html": [
       "128"
      ],
      "text/latex": [
       "128"
      ],
      "text/markdown": [
       "128"
      ],
      "text/plain": [
       "[1] 128"
      ]
     },
     "metadata": {},
     "output_type": "display_data"
    }
   ],
   "source": [
    "length(unique(input_data[[1]]$sample_id))"
   ]
  },
  {
   "cell_type": "markdown",
   "id": "e4a73e5e-bf99-4bc1-88d5-38036c8d61ce",
   "metadata": {
    "tags": []
   },
   "source": [
    "# Train MOFA Model"
   ]
  },
  {
   "cell_type": "markdown",
   "id": "6a5a1bca-fd9e-4d54-9821-00f89c9289ca",
   "metadata": {
    "tags": []
   },
   "source": [
    "## Prepare data list"
   ]
  },
  {
   "cell_type": "code",
   "execution_count": 19,
   "id": "a1be4e89-67b4-43bc-9dec-32ef6812966b",
   "metadata": {},
   "outputs": [],
   "source": [
    "### Adjust single-cell types to correspond to cell-types"
   ]
  },
  {
   "cell_type": "code",
   "execution_count": 20,
   "id": "ab15d009-6494-41d4-b740-5a374108cf15",
   "metadata": {},
   "outputs": [
    {
     "data": {
      "text/html": [
       "<table class=\"dataframe\">\n",
       "<caption>A data.frame: 2 × 5</caption>\n",
       "<thead>\n",
       "\t<tr><th></th><th scope=col>sample_id</th><th scope=col>variable</th><th scope=col>value</th><th scope=col>type</th><th scope=col>gene</th></tr>\n",
       "\t<tr><th></th><th scope=col>&lt;chr&gt;</th><th scope=col>&lt;chr&gt;</th><th scope=col>&lt;dbl&gt;</th><th scope=col>&lt;chr&gt;</th><th scope=col>&lt;chr&gt;</th></tr>\n",
       "</thead>\n",
       "<tbody>\n",
       "\t<tr><th scope=row>1</th><td>k10</td><td>B.cell__ACTB</td><td> 0.4307273</td><td>B.cell</td><td>ACTB</td></tr>\n",
       "\t<tr><th scope=row>2</th><td>k11</td><td>B.cell__ACTB</td><td>-0.7009514</td><td>B.cell</td><td>ACTB</td></tr>\n",
       "</tbody>\n",
       "</table>\n"
      ],
      "text/latex": [
       "A data.frame: 2 × 5\n",
       "\\begin{tabular}{r|lllll}\n",
       "  & sample\\_id & variable & value & type & gene\\\\\n",
       "  & <chr> & <chr> & <dbl> & <chr> & <chr>\\\\\n",
       "\\hline\n",
       "\t1 & k10 & B.cell\\_\\_ACTB &  0.4307273 & B.cell & ACTB\\\\\n",
       "\t2 & k11 & B.cell\\_\\_ACTB & -0.7009514 & B.cell & ACTB\\\\\n",
       "\\end{tabular}\n"
      ],
      "text/markdown": [
       "\n",
       "A data.frame: 2 × 5\n",
       "\n",
       "| <!--/--> | sample_id &lt;chr&gt; | variable &lt;chr&gt; | value &lt;dbl&gt; | type &lt;chr&gt; | gene &lt;chr&gt; |\n",
       "|---|---|---|---|---|---|\n",
       "| 1 | k10 | B.cell__ACTB |  0.4307273 | B.cell | ACTB |\n",
       "| 2 | k11 | B.cell__ACTB | -0.7009514 | B.cell | ACTB |\n",
       "\n"
      ],
      "text/plain": [
       "  sample_id variable     value      type   gene\n",
       "1 k10       B.cell__ACTB  0.4307273 B.cell ACTB\n",
       "2 k11       B.cell__ACTB -0.7009514 B.cell ACTB"
      ]
     },
     "metadata": {},
     "output_type": "display_data"
    }
   ],
   "source": [
    "head(input_data[[1]],2)"
   ]
  },
  {
   "cell_type": "code",
   "execution_count": null,
   "id": "527d7db1-62f5-41c4-b82f-fc79a3f6d6d1",
   "metadata": {},
   "outputs": [],
   "source": []
  },
  {
   "cell_type": "code",
   "execution_count": null,
   "id": "82e928fc-9f2b-4e9a-b92c-b6aded927097",
   "metadata": {},
   "outputs": [],
   "source": []
  },
  {
   "cell_type": "code",
   "execution_count": 21,
   "id": "c82c448b-4cb5-4790-bde2-0b473ff7d1a8",
   "metadata": {},
   "outputs": [],
   "source": [
    "### Prepare data list for MOFA"
   ]
  },
  {
   "cell_type": "code",
   "execution_count": 22,
   "id": "ed8c55fb-adbd-44f7-8104-9efde120ebac",
   "metadata": {},
   "outputs": [],
   "source": [
    "input_data_list = list()"
   ]
  },
  {
   "cell_type": "code",
   "execution_count": 23,
   "id": "c18bb406-5a7e-4a48-ba7d-c77d75add3dc",
   "metadata": {},
   "outputs": [],
   "source": [
    "data_list = list()"
   ]
  },
  {
   "cell_type": "code",
   "execution_count": 24,
   "id": "5d042439-7d41-42ab-84e7-d011b6feb4cc",
   "metadata": {
    "tags": []
   },
   "outputs": [],
   "source": [
    "input_data_list = lapply(input_data, function(x){\n",
    "\n",
    "    for(i in unique(x$type)){\n",
    "        samples = unique(x$sample_id) # necessary to have all samples in all dimensions\n",
    "        data = x[x$type == i, ]\n",
    "\n",
    "        data$type = NULL\n",
    "        data$cell_type = NULL\n",
    "\n",
    "        data = data %>% dcast(variable ~ sample_id, value  = \"value\")\n",
    "        rownames(data) = data$variable\n",
    "        colnames(data) = str_replace(colnames(data), 'value\\\\.', '')\n",
    "        data$variable = NULL\n",
    "\n",
    "        data[setdiff( samples, names(data))] = NA  # use all samples\n",
    "\n",
    "        data = data[,order(colnames(data))]\n",
    "        data = data[,colnames(data) %in% samples]\n",
    "\n",
    "        data_list[[i]] = as.matrix(data)\n",
    "        }\n",
    "    \n",
    "    return(data_list)\n",
    "    })"
   ]
  },
  {
   "cell_type": "code",
   "execution_count": 25,
   "id": "2ebe581f-dc33-442f-9a82-c118a1338053",
   "metadata": {},
   "outputs": [
    {
     "data": {
      "text/html": [
       "<table class=\"dataframe\">\n",
       "<caption>A matrix: 2 × 128 of type dbl</caption>\n",
       "<thead>\n",
       "\t<tr><th></th><th scope=col>k1</th><th scope=col>k10</th><th scope=col>k11</th><th scope=col>k12</th><th scope=col>k13</th><th scope=col>k14</th><th scope=col>k15</th><th scope=col>k16</th><th scope=col>k17</th><th scope=col>k18</th><th scope=col>⋯</th><th scope=col>m7.2</th><th scope=col>m7.3</th><th scope=col>m7.4</th><th scope=col>m8.1</th><th scope=col>m8.2</th><th scope=col>m8.3</th><th scope=col>m8.4</th><th scope=col>m9.1</th><th scope=col>m9.2</th><th scope=col>m9.3</th></tr>\n",
       "</thead>\n",
       "<tbody>\n",
       "\t<tr><th scope=row>B.cell__ACTB</th><td>NA</td><td>0.4307273</td><td>-0.7009514</td><td>0.1151410</td><td>-0.2858409</td><td> 0.6102946</td><td>0.3186394</td><td>-0.7977768</td><td>-0.09413741</td><td>-0.09413741</td><td>⋯</td><td>1.4696127</td><td>1.469613</td><td>-0.09413741</td><td>-1.469613</td><td>-1.001331</td><td> 0.984235</td><td>-0.4422154</td><td> 0.3186394</td><td>0.4307273</td><td>1.09162</td></tr>\n",
       "\t<tr><th scope=row>B.cell__ACTG1</th><td>NA</td><td>1.2815516</td><td>-0.2533471</td><td>0.0417893</td><td>-0.6614351</td><td>-1.0728613</td><td>0.2858409</td><td>-0.4079187</td><td> 0.40791874</td><td>-1.13033917</td><td>⋯</td><td>0.6876604</td><td>0.167894</td><td>-0.90273479</td><td>-1.605730</td><td>-0.512454</td><td>-1.731664</td><td>-1.9599640</td><td>-0.7143674</td><td>0.8717710</td><td>1.21334</td></tr>\n",
       "</tbody>\n",
       "</table>\n"
      ],
      "text/latex": [
       "A matrix: 2 × 128 of type dbl\n",
       "\\begin{tabular}{r|lllllllllllllllllllll}\n",
       "  & k1 & k10 & k11 & k12 & k13 & k14 & k15 & k16 & k17 & k18 & ⋯ & m7.2 & m7.3 & m7.4 & m8.1 & m8.2 & m8.3 & m8.4 & m9.1 & m9.2 & m9.3\\\\\n",
       "\\hline\n",
       "\tB.cell\\_\\_ACTB & NA & 0.4307273 & -0.7009514 & 0.1151410 & -0.2858409 &  0.6102946 & 0.3186394 & -0.7977768 & -0.09413741 & -0.09413741 & ⋯ & 1.4696127 & 1.469613 & -0.09413741 & -1.469613 & -1.001331 &  0.984235 & -0.4422154 &  0.3186394 & 0.4307273 & 1.09162\\\\\n",
       "\tB.cell\\_\\_ACTG1 & NA & 1.2815516 & -0.2533471 & 0.0417893 & -0.6614351 & -1.0728613 & 0.2858409 & -0.4079187 &  0.40791874 & -1.13033917 & ⋯ & 0.6876604 & 0.167894 & -0.90273479 & -1.605730 & -0.512454 & -1.731664 & -1.9599640 & -0.7143674 & 0.8717710 & 1.21334\\\\\n",
       "\\end{tabular}\n"
      ],
      "text/markdown": [
       "\n",
       "A matrix: 2 × 128 of type dbl\n",
       "\n",
       "| <!--/--> | k1 | k10 | k11 | k12 | k13 | k14 | k15 | k16 | k17 | k18 | ⋯ | m7.2 | m7.3 | m7.4 | m8.1 | m8.2 | m8.3 | m8.4 | m9.1 | m9.2 | m9.3 |\n",
       "|---|---|---|---|---|---|---|---|---|---|---|---|---|---|---|---|---|---|---|---|---|---|\n",
       "| B.cell__ACTB | NA | 0.4307273 | -0.7009514 | 0.1151410 | -0.2858409 |  0.6102946 | 0.3186394 | -0.7977768 | -0.09413741 | -0.09413741 | ⋯ | 1.4696127 | 1.469613 | -0.09413741 | -1.469613 | -1.001331 |  0.984235 | -0.4422154 |  0.3186394 | 0.4307273 | 1.09162 |\n",
       "| B.cell__ACTG1 | NA | 1.2815516 | -0.2533471 | 0.0417893 | -0.6614351 | -1.0728613 | 0.2858409 | -0.4079187 |  0.40791874 | -1.13033917 | ⋯ | 0.6876604 | 0.167894 | -0.90273479 | -1.605730 | -0.512454 | -1.731664 | -1.9599640 | -0.7143674 | 0.8717710 | 1.21334 |\n",
       "\n"
      ],
      "text/plain": [
       "              k1 k10       k11        k12       k13        k14        k15      \n",
       "B.cell__ACTB  NA 0.4307273 -0.7009514 0.1151410 -0.2858409  0.6102946 0.3186394\n",
       "B.cell__ACTG1 NA 1.2815516 -0.2533471 0.0417893 -0.6614351 -1.0728613 0.2858409\n",
       "              k16        k17         k18         ⋯ m7.2      m7.3    \n",
       "B.cell__ACTB  -0.7977768 -0.09413741 -0.09413741 ⋯ 1.4696127 1.469613\n",
       "B.cell__ACTG1 -0.4079187  0.40791874 -1.13033917 ⋯ 0.6876604 0.167894\n",
       "              m7.4        m8.1      m8.2      m8.3      m8.4       m9.1      \n",
       "B.cell__ACTB  -0.09413741 -1.469613 -1.001331  0.984235 -0.4422154  0.3186394\n",
       "B.cell__ACTG1 -0.90273479 -1.605730 -0.512454 -1.731664 -1.9599640 -0.7143674\n",
       "              m9.2      m9.3   \n",
       "B.cell__ACTB  0.4307273 1.09162\n",
       "B.cell__ACTG1 0.8717710 1.21334"
      ]
     },
     "metadata": {},
     "output_type": "display_data"
    }
   ],
   "source": [
    "head(input_data_list[[1]][[1]],2)"
   ]
  },
  {
   "cell_type": "code",
   "execution_count": 26,
   "id": "6dcc7226-e6fb-4bcc-a392-b06e0aa2210e",
   "metadata": {},
   "outputs": [],
   "source": [
    "#str(input_data_list)"
   ]
  },
  {
   "cell_type": "markdown",
   "id": "c66ad1ca-77a9-4bbe-9a19-d29b6f79b03d",
   "metadata": {
    "tags": []
   },
   "source": [
    "## Create MOFA object"
   ]
  },
  {
   "cell_type": "code",
   "execution_count": 27,
   "id": "4d9d78d4-613e-4f70-856f-3ce283280975",
   "metadata": {},
   "outputs": [
    {
     "data": {
      "text/html": [
       "<style>\n",
       ".list-inline {list-style: none; margin:0; padding: 0}\n",
       ".list-inline>li {display: inline-block}\n",
       ".list-inline>li:not(:last-child)::after {content: \"\\00b7\"; padding: 0 .5ex}\n",
       "</style>\n",
       "<ol class=list-inline><li>'B.cell'</li><li>'CD14.Mono'</li><li>'CD16.Mono'</li><li>'CD4.CTL'</li><li>'CD4.Naive'</li><li>'CD4.TCM'</li><li>'CD4.TEM'</li><li>'CD8.Naive'</li><li>'CD8.TEM'</li><li>'cDC2'</li><li>'clinical'</li><li>'cytokine'</li><li>'gdT'</li><li>'neutrophil'</li><li>'NK'</li><li>'proteomic'</li><li>'Treg'</li></ol>\n"
      ],
      "text/latex": [
       "\\begin{enumerate*}\n",
       "\\item 'B.cell'\n",
       "\\item 'CD14.Mono'\n",
       "\\item 'CD16.Mono'\n",
       "\\item 'CD4.CTL'\n",
       "\\item 'CD4.Naive'\n",
       "\\item 'CD4.TCM'\n",
       "\\item 'CD4.TEM'\n",
       "\\item 'CD8.Naive'\n",
       "\\item 'CD8.TEM'\n",
       "\\item 'cDC2'\n",
       "\\item 'clinical'\n",
       "\\item 'cytokine'\n",
       "\\item 'gdT'\n",
       "\\item 'neutrophil'\n",
       "\\item 'NK'\n",
       "\\item 'proteomic'\n",
       "\\item 'Treg'\n",
       "\\end{enumerate*}\n"
      ],
      "text/markdown": [
       "1. 'B.cell'\n",
       "2. 'CD14.Mono'\n",
       "3. 'CD16.Mono'\n",
       "4. 'CD4.CTL'\n",
       "5. 'CD4.Naive'\n",
       "6. 'CD4.TCM'\n",
       "7. 'CD4.TEM'\n",
       "8. 'CD8.Naive'\n",
       "9. 'CD8.TEM'\n",
       "10. 'cDC2'\n",
       "11. 'clinical'\n",
       "12. 'cytokine'\n",
       "13. 'gdT'\n",
       "14. 'neutrophil'\n",
       "15. 'NK'\n",
       "16. 'proteomic'\n",
       "17. 'Treg'\n",
       "\n",
       "\n"
      ],
      "text/plain": [
       " [1] \"B.cell\"     \"CD14.Mono\"  \"CD16.Mono\"  \"CD4.CTL\"    \"CD4.Naive\" \n",
       " [6] \"CD4.TCM\"    \"CD4.TEM\"    \"CD8.Naive\"  \"CD8.TEM\"    \"cDC2\"      \n",
       "[11] \"clinical\"   \"cytokine\"   \"gdT\"        \"neutrophil\" \"NK\"        \n",
       "[16] \"proteomic\"  \"Treg\"      "
      ]
     },
     "metadata": {},
     "output_type": "display_data"
    }
   ],
   "source": [
    "names(input_data_list[[1]])"
   ]
  },
  {
   "cell_type": "code",
   "execution_count": 28,
   "id": "23ac8014-c111-48d7-acaf-fb4ee6516a46",
   "metadata": {},
   "outputs": [
    {
     "name": "stderr",
     "output_type": "stream",
     "text": [
      "Creating MOFA object from a list of matrices (features as rows, sample as columns)...\n",
      "\n",
      "\n"
     ]
    }
   ],
   "source": [
    "mofa_object = lapply(input_data_list, function(x){\n",
    "    MOFAobject = create_mofa(x)\n",
    "    }\n",
    "                     )"
   ]
  },
  {
   "cell_type": "code",
   "execution_count": 29,
   "id": "6e519e8f-f8a1-471d-b431-8c0876040173",
   "metadata": {},
   "outputs": [],
   "source": [
    "### Plot Data Overview"
   ]
  },
  {
   "cell_type": "code",
   "execution_count": 30,
   "id": "fb111060-0f4f-475d-831c-55ba5fc46aef",
   "metadata": {},
   "outputs": [],
   "source": [
    "# Specific Text Descriptions:\n",
    "xlabel = xlab('Samples') \n",
    "ylabel = ylab('View')"
   ]
  },
  {
   "cell_type": "code",
   "execution_count": 31,
   "id": "71ea18e8-5ae0-497d-add7-0937b310de51",
   "metadata": {},
   "outputs": [],
   "source": [
    "# Sizes of the plot\n",
    "width_par = 5\n",
    "height_par =5"
   ]
  },
  {
   "cell_type": "code",
   "execution_count": 32,
   "id": "d585eef7-6d34-486f-9b29-786a1ef8e3fa",
   "metadata": {},
   "outputs": [],
   "source": [
    "options(repr.plot.width=30, repr.plot.height=10)\n",
    "\n",
    "mofa_overview = lapply(mofa_object, function(x){\n",
    "    mofa_overview = plot_data_overview(x)\n",
    "    mofa_overview = mofa_overview + plot_config + theme(axis.text.y = element_text(hjust = 0, vjust = 0.5)) +\n",
    "                xlabel + ylabel + theme(axis.text.x = element_blank())\n",
    "    })"
   ]
  },
  {
   "cell_type": "code",
   "execution_count": 33,
   "id": "40a7cf8f-2081-4cea-8a49-249212581a85",
   "metadata": {},
   "outputs": [],
   "source": [
    "#mofa_overview[[1]]"
   ]
  },
  {
   "cell_type": "code",
   "execution_count": 34,
   "id": "fdf414d1-6dee-4931-987a-e5ed2a77b66c",
   "metadata": {},
   "outputs": [],
   "source": [
    "# Extract data -type colors\n",
    "type_colors = list()\n",
    "for(i in 1:length(mofa_overview)){\n",
    "    color_extraction =  ggplot_build(mofa_overview[[i]])\n",
    "    type_colors[[i]] = unique(color_extraction$data[[1]][\"fill\"][,1])\n",
    "    type_colors[[i]] = type_colors[[i]][!type_colors[[i]] == 'grey']\n",
    "    }\n",
    "    "
   ]
  },
  {
   "cell_type": "code",
   "execution_count": 35,
   "id": "d8f216b8-834c-4392-aa6d-b587f068a6c2",
   "metadata": {},
   "outputs": [
    {
     "data": {
      "text/html": [
       "<ol>\n",
       "\t<li><style>\n",
       ".list-inline {list-style: none; margin:0; padding: 0}\n",
       ".list-inline>li {display: inline-block}\n",
       ".list-inline>li:not(:last-child)::after {content: \"\\00b7\"; padding: 0 .5ex}\n",
       "</style>\n",
       "<ol class=list-inline><li>'#FF7F50'</li><li>'#D95F02'</li><li>'#377EB8'</li><li>'#E6AB02'</li><li>'#31A354'</li><li>'#7570B3'</li><li>'#E7298A'</li><li>'#66A61E'</li><li>'#A6761D'</li><li>'#666666'</li><li>'#E41A1C'</li><li>'#4DAF4A'</li><li>'#984EA3'</li><li>'#FF7F00'</li><li>'#FFFF33'</li><li>'#A65628'</li><li>'#F781BF'</li></ol>\n",
       "</li>\n",
       "</ol>\n"
      ],
      "text/latex": [
       "\\begin{enumerate}\n",
       "\\item \\begin{enumerate*}\n",
       "\\item '\\#FF7F50'\n",
       "\\item '\\#D95F02'\n",
       "\\item '\\#377EB8'\n",
       "\\item '\\#E6AB02'\n",
       "\\item '\\#31A354'\n",
       "\\item '\\#7570B3'\n",
       "\\item '\\#E7298A'\n",
       "\\item '\\#66A61E'\n",
       "\\item '\\#A6761D'\n",
       "\\item '\\#666666'\n",
       "\\item '\\#E41A1C'\n",
       "\\item '\\#4DAF4A'\n",
       "\\item '\\#984EA3'\n",
       "\\item '\\#FF7F00'\n",
       "\\item '\\#FFFF33'\n",
       "\\item '\\#A65628'\n",
       "\\item '\\#F781BF'\n",
       "\\end{enumerate*}\n",
       "\n",
       "\\end{enumerate}\n"
      ],
      "text/markdown": [
       "1. 1. '#FF7F50'\n",
       "2. '#D95F02'\n",
       "3. '#377EB8'\n",
       "4. '#E6AB02'\n",
       "5. '#31A354'\n",
       "6. '#7570B3'\n",
       "7. '#E7298A'\n",
       "8. '#66A61E'\n",
       "9. '#A6761D'\n",
       "10. '#666666'\n",
       "11. '#E41A1C'\n",
       "12. '#4DAF4A'\n",
       "13. '#984EA3'\n",
       "14. '#FF7F00'\n",
       "15. '#FFFF33'\n",
       "16. '#A65628'\n",
       "17. '#F781BF'\n",
       "\n",
       "\n",
       "\n",
       "\n",
       "\n"
      ],
      "text/plain": [
       "[[1]]\n",
       " [1] \"#FF7F50\" \"#D95F02\" \"#377EB8\" \"#E6AB02\" \"#31A354\" \"#7570B3\" \"#E7298A\"\n",
       " [8] \"#66A61E\" \"#A6761D\" \"#666666\" \"#E41A1C\" \"#4DAF4A\" \"#984EA3\" \"#FF7F00\"\n",
       "[15] \"#FFFF33\" \"#A65628\" \"#F781BF\"\n"
      ]
     },
     "metadata": {},
     "output_type": "display_data"
    }
   ],
   "source": [
    "type_colors"
   ]
  },
  {
   "cell_type": "code",
   "execution_count": 36,
   "id": "a19c1cdb-c719-4238-9eae-f980fe9ffbfc",
   "metadata": {},
   "outputs": [],
   "source": [
    "figure_name = \"FIG03_Overview_MOFA_Input_\""
   ]
  },
  {
   "cell_type": "code",
   "execution_count": 37,
   "id": "727fd3ab-a205-44e1-95c9-f3f529d3782c",
   "metadata": {},
   "outputs": [],
   "source": [
    "\n",
    "for(i in 1:length(mofa_overview)){\n",
    "    pdf(paste0('figures/03_figures/', figure_name, mofa_configs$mofa_result[i],  '.pdf'), width =width_par, height =height_par)\n",
    "    print(mofa_overview[[i]] )\n",
    "    dev.off()\n",
    "    }"
   ]
  },
  {
   "cell_type": "markdown",
   "id": "7b948109-3903-4b4f-a727-80471943e04c",
   "metadata": {
    "tags": []
   },
   "source": [
    "## Set MOFA Training Options and run the Model Training"
   ]
  },
  {
   "cell_type": "code",
   "execution_count": 38,
   "id": "c8a0b517-0817-4c97-800b-3097723e7fea",
   "metadata": {},
   "outputs": [],
   "source": [
    "model_result = list()"
   ]
  },
  {
   "cell_type": "code",
   "execution_count": 39,
   "id": "28097f2a-8929-48a5-899e-adb09a6eee96",
   "metadata": {},
   "outputs": [
    {
     "name": "stdout",
     "output_type": "stream",
     "text": [
      "$scale_views\n",
      "[1] TRUE\n",
      "\n",
      "$scale_groups\n",
      "[1] FALSE\n",
      "\n",
      "$center_groups\n",
      "[1] TRUE\n",
      "\n",
      "$use_float32\n",
      "[1] TRUE\n",
      "\n",
      "$views\n",
      " [1] \"B.cell\"     \"CD14.Mono\"  \"CD16.Mono\"  \"CD4.CTL\"    \"CD4.Naive\" \n",
      " [6] \"CD4.TCM\"    \"CD4.TEM\"    \"CD8.Naive\"  \"CD8.TEM\"    \"cDC2\"      \n",
      "[11] \"clinical\"   \"cytokine\"   \"gdT\"        \"neutrophil\" \"NK\"        \n",
      "[16] \"proteomic\"  \"Treg\"      \n",
      "\n",
      "$groups\n",
      "[1] \"group1\"\n",
      "\n",
      "$likelihoods\n",
      "    B.cell  CD14.Mono  CD16.Mono    CD4.CTL  CD4.Naive    CD4.TCM    CD4.TEM \n",
      "\"gaussian\" \"gaussian\" \"gaussian\" \"gaussian\" \"gaussian\" \"gaussian\" \"gaussian\" \n",
      " CD8.Naive    CD8.TEM       cDC2   clinical   cytokine        gdT neutrophil \n",
      "\"gaussian\" \"gaussian\" \"gaussian\" \"gaussian\" \"gaussian\" \"gaussian\" \"gaussian\" \n",
      "        NK  proteomic       Treg \n",
      "\"gaussian\" \"gaussian\" \"gaussian\" \n",
      "\n",
      "$num_factors\n",
      "[1] 20\n",
      "\n",
      "$spikeslab_factors\n",
      "[1] FALSE\n",
      "\n",
      "$spikeslab_weights\n",
      "[1] FALSE\n",
      "\n",
      "$ard_factors\n",
      "[1] FALSE\n",
      "\n",
      "$ard_weights\n",
      "[1] TRUE\n",
      "\n",
      "$maxiter\n",
      "[1] 50000\n",
      "\n",
      "$convergence_mode\n",
      "[1] \"fast\"\n",
      "\n",
      "$drop_factor_threshold\n",
      "[1] -1\n",
      "\n",
      "$verbose\n",
      "[1] TRUE\n",
      "\n",
      "$startELBO\n",
      "[1] 1\n",
      "\n",
      "$freqELBO\n",
      "[1] 5\n",
      "\n",
      "$stochastic\n",
      "[1] FALSE\n",
      "\n",
      "$gpu_mode\n",
      "[1] FALSE\n",
      "\n",
      "$gpu_device\n",
      "NULL\n",
      "\n",
      "$seed\n",
      "[1] 42\n",
      "\n",
      "$outfile\n",
      "NULL\n",
      "\n",
      "$weight_views\n",
      "[1] FALSE\n",
      "\n",
      "$save_interrupted\n",
      "[1] FALSE\n",
      "\n"
     ]
    },
    {
     "name": "stderr",
     "output_type": "stream",
     "text": [
      "Warning message in prepare_mofa(object = mofa_object[[i]], data_options = data_opts, :\n",
      "“Some view(s) have less than 15 features, MOFA will have little power to to learn meaningful factors for these view(s)....”\n",
      "Checking data options...\n",
      "\n",
      "Checking training options...\n",
      "\n",
      "Checking model options...\n",
      "\n"
     ]
    },
    {
     "name": "stdout",
     "output_type": "stream",
     "text": [
      "[1] \"../results/data/results//03_results/03_MOFA_MODEL_config1.hdf5\"\n"
     ]
    },
    {
     "name": "stderr",
     "output_type": "stream",
     "text": [
      "Warning: Output file ../results/data/results//03_results/03_MOFA_MODEL_config1.hdf5 already exists, it will be replaced\n",
      "\n",
      "Connecting to the mofapy2 python package using reticulate (use_basilisk = FALSE)... \n",
      "    Please make sure to manually specify the right python binary when loading R with reticulate::use_python(..., force=TRUE) or the right conda environment with reticulate::use_condaenv(..., force=TRUE)\n",
      "    If you prefer to let us automatically install a conda environment with 'mofapy2' installed using the 'basilisk' package, please use the argument 'use_basilisk = TRUE'\n",
      "\n",
      "\n",
      "Warning message in .quality_control(object, verbose = verbose):\n",
      "“Factor(s) 5, 9, 10, 20 are strongly correlated with the total number of expressed features for at least one of your omics. Such factors appear when there are differences in the total 'levels' between your samples, *sometimes* because of poor normalisation in the preprocessing steps.\n",
      "”\n"
     ]
    }
   ],
   "source": [
    "for(i in 1:length(mofa_object)){\n",
    "    \n",
    "    ## Set other parameters of MOFA Model\n",
    "    mefisto_opts = get_default_mefisto_options(mofa_object[[i]])\n",
    "    \n",
    "    data_opts = get_default_data_options(mofa_object[[i]])\n",
    "    data_opts$scale_views = mofa_configs$scale_views[i] # decide whether to scale the data\n",
    "    print(data_opts)\n",
    "    \n",
    "    model_opts = get_default_model_options(mofa_object[[i]])\n",
    "    model_opts$num_factors = mofa_configs$amount_of_factors[i] # define number of factors\n",
    "    print(model_opts)\n",
    "    \n",
    "    train_opts  = get_default_training_options(mofa_object[[i]])\n",
    "    train_opts$maxiter = 50000\n",
    "    train_opts$verbose = TRUE\n",
    "    train_opts$seed = 42\n",
    "    train_opts$weight_views = mofa_configs$weighting_of_views[i]\n",
    "    print(train_opts)\n",
    "    \n",
    "    ## Build and train the model\n",
    "    MOFAobject = prepare_mofa(\n",
    "      object = mofa_object[[i]],\n",
    "      data_options = data_opts,\n",
    "      model_options = model_opts,\n",
    "      mefisto_options = mefisto_opts,\n",
    "      training_options = train_opts #,\n",
    "      #stochastic_options = stoch_options\n",
    "    )\n",
    "    \n",
    "    model_name = paste0(\"03_MOFA_MODEL_\", mofa_configs$mofa_result[i], '.hdf5')\n",
    "    outfile = file.path( paste0(result_path, '/03_results/',  model_name) )\n",
    "    print(outfile)\n",
    "    MOFAobject.trained = run_mofa(MOFAobject, outfile, use_basilisk = FALSE)\n",
    "    \n",
    "\n",
    "    model_result[[i]] = MOFAobject.trained\n",
    "    \n",
    "    }\n",
    "    "
   ]
  },
  {
   "cell_type": "code",
   "execution_count": 40,
   "id": "6536b2f6-91f9-4fcd-9877-ca04dad5b8e8",
   "metadata": {},
   "outputs": [],
   "source": [
    "#str(model_result)"
   ]
  },
  {
   "cell_type": "markdown",
   "id": "bf21d4d7-100a-47b0-94b5-96756de5cd1b",
   "metadata": {
    "tags": []
   },
   "source": [
    "# Extract and prepare data for plots"
   ]
  },
  {
   "cell_type": "markdown",
   "id": "34ff7783-b316-4619-af11-4ba9fee16811",
   "metadata": {
    "tags": []
   },
   "source": [
    "## Extract Variance decomposition"
   ]
  },
  {
   "cell_type": "code",
   "execution_count": 41,
   "id": "17bbea0a-f84b-48a1-8ce4-bfb003ed57bb",
   "metadata": {
    "tags": []
   },
   "outputs": [],
   "source": [
    "# Total variance explained per view and factor"
   ]
  },
  {
   "cell_type": "code",
   "execution_count": 42,
   "id": "3fd35f19-4ed7-4a46-bed8-01c106c4f220",
   "metadata": {},
   "outputs": [
    {
     "data": {
      "text/html": [
       "<strong>$group1</strong> = <style>\n",
       ".dl-inline {width: auto; margin:0; padding: 0}\n",
       ".dl-inline>dt, .dl-inline>dd {float: none; width: auto; display: inline-block}\n",
       ".dl-inline>dt::after {content: \":\\0020\"; padding-right: .5ex}\n",
       ".dl-inline>dt:not(:first-of-type) {padding-left: .5ex}\n",
       "</style><dl class=dl-inline><dt>B.cell</dt><dd>36.9521200656891</dd><dt>CD14.Mono</dt><dd>59.5670163631439</dd><dt>CD16.Mono</dt><dd>36.5645051002502</dd><dt>CD4.CTL</dt><dd>38.8011038303375</dd><dt>CD4.Naive</dt><dd>28.7756323814392</dd><dt>CD4.TCM</dt><dd>60.3370815515518</dd><dt>CD4.TEM</dt><dd>33.9947044849396</dd><dt>CD8.Naive</dt><dd>20.9121525287628</dd><dt>CD8.TEM</dt><dd>39.6551728248596</dd><dt>cDC2</dt><dd>27.7436435222626</dd><dt>clinical</dt><dd>62.3530447483063</dd><dt>cytokine</dt><dd>22.3122954368591</dd><dt>gdT</dt><dd>49.8912215232849</dd><dt>neutrophil</dt><dd>16.0194873809814</dd><dt>NK</dt><dd>42.1231210231781</dd><dt>proteomic</dt><dd>13.7446701526642</dd><dt>Treg</dt><dd>31.4204573631287</dd></dl>\n"
      ],
      "text/latex": [
       "\\textbf{\\$group1} = \\begin{description*}\n",
       "\\item[B.cell] 36.9521200656891\n",
       "\\item[CD14.Mono] 59.5670163631439\n",
       "\\item[CD16.Mono] 36.5645051002502\n",
       "\\item[CD4.CTL] 38.8011038303375\n",
       "\\item[CD4.Naive] 28.7756323814392\n",
       "\\item[CD4.TCM] 60.3370815515518\n",
       "\\item[CD4.TEM] 33.9947044849396\n",
       "\\item[CD8.Naive] 20.9121525287628\n",
       "\\item[CD8.TEM] 39.6551728248596\n",
       "\\item[cDC2] 27.7436435222626\n",
       "\\item[clinical] 62.3530447483063\n",
       "\\item[cytokine] 22.3122954368591\n",
       "\\item[gdT] 49.8912215232849\n",
       "\\item[neutrophil] 16.0194873809814\n",
       "\\item[NK] 42.1231210231781\n",
       "\\item[proteomic] 13.7446701526642\n",
       "\\item[Treg] 31.4204573631287\n",
       "\\end{description*}\n"
      ],
      "text/markdown": [
       "**$group1** = B.cell\n",
       ":   36.9521200656891CD14.Mono\n",
       ":   59.5670163631439CD16.Mono\n",
       ":   36.5645051002502CD4.CTL\n",
       ":   38.8011038303375CD4.Naive\n",
       ":   28.7756323814392CD4.TCM\n",
       ":   60.3370815515518CD4.TEM\n",
       ":   33.9947044849396CD8.Naive\n",
       ":   20.9121525287628CD8.TEM\n",
       ":   39.6551728248596cDC2\n",
       ":   27.7436435222626clinical\n",
       ":   62.3530447483063cytokine\n",
       ":   22.3122954368591gdT\n",
       ":   49.8912215232849neutrophil\n",
       ":   16.0194873809814NK\n",
       ":   42.1231210231781proteomic\n",
       ":   13.7446701526642Treg\n",
       ":   31.4204573631287\n",
       "\n"
      ],
      "text/plain": [
       "$group1\n",
       "    B.cell  CD14.Mono  CD16.Mono    CD4.CTL  CD4.Naive    CD4.TCM    CD4.TEM \n",
       "  36.95212   59.56702   36.56451   38.80110   28.77563   60.33708   33.99470 \n",
       " CD8.Naive    CD8.TEM       cDC2   clinical   cytokine        gdT neutrophil \n",
       "  20.91215   39.65517   27.74364   62.35304   22.31230   49.89122   16.01949 \n",
       "        NK  proteomic       Treg \n",
       "  42.12312   13.74467   31.42046 \n"
      ]
     },
     "metadata": {},
     "output_type": "display_data"
    }
   ],
   "source": [
    "model_result[[1]]@cache[[\"variance_explained\"]]$r2_total  # per view"
   ]
  },
  {
   "cell_type": "code",
   "execution_count": 43,
   "id": "cde9bd4a-0ba2-4b30-b5a0-d83a434aa78f",
   "metadata": {
    "tags": []
   },
   "outputs": [
    {
     "data": {
      "text/html": [
       "<style>\n",
       ".dl-inline {width: auto; margin:0; padding: 0}\n",
       ".dl-inline>dt, .dl-inline>dd {float: none; width: auto; display: inline-block}\n",
       ".dl-inline>dt::after {content: \":\\0020\"; padding-right: .5ex}\n",
       ".dl-inline>dt:not(:first-of-type) {padding-left: .5ex}\n",
       "</style><dl class=dl-inline><dt>Factor1</dt><dd>5.63834730316611</dd><dt>Factor2</dt><dd>4.98918470214395</dd><dt>Factor3</dt><dd>3.33298304501702</dd><dt>Factor4</dt><dd>2.58538968422834</dd><dt>Factor5</dt><dd>2.48586640638464</dd><dt>Factor6</dt><dd>2.03268002061283</dd><dt>Factor7</dt><dd>1.67683853822596</dd><dt>Factor8</dt><dd>1.55366869533763</dd><dt>Factor9</dt><dd>1.49206554188448</dd><dt>Factor10</dt><dd>1.43274174017065</dd><dt>Factor11</dt><dd>1.42600922023549</dd><dt>Factor12</dt><dd>1.38387890423045</dd><dt>Factor13</dt><dd>1.20313763618469</dd><dt>Factor14</dt><dd>1.01856694501989</dd><dt>Factor15</dt><dd>0.938382569481345</dd><dt>Factor16</dt><dd>0.936887544744155</dd><dt>Factor17</dt><dd>0.82696746377384</dd><dt>Factor18</dt><dd>0.794042909846586</dd><dt>Factor19</dt><dd>0.782612842672011</dd><dt>Factor20</dt><dd>0.768751256606158</dd></dl>\n"
      ],
      "text/latex": [
       "\\begin{description*}\n",
       "\\item[Factor1] 5.63834730316611\n",
       "\\item[Factor2] 4.98918470214395\n",
       "\\item[Factor3] 3.33298304501702\n",
       "\\item[Factor4] 2.58538968422834\n",
       "\\item[Factor5] 2.48586640638464\n",
       "\\item[Factor6] 2.03268002061283\n",
       "\\item[Factor7] 1.67683853822596\n",
       "\\item[Factor8] 1.55366869533763\n",
       "\\item[Factor9] 1.49206554188448\n",
       "\\item[Factor10] 1.43274174017065\n",
       "\\item[Factor11] 1.42600922023549\n",
       "\\item[Factor12] 1.38387890423045\n",
       "\\item[Factor13] 1.20313763618469\n",
       "\\item[Factor14] 1.01856694501989\n",
       "\\item[Factor15] 0.938382569481345\n",
       "\\item[Factor16] 0.936887544744155\n",
       "\\item[Factor17] 0.82696746377384\n",
       "\\item[Factor18] 0.794042909846586\n",
       "\\item[Factor19] 0.782612842672011\n",
       "\\item[Factor20] 0.768751256606158\n",
       "\\end{description*}\n"
      ],
      "text/markdown": [
       "Factor1\n",
       ":   5.63834730316611Factor2\n",
       ":   4.98918470214395Factor3\n",
       ":   3.33298304501702Factor4\n",
       ":   2.58538968422834Factor5\n",
       ":   2.48586640638464Factor6\n",
       ":   2.03268002061283Factor7\n",
       ":   1.67683853822596Factor8\n",
       ":   1.55366869533763Factor9\n",
       ":   1.49206554188448Factor10\n",
       ":   1.43274174017065Factor11\n",
       ":   1.42600922023549Factor12\n",
       ":   1.38387890423045Factor13\n",
       ":   1.20313763618469Factor14\n",
       ":   1.01856694501989Factor15\n",
       ":   0.938382569481345Factor16\n",
       ":   0.936887544744155Factor17\n",
       ":   0.82696746377384Factor18\n",
       ":   0.794042909846586Factor19\n",
       ":   0.782612842672011Factor20\n",
       ":   0.768751256606158\n",
       "\n"
      ],
      "text/plain": [
       "  Factor1   Factor2   Factor3   Factor4   Factor5   Factor6   Factor7   Factor8 \n",
       "5.6383473 4.9891847 3.3329830 2.5853897 2.4858664 2.0326800 1.6768385 1.5536687 \n",
       "  Factor9  Factor10  Factor11  Factor12  Factor13  Factor14  Factor15  Factor16 \n",
       "1.4920655 1.4327417 1.4260092 1.3838789 1.2031376 1.0185669 0.9383826 0.9368875 \n",
       " Factor17  Factor18  Factor19  Factor20 \n",
       "0.8269675 0.7940429 0.7826128 0.7687513 "
      ]
     },
     "metadata": {},
     "output_type": "display_data"
    }
   ],
   "source": [
    "rowMeans(model_result[[1]]@cache$variance_explained$r2_per_factor[[1]]) # per factor"
   ]
  },
  {
   "cell_type": "code",
   "execution_count": 44,
   "id": "8e342fb0-bd3f-45fe-8e48-d3fb776a557b",
   "metadata": {
    "tags": []
   },
   "outputs": [],
   "source": [
    "# Mean total variance explained"
   ]
  },
  {
   "cell_type": "code",
   "execution_count": 45,
   "id": "dc655f85-7690-42a9-96c1-4154c0a9f27c",
   "metadata": {
    "tags": []
   },
   "outputs": [
    {
     "data": {
      "text/html": [
       "36.5392606048023"
      ],
      "text/latex": [
       "36.5392606048023"
      ],
      "text/markdown": [
       "36.5392606048023"
      ],
      "text/plain": [
       "[1] 36.53926"
      ]
     },
     "metadata": {},
     "output_type": "display_data"
    }
   ],
   "source": [
    "mean(model_result[[1]]@cache$variance_explained$r2_total[[1]])"
   ]
  },
  {
   "cell_type": "code",
   "execution_count": 46,
   "id": "581787f9-0ed1-4e67-9fee-83df60a0e211",
   "metadata": {},
   "outputs": [],
   "source": [
    "# Save the explained variance"
   ]
  },
  {
   "cell_type": "code",
   "execution_count": 47,
   "id": "0df0ef7c-c0fe-43d0-be98-8e5c465414cf",
   "metadata": {},
   "outputs": [],
   "source": [
    "for(i in 1:length(model_result)){\n",
    "    write.csv(model_result[[i]]@cache$variance_explained$r2_per_factor[[1]], paste0(result_path, '/03_results/03_MOFA_Variance_Decomposition_',mofa_configs$mofa_result[i], '.csv'))\n",
    "    }\n",
    "    "
   ]
  },
  {
   "cell_type": "markdown",
   "id": "9ad20619-59f7-4e1f-a3bf-ec4f74de74af",
   "metadata": {
    "tags": []
   },
   "source": [
    "## Extract factor and weight data"
   ]
  },
  {
   "cell_type": "code",
   "execution_count": 48,
   "id": "a7f8e453-6974-4e11-9ca5-416a10acc027",
   "metadata": {},
   "outputs": [],
   "source": [
    "#### Extract factors "
   ]
  },
  {
   "cell_type": "code",
   "execution_count": 49,
   "id": "92f15d46-6e4c-4ec1-b303-15ec0892ff98",
   "metadata": {},
   "outputs": [],
   "source": [
    "for(i in 1:length(model_result)){\n",
    "    factors = get_factors(model_result[[i]], factors = \"all\")\n",
    "    factors = factors$group1\n",
    "    head(factors,2)\n",
    "    \n",
    "    factors = as.data.frame(factors)\n",
    "    factors$sample_id = rownames(factors)\n",
    "    \n",
    "    # Save as csv\n",
    "    write.csv(factors, paste0(result_path, '/03_results/03_Factor_Data_' , mofa_configs$mofa_result[i],  '.csv'), row.names = FALSE)\n",
    "    }"
   ]
  },
  {
   "cell_type": "code",
   "execution_count": 50,
   "id": "0a11ddb4-29fa-43d9-bbc7-b1af8b253406",
   "metadata": {},
   "outputs": [],
   "source": [
    "### Extract Weight data"
   ]
  },
  {
   "cell_type": "code",
   "execution_count": 51,
   "id": "9cd6e4cf-42f3-46e1-89e2-38cd217170e8",
   "metadata": {},
   "outputs": [],
   "source": [
    "for(j in 1:length(model_result)){\n",
    "    weights = get_weights(model_result[[j]], views = \"all\", factors = \"all\")\n",
    "    weight_data = data.frame()\n",
    "    \n",
    "    for (i in names(weights)){\n",
    "        data = data.frame(weights[[i]])\n",
    "        data$type = i\n",
    "        weight_data = rbind(weight_data,data)\n",
    "        }\n",
    "    weight_data$variable_name = rownames(weight_data)\n",
    "    \n",
    "    # Save as csv\n",
    "    write.csv(weight_data, paste0(result_path, '/03_results/03_Weight_Data_' ,mofa_configs$mofa_result[j], '.csv'), row.names = FALSE)\n",
    "    }\n",
    "    "
   ]
  },
  {
   "cell_type": "markdown",
   "id": "3ea6fae2-e0b2-43b1-a39a-72f05def1e18",
   "metadata": {},
   "source": [
    "# Diagnostic Result Plots"
   ]
  },
  {
   "cell_type": "markdown",
   "id": "c58635ea-ad17-4759-b4fd-322ddc88eaad",
   "metadata": {
    "tags": []
   },
   "source": [
    "## Plot explained variance overview"
   ]
  },
  {
   "cell_type": "code",
   "execution_count": 52,
   "id": "fd55d1b7-788e-40db-9d5a-b24b47706f03",
   "metadata": {},
   "outputs": [],
   "source": [
    "## Get data"
   ]
  },
  {
   "cell_type": "code",
   "execution_count": 53,
   "id": "88e9cf8b-f0a3-41fe-b077-7c7523cba9fb",
   "metadata": {},
   "outputs": [],
   "source": [
    "#head(explained_variance[[1]])"
   ]
  },
  {
   "cell_type": "code",
   "execution_count": 54,
   "id": "766a483e-67d6-47ec-acc9-de211e941140",
   "metadata": {},
   "outputs": [],
   "source": [
    "explained_variance = lapply(model_result, function(x) {\n",
    "    data = x@cache$variance_explained$r2_per_factor[[1]]\n",
    "    data = melt(data)\n",
    "    \n",
    "    total_variance = data.frame( view = rownames(x@cache[[\"variance_explained\"]]$r2_total$group1,2),\n",
    "                             total_variance = x@cache[[\"variance_explained\"]]$r2_total$group1)\n",
    "    data = merge(data, total_variance, by.x = 'Var2', by.y = 'view')\n",
    "    data$Var2 = as.character(data$Var2)\n",
    "    data$Var2 = factor(data$Var2, levels = sort(unique(data$Var2)))\n",
    "    data = data[order(data$Var2),]\n",
    "    }\n",
    "                            )"
   ]
  },
  {
   "cell_type": "code",
   "execution_count": 55,
   "id": "76018f5e-8565-4ef7-9427-3102d0705ea8",
   "metadata": {},
   "outputs": [],
   "source": [
    "#### Plot complete explained variance"
   ]
  },
  {
   "cell_type": "code",
   "execution_count": 56,
   "id": "258d867e-569d-424d-8614-d8838f4b0278",
   "metadata": {},
   "outputs": [],
   "source": [
    "var_decomp = lapply(explained_variance, function(x){\n",
    "    ggplot() + \n",
    "        scale_fill_gradient(low=\"white\", high=\"black\") + \n",
    "        xlabel + \n",
    "        ylabel +\n",
    "        plot_config + theme(axis.text.x = element_text(angle = 90), legend.position = 'right')+ \n",
    "        geom_tile(data = x, mapping = aes(Var1,  Var2, fill= value))\n",
    "    })"
   ]
  },
  {
   "cell_type": "code",
   "execution_count": 57,
   "id": "498e95bb-10f2-4d90-ad82-76a9f3617294",
   "metadata": {},
   "outputs": [],
   "source": [
    "#var_decomp[[1]]"
   ]
  },
  {
   "cell_type": "code",
   "execution_count": 58,
   "id": "35281322-7ad6-49a7-bf1d-3c1ef7957cd5",
   "metadata": {},
   "outputs": [],
   "source": [
    "### Combine with total variance barplot per dimension"
   ]
  },
  {
   "cell_type": "code",
   "execution_count": 59,
   "id": "53de6920-da3e-48d8-a081-6591e91e8e00",
   "metadata": {},
   "outputs": [],
   "source": [
    "# Specific Text Descriptions:\n",
    "xlabel = xlab('View') \n",
    "ylabel = ylab('Explained Variance')"
   ]
  },
  {
   "cell_type": "code",
   "execution_count": 60,
   "id": "c6941cc8-5941-4917-b8a7-5ebfd0a413b0",
   "metadata": {},
   "outputs": [],
   "source": [
    "comp_variance = lapply(explained_variance, function(x){\n",
    "    data = x\n",
    "    plot_complete = unique(data[,c('Var2', 'total_variance')])\n",
    "    comp_variance = ggplot(plot_complete, aes(x=Var2, y = total_variance, fill = Var2)) + \n",
    "                geom_bar(stat=\"identity\") + coord_flip() + \n",
    "                xlabel + \n",
    "                ylabel +\n",
    "                plot_config + scale_fill_manual(values = unlist(type_colors))  ## currently uses same coloring as MOFA oveview\n",
    "    })"
   ]
  },
  {
   "cell_type": "code",
   "execution_count": 61,
   "id": "51827d11-c2eb-42e7-bd81-619217f6a2af",
   "metadata": {},
   "outputs": [],
   "source": [
    "#comp_variance[[1]]"
   ]
  },
  {
   "cell_type": "code",
   "execution_count": 62,
   "id": "0da4fe9a-69b7-42da-9d3a-d8243b9f530d",
   "metadata": {},
   "outputs": [],
   "source": [
    "### Combine both visualization"
   ]
  },
  {
   "cell_type": "code",
   "execution_count": 63,
   "id": "c78a4d89-3f2e-4b4d-aec7-84fb0fa4fc75",
   "metadata": {},
   "outputs": [],
   "source": [
    "figure_name = \"FIG03_Overview_Variance_Decomposition\""
   ]
  },
  {
   "cell_type": "code",
   "execution_count": 64,
   "id": "7fad7664-098c-4ffb-a6f9-86a93d6d83a1",
   "metadata": {},
   "outputs": [],
   "source": [
    "# Sizes of the plot\n",
    "width_par = 8.07\n",
    "height_par = 4  # 2.8"
   ]
  },
  {
   "cell_type": "code",
   "execution_count": 65,
   "id": "4ed1f880-33da-4951-a596-147715efd861",
   "metadata": {},
   "outputs": [
    {
     "data": {
      "image/png": "[encoded data removed]",
      "text/plain": [
       "plot without title"
      ]
     },
     "metadata": {
      "image/png": {
       "height": 600,
       "width": 1800
      }
     },
     "output_type": "display_data"
    }
   ],
   "source": [
    "for(i in 1:length(explained_variance)){\n",
    "    legend = get_legend(var_decomp[[i]])\n",
    "    \n",
    "    combination1 = ggarrange(var_decomp[[i]] + theme(legend.position = 'none'),\n",
    "                     comp_variance[[i]] + theme(axis.text.y = element_blank(),axis.ticks.y = element_blank(),axis.title.y = element_blank(), legend.position = 'none' ), \n",
    "                         align = 'h', nrow=1, widths = c(4,1))\n",
    "    # Annotate Figure\n",
    "    combination1_ann = annotate_figure(\n",
    "      combination1,\n",
    "      right = legend\n",
    "    )\n",
    "    \n",
    "    pdf(paste0('figures/03_figures/', figure_name,  mofa_configs$mofa_result[i],  '.pdf'), width =width_par, height =height_par)\n",
    "    print(combination1_ann)\n",
    "    dev.off()\n",
    "    print(combination1_ann)\n",
    "    \n",
    "    }\n",
    "    "
   ]
  },
  {
   "cell_type": "code",
   "execution_count": null,
   "id": "23bad0f1-d2c8-45db-b127-2dcec5f055d9",
   "metadata": {},
   "outputs": [],
   "source": []
  },
  {
   "cell_type": "code",
   "execution_count": 66,
   "id": "3b1b5e7c-baf9-42ca-8302-34b3ae8b2237",
   "metadata": {},
   "outputs": [],
   "source": [
    "## Save view colors for further usage"
   ]
  },
  {
   "cell_type": "code",
   "execution_count": 67,
   "id": "5be49b4c-9475-4ed5-97a1-dec241ffefbb",
   "metadata": {},
   "outputs": [],
   "source": [
    "write.csv(data.frame(color_code = unlist(type_colors)),\n",
    "          paste0('configurations/03_Type_Color_Codes.csv'))"
   ]
  },
  {
   "cell_type": "code",
   "execution_count": null,
   "id": "23d81e70-ba3b-4cae-a104-7bd79ebbe21c",
   "metadata": {},
   "outputs": [],
   "source": []
  }
 ],
 "metadata": {
  "kernelspec": {
   "display_name": "R",
   "language": "R",
   "name": "ir"
  },
  "language_info": {
   "codemirror_mode": "r",
   "file_extension": ".r",
   "mimetype": "text/x-r-source",
   "name": "R",
   "pygments_lexer": "r",
   "version": "4.3.2"
  },
  "toc-autonumbering": true,
  "toc-showcode": false
 },
 "nbformat": 4,
 "nbformat_minor": 5
}
